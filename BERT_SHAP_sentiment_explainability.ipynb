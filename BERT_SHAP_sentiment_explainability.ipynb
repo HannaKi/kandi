{
  "cells": [
    {
      "cell_type": "markdown",
      "metadata": {
        "colab_type": "text",
        "id": "view-in-github"
      },
      "source": [
        "<a href=\"https://colab.research.google.com/github/HannaKi/kandi/blob/master/sentiment_analysis_explainability.ipynb\" target=\"_parent\"><img src=\"https://colab.research.google.com/assets/colab-badge.svg\" alt=\"Open In Colab\"/></a>"
      ]
    },
    {
      "cell_type": "markdown",
      "metadata": {
        "id": "jjqB5qg7S2pm"
      },
      "source": [
        "# Introduction"
      ]
    },
    {
      "cell_type": "markdown",
      "metadata": {
        "id": "id7AEOQGLBqv"
      },
      "source": [
        "The primary purpose of this notebook is to demonstrate how to use SHAP (SHapley Additive exPlanations) library to explain predictions of a Transformers model, namely BERT. Please observe that many crucial details (e.g. optimal batch size, naive baseline, choice of metrics, error analysis) to properly train a NLP model are omitted to pursue the goal with as brief notebook as possible. \n",
        "\n",
        "You can train a model with this notebook if you wish. I have opted to download model weights from my Drive after compiling the model.\n",
        "\n",
        "Sources\n",
        "\n",
        "- [TensorFlow way to train model](https://colab.research.google.com/github/huggingface/notebooks/blob/master/examples/text_classification.ipynb)\n",
        "- [SHAP GitHub](https://github.com/slundberg/shap), [SHAP documentation](https://shap.readthedocs.io/en/latest/index.html), [SHAP NLP example](https://github.com/slundberg/shap#natural-language-example-transformers), [SHAP sentiment example](https://github.com/slundberg/shap/blob/master/notebooks/text_examples/sentiment_analysis/Positive%20vs.%20Negative%20Sentiment%20Classification.ipynb)\n",
        "- [HuggingFace pipelines](https://huggingface.co/transformers/v3.0.2/main_classes/pipelines.html?highlight=return_all_scores#)\n"
      ]
    },
    {
      "cell_type": "code",
      "execution_count": 45,
      "metadata": {
        "colab": {
          "base_uri": "https://localhost:8080/"
        },
        "id": "MOsHUjgdIrIW",
        "outputId": "3c600254-4134-4c56-bf85-ffd2f6aaf11d"
      },
      "outputs": [],
      "source": [
        "## If in Colab:\n",
        "#! pip --quiet install git+https://github.com/huggingface/transformers.git # latest development versions from github!\n",
        "#! pip --quiet install git+https://github.com/huggingface/datasets.git  # latest development versions from github!\n",
        "#! pip --quiet install shap"
      ]
    },
    {
      "cell_type": "code",
      "execution_count": 46,
      "metadata": {},
      "outputs": [],
      "source": [
        "#!pip --quiet install git+https://github.com/HannaKi/shap # forked from https://github.com/slundberg/shap 18.7.2022 to experiment the package"
      ]
    },
    {
      "cell_type": "markdown",
      "metadata": {},
      "source": [
        "# Imports"
      ]
    },
    {
      "cell_type": "code",
      "execution_count": 47,
      "metadata": {
        "colab": {
          "base_uri": "https://localhost:8080/"
        },
        "id": "BBEyZcnVTUNb",
        "outputId": "aec95d62-44a2-416f-b620-cf88a9007514"
      },
      "outputs": [
        {
          "name": "stdout",
          "output_type": "stream",
          "text": [
            "4.20.1\n"
          ]
        }
      ],
      "source": [
        "import shap\n",
        "import numpy as np\n",
        "import tensorflow as tf\n",
        "from scipy.special import softmax \n",
        "import transformers\n",
        "import datasets\n",
        "import seaborn as sns\n",
        "import matplotlib.pyplot as plt\n",
        "import sys\n",
        "#from transformers import AutoTokenizer\n",
        "\n",
        "print(transformers.__version__)"
      ]
    },
    {
      "cell_type": "code",
      "execution_count": 48,
      "metadata": {},
      "outputs": [
        {
          "name": "stdout",
          "output_type": "stream",
          "text": [
            "/opt/homebrew/Caskroom/miniforge/base/lib/python3.9/site-packages/shap/__init__.py\n"
          ]
        }
      ],
      "source": [
        "print(shap.__file__)"
      ]
    },
    {
      "cell_type": "markdown",
      "metadata": {
        "id": "rEJBSTyZIrIb"
      },
      "source": [
        "# Fine-tuning the model"
      ]
    },
    {
      "cell_type": "code",
      "execution_count": 49,
      "metadata": {
        "id": "zVvslsfMIrIh"
      },
      "outputs": [],
      "source": [
        "model_checkpoint =\"bert-base-cased\" # name from Hugging Face repository\n",
        "batch_size = 6 # to not to OOM in Colab. Not optimized.\n",
        "TRAIN = False # by assumption use the model finetuned with IMDB data and saved to personal Google Drive. "
      ]
    },
    {
      "cell_type": "markdown",
      "metadata": {
        "id": "whPRbBNbIrIl"
      },
      "source": [
        "## Load the dataset"
      ]
    },
    {
      "cell_type": "markdown",
      "metadata": {
        "id": "W7QYTpxXIrIl"
      },
      "source": [
        "The data is from https://huggingface.co/datasets/imdb. As the documentation indicates, this is data for binary classification. Class labels have two values: 0 for negative sentiment and 1 for positive sentiment."
      ]
    },
    {
      "cell_type": "code",
      "execution_count": 50,
      "metadata": {
        "colab": {
          "base_uri": "https://localhost:8080/",
          "height": 202,
          "referenced_widgets": [
            "1051913cc4894114a2c759030823b751",
            "813fb0fe3a234c658a86322ffc150ca0",
            "b4e4b4293bd74e01bbdb21325b0b0552",
            "fe577a02e3e94859a4026baad9e4183e",
            "54c7e07dfce64657b628c5e152f6bc0e",
            "35dc254026fc440f95a97843061f79b4",
            "93f99f8e137e467ab26d884332cadfab",
            "bb327fac451b49a1983c810b98603d21",
            "4776f1ac98d44baa96d5712a9272ffe8",
            "018129f6e1dc40da81f60b7ca7ac5a6e",
            "924978f737e44fc2826ef395d7592769",
            "a86050fb7e5b4600af1703e8a5445a59",
            "a1b8885564034a979df7abb864859ad6",
            "f52d7636844541d9801357968aa21969",
            "6294b10b99ad411791c452e203180b9d",
            "5a4941d4e4f9436ebe099644eeddb47b",
            "04af4edf2cfc42059d1a4c7e98f79b71",
            "e0dc0e5417464d5faeb86d5e48b07ace",
            "3d92509e14e84d2ea67bc368c466cbd9",
            "2b16c4a06e1a443cb41419c840f3f017",
            "5c12e687717b45f4bfe03974bdd82bb4",
            "0b92acd8a50b4fa08fc195f224f39887",
            "dcec73883a0c4fbea939da1e6cbeba18",
            "0b807568bb7d46398e72bffb6e854345",
            "485b0fc35ab14cbe8bfe2aea29ae7bc4",
            "88deb96141504ad992492a1899228386",
            "b148ce4bbee24e75a74f586802c10500",
            "bb5c7822d6bc49c29c0062f902f90a56",
            "b66b399110b447fda44f110fc2847ff2",
            "10577bb43d204ae5b3130dbd38bb84ab",
            "871b7424021e4ab4bc7d6a7330ef4ff8",
            "8c5a383767084dd1877371f2b0252144",
            "fe1b020c079b4bfe84994ef0d01cb8d2",
            "e0ed361d2d09493b915ad0580d3c5f14",
            "5ead183d0e7d4fbd8624f8c8d96a00f6",
            "6b711abfe8f44923af57024532604f8e",
            "3329d21977ed4110bcc9935c604a8617",
            "e4398b4a68844a4ea63a0e38b3ca15f7",
            "9b1501cad74b4f199bb57cbb6cb4f6c0",
            "f3de01d3c23d488ba4031f889a890a8f",
            "a22102092cd5494fbfe434157425c5ca",
            "e6d0c46b706e4270bb7932c22400e471",
            "9febb773d07844e6b8a6ca08416d83c0",
            "90b53e2cbe0b47c688792aaa2a32690e",
            "46dee757727844f484d24525b7389598",
            "94344a967cfa4396aa3b75f7884b6b29",
            "f4f6b77302ec48c1b5546188ef34f9c0",
            "1316026ae0a849b590af4ca1de348a6d",
            "551fea197f764028bfa73db0960de9ff",
            "77a7eef3bf884d5cb252378f5453d218",
            "ec5b28f756fb46eca740fdffee021ad0",
            "5ebee29fea974351831e15b24411c76e",
            "1b4deb0fcc4c45ebb262a4580efe08b4",
            "3c6a2cc29c6d4c5b9f81d1450f1917b2",
            "744b736e7e93481faf71bdf1da85b448",
            "40c61cb44ddc4dd8b6071d6d90b9355e",
            "3126d9b4aba84dffab05cee695385c38",
            "40a9037bb1a649c191ade7c65b63ab90",
            "52b98e47ec8d48cbb9bc76be784e4e2f",
            "077372c8447e41ccacdf3eb604479258",
            "5f58a2b9b78d4c3d8219537b7176825d",
            "3f4fd5d347ec485a805b77c47ea6bfd5",
            "b3ca1339ed1f4bf283930baf5205f03b",
            "1f4eb8ec035047419c2b56ffc8c4244f",
            "74c3e210cc4046889758a910f076e992",
            "063471f17111411fb89e1fe199967eca",
            "2491a5c306a74523b8ba37c3ba56b3ef",
            "19c2e55faab045b78ec3698e6760dfac",
            "172e1bcfca7f48ca864f21bda6e9b632",
            "cf4ce54f471b499eb44fa7f9e0bfdcd7",
            "3adf9c09e16b4c90afbc7e6c6467dcd4",
            "ed294d83230748878563d2fca783dc4a",
            "12ecb017e7ff4383811b26d2190f0a10",
            "1fc747ada15243af8814a40b058c124c",
            "94c189c9f9874d41be797929cf32d2b9",
            "e2e5ecb81d274360a53597cda72ad87a",
            "70375ef359d54bf38c68d7c3d75176bf"
          ]
        },
        "id": "HOkHI0mQ7rZZ",
        "outputId": "c6095561-1f74-4448-86d1-093554827a2a"
      },
      "outputs": [
        {
          "name": "stderr",
          "output_type": "stream",
          "text": [
            "Reusing dataset imdb (/Users/kittiha/.cache/huggingface/datasets/imdb/plain_text/1.0.0/2fdd8b9bcadd6e7055e742a706876ba43f19faee861df134affd7a3f60fc38a1)\n"
          ]
        },
        {
          "data": {
            "application/vnd.jupyter.widget-view+json": {
              "model_id": "8594068c018a4a49ae433b502a61774e",
              "version_major": 2,
              "version_minor": 0
            },
            "text/plain": [
              "  0%|          | 0/2 [00:00<?, ?it/s]"
            ]
          },
          "metadata": {},
          "output_type": "display_data"
        }
      ],
      "source": [
        "train, test = datasets.load_dataset('imdb', split=[\"train\", \"test\"])#, download_mode='force_redownload')"
      ]
    },
    {
      "cell_type": "code",
      "execution_count": 51,
      "metadata": {
        "colab": {
          "base_uri": "https://localhost:8080/"
        },
        "id": "7v3exbDI-Hhc",
        "outputId": "87b69305-fd85-4272-f914-a0a643e71333"
      },
      "outputs": [],
      "source": [
        "dataset = datasets.DatasetDict({'train': train, 'test': test})"
      ]
    },
    {
      "cell_type": "markdown",
      "metadata": {},
      "source": [
        "To access an actual element, you need to select a split first, then give an index. This is how the first training elemen looks like:"
      ]
    },
    {
      "cell_type": "code",
      "execution_count": 52,
      "metadata": {},
      "outputs": [
        {
          "name": "stdout",
          "output_type": "stream",
          "text": [
            "Class label: 0 \n",
            "Text: I rented I AM CURIOUS-YELLOW from my video store because of all the controversy that surrounded it when it was first released in 1967. I also heard that at first it was seized by U.S. customs if it ever tried to enter this country, therefore being a fan of films considered \"controversial\" I really had to see this for myself.<br /><br />The plot is centered around a young Swedish drama student named Lena who wants to learn everything she can about life. In particular she wants to focus her attentions to making some sort of documentary on what the average Swede thought about certain political issues such as the Vietnam War and race issues in the United States. In between asking politicians and ordinary denizens of Stockholm about their opinions on politics, she has sex with her drama teacher, classmates, and married men.<br /><br />What kills me about I AM CURIOUS-YELLOW is that 40 years ago, this was considered pornographic. Really, the sex and nudity scenes are few and far between, even then it's not shot like some cheaply made porno. While my countrymen mind find it shocking, in reality sex and nudity are a major staple in Swedish cinema. Even Ingmar Bergman, arguably their answer to good old boy John Ford, had sex scenes in his films.<br /><br />I do commend the filmmakers for the fact that any sex shown in the film is shown for artistic purposes rather than just to shock people and make money to be shown in pornographic theaters in America. I AM CURIOUS-YELLOW is a good film for anyone wanting to study the meat and potatoes (no pun intended) of Swedish cinema. But really, this film doesn't have much of a plot.\n"
          ]
        }
      ],
      "source": [
        "print(f\"Class label: {dataset['train']['label'][0]} \\nText: {dataset['train']['text'][0]}\")"
      ]
    },
    {
      "cell_type": "code",
      "execution_count": 53,
      "metadata": {
        "colab": {
          "base_uri": "https://localhost:8080/",
          "height": 177,
          "referenced_widgets": [
            "aa69680f9aa344f6afa560ac1f7fe932",
            "f9dc78368ab6413082c60f708369a2bc",
            "0d1f3ef0414e41e088233894195b7930",
            "28c4da2f61514ce6873286c45eaa6f0c",
            "dabeb5f0961c4542932591245c152055",
            "4aae6f831c744d71b90fe27154a61456",
            "075f1d8b3e6e440a96dd2c05d061d626",
            "4b450bc02fa94e909719098b937a9083",
            "9f92e93cf6ad4e0985369102fa14adf5",
            "5382fa1d2e4848eca54d0065e2c3eb6d",
            "35a4db62bf5a489cbca2a98d422dbc41",
            "7fdec83fad0d4acd93f51e126761e835",
            "96744298ebc14b83b36a3af8b1fd9e19",
            "49cf651f7e4f4e3186d062cf6cc69b85",
            "e3ebbca190f642fcb45afb0ed69b6f97",
            "85e8ca51b7f94985b50cacedc6d07cae",
            "d6e8287b0d1648c9be75c55d9a902b70",
            "85dca053a4424b2b96b669758eebc0d3",
            "f9f423ad46da4bf7b1a5be052474c145",
            "9b2fc855267b4dd5bd8caf4fb4b659c4",
            "4af91b2b7e084476b8a4563937103543",
            "b4550afe490b4344a75908e6021bf519",
            "dd369d124c2849e9888b8e07f732da91",
            "0e87153bd3a94346a99fa779a559d4b5",
            "801298c47dec453aa9cc1e4e54b64d77",
            "6fb5e9111dd64421802c42c631a6ded8",
            "153683d3618d4884a628740307e0a441",
            "2d5b883e394b4a8da05444245ee7fa82",
            "c571ad800d3d4a5985924c530679bc3e",
            "0c128b0ade874dfa944691da092b235e",
            "91e89fcca72742a6b7520a30185609ed",
            "def1877ebc5648dca6d453b6e9c66515",
            "fa62ef58083c4925a64adaeac0a10c04",
            "5a4afc90a4764944b8374e1a43a97508",
            "04d6dd337b72444ca67a5a952c26f30c",
            "6b301d523064414a9346d02a8db0383a",
            "d045ce6b26dc45a7af8bc4f13608e42d",
            "ec333092c97a4d3ba2c50d8dc5d05458",
            "30f1e1eb6eda4781bad9a91ca28bb064",
            "4eeb3526a007416d9c9aaf08dec19564",
            "6e350dd2b5904b7fbe9493e7bb719070",
            "5b7fec17a7d445c496d073137724ad22",
            "bf7c13f4fcbc4af48786651090b42208",
            "332fe8e9f3224cda91b3a60d2d5bc593",
            "97f4d75946164c3b922ed91e08e2be89",
            "f8aaa6d41bda498ab5a23fe0342f5972",
            "590888ff162b44b08586c281703a516a",
            "99dd54a194d54d9c8cd9a51a7f1b6522",
            "d691ceb466934a2ca89ebbe98b710342",
            "0cc736bb104d46c78f874a87710fa070",
            "162b3bb1e70e4e8eb9466c0448ab8050",
            "45fb25203e7348109960974106e1475f",
            "a6485eef564f4e8097bc8bc6e3436f89",
            "27de0407ee2d4f8e95e71bd63f6d7963",
            "bd256b9005cd4a39ab807c2920d1a456"
          ]
        },
        "id": "qax921F8D7V-",
        "outputId": "efc8aaf2-7f83-4a3b-e15a-80e95175775c"
      },
      "outputs": [
        {
          "name": "stderr",
          "output_type": "stream",
          "text": [
            "Loading cached processed dataset at /Users/kittiha/.cache/huggingface/datasets/imdb/plain_text/1.0.0/2fdd8b9bcadd6e7055e742a706876ba43f19faee861df134affd7a3f60fc38a1/cache-e46cbd4c4643e3a3.arrow\n",
            "Loading cached processed dataset at /Users/kittiha/.cache/huggingface/datasets/imdb/plain_text/1.0.0/2fdd8b9bcadd6e7055e742a706876ba43f19faee861df134affd7a3f60fc38a1/cache-536c6f0e2ab7b1b4.arrow\n",
            "Loading cached processed dataset at /Users/kittiha/.cache/huggingface/datasets/imdb/plain_text/1.0.0/2fdd8b9bcadd6e7055e742a706876ba43f19faee861df134affd7a3f60fc38a1/cache-4c52925eb0500c8a.arrow\n",
            "Loading cached processed dataset at /Users/kittiha/.cache/huggingface/datasets/imdb/plain_text/1.0.0/2fdd8b9bcadd6e7055e742a706876ba43f19faee861df134affd7a3f60fc38a1/cache-28f134ddb81e67de.arrow\n",
            "Loading cached processed dataset at /Users/kittiha/.cache/huggingface/datasets/imdb/plain_text/1.0.0/2fdd8b9bcadd6e7055e742a706876ba43f19faee861df134affd7a3f60fc38a1/cache-3c74b36499b873da.arrow\n"
          ]
        }
      ],
      "source": [
        "# Downsize the data set splits and make validation data set\n",
        "\n",
        "dataset[\"train\"] = dataset[\"train\"].filter(lambda example, idx: idx % 20 == 0, with_indices=True)\n",
        "dataset[\"validation\"] = dataset[\"test\"].filter(lambda example, idx: idx % 2 == 0, with_indices=True).filter(lambda example, idx: idx % 30 == 0, with_indices=True)\n",
        "dataset[\"test\"] = dataset[\"test\"].filter(lambda example, idx: idx % 2 != 0, with_indices=True).filter(lambda example, idx: idx % 30 == 0, with_indices=True)"
      ]
    },
    {
      "cell_type": "code",
      "execution_count": 54,
      "metadata": {
        "colab": {
          "base_uri": "https://localhost:8080/"
        },
        "id": "tbQsW12kvjBJ",
        "outputId": "7521a3ce-e6fd-4244-855e-ef257a461aed"
      },
      "outputs": [
        {
          "data": {
            "text/plain": [
              "DatasetDict({\n",
              "    train: Dataset({\n",
              "        features: ['text', 'label'],\n",
              "        num_rows: 1250\n",
              "    })\n",
              "    test: Dataset({\n",
              "        features: ['text', 'label'],\n",
              "        num_rows: 417\n",
              "    })\n",
              "    validation: Dataset({\n",
              "        features: ['text', 'label'],\n",
              "        num_rows: 417\n",
              "    })\n",
              "})"
            ]
          },
          "execution_count": 54,
          "metadata": {},
          "output_type": "execute_result"
        }
      ],
      "source": [
        "dataset"
      ]
    },
    {
      "cell_type": "markdown",
      "metadata": {},
      "source": [
        "Take a look at the class label distribution. Are we training with a balanced data set?"
      ]
    },
    {
      "cell_type": "code",
      "execution_count": 55,
      "metadata": {},
      "outputs": [
        {
          "data": {
            "image/png": "[encoded data removed]",
            "text/plain": [
              "<Figure size 720x360 with 3 Axes>"
            ]
          },
          "metadata": {
            "needs_background": "light"
          },
          "output_type": "display_data"
        }
      ],
      "source": [
        "\n",
        "fig, axes  = plt.subplots(1,3, figsize=(10, 5), sharey=True)\n",
        "fig.suptitle(\"\")\n",
        "sns.histplot(ax=axes[0], data=dataset['train']['label'], discrete=True)\n",
        "sns.histplot(ax=axes[1], data=dataset['validation']['label'], discrete=True)\n",
        "sns.histplot(ax=axes[2], data=dataset['test']['label'], discrete=True)\n",
        "\n",
        "axes[0].set_title(\"Train\")\n",
        "axes[1].set_title(\"Validation\")\n",
        "axes[2].set_title(\"Test\");"
      ]
    },
    {
      "cell_type": "markdown",
      "metadata": {},
      "source": [
        "Seems ok."
      ]
    },
    {
      "cell_type": "markdown",
      "metadata": {
        "id": "n9qywopnIrJH"
      },
      "source": [
        "## Preprocess the data"
      ]
    },
    {
      "cell_type": "markdown",
      "metadata": {
        "id": "YVx71GdAIrJH"
      },
      "source": [
        "Get a tokenizer that corresponds to the model architecture."
      ]
    },
    {
      "cell_type": "code",
      "execution_count": 56,
      "metadata": {
        "id": "eXNLu_-nIrJI"
      },
      "outputs": [],
      "source": [
        "tokenizer = transformers.AutoTokenizer.from_pretrained(model_checkpoint)"
      ]
    },
    {
      "cell_type": "markdown",
      "metadata": {
        "id": "2C0hcmp9IrJQ"
      },
      "source": [
        "Write the function that will preprocess the samples with tokenizer and apply the function on all the sentences."
      ]
    },
    {
      "cell_type": "code",
      "execution_count": 57,
      "metadata": {
        "id": "DDtsaJeVIrJT"
      },
      "outputs": [
        {
          "name": "stderr",
          "output_type": "stream",
          "text": [
            "Loading cached processed dataset at /Users/kittiha/.cache/huggingface/datasets/imdb/plain_text/1.0.0/2fdd8b9bcadd6e7055e742a706876ba43f19faee861df134affd7a3f60fc38a1/cache-b840c3e1f511d379.arrow\n",
            "Loading cached processed dataset at /Users/kittiha/.cache/huggingface/datasets/imdb/plain_text/1.0.0/2fdd8b9bcadd6e7055e742a706876ba43f19faee861df134affd7a3f60fc38a1/cache-edd0529222a35053.arrow\n",
            "Loading cached processed dataset at /Users/kittiha/.cache/huggingface/datasets/imdb/plain_text/1.0.0/2fdd8b9bcadd6e7055e742a706876ba43f19faee861df134affd7a3f60fc38a1/cache-df26be383449cab3.arrow\n"
          ]
        },
        {
          "name": "stdout",
          "output_type": "stream",
          "text": [
            "Columns added by tokenizer: ['input_ids', 'attention_mask', 'token_type_ids']\n"
          ]
        }
      ],
      "source": [
        "def preprocess_function(examples):\n",
        "    return tokenizer(examples['text'], truncation=True)\n",
        "\n",
        "pre_tokenizer_columns = set(dataset[\"train\"].features)\n",
        "encoded_dataset = dataset.map(preprocess_function, batched=True) # batched=True to encode the texts by batches together. \n",
        "# This is to leverage the full benefit of the fast tokenizer we loaded earlier, which will use multi-threading to treat the texts in a batch concurrently.\n",
        "tokenizer_columns = list(set(encoded_dataset[\"train\"].features) - pre_tokenizer_columns)\n",
        "print(\"Columns added by tokenizer:\", tokenizer_columns)"
      ]
    },
    {
      "cell_type": "code",
      "execution_count": 58,
      "metadata": {
        "colab": {
          "base_uri": "https://localhost:8080/"
        },
        "id": "b8PomR8YAC9H",
        "outputId": "8f2946c4-4ad4-4ecf-f46d-7356d7d028af"
      },
      "outputs": [
        {
          "data": {
            "text/plain": [
              "ClassLabel(num_classes=2, names=['neg', 'pos'], id=None)"
            ]
          },
          "execution_count": 58,
          "metadata": {},
          "output_type": "execute_result"
        }
      ],
      "source": [
        "encoded_dataset[\"train\"].features[\"label\"]"
      ]
    },
    {
      "cell_type": "markdown",
      "metadata": {
        "id": "dLGHbYzKAC9I"
      },
      "source": [
        "Convert the datasets to `tf.data.Dataset`. There's a built-in method for this, so all you need to do is specify the columns you want (both for the inputs and the labels), whether the data should be shuffled, the batch size, and an optional collation function, that controls how a batch of samples is combined.\n",
        "\n",
        "We'll need to supply a `DataCollator` for this. The `DataCollator` handles grouping each batch of samples together, and different tasks will require different data collators. In this case, we will use the `DataCollatorWithPadding`, because our samples need to be padded to the same length to form a batch. Remember to supply the `return_tensors` argument too - our data collators can handle multiple frameworks, so you need to be clear that you want TensorFlow tensors back."
      ]
    },
    {
      "cell_type": "code",
      "execution_count": 59,
      "metadata": {
        "id": "XNsUa7-Kv30i"
      },
      "outputs": [],
      "source": [
        "from transformers import DataCollatorWithPadding\n",
        "\n",
        "# Data_collator controls how a batch of samples is combined.\n",
        "# Use DataCollatorWithPadding, because our samples need to be padded to the same length to form a batch. \n",
        "# Remember to supply the return_tensors argument too - our data collators can handle multiple frameworks, so you need to be clear that you want TensorFlow tensors back.\n",
        "data_collator = DataCollatorWithPadding(tokenizer=tokenizer, return_tensors=\"tf\") \n",
        "\n",
        "tf_train_dataset = encoded_dataset[\"train\"].to_tf_dataset(\n",
        "    columns=tokenizer_columns,\n",
        "    label_cols=[\"labels\"],\n",
        "    shuffle=True,\n",
        "    batch_size=batch_size,\n",
        "    collate_fn=data_collator,\n",
        ")\n",
        "tf_validation_dataset = encoded_dataset[\"validation\"].to_tf_dataset(\n",
        "    columns=tokenizer_columns,\n",
        "    label_cols=[\"labels\"],\n",
        "    shuffle=False,\n",
        "    batch_size=batch_size,\n",
        "    collate_fn=data_collator,\n",
        ")\n",
        "tf_test_dataset = encoded_dataset[\"test\"].to_tf_dataset(\n",
        "    columns=tokenizer_columns,\n",
        "    label_cols=[\"labels\"],\n",
        "    shuffle=False,\n",
        "    batch_size=batch_size,\n",
        "    collate_fn=data_collator,\n",
        ")"
      ]
    },
    {
      "cell_type": "code",
      "execution_count": 60,
      "metadata": {
        "colab": {
          "base_uri": "https://localhost:8080/"
        },
        "id": "oZt54QgeuAwc",
        "outputId": "4dfe10ae-79ec-41e2-9c62-6bfc3b0cb08a"
      },
      "outputs": [
        {
          "data": {
            "text/plain": [
              "Dataset({\n",
              "    features: ['text', 'label', 'input_ids', 'token_type_ids', 'attention_mask'],\n",
              "    num_rows: 417\n",
              "})"
            ]
          },
          "execution_count": 60,
          "metadata": {},
          "output_type": "execute_result"
        }
      ],
      "source": [
        "encoded_dataset[\"test\"]"
      ]
    },
    {
      "cell_type": "markdown",
      "metadata": {
        "id": "545PP3o8IrJV"
      },
      "source": [
        "## Build and fine-tune the pretrained model"
      ]
    },
    {
      "cell_type": "markdown",
      "metadata": {
        "id": "FBiW8UpKIrJW"
      },
      "source": [
        "First we download the pretrained model, `TFAutoModelForSequenceClassification`. Note that we need to specify the number of the labels for the model. The appropriate loss for binary classification is `SparseCategoricalCrossentropy`."
      ]
    },
    {
      "cell_type": "code",
      "execution_count": 61,
      "metadata": {
        "colab": {
          "base_uri": "https://localhost:8080/",
          "height": 124,
          "referenced_widgets": [
            "2e95cf94b5914f62a50bb0185258df3e",
            "8ea59f60a8bd4061b72dc855c7e22e9a",
            "e7524547f72b44d18d8e356c052b9f40",
            "14061067799543879b91b68f051c88b3",
            "92b4e23d53db4c239d16b511bc057e8d",
            "f9fee90be4664199b3a37b43a974a1fb",
            "35b805b29c1741ea9e501b2712fa3660",
            "e67ff63f5d9041a88c94fdb25ea63e91",
            "6b0228f692584df0a92a6aa48aa2aac7",
            "0415d1398339435b989a1c03c08eaad9",
            "e823842e49c24812bbd86dfa34a7b982"
          ]
        },
        "id": "TlqNaB8jIrJW",
        "outputId": "03bbd54c-3b14-4421-b514-441ede03d39d"
      },
      "outputs": [
        {
          "name": "stderr",
          "output_type": "stream",
          "text": [
            "All model checkpoint layers were used when initializing TFBertForSequenceClassification.\n",
            "\n",
            "Some layers of TFBertForSequenceClassification were not initialized from the model checkpoint at bert-base-cased and are newly initialized: ['classifier']\n",
            "You should probably TRAIN this model on a down-stream task to be able to use it for predictions and inference.\n"
          ]
        }
      ],
      "source": [
        "# from transformers import TFAutoModelForSequenceClassification\n",
        "\n",
        "model = transformers.TFAutoModelForSequenceClassification.from_pretrained(\n",
        "    model_checkpoint, num_labels = dataset[\"train\"].features[\"label\"].num_classes # number of output neurons on the last layer\n",
        ")\n",
        "\n",
        "loss = tf.keras.losses.SparseCategoricalCrossentropy(from_logits=True) \n",
        "# from_logits=True: Whether y_pred is expected to be a logits tensor. \n",
        "# from_logits=False: We assume that y_pred encodes a probability distribution. "
      ]
    },
    {
      "cell_type": "code",
      "execution_count": 62,
      "metadata": {},
      "outputs": [],
      "source": [
        "# len(model) #object of type 'TFBertForSequenceClassification' has no len()"
      ]
    },
    {
      "cell_type": "markdown",
      "metadata": {
        "id": "CczA5lJlIrJX"
      },
      "source": [
        "The warning is telling us we are throwing away some weights (the `vocab_transform` and `vocab_layer_norm` layers) and randomly initializing some other (the `pre_classifier` and `classifier` layers). **This is absolutely normal in this case, because we are removing the head used to pretrain the model on a masked language modeling objective and replacing it with a new head for which we don't have pretrained weights**, so the library warns us we should fine-tune this model before using it for inference, which is exactly what we are going to do."
      ]
    },
    {
      "cell_type": "markdown",
      "metadata": {
        "id": "hFQLGFIFAC9M"
      },
      "source": [
        "Next we create a `AdamW` optimizer with weight and learning rate decay. Note that because it decays the learning rate over the course of training, it needs to know how many batches it will see during training. To fasten the training I have done only two epochs. This might be on the cost of model convergence but for this example 2 is good enough."
      ]
    },
    {
      "cell_type": "code",
      "execution_count": 63,
      "metadata": {
        "id": "tr27FjrTAC9L"
      },
      "outputs": [],
      "source": [
        "num_epochs = 2\n",
        "batches_per_epoch = len(encoded_dataset[\"train\"]) // batch_size\n",
        "total_train_steps = int(batches_per_epoch * num_epochs)\n",
        "\n",
        "optimizer, schedule = transformers.create_optimizer(\n",
        "    init_lr=2e-5, num_warmup_steps=0, num_train_steps=total_train_steps\n",
        ")\n",
        "\n",
        "model.compile(optimizer=optimizer, loss=loss)"
      ]
    },
    {
      "cell_type": "markdown",
      "metadata": {
        "id": "7sZOdRlRIrJd"
      },
      "source": [
        "The last thing to define is how to compute the metrics from the predictions."
      ]
    },
    {
      "cell_type": "code",
      "execution_count": 64,
      "metadata": {
        "id": "qFkyHUFJNma3"
      },
      "outputs": [],
      "source": [
        "# See all availabe metrics: https://huggingface.co/metrics\n",
        "metric = datasets.load_metric('accuracy')\n",
        "\n",
        "def compute_metrics(eval_predictions):\n",
        "    predictions, labels = eval_predictions\n",
        "    predictions = np.argmax(predictions, axis=1) # argmax of our predicted logits (indeksi, jossa on ennusteen suuri arvo. Indeksi = luokka)\n",
        "    return metric.compute(predictions=predictions, references=labels) # call for the metrics instantiated in chapter \"Metrics\""
      ]
    },
    {
      "cell_type": "markdown",
      "metadata": {},
      "source": [
        "Now that the model is compiled we can either train it or use it with weight that have been saved from previous run of this notebook."
      ]
    },
    {
      "cell_type": "code",
      "execution_count": 65,
      "metadata": {},
      "outputs": [],
      "source": [
        "Colab = False\n",
        "# To connect Google account to Colab\n",
        "if Colab:\n",
        "    from google.colab import drive\n",
        "    drive.mount('/content/drive')\n",
        "    file_path=\"/content/drive/MyDrive/bachelor_thesis/model_checkpoints/model.hdf5\"\n",
        "else:\n",
        "    file_path=\"/Users/kittiha/Kandi/kandi/bachelor_thesis/model_checkpoints/model.hdf5\""
      ]
    },
    {
      "cell_type": "markdown",
      "metadata": {
        "id": "5JwrJaGAAC9N"
      },
      "source": [
        "If the model is trained, the `KerasMetricCallback` provides information during the training pprocess. `ModelCheckpoint` callback saves the best model. Make sure to provide it with an appropriate filepath."
      ]
    },
    {
      "cell_type": "code",
      "execution_count": 66,
      "metadata": {
        "id": "imY1oC3SIrJf"
      },
      "outputs": [],
      "source": [
        "if TRAIN:\n",
        "\n",
        "  metric_callback = transformers.keras_callbacks.KerasMetricCallback(\n",
        "      metric_fn=compute_metrics, eval_dataset=tf_validation_dataset\n",
        "  )\n",
        "  \n",
        "  model_checkpoint_callback = tf.keras.callbacks.ModelCheckpoint(filepath=file_path, \n",
        "                          monitor='val_loss', \n",
        "                          verbose=1, \n",
        "                          save_best_only=True, # just keep the weights that give the best model\n",
        "                          save_weights_only=True, # only the weights are saved. To use them a model is needed but it can be saved elsewhere or restored from this notebook\n",
        "                          save_freq='epoch', # save after every epoch\n",
        "                          mode='auto')\n",
        "\n",
        "  callbacks = [metric_callback, model_checkpoint_callback]\n",
        "\n",
        "  model.fit(\n",
        "      tf_train_dataset, # dataset to train with\n",
        "      validation_data=tf_validation_dataset, # dataset to validate the training process\n",
        "      verbose=1,\n",
        "      epochs=1, #3,\n",
        "      callbacks=[callbacks],\n",
        "  )\n",
        "\n",
        "else: \n",
        "  model.load_weights(file_path)"
      ]
    },
    {
      "cell_type": "markdown",
      "metadata": {},
      "source": [
        "## Predict "
      ]
    },
    {
      "cell_type": "markdown",
      "metadata": {},
      "source": [
        "Logits are \"raw predictions\" the network outputs. For each prediction we get as many logits as we have classes to predict, here two. The softmax function (for which the logits are input) generates a vector of probabilities with one value for each possible class."
      ]
    },
    {
      "cell_type": "code",
      "execution_count": 67,
      "metadata": {},
      "outputs": [],
      "source": [
        "# predictions = model.predict(tf_test_dataset)[\"logits\"]"
      ]
    },
    {
      "cell_type": "markdown",
      "metadata": {},
      "source": [
        "The dataset contains information of the label encodings. Let's use this information to ease out interpreting the predictions"
      ]
    },
    {
      "cell_type": "code",
      "execution_count": 68,
      "metadata": {},
      "outputs": [
        {
          "name": "stdout",
          "output_type": "stream",
          "text": [
            "['neg', 'pos']\n",
            "0\n",
            "1\n"
          ]
        }
      ],
      "source": [
        "print(dataset['train'].features['label'].names)\n",
        "print(dataset[\"train\"].features[\"label\"].str2int('neg'))\n",
        "print(dataset[\"train\"].features[\"label\"].str2int('pos'))\n",
        "mapping = {0:'neg', 1:'pos'}"
      ]
    },
    {
      "cell_type": "code",
      "execution_count": 69,
      "metadata": {
        "colab": {
          "base_uri": "https://localhost:8080/"
        },
        "id": "UOUcBkX8IrJi",
        "outputId": "d882e6ed-917e-4670-cbda-487423b5486b"
      },
      "outputs": [],
      "source": [
        "# print(f\"Logits of the first test input: {predictions[0]}\")\n",
        "# print(f\"Probabilities of the first test input: {softmax(predictions[0], axis=0)}\")\n",
        "# print(f\"Predicted class label: {mapping.get(np.argmax(predictions[0], axis=0))}\")"
      ]
    },
    {
      "cell_type": "markdown",
      "metadata": {
        "id": "CKASz-2vIrJi"
      },
      "source": [
        "Predict with test data and calculate model test accuracy.\n"
      ]
    },
    {
      "cell_type": "code",
      "execution_count": 70,
      "metadata": {
        "colab": {
          "base_uri": "https://localhost:8080/"
        },
        "id": "zfJRzdrKw1md",
        "outputId": "2b9b5e37-4af5-4b04-cbb7-c438a51bdbdc"
      },
      "outputs": [],
      "source": [
        "# preds=np.argmax(predictions, axis=1)\n",
        "# true=np.array(encoded_dataset[\"test\"]['label'])\n",
        "# metric.compute(predictions=preds, references=true)# "
      ]
    },
    {
      "cell_type": "markdown",
      "metadata": {},
      "source": [
        "Plot a confusion matrix to visualize the model performance"
      ]
    },
    {
      "cell_type": "code",
      "execution_count": 71,
      "metadata": {
        "colab": {
          "base_uri": "https://localhost:8080/",
          "height": 301
        },
        "id": "_mIrwPYl0YJM",
        "outputId": "cf6537d7-1139-4c85-b1f7-b5de8f760484"
      },
      "outputs": [],
      "source": [
        "# # Columns represent the predicted labels and the rows represent the real labels\n",
        "\n",
        "# cf_mat = tf.math.confusion_matrix(\n",
        "#     true, preds, num_classes=None, weights=None, dtype=tf.dtypes.int64,\n",
        "#     name=None\n",
        "# )\n",
        "# def plot_cf_matrix(mat):\n",
        "#   sns.heatmap(mat, annot=True)\n",
        "#   plt.title(\"Confusion matrix for test data\", fontsize = 16)\n",
        "#   plt.ylabel(\"True class\", fontsize = 14)\n",
        "#   plt.xlabel(\"Predicted class\", fontsize = 14)\n",
        "\n",
        "# plot_cf_matrix(cf_mat)"
      ]
    },
    {
      "cell_type": "markdown",
      "metadata": {},
      "source": [
        "We have 20 false positives and 24 false negatives. Rest are true positives and true negatives. Not bad for such a simple and fast model.\n",
        "\n",
        "We skip further analysis of the model classification performance and jump to next section to explore the SHAP-method."
      ]
    },
    {
      "cell_type": "markdown",
      "metadata": {
        "id": "iB1be03DHndB"
      },
      "source": [
        "# SHAP explanations"
      ]
    },
    {
      "cell_type": "markdown",
      "metadata": {
        "id": "uHPvtah8vaTk"
      },
      "source": [
        "Now that the model has been defined we can use [a transformer pipeline](https://huggingface.co/transformers/v3.0.2/main_classes/pipelines.html?highlight=return_all_scores#). The transformers pipeline object can be passed directly to shap.Explainer, which will then wrap the pipeline model as a `shap.models.TransformersPipeline` model. Note that also the tokenizer we instantaited earlier is passed to `shap.models.TransformersPipeline`.\n",
        "\n",
        "Instead of probabilities we will now work in a log odds space where it is natural to add and subtract feature effects (addition and subtraction correspond to the addition or subtraction of bits of evidence information). \n",
        "\n",
        "Sources:\n",
        "\n",
        "[Emotion classification multiclass example](https://shap.readthedocs.io/en/latest/example_notebooks/text_examples/sentiment_analysis/Emotion%20classification%20multiclass%20example.html)\n",
        "\n",
        "[Explain the log odds instead of the probabilities](https://shap.readthedocs.io/en/latest/example_notebooks/text_examples/sentiment_analysis/Emotion%20classification%20multiclass%20example.html#Explain-the-log-odds-instead-of-the-probabilities)"
      ]
    },
    {
      "cell_type": "code",
      "execution_count": 72,
      "metadata": {
        "colab": {
          "base_uri": "https://localhost:8080/"
        },
        "id": "YDAf1zyyvd5C",
        "outputId": "426547f3-3307-4b20-eb12-12d6f02d0c97"
      },
      "outputs": [],
      "source": [
        "# Use transformer pipeline. Pass the tokenizer as the masker object\n",
        "classifier = transformers.pipeline(task='sentiment-analysis', model=model, tokenizer=tokenizer, top_k=1)\n",
        "\n",
        "data_sample=[\"Great day\"]\n",
        "\n",
        "\n",
        "# Make a data sample\n",
        "# data_sample=[\"Just loved the movie. Though Val Kilmer's dance movements weren't that stunning.\",\n",
        "#              #\"Just loved the movie. Val Kilmer's dance movements were stunning.\",\n",
        "#              #\"Utter trash, if you have no taste.\",\n",
        "#              #\"Not bad at all eventhough the dialogue was ambigious.\",\n",
        "#              \"The movie was not bad at all.\",\n",
        "#              \"The movie was not bad at all. On the contrary.\",\n",
        "#              \"The movie was not bad at all. On the contrary I enjoyed it.\"]\n",
        "\n",
        "shap_pipeline_model = shap.models.TransformersPipeline(classifier, rescale_to_logits=True) # return logits "
      ]
    },
    {
      "cell_type": "markdown",
      "metadata": {},
      "source": [
        "We can predict with the SHAP-pipeline. Let's see the predictions for our data samples."
      ]
    },
    {
      "cell_type": "code",
      "execution_count": 73,
      "metadata": {},
      "outputs": [
        {
          "name": "stdout",
          "output_type": "stream",
          "text": [
            "Case 1:\n",
            "\tInput: Great day\n",
            "\tModel prediction, logits for labels: [0.         2.07354329]\n",
            "\tModel prediction, probabilities for labels: [0.11169499 0.88830501]\n",
            "\tPredicted class label: pos\n"
          ]
        }
      ],
      "source": [
        "for i, (text, vals) in enumerate(dict(zip(data_sample, shap_pipeline_model(data_sample))).items()):\n",
        "    print(f\"Case {i+1}:\")\n",
        "    print(f\"\\tInput: {text}\")\n",
        "    print(f\"\\tModel prediction, logits for labels: {vals}\")\n",
        "    print(f\"\\tModel prediction, probabilities for labels: {softmax(vals, axis=0)}\") # Softmax gives the probabilities from the logits for both of the classes.\n",
        "    print(f\"\\tPredicted class label: {mapping.get(np.argmax(vals, axis=0))}\")"
      ]
    },
    {
      "cell_type": "markdown",
      "metadata": {
        "id": "QaaY_dbkEIY8"
      },
      "source": [
        "For example for the fourth case, input 'Just loved the movie. Though Val Kilmer's dance movements weren't that stunning', classifier predicts positive label with approximately 70 % probability and negative label with 30 % probability. The question is now why? Can we get some insight into the model prediction logic?\n",
        "\n",
        "Let's instantiate a SHAP `Explainer` and pass the shap_pipeline_model to it."
      ]
    },
    {
      "cell_type": "code",
      "execution_count": 88,
      "metadata": {
        "colab": {
          "base_uri": "https://localhost:8080/"
        },
        "id": "AiwtivQEwHB3",
        "outputId": "9774e4f2-502c-480a-c410-4389381266a3"
      },
      "outputs": [
        {
          "name": "stdout",
          "output_type": "stream",
          "text": [
            "Help on Partition in module shap.explainers._partition object:\n",
            "\n",
            "class Partition(shap.explainers._explainer.Explainer)\n",
            " |  Partition(model, masker, *, output_names=None, link=CPUDispatcher(<function identity at 0x158fe4430>), linearize_link=True, feature_names=None, **call_args)\n",
            " |  \n",
            " |  Method resolution order:\n",
            " |      Partition\n",
            " |      shap.explainers._explainer.Explainer\n",
            " |      shap._serializable.Serializable\n",
            " |      builtins.object\n",
            " |  \n",
            " |  Methods defined here:\n",
            " |  \n",
            " |  __call__(self, *args, max_evals=500, fixed_context=None, main_effects=False, error_bounds=False, batch_size='auto', outputs=None, silent=False)\n",
            " |      Explain the output of the model on the given arguments.\n",
            " |  \n",
            " |  __init__(self, model, masker, *, output_names=None, link=CPUDispatcher(<function identity at 0x158fe4430>), linearize_link=True, feature_names=None, **call_args)\n",
            " |      Uses the Partition SHAP method to explain the output of any function.\n",
            " |      \n",
            " |      Partition SHAP computes Shapley values recursively through a hierarchy of features, this\n",
            " |      hierarchy defines feature coalitions and results in the Owen values from game theory. The\n",
            " |      PartitionExplainer has two particularly nice properties: 1) PartitionExplainer is\n",
            " |      model-agnostic but when using a balanced partition tree only has quadradic exact runtime\n",
            " |      (in term of the number of input features). This is in contrast to the exponential exact\n",
            " |      runtime of KernelExplainer or SamplingExplainer. 2) PartitionExplainer always assigns to groups of\n",
            " |      correlated features the credit that set of features would have had if treated as a group. This\n",
            " |      means if the hierarchical clustering given to PartitionExplainer groups correlated features\n",
            " |      together, then feature correlations are \"accounted for\" ... in the sense that the total credit assigned\n",
            " |      to a group of tightly dependent features does net depend on how they behave if their correlation\n",
            " |      structure was broken during the explanation's perterbation process. Note that for linear models\n",
            " |      the Owen values that PartitionExplainer returns are the same as the standard non-hierarchical\n",
            " |      Shapley values.\n",
            " |      \n",
            " |      \n",
            " |      Parameters\n",
            " |      ----------\n",
            " |      model : function\n",
            " |          User supplied function that takes a matrix of samples (# samples x # features) and\n",
            " |          computes the output of the model for those samples.\n",
            " |      \n",
            " |      masker : function or numpy.array or pandas.DataFrame or tokenizer\n",
            " |          The function used to \"mask\" out hidden features of the form `masker(mask, x)`. It takes a\n",
            " |          single input sample and a binary mask and returns a matrix of masked samples. These\n",
            " |          masked samples will then be evaluated using the model function and the outputs averaged.\n",
            " |          As a shortcut for the standard masking using by SHAP you can pass a background data matrix\n",
            " |          instead of a function and that matrix will be used for masking. Domain specific masking\n",
            " |          functions are available in shap such as shap.maksers.Image for images and shap.maskers.Text\n",
            " |          for text.\n",
            " |      \n",
            " |      partition_tree : None or function or numpy.array\n",
            " |          A hierarchical clustering of the input features represented by a matrix that follows the format\n",
            " |          used by scipy.cluster.hierarchy (see the notebooks_html/partition_explainer directory an example).\n",
            " |          If this is a function then the function produces a clustering matrix when given a single input\n",
            " |          example. If you are using a standard SHAP masker object then you can pass masker.clustering\n",
            " |          to use that masker's built-in clustering of the features, or if partition_tree is None then\n",
            " |          masker.clustering will be used by default.\n",
            " |      \n",
            " |      Examples\n",
            " |      --------\n",
            " |      See `Partition explainer examples <https://shap.readthedocs.io/en/latest/api_examples/explainers/Partition.html>`_\n",
            " |  \n",
            " |  __str__(self)\n",
            " |      Return str(self).\n",
            " |  \n",
            " |  explain_row(self, *row_args, max_evals, main_effects, error_bounds, batch_size, outputs, silent, fixed_context='auto')\n",
            " |      Explains a single row and returns the tuple (row_values, row_expected_values, row_mask_shapes).\n",
            " |  \n",
            " |  owen(self, fm, f00, f11, max_evals, output_indexes, fixed_context, batch_size, silent)\n",
            " |      Compute a nested set of recursive Owen values based on an ordering recursion.\n",
            " |  \n",
            " |  ----------------------------------------------------------------------\n",
            " |  Methods inherited from shap.explainers._explainer.Explainer:\n",
            " |  \n",
            " |  save(self, out_file, model_saver='.save', masker_saver='.save')\n",
            " |      Write the explainer to the given file stream.\n",
            " |  \n",
            " |  ----------------------------------------------------------------------\n",
            " |  Class methods inherited from shap.explainers._explainer.Explainer:\n",
            " |  \n",
            " |  load(in_file, model_loader=<bound method Model.load of <class 'shap.models._model.Model'>>, masker_loader=<bound method Serializable.load of <class 'shap.maskers._masker.Masker'>>, instantiate=True) from builtins.type\n",
            " |      Load an Explainer from the given file stream.\n",
            " |      \n",
            " |      Parameters\n",
            " |      ----------\n",
            " |      in_file : The file stream to load objects from.\n",
            " |  \n",
            " |  ----------------------------------------------------------------------\n",
            " |  Static methods inherited from shap.explainers._explainer.Explainer:\n",
            " |  \n",
            " |  supports_model_with_masker(model, masker)\n",
            " |      Determines if this explainer can handle the given model.\n",
            " |      \n",
            " |      This is an abstract static method meant to be implemented by each subclass.\n",
            " |  \n",
            " |  ----------------------------------------------------------------------\n",
            " |  Data descriptors inherited from shap._serializable.Serializable:\n",
            " |  \n",
            " |  __dict__\n",
            " |      dictionary for instance variables (if defined)\n",
            " |  \n",
            " |  __weakref__\n",
            " |      list of weak references to the object (if defined)\n",
            "\n"
          ]
        }
      ],
      "source": [
        "# explainer = shap.Explainer(shap_pipeline_model, seed=123, max_evals=200, batch_size=5) # Seed for reproducibility. Be careful with seed, you might accidentally fix \"too good\" random values. Better solution would be to run multiple times without seed\n",
        "explainer = shap.Explainer(shap_pipeline_model, seed=123)#max_evals=30)\n",
        "help(explainer)"
      ]
    },
    {
      "cell_type": "code",
      "execution_count": 75,
      "metadata": {
        "colab": {
          "base_uri": "https://localhost:8080/",
          "height": 86,
          "referenced_widgets": [
            "b0a4d8e770f5455da20286433a05afe6",
            "575c93e4876f41899f953e0ec80136f2",
            "357ee6bfdae84bdf904caf9ce1f6c41e",
            "dc6f2464e0aa4426b79d855366de8e8b",
            "7d17fe4ed2204363b8966112941f61ac",
            "72de6e647caf49c4a9b647213d9e520a",
            "6d748d8c8e4d479e86baa168efae88c2",
            "7b81582dae9a47db804bcf0a90d3c6b5",
            "74ddd66cc4b24f64b7f593d8720dc133",
            "c24f367a9e244002a5c37baea3aae537",
            "1f50d8b95e9845c39a6605e2e3ef8015",
            "0013342eb35944958723727c6169f29a",
            "7948950b0dff42d99bd1e14cea98bb4e",
            "3616a0eaa99e410bb042ce275bafa040",
            "97f7e786df424743adfde1b3e4961439",
            "bd73e530bcba4d398533dcff280452c5",
            "fb685c0f81cd41e2a94b630ce3c8c6d0",
            "daab6378d0b24b20b933a84da755f5df",
            "52594c3e4a8a4c7790be9a1dbb862465",
            "d8f8630f66064700823ba12e800c242e",
            "341096c8ea66448dae89e613188b99c7",
            "c54b5fc3110c40b5b5f098e824e9bf6a"
          ]
        },
        "id": "T66td76qxCJr",
        "outputId": "8acd3733-d5a6-4614-f8c0-d4ee6bec598c"
      },
      "outputs": [
        {
          "name": "stdout",
          "output_type": "stream",
          "text": [
            "row_args eli annettu syöte Great day <class 'str'>\n",
            "what is fixed_context?: None\n",
            "make sure we have the base value and current value outputs\n",
            "m00 [False False False False]\n",
            "\n",
            "Full masking call starts: mask the input and predict with it\n",
            "all_masked_inputs [[array(['[MASK] [MASK]'], dtype='<U13')]]\n",
            "joined_masked_inputs are given to the model for predicting (array(['[MASK] [MASK]'], dtype='<U13'),)\n",
            "Metodissa _build_fixed_multi_output \n",
            "averaged_outs jälkeen metodin _build_fixed_output [[0.42370765 0.        ]]\n",
            "Full masking call ends\n",
            "base value [0.42370765 0.        ]\n",
            "\n",
            "Full masking call starts: mask the input and predict with it\n",
            "all_masked_inputs [[array(['Great day'], dtype='<U9')]]\n",
            "joined_masked_inputs are given to the model for predicting (array(['Great day'], dtype='<U9'),)\n",
            "Metodissa _build_fixed_multi_output \n",
            "averaged_outs jälkeen metodin _build_fixed_output [[0.         2.07354329]]\n",
            "Full masking call ends\n",
            "current value [0.         2.07354329]\n",
            "\n",
            "Call for owen to do the coalitions.\n",
            "num of inputs (CLS + SEP added) 4\n",
            "Luokassa Partition, Metodissa owen: Create new input in while-loop\n",
            "batch_masks [[ True  True False False]\n",
            " [False False  True  True]]\n",
            "\n",
            "Full masking call starts: mask the input and predict with it\n",
            "all_masked_inputs [[array(['Great [MASK]'], dtype='<U12'), array(['[MASK]day'], dtype='<U9')]]\n",
            "joined_masked_inputs are given to the model for predicting (array(['Great [MASK]', '[MASK]day'], dtype='<U12'),)\n",
            "Metodissa _build_fixed_multi_output \n",
            "averaged_outs jälkeen metodin _build_fixed_output [[0.41012847 0.        ]\n",
            " [0.         0.12902798]]\n",
            "Full masking call ends\n",
            "Model output for batches in method owen: [[0.41012847 0.        ]\n",
            " [0.         0.12902798]]\n",
            "Luokassa Partition, Metodissa owen: Create new input in while-loop\n",
            "batch_masks [[ True  True  True False]\n",
            " [ True  True False  True]\n",
            " [ True False  True  True]\n",
            " [False  True  True  True]\n",
            " [False False  True False]\n",
            " [False False False  True]]\n",
            "\n",
            "Full masking call starts: mask the input and predict with it\n",
            "all_masked_inputs [[array(['Great day'], dtype='<U9'), array(['Great [MASK]'], dtype='<U12'), array(['[MASK]day'], dtype='<U9'), array(['Great day'], dtype='<U9'), array(['[MASK]day'], dtype='<U9'), array(['[MASK] [MASK]'], dtype='<U13')]]\n",
            "joined_masked_inputs are given to the model for predicting (array(['Great day', 'Great [MASK]', '[MASK]day', 'Great day', '[MASK]day',\n",
            "       '[MASK] [MASK]'], dtype='<U13'),)\n",
            "Metodissa _build_fixed_multi_output \n",
            "averaged_outs jälkeen metodin _build_fixed_output [[0.         2.07354329]\n",
            " [0.41012847 0.        ]\n",
            " [0.         0.12902798]\n",
            " [0.         2.07354329]\n",
            " [0.         0.12902798]\n",
            " [0.42370765 0.        ]]\n",
            "Full masking call ends\n",
            "Model output for batches in method owen: [[0.         2.07354329]\n",
            " [0.41012847 0.        ]\n",
            " [0.         0.12902798]\n",
            " [0.         2.07354329]\n",
            " [0.         0.12902798]\n",
            " [0.42370765 0.        ]]\n",
            "Luokassa Partition, Metodissa owen: Create new input in while-loop\n",
            "batch_masks [[ True False False False]\n",
            " [False  True False False]]\n",
            "\n",
            "Full masking call starts: mask the input and predict with it\n",
            "all_masked_inputs [[array(['[MASK] [MASK]'], dtype='<U13'), array(['Great [MASK]'], dtype='<U12')]]\n",
            "joined_masked_inputs are given to the model for predicting (array(['[MASK] [MASK]', 'Great [MASK]'], dtype='<U13'),)\n",
            "Metodissa _build_fixed_multi_output \n",
            "averaged_outs jälkeen metodin _build_fixed_output [[0.42370765 0.        ]\n",
            " [0.41012847 0.        ]]\n",
            "Full masking call ends\n",
            "Model output for batches in method owen: [[0.42370765 0.        ]\n",
            " [0.41012847 0.        ]]\n",
            "Luokassa Partition, Metodissa owen: Create new input in while-loop\n",
            "batch_masks []\n",
            "return value of method explain row {'values': array([[ 0.        ,  0.        ],\n",
            "       [-0.00678959,  0.97225766],\n",
            "       [-0.41691806,  1.10128564],\n",
            "       [ 0.        ,  0.        ]]), 'expected_values': array([0.42370765, 0.        ]), 'mask_shapes': [(4, 2)], 'main_effects': None, 'hierarchical_values': array([[ 0.        ,  0.        ],\n",
            "       [-0.00678959,  0.97225766],\n",
            "       [-0.41691806,  1.10128564],\n",
            "       [ 0.        ,  0.        ],\n",
            "       [ 0.        ,  0.        ],\n",
            "       [ 0.        ,  0.        ],\n",
            "       [ 0.        ,  0.        ]]), 'clustering': array([[0. , 1. , 0.5, 2. ],\n",
            "       [2. , 3. , 0.5, 2. ],\n",
            "       [4. , 5. , 1. , 4. ]]), 'output_indices': array([0, 1]), 'output_names': ['LABEL_0', 'LABEL_1']}\n"
          ]
        }
      ],
      "source": [
        "shap_values = explainer(data_sample)"
      ]
    },
    {
      "cell_type": "code",
      "execution_count": 76,
      "metadata": {},
      "outputs": [
        {
          "data": {
            "text/plain": [
              ".values =\n",
              "array([[ 0.        ,  0.        ],\n",
              "       [-0.00678959,  0.97225766],\n",
              "       [-0.41691806,  1.10128564],\n",
              "       [ 0.        ,  0.        ]])\n",
              "\n",
              ".base_values =\n",
              "array([0.42370765, 0.        ])\n",
              "\n",
              ".data =\n",
              "array(['', 'Great ', 'day', ''], dtype='<U6')"
            ]
          },
          "execution_count": 76,
          "metadata": {},
          "output_type": "execute_result"
        }
      ],
      "source": [
        "shap_values[0] \n",
        "# In .values we have SHAP values for each token: 1st column values driving towards predicting negative sentiment, 2nd col values driving towards predicting positive sentiment.\n",
        "# Note that also CLS and SEP get contributions (the first and last rows of the array)\n",
        "# Same goes for the .base_values: we have base value for negative and positive class."
      ]
    },
    {
      "cell_type": "code",
      "execution_count": 77,
      "metadata": {},
      "outputs": [
        {
          "data": {
            "text/plain": [
              "0.0"
            ]
          },
          "execution_count": 77,
          "metadata": {},
          "output_type": "execute_result"
        }
      ],
      "source": [
        "# logistic(sum(all local contributions) + mean(yhat)) = model prediction, for any given row. \n",
        "# https://github.com/slundberg/shap/issues/350\n",
        "# https://github.com/slundberg/shap/issues/352#issuecomment-445925342\n",
        "\n",
        "# sum of contributions in the first column + 1st base value = SHAP values for negative sentiment\n",
        "neg=np.sum(shap_values[0].values[:,0])+shap_values[0].base_values[0] \n",
        "neg"
      ]
    },
    {
      "cell_type": "code",
      "execution_count": 78,
      "metadata": {},
      "outputs": [
        {
          "data": {
            "text/plain": [
              "2.0735432949489456"
            ]
          },
          "execution_count": 78,
          "metadata": {},
          "output_type": "execute_result"
        }
      ],
      "source": [
        "# sum of contributions in the first column + 1st base value = SHAP values for positive sentiment\n",
        "pos=np.sum(shap_values[0].values[:,1])+shap_values[0].base_values[1] \n",
        "pos"
      ]
    },
    {
      "cell_type": "code",
      "execution_count": 79,
      "metadata": {},
      "outputs": [
        {
          "data": {
            "text/plain": [
              "array([0.11169499, 0.88830501])"
            ]
          },
          "execution_count": 79,
          "metadata": {},
          "output_type": "execute_result"
        }
      ],
      "source": [
        "softmax(np.array([neg, pos])) ## Softmax of the sum of all contributions. So the base values added to the sum of SHAP values account for the prediction."
      ]
    },
    {
      "cell_type": "code",
      "execution_count": 80,
      "metadata": {},
      "outputs": [
        {
          "data": {
            "text/plain": [
              "array([0.11169499, 0.88830501])"
            ]
          },
          "execution_count": 80,
          "metadata": {},
          "output_type": "execute_result"
        }
      ],
      "source": [
        "def softmax_2(x):\n",
        "    \"\"\"Compute softmax values for each sets of scores in x.\"\"\"\n",
        "    return np.exp(x) / np.sum(np.exp(x), axis=0)\n",
        "\n",
        "softmax_2(np.array([neg, pos]))"
      ]
    },
    {
      "cell_type": "markdown",
      "metadata": {},
      "source": [
        "## Visualizations"
      ]
    },
    {
      "cell_type": "markdown",
      "metadata": {
        "id": "ViDv8uyxE7Cf"
      },
      "source": [
        "We can visualize the data in shap_values. Method shap.plots.text reveals which input forces the prediction the most from the base value towards the logits that indicate one of the classes"
      ]
    },
    {
      "cell_type": "markdown",
      "metadata": {},
      "source": [
        "### Case 1"
      ]
    },
    {
      "cell_type": "markdown",
      "metadata": {},
      "source": [
        "First let's take a look at predicting positive sentiment."
      ]
    },
    {
      "cell_type": "code",
      "execution_count": 81,
      "metadata": {},
      "outputs": [
        {
          "data": {
            "text/html": [
              "<svg width=\"100%\" height=\"80px\"><line x1=\"0\" y1=\"33\" x2=\"100%\" y2=\"33\" style=\"stroke:rgb(150,150,150);stroke-width:1\" /><line x1=\"48.52218935190688%\" y1=\"33\" x2=\"48.52218935190688%\" y2=\"37\" style=\"stroke:rgb(150,150,150);stroke-width:1\" /><text x=\"48.52218935190688%\" y=\"27\" font-size=\"12px\" fill=\"rgb(120,120,120)\" dominant-baseline=\"bottom\" text-anchor=\"middle\">1</text><line x1=\"32.44664693108118%\" y1=\"33\" x2=\"32.44664693108118%\" y2=\"37\" style=\"stroke:rgb(150,150,150);stroke-width:1\" /><text x=\"32.44664693108118%\" y=\"27\" font-size=\"12px\" fill=\"rgb(120,120,120)\" dominant-baseline=\"bottom\" text-anchor=\"middle\">0.6</text><line x1=\"16.37110451025547%\" y1=\"33\" x2=\"16.37110451025547%\" y2=\"37\" style=\"stroke:rgb(150,150,150);stroke-width:1\" /><text x=\"16.37110451025547%\" y=\"27\" font-size=\"12px\" fill=\"rgb(120,120,120)\" dominant-baseline=\"bottom\" text-anchor=\"middle\">0.2</text><line x1=\"64.59773177273259%\" y1=\"33\" x2=\"64.59773177273259%\" y2=\"37\" style=\"stroke:rgb(150,150,150);stroke-width:1\" /><text x=\"64.59773177273259%\" y=\"27\" font-size=\"12px\" fill=\"rgb(120,120,120)\" dominant-baseline=\"bottom\" text-anchor=\"middle\">1.4</text><line x1=\"80.6732741935583%\" y1=\"33\" x2=\"80.6732741935583%\" y2=\"37\" style=\"stroke:rgb(150,150,150);stroke-width:1\" /><text x=\"80.6732741935583%\" y=\"27\" font-size=\"12px\" fill=\"rgb(120,120,120)\" dominant-baseline=\"bottom\" text-anchor=\"middle\">1.8</text><line x1=\"8.333333299842621%\" y1=\"33\" x2=\"8.333333299842621%\" y2=\"37\" style=\"stroke:rgb(150,150,150);stroke-width:1\" /><text x=\"8.333333299842621%\" y=\"27\" font-size=\"13px\" style=\"stroke:#ffffff;stroke-width:8px;\" fill=\"rgb(255,255,255)\" dominant-baseline=\"bottom\" text-anchor=\"middle\">0</text><text x=\"8.333333299842621%\" y=\"27\" font-size=\"12px\" fill=\"rgb(120,120,120)\" dominant-baseline=\"bottom\" text-anchor=\"middle\">0</text><text x=\"8.333333299842621%\" y=\"10\" font-size=\"12px\" fill=\"rgb(120,120,120)\" dominant-baseline=\"bottom\" text-anchor=\"middle\">base value</text><line x1=\"91.66666629826882%\" y1=\"33\" x2=\"91.66666629826882%\" y2=\"37\" style=\"stroke:rgb(150,150,150);stroke-width:1\" /><text x=\"91.66666629826882%\" y=\"27\" font-size=\"13px\" style=\"stroke:#ffffff;stroke-width:8px;\" font-weight=\"bold\" fill=\"rgb(255,255,255)\" dominant-baseline=\"bottom\" text-anchor=\"middle\">2.07354</text><text x=\"91.66666629826882%\" y=\"27\" font-size=\"13px\" font-weight=\"bold\" fill=\"rgb(0,0,0)\" dominant-baseline=\"bottom\" text-anchor=\"middle\">2.07354</text><text x=\"91.66666629826882%\" y=\"10\" font-size=\"12px\" fill=\"rgb(120,120,120)\" dominant-baseline=\"bottom\" text-anchor=\"middle\">f<tspan baseline-shift=\"sub\" font-size=\"8px\">LABEL_1</tspan>(inputs)</text><rect x=\"8.333333299842621%\" width=\"83.3333329984262%\" y=\"40\" height=\"18\" style=\"fill:rgb(255.0, 0.0, 81.08083606031792); stroke-width:0; stroke:rgb(0,0,0)\" /><line x1=\"47.40725638952943%\" x2=\"91.66666629826882%\" y1=\"60\" y2=\"60\" id=\"_fb_nthgmcwutwisdcojbchp_ind_2\" style=\"stroke:rgb(255.0, 0.0, 81.08083606031792);stroke-width:2; opacity: 0\"/><text x=\"69.53696134389912%\" y=\"71\" font-size=\"12px\" id=\"_fs_nthgmcwutwisdcojbchp_ind_2\" fill=\"rgb(255.0, 0.0, 81.08083606031792)\" style=\"opacity: 0\" dominant-baseline=\"middle\" text-anchor=\"middle\">1.101</text><svg x=\"47.40725638952943%\" y=\"40\" height=\"20\" width=\"44.25940990873939%\">  <svg x=\"0\" y=\"0\" width=\"100%\" height=\"100%\">    <text x=\"50%\" y=\"9\" font-size=\"12px\" fill=\"rgb(255,255,255)\" dominant-baseline=\"middle\" text-anchor=\"middle\">day</text>  </svg></svg><line x1=\"8.333333299842621%\" x2=\"47.40725638952943%\" y1=\"60\" y2=\"60\" id=\"_fb_nthgmcwutwisdcojbchp_ind_1\" style=\"stroke:rgb(255.0, 0.0, 81.08083606031792);stroke-width:2; opacity: 0\"/><text x=\"27.870294844686025%\" y=\"71\" font-size=\"12px\" id=\"_fs_nthgmcwutwisdcojbchp_ind_1\" fill=\"rgb(255.0, 0.0, 81.08083606031792)\" style=\"opacity: 0\" dominant-baseline=\"middle\" text-anchor=\"middle\">0.972</text><svg x=\"8.333333299842621%\" y=\"40\" height=\"20\" width=\"39.07392308968681%\">  <svg x=\"0\" y=\"0\" width=\"100%\" height=\"100%\">    <text x=\"50%\" y=\"9\" font-size=\"12px\" fill=\"rgb(255,255,255)\" dominant-baseline=\"middle\" text-anchor=\"middle\">Great</text>  </svg></svg><g transform=\"translate(0,0)\">  <svg x=\"47.40725638952943%\" y=\"40\" height=\"18\" overflow=\"visible\" width=\"30\">    <path d=\"M 0 -9 l 6 18 L 0 25\" fill=\"none\" style=\"stroke:rgb(255.0, 0.0, 81.08083606031792);stroke-width:2\" />  </svg></g><g transform=\"translate(2,0)\">  <svg x=\"47.40725638952943%\" y=\"40\" height=\"18\" overflow=\"visible\" width=\"30\">    <path d=\"M 0 -9 l 6 18 L 0 25\" fill=\"none\" style=\"stroke:rgb(255.0, 0.0, 81.08083606031792);stroke-width:2\" />  </svg></g><g transform=\"translate(4,0)\">  <svg x=\"47.40725638952943%\" y=\"40\" height=\"18\" overflow=\"visible\" width=\"30\">    <path d=\"M 0 -9 l 6 18 L 0 25\" fill=\"none\" style=\"stroke:rgb(255.0, 0.0, 81.08083606031792);stroke-width:2\" />  </svg></g><g transform=\"translate(6,0)\">  <svg x=\"47.40725638952943%\" y=\"40\" height=\"18\" overflow=\"visible\" width=\"30\">    <path d=\"M 0 -9 l 6 18 L 0 25\" fill=\"none\" style=\"stroke:rgb(255.0, 0.0, 81.08083606031792);stroke-width:2\" />  </svg></g><g transform=\"translate(-8,0)\">  <svg x=\"47.40725638952943%\" y=\"40\" height=\"18\" overflow=\"visible\" width=\"30\">    <path d=\"M 0 -9 l 6 18 L 0 25\" fill=\"none\" style=\"stroke:rgb(255.0, 0.0, 81.08083606031792);stroke-width:2\" />  </svg></g><g transform=\"translate(-6,0)\">  <svg x=\"47.40725638952943%\" y=\"40\" height=\"18\" overflow=\"visible\" width=\"30\">    <path d=\"M 0 -9 l 6 18 L 0 25\" fill=\"none\" style=\"stroke:rgb(255.0, 0.0, 81.08083606031792);stroke-width:2\" />  </svg></g><g transform=\"translate(-4,0)\">  <svg x=\"47.40725638952943%\" y=\"40\" height=\"18\" overflow=\"visible\" width=\"30\">    <path d=\"M 0 -9 l 6 18 L 0 25\" fill=\"none\" style=\"stroke:rgb(255.0, 0.0, 81.08083606031792);stroke-width:2\" />  </svg></g><g transform=\"translate(-2,0)\">  <svg x=\"47.40725638952943%\" y=\"40\" height=\"18\" overflow=\"visible\" width=\"30\">    <path d=\"M 0 -9 l 6 18 L 0 25\" fill=\"none\" style=\"stroke:rgb(255.0, 0.0, 81.08083606031792);stroke-width:2\" />  </svg></g><rect transform=\"translate(-8,0)\" x=\"91.66666629826882%\" y=\"40\" width=\"8\" height=\"18\" style=\"fill:rgb(255.0, 0.0, 81.08083606031792)\"/><g transform=\"translate(-11.5,0)\">  <svg x=\"8.333333299842621%\" y=\"40\" height=\"18\" overflow=\"visible\" width=\"30\">    <path d=\"M 10 -9 l 6 18 L 10 25 L 0 25 L 0 -9\" fill=\"#ffffff\" style=\"stroke:rgb(255,255,255);stroke-width:2\" />  </svg></g><g transform=\"translate(-1.5,0)\">  <svg x=\"91.66666629826882%\" y=\"40\" height=\"18\" overflow=\"visible\" width=\"30\">    <path d=\"M 0 -9 l 6 18 L 0 25\" fill=\"none\" style=\"stroke:rgb(255, 195, 213);stroke-width:2\" />  </svg></g><rect x=\"47.40725638952943%\" y=\"40\" height=\"20\" width=\"44.25940990873939%\"      onmouseover=\"document.getElementById('_tp_nthgmcwutwisdcojbchp_ind_2').style.textDecoration = 'underline';document.getElementById('_fs_nthgmcwutwisdcojbchp_ind_2').style.opacity = 1;document.getElementById('_fb_nthgmcwutwisdcojbchp_ind_2').style.opacity = 1;\"      onmouseout=\"document.getElementById('_tp_nthgmcwutwisdcojbchp_ind_2').style.textDecoration = 'none';document.getElementById('_fs_nthgmcwutwisdcojbchp_ind_2').style.opacity = 0;document.getElementById('_fb_nthgmcwutwisdcojbchp_ind_2').style.opacity = 0;\" style=\"fill:rgb(0,0,0,0)\" /><rect x=\"8.333333299842621%\" y=\"40\" height=\"20\" width=\"39.07392308968681%\"      onmouseover=\"document.getElementById('_tp_nthgmcwutwisdcojbchp_ind_1').style.textDecoration = 'underline';document.getElementById('_fs_nthgmcwutwisdcojbchp_ind_1').style.opacity = 1;document.getElementById('_fb_nthgmcwutwisdcojbchp_ind_1').style.opacity = 1;\"      onmouseout=\"document.getElementById('_tp_nthgmcwutwisdcojbchp_ind_1').style.textDecoration = 'none';document.getElementById('_fs_nthgmcwutwisdcojbchp_ind_1').style.opacity = 0;document.getElementById('_fb_nthgmcwutwisdcojbchp_ind_1').style.opacity = 0;\" style=\"fill:rgb(0,0,0,0)\" /><rect x=\"91.66666629826882%\" width=\"-0.0%\" y=\"40\" height=\"18\" style=\"fill:rgb(0.0, 138.56128015770724, 250.76166088685727); stroke-width:0; stroke:rgb(0,0,0)\" /><rect transform=\"translate(0,0)\" x=\"91.66666629826882%\" y=\"40\" width=\"8\" height=\"18\" style=\"fill:rgb(0.0, 138.56128015770724, 250.76166088685727)\"/><g transform=\"translate(-6.0,0)\">  <svg x=\"91.66666629826882%\" y=\"40\" height=\"18\" overflow=\"visible\" width=\"30\">    <path d=\"M 8 -9 l -6 18 L 8 25 L 20 25 L 20 -9\" fill=\"#ffffff\" style=\"stroke:rgb(255,255,255);stroke-width:2\" />  </svg></g></svg><div align='center'><div style=\"color: rgb(120,120,120); font-size: 12px; margin-top: -15px;\">inputs</div><div style='display: inline; text-align: center;'\n",
              "    ><div style='display: none; color: #999; padding-top: 0px; font-size: 12px;'>0.0</div\n",
              "        ><div id='_tp_nthgmcwutwisdcojbchp_ind_0'\n",
              "            style='display: inline; background: rgba(230.2941176470614, 26.505882352939775, 102.59215686274348, 0.0); border-radius: 3px; padding: 0px'\n",
              "            onclick=\"\n",
              "            if (this.previousSibling.style.display == 'none') {\n",
              "                this.previousSibling.style.display = 'block';\n",
              "                this.parentNode.style.display = 'inline-block';\n",
              "            } else {\n",
              "                this.previousSibling.style.display = 'none';\n",
              "                this.parentNode.style.display = 'inline';\n",
              "            }\"\n",
              "            onmouseover=\"document.getElementById('_fb_nthgmcwutwisdcojbchp_ind_0').style.opacity = 1; document.getElementById('_fs_nthgmcwutwisdcojbchp_ind_0').style.opacity = 1;\"\n",
              "            onmouseout=\"document.getElementById('_fb_nthgmcwutwisdcojbchp_ind_0').style.opacity = 0; document.getElementById('_fs_nthgmcwutwisdcojbchp_ind_0').style.opacity = 0;\"\n",
              "        ></div></div><div style='display: inline; text-align: center;'\n",
              "    ><div style='display: none; color: #999; padding-top: 0px; font-size: 12px;'>0.972</div\n",
              "        ><div id='_tp_nthgmcwutwisdcojbchp_ind_1'\n",
              "            style='display: inline; background: rgba(255.0, 13.0, 87.0, 0.889641513170925); border-radius: 3px; padding: 0px'\n",
              "            onclick=\"\n",
              "            if (this.previousSibling.style.display == 'none') {\n",
              "                this.previousSibling.style.display = 'block';\n",
              "                this.parentNode.style.display = 'inline-block';\n",
              "            } else {\n",
              "                this.previousSibling.style.display = 'none';\n",
              "                this.parentNode.style.display = 'inline';\n",
              "            }\"\n",
              "            onmouseover=\"document.getElementById('_fb_nthgmcwutwisdcojbchp_ind_1').style.opacity = 1; document.getElementById('_fs_nthgmcwutwisdcojbchp_ind_1').style.opacity = 1;\"\n",
              "            onmouseout=\"document.getElementById('_fb_nthgmcwutwisdcojbchp_ind_1').style.opacity = 0; document.getElementById('_fs_nthgmcwutwisdcojbchp_ind_1').style.opacity = 0;\"\n",
              "        >Great </div></div><div style='display: inline; text-align: center;'\n",
              "    ><div style='display: none; color: #999; padding-top: 0px; font-size: 12px;'>1.101</div\n",
              "        ><div id='_tp_nthgmcwutwisdcojbchp_ind_2'\n",
              "            style='display: inline; background: rgba(255.0, 13.0, 87.0, 1.0); border-radius: 3px; padding: 0px'\n",
              "            onclick=\"\n",
              "            if (this.previousSibling.style.display == 'none') {\n",
              "                this.previousSibling.style.display = 'block';\n",
              "                this.parentNode.style.display = 'inline-block';\n",
              "            } else {\n",
              "                this.previousSibling.style.display = 'none';\n",
              "                this.parentNode.style.display = 'inline';\n",
              "            }\"\n",
              "            onmouseover=\"document.getElementById('_fb_nthgmcwutwisdcojbchp_ind_2').style.opacity = 1; document.getElementById('_fs_nthgmcwutwisdcojbchp_ind_2').style.opacity = 1;\"\n",
              "            onmouseout=\"document.getElementById('_fb_nthgmcwutwisdcojbchp_ind_2').style.opacity = 0; document.getElementById('_fs_nthgmcwutwisdcojbchp_ind_2').style.opacity = 0;\"\n",
              "        >day</div></div><div style='display: inline; text-align: center;'\n",
              "    ><div style='display: none; color: #999; padding-top: 0px; font-size: 12px;'>0.0</div\n",
              "        ><div id='_tp_nthgmcwutwisdcojbchp_ind_3'\n",
              "            style='display: inline; background: rgba(230.2941176470614, 26.505882352939775, 102.59215686274348, 0.0); border-radius: 3px; padding: 0px'\n",
              "            onclick=\"\n",
              "            if (this.previousSibling.style.display == 'none') {\n",
              "                this.previousSibling.style.display = 'block';\n",
              "                this.parentNode.style.display = 'inline-block';\n",
              "            } else {\n",
              "                this.previousSibling.style.display = 'none';\n",
              "                this.parentNode.style.display = 'inline';\n",
              "            }\"\n",
              "            onmouseover=\"document.getElementById('_fb_nthgmcwutwisdcojbchp_ind_3').style.opacity = 1; document.getElementById('_fs_nthgmcwutwisdcojbchp_ind_3').style.opacity = 1;\"\n",
              "            onmouseout=\"document.getElementById('_fb_nthgmcwutwisdcojbchp_ind_3').style.opacity = 0; document.getElementById('_fs_nthgmcwutwisdcojbchp_ind_3').style.opacity = 0;\"\n",
              "        ></div></div></div>"
            ],
            "text/plain": [
              "<IPython.core.display.HTML object>"
            ]
          },
          "metadata": {},
          "output_type": "display_data"
        }
      ],
      "source": [
        "shap.plots.text(shap_values[0,:,\"LABEL_1\"]) # LABEL_1 = positive sentiment"
      ]
    },
    {
      "cell_type": "markdown",
      "metadata": {},
      "source": [
        "Same visualizastion towards the negative sentiment for the first sentence (remember we have probabilities for two classes and hence we can evaluate the forces from both perspective):"
      ]
    },
    {
      "cell_type": "code",
      "execution_count": 82,
      "metadata": {},
      "outputs": [
        {
          "data": {
            "text/html": [
              "<svg width=\"100%\" height=\"80px\"><line x1=\"0\" y1=\"33\" x2=\"100%\" y2=\"33\" style=\"stroke:rgb(150,150,150);stroke-width:1\" /><line x1=\"47.66863016384515%\" y1=\"33\" x2=\"47.66863016384515%\" y2=\"37\" style=\"stroke:rgb(150,150,150);stroke-width:1\" /><text x=\"47.66863016384515%\" y=\"27\" font-size=\"12px\" fill=\"rgb(120,120,120)\" dominant-baseline=\"bottom\" text-anchor=\"middle\">0.2</text><line x1=\"28.000981666640705%\" y1=\"33\" x2=\"28.000981666640705%\" y2=\"37\" style=\"stroke:rgb(150,150,150);stroke-width:1\" /><text x=\"28.000981666640705%\" y=\"27\" font-size=\"12px\" fill=\"rgb(120,120,120)\" dominant-baseline=\"bottom\" text-anchor=\"middle\">0.1</text><line x1=\"8.333333169436262%\" y1=\"33\" x2=\"8.333333169436262%\" y2=\"37\" style=\"stroke:rgb(150,150,150);stroke-width:1\" /><text x=\"8.333333169436262%\" y=\"27\" font-size=\"12px\" fill=\"rgb(120,120,120)\" dominant-baseline=\"bottom\" text-anchor=\"middle\">0</text><line x1=\"67.3362786610496%\" y1=\"33\" x2=\"67.3362786610496%\" y2=\"37\" style=\"stroke:rgb(150,150,150);stroke-width:1\" /><text x=\"67.3362786610496%\" y=\"27\" font-size=\"12px\" fill=\"rgb(120,120,120)\" dominant-baseline=\"bottom\" text-anchor=\"middle\">0.3</text><line x1=\"87.00392715825404%\" y1=\"33\" x2=\"87.00392715825404%\" y2=\"37\" style=\"stroke:rgb(150,150,150);stroke-width:1\" /><text x=\"87.00392715825404%\" y=\"27\" font-size=\"12px\" fill=\"rgb(120,120,120)\" dominant-baseline=\"bottom\" text-anchor=\"middle\">0.4</text><line x1=\"91.66666486379887%\" y1=\"33\" x2=\"91.66666486379887%\" y2=\"37\" style=\"stroke:rgb(150,150,150);stroke-width:1\" /><text x=\"91.66666486379887%\" y=\"27\" font-size=\"13px\" style=\"stroke:#ffffff;stroke-width:8px;\" fill=\"rgb(255,255,255)\" dominant-baseline=\"bottom\" text-anchor=\"middle\">0.423708</text><text x=\"91.66666486379887%\" y=\"27\" font-size=\"12px\" fill=\"rgb(120,120,120)\" dominant-baseline=\"bottom\" text-anchor=\"middle\">0.423708</text><text x=\"91.66666486379887%\" y=\"10\" font-size=\"12px\" fill=\"rgb(120,120,120)\" dominant-baseline=\"bottom\" text-anchor=\"middle\">base value</text><line x1=\"8.333333169436262%\" y1=\"33\" x2=\"8.333333169436262%\" y2=\"37\" style=\"stroke:rgb(150,150,150);stroke-width:1\" /><text x=\"8.333333169436262%\" y=\"27\" font-size=\"13px\" style=\"stroke:#ffffff;stroke-width:8px;\" font-weight=\"bold\" fill=\"rgb(255,255,255)\" dominant-baseline=\"bottom\" text-anchor=\"middle\">0</text><text x=\"8.333333169436262%\" y=\"27\" font-size=\"13px\" font-weight=\"bold\" fill=\"rgb(0,0,0)\" dominant-baseline=\"bottom\" text-anchor=\"middle\">0</text><text x=\"8.333333169436262%\" y=\"10\" font-size=\"12px\" fill=\"rgb(120,120,120)\" dominant-baseline=\"bottom\" text-anchor=\"middle\">f<tspan baseline-shift=\"sub\" font-size=\"8px\">LABEL_0</tspan>(inputs)</text><rect x=\"8.333333169436262%\" width=\"0.0%\" y=\"40\" height=\"18\" style=\"fill:rgb(255.0, 0.0, 81.08083606031792); stroke-width:0; stroke:rgb(0,0,0)\" /><rect transform=\"translate(-8,0)\" x=\"8.333333169436262%\" y=\"40\" width=\"8\" height=\"18\" style=\"fill:rgb(255.0, 0.0, 81.08083606031792)\"/><g transform=\"translate(-11.5,0)\">  <svg x=\"8.333333169436262%\" y=\"40\" height=\"18\" overflow=\"visible\" width=\"30\">    <path d=\"M 10 -9 l 6 18 L 10 25 L 0 25 L 0 -9\" fill=\"#ffffff\" style=\"stroke:rgb(255,255,255);stroke-width:2\" />  </svg></g><rect x=\"8.333333169436262%\" width=\"83.33333169436261%\" y=\"40\" height=\"18\" style=\"fill:rgb(0.0, 138.56128015770724, 250.76166088685727); stroke-width:0; stroke:rgb(0,0,0)\" /><line x1=\"8.333333169436262%\" x2=\"90.33131222498093%\" y1=\"60\" y2=\"60\" id=\"_fb_gxchazvnqiqmflqmevsb_ind_2\" style=\"stroke:rgb(0.0, 138.56128015770724, 250.76166088685727);stroke-width:2; opacity: 0\"/><text x=\"49.332322697208596%\" y=\"71\" font-size=\"12px\" fill=\"rgb(0.0, 138.56128015770724, 250.76166088685727)\" id=\"_fs_gxchazvnqiqmflqmevsb_ind_2\" style=\"opacity: 0\" dominant-baseline=\"middle\" text-anchor=\"middle\">-0.417</text><svg x=\"8.333333169436262%\" y=\"40\" height=\"20\" width=\"81.99797905554468%\">  <svg x=\"0\" y=\"0\" width=\"100%\" height=\"100%\">    <text x=\"50%\" y=\"9\" font-size=\"12px\" fill=\"rgb(255,255,255)\" dominant-baseline=\"middle\" text-anchor=\"middle\">day</text>  </svg></svg><line x1=\"90.33131222498093%\" x2=\"91.66666486379887%\" y1=\"60\" y2=\"60\" id=\"_fb_gxchazvnqiqmflqmevsb_ind_1\" style=\"stroke:rgb(0.0, 138.56128015770724, 250.76166088685727);stroke-width:2; opacity: 0\"/><text x=\"90.9989885443899%\" y=\"71\" font-size=\"12px\" fill=\"rgb(0.0, 138.56128015770724, 250.76166088685727)\" id=\"_fs_gxchazvnqiqmflqmevsb_ind_1\" style=\"opacity: 0\" dominant-baseline=\"middle\" text-anchor=\"middle\">-0.007</text><svg x=\"90.33131222498093%\" y=\"40\" height=\"20\" width=\"1.3353526388179375%\">  <svg x=\"0\" y=\"0\" width=\"100%\" height=\"100%\">    <text x=\"50%\" y=\"9\" font-size=\"12px\" fill=\"rgb(255,255,255)\" dominant-baseline=\"middle\" text-anchor=\"middle\">Great</text>  </svg></svg><g transform=\"translate(-8,0)\">  <svg x=\"90.33131222498093%\" y=\"40\" height=\"18\" overflow=\"visible\" width=\"30\">    <path d=\"M 8 -9 l -6 18 L 8 25\" fill=\"none\" style=\"stroke:rgb(0.0, 138.56128015770724, 250.76166088685727);stroke-width:2\" />  </svg></g><g transform=\"translate(-10,0)\">  <svg x=\"90.33131222498093%\" y=\"40\" height=\"18\" overflow=\"visible\" width=\"30\">    <path d=\"M 8 -9 l -6 18 L 8 25\" fill=\"none\" style=\"stroke:rgb(0.0, 138.56128015770724, 250.76166088685727);stroke-width:2\" />  </svg></g><g transform=\"translate(-12,0)\">  <svg x=\"90.33131222498093%\" y=\"40\" height=\"18\" overflow=\"visible\" width=\"30\">    <path d=\"M 8 -9 l -6 18 L 8 25\" fill=\"none\" style=\"stroke:rgb(0.0, 138.56128015770724, 250.76166088685727);stroke-width:2\" />  </svg></g><g transform=\"translate(-14,0)\">  <svg x=\"90.33131222498093%\" y=\"40\" height=\"18\" overflow=\"visible\" width=\"30\">    <path d=\"M 8 -9 l -6 18 L 8 25\" fill=\"none\" style=\"stroke:rgb(0.0, 138.56128015770724, 250.76166088685727);stroke-width:2\" />  </svg></g><g transform=\"translate(2,0)\">  <svg x=\"90.33131222498093%\" y=\"40\" height=\"18\" overflow=\"visible\" width=\"30\">    <path d=\"M 8 -9 l -6 18 L 8 25\" fill=\"none\" style=\"stroke:rgb(0.0, 138.56128015770724, 250.76166088685727);stroke-width:2\" />  </svg></g><g transform=\"translate(0,0)\">  <svg x=\"90.33131222498093%\" y=\"40\" height=\"18\" overflow=\"visible\" width=\"30\">    <path d=\"M 8 -9 l -6 18 L 8 25\" fill=\"none\" style=\"stroke:rgb(0.0, 138.56128015770724, 250.76166088685727);stroke-width:2\" />  </svg></g><g transform=\"translate(-2,0)\">  <svg x=\"90.33131222498093%\" y=\"40\" height=\"18\" overflow=\"visible\" width=\"30\">    <path d=\"M 8 -9 l -6 18 L 8 25\" fill=\"none\" style=\"stroke:rgb(0.0, 138.56128015770724, 250.76166088685727);stroke-width:2\" />  </svg></g><g transform=\"translate(-4,0)\">  <svg x=\"90.33131222498093%\" y=\"40\" height=\"18\" overflow=\"visible\" width=\"30\">    <path d=\"M 8 -9 l -6 18 L 8 25\" fill=\"none\" style=\"stroke:rgb(0.0, 138.56128015770724, 250.76166088685727);stroke-width:2\" />  </svg></g><rect transform=\"translate(0,0)\" x=\"8.333333169436262%\" y=\"40\" width=\"8\" height=\"18\" style=\"fill:rgb(0.0, 138.56128015770724, 250.76166088685727)\"/><g transform=\"translate(-6.0,0)\">  <svg x=\"91.66666486379887%\" y=\"40\" height=\"18\" overflow=\"visible\" width=\"30\">    <path d=\"M 8 -9 l -6 18 L 8 25 L 20 25 L 20 -9\" fill=\"#ffffff\" style=\"stroke:rgb(255,255,255);stroke-width:2\" />  </svg></g><g transform=\"translate(-6.0,0)\">  <svg x=\"90.33131222498093%\" y=\"40\" height=\"18\" overflow=\"visible\" width=\"30\">    <path d=\"M 8 -9 l -6 18 L 8 25\" fill=\"none\" style=\"stroke:rgb(208, 230, 250);stroke-width:2\" />  </svg></g><rect x=\"8.333333169436262%\" y=\"40\" height=\"20\" width=\"81.99797905554468%\"      onmouseover=\"document.getElementById('_tp_gxchazvnqiqmflqmevsb_ind_2').style.textDecoration = 'underline';document.getElementById('_fs_gxchazvnqiqmflqmevsb_ind_2').style.opacity = 1;document.getElementById('_fb_gxchazvnqiqmflqmevsb_ind_2').style.opacity = 1;\"      onmouseout=\"document.getElementById('_tp_gxchazvnqiqmflqmevsb_ind_2').style.textDecoration = 'none';document.getElementById('_fs_gxchazvnqiqmflqmevsb_ind_2').style.opacity = 0;document.getElementById('_fb_gxchazvnqiqmflqmevsb_ind_2').style.opacity = 0;\" style=\"fill:rgb(0,0,0,0)\" /><rect x=\"90.33131222498093%\" y=\"40\" height=\"20\" width=\"1.3353526388179375%\"      onmouseover=\"document.getElementById('_tp_gxchazvnqiqmflqmevsb_ind_1').style.textDecoration = 'underline';document.getElementById('_fs_gxchazvnqiqmflqmevsb_ind_1').style.opacity = 1;document.getElementById('_fb_gxchazvnqiqmflqmevsb_ind_1').style.opacity = 1;\"      onmouseout=\"document.getElementById('_tp_gxchazvnqiqmflqmevsb_ind_1').style.textDecoration = 'none';document.getElementById('_fs_gxchazvnqiqmflqmevsb_ind_1').style.opacity = 0;document.getElementById('_fb_gxchazvnqiqmflqmevsb_ind_1').style.opacity = 0;\" style=\"fill:rgb(0,0,0,0)\" /></svg><div align='center'><div style=\"color: rgb(120,120,120); font-size: 12px; margin-top: -15px;\">inputs</div><div style='display: inline; text-align: center;'\n",
              "    ><div style='display: none; color: #999; padding-top: 0px; font-size: 12px;'>0.0</div\n",
              "        ><div id='_tp_gxchazvnqiqmflqmevsb_ind_0'\n",
              "            style='display: inline; background: rgba(230.2941176470614, 26.505882352939775, 102.59215686274348, 0.0); border-radius: 3px; padding: 0px'\n",
              "            onclick=\"\n",
              "            if (this.previousSibling.style.display == 'none') {\n",
              "                this.previousSibling.style.display = 'block';\n",
              "                this.parentNode.style.display = 'inline-block';\n",
              "            } else {\n",
              "                this.previousSibling.style.display = 'none';\n",
              "                this.parentNode.style.display = 'inline';\n",
              "            }\"\n",
              "            onmouseover=\"document.getElementById('_fb_gxchazvnqiqmflqmevsb_ind_0').style.opacity = 1; document.getElementById('_fs_gxchazvnqiqmflqmevsb_ind_0').style.opacity = 1;\"\n",
              "            onmouseout=\"document.getElementById('_fb_gxchazvnqiqmflqmevsb_ind_0').style.opacity = 0; document.getElementById('_fs_gxchazvnqiqmflqmevsb_ind_0').style.opacity = 0;\"\n",
              "        ></div></div><div style='display: inline; text-align: center;'\n",
              "    ><div style='display: none; color: #999; padding-top: 0px; font-size: 12px;'>-0.007</div\n",
              "        ><div id='_tp_gxchazvnqiqmflqmevsb_ind_1'\n",
              "            style='display: inline; background: rgba(30.0, 136.0, 229.0, 0.014656367597544028); border-radius: 3px; padding: 0px'\n",
              "            onclick=\"\n",
              "            if (this.previousSibling.style.display == 'none') {\n",
              "                this.previousSibling.style.display = 'block';\n",
              "                this.parentNode.style.display = 'inline-block';\n",
              "            } else {\n",
              "                this.previousSibling.style.display = 'none';\n",
              "                this.parentNode.style.display = 'inline';\n",
              "            }\"\n",
              "            onmouseover=\"document.getElementById('_fb_gxchazvnqiqmflqmevsb_ind_1').style.opacity = 1; document.getElementById('_fs_gxchazvnqiqmflqmevsb_ind_1').style.opacity = 1;\"\n",
              "            onmouseout=\"document.getElementById('_fb_gxchazvnqiqmflqmevsb_ind_1').style.opacity = 0; document.getElementById('_fs_gxchazvnqiqmflqmevsb_ind_1').style.opacity = 0;\"\n",
              "        >Great </div></div><div style='display: inline; text-align: center;'\n",
              "    ><div style='display: none; color: #999; padding-top: 0px; font-size: 12px;'>-0.417</div\n",
              "        ><div id='_tp_gxchazvnqiqmflqmevsb_ind_2'\n",
              "            style='display: inline; background: rgba(30.0, 136.0, 229.0, 1.0); border-radius: 3px; padding: 0px'\n",
              "            onclick=\"\n",
              "            if (this.previousSibling.style.display == 'none') {\n",
              "                this.previousSibling.style.display = 'block';\n",
              "                this.parentNode.style.display = 'inline-block';\n",
              "            } else {\n",
              "                this.previousSibling.style.display = 'none';\n",
              "                this.parentNode.style.display = 'inline';\n",
              "            }\"\n",
              "            onmouseover=\"document.getElementById('_fb_gxchazvnqiqmflqmevsb_ind_2').style.opacity = 1; document.getElementById('_fs_gxchazvnqiqmflqmevsb_ind_2').style.opacity = 1;\"\n",
              "            onmouseout=\"document.getElementById('_fb_gxchazvnqiqmflqmevsb_ind_2').style.opacity = 0; document.getElementById('_fs_gxchazvnqiqmflqmevsb_ind_2').style.opacity = 0;\"\n",
              "        >day</div></div><div style='display: inline; text-align: center;'\n",
              "    ><div style='display: none; color: #999; padding-top: 0px; font-size: 12px;'>0.0</div\n",
              "        ><div id='_tp_gxchazvnqiqmflqmevsb_ind_3'\n",
              "            style='display: inline; background: rgba(230.2941176470614, 26.505882352939775, 102.59215686274348, 0.0); border-radius: 3px; padding: 0px'\n",
              "            onclick=\"\n",
              "            if (this.previousSibling.style.display == 'none') {\n",
              "                this.previousSibling.style.display = 'block';\n",
              "                this.parentNode.style.display = 'inline-block';\n",
              "            } else {\n",
              "                this.previousSibling.style.display = 'none';\n",
              "                this.parentNode.style.display = 'inline';\n",
              "            }\"\n",
              "            onmouseover=\"document.getElementById('_fb_gxchazvnqiqmflqmevsb_ind_3').style.opacity = 1; document.getElementById('_fs_gxchazvnqiqmflqmevsb_ind_3').style.opacity = 1;\"\n",
              "            onmouseout=\"document.getElementById('_fb_gxchazvnqiqmflqmevsb_ind_3').style.opacity = 0; document.getElementById('_fs_gxchazvnqiqmflqmevsb_ind_3').style.opacity = 0;\"\n",
              "        ></div></div></div>"
            ],
            "text/plain": [
              "<IPython.core.display.HTML object>"
            ]
          },
          "metadata": {},
          "output_type": "display_data"
        }
      ],
      "source": [
        "shap.plots.text(shap_values[0,:,\"LABEL_0\"])"
      ]
    },
    {
      "cell_type": "code",
      "execution_count": 83,
      "metadata": {},
      "outputs": [
        {
          "data": {
            "image/png": "[encoded data removed]",
            "text/plain": [
              "<Figure size 576x252 with 1 Axes>"
            ]
          },
          "metadata": {},
          "output_type": "display_data"
        }
      ],
      "source": [
        "shap.plots.bar(shap_values[0,:,\"LABEL_1\"],clustering_cutoff=0) # no clusters, just the tokens"
      ]
    },
    {
      "cell_type": "code",
      "execution_count": 84,
      "metadata": {},
      "outputs": [
        {
          "data": {
            "image/png": "[encoded data removed]",
            "text/plain": [
              "<Figure size 576x252 with 1 Axes>"
            ]
          },
          "metadata": {},
          "output_type": "display_data"
        }
      ],
      "source": [
        "shap.plots.bar(shap_values[0,:,\"LABEL_1\"],clustering_cutoff=0.3) "
      ]
    },
    {
      "cell_type": "code",
      "execution_count": 85,
      "metadata": {},
      "outputs": [
        {
          "data": {
            "image/png": "[encoded data removed]",
            "text/plain": [
              "<Figure size 576x252 with 1 Axes>"
            ]
          },
          "metadata": {},
          "output_type": "display_data"
        }
      ],
      "source": [
        "shap.plots.bar(shap_values[0,:,\"LABEL_1\"],clustering_cutoff=0.5) # some coalitions"
      ]
    },
    {
      "cell_type": "code",
      "execution_count": 86,
      "metadata": {},
      "outputs": [
        {
          "data": {
            "image/png": "[encoded data removed]",
            "text/plain": [
              "<Figure size 576x252 with 1 Axes>"
            ]
          },
          "metadata": {},
          "output_type": "display_data"
        }
      ],
      "source": [
        "shap.plots.bar(shap_values[0,:,\"LABEL_1\"],clustering_cutoff=0.7)"
      ]
    },
    {
      "cell_type": "markdown",
      "metadata": {},
      "source": [
        "### Case 4"
      ]
    },
    {
      "cell_type": "code",
      "execution_count": 87,
      "metadata": {},
      "outputs": [
        {
          "ename": "IndexError",
          "evalue": "index 3 is out of bounds for axis 0 with size 1",
          "output_type": "error",
          "traceback": [
            "\u001b[0;31m---------------------------------------------------------------------------\u001b[0m",
            "\u001b[0;31mIndexError\u001b[0m                                Traceback (most recent call last)",
            "\u001b[1;32m/Users/kittiha/Kandi/kandi/sentiment_explainability.ipynb Cell 80\u001b[0m in \u001b[0;36m<cell line: 1>\u001b[0;34m()\u001b[0m\n\u001b[0;32m----> <a href='vscode-notebook-cell:/Users/kittiha/Kandi/kandi/sentiment_explainability.ipynb#ch0000106?line=0'>1</a>\u001b[0m shap\u001b[39m.\u001b[39mplots\u001b[39m.\u001b[39mtext(shap_values[\u001b[39m3\u001b[39;49m,:,\u001b[39m\"\u001b[39;49m\u001b[39mLABEL_1\u001b[39;49m\u001b[39m\"\u001b[39;49m])\n",
            "File \u001b[0;32m/opt/homebrew/Caskroom/miniforge/base/lib/python3.9/site-packages/shap/_explanation.py:421\u001b[0m, in \u001b[0;36mExplanation.__getitem__\u001b[0;34m(self, item)\u001b[0m\n\u001b[1;32m    419\u001b[0m \u001b[39mif\u001b[39;00m new_self \u001b[39mis\u001b[39;00m \u001b[39mNone\u001b[39;00m:\n\u001b[1;32m    420\u001b[0m     new_self \u001b[39m=\u001b[39m copy\u001b[39m.\u001b[39mcopy(\u001b[39mself\u001b[39m)\n\u001b[0;32m--> 421\u001b[0m new_self\u001b[39m.\u001b[39m_s \u001b[39m=\u001b[39m new_self\u001b[39m.\u001b[39;49m_s\u001b[39m.\u001b[39;49m\u001b[39m__getitem__\u001b[39;49m(item)\n\u001b[1;32m    422\u001b[0m new_self\u001b[39m.\u001b[39mop_history\u001b[39m.\u001b[39mappend({\n\u001b[1;32m    423\u001b[0m     \u001b[39m\"\u001b[39m\u001b[39mname\u001b[39m\u001b[39m\"\u001b[39m: \u001b[39m\"\u001b[39m\u001b[39m__getitem__\u001b[39m\u001b[39m\"\u001b[39m,\n\u001b[1;32m    424\u001b[0m     \u001b[39m\"\u001b[39m\u001b[39margs\u001b[39m\u001b[39m\"\u001b[39m: (item,),\n\u001b[1;32m    425\u001b[0m     \u001b[39m\"\u001b[39m\u001b[39mprev_shape\u001b[39m\u001b[39m\"\u001b[39m: \u001b[39mself\u001b[39m\u001b[39m.\u001b[39mshape\n\u001b[1;32m    426\u001b[0m })\n\u001b[1;32m    428\u001b[0m \u001b[39mreturn\u001b[39;00m new_self\n",
            "File \u001b[0;32m/opt/homebrew/Caskroom/miniforge/base/lib/python3.9/site-packages/slicer/slicer.py:112\u001b[0m, in \u001b[0;36mSlicer.__getitem__\u001b[0;34m(self, item)\u001b[0m\n\u001b[1;32m    110\u001b[0m index_slicer \u001b[39m=\u001b[39m AtomicSlicer(index_tup, max_dim\u001b[39m=\u001b[39m\u001b[39m1\u001b[39m)\n\u001b[1;32m    111\u001b[0m slicer_index \u001b[39m=\u001b[39m index_slicer[tracked\u001b[39m.\u001b[39mdim]\n\u001b[0;32m--> 112\u001b[0m sliced_o \u001b[39m=\u001b[39m tracked[slicer_index]\n\u001b[1;32m    113\u001b[0m sliced_dim \u001b[39m=\u001b[39m resolve_dim(index_tup, tracked\u001b[39m.\u001b[39mdim)\n\u001b[1;32m    115\u001b[0m new_tracked \u001b[39m=\u001b[39m tracked\u001b[39m.\u001b[39m\u001b[39m__class__\u001b[39m(sliced_o, sliced_dim)\n",
            "File \u001b[0;32m/opt/homebrew/Caskroom/miniforge/base/lib/python3.9/site-packages/slicer/slicer_internal.py:69\u001b[0m, in \u001b[0;36mAtomicSlicer.__getitem__\u001b[0;34m(self, item)\u001b[0m\n\u001b[1;32m     66\u001b[0m index_tup \u001b[39m=\u001b[39m unify_slice(item, \u001b[39mself\u001b[39m\u001b[39m.\u001b[39mmax_dim)\n\u001b[1;32m     68\u001b[0m \u001b[39m# Slice according to object type.\u001b[39;00m\n\u001b[0;32m---> 69\u001b[0m \u001b[39mreturn\u001b[39;00m UnifiedDataHandler\u001b[39m.\u001b[39;49mslice(\u001b[39mself\u001b[39;49m\u001b[39m.\u001b[39;49mo, index_tup, \u001b[39mself\u001b[39;49m\u001b[39m.\u001b[39;49mmax_dim)\n",
            "File \u001b[0;32m/opt/homebrew/Caskroom/miniforge/base/lib/python3.9/site-packages/slicer/slicer_internal.py:582\u001b[0m, in \u001b[0;36mUnifiedDataHandler.slice\u001b[0;34m(cls, o, index_tup, max_dim)\u001b[0m\n\u001b[1;32m    579\u001b[0m head_slice \u001b[39m=\u001b[39m \u001b[39mcls\u001b[39m\u001b[39m.\u001b[39mtype_map[o_type]\u001b[39m.\u001b[39mhead_slice\n\u001b[1;32m    580\u001b[0m tail_slice \u001b[39m=\u001b[39m \u001b[39mcls\u001b[39m\u001b[39m.\u001b[39mtype_map[o_type]\u001b[39m.\u001b[39mtail_slice\n\u001b[0;32m--> 582\u001b[0m is_element, sliced_o, cut \u001b[39m=\u001b[39m head_slice(o, index_tup, max_dim)\n\u001b[1;32m    583\u001b[0m out \u001b[39m=\u001b[39m tail_slice(sliced_o, index_tup[cut:], max_dim \u001b[39m-\u001b[39m cut, is_element)\n\u001b[1;32m    584\u001b[0m \u001b[39mreturn\u001b[39;00m out\n",
            "File \u001b[0;32m/opt/homebrew/Caskroom/miniforge/base/lib/python3.9/site-packages/slicer/slicer_internal.py:418\u001b[0m, in \u001b[0;36mArrayHandler.head_slice\u001b[0;34m(cls, o, index_tup, max_dim)\u001b[0m\n\u001b[1;32m    416\u001b[0m cut_index \u001b[39m=\u001b[39m index_tup[:cut]\n\u001b[1;32m    417\u001b[0m is_element \u001b[39m=\u001b[39m \u001b[39many\u001b[39m([\u001b[39mTrue\u001b[39;00m \u001b[39mif\u001b[39;00m \u001b[39misinstance\u001b[39m(x, \u001b[39mint\u001b[39m) \u001b[39melse\u001b[39;00m \u001b[39mFalse\u001b[39;00m \u001b[39mfor\u001b[39;00m x \u001b[39min\u001b[39;00m cut_index])\n\u001b[0;32m--> 418\u001b[0m sliced_o \u001b[39m=\u001b[39m o[cut_index]\n\u001b[1;32m    420\u001b[0m \u001b[39mreturn\u001b[39;00m is_element, sliced_o, cut\n",
            "\u001b[0;31mIndexError\u001b[0m: index 3 is out of bounds for axis 0 with size 1"
          ]
        }
      ],
      "source": [
        "shap.plots.text(shap_values[3,:,\"LABEL_1\"])"
      ]
    },
    {
      "cell_type": "code",
      "execution_count": null,
      "metadata": {},
      "outputs": [
        {
          "data": {
            "text/html": [
              "<svg width=\"100%\" height=\"80px\"><line x1=\"0\" y1=\"33\" x2=\"100%\" y2=\"33\" style=\"stroke:rgb(150,150,150);stroke-width:1\" /><line x1=\"48.08004771625167%\" y1=\"33\" x2=\"48.08004771625167%\" y2=\"37\" style=\"stroke:rgb(150,150,150);stroke-width:1\" /><text x=\"48.08004771625167%\" y=\"27\" font-size=\"12px\" fill=\"rgb(120,120,120)\" dominant-baseline=\"bottom\" text-anchor=\"middle\">0.3</text><line x1=\"35.463368733286096%\" y1=\"33\" x2=\"35.463368733286096%\" y2=\"37\" style=\"stroke:rgb(150,150,150);stroke-width:1\" /><text x=\"35.463368733286096%\" y=\"27\" font-size=\"12px\" fill=\"rgb(120,120,120)\" dominant-baseline=\"bottom\" text-anchor=\"middle\">0</text><line x1=\"22.846689750320515%\" y1=\"33\" x2=\"22.846689750320515%\" y2=\"37\" style=\"stroke:rgb(150,150,150);stroke-width:1\" /><text x=\"22.846689750320515%\" y=\"27\" font-size=\"12px\" fill=\"rgb(120,120,120)\" dominant-baseline=\"bottom\" text-anchor=\"middle\">-0.3</text><line x1=\"10.23001076735495%\" y1=\"33\" x2=\"10.23001076735495%\" y2=\"37\" style=\"stroke:rgb(150,150,150);stroke-width:1\" /><text x=\"10.23001076735495%\" y=\"27\" font-size=\"12px\" fill=\"rgb(120,120,120)\" dominant-baseline=\"bottom\" text-anchor=\"middle\">-0.6</text><line x1=\"60.69672669921724%\" y1=\"33\" x2=\"60.69672669921724%\" y2=\"37\" style=\"stroke:rgb(150,150,150);stroke-width:1\" /><text x=\"60.69672669921724%\" y=\"27\" font-size=\"12px\" fill=\"rgb(120,120,120)\" dominant-baseline=\"bottom\" text-anchor=\"middle\">0.6</text><line x1=\"73.31340568218282%\" y1=\"33\" x2=\"73.31340568218282%\" y2=\"37\" style=\"stroke:rgb(150,150,150);stroke-width:1\" /><text x=\"73.31340568218282%\" y=\"27\" font-size=\"12px\" fill=\"rgb(120,120,120)\" dominant-baseline=\"bottom\" text-anchor=\"middle\">0.9</text><line x1=\"85.93008466514839%\" y1=\"33\" x2=\"85.93008466514839%\" y2=\"37\" style=\"stroke:rgb(150,150,150);stroke-width:1\" /><text x=\"85.93008466514839%\" y=\"27\" font-size=\"12px\" fill=\"rgb(120,120,120)\" dominant-baseline=\"bottom\" text-anchor=\"middle\">1.2</text><line x1=\"35.463368733286096%\" y1=\"33\" x2=\"35.463368733286096%\" y2=\"37\" style=\"stroke:rgb(150,150,150);stroke-width:1\" /><text x=\"35.463368733286096%\" y=\"27\" font-size=\"13px\" style=\"stroke:#ffffff;stroke-width:8px;\" fill=\"rgb(255,255,255)\" dominant-baseline=\"bottom\" text-anchor=\"middle\">0</text><text x=\"35.463368733286096%\" y=\"27\" font-size=\"12px\" fill=\"rgb(120,120,120)\" dominant-baseline=\"bottom\" text-anchor=\"middle\">0</text><text x=\"35.463368733286096%\" y=\"10\" font-size=\"12px\" fill=\"rgb(120,120,120)\" dominant-baseline=\"bottom\" text-anchor=\"middle\">base value</text><line x1=\"64.53663084615793%\" y1=\"33\" x2=\"64.53663084615793%\" y2=\"37\" style=\"stroke:rgb(150,150,150);stroke-width:1\" /><text x=\"64.53663084615793%\" y=\"27\" font-size=\"13px\" style=\"stroke:#ffffff;stroke-width:8px;\" font-weight=\"bold\" fill=\"rgb(255,255,255)\" dominant-baseline=\"bottom\" text-anchor=\"middle\">0.691305</text><text x=\"64.53663084615793%\" y=\"27\" font-size=\"13px\" font-weight=\"bold\" fill=\"rgb(0,0,0)\" dominant-baseline=\"bottom\" text-anchor=\"middle\">0.691305</text><text x=\"64.53663084615793%\" y=\"10\" font-size=\"12px\" fill=\"rgb(120,120,120)\" dominant-baseline=\"bottom\" text-anchor=\"middle\">f<tspan baseline-shift=\"sub\" font-size=\"8px\">LABEL_0</tspan>(inputs)</text><rect x=\"8.333333298287002%\" width=\"56.20329754787094%\" y=\"40\" height=\"18\" style=\"fill:rgb(255.0, 0.0, 81.08083606031792); stroke-width:0; stroke:rgb(0,0,0)\" /><line x1=\"34.247545495651075%\" x2=\"64.53663084615793%\" y1=\"60\" y2=\"60\" id=\"_fb_pmtdnpckuccwbuqzvtyo_ind_5\" style=\"stroke:rgb(255.0, 0.0, 81.08083606031792);stroke-width:2; opacity: 0\"/><text x=\"49.3920881709045%\" y=\"71\" font-size=\"12px\" id=\"_fs_pmtdnpckuccwbuqzvtyo_ind_5\" fill=\"rgb(255.0, 0.0, 81.08083606031792)\" style=\"opacity: 0\" dominant-baseline=\"middle\" text-anchor=\"middle\">0.72</text><svg x=\"34.247545495651075%\" y=\"40\" height=\"20\" width=\"30.28908535050686%\">  <svg x=\"0\" y=\"0\" width=\"100%\" height=\"100%\">    <text x=\"50%\" y=\"9\" font-size=\"12px\" fill=\"rgb(255,255,255)\" dominant-baseline=\"middle\" text-anchor=\"middle\">bad</text>  </svg></svg><line x1=\"26.715901376351166%\" x2=\"34.247545495651075%\" y1=\"60\" y2=\"60\" id=\"_fb_pmtdnpckuccwbuqzvtyo_ind_7\" style=\"stroke:rgb(255.0, 0.0, 81.08083606031792);stroke-width:2; opacity: 0\"/><text x=\"30.48172343600112%\" y=\"71\" font-size=\"12px\" id=\"_fs_pmtdnpckuccwbuqzvtyo_ind_7\" fill=\"rgb(255.0, 0.0, 81.08083606031792)\" style=\"opacity: 0\" dominant-baseline=\"middle\" text-anchor=\"middle\">0.179</text><svg x=\"26.715901376351166%\" y=\"40\" height=\"20\" width=\"7.531644119299909%\">  <svg x=\"0\" y=\"0\" width=\"100%\" height=\"100%\">    <text x=\"50%\" y=\"9\" font-size=\"12px\" fill=\"rgb(255,255,255)\" dominant-baseline=\"middle\" text-anchor=\"middle\">all</text>  </svg></svg><line x1=\"20.326528622649686%\" x2=\"26.715901376351166%\" y1=\"60\" y2=\"60\" id=\"_fb_pmtdnpckuccwbuqzvtyo_ind_6\" style=\"stroke:rgb(255.0, 0.0, 81.08083606031792);stroke-width:2; opacity: 0\"/><text x=\"23.521214999500426%\" y=\"71\" font-size=\"12px\" id=\"_fs_pmtdnpckuccwbuqzvtyo_ind_6\" fill=\"rgb(255.0, 0.0, 81.08083606031792)\" style=\"opacity: 0\" dominant-baseline=\"middle\" text-anchor=\"middle\">0.152</text><svg x=\"20.326528622649686%\" y=\"40\" height=\"20\" width=\"6.38937275370148%\">  <svg x=\"0\" y=\"0\" width=\"100%\" height=\"100%\">    <text x=\"50%\" y=\"9\" font-size=\"12px\" fill=\"rgb(255,255,255)\" dominant-baseline=\"middle\" text-anchor=\"middle\">at</text>  </svg></svg><line x1=\"16.174317570621064%\" x2=\"20.326528622649686%\" y1=\"60\" y2=\"60\" id=\"_fb_pmtdnpckuccwbuqzvtyo_ind_11\" style=\"stroke:rgb(255.0, 0.0, 81.08083606031792);stroke-width:2; opacity: 0\"/><text x=\"18.250423096635373%\" y=\"71\" font-size=\"12px\" id=\"_fs_pmtdnpckuccwbuqzvtyo_ind_11\" fill=\"rgb(255.0, 0.0, 81.08083606031792)\" style=\"opacity: 0\" dominant-baseline=\"middle\" text-anchor=\"middle\">0.099</text><svg x=\"16.174317570621064%\" y=\"40\" height=\"20\" width=\"4.152211052028623%\">  <svg x=\"0\" y=\"0\" width=\"100%\" height=\"100%\">    <text x=\"50%\" y=\"9\" font-size=\"12px\" fill=\"rgb(255,255,255)\" dominant-baseline=\"middle\" text-anchor=\"middle\">contrary</text>  </svg></svg><line x1=\"12.957300648194012%\" x2=\"16.174317570621064%\" y1=\"60\" y2=\"60\" id=\"_fb_pmtdnpckuccwbuqzvtyo_ind_2\" style=\"stroke:rgb(255.0, 0.0, 81.08083606031792);stroke-width:2; opacity: 0\"/><text x=\"14.565809109407539%\" y=\"71\" font-size=\"12px\" id=\"_fs_pmtdnpckuccwbuqzvtyo_ind_2\" fill=\"rgb(255.0, 0.0, 81.08083606031792)\" style=\"opacity: 0\" dominant-baseline=\"middle\" text-anchor=\"middle\">0.076</text><svg x=\"12.957300648194012%\" y=\"40\" height=\"20\" width=\"3.2170169224270513%\">  <svg x=\"0\" y=\"0\" width=\"100%\" height=\"100%\">    <text x=\"50%\" y=\"9\" font-size=\"12px\" fill=\"rgb(255,255,255)\" dominant-baseline=\"middle\" text-anchor=\"middle\">movie</text>  </svg></svg><line x1=\"10.10976401558305%\" x2=\"12.957300648194012%\" y1=\"60\" y2=\"60\" id=\"_fb_pmtdnpckuccwbuqzvtyo_ind_8\" style=\"stroke:rgb(255.0, 0.0, 81.08083606031792);stroke-width:2; opacity: 0\"/><text x=\"11.53353233188853%\" y=\"71\" font-size=\"12px\" id=\"_fs_pmtdnpckuccwbuqzvtyo_ind_8\" fill=\"rgb(255.0, 0.0, 81.08083606031792)\" style=\"opacity: 0\" dominant-baseline=\"middle\" text-anchor=\"middle\">0.068</text><svg x=\"10.10976401558305%\" y=\"40\" height=\"20\" width=\"2.8475366326109626%\">  <svg x=\"0\" y=\"0\" width=\"100%\" height=\"100%\">    <text x=\"50%\" y=\"9\" font-size=\"12px\" fill=\"rgb(255,255,255)\" dominant-baseline=\"middle\" text-anchor=\"middle\">.</text>  </svg></svg><line x1=\"8.960498024182721%\" x2=\"10.10976401558305%\" y1=\"60\" y2=\"60\" id=\"_fb_pmtdnpckuccwbuqzvtyo_ind_15\" style=\"stroke:rgb(255.0, 0.0, 81.08083606031792);stroke-width:2; opacity: 0\"/><text x=\"9.535131019882886%\" y=\"71\" font-size=\"12px\" id=\"_fs_pmtdnpckuccwbuqzvtyo_ind_15\" fill=\"rgb(255.0, 0.0, 81.08083606031792)\" style=\"opacity: 0\" dominant-baseline=\"middle\" text-anchor=\"middle\">0.027</text><svg x=\"8.960498024182721%\" y=\"40\" height=\"20\" width=\"1.1492659914003287%\">  <svg x=\"0\" y=\"0\" width=\"100%\" height=\"100%\">    <text x=\"50%\" y=\"9\" font-size=\"12px\" fill=\"rgb(255,255,255)\" dominant-baseline=\"middle\" text-anchor=\"middle\">.</text>  </svg></svg><line x1=\"8.333333298287002%\" x2=\"8.960498024182721%\" y1=\"60\" y2=\"60\" id=\"_fb_pmtdnpckuccwbuqzvtyo_ind_9\" style=\"stroke:rgb(255.0, 0.0, 81.08083606031792);stroke-width:2; opacity: 0\"/><text x=\"8.64691566123486%\" y=\"71\" font-size=\"12px\" id=\"_fs_pmtdnpckuccwbuqzvtyo_ind_9\" fill=\"rgb(255.0, 0.0, 81.08083606031792)\" style=\"opacity: 0\" dominant-baseline=\"middle\" text-anchor=\"middle\">0.015</text><svg x=\"8.333333298287002%\" y=\"40\" height=\"20\" width=\"0.6271647258957191%\">  <svg x=\"0\" y=\"0\" width=\"100%\" height=\"100%\">    <text x=\"50%\" y=\"9\" font-size=\"12px\" fill=\"rgb(255,255,255)\" dominant-baseline=\"middle\" text-anchor=\"middle\">On</text>  </svg></svg><g transform=\"translate(0,0)\">  <svg x=\"34.247545495651075%\" y=\"40\" height=\"18\" overflow=\"visible\" width=\"30\">    <path d=\"M 0 -9 l 6 18 L 0 25\" fill=\"none\" style=\"stroke:rgb(255.0, 0.0, 81.08083606031792);stroke-width:2\" />  </svg></g><g transform=\"translate(2,0)\">  <svg x=\"34.247545495651075%\" y=\"40\" height=\"18\" overflow=\"visible\" width=\"30\">    <path d=\"M 0 -9 l 6 18 L 0 25\" fill=\"none\" style=\"stroke:rgb(255.0, 0.0, 81.08083606031792);stroke-width:2\" />  </svg></g><g transform=\"translate(4,0)\">  <svg x=\"34.247545495651075%\" y=\"40\" height=\"18\" overflow=\"visible\" width=\"30\">    <path d=\"M 0 -9 l 6 18 L 0 25\" fill=\"none\" style=\"stroke:rgb(255.0, 0.0, 81.08083606031792);stroke-width:2\" />  </svg></g><g transform=\"translate(6,0)\">  <svg x=\"34.247545495651075%\" y=\"40\" height=\"18\" overflow=\"visible\" width=\"30\">    <path d=\"M 0 -9 l 6 18 L 0 25\" fill=\"none\" style=\"stroke:rgb(255.0, 0.0, 81.08083606031792);stroke-width:2\" />  </svg></g><g transform=\"translate(-8,0)\">  <svg x=\"34.247545495651075%\" y=\"40\" height=\"18\" overflow=\"visible\" width=\"30\">    <path d=\"M 0 -9 l 6 18 L 0 25\" fill=\"none\" style=\"stroke:rgb(255.0, 0.0, 81.08083606031792);stroke-width:2\" />  </svg></g><g transform=\"translate(-6,0)\">  <svg x=\"34.247545495651075%\" y=\"40\" height=\"18\" overflow=\"visible\" width=\"30\">    <path d=\"M 0 -9 l 6 18 L 0 25\" fill=\"none\" style=\"stroke:rgb(255.0, 0.0, 81.08083606031792);stroke-width:2\" />  </svg></g><g transform=\"translate(-4,0)\">  <svg x=\"34.247545495651075%\" y=\"40\" height=\"18\" overflow=\"visible\" width=\"30\">    <path d=\"M 0 -9 l 6 18 L 0 25\" fill=\"none\" style=\"stroke:rgb(255.0, 0.0, 81.08083606031792);stroke-width:2\" />  </svg></g><g transform=\"translate(-2,0)\">  <svg x=\"34.247545495651075%\" y=\"40\" height=\"18\" overflow=\"visible\" width=\"30\">    <path d=\"M 0 -9 l 6 18 L 0 25\" fill=\"none\" style=\"stroke:rgb(255.0, 0.0, 81.08083606031792);stroke-width:2\" />  </svg></g><g transform=\"translate(0,0)\">  <svg x=\"26.715901376351166%\" y=\"40\" height=\"18\" overflow=\"visible\" width=\"30\">    <path d=\"M 0 -9 l 6 18 L 0 25\" fill=\"none\" style=\"stroke:rgb(255.0, 0.0, 81.08083606031792);stroke-width:2\" />  </svg></g><g transform=\"translate(2,0)\">  <svg x=\"26.715901376351166%\" y=\"40\" height=\"18\" overflow=\"visible\" width=\"30\">    <path d=\"M 0 -9 l 6 18 L 0 25\" fill=\"none\" style=\"stroke:rgb(255.0, 0.0, 81.08083606031792);stroke-width:2\" />  </svg></g><g transform=\"translate(4,0)\">  <svg x=\"26.715901376351166%\" y=\"40\" height=\"18\" overflow=\"visible\" width=\"30\">    <path d=\"M 0 -9 l 6 18 L 0 25\" fill=\"none\" style=\"stroke:rgb(255.0, 0.0, 81.08083606031792);stroke-width:2\" />  </svg></g><g transform=\"translate(6,0)\">  <svg x=\"26.715901376351166%\" y=\"40\" height=\"18\" overflow=\"visible\" width=\"30\">    <path d=\"M 0 -9 l 6 18 L 0 25\" fill=\"none\" style=\"stroke:rgb(255.0, 0.0, 81.08083606031792);stroke-width:2\" />  </svg></g><g transform=\"translate(-8,0)\">  <svg x=\"26.715901376351166%\" y=\"40\" height=\"18\" overflow=\"visible\" width=\"30\">    <path d=\"M 0 -9 l 6 18 L 0 25\" fill=\"none\" style=\"stroke:rgb(255.0, 0.0, 81.08083606031792);stroke-width:2\" />  </svg></g><g transform=\"translate(-6,0)\">  <svg x=\"26.715901376351166%\" y=\"40\" height=\"18\" overflow=\"visible\" width=\"30\">    <path d=\"M 0 -9 l 6 18 L 0 25\" fill=\"none\" style=\"stroke:rgb(255.0, 0.0, 81.08083606031792);stroke-width:2\" />  </svg></g><g transform=\"translate(-4,0)\">  <svg x=\"26.715901376351166%\" y=\"40\" height=\"18\" overflow=\"visible\" width=\"30\">    <path d=\"M 0 -9 l 6 18 L 0 25\" fill=\"none\" style=\"stroke:rgb(255.0, 0.0, 81.08083606031792);stroke-width:2\" />  </svg></g><g transform=\"translate(-2,0)\">  <svg x=\"26.715901376351166%\" y=\"40\" height=\"18\" overflow=\"visible\" width=\"30\">    <path d=\"M 0 -9 l 6 18 L 0 25\" fill=\"none\" style=\"stroke:rgb(255.0, 0.0, 81.08083606031792);stroke-width:2\" />  </svg></g><g transform=\"translate(0,0)\">  <svg x=\"20.326528622649686%\" y=\"40\" height=\"18\" overflow=\"visible\" width=\"30\">    <path d=\"M 0 -9 l 6 18 L 0 25\" fill=\"none\" style=\"stroke:rgb(255.0, 0.0, 81.08083606031792);stroke-width:2\" />  </svg></g><g transform=\"translate(2,0)\">  <svg x=\"20.326528622649686%\" y=\"40\" height=\"18\" overflow=\"visible\" width=\"30\">    <path d=\"M 0 -9 l 6 18 L 0 25\" fill=\"none\" style=\"stroke:rgb(255.0, 0.0, 81.08083606031792);stroke-width:2\" />  </svg></g><g transform=\"translate(4,0)\">  <svg x=\"20.326528622649686%\" y=\"40\" height=\"18\" overflow=\"visible\" width=\"30\">    <path d=\"M 0 -9 l 6 18 L 0 25\" fill=\"none\" style=\"stroke:rgb(255.0, 0.0, 81.08083606031792);stroke-width:2\" />  </svg></g><g transform=\"translate(6,0)\">  <svg x=\"20.326528622649686%\" y=\"40\" height=\"18\" overflow=\"visible\" width=\"30\">    <path d=\"M 0 -9 l 6 18 L 0 25\" fill=\"none\" style=\"stroke:rgb(255.0, 0.0, 81.08083606031792);stroke-width:2\" />  </svg></g><g transform=\"translate(-8,0)\">  <svg x=\"20.326528622649686%\" y=\"40\" height=\"18\" overflow=\"visible\" width=\"30\">    <path d=\"M 0 -9 l 6 18 L 0 25\" fill=\"none\" style=\"stroke:rgb(255.0, 0.0, 81.08083606031792);stroke-width:2\" />  </svg></g><g transform=\"translate(-6,0)\">  <svg x=\"20.326528622649686%\" y=\"40\" height=\"18\" overflow=\"visible\" width=\"30\">    <path d=\"M 0 -9 l 6 18 L 0 25\" fill=\"none\" style=\"stroke:rgb(255.0, 0.0, 81.08083606031792);stroke-width:2\" />  </svg></g><g transform=\"translate(-4,0)\">  <svg x=\"20.326528622649686%\" y=\"40\" height=\"18\" overflow=\"visible\" width=\"30\">    <path d=\"M 0 -9 l 6 18 L 0 25\" fill=\"none\" style=\"stroke:rgb(255.0, 0.0, 81.08083606031792);stroke-width:2\" />  </svg></g><g transform=\"translate(-2,0)\">  <svg x=\"20.326528622649686%\" y=\"40\" height=\"18\" overflow=\"visible\" width=\"30\">    <path d=\"M 0 -9 l 6 18 L 0 25\" fill=\"none\" style=\"stroke:rgb(255.0, 0.0, 81.08083606031792);stroke-width:2\" />  </svg></g><g transform=\"translate(0,0)\">  <svg x=\"16.174317570621064%\" y=\"40\" height=\"18\" overflow=\"visible\" width=\"30\">    <path d=\"M 0 -9 l 6 18 L 0 25\" fill=\"none\" style=\"stroke:rgb(255.0, 0.0, 81.08083606031792);stroke-width:2\" />  </svg></g><g transform=\"translate(2,0)\">  <svg x=\"16.174317570621064%\" y=\"40\" height=\"18\" overflow=\"visible\" width=\"30\">    <path d=\"M 0 -9 l 6 18 L 0 25\" fill=\"none\" style=\"stroke:rgb(255.0, 0.0, 81.08083606031792);stroke-width:2\" />  </svg></g><g transform=\"translate(4,0)\">  <svg x=\"16.174317570621064%\" y=\"40\" height=\"18\" overflow=\"visible\" width=\"30\">    <path d=\"M 0 -9 l 6 18 L 0 25\" fill=\"none\" style=\"stroke:rgb(255.0, 0.0, 81.08083606031792);stroke-width:2\" />  </svg></g><g transform=\"translate(6,0)\">  <svg x=\"16.174317570621064%\" y=\"40\" height=\"18\" overflow=\"visible\" width=\"30\">    <path d=\"M 0 -9 l 6 18 L 0 25\" fill=\"none\" style=\"stroke:rgb(255.0, 0.0, 81.08083606031792);stroke-width:2\" />  </svg></g><g transform=\"translate(-8,0)\">  <svg x=\"16.174317570621064%\" y=\"40\" height=\"18\" overflow=\"visible\" width=\"30\">    <path d=\"M 0 -9 l 6 18 L 0 25\" fill=\"none\" style=\"stroke:rgb(255.0, 0.0, 81.08083606031792);stroke-width:2\" />  </svg></g><g transform=\"translate(-6,0)\">  <svg x=\"16.174317570621064%\" y=\"40\" height=\"18\" overflow=\"visible\" width=\"30\">    <path d=\"M 0 -9 l 6 18 L 0 25\" fill=\"none\" style=\"stroke:rgb(255.0, 0.0, 81.08083606031792);stroke-width:2\" />  </svg></g><g transform=\"translate(-4,0)\">  <svg x=\"16.174317570621064%\" y=\"40\" height=\"18\" overflow=\"visible\" width=\"30\">    <path d=\"M 0 -9 l 6 18 L 0 25\" fill=\"none\" style=\"stroke:rgb(255.0, 0.0, 81.08083606031792);stroke-width:2\" />  </svg></g><g transform=\"translate(-2,0)\">  <svg x=\"16.174317570621064%\" y=\"40\" height=\"18\" overflow=\"visible\" width=\"30\">    <path d=\"M 0 -9 l 6 18 L 0 25\" fill=\"none\" style=\"stroke:rgb(255.0, 0.0, 81.08083606031792);stroke-width:2\" />  </svg></g><g transform=\"translate(0,0)\">  <svg x=\"12.957300648194012%\" y=\"40\" height=\"18\" overflow=\"visible\" width=\"30\">    <path d=\"M 0 -9 l 6 18 L 0 25\" fill=\"none\" style=\"stroke:rgb(255.0, 0.0, 81.08083606031792);stroke-width:2\" />  </svg></g><g transform=\"translate(2,0)\">  <svg x=\"12.957300648194012%\" y=\"40\" height=\"18\" overflow=\"visible\" width=\"30\">    <path d=\"M 0 -9 l 6 18 L 0 25\" fill=\"none\" style=\"stroke:rgb(255.0, 0.0, 81.08083606031792);stroke-width:2\" />  </svg></g><g transform=\"translate(4,0)\">  <svg x=\"12.957300648194012%\" y=\"40\" height=\"18\" overflow=\"visible\" width=\"30\">    <path d=\"M 0 -9 l 6 18 L 0 25\" fill=\"none\" style=\"stroke:rgb(255.0, 0.0, 81.08083606031792);stroke-width:2\" />  </svg></g><g transform=\"translate(6,0)\">  <svg x=\"12.957300648194012%\" y=\"40\" height=\"18\" overflow=\"visible\" width=\"30\">    <path d=\"M 0 -9 l 6 18 L 0 25\" fill=\"none\" style=\"stroke:rgb(255.0, 0.0, 81.08083606031792);stroke-width:2\" />  </svg></g><g transform=\"translate(-8,0)\">  <svg x=\"12.957300648194012%\" y=\"40\" height=\"18\" overflow=\"visible\" width=\"30\">    <path d=\"M 0 -9 l 6 18 L 0 25\" fill=\"none\" style=\"stroke:rgb(255.0, 0.0, 81.08083606031792);stroke-width:2\" />  </svg></g><g transform=\"translate(-6,0)\">  <svg x=\"12.957300648194012%\" y=\"40\" height=\"18\" overflow=\"visible\" width=\"30\">    <path d=\"M 0 -9 l 6 18 L 0 25\" fill=\"none\" style=\"stroke:rgb(255.0, 0.0, 81.08083606031792);stroke-width:2\" />  </svg></g><g transform=\"translate(-4,0)\">  <svg x=\"12.957300648194012%\" y=\"40\" height=\"18\" overflow=\"visible\" width=\"30\">    <path d=\"M 0 -9 l 6 18 L 0 25\" fill=\"none\" style=\"stroke:rgb(255.0, 0.0, 81.08083606031792);stroke-width:2\" />  </svg></g><g transform=\"translate(-2,0)\">  <svg x=\"12.957300648194012%\" y=\"40\" height=\"18\" overflow=\"visible\" width=\"30\">    <path d=\"M 0 -9 l 6 18 L 0 25\" fill=\"none\" style=\"stroke:rgb(255.0, 0.0, 81.08083606031792);stroke-width:2\" />  </svg></g><g transform=\"translate(0,0)\">  <svg x=\"10.10976401558305%\" y=\"40\" height=\"18\" overflow=\"visible\" width=\"30\">    <path d=\"M 0 -9 l 6 18 L 0 25\" fill=\"none\" style=\"stroke:rgb(255.0, 0.0, 81.08083606031792);stroke-width:2\" />  </svg></g><g transform=\"translate(2,0)\">  <svg x=\"10.10976401558305%\" y=\"40\" height=\"18\" overflow=\"visible\" width=\"30\">    <path d=\"M 0 -9 l 6 18 L 0 25\" fill=\"none\" style=\"stroke:rgb(255.0, 0.0, 81.08083606031792);stroke-width:2\" />  </svg></g><g transform=\"translate(4,0)\">  <svg x=\"10.10976401558305%\" y=\"40\" height=\"18\" overflow=\"visible\" width=\"30\">    <path d=\"M 0 -9 l 6 18 L 0 25\" fill=\"none\" style=\"stroke:rgb(255.0, 0.0, 81.08083606031792);stroke-width:2\" />  </svg></g><g transform=\"translate(6,0)\">  <svg x=\"10.10976401558305%\" y=\"40\" height=\"18\" overflow=\"visible\" width=\"30\">    <path d=\"M 0 -9 l 6 18 L 0 25\" fill=\"none\" style=\"stroke:rgb(255.0, 0.0, 81.08083606031792);stroke-width:2\" />  </svg></g><g transform=\"translate(-8,0)\">  <svg x=\"10.10976401558305%\" y=\"40\" height=\"18\" overflow=\"visible\" width=\"30\">    <path d=\"M 0 -9 l 6 18 L 0 25\" fill=\"none\" style=\"stroke:rgb(255.0, 0.0, 81.08083606031792);stroke-width:2\" />  </svg></g><g transform=\"translate(-6,0)\">  <svg x=\"10.10976401558305%\" y=\"40\" height=\"18\" overflow=\"visible\" width=\"30\">    <path d=\"M 0 -9 l 6 18 L 0 25\" fill=\"none\" style=\"stroke:rgb(255.0, 0.0, 81.08083606031792);stroke-width:2\" />  </svg></g><g transform=\"translate(-4,0)\">  <svg x=\"10.10976401558305%\" y=\"40\" height=\"18\" overflow=\"visible\" width=\"30\">    <path d=\"M 0 -9 l 6 18 L 0 25\" fill=\"none\" style=\"stroke:rgb(255.0, 0.0, 81.08083606031792);stroke-width:2\" />  </svg></g><g transform=\"translate(-2,0)\">  <svg x=\"10.10976401558305%\" y=\"40\" height=\"18\" overflow=\"visible\" width=\"30\">    <path d=\"M 0 -9 l 6 18 L 0 25\" fill=\"none\" style=\"stroke:rgb(255.0, 0.0, 81.08083606031792);stroke-width:2\" />  </svg></g><g transform=\"translate(0,0)\">  <svg x=\"8.960498024182721%\" y=\"40\" height=\"18\" overflow=\"visible\" width=\"30\">    <path d=\"M 0 -9 l 6 18 L 0 25\" fill=\"none\" style=\"stroke:rgb(255.0, 0.0, 81.08083606031792);stroke-width:2\" />  </svg></g><g transform=\"translate(2,0)\">  <svg x=\"8.960498024182721%\" y=\"40\" height=\"18\" overflow=\"visible\" width=\"30\">    <path d=\"M 0 -9 l 6 18 L 0 25\" fill=\"none\" style=\"stroke:rgb(255.0, 0.0, 81.08083606031792);stroke-width:2\" />  </svg></g><g transform=\"translate(4,0)\">  <svg x=\"8.960498024182721%\" y=\"40\" height=\"18\" overflow=\"visible\" width=\"30\">    <path d=\"M 0 -9 l 6 18 L 0 25\" fill=\"none\" style=\"stroke:rgb(255.0, 0.0, 81.08083606031792);stroke-width:2\" />  </svg></g><g transform=\"translate(6,0)\">  <svg x=\"8.960498024182721%\" y=\"40\" height=\"18\" overflow=\"visible\" width=\"30\">    <path d=\"M 0 -9 l 6 18 L 0 25\" fill=\"none\" style=\"stroke:rgb(255.0, 0.0, 81.08083606031792);stroke-width:2\" />  </svg></g><g transform=\"translate(-8,0)\">  <svg x=\"8.960498024182721%\" y=\"40\" height=\"18\" overflow=\"visible\" width=\"30\">    <path d=\"M 0 -9 l 6 18 L 0 25\" fill=\"none\" style=\"stroke:rgb(255.0, 0.0, 81.08083606031792);stroke-width:2\" />  </svg></g><g transform=\"translate(-6,0)\">  <svg x=\"8.960498024182721%\" y=\"40\" height=\"18\" overflow=\"visible\" width=\"30\">    <path d=\"M 0 -9 l 6 18 L 0 25\" fill=\"none\" style=\"stroke:rgb(255.0, 0.0, 81.08083606031792);stroke-width:2\" />  </svg></g><g transform=\"translate(-4,0)\">  <svg x=\"8.960498024182721%\" y=\"40\" height=\"18\" overflow=\"visible\" width=\"30\">    <path d=\"M 0 -9 l 6 18 L 0 25\" fill=\"none\" style=\"stroke:rgb(255.0, 0.0, 81.08083606031792);stroke-width:2\" />  </svg></g><g transform=\"translate(-2,0)\">  <svg x=\"8.960498024182721%\" y=\"40\" height=\"18\" overflow=\"visible\" width=\"30\">    <path d=\"M 0 -9 l 6 18 L 0 25\" fill=\"none\" style=\"stroke:rgb(255.0, 0.0, 81.08083606031792);stroke-width:2\" />  </svg></g><rect transform=\"translate(-8,0)\" x=\"64.53663084615793%\" y=\"40\" width=\"8\" height=\"18\" style=\"fill:rgb(255.0, 0.0, 81.08083606031792)\"/><g transform=\"translate(-11.5,0)\">  <svg x=\"8.333333298287002%\" y=\"40\" height=\"18\" overflow=\"visible\" width=\"30\">    <path d=\"M 10 -9 l 6 18 L 10 25 L 0 25 L 0 -9\" fill=\"#ffffff\" style=\"stroke:rgb(255,255,255);stroke-width:2\" />  </svg></g><g transform=\"translate(-1.5,0)\">  <svg x=\"64.53663084615793%\" y=\"40\" height=\"18\" overflow=\"visible\" width=\"30\">    <path d=\"M 0 -9 l 6 18 L 0 25\" fill=\"none\" style=\"stroke:rgb(255, 195, 213);stroke-width:2\" />  </svg></g><rect x=\"34.247545495651075%\" y=\"40\" height=\"20\" width=\"30.28908535050686%\"      onmouseover=\"document.getElementById('_tp_pmtdnpckuccwbuqzvtyo_ind_5').style.textDecoration = 'underline';document.getElementById('_fs_pmtdnpckuccwbuqzvtyo_ind_5').style.opacity = 1;document.getElementById('_fb_pmtdnpckuccwbuqzvtyo_ind_5').style.opacity = 1;\"      onmouseout=\"document.getElementById('_tp_pmtdnpckuccwbuqzvtyo_ind_5').style.textDecoration = 'none';document.getElementById('_fs_pmtdnpckuccwbuqzvtyo_ind_5').style.opacity = 0;document.getElementById('_fb_pmtdnpckuccwbuqzvtyo_ind_5').style.opacity = 0;\" style=\"fill:rgb(0,0,0,0)\" /><g transform=\"translate(-1.5,0)\">  <svg x=\"34.247545495651075%\" y=\"40\" height=\"18\" overflow=\"visible\" width=\"30\">    <path d=\"M 0 -9 l 6 18 L 0 25\" fill=\"none\" style=\"stroke:rgb(255, 195, 213);stroke-width:2\" />  </svg></g><rect x=\"26.715901376351166%\" y=\"40\" height=\"20\" width=\"7.531644119299909%\"      onmouseover=\"document.getElementById('_tp_pmtdnpckuccwbuqzvtyo_ind_7').style.textDecoration = 'underline';document.getElementById('_fs_pmtdnpckuccwbuqzvtyo_ind_7').style.opacity = 1;document.getElementById('_fb_pmtdnpckuccwbuqzvtyo_ind_7').style.opacity = 1;\"      onmouseout=\"document.getElementById('_tp_pmtdnpckuccwbuqzvtyo_ind_7').style.textDecoration = 'none';document.getElementById('_fs_pmtdnpckuccwbuqzvtyo_ind_7').style.opacity = 0;document.getElementById('_fb_pmtdnpckuccwbuqzvtyo_ind_7').style.opacity = 0;\" style=\"fill:rgb(0,0,0,0)\" /><g transform=\"translate(-1.5,0)\">  <svg x=\"26.715901376351166%\" y=\"40\" height=\"18\" overflow=\"visible\" width=\"30\">    <path d=\"M 0 -9 l 6 18 L 0 25\" fill=\"none\" style=\"stroke:rgb(255, 195, 213);stroke-width:2\" />  </svg></g><rect x=\"20.326528622649686%\" y=\"40\" height=\"20\" width=\"6.38937275370148%\"      onmouseover=\"document.getElementById('_tp_pmtdnpckuccwbuqzvtyo_ind_6').style.textDecoration = 'underline';document.getElementById('_fs_pmtdnpckuccwbuqzvtyo_ind_6').style.opacity = 1;document.getElementById('_fb_pmtdnpckuccwbuqzvtyo_ind_6').style.opacity = 1;\"      onmouseout=\"document.getElementById('_tp_pmtdnpckuccwbuqzvtyo_ind_6').style.textDecoration = 'none';document.getElementById('_fs_pmtdnpckuccwbuqzvtyo_ind_6').style.opacity = 0;document.getElementById('_fb_pmtdnpckuccwbuqzvtyo_ind_6').style.opacity = 0;\" style=\"fill:rgb(0,0,0,0)\" /><g transform=\"translate(-1.5,0)\">  <svg x=\"20.326528622649686%\" y=\"40\" height=\"18\" overflow=\"visible\" width=\"30\">    <path d=\"M 0 -9 l 6 18 L 0 25\" fill=\"none\" style=\"stroke:rgb(255, 195, 213);stroke-width:2\" />  </svg></g><rect x=\"16.174317570621064%\" y=\"40\" height=\"20\" width=\"4.152211052028623%\"      onmouseover=\"document.getElementById('_tp_pmtdnpckuccwbuqzvtyo_ind_11').style.textDecoration = 'underline';document.getElementById('_fs_pmtdnpckuccwbuqzvtyo_ind_11').style.opacity = 1;document.getElementById('_fb_pmtdnpckuccwbuqzvtyo_ind_11').style.opacity = 1;\"      onmouseout=\"document.getElementById('_tp_pmtdnpckuccwbuqzvtyo_ind_11').style.textDecoration = 'none';document.getElementById('_fs_pmtdnpckuccwbuqzvtyo_ind_11').style.opacity = 0;document.getElementById('_fb_pmtdnpckuccwbuqzvtyo_ind_11').style.opacity = 0;\" style=\"fill:rgb(0,0,0,0)\" /><g transform=\"translate(-1.5,0)\">  <svg x=\"16.174317570621064%\" y=\"40\" height=\"18\" overflow=\"visible\" width=\"30\">    <path d=\"M 0 -9 l 6 18 L 0 25\" fill=\"none\" style=\"stroke:rgb(255, 195, 213);stroke-width:2\" />  </svg></g><rect x=\"12.957300648194012%\" y=\"40\" height=\"20\" width=\"3.2170169224270513%\"      onmouseover=\"document.getElementById('_tp_pmtdnpckuccwbuqzvtyo_ind_2').style.textDecoration = 'underline';document.getElementById('_fs_pmtdnpckuccwbuqzvtyo_ind_2').style.opacity = 1;document.getElementById('_fb_pmtdnpckuccwbuqzvtyo_ind_2').style.opacity = 1;\"      onmouseout=\"document.getElementById('_tp_pmtdnpckuccwbuqzvtyo_ind_2').style.textDecoration = 'none';document.getElementById('_fs_pmtdnpckuccwbuqzvtyo_ind_2').style.opacity = 0;document.getElementById('_fb_pmtdnpckuccwbuqzvtyo_ind_2').style.opacity = 0;\" style=\"fill:rgb(0,0,0,0)\" /><g transform=\"translate(-1.5,0)\">  <svg x=\"12.957300648194012%\" y=\"40\" height=\"18\" overflow=\"visible\" width=\"30\">    <path d=\"M 0 -9 l 6 18 L 0 25\" fill=\"none\" style=\"stroke:rgb(255, 195, 213);stroke-width:2\" />  </svg></g><rect x=\"10.10976401558305%\" y=\"40\" height=\"20\" width=\"2.8475366326109626%\"      onmouseover=\"document.getElementById('_tp_pmtdnpckuccwbuqzvtyo_ind_8').style.textDecoration = 'underline';document.getElementById('_fs_pmtdnpckuccwbuqzvtyo_ind_8').style.opacity = 1;document.getElementById('_fb_pmtdnpckuccwbuqzvtyo_ind_8').style.opacity = 1;\"      onmouseout=\"document.getElementById('_tp_pmtdnpckuccwbuqzvtyo_ind_8').style.textDecoration = 'none';document.getElementById('_fs_pmtdnpckuccwbuqzvtyo_ind_8').style.opacity = 0;document.getElementById('_fb_pmtdnpckuccwbuqzvtyo_ind_8').style.opacity = 0;\" style=\"fill:rgb(0,0,0,0)\" /><g transform=\"translate(-1.5,0)\">  <svg x=\"10.10976401558305%\" y=\"40\" height=\"18\" overflow=\"visible\" width=\"30\">    <path d=\"M 0 -9 l 6 18 L 0 25\" fill=\"none\" style=\"stroke:rgb(255, 195, 213);stroke-width:2\" />  </svg></g><rect x=\"8.960498024182721%\" y=\"40\" height=\"20\" width=\"1.1492659914003287%\"      onmouseover=\"document.getElementById('_tp_pmtdnpckuccwbuqzvtyo_ind_15').style.textDecoration = 'underline';document.getElementById('_fs_pmtdnpckuccwbuqzvtyo_ind_15').style.opacity = 1;document.getElementById('_fb_pmtdnpckuccwbuqzvtyo_ind_15').style.opacity = 1;\"      onmouseout=\"document.getElementById('_tp_pmtdnpckuccwbuqzvtyo_ind_15').style.textDecoration = 'none';document.getElementById('_fs_pmtdnpckuccwbuqzvtyo_ind_15').style.opacity = 0;document.getElementById('_fb_pmtdnpckuccwbuqzvtyo_ind_15').style.opacity = 0;\" style=\"fill:rgb(0,0,0,0)\" /><rect x=\"8.333333298287002%\" y=\"40\" height=\"20\" width=\"0.6271647258957191%\"      onmouseover=\"document.getElementById('_tp_pmtdnpckuccwbuqzvtyo_ind_9').style.textDecoration = 'underline';document.getElementById('_fs_pmtdnpckuccwbuqzvtyo_ind_9').style.opacity = 1;document.getElementById('_fb_pmtdnpckuccwbuqzvtyo_ind_9').style.opacity = 1;\"      onmouseout=\"document.getElementById('_tp_pmtdnpckuccwbuqzvtyo_ind_9').style.textDecoration = 'none';document.getElementById('_fs_pmtdnpckuccwbuqzvtyo_ind_9').style.opacity = 0;document.getElementById('_fb_pmtdnpckuccwbuqzvtyo_ind_9').style.opacity = 0;\" style=\"fill:rgb(0,0,0,0)\" /><rect x=\"64.53663084615793%\" width=\"27.130035434999094%\" y=\"40\" height=\"18\" style=\"fill:rgb(0.0, 138.56128015770724, 250.76166088685727); stroke-width:0; stroke:rgb(0,0,0)\" /><line x1=\"64.53663084615793%\" x2=\"80.47501348283403%\" y1=\"60\" y2=\"60\" id=\"_fb_pmtdnpckuccwbuqzvtyo_ind_13\" style=\"stroke:rgb(0.0, 138.56128015770724, 250.76166088685727);stroke-width:2; opacity: 0\"/><text x=\"72.50582216449598%\" y=\"71\" font-size=\"12px\" fill=\"rgb(0.0, 138.56128015770724, 250.76166088685727)\" id=\"_fs_pmtdnpckuccwbuqzvtyo_ind_13\" style=\"opacity: 0\" dominant-baseline=\"middle\" text-anchor=\"middle\">-0.379</text><svg x=\"64.53663084615793%\" y=\"40\" height=\"20\" width=\"15.938382636676096%\">  <svg x=\"0\" y=\"0\" width=\"100%\" height=\"100%\">    <text x=\"50%\" y=\"9\" font-size=\"12px\" fill=\"rgb(255,255,255)\" dominant-baseline=\"middle\" text-anchor=\"middle\">enjoyed</text>  </svg></svg><line x1=\"80.47501348283403%\" x2=\"84.15748950009939%\" y1=\"60\" y2=\"60\" id=\"_fb_pmtdnpckuccwbuqzvtyo_ind_4\" style=\"stroke:rgb(0.0, 138.56128015770724, 250.76166088685727);stroke-width:2; opacity: 0\"/><text x=\"82.31625149146672%\" y=\"71\" font-size=\"12px\" fill=\"rgb(0.0, 138.56128015770724, 250.76166088685727)\" id=\"_fs_pmtdnpckuccwbuqzvtyo_ind_4\" style=\"opacity: 0\" dominant-baseline=\"middle\" text-anchor=\"middle\">-0.088</text><svg x=\"80.47501348283403%\" y=\"40\" height=\"20\" width=\"3.6824760172653583%\">  <svg x=\"0\" y=\"0\" width=\"100%\" height=\"100%\">    <text x=\"50%\" y=\"9\" font-size=\"12px\" fill=\"rgb(255,255,255)\" dominant-baseline=\"middle\" text-anchor=\"middle\">not</text>  </svg></svg><line x1=\"84.15748950009939%\" x2=\"87.06438384731658%\" y1=\"60\" y2=\"60\" id=\"_fb_pmtdnpckuccwbuqzvtyo_ind_3\" style=\"stroke:rgb(0.0, 138.56128015770724, 250.76166088685727);stroke-width:2; opacity: 0\"/><text x=\"85.61093667370798%\" y=\"71\" font-size=\"12px\" fill=\"rgb(0.0, 138.56128015770724, 250.76166088685727)\" id=\"_fs_pmtdnpckuccwbuqzvtyo_ind_3\" style=\"opacity: 0\" dominant-baseline=\"middle\" text-anchor=\"middle\">-0.069</text><svg x=\"84.15748950009939%\" y=\"40\" height=\"20\" width=\"2.9068943472171895%\">  <svg x=\"0\" y=\"0\" width=\"100%\" height=\"100%\">    <text x=\"50%\" y=\"9\" font-size=\"12px\" fill=\"rgb(255,255,255)\" dominant-baseline=\"middle\" text-anchor=\"middle\">was</text>  </svg></svg><line x1=\"87.06438384731658%\" x2=\"88.56606847829374%\" y1=\"60\" y2=\"60\" id=\"_fb_pmtdnpckuccwbuqzvtyo_ind_14\" style=\"stroke:rgb(0.0, 138.56128015770724, 250.76166088685727);stroke-width:2; opacity: 0\"/><text x=\"87.81522616280516%\" y=\"71\" font-size=\"12px\" fill=\"rgb(0.0, 138.56128015770724, 250.76166088685727)\" id=\"_fs_pmtdnpckuccwbuqzvtyo_ind_14\" style=\"opacity: 0\" dominant-baseline=\"middle\" text-anchor=\"middle\">-0.036</text><svg x=\"87.06438384731658%\" y=\"40\" height=\"20\" width=\"1.5016846309771665%\">  <svg x=\"0\" y=\"0\" width=\"100%\" height=\"100%\">    <text x=\"50%\" y=\"9\" font-size=\"12px\" fill=\"rgb(255,255,255)\" dominant-baseline=\"middle\" text-anchor=\"middle\">it</text>  </svg></svg><line x1=\"88.56606847829374%\" x2=\"90.05501088210931%\" y1=\"60\" y2=\"60\" id=\"_fb_pmtdnpckuccwbuqzvtyo_ind_12\" style=\"stroke:rgb(0.0, 138.56128015770724, 250.76166088685727);stroke-width:2; opacity: 0\"/><text x=\"89.31053968020153%\" y=\"71\" font-size=\"12px\" fill=\"rgb(0.0, 138.56128015770724, 250.76166088685727)\" id=\"_fs_pmtdnpckuccwbuqzvtyo_ind_12\" style=\"opacity: 0\" dominant-baseline=\"middle\" text-anchor=\"middle\">-0.035</text><svg x=\"88.56606847829374%\" y=\"40\" height=\"20\" width=\"1.488942403815571%\">  <svg x=\"0\" y=\"0\" width=\"100%\" height=\"100%\">    <text x=\"50%\" y=\"9\" font-size=\"12px\" fill=\"rgb(255,255,255)\" dominant-baseline=\"middle\" text-anchor=\"middle\">I</text>  </svg></svg><line x1=\"90.05501088210931%\" x2=\"91.1832050481882%\" y1=\"60\" y2=\"60\" id=\"_fb_pmtdnpckuccwbuqzvtyo_ind_1\" style=\"stroke:rgb(0.0, 138.56128015770724, 250.76166088685727);stroke-width:2; opacity: 0\"/><text x=\"90.61910796514876%\" y=\"71\" font-size=\"12px\" fill=\"rgb(0.0, 138.56128015770724, 250.76166088685727)\" id=\"_fs_pmtdnpckuccwbuqzvtyo_ind_1\" style=\"opacity: 0\" dominant-baseline=\"middle\" text-anchor=\"middle\">-0.027</text><svg x=\"90.05501088210931%\" y=\"40\" height=\"20\" width=\"1.1281941660788846%\">  <svg x=\"0\" y=\"0\" width=\"100%\" height=\"100%\">    <text x=\"50%\" y=\"9\" font-size=\"12px\" fill=\"rgb(255,255,255)\" dominant-baseline=\"middle\" text-anchor=\"middle\">The</text>  </svg></svg><line x1=\"91.1832050481882%\" x2=\"91.66666628115703%\" y1=\"60\" y2=\"60\" id=\"_fb_pmtdnpckuccwbuqzvtyo_ind_10\" style=\"stroke:rgb(0.0, 138.56128015770724, 250.76166088685727);stroke-width:2; opacity: 0\"/><text x=\"91.42493566467262%\" y=\"71\" font-size=\"12px\" fill=\"rgb(0.0, 138.56128015770724, 250.76166088685727)\" id=\"_fs_pmtdnpckuccwbuqzvtyo_ind_10\" style=\"opacity: 0\" dominant-baseline=\"middle\" text-anchor=\"middle\">-0.011</text><svg x=\"91.1832050481882%\" y=\"40\" height=\"20\" width=\"0.4834612329688355%\">  <svg x=\"0\" y=\"0\" width=\"100%\" height=\"100%\">    <text x=\"50%\" y=\"9\" font-size=\"12px\" fill=\"rgb(255,255,255)\" dominant-baseline=\"middle\" text-anchor=\"middle\">the</text>  </svg></svg><g transform=\"translate(-8,0)\">  <svg x=\"80.47501348283403%\" y=\"40\" height=\"18\" overflow=\"visible\" width=\"30\">    <path d=\"M 8 -9 l -6 18 L 8 25\" fill=\"none\" style=\"stroke:rgb(0.0, 138.56128015770724, 250.76166088685727);stroke-width:2\" />  </svg></g><g transform=\"translate(-10,0)\">  <svg x=\"80.47501348283403%\" y=\"40\" height=\"18\" overflow=\"visible\" width=\"30\">    <path d=\"M 8 -9 l -6 18 L 8 25\" fill=\"none\" style=\"stroke:rgb(0.0, 138.56128015770724, 250.76166088685727);stroke-width:2\" />  </svg></g><g transform=\"translate(-12,0)\">  <svg x=\"80.47501348283403%\" y=\"40\" height=\"18\" overflow=\"visible\" width=\"30\">    <path d=\"M 8 -9 l -6 18 L 8 25\" fill=\"none\" style=\"stroke:rgb(0.0, 138.56128015770724, 250.76166088685727);stroke-width:2\" />  </svg></g><g transform=\"translate(-14,0)\">  <svg x=\"80.47501348283403%\" y=\"40\" height=\"18\" overflow=\"visible\" width=\"30\">    <path d=\"M 8 -9 l -6 18 L 8 25\" fill=\"none\" style=\"stroke:rgb(0.0, 138.56128015770724, 250.76166088685727);stroke-width:2\" />  </svg></g><g transform=\"translate(2,0)\">  <svg x=\"80.47501348283403%\" y=\"40\" height=\"18\" overflow=\"visible\" width=\"30\">    <path d=\"M 8 -9 l -6 18 L 8 25\" fill=\"none\" style=\"stroke:rgb(0.0, 138.56128015770724, 250.76166088685727);stroke-width:2\" />  </svg></g><g transform=\"translate(0,0)\">  <svg x=\"80.47501348283403%\" y=\"40\" height=\"18\" overflow=\"visible\" width=\"30\">    <path d=\"M 8 -9 l -6 18 L 8 25\" fill=\"none\" style=\"stroke:rgb(0.0, 138.56128015770724, 250.76166088685727);stroke-width:2\" />  </svg></g><g transform=\"translate(-2,0)\">  <svg x=\"80.47501348283403%\" y=\"40\" height=\"18\" overflow=\"visible\" width=\"30\">    <path d=\"M 8 -9 l -6 18 L 8 25\" fill=\"none\" style=\"stroke:rgb(0.0, 138.56128015770724, 250.76166088685727);stroke-width:2\" />  </svg></g><g transform=\"translate(-4,0)\">  <svg x=\"80.47501348283403%\" y=\"40\" height=\"18\" overflow=\"visible\" width=\"30\">    <path d=\"M 8 -9 l -6 18 L 8 25\" fill=\"none\" style=\"stroke:rgb(0.0, 138.56128015770724, 250.76166088685727);stroke-width:2\" />  </svg></g><g transform=\"translate(-8,0)\">  <svg x=\"84.15748950009939%\" y=\"40\" height=\"18\" overflow=\"visible\" width=\"30\">    <path d=\"M 8 -9 l -6 18 L 8 25\" fill=\"none\" style=\"stroke:rgb(0.0, 138.56128015770724, 250.76166088685727);stroke-width:2\" />  </svg></g><g transform=\"translate(-10,0)\">  <svg x=\"84.15748950009939%\" y=\"40\" height=\"18\" overflow=\"visible\" width=\"30\">    <path d=\"M 8 -9 l -6 18 L 8 25\" fill=\"none\" style=\"stroke:rgb(0.0, 138.56128015770724, 250.76166088685727);stroke-width:2\" />  </svg></g><g transform=\"translate(-12,0)\">  <svg x=\"84.15748950009939%\" y=\"40\" height=\"18\" overflow=\"visible\" width=\"30\">    <path d=\"M 8 -9 l -6 18 L 8 25\" fill=\"none\" style=\"stroke:rgb(0.0, 138.56128015770724, 250.76166088685727);stroke-width:2\" />  </svg></g><g transform=\"translate(-14,0)\">  <svg x=\"84.15748950009939%\" y=\"40\" height=\"18\" overflow=\"visible\" width=\"30\">    <path d=\"M 8 -9 l -6 18 L 8 25\" fill=\"none\" style=\"stroke:rgb(0.0, 138.56128015770724, 250.76166088685727);stroke-width:2\" />  </svg></g><g transform=\"translate(2,0)\">  <svg x=\"84.15748950009939%\" y=\"40\" height=\"18\" overflow=\"visible\" width=\"30\">    <path d=\"M 8 -9 l -6 18 L 8 25\" fill=\"none\" style=\"stroke:rgb(0.0, 138.56128015770724, 250.76166088685727);stroke-width:2\" />  </svg></g><g transform=\"translate(0,0)\">  <svg x=\"84.15748950009939%\" y=\"40\" height=\"18\" overflow=\"visible\" width=\"30\">    <path d=\"M 8 -9 l -6 18 L 8 25\" fill=\"none\" style=\"stroke:rgb(0.0, 138.56128015770724, 250.76166088685727);stroke-width:2\" />  </svg></g><g transform=\"translate(-2,0)\">  <svg x=\"84.15748950009939%\" y=\"40\" height=\"18\" overflow=\"visible\" width=\"30\">    <path d=\"M 8 -9 l -6 18 L 8 25\" fill=\"none\" style=\"stroke:rgb(0.0, 138.56128015770724, 250.76166088685727);stroke-width:2\" />  </svg></g><g transform=\"translate(-4,0)\">  <svg x=\"84.15748950009939%\" y=\"40\" height=\"18\" overflow=\"visible\" width=\"30\">    <path d=\"M 8 -9 l -6 18 L 8 25\" fill=\"none\" style=\"stroke:rgb(0.0, 138.56128015770724, 250.76166088685727);stroke-width:2\" />  </svg></g><g transform=\"translate(-8,0)\">  <svg x=\"87.06438384731658%\" y=\"40\" height=\"18\" overflow=\"visible\" width=\"30\">    <path d=\"M 8 -9 l -6 18 L 8 25\" fill=\"none\" style=\"stroke:rgb(0.0, 138.56128015770724, 250.76166088685727);stroke-width:2\" />  </svg></g><g transform=\"translate(-10,0)\">  <svg x=\"87.06438384731658%\" y=\"40\" height=\"18\" overflow=\"visible\" width=\"30\">    <path d=\"M 8 -9 l -6 18 L 8 25\" fill=\"none\" style=\"stroke:rgb(0.0, 138.56128015770724, 250.76166088685727);stroke-width:2\" />  </svg></g><g transform=\"translate(-12,0)\">  <svg x=\"87.06438384731658%\" y=\"40\" height=\"18\" overflow=\"visible\" width=\"30\">    <path d=\"M 8 -9 l -6 18 L 8 25\" fill=\"none\" style=\"stroke:rgb(0.0, 138.56128015770724, 250.76166088685727);stroke-width:2\" />  </svg></g><g transform=\"translate(-14,0)\">  <svg x=\"87.06438384731658%\" y=\"40\" height=\"18\" overflow=\"visible\" width=\"30\">    <path d=\"M 8 -9 l -6 18 L 8 25\" fill=\"none\" style=\"stroke:rgb(0.0, 138.56128015770724, 250.76166088685727);stroke-width:2\" />  </svg></g><g transform=\"translate(2,0)\">  <svg x=\"87.06438384731658%\" y=\"40\" height=\"18\" overflow=\"visible\" width=\"30\">    <path d=\"M 8 -9 l -6 18 L 8 25\" fill=\"none\" style=\"stroke:rgb(0.0, 138.56128015770724, 250.76166088685727);stroke-width:2\" />  </svg></g><g transform=\"translate(0,0)\">  <svg x=\"87.06438384731658%\" y=\"40\" height=\"18\" overflow=\"visible\" width=\"30\">    <path d=\"M 8 -9 l -6 18 L 8 25\" fill=\"none\" style=\"stroke:rgb(0.0, 138.56128015770724, 250.76166088685727);stroke-width:2\" />  </svg></g><g transform=\"translate(-2,0)\">  <svg x=\"87.06438384731658%\" y=\"40\" height=\"18\" overflow=\"visible\" width=\"30\">    <path d=\"M 8 -9 l -6 18 L 8 25\" fill=\"none\" style=\"stroke:rgb(0.0, 138.56128015770724, 250.76166088685727);stroke-width:2\" />  </svg></g><g transform=\"translate(-4,0)\">  <svg x=\"87.06438384731658%\" y=\"40\" height=\"18\" overflow=\"visible\" width=\"30\">    <path d=\"M 8 -9 l -6 18 L 8 25\" fill=\"none\" style=\"stroke:rgb(0.0, 138.56128015770724, 250.76166088685727);stroke-width:2\" />  </svg></g><g transform=\"translate(-8,0)\">  <svg x=\"88.56606847829374%\" y=\"40\" height=\"18\" overflow=\"visible\" width=\"30\">    <path d=\"M 8 -9 l -6 18 L 8 25\" fill=\"none\" style=\"stroke:rgb(0.0, 138.56128015770724, 250.76166088685727);stroke-width:2\" />  </svg></g><g transform=\"translate(-10,0)\">  <svg x=\"88.56606847829374%\" y=\"40\" height=\"18\" overflow=\"visible\" width=\"30\">    <path d=\"M 8 -9 l -6 18 L 8 25\" fill=\"none\" style=\"stroke:rgb(0.0, 138.56128015770724, 250.76166088685727);stroke-width:2\" />  </svg></g><g transform=\"translate(-12,0)\">  <svg x=\"88.56606847829374%\" y=\"40\" height=\"18\" overflow=\"visible\" width=\"30\">    <path d=\"M 8 -9 l -6 18 L 8 25\" fill=\"none\" style=\"stroke:rgb(0.0, 138.56128015770724, 250.76166088685727);stroke-width:2\" />  </svg></g><g transform=\"translate(-14,0)\">  <svg x=\"88.56606847829374%\" y=\"40\" height=\"18\" overflow=\"visible\" width=\"30\">    <path d=\"M 8 -9 l -6 18 L 8 25\" fill=\"none\" style=\"stroke:rgb(0.0, 138.56128015770724, 250.76166088685727);stroke-width:2\" />  </svg></g><g transform=\"translate(2,0)\">  <svg x=\"88.56606847829374%\" y=\"40\" height=\"18\" overflow=\"visible\" width=\"30\">    <path d=\"M 8 -9 l -6 18 L 8 25\" fill=\"none\" style=\"stroke:rgb(0.0, 138.56128015770724, 250.76166088685727);stroke-width:2\" />  </svg></g><g transform=\"translate(0,0)\">  <svg x=\"88.56606847829374%\" y=\"40\" height=\"18\" overflow=\"visible\" width=\"30\">    <path d=\"M 8 -9 l -6 18 L 8 25\" fill=\"none\" style=\"stroke:rgb(0.0, 138.56128015770724, 250.76166088685727);stroke-width:2\" />  </svg></g><g transform=\"translate(-2,0)\">  <svg x=\"88.56606847829374%\" y=\"40\" height=\"18\" overflow=\"visible\" width=\"30\">    <path d=\"M 8 -9 l -6 18 L 8 25\" fill=\"none\" style=\"stroke:rgb(0.0, 138.56128015770724, 250.76166088685727);stroke-width:2\" />  </svg></g><g transform=\"translate(-4,0)\">  <svg x=\"88.56606847829374%\" y=\"40\" height=\"18\" overflow=\"visible\" width=\"30\">    <path d=\"M 8 -9 l -6 18 L 8 25\" fill=\"none\" style=\"stroke:rgb(0.0, 138.56128015770724, 250.76166088685727);stroke-width:2\" />  </svg></g><g transform=\"translate(-8,0)\">  <svg x=\"90.05501088210931%\" y=\"40\" height=\"18\" overflow=\"visible\" width=\"30\">    <path d=\"M 8 -9 l -6 18 L 8 25\" fill=\"none\" style=\"stroke:rgb(0.0, 138.56128015770724, 250.76166088685727);stroke-width:2\" />  </svg></g><g transform=\"translate(-10,0)\">  <svg x=\"90.05501088210931%\" y=\"40\" height=\"18\" overflow=\"visible\" width=\"30\">    <path d=\"M 8 -9 l -6 18 L 8 25\" fill=\"none\" style=\"stroke:rgb(0.0, 138.56128015770724, 250.76166088685727);stroke-width:2\" />  </svg></g><g transform=\"translate(-12,0)\">  <svg x=\"90.05501088210931%\" y=\"40\" height=\"18\" overflow=\"visible\" width=\"30\">    <path d=\"M 8 -9 l -6 18 L 8 25\" fill=\"none\" style=\"stroke:rgb(0.0, 138.56128015770724, 250.76166088685727);stroke-width:2\" />  </svg></g><g transform=\"translate(-14,0)\">  <svg x=\"90.05501088210931%\" y=\"40\" height=\"18\" overflow=\"visible\" width=\"30\">    <path d=\"M 8 -9 l -6 18 L 8 25\" fill=\"none\" style=\"stroke:rgb(0.0, 138.56128015770724, 250.76166088685727);stroke-width:2\" />  </svg></g><g transform=\"translate(2,0)\">  <svg x=\"90.05501088210931%\" y=\"40\" height=\"18\" overflow=\"visible\" width=\"30\">    <path d=\"M 8 -9 l -6 18 L 8 25\" fill=\"none\" style=\"stroke:rgb(0.0, 138.56128015770724, 250.76166088685727);stroke-width:2\" />  </svg></g><g transform=\"translate(0,0)\">  <svg x=\"90.05501088210931%\" y=\"40\" height=\"18\" overflow=\"visible\" width=\"30\">    <path d=\"M 8 -9 l -6 18 L 8 25\" fill=\"none\" style=\"stroke:rgb(0.0, 138.56128015770724, 250.76166088685727);stroke-width:2\" />  </svg></g><g transform=\"translate(-2,0)\">  <svg x=\"90.05501088210931%\" y=\"40\" height=\"18\" overflow=\"visible\" width=\"30\">    <path d=\"M 8 -9 l -6 18 L 8 25\" fill=\"none\" style=\"stroke:rgb(0.0, 138.56128015770724, 250.76166088685727);stroke-width:2\" />  </svg></g><g transform=\"translate(-4,0)\">  <svg x=\"90.05501088210931%\" y=\"40\" height=\"18\" overflow=\"visible\" width=\"30\">    <path d=\"M 8 -9 l -6 18 L 8 25\" fill=\"none\" style=\"stroke:rgb(0.0, 138.56128015770724, 250.76166088685727);stroke-width:2\" />  </svg></g><g transform=\"translate(-8,0)\">  <svg x=\"91.1832050481882%\" y=\"40\" height=\"18\" overflow=\"visible\" width=\"30\">    <path d=\"M 8 -9 l -6 18 L 8 25\" fill=\"none\" style=\"stroke:rgb(0.0, 138.56128015770724, 250.76166088685727);stroke-width:2\" />  </svg></g><g transform=\"translate(-10,0)\">  <svg x=\"91.1832050481882%\" y=\"40\" height=\"18\" overflow=\"visible\" width=\"30\">    <path d=\"M 8 -9 l -6 18 L 8 25\" fill=\"none\" style=\"stroke:rgb(0.0, 138.56128015770724, 250.76166088685727);stroke-width:2\" />  </svg></g><g transform=\"translate(-12,0)\">  <svg x=\"91.1832050481882%\" y=\"40\" height=\"18\" overflow=\"visible\" width=\"30\">    <path d=\"M 8 -9 l -6 18 L 8 25\" fill=\"none\" style=\"stroke:rgb(0.0, 138.56128015770724, 250.76166088685727);stroke-width:2\" />  </svg></g><g transform=\"translate(-14,0)\">  <svg x=\"91.1832050481882%\" y=\"40\" height=\"18\" overflow=\"visible\" width=\"30\">    <path d=\"M 8 -9 l -6 18 L 8 25\" fill=\"none\" style=\"stroke:rgb(0.0, 138.56128015770724, 250.76166088685727);stroke-width:2\" />  </svg></g><g transform=\"translate(2,0)\">  <svg x=\"91.1832050481882%\" y=\"40\" height=\"18\" overflow=\"visible\" width=\"30\">    <path d=\"M 8 -9 l -6 18 L 8 25\" fill=\"none\" style=\"stroke:rgb(0.0, 138.56128015770724, 250.76166088685727);stroke-width:2\" />  </svg></g><g transform=\"translate(0,0)\">  <svg x=\"91.1832050481882%\" y=\"40\" height=\"18\" overflow=\"visible\" width=\"30\">    <path d=\"M 8 -9 l -6 18 L 8 25\" fill=\"none\" style=\"stroke:rgb(0.0, 138.56128015770724, 250.76166088685727);stroke-width:2\" />  </svg></g><g transform=\"translate(-2,0)\">  <svg x=\"91.1832050481882%\" y=\"40\" height=\"18\" overflow=\"visible\" width=\"30\">    <path d=\"M 8 -9 l -6 18 L 8 25\" fill=\"none\" style=\"stroke:rgb(0.0, 138.56128015770724, 250.76166088685727);stroke-width:2\" />  </svg></g><g transform=\"translate(-4,0)\">  <svg x=\"91.1832050481882%\" y=\"40\" height=\"18\" overflow=\"visible\" width=\"30\">    <path d=\"M 8 -9 l -6 18 L 8 25\" fill=\"none\" style=\"stroke:rgb(0.0, 138.56128015770724, 250.76166088685727);stroke-width:2\" />  </svg></g><rect transform=\"translate(0,0)\" x=\"64.53663084615793%\" y=\"40\" width=\"8\" height=\"18\" style=\"fill:rgb(0.0, 138.56128015770724, 250.76166088685727)\"/><g transform=\"translate(-6.0,0)\">  <svg x=\"91.66666628115703%\" y=\"40\" height=\"18\" overflow=\"visible\" width=\"30\">    <path d=\"M 8 -9 l -6 18 L 8 25 L 20 25 L 20 -9\" fill=\"#ffffff\" style=\"stroke:rgb(255,255,255);stroke-width:2\" />  </svg></g><g transform=\"translate(-6.0,0)\">  <svg x=\"80.47501348283403%\" y=\"40\" height=\"18\" overflow=\"visible\" width=\"30\">    <path d=\"M 8 -9 l -6 18 L 8 25\" fill=\"none\" style=\"stroke:rgb(208, 230, 250);stroke-width:2\" />  </svg></g><rect x=\"64.53663084615793%\" y=\"40\" height=\"20\" width=\"15.938382636676096%\"      onmouseover=\"document.getElementById('_tp_pmtdnpckuccwbuqzvtyo_ind_13').style.textDecoration = 'underline';document.getElementById('_fs_pmtdnpckuccwbuqzvtyo_ind_13').style.opacity = 1;document.getElementById('_fb_pmtdnpckuccwbuqzvtyo_ind_13').style.opacity = 1;\"      onmouseout=\"document.getElementById('_tp_pmtdnpckuccwbuqzvtyo_ind_13').style.textDecoration = 'none';document.getElementById('_fs_pmtdnpckuccwbuqzvtyo_ind_13').style.opacity = 0;document.getElementById('_fb_pmtdnpckuccwbuqzvtyo_ind_13').style.opacity = 0;\" style=\"fill:rgb(0,0,0,0)\" /><g transform=\"translate(-6.0,0)\">  <svg x=\"84.15748950009939%\" y=\"40\" height=\"18\" overflow=\"visible\" width=\"30\">    <path d=\"M 8 -9 l -6 18 L 8 25\" fill=\"none\" style=\"stroke:rgb(208, 230, 250);stroke-width:2\" />  </svg></g><rect x=\"80.47501348283403%\" y=\"40\" height=\"20\" width=\"3.6824760172653583%\"      onmouseover=\"document.getElementById('_tp_pmtdnpckuccwbuqzvtyo_ind_4').style.textDecoration = 'underline';document.getElementById('_fs_pmtdnpckuccwbuqzvtyo_ind_4').style.opacity = 1;document.getElementById('_fb_pmtdnpckuccwbuqzvtyo_ind_4').style.opacity = 1;\"      onmouseout=\"document.getElementById('_tp_pmtdnpckuccwbuqzvtyo_ind_4').style.textDecoration = 'none';document.getElementById('_fs_pmtdnpckuccwbuqzvtyo_ind_4').style.opacity = 0;document.getElementById('_fb_pmtdnpckuccwbuqzvtyo_ind_4').style.opacity = 0;\" style=\"fill:rgb(0,0,0,0)\" /><g transform=\"translate(-6.0,0)\">  <svg x=\"87.06438384731658%\" y=\"40\" height=\"18\" overflow=\"visible\" width=\"30\">    <path d=\"M 8 -9 l -6 18 L 8 25\" fill=\"none\" style=\"stroke:rgb(208, 230, 250);stroke-width:2\" />  </svg></g><rect x=\"84.15748950009939%\" y=\"40\" height=\"20\" width=\"2.9068943472171895%\"      onmouseover=\"document.getElementById('_tp_pmtdnpckuccwbuqzvtyo_ind_3').style.textDecoration = 'underline';document.getElementById('_fs_pmtdnpckuccwbuqzvtyo_ind_3').style.opacity = 1;document.getElementById('_fb_pmtdnpckuccwbuqzvtyo_ind_3').style.opacity = 1;\"      onmouseout=\"document.getElementById('_tp_pmtdnpckuccwbuqzvtyo_ind_3').style.textDecoration = 'none';document.getElementById('_fs_pmtdnpckuccwbuqzvtyo_ind_3').style.opacity = 0;document.getElementById('_fb_pmtdnpckuccwbuqzvtyo_ind_3').style.opacity = 0;\" style=\"fill:rgb(0,0,0,0)\" /><g transform=\"translate(-6.0,0)\">  <svg x=\"88.56606847829374%\" y=\"40\" height=\"18\" overflow=\"visible\" width=\"30\">    <path d=\"M 8 -9 l -6 18 L 8 25\" fill=\"none\" style=\"stroke:rgb(208, 230, 250);stroke-width:2\" />  </svg></g><rect x=\"87.06438384731658%\" y=\"40\" height=\"20\" width=\"1.5016846309771665%\"      onmouseover=\"document.getElementById('_tp_pmtdnpckuccwbuqzvtyo_ind_14').style.textDecoration = 'underline';document.getElementById('_fs_pmtdnpckuccwbuqzvtyo_ind_14').style.opacity = 1;document.getElementById('_fb_pmtdnpckuccwbuqzvtyo_ind_14').style.opacity = 1;\"      onmouseout=\"document.getElementById('_tp_pmtdnpckuccwbuqzvtyo_ind_14').style.textDecoration = 'none';document.getElementById('_fs_pmtdnpckuccwbuqzvtyo_ind_14').style.opacity = 0;document.getElementById('_fb_pmtdnpckuccwbuqzvtyo_ind_14').style.opacity = 0;\" style=\"fill:rgb(0,0,0,0)\" /><g transform=\"translate(-6.0,0)\">  <svg x=\"90.05501088210931%\" y=\"40\" height=\"18\" overflow=\"visible\" width=\"30\">    <path d=\"M 8 -9 l -6 18 L 8 25\" fill=\"none\" style=\"stroke:rgb(208, 230, 250);stroke-width:2\" />  </svg></g><rect x=\"88.56606847829374%\" y=\"40\" height=\"20\" width=\"1.488942403815571%\"      onmouseover=\"document.getElementById('_tp_pmtdnpckuccwbuqzvtyo_ind_12').style.textDecoration = 'underline';document.getElementById('_fs_pmtdnpckuccwbuqzvtyo_ind_12').style.opacity = 1;document.getElementById('_fb_pmtdnpckuccwbuqzvtyo_ind_12').style.opacity = 1;\"      onmouseout=\"document.getElementById('_tp_pmtdnpckuccwbuqzvtyo_ind_12').style.textDecoration = 'none';document.getElementById('_fs_pmtdnpckuccwbuqzvtyo_ind_12').style.opacity = 0;document.getElementById('_fb_pmtdnpckuccwbuqzvtyo_ind_12').style.opacity = 0;\" style=\"fill:rgb(0,0,0,0)\" /><g transform=\"translate(-6.0,0)\">  <svg x=\"91.1832050481882%\" y=\"40\" height=\"18\" overflow=\"visible\" width=\"30\">    <path d=\"M 8 -9 l -6 18 L 8 25\" fill=\"none\" style=\"stroke:rgb(208, 230, 250);stroke-width:2\" />  </svg></g><rect x=\"90.05501088210931%\" y=\"40\" height=\"20\" width=\"1.1281941660788846%\"      onmouseover=\"document.getElementById('_tp_pmtdnpckuccwbuqzvtyo_ind_1').style.textDecoration = 'underline';document.getElementById('_fs_pmtdnpckuccwbuqzvtyo_ind_1').style.opacity = 1;document.getElementById('_fb_pmtdnpckuccwbuqzvtyo_ind_1').style.opacity = 1;\"      onmouseout=\"document.getElementById('_tp_pmtdnpckuccwbuqzvtyo_ind_1').style.textDecoration = 'none';document.getElementById('_fs_pmtdnpckuccwbuqzvtyo_ind_1').style.opacity = 0;document.getElementById('_fb_pmtdnpckuccwbuqzvtyo_ind_1').style.opacity = 0;\" style=\"fill:rgb(0,0,0,0)\" /><rect x=\"91.1832050481882%\" y=\"40\" height=\"20\" width=\"0.4834612329688355%\"      onmouseover=\"document.getElementById('_tp_pmtdnpckuccwbuqzvtyo_ind_10').style.textDecoration = 'underline';document.getElementById('_fs_pmtdnpckuccwbuqzvtyo_ind_10').style.opacity = 1;document.getElementById('_fb_pmtdnpckuccwbuqzvtyo_ind_10').style.opacity = 1;\"      onmouseout=\"document.getElementById('_tp_pmtdnpckuccwbuqzvtyo_ind_10').style.textDecoration = 'none';document.getElementById('_fs_pmtdnpckuccwbuqzvtyo_ind_10').style.opacity = 0;document.getElementById('_fb_pmtdnpckuccwbuqzvtyo_ind_10').style.opacity = 0;\" style=\"fill:rgb(0,0,0,0)\" /></svg><div align='center'><div style=\"color: rgb(120,120,120); font-size: 12px; margin-top: -15px;\">inputs</div><div style='display: inline; text-align: center;'\n",
              "    ><div style='display: none; color: #999; padding-top: 0px; font-size: 12px;'>0.0</div\n",
              "        ><div id='_tp_pmtdnpckuccwbuqzvtyo_ind_0'\n",
              "            style='display: inline; background: rgba(230.2941176470614, 26.505882352939775, 102.59215686274348, 0.0); border-radius: 3px; padding: 0px'\n",
              "            onclick=\"\n",
              "            if (this.previousSibling.style.display == 'none') {\n",
              "                this.previousSibling.style.display = 'block';\n",
              "                this.parentNode.style.display = 'inline-block';\n",
              "            } else {\n",
              "                this.previousSibling.style.display = 'none';\n",
              "                this.parentNode.style.display = 'inline';\n",
              "            }\"\n",
              "            onmouseover=\"document.getElementById('_fb_pmtdnpckuccwbuqzvtyo_ind_0').style.opacity = 1; document.getElementById('_fs_pmtdnpckuccwbuqzvtyo_ind_0').style.opacity = 1;\"\n",
              "            onmouseout=\"document.getElementById('_fb_pmtdnpckuccwbuqzvtyo_ind_0').style.opacity = 0; document.getElementById('_fs_pmtdnpckuccwbuqzvtyo_ind_0').style.opacity = 0;\"\n",
              "        ></div></div><div style='display: inline; text-align: center;'\n",
              "    ><div style='display: none; color: #999; padding-top: 0px; font-size: 12px;'>-0.027</div\n",
              "        ><div id='_tp_pmtdnpckuccwbuqzvtyo_ind_1'\n",
              "            style='display: inline; background: rgba(30.0, 136.0, 229.0, 0.03042186571598325); border-radius: 3px; padding: 0px'\n",
              "            onclick=\"\n",
              "            if (this.previousSibling.style.display == 'none') {\n",
              "                this.previousSibling.style.display = 'block';\n",
              "                this.parentNode.style.display = 'inline-block';\n",
              "            } else {\n",
              "                this.previousSibling.style.display = 'none';\n",
              "                this.parentNode.style.display = 'inline';\n",
              "            }\"\n",
              "            onmouseover=\"document.getElementById('_fb_pmtdnpckuccwbuqzvtyo_ind_1').style.opacity = 1; document.getElementById('_fs_pmtdnpckuccwbuqzvtyo_ind_1').style.opacity = 1;\"\n",
              "            onmouseout=\"document.getElementById('_fb_pmtdnpckuccwbuqzvtyo_ind_1').style.opacity = 0; document.getElementById('_fs_pmtdnpckuccwbuqzvtyo_ind_1').style.opacity = 0;\"\n",
              "        >The </div></div><div style='display: inline; text-align: center;'\n",
              "    ><div style='display: none; color: #999; padding-top: 0px; font-size: 12px;'>0.076</div\n",
              "        ><div id='_tp_pmtdnpckuccwbuqzvtyo_ind_2'\n",
              "            style='display: inline; background: rgba(255.0, 13.0, 87.0, 0.10136660724896006); border-radius: 3px; padding: 0px'\n",
              "            onclick=\"\n",
              "            if (this.previousSibling.style.display == 'none') {\n",
              "                this.previousSibling.style.display = 'block';\n",
              "                this.parentNode.style.display = 'inline-block';\n",
              "            } else {\n",
              "                this.previousSibling.style.display = 'none';\n",
              "                this.parentNode.style.display = 'inline';\n",
              "            }\"\n",
              "            onmouseover=\"document.getElementById('_fb_pmtdnpckuccwbuqzvtyo_ind_2').style.opacity = 1; document.getElementById('_fs_pmtdnpckuccwbuqzvtyo_ind_2').style.opacity = 1;\"\n",
              "            onmouseout=\"document.getElementById('_fb_pmtdnpckuccwbuqzvtyo_ind_2').style.opacity = 0; document.getElementById('_fs_pmtdnpckuccwbuqzvtyo_ind_2').style.opacity = 0;\"\n",
              "        >movie </div></div><div style='display: inline; text-align: center;'\n",
              "    ><div style='display: none; color: #999; padding-top: 0px; font-size: 12px;'>-0.069</div\n",
              "        ><div id='_tp_pmtdnpckuccwbuqzvtyo_ind_3'\n",
              "            style='display: inline; background: rgba(30.0, 136.0, 229.0, 0.09348385818974048); border-radius: 3px; padding: 0px'\n",
              "            onclick=\"\n",
              "            if (this.previousSibling.style.display == 'none') {\n",
              "                this.previousSibling.style.display = 'block';\n",
              "                this.parentNode.style.display = 'inline-block';\n",
              "            } else {\n",
              "                this.previousSibling.style.display = 'none';\n",
              "                this.parentNode.style.display = 'inline';\n",
              "            }\"\n",
              "            onmouseover=\"document.getElementById('_fb_pmtdnpckuccwbuqzvtyo_ind_3').style.opacity = 1; document.getElementById('_fs_pmtdnpckuccwbuqzvtyo_ind_3').style.opacity = 1;\"\n",
              "            onmouseout=\"document.getElementById('_fb_pmtdnpckuccwbuqzvtyo_ind_3').style.opacity = 0; document.getElementById('_fs_pmtdnpckuccwbuqzvtyo_ind_3').style.opacity = 0;\"\n",
              "        >was </div></div><div style='display: inline; text-align: center;'\n",
              "    ><div style='display: none; color: #999; padding-top: 0px; font-size: 12px;'>-0.088</div\n",
              "        ><div id='_tp_pmtdnpckuccwbuqzvtyo_ind_4'\n",
              "            style='display: inline; background: rgba(30.0, 136.0, 229.0, 0.11713210536739943); border-radius: 3px; padding: 0px'\n",
              "            onclick=\"\n",
              "            if (this.previousSibling.style.display == 'none') {\n",
              "                this.previousSibling.style.display = 'block';\n",
              "                this.parentNode.style.display = 'inline-block';\n",
              "            } else {\n",
              "                this.previousSibling.style.display = 'none';\n",
              "                this.parentNode.style.display = 'inline';\n",
              "            }\"\n",
              "            onmouseover=\"document.getElementById('_fb_pmtdnpckuccwbuqzvtyo_ind_4').style.opacity = 1; document.getElementById('_fs_pmtdnpckuccwbuqzvtyo_ind_4').style.opacity = 1;\"\n",
              "            onmouseout=\"document.getElementById('_fb_pmtdnpckuccwbuqzvtyo_ind_4').style.opacity = 0; document.getElementById('_fs_pmtdnpckuccwbuqzvtyo_ind_4').style.opacity = 0;\"\n",
              "        >not </div></div><div style='display: inline; text-align: center;'\n",
              "    ><div style='display: none; color: #999; padding-top: 0px; font-size: 12px;'>0.72</div\n",
              "        ><div id='_tp_pmtdnpckuccwbuqzvtyo_ind_5'\n",
              "            style='display: inline; background: rgba(255.0, 13.0, 87.0, 1.0); border-radius: 3px; padding: 0px'\n",
              "            onclick=\"\n",
              "            if (this.previousSibling.style.display == 'none') {\n",
              "                this.previousSibling.style.display = 'block';\n",
              "                this.parentNode.style.display = 'inline-block';\n",
              "            } else {\n",
              "                this.previousSibling.style.display = 'none';\n",
              "                this.parentNode.style.display = 'inline';\n",
              "            }\"\n",
              "            onmouseover=\"document.getElementById('_fb_pmtdnpckuccwbuqzvtyo_ind_5').style.opacity = 1; document.getElementById('_fs_pmtdnpckuccwbuqzvtyo_ind_5').style.opacity = 1;\"\n",
              "            onmouseout=\"document.getElementById('_fb_pmtdnpckuccwbuqzvtyo_ind_5').style.opacity = 0; document.getElementById('_fs_pmtdnpckuccwbuqzvtyo_ind_5').style.opacity = 0;\"\n",
              "        >bad </div></div><div style='display: inline; text-align: center;'\n",
              "    ><div style='display: none; color: #999; padding-top: 0px; font-size: 12px;'>0.152</div\n",
              "        ><div id='_tp_pmtdnpckuccwbuqzvtyo_ind_6'\n",
              "            style='display: inline; background: rgba(255.0, 13.0, 87.0, 0.2117250940780353); border-radius: 3px; padding: 0px'\n",
              "            onclick=\"\n",
              "            if (this.previousSibling.style.display == 'none') {\n",
              "                this.previousSibling.style.display = 'block';\n",
              "                this.parentNode.style.display = 'inline-block';\n",
              "            } else {\n",
              "                this.previousSibling.style.display = 'none';\n",
              "                this.parentNode.style.display = 'inline';\n",
              "            }\"\n",
              "            onmouseover=\"document.getElementById('_fb_pmtdnpckuccwbuqzvtyo_ind_6').style.opacity = 1; document.getElementById('_fs_pmtdnpckuccwbuqzvtyo_ind_6').style.opacity = 1;\"\n",
              "            onmouseout=\"document.getElementById('_fb_pmtdnpckuccwbuqzvtyo_ind_6').style.opacity = 0; document.getElementById('_fs_pmtdnpckuccwbuqzvtyo_ind_6').style.opacity = 0;\"\n",
              "        >at </div></div><div style='display: inline; text-align: center;'\n",
              "    ><div style='display: none; color: #999; padding-top: 0px; font-size: 12px;'>0.179</div\n",
              "        ><div id='_tp_pmtdnpckuccwbuqzvtyo_ind_7'\n",
              "            style='display: inline; background: rgba(255.0, 13.0, 87.0, 0.24325609031491383); border-radius: 3px; padding: 0px'\n",
              "            onclick=\"\n",
              "            if (this.previousSibling.style.display == 'none') {\n",
              "                this.previousSibling.style.display = 'block';\n",
              "                this.parentNode.style.display = 'inline-block';\n",
              "            } else {\n",
              "                this.previousSibling.style.display = 'none';\n",
              "                this.parentNode.style.display = 'inline';\n",
              "            }\"\n",
              "            onmouseover=\"document.getElementById('_fb_pmtdnpckuccwbuqzvtyo_ind_7').style.opacity = 1; document.getElementById('_fs_pmtdnpckuccwbuqzvtyo_ind_7').style.opacity = 1;\"\n",
              "            onmouseout=\"document.getElementById('_fb_pmtdnpckuccwbuqzvtyo_ind_7').style.opacity = 0; document.getElementById('_fs_pmtdnpckuccwbuqzvtyo_ind_7').style.opacity = 0;\"\n",
              "        >all</div></div><div style='display: inline; text-align: center;'\n",
              "    ><div style='display: none; color: #999; padding-top: 0px; font-size: 12px;'>0.068</div\n",
              "        ><div id='_tp_pmtdnpckuccwbuqzvtyo_ind_8'\n",
              "            style='display: inline; background: rgba(255.0, 13.0, 87.0, 0.09348385818974037); border-radius: 3px; padding: 0px'\n",
              "            onclick=\"\n",
              "            if (this.previousSibling.style.display == 'none') {\n",
              "                this.previousSibling.style.display = 'block';\n",
              "                this.parentNode.style.display = 'inline-block';\n",
              "            } else {\n",
              "                this.previousSibling.style.display = 'none';\n",
              "                this.parentNode.style.display = 'inline';\n",
              "            }\"\n",
              "            onmouseover=\"document.getElementById('_fb_pmtdnpckuccwbuqzvtyo_ind_8').style.opacity = 1; document.getElementById('_fs_pmtdnpckuccwbuqzvtyo_ind_8').style.opacity = 1;\"\n",
              "            onmouseout=\"document.getElementById('_fb_pmtdnpckuccwbuqzvtyo_ind_8').style.opacity = 0; document.getElementById('_fs_pmtdnpckuccwbuqzvtyo_ind_8').style.opacity = 0;\"\n",
              "        >. </div></div><div style='display: inline; text-align: center;'\n",
              "    ><div style='display: none; color: #999; padding-top: 0px; font-size: 12px;'>0.015</div\n",
              "        ><div id='_tp_pmtdnpckuccwbuqzvtyo_ind_9'\n",
              "            style='display: inline; background: rgba(255.0, 13.0, 87.0, 0.014656367597544035); border-radius: 3px; padding: 0px'\n",
              "            onclick=\"\n",
              "            if (this.previousSibling.style.display == 'none') {\n",
              "                this.previousSibling.style.display = 'block';\n",
              "                this.parentNode.style.display = 'inline-block';\n",
              "            } else {\n",
              "                this.previousSibling.style.display = 'none';\n",
              "                this.parentNode.style.display = 'inline';\n",
              "            }\"\n",
              "            onmouseover=\"document.getElementById('_fb_pmtdnpckuccwbuqzvtyo_ind_9').style.opacity = 1; document.getElementById('_fs_pmtdnpckuccwbuqzvtyo_ind_9').style.opacity = 1;\"\n",
              "            onmouseout=\"document.getElementById('_fb_pmtdnpckuccwbuqzvtyo_ind_9').style.opacity = 0; document.getElementById('_fs_pmtdnpckuccwbuqzvtyo_ind_9').style.opacity = 0;\"\n",
              "        >On </div></div><div style='display: inline; text-align: center;'\n",
              "    ><div style='display: none; color: #999; padding-top: 0px; font-size: 12px;'>-0.011</div\n",
              "        ><div id='_tp_pmtdnpckuccwbuqzvtyo_ind_10'\n",
              "            style='display: inline; background: rgba(30.0, 136.0, 229.0, 0.014656367597544028); border-radius: 3px; padding: 0px'\n",
              "            onclick=\"\n",
              "            if (this.previousSibling.style.display == 'none') {\n",
              "                this.previousSibling.style.display = 'block';\n",
              "                this.parentNode.style.display = 'inline-block';\n",
              "            } else {\n",
              "                this.previousSibling.style.display = 'none';\n",
              "                this.parentNode.style.display = 'inline';\n",
              "            }\"\n",
              "            onmouseover=\"document.getElementById('_fb_pmtdnpckuccwbuqzvtyo_ind_10').style.opacity = 1; document.getElementById('_fs_pmtdnpckuccwbuqzvtyo_ind_10').style.opacity = 1;\"\n",
              "            onmouseout=\"document.getElementById('_fb_pmtdnpckuccwbuqzvtyo_ind_10').style.opacity = 0; document.getElementById('_fs_pmtdnpckuccwbuqzvtyo_ind_10').style.opacity = 0;\"\n",
              "        >the </div></div><div style='display: inline; text-align: center;'\n",
              "    ><div style='display: none; color: #999; padding-top: 0px; font-size: 12px;'>0.099</div\n",
              "        ><div id='_tp_pmtdnpckuccwbuqzvtyo_ind_11'\n",
              "            style='display: inline; background: rgba(255.0, 13.0, 87.0, 0.13289760348583876); border-radius: 3px; padding: 0px'\n",
              "            onclick=\"\n",
              "            if (this.previousSibling.style.display == 'none') {\n",
              "                this.previousSibling.style.display = 'block';\n",
              "                this.parentNode.style.display = 'inline-block';\n",
              "            } else {\n",
              "                this.previousSibling.style.display = 'none';\n",
              "                this.parentNode.style.display = 'inline';\n",
              "            }\"\n",
              "            onmouseover=\"document.getElementById('_fb_pmtdnpckuccwbuqzvtyo_ind_11').style.opacity = 1; document.getElementById('_fs_pmtdnpckuccwbuqzvtyo_ind_11').style.opacity = 1;\"\n",
              "            onmouseout=\"document.getElementById('_fb_pmtdnpckuccwbuqzvtyo_ind_11').style.opacity = 0; document.getElementById('_fs_pmtdnpckuccwbuqzvtyo_ind_11').style.opacity = 0;\"\n",
              "        >contrary </div></div><div style='display: inline; text-align: center;'\n",
              "    ><div style='display: none; color: #999; padding-top: 0px; font-size: 12px;'>-0.035</div\n",
              "        ><div id='_tp_pmtdnpckuccwbuqzvtyo_ind_12'\n",
              "            style='display: inline; background: rgba(30.0, 136.0, 229.0, 0.04618736383442258); border-radius: 3px; padding: 0px'\n",
              "            onclick=\"\n",
              "            if (this.previousSibling.style.display == 'none') {\n",
              "                this.previousSibling.style.display = 'block';\n",
              "                this.parentNode.style.display = 'inline-block';\n",
              "            } else {\n",
              "                this.previousSibling.style.display = 'none';\n",
              "                this.parentNode.style.display = 'inline';\n",
              "            }\"\n",
              "            onmouseover=\"document.getElementById('_fb_pmtdnpckuccwbuqzvtyo_ind_12').style.opacity = 1; document.getElementById('_fs_pmtdnpckuccwbuqzvtyo_ind_12').style.opacity = 1;\"\n",
              "            onmouseout=\"document.getElementById('_fb_pmtdnpckuccwbuqzvtyo_ind_12').style.opacity = 0; document.getElementById('_fs_pmtdnpckuccwbuqzvtyo_ind_12').style.opacity = 0;\"\n",
              "        >I </div></div><div style='display: inline; text-align: center;'\n",
              "    ><div style='display: none; color: #999; padding-top: 0px; font-size: 12px;'>-0.379</div\n",
              "        ><div id='_tp_pmtdnpckuccwbuqzvtyo_ind_13'\n",
              "            style='display: inline; background: rgba(30.0, 136.0, 229.0, 0.527035056446821); border-radius: 3px; padding: 0px'\n",
              "            onclick=\"\n",
              "            if (this.previousSibling.style.display == 'none') {\n",
              "                this.previousSibling.style.display = 'block';\n",
              "                this.parentNode.style.display = 'inline-block';\n",
              "            } else {\n",
              "                this.previousSibling.style.display = 'none';\n",
              "                this.parentNode.style.display = 'inline';\n",
              "            }\"\n",
              "            onmouseover=\"document.getElementById('_fb_pmtdnpckuccwbuqzvtyo_ind_13').style.opacity = 1; document.getElementById('_fs_pmtdnpckuccwbuqzvtyo_ind_13').style.opacity = 1;\"\n",
              "            onmouseout=\"document.getElementById('_fb_pmtdnpckuccwbuqzvtyo_ind_13').style.opacity = 0; document.getElementById('_fs_pmtdnpckuccwbuqzvtyo_ind_13').style.opacity = 0;\"\n",
              "        >enjoyed </div></div><div style='display: inline; text-align: center;'\n",
              "    ><div style='display: none; color: #999; padding-top: 0px; font-size: 12px;'>-0.036</div\n",
              "        ><div id='_tp_pmtdnpckuccwbuqzvtyo_ind_14'\n",
              "            style='display: inline; background: rgba(30.0, 136.0, 229.0, 0.04618736383442258); border-radius: 3px; padding: 0px'\n",
              "            onclick=\"\n",
              "            if (this.previousSibling.style.display == 'none') {\n",
              "                this.previousSibling.style.display = 'block';\n",
              "                this.parentNode.style.display = 'inline-block';\n",
              "            } else {\n",
              "                this.previousSibling.style.display = 'none';\n",
              "                this.parentNode.style.display = 'inline';\n",
              "            }\"\n",
              "            onmouseover=\"document.getElementById('_fb_pmtdnpckuccwbuqzvtyo_ind_14').style.opacity = 1; document.getElementById('_fs_pmtdnpckuccwbuqzvtyo_ind_14').style.opacity = 1;\"\n",
              "            onmouseout=\"document.getElementById('_fb_pmtdnpckuccwbuqzvtyo_ind_14').style.opacity = 0; document.getElementById('_fs_pmtdnpckuccwbuqzvtyo_ind_14').style.opacity = 0;\"\n",
              "        >it</div></div><div style='display: inline; text-align: center;'\n",
              "    ><div style='display: none; color: #999; padding-top: 0px; font-size: 12px;'>0.027</div\n",
              "        ><div id='_tp_pmtdnpckuccwbuqzvtyo_ind_15'\n",
              "            style='display: inline; background: rgba(255.0, 13.0, 87.0, 0.030421865715983164); border-radius: 3px; padding: 0px'\n",
              "            onclick=\"\n",
              "            if (this.previousSibling.style.display == 'none') {\n",
              "                this.previousSibling.style.display = 'block';\n",
              "                this.parentNode.style.display = 'inline-block';\n",
              "            } else {\n",
              "                this.previousSibling.style.display = 'none';\n",
              "                this.parentNode.style.display = 'inline';\n",
              "            }\"\n",
              "            onmouseover=\"document.getElementById('_fb_pmtdnpckuccwbuqzvtyo_ind_15').style.opacity = 1; document.getElementById('_fs_pmtdnpckuccwbuqzvtyo_ind_15').style.opacity = 1;\"\n",
              "            onmouseout=\"document.getElementById('_fb_pmtdnpckuccwbuqzvtyo_ind_15').style.opacity = 0; document.getElementById('_fs_pmtdnpckuccwbuqzvtyo_ind_15').style.opacity = 0;\"\n",
              "        >.</div></div><div style='display: inline; text-align: center;'\n",
              "    ><div style='display: none; color: #999; padding-top: 0px; font-size: 12px;'>0.0</div\n",
              "        ><div id='_tp_pmtdnpckuccwbuqzvtyo_ind_16'\n",
              "            style='display: inline; background: rgba(230.2941176470614, 26.505882352939775, 102.59215686274348, 0.0); border-radius: 3px; padding: 0px'\n",
              "            onclick=\"\n",
              "            if (this.previousSibling.style.display == 'none') {\n",
              "                this.previousSibling.style.display = 'block';\n",
              "                this.parentNode.style.display = 'inline-block';\n",
              "            } else {\n",
              "                this.previousSibling.style.display = 'none';\n",
              "                this.parentNode.style.display = 'inline';\n",
              "            }\"\n",
              "            onmouseover=\"document.getElementById('_fb_pmtdnpckuccwbuqzvtyo_ind_16').style.opacity = 1; document.getElementById('_fs_pmtdnpckuccwbuqzvtyo_ind_16').style.opacity = 1;\"\n",
              "            onmouseout=\"document.getElementById('_fb_pmtdnpckuccwbuqzvtyo_ind_16').style.opacity = 0; document.getElementById('_fs_pmtdnpckuccwbuqzvtyo_ind_16').style.opacity = 0;\"\n",
              "        ></div></div></div>"
            ],
            "text/plain": [
              "<IPython.core.display.HTML object>"
            ]
          },
          "metadata": {},
          "output_type": "display_data"
        }
      ],
      "source": [
        "shap.plots.text(shap_values[3,:,\"LABEL_0\"])"
      ]
    },
    {
      "cell_type": "code",
      "execution_count": null,
      "metadata": {},
      "outputs": [
        {
          "data": {
            "image/png": "[encoded data removed]",
            "text/plain": [
              "<Figure size 576x468 with 1 Axes>"
            ]
          },
          "metadata": {},
          "output_type": "display_data"
        }
      ],
      "source": [
        "shap.plots.bar(shap_values[3,:,\"LABEL_1\"],clustering_cutoff=1.2)"
      ]
    },
    {
      "cell_type": "code",
      "execution_count": null,
      "metadata": {},
      "outputs": [
        {
          "data": {
            "image/png": "[encoded data removed]",
            "text/plain": [
              "<Figure size 576x468 with 1 Axes>"
            ]
          },
          "metadata": {},
          "output_type": "display_data"
        }
      ],
      "source": [
        "shap.plots.bar(shap_values[3,:,\"LABEL_0\"],clustering_cutoff=1.2)"
      ]
    },
    {
      "cell_type": "markdown",
      "metadata": {},
      "source": [
        "# Extra"
      ]
    },
    {
      "cell_type": "markdown",
      "metadata": {
        "id": "jFp6Frg9yKNs"
      },
      "source": [
        "### Masker"
      ]
    },
    {
      "cell_type": "markdown",
      "metadata": {},
      "source": [
        "#### Input clustering"
      ]
    },
    {
      "cell_type": "markdown",
      "metadata": {
        "id": "8URPnkt9KgT3"
      },
      "source": [
        "This is the tokenized input the model tokenizer makes."
      ]
    },
    {
      "cell_type": "code",
      "execution_count": null,
      "metadata": {
        "colab": {
          "base_uri": "https://localhost:8080/"
        },
        "id": "bzrTSOlOyfh0",
        "outputId": "29ca9c41-a61c-4d8f-a780-87ca1ee2334b"
      },
      "outputs": [
        {
          "name": "stdout",
          "output_type": "stream",
          "text": [
            "Token ids: [101, 2066, 3097, 1103, 2523, 119, 3473, 12226, 14477, 23370, 112, 188, 2842, 5172, 3920, 112, 189, 1115, 15660, 119, 102]\n",
            "Tokens: ['[CLS]', 'Just', 'loved', 'the', 'movie', '.', 'Though', 'Val', 'Ki', '##lmer', \"'\", 's', 'dance', 'movements', 'weren', \"'\", 't', 'that', 'stunning', '.', '[SEP]']\n",
            "Number of tokens: 21\n",
            "Token for masking: [MASK]\n"
          ]
        }
      ],
      "source": [
        "sentence=data_sample[0]\n",
        "tokenized=tokenizer(sentence)\n",
        "print(f\"Token ids: {tokenized['input_ids']}\") \n",
        "print(f\"Tokens: {tokenizer.convert_ids_to_tokens(tokenized['input_ids'])}\") # CLS and SEP tokens indicating start and end of input are included\n",
        "print(f\"Number of tokens: {len(tokenizer.convert_ids_to_tokens(tokenized['input_ids']))}\")\n",
        "print(f\"Token for masking: {tokenizer.mask_token}\")"
      ]
    },
    {
      "cell_type": "markdown",
      "metadata": {
        "id": "R0VSe48GKltU"
      },
      "source": [
        "This is the SHAP masker for the input. The masker is used to make the player coalitions, i.e. the input permutations"
      ]
    },
    {
      "cell_type": "code",
      "execution_count": null,
      "metadata": {
        "colab": {
          "base_uri": "https://localhost:8080/"
        },
        "id": "cqtYl4kMyJcf",
        "outputId": "4fcd9c71-cce5-45df-bb28-1eb14239f47e"
      },
      "outputs": [
        {
          "data": {
            "text/plain": [
              "<shap.maskers._text.Text at 0x3140f4f70>"
            ]
          },
          "execution_count": 50,
          "metadata": {},
          "output_type": "execute_result"
        }
      ],
      "source": [
        "masker = shap.maskers.Text(classifier.tokenizer) # pass the tokenizer of the trained model \n",
        "masker"
      ]
    },
    {
      "cell_type": "code",
      "execution_count": null,
      "metadata": {},
      "outputs": [
        {
          "data": {
            "text/plain": [
              "5"
            ]
          },
          "execution_count": 51,
          "metadata": {},
          "output_type": "execute_result"
        }
      ],
      "source": [
        "masker.default_batch_size"
      ]
    },
    {
      "cell_type": "code",
      "execution_count": null,
      "metadata": {},
      "outputs": [
        {
          "data": {
            "text/plain": [
              "array([[ True, False, False, False, False, False, False, False, False,\n",
              "        False, False, False, False, False, False, False, False, False,\n",
              "        False, False,  True]])"
            ]
          },
          "execution_count": 52,
          "metadata": {},
          "output_type": "execute_result"
        }
      ],
      "source": [
        "masker.invariants(data_sample[0])"
      ]
    },
    {
      "cell_type": "markdown",
      "metadata": {},
      "source": [
        "The masker forms the hierarchical clusterig of the variables which will be passed to the explainer. The clustering is used to form coalitions. "
      ]
    },
    {
      "cell_type": "code",
      "execution_count": null,
      "metadata": {},
      "outputs": [],
      "source": [
        "# masker.clustering() calls method partition_tree(tokens, special_tokens)\n",
        "\n",
        "def clustering(self, s):\n",
        "    \"\"\" Compute the clustering of tokens for the given string.\n",
        "    \"\"\"\n",
        "    self._update_s_cache(s)\n",
        "    special_tokens = []\n",
        "    sep_token = getattr_silent(self.tokenizer, \"sep_token\")\n",
        "    if sep_token is None:\n",
        "        special_tokens = []\n",
        "    else:\n",
        "        special_tokens = [sep_token]\n",
        "\n",
        "    # convert the text segments to tokens that the partition tree function expects\n",
        "    tokens = []\n",
        "    space_end = re.compile(r\"^.*\\W$\")\n",
        "    letter_start = re.compile(r\"^[A-z]\")\n",
        "    for i, v in enumerate(self._segments_s):\n",
        "        if i > 0 and space_end.match(self._segments_s[i-1]) is None and letter_start.match(v) is not None and tokens[i-1] != \"\":\n",
        "            tokens.append(\"##\" + v.strip())\n",
        "        else:\n",
        "            tokens.append(v.strip())\n",
        "\n",
        "    pt = partition_tree(tokens, special_tokens)\n",
        "\n",
        "    # use the rescaled size of the clusters as their height since the merge scores are just a\n",
        "    # heuristic and not scaled well\n",
        "    pt[:, 2] = pt[:, 3]\n",
        "    pt[:, 2] /= pt[:, 2].max()\n",
        "\n",
        "    return pt\n",
        "\n",
        "openers = {\n",
        "    \"(\": \")\"\n",
        "}\n",
        "closers = {\n",
        "    \")\": \"(\"\n",
        "}\n",
        "enders = [\".\", \",\"]\n",
        "connectors = [\"but\", \"and\", \"or\"]\n",
        "\n",
        "class Token():\n",
        "    \"\"\" A token representation used for token clustering.\n",
        "    \"\"\"\n",
        "    def __init__(self, value):\n",
        "        self.s = value\n",
        "        if value in openers or value in closers:\n",
        "            self.balanced = False\n",
        "        else:\n",
        "            self.balanced = True\n",
        "\n",
        "    def __str__(self):\n",
        "        return self.s\n",
        "\n",
        "    def __repr__(self):\n",
        "        if not self.balanced:\n",
        "            return self.s + \"!\"\n",
        "        return self.s\n",
        "\n",
        "class TokenGroup():\n",
        "    \"\"\" A token group (substring) representation used for token clustering.\n",
        "    \"\"\"\n",
        "    def __init__(self, group, index=None):\n",
        "        self.g = group\n",
        "        self.index = index\n",
        "\n",
        "    def __repr__(self):\n",
        "        return self.g.__repr__()\n",
        "\n",
        "    def __getitem__(self, index):\n",
        "        return self.g[index]\n",
        "\n",
        "    def __add__(self, o):\n",
        "        return TokenGroup(self.g + o.g)\n",
        "\n",
        "    def __len__(self):\n",
        "        return len(self.g)\n",
        "\n",
        "def merge_score(group1, group2, special_tokens):\n",
        "    \"\"\" Compute the score of merging two token groups.\n",
        "\n",
        "    special_tokens: tokens (such as separator tokens) that should be grouped last\n",
        "    \"\"\"\n",
        "    score = 0\n",
        "    # ensures special tokens are combined last, so 1st subtree is 1st sentence and 2nd subtree is 2nd sentence\n",
        "    if len(special_tokens) > 0:\n",
        "        if group1[-1].s in special_tokens and group2[0].s in special_tokens:\n",
        "            score -= math.inf # subtracting infinity to create lowest score and ensure combining these groups last\n",
        "\n",
        "    # merge broken-up parts of words first\n",
        "    if group2[0].s.startswith(\"##\"):\n",
        "        score += 20\n",
        "\n",
        "    # merge apostrophe endings next\n",
        "    if group2[0].s == \"'\" and (len(group2) == 1 or (len(group2) == 2 and group2[1].s in [\"t\", \"s\"])):\n",
        "        score += 15\n",
        "    if group1[-1].s == \"'\" and group2[0].s in [\"t\", \"s\"]:\n",
        "        score += 15\n",
        "\n",
        "    start_ctrl = group1[0].s.startswith(\"[\") and group1[0].s.endswith(\"]\")\n",
        "    end_ctrl = group2[-1].s.startswith(\"[\") and group2[-1].s.endswith(\"]\")\n",
        "\n",
        "    if (start_ctrl and not end_ctrl) or (end_ctrl and not start_ctrl):\n",
        "        score -= 1000\n",
        "    if group2[0].s in openers and not group2[0].balanced:\n",
        "        score -= 100\n",
        "    if group1[-1].s in closers and not group1[-1].balanced:\n",
        "        score -= 100\n",
        "\n",
        "    # attach surrounding an openers and closers a bit later\n",
        "    if group1[0].s in openers and not group2[-1] in closers:\n",
        "        score -= 2\n",
        "\n",
        "    # reach across connectors later\n",
        "    if group1[-1].s in connectors or group2[0].s in connectors:\n",
        "        score -= 2\n",
        "\n",
        "    # reach across commas later\n",
        "    if group1[-1].s == \",\":\n",
        "        score -= 10\n",
        "    if group2[0].s == \",\":\n",
        "        if len(group2) > 1: # reach across\n",
        "            score -= 10\n",
        "        else:\n",
        "            score -= 1\n",
        "\n",
        "    # reach across sentence endings later\n",
        "    if group1[-1].s in [\".\", \"?\", \"!\"]:\n",
        "        score -= 20\n",
        "    if group2[0].s in [\".\", \"?\", \"!\"]:\n",
        "        if len(group2) > 1: # reach across\n",
        "            score -= 20\n",
        "        else:\n",
        "            score -= 1\n",
        "\n",
        "    score -= len(group1) + len(group2)\n",
        "    print(group1, group2, score) # HK\n",
        "    return score\n",
        "\n",
        "def merge_closest_groups(groups, special_tokens):\n",
        "    \"\"\" Finds the two token groups with the best merge score and merges them.\n",
        "    \"\"\"\n",
        "    scores = [merge_score(groups[i], groups[i+1], special_tokens) for i in range(len(groups)-1)]\n",
        "    #print(scores)\n",
        "    ind = np.argmax(scores)\n",
        "    groups[ind] = groups[ind] + groups[ind+1]\n",
        "    #print(groups[ind][0].s in openers, groups[ind][0])\n",
        "    if groups[ind][0].s in openers and groups[ind+1][-1].s == openers[groups[ind][0].s]:\n",
        "        groups[ind][0].balanced = True\n",
        "        groups[ind+1][-1].balanced = True\n",
        "\n",
        "\n",
        "    groups.pop(ind+1)\n",
        "\n",
        "def partition_tree(decoded_tokens, special_tokens):\n",
        "    \"\"\" Build a heriarchial clustering of tokens that align with sentence structure.\n",
        "\n",
        "    Note that this is fast and heuristic right now.\n",
        "    TODO: Build this using a real constituency parser.\n",
        "    \"\"\"\n",
        "    token_groups = [TokenGroup([Token(t)], i) for i, t in enumerate(decoded_tokens)]\n",
        "    # print(\"T groups\",token_groups) # HK\n",
        "    M = len(decoded_tokens)\n",
        "    new_index = M\n",
        "    clustm = np.zeros((M-1, 4))\n",
        "    # print(clustm)\n",
        "    for i in range(len(token_groups)-1):\n",
        "        print(\"Token groups to be evaluated on this iteration and their scores:\")\n",
        "        scores = [merge_score(token_groups[i], token_groups[i+1], special_tokens) for i in range(len(token_groups)-1)]\n",
        "        print(\"scores\",scores)\n",
        "        ind = np.argmax(scores)\n",
        "        print(\"index (=np.argmax(scores)\",ind)\n",
        "        lind = token_groups[ind].index\n",
        "        print(\"left index\",lind)\n",
        "        rind = token_groups[ind+1].index\n",
        "        print(\"right index\",rind)\n",
        "        clustm[new_index-M, 0] = token_groups[ind].index # HK: index of the best token group\n",
        "        print(clustm)\n",
        "        clustm[new_index-M, 1] = token_groups[ind+1].index # HK: index of the 2nd best token group\n",
        "        print(clustm)\n",
        "        clustm[new_index-M, 2] = -scores[ind] # distance of the groups\n",
        "        print(clustm)\n",
        "        clustm[new_index-M, 3] = (clustm[lind-M, 3] if lind >= M else 1) + (clustm[rind-M, 3] if rind >= M else 1)\n",
        "        print(clustm)\n",
        "\n",
        "        token_groups[ind] = token_groups[ind] + token_groups[ind+1]\n",
        "        token_groups[ind].index = new_index\n",
        "\n",
        "        # track balancing of openers/closers\n",
        "        if token_groups[ind][0].s in openers and token_groups[ind+1][-1].s == openers[token_groups[ind][0].s]:\n",
        "            token_groups[ind][0].balanced = True\n",
        "            token_groups[ind+1][-1].balanced = True\n",
        "\n",
        "        token_groups.pop(ind+1)\n",
        "        new_index += 1\n",
        "        print()\n",
        "    # negative means we should never split a group, so we add 10 to ensure these are very tight groups\n",
        "    # (such as parts of the same word)\n",
        "    clustm[:, 2] = clustm[:, 2] + 10 # HK: this index (column) has the distance between the groups 10\n",
        "    print(clustm)\n",
        "    return clustm\n"
      ]
    },
    {
      "cell_type": "code",
      "execution_count": null,
      "metadata": {},
      "outputs": [
        {
          "name": "stdout",
          "output_type": "stream",
          "text": [
            "{'input_ids': [101, 146, 1567, 6363, 102], 'token_type_ids': [0, 0, 0, 0, 0], 'attention_mask': [1, 1, 1, 1, 1]}\n",
            "['I [MASK]dogs']\n",
            "['[CLS]', 'I', 'love', 'dogs', '[SEP]']\n"
          ]
        }
      ],
      "source": [
        "# Tokens for the partition tree example\n",
        "special=[tokenizer.sep_token, tokenizer.cls_token]\n",
        "# toy example\n",
        "toy=\"I love dogs\"\n",
        "#toy=\"I love dogs very much indeed\"\n",
        "tokenized_toy=tokenizer(toy)\n",
        "print(tokenized_toy)\n",
        "masked_toy= masker(np.array([True, True, False, True, False]), toy)\n",
        "#masked_toy= masker(np.array([True, True, False, True, False,True, False, True]), toy)\n",
        "masked_toy=masked_toy[0]\n",
        "print(masked_toy)\n",
        "decoded_toy=tokenizer.convert_ids_to_tokens(tokenized_toy['input_ids'])\n",
        "print(decoded_toy)"
      ]
    },
    {
      "cell_type": "code",
      "execution_count": null,
      "metadata": {},
      "outputs": [
        {
          "name": "stdout",
          "output_type": "stream",
          "text": [
            "Token groups to be evaluated on this iteration and their scores:\n",
            "[[CLS]] [I] -1002\n",
            "[I] [love] -2\n",
            "[love] [dogs] -2\n",
            "[dogs] [[SEP]] -1002\n",
            "scores [-1002, -2, -2, -1002]\n",
            "index (=np.argmax(scores) 1\n",
            "left index 1\n",
            "right index 2\n",
            "[[1. 0. 0. 0.]\n",
            " [0. 0. 0. 0.]\n",
            " [0. 0. 0. 0.]\n",
            " [0. 0. 0. 0.]]\n",
            "[[1. 2. 0. 0.]\n",
            " [0. 0. 0. 0.]\n",
            " [0. 0. 0. 0.]\n",
            " [0. 0. 0. 0.]]\n",
            "[[1. 2. 2. 0.]\n",
            " [0. 0. 0. 0.]\n",
            " [0. 0. 0. 0.]\n",
            " [0. 0. 0. 0.]]\n",
            "[[1. 2. 2. 2.]\n",
            " [0. 0. 0. 0.]\n",
            " [0. 0. 0. 0.]\n",
            " [0. 0. 0. 0.]]\n",
            "\n",
            "Token groups to be evaluated on this iteration and their scores:\n",
            "[[CLS]] [I, love] -1003\n",
            "[I, love] [dogs] -3\n",
            "[dogs] [[SEP]] -1002\n",
            "scores [-1003, -3, -1002]\n",
            "index (=np.argmax(scores) 1\n",
            "left index 5\n",
            "right index 3\n",
            "[[1. 2. 2. 2.]\n",
            " [5. 0. 0. 0.]\n",
            " [0. 0. 0. 0.]\n",
            " [0. 0. 0. 0.]]\n",
            "[[1. 2. 2. 2.]\n",
            " [5. 3. 0. 0.]\n",
            " [0. 0. 0. 0.]\n",
            " [0. 0. 0. 0.]]\n",
            "[[1. 2. 2. 2.]\n",
            " [5. 3. 3. 0.]\n",
            " [0. 0. 0. 0.]\n",
            " [0. 0. 0. 0.]]\n",
            "[[1. 2. 2. 2.]\n",
            " [5. 3. 3. 3.]\n",
            " [0. 0. 0. 0.]\n",
            " [0. 0. 0. 0.]]\n",
            "\n",
            "Token groups to be evaluated on this iteration and their scores:\n",
            "[[CLS]] [I, love, dogs] -1004\n",
            "[I, love, dogs] [[SEP]] -1004\n",
            "scores [-1004, -1004]\n",
            "index (=np.argmax(scores) 0\n",
            "left index 0\n",
            "right index 6\n",
            "[[1. 2. 2. 2.]\n",
            " [5. 3. 3. 3.]\n",
            " [0. 0. 0. 0.]\n",
            " [0. 0. 0. 0.]]\n",
            "[[1. 2. 2. 2.]\n",
            " [5. 3. 3. 3.]\n",
            " [0. 6. 0. 0.]\n",
            " [0. 0. 0. 0.]]\n",
            "[[1.000e+00 2.000e+00 2.000e+00 2.000e+00]\n",
            " [5.000e+00 3.000e+00 3.000e+00 3.000e+00]\n",
            " [0.000e+00 6.000e+00 1.004e+03 0.000e+00]\n",
            " [0.000e+00 0.000e+00 0.000e+00 0.000e+00]]\n",
            "[[1.000e+00 2.000e+00 2.000e+00 2.000e+00]\n",
            " [5.000e+00 3.000e+00 3.000e+00 3.000e+00]\n",
            " [0.000e+00 6.000e+00 1.004e+03 4.000e+00]\n",
            " [0.000e+00 0.000e+00 0.000e+00 0.000e+00]]\n",
            "\n",
            "Token groups to be evaluated on this iteration and their scores:\n",
            "[[CLS], I, love, dogs] [[SEP]] -5\n",
            "scores [-5]\n",
            "index (=np.argmax(scores) 0\n",
            "left index 7\n",
            "right index 4\n",
            "[[1.000e+00 2.000e+00 2.000e+00 2.000e+00]\n",
            " [5.000e+00 3.000e+00 3.000e+00 3.000e+00]\n",
            " [0.000e+00 6.000e+00 1.004e+03 4.000e+00]\n",
            " [7.000e+00 0.000e+00 0.000e+00 0.000e+00]]\n",
            "[[1.000e+00 2.000e+00 2.000e+00 2.000e+00]\n",
            " [5.000e+00 3.000e+00 3.000e+00 3.000e+00]\n",
            " [0.000e+00 6.000e+00 1.004e+03 4.000e+00]\n",
            " [7.000e+00 4.000e+00 0.000e+00 0.000e+00]]\n",
            "[[1.000e+00 2.000e+00 2.000e+00 2.000e+00]\n",
            " [5.000e+00 3.000e+00 3.000e+00 3.000e+00]\n",
            " [0.000e+00 6.000e+00 1.004e+03 4.000e+00]\n",
            " [7.000e+00 4.000e+00 5.000e+00 0.000e+00]]\n",
            "[[1.000e+00 2.000e+00 2.000e+00 2.000e+00]\n",
            " [5.000e+00 3.000e+00 3.000e+00 3.000e+00]\n",
            " [0.000e+00 6.000e+00 1.004e+03 4.000e+00]\n",
            " [7.000e+00 4.000e+00 5.000e+00 5.000e+00]]\n",
            "\n",
            "[[1.000e+00 2.000e+00 1.200e+01 2.000e+00]\n",
            " [5.000e+00 3.000e+00 1.300e+01 3.000e+00]\n",
            " [0.000e+00 6.000e+00 1.014e+03 4.000e+00]\n",
            " [7.000e+00 4.000e+00 1.500e+01 5.000e+00]]\n"
          ]
        },
        {
          "data": {
            "text/plain": [
              "array([[1.000e+00, 2.000e+00, 1.200e+01, 2.000e+00],\n",
              "       [5.000e+00, 3.000e+00, 1.300e+01, 3.000e+00],\n",
              "       [0.000e+00, 6.000e+00, 1.014e+03, 4.000e+00],\n",
              "       [7.000e+00, 4.000e+00, 1.500e+01, 5.000e+00]])"
            ]
          },
          "execution_count": 55,
          "metadata": {},
          "output_type": "execute_result"
        }
      ],
      "source": [
        "partition_tree(decoded_toy, special)"
      ]
    },
    {
      "cell_type": "code",
      "execution_count": null,
      "metadata": {},
      "outputs": [
        {
          "data": {
            "text/plain": [
              "array([[0. , 1. , 0.4, 2. ],\n",
              "       [2. , 3. , 0.4, 2. ],\n",
              "       [6. , 4. , 0.6, 3. ],\n",
              "       [5. , 7. , 1. , 5. ]])"
            ]
          },
          "execution_count": 56,
          "metadata": {},
          "output_type": "execute_result"
        }
      ],
      "source": [
        "masker.clustering(toy) #https://github.com/slundberg/shap/blob/45b85c1837283fdaeed7440ec6365a886af4a333/shap/maskers/_text.py#L204\n",
        "# https://github.com/slundberg/shap/blob/45b85c1837283fdaeed7440ec6365a886af4a333/shap/explainers/_partition.py#L61\n",
        "\n",
        "# The distance of the groups (column 2) is based on heuristic values so it is rescaled. \n",
        "# Size of the token groups grow (column 3) when we start from the first row (the end nodes or the leaves of the tree) and proceed to the last row (the root node)"
      ]
    },
    {
      "cell_type": "markdown",
      "metadata": {
        "id": "TOY5Z_ryKowX"
      },
      "source": [
        "Let's see, whow the masker works. Let's start with all input visible."
      ]
    },
    {
      "cell_type": "code",
      "execution_count": null,
      "metadata": {
        "colab": {
          "base_uri": "https://localhost:8080/"
        },
        "id": "T4eRhIwk4Kc-",
        "outputId": "a2116a7b-d489-4f9b-c917-eceef5db36a8"
      },
      "outputs": [
        {
          "name": "stdout",
          "output_type": "stream",
          "text": [
            "These are the input the model will see: \n",
            "(array([\"Just loved the movie. Though Val Kilmer's dance movements weren't that stunning.\"],\n",
            "      dtype='<U80'),)\n",
            "These are the values SHAP will give when the model sees all of the input: \n",
            "[[0.        0.8463619]]\n"
          ]
        }
      ],
      "source": [
        "boolean_arr=np.ones(len(tokenizer.convert_ids_to_tokens(tokenized['input_ids'])), dtype=np.bool) # array with value 'True' as many times as we have tokens in the input\n",
        "\n",
        "model_args = masker(boolean_arr, sentence)\n",
        "print(f\"These are the input the model will see: \\n{model_args}\")\n",
        "print(f\"These are the values SHAP will give when the model sees all of the input: \\n{shap_pipeline_model(*model_args)}\") \n",
        "\n",
        "# Do the neccessary reshape and compare arrays elementwise\n",
        "assert(np.equal(shap_pipeline_model(data_sample)[0],shap_pipeline_model(*model_args)).all())"
      ]
    },
    {
      "cell_type": "markdown",
      "metadata": {
        "id": "ZEQkYhmx_9Bu"
      },
      "source": [
        "The base value is the value SHAP will give when the model sees none of the instance input. "
      ]
    },
    {
      "cell_type": "code",
      "execution_count": null,
      "metadata": {
        "colab": {
          "base_uri": "https://localhost:8080/"
        },
        "id": "xH3_f93Z7qRr",
        "outputId": "b84dad1b-05fb-4d4a-e31d-ba00d7727a3c"
      },
      "outputs": [
        {
          "name": "stdout",
          "output_type": "stream",
          "text": [
            "These are the input the model will see: \n",
            "(array(['[MASK] [MASK] [MASK] [MASK] [MASK] [MASK] [MASK] [MASK] [MASK] [MASK] [MASK] [MASK] [MASK] [MASK] [MASK] [MASK] [MASK] [MASK] [MASK]'],\n",
            "      dtype='<U132'),)\n",
            "They will give the model base values:  \n",
            "[[0.         0.36848021]]\n"
          ]
        }
      ],
      "source": [
        "boolean_arr=np.zeros(len(tokenizer.convert_ids_to_tokens(tokenized['input_ids'])), dtype=np.bool) # all false\n",
        "\n",
        "model_args = masker(boolean_arr, sentence)\n",
        "print(f\"These are the input the model will see: \\n{model_args}\")\n",
        "print(f\"They will give the model base values:  \\n{shap_pipeline_model(*model_args)}\")\n",
        "\n",
        "# Do the neccessary reshape and compare arrays elementwise\n",
        "assert(np.equal(shap_values[0].base_values.reshape(1,2),shap_pipeline_model(*model_args)).all())"
      ]
    },
    {
      "cell_type": "markdown",
      "metadata": {
        "id": "5FzEpR8ERKbV"
      },
      "source": [
        "By altering the mask we get different kind of player coalitions:"
      ]
    },
    {
      "cell_type": "code",
      "execution_count": null,
      "metadata": {
        "colab": {
          "base_uri": "https://localhost:8080/"
        },
        "id": "NMsxa-PfRJFr",
        "outputId": "8b2acdd0-2d95-4280-dafd-a52257556689"
      },
      "outputs": [
        {
          "data": {
            "text/plain": [
              "array([ True,  True, False,  True,  True,  True,  True, False, False,\n",
              "       False,  True,  True,  True,  True,  True,  True,  True,  True,\n",
              "        True,  True,  True])"
            ]
          },
          "execution_count": 59,
          "metadata": {},
          "output_type": "execute_result"
        }
      ],
      "source": [
        "boolean_arr=np.ones(len(tokenizer.convert_ids_to_tokens(tokenized['input_ids'])), dtype=np.bool)\n",
        "for i in [2,7,8,9]:\n",
        "    boolean_arr[i,]=False\n",
        "boolean_arr"
      ]
    },
    {
      "cell_type": "code",
      "execution_count": null,
      "metadata": {
        "colab": {
          "base_uri": "https://localhost:8080/"
        },
        "id": "F94tDpyrRgbz",
        "outputId": "2135709d-dc60-47a4-e727-e196ba4b9c63"
      },
      "outputs": [
        {
          "name": "stdout",
          "output_type": "stream",
          "text": [
            "['[CLS]', 'Just', 'loved', 'the', 'movie', '.', 'Though', 'Val', 'Ki', '##lmer', \"'\", 's', 'dance', 'movements', 'weren', \"'\", 't', 'that', 'stunning', '.', '[SEP]']\n",
            "These are the input the model will see: \n",
            "(array([\"Just [MASK]the movie. Though [MASK] [MASK] [MASK]'s dance movements weren't that stunning.\"],\n",
            "      dtype='<U90'),)\n",
            "They will give these SHAP-values:  \n",
            "[[0.5377089 0.       ]]\n"
          ]
        }
      ],
      "source": [
        "model_args = masker(boolean_arr, sentence)\n",
        "print(tokenizer.convert_ids_to_tokens(tokenized['input_ids']))\n",
        "print(f\"These are the input the model will see: \\n{model_args}\")\n",
        "print(f\"They will give these SHAP-values:  \\n{shap_pipeline_model(*model_args)}\")"
      ]
    },
    {
      "cell_type": "code",
      "execution_count": null,
      "metadata": {},
      "outputs": [],
      "source": [
        "# def identity(x):\n",
        "#     \"\"\" A no-op link function.\n",
        "#     \"\"\"\n",
        "#     return x"
      ]
    },
    {
      "cell_type": "code",
      "execution_count": null,
      "metadata": {
        "colab": {
          "base_uri": "https://localhost:8080/",
          "height": 418
        },
        "id": "HJroGOGlVBL3",
        "outputId": "0fcd5e81-3785-4928-b819-a1aaa49444ca"
      },
      "outputs": [
        {
          "ename": "SyntaxError",
          "evalue": "positional argument follows keyword argument (3756375477.py, line 3)",
          "output_type": "error",
          "traceback": [
            "\u001b[0;36m  Input \u001b[0;32mIn [62]\u001b[0;36m\u001b[0m\n\u001b[0;31m    shap.utils.MaskedModel(model=shap_pipeline_model, masker=masker, link=links.identity, linearize_link=True, \"Just loved the movie. Though Val Kilmer's dance movements weren't that stunning.\")\u001b[0m\n\u001b[0m                                                                                                                                                                                                 ^\u001b[0m\n\u001b[0;31mSyntaxError\u001b[0m\u001b[0;31m:\u001b[0m positional argument follows keyword argument\n"
          ]
        }
      ],
      "source": [
        "from shap import links\n",
        "\n",
        "shap.utils.MaskedModel(model=shap_pipeline_model, masker=masker, link=links.identity, linearize_link=True, \"Just loved the movie. Though Val Kilmer's dance movements weren't that stunning.\")"
      ]
    },
    {
      "cell_type": "markdown",
      "metadata": {
        "id": "R2ErJH3LxpDi"
      },
      "source": [
        "# End"
      ]
    },
    {
      "cell_type": "code",
      "execution_count": null,
      "metadata": {
        "id": "1YyXvyQJxqyg"
      },
      "outputs": [],
      "source": []
    }
  ],
  "metadata": {
    "accelerator": "GPU",
    "colab": {
      "include_colab_link": true,
      "name": "Text Classification on GLUE",
      "provenance": [],
      "toc_visible": true
    },
    "gpuClass": "standard",
    "kernelspec": {
      "display_name": "Python 3.9.13 ('base')",
      "language": "python",
      "name": "python3"
    },
    "language_info": {
      "codemirror_mode": {
        "name": "ipython",
        "version": 3
      },
      "file_extension": ".py",
      "mimetype": "text/x-python",
      "name": "python",
      "nbconvert_exporter": "python",
      "pygments_lexer": "ipython3",
      "version": "3.9.13"
    },
    "vscode": {
      "interpreter": {
        "hash": "c6e4e9f98eb68ad3b7c296f83d20e6de614cb42e90992a65aa266555a3137d0d"
      }
    },
    "widgets": {
      "application/vnd.jupyter.widget-state+json": {
        "0013342eb35944958723727c6169f29a": {
          "model_module": "@jupyter-widgets/controls",
          "model_module_version": "1.5.0",
          "model_name": "HBoxModel",
          "state": {
            "_dom_classes": [],
            "_model_module": "@jupyter-widgets/controls",
            "_model_module_version": "1.5.0",
            "_model_name": "HBoxModel",
            "_view_count": null,
            "_view_module": "@jupyter-widgets/controls",
            "_view_module_version": "1.5.0",
            "_view_name": "HBoxView",
            "box_style": "",
            "children": [
              "IPY_MODEL_7948950b0dff42d99bd1e14cea98bb4e",
              "IPY_MODEL_3616a0eaa99e410bb042ce275bafa040",
              "IPY_MODEL_97f7e786df424743adfde1b3e4961439"
            ],
            "layout": "IPY_MODEL_bd73e530bcba4d398533dcff280452c5"
          }
        },
        "018129f6e1dc40da81f60b7ca7ac5a6e": {
          "model_module": "@jupyter-widgets/base",
          "model_module_version": "1.2.0",
          "model_name": "LayoutModel",
          "state": {
            "_model_module": "@jupyter-widgets/base",
            "_model_module_version": "1.2.0",
            "_model_name": "LayoutModel",
            "_view_count": null,
            "_view_module": "@jupyter-widgets/base",
            "_view_module_version": "1.2.0",
            "_view_name": "LayoutView",
            "align_content": null,
            "align_items": null,
            "align_self": null,
            "border": null,
            "bottom": null,
            "display": null,
            "flex": null,
            "flex_flow": null,
            "grid_area": null,
            "grid_auto_columns": null,
            "grid_auto_flow": null,
            "grid_auto_rows": null,
            "grid_column": null,
            "grid_gap": null,
            "grid_row": null,
            "grid_template_areas": null,
            "grid_template_columns": null,
            "grid_template_rows": null,
            "height": null,
            "justify_content": null,
            "justify_items": null,
            "left": null,
            "margin": null,
            "max_height": null,
            "max_width": null,
            "min_height": null,
            "min_width": null,
            "object_fit": null,
            "object_position": null,
            "order": null,
            "overflow": null,
            "overflow_x": null,
            "overflow_y": null,
            "padding": null,
            "right": null,
            "top": null,
            "visibility": null,
            "width": null
          }
        },
        "0415d1398339435b989a1c03c08eaad9": {
          "model_module": "@jupyter-widgets/base",
          "model_module_version": "1.2.0",
          "model_name": "LayoutModel",
          "state": {
            "_model_module": "@jupyter-widgets/base",
            "_model_module_version": "1.2.0",
            "_model_name": "LayoutModel",
            "_view_count": null,
            "_view_module": "@jupyter-widgets/base",
            "_view_module_version": "1.2.0",
            "_view_name": "LayoutView",
            "align_content": null,
            "align_items": null,
            "align_self": null,
            "border": null,
            "bottom": null,
            "display": null,
            "flex": null,
            "flex_flow": null,
            "grid_area": null,
            "grid_auto_columns": null,
            "grid_auto_flow": null,
            "grid_auto_rows": null,
            "grid_column": null,
            "grid_gap": null,
            "grid_row": null,
            "grid_template_areas": null,
            "grid_template_columns": null,
            "grid_template_rows": null,
            "height": null,
            "justify_content": null,
            "justify_items": null,
            "left": null,
            "margin": null,
            "max_height": null,
            "max_width": null,
            "min_height": null,
            "min_width": null,
            "object_fit": null,
            "object_position": null,
            "order": null,
            "overflow": null,
            "overflow_x": null,
            "overflow_y": null,
            "padding": null,
            "right": null,
            "top": null,
            "visibility": null,
            "width": null
          }
        },
        "04af4edf2cfc42059d1a4c7e98f79b71": {
          "model_module": "@jupyter-widgets/base",
          "model_module_version": "1.2.0",
          "model_name": "LayoutModel",
          "state": {
            "_model_module": "@jupyter-widgets/base",
            "_model_module_version": "1.2.0",
            "_model_name": "LayoutModel",
            "_view_count": null,
            "_view_module": "@jupyter-widgets/base",
            "_view_module_version": "1.2.0",
            "_view_name": "LayoutView",
            "align_content": null,
            "align_items": null,
            "align_self": null,
            "border": null,
            "bottom": null,
            "display": null,
            "flex": null,
            "flex_flow": null,
            "grid_area": null,
            "grid_auto_columns": null,
            "grid_auto_flow": null,
            "grid_auto_rows": null,
            "grid_column": null,
            "grid_gap": null,
            "grid_row": null,
            "grid_template_areas": null,
            "grid_template_columns": null,
            "grid_template_rows": null,
            "height": null,
            "justify_content": null,
            "justify_items": null,
            "left": null,
            "margin": null,
            "max_height": null,
            "max_width": null,
            "min_height": null,
            "min_width": null,
            "object_fit": null,
            "object_position": null,
            "order": null,
            "overflow": null,
            "overflow_x": null,
            "overflow_y": null,
            "padding": null,
            "right": null,
            "top": null,
            "visibility": null,
            "width": null
          }
        },
        "04d6dd337b72444ca67a5a952c26f30c": {
          "model_module": "@jupyter-widgets/controls",
          "model_module_version": "1.5.0",
          "model_name": "HTMLModel",
          "state": {
            "_dom_classes": [],
            "_model_module": "@jupyter-widgets/controls",
            "_model_module_version": "1.5.0",
            "_model_name": "HTMLModel",
            "_view_count": null,
            "_view_module": "@jupyter-widgets/controls",
            "_view_module_version": "1.5.0",
            "_view_name": "HTMLView",
            "description": "",
            "description_tooltip": null,
            "layout": "IPY_MODEL_30f1e1eb6eda4781bad9a91ca28bb064",
            "placeholder": "​",
            "style": "IPY_MODEL_4eeb3526a007416d9c9aaf08dec19564",
            "value": "100%"
          }
        },
        "063471f17111411fb89e1fe199967eca": {
          "model_module": "@jupyter-widgets/controls",
          "model_module_version": "1.5.0",
          "model_name": "DescriptionStyleModel",
          "state": {
            "_model_module": "@jupyter-widgets/controls",
            "_model_module_version": "1.5.0",
            "_model_name": "DescriptionStyleModel",
            "_view_count": null,
            "_view_module": "@jupyter-widgets/base",
            "_view_module_version": "1.2.0",
            "_view_name": "StyleView",
            "description_width": ""
          }
        },
        "075f1d8b3e6e440a96dd2c05d061d626": {
          "model_module": "@jupyter-widgets/controls",
          "model_module_version": "1.5.0",
          "model_name": "DescriptionStyleModel",
          "state": {
            "_model_module": "@jupyter-widgets/controls",
            "_model_module_version": "1.5.0",
            "_model_name": "DescriptionStyleModel",
            "_view_count": null,
            "_view_module": "@jupyter-widgets/base",
            "_view_module_version": "1.2.0",
            "_view_name": "StyleView",
            "description_width": ""
          }
        },
        "077372c8447e41ccacdf3eb604479258": {
          "model_module": "@jupyter-widgets/base",
          "model_module_version": "1.2.0",
          "model_name": "LayoutModel",
          "state": {
            "_model_module": "@jupyter-widgets/base",
            "_model_module_version": "1.2.0",
            "_model_name": "LayoutModel",
            "_view_count": null,
            "_view_module": "@jupyter-widgets/base",
            "_view_module_version": "1.2.0",
            "_view_name": "LayoutView",
            "align_content": null,
            "align_items": null,
            "align_self": null,
            "border": null,
            "bottom": null,
            "display": null,
            "flex": null,
            "flex_flow": null,
            "grid_area": null,
            "grid_auto_columns": null,
            "grid_auto_flow": null,
            "grid_auto_rows": null,
            "grid_column": null,
            "grid_gap": null,
            "grid_row": null,
            "grid_template_areas": null,
            "grid_template_columns": null,
            "grid_template_rows": null,
            "height": null,
            "justify_content": null,
            "justify_items": null,
            "left": null,
            "margin": null,
            "max_height": null,
            "max_width": null,
            "min_height": null,
            "min_width": null,
            "object_fit": null,
            "object_position": null,
            "order": null,
            "overflow": null,
            "overflow_x": null,
            "overflow_y": null,
            "padding": null,
            "right": null,
            "top": null,
            "visibility": null,
            "width": null
          }
        },
        "0b807568bb7d46398e72bffb6e854345": {
          "model_module": "@jupyter-widgets/controls",
          "model_module_version": "1.5.0",
          "model_name": "HTMLModel",
          "state": {
            "_dom_classes": [],
            "_model_module": "@jupyter-widgets/controls",
            "_model_module_version": "1.5.0",
            "_model_name": "HTMLModel",
            "_view_count": null,
            "_view_module": "@jupyter-widgets/controls",
            "_view_module_version": "1.5.0",
            "_view_name": "HTMLView",
            "description": "",
            "description_tooltip": null,
            "layout": "IPY_MODEL_bb5c7822d6bc49c29c0062f902f90a56",
            "placeholder": "​",
            "style": "IPY_MODEL_b66b399110b447fda44f110fc2847ff2",
            "value": "Downloading data: 100%"
          }
        },
        "0b92acd8a50b4fa08fc195f224f39887": {
          "model_module": "@jupyter-widgets/controls",
          "model_module_version": "1.5.0",
          "model_name": "DescriptionStyleModel",
          "state": {
            "_model_module": "@jupyter-widgets/controls",
            "_model_module_version": "1.5.0",
            "_model_name": "DescriptionStyleModel",
            "_view_count": null,
            "_view_module": "@jupyter-widgets/base",
            "_view_module_version": "1.2.0",
            "_view_name": "StyleView",
            "description_width": ""
          }
        },
        "0c128b0ade874dfa944691da092b235e": {
          "model_module": "@jupyter-widgets/base",
          "model_module_version": "1.2.0",
          "model_name": "LayoutModel",
          "state": {
            "_model_module": "@jupyter-widgets/base",
            "_model_module_version": "1.2.0",
            "_model_name": "LayoutModel",
            "_view_count": null,
            "_view_module": "@jupyter-widgets/base",
            "_view_module_version": "1.2.0",
            "_view_name": "LayoutView",
            "align_content": null,
            "align_items": null,
            "align_self": null,
            "border": null,
            "bottom": null,
            "display": null,
            "flex": null,
            "flex_flow": null,
            "grid_area": null,
            "grid_auto_columns": null,
            "grid_auto_flow": null,
            "grid_auto_rows": null,
            "grid_column": null,
            "grid_gap": null,
            "grid_row": null,
            "grid_template_areas": null,
            "grid_template_columns": null,
            "grid_template_rows": null,
            "height": null,
            "justify_content": null,
            "justify_items": null,
            "left": null,
            "margin": null,
            "max_height": null,
            "max_width": null,
            "min_height": null,
            "min_width": null,
            "object_fit": null,
            "object_position": null,
            "order": null,
            "overflow": null,
            "overflow_x": null,
            "overflow_y": null,
            "padding": null,
            "right": null,
            "top": null,
            "visibility": null,
            "width": null
          }
        },
        "0cc736bb104d46c78f874a87710fa070": {
          "model_module": "@jupyter-widgets/base",
          "model_module_version": "1.2.0",
          "model_name": "LayoutModel",
          "state": {
            "_model_module": "@jupyter-widgets/base",
            "_model_module_version": "1.2.0",
            "_model_name": "LayoutModel",
            "_view_count": null,
            "_view_module": "@jupyter-widgets/base",
            "_view_module_version": "1.2.0",
            "_view_name": "LayoutView",
            "align_content": null,
            "align_items": null,
            "align_self": null,
            "border": null,
            "bottom": null,
            "display": null,
            "flex": null,
            "flex_flow": null,
            "grid_area": null,
            "grid_auto_columns": null,
            "grid_auto_flow": null,
            "grid_auto_rows": null,
            "grid_column": null,
            "grid_gap": null,
            "grid_row": null,
            "grid_template_areas": null,
            "grid_template_columns": null,
            "grid_template_rows": null,
            "height": null,
            "justify_content": null,
            "justify_items": null,
            "left": null,
            "margin": null,
            "max_height": null,
            "max_width": null,
            "min_height": null,
            "min_width": null,
            "object_fit": null,
            "object_position": null,
            "order": null,
            "overflow": null,
            "overflow_x": null,
            "overflow_y": null,
            "padding": null,
            "right": null,
            "top": null,
            "visibility": null,
            "width": null
          }
        },
        "0d1f3ef0414e41e088233894195b7930": {
          "model_module": "@jupyter-widgets/controls",
          "model_module_version": "1.5.0",
          "model_name": "FloatProgressModel",
          "state": {
            "_dom_classes": [],
            "_model_module": "@jupyter-widgets/controls",
            "_model_module_version": "1.5.0",
            "_model_name": "FloatProgressModel",
            "_view_count": null,
            "_view_module": "@jupyter-widgets/controls",
            "_view_module_version": "1.5.0",
            "_view_name": "ProgressView",
            "bar_style": "success",
            "description": "",
            "description_tooltip": null,
            "layout": "IPY_MODEL_4b450bc02fa94e909719098b937a9083",
            "max": 25,
            "min": 0,
            "orientation": "horizontal",
            "style": "IPY_MODEL_9f92e93cf6ad4e0985369102fa14adf5",
            "value": 25
          }
        },
        "0e87153bd3a94346a99fa779a559d4b5": {
          "model_module": "@jupyter-widgets/controls",
          "model_module_version": "1.5.0",
          "model_name": "HTMLModel",
          "state": {
            "_dom_classes": [],
            "_model_module": "@jupyter-widgets/controls",
            "_model_module_version": "1.5.0",
            "_model_name": "HTMLModel",
            "_view_count": null,
            "_view_module": "@jupyter-widgets/controls",
            "_view_module_version": "1.5.0",
            "_view_name": "HTMLView",
            "description": "",
            "description_tooltip": null,
            "layout": "IPY_MODEL_2d5b883e394b4a8da05444245ee7fa82",
            "placeholder": "​",
            "style": "IPY_MODEL_c571ad800d3d4a5985924c530679bc3e",
            "value": "100%"
          }
        },
        "1051913cc4894114a2c759030823b751": {
          "model_module": "@jupyter-widgets/controls",
          "model_module_version": "1.5.0",
          "model_name": "HBoxModel",
          "state": {
            "_dom_classes": [],
            "_model_module": "@jupyter-widgets/controls",
            "_model_module_version": "1.5.0",
            "_model_name": "HBoxModel",
            "_view_count": null,
            "_view_module": "@jupyter-widgets/controls",
            "_view_module_version": "1.5.0",
            "_view_name": "HBoxView",
            "box_style": "",
            "children": [
              "IPY_MODEL_813fb0fe3a234c658a86322ffc150ca0",
              "IPY_MODEL_b4e4b4293bd74e01bbdb21325b0b0552",
              "IPY_MODEL_fe577a02e3e94859a4026baad9e4183e"
            ],
            "layout": "IPY_MODEL_54c7e07dfce64657b628c5e152f6bc0e"
          }
        },
        "10577bb43d204ae5b3130dbd38bb84ab": {
          "model_module": "@jupyter-widgets/base",
          "model_module_version": "1.2.0",
          "model_name": "LayoutModel",
          "state": {
            "_model_module": "@jupyter-widgets/base",
            "_model_module_version": "1.2.0",
            "_model_name": "LayoutModel",
            "_view_count": null,
            "_view_module": "@jupyter-widgets/base",
            "_view_module_version": "1.2.0",
            "_view_name": "LayoutView",
            "align_content": null,
            "align_items": null,
            "align_self": null,
            "border": null,
            "bottom": null,
            "display": null,
            "flex": null,
            "flex_flow": null,
            "grid_area": null,
            "grid_auto_columns": null,
            "grid_auto_flow": null,
            "grid_auto_rows": null,
            "grid_column": null,
            "grid_gap": null,
            "grid_row": null,
            "grid_template_areas": null,
            "grid_template_columns": null,
            "grid_template_rows": null,
            "height": null,
            "justify_content": null,
            "justify_items": null,
            "left": null,
            "margin": null,
            "max_height": null,
            "max_width": null,
            "min_height": null,
            "min_width": null,
            "object_fit": null,
            "object_position": null,
            "order": null,
            "overflow": null,
            "overflow_x": null,
            "overflow_y": null,
            "padding": null,
            "right": null,
            "top": null,
            "visibility": null,
            "width": null
          }
        },
        "12ecb017e7ff4383811b26d2190f0a10": {
          "model_module": "@jupyter-widgets/controls",
          "model_module_version": "1.5.0",
          "model_name": "DescriptionStyleModel",
          "state": {
            "_model_module": "@jupyter-widgets/controls",
            "_model_module_version": "1.5.0",
            "_model_name": "DescriptionStyleModel",
            "_view_count": null,
            "_view_module": "@jupyter-widgets/base",
            "_view_module_version": "1.2.0",
            "_view_name": "StyleView",
            "description_width": ""
          }
        },
        "1316026ae0a849b590af4ca1de348a6d": {
          "model_module": "@jupyter-widgets/controls",
          "model_module_version": "1.5.0",
          "model_name": "HTMLModel",
          "state": {
            "_dom_classes": [],
            "_model_module": "@jupyter-widgets/controls",
            "_model_module_version": "1.5.0",
            "_model_name": "HTMLModel",
            "_view_count": null,
            "_view_module": "@jupyter-widgets/controls",
            "_view_module_version": "1.5.0",
            "_view_name": "HTMLView",
            "description": "",
            "description_tooltip": null,
            "layout": "IPY_MODEL_3c6a2cc29c6d4c5b9f81d1450f1917b2",
            "placeholder": "​",
            "style": "IPY_MODEL_744b736e7e93481faf71bdf1da85b448",
            "value": " 24741/25000 [00:04&lt;00:00, 7069.67 examples/s]"
          }
        },
        "14061067799543879b91b68f051c88b3": {
          "model_module": "@jupyter-widgets/controls",
          "model_module_version": "1.5.0",
          "model_name": "HTMLModel",
          "state": {
            "_dom_classes": [],
            "_model_module": "@jupyter-widgets/controls",
            "_model_module_version": "1.5.0",
            "_model_name": "HTMLModel",
            "_view_count": null,
            "_view_module": "@jupyter-widgets/controls",
            "_view_module_version": "1.5.0",
            "_view_name": "HTMLView",
            "description": "",
            "description_tooltip": null,
            "layout": "IPY_MODEL_0415d1398339435b989a1c03c08eaad9",
            "placeholder": "​",
            "style": "IPY_MODEL_e823842e49c24812bbd86dfa34a7b982",
            "value": " 502M/502M [00:12&lt;00:00, 57.8MB/s]"
          }
        },
        "153683d3618d4884a628740307e0a441": {
          "model_module": "@jupyter-widgets/base",
          "model_module_version": "1.2.0",
          "model_name": "LayoutModel",
          "state": {
            "_model_module": "@jupyter-widgets/base",
            "_model_module_version": "1.2.0",
            "_model_name": "LayoutModel",
            "_view_count": null,
            "_view_module": "@jupyter-widgets/base",
            "_view_module_version": "1.2.0",
            "_view_name": "LayoutView",
            "align_content": null,
            "align_items": null,
            "align_self": null,
            "border": null,
            "bottom": null,
            "display": null,
            "flex": null,
            "flex_flow": null,
            "grid_area": null,
            "grid_auto_columns": null,
            "grid_auto_flow": null,
            "grid_auto_rows": null,
            "grid_column": null,
            "grid_gap": null,
            "grid_row": null,
            "grid_template_areas": null,
            "grid_template_columns": null,
            "grid_template_rows": null,
            "height": null,
            "justify_content": null,
            "justify_items": null,
            "left": null,
            "margin": null,
            "max_height": null,
            "max_width": null,
            "min_height": null,
            "min_width": null,
            "object_fit": null,
            "object_position": null,
            "order": null,
            "overflow": null,
            "overflow_x": null,
            "overflow_y": null,
            "padding": null,
            "right": null,
            "top": null,
            "visibility": null,
            "width": null
          }
        },
        "162b3bb1e70e4e8eb9466c0448ab8050": {
          "model_module": "@jupyter-widgets/controls",
          "model_module_version": "1.5.0",
          "model_name": "DescriptionStyleModel",
          "state": {
            "_model_module": "@jupyter-widgets/controls",
            "_model_module_version": "1.5.0",
            "_model_name": "DescriptionStyleModel",
            "_view_count": null,
            "_view_module": "@jupyter-widgets/base",
            "_view_module_version": "1.2.0",
            "_view_name": "StyleView",
            "description_width": ""
          }
        },
        "172e1bcfca7f48ca864f21bda6e9b632": {
          "model_module": "@jupyter-widgets/controls",
          "model_module_version": "1.5.0",
          "model_name": "FloatProgressModel",
          "state": {
            "_dom_classes": [],
            "_model_module": "@jupyter-widgets/controls",
            "_model_module_version": "1.5.0",
            "_model_name": "FloatProgressModel",
            "_view_count": null,
            "_view_module": "@jupyter-widgets/controls",
            "_view_module_version": "1.5.0",
            "_view_name": "ProgressView",
            "bar_style": "success",
            "description": "",
            "description_tooltip": null,
            "layout": "IPY_MODEL_1fc747ada15243af8814a40b058c124c",
            "max": 2,
            "min": 0,
            "orientation": "horizontal",
            "style": "IPY_MODEL_94c189c9f9874d41be797929cf32d2b9",
            "value": 2
          }
        },
        "19c2e55faab045b78ec3698e6760dfac": {
          "model_module": "@jupyter-widgets/controls",
          "model_module_version": "1.5.0",
          "model_name": "HTMLModel",
          "state": {
            "_dom_classes": [],
            "_model_module": "@jupyter-widgets/controls",
            "_model_module_version": "1.5.0",
            "_model_name": "HTMLModel",
            "_view_count": null,
            "_view_module": "@jupyter-widgets/controls",
            "_view_module_version": "1.5.0",
            "_view_name": "HTMLView",
            "description": "",
            "description_tooltip": null,
            "layout": "IPY_MODEL_ed294d83230748878563d2fca783dc4a",
            "placeholder": "​",
            "style": "IPY_MODEL_12ecb017e7ff4383811b26d2190f0a10",
            "value": "100%"
          }
        },
        "1b4deb0fcc4c45ebb262a4580efe08b4": {
          "model_module": "@jupyter-widgets/controls",
          "model_module_version": "1.5.0",
          "model_name": "ProgressStyleModel",
          "state": {
            "_model_module": "@jupyter-widgets/controls",
            "_model_module_version": "1.5.0",
            "_model_name": "ProgressStyleModel",
            "_view_count": null,
            "_view_module": "@jupyter-widgets/base",
            "_view_module_version": "1.2.0",
            "_view_name": "StyleView",
            "bar_color": null,
            "description_width": ""
          }
        },
        "1f4eb8ec035047419c2b56ffc8c4244f": {
          "model_module": "@jupyter-widgets/controls",
          "model_module_version": "1.5.0",
          "model_name": "ProgressStyleModel",
          "state": {
            "_model_module": "@jupyter-widgets/controls",
            "_model_module_version": "1.5.0",
            "_model_name": "ProgressStyleModel",
            "_view_count": null,
            "_view_module": "@jupyter-widgets/base",
            "_view_module_version": "1.2.0",
            "_view_name": "StyleView",
            "bar_color": null,
            "description_width": ""
          }
        },
        "1f50d8b95e9845c39a6605e2e3ef8015": {
          "model_module": "@jupyter-widgets/controls",
          "model_module_version": "1.5.0",
          "model_name": "DescriptionStyleModel",
          "state": {
            "_model_module": "@jupyter-widgets/controls",
            "_model_module_version": "1.5.0",
            "_model_name": "DescriptionStyleModel",
            "_view_count": null,
            "_view_module": "@jupyter-widgets/base",
            "_view_module_version": "1.2.0",
            "_view_name": "StyleView",
            "description_width": ""
          }
        },
        "1fc747ada15243af8814a40b058c124c": {
          "model_module": "@jupyter-widgets/base",
          "model_module_version": "1.2.0",
          "model_name": "LayoutModel",
          "state": {
            "_model_module": "@jupyter-widgets/base",
            "_model_module_version": "1.2.0",
            "_model_name": "LayoutModel",
            "_view_count": null,
            "_view_module": "@jupyter-widgets/base",
            "_view_module_version": "1.2.0",
            "_view_name": "LayoutView",
            "align_content": null,
            "align_items": null,
            "align_self": null,
            "border": null,
            "bottom": null,
            "display": null,
            "flex": null,
            "flex_flow": null,
            "grid_area": null,
            "grid_auto_columns": null,
            "grid_auto_flow": null,
            "grid_auto_rows": null,
            "grid_column": null,
            "grid_gap": null,
            "grid_row": null,
            "grid_template_areas": null,
            "grid_template_columns": null,
            "grid_template_rows": null,
            "height": null,
            "justify_content": null,
            "justify_items": null,
            "left": null,
            "margin": null,
            "max_height": null,
            "max_width": null,
            "min_height": null,
            "min_width": null,
            "object_fit": null,
            "object_position": null,
            "order": null,
            "overflow": null,
            "overflow_x": null,
            "overflow_y": null,
            "padding": null,
            "right": null,
            "top": null,
            "visibility": null,
            "width": null
          }
        },
        "2491a5c306a74523b8ba37c3ba56b3ef": {
          "model_module": "@jupyter-widgets/controls",
          "model_module_version": "1.5.0",
          "model_name": "HBoxModel",
          "state": {
            "_dom_classes": [],
            "_model_module": "@jupyter-widgets/controls",
            "_model_module_version": "1.5.0",
            "_model_name": "HBoxModel",
            "_view_count": null,
            "_view_module": "@jupyter-widgets/controls",
            "_view_module_version": "1.5.0",
            "_view_name": "HBoxView",
            "box_style": "",
            "children": [
              "IPY_MODEL_19c2e55faab045b78ec3698e6760dfac",
              "IPY_MODEL_172e1bcfca7f48ca864f21bda6e9b632",
              "IPY_MODEL_cf4ce54f471b499eb44fa7f9e0bfdcd7"
            ],
            "layout": "IPY_MODEL_3adf9c09e16b4c90afbc7e6c6467dcd4"
          }
        },
        "27de0407ee2d4f8e95e71bd63f6d7963": {
          "model_module": "@jupyter-widgets/base",
          "model_module_version": "1.2.0",
          "model_name": "LayoutModel",
          "state": {
            "_model_module": "@jupyter-widgets/base",
            "_model_module_version": "1.2.0",
            "_model_name": "LayoutModel",
            "_view_count": null,
            "_view_module": "@jupyter-widgets/base",
            "_view_module_version": "1.2.0",
            "_view_name": "LayoutView",
            "align_content": null,
            "align_items": null,
            "align_self": null,
            "border": null,
            "bottom": null,
            "display": null,
            "flex": null,
            "flex_flow": null,
            "grid_area": null,
            "grid_auto_columns": null,
            "grid_auto_flow": null,
            "grid_auto_rows": null,
            "grid_column": null,
            "grid_gap": null,
            "grid_row": null,
            "grid_template_areas": null,
            "grid_template_columns": null,
            "grid_template_rows": null,
            "height": null,
            "justify_content": null,
            "justify_items": null,
            "left": null,
            "margin": null,
            "max_height": null,
            "max_width": null,
            "min_height": null,
            "min_width": null,
            "object_fit": null,
            "object_position": null,
            "order": null,
            "overflow": null,
            "overflow_x": null,
            "overflow_y": null,
            "padding": null,
            "right": null,
            "top": null,
            "visibility": null,
            "width": null
          }
        },
        "28c4da2f61514ce6873286c45eaa6f0c": {
          "model_module": "@jupyter-widgets/controls",
          "model_module_version": "1.5.0",
          "model_name": "HTMLModel",
          "state": {
            "_dom_classes": [],
            "_model_module": "@jupyter-widgets/controls",
            "_model_module_version": "1.5.0",
            "_model_name": "HTMLModel",
            "_view_count": null,
            "_view_module": "@jupyter-widgets/controls",
            "_view_module_version": "1.5.0",
            "_view_name": "HTMLView",
            "description": "",
            "description_tooltip": null,
            "layout": "IPY_MODEL_5382fa1d2e4848eca54d0065e2c3eb6d",
            "placeholder": "​",
            "style": "IPY_MODEL_35a4db62bf5a489cbca2a98d422dbc41",
            "value": " 25/25 [00:00&lt;00:00, 113.64ba/s]"
          }
        },
        "2b16c4a06e1a443cb41419c840f3f017": {
          "model_module": "@jupyter-widgets/controls",
          "model_module_version": "1.5.0",
          "model_name": "ProgressStyleModel",
          "state": {
            "_model_module": "@jupyter-widgets/controls",
            "_model_module_version": "1.5.0",
            "_model_name": "ProgressStyleModel",
            "_view_count": null,
            "_view_module": "@jupyter-widgets/base",
            "_view_module_version": "1.2.0",
            "_view_name": "StyleView",
            "bar_color": null,
            "description_width": ""
          }
        },
        "2d5b883e394b4a8da05444245ee7fa82": {
          "model_module": "@jupyter-widgets/base",
          "model_module_version": "1.2.0",
          "model_name": "LayoutModel",
          "state": {
            "_model_module": "@jupyter-widgets/base",
            "_model_module_version": "1.2.0",
            "_model_name": "LayoutModel",
            "_view_count": null,
            "_view_module": "@jupyter-widgets/base",
            "_view_module_version": "1.2.0",
            "_view_name": "LayoutView",
            "align_content": null,
            "align_items": null,
            "align_self": null,
            "border": null,
            "bottom": null,
            "display": null,
            "flex": null,
            "flex_flow": null,
            "grid_area": null,
            "grid_auto_columns": null,
            "grid_auto_flow": null,
            "grid_auto_rows": null,
            "grid_column": null,
            "grid_gap": null,
            "grid_row": null,
            "grid_template_areas": null,
            "grid_template_columns": null,
            "grid_template_rows": null,
            "height": null,
            "justify_content": null,
            "justify_items": null,
            "left": null,
            "margin": null,
            "max_height": null,
            "max_width": null,
            "min_height": null,
            "min_width": null,
            "object_fit": null,
            "object_position": null,
            "order": null,
            "overflow": null,
            "overflow_x": null,
            "overflow_y": null,
            "padding": null,
            "right": null,
            "top": null,
            "visibility": null,
            "width": null
          }
        },
        "2e95cf94b5914f62a50bb0185258df3e": {
          "model_module": "@jupyter-widgets/controls",
          "model_module_version": "1.5.0",
          "model_name": "HBoxModel",
          "state": {
            "_dom_classes": [],
            "_model_module": "@jupyter-widgets/controls",
            "_model_module_version": "1.5.0",
            "_model_name": "HBoxModel",
            "_view_count": null,
            "_view_module": "@jupyter-widgets/controls",
            "_view_module_version": "1.5.0",
            "_view_name": "HBoxView",
            "box_style": "",
            "children": [
              "IPY_MODEL_8ea59f60a8bd4061b72dc855c7e22e9a",
              "IPY_MODEL_e7524547f72b44d18d8e356c052b9f40",
              "IPY_MODEL_14061067799543879b91b68f051c88b3"
            ],
            "layout": "IPY_MODEL_92b4e23d53db4c239d16b511bc057e8d"
          }
        },
        "30f1e1eb6eda4781bad9a91ca28bb064": {
          "model_module": "@jupyter-widgets/base",
          "model_module_version": "1.2.0",
          "model_name": "LayoutModel",
          "state": {
            "_model_module": "@jupyter-widgets/base",
            "_model_module_version": "1.2.0",
            "_model_name": "LayoutModel",
            "_view_count": null,
            "_view_module": "@jupyter-widgets/base",
            "_view_module_version": "1.2.0",
            "_view_name": "LayoutView",
            "align_content": null,
            "align_items": null,
            "align_self": null,
            "border": null,
            "bottom": null,
            "display": null,
            "flex": null,
            "flex_flow": null,
            "grid_area": null,
            "grid_auto_columns": null,
            "grid_auto_flow": null,
            "grid_auto_rows": null,
            "grid_column": null,
            "grid_gap": null,
            "grid_row": null,
            "grid_template_areas": null,
            "grid_template_columns": null,
            "grid_template_rows": null,
            "height": null,
            "justify_content": null,
            "justify_items": null,
            "left": null,
            "margin": null,
            "max_height": null,
            "max_width": null,
            "min_height": null,
            "min_width": null,
            "object_fit": null,
            "object_position": null,
            "order": null,
            "overflow": null,
            "overflow_x": null,
            "overflow_y": null,
            "padding": null,
            "right": null,
            "top": null,
            "visibility": null,
            "width": null
          }
        },
        "3126d9b4aba84dffab05cee695385c38": {
          "model_module": "@jupyter-widgets/controls",
          "model_module_version": "1.5.0",
          "model_name": "HTMLModel",
          "state": {
            "_dom_classes": [],
            "_model_module": "@jupyter-widgets/controls",
            "_model_module_version": "1.5.0",
            "_model_name": "HTMLModel",
            "_view_count": null,
            "_view_module": "@jupyter-widgets/controls",
            "_view_module_version": "1.5.0",
            "_view_name": "HTMLView",
            "description": "",
            "description_tooltip": null,
            "layout": "IPY_MODEL_5f58a2b9b78d4c3d8219537b7176825d",
            "placeholder": "​",
            "style": "IPY_MODEL_3f4fd5d347ec485a805b77c47ea6bfd5",
            "value": "Generating unsupervised split: 100%"
          }
        },
        "3329d21977ed4110bcc9935c604a8617": {
          "model_module": "@jupyter-widgets/controls",
          "model_module_version": "1.5.0",
          "model_name": "HTMLModel",
          "state": {
            "_dom_classes": [],
            "_model_module": "@jupyter-widgets/controls",
            "_model_module_version": "1.5.0",
            "_model_name": "HTMLModel",
            "_view_count": null,
            "_view_module": "@jupyter-widgets/controls",
            "_view_module_version": "1.5.0",
            "_view_name": "HTMLView",
            "description": "",
            "description_tooltip": null,
            "layout": "IPY_MODEL_9febb773d07844e6b8a6ca08416d83c0",
            "placeholder": "​",
            "style": "IPY_MODEL_90b53e2cbe0b47c688792aaa2a32690e",
            "value": " 24364/25000 [00:05&lt;00:00, 7048.96 examples/s]"
          }
        },
        "332fe8e9f3224cda91b3a60d2d5bc593": {
          "model_module": "@jupyter-widgets/controls",
          "model_module_version": "1.5.0",
          "model_name": "DescriptionStyleModel",
          "state": {
            "_model_module": "@jupyter-widgets/controls",
            "_model_module_version": "1.5.0",
            "_model_name": "DescriptionStyleModel",
            "_view_count": null,
            "_view_module": "@jupyter-widgets/base",
            "_view_module_version": "1.2.0",
            "_view_name": "StyleView",
            "description_width": ""
          }
        },
        "341096c8ea66448dae89e613188b99c7": {
          "model_module": "@jupyter-widgets/base",
          "model_module_version": "1.2.0",
          "model_name": "LayoutModel",
          "state": {
            "_model_module": "@jupyter-widgets/base",
            "_model_module_version": "1.2.0",
            "_model_name": "LayoutModel",
            "_view_count": null,
            "_view_module": "@jupyter-widgets/base",
            "_view_module_version": "1.2.0",
            "_view_name": "LayoutView",
            "align_content": null,
            "align_items": null,
            "align_self": null,
            "border": null,
            "bottom": null,
            "display": null,
            "flex": null,
            "flex_flow": null,
            "grid_area": null,
            "grid_auto_columns": null,
            "grid_auto_flow": null,
            "grid_auto_rows": null,
            "grid_column": null,
            "grid_gap": null,
            "grid_row": null,
            "grid_template_areas": null,
            "grid_template_columns": null,
            "grid_template_rows": null,
            "height": null,
            "justify_content": null,
            "justify_items": null,
            "left": null,
            "margin": null,
            "max_height": null,
            "max_width": null,
            "min_height": null,
            "min_width": null,
            "object_fit": null,
            "object_position": null,
            "order": null,
            "overflow": null,
            "overflow_x": null,
            "overflow_y": null,
            "padding": null,
            "right": null,
            "top": null,
            "visibility": null,
            "width": null
          }
        },
        "357ee6bfdae84bdf904caf9ce1f6c41e": {
          "model_module": "@jupyter-widgets/controls",
          "model_module_version": "1.5.0",
          "model_name": "FloatProgressModel",
          "state": {
            "_dom_classes": [],
            "_model_module": "@jupyter-widgets/controls",
            "_model_module_version": "1.5.0",
            "_model_name": "FloatProgressModel",
            "_view_count": null,
            "_view_module": "@jupyter-widgets/controls",
            "_view_module_version": "1.5.0",
            "_view_name": "ProgressView",
            "bar_style": "",
            "description": "",
            "description_tooltip": null,
            "layout": "IPY_MODEL_7b81582dae9a47db804bcf0a90d3c6b5",
            "max": 498,
            "min": 0,
            "orientation": "horizontal",
            "style": "IPY_MODEL_74ddd66cc4b24f64b7f593d8720dc133",
            "value": 498
          }
        },
        "35a4db62bf5a489cbca2a98d422dbc41": {
          "model_module": "@jupyter-widgets/controls",
          "model_module_version": "1.5.0",
          "model_name": "DescriptionStyleModel",
          "state": {
            "_model_module": "@jupyter-widgets/controls",
            "_model_module_version": "1.5.0",
            "_model_name": "DescriptionStyleModel",
            "_view_count": null,
            "_view_module": "@jupyter-widgets/base",
            "_view_module_version": "1.2.0",
            "_view_name": "StyleView",
            "description_width": ""
          }
        },
        "35b805b29c1741ea9e501b2712fa3660": {
          "model_module": "@jupyter-widgets/controls",
          "model_module_version": "1.5.0",
          "model_name": "DescriptionStyleModel",
          "state": {
            "_model_module": "@jupyter-widgets/controls",
            "_model_module_version": "1.5.0",
            "_model_name": "DescriptionStyleModel",
            "_view_count": null,
            "_view_module": "@jupyter-widgets/base",
            "_view_module_version": "1.2.0",
            "_view_name": "StyleView",
            "description_width": ""
          }
        },
        "35dc254026fc440f95a97843061f79b4": {
          "model_module": "@jupyter-widgets/base",
          "model_module_version": "1.2.0",
          "model_name": "LayoutModel",
          "state": {
            "_model_module": "@jupyter-widgets/base",
            "_model_module_version": "1.2.0",
            "_model_name": "LayoutModel",
            "_view_count": null,
            "_view_module": "@jupyter-widgets/base",
            "_view_module_version": "1.2.0",
            "_view_name": "LayoutView",
            "align_content": null,
            "align_items": null,
            "align_self": null,
            "border": null,
            "bottom": null,
            "display": null,
            "flex": null,
            "flex_flow": null,
            "grid_area": null,
            "grid_auto_columns": null,
            "grid_auto_flow": null,
            "grid_auto_rows": null,
            "grid_column": null,
            "grid_gap": null,
            "grid_row": null,
            "grid_template_areas": null,
            "grid_template_columns": null,
            "grid_template_rows": null,
            "height": null,
            "justify_content": null,
            "justify_items": null,
            "left": null,
            "margin": null,
            "max_height": null,
            "max_width": null,
            "min_height": null,
            "min_width": null,
            "object_fit": null,
            "object_position": null,
            "order": null,
            "overflow": null,
            "overflow_x": null,
            "overflow_y": null,
            "padding": null,
            "right": null,
            "top": null,
            "visibility": null,
            "width": null
          }
        },
        "3616a0eaa99e410bb042ce275bafa040": {
          "model_module": "@jupyter-widgets/controls",
          "model_module_version": "1.5.0",
          "model_name": "FloatProgressModel",
          "state": {
            "_dom_classes": [],
            "_model_module": "@jupyter-widgets/controls",
            "_model_module_version": "1.5.0",
            "_model_name": "FloatProgressModel",
            "_view_count": null,
            "_view_module": "@jupyter-widgets/controls",
            "_view_module_version": "1.5.0",
            "_view_name": "ProgressView",
            "bar_style": "danger",
            "description": "",
            "description_tooltip": null,
            "layout": "IPY_MODEL_52594c3e4a8a4c7790be9a1dbb862465",
            "max": 306,
            "min": 0,
            "orientation": "horizontal",
            "style": "IPY_MODEL_d8f8630f66064700823ba12e800c242e",
            "value": 272
          }
        },
        "3adf9c09e16b4c90afbc7e6c6467dcd4": {
          "model_module": "@jupyter-widgets/base",
          "model_module_version": "1.2.0",
          "model_name": "LayoutModel",
          "state": {
            "_model_module": "@jupyter-widgets/base",
            "_model_module_version": "1.2.0",
            "_model_name": "LayoutModel",
            "_view_count": null,
            "_view_module": "@jupyter-widgets/base",
            "_view_module_version": "1.2.0",
            "_view_name": "LayoutView",
            "align_content": null,
            "align_items": null,
            "align_self": null,
            "border": null,
            "bottom": null,
            "display": null,
            "flex": null,
            "flex_flow": null,
            "grid_area": null,
            "grid_auto_columns": null,
            "grid_auto_flow": null,
            "grid_auto_rows": null,
            "grid_column": null,
            "grid_gap": null,
            "grid_row": null,
            "grid_template_areas": null,
            "grid_template_columns": null,
            "grid_template_rows": null,
            "height": null,
            "justify_content": null,
            "justify_items": null,
            "left": null,
            "margin": null,
            "max_height": null,
            "max_width": null,
            "min_height": null,
            "min_width": null,
            "object_fit": null,
            "object_position": null,
            "order": null,
            "overflow": null,
            "overflow_x": null,
            "overflow_y": null,
            "padding": null,
            "right": null,
            "top": null,
            "visibility": null,
            "width": null
          }
        },
        "3c6a2cc29c6d4c5b9f81d1450f1917b2": {
          "model_module": "@jupyter-widgets/base",
          "model_module_version": "1.2.0",
          "model_name": "LayoutModel",
          "state": {
            "_model_module": "@jupyter-widgets/base",
            "_model_module_version": "1.2.0",
            "_model_name": "LayoutModel",
            "_view_count": null,
            "_view_module": "@jupyter-widgets/base",
            "_view_module_version": "1.2.0",
            "_view_name": "LayoutView",
            "align_content": null,
            "align_items": null,
            "align_self": null,
            "border": null,
            "bottom": null,
            "display": null,
            "flex": null,
            "flex_flow": null,
            "grid_area": null,
            "grid_auto_columns": null,
            "grid_auto_flow": null,
            "grid_auto_rows": null,
            "grid_column": null,
            "grid_gap": null,
            "grid_row": null,
            "grid_template_areas": null,
            "grid_template_columns": null,
            "grid_template_rows": null,
            "height": null,
            "justify_content": null,
            "justify_items": null,
            "left": null,
            "margin": null,
            "max_height": null,
            "max_width": null,
            "min_height": null,
            "min_width": null,
            "object_fit": null,
            "object_position": null,
            "order": null,
            "overflow": null,
            "overflow_x": null,
            "overflow_y": null,
            "padding": null,
            "right": null,
            "top": null,
            "visibility": null,
            "width": null
          }
        },
        "3d92509e14e84d2ea67bc368c466cbd9": {
          "model_module": "@jupyter-widgets/base",
          "model_module_version": "1.2.0",
          "model_name": "LayoutModel",
          "state": {
            "_model_module": "@jupyter-widgets/base",
            "_model_module_version": "1.2.0",
            "_model_name": "LayoutModel",
            "_view_count": null,
            "_view_module": "@jupyter-widgets/base",
            "_view_module_version": "1.2.0",
            "_view_name": "LayoutView",
            "align_content": null,
            "align_items": null,
            "align_self": null,
            "border": null,
            "bottom": null,
            "display": null,
            "flex": null,
            "flex_flow": null,
            "grid_area": null,
            "grid_auto_columns": null,
            "grid_auto_flow": null,
            "grid_auto_rows": null,
            "grid_column": null,
            "grid_gap": null,
            "grid_row": null,
            "grid_template_areas": null,
            "grid_template_columns": null,
            "grid_template_rows": null,
            "height": null,
            "justify_content": null,
            "justify_items": null,
            "left": null,
            "margin": null,
            "max_height": null,
            "max_width": null,
            "min_height": null,
            "min_width": null,
            "object_fit": null,
            "object_position": null,
            "order": null,
            "overflow": null,
            "overflow_x": null,
            "overflow_y": null,
            "padding": null,
            "right": null,
            "top": null,
            "visibility": null,
            "width": null
          }
        },
        "3f4fd5d347ec485a805b77c47ea6bfd5": {
          "model_module": "@jupyter-widgets/controls",
          "model_module_version": "1.5.0",
          "model_name": "DescriptionStyleModel",
          "state": {
            "_model_module": "@jupyter-widgets/controls",
            "_model_module_version": "1.5.0",
            "_model_name": "DescriptionStyleModel",
            "_view_count": null,
            "_view_module": "@jupyter-widgets/base",
            "_view_module_version": "1.2.0",
            "_view_name": "StyleView",
            "description_width": ""
          }
        },
        "40a9037bb1a649c191ade7c65b63ab90": {
          "model_module": "@jupyter-widgets/controls",
          "model_module_version": "1.5.0",
          "model_name": "FloatProgressModel",
          "state": {
            "_dom_classes": [],
            "_model_module": "@jupyter-widgets/controls",
            "_model_module_version": "1.5.0",
            "_model_name": "FloatProgressModel",
            "_view_count": null,
            "_view_module": "@jupyter-widgets/controls",
            "_view_module_version": "1.5.0",
            "_view_name": "ProgressView",
            "bar_style": "",
            "description": "",
            "description_tooltip": null,
            "layout": "IPY_MODEL_b3ca1339ed1f4bf283930baf5205f03b",
            "max": 50000,
            "min": 0,
            "orientation": "horizontal",
            "style": "IPY_MODEL_1f4eb8ec035047419c2b56ffc8c4244f",
            "value": 50000
          }
        },
        "40c61cb44ddc4dd8b6071d6d90b9355e": {
          "model_module": "@jupyter-widgets/controls",
          "model_module_version": "1.5.0",
          "model_name": "HBoxModel",
          "state": {
            "_dom_classes": [],
            "_model_module": "@jupyter-widgets/controls",
            "_model_module_version": "1.5.0",
            "_model_name": "HBoxModel",
            "_view_count": null,
            "_view_module": "@jupyter-widgets/controls",
            "_view_module_version": "1.5.0",
            "_view_name": "HBoxView",
            "box_style": "",
            "children": [
              "IPY_MODEL_3126d9b4aba84dffab05cee695385c38",
              "IPY_MODEL_40a9037bb1a649c191ade7c65b63ab90",
              "IPY_MODEL_52b98e47ec8d48cbb9bc76be784e4e2f"
            ],
            "layout": "IPY_MODEL_077372c8447e41ccacdf3eb604479258"
          }
        },
        "45fb25203e7348109960974106e1475f": {
          "model_module": "@jupyter-widgets/base",
          "model_module_version": "1.2.0",
          "model_name": "LayoutModel",
          "state": {
            "_model_module": "@jupyter-widgets/base",
            "_model_module_version": "1.2.0",
            "_model_name": "LayoutModel",
            "_view_count": null,
            "_view_module": "@jupyter-widgets/base",
            "_view_module_version": "1.2.0",
            "_view_name": "LayoutView",
            "align_content": null,
            "align_items": null,
            "align_self": null,
            "border": null,
            "bottom": null,
            "display": null,
            "flex": null,
            "flex_flow": null,
            "grid_area": null,
            "grid_auto_columns": null,
            "grid_auto_flow": null,
            "grid_auto_rows": null,
            "grid_column": null,
            "grid_gap": null,
            "grid_row": null,
            "grid_template_areas": null,
            "grid_template_columns": null,
            "grid_template_rows": null,
            "height": null,
            "justify_content": null,
            "justify_items": null,
            "left": null,
            "margin": null,
            "max_height": null,
            "max_width": null,
            "min_height": null,
            "min_width": null,
            "object_fit": null,
            "object_position": null,
            "order": null,
            "overflow": null,
            "overflow_x": null,
            "overflow_y": null,
            "padding": null,
            "right": null,
            "top": null,
            "visibility": null,
            "width": null
          }
        },
        "46dee757727844f484d24525b7389598": {
          "model_module": "@jupyter-widgets/controls",
          "model_module_version": "1.5.0",
          "model_name": "HBoxModel",
          "state": {
            "_dom_classes": [],
            "_model_module": "@jupyter-widgets/controls",
            "_model_module_version": "1.5.0",
            "_model_name": "HBoxModel",
            "_view_count": null,
            "_view_module": "@jupyter-widgets/controls",
            "_view_module_version": "1.5.0",
            "_view_name": "HBoxView",
            "box_style": "",
            "children": [
              "IPY_MODEL_94344a967cfa4396aa3b75f7884b6b29",
              "IPY_MODEL_f4f6b77302ec48c1b5546188ef34f9c0",
              "IPY_MODEL_1316026ae0a849b590af4ca1de348a6d"
            ],
            "layout": "IPY_MODEL_551fea197f764028bfa73db0960de9ff"
          }
        },
        "4776f1ac98d44baa96d5712a9272ffe8": {
          "model_module": "@jupyter-widgets/controls",
          "model_module_version": "1.5.0",
          "model_name": "ProgressStyleModel",
          "state": {
            "_model_module": "@jupyter-widgets/controls",
            "_model_module_version": "1.5.0",
            "_model_name": "ProgressStyleModel",
            "_view_count": null,
            "_view_module": "@jupyter-widgets/base",
            "_view_module_version": "1.2.0",
            "_view_name": "StyleView",
            "bar_color": null,
            "description_width": ""
          }
        },
        "485b0fc35ab14cbe8bfe2aea29ae7bc4": {
          "model_module": "@jupyter-widgets/controls",
          "model_module_version": "1.5.0",
          "model_name": "FloatProgressModel",
          "state": {
            "_dom_classes": [],
            "_model_module": "@jupyter-widgets/controls",
            "_model_module_version": "1.5.0",
            "_model_name": "FloatProgressModel",
            "_view_count": null,
            "_view_module": "@jupyter-widgets/controls",
            "_view_module_version": "1.5.0",
            "_view_name": "ProgressView",
            "bar_style": "success",
            "description": "",
            "description_tooltip": null,
            "layout": "IPY_MODEL_10577bb43d204ae5b3130dbd38bb84ab",
            "max": 84125825,
            "min": 0,
            "orientation": "horizontal",
            "style": "IPY_MODEL_871b7424021e4ab4bc7d6a7330ef4ff8",
            "value": 84125825
          }
        },
        "49cf651f7e4f4e3186d062cf6cc69b85": {
          "model_module": "@jupyter-widgets/controls",
          "model_module_version": "1.5.0",
          "model_name": "FloatProgressModel",
          "state": {
            "_dom_classes": [],
            "_model_module": "@jupyter-widgets/controls",
            "_model_module_version": "1.5.0",
            "_model_name": "FloatProgressModel",
            "_view_count": null,
            "_view_module": "@jupyter-widgets/controls",
            "_view_module_version": "1.5.0",
            "_view_name": "ProgressView",
            "bar_style": "success",
            "description": "",
            "description_tooltip": null,
            "layout": "IPY_MODEL_f9f423ad46da4bf7b1a5be052474c145",
            "max": 25,
            "min": 0,
            "orientation": "horizontal",
            "style": "IPY_MODEL_9b2fc855267b4dd5bd8caf4fb4b659c4",
            "value": 25
          }
        },
        "4aae6f831c744d71b90fe27154a61456": {
          "model_module": "@jupyter-widgets/base",
          "model_module_version": "1.2.0",
          "model_name": "LayoutModel",
          "state": {
            "_model_module": "@jupyter-widgets/base",
            "_model_module_version": "1.2.0",
            "_model_name": "LayoutModel",
            "_view_count": null,
            "_view_module": "@jupyter-widgets/base",
            "_view_module_version": "1.2.0",
            "_view_name": "LayoutView",
            "align_content": null,
            "align_items": null,
            "align_self": null,
            "border": null,
            "bottom": null,
            "display": null,
            "flex": null,
            "flex_flow": null,
            "grid_area": null,
            "grid_auto_columns": null,
            "grid_auto_flow": null,
            "grid_auto_rows": null,
            "grid_column": null,
            "grid_gap": null,
            "grid_row": null,
            "grid_template_areas": null,
            "grid_template_columns": null,
            "grid_template_rows": null,
            "height": null,
            "justify_content": null,
            "justify_items": null,
            "left": null,
            "margin": null,
            "max_height": null,
            "max_width": null,
            "min_height": null,
            "min_width": null,
            "object_fit": null,
            "object_position": null,
            "order": null,
            "overflow": null,
            "overflow_x": null,
            "overflow_y": null,
            "padding": null,
            "right": null,
            "top": null,
            "visibility": null,
            "width": null
          }
        },
        "4af91b2b7e084476b8a4563937103543": {
          "model_module": "@jupyter-widgets/base",
          "model_module_version": "1.2.0",
          "model_name": "LayoutModel",
          "state": {
            "_model_module": "@jupyter-widgets/base",
            "_model_module_version": "1.2.0",
            "_model_name": "LayoutModel",
            "_view_count": null,
            "_view_module": "@jupyter-widgets/base",
            "_view_module_version": "1.2.0",
            "_view_name": "LayoutView",
            "align_content": null,
            "align_items": null,
            "align_self": null,
            "border": null,
            "bottom": null,
            "display": null,
            "flex": null,
            "flex_flow": null,
            "grid_area": null,
            "grid_auto_columns": null,
            "grid_auto_flow": null,
            "grid_auto_rows": null,
            "grid_column": null,
            "grid_gap": null,
            "grid_row": null,
            "grid_template_areas": null,
            "grid_template_columns": null,
            "grid_template_rows": null,
            "height": null,
            "justify_content": null,
            "justify_items": null,
            "left": null,
            "margin": null,
            "max_height": null,
            "max_width": null,
            "min_height": null,
            "min_width": null,
            "object_fit": null,
            "object_position": null,
            "order": null,
            "overflow": null,
            "overflow_x": null,
            "overflow_y": null,
            "padding": null,
            "right": null,
            "top": null,
            "visibility": null,
            "width": null
          }
        },
        "4b450bc02fa94e909719098b937a9083": {
          "model_module": "@jupyter-widgets/base",
          "model_module_version": "1.2.0",
          "model_name": "LayoutModel",
          "state": {
            "_model_module": "@jupyter-widgets/base",
            "_model_module_version": "1.2.0",
            "_model_name": "LayoutModel",
            "_view_count": null,
            "_view_module": "@jupyter-widgets/base",
            "_view_module_version": "1.2.0",
            "_view_name": "LayoutView",
            "align_content": null,
            "align_items": null,
            "align_self": null,
            "border": null,
            "bottom": null,
            "display": null,
            "flex": null,
            "flex_flow": null,
            "grid_area": null,
            "grid_auto_columns": null,
            "grid_auto_flow": null,
            "grid_auto_rows": null,
            "grid_column": null,
            "grid_gap": null,
            "grid_row": null,
            "grid_template_areas": null,
            "grid_template_columns": null,
            "grid_template_rows": null,
            "height": null,
            "justify_content": null,
            "justify_items": null,
            "left": null,
            "margin": null,
            "max_height": null,
            "max_width": null,
            "min_height": null,
            "min_width": null,
            "object_fit": null,
            "object_position": null,
            "order": null,
            "overflow": null,
            "overflow_x": null,
            "overflow_y": null,
            "padding": null,
            "right": null,
            "top": null,
            "visibility": null,
            "width": null
          }
        },
        "4eeb3526a007416d9c9aaf08dec19564": {
          "model_module": "@jupyter-widgets/controls",
          "model_module_version": "1.5.0",
          "model_name": "DescriptionStyleModel",
          "state": {
            "_model_module": "@jupyter-widgets/controls",
            "_model_module_version": "1.5.0",
            "_model_name": "DescriptionStyleModel",
            "_view_count": null,
            "_view_module": "@jupyter-widgets/base",
            "_view_module_version": "1.2.0",
            "_view_name": "StyleView",
            "description_width": ""
          }
        },
        "52594c3e4a8a4c7790be9a1dbb862465": {
          "model_module": "@jupyter-widgets/base",
          "model_module_version": "1.2.0",
          "model_name": "LayoutModel",
          "state": {
            "_model_module": "@jupyter-widgets/base",
            "_model_module_version": "1.2.0",
            "_model_name": "LayoutModel",
            "_view_count": null,
            "_view_module": "@jupyter-widgets/base",
            "_view_module_version": "1.2.0",
            "_view_name": "LayoutView",
            "align_content": null,
            "align_items": null,
            "align_self": null,
            "border": null,
            "bottom": null,
            "display": null,
            "flex": null,
            "flex_flow": null,
            "grid_area": null,
            "grid_auto_columns": null,
            "grid_auto_flow": null,
            "grid_auto_rows": null,
            "grid_column": null,
            "grid_gap": null,
            "grid_row": null,
            "grid_template_areas": null,
            "grid_template_columns": null,
            "grid_template_rows": null,
            "height": null,
            "justify_content": null,
            "justify_items": null,
            "left": null,
            "margin": null,
            "max_height": null,
            "max_width": null,
            "min_height": null,
            "min_width": null,
            "object_fit": null,
            "object_position": null,
            "order": null,
            "overflow": null,
            "overflow_x": null,
            "overflow_y": null,
            "padding": null,
            "right": null,
            "top": null,
            "visibility": null,
            "width": null
          }
        },
        "52b98e47ec8d48cbb9bc76be784e4e2f": {
          "model_module": "@jupyter-widgets/controls",
          "model_module_version": "1.5.0",
          "model_name": "HTMLModel",
          "state": {
            "_dom_classes": [],
            "_model_module": "@jupyter-widgets/controls",
            "_model_module_version": "1.5.0",
            "_model_name": "HTMLModel",
            "_view_count": null,
            "_view_module": "@jupyter-widgets/controls",
            "_view_module_version": "1.5.0",
            "_view_name": "HTMLView",
            "description": "",
            "description_tooltip": null,
            "layout": "IPY_MODEL_74c3e210cc4046889758a910f076e992",
            "placeholder": "​",
            "style": "IPY_MODEL_063471f17111411fb89e1fe199967eca",
            "value": " 49986/50000 [00:11&lt;00:00, 7292.39 examples/s]"
          }
        },
        "5382fa1d2e4848eca54d0065e2c3eb6d": {
          "model_module": "@jupyter-widgets/base",
          "model_module_version": "1.2.0",
          "model_name": "LayoutModel",
          "state": {
            "_model_module": "@jupyter-widgets/base",
            "_model_module_version": "1.2.0",
            "_model_name": "LayoutModel",
            "_view_count": null,
            "_view_module": "@jupyter-widgets/base",
            "_view_module_version": "1.2.0",
            "_view_name": "LayoutView",
            "align_content": null,
            "align_items": null,
            "align_self": null,
            "border": null,
            "bottom": null,
            "display": null,
            "flex": null,
            "flex_flow": null,
            "grid_area": null,
            "grid_auto_columns": null,
            "grid_auto_flow": null,
            "grid_auto_rows": null,
            "grid_column": null,
            "grid_gap": null,
            "grid_row": null,
            "grid_template_areas": null,
            "grid_template_columns": null,
            "grid_template_rows": null,
            "height": null,
            "justify_content": null,
            "justify_items": null,
            "left": null,
            "margin": null,
            "max_height": null,
            "max_width": null,
            "min_height": null,
            "min_width": null,
            "object_fit": null,
            "object_position": null,
            "order": null,
            "overflow": null,
            "overflow_x": null,
            "overflow_y": null,
            "padding": null,
            "right": null,
            "top": null,
            "visibility": null,
            "width": null
          }
        },
        "54c7e07dfce64657b628c5e152f6bc0e": {
          "model_module": "@jupyter-widgets/base",
          "model_module_version": "1.2.0",
          "model_name": "LayoutModel",
          "state": {
            "_model_module": "@jupyter-widgets/base",
            "_model_module_version": "1.2.0",
            "_model_name": "LayoutModel",
            "_view_count": null,
            "_view_module": "@jupyter-widgets/base",
            "_view_module_version": "1.2.0",
            "_view_name": "LayoutView",
            "align_content": null,
            "align_items": null,
            "align_self": null,
            "border": null,
            "bottom": null,
            "display": null,
            "flex": null,
            "flex_flow": null,
            "grid_area": null,
            "grid_auto_columns": null,
            "grid_auto_flow": null,
            "grid_auto_rows": null,
            "grid_column": null,
            "grid_gap": null,
            "grid_row": null,
            "grid_template_areas": null,
            "grid_template_columns": null,
            "grid_template_rows": null,
            "height": null,
            "justify_content": null,
            "justify_items": null,
            "left": null,
            "margin": null,
            "max_height": null,
            "max_width": null,
            "min_height": null,
            "min_width": null,
            "object_fit": null,
            "object_position": null,
            "order": null,
            "overflow": null,
            "overflow_x": null,
            "overflow_y": null,
            "padding": null,
            "right": null,
            "top": null,
            "visibility": null,
            "width": null
          }
        },
        "551fea197f764028bfa73db0960de9ff": {
          "model_module": "@jupyter-widgets/base",
          "model_module_version": "1.2.0",
          "model_name": "LayoutModel",
          "state": {
            "_model_module": "@jupyter-widgets/base",
            "_model_module_version": "1.2.0",
            "_model_name": "LayoutModel",
            "_view_count": null,
            "_view_module": "@jupyter-widgets/base",
            "_view_module_version": "1.2.0",
            "_view_name": "LayoutView",
            "align_content": null,
            "align_items": null,
            "align_self": null,
            "border": null,
            "bottom": null,
            "display": null,
            "flex": null,
            "flex_flow": null,
            "grid_area": null,
            "grid_auto_columns": null,
            "grid_auto_flow": null,
            "grid_auto_rows": null,
            "grid_column": null,
            "grid_gap": null,
            "grid_row": null,
            "grid_template_areas": null,
            "grid_template_columns": null,
            "grid_template_rows": null,
            "height": null,
            "justify_content": null,
            "justify_items": null,
            "left": null,
            "margin": null,
            "max_height": null,
            "max_width": null,
            "min_height": null,
            "min_width": null,
            "object_fit": null,
            "object_position": null,
            "order": null,
            "overflow": null,
            "overflow_x": null,
            "overflow_y": null,
            "padding": null,
            "right": null,
            "top": null,
            "visibility": null,
            "width": null
          }
        },
        "575c93e4876f41899f953e0ec80136f2": {
          "model_module": "@jupyter-widgets/controls",
          "model_module_version": "1.5.0",
          "model_name": "HTMLModel",
          "state": {
            "_dom_classes": [],
            "_model_module": "@jupyter-widgets/controls",
            "_model_module_version": "1.5.0",
            "_model_name": "HTMLModel",
            "_view_count": null,
            "_view_module": "@jupyter-widgets/controls",
            "_view_module_version": "1.5.0",
            "_view_name": "HTMLView",
            "description": "",
            "description_tooltip": null,
            "layout": "IPY_MODEL_72de6e647caf49c4a9b647213d9e520a",
            "placeholder": "​",
            "style": "IPY_MODEL_6d748d8c8e4d479e86baa168efae88c2",
            "value": ""
          }
        },
        "590888ff162b44b08586c281703a516a": {
          "model_module": "@jupyter-widgets/controls",
          "model_module_version": "1.5.0",
          "model_name": "FloatProgressModel",
          "state": {
            "_dom_classes": [],
            "_model_module": "@jupyter-widgets/controls",
            "_model_module_version": "1.5.0",
            "_model_name": "FloatProgressModel",
            "_view_count": null,
            "_view_module": "@jupyter-widgets/controls",
            "_view_module_version": "1.5.0",
            "_view_name": "ProgressView",
            "bar_style": "success",
            "description": "",
            "description_tooltip": null,
            "layout": "IPY_MODEL_45fb25203e7348109960974106e1475f",
            "max": 13,
            "min": 0,
            "orientation": "horizontal",
            "style": "IPY_MODEL_a6485eef564f4e8097bc8bc6e3436f89",
            "value": 13
          }
        },
        "5a4941d4e4f9436ebe099644eeddb47b": {
          "model_module": "@jupyter-widgets/base",
          "model_module_version": "1.2.0",
          "model_name": "LayoutModel",
          "state": {
            "_model_module": "@jupyter-widgets/base",
            "_model_module_version": "1.2.0",
            "_model_name": "LayoutModel",
            "_view_count": null,
            "_view_module": "@jupyter-widgets/base",
            "_view_module_version": "1.2.0",
            "_view_name": "LayoutView",
            "align_content": null,
            "align_items": null,
            "align_self": null,
            "border": null,
            "bottom": null,
            "display": null,
            "flex": null,
            "flex_flow": null,
            "grid_area": null,
            "grid_auto_columns": null,
            "grid_auto_flow": null,
            "grid_auto_rows": null,
            "grid_column": null,
            "grid_gap": null,
            "grid_row": null,
            "grid_template_areas": null,
            "grid_template_columns": null,
            "grid_template_rows": null,
            "height": null,
            "justify_content": null,
            "justify_items": null,
            "left": null,
            "margin": null,
            "max_height": null,
            "max_width": null,
            "min_height": null,
            "min_width": null,
            "object_fit": null,
            "object_position": null,
            "order": null,
            "overflow": null,
            "overflow_x": null,
            "overflow_y": null,
            "padding": null,
            "right": null,
            "top": null,
            "visibility": null,
            "width": null
          }
        },
        "5a4afc90a4764944b8374e1a43a97508": {
          "model_module": "@jupyter-widgets/controls",
          "model_module_version": "1.5.0",
          "model_name": "HBoxModel",
          "state": {
            "_dom_classes": [],
            "_model_module": "@jupyter-widgets/controls",
            "_model_module_version": "1.5.0",
            "_model_name": "HBoxModel",
            "_view_count": null,
            "_view_module": "@jupyter-widgets/controls",
            "_view_module_version": "1.5.0",
            "_view_name": "HBoxView",
            "box_style": "",
            "children": [
              "IPY_MODEL_04d6dd337b72444ca67a5a952c26f30c",
              "IPY_MODEL_6b301d523064414a9346d02a8db0383a",
              "IPY_MODEL_d045ce6b26dc45a7af8bc4f13608e42d"
            ],
            "layout": "IPY_MODEL_ec333092c97a4d3ba2c50d8dc5d05458"
          }
        },
        "5b7fec17a7d445c496d073137724ad22": {
          "model_module": "@jupyter-widgets/controls",
          "model_module_version": "1.5.0",
          "model_name": "ProgressStyleModel",
          "state": {
            "_model_module": "@jupyter-widgets/controls",
            "_model_module_version": "1.5.0",
            "_model_name": "ProgressStyleModel",
            "_view_count": null,
            "_view_module": "@jupyter-widgets/base",
            "_view_module_version": "1.2.0",
            "_view_name": "StyleView",
            "bar_color": null,
            "description_width": ""
          }
        },
        "5c12e687717b45f4bfe03974bdd82bb4": {
          "model_module": "@jupyter-widgets/base",
          "model_module_version": "1.2.0",
          "model_name": "LayoutModel",
          "state": {
            "_model_module": "@jupyter-widgets/base",
            "_model_module_version": "1.2.0",
            "_model_name": "LayoutModel",
            "_view_count": null,
            "_view_module": "@jupyter-widgets/base",
            "_view_module_version": "1.2.0",
            "_view_name": "LayoutView",
            "align_content": null,
            "align_items": null,
            "align_self": null,
            "border": null,
            "bottom": null,
            "display": null,
            "flex": null,
            "flex_flow": null,
            "grid_area": null,
            "grid_auto_columns": null,
            "grid_auto_flow": null,
            "grid_auto_rows": null,
            "grid_column": null,
            "grid_gap": null,
            "grid_row": null,
            "grid_template_areas": null,
            "grid_template_columns": null,
            "grid_template_rows": null,
            "height": null,
            "justify_content": null,
            "justify_items": null,
            "left": null,
            "margin": null,
            "max_height": null,
            "max_width": null,
            "min_height": null,
            "min_width": null,
            "object_fit": null,
            "object_position": null,
            "order": null,
            "overflow": null,
            "overflow_x": null,
            "overflow_y": null,
            "padding": null,
            "right": null,
            "top": null,
            "visibility": null,
            "width": null
          }
        },
        "5ead183d0e7d4fbd8624f8c8d96a00f6": {
          "model_module": "@jupyter-widgets/controls",
          "model_module_version": "1.5.0",
          "model_name": "HTMLModel",
          "state": {
            "_dom_classes": [],
            "_model_module": "@jupyter-widgets/controls",
            "_model_module_version": "1.5.0",
            "_model_name": "HTMLModel",
            "_view_count": null,
            "_view_module": "@jupyter-widgets/controls",
            "_view_module_version": "1.5.0",
            "_view_name": "HTMLView",
            "description": "",
            "description_tooltip": null,
            "layout": "IPY_MODEL_9b1501cad74b4f199bb57cbb6cb4f6c0",
            "placeholder": "​",
            "style": "IPY_MODEL_f3de01d3c23d488ba4031f889a890a8f",
            "value": "Generating train split:  97%"
          }
        },
        "5ebee29fea974351831e15b24411c76e": {
          "model_module": "@jupyter-widgets/base",
          "model_module_version": "1.2.0",
          "model_name": "LayoutModel",
          "state": {
            "_model_module": "@jupyter-widgets/base",
            "_model_module_version": "1.2.0",
            "_model_name": "LayoutModel",
            "_view_count": null,
            "_view_module": "@jupyter-widgets/base",
            "_view_module_version": "1.2.0",
            "_view_name": "LayoutView",
            "align_content": null,
            "align_items": null,
            "align_self": null,
            "border": null,
            "bottom": null,
            "display": null,
            "flex": null,
            "flex_flow": null,
            "grid_area": null,
            "grid_auto_columns": null,
            "grid_auto_flow": null,
            "grid_auto_rows": null,
            "grid_column": null,
            "grid_gap": null,
            "grid_row": null,
            "grid_template_areas": null,
            "grid_template_columns": null,
            "grid_template_rows": null,
            "height": null,
            "justify_content": null,
            "justify_items": null,
            "left": null,
            "margin": null,
            "max_height": null,
            "max_width": null,
            "min_height": null,
            "min_width": null,
            "object_fit": null,
            "object_position": null,
            "order": null,
            "overflow": null,
            "overflow_x": null,
            "overflow_y": null,
            "padding": null,
            "right": null,
            "top": null,
            "visibility": null,
            "width": null
          }
        },
        "5f58a2b9b78d4c3d8219537b7176825d": {
          "model_module": "@jupyter-widgets/base",
          "model_module_version": "1.2.0",
          "model_name": "LayoutModel",
          "state": {
            "_model_module": "@jupyter-widgets/base",
            "_model_module_version": "1.2.0",
            "_model_name": "LayoutModel",
            "_view_count": null,
            "_view_module": "@jupyter-widgets/base",
            "_view_module_version": "1.2.0",
            "_view_name": "LayoutView",
            "align_content": null,
            "align_items": null,
            "align_self": null,
            "border": null,
            "bottom": null,
            "display": null,
            "flex": null,
            "flex_flow": null,
            "grid_area": null,
            "grid_auto_columns": null,
            "grid_auto_flow": null,
            "grid_auto_rows": null,
            "grid_column": null,
            "grid_gap": null,
            "grid_row": null,
            "grid_template_areas": null,
            "grid_template_columns": null,
            "grid_template_rows": null,
            "height": null,
            "justify_content": null,
            "justify_items": null,
            "left": null,
            "margin": null,
            "max_height": null,
            "max_width": null,
            "min_height": null,
            "min_width": null,
            "object_fit": null,
            "object_position": null,
            "order": null,
            "overflow": null,
            "overflow_x": null,
            "overflow_y": null,
            "padding": null,
            "right": null,
            "top": null,
            "visibility": null,
            "width": null
          }
        },
        "6294b10b99ad411791c452e203180b9d": {
          "model_module": "@jupyter-widgets/controls",
          "model_module_version": "1.5.0",
          "model_name": "HTMLModel",
          "state": {
            "_dom_classes": [],
            "_model_module": "@jupyter-widgets/controls",
            "_model_module_version": "1.5.0",
            "_model_name": "HTMLModel",
            "_view_count": null,
            "_view_module": "@jupyter-widgets/controls",
            "_view_module_version": "1.5.0",
            "_view_name": "HTMLView",
            "description": "",
            "description_tooltip": null,
            "layout": "IPY_MODEL_5c12e687717b45f4bfe03974bdd82bb4",
            "placeholder": "​",
            "style": "IPY_MODEL_0b92acd8a50b4fa08fc195f224f39887",
            "value": " 2.17k/? [00:00&lt;00:00, 57.6kB/s]"
          }
        },
        "6b0228f692584df0a92a6aa48aa2aac7": {
          "model_module": "@jupyter-widgets/controls",
          "model_module_version": "1.5.0",
          "model_name": "ProgressStyleModel",
          "state": {
            "_model_module": "@jupyter-widgets/controls",
            "_model_module_version": "1.5.0",
            "_model_name": "ProgressStyleModel",
            "_view_count": null,
            "_view_module": "@jupyter-widgets/base",
            "_view_module_version": "1.2.0",
            "_view_name": "StyleView",
            "bar_color": null,
            "description_width": ""
          }
        },
        "6b301d523064414a9346d02a8db0383a": {
          "model_module": "@jupyter-widgets/controls",
          "model_module_version": "1.5.0",
          "model_name": "FloatProgressModel",
          "state": {
            "_dom_classes": [],
            "_model_module": "@jupyter-widgets/controls",
            "_model_module_version": "1.5.0",
            "_model_name": "FloatProgressModel",
            "_view_count": null,
            "_view_module": "@jupyter-widgets/controls",
            "_view_module_version": "1.5.0",
            "_view_name": "ProgressView",
            "bar_style": "success",
            "description": "",
            "description_tooltip": null,
            "layout": "IPY_MODEL_6e350dd2b5904b7fbe9493e7bb719070",
            "max": 25,
            "min": 0,
            "orientation": "horizontal",
            "style": "IPY_MODEL_5b7fec17a7d445c496d073137724ad22",
            "value": 25
          }
        },
        "6b711abfe8f44923af57024532604f8e": {
          "model_module": "@jupyter-widgets/controls",
          "model_module_version": "1.5.0",
          "model_name": "FloatProgressModel",
          "state": {
            "_dom_classes": [],
            "_model_module": "@jupyter-widgets/controls",
            "_model_module_version": "1.5.0",
            "_model_name": "FloatProgressModel",
            "_view_count": null,
            "_view_module": "@jupyter-widgets/controls",
            "_view_module_version": "1.5.0",
            "_view_name": "ProgressView",
            "bar_style": "",
            "description": "",
            "description_tooltip": null,
            "layout": "IPY_MODEL_a22102092cd5494fbfe434157425c5ca",
            "max": 25000,
            "min": 0,
            "orientation": "horizontal",
            "style": "IPY_MODEL_e6d0c46b706e4270bb7932c22400e471",
            "value": 25000
          }
        },
        "6d748d8c8e4d479e86baa168efae88c2": {
          "model_module": "@jupyter-widgets/controls",
          "model_module_version": "1.5.0",
          "model_name": "DescriptionStyleModel",
          "state": {
            "_model_module": "@jupyter-widgets/controls",
            "_model_module_version": "1.5.0",
            "_model_name": "DescriptionStyleModel",
            "_view_count": null,
            "_view_module": "@jupyter-widgets/base",
            "_view_module_version": "1.2.0",
            "_view_name": "StyleView",
            "description_width": ""
          }
        },
        "6e350dd2b5904b7fbe9493e7bb719070": {
          "model_module": "@jupyter-widgets/base",
          "model_module_version": "1.2.0",
          "model_name": "LayoutModel",
          "state": {
            "_model_module": "@jupyter-widgets/base",
            "_model_module_version": "1.2.0",
            "_model_name": "LayoutModel",
            "_view_count": null,
            "_view_module": "@jupyter-widgets/base",
            "_view_module_version": "1.2.0",
            "_view_name": "LayoutView",
            "align_content": null,
            "align_items": null,
            "align_self": null,
            "border": null,
            "bottom": null,
            "display": null,
            "flex": null,
            "flex_flow": null,
            "grid_area": null,
            "grid_auto_columns": null,
            "grid_auto_flow": null,
            "grid_auto_rows": null,
            "grid_column": null,
            "grid_gap": null,
            "grid_row": null,
            "grid_template_areas": null,
            "grid_template_columns": null,
            "grid_template_rows": null,
            "height": null,
            "justify_content": null,
            "justify_items": null,
            "left": null,
            "margin": null,
            "max_height": null,
            "max_width": null,
            "min_height": null,
            "min_width": null,
            "object_fit": null,
            "object_position": null,
            "order": null,
            "overflow": null,
            "overflow_x": null,
            "overflow_y": null,
            "padding": null,
            "right": null,
            "top": null,
            "visibility": null,
            "width": null
          }
        },
        "6fb5e9111dd64421802c42c631a6ded8": {
          "model_module": "@jupyter-widgets/controls",
          "model_module_version": "1.5.0",
          "model_name": "HTMLModel",
          "state": {
            "_dom_classes": [],
            "_model_module": "@jupyter-widgets/controls",
            "_model_module_version": "1.5.0",
            "_model_name": "HTMLModel",
            "_view_count": null,
            "_view_module": "@jupyter-widgets/controls",
            "_view_module_version": "1.5.0",
            "_view_name": "HTMLView",
            "description": "",
            "description_tooltip": null,
            "layout": "IPY_MODEL_def1877ebc5648dca6d453b6e9c66515",
            "placeholder": "​",
            "style": "IPY_MODEL_fa62ef58083c4925a64adaeac0a10c04",
            "value": " 13/13 [00:00&lt;00:00, 55.26ba/s]"
          }
        },
        "70375ef359d54bf38c68d7c3d75176bf": {
          "model_module": "@jupyter-widgets/controls",
          "model_module_version": "1.5.0",
          "model_name": "DescriptionStyleModel",
          "state": {
            "_model_module": "@jupyter-widgets/controls",
            "_model_module_version": "1.5.0",
            "_model_name": "DescriptionStyleModel",
            "_view_count": null,
            "_view_module": "@jupyter-widgets/base",
            "_view_module_version": "1.2.0",
            "_view_name": "StyleView",
            "description_width": ""
          }
        },
        "72de6e647caf49c4a9b647213d9e520a": {
          "model_module": "@jupyter-widgets/base",
          "model_module_version": "1.2.0",
          "model_name": "LayoutModel",
          "state": {
            "_model_module": "@jupyter-widgets/base",
            "_model_module_version": "1.2.0",
            "_model_name": "LayoutModel",
            "_view_count": null,
            "_view_module": "@jupyter-widgets/base",
            "_view_module_version": "1.2.0",
            "_view_name": "LayoutView",
            "align_content": null,
            "align_items": null,
            "align_self": null,
            "border": null,
            "bottom": null,
            "display": null,
            "flex": null,
            "flex_flow": null,
            "grid_area": null,
            "grid_auto_columns": null,
            "grid_auto_flow": null,
            "grid_auto_rows": null,
            "grid_column": null,
            "grid_gap": null,
            "grid_row": null,
            "grid_template_areas": null,
            "grid_template_columns": null,
            "grid_template_rows": null,
            "height": null,
            "justify_content": null,
            "justify_items": null,
            "left": null,
            "margin": null,
            "max_height": null,
            "max_width": null,
            "min_height": null,
            "min_width": null,
            "object_fit": null,
            "object_position": null,
            "order": null,
            "overflow": null,
            "overflow_x": null,
            "overflow_y": null,
            "padding": null,
            "right": null,
            "top": null,
            "visibility": null,
            "width": null
          }
        },
        "744b736e7e93481faf71bdf1da85b448": {
          "model_module": "@jupyter-widgets/controls",
          "model_module_version": "1.5.0",
          "model_name": "DescriptionStyleModel",
          "state": {
            "_model_module": "@jupyter-widgets/controls",
            "_model_module_version": "1.5.0",
            "_model_name": "DescriptionStyleModel",
            "_view_count": null,
            "_view_module": "@jupyter-widgets/base",
            "_view_module_version": "1.2.0",
            "_view_name": "StyleView",
            "description_width": ""
          }
        },
        "74c3e210cc4046889758a910f076e992": {
          "model_module": "@jupyter-widgets/base",
          "model_module_version": "1.2.0",
          "model_name": "LayoutModel",
          "state": {
            "_model_module": "@jupyter-widgets/base",
            "_model_module_version": "1.2.0",
            "_model_name": "LayoutModel",
            "_view_count": null,
            "_view_module": "@jupyter-widgets/base",
            "_view_module_version": "1.2.0",
            "_view_name": "LayoutView",
            "align_content": null,
            "align_items": null,
            "align_self": null,
            "border": null,
            "bottom": null,
            "display": null,
            "flex": null,
            "flex_flow": null,
            "grid_area": null,
            "grid_auto_columns": null,
            "grid_auto_flow": null,
            "grid_auto_rows": null,
            "grid_column": null,
            "grid_gap": null,
            "grid_row": null,
            "grid_template_areas": null,
            "grid_template_columns": null,
            "grid_template_rows": null,
            "height": null,
            "justify_content": null,
            "justify_items": null,
            "left": null,
            "margin": null,
            "max_height": null,
            "max_width": null,
            "min_height": null,
            "min_width": null,
            "object_fit": null,
            "object_position": null,
            "order": null,
            "overflow": null,
            "overflow_x": null,
            "overflow_y": null,
            "padding": null,
            "right": null,
            "top": null,
            "visibility": null,
            "width": null
          }
        },
        "74ddd66cc4b24f64b7f593d8720dc133": {
          "model_module": "@jupyter-widgets/controls",
          "model_module_version": "1.5.0",
          "model_name": "ProgressStyleModel",
          "state": {
            "_model_module": "@jupyter-widgets/controls",
            "_model_module_version": "1.5.0",
            "_model_name": "ProgressStyleModel",
            "_view_count": null,
            "_view_module": "@jupyter-widgets/base",
            "_view_module_version": "1.2.0",
            "_view_name": "StyleView",
            "bar_color": null,
            "description_width": ""
          }
        },
        "77a7eef3bf884d5cb252378f5453d218": {
          "model_module": "@jupyter-widgets/base",
          "model_module_version": "1.2.0",
          "model_name": "LayoutModel",
          "state": {
            "_model_module": "@jupyter-widgets/base",
            "_model_module_version": "1.2.0",
            "_model_name": "LayoutModel",
            "_view_count": null,
            "_view_module": "@jupyter-widgets/base",
            "_view_module_version": "1.2.0",
            "_view_name": "LayoutView",
            "align_content": null,
            "align_items": null,
            "align_self": null,
            "border": null,
            "bottom": null,
            "display": null,
            "flex": null,
            "flex_flow": null,
            "grid_area": null,
            "grid_auto_columns": null,
            "grid_auto_flow": null,
            "grid_auto_rows": null,
            "grid_column": null,
            "grid_gap": null,
            "grid_row": null,
            "grid_template_areas": null,
            "grid_template_columns": null,
            "grid_template_rows": null,
            "height": null,
            "justify_content": null,
            "justify_items": null,
            "left": null,
            "margin": null,
            "max_height": null,
            "max_width": null,
            "min_height": null,
            "min_width": null,
            "object_fit": null,
            "object_position": null,
            "order": null,
            "overflow": null,
            "overflow_x": null,
            "overflow_y": null,
            "padding": null,
            "right": null,
            "top": null,
            "visibility": null,
            "width": null
          }
        },
        "7948950b0dff42d99bd1e14cea98bb4e": {
          "model_module": "@jupyter-widgets/controls",
          "model_module_version": "1.5.0",
          "model_name": "HTMLModel",
          "state": {
            "_dom_classes": [],
            "_model_module": "@jupyter-widgets/controls",
            "_model_module_version": "1.5.0",
            "_model_name": "HTMLModel",
            "_view_count": null,
            "_view_module": "@jupyter-widgets/controls",
            "_view_module_version": "1.5.0",
            "_view_name": "HTMLView",
            "description": "",
            "description_tooltip": null,
            "layout": "IPY_MODEL_fb685c0f81cd41e2a94b630ce3c8c6d0",
            "placeholder": "​",
            "style": "IPY_MODEL_daab6378d0b24b20b933a84da755f5df",
            "value": " 89%"
          }
        },
        "7b81582dae9a47db804bcf0a90d3c6b5": {
          "model_module": "@jupyter-widgets/base",
          "model_module_version": "1.2.0",
          "model_name": "LayoutModel",
          "state": {
            "_model_module": "@jupyter-widgets/base",
            "_model_module_version": "1.2.0",
            "_model_name": "LayoutModel",
            "_view_count": null,
            "_view_module": "@jupyter-widgets/base",
            "_view_module_version": "1.2.0",
            "_view_name": "LayoutView",
            "align_content": null,
            "align_items": null,
            "align_self": null,
            "border": null,
            "bottom": null,
            "display": null,
            "flex": null,
            "flex_flow": null,
            "grid_area": null,
            "grid_auto_columns": null,
            "grid_auto_flow": null,
            "grid_auto_rows": null,
            "grid_column": null,
            "grid_gap": null,
            "grid_row": null,
            "grid_template_areas": null,
            "grid_template_columns": null,
            "grid_template_rows": null,
            "height": null,
            "justify_content": null,
            "justify_items": null,
            "left": null,
            "margin": null,
            "max_height": null,
            "max_width": null,
            "min_height": null,
            "min_width": null,
            "object_fit": null,
            "object_position": null,
            "order": null,
            "overflow": null,
            "overflow_x": null,
            "overflow_y": null,
            "padding": null,
            "right": null,
            "top": null,
            "visibility": null,
            "width": null
          }
        },
        "7d17fe4ed2204363b8966112941f61ac": {
          "model_module": "@jupyter-widgets/base",
          "model_module_version": "1.2.0",
          "model_name": "LayoutModel",
          "state": {
            "_model_module": "@jupyter-widgets/base",
            "_model_module_version": "1.2.0",
            "_model_name": "LayoutModel",
            "_view_count": null,
            "_view_module": "@jupyter-widgets/base",
            "_view_module_version": "1.2.0",
            "_view_name": "LayoutView",
            "align_content": null,
            "align_items": null,
            "align_self": null,
            "border": null,
            "bottom": null,
            "display": null,
            "flex": null,
            "flex_flow": null,
            "grid_area": null,
            "grid_auto_columns": null,
            "grid_auto_flow": null,
            "grid_auto_rows": null,
            "grid_column": null,
            "grid_gap": null,
            "grid_row": null,
            "grid_template_areas": null,
            "grid_template_columns": null,
            "grid_template_rows": null,
            "height": null,
            "justify_content": null,
            "justify_items": null,
            "left": null,
            "margin": null,
            "max_height": null,
            "max_width": null,
            "min_height": null,
            "min_width": null,
            "object_fit": null,
            "object_position": null,
            "order": null,
            "overflow": null,
            "overflow_x": null,
            "overflow_y": null,
            "padding": null,
            "right": null,
            "top": null,
            "visibility": null,
            "width": null
          }
        },
        "7fdec83fad0d4acd93f51e126761e835": {
          "model_module": "@jupyter-widgets/controls",
          "model_module_version": "1.5.0",
          "model_name": "HBoxModel",
          "state": {
            "_dom_classes": [],
            "_model_module": "@jupyter-widgets/controls",
            "_model_module_version": "1.5.0",
            "_model_name": "HBoxModel",
            "_view_count": null,
            "_view_module": "@jupyter-widgets/controls",
            "_view_module_version": "1.5.0",
            "_view_name": "HBoxView",
            "box_style": "",
            "children": [
              "IPY_MODEL_96744298ebc14b83b36a3af8b1fd9e19",
              "IPY_MODEL_49cf651f7e4f4e3186d062cf6cc69b85",
              "IPY_MODEL_e3ebbca190f642fcb45afb0ed69b6f97"
            ],
            "layout": "IPY_MODEL_85e8ca51b7f94985b50cacedc6d07cae"
          }
        },
        "801298c47dec453aa9cc1e4e54b64d77": {
          "model_module": "@jupyter-widgets/controls",
          "model_module_version": "1.5.0",
          "model_name": "FloatProgressModel",
          "state": {
            "_dom_classes": [],
            "_model_module": "@jupyter-widgets/controls",
            "_model_module_version": "1.5.0",
            "_model_name": "FloatProgressModel",
            "_view_count": null,
            "_view_module": "@jupyter-widgets/controls",
            "_view_module_version": "1.5.0",
            "_view_name": "ProgressView",
            "bar_style": "success",
            "description": "",
            "description_tooltip": null,
            "layout": "IPY_MODEL_0c128b0ade874dfa944691da092b235e",
            "max": 13,
            "min": 0,
            "orientation": "horizontal",
            "style": "IPY_MODEL_91e89fcca72742a6b7520a30185609ed",
            "value": 13
          }
        },
        "813fb0fe3a234c658a86322ffc150ca0": {
          "model_module": "@jupyter-widgets/controls",
          "model_module_version": "1.5.0",
          "model_name": "HTMLModel",
          "state": {
            "_dom_classes": [],
            "_model_module": "@jupyter-widgets/controls",
            "_model_module_version": "1.5.0",
            "_model_name": "HTMLModel",
            "_view_count": null,
            "_view_module": "@jupyter-widgets/controls",
            "_view_module_version": "1.5.0",
            "_view_name": "HTMLView",
            "description": "",
            "description_tooltip": null,
            "layout": "IPY_MODEL_35dc254026fc440f95a97843061f79b4",
            "placeholder": "​",
            "style": "IPY_MODEL_93f99f8e137e467ab26d884332cadfab",
            "value": "Downloading builder script: "
          }
        },
        "85dca053a4424b2b96b669758eebc0d3": {
          "model_module": "@jupyter-widgets/controls",
          "model_module_version": "1.5.0",
          "model_name": "DescriptionStyleModel",
          "state": {
            "_model_module": "@jupyter-widgets/controls",
            "_model_module_version": "1.5.0",
            "_model_name": "DescriptionStyleModel",
            "_view_count": null,
            "_view_module": "@jupyter-widgets/base",
            "_view_module_version": "1.2.0",
            "_view_name": "StyleView",
            "description_width": ""
          }
        },
        "85e8ca51b7f94985b50cacedc6d07cae": {
          "model_module": "@jupyter-widgets/base",
          "model_module_version": "1.2.0",
          "model_name": "LayoutModel",
          "state": {
            "_model_module": "@jupyter-widgets/base",
            "_model_module_version": "1.2.0",
            "_model_name": "LayoutModel",
            "_view_count": null,
            "_view_module": "@jupyter-widgets/base",
            "_view_module_version": "1.2.0",
            "_view_name": "LayoutView",
            "align_content": null,
            "align_items": null,
            "align_self": null,
            "border": null,
            "bottom": null,
            "display": null,
            "flex": null,
            "flex_flow": null,
            "grid_area": null,
            "grid_auto_columns": null,
            "grid_auto_flow": null,
            "grid_auto_rows": null,
            "grid_column": null,
            "grid_gap": null,
            "grid_row": null,
            "grid_template_areas": null,
            "grid_template_columns": null,
            "grid_template_rows": null,
            "height": null,
            "justify_content": null,
            "justify_items": null,
            "left": null,
            "margin": null,
            "max_height": null,
            "max_width": null,
            "min_height": null,
            "min_width": null,
            "object_fit": null,
            "object_position": null,
            "order": null,
            "overflow": null,
            "overflow_x": null,
            "overflow_y": null,
            "padding": null,
            "right": null,
            "top": null,
            "visibility": null,
            "width": null
          }
        },
        "871b7424021e4ab4bc7d6a7330ef4ff8": {
          "model_module": "@jupyter-widgets/controls",
          "model_module_version": "1.5.0",
          "model_name": "ProgressStyleModel",
          "state": {
            "_model_module": "@jupyter-widgets/controls",
            "_model_module_version": "1.5.0",
            "_model_name": "ProgressStyleModel",
            "_view_count": null,
            "_view_module": "@jupyter-widgets/base",
            "_view_module_version": "1.2.0",
            "_view_name": "StyleView",
            "bar_color": null,
            "description_width": ""
          }
        },
        "88deb96141504ad992492a1899228386": {
          "model_module": "@jupyter-widgets/controls",
          "model_module_version": "1.5.0",
          "model_name": "HTMLModel",
          "state": {
            "_dom_classes": [],
            "_model_module": "@jupyter-widgets/controls",
            "_model_module_version": "1.5.0",
            "_model_name": "HTMLModel",
            "_view_count": null,
            "_view_module": "@jupyter-widgets/controls",
            "_view_module_version": "1.5.0",
            "_view_name": "HTMLView",
            "description": "",
            "description_tooltip": null,
            "layout": "IPY_MODEL_8c5a383767084dd1877371f2b0252144",
            "placeholder": "​",
            "style": "IPY_MODEL_fe1b020c079b4bfe84994ef0d01cb8d2",
            "value": " 84.1M/84.1M [00:02&lt;00:00, 51.4MB/s]"
          }
        },
        "8c5a383767084dd1877371f2b0252144": {
          "model_module": "@jupyter-widgets/base",
          "model_module_version": "1.2.0",
          "model_name": "LayoutModel",
          "state": {
            "_model_module": "@jupyter-widgets/base",
            "_model_module_version": "1.2.0",
            "_model_name": "LayoutModel",
            "_view_count": null,
            "_view_module": "@jupyter-widgets/base",
            "_view_module_version": "1.2.0",
            "_view_name": "LayoutView",
            "align_content": null,
            "align_items": null,
            "align_self": null,
            "border": null,
            "bottom": null,
            "display": null,
            "flex": null,
            "flex_flow": null,
            "grid_area": null,
            "grid_auto_columns": null,
            "grid_auto_flow": null,
            "grid_auto_rows": null,
            "grid_column": null,
            "grid_gap": null,
            "grid_row": null,
            "grid_template_areas": null,
            "grid_template_columns": null,
            "grid_template_rows": null,
            "height": null,
            "justify_content": null,
            "justify_items": null,
            "left": null,
            "margin": null,
            "max_height": null,
            "max_width": null,
            "min_height": null,
            "min_width": null,
            "object_fit": null,
            "object_position": null,
            "order": null,
            "overflow": null,
            "overflow_x": null,
            "overflow_y": null,
            "padding": null,
            "right": null,
            "top": null,
            "visibility": null,
            "width": null
          }
        },
        "8ea59f60a8bd4061b72dc855c7e22e9a": {
          "model_module": "@jupyter-widgets/controls",
          "model_module_version": "1.5.0",
          "model_name": "HTMLModel",
          "state": {
            "_dom_classes": [],
            "_model_module": "@jupyter-widgets/controls",
            "_model_module_version": "1.5.0",
            "_model_name": "HTMLModel",
            "_view_count": null,
            "_view_module": "@jupyter-widgets/controls",
            "_view_module_version": "1.5.0",
            "_view_name": "HTMLView",
            "description": "",
            "description_tooltip": null,
            "layout": "IPY_MODEL_f9fee90be4664199b3a37b43a974a1fb",
            "placeholder": "​",
            "style": "IPY_MODEL_35b805b29c1741ea9e501b2712fa3660",
            "value": "Downloading tf_model.h5: 100%"
          }
        },
        "90b53e2cbe0b47c688792aaa2a32690e": {
          "model_module": "@jupyter-widgets/controls",
          "model_module_version": "1.5.0",
          "model_name": "DescriptionStyleModel",
          "state": {
            "_model_module": "@jupyter-widgets/controls",
            "_model_module_version": "1.5.0",
            "_model_name": "DescriptionStyleModel",
            "_view_count": null,
            "_view_module": "@jupyter-widgets/base",
            "_view_module_version": "1.2.0",
            "_view_name": "StyleView",
            "description_width": ""
          }
        },
        "91e89fcca72742a6b7520a30185609ed": {
          "model_module": "@jupyter-widgets/controls",
          "model_module_version": "1.5.0",
          "model_name": "ProgressStyleModel",
          "state": {
            "_model_module": "@jupyter-widgets/controls",
            "_model_module_version": "1.5.0",
            "_model_name": "ProgressStyleModel",
            "_view_count": null,
            "_view_module": "@jupyter-widgets/base",
            "_view_module_version": "1.2.0",
            "_view_name": "StyleView",
            "bar_color": null,
            "description_width": ""
          }
        },
        "924978f737e44fc2826ef395d7592769": {
          "model_module": "@jupyter-widgets/controls",
          "model_module_version": "1.5.0",
          "model_name": "DescriptionStyleModel",
          "state": {
            "_model_module": "@jupyter-widgets/controls",
            "_model_module_version": "1.5.0",
            "_model_name": "DescriptionStyleModel",
            "_view_count": null,
            "_view_module": "@jupyter-widgets/base",
            "_view_module_version": "1.2.0",
            "_view_name": "StyleView",
            "description_width": ""
          }
        },
        "92b4e23d53db4c239d16b511bc057e8d": {
          "model_module": "@jupyter-widgets/base",
          "model_module_version": "1.2.0",
          "model_name": "LayoutModel",
          "state": {
            "_model_module": "@jupyter-widgets/base",
            "_model_module_version": "1.2.0",
            "_model_name": "LayoutModel",
            "_view_count": null,
            "_view_module": "@jupyter-widgets/base",
            "_view_module_version": "1.2.0",
            "_view_name": "LayoutView",
            "align_content": null,
            "align_items": null,
            "align_self": null,
            "border": null,
            "bottom": null,
            "display": null,
            "flex": null,
            "flex_flow": null,
            "grid_area": null,
            "grid_auto_columns": null,
            "grid_auto_flow": null,
            "grid_auto_rows": null,
            "grid_column": null,
            "grid_gap": null,
            "grid_row": null,
            "grid_template_areas": null,
            "grid_template_columns": null,
            "grid_template_rows": null,
            "height": null,
            "justify_content": null,
            "justify_items": null,
            "left": null,
            "margin": null,
            "max_height": null,
            "max_width": null,
            "min_height": null,
            "min_width": null,
            "object_fit": null,
            "object_position": null,
            "order": null,
            "overflow": null,
            "overflow_x": null,
            "overflow_y": null,
            "padding": null,
            "right": null,
            "top": null,
            "visibility": null,
            "width": null
          }
        },
        "93f99f8e137e467ab26d884332cadfab": {
          "model_module": "@jupyter-widgets/controls",
          "model_module_version": "1.5.0",
          "model_name": "DescriptionStyleModel",
          "state": {
            "_model_module": "@jupyter-widgets/controls",
            "_model_module_version": "1.5.0",
            "_model_name": "DescriptionStyleModel",
            "_view_count": null,
            "_view_module": "@jupyter-widgets/base",
            "_view_module_version": "1.2.0",
            "_view_name": "StyleView",
            "description_width": ""
          }
        },
        "94344a967cfa4396aa3b75f7884b6b29": {
          "model_module": "@jupyter-widgets/controls",
          "model_module_version": "1.5.0",
          "model_name": "HTMLModel",
          "state": {
            "_dom_classes": [],
            "_model_module": "@jupyter-widgets/controls",
            "_model_module_version": "1.5.0",
            "_model_name": "HTMLModel",
            "_view_count": null,
            "_view_module": "@jupyter-widgets/controls",
            "_view_module_version": "1.5.0",
            "_view_name": "HTMLView",
            "description": "",
            "description_tooltip": null,
            "layout": "IPY_MODEL_77a7eef3bf884d5cb252378f5453d218",
            "placeholder": "​",
            "style": "IPY_MODEL_ec5b28f756fb46eca740fdffee021ad0",
            "value": "Generating test split:  99%"
          }
        },
        "94c189c9f9874d41be797929cf32d2b9": {
          "model_module": "@jupyter-widgets/controls",
          "model_module_version": "1.5.0",
          "model_name": "ProgressStyleModel",
          "state": {
            "_model_module": "@jupyter-widgets/controls",
            "_model_module_version": "1.5.0",
            "_model_name": "ProgressStyleModel",
            "_view_count": null,
            "_view_module": "@jupyter-widgets/base",
            "_view_module_version": "1.2.0",
            "_view_name": "StyleView",
            "bar_color": null,
            "description_width": ""
          }
        },
        "96744298ebc14b83b36a3af8b1fd9e19": {
          "model_module": "@jupyter-widgets/controls",
          "model_module_version": "1.5.0",
          "model_name": "HTMLModel",
          "state": {
            "_dom_classes": [],
            "_model_module": "@jupyter-widgets/controls",
            "_model_module_version": "1.5.0",
            "_model_name": "HTMLModel",
            "_view_count": null,
            "_view_module": "@jupyter-widgets/controls",
            "_view_module_version": "1.5.0",
            "_view_name": "HTMLView",
            "description": "",
            "description_tooltip": null,
            "layout": "IPY_MODEL_d6e8287b0d1648c9be75c55d9a902b70",
            "placeholder": "​",
            "style": "IPY_MODEL_85dca053a4424b2b96b669758eebc0d3",
            "value": "100%"
          }
        },
        "97f4d75946164c3b922ed91e08e2be89": {
          "model_module": "@jupyter-widgets/controls",
          "model_module_version": "1.5.0",
          "model_name": "HBoxModel",
          "state": {
            "_dom_classes": [],
            "_model_module": "@jupyter-widgets/controls",
            "_model_module_version": "1.5.0",
            "_model_name": "HBoxModel",
            "_view_count": null,
            "_view_module": "@jupyter-widgets/controls",
            "_view_module_version": "1.5.0",
            "_view_name": "HBoxView",
            "box_style": "",
            "children": [
              "IPY_MODEL_f8aaa6d41bda498ab5a23fe0342f5972",
              "IPY_MODEL_590888ff162b44b08586c281703a516a",
              "IPY_MODEL_99dd54a194d54d9c8cd9a51a7f1b6522"
            ],
            "layout": "IPY_MODEL_d691ceb466934a2ca89ebbe98b710342"
          }
        },
        "97f7e786df424743adfde1b3e4961439": {
          "model_module": "@jupyter-widgets/controls",
          "model_module_version": "1.5.0",
          "model_name": "HTMLModel",
          "state": {
            "_dom_classes": [],
            "_model_module": "@jupyter-widgets/controls",
            "_model_module_version": "1.5.0",
            "_model_name": "HTMLModel",
            "_view_count": null,
            "_view_module": "@jupyter-widgets/controls",
            "_view_module_version": "1.5.0",
            "_view_name": "HTMLView",
            "description": "",
            "description_tooltip": null,
            "layout": "IPY_MODEL_341096c8ea66448dae89e613188b99c7",
            "placeholder": "​",
            "style": "IPY_MODEL_c54b5fc3110c40b5b5f098e824e9bf6a",
            "value": " 272/306 [01:47&lt;00:12,  2.73it/s]"
          }
        },
        "99dd54a194d54d9c8cd9a51a7f1b6522": {
          "model_module": "@jupyter-widgets/controls",
          "model_module_version": "1.5.0",
          "model_name": "HTMLModel",
          "state": {
            "_dom_classes": [],
            "_model_module": "@jupyter-widgets/controls",
            "_model_module_version": "1.5.0",
            "_model_name": "HTMLModel",
            "_view_count": null,
            "_view_module": "@jupyter-widgets/controls",
            "_view_module_version": "1.5.0",
            "_view_name": "HTMLView",
            "description": "",
            "description_tooltip": null,
            "layout": "IPY_MODEL_27de0407ee2d4f8e95e71bd63f6d7963",
            "placeholder": "​",
            "style": "IPY_MODEL_bd256b9005cd4a39ab807c2920d1a456",
            "value": " 13/13 [00:00&lt;00:00, 59.49ba/s]"
          }
        },
        "9b1501cad74b4f199bb57cbb6cb4f6c0": {
          "model_module": "@jupyter-widgets/base",
          "model_module_version": "1.2.0",
          "model_name": "LayoutModel",
          "state": {
            "_model_module": "@jupyter-widgets/base",
            "_model_module_version": "1.2.0",
            "_model_name": "LayoutModel",
            "_view_count": null,
            "_view_module": "@jupyter-widgets/base",
            "_view_module_version": "1.2.0",
            "_view_name": "LayoutView",
            "align_content": null,
            "align_items": null,
            "align_self": null,
            "border": null,
            "bottom": null,
            "display": null,
            "flex": null,
            "flex_flow": null,
            "grid_area": null,
            "grid_auto_columns": null,
            "grid_auto_flow": null,
            "grid_auto_rows": null,
            "grid_column": null,
            "grid_gap": null,
            "grid_row": null,
            "grid_template_areas": null,
            "grid_template_columns": null,
            "grid_template_rows": null,
            "height": null,
            "justify_content": null,
            "justify_items": null,
            "left": null,
            "margin": null,
            "max_height": null,
            "max_width": null,
            "min_height": null,
            "min_width": null,
            "object_fit": null,
            "object_position": null,
            "order": null,
            "overflow": null,
            "overflow_x": null,
            "overflow_y": null,
            "padding": null,
            "right": null,
            "top": null,
            "visibility": null,
            "width": null
          }
        },
        "9b2fc855267b4dd5bd8caf4fb4b659c4": {
          "model_module": "@jupyter-widgets/controls",
          "model_module_version": "1.5.0",
          "model_name": "ProgressStyleModel",
          "state": {
            "_model_module": "@jupyter-widgets/controls",
            "_model_module_version": "1.5.0",
            "_model_name": "ProgressStyleModel",
            "_view_count": null,
            "_view_module": "@jupyter-widgets/base",
            "_view_module_version": "1.2.0",
            "_view_name": "StyleView",
            "bar_color": null,
            "description_width": ""
          }
        },
        "9f92e93cf6ad4e0985369102fa14adf5": {
          "model_module": "@jupyter-widgets/controls",
          "model_module_version": "1.5.0",
          "model_name": "ProgressStyleModel",
          "state": {
            "_model_module": "@jupyter-widgets/controls",
            "_model_module_version": "1.5.0",
            "_model_name": "ProgressStyleModel",
            "_view_count": null,
            "_view_module": "@jupyter-widgets/base",
            "_view_module_version": "1.2.0",
            "_view_name": "StyleView",
            "bar_color": null,
            "description_width": ""
          }
        },
        "9febb773d07844e6b8a6ca08416d83c0": {
          "model_module": "@jupyter-widgets/base",
          "model_module_version": "1.2.0",
          "model_name": "LayoutModel",
          "state": {
            "_model_module": "@jupyter-widgets/base",
            "_model_module_version": "1.2.0",
            "_model_name": "LayoutModel",
            "_view_count": null,
            "_view_module": "@jupyter-widgets/base",
            "_view_module_version": "1.2.0",
            "_view_name": "LayoutView",
            "align_content": null,
            "align_items": null,
            "align_self": null,
            "border": null,
            "bottom": null,
            "display": null,
            "flex": null,
            "flex_flow": null,
            "grid_area": null,
            "grid_auto_columns": null,
            "grid_auto_flow": null,
            "grid_auto_rows": null,
            "grid_column": null,
            "grid_gap": null,
            "grid_row": null,
            "grid_template_areas": null,
            "grid_template_columns": null,
            "grid_template_rows": null,
            "height": null,
            "justify_content": null,
            "justify_items": null,
            "left": null,
            "margin": null,
            "max_height": null,
            "max_width": null,
            "min_height": null,
            "min_width": null,
            "object_fit": null,
            "object_position": null,
            "order": null,
            "overflow": null,
            "overflow_x": null,
            "overflow_y": null,
            "padding": null,
            "right": null,
            "top": null,
            "visibility": null,
            "width": null
          }
        },
        "a1b8885564034a979df7abb864859ad6": {
          "model_module": "@jupyter-widgets/controls",
          "model_module_version": "1.5.0",
          "model_name": "HTMLModel",
          "state": {
            "_dom_classes": [],
            "_model_module": "@jupyter-widgets/controls",
            "_model_module_version": "1.5.0",
            "_model_name": "HTMLModel",
            "_view_count": null,
            "_view_module": "@jupyter-widgets/controls",
            "_view_module_version": "1.5.0",
            "_view_name": "HTMLView",
            "description": "",
            "description_tooltip": null,
            "layout": "IPY_MODEL_04af4edf2cfc42059d1a4c7e98f79b71",
            "placeholder": "​",
            "style": "IPY_MODEL_e0dc0e5417464d5faeb86d5e48b07ace",
            "value": "Downloading metadata: "
          }
        },
        "a22102092cd5494fbfe434157425c5ca": {
          "model_module": "@jupyter-widgets/base",
          "model_module_version": "1.2.0",
          "model_name": "LayoutModel",
          "state": {
            "_model_module": "@jupyter-widgets/base",
            "_model_module_version": "1.2.0",
            "_model_name": "LayoutModel",
            "_view_count": null,
            "_view_module": "@jupyter-widgets/base",
            "_view_module_version": "1.2.0",
            "_view_name": "LayoutView",
            "align_content": null,
            "align_items": null,
            "align_self": null,
            "border": null,
            "bottom": null,
            "display": null,
            "flex": null,
            "flex_flow": null,
            "grid_area": null,
            "grid_auto_columns": null,
            "grid_auto_flow": null,
            "grid_auto_rows": null,
            "grid_column": null,
            "grid_gap": null,
            "grid_row": null,
            "grid_template_areas": null,
            "grid_template_columns": null,
            "grid_template_rows": null,
            "height": null,
            "justify_content": null,
            "justify_items": null,
            "left": null,
            "margin": null,
            "max_height": null,
            "max_width": null,
            "min_height": null,
            "min_width": null,
            "object_fit": null,
            "object_position": null,
            "order": null,
            "overflow": null,
            "overflow_x": null,
            "overflow_y": null,
            "padding": null,
            "right": null,
            "top": null,
            "visibility": null,
            "width": null
          }
        },
        "a6485eef564f4e8097bc8bc6e3436f89": {
          "model_module": "@jupyter-widgets/controls",
          "model_module_version": "1.5.0",
          "model_name": "ProgressStyleModel",
          "state": {
            "_model_module": "@jupyter-widgets/controls",
            "_model_module_version": "1.5.0",
            "_model_name": "ProgressStyleModel",
            "_view_count": null,
            "_view_module": "@jupyter-widgets/base",
            "_view_module_version": "1.2.0",
            "_view_name": "StyleView",
            "bar_color": null,
            "description_width": ""
          }
        },
        "a86050fb7e5b4600af1703e8a5445a59": {
          "model_module": "@jupyter-widgets/controls",
          "model_module_version": "1.5.0",
          "model_name": "HBoxModel",
          "state": {
            "_dom_classes": [],
            "_model_module": "@jupyter-widgets/controls",
            "_model_module_version": "1.5.0",
            "_model_name": "HBoxModel",
            "_view_count": null,
            "_view_module": "@jupyter-widgets/controls",
            "_view_module_version": "1.5.0",
            "_view_name": "HBoxView",
            "box_style": "",
            "children": [
              "IPY_MODEL_a1b8885564034a979df7abb864859ad6",
              "IPY_MODEL_f52d7636844541d9801357968aa21969",
              "IPY_MODEL_6294b10b99ad411791c452e203180b9d"
            ],
            "layout": "IPY_MODEL_5a4941d4e4f9436ebe099644eeddb47b"
          }
        },
        "aa69680f9aa344f6afa560ac1f7fe932": {
          "model_module": "@jupyter-widgets/controls",
          "model_module_version": "1.5.0",
          "model_name": "HBoxModel",
          "state": {
            "_dom_classes": [],
            "_model_module": "@jupyter-widgets/controls",
            "_model_module_version": "1.5.0",
            "_model_name": "HBoxModel",
            "_view_count": null,
            "_view_module": "@jupyter-widgets/controls",
            "_view_module_version": "1.5.0",
            "_view_name": "HBoxView",
            "box_style": "",
            "children": [
              "IPY_MODEL_f9dc78368ab6413082c60f708369a2bc",
              "IPY_MODEL_0d1f3ef0414e41e088233894195b7930",
              "IPY_MODEL_28c4da2f61514ce6873286c45eaa6f0c"
            ],
            "layout": "IPY_MODEL_dabeb5f0961c4542932591245c152055"
          }
        },
        "b0a4d8e770f5455da20286433a05afe6": {
          "model_module": "@jupyter-widgets/controls",
          "model_module_version": "1.5.0",
          "model_name": "HBoxModel",
          "state": {
            "_dom_classes": [],
            "_model_module": "@jupyter-widgets/controls",
            "_model_module_version": "1.5.0",
            "_model_name": "HBoxModel",
            "_view_count": null,
            "_view_module": "@jupyter-widgets/controls",
            "_view_module_version": "1.5.0",
            "_view_name": "HBoxView",
            "box_style": "",
            "children": [
              "IPY_MODEL_575c93e4876f41899f953e0ec80136f2",
              "IPY_MODEL_357ee6bfdae84bdf904caf9ce1f6c41e",
              "IPY_MODEL_dc6f2464e0aa4426b79d855366de8e8b"
            ],
            "layout": "IPY_MODEL_7d17fe4ed2204363b8966112941f61ac"
          }
        },
        "b148ce4bbee24e75a74f586802c10500": {
          "model_module": "@jupyter-widgets/base",
          "model_module_version": "1.2.0",
          "model_name": "LayoutModel",
          "state": {
            "_model_module": "@jupyter-widgets/base",
            "_model_module_version": "1.2.0",
            "_model_name": "LayoutModel",
            "_view_count": null,
            "_view_module": "@jupyter-widgets/base",
            "_view_module_version": "1.2.0",
            "_view_name": "LayoutView",
            "align_content": null,
            "align_items": null,
            "align_self": null,
            "border": null,
            "bottom": null,
            "display": null,
            "flex": null,
            "flex_flow": null,
            "grid_area": null,
            "grid_auto_columns": null,
            "grid_auto_flow": null,
            "grid_auto_rows": null,
            "grid_column": null,
            "grid_gap": null,
            "grid_row": null,
            "grid_template_areas": null,
            "grid_template_columns": null,
            "grid_template_rows": null,
            "height": null,
            "justify_content": null,
            "justify_items": null,
            "left": null,
            "margin": null,
            "max_height": null,
            "max_width": null,
            "min_height": null,
            "min_width": null,
            "object_fit": null,
            "object_position": null,
            "order": null,
            "overflow": null,
            "overflow_x": null,
            "overflow_y": null,
            "padding": null,
            "right": null,
            "top": null,
            "visibility": null,
            "width": null
          }
        },
        "b3ca1339ed1f4bf283930baf5205f03b": {
          "model_module": "@jupyter-widgets/base",
          "model_module_version": "1.2.0",
          "model_name": "LayoutModel",
          "state": {
            "_model_module": "@jupyter-widgets/base",
            "_model_module_version": "1.2.0",
            "_model_name": "LayoutModel",
            "_view_count": null,
            "_view_module": "@jupyter-widgets/base",
            "_view_module_version": "1.2.0",
            "_view_name": "LayoutView",
            "align_content": null,
            "align_items": null,
            "align_self": null,
            "border": null,
            "bottom": null,
            "display": null,
            "flex": null,
            "flex_flow": null,
            "grid_area": null,
            "grid_auto_columns": null,
            "grid_auto_flow": null,
            "grid_auto_rows": null,
            "grid_column": null,
            "grid_gap": null,
            "grid_row": null,
            "grid_template_areas": null,
            "grid_template_columns": null,
            "grid_template_rows": null,
            "height": null,
            "justify_content": null,
            "justify_items": null,
            "left": null,
            "margin": null,
            "max_height": null,
            "max_width": null,
            "min_height": null,
            "min_width": null,
            "object_fit": null,
            "object_position": null,
            "order": null,
            "overflow": null,
            "overflow_x": null,
            "overflow_y": null,
            "padding": null,
            "right": null,
            "top": null,
            "visibility": null,
            "width": null
          }
        },
        "b4550afe490b4344a75908e6021bf519": {
          "model_module": "@jupyter-widgets/controls",
          "model_module_version": "1.5.0",
          "model_name": "DescriptionStyleModel",
          "state": {
            "_model_module": "@jupyter-widgets/controls",
            "_model_module_version": "1.5.0",
            "_model_name": "DescriptionStyleModel",
            "_view_count": null,
            "_view_module": "@jupyter-widgets/base",
            "_view_module_version": "1.2.0",
            "_view_name": "StyleView",
            "description_width": ""
          }
        },
        "b4e4b4293bd74e01bbdb21325b0b0552": {
          "model_module": "@jupyter-widgets/controls",
          "model_module_version": "1.5.0",
          "model_name": "FloatProgressModel",
          "state": {
            "_dom_classes": [],
            "_model_module": "@jupyter-widgets/controls",
            "_model_module_version": "1.5.0",
            "_model_name": "FloatProgressModel",
            "_view_count": null,
            "_view_module": "@jupyter-widgets/controls",
            "_view_module_version": "1.5.0",
            "_view_name": "ProgressView",
            "bar_style": "success",
            "description": "",
            "description_tooltip": null,
            "layout": "IPY_MODEL_bb327fac451b49a1983c810b98603d21",
            "max": 1789,
            "min": 0,
            "orientation": "horizontal",
            "style": "IPY_MODEL_4776f1ac98d44baa96d5712a9272ffe8",
            "value": 1789
          }
        },
        "b66b399110b447fda44f110fc2847ff2": {
          "model_module": "@jupyter-widgets/controls",
          "model_module_version": "1.5.0",
          "model_name": "DescriptionStyleModel",
          "state": {
            "_model_module": "@jupyter-widgets/controls",
            "_model_module_version": "1.5.0",
            "_model_name": "DescriptionStyleModel",
            "_view_count": null,
            "_view_module": "@jupyter-widgets/base",
            "_view_module_version": "1.2.0",
            "_view_name": "StyleView",
            "description_width": ""
          }
        },
        "bb327fac451b49a1983c810b98603d21": {
          "model_module": "@jupyter-widgets/base",
          "model_module_version": "1.2.0",
          "model_name": "LayoutModel",
          "state": {
            "_model_module": "@jupyter-widgets/base",
            "_model_module_version": "1.2.0",
            "_model_name": "LayoutModel",
            "_view_count": null,
            "_view_module": "@jupyter-widgets/base",
            "_view_module_version": "1.2.0",
            "_view_name": "LayoutView",
            "align_content": null,
            "align_items": null,
            "align_self": null,
            "border": null,
            "bottom": null,
            "display": null,
            "flex": null,
            "flex_flow": null,
            "grid_area": null,
            "grid_auto_columns": null,
            "grid_auto_flow": null,
            "grid_auto_rows": null,
            "grid_column": null,
            "grid_gap": null,
            "grid_row": null,
            "grid_template_areas": null,
            "grid_template_columns": null,
            "grid_template_rows": null,
            "height": null,
            "justify_content": null,
            "justify_items": null,
            "left": null,
            "margin": null,
            "max_height": null,
            "max_width": null,
            "min_height": null,
            "min_width": null,
            "object_fit": null,
            "object_position": null,
            "order": null,
            "overflow": null,
            "overflow_x": null,
            "overflow_y": null,
            "padding": null,
            "right": null,
            "top": null,
            "visibility": null,
            "width": null
          }
        },
        "bb5c7822d6bc49c29c0062f902f90a56": {
          "model_module": "@jupyter-widgets/base",
          "model_module_version": "1.2.0",
          "model_name": "LayoutModel",
          "state": {
            "_model_module": "@jupyter-widgets/base",
            "_model_module_version": "1.2.0",
            "_model_name": "LayoutModel",
            "_view_count": null,
            "_view_module": "@jupyter-widgets/base",
            "_view_module_version": "1.2.0",
            "_view_name": "LayoutView",
            "align_content": null,
            "align_items": null,
            "align_self": null,
            "border": null,
            "bottom": null,
            "display": null,
            "flex": null,
            "flex_flow": null,
            "grid_area": null,
            "grid_auto_columns": null,
            "grid_auto_flow": null,
            "grid_auto_rows": null,
            "grid_column": null,
            "grid_gap": null,
            "grid_row": null,
            "grid_template_areas": null,
            "grid_template_columns": null,
            "grid_template_rows": null,
            "height": null,
            "justify_content": null,
            "justify_items": null,
            "left": null,
            "margin": null,
            "max_height": null,
            "max_width": null,
            "min_height": null,
            "min_width": null,
            "object_fit": null,
            "object_position": null,
            "order": null,
            "overflow": null,
            "overflow_x": null,
            "overflow_y": null,
            "padding": null,
            "right": null,
            "top": null,
            "visibility": null,
            "width": null
          }
        },
        "bd256b9005cd4a39ab807c2920d1a456": {
          "model_module": "@jupyter-widgets/controls",
          "model_module_version": "1.5.0",
          "model_name": "DescriptionStyleModel",
          "state": {
            "_model_module": "@jupyter-widgets/controls",
            "_model_module_version": "1.5.0",
            "_model_name": "DescriptionStyleModel",
            "_view_count": null,
            "_view_module": "@jupyter-widgets/base",
            "_view_module_version": "1.2.0",
            "_view_name": "StyleView",
            "description_width": ""
          }
        },
        "bd73e530bcba4d398533dcff280452c5": {
          "model_module": "@jupyter-widgets/base",
          "model_module_version": "1.2.0",
          "model_name": "LayoutModel",
          "state": {
            "_model_module": "@jupyter-widgets/base",
            "_model_module_version": "1.2.0",
            "_model_name": "LayoutModel",
            "_view_count": null,
            "_view_module": "@jupyter-widgets/base",
            "_view_module_version": "1.2.0",
            "_view_name": "LayoutView",
            "align_content": null,
            "align_items": null,
            "align_self": null,
            "border": null,
            "bottom": null,
            "display": null,
            "flex": null,
            "flex_flow": null,
            "grid_area": null,
            "grid_auto_columns": null,
            "grid_auto_flow": null,
            "grid_auto_rows": null,
            "grid_column": null,
            "grid_gap": null,
            "grid_row": null,
            "grid_template_areas": null,
            "grid_template_columns": null,
            "grid_template_rows": null,
            "height": null,
            "justify_content": null,
            "justify_items": null,
            "left": null,
            "margin": null,
            "max_height": null,
            "max_width": null,
            "min_height": null,
            "min_width": null,
            "object_fit": null,
            "object_position": null,
            "order": null,
            "overflow": null,
            "overflow_x": null,
            "overflow_y": null,
            "padding": null,
            "right": null,
            "top": null,
            "visibility": null,
            "width": null
          }
        },
        "bf7c13f4fcbc4af48786651090b42208": {
          "model_module": "@jupyter-widgets/base",
          "model_module_version": "1.2.0",
          "model_name": "LayoutModel",
          "state": {
            "_model_module": "@jupyter-widgets/base",
            "_model_module_version": "1.2.0",
            "_model_name": "LayoutModel",
            "_view_count": null,
            "_view_module": "@jupyter-widgets/base",
            "_view_module_version": "1.2.0",
            "_view_name": "LayoutView",
            "align_content": null,
            "align_items": null,
            "align_self": null,
            "border": null,
            "bottom": null,
            "display": null,
            "flex": null,
            "flex_flow": null,
            "grid_area": null,
            "grid_auto_columns": null,
            "grid_auto_flow": null,
            "grid_auto_rows": null,
            "grid_column": null,
            "grid_gap": null,
            "grid_row": null,
            "grid_template_areas": null,
            "grid_template_columns": null,
            "grid_template_rows": null,
            "height": null,
            "justify_content": null,
            "justify_items": null,
            "left": null,
            "margin": null,
            "max_height": null,
            "max_width": null,
            "min_height": null,
            "min_width": null,
            "object_fit": null,
            "object_position": null,
            "order": null,
            "overflow": null,
            "overflow_x": null,
            "overflow_y": null,
            "padding": null,
            "right": null,
            "top": null,
            "visibility": null,
            "width": null
          }
        },
        "c24f367a9e244002a5c37baea3aae537": {
          "model_module": "@jupyter-widgets/base",
          "model_module_version": "1.2.0",
          "model_name": "LayoutModel",
          "state": {
            "_model_module": "@jupyter-widgets/base",
            "_model_module_version": "1.2.0",
            "_model_name": "LayoutModel",
            "_view_count": null,
            "_view_module": "@jupyter-widgets/base",
            "_view_module_version": "1.2.0",
            "_view_name": "LayoutView",
            "align_content": null,
            "align_items": null,
            "align_self": null,
            "border": null,
            "bottom": null,
            "display": null,
            "flex": null,
            "flex_flow": null,
            "grid_area": null,
            "grid_auto_columns": null,
            "grid_auto_flow": null,
            "grid_auto_rows": null,
            "grid_column": null,
            "grid_gap": null,
            "grid_row": null,
            "grid_template_areas": null,
            "grid_template_columns": null,
            "grid_template_rows": null,
            "height": null,
            "justify_content": null,
            "justify_items": null,
            "left": null,
            "margin": null,
            "max_height": null,
            "max_width": null,
            "min_height": null,
            "min_width": null,
            "object_fit": null,
            "object_position": null,
            "order": null,
            "overflow": null,
            "overflow_x": null,
            "overflow_y": null,
            "padding": null,
            "right": null,
            "top": null,
            "visibility": null,
            "width": null
          }
        },
        "c54b5fc3110c40b5b5f098e824e9bf6a": {
          "model_module": "@jupyter-widgets/controls",
          "model_module_version": "1.5.0",
          "model_name": "DescriptionStyleModel",
          "state": {
            "_model_module": "@jupyter-widgets/controls",
            "_model_module_version": "1.5.0",
            "_model_name": "DescriptionStyleModel",
            "_view_count": null,
            "_view_module": "@jupyter-widgets/base",
            "_view_module_version": "1.2.0",
            "_view_name": "StyleView",
            "description_width": ""
          }
        },
        "c571ad800d3d4a5985924c530679bc3e": {
          "model_module": "@jupyter-widgets/controls",
          "model_module_version": "1.5.0",
          "model_name": "DescriptionStyleModel",
          "state": {
            "_model_module": "@jupyter-widgets/controls",
            "_model_module_version": "1.5.0",
            "_model_name": "DescriptionStyleModel",
            "_view_count": null,
            "_view_module": "@jupyter-widgets/base",
            "_view_module_version": "1.2.0",
            "_view_name": "StyleView",
            "description_width": ""
          }
        },
        "cf4ce54f471b499eb44fa7f9e0bfdcd7": {
          "model_module": "@jupyter-widgets/controls",
          "model_module_version": "1.5.0",
          "model_name": "HTMLModel",
          "state": {
            "_dom_classes": [],
            "_model_module": "@jupyter-widgets/controls",
            "_model_module_version": "1.5.0",
            "_model_name": "HTMLModel",
            "_view_count": null,
            "_view_module": "@jupyter-widgets/controls",
            "_view_module_version": "1.5.0",
            "_view_name": "HTMLView",
            "description": "",
            "description_tooltip": null,
            "layout": "IPY_MODEL_e2e5ecb81d274360a53597cda72ad87a",
            "placeholder": "​",
            "style": "IPY_MODEL_70375ef359d54bf38c68d7c3d75176bf",
            "value": " 2/2 [00:00&lt;00:00, 24.44it/s]"
          }
        },
        "d045ce6b26dc45a7af8bc4f13608e42d": {
          "model_module": "@jupyter-widgets/controls",
          "model_module_version": "1.5.0",
          "model_name": "HTMLModel",
          "state": {
            "_dom_classes": [],
            "_model_module": "@jupyter-widgets/controls",
            "_model_module_version": "1.5.0",
            "_model_name": "HTMLModel",
            "_view_count": null,
            "_view_module": "@jupyter-widgets/controls",
            "_view_module_version": "1.5.0",
            "_view_name": "HTMLView",
            "description": "",
            "description_tooltip": null,
            "layout": "IPY_MODEL_bf7c13f4fcbc4af48786651090b42208",
            "placeholder": "​",
            "style": "IPY_MODEL_332fe8e9f3224cda91b3a60d2d5bc593",
            "value": " 25/25 [00:00&lt;00:00, 125.27ba/s]"
          }
        },
        "d691ceb466934a2ca89ebbe98b710342": {
          "model_module": "@jupyter-widgets/base",
          "model_module_version": "1.2.0",
          "model_name": "LayoutModel",
          "state": {
            "_model_module": "@jupyter-widgets/base",
            "_model_module_version": "1.2.0",
            "_model_name": "LayoutModel",
            "_view_count": null,
            "_view_module": "@jupyter-widgets/base",
            "_view_module_version": "1.2.0",
            "_view_name": "LayoutView",
            "align_content": null,
            "align_items": null,
            "align_self": null,
            "border": null,
            "bottom": null,
            "display": null,
            "flex": null,
            "flex_flow": null,
            "grid_area": null,
            "grid_auto_columns": null,
            "grid_auto_flow": null,
            "grid_auto_rows": null,
            "grid_column": null,
            "grid_gap": null,
            "grid_row": null,
            "grid_template_areas": null,
            "grid_template_columns": null,
            "grid_template_rows": null,
            "height": null,
            "justify_content": null,
            "justify_items": null,
            "left": null,
            "margin": null,
            "max_height": null,
            "max_width": null,
            "min_height": null,
            "min_width": null,
            "object_fit": null,
            "object_position": null,
            "order": null,
            "overflow": null,
            "overflow_x": null,
            "overflow_y": null,
            "padding": null,
            "right": null,
            "top": null,
            "visibility": null,
            "width": null
          }
        },
        "d6e8287b0d1648c9be75c55d9a902b70": {
          "model_module": "@jupyter-widgets/base",
          "model_module_version": "1.2.0",
          "model_name": "LayoutModel",
          "state": {
            "_model_module": "@jupyter-widgets/base",
            "_model_module_version": "1.2.0",
            "_model_name": "LayoutModel",
            "_view_count": null,
            "_view_module": "@jupyter-widgets/base",
            "_view_module_version": "1.2.0",
            "_view_name": "LayoutView",
            "align_content": null,
            "align_items": null,
            "align_self": null,
            "border": null,
            "bottom": null,
            "display": null,
            "flex": null,
            "flex_flow": null,
            "grid_area": null,
            "grid_auto_columns": null,
            "grid_auto_flow": null,
            "grid_auto_rows": null,
            "grid_column": null,
            "grid_gap": null,
            "grid_row": null,
            "grid_template_areas": null,
            "grid_template_columns": null,
            "grid_template_rows": null,
            "height": null,
            "justify_content": null,
            "justify_items": null,
            "left": null,
            "margin": null,
            "max_height": null,
            "max_width": null,
            "min_height": null,
            "min_width": null,
            "object_fit": null,
            "object_position": null,
            "order": null,
            "overflow": null,
            "overflow_x": null,
            "overflow_y": null,
            "padding": null,
            "right": null,
            "top": null,
            "visibility": null,
            "width": null
          }
        },
        "d8f8630f66064700823ba12e800c242e": {
          "model_module": "@jupyter-widgets/controls",
          "model_module_version": "1.5.0",
          "model_name": "ProgressStyleModel",
          "state": {
            "_model_module": "@jupyter-widgets/controls",
            "_model_module_version": "1.5.0",
            "_model_name": "ProgressStyleModel",
            "_view_count": null,
            "_view_module": "@jupyter-widgets/base",
            "_view_module_version": "1.2.0",
            "_view_name": "StyleView",
            "bar_color": null,
            "description_width": ""
          }
        },
        "daab6378d0b24b20b933a84da755f5df": {
          "model_module": "@jupyter-widgets/controls",
          "model_module_version": "1.5.0",
          "model_name": "DescriptionStyleModel",
          "state": {
            "_model_module": "@jupyter-widgets/controls",
            "_model_module_version": "1.5.0",
            "_model_name": "DescriptionStyleModel",
            "_view_count": null,
            "_view_module": "@jupyter-widgets/base",
            "_view_module_version": "1.2.0",
            "_view_name": "StyleView",
            "description_width": ""
          }
        },
        "dabeb5f0961c4542932591245c152055": {
          "model_module": "@jupyter-widgets/base",
          "model_module_version": "1.2.0",
          "model_name": "LayoutModel",
          "state": {
            "_model_module": "@jupyter-widgets/base",
            "_model_module_version": "1.2.0",
            "_model_name": "LayoutModel",
            "_view_count": null,
            "_view_module": "@jupyter-widgets/base",
            "_view_module_version": "1.2.0",
            "_view_name": "LayoutView",
            "align_content": null,
            "align_items": null,
            "align_self": null,
            "border": null,
            "bottom": null,
            "display": null,
            "flex": null,
            "flex_flow": null,
            "grid_area": null,
            "grid_auto_columns": null,
            "grid_auto_flow": null,
            "grid_auto_rows": null,
            "grid_column": null,
            "grid_gap": null,
            "grid_row": null,
            "grid_template_areas": null,
            "grid_template_columns": null,
            "grid_template_rows": null,
            "height": null,
            "justify_content": null,
            "justify_items": null,
            "left": null,
            "margin": null,
            "max_height": null,
            "max_width": null,
            "min_height": null,
            "min_width": null,
            "object_fit": null,
            "object_position": null,
            "order": null,
            "overflow": null,
            "overflow_x": null,
            "overflow_y": null,
            "padding": null,
            "right": null,
            "top": null,
            "visibility": null,
            "width": null
          }
        },
        "dc6f2464e0aa4426b79d855366de8e8b": {
          "model_module": "@jupyter-widgets/controls",
          "model_module_version": "1.5.0",
          "model_name": "HTMLModel",
          "state": {
            "_dom_classes": [],
            "_model_module": "@jupyter-widgets/controls",
            "_model_module_version": "1.5.0",
            "_model_name": "HTMLModel",
            "_view_count": null,
            "_view_module": "@jupyter-widgets/controls",
            "_view_module_version": "1.5.0",
            "_view_name": "HTMLView",
            "description": "",
            "description_tooltip": null,
            "layout": "IPY_MODEL_c24f367a9e244002a5c37baea3aae537",
            "placeholder": "​",
            "style": "IPY_MODEL_1f50d8b95e9845c39a6605e2e3ef8015",
            "value": " 504/? [03:23&lt;00:00,  1.92it/s]"
          }
        },
        "dcec73883a0c4fbea939da1e6cbeba18": {
          "model_module": "@jupyter-widgets/controls",
          "model_module_version": "1.5.0",
          "model_name": "HBoxModel",
          "state": {
            "_dom_classes": [],
            "_model_module": "@jupyter-widgets/controls",
            "_model_module_version": "1.5.0",
            "_model_name": "HBoxModel",
            "_view_count": null,
            "_view_module": "@jupyter-widgets/controls",
            "_view_module_version": "1.5.0",
            "_view_name": "HBoxView",
            "box_style": "",
            "children": [
              "IPY_MODEL_0b807568bb7d46398e72bffb6e854345",
              "IPY_MODEL_485b0fc35ab14cbe8bfe2aea29ae7bc4",
              "IPY_MODEL_88deb96141504ad992492a1899228386"
            ],
            "layout": "IPY_MODEL_b148ce4bbee24e75a74f586802c10500"
          }
        },
        "dd369d124c2849e9888b8e07f732da91": {
          "model_module": "@jupyter-widgets/controls",
          "model_module_version": "1.5.0",
          "model_name": "HBoxModel",
          "state": {
            "_dom_classes": [],
            "_model_module": "@jupyter-widgets/controls",
            "_model_module_version": "1.5.0",
            "_model_name": "HBoxModel",
            "_view_count": null,
            "_view_module": "@jupyter-widgets/controls",
            "_view_module_version": "1.5.0",
            "_view_name": "HBoxView",
            "box_style": "",
            "children": [
              "IPY_MODEL_0e87153bd3a94346a99fa779a559d4b5",
              "IPY_MODEL_801298c47dec453aa9cc1e4e54b64d77",
              "IPY_MODEL_6fb5e9111dd64421802c42c631a6ded8"
            ],
            "layout": "IPY_MODEL_153683d3618d4884a628740307e0a441"
          }
        },
        "def1877ebc5648dca6d453b6e9c66515": {
          "model_module": "@jupyter-widgets/base",
          "model_module_version": "1.2.0",
          "model_name": "LayoutModel",
          "state": {
            "_model_module": "@jupyter-widgets/base",
            "_model_module_version": "1.2.0",
            "_model_name": "LayoutModel",
            "_view_count": null,
            "_view_module": "@jupyter-widgets/base",
            "_view_module_version": "1.2.0",
            "_view_name": "LayoutView",
            "align_content": null,
            "align_items": null,
            "align_self": null,
            "border": null,
            "bottom": null,
            "display": null,
            "flex": null,
            "flex_flow": null,
            "grid_area": null,
            "grid_auto_columns": null,
            "grid_auto_flow": null,
            "grid_auto_rows": null,
            "grid_column": null,
            "grid_gap": null,
            "grid_row": null,
            "grid_template_areas": null,
            "grid_template_columns": null,
            "grid_template_rows": null,
            "height": null,
            "justify_content": null,
            "justify_items": null,
            "left": null,
            "margin": null,
            "max_height": null,
            "max_width": null,
            "min_height": null,
            "min_width": null,
            "object_fit": null,
            "object_position": null,
            "order": null,
            "overflow": null,
            "overflow_x": null,
            "overflow_y": null,
            "padding": null,
            "right": null,
            "top": null,
            "visibility": null,
            "width": null
          }
        },
        "e0dc0e5417464d5faeb86d5e48b07ace": {
          "model_module": "@jupyter-widgets/controls",
          "model_module_version": "1.5.0",
          "model_name": "DescriptionStyleModel",
          "state": {
            "_model_module": "@jupyter-widgets/controls",
            "_model_module_version": "1.5.0",
            "_model_name": "DescriptionStyleModel",
            "_view_count": null,
            "_view_module": "@jupyter-widgets/base",
            "_view_module_version": "1.2.0",
            "_view_name": "StyleView",
            "description_width": ""
          }
        },
        "e0ed361d2d09493b915ad0580d3c5f14": {
          "model_module": "@jupyter-widgets/controls",
          "model_module_version": "1.5.0",
          "model_name": "HBoxModel",
          "state": {
            "_dom_classes": [],
            "_model_module": "@jupyter-widgets/controls",
            "_model_module_version": "1.5.0",
            "_model_name": "HBoxModel",
            "_view_count": null,
            "_view_module": "@jupyter-widgets/controls",
            "_view_module_version": "1.5.0",
            "_view_name": "HBoxView",
            "box_style": "",
            "children": [
              "IPY_MODEL_5ead183d0e7d4fbd8624f8c8d96a00f6",
              "IPY_MODEL_6b711abfe8f44923af57024532604f8e",
              "IPY_MODEL_3329d21977ed4110bcc9935c604a8617"
            ],
            "layout": "IPY_MODEL_e4398b4a68844a4ea63a0e38b3ca15f7"
          }
        },
        "e2e5ecb81d274360a53597cda72ad87a": {
          "model_module": "@jupyter-widgets/base",
          "model_module_version": "1.2.0",
          "model_name": "LayoutModel",
          "state": {
            "_model_module": "@jupyter-widgets/base",
            "_model_module_version": "1.2.0",
            "_model_name": "LayoutModel",
            "_view_count": null,
            "_view_module": "@jupyter-widgets/base",
            "_view_module_version": "1.2.0",
            "_view_name": "LayoutView",
            "align_content": null,
            "align_items": null,
            "align_self": null,
            "border": null,
            "bottom": null,
            "display": null,
            "flex": null,
            "flex_flow": null,
            "grid_area": null,
            "grid_auto_columns": null,
            "grid_auto_flow": null,
            "grid_auto_rows": null,
            "grid_column": null,
            "grid_gap": null,
            "grid_row": null,
            "grid_template_areas": null,
            "grid_template_columns": null,
            "grid_template_rows": null,
            "height": null,
            "justify_content": null,
            "justify_items": null,
            "left": null,
            "margin": null,
            "max_height": null,
            "max_width": null,
            "min_height": null,
            "min_width": null,
            "object_fit": null,
            "object_position": null,
            "order": null,
            "overflow": null,
            "overflow_x": null,
            "overflow_y": null,
            "padding": null,
            "right": null,
            "top": null,
            "visibility": null,
            "width": null
          }
        },
        "e3ebbca190f642fcb45afb0ed69b6f97": {
          "model_module": "@jupyter-widgets/controls",
          "model_module_version": "1.5.0",
          "model_name": "HTMLModel",
          "state": {
            "_dom_classes": [],
            "_model_module": "@jupyter-widgets/controls",
            "_model_module_version": "1.5.0",
            "_model_name": "HTMLModel",
            "_view_count": null,
            "_view_module": "@jupyter-widgets/controls",
            "_view_module_version": "1.5.0",
            "_view_name": "HTMLView",
            "description": "",
            "description_tooltip": null,
            "layout": "IPY_MODEL_4af91b2b7e084476b8a4563937103543",
            "placeholder": "​",
            "style": "IPY_MODEL_b4550afe490b4344a75908e6021bf519",
            "value": " 25/25 [00:00&lt;00:00, 122.07ba/s]"
          }
        },
        "e4398b4a68844a4ea63a0e38b3ca15f7": {
          "model_module": "@jupyter-widgets/base",
          "model_module_version": "1.2.0",
          "model_name": "LayoutModel",
          "state": {
            "_model_module": "@jupyter-widgets/base",
            "_model_module_version": "1.2.0",
            "_model_name": "LayoutModel",
            "_view_count": null,
            "_view_module": "@jupyter-widgets/base",
            "_view_module_version": "1.2.0",
            "_view_name": "LayoutView",
            "align_content": null,
            "align_items": null,
            "align_self": null,
            "border": null,
            "bottom": null,
            "display": null,
            "flex": null,
            "flex_flow": null,
            "grid_area": null,
            "grid_auto_columns": null,
            "grid_auto_flow": null,
            "grid_auto_rows": null,
            "grid_column": null,
            "grid_gap": null,
            "grid_row": null,
            "grid_template_areas": null,
            "grid_template_columns": null,
            "grid_template_rows": null,
            "height": null,
            "justify_content": null,
            "justify_items": null,
            "left": null,
            "margin": null,
            "max_height": null,
            "max_width": null,
            "min_height": null,
            "min_width": null,
            "object_fit": null,
            "object_position": null,
            "order": null,
            "overflow": null,
            "overflow_x": null,
            "overflow_y": null,
            "padding": null,
            "right": null,
            "top": null,
            "visibility": null,
            "width": null
          }
        },
        "e67ff63f5d9041a88c94fdb25ea63e91": {
          "model_module": "@jupyter-widgets/base",
          "model_module_version": "1.2.0",
          "model_name": "LayoutModel",
          "state": {
            "_model_module": "@jupyter-widgets/base",
            "_model_module_version": "1.2.0",
            "_model_name": "LayoutModel",
            "_view_count": null,
            "_view_module": "@jupyter-widgets/base",
            "_view_module_version": "1.2.0",
            "_view_name": "LayoutView",
            "align_content": null,
            "align_items": null,
            "align_self": null,
            "border": null,
            "bottom": null,
            "display": null,
            "flex": null,
            "flex_flow": null,
            "grid_area": null,
            "grid_auto_columns": null,
            "grid_auto_flow": null,
            "grid_auto_rows": null,
            "grid_column": null,
            "grid_gap": null,
            "grid_row": null,
            "grid_template_areas": null,
            "grid_template_columns": null,
            "grid_template_rows": null,
            "height": null,
            "justify_content": null,
            "justify_items": null,
            "left": null,
            "margin": null,
            "max_height": null,
            "max_width": null,
            "min_height": null,
            "min_width": null,
            "object_fit": null,
            "object_position": null,
            "order": null,
            "overflow": null,
            "overflow_x": null,
            "overflow_y": null,
            "padding": null,
            "right": null,
            "top": null,
            "visibility": null,
            "width": null
          }
        },
        "e6d0c46b706e4270bb7932c22400e471": {
          "model_module": "@jupyter-widgets/controls",
          "model_module_version": "1.5.0",
          "model_name": "ProgressStyleModel",
          "state": {
            "_model_module": "@jupyter-widgets/controls",
            "_model_module_version": "1.5.0",
            "_model_name": "ProgressStyleModel",
            "_view_count": null,
            "_view_module": "@jupyter-widgets/base",
            "_view_module_version": "1.2.0",
            "_view_name": "StyleView",
            "bar_color": null,
            "description_width": ""
          }
        },
        "e7524547f72b44d18d8e356c052b9f40": {
          "model_module": "@jupyter-widgets/controls",
          "model_module_version": "1.5.0",
          "model_name": "FloatProgressModel",
          "state": {
            "_dom_classes": [],
            "_model_module": "@jupyter-widgets/controls",
            "_model_module_version": "1.5.0",
            "_model_name": "FloatProgressModel",
            "_view_count": null,
            "_view_module": "@jupyter-widgets/controls",
            "_view_module_version": "1.5.0",
            "_view_name": "ProgressView",
            "bar_style": "success",
            "description": "",
            "description_tooltip": null,
            "layout": "IPY_MODEL_e67ff63f5d9041a88c94fdb25ea63e91",
            "max": 526681800,
            "min": 0,
            "orientation": "horizontal",
            "style": "IPY_MODEL_6b0228f692584df0a92a6aa48aa2aac7",
            "value": 526681800
          }
        },
        "e823842e49c24812bbd86dfa34a7b982": {
          "model_module": "@jupyter-widgets/controls",
          "model_module_version": "1.5.0",
          "model_name": "DescriptionStyleModel",
          "state": {
            "_model_module": "@jupyter-widgets/controls",
            "_model_module_version": "1.5.0",
            "_model_name": "DescriptionStyleModel",
            "_view_count": null,
            "_view_module": "@jupyter-widgets/base",
            "_view_module_version": "1.2.0",
            "_view_name": "StyleView",
            "description_width": ""
          }
        },
        "ec333092c97a4d3ba2c50d8dc5d05458": {
          "model_module": "@jupyter-widgets/base",
          "model_module_version": "1.2.0",
          "model_name": "LayoutModel",
          "state": {
            "_model_module": "@jupyter-widgets/base",
            "_model_module_version": "1.2.0",
            "_model_name": "LayoutModel",
            "_view_count": null,
            "_view_module": "@jupyter-widgets/base",
            "_view_module_version": "1.2.0",
            "_view_name": "LayoutView",
            "align_content": null,
            "align_items": null,
            "align_self": null,
            "border": null,
            "bottom": null,
            "display": null,
            "flex": null,
            "flex_flow": null,
            "grid_area": null,
            "grid_auto_columns": null,
            "grid_auto_flow": null,
            "grid_auto_rows": null,
            "grid_column": null,
            "grid_gap": null,
            "grid_row": null,
            "grid_template_areas": null,
            "grid_template_columns": null,
            "grid_template_rows": null,
            "height": null,
            "justify_content": null,
            "justify_items": null,
            "left": null,
            "margin": null,
            "max_height": null,
            "max_width": null,
            "min_height": null,
            "min_width": null,
            "object_fit": null,
            "object_position": null,
            "order": null,
            "overflow": null,
            "overflow_x": null,
            "overflow_y": null,
            "padding": null,
            "right": null,
            "top": null,
            "visibility": null,
            "width": null
          }
        },
        "ec5b28f756fb46eca740fdffee021ad0": {
          "model_module": "@jupyter-widgets/controls",
          "model_module_version": "1.5.0",
          "model_name": "DescriptionStyleModel",
          "state": {
            "_model_module": "@jupyter-widgets/controls",
            "_model_module_version": "1.5.0",
            "_model_name": "DescriptionStyleModel",
            "_view_count": null,
            "_view_module": "@jupyter-widgets/base",
            "_view_module_version": "1.2.0",
            "_view_name": "StyleView",
            "description_width": ""
          }
        },
        "ed294d83230748878563d2fca783dc4a": {
          "model_module": "@jupyter-widgets/base",
          "model_module_version": "1.2.0",
          "model_name": "LayoutModel",
          "state": {
            "_model_module": "@jupyter-widgets/base",
            "_model_module_version": "1.2.0",
            "_model_name": "LayoutModel",
            "_view_count": null,
            "_view_module": "@jupyter-widgets/base",
            "_view_module_version": "1.2.0",
            "_view_name": "LayoutView",
            "align_content": null,
            "align_items": null,
            "align_self": null,
            "border": null,
            "bottom": null,
            "display": null,
            "flex": null,
            "flex_flow": null,
            "grid_area": null,
            "grid_auto_columns": null,
            "grid_auto_flow": null,
            "grid_auto_rows": null,
            "grid_column": null,
            "grid_gap": null,
            "grid_row": null,
            "grid_template_areas": null,
            "grid_template_columns": null,
            "grid_template_rows": null,
            "height": null,
            "justify_content": null,
            "justify_items": null,
            "left": null,
            "margin": null,
            "max_height": null,
            "max_width": null,
            "min_height": null,
            "min_width": null,
            "object_fit": null,
            "object_position": null,
            "order": null,
            "overflow": null,
            "overflow_x": null,
            "overflow_y": null,
            "padding": null,
            "right": null,
            "top": null,
            "visibility": null,
            "width": null
          }
        },
        "f3de01d3c23d488ba4031f889a890a8f": {
          "model_module": "@jupyter-widgets/controls",
          "model_module_version": "1.5.0",
          "model_name": "DescriptionStyleModel",
          "state": {
            "_model_module": "@jupyter-widgets/controls",
            "_model_module_version": "1.5.0",
            "_model_name": "DescriptionStyleModel",
            "_view_count": null,
            "_view_module": "@jupyter-widgets/base",
            "_view_module_version": "1.2.0",
            "_view_name": "StyleView",
            "description_width": ""
          }
        },
        "f4f6b77302ec48c1b5546188ef34f9c0": {
          "model_module": "@jupyter-widgets/controls",
          "model_module_version": "1.5.0",
          "model_name": "FloatProgressModel",
          "state": {
            "_dom_classes": [],
            "_model_module": "@jupyter-widgets/controls",
            "_model_module_version": "1.5.0",
            "_model_name": "FloatProgressModel",
            "_view_count": null,
            "_view_module": "@jupyter-widgets/controls",
            "_view_module_version": "1.5.0",
            "_view_name": "ProgressView",
            "bar_style": "",
            "description": "",
            "description_tooltip": null,
            "layout": "IPY_MODEL_5ebee29fea974351831e15b24411c76e",
            "max": 25000,
            "min": 0,
            "orientation": "horizontal",
            "style": "IPY_MODEL_1b4deb0fcc4c45ebb262a4580efe08b4",
            "value": 25000
          }
        },
        "f52d7636844541d9801357968aa21969": {
          "model_module": "@jupyter-widgets/controls",
          "model_module_version": "1.5.0",
          "model_name": "FloatProgressModel",
          "state": {
            "_dom_classes": [],
            "_model_module": "@jupyter-widgets/controls",
            "_model_module_version": "1.5.0",
            "_model_name": "FloatProgressModel",
            "_view_count": null,
            "_view_module": "@jupyter-widgets/controls",
            "_view_module_version": "1.5.0",
            "_view_name": "ProgressView",
            "bar_style": "success",
            "description": "",
            "description_tooltip": null,
            "layout": "IPY_MODEL_3d92509e14e84d2ea67bc368c466cbd9",
            "max": 1054,
            "min": 0,
            "orientation": "horizontal",
            "style": "IPY_MODEL_2b16c4a06e1a443cb41419c840f3f017",
            "value": 1054
          }
        },
        "f8aaa6d41bda498ab5a23fe0342f5972": {
          "model_module": "@jupyter-widgets/controls",
          "model_module_version": "1.5.0",
          "model_name": "HTMLModel",
          "state": {
            "_dom_classes": [],
            "_model_module": "@jupyter-widgets/controls",
            "_model_module_version": "1.5.0",
            "_model_name": "HTMLModel",
            "_view_count": null,
            "_view_module": "@jupyter-widgets/controls",
            "_view_module_version": "1.5.0",
            "_view_name": "HTMLView",
            "description": "",
            "description_tooltip": null,
            "layout": "IPY_MODEL_0cc736bb104d46c78f874a87710fa070",
            "placeholder": "​",
            "style": "IPY_MODEL_162b3bb1e70e4e8eb9466c0448ab8050",
            "value": "100%"
          }
        },
        "f9dc78368ab6413082c60f708369a2bc": {
          "model_module": "@jupyter-widgets/controls",
          "model_module_version": "1.5.0",
          "model_name": "HTMLModel",
          "state": {
            "_dom_classes": [],
            "_model_module": "@jupyter-widgets/controls",
            "_model_module_version": "1.5.0",
            "_model_name": "HTMLModel",
            "_view_count": null,
            "_view_module": "@jupyter-widgets/controls",
            "_view_module_version": "1.5.0",
            "_view_name": "HTMLView",
            "description": "",
            "description_tooltip": null,
            "layout": "IPY_MODEL_4aae6f831c744d71b90fe27154a61456",
            "placeholder": "​",
            "style": "IPY_MODEL_075f1d8b3e6e440a96dd2c05d061d626",
            "value": "100%"
          }
        },
        "f9f423ad46da4bf7b1a5be052474c145": {
          "model_module": "@jupyter-widgets/base",
          "model_module_version": "1.2.0",
          "model_name": "LayoutModel",
          "state": {
            "_model_module": "@jupyter-widgets/base",
            "_model_module_version": "1.2.0",
            "_model_name": "LayoutModel",
            "_view_count": null,
            "_view_module": "@jupyter-widgets/base",
            "_view_module_version": "1.2.0",
            "_view_name": "LayoutView",
            "align_content": null,
            "align_items": null,
            "align_self": null,
            "border": null,
            "bottom": null,
            "display": null,
            "flex": null,
            "flex_flow": null,
            "grid_area": null,
            "grid_auto_columns": null,
            "grid_auto_flow": null,
            "grid_auto_rows": null,
            "grid_column": null,
            "grid_gap": null,
            "grid_row": null,
            "grid_template_areas": null,
            "grid_template_columns": null,
            "grid_template_rows": null,
            "height": null,
            "justify_content": null,
            "justify_items": null,
            "left": null,
            "margin": null,
            "max_height": null,
            "max_width": null,
            "min_height": null,
            "min_width": null,
            "object_fit": null,
            "object_position": null,
            "order": null,
            "overflow": null,
            "overflow_x": null,
            "overflow_y": null,
            "padding": null,
            "right": null,
            "top": null,
            "visibility": null,
            "width": null
          }
        },
        "f9fee90be4664199b3a37b43a974a1fb": {
          "model_module": "@jupyter-widgets/base",
          "model_module_version": "1.2.0",
          "model_name": "LayoutModel",
          "state": {
            "_model_module": "@jupyter-widgets/base",
            "_model_module_version": "1.2.0",
            "_model_name": "LayoutModel",
            "_view_count": null,
            "_view_module": "@jupyter-widgets/base",
            "_view_module_version": "1.2.0",
            "_view_name": "LayoutView",
            "align_content": null,
            "align_items": null,
            "align_self": null,
            "border": null,
            "bottom": null,
            "display": null,
            "flex": null,
            "flex_flow": null,
            "grid_area": null,
            "grid_auto_columns": null,
            "grid_auto_flow": null,
            "grid_auto_rows": null,
            "grid_column": null,
            "grid_gap": null,
            "grid_row": null,
            "grid_template_areas": null,
            "grid_template_columns": null,
            "grid_template_rows": null,
            "height": null,
            "justify_content": null,
            "justify_items": null,
            "left": null,
            "margin": null,
            "max_height": null,
            "max_width": null,
            "min_height": null,
            "min_width": null,
            "object_fit": null,
            "object_position": null,
            "order": null,
            "overflow": null,
            "overflow_x": null,
            "overflow_y": null,
            "padding": null,
            "right": null,
            "top": null,
            "visibility": null,
            "width": null
          }
        },
        "fa62ef58083c4925a64adaeac0a10c04": {
          "model_module": "@jupyter-widgets/controls",
          "model_module_version": "1.5.0",
          "model_name": "DescriptionStyleModel",
          "state": {
            "_model_module": "@jupyter-widgets/controls",
            "_model_module_version": "1.5.0",
            "_model_name": "DescriptionStyleModel",
            "_view_count": null,
            "_view_module": "@jupyter-widgets/base",
            "_view_module_version": "1.2.0",
            "_view_name": "StyleView",
            "description_width": ""
          }
        },
        "fb685c0f81cd41e2a94b630ce3c8c6d0": {
          "model_module": "@jupyter-widgets/base",
          "model_module_version": "1.2.0",
          "model_name": "LayoutModel",
          "state": {
            "_model_module": "@jupyter-widgets/base",
            "_model_module_version": "1.2.0",
            "_model_name": "LayoutModel",
            "_view_count": null,
            "_view_module": "@jupyter-widgets/base",
            "_view_module_version": "1.2.0",
            "_view_name": "LayoutView",
            "align_content": null,
            "align_items": null,
            "align_self": null,
            "border": null,
            "bottom": null,
            "display": null,
            "flex": null,
            "flex_flow": null,
            "grid_area": null,
            "grid_auto_columns": null,
            "grid_auto_flow": null,
            "grid_auto_rows": null,
            "grid_column": null,
            "grid_gap": null,
            "grid_row": null,
            "grid_template_areas": null,
            "grid_template_columns": null,
            "grid_template_rows": null,
            "height": null,
            "justify_content": null,
            "justify_items": null,
            "left": null,
            "margin": null,
            "max_height": null,
            "max_width": null,
            "min_height": null,
            "min_width": null,
            "object_fit": null,
            "object_position": null,
            "order": null,
            "overflow": null,
            "overflow_x": null,
            "overflow_y": null,
            "padding": null,
            "right": null,
            "top": null,
            "visibility": null,
            "width": null
          }
        },
        "fe1b020c079b4bfe84994ef0d01cb8d2": {
          "model_module": "@jupyter-widgets/controls",
          "model_module_version": "1.5.0",
          "model_name": "DescriptionStyleModel",
          "state": {
            "_model_module": "@jupyter-widgets/controls",
            "_model_module_version": "1.5.0",
            "_model_name": "DescriptionStyleModel",
            "_view_count": null,
            "_view_module": "@jupyter-widgets/base",
            "_view_module_version": "1.2.0",
            "_view_name": "StyleView",
            "description_width": ""
          }
        },
        "fe577a02e3e94859a4026baad9e4183e": {
          "model_module": "@jupyter-widgets/controls",
          "model_module_version": "1.5.0",
          "model_name": "HTMLModel",
          "state": {
            "_dom_classes": [],
            "_model_module": "@jupyter-widgets/controls",
            "_model_module_version": "1.5.0",
            "_model_name": "HTMLModel",
            "_view_count": null,
            "_view_module": "@jupyter-widgets/controls",
            "_view_module_version": "1.5.0",
            "_view_name": "HTMLView",
            "description": "",
            "description_tooltip": null,
            "layout": "IPY_MODEL_018129f6e1dc40da81f60b7ca7ac5a6e",
            "placeholder": "​",
            "style": "IPY_MODEL_924978f737e44fc2826ef395d7592769",
            "value": " 4.31k/? [00:00&lt;00:00, 81.1kB/s]"
          }
        }
      }
    }
  },
  "nbformat": 4,
  "nbformat_minor": 0
}
