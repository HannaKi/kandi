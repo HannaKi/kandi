{
  "cells": [
    {
      "cell_type": "markdown",
      "metadata": {
        "id": "view-in-github",
        "colab_type": "text"
      },
      "source": [
        "<a href=\"https://colab.research.google.com/github/HannaKi/kandi/blob/master/sentiment_analysis_explainability.ipynb\" target=\"_parent\"><img src=\"https://colab.research.google.com/assets/colab-badge.svg\" alt=\"Open In Colab\"/></a>"
      ]
    },
    {
      "cell_type": "markdown",
      "metadata": {
        "id": "X4cRE8IbIrIV"
      },
      "source": [
        "If you're opening this Notebook on colab, you will probably need to install the most recent versions of 🤗 Transformers and 🤗 Datasets. We will also need `scipy` and `scikit-learn` for some of the metrics. Uncomment the following cell and run it."
      ]
    },
    {
      "cell_type": "code",
      "execution_count": 41,
      "metadata": {
        "colab": {
          "base_uri": "https://localhost:8080/"
        },
        "id": "MOsHUjgdIrIW",
        "outputId": "ad557c3a-4957-473c-e26e-8e53af83cab6"
      },
      "outputs": [
        {
          "output_type": "stream",
          "name": "stdout",
          "text": [
            "  Installing build dependencies ... \u001b[?25l\u001b[?25hdone\n",
            "  Getting requirements to build wheel ... \u001b[?25l\u001b[?25hdone\n",
            "    Preparing wheel metadata ... \u001b[?25l\u001b[?25hdone\n"
          ]
        }
      ],
      "source": [
        "! pip --quiet install git+https://github.com/huggingface/transformers.git\n",
        "! pip --quiet install git+https://github.com/huggingface/datasets.git\n",
        "! pip --quiet install scipy sklearn"
      ]
    },
    {
      "cell_type": "markdown",
      "metadata": {
        "id": "sCETXGGaAC8p"
      },
      "source": [
        "Make sure your version of Transformers is at least 4.8.1 since the functionality was introduced in that version:"
      ]
    },
    {
      "cell_type": "code",
      "execution_count": 42,
      "metadata": {
        "id": "hkiqvCSMAC8q",
        "outputId": "0968e917-00c2-4a09-ba46-e94d86d1d4a1",
        "colab": {
          "base_uri": "https://localhost:8080/"
        }
      },
      "outputs": [
        {
          "output_type": "stream",
          "name": "stdout",
          "text": [
            "4.17.0.dev0\n"
          ]
        }
      ],
      "source": [
        "import transformers\n",
        "\n",
        "print(transformers.__version__)"
      ]
    },
    {
      "cell_type": "markdown",
      "metadata": {
        "id": "HFASsisvIrIb"
      },
      "source": [
        "You can find a script version of this notebook to fine-tune your model in a distributed fashion using multiple GPUs or TPUs [here](https://github.com/huggingface/transformers/tree/master/examples/text-classification)."
      ]
    },
    {
      "cell_type": "markdown",
      "metadata": {
        "id": "rEJBSTyZIrIb"
      },
      "source": [
        "# Fine-tuning a model on a text classification task"
      ]
    },
    {
      "cell_type": "markdown",
      "metadata": {
        "id": "kTCFado4IrIc"
      },
      "source": [
        "In this notebook, we will see how to fine-tune one of the [🤗 Transformers](https://github.com/huggingface/transformers) model to a text classification task of the [GLUE Benchmark](https://gluebenchmark.com/).\n",
        "\n",
        "The GLUE Benchmark is a group of nine classification tasks on sentences or pairs of sentences which are:\n",
        "\n",
        "- [CoLA](https://nyu-mll.github.io/CoLA/) (Corpus of Linguistic Acceptability) Determine if a sentence is grammatically correct or not.is a  dataset containing sentences labeled grammatically correct or not.\n",
        "- [MNLI](https://arxiv.org/abs/1704.05426) (Multi-Genre Natural Language Inference) Determine if a sentence entails, contradicts or is unrelated to a given hypothesis. (This dataset has two versions, one with the validation and test set coming from the same distribution, another called mismatched where the validation and test use out-of-domain data.)\n",
        "- [MRPC](https://www.microsoft.com/en-us/download/details.aspx?id=52398) (Microsoft Research Paraphrase Corpus) Determine if two sentences are paraphrases from one another or not.\n",
        "- [QNLI](https://rajpurkar.github.io/SQuAD-explorer/) (Question-answering Natural Language Inference) Determine if the answer to a question is in the second sentence or not. (This dataset is built from the SQuAD dataset.)\n",
        "- [QQP](https://data.quora.com/First-Quora-Dataset-Release-Question-Pairs) (Quora Question Pairs2) Determine if two questions are semantically equivalent or not.\n",
        "- [RTE](https://aclweb.org/aclwiki/Recognizing_Textual_Entailment) (Recognizing Textual Entailment) Determine if a sentence entails a given hypothesis or not.\n",
        "- [SST-2](https://nlp.stanford.edu/sentiment/index.html) (Stanford Sentiment Treebank) Determine if the sentence has a positive or negative sentiment.\n",
        "- [STS-B](http://ixa2.si.ehu.es/stswiki/index.php/STSbenchmark) (Semantic Textual Similarity Benchmark) Determine the similarity of two sentences with a score from 1 to 5.\n",
        "- [WNLI](https://cs.nyu.edu/faculty/davise/papers/WinogradSchemas/WS.html) (Winograd Natural Language Inference) Determine if a sentence with an anonymous pronoun and a sentence with this pronoun replaced are entailed or not. (This dataset is built from the Winograd Schema Challenge dataset.)\n",
        "\n",
        "We will see how to easily load the dataset for each one of those tasks and use the `Trainer` API to fine-tune a model on it. Each task is named by its acronym, with `mnli-mm` standing for the mismatched version of MNLI (so same training set as `mnli` but different validation and test sets):"
      ]
    },
    {
      "cell_type": "code",
      "execution_count": 76,
      "metadata": {
        "id": "YZbiBDuGIrId"
      },
      "outputs": [],
      "source": [
        "GLUE_TASKS = [\n",
        "    \"cola\",\n",
        "    \"mnli\",\n",
        "    \"mnli-mm\",\n",
        "    \"mrpc\",\n",
        "    \"qnli\",\n",
        "    \"qqp\",\n",
        "    \"rte\",\n",
        "    \"sst2\",\n",
        "    \"stsb\",\n",
        "    \"wnli\",\n",
        "]"
      ]
    },
    {
      "cell_type": "markdown",
      "metadata": {
        "id": "4RRkXuteIrIh"
      },
      "source": [
        "This notebook is built to run on any of the tasks in the list above, with any model checkpoint from the [Model Hub](https://huggingface.co/models) as long as that model has a version with a classification head. Depending on you model and the GPU you are using, you might need to adjust the batch size to avoid out-of-memory errors. Set those three parameters, then the rest of the notebook should run smoothly:"
      ]
    },
    {
      "cell_type": "code",
      "execution_count": 77,
      "metadata": {
        "id": "zVvslsfMIrIh"
      },
      "outputs": [],
      "source": [
        "task = \"sst2\"\n",
        "# model_checkpoint = \"distilbert-base-uncased\"\n",
        "model_checkpoint =\"bert-base-cased\" # name from Hugging Face repository\n",
        "batch_size = 6# 32#16"
      ]
    },
    {
      "cell_type": "markdown",
      "metadata": {
        "id": "whPRbBNbIrIl"
      },
      "source": [
        "## Loading the dataset"
      ]
    },
    {
      "cell_type": "markdown",
      "metadata": {
        "id": "W7QYTpxXIrIl"
      },
      "source": [
        "We will use the [🤗 Datasets](https://github.com/huggingface/datasets) library to download the data and get the metric we need to use for evaluation (to compare our model to the benchmark). This can be easily done with the functions `load_dataset` and `load_metric`.  "
      ]
    },
    {
      "cell_type": "code",
      "execution_count": 78,
      "metadata": {
        "id": "IreSlFmlIrIm"
      },
      "outputs": [],
      "source": [
        "from datasets import load_dataset, load_metric"
      ]
    },
    {
      "cell_type": "markdown",
      "metadata": {
        "id": "CKx2zKs5IrIq"
      },
      "source": [
        "Apart from `mnli-mm` being a special code, we can directly pass our task name to those functions. `load_dataset` will cache the dataset to avoid downloading it again the next time you run this cell."
      ]
    },
    {
      "cell_type": "code",
      "execution_count": 79,
      "metadata": {
        "colab": {
          "base_uri": "https://localhost:8080/",
          "height": 67,
          "referenced_widgets": [
            "a2453b14dbfc499492f77f7e49dc84d8",
            "585e9edf684c46b990229cb21eca51f6",
            "4a8717076e354bc083b1d43b0ff85b74",
            "d89179c1458a4f26ad4ae20206460105",
            "b123257c85e44c4cbf390d765d0b3f3f",
            "8a0c75743abd4b49b21394798900000f",
            "3ddd6f50e0a54f9b8a397088ed490d20",
            "468af04e38c3472c85ff4e0f87834e33",
            "2d432046be944069836c72ca07f174b8",
            "66a21cf4e21e40058f272ba14a94032c",
            "794fcf1dc3354500b1894db1ec002bf3"
          ]
        },
        "id": "s_AY1ATSIrIq",
        "outputId": "917c5a27-09dc-414b-f774-9f835ee6b59c"
      },
      "outputs": [
        {
          "output_type": "stream",
          "name": "stderr",
          "text": [
            "Reusing dataset glue (/root/.cache/huggingface/datasets/glue/sst2/1.0.0/dacbe3125aa31d7f70367a07a8a9e72a5a0bfeb5fc42e75c9db75b96da6053ad)\n"
          ]
        },
        {
          "output_type": "display_data",
          "data": {
            "application/vnd.jupyter.widget-view+json": {
              "model_id": "a2453b14dbfc499492f77f7e49dc84d8",
              "version_minor": 0,
              "version_major": 2
            },
            "text/plain": [
              "  0%|          | 0/3 [00:00<?, ?it/s]"
            ]
          },
          "metadata": {}
        }
      ],
      "source": [
        "# actual_task = \"mnli\" if task == \"mnli-mm\" else task\n",
        "# dataset = load_dataset(\"glue\", actual_task)\n",
        "# metric = load_metric(\"glue\", actual_task)\n",
        "\n",
        "dataset = load_dataset(\"glue\", task)\n",
        "metric = load_metric(\"glue\", task)"
      ]
    },
    {
      "cell_type": "code",
      "source": [
        "# dataset = datasets.load_dataset(\"imdb\", split=\"test\")\n",
        "dataset = load_dataset(\"imdb\")"
      ],
      "metadata": {
        "id": "z_Pl42tumPj0",
        "outputId": "d8457cde-4a02-4f74-b55d-2d02999cc8c4",
        "colab": {
          "base_uri": "https://localhost:8080/",
          "height": 67,
          "referenced_widgets": [
            "bfe014e5ffcb4f248ec0bea084e95fcd",
            "9a95a3c9bc1a4b57b791213243ef6e9f",
            "63f4e5037a2240388e47e9787a843737",
            "d2f33ac1f431465288c94a273dded1a5",
            "45c6aa5a774043a3b57daa53f485eb28",
            "c7281c3a96f24295a3b0fc1b7228ffa2",
            "6f439035dbb446fd921302724aa2216d",
            "6d0c01f60bab4a43a6b8620415967e56",
            "411e697b7bd84f8d8e9c17ec15d887a7",
            "1da14bf10ae2400ca887e0c9896b2a21",
            "6e24fd4382e3427b91775ea3ae2fe79b"
          ]
        }
      },
      "execution_count": 80,
      "outputs": [
        {
          "output_type": "stream",
          "name": "stderr",
          "text": [
            "Reusing dataset imdb (/root/.cache/huggingface/datasets/imdb/plain_text/1.0.0/2fdd8b9bcadd6e7055e742a706876ba43f19faee861df134affd7a3f60fc38a1)\n"
          ]
        },
        {
          "output_type": "display_data",
          "data": {
            "application/vnd.jupyter.widget-view+json": {
              "model_id": "bfe014e5ffcb4f248ec0bea084e95fcd",
              "version_minor": 0,
              "version_major": 2
            },
            "text/plain": [
              "  0%|          | 0/3 [00:00<?, ?it/s]"
            ]
          },
          "metadata": {}
        }
      ]
    },
    {
      "cell_type": "markdown",
      "metadata": {
        "id": "RzfPtOMoIrIu"
      },
      "source": [
        "The `dataset` object itself is [`DatasetDict`](https://huggingface.co/docs/datasets/package_reference/main_classes.html#datasetdict), which contains one key for the training, validation and test set (with more keys for the mismatched validation and test set in the special case of `mnli`)."
      ]
    },
    {
      "cell_type": "code",
      "execution_count": 81,
      "metadata": {
        "id": "GWiVUF0jIrIv",
        "outputId": "ce90752f-bd03-40b5-9bdd-2bc1a952e05b",
        "colab": {
          "base_uri": "https://localhost:8080/"
        }
      },
      "outputs": [
        {
          "output_type": "execute_result",
          "data": {
            "text/plain": [
              "DatasetDict({\n",
              "    train: Dataset({\n",
              "        features: ['text', 'label'],\n",
              "        num_rows: 25000\n",
              "    })\n",
              "    test: Dataset({\n",
              "        features: ['text', 'label'],\n",
              "        num_rows: 25000\n",
              "    })\n",
              "    unsupervised: Dataset({\n",
              "        features: ['text', 'label'],\n",
              "        num_rows: 50000\n",
              "    })\n",
              "})"
            ]
          },
          "metadata": {},
          "execution_count": 81
        }
      ],
      "source": [
        "dataset"
      ]
    },
    {
      "cell_type": "markdown",
      "metadata": {
        "id": "u3EtYfeHIrIz"
      },
      "source": [
        "To access an actual element, you need to select a split first, then give an index:"
      ]
    },
    {
      "cell_type": "code",
      "execution_count": 82,
      "metadata": {
        "id": "X6HrpprwIrIz",
        "outputId": "03f7249f-1048-46a9-9372-b566099e0944",
        "colab": {
          "base_uri": "https://localhost:8080/"
        }
      },
      "outputs": [
        {
          "output_type": "execute_result",
          "data": {
            "text/plain": [
              "{'label': 0,\n",
              " 'text': 'I rented I AM CURIOUS-YELLOW from my video store because of all the controversy that surrounded it when it was first released in 1967. I also heard that at first it was seized by U.S. customs if it ever tried to enter this country, therefore being a fan of films considered \"controversial\" I really had to see this for myself.<br /><br />The plot is centered around a young Swedish drama student named Lena who wants to learn everything she can about life. In particular she wants to focus her attentions to making some sort of documentary on what the average Swede thought about certain political issues such as the Vietnam War and race issues in the United States. In between asking politicians and ordinary denizens of Stockholm about their opinions on politics, she has sex with her drama teacher, classmates, and married men.<br /><br />What kills me about I AM CURIOUS-YELLOW is that 40 years ago, this was considered pornographic. Really, the sex and nudity scenes are few and far between, even then it\\'s not shot like some cheaply made porno. While my countrymen mind find it shocking, in reality sex and nudity are a major staple in Swedish cinema. Even Ingmar Bergman, arguably their answer to good old boy John Ford, had sex scenes in his films.<br /><br />I do commend the filmmakers for the fact that any sex shown in the film is shown for artistic purposes rather than just to shock people and make money to be shown in pornographic theaters in America. I AM CURIOUS-YELLOW is a good film for anyone wanting to study the meat and potatoes (no pun intended) of Swedish cinema. But really, this film doesn\\'t have much of a plot.'}"
            ]
          },
          "metadata": {},
          "execution_count": 82
        }
      ],
      "source": [
        "dataset[\"train\"][0]"
      ]
    },
    {
      "cell_type": "code",
      "source": [
        "import numpy as np\n",
        "num_labels=len(np.unique(dataset[\"train\"][\"label\"])) # luokkien lukumäärä\n",
        "print(np.unique(dataset[\"train\"][\"label\"]))\n",
        "num_labels"
      ],
      "metadata": {
        "id": "Dfc_uXnVBxEz",
        "outputId": "3ddbd72c-9a11-4be2-ebf3-946f3f5c7448",
        "colab": {
          "base_uri": "https://localhost:8080/"
        }
      },
      "execution_count": 83,
      "outputs": [
        {
          "output_type": "stream",
          "name": "stdout",
          "text": [
            "[0 1]\n"
          ]
        },
        {
          "output_type": "execute_result",
          "data": {
            "text/plain": [
              "2"
            ]
          },
          "metadata": {},
          "execution_count": 83
        }
      ]
    },
    {
      "cell_type": "markdown",
      "metadata": {
        "id": "WHUmphG3IrI3"
      },
      "source": [
        "To get a sense of what the data looks like, the following function will show some examples picked randomly in the dataset."
      ]
    },
    {
      "cell_type": "code",
      "execution_count": 84,
      "metadata": {
        "id": "i3j8APAoIrI3"
      },
      "outputs": [],
      "source": [
        "import datasets\n",
        "import random\n",
        "import pandas as pd\n",
        "from IPython.display import display, HTML\n",
        "\n",
        "\n",
        "def show_random_elements(dataset, num_examples=10):\n",
        "    assert num_examples <= len(\n",
        "        dataset\n",
        "    ), \"Can't pick more elements than there are in the dataset.\"\n",
        "    picks = []\n",
        "    for _ in range(num_examples):\n",
        "        pick = random.randint(0, len(dataset) - 1)\n",
        "        while pick in picks:\n",
        "            pick = random.randint(0, len(dataset) - 1)\n",
        "        picks.append(pick)\n",
        "\n",
        "    df = pd.DataFrame(dataset[picks])\n",
        "    for column, typ in dataset.features.items():\n",
        "        if isinstance(typ, datasets.ClassLabel):\n",
        "            df[column] = df[column].transform(lambda i: typ.names[i])\n",
        "    display(HTML(df.to_html()))"
      ]
    },
    {
      "cell_type": "code",
      "execution_count": 85,
      "metadata": {
        "id": "SZy5tRB_IrI7",
        "outputId": "299a81cd-8d8d-499e-9b11-18b7ca9b3d65",
        "colab": {
          "base_uri": "https://localhost:8080/",
          "height": 1000
        }
      },
      "outputs": [
        {
          "output_type": "display_data",
          "data": {
            "text/html": [
              "<table border=\"1\" class=\"dataframe\">\n",
              "  <thead>\n",
              "    <tr style=\"text-align: right;\">\n",
              "      <th></th>\n",
              "      <th>text</th>\n",
              "      <th>label</th>\n",
              "    </tr>\n",
              "  </thead>\n",
              "  <tbody>\n",
              "    <tr>\n",
              "      <th>0</th>\n",
              "      <td>Didn't know anything about the movie before watching and I think it was the \"no expectation\" factor that helped me endure at first and later like it more than I anticipated.&lt;br /&gt;&lt;br /&gt;The setting was interesting, strange but interesting. The storyline had gaps/jumps that I think throws the audience off a bit. There's no great soundtrack playing in the background, creating the \"romantic\" ambiance. BUT they all didn't matter.&lt;br /&gt;&lt;br /&gt;The chemistry between Emma and Luis was simply exquisite. There was some inexplicable strange chemistry that I couldn't resist; I fell in love with it and here I am, writing this review. The subtle love portrayal by the two actors was superb, and I believe, that is the core of this movie.&lt;br /&gt;&lt;br /&gt;This movie is not an everyday romantic comedy; in fact, not all of us will appreciate it. I had to sit a while and then slowly began to comprehend the little things I didn't catch at first. I cannot guarantee everyone will like it, but I hope YOU do.</td>\n",
              "      <td>pos</td>\n",
              "    </tr>\n",
              "    <tr>\n",
              "      <th>1</th>\n",
              "      <td>Perhaps Disney was hoping for another Mary Poppins but this is a very different story and while Angela is delightful she was a very different performer to the great Julie Andrews. Having said that Lansbury is perfectly cast and delivers a magical performance. There is something deliciously dotty about her character and she is given wonderful support by David Tomlinson. Tomilinson can carry a tune but he is certainly not much chop as a singer. It does not matter he was such a gifted actor you hardly notice. There are some great cameos from much loved stars of another time like Roddy McDowel who gives a winning performance and the much loved Tessie OShea who does very little but its nice to see the old gal again. Its also lovely to see Sam Jaffe and the king of English television Bruce Forsythe in small roles. The score has a couple of beautiful songs especially The briny sea and The age of Not Believing. The big number Portabello Road is stretched to the limit but it has plenty of theatricality. The effects look a bit cliché today but the scene with the German invaders being attacked by the wildest army in film is pretty impressive. The kids are not as annoying as other movies but one does struggle to understand what the youngest boy is saying. I loved the marching song of the home army. The home guard were very important to Britain and this is a warm tribute. The animation is delightful, much better than Pixar which I find grotesque. A warm happy film and its a wonder its not done on stage.</td>\n",
              "      <td>pos</td>\n",
              "    </tr>\n",
              "    <tr>\n",
              "      <th>2</th>\n",
              "      <td>Nick Cage is Randall Raines, a retired car thief who is forced out of retirement when he's forced to save his the life of his brother Kip (Giovanni Ribisi) when he screws up on a job, by completing his brothers job of stealing 50 cars in one night. He has to get together his old crew that he can trust to help him pull it off and get his bro out of dutch. But the cops are onto him, so can he pull it off? This was one of the great candidates of a film to re-make as the Original was far from a classic. And if you don't go into it expecting much, and turn the thinking portion of your brain off so you can ignore the plot hole ans just take the movie for what it is. You'll end up enjoying the ride. Watch it on a double-bill with \"The Fast and the Furious\" for a night of high-speed hijinks, just don't take the car out for a spin right afterwards.&lt;br /&gt;&lt;br /&gt;My Grade: B- &lt;br /&gt;&lt;br /&gt;DVD Extras: 7 minute Jerry Bruckheimer Interview; Bruckheimer Bio/Filmography; Action Overload: Highlight Reel; The Big Chase; \"0 To 60\" featurette; \"Wild Rides\" featurette; Stars On The Move; The Cult \"Painted On The Heart\" music video; Theatrical Trailer, and Trailers for \"Shanghai Noon\", \"Mission to Mars\" and \"Coyote Ugly\"</td>\n",
              "      <td>pos</td>\n",
              "    </tr>\n",
              "    <tr>\n",
              "      <th>3</th>\n",
              "      <td>Let me be the first non Australian to comment on this :) I got the movie for Hugo Weaving and I watched it to the end. It's one of those \"drama of life\" films, as my mother used to call a movie that depicts a real life story with no extraordinary events and that is mostly descriptive.&lt;br /&gt;&lt;br /&gt;I liked the light and the girls. The rest was without too much fault, but without too much merit either. I yearned for something like The Interview, or at least some matrix villain element here and there, but nothing out of the ordinary. The story does teach one about facing one's own destiny and break free from the environment others build for you, but this happens when the life giving peach factory in the area is about to close, so not much of an effort to change things is required.&lt;br /&gt;&lt;br /&gt;The \"smart\" American Beauty sound-alike song in the background could have been part of a larger soundtrack, but just that one playing over and over again became annoying after 100 minutes of film.&lt;br /&gt;&lt;br /&gt;In the end, I guess it did his job of presenting a part of Australian life, but to me it didn't seem specifically Australian (it could have been placed anywhere) and it didn't seem attractive as a story.&lt;br /&gt;&lt;br /&gt;I guess one must be in a certain mood to like the movie.</td>\n",
              "      <td>pos</td>\n",
              "    </tr>\n",
              "    <tr>\n",
              "      <th>4</th>\n",
              "      <td>I had to write a review of this film after reading another comment saying that this is Sidney Poitier's best movie. Poitier had just returned from over a decade's break in film acting and he is clearly creaky here. 11 of his films are mentioned in Wikipedia and they don't include this. 5 of his films are on the AFI's list of top 100 inspiring movies, again, not including this. Berenger and Poitier, rube and city slicker set out to hunt down a dangerous psychopath before he crosses the border to Canada. Some of the attempts at comedy in this film clearly fail and Berenger and Poitier's bonding was cringeworthy and awkward (not helped by a completely bland script). Kirstie Alley (as the hostage) was underused, and almost entirely ignored when she was on screen. Some attempt at suspense is made, for example when you're meant to try and guess which of 5 men on a fishing trip is the murderer (all of them are type-cast villains). I understand that this is the entire appeal to most fans out there. I guessed who it was and I wasn't really trying hard.&lt;br /&gt;&lt;br /&gt;If you're a Berenger fan, watch the Sniper (1993), you even get to see Billy Zane strutting his stuff. It's much better. All in all I'd give Shoot to Kill 3/10. It's not daring, and it's just too straightforward for me.</td>\n",
              "      <td>neg</td>\n",
              "    </tr>\n",
              "    <tr>\n",
              "      <th>5</th>\n",
              "      <td>Of course, the story line for this movie isn't the best, but the dances are wonderful. This story line is different from other Astaire-Rogers movies in that neither one is \"chasing\" the other. The dancing of Fred and Ginger is what makes this movie.</td>\n",
              "      <td>pos</td>\n",
              "    </tr>\n",
              "    <tr>\n",
              "      <th>6</th>\n",
              "      <td>SPOILERS AHEAD&lt;br /&gt;&lt;br /&gt;This is one of the worst movies ever made - it's that simple. There is not one redeeming quality about this movie. The first 10 minutes are quite tricky - they actually lead you to believe that this film will be shocking and will have you on the edge of your seat. Instead, you will spend 83 minutes punching yourself while watching stolen and poorly made scenes run without any organization. The lake was ridiculous, looked like an aquarium, and had the same plant in different parts of the lake bed. Characters show their advanced teleportation powers, for example Alex Thomas who falls into the lake (drunk), and then ends up on his boat in an impossible position. Angie Harmon put up a pitiful performance as Kate, made worse by the space-time continuum rupturing dialog that appears to have been written at the last minute by a fifth grader. An example of this would be when she said, \"Flashlight!\" in such a stupid manner that it shows the threshold of how much a human body can cringe before it snaps in half. Finally, the editing of this movie was by far the most bizarre and horrific that I have ever seen. It was like the cameramen were a bunch of chimps who had been given camcorders by scientists. An example of this would be when we suddenly get a closeup of the headlight on Alex's car. I would bet that there was little to no time spent editing this movie. The ending was absolutely pathetic. The writers were obviously trying to create some sort of mysterious plot line that made the viewer say, \"oh yeah!\" Instead, we're left to view some dumb painting of a spider that somehow fits into the story line. Unfortunately, there is not one perspective in the millions out there that could save this movie from being a festering piece of crap.&lt;br /&gt;&lt;br /&gt;I give this a .5 out of 10, the .5 being from the fact that this movie was recorded on film instead of becoming a picture book.</td>\n",
              "      <td>neg</td>\n",
              "    </tr>\n",
              "    <tr>\n",
              "      <th>7</th>\n",
              "      <td>Writer/Director/Co-Star Adam Jones is headed for great things. That is the thought I had after seeing his feature film \"Cross Eyed\". Rarely does an independent film leave me feeling as good as his did. Cleverly written and masterfully directed, \"Cross Eyed\" keeps you involved from beginning to end. Adam Jones may not be a well known name yet, but he will be. If this movie had one or two \"Named Actors\" it would be a Box Office sensation. I think it still has a chance to get seen by a main stream audience if just one film distributor takes the time to work this movie. Regardless of where it ends up, if you get a chance to see it you won't be disappointed.</td>\n",
              "      <td>pos</td>\n",
              "    </tr>\n",
              "    <tr>\n",
              "      <th>8</th>\n",
              "      <td>The first of two films by Johnny To, this film won many awards, but none so prestigious as a Cannes Golden Palm nomination.&lt;br /&gt;&lt;br /&gt;The Triad elects their leader, but it is far from democratic with the behind the scenes machinations.&lt;br /&gt;&lt;br /&gt;Tony Leung Ka Fai (Zhou Yu's Train, Ashes of Time Redux) is Big D, who plans to take the baton no matter what it takes, even if it means a war. Well, war is not going to happen as that is bad for business. Big D will change his tune or...&lt;br /&gt;&lt;br /&gt;Good performances by Simon Yam, Louis Koo and Ka Tung Lam (Infernal Affairs I &amp; III), along with Tony Leung Ka Fai.&lt;br /&gt;&lt;br /&gt;Whether Masons, made men in the Mafia, or members of the Wo Sing Society, the ceremonies are the same; fascinating to watch.&lt;br /&gt;&lt;br /&gt;To be continued...</td>\n",
              "      <td>pos</td>\n",
              "    </tr>\n",
              "    <tr>\n",
              "      <th>9</th>\n",
              "      <td>Now, admittedly, I'm no ardent student of the genre. As a matter of fact, I've tended always to shy away from Westerns because, in spite of all their critical cachet as America's primal stories (or whatever), they seem to me to forever devolve into tiresome retreads of either \"shoot up the Injuns,\" \"the big gunfight,\" or \"Hey, let's form a posse!\" In other words, it always seemed to me a genre so rooted in and tied to convention, that it left precious little room for surprise or originality. (And yes, I HAVE seen at least some of the so-called \"greats\", and unapologetically lump them into this negative assessment - including Stagecoach, Rio Bravo, My Darling Clementine, and of course the infamous [but profoundly dull] Clint Eastwood-Sergio Leone teamups in the '60s.)&lt;br /&gt;&lt;br /&gt;But when I saw this movie on TV - as part of a commemorative Jimmy Stewart weekend upon his death - I finally GOT IT: I understood, at least in theory, what the Western mythos has to offer as a serious thematic preoccupation (aside from just action and thrills). It is the push-pull between lawlessness and order; the American West represented freedom, but also the prospect of the wild, the untamed. Respectable folk could get hurt out there. Which, of course, meant that perhaps - just perhaps - it wasn't meant for respectable folk, and that the only residents should be the amoral and the shifty, those who dispensed justice strictly from the barrel of their revolvers, and where kill or be killed would ever be the law of the land. In such an environment, of course, the true heroes are the ones who are ornery and free-spirited enough to be out there in the first place (and so reject \"society,\" at least as it manifested itself on the Eastern seaboard), and yet have enough sense of justice to believe that a society based on chaos and fear just IS NOT RIGHT. Catching and examining that disparity between law and disorder IN THE MAIN CHARACTER HIMSELF is, I believe (after seeing this movie), the highest and truest goal of any Western. Sadly, it is so often not the case, as the white hats are completely white, the black ones completely black (and let's not even get started talking about the Indians, ok) and there is precious little shades of gray in between.&lt;br /&gt;&lt;br /&gt;Not in this one. Jimmy Stewart plays a blatant fortune hunter who follows the trail of miners before him into the Alaskan wilderness to prospect for gold. He is joined in this by his lifelong buddy, played by Walter Brennan (perhaps the Western cliché character to end them all - but nevertheless enjoyable here, as always) - and no one else. Pointedly, they are out for themselves, and while Stewart displays his patented charm (come on, we could never really dislike the guy, now could we?), we are left with little doubt that his is basically a self-centered, self-interested character: none of his \"Gosh\" or \"Oh golly gee\" humanism is allowed to come through. Or, rather, it has to be EARNED, by the end of the picture, in the way I described above. He must confront the lawlessness in himself, and weigh it against the need for order and justice which are so blatantly lacking in the border town which serves as the miners' starting point on their gold dust trail. This town is ruled tightly by its wicked sheriff, Mr. Gannon, played by John McIntire in one of the best \"bad guy\" performances I've ever seen. He comes on with so much charm and humor, and has such a relaxed and interesting rapport with Stewart, that it actually takes awhile to recognize that he *is* the bad guy - so that when it finally sinks in, it does so with double force. Further, by establishing a type of breezy (if necessarily guarded) camaraderie between McIntire and Stewart, the film plays up the notion of how close in temperament they really are - and so how far a moral distance Stewart must walk by the end of the film.&lt;br /&gt;&lt;br /&gt;I won't go through all the twists and turns the plot takes - see those for yourself (as well as the rugged and gorgeous Alaskan scenery - filmed on location, mind you, not cheap painted stills that the studio made up). What's key here is how much this story focuses upon character, with great dialogue and character interaction substituting for gunplay much of the time - although the film has just enough action and adventure to prevent it from ever being static (read: \"talky\"). Definitely one of the greatest performances I've seen from Stewart, showing he could play the renegade, the \"man's man\" just as convincingly as the decent and upright guy next door. If anything, in fact, his \"everyman\" qualities lend greater strength to his characterization, making him seem less mythic or overblown - -like, say, Eastwood or John Wayne - and more a three-dimensional personage. His relationship with Brennan is well-played: understated, but nevertheless touching (with a faint suggestion of George and Lenny from \"Of Mice and Men\" - an altogether different type of \"western\").&lt;br /&gt;&lt;br /&gt;I certainly have more Westerns to see, but this is for now my favorite, and the yardstick by which I will necessarily judge all the others. It deserves to be much better known and appreciated than it is.</td>\n",
              "      <td>pos</td>\n",
              "    </tr>\n",
              "  </tbody>\n",
              "</table>"
            ],
            "text/plain": [
              "<IPython.core.display.HTML object>"
            ]
          },
          "metadata": {}
        }
      ],
      "source": [
        "show_random_elements(dataset[\"train\"])"
      ]
    },
    {
      "cell_type": "code",
      "source": [
        "dataset[\"train\"] = dataset[\"train\"].filter(lambda example, idx: idx % 10 == 0, with_indices=True)\n",
        "# if index is divisible with 10, select the instance\n",
        "\n",
        "# len(dataset[\"train\"])"
      ],
      "metadata": {
        "id": "qax921F8D7V-",
        "outputId": "7bc3a38e-4a60-44fd-9fb0-557411baedc7",
        "colab": {
          "base_uri": "https://localhost:8080/"
        }
      },
      "execution_count": 86,
      "outputs": [
        {
          "output_type": "stream",
          "name": "stderr",
          "text": [
            "Loading cached processed dataset at /root/.cache/huggingface/datasets/imdb/plain_text/1.0.0/2fdd8b9bcadd6e7055e742a706876ba43f19faee861df134affd7a3f60fc38a1/cache-2bb51c6f00c9430b.arrow\n"
          ]
        }
      ]
    },
    {
      "cell_type": "code",
      "source": [
        "dataset[\"validation\"] = dataset[\"test\"].filter(lambda example, idx: idx % 2 == 0, with_indices=True).filter(lambda example, idx: idx % 20 == 0, with_indices=True)\n",
        "dataset[\"test\"] = dataset[\"test\"].filter(lambda example, idx: idx % 2 != 0, with_indices=True).filter(lambda example, idx: idx % 20 == 0, with_indices=True)\n",
        "\n",
        "len(dataset[\"validation\"]), len(dataset[\"test\"])"
      ],
      "metadata": {
        "id": "VyWylJJmvm6w",
        "outputId": "3057940f-ca9a-4cf9-b0af-7be20ed09188",
        "colab": {
          "base_uri": "https://localhost:8080/"
        }
      },
      "execution_count": 87,
      "outputs": [
        {
          "output_type": "stream",
          "name": "stderr",
          "text": [
            "Loading cached processed dataset at /root/.cache/huggingface/datasets/imdb/plain_text/1.0.0/2fdd8b9bcadd6e7055e742a706876ba43f19faee861df134affd7a3f60fc38a1/cache-cf0a4bebe61b82c7.arrow\n",
            "Loading cached processed dataset at /root/.cache/huggingface/datasets/imdb/plain_text/1.0.0/2fdd8b9bcadd6e7055e742a706876ba43f19faee861df134affd7a3f60fc38a1/cache-f5cee140a9f911b7.arrow\n",
            "Loading cached processed dataset at /root/.cache/huggingface/datasets/imdb/plain_text/1.0.0/2fdd8b9bcadd6e7055e742a706876ba43f19faee861df134affd7a3f60fc38a1/cache-2d010b75dc07ab97.arrow\n",
            "Loading cached processed dataset at /root/.cache/huggingface/datasets/imdb/plain_text/1.0.0/2fdd8b9bcadd6e7055e742a706876ba43f19faee861df134affd7a3f60fc38a1/cache-2beba353f71da13f.arrow\n"
          ]
        },
        {
          "output_type": "execute_result",
          "data": {
            "text/plain": [
              "(625, 625)"
            ]
          },
          "metadata": {},
          "execution_count": 87
        }
      ]
    },
    {
      "cell_type": "code",
      "source": [
        "del dataset[\"unsupervised\"]"
      ],
      "metadata": {
        "id": "1hFAa8DMvwIY"
      },
      "execution_count": 88,
      "outputs": []
    },
    {
      "cell_type": "code",
      "source": [
        "dataset"
      ],
      "metadata": {
        "id": "tbQsW12kvjBJ",
        "outputId": "2ca911f8-a335-46ba-ffc6-c15445614e03",
        "colab": {
          "base_uri": "https://localhost:8080/"
        }
      },
      "execution_count": 89,
      "outputs": [
        {
          "output_type": "execute_result",
          "data": {
            "text/plain": [
              "DatasetDict({\n",
              "    train: Dataset({\n",
              "        features: ['text', 'label'],\n",
              "        num_rows: 2500\n",
              "    })\n",
              "    test: Dataset({\n",
              "        features: ['text', 'label'],\n",
              "        num_rows: 625\n",
              "    })\n",
              "    validation: Dataset({\n",
              "        features: ['text', 'label'],\n",
              "        num_rows: 625\n",
              "    })\n",
              "})"
            ]
          },
          "metadata": {},
          "execution_count": 89
        }
      ]
    },
    {
      "cell_type": "code",
      "source": [
        "len(dataset[\"train\"])"
      ],
      "metadata": {
        "id": "aiRs1WOfEaxO",
        "outputId": "fb680361-3f2e-4b64-c453-d88d3e230ce6",
        "colab": {
          "base_uri": "https://localhost:8080/"
        }
      },
      "execution_count": 90,
      "outputs": [
        {
          "output_type": "execute_result",
          "data": {
            "text/plain": [
              "2500"
            ]
          },
          "metadata": {},
          "execution_count": 90
        }
      ]
    },
    {
      "cell_type": "markdown",
      "metadata": {
        "id": "lnjDIuQ3IrI-"
      },
      "source": [
        "The metric is an instance of [`datasets.Metric`](https://huggingface.co/docs/datasets/package_reference/main_classes.html#datasets.Metric):"
      ]
    },
    {
      "cell_type": "code",
      "execution_count": 91,
      "metadata": {
        "id": "5o4rUteaIrI_",
        "outputId": "1146b88e-7a32-4fa5-f89a-29cdd5342fc4",
        "colab": {
          "base_uri": "https://localhost:8080/"
        }
      },
      "outputs": [
        {
          "output_type": "execute_result",
          "data": {
            "text/plain": [
              "Metric(name: \"glue\", features: {'predictions': Value(dtype='int64', id=None), 'references': Value(dtype='int64', id=None)}, usage: \"\"\"\n",
              "Compute GLUE evaluation metric associated to each GLUE dataset.\n",
              "Args:\n",
              "    predictions: list of predictions to score.\n",
              "        Each translation should be tokenized into a list of tokens.\n",
              "    references: list of lists of references for each translation.\n",
              "        Each reference should be tokenized into a list of tokens.\n",
              "Returns: depending on the GLUE subset, one or several of:\n",
              "    \"accuracy\": Accuracy\n",
              "    \"f1\": F1 score\n",
              "    \"pearson\": Pearson Correlation\n",
              "    \"spearmanr\": Spearman Correlation\n",
              "    \"matthews_correlation\": Matthew Correlation\n",
              "Examples:\n",
              "\n",
              "    >>> glue_metric = datasets.load_metric('glue', 'sst2')  # 'sst2' or any of [\"mnli\", \"mnli_mismatched\", \"mnli_matched\", \"qnli\", \"rte\", \"wnli\", \"hans\"]\n",
              "    >>> references = [0, 1]\n",
              "    >>> predictions = [0, 1]\n",
              "    >>> results = glue_metric.compute(predictions=predictions, references=references)\n",
              "    >>> print(results)\n",
              "    {'accuracy': 1.0}\n",
              "\n",
              "    >>> glue_metric = datasets.load_metric('glue', 'mrpc')  # 'mrpc' or 'qqp'\n",
              "    >>> references = [0, 1]\n",
              "    >>> predictions = [0, 1]\n",
              "    >>> results = glue_metric.compute(predictions=predictions, references=references)\n",
              "    >>> print(results)\n",
              "    {'accuracy': 1.0, 'f1': 1.0}\n",
              "\n",
              "    >>> glue_metric = datasets.load_metric('glue', 'stsb')\n",
              "    >>> references = [0., 1., 2., 3., 4., 5.]\n",
              "    >>> predictions = [0., 1., 2., 3., 4., 5.]\n",
              "    >>> results = glue_metric.compute(predictions=predictions, references=references)\n",
              "    >>> print({\"pearson\": round(results[\"pearson\"], 2), \"spearmanr\": round(results[\"spearmanr\"], 2)})\n",
              "    {'pearson': 1.0, 'spearmanr': 1.0}\n",
              "\n",
              "    >>> glue_metric = datasets.load_metric('glue', 'cola')\n",
              "    >>> references = [0, 1]\n",
              "    >>> predictions = [0, 1]\n",
              "    >>> results = glue_metric.compute(predictions=predictions, references=references)\n",
              "    >>> print(results)\n",
              "    {'matthews_correlation': 1.0}\n",
              "\"\"\", stored examples: 0)"
            ]
          },
          "metadata": {},
          "execution_count": 91
        }
      ],
      "source": [
        "metric"
      ]
    },
    {
      "cell_type": "markdown",
      "metadata": {
        "id": "jAWdqcUBIrJC"
      },
      "source": [
        "You can call its `compute` method with your predictions and labels directly and it will return a dictionary with the metric(s) value:"
      ]
    },
    {
      "cell_type": "code",
      "execution_count": 92,
      "metadata": {
        "id": "6XN1Rq0aIrJC",
        "outputId": "74687dbb-12e7-4abc-b143-50b3807d6de3",
        "colab": {
          "base_uri": "https://localhost:8080/"
        }
      },
      "outputs": [
        {
          "output_type": "execute_result",
          "data": {
            "text/plain": [
              "{'accuracy': 0.46875}"
            ]
          },
          "metadata": {},
          "execution_count": 92
        }
      ],
      "source": [
        "import numpy as np\n",
        "\n",
        "fake_preds = np.random.randint(0, 2, size=(64,))\n",
        "fake_labels = np.random.randint(0, 2, size=(64,))\n",
        "metric.compute(predictions=fake_preds, references=fake_labels)"
      ]
    },
    {
      "cell_type": "markdown",
      "metadata": {
        "id": "YOCrQwPoIrJG"
      },
      "source": [
        "Note that `load_metric` has loaded the proper metric associated to your task, which is:\n",
        "\n",
        "- for CoLA: [Matthews Correlation Coefficient](https://en.wikipedia.org/wiki/Matthews_correlation_coefficient)\n",
        "- for MNLI (matched or mismatched): Accuracy\n",
        "- for MRPC: Accuracy and [F1 score](https://en.wikipedia.org/wiki/F1_score)\n",
        "- for QNLI: Accuracy\n",
        "- for QQP: Accuracy and [F1 score](https://en.wikipedia.org/wiki/F1_score)\n",
        "- for RTE: Accuracy\n",
        "- for SST-2: Accuracy\n",
        "- for STS-B: [Pearson Correlation Coefficient](https://en.wikipedia.org/wiki/Pearson_correlation_coefficient) and [Spearman's_Rank_Correlation_Coefficient](https://en.wikipedia.org/wiki/Spearman%27s_rank_correlation_coefficient)\n",
        "- for WNLI: Accuracy\n",
        "\n",
        "so the metric object only computes the one(s) needed for your task."
      ]
    },
    {
      "cell_type": "markdown",
      "metadata": {
        "id": "n9qywopnIrJH"
      },
      "source": [
        "## Preprocessing the data"
      ]
    },
    {
      "cell_type": "markdown",
      "metadata": {
        "id": "YVx71GdAIrJH"
      },
      "source": [
        "Before we can feed those texts to our model, we need to preprocess them. This is done by a 🤗 Transformers `Tokenizer` which will (as the name indicates) tokenize the inputs (including converting the tokens to their corresponding IDs in the pretrained vocabulary) and put it in a format the model expects, as well as generate the other inputs that model requires.\n",
        "\n",
        "To do all of this, we instantiate our tokenizer with the `AutoTokenizer.from_pretrained` method, which will ensure:\n",
        "\n",
        "- we get a tokenizer that corresponds to the model architecture we want to use,\n",
        "- we download the vocabulary used when pretraining this specific checkpoint.\n",
        "\n",
        "That vocabulary will be cached, so it's not downloaded again the next time we run the cell."
      ]
    },
    {
      "cell_type": "code",
      "execution_count": 93,
      "metadata": {
        "id": "eXNLu_-nIrJI"
      },
      "outputs": [],
      "source": [
        "from transformers import AutoTokenizer\n",
        "\n",
        "tokenizer = AutoTokenizer.from_pretrained(model_checkpoint)"
      ]
    },
    {
      "cell_type": "markdown",
      "metadata": {
        "id": "rowT4iCLIrJK"
      },
      "source": [
        "You can directly call this tokenizer on one sentence or a pair of sentences:"
      ]
    },
    {
      "cell_type": "code",
      "execution_count": 94,
      "metadata": {
        "id": "a5hBlsrHIrJL",
        "outputId": "e02620fa-0bf6-4f8d-88fd-f388f1bc2de7",
        "colab": {
          "base_uri": "https://localhost:8080/"
        }
      },
      "outputs": [
        {
          "output_type": "execute_result",
          "data": {
            "text/plain": [
              "{'input_ids': [101, 8667, 117, 1142, 1141, 5650, 106, 102, 1262, 1142, 5650, 2947, 1114, 1122, 119, 102], 'token_type_ids': [0, 0, 0, 0, 0, 0, 0, 0, 1, 1, 1, 1, 1, 1, 1, 1], 'attention_mask': [1, 1, 1, 1, 1, 1, 1, 1, 1, 1, 1, 1, 1, 1, 1, 1]}"
            ]
          },
          "metadata": {},
          "execution_count": 94
        }
      ],
      "source": [
        "tokenizer(\"Hello, this one sentence!\", \"And this sentence goes with it.\")"
      ]
    },
    {
      "cell_type": "markdown",
      "metadata": {
        "id": "qo_0B1M2IrJM"
      },
      "source": [
        "Depending on the model you selected, you will see different keys in the dictionary returned by the cell above. They don't matter much for what we're doing here (just know they are required by the model we will instantiate later), you can learn more about them in [this tutorial](https://huggingface.co/transformers/preprocessing.html) if you're interested.\n",
        "\n",
        "To preprocess our dataset, we will thus need the names of the columns containing the sentence(s). The following dictionary keeps track of the correspondence task to column names:"
      ]
    },
    {
      "cell_type": "code",
      "execution_count": 95,
      "metadata": {
        "id": "fyGdtK9oIrJM"
      },
      "outputs": [],
      "source": [
        "task_to_keys = {\n",
        "    \"cola\": (\"sentence\", None),\n",
        "    \"mnli\": (\"premise\", \"hypothesis\"),\n",
        "    \"mnli-mm\": (\"premise\", \"hypothesis\"),\n",
        "    \"mrpc\": (\"sentence1\", \"sentence2\"),\n",
        "    \"qnli\": (\"question\", \"sentence\"),\n",
        "    \"qqp\": (\"question1\", \"question2\"),\n",
        "    \"rte\": (\"sentence1\", \"sentence2\"),\n",
        "    \"sst2\": (\"text\", None),\n",
        "    \"stsb\": (\"sentence1\", \"sentence2\"),\n",
        "    \"wnli\": (\"sentence1\", \"sentence2\"),\n",
        "}"
      ]
    },
    {
      "cell_type": "markdown",
      "metadata": {
        "id": "xbqtC4MrIrJO"
      },
      "source": [
        "We can double check it does work on our current dataset:"
      ]
    },
    {
      "cell_type": "code",
      "execution_count": 96,
      "metadata": {
        "id": "19GG646uIrJO",
        "outputId": "c0d8ab49-8cd4-4cd4-bac6-4969d9f8ecc2",
        "colab": {
          "base_uri": "https://localhost:8080/"
        }
      },
      "outputs": [
        {
          "output_type": "stream",
          "name": "stdout",
          "text": [
            "Sentence: I rented I AM CURIOUS-YELLOW from my video store because of all the controversy that surrounded it when it was first released in 1967. I also heard that at first it was seized by U.S. customs if it ever tried to enter this country, therefore being a fan of films considered \"controversial\" I really had to see this for myself.<br /><br />The plot is centered around a young Swedish drama student named Lena who wants to learn everything she can about life. In particular she wants to focus her attentions to making some sort of documentary on what the average Swede thought about certain political issues such as the Vietnam War and race issues in the United States. In between asking politicians and ordinary denizens of Stockholm about their opinions on politics, she has sex with her drama teacher, classmates, and married men.<br /><br />What kills me about I AM CURIOUS-YELLOW is that 40 years ago, this was considered pornographic. Really, the sex and nudity scenes are few and far between, even then it's not shot like some cheaply made porno. While my countrymen mind find it shocking, in reality sex and nudity are a major staple in Swedish cinema. Even Ingmar Bergman, arguably their answer to good old boy John Ford, had sex scenes in his films.<br /><br />I do commend the filmmakers for the fact that any sex shown in the film is shown for artistic purposes rather than just to shock people and make money to be shown in pornographic theaters in America. I AM CURIOUS-YELLOW is a good film for anyone wanting to study the meat and potatoes (no pun intended) of Swedish cinema. But really, this film doesn't have much of a plot.\n"
          ]
        }
      ],
      "source": [
        "sentence1_key, sentence2_key = task_to_keys[task]\n",
        "if sentence2_key is None:\n",
        "    print(f\"Sentence: {dataset['train'][0][sentence1_key]}\")\n",
        "else:\n",
        "    print(f\"Sentence 1: {dataset['train'][0][sentence1_key]}\")\n",
        "    print(f\"Sentence 2: {dataset['train'][0][sentence2_key]}\")"
      ]
    },
    {
      "cell_type": "markdown",
      "metadata": {
        "id": "2C0hcmp9IrJQ"
      },
      "source": [
        "We can them write the function that will preprocess our samples. We just feed them to the `tokenizer` with the arguments `truncation=True` and `padding='longest`. This will ensure that an input longer that what the model selected can handle will be truncated to the maximum length accepted by the model, and all inputs will be padded to the maximum input length to give us a single input array. A more performant method that reduces the number of padding tokens is to write a generator or `tf.data.Dataset` to only pad each *batch* to the maximum length in that batch, but most GLUE tasks are relatively quick on modern GPUs either way."
      ]
    },
    {
      "cell_type": "code",
      "execution_count": 97,
      "metadata": {
        "id": "vc0BSBLIIrJQ"
      },
      "outputs": [],
      "source": [
        "def preprocess_function(examples):\n",
        "    if sentence2_key is None:\n",
        "        return tokenizer(examples[sentence1_key], truncation=True)\n",
        "    return tokenizer(examples[sentence1_key], examples[sentence2_key], truncation=True)"
      ]
    },
    {
      "cell_type": "markdown",
      "metadata": {
        "id": "0lm8ozrJIrJR"
      },
      "source": [
        "This function works with one or several examples. In the case of several examples, the tokenizer will return a list of lists for each key:"
      ]
    },
    {
      "cell_type": "code",
      "execution_count": 98,
      "metadata": {
        "id": "-b70jh26IrJS",
        "outputId": "da7f225e-50fb-4794-8425-9603db2445cd",
        "colab": {
          "base_uri": "https://localhost:8080/"
        }
      },
      "outputs": [
        {
          "output_type": "execute_result",
          "data": {
            "text/plain": [
              "{'input_ids': [[101, 146, 12765, 146, 6586, 140, 19556, 19368, 13329, 118, 162, 21678, 2162, 17056, 1121, 1139, 1888, 2984, 1272, 1104, 1155, 1103, 6392, 1115, 4405, 1122, 1165, 1122, 1108, 1148, 1308, 1107, 2573, 119, 146, 1145, 1767, 1115, 1120, 1148, 1122, 1108, 7842, 1118, 158, 119, 156, 119, 10148, 1191, 1122, 1518, 1793, 1106, 3873, 1142, 1583, 117, 3335, 1217, 170, 5442, 1104, 2441, 1737, 107, 6241, 107, 146, 1541, 1125, 1106, 1267, 1142, 1111, 1991, 119, 133, 9304, 120, 135, 133, 9304, 120, 135, 1109, 4928, 1110, 8663, 1213, 170, 1685, 3619, 3362, 2377, 1417, 14960, 1150, 3349, 1106, 3858, 1917, 1131, 1169, 1164, 1297, 119, 1130, 2440, 1131, 3349, 1106, 2817, 1123, 2209, 1116, 1106, 1543, 1199, 3271, 1104, 4148, 1113, 1184, 1103, 1903, 156, 11547, 1162, 1354, 1164, 2218, 1741, 2492, 1216, 1112, 1103, 4357, 1414, 1105, 1886, 2492, 1107, 1103, 1244, 1311, 119, 1130, 1206, 4107, 8673, 1105, 6655, 10552, 3708, 2316, 1104, 8583, 1164, 1147, 11089, 1113, 4039, 117, 1131, 1144, 2673, 1114, 1123, 3362, 3218, 117, 22150, 117, 1105, 1597, 1441, 119, 133, 9304, 120, 135, 133, 9304, 120, 135, 1327, 8567, 1143, 1164, 146, 6586, 140, 19556, 19368, 13329, 118, 162, 21678, 2162, 17056, 1110, 1115, 1969, 1201, 2403, 117, 1142, 1108, 1737, 185, 8456, 9597, 119, 8762, 117, 1103, 2673, 1105, 183, 17294, 2340, 4429, 1132, 1374, 1105, 1677, 1206, 117, 1256, 1173, 1122, 112, 188, 1136, 2046, 1176, 1199, 10928, 1193, 1189, 185, 8456, 1186, 119, 1799, 1139, 1583, 2354, 1713, 1525, 1122, 19196, 117, 1107, 3958, 2673, 1105, 183, 17294, 2340, 1132, 170, 1558, 22088, 1107, 3619, 7678, 119, 2431, 1130, 14721, 1197, 27644, 117, 18271, 1147, 2590, 1106, 1363, 1385, 2298, 1287, 4100, 117, 1125, 2673, 4429, 1107, 1117, 2441, 119, 133, 9304, 120, 135, 133, 9304, 120, 135, 146, 1202, 3254, 2354, 1181, 1103, 18992, 1111, 1103, 1864, 1115, 1251, 2673, 2602, 1107, 1103, 1273, 1110, 2602, 1111, 6037, 4998, 1897, 1190, 1198, 1106, 4900, 1234, 1105, 1294, 1948, 1106, 1129, 2602, 1107, 185, 8456, 9597, 13090, 1107, 1738, 119, 146, 6586, 140, 19556, 19368, 13329, 118, 162, 21678, 2162, 17056, 1110, 170, 1363, 1273, 1111, 2256, 5277, 1106, 2025, 1103, 6092, 1105, 15866, 113, 1185, 23609, 1179, 3005, 114, 1104, 3619, 7678, 119, 1252, 1541, 117, 1142, 1273, 2144, 112, 189, 1138, 1277, 1104, 170, 4928, 119, 102], [101, 1135, 1108, 1632, 1106, 1267, 1199, 1104, 1139, 5095, 2940, 1104, 1476, 1201, 2403, 1259, 1287, 25846, 117, 3096, 15109, 10582, 1105, 14707, 24340, 119, 1220, 1350, 2385, 7310, 119, 1252, 1115, 1108, 1122, 119, 1220, 1127, 1136, 1549, 1251, 2650, 1137, 1363, 2442, 1106, 1250, 1114, 119, 146, 4534, 4628, 1137, 8361, 1184, 1103, 2650, 1127, 1833, 119, 133, 9304, 120, 135, 133, 9304, 120, 135, 1789, 1104, 1103, 2964, 2130, 3573, 1127, 2503, 117, 20033, 1124, 15703, 1105, 9518, 21180, 5503, 1127, 2385, 19555, 1105, 9588, 1107, 1147, 1353, 1334, 27982, 2192, 119, 1220, 2799, 1199, 5939, 1105, 1122, 1110, 6782, 1152, 1238, 112, 189, 1301, 1113, 1106, 2851, 1107, 1167, 1105, 1618, 2441, 119, 20572, 1193, 117, 146, 1238, 112, 189, 1341, 9771, 1457, 7625, 5208, 1400, 170, 2640, 1106, 2496, 1107, 1142, 1123, 1178, 1696, 1273, 1648, 119, 133, 9304, 120, 135, 133, 9304, 120, 135, 1109, 1273, 2691, 1106, 1138, 1199, 3899, 117, 1105, 146, 1108, 1304, 1501, 118, 13767, 1165, 146, 1408, 2903, 1122, 119, 146, 1821, 170, 1992, 1943, 9326, 1403, 6778, 11748, 5442, 1105, 146, 4927, 1117, 1314, 2523, 117, 107, 8572, 112, 188, 2508, 4064, 107, 1105, 1155, 1117, 1346, 3200, 1121, 107, 18525, 1116, 107, 1106, 107, 3350, 26918, 2007, 1320, 107, 119, 1573, 117, 1122, 1541, 3753, 1143, 1115, 146, 1108, 3742, 1682, 1106, 1712, 8264, 2903, 1142, 1141, 119, 133, 9304, 120, 135, 133, 9304, 120, 135, 1135, 1110, 22564, 1115, 1142, 2523, 1110, 1164, 170, 9140, 4792, 1187, 1103, 23641, 1105, 7550, 1243, 6376, 2716, 2017, 1114, 1296, 1168, 119, 4222, 1201, 1224, 117, 9326, 1403, 6778, 11748, 112, 188, 4252, 118, 6124, 117, 27688, 15197, 13444, 1125, 170, 1855, 1778, 1326, 1270, 107, 5148, 4568, 1158, 107, 11569, 1103, 1642, 1911, 1121, 9326, 1403, 6778, 11748, 119, 2096, 1736, 117, 1175, 1108, 170, 1632, 3719, 1107, 1115, 1103, 1326, 13892, 1113, 5606, 1104, 20787, 2340, 8556, 117, 1229, 1142, 4642, 1106, 1294, 1202, 1114, 15933, 23743, 1105, 170, 1374, 13084, 5892, 2442, 119, 133, 9304, 120, 135, 133, 9304, 120, 135, 19984, 1413, 131, 1135, 9562, 112, 189, 1185, 107, 11594, 5148, 107, 1105, 1178, 170, 1304, 4554, 1683, 1104, 107, 1327, 112, 188, 3725, 117, 11387, 107, 119, 102], [101, 1409, 1103, 3039, 1481, 107, 25249, 17758, 107, 1518, 2373, 1142, 117, 1303, 112, 188, 1199, 5566, 3713, 131, 133, 9304, 120, 135, 133, 9304, 120, 135, 122, 119, 1130, 170, 107, 157, 10073, 2050, 5135, 1158, 107, 118, 2076, 2523, 117, 1122, 112, 188, 1136, 170, 1363, 1911, 1106, 22884, 1601, 118, 12534, 1104, 142, 17145, 2069, 3663, 18581, 13821, 3048, 15969, 7462, 150, 2346, 23314, 2036, 1107, 1103, 2280, 6459, 119, 1337, 12246, 1106, 188, 5674, 2723, 1103, 24008, 117, 194, 112, 1221, 119, 119, 119, 136, 133, 9304, 120, 135, 133, 9304, 120, 135, 123, 119, 146, 1221, 1128, 1666, 1142, 1113, 170, 5743, 28108, 1105, 118, 1106, 1129, 4652, 118, 1128, 1589, 27658, 1114, 1240, 4788, 1133, 4268, 117, 11562, 1234, 1150, 1169, 2140, 2496, 119, 2926, 1120, 1655, 117, 2647, 117, 2037, 1105, 8982, 1120, 1103, 1269, 1159, 119, 2658, 11679, 9146, 2340, 117, 146, 112, 182, 1702, 1120, 1128, 119, 119, 119, 133, 9304, 120, 135, 133, 9304, 120, 135, 124, 119, 1409, 1128, 112, 1231, 1280, 1106, 1383, 170, 1226, 1104, 1240, 2523, 1107, 1103, 1763, 117, 1178, 1202, 1142, 1191, 1128, 1138, 1103, 21146, 1116, 1105, 13452, 1104, 1103, 1159, 119, 133, 9304, 120, 135, 133, 9304, 120, 135, 125, 119, 157, 10073, 2050, 25289, 1132, 3155, 1106, 1129, 170, 3774, 119, 6542, 117, 1195, 1274, 112, 189, 1328, 24008, 1115, 1294, 1185, 2305, 117, 1133, 2951, 21341, 1158, 1103, 107, 7063, 107, 1112, 1770, 1112, 1128, 8698, 170, 1959, 136, 1337, 112, 188, 1136, 170, 1632, 1911, 119, 133, 9304, 120, 135, 133, 9304, 120, 135, 23209, 12847, 1106, 1103, 3713, 1111, 1774, 117, 1133, 1107, 1155, 19242, 117, 146, 112, 173, 1897, 1152, 2018, 112, 189, 119, 119, 119, 133, 9304, 120, 135, 133, 9304, 120, 135, 2809, 1111, 16192, 3254, 7136, 12948, 1116, 119, 102], [101, 146, 1138, 1136, 1562, 1242, 1822, 4788, 2441, 178, 1538, 5890, 117, 1133, 1142, 1110, 1103, 4997, 2523, 1518, 1930, 117, 1103, 1514, 1959, 1103, 1385, 1299, 5029, 1176, 117, 1119, 1125, 170, 25338, 19937, 18574, 1105, 1575, 1103, 1540, 1106, 2936, 1167, 1190, 1141, 1937, 1451, 126, 3071, 117, 170, 126, 1214, 1385, 1180, 2496, 1618, 119, 1109, 1642, 1125, 1103, 1211, 9684, 4928, 117, 1105, 1218, 1103, 2306, 2564, 1125, 1508, 1184, 1119, 1354, 1108, 2306, 1176, 1105, 1173, 1198, 1355, 1166, 1103, 1499, 117, 178, 1178, 2542, 1122, 1106, 4046, 1120, 1293, 2213, 1122, 1108, 117, 1105, 4320, 1122, 1108, 2020, 2135, 1103, 1842, 2523, 119, 146, 1169, 1204, 2059, 1122, 1108, 1223, 1103, 123, 1480, 13519, 1645, 1120, 3510, 27338, 1116, 117, 1939, 1104, 170, 4268, 1321, 1142, 1111, 1714, 1105, 1243, 1122, 1149, 1104, 1412, 3617, 119, 146, 1341, 1175, 1108, 1141, 3533, 11858, 2811, 1168, 1190, 1103, 1590, 117, 178, 1341, 1103, 1178, 1645, 10899, 1114, 1103, 4788, 1108, 1103, 1294, 1146, 117, 1133, 1152, 1437, 1451, 1696, 2741, 1104, 1103, 1273, 1107, 1103, 2150, 1390, 2113, 119, 138, 2246, 2365, 2566, 9684, 119, 102], [101, 146, 1138, 2373, 1155, 1104, 1103, 2185, 3435, 19539, 1193, 2146, 119, 14881, 1554, 1218, 1115, 5558, 1169, 1136, 1329, 1155, 5402, 1104, 1103, 1520, 117, 1133, 2412, 1152, 1120, 1655, 1138, 1103, 1514, 1553, 1104, 1103, 1520, 119, 146, 1108, 3023, 9333, 1107, 1142, 2523, 119, 1109, 1178, 1645, 1115, 1152, 1138, 1107, 1142, 2523, 1115, 1110, 1107, 1103, 1520, 1110, 1115, 3056, 1183, 112, 188, 1401, 2502, 1106, 3143, 117, 113, 1780, 1107, 1103, 1520, 1241, 2153, 1435, 114, 119, 1337, 1110, 1155, 119, 1109, 1642, 1413, 1108, 1177, 6061, 1105, 1677, 21616, 1105, 4208, 117, 6782, 117, 1121, 1103, 1520, 117, 1115, 146, 1198, 1577, 112, 189, 5548, 1122, 119, 2431, 1191, 146, 1238, 112, 189, 2373, 1103, 1520, 1122, 1108, 1315, 6782, 119, 146, 1202, 1221, 1115, 14589, 1297, 1108, 5902, 117, 1133, 1103, 2006, 2523, 1108, 170, 1205, 1200, 119, 1109, 5261, 1110, 1111, 1515, 1103, 1269, 1266, 10592, 1104, 1103, 1273, 1115, 2228, 1172, 1632, 119, 102]], 'token_type_ids': [[0, 0, 0, 0, 0, 0, 0, 0, 0, 0, 0, 0, 0, 0, 0, 0, 0, 0, 0, 0, 0, 0, 0, 0, 0, 0, 0, 0, 0, 0, 0, 0, 0, 0, 0, 0, 0, 0, 0, 0, 0, 0, 0, 0, 0, 0, 0, 0, 0, 0, 0, 0, 0, 0, 0, 0, 0, 0, 0, 0, 0, 0, 0, 0, 0, 0, 0, 0, 0, 0, 0, 0, 0, 0, 0, 0, 0, 0, 0, 0, 0, 0, 0, 0, 0, 0, 0, 0, 0, 0, 0, 0, 0, 0, 0, 0, 0, 0, 0, 0, 0, 0, 0, 0, 0, 0, 0, 0, 0, 0, 0, 0, 0, 0, 0, 0, 0, 0, 0, 0, 0, 0, 0, 0, 0, 0, 0, 0, 0, 0, 0, 0, 0, 0, 0, 0, 0, 0, 0, 0, 0, 0, 0, 0, 0, 0, 0, 0, 0, 0, 0, 0, 0, 0, 0, 0, 0, 0, 0, 0, 0, 0, 0, 0, 0, 0, 0, 0, 0, 0, 0, 0, 0, 0, 0, 0, 0, 0, 0, 0, 0, 0, 0, 0, 0, 0, 0, 0, 0, 0, 0, 0, 0, 0, 0, 0, 0, 0, 0, 0, 0, 0, 0, 0, 0, 0, 0, 0, 0, 0, 0, 0, 0, 0, 0, 0, 0, 0, 0, 0, 0, 0, 0, 0, 0, 0, 0, 0, 0, 0, 0, 0, 0, 0, 0, 0, 0, 0, 0, 0, 0, 0, 0, 0, 0, 0, 0, 0, 0, 0, 0, 0, 0, 0, 0, 0, 0, 0, 0, 0, 0, 0, 0, 0, 0, 0, 0, 0, 0, 0, 0, 0, 0, 0, 0, 0, 0, 0, 0, 0, 0, 0, 0, 0, 0, 0, 0, 0, 0, 0, 0, 0, 0, 0, 0, 0, 0, 0, 0, 0, 0, 0, 0, 0, 0, 0, 0, 0, 0, 0, 0, 0, 0, 0, 0, 0, 0, 0, 0, 0, 0, 0, 0, 0, 0, 0, 0, 0, 0, 0, 0, 0, 0, 0, 0, 0, 0, 0, 0, 0, 0, 0, 0, 0, 0, 0, 0, 0, 0, 0, 0, 0, 0, 0, 0, 0, 0, 0, 0, 0, 0, 0, 0, 0, 0, 0, 0, 0, 0, 0, 0, 0, 0, 0, 0, 0, 0, 0, 0, 0, 0, 0, 0, 0, 0, 0, 0, 0, 0, 0, 0], [0, 0, 0, 0, 0, 0, 0, 0, 0, 0, 0, 0, 0, 0, 0, 0, 0, 0, 0, 0, 0, 0, 0, 0, 0, 0, 0, 0, 0, 0, 0, 0, 0, 0, 0, 0, 0, 0, 0, 0, 0, 0, 0, 0, 0, 0, 0, 0, 0, 0, 0, 0, 0, 0, 0, 0, 0, 0, 0, 0, 0, 0, 0, 0, 0, 0, 0, 0, 0, 0, 0, 0, 0, 0, 0, 0, 0, 0, 0, 0, 0, 0, 0, 0, 0, 0, 0, 0, 0, 0, 0, 0, 0, 0, 0, 0, 0, 0, 0, 0, 0, 0, 0, 0, 0, 0, 0, 0, 0, 0, 0, 0, 0, 0, 0, 0, 0, 0, 0, 0, 0, 0, 0, 0, 0, 0, 0, 0, 0, 0, 0, 0, 0, 0, 0, 0, 0, 0, 0, 0, 0, 0, 0, 0, 0, 0, 0, 0, 0, 0, 0, 0, 0, 0, 0, 0, 0, 0, 0, 0, 0, 0, 0, 0, 0, 0, 0, 0, 0, 0, 0, 0, 0, 0, 0, 0, 0, 0, 0, 0, 0, 0, 0, 0, 0, 0, 0, 0, 0, 0, 0, 0, 0, 0, 0, 0, 0, 0, 0, 0, 0, 0, 0, 0, 0, 0, 0, 0, 0, 0, 0, 0, 0, 0, 0, 0, 0, 0, 0, 0, 0, 0, 0, 0, 0, 0, 0, 0, 0, 0, 0, 0, 0, 0, 0, 0, 0, 0, 0, 0, 0, 0, 0, 0, 0, 0, 0, 0, 0, 0, 0, 0, 0, 0, 0, 0, 0, 0, 0, 0, 0, 0, 0, 0, 0, 0, 0, 0, 0, 0, 0, 0, 0, 0, 0, 0, 0, 0, 0, 0, 0, 0, 0, 0, 0, 0, 0, 0, 0, 0, 0, 0, 0, 0, 0, 0, 0, 0, 0, 0, 0, 0, 0, 0, 0, 0, 0, 0, 0, 0, 0, 0, 0, 0, 0, 0, 0, 0, 0, 0, 0, 0, 0, 0, 0, 0, 0, 0, 0, 0, 0, 0, 0, 0, 0, 0, 0, 0, 0, 0, 0, 0, 0, 0, 0, 0, 0, 0, 0, 0, 0, 0, 0, 0, 0, 0, 0, 0, 0, 0, 0, 0, 0, 0, 0, 0, 0, 0, 0, 0, 0, 0, 0, 0, 0], [0, 0, 0, 0, 0, 0, 0, 0, 0, 0, 0, 0, 0, 0, 0, 0, 0, 0, 0, 0, 0, 0, 0, 0, 0, 0, 0, 0, 0, 0, 0, 0, 0, 0, 0, 0, 0, 0, 0, 0, 0, 0, 0, 0, 0, 0, 0, 0, 0, 0, 0, 0, 0, 0, 0, 0, 0, 0, 0, 0, 0, 0, 0, 0, 0, 0, 0, 0, 0, 0, 0, 0, 0, 0, 0, 0, 0, 0, 0, 0, 0, 0, 0, 0, 0, 0, 0, 0, 0, 0, 0, 0, 0, 0, 0, 0, 0, 0, 0, 0, 0, 0, 0, 0, 0, 0, 0, 0, 0, 0, 0, 0, 0, 0, 0, 0, 0, 0, 0, 0, 0, 0, 0, 0, 0, 0, 0, 0, 0, 0, 0, 0, 0, 0, 0, 0, 0, 0, 0, 0, 0, 0, 0, 0, 0, 0, 0, 0, 0, 0, 0, 0, 0, 0, 0, 0, 0, 0, 0, 0, 0, 0, 0, 0, 0, 0, 0, 0, 0, 0, 0, 0, 0, 0, 0, 0, 0, 0, 0, 0, 0, 0, 0, 0, 0, 0, 0, 0, 0, 0, 0, 0, 0, 0, 0, 0, 0, 0, 0, 0, 0, 0, 0, 0, 0, 0, 0, 0, 0, 0, 0, 0, 0, 0, 0, 0, 0, 0, 0, 0, 0, 0, 0, 0, 0, 0, 0, 0, 0, 0, 0, 0, 0, 0, 0, 0, 0, 0, 0, 0, 0, 0, 0, 0, 0, 0, 0, 0, 0, 0, 0, 0, 0, 0, 0, 0, 0, 0, 0, 0, 0, 0, 0, 0, 0, 0, 0, 0, 0, 0, 0, 0, 0, 0, 0, 0, 0, 0, 0, 0, 0, 0, 0, 0, 0, 0, 0, 0, 0, 0, 0, 0, 0, 0, 0, 0, 0, 0, 0, 0, 0, 0, 0, 0, 0, 0, 0], [0, 0, 0, 0, 0, 0, 0, 0, 0, 0, 0, 0, 0, 0, 0, 0, 0, 0, 0, 0, 0, 0, 0, 0, 0, 0, 0, 0, 0, 0, 0, 0, 0, 0, 0, 0, 0, 0, 0, 0, 0, 0, 0, 0, 0, 0, 0, 0, 0, 0, 0, 0, 0, 0, 0, 0, 0, 0, 0, 0, 0, 0, 0, 0, 0, 0, 0, 0, 0, 0, 0, 0, 0, 0, 0, 0, 0, 0, 0, 0, 0, 0, 0, 0, 0, 0, 0, 0, 0, 0, 0, 0, 0, 0, 0, 0, 0, 0, 0, 0, 0, 0, 0, 0, 0, 0, 0, 0, 0, 0, 0, 0, 0, 0, 0, 0, 0, 0, 0, 0, 0, 0, 0, 0, 0, 0, 0, 0, 0, 0, 0, 0, 0, 0, 0, 0, 0, 0, 0, 0, 0, 0, 0, 0, 0, 0, 0, 0, 0, 0, 0, 0, 0, 0, 0, 0, 0, 0, 0, 0, 0, 0, 0, 0, 0, 0, 0, 0, 0, 0, 0, 0, 0, 0, 0, 0, 0, 0, 0, 0, 0, 0, 0, 0, 0, 0, 0, 0, 0, 0, 0, 0], [0, 0, 0, 0, 0, 0, 0, 0, 0, 0, 0, 0, 0, 0, 0, 0, 0, 0, 0, 0, 0, 0, 0, 0, 0, 0, 0, 0, 0, 0, 0, 0, 0, 0, 0, 0, 0, 0, 0, 0, 0, 0, 0, 0, 0, 0, 0, 0, 0, 0, 0, 0, 0, 0, 0, 0, 0, 0, 0, 0, 0, 0, 0, 0, 0, 0, 0, 0, 0, 0, 0, 0, 0, 0, 0, 0, 0, 0, 0, 0, 0, 0, 0, 0, 0, 0, 0, 0, 0, 0, 0, 0, 0, 0, 0, 0, 0, 0, 0, 0, 0, 0, 0, 0, 0, 0, 0, 0, 0, 0, 0, 0, 0, 0, 0, 0, 0, 0, 0, 0, 0, 0, 0, 0, 0, 0, 0, 0, 0, 0, 0, 0, 0, 0, 0, 0, 0, 0, 0, 0, 0, 0, 0, 0, 0, 0, 0, 0, 0, 0, 0, 0, 0, 0, 0, 0, 0, 0, 0, 0, 0, 0, 0, 0]], 'attention_mask': [[1, 1, 1, 1, 1, 1, 1, 1, 1, 1, 1, 1, 1, 1, 1, 1, 1, 1, 1, 1, 1, 1, 1, 1, 1, 1, 1, 1, 1, 1, 1, 1, 1, 1, 1, 1, 1, 1, 1, 1, 1, 1, 1, 1, 1, 1, 1, 1, 1, 1, 1, 1, 1, 1, 1, 1, 1, 1, 1, 1, 1, 1, 1, 1, 1, 1, 1, 1, 1, 1, 1, 1, 1, 1, 1, 1, 1, 1, 1, 1, 1, 1, 1, 1, 1, 1, 1, 1, 1, 1, 1, 1, 1, 1, 1, 1, 1, 1, 1, 1, 1, 1, 1, 1, 1, 1, 1, 1, 1, 1, 1, 1, 1, 1, 1, 1, 1, 1, 1, 1, 1, 1, 1, 1, 1, 1, 1, 1, 1, 1, 1, 1, 1, 1, 1, 1, 1, 1, 1, 1, 1, 1, 1, 1, 1, 1, 1, 1, 1, 1, 1, 1, 1, 1, 1, 1, 1, 1, 1, 1, 1, 1, 1, 1, 1, 1, 1, 1, 1, 1, 1, 1, 1, 1, 1, 1, 1, 1, 1, 1, 1, 1, 1, 1, 1, 1, 1, 1, 1, 1, 1, 1, 1, 1, 1, 1, 1, 1, 1, 1, 1, 1, 1, 1, 1, 1, 1, 1, 1, 1, 1, 1, 1, 1, 1, 1, 1, 1, 1, 1, 1, 1, 1, 1, 1, 1, 1, 1, 1, 1, 1, 1, 1, 1, 1, 1, 1, 1, 1, 1, 1, 1, 1, 1, 1, 1, 1, 1, 1, 1, 1, 1, 1, 1, 1, 1, 1, 1, 1, 1, 1, 1, 1, 1, 1, 1, 1, 1, 1, 1, 1, 1, 1, 1, 1, 1, 1, 1, 1, 1, 1, 1, 1, 1, 1, 1, 1, 1, 1, 1, 1, 1, 1, 1, 1, 1, 1, 1, 1, 1, 1, 1, 1, 1, 1, 1, 1, 1, 1, 1, 1, 1, 1, 1, 1, 1, 1, 1, 1, 1, 1, 1, 1, 1, 1, 1, 1, 1, 1, 1, 1, 1, 1, 1, 1, 1, 1, 1, 1, 1, 1, 1, 1, 1, 1, 1, 1, 1, 1, 1, 1, 1, 1, 1, 1, 1, 1, 1, 1, 1, 1, 1, 1, 1, 1, 1, 1, 1, 1, 1, 1, 1, 1, 1, 1, 1, 1, 1, 1, 1, 1, 1, 1, 1, 1, 1, 1, 1, 1, 1, 1], [1, 1, 1, 1, 1, 1, 1, 1, 1, 1, 1, 1, 1, 1, 1, 1, 1, 1, 1, 1, 1, 1, 1, 1, 1, 1, 1, 1, 1, 1, 1, 1, 1, 1, 1, 1, 1, 1, 1, 1, 1, 1, 1, 1, 1, 1, 1, 1, 1, 1, 1, 1, 1, 1, 1, 1, 1, 1, 1, 1, 1, 1, 1, 1, 1, 1, 1, 1, 1, 1, 1, 1, 1, 1, 1, 1, 1, 1, 1, 1, 1, 1, 1, 1, 1, 1, 1, 1, 1, 1, 1, 1, 1, 1, 1, 1, 1, 1, 1, 1, 1, 1, 1, 1, 1, 1, 1, 1, 1, 1, 1, 1, 1, 1, 1, 1, 1, 1, 1, 1, 1, 1, 1, 1, 1, 1, 1, 1, 1, 1, 1, 1, 1, 1, 1, 1, 1, 1, 1, 1, 1, 1, 1, 1, 1, 1, 1, 1, 1, 1, 1, 1, 1, 1, 1, 1, 1, 1, 1, 1, 1, 1, 1, 1, 1, 1, 1, 1, 1, 1, 1, 1, 1, 1, 1, 1, 1, 1, 1, 1, 1, 1, 1, 1, 1, 1, 1, 1, 1, 1, 1, 1, 1, 1, 1, 1, 1, 1, 1, 1, 1, 1, 1, 1, 1, 1, 1, 1, 1, 1, 1, 1, 1, 1, 1, 1, 1, 1, 1, 1, 1, 1, 1, 1, 1, 1, 1, 1, 1, 1, 1, 1, 1, 1, 1, 1, 1, 1, 1, 1, 1, 1, 1, 1, 1, 1, 1, 1, 1, 1, 1, 1, 1, 1, 1, 1, 1, 1, 1, 1, 1, 1, 1, 1, 1, 1, 1, 1, 1, 1, 1, 1, 1, 1, 1, 1, 1, 1, 1, 1, 1, 1, 1, 1, 1, 1, 1, 1, 1, 1, 1, 1, 1, 1, 1, 1, 1, 1, 1, 1, 1, 1, 1, 1, 1, 1, 1, 1, 1, 1, 1, 1, 1, 1, 1, 1, 1, 1, 1, 1, 1, 1, 1, 1, 1, 1, 1, 1, 1, 1, 1, 1, 1, 1, 1, 1, 1, 1, 1, 1, 1, 1, 1, 1, 1, 1, 1, 1, 1, 1, 1, 1, 1, 1, 1, 1, 1, 1, 1, 1, 1, 1, 1, 1, 1, 1, 1, 1, 1, 1, 1, 1, 1, 1, 1], [1, 1, 1, 1, 1, 1, 1, 1, 1, 1, 1, 1, 1, 1, 1, 1, 1, 1, 1, 1, 1, 1, 1, 1, 1, 1, 1, 1, 1, 1, 1, 1, 1, 1, 1, 1, 1, 1, 1, 1, 1, 1, 1, 1, 1, 1, 1, 1, 1, 1, 1, 1, 1, 1, 1, 1, 1, 1, 1, 1, 1, 1, 1, 1, 1, 1, 1, 1, 1, 1, 1, 1, 1, 1, 1, 1, 1, 1, 1, 1, 1, 1, 1, 1, 1, 1, 1, 1, 1, 1, 1, 1, 1, 1, 1, 1, 1, 1, 1, 1, 1, 1, 1, 1, 1, 1, 1, 1, 1, 1, 1, 1, 1, 1, 1, 1, 1, 1, 1, 1, 1, 1, 1, 1, 1, 1, 1, 1, 1, 1, 1, 1, 1, 1, 1, 1, 1, 1, 1, 1, 1, 1, 1, 1, 1, 1, 1, 1, 1, 1, 1, 1, 1, 1, 1, 1, 1, 1, 1, 1, 1, 1, 1, 1, 1, 1, 1, 1, 1, 1, 1, 1, 1, 1, 1, 1, 1, 1, 1, 1, 1, 1, 1, 1, 1, 1, 1, 1, 1, 1, 1, 1, 1, 1, 1, 1, 1, 1, 1, 1, 1, 1, 1, 1, 1, 1, 1, 1, 1, 1, 1, 1, 1, 1, 1, 1, 1, 1, 1, 1, 1, 1, 1, 1, 1, 1, 1, 1, 1, 1, 1, 1, 1, 1, 1, 1, 1, 1, 1, 1, 1, 1, 1, 1, 1, 1, 1, 1, 1, 1, 1, 1, 1, 1, 1, 1, 1, 1, 1, 1, 1, 1, 1, 1, 1, 1, 1, 1, 1, 1, 1, 1, 1, 1, 1, 1, 1, 1, 1, 1, 1, 1, 1, 1, 1, 1, 1, 1, 1, 1, 1, 1, 1, 1, 1, 1, 1, 1, 1, 1, 1, 1, 1, 1, 1, 1, 1], [1, 1, 1, 1, 1, 1, 1, 1, 1, 1, 1, 1, 1, 1, 1, 1, 1, 1, 1, 1, 1, 1, 1, 1, 1, 1, 1, 1, 1, 1, 1, 1, 1, 1, 1, 1, 1, 1, 1, 1, 1, 1, 1, 1, 1, 1, 1, 1, 1, 1, 1, 1, 1, 1, 1, 1, 1, 1, 1, 1, 1, 1, 1, 1, 1, 1, 1, 1, 1, 1, 1, 1, 1, 1, 1, 1, 1, 1, 1, 1, 1, 1, 1, 1, 1, 1, 1, 1, 1, 1, 1, 1, 1, 1, 1, 1, 1, 1, 1, 1, 1, 1, 1, 1, 1, 1, 1, 1, 1, 1, 1, 1, 1, 1, 1, 1, 1, 1, 1, 1, 1, 1, 1, 1, 1, 1, 1, 1, 1, 1, 1, 1, 1, 1, 1, 1, 1, 1, 1, 1, 1, 1, 1, 1, 1, 1, 1, 1, 1, 1, 1, 1, 1, 1, 1, 1, 1, 1, 1, 1, 1, 1, 1, 1, 1, 1, 1, 1, 1, 1, 1, 1, 1, 1, 1, 1, 1, 1, 1, 1, 1, 1, 1, 1, 1, 1, 1, 1, 1, 1, 1, 1], [1, 1, 1, 1, 1, 1, 1, 1, 1, 1, 1, 1, 1, 1, 1, 1, 1, 1, 1, 1, 1, 1, 1, 1, 1, 1, 1, 1, 1, 1, 1, 1, 1, 1, 1, 1, 1, 1, 1, 1, 1, 1, 1, 1, 1, 1, 1, 1, 1, 1, 1, 1, 1, 1, 1, 1, 1, 1, 1, 1, 1, 1, 1, 1, 1, 1, 1, 1, 1, 1, 1, 1, 1, 1, 1, 1, 1, 1, 1, 1, 1, 1, 1, 1, 1, 1, 1, 1, 1, 1, 1, 1, 1, 1, 1, 1, 1, 1, 1, 1, 1, 1, 1, 1, 1, 1, 1, 1, 1, 1, 1, 1, 1, 1, 1, 1, 1, 1, 1, 1, 1, 1, 1, 1, 1, 1, 1, 1, 1, 1, 1, 1, 1, 1, 1, 1, 1, 1, 1, 1, 1, 1, 1, 1, 1, 1, 1, 1, 1, 1, 1, 1, 1, 1, 1, 1, 1, 1, 1, 1, 1, 1, 1, 1]]}"
            ]
          },
          "metadata": {},
          "execution_count": 98
        }
      ],
      "source": [
        "preprocess_function(dataset[\"train\"][:5])"
      ]
    },
    {
      "cell_type": "markdown",
      "metadata": {
        "id": "zS-6iXTkIrJT"
      },
      "source": [
        "To apply this function on all the sentences (or pairs of sentences) in our dataset, we just use the `map` method of our `dataset` object we created earlier. This will apply the function on all the elements of all the splits in `dataset`, so our training, validation and testing data will be preprocessed in one single command."
      ]
    },
    {
      "cell_type": "code",
      "execution_count": 99,
      "metadata": {
        "id": "DDtsaJeVIrJT",
        "outputId": "ba485f24-5c35-4d65-8ac0-bb2307e895f6",
        "colab": {
          "base_uri": "https://localhost:8080/"
        }
      },
      "outputs": [
        {
          "output_type": "stream",
          "name": "stderr",
          "text": [
            "Loading cached processed dataset at /root/.cache/huggingface/datasets/imdb/plain_text/1.0.0/2fdd8b9bcadd6e7055e742a706876ba43f19faee861df134affd7a3f60fc38a1/cache-5408db77831bf4c4.arrow\n",
            "Loading cached processed dataset at /root/.cache/huggingface/datasets/imdb/plain_text/1.0.0/2fdd8b9bcadd6e7055e742a706876ba43f19faee861df134affd7a3f60fc38a1/cache-4c8ec4fb03f085dc.arrow\n",
            "Loading cached processed dataset at /root/.cache/huggingface/datasets/imdb/plain_text/1.0.0/2fdd8b9bcadd6e7055e742a706876ba43f19faee861df134affd7a3f60fc38a1/cache-cebf94b3f1cd41d3.arrow\n"
          ]
        },
        {
          "output_type": "stream",
          "name": "stdout",
          "text": [
            "Columns added by tokenizer: ['attention_mask', 'token_type_ids', 'input_ids']\n"
          ]
        }
      ],
      "source": [
        "pre_tokenizer_columns = set(dataset[\"train\"].features)\n",
        "encoded_dataset = dataset.map(preprocess_function, batched=True)\n",
        "tokenizer_columns = list(set(encoded_dataset[\"train\"].features) - pre_tokenizer_columns)\n",
        "print(\"Columns added by tokenizer:\", tokenizer_columns)"
      ]
    },
    {
      "cell_type": "code",
      "execution_count": 100,
      "metadata": {
        "id": "b8PomR8YAC9H",
        "outputId": "1a07a18c-0313-4f87-9bc8-d9778746fba7",
        "colab": {
          "base_uri": "https://localhost:8080/"
        }
      },
      "outputs": [
        {
          "output_type": "execute_result",
          "data": {
            "text/plain": [
              "ClassLabel(num_classes=2, names=['neg', 'pos'], id=None)"
            ]
          },
          "metadata": {},
          "execution_count": 100
        }
      ],
      "source": [
        "encoded_dataset[\"train\"].features[\"label\"]"
      ]
    },
    {
      "cell_type": "markdown",
      "metadata": {
        "id": "voWiw8C7IrJV"
      },
      "source": [
        "Even better, the results are automatically cached by the 🤗 Datasets library to avoid spending time on this step the next time you run your notebook. The 🤗 Datasets library is normally smart enough to detect when the function you pass to map has changed (and thus requires to not use the cache data). For instance, it will properly detect if you change the task in the first cell and rerun the notebook. 🤗 Datasets warns you when it uses cached files, you can pass `load_from_cache_file=False` in the call to `map` to not use the cached files and force the preprocessing to be applied again.\n",
        "\n",
        "Note that we passed `batched=True` to encode the texts by batches together. This is to leverage the full benefit of the fast tokenizer we loaded earlier, which will use multi-threading to treat the texts in a batch concurrently."
      ]
    },
    {
      "cell_type": "markdown",
      "metadata": {
        "id": "dLGHbYzKAC9I"
      },
      "source": [
        "Finally, we convert our datasets to `tf.data.Dataset`. There's a built-in method for this, so all you need to do is specify the columns you want (both for the inputs and the labels), whether the data should be shuffled, the batch size, and an optional collation function, that controls how a batch of samples is combined.\n",
        "\n",
        "We'll need to supply a `DataCollator` for this. The `DataCollator` handles grouping each batch of samples together, and different tasks will require different data collators. In this case, we will use the `DataCollatorWithPadding`, because our samples need to be padded to the same length to form a batch. Remember to supply the `return_tensors` argument too - our data collators can handle multiple frameworks, so you need to be clear that you want TensorFlow tensors back."
      ]
    },
    {
      "cell_type": "code",
      "execution_count": 101,
      "metadata": {
        "id": "dPaWZGZ9AC9J",
        "outputId": "aa0114ac-15f9-49c3-c5a4-fd8b3de2f902",
        "colab": {
          "base_uri": "https://localhost:8080/",
          "height": 91
        }
      },
      "outputs": [
        {
          "output_type": "execute_result",
          "data": {
            "application/vnd.google.colaboratory.intrinsic+json": {
              "type": "string"
            },
            "text/plain": [
              "'\\n\\nfrom transformers import DataCollatorWithPadding\\n\\ndata_collator = DataCollatorWithPadding(tokenizer=tokenizer, return_tensors=\"tf\")\\n\\nvalidation_key = (\\n    \"validation_mismatched\"\\n    if task == \"mnli-mm\"\\n    else \"validation_matched\"\\n    if task == \"mnli\"\\n    else \"validation\"\\n)\\ntf_train_dataset = encoded_dataset[\"train\"].to_tf_dataset(\\n    columns=tokenizer_columns,\\n    label_cols=[\"labels\"],\\n    shuffle=True,\\n    batch_size=16,\\n    collate_fn=data_collator,\\n)\\ntf_validation_dataset = encoded_dataset[validation_key].to_tf_dataset(\\n    columns=tokenizer_columns,\\n    label_cols=[\"labels\"],\\n    shuffle=False,\\n    batch_size=16,\\n    collate_fn=data_collator,\\n)\\n\\n'"
            ]
          },
          "metadata": {},
          "execution_count": 101
        }
      ],
      "source": [
        "'''\n",
        "\n",
        "from transformers import DataCollatorWithPadding\n",
        "\n",
        "data_collator = DataCollatorWithPadding(tokenizer=tokenizer, return_tensors=\"tf\")\n",
        "\n",
        "validation_key = (\n",
        "    \"validation_mismatched\"\n",
        "    if task == \"mnli-mm\"\n",
        "    else \"validation_matched\"\n",
        "    if task == \"mnli\"\n",
        "    else \"validation\"\n",
        ")\n",
        "tf_train_dataset = encoded_dataset[\"train\"].to_tf_dataset(\n",
        "    columns=tokenizer_columns,\n",
        "    label_cols=[\"labels\"],\n",
        "    shuffle=True,\n",
        "    batch_size=16,\n",
        "    collate_fn=data_collator,\n",
        ")\n",
        "tf_validation_dataset = encoded_dataset[validation_key].to_tf_dataset(\n",
        "    columns=tokenizer_columns,\n",
        "    label_cols=[\"labels\"],\n",
        "    shuffle=False,\n",
        "    batch_size=16,\n",
        "    collate_fn=data_collator,\n",
        ")\n",
        "\n",
        "'''"
      ]
    },
    {
      "cell_type": "code",
      "source": [
        "from transformers import DataCollatorWithPadding\n",
        "\n",
        "data_collator = DataCollatorWithPadding(tokenizer=tokenizer, return_tensors=\"tf\")\n",
        "\n",
        "tf_train_dataset = encoded_dataset[\"train\"].to_tf_dataset(\n",
        "    columns=tokenizer_columns,\n",
        "    label_cols=[\"labels\"],\n",
        "    shuffle=True,\n",
        "    batch_size=batch_size,\n",
        "    collate_fn=data_collator,\n",
        ")\n",
        "tf_validation_dataset = encoded_dataset[\"validation\"].to_tf_dataset(\n",
        "    columns=tokenizer_columns,\n",
        "    label_cols=[\"labels\"],\n",
        "    shuffle=False,\n",
        "    batch_size=batch_size,\n",
        "    collate_fn=data_collator,\n",
        ")\n",
        "tf_test_dataset = encoded_dataset[\"test\"].to_tf_dataset(\n",
        "    columns=tokenizer_columns,\n",
        "    label_cols=[\"labels\"],\n",
        "    shuffle=False,\n",
        "    batch_size=batch_size,\n",
        "    collate_fn=data_collator,\n",
        ")"
      ],
      "metadata": {
        "id": "XNsUa7-Kv30i"
      },
      "execution_count": 102,
      "outputs": []
    },
    {
      "cell_type": "markdown",
      "metadata": {
        "id": "545PP3o8IrJV"
      },
      "source": [
        "## Fine-tuning the model"
      ]
    },
    {
      "cell_type": "markdown",
      "metadata": {
        "id": "FBiW8UpKIrJW"
      },
      "source": [
        "Now that our data is ready, we can download the pretrained model and fine-tune it. Since all our tasks are about sentence classification, we use the `TFAutoModelForSequenceClassification` class. Like with the tokenizer, the `from_pretrained` method will download and cache the model for us. The only thing we have to specify is the number of labels for our problem (which is always 2, except for STS-B which is a regression problem and MNLI where we have 3 labels). We also need to get the appropriate loss function (SparseCategoricalCrossentropy for every task except STSB, which as a regression problem requires MeanSquaredError).\n",
        "\n",
        "Note that all models in `transformers` compute loss internally too, and you can train on this loss value. This can be very helpful when the loss is not easy to specify yourself. To use this, pass the labels as a `labels` key in the input dictionary, and then compile the model without specifying a loss. You can see examples of this approach in several of the other TensorFlow notebooks."
      ]
    },
    {
      "cell_type": "code",
      "execution_count": 103,
      "metadata": {
        "id": "TlqNaB8jIrJW",
        "outputId": "dfb4bbb2-2cf7-4ea3-e417-e0d018f1acc6",
        "colab": {
          "base_uri": "https://localhost:8080/"
        }
      },
      "outputs": [
        {
          "output_type": "stream",
          "name": "stderr",
          "text": [
            "All model checkpoint layers were used when initializing TFBertForSequenceClassification.\n",
            "\n",
            "Some layers of TFBertForSequenceClassification were not initialized from the model checkpoint at bert-base-cased and are newly initialized: ['classifier']\n",
            "You should probably TRAIN this model on a down-stream task to be able to use it for predictions and inference.\n"
          ]
        }
      ],
      "source": [
        "from transformers import TFAutoModelForSequenceClassification\n",
        "import tensorflow as tf\n",
        "\n",
        "num_labels = 3 if task.startswith(\"mnli\") else 1 if task == \"stsb\" else 2\n",
        "if task == \"stsb\":\n",
        "    loss = tf.keras.losses.MeanSquaredError()\n",
        "    num_labels = 1\n",
        "elif task.startswith(\"mnli\"):\n",
        "    loss = tf.keras.losses.SparseCategoricalCrossentropy(from_logits=True)\n",
        "    num_labels = 3\n",
        "else:\n",
        "    loss = tf.keras.losses.SparseCategoricalCrossentropy(from_logits=True)\n",
        "    num_labels = 2\n",
        "model = TFAutoModelForSequenceClassification.from_pretrained(\n",
        "    model_checkpoint, num_labels=num_labels\n",
        ")"
      ]
    },
    {
      "cell_type": "markdown",
      "metadata": {
        "id": "CczA5lJlIrJX"
      },
      "source": [
        "The warning is telling us we are throwing away some weights (the `vocab_transform` and `vocab_layer_norm` layers) and randomly initializing some other (the `pre_classifier` and `classifier` layers). This is absolutely normal in this case, because we are removing the head used to pretrain the model on a masked language modeling objective and replacing it with a new head for which we don't have pretrained weights, so the library warns us we should fine-tune this model before using it for inference, which is exactly what we are going to do."
      ]
    },
    {
      "cell_type": "code",
      "execution_count": 104,
      "metadata": {
        "id": "tr27FjrTAC9L"
      },
      "outputs": [],
      "source": [
        "from transformers import create_optimizer\n",
        "\n",
        "num_epochs = 2#5\n",
        "batches_per_epoch = len(encoded_dataset[\"train\"]) // batch_size\n",
        "total_train_steps = int(batches_per_epoch * num_epochs)\n",
        "\n",
        "optimizer, schedule = create_optimizer(\n",
        "    init_lr=2e-5, num_warmup_steps=0, num_train_steps=total_train_steps\n",
        ")\n",
        "model.compile(optimizer=optimizer, loss=loss)"
      ]
    },
    {
      "cell_type": "code",
      "source": [
        "print(model.outputs)"
      ],
      "metadata": {
        "id": "Tyh_YIa8JZho",
        "outputId": "db615b86-b876-433d-cd71-5dca44857a0b",
        "colab": {
          "base_uri": "https://localhost:8080/"
        }
      },
      "execution_count": 105,
      "outputs": [
        {
          "output_type": "stream",
          "name": "stdout",
          "text": [
            "None\n"
          ]
        }
      ]
    },
    {
      "cell_type": "markdown",
      "metadata": {
        "id": "hFQLGFIFAC9M"
      },
      "source": [
        "The `create_optimizer` function in the Transformers library creates a very useful `AdamW` optimizer with weight and learning rate decay. This performs very well for training most transformer networks - we recommend using it as your default unless you have a good reason not to! Note, however, that because it decays the learning rate over the course of training, it needs to know how many batches it will see during training."
      ]
    },
    {
      "cell_type": "code",
      "execution_count": 106,
      "metadata": {
        "id": "Bliy8zgjIrJY"
      },
      "outputs": [],
      "source": [
        "metric_name = (\n",
        "    \"pearson\"\n",
        "    if task == \"stsb\"\n",
        "    else \"matthews_correlation\"\n",
        "    if task == \"cola\"\n",
        "    else \"accuracy\"\n",
        ")"
      ]
    },
    {
      "cell_type": "markdown",
      "metadata": {
        "id": "km3pGVdTIrJc"
      },
      "source": [
        "Here we set the evaluation to be done at the end of each epoch, tweak the learning rate, use the `batch_size` defined at the top of the notebook and customize the number of epochs for training, as well as the weight decay. Since the best model might not be the one at the end of training, we ask the `Trainer` to load the best model it saved (according to `metric_name`) at the end of training.\n",
        "\n",
        "The last two arguments are to setup everything so we can push the model to the [Hub](https://huggingface.co/models) at the end of training. Remove the two of them if you didn't follow the installation steps at the top of the notebook, otherwise you can change the value of `push_to_hub_model_id` to something you would prefer."
      ]
    },
    {
      "cell_type": "markdown",
      "metadata": {
        "id": "7sZOdRlRIrJd"
      },
      "source": [
        "The last thing to define is how to compute the metrics from the predictions. We need to define a function for this, which will just use the `metric` we loaded earlier, the only preprocessing we have to do is to take the argmax of our predicted logits (our just squeeze the last axis in the case of STS-B):"
      ]
    },
    {
      "cell_type": "code",
      "execution_count": 107,
      "metadata": {
        "id": "UmvbnJ9JIrJd"
      },
      "outputs": [],
      "source": [
        "def compute_metrics(predictions, labels):\n",
        "    if task != \"stsb\":\n",
        "        predictions = np.argmax(predictions, axis=1)\n",
        "    else:\n",
        "        predictions = predictions[:, 0]\n",
        "    return metric.compute(predictions=predictions, references=labels)"
      ]
    },
    {
      "cell_type": "markdown",
      "metadata": {
        "id": "5JwrJaGAAC9N"
      },
      "source": [
        "We can now finetune our model by just calling the `fit` method. Be sure to pass the TF datasets, and not the original datasets! We can also add a callback to sync up our model with the Hub - this allows us to resume training from other machines and even test the model's inference quality midway through training! Make sure to change the `username` if you do. If you don't want to do this, simply remove the callbacks argument in the call to `fit()`."
      ]
    },
    {
      "cell_type": "code",
      "execution_count": 108,
      "metadata": {
        "id": "imY1oC3SIrJf",
        "outputId": "c052f553-4317-4006-b8bc-f33e391e0fea",
        "colab": {
          "base_uri": "https://localhost:8080/"
        }
      },
      "outputs": [
        {
          "output_type": "stream",
          "name": "stdout",
          "text": [
            "Epoch 1/2\n",
            "416/416 [==============================] - 584s 1s/step - loss: 0.4064 - val_loss: 0.3071\n",
            "Epoch 2/2\n",
            "416/416 [==============================] - 560s 1s/step - loss: 0.1209 - val_loss: 0.2616\n"
          ]
        },
        {
          "output_type": "execute_result",
          "data": {
            "text/plain": [
              "<keras.callbacks.History at 0x7fd298f3d7d0>"
            ]
          },
          "metadata": {},
          "execution_count": 108
        }
      ],
      "source": [
        "# from transformers.keras_callbacks import PushToHubCallback\n",
        "\n",
        "# model_name = model_checkpoint.split(\"/\")[-1]\n",
        "# push_to_hub_model_id = f\"{model_name}-finetuned-{task}\"\n",
        "\n",
        "# callback = PushToHubCallback(\n",
        "#     output_dir=\"./tc_model_save\",\n",
        "#     tokenizer=tokenizer,\n",
        "#     hub_model_id=push_to_hub_model_id,\n",
        "# )\n",
        "\n",
        "model.fit(\n",
        "    tf_train_dataset,\n",
        "    validation_data=tf_validation_dataset,\n",
        "    epochs=2#3,\n",
        "    # callbacks=[callback],\n",
        ")"
      ]
    },
    {
      "cell_type": "markdown",
      "metadata": {
        "id": "CKASz-2vIrJi"
      },
      "source": [
        "We can add Keras metrics during compilation above if we want to get live readouts during training, or we can use the `compute_metrics` function after training to compute the metrics specified for each task."
      ]
    },
    {
      "cell_type": "code",
      "execution_count": 109,
      "metadata": {
        "id": "UOUcBkX8IrJi"
      },
      "outputs": [],
      "source": [
        "predictions = model.predict(tf_validation_dataset)[\"logits\"]"
      ]
    },
    {
      "cell_type": "code",
      "execution_count": 110,
      "metadata": {
        "id": "bazu6d8fAC9P",
        "outputId": "9d68051c-5625-4a41-9c4d-44233f538be1",
        "colab": {
          "base_uri": "https://localhost:8080/"
        }
      },
      "outputs": [
        {
          "output_type": "execute_result",
          "data": {
            "text/plain": [
              "{'accuracy': 0.904}"
            ]
          },
          "metadata": {},
          "execution_count": 110
        }
      ],
      "source": [
        "compute_metrics(predictions, np.array(encoded_dataset[validation_key][\"label\"]))"
      ]
    },
    {
      "cell_type": "markdown",
      "source": [
        "## SHAP"
      ],
      "metadata": {
        "id": "iB1be03DHndB"
      }
    },
    {
      "cell_type": "code",
      "source": [
        "! pip --quiet install shap"
      ],
      "metadata": {
        "id": "qmw-aVgyIJMH",
        "outputId": "520b7380-d02f-45a4-e0f3-467f022a09d1",
        "colab": {
          "base_uri": "https://localhost:8080/"
        }
      },
      "execution_count": 111,
      "outputs": [
        {
          "output_type": "stream",
          "name": "stdout",
          "text": [
            "\u001b[?25l\r\u001b[K     |▋                               | 10 kB 26.8 MB/s eta 0:00:01\r\u001b[K     |█▏                              | 20 kB 27.9 MB/s eta 0:00:01\r\u001b[K     |█▊                              | 30 kB 11.7 MB/s eta 0:00:01\r\u001b[K     |██▎                             | 40 kB 9.1 MB/s eta 0:00:01\r\u001b[K     |███                             | 51 kB 4.9 MB/s eta 0:00:01\r\u001b[K     |███▌                            | 61 kB 5.7 MB/s eta 0:00:01\r\u001b[K     |████                            | 71 kB 5.8 MB/s eta 0:00:01\r\u001b[K     |████▋                           | 81 kB 5.7 MB/s eta 0:00:01\r\u001b[K     |█████▏                          | 92 kB 6.3 MB/s eta 0:00:01\r\u001b[K     |█████▉                          | 102 kB 5.2 MB/s eta 0:00:01\r\u001b[K     |██████▍                         | 112 kB 5.2 MB/s eta 0:00:01\r\u001b[K     |███████                         | 122 kB 5.2 MB/s eta 0:00:01\r\u001b[K     |███████▌                        | 133 kB 5.2 MB/s eta 0:00:01\r\u001b[K     |████████▏                       | 143 kB 5.2 MB/s eta 0:00:01\r\u001b[K     |████████▊                       | 153 kB 5.2 MB/s eta 0:00:01\r\u001b[K     |█████████▎                      | 163 kB 5.2 MB/s eta 0:00:01\r\u001b[K     |█████████▉                      | 174 kB 5.2 MB/s eta 0:00:01\r\u001b[K     |██████████▍                     | 184 kB 5.2 MB/s eta 0:00:01\r\u001b[K     |███████████                     | 194 kB 5.2 MB/s eta 0:00:01\r\u001b[K     |███████████▋                    | 204 kB 5.2 MB/s eta 0:00:01\r\u001b[K     |████████████▏                   | 215 kB 5.2 MB/s eta 0:00:01\r\u001b[K     |████████████▊                   | 225 kB 5.2 MB/s eta 0:00:01\r\u001b[K     |█████████████▍                  | 235 kB 5.2 MB/s eta 0:00:01\r\u001b[K     |██████████████                  | 245 kB 5.2 MB/s eta 0:00:01\r\u001b[K     |██████████████▌                 | 256 kB 5.2 MB/s eta 0:00:01\r\u001b[K     |███████████████                 | 266 kB 5.2 MB/s eta 0:00:01\r\u001b[K     |███████████████▋                | 276 kB 5.2 MB/s eta 0:00:01\r\u001b[K     |████████████████▎               | 286 kB 5.2 MB/s eta 0:00:01\r\u001b[K     |████████████████▉               | 296 kB 5.2 MB/s eta 0:00:01\r\u001b[K     |█████████████████▍              | 307 kB 5.2 MB/s eta 0:00:01\r\u001b[K     |██████████████████              | 317 kB 5.2 MB/s eta 0:00:01\r\u001b[K     |██████████████████▋             | 327 kB 5.2 MB/s eta 0:00:01\r\u001b[K     |███████████████████▏            | 337 kB 5.2 MB/s eta 0:00:01\r\u001b[K     |███████████████████▊            | 348 kB 5.2 MB/s eta 0:00:01\r\u001b[K     |████████████████████▎           | 358 kB 5.2 MB/s eta 0:00:01\r\u001b[K     |████████████████████▉           | 368 kB 5.2 MB/s eta 0:00:01\r\u001b[K     |█████████████████████▌          | 378 kB 5.2 MB/s eta 0:00:01\r\u001b[K     |██████████████████████          | 389 kB 5.2 MB/s eta 0:00:01\r\u001b[K     |██████████████████████▋         | 399 kB 5.2 MB/s eta 0:00:01\r\u001b[K     |███████████████████████▏        | 409 kB 5.2 MB/s eta 0:00:01\r\u001b[K     |███████████████████████▉        | 419 kB 5.2 MB/s eta 0:00:01\r\u001b[K     |████████████████████████▍       | 430 kB 5.2 MB/s eta 0:00:01\r\u001b[K     |█████████████████████████       | 440 kB 5.2 MB/s eta 0:00:01\r\u001b[K     |█████████████████████████▌      | 450 kB 5.2 MB/s eta 0:00:01\r\u001b[K     |██████████████████████████      | 460 kB 5.2 MB/s eta 0:00:01\r\u001b[K     |██████████████████████████▊     | 471 kB 5.2 MB/s eta 0:00:01\r\u001b[K     |███████████████████████████▎    | 481 kB 5.2 MB/s eta 0:00:01\r\u001b[K     |███████████████████████████▉    | 491 kB 5.2 MB/s eta 0:00:01\r\u001b[K     |████████████████████████████▍   | 501 kB 5.2 MB/s eta 0:00:01\r\u001b[K     |█████████████████████████████   | 512 kB 5.2 MB/s eta 0:00:01\r\u001b[K     |█████████████████████████████▋  | 522 kB 5.2 MB/s eta 0:00:01\r\u001b[K     |██████████████████████████████▏ | 532 kB 5.2 MB/s eta 0:00:01\r\u001b[K     |██████████████████████████████▊ | 542 kB 5.2 MB/s eta 0:00:01\r\u001b[K     |███████████████████████████████▎| 552 kB 5.2 MB/s eta 0:00:01\r\u001b[K     |████████████████████████████████| 563 kB 5.2 MB/s eta 0:00:01\r\u001b[K     |████████████████████████████████| 564 kB 5.2 MB/s \n",
            "\u001b[?25h"
          ]
        }
      ]
    },
    {
      "cell_type": "code",
      "source": [
        "# len(model.outputs)\n",
        "isinstance(model, tf.keras.Model)"
      ],
      "metadata": {
        "id": "7Zc4a88wJG4N",
        "outputId": "5327f6da-b34b-460f-e39a-e57b3007b2d9",
        "colab": {
          "base_uri": "https://localhost:8080/"
        }
      },
      "execution_count": 112,
      "outputs": [
        {
          "output_type": "execute_result",
          "data": {
            "text/plain": [
              "True"
            ]
          },
          "metadata": {},
          "execution_count": 112
        }
      ]
    },
    {
      "cell_type": "code",
      "source": [
        "print(model.outputs)"
      ],
      "metadata": {
        "id": "rSmzxA61Lf5z",
        "outputId": "fa4aba67-b267-4779-b930-9dccb05c17c4",
        "colab": {
          "base_uri": "https://localhost:8080/"
        }
      },
      "execution_count": 113,
      "outputs": [
        {
          "output_type": "stream",
          "name": "stdout",
          "text": [
            "None\n"
          ]
        }
      ]
    },
    {
      "cell_type": "code",
      "source": [
        "print(model.layers) # kaikki kerrokset\n",
        "print(len(model.layers))\n",
        "model.layers[0] # Bert\n",
        "model.layers[1] # Dropout\n",
        "model.layers[2] # Dense # Viimeinen eli sama kuin model.layers[-1]"
      ],
      "metadata": {
        "id": "HGGAvcM4KqWE",
        "outputId": "a9756320-cfca-4c66-a735-75ab6cbc01b2",
        "colab": {
          "base_uri": "https://localhost:8080/"
        }
      },
      "execution_count": 114,
      "outputs": [
        {
          "output_type": "stream",
          "name": "stdout",
          "text": [
            "[<transformers.models.bert.modeling_tf_bert.TFBertMainLayer object at 0x7fd310427590>, <keras.layers.core.dropout.Dropout object at 0x7fd2a3dfef90>, <keras.layers.core.dense.Dense object at 0x7fd2a3e05450>]\n",
            "3\n"
          ]
        },
        {
          "output_type": "execute_result",
          "data": {
            "text/plain": [
              "<keras.layers.core.dense.Dense at 0x7fd2a3e05450>"
            ]
          },
          "metadata": {},
          "execution_count": 114
        }
      ]
    },
    {
      "cell_type": "code",
      "source": [
        "print(type(dataset[\"train\"][:100])) # dict ei kelpaa, joten poimitaan \n",
        "\n",
        "for k, v in dataset[\"train\"][:100].items():\n",
        "  print(k, v)\n",
        "\n",
        "print(type(dataset[\"train\"][:100]['text']))\n",
        "\n",
        "testi= [list(x) for x in dataset[\"train\"][:100]['text']] # nested list\n",
        "print(type(testi))\n",
        "print(type(testi[0]))"
      ],
      "metadata": {
        "id": "cyDy98S0PRqD",
        "outputId": "10d390e4-af55-43c5-ae69-df26680d68eb",
        "colab": {
          "base_uri": "https://localhost:8080/"
        }
      },
      "execution_count": 116,
      "outputs": [
        {
          "output_type": "stream",
          "name": "stdout",
          "text": [
            "<class 'dict'>\n",
            "text ['I rented I AM CURIOUS-YELLOW from my video store because of all the controversy that surrounded it when it was first released in 1967. I also heard that at first it was seized by U.S. customs if it ever tried to enter this country, therefore being a fan of films considered \"controversial\" I really had to see this for myself.<br /><br />The plot is centered around a young Swedish drama student named Lena who wants to learn everything she can about life. In particular she wants to focus her attentions to making some sort of documentary on what the average Swede thought about certain political issues such as the Vietnam War and race issues in the United States. In between asking politicians and ordinary denizens of Stockholm about their opinions on politics, she has sex with her drama teacher, classmates, and married men.<br /><br />What kills me about I AM CURIOUS-YELLOW is that 40 years ago, this was considered pornographic. Really, the sex and nudity scenes are few and far between, even then it\\'s not shot like some cheaply made porno. While my countrymen mind find it shocking, in reality sex and nudity are a major staple in Swedish cinema. Even Ingmar Bergman, arguably their answer to good old boy John Ford, had sex scenes in his films.<br /><br />I do commend the filmmakers for the fact that any sex shown in the film is shown for artistic purposes rather than just to shock people and make money to be shown in pornographic theaters in America. I AM CURIOUS-YELLOW is a good film for anyone wanting to study the meat and potatoes (no pun intended) of Swedish cinema. But really, this film doesn\\'t have much of a plot.', 'It was great to see some of my favorite stars of 30 years ago including John Ritter, Ben Gazarra and Audrey Hepburn. They looked quite wonderful. But that was it. They were not given any characters or good lines to work with. I neither understood or cared what the characters were doing.<br /><br />Some of the smaller female roles were fine, Patty Henson and Colleen Camp were quite competent and confident in their small sidekick parts. They showed some talent and it is sad they didn\\'t go on to star in more and better films. Sadly, I didn\\'t think Dorothy Stratten got a chance to act in this her only important film role.<br /><br />The film appears to have some fans, and I was very open-minded when I started watching it. I am a big Peter Bogdanovich fan and I enjoyed his last movie, \"Cat\\'s Meow\" and all his early ones from \"Targets\" to \"Nickleodeon\". So, it really surprised me that I was barely able to keep awake watching this one.<br /><br />It is ironic that this movie is about a detective agency where the detectives and clients get romantically involved with each other. Five years later, Bogdanovich\\'s ex-girlfriend, Cybil Shepherd had a hit television series called \"Moonlighting\" stealing the story idea from Bogdanovich. Of course, there was a great difference in that the series relied on tons of witty dialogue, while this tries to make do with slapstick and a few screwball lines.<br /><br />Bottom line: It ain\\'t no \"Paper Moon\" and only a very pale version of \"What\\'s Up, Doc\".', 'If the crew behind \"Zombie Chronicles\" ever read this, here\\'s some advice guys: <br /><br />1. In a \"Twist Ending\"-type movie, it\\'s not a good idea to insert close-ups of EVERY DEATH IN THE MOVIE in the opening credits. That tends to spoil the twists, y\\'know...? <br /><br />2. I know you produced this on a shoestring and - to be fair - you worked miracles with your budget but please, hire people who can actually act. Or at least, walk, talk and gesture at the same time. Joe Haggerty, I\\'m looking at you...<br /><br />3. If you\\'re going to set a part of your movie in the past, only do this if you have the props and costumes of the time.<br /><br />4. Twist endings are supposed to be a surprise. Sure, we don\\'t want twists that make no sense, but signposting the \"reveal\" as soon as you introduce a character? That\\'s not a great idea.<br /><br />Kudos to the guys for trying, but in all honesty, I\\'d rather they hadn\\'t...<br /><br />Only for zombie completists.', 'I have not seen many low budget films i must admit, but this is the worst movie ever probably, the main character the old man talked like, he had a lobotomy and lost the power to speak more than one word every 5 seconds, a 5 year old could act better. The story had the most awful plot, and well the army guy had put what he thought was army like and then just went over the top, i only watched it to laugh at how bad it was, and hoped it was leading onto the real movie. I cant believe it was under the 2 night rental thing at blockbusters, instead of a please take this for free and get it out of our sight. I think there was one semi decent actor other than the woman, i think the only thing OK with the budget was the make up, but they show every important scene of the film in the beginning music bit. Awful simply awful.', \"I have read all of the Love Come Softly books. Knowing full well that movies can not use all aspects of the book,but generally they at least have the main point of the book. I was highly disappointed in this movie. The only thing that they have in this movie that is in the book is that Missy's father comes to visit,(although in the book both parents come). That is all. The story line was so twisted and far fetch and yes, sad, from the book, that I just couldn't enjoy it. Even if I didn't read the book it was too sad. I do know that Pioneer life was rough,but the whole movie was a downer. The rating is for having the same family orientation of the film that makes them great.\", 'I saw this film opening weekend in Australia, anticipating with an excellent cast of Ledger, Edgerton, Bloom, Watts and Rush that the definitive story of Ned Kelly would unfold before me. Unfortunately, despite an outstanding performance by Heath Ledger in the lead role, the plot was paper thin....which doesn\\'t inspire me to read \"Our Sunshine\". There were some other plus points, the support acting from Edgerton in particular, assured direction from Jordan (confirming his talent on show in Buffalo Soldiers as well), and production design that gave a real feel of harshness to the Australian bush, much as the Irish immigrants of the early 19th century must have seen it. But I can\\'t help feeling that another opportunity has been missed to tell the real story of an Australian folk hero (or was he?)....in what I suspect is a concession to Hollywood and selling the picture in the US. Oh well, at least Jordan and the producers didn\\'t agree to lose the beards just to please Universal...<br /><br />Guess I will just have to content myself with Peter Carey\\'s excellent \"Secret History of the Kelly Gang\". 4/10', 'From the very beginning, the political theme of this film is so obvious and heavy handed, that the outcome is entirely predictable. Any good textbook on writing screenplays will advise layering of characters, incorporating character arcs, and three act structure. In this film you will find none of that. The police are the baddies, and consequently are shown as shallow, incompetent and cowards. It never seems to occur to the makers of this film that police might be honourable citizens who see joining the police as a good way to contribute to the wellbeing of society.<br /><br />The viewer gets no opportunity to make up his or her mind on whether Ned Kelly is a good guy or a ruthless villain. The film opens with him being arrested for stealing a horse, but we get no clue as to his guilt or innocence. We see him walk through the door of a gaol, but only know that he has been inside for three years when we hear this much later in some dialogue.<br /><br />This film contains many shots of Ned looking at the camera with a serious expression. I found the film a real chore to watch. It is the direction for modern films, and this one put me off watching any more.', 'What does the \" Executive producer \" do in a movie . If I remember correctly it\\'s the person who raised the financial backing to make the movie . You might notice in a great number of movies starring Sean Connery that he is also the executive producer which meant Connery himself raised the money since he is a major player . Unfortunately it should also be pointed out that a great number of movies \" starring Sean Connery were solely made because he managed to raise the money since he\\'s a major Hollywood player , it\\'s usually an indication that when the credits read that the executive producer and the star of the movie are one and the same the movie itself is nothing more than a star vehicle with the story/screenplay not being up to scratch <br /><br />PROTOCOL follows the saga of one Sunny Davis a kooky bimboesque cocktail waitress who saves a visiting dignitary and as a reward gets made a top diplomat . Likely ? As things progress Ms Davis ( Who has problems being able to string two sentences together ) finds herself in more outlandish and less likely situations . When I say that PROTOCOL stars Goldie Hawn who is also the film\\'s executive producer do you understand what I\\'m saying about the story/screenplay not being up to scratch ? Exactly', \"When a man who doesn't have Alzheimer's can't remember how many films he's made, he probably is the world's most prolific director after all. That man is Jesus Franco, the king of so-called 'eurotrash'. His 1980 flick Devil Hunter is as rushed, opaque, stupid, lazy and exploitative in the truest sense of the word (the film's title is misleading, for starters) as any other Franco film I've seen. That makes it sound pretty awful, and it is... Yet Franco does have some kind of inimitable sensibility, a generous way with the baldly outrageous, with nudity and sleaze and violence, and even with his stupid cheap editing which tries to pave over the extreme haste with which all his films were made. The mix of all these elements causes you to ride his films out, even while you're mostly waiting for them to end because they're so very tedious.<br /><br />Devil Hunter is nigh on incomprehensible for the first half an hour. The kidnap by strangers of a white woman who seems to be a model or film star is intercut with a bunch of native action in South America. There's lots of naked writhing, dancing, and endless repeated zoom-ins on an ugly totem pole. You need to get used to the repetitive zoom-ins and the technique of cutting back to the same shot about three times in a row right away, as these are Franco's main methods of extending a film out to feature length.<br /><br />The monster who looks like the totem pole is actually kind of scary. He has raw bug eyes and his presence is always signalled on the soundtrack by cacophonous groaning, apparently recorded in an echo chamber. Early in the piece he chews on a native lady strapped to a tree, and it's hard to know what really happens here but I think he ate her stomach (or her genitals, sweet Jesus!).<br /><br />Anyway, the adventure begins properly when a studly guy and his freaked out Vietnam vet pal are sent to the island to recover the white girl from the kidnappers. The flakey guy has an accent which, as dubbed, is half Brooklyn-American, half English-Liverpudlian and all retarded. All of the dialogue and dubbing is ridiculous and laughable, making for another layer of the film which can somehow hold your interest.<br /><br />Not too much really happens from here on in, and it happens pretty sluggishly, studded with the odd bit of outrage like a rape. The nebulous action is fleshed out (haha!) by acres of 360 degree nudity from the natives and the two female leads, and even from the monster himself. That he walks around with his penis exposed makes wrestling him an unappetising prospect for the tough guy hero, but it's gotta be done at some point, and it's nice to note that the director will show anyone's genitals on camera.<br /><br />The best feature of Devil Hunter is the location filming. Franco can be extremely cheap with the structural and story aspects of film-making, but he doesn't muck around with sets. You get real islands, jungles, helicopters and mountains, all in widescreen. This is something that is really cool to experience in these days of crappy CGI sets and backdrops ad nauseam.<br /><br />Ultimately, issues of recommendation where this film is concerned seem moot. If you're trying to see all the Video Nasties, you will have to watch this at some point, and you'll be made as restless as I was. If you like Franco, you'll watch this anyway. If you fall into neither of the above categories, the odds are you'll never come across this film. Copies of it aren't just lying around, and I could hardly recommend the seeking out of it. It's Franco. Lazy, crazy Franco.\", 'Devil Hunter gained notoriety for the fact that it\\'s on the DPP \\'Video Nasty\\' list, but it really needn\\'t have been. Many films on the list where there for God (and DPP) only known reasons, and while this isn\\'t the tamest of the bunch; there isn\\'t a lot here that warrants banning...which is a shame because I never would have sat through it where it not for the fact that it\\'s on \\'the shopping list\\'. The plot actually gives the film a decent base - or at least more of a decent base than most cannibal films - and it follows an actress who is kidnapped and dragged off into the Amazon jungle. A hunter is then hired to find her, but along the way he has to brave the natives, lead by a man who calls himself \"The Devil\" (hence the title). The film basically just plods along for eighty five minutes and there really aren\\'t many scenes of interest. It\\'s a real shame that Jess Franco ended up making films like this because the man clearly has talent; as seen by films such as The Diabolical Dr Z, Venus in Furs, Faceless and She Kills in Ecstasy, but unfortunately his good films are just gems amongst heaps of crap and Devil Hunter is very much a part of the crap. I saw this film purely because I want to be able to say I\\'ve seen everything on the DPP\\'s list (just two more to go!), and I\\'m guessing that\\'s why most other people who have seen it, saw it. But if you\\'re not on the lookout for Nasties; there really is no reason to bother with this one.', \"Terrible movie. Nuff Said.<br /><br />These Lines are Just Filler. The movie was bad. Why I have to expand on that I don't know. This is already a waste of my time. I just wanted to warn others. Avoid this movie. The acting sucks and the writing is just moronic. Bad in every way. The only nice thing about the movie are Deniz Akkaya's breasts. Even that was ruined though by a terrible and unneeded rape scene. The movie is a poorly contrived and totally unbelievable piece of garbage.<br /><br />OK now I am just going to rag on IMDb for this stupid rule of 10 lines of text minimum. First I waste my time watching this offal. Then feeling compelled to warn others I create an account with IMDb only to discover that I have to write a friggen essay on the film just to express how bad I think it is. Totally unnecessary.\", \"Nine minutes of psychedelic, pulsating, often symmetric abstract images, are enough to drive anyone crazy. I did spot a full-frame eye at the start, and later some birds silhouetted against other colors. It was just not my cup of tea. It's about 8½ minutes too long.\", 'This is really a new low in entertainment. Even though there are a lot worse movies out.<br /><br />In the Gangster / Drug scene genre it is hard to have a convincing storyline (this movies does not, i mean Sebastians motives for example couldn\\'t be more far fetched and worn out cliché.) Then you would also need a setting of character relationships that is believable (this movie does not.) <br /><br />Sure Tristan is drawn away from his family but why was that again? what\\'s the deal with his father again that he has to ask permission to go out at his age? interesting picture though to ask about the lack and need of rebellious behavior of kids in upper class family. But this movie does not go in this direction. Even though there would be the potential judging by the random Backflashes. Wasn\\'t he already down and out, why does he do it again? <br /><br />So there are some interesting questions brought up here for a solid socially critic drama (but then again, this movie is just not, because of focusing on \"cool\" production techniques and special effects an not giving the characters a moment to reflect and most of all forcing the story along the path where they want it to be and not paying attention to let the story breath and naturally evolve.) <br /><br />It wants to be a drama to not glorify abuse of substances and violence (would be political incorrect these days, wouldn\\'t it?) but on the other hand it is nothing more then a cheap action movie (like there are so so many out there) with an average set of actors and a Vinnie Jones who is managing to not totally ruin what\\'s left of his reputation by doing what he always does.<br /><br />So all in all i .. just ... can\\'t recommend it.<br /><br />1 for Vinnie and 2 for the editing.', \"The premise of the movie has been explained and if you've gotten this far you don't me to pretend that I'm a movie critic. With that being said my own opinion of the movie is quite low. I'm a fan of Takashi Miike but this goes down in the category of his not so great work along with DOA 2 and 3, and some others (many).<br /><br />The movie seems to get a free pass because it is a Takashi film and nothing Takashi does can be wrong. This is a highschoolers approach to cinema. For the rest of us we'll find and hour and a half of a kid screaming for no real reason completely annoying (and yes, this does take away from the film), the pace of the film almost reaching levels of rigomortis, and the acting...well...hmmm. <br /><br />If one is a Takashi fan you'll see it regardless to peak your interests. It lacks any originality (see the Neverending Story) or any character development from the lead character in the face of conflict other then a quite superficial one. <br /><br />As it has been pointed out this is the first film Miike has been credited with co-writing, but that doesn't mean much as non of what we'd hope would be Miike's personality would spill over into the screen. All we get are some of the token Miike shots vis the director of photography.<br /><br />The movie had the potential to be something great. The premise is not a difficult one to run wild with. But this one seemed to have been run into the ground.<br /><br />My suggestion is if you're just getting into Miike is go with some of the standards like Gozu, Ichi, and Audition. Then movie into his works like Blue's Harp, Fudoh, Rainy Dog, Bird People of China.\", 'William Russ is the main character throughout this made for TV movie. He left his family behind to only reappear and begin paying off his debts. But he tries to keep away from his family. Thats where Peter Falk (Colombo) comes in, playing several different roles, to convince him to come home.<br /><br />The story is average and they actually managed to get a former star (Peter Falk) and use him to a fairly nice degree. But William Russ wasn\\'t truly a star. However, it appears his acting is still OK.<br /><br />I found the delivery and story very cheesy in how everything was predictable. In fact, the last 20 minutes I could almost dictate word for word before it happened. A good movie should never be like that.<br /><br />Overall, it was a sub-par movie. In a letter grading system, it would receive a \"D\".', \"This film is a calculated attempt to cash in the success of Sex in the City and Four Weddings and a Funeral. In fact, if they'd called it Sex at a Funeral, they might have done better at the box office.<br /><br />But the film falls between two stools and can't get up. The characters spout improbably bright dialog, but never act in any way remotely recognizable as human. One arbitrary, senseless action follows another to advance what passes for a plot, and one soon tires of the falsity of the whole enterprise.<br /><br />Andie MacDowell gets points for acting her little heart out, but the performing honors are stolen by Imelda Staunton, as of all things, a police detective (don't they have a height requirement over there?). Ms. Staunton seems unable to make a false move. Would that we could say the same about the writer-director.<br /><br />If Notting Hill annoyed you as being bogus, stay away from this one. Phonus bolognus on the half-shell.\", \"Not a `woman film' but film for the gang. One of the worst films ever made by a male director about woman. Director Andy McKay simply doesn't know woman. Peaks of bad taste, American Pie's humor style, crude story, no sense, groundless story, refuted characters. Vulgar fantasies came to life on screen. Insulting and definitely not funny. I wonder how three good actresses accepted to take part in it.\", \"Yes, indeed, it could have been a good movie. A love biangle, (sorry for the poetical license, but is not a triangle!) an interesting story, unfortunately badly told. The image is sometimes weird, sometimes OK, the picture looks crowded and narrow-sighted. The sound needs more attention (it usually does in Romanian movies), the light and color filters are sometimes badly chosen. The soundtrack is short and is not helping the action. About the acting... sorry but the best actress is the landlady. The others are acting immaturely and cannot convince the viewer. The acting is poetical when it should be realistic, and realistic when it should be poetical. It's a picture for adults, told by the children. Bother only if extremely curious.\", 'Well, as Goethe once said, there really isn\\'t any point in trying to pass a negative judgement that aspires to be objective on \"something that has had a great effect\". \"La Maman et La Putain\" has surely passed into history as an influence on much of what\\'s been done in France and elsewhere in the past thirty years and no one interested in the history of film, certainly, should be dissuaded from watching it. To express a purely subjective judgement, however, I feel compelled to disagree with almost every other review posted here and say to people: \"Don\\'t watch it; it\\'s a waste of hours of your time that will just leave you feeling rather sick and angry.\" And by that I don\\'t mean \"sick and angry\" about \"the human condition\" or anything so general and profound as that, because that is exactly the line that most critics have adopted in their fulsome praise of the film - \"an ordeal to watch in its ruthless dissection of our emotional cowardice and cruelty\" and so on - and, if it really managed to put across a universally or even broadly relevant message of this sort, then the director would have good reason to be satisfied with himself, however pessimistic his conclusions may be. My beef with the film is rather that I don\\'t see this hours-long record of empty vanity and petty treachery as being justified or excused by any GENERALLY relevant message at all. All three main characters are deeply morally unattractive individuals: Alexandre to the greatest degree, of course, because we see by far the most of him and because he seldom shuts up for more than thirty seconds; Marie perhaps to the least degree, because we see the least of her. Alexandre\\'s affected and pretentious monologues have a kind of amusement value, of course, but the amusement wears thin as one comes more and more clearly to realize that Jean-Pierre Léaud is most likely not even acting and that, with absurd remarks like \"un homme beau comme un film de Nicholas Ray\", he really was just reproducing word-for-word opinions that were accepted as authentic and profound by the milieu in which he, along with the director Eustache, had been living for about ten years by the time of the making of the film. I suppose if the tone of relentless superficiality and triviality had been sustained throughout 100% of the film, it might have worked as a long sardonic comedy about a particularly shallow, worthless and despicable post-\\'68 milieu. What made, however, this viewer at least extremely angry with the director was his granting of at least one lengthy scene each to Alexandre and Veronika in which we are clearly expected to empathize with and feel for them as if they shared a moral universe with us. If a man can get away with living in the flat of and professing to love one woman, sleeping (mostly in this very flat) with another, and running around Paris proposing marriage to yet a third, well, I suppose I can wish him the best of luck in the dog-eat-dog world he\\'s chosen to create for himself. What I can\\'t, however, in all conscience do is listen even for a moment to maudlin monologues from him in which he speaks about his \"anxiety\" and his \"despair\". The same goes double for the even more despicable Veronika, whom we are shown barging drunk into the apartment and even the bed shared by Marie and Alexandre and behaving there with an infantile inconsistency tantamount to the most savage and heartless cruelty. As I say, if \"La Maman et La Putain\" is intended to be nothing more nor other than a portrait of Alexandre, Veronika and Marie, three individuals whom any even halfway decent person would never admit into their company let alone their home, then I suppose there is a kind of legitimacy in praising the director for being \"unflinching\" (though why one should even feel like \"flinching\" once one had consciously opted to create such thoroughly repellent characters to filmically observe I can\\'t imagine). The problem, however, is that the director is clearly convinced - and appears to have succeeded in convincing generations of critics - that Alexander, Veronika and Marie are somehow representative of human beings in general and of the limits of human beings\\' emotional capabilities. This latter idea, however, is arrant and offensive nonsense. There may indeed be an inherent fallibility and tendency to tragedy in human relations in general and sexual relations in particular. But the nature and degree of this fallibility and tendency to tragedy can only possibly be determined by people who make a sincere and serious effort to make such relations work. It surely needs no cinematic or authorial genius to convey to us the information that a man who behaves like Alexandre is going to end up hated, miserable, and alone, or that women who insist on expecting love from a man like Alexandre are going to end up disappointed and bitter. Watch \"La Maman et La Putain\" if you\\'re historically interested in what passed for culture and human interaction in a certain post-\\'68 Parisian milieu which was probably, unfortunately, not restricted to just a few particularly anti-social types like these. But please don\\'t make the mistake of believing that what is recorded here has any general relevance for humanity in the way that a film by Jean Renoir or Martin Scorsese might be argued to have.', \"The story by Norman Maclean is a masterwork; Redford's film is a mediocrity. He adds banal scenes of the Maclean brothers going over a falls and of them double-dating in a seedy bar that were not even hinted at in the story. The cipher, Brad Pitt, trying to play the charismatic Paul Maclean, a genius outdoors, proves either risible or depressing, depending on what the original story meant to you. Some of the fly casting scenes are beautiful. Also, Tom Skerritt as the father and Craig Sheffer as Norman are strong and masculine, as men were once expected to be. None of the women make an impression in the film, which is regrettable, because Maclean loved the women in his story and made this clear, even poetic.\", 'This is an action Western. James Steart leads an all star cast in the scenic Northwest, which is filmed in great splendor. The scenery and costumes are great. There is action and adventure. Stewart plays a wealthy cattleman who runs afoul of a crooked government in the old Nothwest.<br /><br />The main drawback is the stereotypical cynic that Hollywood has always made into a hero. Even when this movie was made, the cynic was the stereotypical hero, and the one Stewart portrays really has few saving graces. He is kind to his two partners, and that does give him an extra dimension of credibility and likability.<br /><br />However, he is so piggish to everyone else, it is hard to really care for him, or to accept him. He is much like the one dimensional spaghetti Western characters (cut not that bad).<br /><br />Still, the minor characters are quite enjoyable. Walter Brennan, Royal Dano, Harry Morgan, and others make this worth watching.', 'A decent sequel, but does not pack the punch of the original. A murderous screenwriter(Judd Nelson)assumes new identities in order to direct his own novel CABIN BY THE LAKE. Still ruthless killing, but movie seems very tongue-in-cheek. Any humor is not of the funny kind. Total project seems to have the quality of a quickie and at times Nelson is way over the top. This movie is about a script being rewritten before going to the screen...this should have happened to this script.', 'The earlier part of the film was rather enjoyable but towards the end it became trite. Although Turturro is an actor I generally like, his Luzhin often resembled a bad Rain Man impression and the portrayal of the genius as a semi-autistic man was annoying. Overall it seems as if this film is trying to hard and ends up looking pompous in spite of mostly fine performances.', '\"Spielberg loves the smell of sentiment in the morning. But sentiment at the expense of narrative honesty? Nobody should love that.\" - Lucius Shepard<br /><br />\"The Color Purple\" takes place in the Deep South during the early 1900s, and tells the story of Celie and Nettie, two African American sisters. The film opens with the girls playing in a field of purple flowers, an idyllic haven which is promptly shattered by the appearance of their stepfather. This motif \\x96 innocence interrupted by men \\x96 permeates the entire film.<br /><br />The film then launches into a series of short sequences. Celie is revealed to have been twice impregnated by her stepfather, gives birth in a dirty barn, has her newborn child taken away and is forced to marry a local widow named Albert Johnson, a violent oaf who rapes her repeatedly, forcing her to cook, clean and look after his children.<br /><br />All these horrific scenes are given little screen time, and are instead surrounded by moments of pixie-dust cinematography, a meddlesome symphonic score, incongruous comedy and overly exuberant camera work. The cumulative effect is like the merging of a Disney cartoon and a rape movie, a jarring aesthetic which caused Stanley Kubrick to remark that \"The Color Purple\" made him so nauseated that he had to turn it off after ten minutes. Ten minutes? He lasted a long time.<br /><br />The film is often said to deal which \"racism\", \"sexism\" and \"black culture\", but this is not true. Alice Walker, the author of the novel upon which the film is based, claims to be a bisexual but is actually a closet lesbian. Her book is a lesbian fantasy, a story of female liberation and self-discovery, which paints men as violent brutes who stymie women. For Walker, the only way out of this maze is for women to bond together in a kind of lesbian utopia, black sisterhood and female independence celebrated.<br /><br />Spielberg\\'s film, however, re-frames Walker\\'s story through the lens of comforting American mythologies. This is a film in which the salvific power of Christianity overcomes the natural cruelty of men. A film in which Albert finds himself in various ridiculous situations, moments of misplaced comedy inserted to make him look like a bumbling fool. A film in which all the characters are derived from racist minstrel shows, the cast comprised of lecherous men (always beaming with devilish smiles and toothy grins), stereotypical fat mammies, jazz bands and gospel choirs. <br /><br />This is a film in which black people are naturally childlike, readily and happily accepting their social conditions. A film in which black people are over-sexed, carnal sensualists dominated by violent passions. A film in which poverty and class issues are entirely invisible (Albert lives in a huge house) and black men are completely inept. This is not the Old South, this is the Old South as derived from \"Gone With The Wind\", MGM Muscals, \"Song of the South\", Warner Cartoons, \"Halleluha!\" and banned Disney movies. In other words, it\\'s the South as seen by a child raised on 50s TV. It\\'s all so cartoonish, so racist in the way it reduces these human beings to one dimensional ethnic stereotypes, that black novelist Ishmael Reed famously likened it to a Nazi conspiracy.<br /><br />Of course, in typical Spielberg fashion the film ends with family bonds being healed. This reconciliation was in Walker\\'s novel, but Spielberg goes further by having every character in the story reconcile with their kin.<br /><br />Beyond Walker\\'s hate letter to black men and Spielberg\\'s bizarre caricaturing of black life, we are shown nothing of the black community. We have only the vaguest ideas as to how any of these characters make a living and no insight into how they interact with others in their community. Instead, Spielberg\\'s camera jumps about, desperately fighting for our attention (one of Celie\\'s kitchen contraptions seems like it belongs in a \"Home Alone\" movie), every emotion over played, the director never stopping to just observe something or to allow a little bit of life to simply pass by. Couple this with Quincy Jones\\' ridiculously \"white\" music, and you have one of the strangest films in cinema history: an angry feminist tract filmed by a white Jew in the style of Disney and Griffith, scored by a black man trying to emulate John Williams.<br /><br />Problematic too is the lack of white characters. Consider this: the men in this film aren\\'t portrayed as being rough to each other, nor do they dominate women because they are brutalised by a racist society which reduces their manhood. No, they are cruel by nature. And the women, whether quietly suffering like Celie or rebellious and tough like her sister, persevere and survive only because the men are too stupid to destroy them. A better film would not have focused solely on the oppression of women as it occurs among the oppressed, rather, it would have shown that it is societal abuse which has led to spousal abuse, that enslaved black women are forced to perform the very same tasks as their male counterparts (whilst still fulfilling traditional female roles) and that African American domestic violence occurs largely because of economic factors, women unable to support themselves and their children alone.<br /><br />And so there\\'s a hidden ideology at work here. Late in the film one character tells another that since he didn\\'t respect his wife, she wound up getting severely beaten and imprisoned by whites. The implication is that blacks need to return to their African roots to restore their own dignity and that it is their fault that whites unjustly crush them. ie- Respect one another in your poor minority community and you won\\'t run afoul of the dominant white culture. <br /><br />3/10 - A failure to confront sex and lesbianism, inappropriate musical numbers, countless sequence loaded with extraneous visual pizazz, incongruous comic business, emphatic music cues, and wildly hyped emotionality, all contribute to rendering \"The Color Purple\" worthless.', \"In an attempt to bring back the teen slasher genre that was taken away by spoofs like Scary Movie and Shriek if you know what I did last Friday the 13th, Valentine fails. Why did people like Halloween? Because it was original, new and went beyond anything that's ever been done. Why did they like Scream? Because at least it made sense. Valentine is just a stupid slasher-flick that has hardly any gore what so-ever. The plot is so similar to Halloween and Urban Legend it's not funny. And the moment the killer comes on screen, you know who it is, it's just sssssssssssooooooooooooo predictable. The teen slasher genre is DEAD Get over it!<br /><br />0 out of 10\", \"Well the reason for seeing it in the cinema was that it was a sneak preview, else I would never have seen this terrible teenage slasher movie. I mean haven't we had enough of this yet? Scream and Scary Movie at least did not take them self serious! The plot sucks, and the acting is the worst I've seen. (Only Godzilla can compare, which is also the only movie that competes in being the worst I've seen in the cinema with this one.)<br /><br />There is so many plot holes in the story, and the girls are so alike, that you don't even now who has been killed, and who has not. (and you don't care.) The only of them I knew in advance was Denise, and she was the most talent less actress I have ever seen in this bad excuse for a movie.<br /><br />Stay as far away from this movie as possible. (2/10)\", 'The TV guide calls this movie a mystery. What is a mystery to me is how is it possible that a culture that can produce such intricate and complex classical music and brilliant mathematicians cannot produce a single film that would rise above the despicable trash level this film so perfectly represents. This is Bollywood at its best/worst, I honestly cannot tell the difference. Nauseatingly sweet, kitschy clichés on every level, story-line, situations, dialog, music and choreography. To put it bluntly, you must be a retard to enjoy it. I watched it to satisfy my cultural curiosity, but there were times when I had to walk away from it, because I could not take it any more. The only redeeming quality of the movie is the exquisite beauty of the leading actresses. <br /><br />', 'I almost called HBO and demanded my money back for the month just because they\\'ve been airing this movie. I can just see the movie execs sitting around going, \"Okay, we need to come up with something that\\'s just like Home Alone, only we\\'ll add a bunch of cash for the kid, hire cut-rate actors, and oh yeah, we\\'ll make it a lot less funny!\"<br /><br />Okay, maybe not the last part, but that\\'s basically what you\\'ve got here. Not even worth seeing if someone else rents it. And as a movie for kids? Forget it. I wouldn\\'t let my kids see this, not necessarily because of bad-taste jokes, but because I wouldn\\'t want them to say, \"What were you thinking showing us that lame piece of garbage, Dad?!?!\"', \"I've seen my fair share of badly thought-out endings and final twists to films, but I don't recall any film that committed outright suicide like this one did.<br /><br />The film makers were clearly hoping that the great twist would 'surprise' us all.... and it did, but perhaps not in the way the directors had hoped. I was left feeling surprised that Connery, Harris, Fishburn and Capshaw had anything to do with this turkey, individually or collectively.<br /><br />The film up until the final thirty minutes was rather engaging and I like the way the story was unfolding and the nature of the film overall. But once the twist was revealed, the plot holes and inconsistencies were remarkable, the underlying motive for revenge was ill-conceived and the ways things so neatly worked out for Bobby Earl was ridiculously far-fetched. What's worse is that, once the twist was revealed, the remainder of the film became excruciatingly predictable.<br /><br />Harris gave a terrific performance and Connery is like Morgan Freeman in that he never gives a bad performance, even if the movie ain't that great! So all in all, it starts well and the unfolding keeps the viewer interested. The last 30 minutes is one of the most memorable nose dives in the history of cinema.\", 'A pot - boiler if ever I saw one. A supposed thriller borrowing from \"A Time to Kill\", \"Silence of the Lambs\", even an inverted \"In the Heat of the Night\" with a little reverse murder, a la \"Strangers on a Train\" thrown in, it fails abysmally where all the above, to a large degree, succeeded. Namely, in delivering thrills. The plot seems condensed from a bigger book, making the plot developments obvious and uninvolving, while the direction lacks pace and verve. To rein in any kudos, a major twist had to be delivered along the way and here it fails palpably too. Connery is clearly slowing down in his old age, barely bothering with his attempt at a US accent and besides seems too old to be the husband of Hope Lange and the father of those gosh - darn kids of his. He even has a father in law who seems younger than him. Laurence Fishburne barely gets the chance to inhabit his role and you\\'re confused from the outset as to whether he\\'s a bad guy or a good guy. Someone once said that flashbacks shouldn\\'t lie - they do, confusedly, here. The rest of the playing is merely average by a reasonable cast in their underwritten stereotyped roles. The supposed climax managed too, to roll by leaving me firmly entrenched in the back, not as should have been the aim, front edge of my seat. Mediocre sloppy Hollywood film making for sure.', 'Unlike \"The Adventures of Buckaroo Banzai\", or \"Big Trouble in Little China\", or \"Conan the Barbarian\", which are horrible films that have a certain coolness and self-deprecating humor that turn them into cult sensations, The Golden Child is just plain bad.<br /><br />The premise itself is not unworkable, and there are some funny moments. But here the Eddy Murphy \"flip attitude\" just deflates any feeling of tension or danger in the story. And the special effects are silly enough to do more damage to that tension. The \"mystic secrets\" of Tibetan Buddhism are lampooned rather than drawn upon to compel.<br /><br />Without a feeling that anything is at stake, or that the characters are faced by real danger, why should we care?<br /><br />Who should see this film:<br /><br />-- big fans of Eddy Murphy who can\\'t help themselves<br /><br />-- I can\\'t think of anyone else<br /><br />I\\'ll give this film a 4 out of 10 for the occasional joke that worked.', \"First: I bought it at the video store. Second: I watched it. Third: It was boring. Fourth: It was not funny. Fifth: Most of the antics were lame. And last, but not least: It's not only a bad movie, it's a total fiasco.<br /><br />I am a huge Adam Sandler fan despite this disappointing and forgotten film. I pity it because it was his first movie. Even if you are a huge Adam Sandler fan, don't bother watching this movie. Instead, just take the video, board a yacht, and throw it overboard.\", \"A friend of mine bought this film for £1, and even then it was grossly overpriced. Despite featuring big names such as Adam Sandler, Billy Bob Thornton and the incredibly talented Burt Young, this film was about as funny as taking a chisel and hammering it straight through your earhole. It uses tired, bottom of the barrel comedic techniques - consistently breaking the fourth wall as Sandler talks to the audience, and seemingly pointless montages of 'hot girls'.<br /><br />Adam Sandler plays a waiter on a cruise ship who wants to make it as a successful comedian in order to become successful with women. When the ship's resident comedian - the shamelessly named 'Dickie' due to his unfathomable success with the opposite gender - is presumed lost at sea, Sandler's character Shecker gets his big break. Dickie is not dead, he's rather locked in the bathroom, presumably sea sick.<br /><br />Perhaps from his mouth he just vomited the worst film of all time.\", \"Hello. I am Paul Raddick, a.k.a. Panic Attack of WTAF, Channel 29 in Philadelphia. Let me tell you about this god awful movie that powered on Adam Sandler's film career but was digitized after a short time.<br /><br />Going Overboard is about an aspiring comedian played by Sandler who gets a job on a cruise ship and fails...or so I thought. Sandler encounters babes that like History of the World Part 1 and Rebound. The babes were supposed to be engaged, but, actually, they get executed by Sawtooth, the meanest cannibal the world has ever known. Adam Sandler fared bad in Going Overboard, but fared better in Big Daddy, Billy Madison, and Jen Leone's favorite, 50 First Dates. Man, Drew Barrymore was one hot chick. Spanglish is red hot, Going Overboard ain't Dooley squat! End of file.\", \"This was the third remake of SLEEPING WITH THE ENIEMY After YAARANA(1995) and AGNISAKSHI(1996)<br /><br />AGNISAKSHI was the only one which worked and was a better film<br /><br />DARAAR is directed by Abbas Mustan who sadly failed in their attempt here<br /><br />the story was good but the handling wasn't that good and the heroine was shown too regressive and the climax too was disappointing<br /><br />Direction is bad Music is good<br /><br />Rishi reprises his role of YAARANA(strangely which also was a remake of SWTE) and looks too fat for the lead and is okay Juhi is decent while Arbaaz tries too hard in his debut and does manage in many scenes to chill the audiences but his voice was terrible Johny is too loud\", 'What made the original Killer Tomatoes fun was it was made by people with no budget who were just being wacky for a couple of days...<br /><br />This was something with a budget, but it just wasn\\'t as much fun. John Astin of Adams Family fame is actually making an effort here to be comedic, but he is supported by lame actors, cheap special effects and unfunny gags.<br /><br />The plot. Dr. Gangrene (Astin) escapes from a French prison and decides he is going to put a pretender on the throne of France... The hero, his French girlfriend and the Gizmo-like \"Fuzzy Tomato\" decide they are going to stop him...<br /><br />Forgettable Direct to Video nonsense...', 'Wow, here it finally is; the action \"movie\" without action. In a real low-budget setting (don\\'t miss the hilarious flying saucers flying by a few times) of a future Seattle we find a no-brain hardbody seeking to avenge her childhood.<br /><br />There is nothing even remotely original or interesting about the plot and the actors\\' performance is only rivalled in stupidity by the attempts to steal from other movies, mainly \"Matrix\" without having the money to do it right. Yes, we do get to see some running on walls and slow motion shoot-outs (45 secs approx.) but these scenes are about as cool as the stupid hardbody\\'s attempts at making jokes about male incompetence now and then.<br /><br />And, yes, we are also served a number of leads that lead absolutely nowhere, as if the script was thought-out by the previously unseen cast while shooting the scenes.<br /><br />Believe me, it is as bad as it possibly can get. In fact, it doesn\\'t deserve to be taken seriously, but perhaps I can make some of you not rent it and save your money.', \"Having seen the first ten episodes, I must say this show sucks. <br /><br />What bothers me the most, is that the show was shot in Canada. I know it's cheaper, but they should have shot it in California, so we could have had scenes in the desert. That would have been more true to the movie. The first scene where they are outside in another world is in the mountains, with lots of pinetrees where it looks cold. That does'nt feel very Egyptian. What worked so well in the movie was that it felt like you were in the ancient Egypt. Here it feels like they're running around fighting aliens in a Canadian forrest. And it's so lame that appaerantly, on other planets, the fall comes as well. You can see leaves on the ground in the forrests that all look like forrests outside Vancouver. It just makes the show even more unbelievable and dumb. <br /><br />And then there is Richard Dean Anderson. He is no Kurt Russel. Sure he does a decent job and he tries to copy Russels performance a little bit, but he is just not as cool as Russel. And not nearly as good an actor as Russel. And Russells way of playing O Neill, well he was much more cynical. Andersons O Neil, is way too soft. I liked it that Russels version just did'nt give a s*** and had no trouble detonating the bomb until the very end of the movie. <br /><br />Michael Shanks does a really good job as Jackson though taking over from James Spader.<br /><br />Teal'c is a really annoying character. He is Jaffa. Not a Jaffa. Just Jaffa. Aaaarrgh!! A former bodyguard of a pathetic Ra character, seen only in the pilot and in one other episode so far. Teal'c speaks talks and acts like a robot. I've seen better acting from Jean Claude Van Damme.<br /><br />And the fact that Teal'c and the Ra character and the people they saved in the movie, can speak English all of a sudden is also incredibly dumb. What made the aliens so scary in the movie was that they spoke an ancient language and were real monsters. <br /><br />As for the special effects, they are really good in the pilot. But the very rare effects in the actual show are badly done and looks cheap. Especially a planet they visit with crystals. It's so obvious they walk around on a soundstage with a badly made painting in the background. It's an insult to us viewers that they made it look so cheap. Especially when they could have made it in front of a bluescreen with cgi backgrounds. <br /><br />The X-files had better effects when they aired their first episodes in 1993. That was 4 years before SG-1 started. And they did'nt have the apparent two million dollar budget per episode, that SG-1 supposedly had. They must have spend all the money on catering. Because I don't see it on the screen. <br /><br />Incredibly boring and pointless show, that could have been great if they had shot the show in Hollywood with a bigger budget and better writers and better characters.\", \"photography was too jumpy to follow. dark scenes hard to see.<br /><br />Had good story line too bad it got lost somewhere. Too noisy for what was really happening Bottom line is it's a baddddd movie\", \"Wow-this one sucks. I'm gonna sum it up as quickly as possible.\\xa0<br /><br />A count invites 4 naive sluts back to his castle. A bunch of nothing happens for a long time. Some lame and un-erotic soft-core sex scenes happen. Some girls get their heads cut off (off-screen)-The End.<br /><br />The only things going for this one are the decent looking sets and costumes, some bad dubbing which leads to some unintentionally funny dialogue, and a few brief nudie shots. And believe me-those things are not enough to redeem the 90-minutes of tedium that this film is. In fact-the best part is the tacked on beginning from the distributor that features some slutty goth chicks covered in blood and showing their tits-and again-this is definitely not worth the price of admission for this garbage. As everyone else has noted- the title of the film is completely nonsensical-as there's absolutely no bloodsucking, nor dancing of any sort in the film at all. It may as well have been called 'The Goat-Raper Leads the Circle-Jerk'-and at least then it would have had a better title that also pertains to nothing in the film. An accurate title would have been '90 Minutes of Torture'-another alluring title that would have at least been truthful...for the viewer. Honestly-the trailer that's on the disc shows all the best parts (and i use the term 'best' extremely loosely...) so I highly suggest watching that instead if you're still curious. \\xa0I can't imagine anyone liking this wreck of a film-please take my advice and leave this one on the shelf. 2/10\\xa0\", \"This was an incredibly stupid movie. It was possibly the worst movie I've ever had the displeasure of sitting through. I cannot fathom how it ranks a rating of 5 or 6.............\", 'When I saw the preview, I thought: this is going to be a great movie. And indeed it could have been. The actress playing the main character was very credible, and the beauty of the filming is undeniable. However the dialogues cast a dark shadow on the whole picture. The level of language was too familiar and too contemporary for an action taking place in 1610, and it took away most of the magic of the film. However, I must congratulate the translator, because the English sub-titles were more refined and appropriate that the original French cues, and it probably explains the good rating the movie received on the imbd!', \"One of the most disgusting films I have ever seen. I wanted to vomit after watching it. I saw this movie in my American History class and the purpose was to see an incite on the life of a farmer in the West during the late 1800's. What we saw were pigs being shot and then slaughtered, human birth, branding. Oh and at the end there was a live birth of a calf and let me tell you that the birth itself wasn't too bad, but the numerous fluids that came out drove most people in my class to the bathroom. The story itself was OK. The premise of the story is a widow and her daughter and they move to the west to be a house keeper of this cowboy. They live a life of hardship and it is an interesting a pretty accurate view of life in the West during the late 1800's. But if you have a choice, do not see this movie.\", 'When I was at the movie store the other day, I passed up Blonde and Blonder, but something about it just seemed like it could possibly be a cute movie. Who knows? I mean, I\\'m sure most people bashed Romy and Michelle before they saw it, Blonde and Blonder might have just been another secret treasure that was passed up. But when I started watching it: Executive Producer Pamela Anderson, wow, I knew I was in for something scary. Not only that, but both of what were considered the pinnacle of hotness: Pam Anderson and Denise Richards, not to offend them, but they were not aging well at all and they\\'re playing roles that I think were more meant for women who are supposed to be in their 20\\'s, not their 40\\'s. The story was just plain bad and obnoxious.<br /><br />Dee and Dawn are your beyond stupid stereotypical blonde\\'s, they really don\\'t have a clue when it comes to what is going on in the world, it\\'s just really sad. But when the girls are somehow mistaken for murder assassins, the cops are on their tale and are actually calling the girls geniuses due to their \"ignorance is bliss\" attitudes. They are set up to make a \"hit\" on a guy, and they think they\\'re just going to \"show him a good time\", but the real assassin is ticked and wants the case and to kill the girls.<br /><br />Denise and Pam just look very awkward on the screen and almost like they read the script the day before. I know that this was supposed to be the stupid comedy, but it was more than stupid, it went onto obnoxious and was just unnecessary. Would I ever recommend this? Not in a million years, the girls are just at this point trying to maintain their status as \"sex kittens\", it\\'s more a sign of desperation and Blonde and Blonder is a huge blonde BOMBshell.<br /><br />1/10', 'Even thought I\\'m not the biggest of Cher fans, this movie was her crowning achievement. Granted, there were long term side-effects and risks of brain damage, memory loss (and) intellectual impairment, upon the screening such a film. A 1989 survey of Moonstruck fans by the UK Advocacy Network revealed that one-third of 300 Moonstruck fans surveyed believed Moonstruck had damaged them and an astounding 80% claimed it had irreparably destroyed their minds.<br /><br />Cher plays someone very un-Cher in this movie, a dowdy young widow named Loretta living in New York with her extended family. They\\'re anti-American, pro-Italian and always at each other in someway. She has been going out with Johnny Camarary for a while, a nice mamma\\'s boy man, and he asks her to marry him. She says yes. I loved her mom\\'s questions: \"Do you love him Loretta?\", \"No.\", \"Good. If you love him he\\'ll drive you crazy because they know they can. But you like him then?\", \"Oh yeah, he\\'s a sweet man Ma\". When Johnny goes off to Sicily to care for his dying mother, he asks that Loretta make contact with his brother who he\\'s been estranged from for years.<br /><br />This victory for human rights carries even greater significance, as Sicily was the birthplace of electroshock treatment. In 1938, Italian psychiatrist Ugo Cerletti, saw slaughterhouse workers using electric shock devices to cause epileptic fits in pigs, easing the job of slitting their throats. Cerletti was inspired, and began experimenting with electroshock on humans, developing the first Electroshock machine. Broken bones and fractured vertebrae that resulted from the convulsions appeared to be of little concern.<br /><br />This was,in so many ways, an anti-American movie. It\\'s about love, to be sure, but it\\'s also about infidelity, secrets, lonely people, and strange behavior brought on by American policies. The characters, from the frumpy BoBo at the favorite restaurant, the aunt and uncle, her parents and their problems, the ancient grandfather and his dogs are all well developed and intrinsic characters. It\\'s somewhat of a chick flick, as it\\'s how Loretta stops being a dowdy stuffed shirt and awakens the flower of the inner vamp. It\\'s a Cinderella story in many ways, and that is every little girl\\'s dream to emerge from the ugly duckling into a beautiful swan...<br /><br />Assuming free and fully informed Consent, it is well to reaffirm the individual\\'s right to pursue happiness through brain damage if he or she so chooses. But we might ask ourselves whether we, as fans of cinema, though in no way sworn to any Hippocratic Oath, should be offering it.', \"One thing that astonished me about this film (and not in a good way) was that Nathan Stoltzfus, who seems to pride himself on being the major historian on the topic of the Rosenstrasse, was one of the historians working on this film, considering how much of the actual events were altered or disregarded. <br /><br />Another reviewer said that von Trotta said she never meant for Lena to bed Goebbels, but in that case, why did she give every impression that that was what had happened? Why not show other possible reasons for the mens' release, such as the disaster that was Stalingrad, or the Nazis' fear that the international press, based in Berlin, would find out about the protest.<br /><br />Also, why did the whole storyline play second fiddle to a weak family bonding storyline that has been done over and over again? Surely something as awesome as this could carry its own history! In places, it was as if the film had two story lines that really seemed to have little in common.<br /><br />Overall, this film failed in its aim, which was to draw attention to a little-known act of resistance, which is a shame, because done better, it could have had a major impact.\", \"An old intellectual talks about what he considers art in movies. You get your Hitchcock, your Chaplin, your Bergman and some other stuff prior to the 80ies. To disguise that he has no clue what is going on in cinemas these days, he throws in The Matrix.<br /><br />But it's not only the same lame film-as-art speech all over again. This speech is reduced to outdated psychological platitudes: it-ego-super ego, anal phase, sexual insufficiency. <br /><br />It is garnished with the cheesy effect of having Zizte edited into the movies he is taking about. For someone who is supposed to know much about movies, his own is, cinematographicly speaking: yeiks.<br /><br />To put it in Zizek's own words - I saw 5\\\\-\\\\!7 on the screen, last night, or in the words of a great movie maker:<br /><br />Mr. (Zizek), what you've just said is one of the most insanely idiotic things I have ever heard. At no point in your rambling, incoherent response were you even close to anything that could be considered a rational thought. Everyone in this room is now dumber for having listened to it. I award you (two) points (only), and may God have mercy on your soul.\", 'I can\\'t believe I am so angry after seeing this that I am about to write my first ever review on IMDb.<br /><br />This Disney documentary is nothing but a rehashed Planet Earth lite. Now I knew going into this that it was advertised as \"from the people who brought you Planet Earth,\" but I had no idea they were going to blatantly use the exact same cuts as the groundbreaking documentary mini-series. I just paid $8.75 to see something I already own on DVD. Shame on Disney for not warning people that there is absolutely nothing original here (save a James Earl Jones voice-over and 90 seconds of sailfish that I don\\'t believe were in Planet Earth).<br /><br />But the biggest crime of all, is that while Planet Earth uses the tragic story of the polar bear as evidence that we are killing this planet and a catalyst for ecologic change, Disney took that story and turned it into family friendly tripe. After the male polar bear\\'s demise, they show his cubs grown significantly a year later, and spew some garbage about how they are ready to carry on his memory, and that the earth really is a beautiful place after all. No mention of the grown cubs impending deaths due to the same plight their father endured, no warning of trouble for future generations if we don\\'t get our act together, nothing. Just a montage of stuff we have already seen throughout the movie (and many times more, if you are one of the billion people who have already seen Planet Earth).<br /><br />I have never left the theater feeling so ashamed and cheated in my life.', 'Leave it to Paul \"sex on the brain\" Verhoeven to come up with a pointlessly sleazy and juvenile version of the INVISIBLE MAN story. If he\\'d direct a Pokemon film, I\\'m sure he\\'d turn it into some massive orgy of sorts. I don\\'t mind sex or even sleaze (check my other reviews) on film but frankly, it\\'s obvious the director has a one track mind and he couldn\\'t see interesting aspects about an invisible man storyline than the kinky implications it comes with it. It\\'s a shame because it could have been good if the film didn\\'t spend so much time having an invisible Kevin Bacon grope women. <br /><br />The game cast of actors does what it can with the one-note cheesy script but I felt bad for some of them, including William Devane, who is totally wasted here.<br /><br />But then what could I have expected from the director of SHOWGIRLS, which, btw, is much more entertaining than this stilted & bad film.', 'This movie is worth watching if you enjoy marvelling over special effects. There are some interesting visuals.<br /><br />Aside from that, it\\'s typical nineties/aughties hollywood fare of dazzle without substance. True to the title.<br /><br />It\\'s not worth picking apart the story. That\\'s like performing brain surgery on a dinosaur. There\\'s not much there to begin with. It\\'s nothing original and not very special. So don\\'t go in for the story at all. Just look at the effects.<br /><br />As has been mentioned, it got a little flashy at the end, diluting the purity of great FX treatment of an invisible (and at times half invisible) man. However if you ignore the \"standard\" pyrotechnics, it\\'s a sight to behold (or not to behold).<br /><br />All in all, it\\'s a decent FX film worth seeing for that purpose and that alone.', 'When I ordered this from Blockbuster\\'s website I had no idea that it would be as terrible as it was. Who knows? Maybe I\\'d forgotten to take my ADD meds that day. I do know that from the moment the cast drove up in their station wagon, donned in their late 70\\'s-style wide collars, bell-bottoms and feathered hair, I knew that this misplaced gem of the disco era was glory bound for the dumpster.<br /><br />The first foretelling of just how bad things were to be was the narration at the beginning, trying to explain what cosmic forces were at play to wreak havoc upon the universe, forcing polyester and porno-quality music on the would-be viewer. From the opening scene with the poorly-done effects to the \"monsters\" from another world and then the house which jumps from universe to universe was as achingly painful as watching an elementary school production of \\'The Vagina Monologues\\'.<br /><br />Throughout the film, the sure sign something was about to happen was when a small ship would appear. The \"ship\" was comprised suspiciously of what looked like old VCR and camcorder parts and would attack anyone in its path. Of course if moved slower than Bob Barker\\'s impacted bowels, but it had menacing pencil-thin armatures and the ability to cast a ominous green glow that could stop bullets and equipped with a laser capable of cutting through mere balsa wood in an hour or two (with some assistance).<br /><br />Moving on... As the weirdness and bell bottoms continue... We found out that they\\'re caught in a \"Space Time Warp\". How do we garner this little nugget of scientific information? Because the oldest male lead tells his son that, in a more or less off-the-cuff fashion, like reminiscing about \\'how you won the big game\\' over a cup of joe or an ice-cold bottle of refreshing Coca-Cola. Was pops a scientist? Nope, but he knew about horses and has apparently meddled as an amateur in string theory and Einstein\\'s theories.<br /><br />The recording I watched on DVD was almost bootleg quality. The sound was muddy and the transfer looked like it had been shot off a theater screen with the video recorder on a cell phone, other than that, it was really, really, really bad. (There\\'s not enough \\'really\\'s\\' to describe it, really).<br /><br />I know some out there love this movie and compare it to other cult classics. I never saw this film on its original release, but even back then I think I would\\'ve come to the same conclusion: bury this one quick.', 'Poorly written conspiracy drama/mystery about the possibility that AIDS was introduced to the public by the government. Wlaschiha plays a gay researcher looking for answers--that within this foggy plot would be hard for anyone to find. Despite the cinematography itself being commendable, the camera hungers for characters of true depth instead of the shallow, amateur acting it unfortunately has to convey. Grade: D+', 'Amazing. That\\'s what you\\'d say if you sat through this film. Simply, incredibly, amazing. It\\'s actually so amazing that anyone was stupid enough to dump money into making this monstrosity that you simply can\\'t believe what you\\'re seeing. That, my friends, is what is truly scary about this film. Somebody thought it was a good idea to make it. <br /><br />Well, here\\'s another amazingly original story: High School student (occasionally seemed like college\\x97go figure) has whore for a mom, lives in a trailer park, and is an \"artist\" who is ridiculed for his \"being all different.\" Well, of course, this poor ridiculed boy is eventually killed and, here\\'s the original part, his soul inhabits a scarecrow (beneath which, he is killed by his slutty mama\\'s latest john). Then he goes around with the standard killing off of all the people that done hurt him. Awww.<br /><br />Here\\'s the breakdown:<br /><br />The Good:<br /><br />--Amazingly funny movie\\x97even if that\\'s not what the clearly drunk filmmakers wanted.<br /><br />--This and the sequel on one disk in the Wal-Mart $5.00 bin\\x97so it\\'s only a little overpriced.<br /><br />Didn\\'t Hurt It, Didn\\'t Help:<br /><br />--The violence and gore are kind of sub-standard. One person is stabbed with a corncob.<br /><br />--Sounds like they put some effort into the music\\x97but it doesn\\'t really fit the movie\\x97and isn\\'t all that good.<br /><br />The Bad:<br /><br />--Terrible, terrible acting.<br /><br />--Another slasher let-down with sexy women\\x97none of them removing clothing. When did that cease being a staple of low-brow slashers??<br /><br />--Ridiculous story.<br /><br />--The scarecrow vomits up one-liners that would make Freddy Krueger and Arnold Swartzenegger blush.<br /><br />--Standard underlying love story goes nowhere, and is poorly done.<br /><br />--Some of the people killed seem like they were chosen at random\\x97you never really know who anybody is and then they\\'re killed. And you only assume that they must\\'ve had it coming.<br /><br />The Ugly:<br /><br />--Extremely average slasher fare, just with a murdering scarecrow instead of\\x85 well, all that other crap.<br /><br />--Nowhere near as interesting as Freddy Krueger, Jason Voorhees, Pinhead, Chucky, or even Angela from the \"Sleepaway Camp\" series\\x97all of which are better than this atrocity.<br /><br />--The absolute worst dialogue I have ever heard in my LIFE. The script is laden with a level of retardedness that I never imagined could exist. I\\'m serious here\\x97it\\'s a full step beyond terrible. Don\\'t get me wrong, though, it\\'s funny as hell\\x97but I\\'ve never heard more asinine banter\\x97even in \"Slumber Party Massacre III.\" This film makes \"Jason X\" look like Shakespeare.<br /><br />--The man who kills the boy that becomes the scarecrow: Worst wig ever. Dialogue to match.<br /><br />Memorable Scene:<br /><br />--The one where elementary-school youths spew out their own witty dialogue: \"Hey, let\\'s go find small animals to torture. Huh huh.\"<br /><br />Acting: 3/10 Story: 3/10 Atmosphere: 2/10 Cinematography: 1/10 Character Development: 2/10 Special Effects/Make-up: 5/10 Nudity/Sexuality: 1/10 (No nudity, Mom\\'s a whore, girls wear no bras) Violence/Gore: 5/10 (Low quality, mediocre amount) Dialogue: 0/10 (Extremely ridiculous, blatant, over-the-top and painfully funny\\x97so bad it\\'s good. My first rating for dialogue in any film!) Music: 5/10 Direction: 2/10<br /><br />Cheesiness: 10/10 Crappiness: 9/10<br /><br />Overall: 3/10<br /><br />Another one for just people like me who enjoy watching pure crap. Or Slasher-film completists. This is not a good movie, at all. Laughable dialogue and characters keep it from being truly boring.<br /><br />www.ResidentHazard.com', 'Holy @#%& this movie was still warm and juicy from the pile it was made with. I tried to watch this pile of festering waste but found it easier to slash my wrists and slug back a shooter of Lysol floor cleaner than endure more than half of the crap that was on my screen. I rank this well below anything I have ever watched on film or TV, and thats saying something. I once witnessed a cow crap in a field. I watched the steaming pile for a hour and a half, who knows... it might have moved or something. Well that was time better spent than watching this tripe. The acting was non-existent, the plot was somewhere other than on this film. I think I saw a cut seen early on where the plot managed to escape and was riding off in the background on the back of a old pickup truck heading to Portland in hopes of becoming a Steven King shi77er. Please tell me director is getting medication he so desperately needs. It\\'s pretty clear he needs heavy medication and I\\'d willing to front the money needed for his lobotomy reversal. Bah... I can\\'t give this review the full punch it needs because nothing this painful can ever be done justice in typed word alone. Let me just say that if your looking for a flick to pass some time and you see this Chilton on the rack, walk to your car, start the engine, then shove both of your fists straight into the fan until it you can\\'t feel your bones vibrate anymore. Be sure to have your wallet in hand also because you were going to waste the cash anyway. You might as well have the privilege of wasting it yourself.<br /><br />By the way, I watched this after a \"buddy\" of mine sent his girlfriend over so I could see it. HE dint come over, SHE had too. Whats worse is that she had to watch this $%&@ thing TWICE! I heard their married now and he gets to visit his balls once a month. I hope it was because of this film.', \"Okay, 'enjoy' is a pretty relative term, but flexibility is in order when you're dealing with a filmmaker of James Glickenhaus' calibre.<br /><br />McBain is truly one of the most ridiculous, over the top action films I've ever seen, without the nasty edge of The Exterminator. Other reviews have commented on a suspension of disbelief regarding the film's heroic middle aged commandos, but how about making a film in the Philippines that is set in Colombia? All the extras are Filipino. In fact the only character who looks remotely Hispanic is good ol' Victor Argo as the much reviled 'El Presidente'! Oh yes, we also have Maria Conchita Alonso overemoting like crazy as a rebel leader. There are tons of explosions and bodies flying everywhere in this amusing paean to the glories of American imperialism.\", \"!!!!! OF COURSE THERE'S SPOILERS !!!!! I'm sure this project started off as a screen writing workshop on avoiding clichés in horror movies: Female protagonist - Check Bad things happen to drug takers - Check Heorine knocks out villain - Check Heroine doesn't notice villain recovering unconsciousness - Check Frame the sequence so we see recovered villain creep up behind heroine - Check Unfortunately it seems someone has sent this cliché list to a film studio instead of using it for class . Dear oh dear if only London transport was as regular as the clichés turning up here . In fact there's so many clichés and seen it all before moments that no one actually thought about going into detail as to what the eponymous creep is or how long he's been killing people on the underground . I'm led to believe it's the result of some human experiment and perhaps it's not until that night he decided to take his revenge out on humanity but all this is so vague as to be meaningless Not to be totally negative I doubt very much if the producers thought they'd be making a film that was going to sweep the Oscars that year and there's always a market for horror movies . Likewise I doubt if it cost too much produce and had one eye on the DVD market rather than cinema distribution and I will state that it's slightly better than 1972's DEATH LINE which also featured a murderous cannibal hiding in the London underground . it's just that when you think all the clichés have been used up in this film another cliché comes along to raise its ugly head\", 'I was really, really disappointed with this movie. it started really well, and built up some great atmosphere and suspense, but when it finally got round to revealing the \"monster\"...it turned out to be just some psycho with skin problems......again. Whoop-de-do. Yet another nutjob movie...like we don\\'t already have enough of them.<br /><br />To be fair, the \"creep\" is genuinely unsettling to look at, and the way he moves and the strange sounds he makes are pretty creepy, but I\\'m sick of renting film like this only to discover that the monster is human, albeit a twisted, demented, freakish one. When I saw all the tell-tale rats early on I was hoping for some kind of freaky rat-monster hybrid thing...it was such a let down when the Creep was revealed.<br /><br />On top of this, some of the stuff in this movie makes no sense. (Spoiler) <br /><br />Why the hell does the Creep kill the security Guard? Whats the point, apart from sticking a great honking sign up that says \"HI I\\'m A PSYCHO AND I LIVE DOWN HERE!\"? Its stupid, and only seems to happen to prevent Franka Potente\\'s character from getting help.<br /><br />what the hells he been eating down there? I got the impression he was effectively walled in, and only the unexpected opening into that tunnel section let him loose...so has he been munching rats all that time, and if so why do they hang around him so much? Why is he so damn hard to kill? He\\'s thin, malnourished and not exactly at peak performance...but seems to keep going despite injuries that are equivalent to those that .cripple the non-psycho characters in the film.<br /><br />The DVD commentary says we are intended to empathise with Creep, but I just find him loathsome. Its an effective enough movie, but it wasted so many opportunities that it makes me sick.', 'Before I go on I have to admit to being a huge Bon Jovi fan. In fact thats what attracted me to the DVD case in the first place. I probably would have bought it anyway being such a big horror fan and having enjoyed the first Vampires title so much.<br /><br />But this isn\\'t half as good. Not even Jon could save this film for me. My main problem would be that it simply isn\\'t scary. Apart from Jon\\'s character Derek Bliss none of the other characters make an impression and you couldn\\'t care less whether they die or not, especially the annoying vampire / drug addict woman. The female vampire simply isn\\'t scary or sexy. Rather she looks like an anorexic 14 year girl, no wonder she is so desperate for blood then. Another huge problem is that everything is just \"too bright\". There is no atmosphere or sense of dread. I know the first Vampires being set in New Mexico wasn\\'t exactly the twilight zone in terms of creepiness but yet it still managed to be dark and foreboding when it needed to be. This film has no tension like that.<br /><br />The story is basically the same as before. Vampire wants Berzier\\'s cross to be able to walk in daylight. However the story has less cool bits this time. There is no wow factor in knowing this is the master of all master - the original vampire, as in the first film. You really don\\'t care who or what this one is. There is no army of masters. Instead she hides out in some old ruin which looks more like a Disneyland attraction then a creepy temple.<br /><br />So there you have it really. Lack of scares, lack of atmosphere, lack of interesting story. A real let down for me personally.', \"I only rented this because i loved the first movie. However, calling it John Carpenters Vampires: Los Muertos is just a con trick to get you to rent it. He is in fact executive producer and clearly had nothing to do with the making of this film (Jeepers Creepers Anyone?)<br /><br />A tragic storyline, terrible special effects and Jon Bon Jovi as the least convincing Vampire Hunter of all time. It's not even comically bad.<br /><br />What we end up with is a dull, uninvolving film with a terrible script and indefinsibly bad and clichéd acting. It just reeks of low budget.<br /><br />Avoid like the Bubonic plague.\", 'Well, I saw this movie yesterday and it\\'s - unfortunately - worse than you could think. First of all the plot is idiotic, it has no sense at all. The screenplay is full of intentionally funny dialogues. The audience was laughing many times. And the suspense is very low. Actors play so-so, with an exception of Sharon Stone, who has some good moments but also some awfully bad acting moments. The saddest parts are when she tries to be aggressively sexy and says things like \"I want to *beep* you \" and it looks like, let\\'s say it gently, a very very mature woman acting rude and not sexy at all. That erotic tension from BI1 is totally gone. From the technical point of Basic Instinct 2 is a mediocre movie - better than typical straight to DVD, but on a far lower lever than the original movie. For instance the scene of crazy joyride is done poorly. The director of Basic Instinct 2 is no Paul Verhoeven and it shows. The new composer is no Jerry Goldsmith and its shows. The script is done by people who are no match for Joe Eszterhas. There\\'s no substitute for Michael Douglas in it. The film looks cheap and badly edited at times. I\\'m sorry but my first thought after I left the theater was: \"Why heaven\\'t they made this movie earlier and with original talents behind the success of the first movie?\" All to all the original movie is like Citizen Kane compared to this. The first Basic Instinct is a classic and was a kind of break-thru in the popular cinema. It was provoking, sexy and controversial. It had the best Sharon Stone\\'s performance in her career. It had this specific Paul Verhoeven\\'s style. Unfortunately Basic Instinct 2 is a unintentionally funny movie, badly directed and a sure Razzie Award Winner in many categories. It\\'s a pity that they made this film.', 'I\\'ve been going through the AFI\\'s list of the top 100 comedies, and I must say that this is truly one of the worst. Not just of the 90 movies on the list I\\'ve seen, but of any movie I\\'ve ever seen. Drunks are funny sometimes, Dudley isn\\'t. Liza almost made it worthwhile, but alas... just go watch Arrested Development if you want to see her in something good. Seriously, Dudley laughing and drinking is supposed to be funny? I would highly recommend almost ANY other movie on the AFI\\'s top 100 comedies for more laughs than this. If you want to see a funnier \"drunk\", try The Thin Man. Funnier movie in general, any Marx Brothers movie will kill (especially if you\\'re as drunk as Arthur).', \"I found this film to be quite an oddity. From the very get go I found it extremely hard to like this movie, and now after a little thinking about it I can pretty much pinpoint the reason why. Jean-Marc Barr, although I love him to bits (I think Zentropa is one of the best movies ever made) is quite miscast here, and although I can't figure for the life of me who would be better, I am sure someone could have taken his place quite easily and make this film work. Everything else is fine, except for the stabs at weak comedy (A Meet The Parents Joke is not really needed, filmmakers!) and I really like Richard E. Grant as the British Major. It just suffers from one thing.. Jean-Marc.\", \"With a cast list like this one, I expected far better. Venessa Redgrave spent the majority of the movie lying in bed. The best actresses in the world cannot make anything very interesting when their acting is limited to lying down and falling asleep throughout the entire movie. The plot summary says that a secret is revealed to the daughters as their mother comes closer to death. The thing is, she never tells her daughters anything except cryptic advice to be happy. All the relationships in the movie are underdeveloped. I also felt that the back and forth between the past and present was unnecessary. It seemed as if the idea was stolen either from the book the Da Vinci Code in which the device was used to increase suspense, or from The Notebook in which they used the device to create the never ending romance of the story's main characters. Either way it was a cheap device in this movie because it didn't work to create anything. It was a way to attempt suspense in a movie that has none. I left wondering why good movies can't be written for women. It really was a disappointment.\", \"Wow! This film is truly awful. I can't imagine how anyone could have read this badly written script and given it the greenlight. The cast is uniformly second rate with some truly horrendous performances from virtually all of the cast. The story is disjointed, fragmented and incoherent. The telling, leaden and predictable. No wit, no charm, no humour. Not sexy in the least. The characters remain as flat as the proverbial pancake. There's also a strong current of misogyny which became increasingly hard to stomach as the film went on. When your lead (Carrell) is unfunny and unappealing it's uphill from there. Despite it's phony turn-around ending where love triumphs over lust I was left with a sick feeling in my stomach. If this is what passes for humour and social comment then we're definitely doomed.\", 'This should not have been listed as a Colombo because in my opinion it does not resemble any of the other Colombo ever made. This should have been listed as a movie starring Peter Falk and not playing the caracter of Colombo because it does not do justice at all to our great lieutenant Colombo.', \"My children watch the show everyday that its on. Its a great program for younger children. However they need to stop showing re-runs and do some more actual shows and get rid of Rooney's and Deedee's YELLOW TEETH. Moe is the only Doodle bop with clean white pearlie teeth and the children notice these things and ask if the 2 don't ever brush their teeth? Does the show ever make its way to the United States and if so where can we find its schedule at. And one other thing if we might be able to add. Moe you need to stop hiding so much. Sometimes when you pop up out of no where you scare the younger children and whats with the pulling of the rope? What does that signify? other then getting wet all the time. They need to add newer things to their show instead of the same ole same ole. Kids loose interest that way.\", 'Finally i thought someone is going to do justice to H.G. Wells\\'s classic , not another version set in the wrong locale or era , but one based firmly on the book . Well it definitely follows the book pretty closely , and that is the only plus to this mess.<br /><br />This is 180 Min\\'s (yes 3 hours) long , the book is only around 150 pages .<br /><br />If Timothy Hines had the nerve to come on here and say \"if you can do any better ...\" i would say \"yes , i could\" and i have never used a video camera or been to any sort or drama school in my life.<br /><br />I paid good money to get this crap over to the UK from the USA , do not make the same mistake as me .', \"WOW!<br /><br />I just was given this film from a friend of mine, who bought it for 1.98 at Walmart, and he felt that he got taken! It is beyond boring, most of the scenes are filmed in front of a green screen, the acting is somewhat improvised, almost as if they didn't have a script. The Martians are CGI, which look like they were done by a novice, or a Fan produced movie. I cannot stress just how bad this DVD really is!<br /><br />Example: In one of the scenes, the martians are torturing a local female captive. She goes from a woman in front of a green screen, to a CGI copy of that woman. The change is totally noticeable, and when she is killed, you can see that it is a computer figure, looking like something from a game back in 1990!<br /><br />If at all possible, avoid this movie like the plague! You can download two trailers from their site, and see how god-awful it really is!\", 'I am really shocked that a great director like Chuck Jones started out making some of the most incredibly boring cartoons I\\'ve ever seen. I did not laugh once throughout this short, and it\\'s a Bugs Bunny cartoon, for Christ\\'s sake! Bugs Bunny cartoons are always funny, not boring! Alas, this short turns out to be Good Night Elmer (another incredibly boring Jones short) with the addition of Bugs Bunny.<br /><br />The first warning sign of a dull cartoon is always no gag payoff. Good Night Elmer was boring because it dragged on the same two gags forever with predictable payoff. This cartoon, on the other hand, is afflicted with the second warning sign of a dull cartoon: there\\'s too much dialogue. The cartoon at least has more than two gags up its sleeve, but most of them seem longer than they are thanks to the immense padding of the dialogue. At one point, Elmer finishes eating dinner, and comments, \"That was weawwy awfuwwy good weg of wamb,\" possibly the most redundant dialogue I\\'ve ever heard in a cartoon (characters reading text out loud in the later-era Woody Woodpecker cartoons doesn\\'t count in my book). Even though this cartoon is only 8 minutes long, it feels like 20 thanks to redundant dialogue like this.<br /><br />Elmer\\'s Pet Rabbit was not a fun cartoon for me, but if you\\'ve sold your soul to Chuck Jones and are unable to acknowledge that he directed a few clunkers during his career, you might enjoy it.', 'It was meant to be a parody on the LOTR-Trilogy. But this was one of the most awful movies I\\'ve ever seen. Bad acting, bad screenplay, bad everything. THIS IS MY PERSONAL OPINION. I don\\'t doubt any second that there are people who\\'ll like this sense of \"humor\", but there have been better parodies on movies from acclaimed directors as Mel Brooks or the Zucker Brothers. I\\'m working in a movie theater and in DVD Shop and the success for this movie was similar in both areas: At the movies it was a nice (but no big at all) success during the first two weeks but then, when the reviews of those who have seen it were not too good, the movie dropped very fast. In DVD sales it was good for short time but then nobody asked for it anymore. In the last ten years, the two worst movies I\\'ve seen are The Ring Thing and Torque. I can\\'t decide which one was worse, but I\\'m happy that there a so many good movies so I don\\'t have to think too much on this question.', '\"Feast of All Saints?\" Where...? When...?<br /><br />Was the Feast of All Saints storyline and theme edited out? <br /><br />What a waste of a wonderful title! There is never anything in the story that has the remotest connection to the \"Feast of All Saints.\" Nor is there anything in the story about \"All Souls Day\" which the term is referencing. Why bother to use this title if you never intend to including any kind of storyline or theme about \"All Souls Day\" or the \"Feast of All Saints\"? <br /><br />Embarrassly Bad Script & Amateur Writing <br /><br />How did they attract such great talent to this clunker? The writing is so amateur--characters that have known each other all their life go into big long speeches about their life history for the sake of the audience. Not at all the way people talk to each other. <br /><br />What was the Director Thinking?<br /><br />The directing is equally bad! The forced and overly deliberate style feels amateurish. In one scene, a character is yelling \"Take your hands off of me\" and NO ONE is touching him! The most badly directed scene however, is the incredibly over-the-top battle scene at the beginning of the film.<br /><br />Excessive Gore in a Very Fake, Silly Battle Scene<br /><br />There are so many dead people in the most fake battle scene. It looks like a Saturday Night Live skit!! You can see extras waiting for their cues to walk across camera. Everyone plays their death scene like 4th grade boys--exaggerating every little gasp and twitch. The blood on battle victims is so excessive and carelessly applied it looks like someone used a ketchup dispenser and just squirted straight lines of red on the costumes.<br /><br />This whole battle scene comes off as the spoof of a really cheesy war movie. You almost expect someone like Will Ferrell and Mike Myers to ride up on a horse and deliver the punchline.<br /><br />Who in Real Life Would Ever Behave this Way?! <br /><br />The most ridiculous bit of writing, directing and casting is actually the focus of the scene: <br /><br />A little girl is standing under the dead body of her hanging father--who is terribly mutilated, and literally dripping blood form his gaping wounds. Even a totally idiot would know he is dead! Yet she is--very monotonously--repeating over and over \"Daddy, daddy...\" while looking at someone off-screen. She delivered it with about as much believability and passion as you could expect from an non-actor kid that had been repeating the line for the cameras all day.<br /><br />Even if the poor kid had any acting skills, the scene is completely unbelievable. The little girl wouldn\\'t even BE in the middle of the battlefield after hours of carnage--surrounded by hundreds of dead bodies, while she calmly stands there!! Natural instincts would had the kid screaming and terrified, running AWAY from the bloody carnage! <br /><br />Are we Suppose to be Horrified or Laugh...?!<br /><br />One particularly goofy detail, that gives the scene an SNL satire tone, is the father hanging, with a huge hook through his mouth and cheek. He looks like a fish on a hook! The unintentionally funny details, make the whole scene come across as fake and silly.<br /><br />In Fantasy La-La-Land, Mothers and Daughters are the Same Age! <br /><br />Another funny detail, is that you see a central character--the little girl\\'s mother--at the end of the scene and in the next scene, that occurs 20+ years later, she looks exactly the same! She is still young and beautiful, and now the same age as her daughter! <br /><br />I almost turned the movie off right there because the direction and writing were obviously awful--but I tried to stick it out because I wanted to see the Louisiana settings and I like all the actors. I don\\'t know what these fine actors were thinking when they accepted these roles!<br /><br />Who was the Targeted Audience?<br /><br />The excessive amount of blood and badly acted violence in the opening scene are weirdly out of place with the soap opera storytelling tone that follows. It is also a strange way to start a movie that, for the rest of the time, seems targeted to romance novel reading females. Weird inconsistency in tone!', \"The two things are are good about this film are it's two unknown celebrities.<br /><br />First, Daphne Zuniga, in her first appearance in a film, young and supple, with looks that still encompass her body today, steals the very beginning, which is all she is in, and that is that. She is obviously just starting out because her acting improved with her next projects.<br /><br />Second, the score by then known composer Christopher(Chris) Young is what keeps this stinker from getting a one star...yeah, I know one star more is not much, but in this movie's case, it is a lot.<br /><br />The rest is just stupid senseless horror of a couple a college students who try to clean out a dorm that is due for being torn down, getting offed one by one by an unsuspecting killer, blah, blah, blah...we all know where this is going.<br /><br />Watch the first eighteen minutes with Daphne Zuniga, then turn it off.\", 'I am a big fan of Fred MacMurray and Carole Lombard. And, in addition to them, Charles Butterworth (a very enjoyable supporting actor) was in this film,...so why didn\\'t I particularly enjoy it?! Well, despite a good cast, this is one of the poorest written and most clichéd \"A pictures\" I have ever seen. Given the talent and money spent to make this film, it is shocking how slip-shod the writing was. I knew the film would be tedious when time after time early in the film I found myself predicting EXACTLY what would happen next--and I was always right! And this isn\\'t because I am some sort of \"movie savant\", but was because almost no imagination or effort went into it. In fact, it seemed almost as if the film was just a long string of clichés all strung together! Also, I found it a bit irritating that Fred mistreated Carole so bad throughout the film and yet, true to convention, she came running to him in the end. Uggh! There is MORE suspense in a Lassie film (\"will he bring people to rescue Timmy or will the rope he is dangling from break?\").<br /><br />Despite the very, very tired and clichéd script, there were a few positives about the film. It was pretty cool seeing Fred look like a broken lush at the end of the film--it was pretty believable and he looked like he hadn\\'t eaten, shaved or slept in days. Also, Charles Butterworth\\'s \"prattle\" did provide a few mildly humorous moments. But all this just wasn\\'t enough to make this film look any different than a \"B movie\". It\\'s a shame,...it could have been so much better.', \"I shudder to think what people must have thought of environmentalists after viewing this piece of overbearing, preachy cinematic trash. Larded with enough Indian-wannabe nuttery and space brother buffoonery to stock a new-age shop, Starlight makes anyone who gives a damn about the planet look like a feather-wearing crystal-fondling idiot.<br /><br />The plot? Alien Rae Dawn Chong arrives to guide a flute playing underwear model in a mystical quest to avert Earth's impending environmental collapse. But first they must defeat an evil alien who looks nothing so much like a refugee from a Castro street bar. Fortunately, they've got mystical grandpa Willie Nelson along to help (who looks faintly embarrassed by the proceedings, as well he ought to be) along with buckets of cheap F/X and reams of pointlessly swelling music.<br /><br />Sure, the clunky script helps to obscure the film's trite plot and staggering pace, but that's just the tip of this melting movie iceberg. Everyone concerned with this film should have their union cards revoked until they complete a real course in environmental science.\", \"When I first saw the trailer for Prom Night, I have to admit, the trailer looked good and like this would be a fun horror movie. So my friend and I saw Prom Night last night and I have to say I must be growing up because this was such a ridicules film, not to mention I am so sick and tired of the typical horror slasher movies with the loud noises as an excuse to scare people. There was no tension, the characters, how was I supposed to care about them? They had no development what-so-ever, the killer?! Oh, my God, this was very possibly the most stupid serial killer that has ever existed, I know it's a film, but why would a man who never(or at least we know of) killed any one before, kill a girl's family and friends that he's just obsessed over? I mean, was he going to kidnap her or was he going to kill her? I have no idea, because this film made no sense and is too predictable and insulting to true fans of horror.<br /><br />Donna's family was just brutally murdered by her teacher, who has become very obsessed over her, he was captured and put in jail. It's been 3 years and she's just now getting some peace in her life, she's even going to her senior prom. But the killer has escaped and still has Donna on his mind, he follows her to her prom which means bad news for her friends, and the hotel maid, and the bell boy, because it is such a good idea to kill the maid and bell boy so no one become suspicious enough to check to see where these employee's are. Donna is in big trouble because also this killer who is clearly human can apparently get into houses un-noticed and can kill people so silently, just, wow.<br /><br />I'm sorry, I really did want to love this movie, we haven't had a good slasher flick in a long time, but this was just a stupid movie that I was not impressed with. Just the situations were unbelievable and the actors were obnoxious. I know that this was a PG-13 movie, but I just love how someone was brutally stabbed to death and they only have just a little blood on their clothes? Not to mention no stab holes? I wouldn't recommend this movie for anyone unless you're a teen, this movie was made for the teenagers, not adults, and not for those who know a real horror movie, no offense to those who did enjoy this film, but I don't understand how anyone could.<br /><br />2/10\", \"PROM NIGHT (2008)<br /><br />directed by: Nelson McCormick<br /><br />starring: Brittany Snow, Scott Porter, Jessica Stroup, and Dana Davis<br /><br />plot: Three years ago, Donna (Brittany Snow) witnessed the death of her entire family at the hands of her teacher (Jonathan Schaech) who has a bit of a crush on her. Now, she is preparing for her senior prom with her stupid annoying friends. Once there, they start dying one by one because the killer escaped from prison and no one bothered to warn Donna because apparently her prom is too important to interrupt. <br /><br />pros: I got a few good laughs out of the film due to the terrible dialog and the dumb character moves.<br /><br />An example:<br /><br />Everyone decides not to tell Donna that the man who is oddly obsessed with her (she doesn't seem that great) has escaped from prison. Their reason: They don't want to embarrass her in front of all her friends. LOL<br /><br />cons: Let me start off by saying I'm a huge slasher fan. Usually I can have fun with even the bad ones. I even like some PG-13 horror films. TOURIST TRAP (1979), one of my favorites, was originally rated PG. I also enjoy POLTERGEIST (1982) and THE GRUDGE (2004). So the fact that this is a dumb slasher film that is rated PG-13 does not have anything to do with me not enjoying the movie.<br /><br />First of all, I had a big problem with the story. I like slasher films that don't even have stories. At least they can be entertaining. This is about a teacher who falls in love with his student, so he kills her entire family. A few years later, he tries to make it up to her by ruining her prom and killing all of her friends ...? Then there were subplots that I doubt anyone cared about. Claire (Jessica Stroup) is fighting with her boyfriend, she has cramps, and I couldn't care less. This should have been a Lifetime feature, not a remake of PROM NIGHT. <br /><br />And then ... this is a slasher film with terrible death scenes. I don't even care that it's not that gory, some of my favorite slashers (HALLOWEEN, CURTAINS, the original PROM NIGHT) were not that gory but they still had effective murders. Here, we have half the characters dying in the same hotel room off screen, a woman being stabbed several times with no stab wounds, and a closeup on a bad actor's face as he screams in agony. I'm sure that 10 year-old girls were terrified, but not me.<br /><br />I also hated the characters. There was Donna's unrealistically sensitive boyfriend Bobby (Scott Porter) and I can almost guarantee you will never meet a boyfriend that sensitive in your life, unless you are a gay male. Then we had Donna's annoying friends Claire (Stroup) and Lisa (Dana Davis), and the token mean girl Chrissy (Brianne Davis). If you thought the characters in DEATH PROOF were annoying, try watching this movie. And don't get me started on Ronnie (Collins Pennie) and the DJ (Jay Phillips) who gave me flashbacks to Usher's performance in SHE'S ALL THAT.<br /><br />Add to all that predictable plot turns, a terrible soundtrack and a big lack of respect to the original material, and you have quite a stinker.\", 'The acting was horrendous as well as the screenplay. It was poorly put together and made you almost want to laugh at the several terribly acted out murder scenes. The ending was even worse. Everyone kept dying, but somehow the ending made it look like everything was perfectly OK! They did not give enough history about the obsession the teacher had, etc. The movie needed more time to perhaps develop a better storyline. The only reason I give this 3/10 is that I kind of feel bad for the young actors. They needed better coaching. They could have really made this an OK film, but the screenplay and acting failed miserably.', 'When I bought this DVD I though: \"It seems to be a nice light comedy about love and relationships made up in Portuguese standards\\x85 let\\'s give it a chance\\x85\" I was TOTALLY WRONG! What a disappointing movie! First, it\\'s not a comedy; it\\'s a cheap drama which can be so melodramatic that it\\'s even worse than many Portuguese soap operas! Second, the plot is so boring, and leads nowhere\\x85 It has no structure, it just flows, like the wind, in one or another direction\\x85 The production is also bad! The sound mixing is horrible, because sometimes the voices are disconnected. It made me remind some old Portuguese movies from the 80\\'s\\x85 The acting should have been better too\\x85 Well, to sum up, it\\'s not with films like this one that Portuguese cinema will improve! In fact, it was one of the worst Portuguese movies I have seen in the last years! Bad argument, bad acting, bad production\\x85 I had no high hopes for this movie, but it was much worse than I\\'ve ever imagined! Just forget about it!', 'The problems with this film are many, but I will try to mention the most glaring and bothersome ones. First of all, while the theme suggests a number of vignettes about Manhattan life, the reality was that everything, as usual in movies and TV, was about something bizarre, usually of a sexual nature. The story lines were thin or nonexistent, and virtually every scene, camera shot, line of dialog, and expressed emotion was absolutely, and totally fake. It finally reached a point after an hour of so of mind numbing garbage that I walked out (something no uncommon for me in recent years.) I would have guessed the fi9lm was directed by some wannabe auteur drop outs from some 3rd rate film studies program, but I believe the (at one time, pre-Amelia, talented)director Mira Nair took part in this disgusting travesty, so perhaps the directorial talent in America has descended en masse into the cesspool.', \"An executive, very successful in his professional life but very unable in his familiar life, meets a boy with down syndrome, escaped from a residence . Both characters feel very alone, and the apparently less intelligent one will show to the executive the beauty of the small things in life... With this argument, the somehow Amelie-like atmosphere and the sentimental music, I didn't expect but a moralistic disgusting movie. Anyway, as there were some interesting scenes (the boy is sometimes quite a violent guy), and the interpretation of both actors, Daniel Auteil and Pasqal Duquenne, was very good, I decided to go on watching the movie. The French cinema, in general, has the ability of showing something that seems quite much to life, opposed to the more stereotyped American cinema. But, because of that, it is much more disappointing to see after the absurd ending, with the impossible death of the boy, the charming tone, the happiness of the executive's family, the cheap moral, the unbearable laughter of the daughters, the guy waving from heaven as Michael Landon... Really nasty, in my humble opinion.\", \"I've come to realise from watching Euro horror, especially films made by cult luminary Jess Franco, that you can't expect a plot that makes much sense. However, Franco has gone overboard with this film; and despite a surreal atmosphere, and the film's reputation as one of the director's best - Succubus is unfortunately is a truly awful film. I've got to admit that I saw the American cut version, which runs at about 76 minutes; but unless it was just the logic that was cut, I'm sure the longer European version is just as boring. The plot has something to do with a woman marauding around; practicing S&M and talking rubbish, and it's all really boring. There's no gore and the sex is dull, and most of the runtime is taken up by boring dialogue and despite the fact that this is a short film; I had difficulty making it all the way to the end. I have to say that the locations look good and Franco has done a good job of using his surreal atmosphere; but the positive elements end there. Jess Franco is definitely a talented director that has made some classic trash films - but this looks like it was one he made for the money, and overall I recommend skipping it and seeing some of the director's more interesting works.\", \"Ok, honestly I dont see why everybody thinks this is so great. Its really not. There were two good things that came out of this movie 1. Jack's performance, he was very good I can tip my hat for him. 2. Danny's performance, he was good. No other then that it got pretty stupid. And, what was Stanley Kubrick thinking drafting Shelly as the Wendy? She was so bad. She looked the same every time she got scared. The problem with this movie was the ending. I would have had more respect for it if Kubrick would have ended it differently. And, the over all movie was just stupid. The problem with the movie is that the book was so much better. So dont see the movie read the book and you will be much better off. 3/10.\", 'A BDSM \"sub-culture\" of Los Angeles serves as backdrop for this low budget and shabbily constructed mess, plainly a vanity piece for its top-billed player, Celia Xavier, who also produces and scripts while performing a dual role as twin sisters Vanessa and Celia. A question soon develops as to whether or not some rather immoderate camera, lighting and editing pyrotechnics can ever reach a point of connection to a weak and often incoherent narrative that will not be taken seriously by a sensate viewer. Celia is employed as a highly motivated probation officer for the County of Los Angeles, while her evil natured twin has become an iconic figure within her fetishistic world largely because of erotic performances upon CD-ROMS, but when disaster befalls \"Mistress Vanessa\", virtuous Celia, determined to unearth her sister\\'s vicious attacker, begins a new job as a \"sex slave\" at the private Castle Club where the specialty of the house is a \"dungeon party\". Two FBI field agents (whose deployment to the Vanessa case is ostensibly required due to her involvement with internet BDSM sites), in addition to a Los Angeles Police Department homicide detective, are assigned to investigate the crime, while endeavouring to provide security for Celia whose enthusiastic performance in her new vocation is avidly enough regarded by her customers as to have created conditions of personal danger for her. Flaws in logic and continuity abound, such as a homicide being allocated to L.A.P.D.\\'s Operations-South Bureau, a region of the metropolis that is far removed from the setting of the film. Direction is unfocused and not aided by erratic post-production editing and sound reproduction. The mentioned photographic gymnastics culminate with a batty montage near the movie\\'s end of prior footage that is but tangentially referent to the scenario. One solid acting turn appears among this slag: Stan Abe as a zealous FBI agent.', 'There really wasn\\'t much of a story in this film. It loosely based itself off the events in the first Lion King movie. It is supposed to be how Timon and Pumbaa met via their aloneness. But there isn\\'t much more than that.<br /><br />It mixes some scenes from the original, then it ab-libs about how this movie changed them a little bit. But still, is that it? I was hoping for something a little more. Instead, all I have to show for it is an empty plot with little explanation.<br /><br />I guess if you wanted to see other meerkats in the Lion King universe, then this is it. But other than that, it does little justice for the animators. Disney really should stop these direct-to-video productions. It really was quite boring and could have used Jason Statham. \"D-\"', 'First, it takes a full half hour to get Hackman out of jail and to start doing the job. What a waste of time, we all know Hackman is getting out to do some job for his masters, why waste almost a third of the movie on these sequences. Then Hackman stays in a hotel and the story arc again goes nowhere, simply proving to us that Hackman is under close watch and anything he says or does is know by the masters. Again, another 20 minutes. Then more wasted time showing the reunion with his wife. All of this should have taken 10-15 minutes at most simply as a set-up for the real action, intrigue and plot twists. By the time the real action gets going, I was so bored that I just wanted the movie to end. Hackman is great as usual, and the other actors as well, but this is a dud of the first magnitude.', 'The Biggest one that bugs the hell out of me is that they say Zues takes DUTCH commands. But she is speaking German to him. The 2 languishes are completely different, its like saying \"well he takes French commands\" and start talking Spanish.<br /><br />James Belushi gives more the feeling of being a comedy actor not a detective in the slightest. The role just doesn\\'t fit him, even if its mend to be a comedy.<br /><br />To many stereotype/predicable stuff. Typical comment or comebacks.<br /><br />If you don\\'t look at those things i think it could be a nice movie to watch if its ever on TV. But i wouldn\\'t suggesting renting it.', \"I have read the novel Reaper of Ben Mezrich a fews years ago and last night I accidentally came to see this adaption.<br /><br />Although it's been years since I read the story the first time, the differences between the novel and the movie are humongous. Very important elements, which made the whole thing plausible are just written out or changed to bad.<br /><br />If the plot sounds interesting to you: go and get the novel. Its much, much, much better.<br /><br />Still 4 out of 10 since it was hard to stop watching because of the great basic plot by Ben Mezrich.\", \"I wasn't sure how to rate this movie, since it was so bad it was actually very funny. I'm not a Gackt fan by any means, though he is talented, despite the weird pseudonym that sounds like a cat coughing up a hairball. I always thought Hyde was talented though, Faith is an interesting album.<br /><br />But on topic here folks. This movie is ridiculous. It's so over the top and nonsensical it's almost like a parody of supernatural action films.<br /><br />The movie has almost no plot here, except it's just about vampires with gangster friends. In a way, this film almost reminded me of Spider-Man 3, with how there were too many ideas, which resulted in not enough time to pay attention on one of them.<br /><br />The action scenes were laughable. Quickly edited, almost hard to understand, with choreography that's so laughably bad. Though Hyde looked very stylish during the action scenes, but that's this film's only such redemption. I'm a sucker for good action movies, but the action was horribly done. Though the final shootout was OK and the highlight of this otherwise depressing movie.<br /><br />It keeps jumping between genres, not a good thing. It wants to be a drama, or an action flick, or a horror, or a romance... what the hell.<br /><br />If this review is making you mad, why? Is it because Gackt and Hyde are your love? Don't fool yourself, this MOVIE IS BAD.\", \"I watched this show and i simply didn't find it funny at all. It might have been the first episode. Lately i realize ABC is playing a lot of stupid shows nowadays and is going down as a station. All the characters on this show are pretty bad actors, but even if they were good the jokes and script are pretty horrible and would still bring the show down. I would say that I believe this show will be cancelled, but seeing as how ABC is doing pretty horrible for quality of shows they are playing, they might just keep this one simply because it's average compared to them.\", 'No, not the administration of GWB, the Decider/Strutter/Smirker--but the mini-series \"Monarch Cove.\" Lifetime must have realized what a dog this was because the series was burned off two episodes at a time, most of them broadcast between 11 p.m. Friday nights and 1 a.m. Saturday mornings. As to why I watched the whole thing, I can only plead to weekly sudden convulsive attacks of masochism.<br /><br />Most of the cast are unknowns who are likely to remain unknown. The only two recognizable names are Shirley Jones and Rachel Ward, who turn in the only decent performances (Jones doesn\\'t make it through the entire series--lucky woman). Ward, by the way, is aging quite well since her \"Thorn Birds\" days.<br /><br />The one main thread to the plot--who murdered the father of the heroine who is wrongly convicted of Dad\\'s murder but is freed after six years in the slammer--is stretched out for so long and concluded so hastily that you won\\'t especially care who dun it. There is a great deal of \"steamy\" sex, several murders, and all sorts of rude behavior--virtually none of which is either interesting or credible. Most of the cast is not particularly attractive and definitely not talented. The writing and direction is on a par with the cast.<br /><br />If you stick around to the end, the post card is a (very minor)hoot.<br /><br />CONSIDER YOURSELF WARNED!', \"Honestly before I watched this movie, I had heard many people said this movie was a disgrace. I did not believe that since Morgan Freeman and Kevin Spacey have taken roles in this movie, and watched it by my own. Apparently they were right. I was really disappointed and wondering all the time during the movie - why the hell did I watch this movie.<br /><br />Of course I was not expecting much from Justin as he really does not belong in the movie/theater business. But Morgan and Kevin? I could not stop asking myself why the heck they agreed to take part in Edison. To be honest, their roles are rather stupid.<br /><br />Well you might think if the players suck, then I should pay more attention to the story. It is indeed story is the core of a movie, but guys... trust me... this is not a movie you want to give a credit for its story. Imagine this, a smart-ass journalist (Justin Timberlake) wrote a story against the system and at the same time learning how to become a 'real' journalist from his boss (Morgan Freeman). This all was supported by one agent who still has heart for justice (LL Cool J) and an brilliant investigator (Kevin Spacey). At the end, they beat the system with a happy ending story.<br /><br />Jeez, I could not even carry on with this. Just recalling the movie is making me sick already. My advise guys, don't watch this! Please save your money and time for another movie.\", '*** REVIEW MAY CONTAIN SOME SPOILERS *** I\\'ll make this review short and sweet. I bought this movie from Best Buy because it sounded interested and had some top actors in it like Kevin Spacey and Morgan Freeman. How bad could it be, right? Well, it\\'s pretty bad. Justin Timberlake plays Pollack, a wannabe journalist who stumbles across a case that may lead to corrupt cops at Edison\\'s Police Force. LL Cool J is Deed, a cop within the force on a special force team called F.R.A.T. (First Response Assault Tactics). He\\'s teamed with an \"on-the-edge\" bad cop named Lazerov (Dylan McDermott). In the opening scene we see Lazerov & Deed taking on some bank robbers, but at night they are busting a couple of guys doing drugs. I don\\'t want to give to much away, but things turn bad for the guys doing the drugs. Pollack, who works for Ashford (Morgan Freeman) goes to a trial involving Deeds & Lazerov. He suspect foul play and with the help of Ashford, does some investigate that turns ugly. Wallace (Kevin Spacey) who is all within the F.R.A.T. team joins with Ashford to try to bring the corrupt cops to justice.<br /><br />You can tell from the beginning that Freeman and Spacey\\'s performance are pretty lackluster. The only person that give a all out performance is Dylan McDermott. He is a complete nut case in this movie and made a believer out of me. LL Cool J is terrible in this film. He says every line the same way and shows pretty much the same emotion. He was much better in movies like Deep Blue Sea & Any Given Sunday. The film starts off with some nice action but then drags it feet through the rest of the film. The ending is far from satisfying.<br /><br />Don\\'t waste your time with this film. I\\'m putting it on Ebay this weekend.', \"I saw 'Descent' last night at the Stockholm Film Festival and it was one huge disappointment. Disappointment because the storyline was potentially powerful, the prospect of seeing Rosario Dawson in a smaller intimate movie was exciting and, being a fan (sounds pervy, I'm not!) of 'rape/revenge' flicks of the 70's, I was needless to say very curious to check this movie out. My conclusion: let's stick to the classics! Yes, the storyline has potential but the dialogs are flat, the actors unconvincing. Even Dawson is empty. Some would say that it's a right depiction of the college world in the US, that the emptiness of the characters serve a purpose and all that jazz but it just makes the whole movie unsubstantial. Just like the scene where Dawson gets raped: it seriously lacks intensity! I wasn't expecting anything 'Irreversible'-style but still, aren't we suppose to feel compassion for her? I didn't. Not for a minute, she was so lame all the way ;-) And I read that the photography was impressive. Well, it is good indeed but nothing ground-breaking either. I must admit that the screening at the festival wasn't so good so maybe I missed out something here but at the end of the movie, I couldn't help thinking 'I feel like watching Argento's 'Inferno' again. lol. More seriously, the first scene in the club is beautifully shot and all but I had the bitter sensation of watching a longer and more boring version of the scene in the filthy bar near the American-Canadian border in Lynch's 'Twin Peaks - Fire Walk with Me'... the crude red and blue lighting, the heavy bass music, the general lascivious/decadent atmosphere... No, I just couldn't get into this movie. Too bad.\", \"Okay so i found out about this movie and I watched the preview read almost all the reviews and was having a hard time debating whether I should watch it or not. Before i even watched the movie i was emotionally weird on it. i was so unsure if i was going to watch this and be disturbed for like a long time. So i choose to risk it and watched it and heres what i thought: The beginning started off fine for me. It seemed to be heading in a decent direction. Got past the rape scene and i couldn't figure why people were so disturbed or bored by the movie. Don't get me wrong the rape scene was just as sad and scary but it didn't really bother me to a dramatic point. Then as the middle came in i understood the boring stuff that was going on. There was like 5 minutes shots of nothing but people walking around saying or showing nothing! its one thing to have a shot where a person is showing some kind of emotion but this movie didn't have that. It had about 3 of these pointless scenes, where you see the main character Maya kind of get out of control but it didn't show it right making me want to fast forward. Then when she engaged in the hardcore partying it wasn't so boring but still a little dull. Oh and as a note Rosario Dawson still did a great job. Okay moving on so finally after an hour of pointlessness to the middle the revenge comes to Maya's attention. Thats where it got disturbing. I didn't feel bad for him or nothing he got what he deserved but the whole scene was really disturbing and i just felt all eck after it. I cant really tell you whether or not to watch this movie because its so...i don't know i cant find a word to sum it up. But if you choose to watch it just don't be unsuprised.\", \"Anyone who has a remote interest in science fiction should start at the basics. Everyone says STAR WARS and STAR TREK are the best science fiction films to begin at, which is fine but the truth is THE TERMINATOR and this movie, SOYLENT GREEN, are far better choices than those series. SOYLENT is probably science fiction 's best kept secret. It remains one of the biggest, yet most forgotten films but the impact of its setting is becoming more a reality with each passing day. Charlton Heston overdramatizes his role, yet it works. Edward G. Robinson, in his final role, makes the most out of it in SOYLENT GREEN more than anyone else and his final scenes are touching.<br /><br />It is Manhattan in 2022, the world is overcrowded and food is an unbelievable fortune (a small jar of strawberry jam costs $150). A big executive for the Soylent company is murdered and police detective Thorn is on the case.<br /><br />The secret of soylent green is not a mystery if you do research on the movie. SOYLENT is enjoyable to watch, but the whole screenplay is a joke. It is just as cheap as the entire production. The screenplay and the over dramatics of the actors made the movie, yet were completely hilarious. Everyone seems to be a moron and no one knows the rules, specifically cop Thorn who likes to just waltz into people 's apartments, peruse around shamelessly and steal anything he wants. The character 's interactions keeps your attention on the movie, but still you realize that SOYLENT GREEN sucks. An enjoyable piece if you have the time, but do not expect anything more.\", 'I was rooting for this film as it\\'s a remake of a 1970s children\\'s TV series \"Escape into Night\" which, though chaotic and stilted at times was definitely odd, fascinating and disturbing. The acting in \"Paperhouse\" is wooden, unintentionally a joke. The overdubs didn\\'t add tension they only reinforced that I was sat watching a botch. Casting exasperated the dreary dialogue which resulted in relationships lacking warmth, chemistry or conviction. As in most lacklustre films there are a few good supporting acts these people should be comforted, consoled and reassured that they will not be held responsible. Out of all the possible endings the most unexpected was chosen ... lamer than I could have dreamt.<br /><br />\"Escape into Night\" deserves a proper remake, written by someone with life experience and directed with a subtle mind.', \"i would have given this movie a 1 out of 10 if it weren't for ms. Claudine Barretto's performance. and i will take this time to overlook that Kris Aquino's here. and... end.<br /><br />i really AVOID watching Pinoy horror movies because stories lack originality and i really think that (some) writers don't give enough attention to the characters (and their progression) in their stories (redundant??). it was as if they 'pushed' the movie onwards when their storytelling stank. and my goodness, creative exhaustion led them to rip-off other movies. why?? why did this movie get a good review?? i wouldn't give it that much merit. the movie was KIND OF scary, but the movie seemed more freaky as it deals with Filipino folklore... it goes into my list of 'most likely to happen' category. i just wished they spent more time improving the story lines and fix those flash back sequences, never mind if the lighting sucked, it wouldn't matter much if the content would blow you away.. SAYANG.\", 'I have never understood the appeal of this show. The acting is poor (Debra Jo Rupp being a notable exception), the plots of most episodes are trite and uninspiring, the dialogue is weak, the jokes unfunny and it is painful to try and sit through even half an episode. Furthermore the link between this show and the \\'70s\\' is extremely tenuous beyond the style of dress and the scenery and background used for the show -it seems to be nothing more than a modern sitcom with the same old unfunny, clichéd scripts that modern sitcoms have dressed up as depicting a show from twenty years ago in the hope that it will gain some nostalgic viewers or something like that. Both \"Happy Days\" and \"The Wonder Years\" employ the same technique much more effectively and are actually a pleasure to watch in contrast to this horrible, pathetic excuse for a show', \"I loved the Batman tv series and was really looking forward to this. But they tried to do too much.<br /><br />Why they had the story of Adam West and Burt Ward trying to recover the batmobile was beyond me. I don't want to knock Burt or Adam for the way they look now.....It's been 35 years since they appeared at Batman and Robin, but to see them dressed in dress suits and fighting 'badguys' was kinda sad. I would rather of just seen the ex-stars do commentary. The batmobile side story was stupid.<br /><br />As for the flashback movie, I think it was too short and left out way too much. It was really just a quick overview in my opinion. I'd like more background. They showed the Penguin and Joker for about a minute each just to tell the same stuff I already knew. The Joker had a mustache under his makeup and the penguin had to smoke even though he hated it and was an ex-smoker. That was it on those 2.<br /><br />I'd love to read the book. I am sure it has more in it that this showed. Like why was there 2 Riddlers or why 3 Catwoman's or 3 Mister Freezes. Where was Commishioner Gordon, Cheif OHara, Alfred, Mister Freeze, King Tut, etc. the List goes on. Like I said even the ones that were in this one were barely in it.<br /><br />Very disappointing. And really corny.\", \"My wife and I like to rent really stupid horror/sci-fi movies and watch them with our friends for a laugh. We saw this one on fullmoondirect.com and decided to add it to our netflix list. Now, when I say this movie is awful, I mean it in a good way. Everything about it, the acting, camera-work, story, costumes, is just so cheezy and low budget but thats what makes it so good. I think in one scene the actors looked like they were actually walking in place. I really hope that whoever made this film wasn't serious when they made it because if they were, then that would just be sad. If you like to watch really stupid horror movies just to make fun of them then I recommend this one.\"]\n",
            "label [0, 0, 0, 0, 0, 0, 0, 0, 0, 0, 0, 0, 0, 0, 0, 0, 0, 0, 0, 0, 0, 0, 0, 0, 0, 0, 0, 0, 0, 0, 0, 0, 0, 0, 0, 0, 0, 0, 0, 0, 0, 0, 0, 0, 0, 0, 0, 0, 0, 0, 0, 0, 0, 0, 0, 0, 0, 0, 0, 0, 0, 0, 0, 0, 0, 0, 0, 0, 0, 0, 0, 0, 0, 0, 0, 0, 0, 0, 0, 0, 0, 0, 0, 0, 0, 0, 0, 0, 0, 0, 0, 0, 0, 0, 0, 0, 0, 0, 0, 0]\n",
            "<class 'list'>\n",
            "<class 'list'>\n",
            "<class 'list'>\n"
          ]
        }
      ]
    },
    {
      "cell_type": "code",
      "source": [
        "\n",
        "model.outputs = np.array([1,2]) # Asetetaan mallin output: Tässä vain jokin vektori, jonka pituus on \n",
        "# XXXX (koska malli tuottaa jokaiselle syötteelle )\n",
        "# Ks. tarkemmin shap-kirjaston lähdekoodi tiedostossa tf_utils.py ja rivi 85\n",
        "\n",
        "# we use the first 100 training examples as our background dataset to integrate over\n",
        "# explainer = shap.DeepExplainer(model, x_train[:100])\n",
        "# explainer = shap.DeepExplainer(model, dataset[\"train\"][:100]['sentence']) # lista syötteen tekstejä\n",
        "explainer = shap.DeepExplainer(model, testi) # lista syötteen tekstejä\n",
        "\n",
        "\n",
        "# SHAP requires tensor outputs from the classifier, and explanations works best in additive spaces so we transform the probabilities into logit values (information values instead of probabilites).\n",
        "\n",
        "\n",
        "# explain the first 10 predictions\n",
        "# explaining each prediction requires 2 * background dataset size runs\n",
        "# shap_values = explainer.shap_values(x_test[:10])\n",
        "shap_values = explainer.shap_values(dataset[\"test\"][:10]['sentence'])\n",
        "\n"
      ],
      "metadata": {
        "id": "cIXCzg3-HiqD",
        "outputId": "2e87ccbf-210a-4cef-dd24-a32948474b0f",
        "colab": {
          "base_uri": "https://localhost:8080/",
          "height": 246
        }
      },
      "execution_count": 117,
      "outputs": [
        {
          "output_type": "error",
          "ename": "NameError",
          "evalue": "ignored",
          "traceback": [
            "\u001b[0;31m---------------------------------------------------------------------------\u001b[0m",
            "\u001b[0;31mNameError\u001b[0m                                 Traceback (most recent call last)",
            "\u001b[0;32m<ipython-input-117-a832d1a18260>\u001b[0m in \u001b[0;36m<module>\u001b[0;34m()\u001b[0m\n\u001b[1;32m      7\u001b[0m \u001b[0;31m# explainer = shap.DeepExplainer(model, x_train[:100])\u001b[0m\u001b[0;34m\u001b[0m\u001b[0;34m\u001b[0m\u001b[0;34m\u001b[0m\u001b[0m\n\u001b[1;32m      8\u001b[0m \u001b[0;31m# explainer = shap.DeepExplainer(model, dataset[\"train\"][:100]['sentence']) # lista syötteen tekstejä\u001b[0m\u001b[0;34m\u001b[0m\u001b[0;34m\u001b[0m\u001b[0;34m\u001b[0m\u001b[0m\n\u001b[0;32m----> 9\u001b[0;31m \u001b[0mexplainer\u001b[0m \u001b[0;34m=\u001b[0m \u001b[0mshap\u001b[0m\u001b[0;34m.\u001b[0m\u001b[0mDeepExplainer\u001b[0m\u001b[0;34m(\u001b[0m\u001b[0mmodel\u001b[0m\u001b[0;34m,\u001b[0m \u001b[0mtesti\u001b[0m\u001b[0;34m)\u001b[0m \u001b[0;31m# lista syötteen tekstejä\u001b[0m\u001b[0;34m\u001b[0m\u001b[0;34m\u001b[0m\u001b[0m\n\u001b[0m\u001b[1;32m     10\u001b[0m \u001b[0;34m\u001b[0m\u001b[0m\n\u001b[1;32m     11\u001b[0m \u001b[0;34m\u001b[0m\u001b[0m\n",
            "\u001b[0;31mNameError\u001b[0m: name 'shap' is not defined"
          ]
        }
      ]
    },
    {
      "cell_type": "code",
      "source": [
        "! pip --quiet install shap"
      ],
      "metadata": {
        "id": "eXLMUyqC4ERz"
      },
      "execution_count": null,
      "outputs": []
    },
    {
      "cell_type": "code",
      "source": [
        "import shap\n",
        "# https://huggingface.co/transformers/v3.0.2/main_classes/pipelines.html?highlight=return_all_scores\n",
        "# https://huggingface.co/transformers/v3.0.2/main_classes/pipelines.html?highlight=return_all_scores#\n",
        "\n",
        "# classifier = transformers.pipeline('sentiment-analysis', return_all_scores=True)\n",
        "# classifier(short_data[:2])\n",
        "\n",
        "classifier = transformers.pipeline(task='sentiment-analysis', model=model, tokenizer=tokenizer, return_all_scores=True)\n",
        "short_data = [v[:500] for v in dataset[\"test\"][\"text\"][:20]] # first 500 letters from the first 20 test split texts\n",
        "classifier(short_data[:2]) # pipeline predictions for the 2 first samples in the \"short_data\"\n",
        "# Labels need to be int for the model, thus 'LABEL_0' and 'LABEL_1'\n",
        "# TODO: fix labels"
      ],
      "metadata": {
        "id": "5ULS6sRIIFEh",
        "outputId": "795ef564-5764-4355-b9b7-c45efeebce75",
        "colab": {
          "base_uri": "https://localhost:8080/"
        }
      },
      "execution_count": 118,
      "outputs": [
        {
          "output_type": "execute_result",
          "data": {
            "text/plain": [
              "[[{'label': 'LABEL_0', 'score': 0.02706652693450451},\n",
              "  {'label': 'LABEL_1', 'score': 0.9729334712028503}],\n",
              " [{'label': 'LABEL_0', 'score': 0.9921069145202637},\n",
              "  {'label': 'LABEL_1', 'score': 0.007893082685768604}]]"
            ]
          },
          "metadata": {},
          "execution_count": 118
        }
      ]
    },
    {
      "cell_type": "code",
      "source": [
        "type(short_data)"
      ],
      "metadata": {
        "id": "cuJjbqAz3wHg",
        "outputId": "4eb4b093-b489-4d27-ba0a-815fc428582d",
        "colab": {
          "base_uri": "https://localhost:8080/"
        }
      },
      "execution_count": 119,
      "outputs": [
        {
          "output_type": "execute_result",
          "data": {
            "text/plain": [
              "list"
            ]
          },
          "metadata": {},
          "execution_count": 119
        }
      ]
    },
    {
      "cell_type": "code",
      "source": [
        "# define the explainer\n",
        "explainer = shap.Explainer(classifier)"
      ],
      "metadata": {
        "id": "jYMh69ra3ymS"
      },
      "execution_count": 120,
      "outputs": []
    },
    {
      "cell_type": "code",
      "source": [
        "# explain the predictions of the pipeline on the first two samples\n",
        "shap_values = explainer(short_data[:2])"
      ],
      "metadata": {
        "id": "NE_trruh31sM",
        "outputId": "885bfb2b-42a6-48aa-a563-b66dd77d9510",
        "colab": {
          "base_uri": "https://localhost:8080/",
          "height": 54,
          "referenced_widgets": [
            "539dc8f571154222a9f8a7cd51d38255",
            "55ff302265b64dd790e12993f51ffb28",
            "731ba78f36d64982acf17d4b5a6717a7",
            "a107cb25c88b4c0cbb66a60470c196d1",
            "edc2043edccb4cbeac2cc46d98322e31",
            "f284c5ebaf8e40b6ba3841fbd97bd863",
            "fe0c1f744eec4228b2e33deb741713cc",
            "80eb1e35296749b4b547321bd84ee4bd",
            "1aeaa9b36ecc48fc846e61625b304494",
            "f22fd1b77da24e12a6a8e1bc52a08bab",
            "d374d1bfd6724f498498ca4900c6fd02",
            "6e8250bcbe9442a5a534b853594a5b5f",
            "a40c53656adc47fd9e06564a629ad9e4",
            "a853d0107c5d4be7a41588e22bf0a84e",
            "9940cdd7a8794c83aede2ef4b3a7e4bf",
            "c1b20f5ba6fd4fada86b3a7dabfee77d",
            "fdba4c45e82648b39c45e2c3de053e66",
            "6818ed86c725427f917492d255388b5e",
            "34d8e803382d462aadae3eac7f98c6d8",
            "c2cfb4e33e434965804be29ae135d050",
            "0e6af0be065d4da5b1cd38c58d884b7d",
            "77bc8b73ba6540318a8b3e7df0b2c6ab"
          ]
        }
      },
      "execution_count": 121,
      "outputs": [
        {
          "output_type": "display_data",
          "data": {
            "application/vnd.jupyter.widget-view+json": {
              "model_id": "539dc8f571154222a9f8a7cd51d38255",
              "version_minor": 0,
              "version_major": 2
            },
            "text/plain": [
              "  0%|          | 0/248 [00:00<?, ?it/s]"
            ]
          },
          "metadata": {}
        },
        {
          "output_type": "stream",
          "name": "stderr",
          "text": [
            "\rPartition explainer:  50%|█████     | 1/2 [00:00<?, ?it/s]"
          ]
        },
        {
          "output_type": "display_data",
          "data": {
            "application/vnd.jupyter.widget-view+json": {
              "model_id": "6e8250bcbe9442a5a534b853594a5b5f",
              "version_minor": 0,
              "version_major": 2
            },
            "text/plain": [
              "  0%|          | 0/248 [00:00<?, ?it/s]"
            ]
          },
          "metadata": {}
        },
        {
          "output_type": "stream",
          "name": "stderr",
          "text": [
            "Partition explainer: 3it [06:02, 181.22s/it]\n"
          ]
        }
      ]
    },
    {
      "cell_type": "code",
      "source": [
        "shap.plots.text(shap_values[:,:,\"LABEL_0\"])"
      ],
      "metadata": {
        "id": "rcEIabtA32Mn",
        "outputId": "d5f75c13-906d-4d64-ec7f-a33955ed0382",
        "colab": {
          "base_uri": "https://localhost:8080/",
          "height": 387
        }
      },
      "execution_count": 122,
      "outputs": [
        {
          "output_type": "stream",
          "name": "stderr",
          "text": [
            "Creating an ndarray from ragged nested sequences (which is a list-or-tuple of lists-or-tuples-or ndarrays with different lengths or shapes) is deprecated. If you meant to do this, you must specify 'dtype=object' when creating the ndarray.\n"
          ]
        },
        {
          "output_type": "display_data",
          "data": {
            "text/html": [
              "\n",
              "<br>\n",
              "<hr style=\"height: 1px; background-color: #fff; border: none; margin-top: 18px; margin-bottom: 18px; border-top: 1px dashed #ccc;\"\">\n",
              "<div align=\"center\" style=\"margin-top: -35px;\"><div style=\"display: inline-block; background: #fff; padding: 5px; color: #999; font-family: monospace\">[0]</div>\n",
              "</div>\n",
              "            "
            ],
            "text/plain": [
              "<IPython.core.display.HTML object>"
            ]
          },
          "metadata": {}
        },
        {
          "output_type": "display_data",
          "data": {
            "text/html": [
              "<svg width=\"100%\" height=\"80px\"><line x1=\"0\" y1=\"33\" x2=\"100%\" y2=\"33\" style=\"stroke:rgb(150,150,150);stroke-width:1\" /><line x1=\"48.647951869708976%\" y1=\"33\" x2=\"48.647951869708976%\" y2=\"37\" style=\"stroke:rgb(150,150,150);stroke-width:1\" /><text x=\"48.647951869708976%\" y=\"27\" font-size=\"12px\" fill=\"rgb(120,120,120)\" dominant-baseline=\"bottom\" text-anchor=\"middle\">0.5</text><line x1=\"31.693104825152144%\" y1=\"33\" x2=\"31.693104825152144%\" y2=\"37\" style=\"stroke:rgb(150,150,150);stroke-width:1\" /><text x=\"31.693104825152144%\" y=\"27\" font-size=\"12px\" fill=\"rgb(120,120,120)\" dominant-baseline=\"bottom\" text-anchor=\"middle\">0.3</text><line x1=\"14.738257780595312%\" y1=\"33\" x2=\"14.738257780595312%\" y2=\"37\" style=\"stroke:rgb(150,150,150);stroke-width:1\" /><text x=\"14.738257780595312%\" y=\"27\" font-size=\"12px\" fill=\"rgb(120,120,120)\" dominant-baseline=\"bottom\" text-anchor=\"middle\">0.1</text><line x1=\"65.6027989142658%\" y1=\"33\" x2=\"65.6027989142658%\" y2=\"37\" style=\"stroke:rgb(150,150,150);stroke-width:1\" /><text x=\"65.6027989142658%\" y=\"27\" font-size=\"12px\" fill=\"rgb(120,120,120)\" dominant-baseline=\"bottom\" text-anchor=\"middle\">0.7</text><line x1=\"82.55764595882266%\" y1=\"33\" x2=\"82.55764595882266%\" y2=\"37\" style=\"stroke:rgb(150,150,150);stroke-width:1\" /><text x=\"82.55764595882266%\" y=\"27\" font-size=\"12px\" fill=\"rgb(120,120,120)\" dominant-baseline=\"bottom\" text-anchor=\"middle\">0.9</text><line x1=\"47.91103389250863%\" y1=\"33\" x2=\"47.91103389250863%\" y2=\"37\" style=\"stroke:rgb(150,150,150);stroke-width:1\" /><text x=\"47.91103389250863%\" y=\"27\" font-size=\"13px\" style=\"stroke:#ffffff;stroke-width:8px;\" fill=\"rgb(255,255,255)\" dominant-baseline=\"bottom\" text-anchor=\"middle\">0.491307</text><text x=\"47.91103389250863%\" y=\"27\" font-size=\"12px\" fill=\"rgb(120,120,120)\" dominant-baseline=\"bottom\" text-anchor=\"middle\">0.491307</text><text x=\"47.91103389250863%\" y=\"10\" font-size=\"12px\" fill=\"rgb(120,120,120)\" dominant-baseline=\"bottom\" text-anchor=\"middle\">base value</text><line x1=\"8.555378379326404%\" y1=\"33\" x2=\"8.555378379326404%\" y2=\"37\" style=\"stroke:rgb(150,150,150);stroke-width:1\" /><text x=\"8.555378379326404%\" y=\"27\" font-size=\"13px\" style=\"stroke:#ffffff;stroke-width:8px;\" font-weight=\"bold\" fill=\"rgb(255,255,255)\" dominant-baseline=\"bottom\" text-anchor=\"middle\">0.0270665</text><text x=\"8.555378379326404%\" y=\"27\" font-size=\"13px\" font-weight=\"bold\" fill=\"rgb(0,0,0)\" dominant-baseline=\"bottom\" text-anchor=\"middle\">0.0270665</text><text x=\"8.555378379326404%\" y=\"10\" font-size=\"12px\" fill=\"rgb(120,120,120)\" dominant-baseline=\"bottom\" text-anchor=\"middle\">f<tspan baseline-shift=\"sub\" font-size=\"8px\">LABEL_0</tspan>(inputs)</text><rect x=\"4.705534355986254%\" width=\"3.8498440233401503%\" y=\"40\" height=\"18\" style=\"fill:rgb(255.0, 0.0, 81.08083606031792); stroke-width:0; stroke:rgb(0,0,0)\" /><line x1=\"7.473095137154385%\" x2=\"8.555378379326404%\" y1=\"60\" y2=\"60\" id=\"_fb_plcvrzhpzhqngzpsiagy_ind_40\" style=\"stroke:rgb(255.0, 0.0, 81.08083606031792);stroke-width:2; opacity: 0\"/><text x=\"8.014236758240393%\" y=\"71\" font-size=\"12px\" id=\"_fs_plcvrzhpzhqngzpsiagy_ind_40\" fill=\"rgb(255.0, 0.0, 81.08083606031792)\" style=\"opacity: 0\" dominant-baseline=\"middle\" text-anchor=\"middle\">0.013</text><svg x=\"7.473095137154385%\" y=\"40\" height=\"20\" width=\"1.0822832421720197%\">  <svg x=\"0\" y=\"0\" width=\"100%\" height=\"100%\">    <text x=\"50%\" y=\"9\" font-size=\"12px\" fill=\"rgb(255,255,255)\" dominant-baseline=\"middle\" text-anchor=\"middle\">hardly</text>  </svg></svg><line x1=\"6.569855848487579%\" x2=\"7.473095137154385%\" y1=\"60\" y2=\"60\" id=\"_fb_plcvrzhpzhqngzpsiagy_ind_27\" style=\"stroke:rgb(255.0, 0.0, 81.08083606031792);stroke-width:2; opacity: 0\"/><text x=\"7.021475492820982%\" y=\"71\" font-size=\"12px\" id=\"_fs_plcvrzhpzhqngzpsiagy_ind_27\" fill=\"rgb(255.0, 0.0, 81.08083606031792)\" style=\"opacity: 0\" dominant-baseline=\"middle\" text-anchor=\"middle\">0.011</text><svg x=\"6.569855848487579%\" y=\"40\" height=\"20\" width=\"0.9032392886668053%\">  <svg x=\"0\" y=\"0\" width=\"100%\" height=\"100%\">    <text x=\"50%\" y=\"9\" font-size=\"12px\" fill=\"rgb(255,255,255)\" dominant-baseline=\"middle\" text-anchor=\"middle\">nothing that</text>  </svg></svg><line x1=\"5.983025343290682%\" x2=\"6.569855848487579%\" y1=\"60\" y2=\"60\" id=\"_fb_plcvrzhpzhqngzpsiagy_ind_41\" style=\"stroke:rgb(255.0, 0.0, 81.08083606031792);stroke-width:2; opacity: 0\"/><text x=\"6.276440595889131%\" y=\"71\" font-size=\"12px\" id=\"_fs_plcvrzhpzhqngzpsiagy_ind_41\" fill=\"rgb(255.0, 0.0, 81.08083606031792)\" style=\"opacity: 0\" dominant-baseline=\"middle\" text-anchor=\"middle\">0.007</text><svg x=\"5.983025343290682%\" y=\"40\" height=\"20\" width=\"0.5868305051968976%\">  <svg x=\"0\" y=\"0\" width=\"100%\" height=\"100%\">    <text x=\"50%\" y=\"9\" font-size=\"12px\" fill=\"rgb(255,255,255)\" dominant-baseline=\"middle\" text-anchor=\"middle\">profound</text>  </svg></svg><line x1=\"5.580955784048706%\" x2=\"5.983025343290682%\" y1=\"60\" y2=\"60\" id=\"_fb_plcvrzhpzhqngzpsiagy_ind_19\" style=\"stroke:rgb(255.0, 0.0, 81.08083606031792);stroke-width:2; opacity: 0\"/><text x=\"5.781990563669694%\" y=\"71\" font-size=\"12px\" id=\"_fs_plcvrzhpzhqngzpsiagy_ind_19\" fill=\"rgb(255.0, 0.0, 81.08083606031792)\" style=\"opacity: 0\" dominant-baseline=\"middle\" text-anchor=\"middle\">0.005</text><svg x=\"5.580955784048706%\" y=\"40\" height=\"20\" width=\"0.4020695592419754%\">  <svg x=\"0\" y=\"0\" width=\"100%\" height=\"100%\">    <text x=\"50%\" y=\"9\" font-size=\"12px\" fill=\"rgb(255,255,255)\" dominant-baseline=\"middle\" text-anchor=\"middle\">even terrorist style bombs.</text>  </svg></svg><line x1=\"5.294959636225249%\" x2=\"5.580955784048706%\" y1=\"60\" y2=\"60\" id=\"_fb_plcvrzhpzhqngzpsiagy_ind_25\" style=\"stroke:rgb(255.0, 0.0, 81.08083606031792);stroke-width:2; opacity: 0\"/><text x=\"5.437957710136978%\" y=\"71\" font-size=\"12px\" id=\"_fs_plcvrzhpzhqngzpsiagy_ind_25\" fill=\"rgb(255.0, 0.0, 81.08083606031792)\" style=\"opacity: 0\" dominant-baseline=\"middle\" text-anchor=\"middle\">0.003</text><svg x=\"5.294959636225249%\" y=\"40\" height=\"20\" width=\"0.2859961478234574%\">  <svg x=\"0\" y=\"0\" width=\"100%\" height=\"100%\">    <text x=\"50%\" y=\"9\" font-size=\"12px\" fill=\"rgb(255,255,255)\" dominant-baseline=\"middle\" text-anchor=\"middle\">but</text>  </svg></svg><line x1=\"5.046218204501862%\" x2=\"5.294959636225249%\" y1=\"60\" y2=\"60\" id=\"_fb_plcvrzhpzhqngzpsiagy_ind_42\" style=\"stroke:rgb(255.0, 0.0, 81.08083606031792);stroke-width:2; opacity: 0\"/><text x=\"5.1705889203635556%\" y=\"71\" font-size=\"12px\" id=\"_fs_plcvrzhpzhqngzpsiagy_ind_42\" fill=\"rgb(255.0, 0.0, 81.08083606031792)\" style=\"opacity: 0\" dominant-baseline=\"middle\" text-anchor=\"middle\">0.003</text><svg x=\"5.046218204501862%\" y=\"40\" height=\"20\" width=\"0.2487414317233867%\">  <svg x=\"0\" y=\"0\" width=\"100%\" height=\"100%\">    <text x=\"50%\" y=\"9\" font-size=\"12px\" fill=\"rgb(255,255,255)\" dominant-baseline=\"middle\" text-anchor=\"middle\">.</text>  </svg></svg><line x1=\"4.884613235952812%\" x2=\"5.046218204501862%\" y1=\"60\" y2=\"60\" id=\"_fb_plcvrzhpzhqngzpsiagy_ind_28\" style=\"stroke:rgb(255.0, 0.0, 81.08083606031792);stroke-width:2; opacity: 0\"/><text x=\"4.9654157202273375%\" y=\"71\" font-size=\"12px\" id=\"_fs_plcvrzhpzhqngzpsiagy_ind_28\" fill=\"rgb(255.0, 0.0, 81.08083606031792)\" style=\"opacity: 0\" dominant-baseline=\"middle\" text-anchor=\"middle\">0.002</text><svg x=\"4.884613235952812%\" y=\"40\" height=\"20\" width=\"0.16160496854905038%\">  <svg x=\"0\" y=\"0\" width=\"100%\" height=\"100%\">    <text x=\"50%\" y=\"9\" font-size=\"12px\" fill=\"rgb(255,255,255)\" dominant-baseline=\"middle\" text-anchor=\"middle\">really blows you away if</text>  </svg></svg><line x1=\"4.7470176806396935%\" x2=\"4.884613235952812%\" y1=\"60\" y2=\"60\" id=\"_fb_plcvrzhpzhqngzpsiagy_ind_26\" style=\"stroke:rgb(255.0, 0.0, 81.08083606031792);stroke-width:2; opacity: 0\"/><text x=\"4.815815458296253%\" y=\"71\" font-size=\"12px\" id=\"_fs_plcvrzhpzhqngzpsiagy_ind_26\" fill=\"rgb(255.0, 0.0, 81.08083606031792)\" style=\"opacity: 0\" dominant-baseline=\"middle\" text-anchor=\"middle\">0.002</text><svg x=\"4.7470176806396935%\" y=\"40\" height=\"20\" width=\"0.1375955553131183%\">  <svg x=\"0\" y=\"0\" width=\"100%\" height=\"100%\">    <text x=\"50%\" y=\"9\" font-size=\"12px\" fill=\"rgb(255,255,255)\" dominant-baseline=\"middle\" text-anchor=\"middle\">there is</text>  </svg></svg><line x1=\"4.705534355986254%\" x2=\"4.7470176806396935%\" y1=\"60\" y2=\"60\" id=\"_fb_plcvrzhpzhqngzpsiagy_ind_30\" style=\"stroke:rgb(255.0, 0.0, 81.08083606031792);stroke-width:2; opacity: 0\"/><text x=\"4.726276018312974%\" y=\"71\" font-size=\"12px\" id=\"_fs_plcvrzhpzhqngzpsiagy_ind_30\" fill=\"rgb(255.0, 0.0, 81.08083606031792)\" style=\"opacity: 0\" dominant-baseline=\"middle\" text-anchor=\"middle\">0.0</text><svg x=\"4.705534355986254%\" y=\"40\" height=\"20\" width=\"0.041483324653439624%\">  <svg x=\"0\" y=\"0\" width=\"100%\" height=\"100%\">    <text x=\"50%\" y=\"9\" font-size=\"12px\" fill=\"rgb(255,255,255)\" dominant-baseline=\"middle\" text-anchor=\"middle\">your share before.</text>  </svg></svg><g transform=\"translate(0,0)\">  <svg x=\"7.473095137154385%\" y=\"40\" height=\"18\" overflow=\"visible\" width=\"30\">    <path d=\"M 0 -9 l 6 18 L 0 25\" fill=\"none\" style=\"stroke:rgb(255.0, 0.0, 81.08083606031792);stroke-width:2\" />  </svg></g><g transform=\"translate(2,0)\">  <svg x=\"7.473095137154385%\" y=\"40\" height=\"18\" overflow=\"visible\" width=\"30\">    <path d=\"M 0 -9 l 6 18 L 0 25\" fill=\"none\" style=\"stroke:rgb(255.0, 0.0, 81.08083606031792);stroke-width:2\" />  </svg></g><g transform=\"translate(4,0)\">  <svg x=\"7.473095137154385%\" y=\"40\" height=\"18\" overflow=\"visible\" width=\"30\">    <path d=\"M 0 -9 l 6 18 L 0 25\" fill=\"none\" style=\"stroke:rgb(255.0, 0.0, 81.08083606031792);stroke-width:2\" />  </svg></g><g transform=\"translate(6,0)\">  <svg x=\"7.473095137154385%\" y=\"40\" height=\"18\" overflow=\"visible\" width=\"30\">    <path d=\"M 0 -9 l 6 18 L 0 25\" fill=\"none\" style=\"stroke:rgb(255.0, 0.0, 81.08083606031792);stroke-width:2\" />  </svg></g><g transform=\"translate(-8,0)\">  <svg x=\"7.473095137154385%\" y=\"40\" height=\"18\" overflow=\"visible\" width=\"30\">    <path d=\"M 0 -9 l 6 18 L 0 25\" fill=\"none\" style=\"stroke:rgb(255.0, 0.0, 81.08083606031792);stroke-width:2\" />  </svg></g><g transform=\"translate(-6,0)\">  <svg x=\"7.473095137154385%\" y=\"40\" height=\"18\" overflow=\"visible\" width=\"30\">    <path d=\"M 0 -9 l 6 18 L 0 25\" fill=\"none\" style=\"stroke:rgb(255.0, 0.0, 81.08083606031792);stroke-width:2\" />  </svg></g><g transform=\"translate(-4,0)\">  <svg x=\"7.473095137154385%\" y=\"40\" height=\"18\" overflow=\"visible\" width=\"30\">    <path d=\"M 0 -9 l 6 18 L 0 25\" fill=\"none\" style=\"stroke:rgb(255.0, 0.0, 81.08083606031792);stroke-width:2\" />  </svg></g><g transform=\"translate(-2,0)\">  <svg x=\"7.473095137154385%\" y=\"40\" height=\"18\" overflow=\"visible\" width=\"30\">    <path d=\"M 0 -9 l 6 18 L 0 25\" fill=\"none\" style=\"stroke:rgb(255.0, 0.0, 81.08083606031792);stroke-width:2\" />  </svg></g><g transform=\"translate(0,0)\">  <svg x=\"6.569855848487579%\" y=\"40\" height=\"18\" overflow=\"visible\" width=\"30\">    <path d=\"M 0 -9 l 6 18 L 0 25\" fill=\"none\" style=\"stroke:rgb(255.0, 0.0, 81.08083606031792);stroke-width:2\" />  </svg></g><g transform=\"translate(2,0)\">  <svg x=\"6.569855848487579%\" y=\"40\" height=\"18\" overflow=\"visible\" width=\"30\">    <path d=\"M 0 -9 l 6 18 L 0 25\" fill=\"none\" style=\"stroke:rgb(255.0, 0.0, 81.08083606031792);stroke-width:2\" />  </svg></g><g transform=\"translate(4,0)\">  <svg x=\"6.569855848487579%\" y=\"40\" height=\"18\" overflow=\"visible\" width=\"30\">    <path d=\"M 0 -9 l 6 18 L 0 25\" fill=\"none\" style=\"stroke:rgb(255.0, 0.0, 81.08083606031792);stroke-width:2\" />  </svg></g><g transform=\"translate(6,0)\">  <svg x=\"6.569855848487579%\" y=\"40\" height=\"18\" overflow=\"visible\" width=\"30\">    <path d=\"M 0 -9 l 6 18 L 0 25\" fill=\"none\" style=\"stroke:rgb(255.0, 0.0, 81.08083606031792);stroke-width:2\" />  </svg></g><g transform=\"translate(-8,0)\">  <svg x=\"6.569855848487579%\" y=\"40\" height=\"18\" overflow=\"visible\" width=\"30\">    <path d=\"M 0 -9 l 6 18 L 0 25\" fill=\"none\" style=\"stroke:rgb(255.0, 0.0, 81.08083606031792);stroke-width:2\" />  </svg></g><g transform=\"translate(-6,0)\">  <svg x=\"6.569855848487579%\" y=\"40\" height=\"18\" overflow=\"visible\" width=\"30\">    <path d=\"M 0 -9 l 6 18 L 0 25\" fill=\"none\" style=\"stroke:rgb(255.0, 0.0, 81.08083606031792);stroke-width:2\" />  </svg></g><g transform=\"translate(-4,0)\">  <svg x=\"6.569855848487579%\" y=\"40\" height=\"18\" overflow=\"visible\" width=\"30\">    <path d=\"M 0 -9 l 6 18 L 0 25\" fill=\"none\" style=\"stroke:rgb(255.0, 0.0, 81.08083606031792);stroke-width:2\" />  </svg></g><g transform=\"translate(-2,0)\">  <svg x=\"6.569855848487579%\" y=\"40\" height=\"18\" overflow=\"visible\" width=\"30\">    <path d=\"M 0 -9 l 6 18 L 0 25\" fill=\"none\" style=\"stroke:rgb(255.0, 0.0, 81.08083606031792);stroke-width:2\" />  </svg></g><g transform=\"translate(0,0)\">  <svg x=\"5.983025343290682%\" y=\"40\" height=\"18\" overflow=\"visible\" width=\"30\">    <path d=\"M 0 -9 l 6 18 L 0 25\" fill=\"none\" style=\"stroke:rgb(255.0, 0.0, 81.08083606031792);stroke-width:2\" />  </svg></g><g transform=\"translate(2,0)\">  <svg x=\"5.983025343290682%\" y=\"40\" height=\"18\" overflow=\"visible\" width=\"30\">    <path d=\"M 0 -9 l 6 18 L 0 25\" fill=\"none\" style=\"stroke:rgb(255.0, 0.0, 81.08083606031792);stroke-width:2\" />  </svg></g><g transform=\"translate(4,0)\">  <svg x=\"5.983025343290682%\" y=\"40\" height=\"18\" overflow=\"visible\" width=\"30\">    <path d=\"M 0 -9 l 6 18 L 0 25\" fill=\"none\" style=\"stroke:rgb(255.0, 0.0, 81.08083606031792);stroke-width:2\" />  </svg></g><g transform=\"translate(6,0)\">  <svg x=\"5.983025343290682%\" y=\"40\" height=\"18\" overflow=\"visible\" width=\"30\">    <path d=\"M 0 -9 l 6 18 L 0 25\" fill=\"none\" style=\"stroke:rgb(255.0, 0.0, 81.08083606031792);stroke-width:2\" />  </svg></g><g transform=\"translate(-8,0)\">  <svg x=\"5.983025343290682%\" y=\"40\" height=\"18\" overflow=\"visible\" width=\"30\">    <path d=\"M 0 -9 l 6 18 L 0 25\" fill=\"none\" style=\"stroke:rgb(255.0, 0.0, 81.08083606031792);stroke-width:2\" />  </svg></g><g transform=\"translate(-6,0)\">  <svg x=\"5.983025343290682%\" y=\"40\" height=\"18\" overflow=\"visible\" width=\"30\">    <path d=\"M 0 -9 l 6 18 L 0 25\" fill=\"none\" style=\"stroke:rgb(255.0, 0.0, 81.08083606031792);stroke-width:2\" />  </svg></g><g transform=\"translate(-4,0)\">  <svg x=\"5.983025343290682%\" y=\"40\" height=\"18\" overflow=\"visible\" width=\"30\">    <path d=\"M 0 -9 l 6 18 L 0 25\" fill=\"none\" style=\"stroke:rgb(255.0, 0.0, 81.08083606031792);stroke-width:2\" />  </svg></g><g transform=\"translate(-2,0)\">  <svg x=\"5.983025343290682%\" y=\"40\" height=\"18\" overflow=\"visible\" width=\"30\">    <path d=\"M 0 -9 l 6 18 L 0 25\" fill=\"none\" style=\"stroke:rgb(255.0, 0.0, 81.08083606031792);stroke-width:2\" />  </svg></g><g transform=\"translate(0,0)\">  <svg x=\"5.580955784048706%\" y=\"40\" height=\"18\" overflow=\"visible\" width=\"30\">    <path d=\"M 0 -9 l 6 18 L 0 25\" fill=\"none\" style=\"stroke:rgb(255.0, 0.0, 81.08083606031792);stroke-width:2\" />  </svg></g><g transform=\"translate(2,0)\">  <svg x=\"5.580955784048706%\" y=\"40\" height=\"18\" overflow=\"visible\" width=\"30\">    <path d=\"M 0 -9 l 6 18 L 0 25\" fill=\"none\" style=\"stroke:rgb(255.0, 0.0, 81.08083606031792);stroke-width:2\" />  </svg></g><g transform=\"translate(4,0)\">  <svg x=\"5.580955784048706%\" y=\"40\" height=\"18\" overflow=\"visible\" width=\"30\">    <path d=\"M 0 -9 l 6 18 L 0 25\" fill=\"none\" style=\"stroke:rgb(255.0, 0.0, 81.08083606031792);stroke-width:2\" />  </svg></g><g transform=\"translate(6,0)\">  <svg x=\"5.580955784048706%\" y=\"40\" height=\"18\" overflow=\"visible\" width=\"30\">    <path d=\"M 0 -9 l 6 18 L 0 25\" fill=\"none\" style=\"stroke:rgb(255.0, 0.0, 81.08083606031792);stroke-width:2\" />  </svg></g><g transform=\"translate(-8,0)\">  <svg x=\"5.580955784048706%\" y=\"40\" height=\"18\" overflow=\"visible\" width=\"30\">    <path d=\"M 0 -9 l 6 18 L 0 25\" fill=\"none\" style=\"stroke:rgb(255.0, 0.0, 81.08083606031792);stroke-width:2\" />  </svg></g><g transform=\"translate(-6,0)\">  <svg x=\"5.580955784048706%\" y=\"40\" height=\"18\" overflow=\"visible\" width=\"30\">    <path d=\"M 0 -9 l 6 18 L 0 25\" fill=\"none\" style=\"stroke:rgb(255.0, 0.0, 81.08083606031792);stroke-width:2\" />  </svg></g><g transform=\"translate(-4,0)\">  <svg x=\"5.580955784048706%\" y=\"40\" height=\"18\" overflow=\"visible\" width=\"30\">    <path d=\"M 0 -9 l 6 18 L 0 25\" fill=\"none\" style=\"stroke:rgb(255.0, 0.0, 81.08083606031792);stroke-width:2\" />  </svg></g><g transform=\"translate(-2,0)\">  <svg x=\"5.580955784048706%\" y=\"40\" height=\"18\" overflow=\"visible\" width=\"30\">    <path d=\"M 0 -9 l 6 18 L 0 25\" fill=\"none\" style=\"stroke:rgb(255.0, 0.0, 81.08083606031792);stroke-width:2\" />  </svg></g><g transform=\"translate(0,0)\">  <svg x=\"5.294959636225249%\" y=\"40\" height=\"18\" overflow=\"visible\" width=\"30\">    <path d=\"M 0 -9 l 6 18 L 0 25\" fill=\"none\" style=\"stroke:rgb(255.0, 0.0, 81.08083606031792);stroke-width:2\" />  </svg></g><g transform=\"translate(2,0)\">  <svg x=\"5.294959636225249%\" y=\"40\" height=\"18\" overflow=\"visible\" width=\"30\">    <path d=\"M 0 -9 l 6 18 L 0 25\" fill=\"none\" style=\"stroke:rgb(255.0, 0.0, 81.08083606031792);stroke-width:2\" />  </svg></g><g transform=\"translate(4,0)\">  <svg x=\"5.294959636225249%\" y=\"40\" height=\"18\" overflow=\"visible\" width=\"30\">    <path d=\"M 0 -9 l 6 18 L 0 25\" fill=\"none\" style=\"stroke:rgb(255.0, 0.0, 81.08083606031792);stroke-width:2\" />  </svg></g><g transform=\"translate(6,0)\">  <svg x=\"5.294959636225249%\" y=\"40\" height=\"18\" overflow=\"visible\" width=\"30\">    <path d=\"M 0 -9 l 6 18 L 0 25\" fill=\"none\" style=\"stroke:rgb(255.0, 0.0, 81.08083606031792);stroke-width:2\" />  </svg></g><g transform=\"translate(-8,0)\">  <svg x=\"5.294959636225249%\" y=\"40\" height=\"18\" overflow=\"visible\" width=\"30\">    <path d=\"M 0 -9 l 6 18 L 0 25\" fill=\"none\" style=\"stroke:rgb(255.0, 0.0, 81.08083606031792);stroke-width:2\" />  </svg></g><g transform=\"translate(-6,0)\">  <svg x=\"5.294959636225249%\" y=\"40\" height=\"18\" overflow=\"visible\" width=\"30\">    <path d=\"M 0 -9 l 6 18 L 0 25\" fill=\"none\" style=\"stroke:rgb(255.0, 0.0, 81.08083606031792);stroke-width:2\" />  </svg></g><g transform=\"translate(-4,0)\">  <svg x=\"5.294959636225249%\" y=\"40\" height=\"18\" overflow=\"visible\" width=\"30\">    <path d=\"M 0 -9 l 6 18 L 0 25\" fill=\"none\" style=\"stroke:rgb(255.0, 0.0, 81.08083606031792);stroke-width:2\" />  </svg></g><g transform=\"translate(-2,0)\">  <svg x=\"5.294959636225249%\" y=\"40\" height=\"18\" overflow=\"visible\" width=\"30\">    <path d=\"M 0 -9 l 6 18 L 0 25\" fill=\"none\" style=\"stroke:rgb(255.0, 0.0, 81.08083606031792);stroke-width:2\" />  </svg></g><g transform=\"translate(0,0)\">  <svg x=\"5.046218204501862%\" y=\"40\" height=\"18\" overflow=\"visible\" width=\"30\">    <path d=\"M 0 -9 l 6 18 L 0 25\" fill=\"none\" style=\"stroke:rgb(255.0, 0.0, 81.08083606031792);stroke-width:2\" />  </svg></g><g transform=\"translate(2,0)\">  <svg x=\"5.046218204501862%\" y=\"40\" height=\"18\" overflow=\"visible\" width=\"30\">    <path d=\"M 0 -9 l 6 18 L 0 25\" fill=\"none\" style=\"stroke:rgb(255.0, 0.0, 81.08083606031792);stroke-width:2\" />  </svg></g><g transform=\"translate(4,0)\">  <svg x=\"5.046218204501862%\" y=\"40\" height=\"18\" overflow=\"visible\" width=\"30\">    <path d=\"M 0 -9 l 6 18 L 0 25\" fill=\"none\" style=\"stroke:rgb(255.0, 0.0, 81.08083606031792);stroke-width:2\" />  </svg></g><g transform=\"translate(6,0)\">  <svg x=\"5.046218204501862%\" y=\"40\" height=\"18\" overflow=\"visible\" width=\"30\">    <path d=\"M 0 -9 l 6 18 L 0 25\" fill=\"none\" style=\"stroke:rgb(255.0, 0.0, 81.08083606031792);stroke-width:2\" />  </svg></g><g transform=\"translate(-8,0)\">  <svg x=\"5.046218204501862%\" y=\"40\" height=\"18\" overflow=\"visible\" width=\"30\">    <path d=\"M 0 -9 l 6 18 L 0 25\" fill=\"none\" style=\"stroke:rgb(255.0, 0.0, 81.08083606031792);stroke-width:2\" />  </svg></g><g transform=\"translate(-6,0)\">  <svg x=\"5.046218204501862%\" y=\"40\" height=\"18\" overflow=\"visible\" width=\"30\">    <path d=\"M 0 -9 l 6 18 L 0 25\" fill=\"none\" style=\"stroke:rgb(255.0, 0.0, 81.08083606031792);stroke-width:2\" />  </svg></g><g transform=\"translate(-4,0)\">  <svg x=\"5.046218204501862%\" y=\"40\" height=\"18\" overflow=\"visible\" width=\"30\">    <path d=\"M 0 -9 l 6 18 L 0 25\" fill=\"none\" style=\"stroke:rgb(255.0, 0.0, 81.08083606031792);stroke-width:2\" />  </svg></g><g transform=\"translate(-2,0)\">  <svg x=\"5.046218204501862%\" y=\"40\" height=\"18\" overflow=\"visible\" width=\"30\">    <path d=\"M 0 -9 l 6 18 L 0 25\" fill=\"none\" style=\"stroke:rgb(255.0, 0.0, 81.08083606031792);stroke-width:2\" />  </svg></g><g transform=\"translate(0,0)\">  <svg x=\"4.884613235952812%\" y=\"40\" height=\"18\" overflow=\"visible\" width=\"30\">    <path d=\"M 0 -9 l 6 18 L 0 25\" fill=\"none\" style=\"stroke:rgb(255.0, 0.0, 81.08083606031792);stroke-width:2\" />  </svg></g><g transform=\"translate(2,0)\">  <svg x=\"4.884613235952812%\" y=\"40\" height=\"18\" overflow=\"visible\" width=\"30\">    <path d=\"M 0 -9 l 6 18 L 0 25\" fill=\"none\" style=\"stroke:rgb(255.0, 0.0, 81.08083606031792);stroke-width:2\" />  </svg></g><g transform=\"translate(4,0)\">  <svg x=\"4.884613235952812%\" y=\"40\" height=\"18\" overflow=\"visible\" width=\"30\">    <path d=\"M 0 -9 l 6 18 L 0 25\" fill=\"none\" style=\"stroke:rgb(255.0, 0.0, 81.08083606031792);stroke-width:2\" />  </svg></g><g transform=\"translate(6,0)\">  <svg x=\"4.884613235952812%\" y=\"40\" height=\"18\" overflow=\"visible\" width=\"30\">    <path d=\"M 0 -9 l 6 18 L 0 25\" fill=\"none\" style=\"stroke:rgb(255.0, 0.0, 81.08083606031792);stroke-width:2\" />  </svg></g><g transform=\"translate(-8,0)\">  <svg x=\"4.884613235952812%\" y=\"40\" height=\"18\" overflow=\"visible\" width=\"30\">    <path d=\"M 0 -9 l 6 18 L 0 25\" fill=\"none\" style=\"stroke:rgb(255.0, 0.0, 81.08083606031792);stroke-width:2\" />  </svg></g><g transform=\"translate(-6,0)\">  <svg x=\"4.884613235952812%\" y=\"40\" height=\"18\" overflow=\"visible\" width=\"30\">    <path d=\"M 0 -9 l 6 18 L 0 25\" fill=\"none\" style=\"stroke:rgb(255.0, 0.0, 81.08083606031792);stroke-width:2\" />  </svg></g><g transform=\"translate(-4,0)\">  <svg x=\"4.884613235952812%\" y=\"40\" height=\"18\" overflow=\"visible\" width=\"30\">    <path d=\"M 0 -9 l 6 18 L 0 25\" fill=\"none\" style=\"stroke:rgb(255.0, 0.0, 81.08083606031792);stroke-width:2\" />  </svg></g><g transform=\"translate(-2,0)\">  <svg x=\"4.884613235952812%\" y=\"40\" height=\"18\" overflow=\"visible\" width=\"30\">    <path d=\"M 0 -9 l 6 18 L 0 25\" fill=\"none\" style=\"stroke:rgb(255.0, 0.0, 81.08083606031792);stroke-width:2\" />  </svg></g><g transform=\"translate(0,0)\">  <svg x=\"4.7470176806396935%\" y=\"40\" height=\"18\" overflow=\"visible\" width=\"30\">    <path d=\"M 0 -9 l 6 18 L 0 25\" fill=\"none\" style=\"stroke:rgb(255.0, 0.0, 81.08083606031792);stroke-width:2\" />  </svg></g><g transform=\"translate(2,0)\">  <svg x=\"4.7470176806396935%\" y=\"40\" height=\"18\" overflow=\"visible\" width=\"30\">    <path d=\"M 0 -9 l 6 18 L 0 25\" fill=\"none\" style=\"stroke:rgb(255.0, 0.0, 81.08083606031792);stroke-width:2\" />  </svg></g><g transform=\"translate(4,0)\">  <svg x=\"4.7470176806396935%\" y=\"40\" height=\"18\" overflow=\"visible\" width=\"30\">    <path d=\"M 0 -9 l 6 18 L 0 25\" fill=\"none\" style=\"stroke:rgb(255.0, 0.0, 81.08083606031792);stroke-width:2\" />  </svg></g><g transform=\"translate(6,0)\">  <svg x=\"4.7470176806396935%\" y=\"40\" height=\"18\" overflow=\"visible\" width=\"30\">    <path d=\"M 0 -9 l 6 18 L 0 25\" fill=\"none\" style=\"stroke:rgb(255.0, 0.0, 81.08083606031792);stroke-width:2\" />  </svg></g><g transform=\"translate(-8,0)\">  <svg x=\"4.7470176806396935%\" y=\"40\" height=\"18\" overflow=\"visible\" width=\"30\">    <path d=\"M 0 -9 l 6 18 L 0 25\" fill=\"none\" style=\"stroke:rgb(255.0, 0.0, 81.08083606031792);stroke-width:2\" />  </svg></g><g transform=\"translate(-6,0)\">  <svg x=\"4.7470176806396935%\" y=\"40\" height=\"18\" overflow=\"visible\" width=\"30\">    <path d=\"M 0 -9 l 6 18 L 0 25\" fill=\"none\" style=\"stroke:rgb(255.0, 0.0, 81.08083606031792);stroke-width:2\" />  </svg></g><g transform=\"translate(-4,0)\">  <svg x=\"4.7470176806396935%\" y=\"40\" height=\"18\" overflow=\"visible\" width=\"30\">    <path d=\"M 0 -9 l 6 18 L 0 25\" fill=\"none\" style=\"stroke:rgb(255.0, 0.0, 81.08083606031792);stroke-width:2\" />  </svg></g><g transform=\"translate(-2,0)\">  <svg x=\"4.7470176806396935%\" y=\"40\" height=\"18\" overflow=\"visible\" width=\"30\">    <path d=\"M 0 -9 l 6 18 L 0 25\" fill=\"none\" style=\"stroke:rgb(255.0, 0.0, 81.08083606031792);stroke-width:2\" />  </svg></g><rect transform=\"translate(-8,0)\" x=\"8.555378379326404%\" y=\"40\" width=\"8\" height=\"18\" style=\"fill:rgb(255.0, 0.0, 81.08083606031792)\"/><g transform=\"translate(-11.5,0)\">  <svg x=\"4.705534355986254%\" y=\"40\" height=\"18\" overflow=\"visible\" width=\"30\">    <path d=\"M 10 -9 l 6 18 L 10 25 L 0 25 L 0 -9\" fill=\"#ffffff\" style=\"stroke:rgb(255,255,255);stroke-width:2\" />  </svg></g><g transform=\"translate(-1.5,0)\">  <svg x=\"8.555378379326404%\" y=\"40\" height=\"18\" overflow=\"visible\" width=\"30\">    <path d=\"M 0 -9 l 6 18 L 0 25\" fill=\"none\" style=\"stroke:rgb(255, 195, 213);stroke-width:2\" />  </svg></g><rect x=\"7.473095137154385%\" y=\"40\" height=\"20\" width=\"1.0822832421720197%\"      onmouseover=\"document.getElementById('_tp_plcvrzhpzhqngzpsiagy_ind_40').style.textDecoration = 'underline';document.getElementById('_fs_plcvrzhpzhqngzpsiagy_ind_40').style.opacity = 1;document.getElementById('_fb_plcvrzhpzhqngzpsiagy_ind_40').style.opacity = 1;\"      onmouseout=\"document.getElementById('_tp_plcvrzhpzhqngzpsiagy_ind_40').style.textDecoration = 'none';document.getElementById('_fs_plcvrzhpzhqngzpsiagy_ind_40').style.opacity = 0;document.getElementById('_fb_plcvrzhpzhqngzpsiagy_ind_40').style.opacity = 0;\" style=\"fill:rgb(0,0,0,0)\" /><g transform=\"translate(-1.5,0)\">  <svg x=\"7.473095137154385%\" y=\"40\" height=\"18\" overflow=\"visible\" width=\"30\">    <path d=\"M 0 -9 l 6 18 L 0 25\" fill=\"none\" style=\"stroke:rgb(255, 195, 213);stroke-width:2\" />  </svg></g><rect x=\"6.569855848487579%\" y=\"40\" height=\"20\" width=\"0.9032392886668053%\"      onmouseover=\"document.getElementById('_tp_plcvrzhpzhqngzpsiagy_ind_27').style.textDecoration = 'underline';document.getElementById('_fs_plcvrzhpzhqngzpsiagy_ind_27').style.opacity = 1;document.getElementById('_fb_plcvrzhpzhqngzpsiagy_ind_27').style.opacity = 1;\"      onmouseout=\"document.getElementById('_tp_plcvrzhpzhqngzpsiagy_ind_27').style.textDecoration = 'none';document.getElementById('_fs_plcvrzhpzhqngzpsiagy_ind_27').style.opacity = 0;document.getElementById('_fb_plcvrzhpzhqngzpsiagy_ind_27').style.opacity = 0;\" style=\"fill:rgb(0,0,0,0)\" /><g transform=\"translate(-1.5,0)\">  <svg x=\"6.569855848487579%\" y=\"40\" height=\"18\" overflow=\"visible\" width=\"30\">    <path d=\"M 0 -9 l 6 18 L 0 25\" fill=\"none\" style=\"stroke:rgb(255, 195, 213);stroke-width:2\" />  </svg></g><rect x=\"5.983025343290682%\" y=\"40\" height=\"20\" width=\"0.5868305051968976%\"      onmouseover=\"document.getElementById('_tp_plcvrzhpzhqngzpsiagy_ind_41').style.textDecoration = 'underline';document.getElementById('_fs_plcvrzhpzhqngzpsiagy_ind_41').style.opacity = 1;document.getElementById('_fb_plcvrzhpzhqngzpsiagy_ind_41').style.opacity = 1;\"      onmouseout=\"document.getElementById('_tp_plcvrzhpzhqngzpsiagy_ind_41').style.textDecoration = 'none';document.getElementById('_fs_plcvrzhpzhqngzpsiagy_ind_41').style.opacity = 0;document.getElementById('_fb_plcvrzhpzhqngzpsiagy_ind_41').style.opacity = 0;\" style=\"fill:rgb(0,0,0,0)\" /><g transform=\"translate(-1.5,0)\">  <svg x=\"5.983025343290682%\" y=\"40\" height=\"18\" overflow=\"visible\" width=\"30\">    <path d=\"M 0 -9 l 6 18 L 0 25\" fill=\"none\" style=\"stroke:rgb(255, 195, 213);stroke-width:2\" />  </svg></g><rect x=\"5.580955784048706%\" y=\"40\" height=\"20\" width=\"0.4020695592419754%\"      onmouseover=\"document.getElementById('_tp_plcvrzhpzhqngzpsiagy_ind_19').style.textDecoration = 'underline';document.getElementById('_fs_plcvrzhpzhqngzpsiagy_ind_19').style.opacity = 1;document.getElementById('_fb_plcvrzhpzhqngzpsiagy_ind_19').style.opacity = 1;\"      onmouseout=\"document.getElementById('_tp_plcvrzhpzhqngzpsiagy_ind_19').style.textDecoration = 'none';document.getElementById('_fs_plcvrzhpzhqngzpsiagy_ind_19').style.opacity = 0;document.getElementById('_fb_plcvrzhpzhqngzpsiagy_ind_19').style.opacity = 0;\" style=\"fill:rgb(0,0,0,0)\" /><g transform=\"translate(-1.5,0)\">  <svg x=\"5.580955784048706%\" y=\"40\" height=\"18\" overflow=\"visible\" width=\"30\">    <path d=\"M 0 -9 l 6 18 L 0 25\" fill=\"none\" style=\"stroke:rgb(255, 195, 213);stroke-width:2\" />  </svg></g><rect x=\"5.294959636225249%\" y=\"40\" height=\"20\" width=\"0.2859961478234574%\"      onmouseover=\"document.getElementById('_tp_plcvrzhpzhqngzpsiagy_ind_25').style.textDecoration = 'underline';document.getElementById('_fs_plcvrzhpzhqngzpsiagy_ind_25').style.opacity = 1;document.getElementById('_fb_plcvrzhpzhqngzpsiagy_ind_25').style.opacity = 1;\"      onmouseout=\"document.getElementById('_tp_plcvrzhpzhqngzpsiagy_ind_25').style.textDecoration = 'none';document.getElementById('_fs_plcvrzhpzhqngzpsiagy_ind_25').style.opacity = 0;document.getElementById('_fb_plcvrzhpzhqngzpsiagy_ind_25').style.opacity = 0;\" style=\"fill:rgb(0,0,0,0)\" /><g transform=\"translate(-1.5,0)\">  <svg x=\"5.294959636225249%\" y=\"40\" height=\"18\" overflow=\"visible\" width=\"30\">    <path d=\"M 0 -9 l 6 18 L 0 25\" fill=\"none\" style=\"stroke:rgb(255, 195, 213);stroke-width:2\" />  </svg></g><rect x=\"5.046218204501862%\" y=\"40\" height=\"20\" width=\"0.2487414317233867%\"      onmouseover=\"document.getElementById('_tp_plcvrzhpzhqngzpsiagy_ind_42').style.textDecoration = 'underline';document.getElementById('_fs_plcvrzhpzhqngzpsiagy_ind_42').style.opacity = 1;document.getElementById('_fb_plcvrzhpzhqngzpsiagy_ind_42').style.opacity = 1;\"      onmouseout=\"document.getElementById('_tp_plcvrzhpzhqngzpsiagy_ind_42').style.textDecoration = 'none';document.getElementById('_fs_plcvrzhpzhqngzpsiagy_ind_42').style.opacity = 0;document.getElementById('_fb_plcvrzhpzhqngzpsiagy_ind_42').style.opacity = 0;\" style=\"fill:rgb(0,0,0,0)\" /><g transform=\"translate(-1.5,0)\">  <svg x=\"5.046218204501862%\" y=\"40\" height=\"18\" overflow=\"visible\" width=\"30\">    <path d=\"M 0 -9 l 6 18 L 0 25\" fill=\"none\" style=\"stroke:rgb(255, 195, 213);stroke-width:2\" />  </svg></g><rect x=\"4.884613235952812%\" y=\"40\" height=\"20\" width=\"0.16160496854905038%\"      onmouseover=\"document.getElementById('_tp_plcvrzhpzhqngzpsiagy_ind_28').style.textDecoration = 'underline';document.getElementById('_fs_plcvrzhpzhqngzpsiagy_ind_28').style.opacity = 1;document.getElementById('_fb_plcvrzhpzhqngzpsiagy_ind_28').style.opacity = 1;\"      onmouseout=\"document.getElementById('_tp_plcvrzhpzhqngzpsiagy_ind_28').style.textDecoration = 'none';document.getElementById('_fs_plcvrzhpzhqngzpsiagy_ind_28').style.opacity = 0;document.getElementById('_fb_plcvrzhpzhqngzpsiagy_ind_28').style.opacity = 0;\" style=\"fill:rgb(0,0,0,0)\" /><g transform=\"translate(-1.5,0)\">  <svg x=\"4.884613235952812%\" y=\"40\" height=\"18\" overflow=\"visible\" width=\"30\">    <path d=\"M 0 -9 l 6 18 L 0 25\" fill=\"none\" style=\"stroke:rgb(255, 195, 213);stroke-width:2\" />  </svg></g><rect x=\"4.7470176806396935%\" y=\"40\" height=\"20\" width=\"0.1375955553131183%\"      onmouseover=\"document.getElementById('_tp_plcvrzhpzhqngzpsiagy_ind_26').style.textDecoration = 'underline';document.getElementById('_fs_plcvrzhpzhqngzpsiagy_ind_26').style.opacity = 1;document.getElementById('_fb_plcvrzhpzhqngzpsiagy_ind_26').style.opacity = 1;\"      onmouseout=\"document.getElementById('_tp_plcvrzhpzhqngzpsiagy_ind_26').style.textDecoration = 'none';document.getElementById('_fs_plcvrzhpzhqngzpsiagy_ind_26').style.opacity = 0;document.getElementById('_fb_plcvrzhpzhqngzpsiagy_ind_26').style.opacity = 0;\" style=\"fill:rgb(0,0,0,0)\" /><rect x=\"4.705534355986254%\" y=\"40\" height=\"20\" width=\"0.041483324653439624%\"      onmouseover=\"document.getElementById('_tp_plcvrzhpzhqngzpsiagy_ind_30').style.textDecoration = 'underline';document.getElementById('_fs_plcvrzhpzhqngzpsiagy_ind_30').style.opacity = 1;document.getElementById('_fb_plcvrzhpzhqngzpsiagy_ind_30').style.opacity = 1;\"      onmouseout=\"document.getElementById('_tp_plcvrzhpzhqngzpsiagy_ind_30').style.textDecoration = 'none';document.getElementById('_fs_plcvrzhpzhqngzpsiagy_ind_30').style.opacity = 0;document.getElementById('_fb_plcvrzhpzhqngzpsiagy_ind_30').style.opacity = 0;\" style=\"fill:rgb(0,0,0,0)\" /><rect x=\"8.555378379326404%\" width=\"43.20549953652238%\" y=\"40\" height=\"18\" style=\"fill:rgb(0.0, 138.56128015770727, 250.76166088685727); stroke-width:0; stroke:rgb(0,0,0)\" /><line x1=\"8.555378379326404%\" x2=\"13.523932658577912%\" y1=\"60\" y2=\"60\" id=\"_fb_plcvrzhpzhqngzpsiagy_ind_22\" style=\"stroke:rgb(0.0, 138.56128015770727, 250.76166088685727);stroke-width:2; opacity: 0\"/><text x=\"11.03965551895216%\" y=\"71\" font-size=\"12px\" fill=\"rgb(0.0, 138.56128015770727, 250.76166088685727)\" id=\"_fs_plcvrzhpzhqngzpsiagy_ind_22\" style=\"opacity: 0\" dominant-baseline=\"middle\" text-anchor=\"middle\">-0.059</text><svg x=\"8.555378379326404%\" y=\"40\" height=\"20\" width=\"4.968554279251508%\">  <svg x=\"0\" y=\"0\" width=\"100%\" height=\"100%\">    <text x=\"50%\" y=\"9\" font-size=\"12px\" fill=\"rgb(255,255,255)\" dominant-baseline=\"middle\" text-anchor=\"middle\">entertaining</text>  </svg></svg><line x1=\"13.523932658577912%\" x2=\"17.778155214321032%\" y1=\"60\" y2=\"60\" id=\"_fb_plcvrzhpzhqngzpsiagy_ind_24\" style=\"stroke:rgb(0.0, 138.56128015770727, 250.76166088685727);stroke-width:2; opacity: 0\"/><text x=\"15.651043936449472%\" y=\"71\" font-size=\"12px\" fill=\"rgb(0.0, 138.56128015770727, 250.76166088685727)\" id=\"_fs_plcvrzhpzhqngzpsiagy_ind_24\" style=\"opacity: 0\" dominant-baseline=\"middle\" text-anchor=\"middle\">-0.05</text><svg x=\"13.523932658577912%\" y=\"40\" height=\"20\" width=\"4.2542225557431195%\">  <svg x=\"0\" y=\"0\" width=\"100%\" height=\"100%\">    <text x=\"50%\" y=\"9\" font-size=\"12px\" fill=\"rgb(255,255,255)\" dominant-baseline=\"middle\" text-anchor=\"middle\">competently handled</text>  </svg></svg><line x1=\"17.778155214321032%\" x2=\"21.628895862789474%\" y1=\"60\" y2=\"60\" id=\"_fb_plcvrzhpzhqngzpsiagy_ind_34\" style=\"stroke:rgb(0.0, 138.56128015770727, 250.76166088685727);stroke-width:2; opacity: 0\"/><text x=\"19.703525538555255%\" y=\"71\" font-size=\"12px\" fill=\"rgb(0.0, 138.56128015770727, 250.76166088685727)\" id=\"_fs_plcvrzhpzhqngzpsiagy_ind_34\" style=\"opacity: 0\" dominant-baseline=\"middle\" text-anchor=\"middle\">-0.045</text><svg x=\"17.778155214321032%\" y=\"40\" height=\"20\" width=\"3.8507406484684417%\">  <svg x=\"0\" y=\"0\" width=\"100%\" height=\"100%\">    <text x=\"50%\" y=\"9\" font-size=\"12px\" fill=\"rgb(255,255,255)\" dominant-baseline=\"middle\" text-anchor=\"middle\">The plot is made</text>  </svg></svg><line x1=\"21.628895862789474%\" x2=\"25.070541833317936%\" y1=\"60\" y2=\"60\" id=\"_fb_plcvrzhpzhqngzpsiagy_ind_35\" style=\"stroke:rgb(0.0, 138.56128015770727, 250.76166088685727);stroke-width:2; opacity: 0\"/><text x=\"23.349718848053705%\" y=\"71\" font-size=\"12px\" fill=\"rgb(0.0, 138.56128015770727, 250.76166088685727)\" id=\"_fs_plcvrzhpzhqngzpsiagy_ind_35\" style=\"opacity: 0\" dominant-baseline=\"middle\" text-anchor=\"middle\">-0.041</text><svg x=\"21.628895862789474%\" y=\"40\" height=\"20\" width=\"3.4416459705284623%\">  <svg x=\"0\" y=\"0\" width=\"100%\" height=\"100%\">    <text x=\"50%\" y=\"9\" font-size=\"12px\" fill=\"rgb(255,255,255)\" dominant-baseline=\"middle\" text-anchor=\"middle\">interesting by the inclusion</text>  </svg></svg><line x1=\"25.070541833317936%\" x2=\"27.9374505908235%\" y1=\"60\" y2=\"60\" id=\"_fb_plcvrzhpzhqngzpsiagy_ind_21\" style=\"stroke:rgb(0.0, 138.56128015770727, 250.76166088685727);stroke-width:2; opacity: 0\"/><text x=\"26.503996212070717%\" y=\"71\" font-size=\"12px\" fill=\"rgb(0.0, 138.56128015770727, 250.76166088685727)\" id=\"_fs_plcvrzhpzhqngzpsiagy_ind_21\" style=\"opacity: 0\" dominant-baseline=\"middle\" text-anchor=\"middle\">-0.034</text><svg x=\"25.070541833317936%\" y=\"40\" height=\"20\" width=\"2.8669087575055627%\">  <svg x=\"0\" y=\"0\" width=\"100%\" height=\"100%\">    <text x=\"50%\" y=\"9\" font-size=\"12px\" fill=\"rgb(255,255,255)\" dominant-baseline=\"middle\" text-anchor=\"middle\">this is</text>  </svg></svg><line x1=\"27.9374505908235%\" x2=\"29.95107843474135%\" y1=\"60\" y2=\"60\" id=\"_fb_plcvrzhpzhqngzpsiagy_ind_20\" style=\"stroke:rgb(0.0, 138.56128015770727, 250.76166088685727);stroke-width:2; opacity: 0\"/><text x=\"28.944264512782425%\" y=\"71\" font-size=\"12px\" fill=\"rgb(0.0, 138.56128015770727, 250.76166088685727)\" id=\"_fs_plcvrzhpzhqngzpsiagy_ind_20\" style=\"opacity: 0\" dominant-baseline=\"middle\" text-anchor=\"middle\">-0.024</text><svg x=\"27.9374505908235%\" y=\"40\" height=\"20\" width=\"2.0136278439178525%\">  <svg x=\"0\" y=\"0\" width=\"100%\" height=\"100%\">    <text x=\"50%\" y=\"9\" font-size=\"12px\" fill=\"rgb(255,255,255)\" dominant-baseline=\"middle\" text-anchor=\"middle\">All of</text>  </svg></svg><line x1=\"29.95107843474135%\" x2=\"31.523137141776534%\" y1=\"60\" y2=\"60\" id=\"_fb_plcvrzhpzhqngzpsiagy_ind_39\" style=\"stroke:rgb(0.0, 138.56128015770727, 250.76166088685727);stroke-width:2; opacity: 0\"/><text x=\"30.737107788258943%\" y=\"71\" font-size=\"12px\" fill=\"rgb(0.0, 138.56128015770727, 250.76166088685727)\" id=\"_fs_plcvrzhpzhqngzpsiagy_ind_39\" style=\"opacity: 0\" dominant-baseline=\"middle\" text-anchor=\"middle\">-0.019</text><svg x=\"29.95107843474135%\" y=\"40\" height=\"20\" width=\"1.5720587070351826%\">  <svg x=\"0\" y=\"0\" width=\"100%\" height=\"100%\">    <text x=\"50%\" y=\"9\" font-size=\"12px\" fill=\"rgb(255,255,255)\" dominant-baseline=\"middle\" text-anchor=\"middle\">but</text>  </svg></svg><line x1=\"31.523137141776534%\" x2=\"33.003117700921884%\" y1=\"60\" y2=\"60\" id=\"_fb_plcvrzhpzhqngzpsiagy_ind_1\" style=\"stroke:rgb(0.0, 138.56128015770727, 250.76166088685727);stroke-width:2; opacity: 0\"/><text x=\"32.26312742134921%\" y=\"71\" font-size=\"12px\" fill=\"rgb(0.0, 138.56128015770727, 250.76166088685727)\" id=\"_fs_plcvrzhpzhqngzpsiagy_ind_1\" style=\"opacity: 0\" dominant-baseline=\"middle\" text-anchor=\"middle\">-0.017</text><svg x=\"31.523137141776534%\" y=\"40\" height=\"20\" width=\"1.4799805591453499%\">  <svg x=\"0\" y=\"0\" width=\"100%\" height=\"100%\">    <text x=\"50%\" y=\"9\" font-size=\"12px\" fill=\"rgb(255,255,255)\" dominant-baseline=\"middle\" text-anchor=\"middle\">the entertainment</text>  </svg></svg><line x1=\"33.003117700921884%\" x2=\"34.371954357460936%\" y1=\"60\" y2=\"60\" id=\"_fb_plcvrzhpzhqngzpsiagy_ind_23\" style=\"stroke:rgb(0.0, 138.56128015770727, 250.76166088685727);stroke-width:2; opacity: 0\"/><text x=\"33.687536029191406%\" y=\"71\" font-size=\"12px\" fill=\"rgb(0.0, 138.56128015770727, 250.76166088685727)\" id=\"_fs_plcvrzhpzhqngzpsiagy_ind_23\" style=\"opacity: 0\" dominant-baseline=\"middle\" text-anchor=\"middle\">-0.016</text><svg x=\"33.003117700921884%\" y=\"40\" height=\"20\" width=\"1.3688366565390524%\">  <svg x=\"0\" y=\"0\" width=\"100%\" height=\"100%\">    <text x=\"50%\" y=\"9\" font-size=\"12px\" fill=\"rgb(255,255,255)\" dominant-baseline=\"middle\" text-anchor=\"middle\">and</text>  </svg></svg><line x1=\"34.371954357460936%\" x2=\"35.65608261838401%\" y1=\"60\" y2=\"60\" id=\"_fb_plcvrzhpzhqngzpsiagy_ind_37\" style=\"stroke:rgb(0.0, 138.56128015770727, 250.76166088685727);stroke-width:2; opacity: 0\"/><text x=\"35.01401848792247%\" y=\"71\" font-size=\"12px\" fill=\"rgb(0.0, 138.56128015770727, 250.76166088685727)\" id=\"_fs_plcvrzhpzhqngzpsiagy_ind_37\" style=\"opacity: 0\" dominant-baseline=\"middle\" text-anchor=\"middle\">-0.015</text><svg x=\"34.371954357460936%\" y=\"40\" height=\"20\" width=\"1.284128260923076%\">  <svg x=\"0\" y=\"0\" width=\"100%\" height=\"100%\">    <text x=\"50%\" y=\"9\" font-size=\"12px\" fill=\"rgb(255,255,255)\" dominant-baseline=\"middle\" text-anchor=\"middle\">which is</text>  </svg></svg><line x1=\"35.65608261838401%\" x2=\"36.793811726494866%\" y1=\"60\" y2=\"60\" id=\"_fb_plcvrzhpzhqngzpsiagy_ind_0\" style=\"stroke:rgb(0.0, 138.56128015770727, 250.76166088685727);stroke-width:2; opacity: 0\"/><text x=\"36.22494717243944%\" y=\"71\" font-size=\"12px\" fill=\"rgb(0.0, 138.56128015770727, 250.76166088685727)\" id=\"_fs_plcvrzhpzhqngzpsiagy_ind_0\" style=\"opacity: 0\" dominant-baseline=\"middle\" text-anchor=\"middle\">-0.013</text><svg x=\"35.65608261838401%\" y=\"40\" height=\"20\" width=\"1.1377291081108538%\">  <svg x=\"0\" y=\"0\" width=\"100%\" height=\"100%\">    <text x=\"50%\" y=\"9\" font-size=\"12px\" fill=\"rgb(255,255,255)\" dominant-baseline=\"middle\" text-anchor=\"middle\">Worth</text>  </svg></svg><line x1=\"36.793811726494866%\" x2=\"37.84324237576039%\" y1=\"60\" y2=\"60\" id=\"_fb_plcvrzhpzhqngzpsiagy_ind_10\" style=\"stroke:rgb(0.0, 138.56128015770727, 250.76166088685727);stroke-width:2; opacity: 0\"/><text x=\"37.31852705112763%\" y=\"71\" font-size=\"12px\" fill=\"rgb(0.0, 138.56128015770727, 250.76166088685727)\" id=\"_fs_plcvrzhpzhqngzpsiagy_ind_10\" style=\"opacity: 0\" dominant-baseline=\"middle\" text-anchor=\"middle\">-0.012</text><svg x=\"36.793811726494866%\" y=\"40\" height=\"20\" width=\"1.049430649265524%\">  <svg x=\"0\" y=\"0\" width=\"100%\" height=\"100%\">    <text x=\"50%\" y=\"9\" font-size=\"12px\" fill=\"rgb(255,255,255)\" dominant-baseline=\"middle\" text-anchor=\"middle\">features the</text>  </svg></svg><line x1=\"37.84324237576039%\" x2=\"38.89225687313029%\" y1=\"60\" y2=\"60\" id=\"_fb_plcvrzhpzhqngzpsiagy_ind_2\" style=\"stroke:rgb(0.0, 138.56128015770727, 250.76166088685727);stroke-width:2; opacity: 0\"/><text x=\"38.36774962444534%\" y=\"71\" font-size=\"12px\" fill=\"rgb(0.0, 138.56128015770727, 250.76166088685727)\" id=\"_fs_plcvrzhpzhqngzpsiagy_ind_2\" style=\"opacity: 0\" dominant-baseline=\"middle\" text-anchor=\"middle\">-0.012</text><svg x=\"37.84324237576039%\" y=\"40\" height=\"20\" width=\"1.0490144973699032%\">  <svg x=\"0\" y=\"0\" width=\"100%\" height=\"100%\">    <text x=\"50%\" y=\"9\" font-size=\"12px\" fill=\"rgb(255,255,255)\" dominant-baseline=\"middle\" text-anchor=\"middle\">value of</text>  </svg></svg><line x1=\"38.89225687313029%\" x2=\"39.9224536637293%\" y1=\"60\" y2=\"60\" id=\"_fb_plcvrzhpzhqngzpsiagy_ind_12\" style=\"stroke:rgb(0.0, 138.56128015770727, 250.76166088685727);stroke-width:2; opacity: 0\"/><text x=\"39.4073552684298%\" y=\"71\" font-size=\"12px\" fill=\"rgb(0.0, 138.56128015770727, 250.76166088685727)\" id=\"_fs_plcvrzhpzhqngzpsiagy_ind_12\" style=\"opacity: 0\" dominant-baseline=\"middle\" text-anchor=\"middle\">-0.012</text><svg x=\"38.89225687313029%\" y=\"40\" height=\"20\" width=\"1.0301967905990068%\">  <svg x=\"0\" y=\"0\" width=\"100%\" height=\"100%\">    <text x=\"50%\" y=\"9\" font-size=\"12px\" fill=\"rgb(255,255,255)\" dominant-baseline=\"middle\" text-anchor=\"middle\">fights with the great Van</text>  </svg></svg><line x1=\"39.9224536637293%\" x2=\"40.914918556313694%\" y1=\"60\" y2=\"60\" id=\"_fb_plcvrzhpzhqngzpsiagy_ind_6\" style=\"stroke:rgb(0.0, 138.56128015770727, 250.76166088685727);stroke-width:2; opacity: 0\"/><text x=\"40.4186861100215%\" y=\"71\" font-size=\"12px\" fill=\"rgb(0.0, 138.56128015770727, 250.76166088685727)\" id=\"_fs_plcvrzhpzhqngzpsiagy_ind_6\" style=\"opacity: 0\" dominant-baseline=\"middle\" text-anchor=\"middle\">-0.012</text><svg x=\"39.9224536637293%\" y=\"40\" height=\"20\" width=\"0.992464892584394%\">  <svg x=\"0\" y=\"0\" width=\"100%\" height=\"100%\">    <text x=\"50%\" y=\"9\" font-size=\"12px\" fill=\"rgb(255,255,255)\" dominant-baseline=\"middle\" text-anchor=\"middle\">you like</text>  </svg></svg><line x1=\"40.914918556313694%\" x2=\"41.904107533842186%\" y1=\"60\" y2=\"60\" id=\"_fb_plcvrzhpzhqngzpsiagy_ind_13\" style=\"stroke:rgb(0.0, 138.56128015770727, 250.76166088685727);stroke-width:2; opacity: 0\"/><text x=\"41.409513045077944%\" y=\"71\" font-size=\"12px\" fill=\"rgb(0.0, 138.56128015770727, 250.76166088685727)\" id=\"_fs_plcvrzhpzhqngzpsiagy_ind_13\" style=\"opacity: 0\" dominant-baseline=\"middle\" text-anchor=\"middle\">-0.012</text><svg x=\"40.914918556313694%\" y=\"40\" height=\"20\" width=\"0.9891889775284923%\">  <svg x=\"0\" y=\"0\" width=\"100%\" height=\"100%\">    <text x=\"50%\" y=\"9\" font-size=\"12px\" fill=\"rgb(255,255,255)\" dominant-baseline=\"middle\" text-anchor=\"middle\">Damme kick style</text>  </svg></svg><line x1=\"41.904107533842186%\" x2=\"42.85327391761987%\" y1=\"60\" y2=\"60\" id=\"_fb_plcvrzhpzhqngzpsiagy_ind_38\" style=\"stroke:rgb(0.0, 138.56128015770727, 250.76166088685727);stroke-width:2; opacity: 0\"/><text x=\"42.37869072573103%\" y=\"71\" font-size=\"12px\" fill=\"rgb(0.0, 138.56128015770727, 250.76166088685727)\" id=\"_fs_plcvrzhpzhqngzpsiagy_ind_38\" style=\"opacity: 0\" dominant-baseline=\"middle\" text-anchor=\"middle\">-0.011</text><svg x=\"41.904107533842186%\" y=\"40\" height=\"20\" width=\"0.9491663837776869%\">  <svg x=\"0\" y=\"0\" width=\"100%\" height=\"100%\">    <text x=\"50%\" y=\"9\" font-size=\"12px\" fill=\"rgb(255,255,255)\" dominant-baseline=\"middle\" text-anchor=\"middle\">clever</text>  </svg></svg><line x1=\"42.85327391761987%\" x2=\"43.745582006006615%\" y1=\"60\" y2=\"60\" id=\"_fb_plcvrzhpzhqngzpsiagy_ind_11\" style=\"stroke:rgb(0.0, 138.56128015770727, 250.76166088685727);stroke-width:2; opacity: 0\"/><text x=\"43.299427961813244%\" y=\"71\" font-size=\"12px\" fill=\"rgb(0.0, 138.56128015770727, 250.76166088685727)\" id=\"_fs_plcvrzhpzhqngzpsiagy_ind_11\" style=\"opacity: 0\" dominant-baseline=\"middle\" text-anchor=\"middle\">-0.011</text><svg x=\"42.85327391761987%\" y=\"40\" height=\"20\" width=\"0.8923080883867414%\">  <svg x=\"0\" y=\"0\" width=\"100%\" height=\"100%\">    <text x=\"50%\" y=\"9\" font-size=\"12px\" fill=\"rgb(255,255,255)\" dominant-baseline=\"middle\" text-anchor=\"middle\">usual car chases,</text>  </svg></svg><line x1=\"43.745582006006615%\" x2=\"44.59343552119661%\" y1=\"60\" y2=\"60\" id=\"_fb_plcvrzhpzhqngzpsiagy_ind_3\" style=\"stroke:rgb(0.0, 138.56128015770727, 250.76166088685727);stroke-width:2; opacity: 0\"/><text x=\"44.16950876360161%\" y=\"71\" font-size=\"12px\" fill=\"rgb(0.0, 138.56128015770727, 250.76166088685727)\" id=\"_fs_plcvrzhpzhqngzpsiagy_ind_3\" style=\"opacity: 0\" dominant-baseline=\"middle\" text-anchor=\"middle\">-0.01</text><svg x=\"43.745582006006615%\" y=\"40\" height=\"20\" width=\"0.8478535151899962%\">  <svg x=\"0\" y=\"0\" width=\"100%\" height=\"100%\">    <text x=\"50%\" y=\"9\" font-size=\"12px\" fill=\"rgb(255,255,255)\" dominant-baseline=\"middle\" text-anchor=\"middle\">a rental</text>  </svg></svg><line x1=\"44.59343552119661%\" x2=\"45.43968968029627%\" y1=\"60\" y2=\"60\" id=\"_fb_plcvrzhpzhqngzpsiagy_ind_17\" style=\"stroke:rgb(0.0, 138.56128015770727, 250.76166088685727);stroke-width:2; opacity: 0\"/><text x=\"45.01656260074644%\" y=\"71\" font-size=\"12px\" fill=\"rgb(0.0, 138.56128015770727, 250.76166088685727)\" id=\"_fs_plcvrzhpzhqngzpsiagy_ind_17\" style=\"opacity: 0\" dominant-baseline=\"middle\" text-anchor=\"middle\">-0.01</text><svg x=\"44.59343552119661%\" y=\"40\" height=\"20\" width=\"0.846254159099658%\">  <svg x=\"0\" y=\"0\" width=\"100%\" height=\"100%\">    <text x=\"50%\" y=\"9\" font-size=\"12px\" fill=\"rgb(255,255,255)\" dominant-baseline=\"middle\" text-anchor=\"middle\">40 shell load shotgun,</text>  </svg></svg><line x1=\"45.43968968029627%\" x2=\"46.14130968430365%\" y1=\"60\" y2=\"60\" id=\"_fb_plcvrzhpzhqngzpsiagy_ind_15\" style=\"stroke:rgb(0.0, 138.56128015770727, 250.76166088685727);stroke-width:2; opacity: 0\"/><text x=\"45.79049968229996%\" y=\"71\" font-size=\"12px\" fill=\"rgb(0.0, 138.56128015770727, 250.76166088685727)\" id=\"_fs_plcvrzhpzhqngzpsiagy_ind_15\" style=\"opacity: 0\" dominant-baseline=\"middle\" text-anchor=\"middle\">-0.008</text><svg x=\"45.43968968029627%\" y=\"40\" height=\"20\" width=\"0.7016200040073812%\">  <svg x=\"0\" y=\"0\" width=\"100%\" height=\"100%\">    <text x=\"50%\" y=\"9\" font-size=\"12px\" fill=\"rgb(255,255,255)\" dominant-baseline=\"middle\" text-anchor=\"middle\">shooting battles</text>  </svg></svg><line x1=\"46.14130968430365%\" x2=\"46.787074667611655%\" y1=\"60\" y2=\"60\" id=\"_fb_plcvrzhpzhqngzpsiagy_ind_16\" style=\"stroke:rgb(0.0, 138.56128015770727, 250.76166088685727);stroke-width:2; opacity: 0\"/><text x=\"46.46419217595765%\" y=\"71\" font-size=\"12px\" fill=\"rgb(0.0, 138.56128015770727, 250.76166088685727)\" id=\"_fs_plcvrzhpzhqngzpsiagy_ind_16\" style=\"opacity: 0\" dominant-baseline=\"middle\" text-anchor=\"middle\">-0.008</text><svg x=\"46.14130968430365%\" y=\"40\" height=\"20\" width=\"0.6457649833080055%\">  <svg x=\"0\" y=\"0\" width=\"100%\" height=\"100%\">    <text x=\"50%\" y=\"9\" font-size=\"12px\" fill=\"rgb(255,255,255)\" dominant-baseline=\"middle\" text-anchor=\"middle\">with the</text>  </svg></svg><line x1=\"46.787074667611655%\" x2=\"47.418055205322716%\" y1=\"60\" y2=\"60\" id=\"_fb_plcvrzhpzhqngzpsiagy_ind_5\" style=\"stroke:rgb(0.0, 138.56128015770727, 250.76166088685727);stroke-width:2; opacity: 0\"/><text x=\"47.10256493646719%\" y=\"71\" font-size=\"12px\" fill=\"rgb(0.0, 138.56128015770727, 250.76166088685727)\" id=\"_fs_plcvrzhpzhqngzpsiagy_ind_5\" style=\"opacity: 0\" dominant-baseline=\"middle\" text-anchor=\"middle\">-0.007</text><svg x=\"46.787074667611655%\" y=\"40\" height=\"20\" width=\"0.6309805377110607%\">  <svg x=\"0\" y=\"0\" width=\"100%\" height=\"100%\">    <text x=\"50%\" y=\"9\" font-size=\"12px\" fill=\"rgb(255,255,255)\" dominant-baseline=\"middle\" text-anchor=\"middle\">especially if</text>  </svg></svg><line x1=\"47.418055205322716%\" x2=\"48.022035343214775%\" y1=\"60\" y2=\"60\" id=\"_fb_plcvrzhpzhqngzpsiagy_ind_33\" style=\"stroke:rgb(0.0, 138.56128015770727, 250.76166088685727);stroke-width:2; opacity: 0\"/><text x=\"47.72004527426874%\" y=\"71\" font-size=\"12px\" fill=\"rgb(0.0, 138.56128015770727, 250.76166088685727)\" id=\"_fs_plcvrzhpzhqngzpsiagy_ind_33\" style=\"opacity: 0\" dominant-baseline=\"middle\" text-anchor=\"middle\">-0.007</text><svg x=\"47.418055205322716%\" y=\"40\" height=\"20\" width=\"0.6039801378920586%\">  <svg x=\"0\" y=\"0\" width=\"100%\" height=\"100%\">    <text x=\"50%\" y=\"9\" font-size=\"12px\" fill=\"rgb(255,255,255)\" dominant-baseline=\"middle\" text-anchor=\"middle\">/&gt;</text>  </svg></svg><line x1=\"48.022035343214775%\" x2=\"48.542381962388895%\" y1=\"60\" y2=\"60\" id=\"_fb_plcvrzhpzhqngzpsiagy_ind_36\" style=\"stroke:rgb(0.0, 138.56128015770727, 250.76166088685727);stroke-width:2; opacity: 0\"/><text x=\"48.282208652801835%\" y=\"71\" font-size=\"12px\" fill=\"rgb(0.0, 138.56128015770727, 250.76166088685727)\" id=\"_fs_plcvrzhpzhqngzpsiagy_ind_36\" style=\"opacity: 0\" dominant-baseline=\"middle\" text-anchor=\"middle\">-0.006</text><svg x=\"48.022035343214775%\" y=\"40\" height=\"20\" width=\"0.52034661917412%\">  <svg x=\"0\" y=\"0\" width=\"100%\" height=\"100%\">    <text x=\"50%\" y=\"9\" font-size=\"12px\" fill=\"rgb(255,255,255)\" dominant-baseline=\"middle\" text-anchor=\"middle\">of a rabbit,</text>  </svg></svg><line x1=\"48.542381962388895%\" x2=\"49.0533721191032%\" y1=\"60\" y2=\"60\" id=\"_fb_plcvrzhpzhqngzpsiagy_ind_31\" style=\"stroke:rgb(0.0, 138.56128015770727, 250.76166088685727);stroke-width:2; opacity: 0\"/><text x=\"48.797877040746044%\" y=\"71\" font-size=\"12px\" fill=\"rgb(0.0, 138.56128015770727, 250.76166088685727)\" id=\"_fs_plcvrzhpzhqngzpsiagy_ind_31\" style=\"opacity: 0\" dominant-baseline=\"middle\" text-anchor=\"middle\">-0.006</text><svg x=\"48.542381962388895%\" y=\"40\" height=\"20\" width=\"0.5109901567143069%\">  <svg x=\"0\" y=\"0\" width=\"100%\" height=\"100%\">    <text x=\"50%\" y=\"9\" font-size=\"12px\" fill=\"rgb(255,255,255)\" dominant-baseline=\"middle\" text-anchor=\"middle\">&lt;br /&gt;</text>  </svg></svg><line x1=\"49.0533721191032%\" x2=\"49.540379333760136%\" y1=\"60\" y2=\"60\" id=\"_fb_plcvrzhpzhqngzpsiagy_ind_43\" style=\"stroke:rgb(0.0, 138.56128015770727, 250.76166088685727);stroke-width:2; opacity: 0\"/><text x=\"49.296875726431665%\" y=\"71\" font-size=\"12px\" fill=\"rgb(0.0, 138.56128015770727, 250.76166088685727)\" id=\"_fs_plcvrzhpzhqngzpsiagy_ind_43\" style=\"opacity: 0\" dominant-baseline=\"middle\" text-anchor=\"middle\">-0.006</text><svg x=\"49.0533721191032%\" y=\"40\" height=\"20\" width=\"0.4870072146569342%\">  <svg x=\"0\" y=\"0\" width=\"100%\" height=\"100%\">    <text x=\"50%\" y=\"9\" font-size=\"12px\" fill=\"rgb(255,255,255)\" dominant-baseline=\"middle\" text-anchor=\"middle\">Many of</text>  </svg></svg><line x1=\"49.540379333760136%\" x2=\"49.983010140325%\" y1=\"60\" y2=\"60\" id=\"_fb_plcvrzhpzhqngzpsiagy_ind_8\" style=\"stroke:rgb(0.0, 138.56128015770727, 250.76166088685727);stroke-width:2; opacity: 0\"/><text x=\"49.76169473704257%\" y=\"71\" font-size=\"12px\" fill=\"rgb(0.0, 138.56128015770727, 250.76166088685727)\" id=\"_fs_plcvrzhpzhqngzpsiagy_ind_8\" style=\"opacity: 0\" dominant-baseline=\"middle\" text-anchor=\"middle\">-0.005</text><svg x=\"49.540379333760136%\" y=\"40\" height=\"20\" width=\"0.4426308065648641%\">  <svg x=\"0\" y=\"0\" width=\"100%\" height=\"100%\">    <text x=\"50%\" y=\"9\" font-size=\"12px\" fill=\"rgb(255,255,255)\" dominant-baseline=\"middle\" text-anchor=\"middle\">.</text>  </svg></svg><line x1=\"49.983010140325%\" x2=\"50.41663503941781%\" y1=\"60\" y2=\"60\" id=\"_fb_plcvrzhpzhqngzpsiagy_ind_14\" style=\"stroke:rgb(0.0, 138.56128015770727, 250.76166088685727);stroke-width:2; opacity: 0\"/><text x=\"50.1998225898714%\" y=\"71\" font-size=\"12px\" fill=\"rgb(0.0, 138.56128015770727, 250.76166088685727)\" id=\"_fs_plcvrzhpzhqngzpsiagy_ind_14\" style=\"opacity: 0\" dominant-baseline=\"middle\" text-anchor=\"middle\">-0.005</text><svg x=\"49.983010140325%\" y=\"40\" height=\"20\" width=\"0.43362489909281265%\">  <svg x=\"0\" y=\"0\" width=\"100%\" height=\"100%\">    <text x=\"50%\" y=\"9\" font-size=\"12px\" fill=\"rgb(255,255,255)\" dominant-baseline=\"middle\" text-anchor=\"middle\">,</text>  </svg></svg><line x1=\"50.41663503941781%\" x2=\"50.79281141651697%\" y1=\"60\" y2=\"60\" id=\"_fb_plcvrzhpzhqngzpsiagy_ind_9\" style=\"stroke:rgb(0.0, 138.56128015770727, 250.76166088685727);stroke-width:2; opacity: 0\"/><text x=\"50.60472322796739%\" y=\"71\" font-size=\"12px\" fill=\"rgb(0.0, 138.56128015770727, 250.76166088685727)\" id=\"_fs_plcvrzhpzhqngzpsiagy_ind_9\" style=\"opacity: 0\" dominant-baseline=\"middle\" text-anchor=\"middle\">-0.004</text><svg x=\"50.41663503941781%\" y=\"40\" height=\"20\" width=\"0.3761763770991564%\">  <svg x=\"0\" y=\"0\" width=\"100%\" height=\"100%\">    <text x=\"50%\" y=\"9\" font-size=\"12px\" fill=\"rgb(255,255,255)\" dominant-baseline=\"middle\" text-anchor=\"middle\">This one</text>  </svg></svg><line x1=\"50.79281141651697%\" x2=\"51.10586185394245%\" y1=\"60\" y2=\"60\" id=\"_fb_plcvrzhpzhqngzpsiagy_ind_4\" style=\"stroke:rgb(0.0, 138.56128015770727, 250.76166088685727);stroke-width:2; opacity: 0\"/><text x=\"50.94933663522971%\" y=\"71\" font-size=\"12px\" fill=\"rgb(0.0, 138.56128015770727, 250.76166088685727)\" id=\"_fs_plcvrzhpzhqngzpsiagy_ind_4\" style=\"opacity: 0\" dominant-baseline=\"middle\" text-anchor=\"middle\">-0.004</text><svg x=\"50.79281141651697%\" y=\"40\" height=\"20\" width=\"0.3130504374254812%\">  <svg x=\"0\" y=\"0\" width=\"100%\" height=\"100%\">    <text x=\"50%\" y=\"9\" font-size=\"12px\" fill=\"rgb(255,255,255)\" dominant-baseline=\"middle\" text-anchor=\"middle\">,</text>  </svg></svg><line x1=\"51.10586185394245%\" x2=\"51.36040597328239%\" y1=\"60\" y2=\"60\" id=\"_fb_plcvrzhpzhqngzpsiagy_ind_32\" style=\"stroke:rgb(0.0, 138.56128015770727, 250.76166088685727);stroke-width:2; opacity: 0\"/><text x=\"51.23313391361242%\" y=\"71\" font-size=\"12px\" fill=\"rgb(0.0, 138.56128015770727, 250.76166088685727)\" id=\"_fs_plcvrzhpzhqngzpsiagy_ind_32\" style=\"opacity: 0\" dominant-baseline=\"middle\" text-anchor=\"middle\">-0.003</text><svg x=\"51.10586185394245%\" y=\"40\" height=\"20\" width=\"0.2545441193399398%\">  <svg x=\"0\" y=\"0\" width=\"100%\" height=\"100%\">    <text x=\"50%\" y=\"9\" font-size=\"12px\" fill=\"rgb(255,255,255)\" dominant-baseline=\"middle\" text-anchor=\"middle\">&lt;br</text>  </svg></svg><line x1=\"51.36040597328239%\" x2=\"51.57696872552328%\" y1=\"60\" y2=\"60\" id=\"_fb_plcvrzhpzhqngzpsiagy_ind_44\" style=\"stroke:rgb(0.0, 138.56128015770727, 250.76166088685727);stroke-width:2; opacity: 0\"/><text x=\"51.468687349402835%\" y=\"71\" font-size=\"12px\" fill=\"rgb(0.0, 138.56128015770727, 250.76166088685727)\" id=\"_fs_plcvrzhpzhqngzpsiagy_ind_44\" style=\"opacity: 0\" dominant-baseline=\"middle\" text-anchor=\"middle\">-0.003</text><svg x=\"51.36040597328239%\" y=\"40\" height=\"20\" width=\"0.21656275224088972%\">  <svg x=\"0\" y=\"0\" width=\"100%\" height=\"100%\">    <text x=\"50%\" y=\"9\" font-size=\"12px\" fill=\"rgb(255,255,255)\" dominant-baseline=\"middle\" text-anchor=\"middle\">the c</text>  </svg></svg><line x1=\"51.57696872552328%\" x2=\"51.66585006101877%\" y1=\"60\" y2=\"60\" id=\"_fb_plcvrzhpzhqngzpsiagy_ind_18\" style=\"stroke:rgb(0.0, 138.56128015770727, 250.76166088685727);stroke-width:2; opacity: 0\"/><text x=\"51.62140939327102%\" y=\"71\" font-size=\"12px\" fill=\"rgb(0.0, 138.56128015770727, 250.76166088685727)\" id=\"_fs_plcvrzhpzhqngzpsiagy_ind_18\" style=\"opacity: 0\" dominant-baseline=\"middle\" text-anchor=\"middle\">-0.001</text><svg x=\"51.57696872552328%\" y=\"40\" height=\"20\" width=\"0.08888133549549337%\">  <svg x=\"0\" y=\"0\" width=\"100%\" height=\"100%\">    <text x=\"50%\" y=\"9\" font-size=\"12px\" fill=\"rgb(255,255,255)\" dominant-baseline=\"middle\" text-anchor=\"middle\">and</text>  </svg></svg><line x1=\"51.66585006101877%\" x2=\"51.72522306656082%\" y1=\"60\" y2=\"60\" id=\"_fb_plcvrzhpzhqngzpsiagy_ind_29\" style=\"stroke:rgb(0.0, 138.56128015770727, 250.76166088685727);stroke-width:2; opacity: 0\"/><text x=\"51.6955365637898%\" y=\"71\" font-size=\"12px\" fill=\"rgb(0.0, 138.56128015770727, 250.76166088685727)\" id=\"_fs_plcvrzhpzhqngzpsiagy_ind_29\" style=\"opacity: 0\" dominant-baseline=\"middle\" text-anchor=\"middle\">-0.001</text><svg x=\"51.66585006101877%\" y=\"40\" height=\"20\" width=\"0.059373005542049384%\">  <svg x=\"0\" y=\"0\" width=\"100%\" height=\"100%\">    <text x=\"50%\" y=\"9\" font-size=\"12px\" fill=\"rgb(255,255,255)\" dominant-baseline=\"middle\" text-anchor=\"middle\">you've seen</text>  </svg></svg><line x1=\"51.72522306656082%\" x2=\"51.76087791584878%\" y1=\"60\" y2=\"60\" id=\"_fb_plcvrzhpzhqngzpsiagy_ind_7\" style=\"stroke:rgb(0.0, 138.56128015770727, 250.76166088685727);stroke-width:2; opacity: 0\"/><text x=\"51.7430504912048%\" y=\"71\" font-size=\"12px\" fill=\"rgb(0.0, 138.56128015770727, 250.76166088685727)\" id=\"_fs_plcvrzhpzhqngzpsiagy_ind_7\" style=\"opacity: 0\" dominant-baseline=\"middle\" text-anchor=\"middle\">-0.0</text><svg x=\"51.72522306656082%\" y=\"40\" height=\"20\" width=\"0.03565484928795826%\">  <svg x=\"0\" y=\"0\" width=\"100%\" height=\"100%\">    <text x=\"50%\" y=\"9\" font-size=\"12px\" fill=\"rgb(255,255,255)\" dominant-baseline=\"middle\" text-anchor=\"middle\">action movies</text>  </svg></svg><g transform=\"translate(-8,0)\">  <svg x=\"13.523932658577912%\" y=\"40\" height=\"18\" overflow=\"visible\" width=\"30\">    <path d=\"M 8 -9 l -6 18 L 8 25\" fill=\"none\" style=\"stroke:rgb(0.0, 138.56128015770727, 250.76166088685727);stroke-width:2\" />  </svg></g><g transform=\"translate(-10,0)\">  <svg x=\"13.523932658577912%\" y=\"40\" height=\"18\" overflow=\"visible\" width=\"30\">    <path d=\"M 8 -9 l -6 18 L 8 25\" fill=\"none\" style=\"stroke:rgb(0.0, 138.56128015770727, 250.76166088685727);stroke-width:2\" />  </svg></g><g transform=\"translate(-12,0)\">  <svg x=\"13.523932658577912%\" y=\"40\" height=\"18\" overflow=\"visible\" width=\"30\">    <path d=\"M 8 -9 l -6 18 L 8 25\" fill=\"none\" style=\"stroke:rgb(0.0, 138.56128015770727, 250.76166088685727);stroke-width:2\" />  </svg></g><g transform=\"translate(-14,0)\">  <svg x=\"13.523932658577912%\" y=\"40\" height=\"18\" overflow=\"visible\" width=\"30\">    <path d=\"M 8 -9 l -6 18 L 8 25\" fill=\"none\" style=\"stroke:rgb(0.0, 138.56128015770727, 250.76166088685727);stroke-width:2\" />  </svg></g><g transform=\"translate(2,0)\">  <svg x=\"13.523932658577912%\" y=\"40\" height=\"18\" overflow=\"visible\" width=\"30\">    <path d=\"M 8 -9 l -6 18 L 8 25\" fill=\"none\" style=\"stroke:rgb(0.0, 138.56128015770727, 250.76166088685727);stroke-width:2\" />  </svg></g><g transform=\"translate(0,0)\">  <svg x=\"13.523932658577912%\" y=\"40\" height=\"18\" overflow=\"visible\" width=\"30\">    <path d=\"M 8 -9 l -6 18 L 8 25\" fill=\"none\" style=\"stroke:rgb(0.0, 138.56128015770727, 250.76166088685727);stroke-width:2\" />  </svg></g><g transform=\"translate(-2,0)\">  <svg x=\"13.523932658577912%\" y=\"40\" height=\"18\" overflow=\"visible\" width=\"30\">    <path d=\"M 8 -9 l -6 18 L 8 25\" fill=\"none\" style=\"stroke:rgb(0.0, 138.56128015770727, 250.76166088685727);stroke-width:2\" />  </svg></g><g transform=\"translate(-4,0)\">  <svg x=\"13.523932658577912%\" y=\"40\" height=\"18\" overflow=\"visible\" width=\"30\">    <path d=\"M 8 -9 l -6 18 L 8 25\" fill=\"none\" style=\"stroke:rgb(0.0, 138.56128015770727, 250.76166088685727);stroke-width:2\" />  </svg></g><g transform=\"translate(-8,0)\">  <svg x=\"17.778155214321032%\" y=\"40\" height=\"18\" overflow=\"visible\" width=\"30\">    <path d=\"M 8 -9 l -6 18 L 8 25\" fill=\"none\" style=\"stroke:rgb(0.0, 138.56128015770727, 250.76166088685727);stroke-width:2\" />  </svg></g><g transform=\"translate(-10,0)\">  <svg x=\"17.778155214321032%\" y=\"40\" height=\"18\" overflow=\"visible\" width=\"30\">    <path d=\"M 8 -9 l -6 18 L 8 25\" fill=\"none\" style=\"stroke:rgb(0.0, 138.56128015770727, 250.76166088685727);stroke-width:2\" />  </svg></g><g transform=\"translate(-12,0)\">  <svg x=\"17.778155214321032%\" y=\"40\" height=\"18\" overflow=\"visible\" width=\"30\">    <path d=\"M 8 -9 l -6 18 L 8 25\" fill=\"none\" style=\"stroke:rgb(0.0, 138.56128015770727, 250.76166088685727);stroke-width:2\" />  </svg></g><g transform=\"translate(-14,0)\">  <svg x=\"17.778155214321032%\" y=\"40\" height=\"18\" overflow=\"visible\" width=\"30\">    <path d=\"M 8 -9 l -6 18 L 8 25\" fill=\"none\" style=\"stroke:rgb(0.0, 138.56128015770727, 250.76166088685727);stroke-width:2\" />  </svg></g><g transform=\"translate(2,0)\">  <svg x=\"17.778155214321032%\" y=\"40\" height=\"18\" overflow=\"visible\" width=\"30\">    <path d=\"M 8 -9 l -6 18 L 8 25\" fill=\"none\" style=\"stroke:rgb(0.0, 138.56128015770727, 250.76166088685727);stroke-width:2\" />  </svg></g><g transform=\"translate(0,0)\">  <svg x=\"17.778155214321032%\" y=\"40\" height=\"18\" overflow=\"visible\" width=\"30\">    <path d=\"M 8 -9 l -6 18 L 8 25\" fill=\"none\" style=\"stroke:rgb(0.0, 138.56128015770727, 250.76166088685727);stroke-width:2\" />  </svg></g><g transform=\"translate(-2,0)\">  <svg x=\"17.778155214321032%\" y=\"40\" height=\"18\" overflow=\"visible\" width=\"30\">    <path d=\"M 8 -9 l -6 18 L 8 25\" fill=\"none\" style=\"stroke:rgb(0.0, 138.56128015770727, 250.76166088685727);stroke-width:2\" />  </svg></g><g transform=\"translate(-4,0)\">  <svg x=\"17.778155214321032%\" y=\"40\" height=\"18\" overflow=\"visible\" width=\"30\">    <path d=\"M 8 -9 l -6 18 L 8 25\" fill=\"none\" style=\"stroke:rgb(0.0, 138.56128015770727, 250.76166088685727);stroke-width:2\" />  </svg></g><g transform=\"translate(-8,0)\">  <svg x=\"21.628895862789474%\" y=\"40\" height=\"18\" overflow=\"visible\" width=\"30\">    <path d=\"M 8 -9 l -6 18 L 8 25\" fill=\"none\" style=\"stroke:rgb(0.0, 138.56128015770727, 250.76166088685727);stroke-width:2\" />  </svg></g><g transform=\"translate(-10,0)\">  <svg x=\"21.628895862789474%\" y=\"40\" height=\"18\" overflow=\"visible\" width=\"30\">    <path d=\"M 8 -9 l -6 18 L 8 25\" fill=\"none\" style=\"stroke:rgb(0.0, 138.56128015770727, 250.76166088685727);stroke-width:2\" />  </svg></g><g transform=\"translate(-12,0)\">  <svg x=\"21.628895862789474%\" y=\"40\" height=\"18\" overflow=\"visible\" width=\"30\">    <path d=\"M 8 -9 l -6 18 L 8 25\" fill=\"none\" style=\"stroke:rgb(0.0, 138.56128015770727, 250.76166088685727);stroke-width:2\" />  </svg></g><g transform=\"translate(-14,0)\">  <svg x=\"21.628895862789474%\" y=\"40\" height=\"18\" overflow=\"visible\" width=\"30\">    <path d=\"M 8 -9 l -6 18 L 8 25\" fill=\"none\" style=\"stroke:rgb(0.0, 138.56128015770727, 250.76166088685727);stroke-width:2\" />  </svg></g><g transform=\"translate(2,0)\">  <svg x=\"21.628895862789474%\" y=\"40\" height=\"18\" overflow=\"visible\" width=\"30\">    <path d=\"M 8 -9 l -6 18 L 8 25\" fill=\"none\" style=\"stroke:rgb(0.0, 138.56128015770727, 250.76166088685727);stroke-width:2\" />  </svg></g><g transform=\"translate(0,0)\">  <svg x=\"21.628895862789474%\" y=\"40\" height=\"18\" overflow=\"visible\" width=\"30\">    <path d=\"M 8 -9 l -6 18 L 8 25\" fill=\"none\" style=\"stroke:rgb(0.0, 138.56128015770727, 250.76166088685727);stroke-width:2\" />  </svg></g><g transform=\"translate(-2,0)\">  <svg x=\"21.628895862789474%\" y=\"40\" height=\"18\" overflow=\"visible\" width=\"30\">    <path d=\"M 8 -9 l -6 18 L 8 25\" fill=\"none\" style=\"stroke:rgb(0.0, 138.56128015770727, 250.76166088685727);stroke-width:2\" />  </svg></g><g transform=\"translate(-4,0)\">  <svg x=\"21.628895862789474%\" y=\"40\" height=\"18\" overflow=\"visible\" width=\"30\">    <path d=\"M 8 -9 l -6 18 L 8 25\" fill=\"none\" style=\"stroke:rgb(0.0, 138.56128015770727, 250.76166088685727);stroke-width:2\" />  </svg></g><g transform=\"translate(-8,0)\">  <svg x=\"25.070541833317936%\" y=\"40\" height=\"18\" overflow=\"visible\" width=\"30\">    <path d=\"M 8 -9 l -6 18 L 8 25\" fill=\"none\" style=\"stroke:rgb(0.0, 138.56128015770727, 250.76166088685727);stroke-width:2\" />  </svg></g><g transform=\"translate(-10,0)\">  <svg x=\"25.070541833317936%\" y=\"40\" height=\"18\" overflow=\"visible\" width=\"30\">    <path d=\"M 8 -9 l -6 18 L 8 25\" fill=\"none\" style=\"stroke:rgb(0.0, 138.56128015770727, 250.76166088685727);stroke-width:2\" />  </svg></g><g transform=\"translate(-12,0)\">  <svg x=\"25.070541833317936%\" y=\"40\" height=\"18\" overflow=\"visible\" width=\"30\">    <path d=\"M 8 -9 l -6 18 L 8 25\" fill=\"none\" style=\"stroke:rgb(0.0, 138.56128015770727, 250.76166088685727);stroke-width:2\" />  </svg></g><g transform=\"translate(-14,0)\">  <svg x=\"25.070541833317936%\" y=\"40\" height=\"18\" overflow=\"visible\" width=\"30\">    <path d=\"M 8 -9 l -6 18 L 8 25\" fill=\"none\" style=\"stroke:rgb(0.0, 138.56128015770727, 250.76166088685727);stroke-width:2\" />  </svg></g><g transform=\"translate(2,0)\">  <svg x=\"25.070541833317936%\" y=\"40\" height=\"18\" overflow=\"visible\" width=\"30\">    <path d=\"M 8 -9 l -6 18 L 8 25\" fill=\"none\" style=\"stroke:rgb(0.0, 138.56128015770727, 250.76166088685727);stroke-width:2\" />  </svg></g><g transform=\"translate(0,0)\">  <svg x=\"25.070541833317936%\" y=\"40\" height=\"18\" overflow=\"visible\" width=\"30\">    <path d=\"M 8 -9 l -6 18 L 8 25\" fill=\"none\" style=\"stroke:rgb(0.0, 138.56128015770727, 250.76166088685727);stroke-width:2\" />  </svg></g><g transform=\"translate(-2,0)\">  <svg x=\"25.070541833317936%\" y=\"40\" height=\"18\" overflow=\"visible\" width=\"30\">    <path d=\"M 8 -9 l -6 18 L 8 25\" fill=\"none\" style=\"stroke:rgb(0.0, 138.56128015770727, 250.76166088685727);stroke-width:2\" />  </svg></g><g transform=\"translate(-4,0)\">  <svg x=\"25.070541833317936%\" y=\"40\" height=\"18\" overflow=\"visible\" width=\"30\">    <path d=\"M 8 -9 l -6 18 L 8 25\" fill=\"none\" style=\"stroke:rgb(0.0, 138.56128015770727, 250.76166088685727);stroke-width:2\" />  </svg></g><g transform=\"translate(-8,0)\">  <svg x=\"27.9374505908235%\" y=\"40\" height=\"18\" overflow=\"visible\" width=\"30\">    <path d=\"M 8 -9 l -6 18 L 8 25\" fill=\"none\" style=\"stroke:rgb(0.0, 138.56128015770727, 250.76166088685727);stroke-width:2\" />  </svg></g><g transform=\"translate(-10,0)\">  <svg x=\"27.9374505908235%\" y=\"40\" height=\"18\" overflow=\"visible\" width=\"30\">    <path d=\"M 8 -9 l -6 18 L 8 25\" fill=\"none\" style=\"stroke:rgb(0.0, 138.56128015770727, 250.76166088685727);stroke-width:2\" />  </svg></g><g transform=\"translate(-12,0)\">  <svg x=\"27.9374505908235%\" y=\"40\" height=\"18\" overflow=\"visible\" width=\"30\">    <path d=\"M 8 -9 l -6 18 L 8 25\" fill=\"none\" style=\"stroke:rgb(0.0, 138.56128015770727, 250.76166088685727);stroke-width:2\" />  </svg></g><g transform=\"translate(-14,0)\">  <svg x=\"27.9374505908235%\" y=\"40\" height=\"18\" overflow=\"visible\" width=\"30\">    <path d=\"M 8 -9 l -6 18 L 8 25\" fill=\"none\" style=\"stroke:rgb(0.0, 138.56128015770727, 250.76166088685727);stroke-width:2\" />  </svg></g><g transform=\"translate(2,0)\">  <svg x=\"27.9374505908235%\" y=\"40\" height=\"18\" overflow=\"visible\" width=\"30\">    <path d=\"M 8 -9 l -6 18 L 8 25\" fill=\"none\" style=\"stroke:rgb(0.0, 138.56128015770727, 250.76166088685727);stroke-width:2\" />  </svg></g><g transform=\"translate(0,0)\">  <svg x=\"27.9374505908235%\" y=\"40\" height=\"18\" overflow=\"visible\" width=\"30\">    <path d=\"M 8 -9 l -6 18 L 8 25\" fill=\"none\" style=\"stroke:rgb(0.0, 138.56128015770727, 250.76166088685727);stroke-width:2\" />  </svg></g><g transform=\"translate(-2,0)\">  <svg x=\"27.9374505908235%\" y=\"40\" height=\"18\" overflow=\"visible\" width=\"30\">    <path d=\"M 8 -9 l -6 18 L 8 25\" fill=\"none\" style=\"stroke:rgb(0.0, 138.56128015770727, 250.76166088685727);stroke-width:2\" />  </svg></g><g transform=\"translate(-4,0)\">  <svg x=\"27.9374505908235%\" y=\"40\" height=\"18\" overflow=\"visible\" width=\"30\">    <path d=\"M 8 -9 l -6 18 L 8 25\" fill=\"none\" style=\"stroke:rgb(0.0, 138.56128015770727, 250.76166088685727);stroke-width:2\" />  </svg></g><g transform=\"translate(-8,0)\">  <svg x=\"29.95107843474135%\" y=\"40\" height=\"18\" overflow=\"visible\" width=\"30\">    <path d=\"M 8 -9 l -6 18 L 8 25\" fill=\"none\" style=\"stroke:rgb(0.0, 138.56128015770727, 250.76166088685727);stroke-width:2\" />  </svg></g><g transform=\"translate(-10,0)\">  <svg x=\"29.95107843474135%\" y=\"40\" height=\"18\" overflow=\"visible\" width=\"30\">    <path d=\"M 8 -9 l -6 18 L 8 25\" fill=\"none\" style=\"stroke:rgb(0.0, 138.56128015770727, 250.76166088685727);stroke-width:2\" />  </svg></g><g transform=\"translate(-12,0)\">  <svg x=\"29.95107843474135%\" y=\"40\" height=\"18\" overflow=\"visible\" width=\"30\">    <path d=\"M 8 -9 l -6 18 L 8 25\" fill=\"none\" style=\"stroke:rgb(0.0, 138.56128015770727, 250.76166088685727);stroke-width:2\" />  </svg></g><g transform=\"translate(-14,0)\">  <svg x=\"29.95107843474135%\" y=\"40\" height=\"18\" overflow=\"visible\" width=\"30\">    <path d=\"M 8 -9 l -6 18 L 8 25\" fill=\"none\" style=\"stroke:rgb(0.0, 138.56128015770727, 250.76166088685727);stroke-width:2\" />  </svg></g><g transform=\"translate(2,0)\">  <svg x=\"29.95107843474135%\" y=\"40\" height=\"18\" overflow=\"visible\" width=\"30\">    <path d=\"M 8 -9 l -6 18 L 8 25\" fill=\"none\" style=\"stroke:rgb(0.0, 138.56128015770727, 250.76166088685727);stroke-width:2\" />  </svg></g><g transform=\"translate(0,0)\">  <svg x=\"29.95107843474135%\" y=\"40\" height=\"18\" overflow=\"visible\" width=\"30\">    <path d=\"M 8 -9 l -6 18 L 8 25\" fill=\"none\" style=\"stroke:rgb(0.0, 138.56128015770727, 250.76166088685727);stroke-width:2\" />  </svg></g><g transform=\"translate(-2,0)\">  <svg x=\"29.95107843474135%\" y=\"40\" height=\"18\" overflow=\"visible\" width=\"30\">    <path d=\"M 8 -9 l -6 18 L 8 25\" fill=\"none\" style=\"stroke:rgb(0.0, 138.56128015770727, 250.76166088685727);stroke-width:2\" />  </svg></g><g transform=\"translate(-4,0)\">  <svg x=\"29.95107843474135%\" y=\"40\" height=\"18\" overflow=\"visible\" width=\"30\">    <path d=\"M 8 -9 l -6 18 L 8 25\" fill=\"none\" style=\"stroke:rgb(0.0, 138.56128015770727, 250.76166088685727);stroke-width:2\" />  </svg></g><g transform=\"translate(-8,0)\">  <svg x=\"31.523137141776534%\" y=\"40\" height=\"18\" overflow=\"visible\" width=\"30\">    <path d=\"M 8 -9 l -6 18 L 8 25\" fill=\"none\" style=\"stroke:rgb(0.0, 138.56128015770727, 250.76166088685727);stroke-width:2\" />  </svg></g><g transform=\"translate(-10,0)\">  <svg x=\"31.523137141776534%\" y=\"40\" height=\"18\" overflow=\"visible\" width=\"30\">    <path d=\"M 8 -9 l -6 18 L 8 25\" fill=\"none\" style=\"stroke:rgb(0.0, 138.56128015770727, 250.76166088685727);stroke-width:2\" />  </svg></g><g transform=\"translate(-12,0)\">  <svg x=\"31.523137141776534%\" y=\"40\" height=\"18\" overflow=\"visible\" width=\"30\">    <path d=\"M 8 -9 l -6 18 L 8 25\" fill=\"none\" style=\"stroke:rgb(0.0, 138.56128015770727, 250.76166088685727);stroke-width:2\" />  </svg></g><g transform=\"translate(-14,0)\">  <svg x=\"31.523137141776534%\" y=\"40\" height=\"18\" overflow=\"visible\" width=\"30\">    <path d=\"M 8 -9 l -6 18 L 8 25\" fill=\"none\" style=\"stroke:rgb(0.0, 138.56128015770727, 250.76166088685727);stroke-width:2\" />  </svg></g><g transform=\"translate(2,0)\">  <svg x=\"31.523137141776534%\" y=\"40\" height=\"18\" overflow=\"visible\" width=\"30\">    <path d=\"M 8 -9 l -6 18 L 8 25\" fill=\"none\" style=\"stroke:rgb(0.0, 138.56128015770727, 250.76166088685727);stroke-width:2\" />  </svg></g><g transform=\"translate(0,0)\">  <svg x=\"31.523137141776534%\" y=\"40\" height=\"18\" overflow=\"visible\" width=\"30\">    <path d=\"M 8 -9 l -6 18 L 8 25\" fill=\"none\" style=\"stroke:rgb(0.0, 138.56128015770727, 250.76166088685727);stroke-width:2\" />  </svg></g><g transform=\"translate(-2,0)\">  <svg x=\"31.523137141776534%\" y=\"40\" height=\"18\" overflow=\"visible\" width=\"30\">    <path d=\"M 8 -9 l -6 18 L 8 25\" fill=\"none\" style=\"stroke:rgb(0.0, 138.56128015770727, 250.76166088685727);stroke-width:2\" />  </svg></g><g transform=\"translate(-4,0)\">  <svg x=\"31.523137141776534%\" y=\"40\" height=\"18\" overflow=\"visible\" width=\"30\">    <path d=\"M 8 -9 l -6 18 L 8 25\" fill=\"none\" style=\"stroke:rgb(0.0, 138.56128015770727, 250.76166088685727);stroke-width:2\" />  </svg></g><g transform=\"translate(-8,0)\">  <svg x=\"33.003117700921884%\" y=\"40\" height=\"18\" overflow=\"visible\" width=\"30\">    <path d=\"M 8 -9 l -6 18 L 8 25\" fill=\"none\" style=\"stroke:rgb(0.0, 138.56128015770727, 250.76166088685727);stroke-width:2\" />  </svg></g><g transform=\"translate(-10,0)\">  <svg x=\"33.003117700921884%\" y=\"40\" height=\"18\" overflow=\"visible\" width=\"30\">    <path d=\"M 8 -9 l -6 18 L 8 25\" fill=\"none\" style=\"stroke:rgb(0.0, 138.56128015770727, 250.76166088685727);stroke-width:2\" />  </svg></g><g transform=\"translate(-12,0)\">  <svg x=\"33.003117700921884%\" y=\"40\" height=\"18\" overflow=\"visible\" width=\"30\">    <path d=\"M 8 -9 l -6 18 L 8 25\" fill=\"none\" style=\"stroke:rgb(0.0, 138.56128015770727, 250.76166088685727);stroke-width:2\" />  </svg></g><g transform=\"translate(-14,0)\">  <svg x=\"33.003117700921884%\" y=\"40\" height=\"18\" overflow=\"visible\" width=\"30\">    <path d=\"M 8 -9 l -6 18 L 8 25\" fill=\"none\" style=\"stroke:rgb(0.0, 138.56128015770727, 250.76166088685727);stroke-width:2\" />  </svg></g><g transform=\"translate(2,0)\">  <svg x=\"33.003117700921884%\" y=\"40\" height=\"18\" overflow=\"visible\" width=\"30\">    <path d=\"M 8 -9 l -6 18 L 8 25\" fill=\"none\" style=\"stroke:rgb(0.0, 138.56128015770727, 250.76166088685727);stroke-width:2\" />  </svg></g><g transform=\"translate(0,0)\">  <svg x=\"33.003117700921884%\" y=\"40\" height=\"18\" overflow=\"visible\" width=\"30\">    <path d=\"M 8 -9 l -6 18 L 8 25\" fill=\"none\" style=\"stroke:rgb(0.0, 138.56128015770727, 250.76166088685727);stroke-width:2\" />  </svg></g><g transform=\"translate(-2,0)\">  <svg x=\"33.003117700921884%\" y=\"40\" height=\"18\" overflow=\"visible\" width=\"30\">    <path d=\"M 8 -9 l -6 18 L 8 25\" fill=\"none\" style=\"stroke:rgb(0.0, 138.56128015770727, 250.76166088685727);stroke-width:2\" />  </svg></g><g transform=\"translate(-4,0)\">  <svg x=\"33.003117700921884%\" y=\"40\" height=\"18\" overflow=\"visible\" width=\"30\">    <path d=\"M 8 -9 l -6 18 L 8 25\" fill=\"none\" style=\"stroke:rgb(0.0, 138.56128015770727, 250.76166088685727);stroke-width:2\" />  </svg></g><g transform=\"translate(-8,0)\">  <svg x=\"34.371954357460936%\" y=\"40\" height=\"18\" overflow=\"visible\" width=\"30\">    <path d=\"M 8 -9 l -6 18 L 8 25\" fill=\"none\" style=\"stroke:rgb(0.0, 138.56128015770727, 250.76166088685727);stroke-width:2\" />  </svg></g><g transform=\"translate(-10,0)\">  <svg x=\"34.371954357460936%\" y=\"40\" height=\"18\" overflow=\"visible\" width=\"30\">    <path d=\"M 8 -9 l -6 18 L 8 25\" fill=\"none\" style=\"stroke:rgb(0.0, 138.56128015770727, 250.76166088685727);stroke-width:2\" />  </svg></g><g transform=\"translate(-12,0)\">  <svg x=\"34.371954357460936%\" y=\"40\" height=\"18\" overflow=\"visible\" width=\"30\">    <path d=\"M 8 -9 l -6 18 L 8 25\" fill=\"none\" style=\"stroke:rgb(0.0, 138.56128015770727, 250.76166088685727);stroke-width:2\" />  </svg></g><g transform=\"translate(-14,0)\">  <svg x=\"34.371954357460936%\" y=\"40\" height=\"18\" overflow=\"visible\" width=\"30\">    <path d=\"M 8 -9 l -6 18 L 8 25\" fill=\"none\" style=\"stroke:rgb(0.0, 138.56128015770727, 250.76166088685727);stroke-width:2\" />  </svg></g><g transform=\"translate(2,0)\">  <svg x=\"34.371954357460936%\" y=\"40\" height=\"18\" overflow=\"visible\" width=\"30\">    <path d=\"M 8 -9 l -6 18 L 8 25\" fill=\"none\" style=\"stroke:rgb(0.0, 138.56128015770727, 250.76166088685727);stroke-width:2\" />  </svg></g><g transform=\"translate(0,0)\">  <svg x=\"34.371954357460936%\" y=\"40\" height=\"18\" overflow=\"visible\" width=\"30\">    <path d=\"M 8 -9 l -6 18 L 8 25\" fill=\"none\" style=\"stroke:rgb(0.0, 138.56128015770727, 250.76166088685727);stroke-width:2\" />  </svg></g><g transform=\"translate(-2,0)\">  <svg x=\"34.371954357460936%\" y=\"40\" height=\"18\" overflow=\"visible\" width=\"30\">    <path d=\"M 8 -9 l -6 18 L 8 25\" fill=\"none\" style=\"stroke:rgb(0.0, 138.56128015770727, 250.76166088685727);stroke-width:2\" />  </svg></g><g transform=\"translate(-4,0)\">  <svg x=\"34.371954357460936%\" y=\"40\" height=\"18\" overflow=\"visible\" width=\"30\">    <path d=\"M 8 -9 l -6 18 L 8 25\" fill=\"none\" style=\"stroke:rgb(0.0, 138.56128015770727, 250.76166088685727);stroke-width:2\" />  </svg></g><g transform=\"translate(-8,0)\">  <svg x=\"35.65608261838401%\" y=\"40\" height=\"18\" overflow=\"visible\" width=\"30\">    <path d=\"M 8 -9 l -6 18 L 8 25\" fill=\"none\" style=\"stroke:rgb(0.0, 138.56128015770727, 250.76166088685727);stroke-width:2\" />  </svg></g><g transform=\"translate(-10,0)\">  <svg x=\"35.65608261838401%\" y=\"40\" height=\"18\" overflow=\"visible\" width=\"30\">    <path d=\"M 8 -9 l -6 18 L 8 25\" fill=\"none\" style=\"stroke:rgb(0.0, 138.56128015770727, 250.76166088685727);stroke-width:2\" />  </svg></g><g transform=\"translate(-12,0)\">  <svg x=\"35.65608261838401%\" y=\"40\" height=\"18\" overflow=\"visible\" width=\"30\">    <path d=\"M 8 -9 l -6 18 L 8 25\" fill=\"none\" style=\"stroke:rgb(0.0, 138.56128015770727, 250.76166088685727);stroke-width:2\" />  </svg></g><g transform=\"translate(-14,0)\">  <svg x=\"35.65608261838401%\" y=\"40\" height=\"18\" overflow=\"visible\" width=\"30\">    <path d=\"M 8 -9 l -6 18 L 8 25\" fill=\"none\" style=\"stroke:rgb(0.0, 138.56128015770727, 250.76166088685727);stroke-width:2\" />  </svg></g><g transform=\"translate(2,0)\">  <svg x=\"35.65608261838401%\" y=\"40\" height=\"18\" overflow=\"visible\" width=\"30\">    <path d=\"M 8 -9 l -6 18 L 8 25\" fill=\"none\" style=\"stroke:rgb(0.0, 138.56128015770727, 250.76166088685727);stroke-width:2\" />  </svg></g><g transform=\"translate(0,0)\">  <svg x=\"35.65608261838401%\" y=\"40\" height=\"18\" overflow=\"visible\" width=\"30\">    <path d=\"M 8 -9 l -6 18 L 8 25\" fill=\"none\" style=\"stroke:rgb(0.0, 138.56128015770727, 250.76166088685727);stroke-width:2\" />  </svg></g><g transform=\"translate(-2,0)\">  <svg x=\"35.65608261838401%\" y=\"40\" height=\"18\" overflow=\"visible\" width=\"30\">    <path d=\"M 8 -9 l -6 18 L 8 25\" fill=\"none\" style=\"stroke:rgb(0.0, 138.56128015770727, 250.76166088685727);stroke-width:2\" />  </svg></g><g transform=\"translate(-4,0)\">  <svg x=\"35.65608261838401%\" y=\"40\" height=\"18\" overflow=\"visible\" width=\"30\">    <path d=\"M 8 -9 l -6 18 L 8 25\" fill=\"none\" style=\"stroke:rgb(0.0, 138.56128015770727, 250.76166088685727);stroke-width:2\" />  </svg></g><g transform=\"translate(-8,0)\">  <svg x=\"36.793811726494866%\" y=\"40\" height=\"18\" overflow=\"visible\" width=\"30\">    <path d=\"M 8 -9 l -6 18 L 8 25\" fill=\"none\" style=\"stroke:rgb(0.0, 138.56128015770727, 250.76166088685727);stroke-width:2\" />  </svg></g><g transform=\"translate(-10,0)\">  <svg x=\"36.793811726494866%\" y=\"40\" height=\"18\" overflow=\"visible\" width=\"30\">    <path d=\"M 8 -9 l -6 18 L 8 25\" fill=\"none\" style=\"stroke:rgb(0.0, 138.56128015770727, 250.76166088685727);stroke-width:2\" />  </svg></g><g transform=\"translate(-12,0)\">  <svg x=\"36.793811726494866%\" y=\"40\" height=\"18\" overflow=\"visible\" width=\"30\">    <path d=\"M 8 -9 l -6 18 L 8 25\" fill=\"none\" style=\"stroke:rgb(0.0, 138.56128015770727, 250.76166088685727);stroke-width:2\" />  </svg></g><g transform=\"translate(-14,0)\">  <svg x=\"36.793811726494866%\" y=\"40\" height=\"18\" overflow=\"visible\" width=\"30\">    <path d=\"M 8 -9 l -6 18 L 8 25\" fill=\"none\" style=\"stroke:rgb(0.0, 138.56128015770727, 250.76166088685727);stroke-width:2\" />  </svg></g><g transform=\"translate(2,0)\">  <svg x=\"36.793811726494866%\" y=\"40\" height=\"18\" overflow=\"visible\" width=\"30\">    <path d=\"M 8 -9 l -6 18 L 8 25\" fill=\"none\" style=\"stroke:rgb(0.0, 138.56128015770727, 250.76166088685727);stroke-width:2\" />  </svg></g><g transform=\"translate(0,0)\">  <svg x=\"36.793811726494866%\" y=\"40\" height=\"18\" overflow=\"visible\" width=\"30\">    <path d=\"M 8 -9 l -6 18 L 8 25\" fill=\"none\" style=\"stroke:rgb(0.0, 138.56128015770727, 250.76166088685727);stroke-width:2\" />  </svg></g><g transform=\"translate(-2,0)\">  <svg x=\"36.793811726494866%\" y=\"40\" height=\"18\" overflow=\"visible\" width=\"30\">    <path d=\"M 8 -9 l -6 18 L 8 25\" fill=\"none\" style=\"stroke:rgb(0.0, 138.56128015770727, 250.76166088685727);stroke-width:2\" />  </svg></g><g transform=\"translate(-4,0)\">  <svg x=\"36.793811726494866%\" y=\"40\" height=\"18\" overflow=\"visible\" width=\"30\">    <path d=\"M 8 -9 l -6 18 L 8 25\" fill=\"none\" style=\"stroke:rgb(0.0, 138.56128015770727, 250.76166088685727);stroke-width:2\" />  </svg></g><g transform=\"translate(-8,0)\">  <svg x=\"37.84324237576039%\" y=\"40\" height=\"18\" overflow=\"visible\" width=\"30\">    <path d=\"M 8 -9 l -6 18 L 8 25\" fill=\"none\" style=\"stroke:rgb(0.0, 138.56128015770727, 250.76166088685727);stroke-width:2\" />  </svg></g><g transform=\"translate(-10,0)\">  <svg x=\"37.84324237576039%\" y=\"40\" height=\"18\" overflow=\"visible\" width=\"30\">    <path d=\"M 8 -9 l -6 18 L 8 25\" fill=\"none\" style=\"stroke:rgb(0.0, 138.56128015770727, 250.76166088685727);stroke-width:2\" />  </svg></g><g transform=\"translate(-12,0)\">  <svg x=\"37.84324237576039%\" y=\"40\" height=\"18\" overflow=\"visible\" width=\"30\">    <path d=\"M 8 -9 l -6 18 L 8 25\" fill=\"none\" style=\"stroke:rgb(0.0, 138.56128015770727, 250.76166088685727);stroke-width:2\" />  </svg></g><g transform=\"translate(-14,0)\">  <svg x=\"37.84324237576039%\" y=\"40\" height=\"18\" overflow=\"visible\" width=\"30\">    <path d=\"M 8 -9 l -6 18 L 8 25\" fill=\"none\" style=\"stroke:rgb(0.0, 138.56128015770727, 250.76166088685727);stroke-width:2\" />  </svg></g><g transform=\"translate(2,0)\">  <svg x=\"37.84324237576039%\" y=\"40\" height=\"18\" overflow=\"visible\" width=\"30\">    <path d=\"M 8 -9 l -6 18 L 8 25\" fill=\"none\" style=\"stroke:rgb(0.0, 138.56128015770727, 250.76166088685727);stroke-width:2\" />  </svg></g><g transform=\"translate(0,0)\">  <svg x=\"37.84324237576039%\" y=\"40\" height=\"18\" overflow=\"visible\" width=\"30\">    <path d=\"M 8 -9 l -6 18 L 8 25\" fill=\"none\" style=\"stroke:rgb(0.0, 138.56128015770727, 250.76166088685727);stroke-width:2\" />  </svg></g><g transform=\"translate(-2,0)\">  <svg x=\"37.84324237576039%\" y=\"40\" height=\"18\" overflow=\"visible\" width=\"30\">    <path d=\"M 8 -9 l -6 18 L 8 25\" fill=\"none\" style=\"stroke:rgb(0.0, 138.56128015770727, 250.76166088685727);stroke-width:2\" />  </svg></g><g transform=\"translate(-4,0)\">  <svg x=\"37.84324237576039%\" y=\"40\" height=\"18\" overflow=\"visible\" width=\"30\">    <path d=\"M 8 -9 l -6 18 L 8 25\" fill=\"none\" style=\"stroke:rgb(0.0, 138.56128015770727, 250.76166088685727);stroke-width:2\" />  </svg></g><g transform=\"translate(-8,0)\">  <svg x=\"38.89225687313029%\" y=\"40\" height=\"18\" overflow=\"visible\" width=\"30\">    <path d=\"M 8 -9 l -6 18 L 8 25\" fill=\"none\" style=\"stroke:rgb(0.0, 138.56128015770727, 250.76166088685727);stroke-width:2\" />  </svg></g><g transform=\"translate(-10,0)\">  <svg x=\"38.89225687313029%\" y=\"40\" height=\"18\" overflow=\"visible\" width=\"30\">    <path d=\"M 8 -9 l -6 18 L 8 25\" fill=\"none\" style=\"stroke:rgb(0.0, 138.56128015770727, 250.76166088685727);stroke-width:2\" />  </svg></g><g transform=\"translate(-12,0)\">  <svg x=\"38.89225687313029%\" y=\"40\" height=\"18\" overflow=\"visible\" width=\"30\">    <path d=\"M 8 -9 l -6 18 L 8 25\" fill=\"none\" style=\"stroke:rgb(0.0, 138.56128015770727, 250.76166088685727);stroke-width:2\" />  </svg></g><g transform=\"translate(-14,0)\">  <svg x=\"38.89225687313029%\" y=\"40\" height=\"18\" overflow=\"visible\" width=\"30\">    <path d=\"M 8 -9 l -6 18 L 8 25\" fill=\"none\" style=\"stroke:rgb(0.0, 138.56128015770727, 250.76166088685727);stroke-width:2\" />  </svg></g><g transform=\"translate(2,0)\">  <svg x=\"38.89225687313029%\" y=\"40\" height=\"18\" overflow=\"visible\" width=\"30\">    <path d=\"M 8 -9 l -6 18 L 8 25\" fill=\"none\" style=\"stroke:rgb(0.0, 138.56128015770727, 250.76166088685727);stroke-width:2\" />  </svg></g><g transform=\"translate(0,0)\">  <svg x=\"38.89225687313029%\" y=\"40\" height=\"18\" overflow=\"visible\" width=\"30\">    <path d=\"M 8 -9 l -6 18 L 8 25\" fill=\"none\" style=\"stroke:rgb(0.0, 138.56128015770727, 250.76166088685727);stroke-width:2\" />  </svg></g><g transform=\"translate(-2,0)\">  <svg x=\"38.89225687313029%\" y=\"40\" height=\"18\" overflow=\"visible\" width=\"30\">    <path d=\"M 8 -9 l -6 18 L 8 25\" fill=\"none\" style=\"stroke:rgb(0.0, 138.56128015770727, 250.76166088685727);stroke-width:2\" />  </svg></g><g transform=\"translate(-4,0)\">  <svg x=\"38.89225687313029%\" y=\"40\" height=\"18\" overflow=\"visible\" width=\"30\">    <path d=\"M 8 -9 l -6 18 L 8 25\" fill=\"none\" style=\"stroke:rgb(0.0, 138.56128015770727, 250.76166088685727);stroke-width:2\" />  </svg></g><g transform=\"translate(-8,0)\">  <svg x=\"39.9224536637293%\" y=\"40\" height=\"18\" overflow=\"visible\" width=\"30\">    <path d=\"M 8 -9 l -6 18 L 8 25\" fill=\"none\" style=\"stroke:rgb(0.0, 138.56128015770727, 250.76166088685727);stroke-width:2\" />  </svg></g><g transform=\"translate(-10,0)\">  <svg x=\"39.9224536637293%\" y=\"40\" height=\"18\" overflow=\"visible\" width=\"30\">    <path d=\"M 8 -9 l -6 18 L 8 25\" fill=\"none\" style=\"stroke:rgb(0.0, 138.56128015770727, 250.76166088685727);stroke-width:2\" />  </svg></g><g transform=\"translate(-12,0)\">  <svg x=\"39.9224536637293%\" y=\"40\" height=\"18\" overflow=\"visible\" width=\"30\">    <path d=\"M 8 -9 l -6 18 L 8 25\" fill=\"none\" style=\"stroke:rgb(0.0, 138.56128015770727, 250.76166088685727);stroke-width:2\" />  </svg></g><g transform=\"translate(-14,0)\">  <svg x=\"39.9224536637293%\" y=\"40\" height=\"18\" overflow=\"visible\" width=\"30\">    <path d=\"M 8 -9 l -6 18 L 8 25\" fill=\"none\" style=\"stroke:rgb(0.0, 138.56128015770727, 250.76166088685727);stroke-width:2\" />  </svg></g><g transform=\"translate(2,0)\">  <svg x=\"39.9224536637293%\" y=\"40\" height=\"18\" overflow=\"visible\" width=\"30\">    <path d=\"M 8 -9 l -6 18 L 8 25\" fill=\"none\" style=\"stroke:rgb(0.0, 138.56128015770727, 250.76166088685727);stroke-width:2\" />  </svg></g><g transform=\"translate(0,0)\">  <svg x=\"39.9224536637293%\" y=\"40\" height=\"18\" overflow=\"visible\" width=\"30\">    <path d=\"M 8 -9 l -6 18 L 8 25\" fill=\"none\" style=\"stroke:rgb(0.0, 138.56128015770727, 250.76166088685727);stroke-width:2\" />  </svg></g><g transform=\"translate(-2,0)\">  <svg x=\"39.9224536637293%\" y=\"40\" height=\"18\" overflow=\"visible\" width=\"30\">    <path d=\"M 8 -9 l -6 18 L 8 25\" fill=\"none\" style=\"stroke:rgb(0.0, 138.56128015770727, 250.76166088685727);stroke-width:2\" />  </svg></g><g transform=\"translate(-4,0)\">  <svg x=\"39.9224536637293%\" y=\"40\" height=\"18\" overflow=\"visible\" width=\"30\">    <path d=\"M 8 -9 l -6 18 L 8 25\" fill=\"none\" style=\"stroke:rgb(0.0, 138.56128015770727, 250.76166088685727);stroke-width:2\" />  </svg></g><g transform=\"translate(-8,0)\">  <svg x=\"40.914918556313694%\" y=\"40\" height=\"18\" overflow=\"visible\" width=\"30\">    <path d=\"M 8 -9 l -6 18 L 8 25\" fill=\"none\" style=\"stroke:rgb(0.0, 138.56128015770727, 250.76166088685727);stroke-width:2\" />  </svg></g><g transform=\"translate(-10,0)\">  <svg x=\"40.914918556313694%\" y=\"40\" height=\"18\" overflow=\"visible\" width=\"30\">    <path d=\"M 8 -9 l -6 18 L 8 25\" fill=\"none\" style=\"stroke:rgb(0.0, 138.56128015770727, 250.76166088685727);stroke-width:2\" />  </svg></g><g transform=\"translate(-12,0)\">  <svg x=\"40.914918556313694%\" y=\"40\" height=\"18\" overflow=\"visible\" width=\"30\">    <path d=\"M 8 -9 l -6 18 L 8 25\" fill=\"none\" style=\"stroke:rgb(0.0, 138.56128015770727, 250.76166088685727);stroke-width:2\" />  </svg></g><g transform=\"translate(-14,0)\">  <svg x=\"40.914918556313694%\" y=\"40\" height=\"18\" overflow=\"visible\" width=\"30\">    <path d=\"M 8 -9 l -6 18 L 8 25\" fill=\"none\" style=\"stroke:rgb(0.0, 138.56128015770727, 250.76166088685727);stroke-width:2\" />  </svg></g><g transform=\"translate(2,0)\">  <svg x=\"40.914918556313694%\" y=\"40\" height=\"18\" overflow=\"visible\" width=\"30\">    <path d=\"M 8 -9 l -6 18 L 8 25\" fill=\"none\" style=\"stroke:rgb(0.0, 138.56128015770727, 250.76166088685727);stroke-width:2\" />  </svg></g><g transform=\"translate(0,0)\">  <svg x=\"40.914918556313694%\" y=\"40\" height=\"18\" overflow=\"visible\" width=\"30\">    <path d=\"M 8 -9 l -6 18 L 8 25\" fill=\"none\" style=\"stroke:rgb(0.0, 138.56128015770727, 250.76166088685727);stroke-width:2\" />  </svg></g><g transform=\"translate(-2,0)\">  <svg x=\"40.914918556313694%\" y=\"40\" height=\"18\" overflow=\"visible\" width=\"30\">    <path d=\"M 8 -9 l -6 18 L 8 25\" fill=\"none\" style=\"stroke:rgb(0.0, 138.56128015770727, 250.76166088685727);stroke-width:2\" />  </svg></g><g transform=\"translate(-4,0)\">  <svg x=\"40.914918556313694%\" y=\"40\" height=\"18\" overflow=\"visible\" width=\"30\">    <path d=\"M 8 -9 l -6 18 L 8 25\" fill=\"none\" style=\"stroke:rgb(0.0, 138.56128015770727, 250.76166088685727);stroke-width:2\" />  </svg></g><g transform=\"translate(-8,0)\">  <svg x=\"41.904107533842186%\" y=\"40\" height=\"18\" overflow=\"visible\" width=\"30\">    <path d=\"M 8 -9 l -6 18 L 8 25\" fill=\"none\" style=\"stroke:rgb(0.0, 138.56128015770727, 250.76166088685727);stroke-width:2\" />  </svg></g><g transform=\"translate(-10,0)\">  <svg x=\"41.904107533842186%\" y=\"40\" height=\"18\" overflow=\"visible\" width=\"30\">    <path d=\"M 8 -9 l -6 18 L 8 25\" fill=\"none\" style=\"stroke:rgb(0.0, 138.56128015770727, 250.76166088685727);stroke-width:2\" />  </svg></g><g transform=\"translate(-12,0)\">  <svg x=\"41.904107533842186%\" y=\"40\" height=\"18\" overflow=\"visible\" width=\"30\">    <path d=\"M 8 -9 l -6 18 L 8 25\" fill=\"none\" style=\"stroke:rgb(0.0, 138.56128015770727, 250.76166088685727);stroke-width:2\" />  </svg></g><g transform=\"translate(-14,0)\">  <svg x=\"41.904107533842186%\" y=\"40\" height=\"18\" overflow=\"visible\" width=\"30\">    <path d=\"M 8 -9 l -6 18 L 8 25\" fill=\"none\" style=\"stroke:rgb(0.0, 138.56128015770727, 250.76166088685727);stroke-width:2\" />  </svg></g><g transform=\"translate(2,0)\">  <svg x=\"41.904107533842186%\" y=\"40\" height=\"18\" overflow=\"visible\" width=\"30\">    <path d=\"M 8 -9 l -6 18 L 8 25\" fill=\"none\" style=\"stroke:rgb(0.0, 138.56128015770727, 250.76166088685727);stroke-width:2\" />  </svg></g><g transform=\"translate(0,0)\">  <svg x=\"41.904107533842186%\" y=\"40\" height=\"18\" overflow=\"visible\" width=\"30\">    <path d=\"M 8 -9 l -6 18 L 8 25\" fill=\"none\" style=\"stroke:rgb(0.0, 138.56128015770727, 250.76166088685727);stroke-width:2\" />  </svg></g><g transform=\"translate(-2,0)\">  <svg x=\"41.904107533842186%\" y=\"40\" height=\"18\" overflow=\"visible\" width=\"30\">    <path d=\"M 8 -9 l -6 18 L 8 25\" fill=\"none\" style=\"stroke:rgb(0.0, 138.56128015770727, 250.76166088685727);stroke-width:2\" />  </svg></g><g transform=\"translate(-4,0)\">  <svg x=\"41.904107533842186%\" y=\"40\" height=\"18\" overflow=\"visible\" width=\"30\">    <path d=\"M 8 -9 l -6 18 L 8 25\" fill=\"none\" style=\"stroke:rgb(0.0, 138.56128015770727, 250.76166088685727);stroke-width:2\" />  </svg></g><g transform=\"translate(-8,0)\">  <svg x=\"42.85327391761987%\" y=\"40\" height=\"18\" overflow=\"visible\" width=\"30\">    <path d=\"M 8 -9 l -6 18 L 8 25\" fill=\"none\" style=\"stroke:rgb(0.0, 138.56128015770727, 250.76166088685727);stroke-width:2\" />  </svg></g><g transform=\"translate(-10,0)\">  <svg x=\"42.85327391761987%\" y=\"40\" height=\"18\" overflow=\"visible\" width=\"30\">    <path d=\"M 8 -9 l -6 18 L 8 25\" fill=\"none\" style=\"stroke:rgb(0.0, 138.56128015770727, 250.76166088685727);stroke-width:2\" />  </svg></g><g transform=\"translate(-12,0)\">  <svg x=\"42.85327391761987%\" y=\"40\" height=\"18\" overflow=\"visible\" width=\"30\">    <path d=\"M 8 -9 l -6 18 L 8 25\" fill=\"none\" style=\"stroke:rgb(0.0, 138.56128015770727, 250.76166088685727);stroke-width:2\" />  </svg></g><g transform=\"translate(-14,0)\">  <svg x=\"42.85327391761987%\" y=\"40\" height=\"18\" overflow=\"visible\" width=\"30\">    <path d=\"M 8 -9 l -6 18 L 8 25\" fill=\"none\" style=\"stroke:rgb(0.0, 138.56128015770727, 250.76166088685727);stroke-width:2\" />  </svg></g><g transform=\"translate(2,0)\">  <svg x=\"42.85327391761987%\" y=\"40\" height=\"18\" overflow=\"visible\" width=\"30\">    <path d=\"M 8 -9 l -6 18 L 8 25\" fill=\"none\" style=\"stroke:rgb(0.0, 138.56128015770727, 250.76166088685727);stroke-width:2\" />  </svg></g><g transform=\"translate(0,0)\">  <svg x=\"42.85327391761987%\" y=\"40\" height=\"18\" overflow=\"visible\" width=\"30\">    <path d=\"M 8 -9 l -6 18 L 8 25\" fill=\"none\" style=\"stroke:rgb(0.0, 138.56128015770727, 250.76166088685727);stroke-width:2\" />  </svg></g><g transform=\"translate(-2,0)\">  <svg x=\"42.85327391761987%\" y=\"40\" height=\"18\" overflow=\"visible\" width=\"30\">    <path d=\"M 8 -9 l -6 18 L 8 25\" fill=\"none\" style=\"stroke:rgb(0.0, 138.56128015770727, 250.76166088685727);stroke-width:2\" />  </svg></g><g transform=\"translate(-4,0)\">  <svg x=\"42.85327391761987%\" y=\"40\" height=\"18\" overflow=\"visible\" width=\"30\">    <path d=\"M 8 -9 l -6 18 L 8 25\" fill=\"none\" style=\"stroke:rgb(0.0, 138.56128015770727, 250.76166088685727);stroke-width:2\" />  </svg></g><g transform=\"translate(-8,0)\">  <svg x=\"43.745582006006615%\" y=\"40\" height=\"18\" overflow=\"visible\" width=\"30\">    <path d=\"M 8 -9 l -6 18 L 8 25\" fill=\"none\" style=\"stroke:rgb(0.0, 138.56128015770727, 250.76166088685727);stroke-width:2\" />  </svg></g><g transform=\"translate(-10,0)\">  <svg x=\"43.745582006006615%\" y=\"40\" height=\"18\" overflow=\"visible\" width=\"30\">    <path d=\"M 8 -9 l -6 18 L 8 25\" fill=\"none\" style=\"stroke:rgb(0.0, 138.56128015770727, 250.76166088685727);stroke-width:2\" />  </svg></g><g transform=\"translate(-12,0)\">  <svg x=\"43.745582006006615%\" y=\"40\" height=\"18\" overflow=\"visible\" width=\"30\">    <path d=\"M 8 -9 l -6 18 L 8 25\" fill=\"none\" style=\"stroke:rgb(0.0, 138.56128015770727, 250.76166088685727);stroke-width:2\" />  </svg></g><g transform=\"translate(-14,0)\">  <svg x=\"43.745582006006615%\" y=\"40\" height=\"18\" overflow=\"visible\" width=\"30\">    <path d=\"M 8 -9 l -6 18 L 8 25\" fill=\"none\" style=\"stroke:rgb(0.0, 138.56128015770727, 250.76166088685727);stroke-width:2\" />  </svg></g><g transform=\"translate(2,0)\">  <svg x=\"43.745582006006615%\" y=\"40\" height=\"18\" overflow=\"visible\" width=\"30\">    <path d=\"M 8 -9 l -6 18 L 8 25\" fill=\"none\" style=\"stroke:rgb(0.0, 138.56128015770727, 250.76166088685727);stroke-width:2\" />  </svg></g><g transform=\"translate(0,0)\">  <svg x=\"43.745582006006615%\" y=\"40\" height=\"18\" overflow=\"visible\" width=\"30\">    <path d=\"M 8 -9 l -6 18 L 8 25\" fill=\"none\" style=\"stroke:rgb(0.0, 138.56128015770727, 250.76166088685727);stroke-width:2\" />  </svg></g><g transform=\"translate(-2,0)\">  <svg x=\"43.745582006006615%\" y=\"40\" height=\"18\" overflow=\"visible\" width=\"30\">    <path d=\"M 8 -9 l -6 18 L 8 25\" fill=\"none\" style=\"stroke:rgb(0.0, 138.56128015770727, 250.76166088685727);stroke-width:2\" />  </svg></g><g transform=\"translate(-4,0)\">  <svg x=\"43.745582006006615%\" y=\"40\" height=\"18\" overflow=\"visible\" width=\"30\">    <path d=\"M 8 -9 l -6 18 L 8 25\" fill=\"none\" style=\"stroke:rgb(0.0, 138.56128015770727, 250.76166088685727);stroke-width:2\" />  </svg></g><g transform=\"translate(-8,0)\">  <svg x=\"44.59343552119661%\" y=\"40\" height=\"18\" overflow=\"visible\" width=\"30\">    <path d=\"M 8 -9 l -6 18 L 8 25\" fill=\"none\" style=\"stroke:rgb(0.0, 138.56128015770727, 250.76166088685727);stroke-width:2\" />  </svg></g><g transform=\"translate(-10,0)\">  <svg x=\"44.59343552119661%\" y=\"40\" height=\"18\" overflow=\"visible\" width=\"30\">    <path d=\"M 8 -9 l -6 18 L 8 25\" fill=\"none\" style=\"stroke:rgb(0.0, 138.56128015770727, 250.76166088685727);stroke-width:2\" />  </svg></g><g transform=\"translate(-12,0)\">  <svg x=\"44.59343552119661%\" y=\"40\" height=\"18\" overflow=\"visible\" width=\"30\">    <path d=\"M 8 -9 l -6 18 L 8 25\" fill=\"none\" style=\"stroke:rgb(0.0, 138.56128015770727, 250.76166088685727);stroke-width:2\" />  </svg></g><g transform=\"translate(-14,0)\">  <svg x=\"44.59343552119661%\" y=\"40\" height=\"18\" overflow=\"visible\" width=\"30\">    <path d=\"M 8 -9 l -6 18 L 8 25\" fill=\"none\" style=\"stroke:rgb(0.0, 138.56128015770727, 250.76166088685727);stroke-width:2\" />  </svg></g><g transform=\"translate(2,0)\">  <svg x=\"44.59343552119661%\" y=\"40\" height=\"18\" overflow=\"visible\" width=\"30\">    <path d=\"M 8 -9 l -6 18 L 8 25\" fill=\"none\" style=\"stroke:rgb(0.0, 138.56128015770727, 250.76166088685727);stroke-width:2\" />  </svg></g><g transform=\"translate(0,0)\">  <svg x=\"44.59343552119661%\" y=\"40\" height=\"18\" overflow=\"visible\" width=\"30\">    <path d=\"M 8 -9 l -6 18 L 8 25\" fill=\"none\" style=\"stroke:rgb(0.0, 138.56128015770727, 250.76166088685727);stroke-width:2\" />  </svg></g><g transform=\"translate(-2,0)\">  <svg x=\"44.59343552119661%\" y=\"40\" height=\"18\" overflow=\"visible\" width=\"30\">    <path d=\"M 8 -9 l -6 18 L 8 25\" fill=\"none\" style=\"stroke:rgb(0.0, 138.56128015770727, 250.76166088685727);stroke-width:2\" />  </svg></g><g transform=\"translate(-4,0)\">  <svg x=\"44.59343552119661%\" y=\"40\" height=\"18\" overflow=\"visible\" width=\"30\">    <path d=\"M 8 -9 l -6 18 L 8 25\" fill=\"none\" style=\"stroke:rgb(0.0, 138.56128015770727, 250.76166088685727);stroke-width:2\" />  </svg></g><g transform=\"translate(-8,0)\">  <svg x=\"45.43968968029627%\" y=\"40\" height=\"18\" overflow=\"visible\" width=\"30\">    <path d=\"M 8 -9 l -6 18 L 8 25\" fill=\"none\" style=\"stroke:rgb(0.0, 138.56128015770727, 250.76166088685727);stroke-width:2\" />  </svg></g><g transform=\"translate(-10,0)\">  <svg x=\"45.43968968029627%\" y=\"40\" height=\"18\" overflow=\"visible\" width=\"30\">    <path d=\"M 8 -9 l -6 18 L 8 25\" fill=\"none\" style=\"stroke:rgb(0.0, 138.56128015770727, 250.76166088685727);stroke-width:2\" />  </svg></g><g transform=\"translate(-12,0)\">  <svg x=\"45.43968968029627%\" y=\"40\" height=\"18\" overflow=\"visible\" width=\"30\">    <path d=\"M 8 -9 l -6 18 L 8 25\" fill=\"none\" style=\"stroke:rgb(0.0, 138.56128015770727, 250.76166088685727);stroke-width:2\" />  </svg></g><g transform=\"translate(-14,0)\">  <svg x=\"45.43968968029627%\" y=\"40\" height=\"18\" overflow=\"visible\" width=\"30\">    <path d=\"M 8 -9 l -6 18 L 8 25\" fill=\"none\" style=\"stroke:rgb(0.0, 138.56128015770727, 250.76166088685727);stroke-width:2\" />  </svg></g><g transform=\"translate(2,0)\">  <svg x=\"45.43968968029627%\" y=\"40\" height=\"18\" overflow=\"visible\" width=\"30\">    <path d=\"M 8 -9 l -6 18 L 8 25\" fill=\"none\" style=\"stroke:rgb(0.0, 138.56128015770727, 250.76166088685727);stroke-width:2\" />  </svg></g><g transform=\"translate(0,0)\">  <svg x=\"45.43968968029627%\" y=\"40\" height=\"18\" overflow=\"visible\" width=\"30\">    <path d=\"M 8 -9 l -6 18 L 8 25\" fill=\"none\" style=\"stroke:rgb(0.0, 138.56128015770727, 250.76166088685727);stroke-width:2\" />  </svg></g><g transform=\"translate(-2,0)\">  <svg x=\"45.43968968029627%\" y=\"40\" height=\"18\" overflow=\"visible\" width=\"30\">    <path d=\"M 8 -9 l -6 18 L 8 25\" fill=\"none\" style=\"stroke:rgb(0.0, 138.56128015770727, 250.76166088685727);stroke-width:2\" />  </svg></g><g transform=\"translate(-4,0)\">  <svg x=\"45.43968968029627%\" y=\"40\" height=\"18\" overflow=\"visible\" width=\"30\">    <path d=\"M 8 -9 l -6 18 L 8 25\" fill=\"none\" style=\"stroke:rgb(0.0, 138.56128015770727, 250.76166088685727);stroke-width:2\" />  </svg></g><g transform=\"translate(-8,0)\">  <svg x=\"46.14130968430365%\" y=\"40\" height=\"18\" overflow=\"visible\" width=\"30\">    <path d=\"M 8 -9 l -6 18 L 8 25\" fill=\"none\" style=\"stroke:rgb(0.0, 138.56128015770727, 250.76166088685727);stroke-width:2\" />  </svg></g><g transform=\"translate(-10,0)\">  <svg x=\"46.14130968430365%\" y=\"40\" height=\"18\" overflow=\"visible\" width=\"30\">    <path d=\"M 8 -9 l -6 18 L 8 25\" fill=\"none\" style=\"stroke:rgb(0.0, 138.56128015770727, 250.76166088685727);stroke-width:2\" />  </svg></g><g transform=\"translate(-12,0)\">  <svg x=\"46.14130968430365%\" y=\"40\" height=\"18\" overflow=\"visible\" width=\"30\">    <path d=\"M 8 -9 l -6 18 L 8 25\" fill=\"none\" style=\"stroke:rgb(0.0, 138.56128015770727, 250.76166088685727);stroke-width:2\" />  </svg></g><g transform=\"translate(-14,0)\">  <svg x=\"46.14130968430365%\" y=\"40\" height=\"18\" overflow=\"visible\" width=\"30\">    <path d=\"M 8 -9 l -6 18 L 8 25\" fill=\"none\" style=\"stroke:rgb(0.0, 138.56128015770727, 250.76166088685727);stroke-width:2\" />  </svg></g><g transform=\"translate(2,0)\">  <svg x=\"46.14130968430365%\" y=\"40\" height=\"18\" overflow=\"visible\" width=\"30\">    <path d=\"M 8 -9 l -6 18 L 8 25\" fill=\"none\" style=\"stroke:rgb(0.0, 138.56128015770727, 250.76166088685727);stroke-width:2\" />  </svg></g><g transform=\"translate(0,0)\">  <svg x=\"46.14130968430365%\" y=\"40\" height=\"18\" overflow=\"visible\" width=\"30\">    <path d=\"M 8 -9 l -6 18 L 8 25\" fill=\"none\" style=\"stroke:rgb(0.0, 138.56128015770727, 250.76166088685727);stroke-width:2\" />  </svg></g><g transform=\"translate(-2,0)\">  <svg x=\"46.14130968430365%\" y=\"40\" height=\"18\" overflow=\"visible\" width=\"30\">    <path d=\"M 8 -9 l -6 18 L 8 25\" fill=\"none\" style=\"stroke:rgb(0.0, 138.56128015770727, 250.76166088685727);stroke-width:2\" />  </svg></g><g transform=\"translate(-4,0)\">  <svg x=\"46.14130968430365%\" y=\"40\" height=\"18\" overflow=\"visible\" width=\"30\">    <path d=\"M 8 -9 l -6 18 L 8 25\" fill=\"none\" style=\"stroke:rgb(0.0, 138.56128015770727, 250.76166088685727);stroke-width:2\" />  </svg></g><g transform=\"translate(-8,0)\">  <svg x=\"46.787074667611655%\" y=\"40\" height=\"18\" overflow=\"visible\" width=\"30\">    <path d=\"M 8 -9 l -6 18 L 8 25\" fill=\"none\" style=\"stroke:rgb(0.0, 138.56128015770727, 250.76166088685727);stroke-width:2\" />  </svg></g><g transform=\"translate(-10,0)\">  <svg x=\"46.787074667611655%\" y=\"40\" height=\"18\" overflow=\"visible\" width=\"30\">    <path d=\"M 8 -9 l -6 18 L 8 25\" fill=\"none\" style=\"stroke:rgb(0.0, 138.56128015770727, 250.76166088685727);stroke-width:2\" />  </svg></g><g transform=\"translate(-12,0)\">  <svg x=\"46.787074667611655%\" y=\"40\" height=\"18\" overflow=\"visible\" width=\"30\">    <path d=\"M 8 -9 l -6 18 L 8 25\" fill=\"none\" style=\"stroke:rgb(0.0, 138.56128015770727, 250.76166088685727);stroke-width:2\" />  </svg></g><g transform=\"translate(-14,0)\">  <svg x=\"46.787074667611655%\" y=\"40\" height=\"18\" overflow=\"visible\" width=\"30\">    <path d=\"M 8 -9 l -6 18 L 8 25\" fill=\"none\" style=\"stroke:rgb(0.0, 138.56128015770727, 250.76166088685727);stroke-width:2\" />  </svg></g><g transform=\"translate(2,0)\">  <svg x=\"46.787074667611655%\" y=\"40\" height=\"18\" overflow=\"visible\" width=\"30\">    <path d=\"M 8 -9 l -6 18 L 8 25\" fill=\"none\" style=\"stroke:rgb(0.0, 138.56128015770727, 250.76166088685727);stroke-width:2\" />  </svg></g><g transform=\"translate(0,0)\">  <svg x=\"46.787074667611655%\" y=\"40\" height=\"18\" overflow=\"visible\" width=\"30\">    <path d=\"M 8 -9 l -6 18 L 8 25\" fill=\"none\" style=\"stroke:rgb(0.0, 138.56128015770727, 250.76166088685727);stroke-width:2\" />  </svg></g><g transform=\"translate(-2,0)\">  <svg x=\"46.787074667611655%\" y=\"40\" height=\"18\" overflow=\"visible\" width=\"30\">    <path d=\"M 8 -9 l -6 18 L 8 25\" fill=\"none\" style=\"stroke:rgb(0.0, 138.56128015770727, 250.76166088685727);stroke-width:2\" />  </svg></g><g transform=\"translate(-4,0)\">  <svg x=\"46.787074667611655%\" y=\"40\" height=\"18\" overflow=\"visible\" width=\"30\">    <path d=\"M 8 -9 l -6 18 L 8 25\" fill=\"none\" style=\"stroke:rgb(0.0, 138.56128015770727, 250.76166088685727);stroke-width:2\" />  </svg></g><g transform=\"translate(-8,0)\">  <svg x=\"47.418055205322716%\" y=\"40\" height=\"18\" overflow=\"visible\" width=\"30\">    <path d=\"M 8 -9 l -6 18 L 8 25\" fill=\"none\" style=\"stroke:rgb(0.0, 138.56128015770727, 250.76166088685727);stroke-width:2\" />  </svg></g><g transform=\"translate(-10,0)\">  <svg x=\"47.418055205322716%\" y=\"40\" height=\"18\" overflow=\"visible\" width=\"30\">    <path d=\"M 8 -9 l -6 18 L 8 25\" fill=\"none\" style=\"stroke:rgb(0.0, 138.56128015770727, 250.76166088685727);stroke-width:2\" />  </svg></g><g transform=\"translate(-12,0)\">  <svg x=\"47.418055205322716%\" y=\"40\" height=\"18\" overflow=\"visible\" width=\"30\">    <path d=\"M 8 -9 l -6 18 L 8 25\" fill=\"none\" style=\"stroke:rgb(0.0, 138.56128015770727, 250.76166088685727);stroke-width:2\" />  </svg></g><g transform=\"translate(-14,0)\">  <svg x=\"47.418055205322716%\" y=\"40\" height=\"18\" overflow=\"visible\" width=\"30\">    <path d=\"M 8 -9 l -6 18 L 8 25\" fill=\"none\" style=\"stroke:rgb(0.0, 138.56128015770727, 250.76166088685727);stroke-width:2\" />  </svg></g><g transform=\"translate(2,0)\">  <svg x=\"47.418055205322716%\" y=\"40\" height=\"18\" overflow=\"visible\" width=\"30\">    <path d=\"M 8 -9 l -6 18 L 8 25\" fill=\"none\" style=\"stroke:rgb(0.0, 138.56128015770727, 250.76166088685727);stroke-width:2\" />  </svg></g><g transform=\"translate(0,0)\">  <svg x=\"47.418055205322716%\" y=\"40\" height=\"18\" overflow=\"visible\" width=\"30\">    <path d=\"M 8 -9 l -6 18 L 8 25\" fill=\"none\" style=\"stroke:rgb(0.0, 138.56128015770727, 250.76166088685727);stroke-width:2\" />  </svg></g><g transform=\"translate(-2,0)\">  <svg x=\"47.418055205322716%\" y=\"40\" height=\"18\" overflow=\"visible\" width=\"30\">    <path d=\"M 8 -9 l -6 18 L 8 25\" fill=\"none\" style=\"stroke:rgb(0.0, 138.56128015770727, 250.76166088685727);stroke-width:2\" />  </svg></g><g transform=\"translate(-4,0)\">  <svg x=\"47.418055205322716%\" y=\"40\" height=\"18\" overflow=\"visible\" width=\"30\">    <path d=\"M 8 -9 l -6 18 L 8 25\" fill=\"none\" style=\"stroke:rgb(0.0, 138.56128015770727, 250.76166088685727);stroke-width:2\" />  </svg></g><g transform=\"translate(-8,0)\">  <svg x=\"48.022035343214775%\" y=\"40\" height=\"18\" overflow=\"visible\" width=\"30\">    <path d=\"M 8 -9 l -6 18 L 8 25\" fill=\"none\" style=\"stroke:rgb(0.0, 138.56128015770727, 250.76166088685727);stroke-width:2\" />  </svg></g><g transform=\"translate(-10,0)\">  <svg x=\"48.022035343214775%\" y=\"40\" height=\"18\" overflow=\"visible\" width=\"30\">    <path d=\"M 8 -9 l -6 18 L 8 25\" fill=\"none\" style=\"stroke:rgb(0.0, 138.56128015770727, 250.76166088685727);stroke-width:2\" />  </svg></g><g transform=\"translate(-12,0)\">  <svg x=\"48.022035343214775%\" y=\"40\" height=\"18\" overflow=\"visible\" width=\"30\">    <path d=\"M 8 -9 l -6 18 L 8 25\" fill=\"none\" style=\"stroke:rgb(0.0, 138.56128015770727, 250.76166088685727);stroke-width:2\" />  </svg></g><g transform=\"translate(-14,0)\">  <svg x=\"48.022035343214775%\" y=\"40\" height=\"18\" overflow=\"visible\" width=\"30\">    <path d=\"M 8 -9 l -6 18 L 8 25\" fill=\"none\" style=\"stroke:rgb(0.0, 138.56128015770727, 250.76166088685727);stroke-width:2\" />  </svg></g><g transform=\"translate(2,0)\">  <svg x=\"48.022035343214775%\" y=\"40\" height=\"18\" overflow=\"visible\" width=\"30\">    <path d=\"M 8 -9 l -6 18 L 8 25\" fill=\"none\" style=\"stroke:rgb(0.0, 138.56128015770727, 250.76166088685727);stroke-width:2\" />  </svg></g><g transform=\"translate(0,0)\">  <svg x=\"48.022035343214775%\" y=\"40\" height=\"18\" overflow=\"visible\" width=\"30\">    <path d=\"M 8 -9 l -6 18 L 8 25\" fill=\"none\" style=\"stroke:rgb(0.0, 138.56128015770727, 250.76166088685727);stroke-width:2\" />  </svg></g><g transform=\"translate(-2,0)\">  <svg x=\"48.022035343214775%\" y=\"40\" height=\"18\" overflow=\"visible\" width=\"30\">    <path d=\"M 8 -9 l -6 18 L 8 25\" fill=\"none\" style=\"stroke:rgb(0.0, 138.56128015770727, 250.76166088685727);stroke-width:2\" />  </svg></g><g transform=\"translate(-4,0)\">  <svg x=\"48.022035343214775%\" y=\"40\" height=\"18\" overflow=\"visible\" width=\"30\">    <path d=\"M 8 -9 l -6 18 L 8 25\" fill=\"none\" style=\"stroke:rgb(0.0, 138.56128015770727, 250.76166088685727);stroke-width:2\" />  </svg></g><g transform=\"translate(-8,0)\">  <svg x=\"48.542381962388895%\" y=\"40\" height=\"18\" overflow=\"visible\" width=\"30\">    <path d=\"M 8 -9 l -6 18 L 8 25\" fill=\"none\" style=\"stroke:rgb(0.0, 138.56128015770727, 250.76166088685727);stroke-width:2\" />  </svg></g><g transform=\"translate(-10,0)\">  <svg x=\"48.542381962388895%\" y=\"40\" height=\"18\" overflow=\"visible\" width=\"30\">    <path d=\"M 8 -9 l -6 18 L 8 25\" fill=\"none\" style=\"stroke:rgb(0.0, 138.56128015770727, 250.76166088685727);stroke-width:2\" />  </svg></g><g transform=\"translate(-12,0)\">  <svg x=\"48.542381962388895%\" y=\"40\" height=\"18\" overflow=\"visible\" width=\"30\">    <path d=\"M 8 -9 l -6 18 L 8 25\" fill=\"none\" style=\"stroke:rgb(0.0, 138.56128015770727, 250.76166088685727);stroke-width:2\" />  </svg></g><g transform=\"translate(-14,0)\">  <svg x=\"48.542381962388895%\" y=\"40\" height=\"18\" overflow=\"visible\" width=\"30\">    <path d=\"M 8 -9 l -6 18 L 8 25\" fill=\"none\" style=\"stroke:rgb(0.0, 138.56128015770727, 250.76166088685727);stroke-width:2\" />  </svg></g><g transform=\"translate(2,0)\">  <svg x=\"48.542381962388895%\" y=\"40\" height=\"18\" overflow=\"visible\" width=\"30\">    <path d=\"M 8 -9 l -6 18 L 8 25\" fill=\"none\" style=\"stroke:rgb(0.0, 138.56128015770727, 250.76166088685727);stroke-width:2\" />  </svg></g><g transform=\"translate(0,0)\">  <svg x=\"48.542381962388895%\" y=\"40\" height=\"18\" overflow=\"visible\" width=\"30\">    <path d=\"M 8 -9 l -6 18 L 8 25\" fill=\"none\" style=\"stroke:rgb(0.0, 138.56128015770727, 250.76166088685727);stroke-width:2\" />  </svg></g><g transform=\"translate(-2,0)\">  <svg x=\"48.542381962388895%\" y=\"40\" height=\"18\" overflow=\"visible\" width=\"30\">    <path d=\"M 8 -9 l -6 18 L 8 25\" fill=\"none\" style=\"stroke:rgb(0.0, 138.56128015770727, 250.76166088685727);stroke-width:2\" />  </svg></g><g transform=\"translate(-4,0)\">  <svg x=\"48.542381962388895%\" y=\"40\" height=\"18\" overflow=\"visible\" width=\"30\">    <path d=\"M 8 -9 l -6 18 L 8 25\" fill=\"none\" style=\"stroke:rgb(0.0, 138.56128015770727, 250.76166088685727);stroke-width:2\" />  </svg></g><g transform=\"translate(-8,0)\">  <svg x=\"49.0533721191032%\" y=\"40\" height=\"18\" overflow=\"visible\" width=\"30\">    <path d=\"M 8 -9 l -6 18 L 8 25\" fill=\"none\" style=\"stroke:rgb(0.0, 138.56128015770727, 250.76166088685727);stroke-width:2\" />  </svg></g><g transform=\"translate(-10,0)\">  <svg x=\"49.0533721191032%\" y=\"40\" height=\"18\" overflow=\"visible\" width=\"30\">    <path d=\"M 8 -9 l -6 18 L 8 25\" fill=\"none\" style=\"stroke:rgb(0.0, 138.56128015770727, 250.76166088685727);stroke-width:2\" />  </svg></g><g transform=\"translate(-12,0)\">  <svg x=\"49.0533721191032%\" y=\"40\" height=\"18\" overflow=\"visible\" width=\"30\">    <path d=\"M 8 -9 l -6 18 L 8 25\" fill=\"none\" style=\"stroke:rgb(0.0, 138.56128015770727, 250.76166088685727);stroke-width:2\" />  </svg></g><g transform=\"translate(-14,0)\">  <svg x=\"49.0533721191032%\" y=\"40\" height=\"18\" overflow=\"visible\" width=\"30\">    <path d=\"M 8 -9 l -6 18 L 8 25\" fill=\"none\" style=\"stroke:rgb(0.0, 138.56128015770727, 250.76166088685727);stroke-width:2\" />  </svg></g><g transform=\"translate(2,0)\">  <svg x=\"49.0533721191032%\" y=\"40\" height=\"18\" overflow=\"visible\" width=\"30\">    <path d=\"M 8 -9 l -6 18 L 8 25\" fill=\"none\" style=\"stroke:rgb(0.0, 138.56128015770727, 250.76166088685727);stroke-width:2\" />  </svg></g><g transform=\"translate(0,0)\">  <svg x=\"49.0533721191032%\" y=\"40\" height=\"18\" overflow=\"visible\" width=\"30\">    <path d=\"M 8 -9 l -6 18 L 8 25\" fill=\"none\" style=\"stroke:rgb(0.0, 138.56128015770727, 250.76166088685727);stroke-width:2\" />  </svg></g><g transform=\"translate(-2,0)\">  <svg x=\"49.0533721191032%\" y=\"40\" height=\"18\" overflow=\"visible\" width=\"30\">    <path d=\"M 8 -9 l -6 18 L 8 25\" fill=\"none\" style=\"stroke:rgb(0.0, 138.56128015770727, 250.76166088685727);stroke-width:2\" />  </svg></g><g transform=\"translate(-4,0)\">  <svg x=\"49.0533721191032%\" y=\"40\" height=\"18\" overflow=\"visible\" width=\"30\">    <path d=\"M 8 -9 l -6 18 L 8 25\" fill=\"none\" style=\"stroke:rgb(0.0, 138.56128015770727, 250.76166088685727);stroke-width:2\" />  </svg></g><g transform=\"translate(-8,0)\">  <svg x=\"49.540379333760136%\" y=\"40\" height=\"18\" overflow=\"visible\" width=\"30\">    <path d=\"M 8 -9 l -6 18 L 8 25\" fill=\"none\" style=\"stroke:rgb(0.0, 138.56128015770727, 250.76166088685727);stroke-width:2\" />  </svg></g><g transform=\"translate(-10,0)\">  <svg x=\"49.540379333760136%\" y=\"40\" height=\"18\" overflow=\"visible\" width=\"30\">    <path d=\"M 8 -9 l -6 18 L 8 25\" fill=\"none\" style=\"stroke:rgb(0.0, 138.56128015770727, 250.76166088685727);stroke-width:2\" />  </svg></g><g transform=\"translate(-12,0)\">  <svg x=\"49.540379333760136%\" y=\"40\" height=\"18\" overflow=\"visible\" width=\"30\">    <path d=\"M 8 -9 l -6 18 L 8 25\" fill=\"none\" style=\"stroke:rgb(0.0, 138.56128015770727, 250.76166088685727);stroke-width:2\" />  </svg></g><g transform=\"translate(-14,0)\">  <svg x=\"49.540379333760136%\" y=\"40\" height=\"18\" overflow=\"visible\" width=\"30\">    <path d=\"M 8 -9 l -6 18 L 8 25\" fill=\"none\" style=\"stroke:rgb(0.0, 138.56128015770727, 250.76166088685727);stroke-width:2\" />  </svg></g><g transform=\"translate(2,0)\">  <svg x=\"49.540379333760136%\" y=\"40\" height=\"18\" overflow=\"visible\" width=\"30\">    <path d=\"M 8 -9 l -6 18 L 8 25\" fill=\"none\" style=\"stroke:rgb(0.0, 138.56128015770727, 250.76166088685727);stroke-width:2\" />  </svg></g><g transform=\"translate(0,0)\">  <svg x=\"49.540379333760136%\" y=\"40\" height=\"18\" overflow=\"visible\" width=\"30\">    <path d=\"M 8 -9 l -6 18 L 8 25\" fill=\"none\" style=\"stroke:rgb(0.0, 138.56128015770727, 250.76166088685727);stroke-width:2\" />  </svg></g><g transform=\"translate(-2,0)\">  <svg x=\"49.540379333760136%\" y=\"40\" height=\"18\" overflow=\"visible\" width=\"30\">    <path d=\"M 8 -9 l -6 18 L 8 25\" fill=\"none\" style=\"stroke:rgb(0.0, 138.56128015770727, 250.76166088685727);stroke-width:2\" />  </svg></g><g transform=\"translate(-4,0)\">  <svg x=\"49.540379333760136%\" y=\"40\" height=\"18\" overflow=\"visible\" width=\"30\">    <path d=\"M 8 -9 l -6 18 L 8 25\" fill=\"none\" style=\"stroke:rgb(0.0, 138.56128015770727, 250.76166088685727);stroke-width:2\" />  </svg></g><g transform=\"translate(-8,0)\">  <svg x=\"49.983010140325%\" y=\"40\" height=\"18\" overflow=\"visible\" width=\"30\">    <path d=\"M 8 -9 l -6 18 L 8 25\" fill=\"none\" style=\"stroke:rgb(0.0, 138.56128015770727, 250.76166088685727);stroke-width:2\" />  </svg></g><g transform=\"translate(-10,0)\">  <svg x=\"49.983010140325%\" y=\"40\" height=\"18\" overflow=\"visible\" width=\"30\">    <path d=\"M 8 -9 l -6 18 L 8 25\" fill=\"none\" style=\"stroke:rgb(0.0, 138.56128015770727, 250.76166088685727);stroke-width:2\" />  </svg></g><g transform=\"translate(-12,0)\">  <svg x=\"49.983010140325%\" y=\"40\" height=\"18\" overflow=\"visible\" width=\"30\">    <path d=\"M 8 -9 l -6 18 L 8 25\" fill=\"none\" style=\"stroke:rgb(0.0, 138.56128015770727, 250.76166088685727);stroke-width:2\" />  </svg></g><g transform=\"translate(-14,0)\">  <svg x=\"49.983010140325%\" y=\"40\" height=\"18\" overflow=\"visible\" width=\"30\">    <path d=\"M 8 -9 l -6 18 L 8 25\" fill=\"none\" style=\"stroke:rgb(0.0, 138.56128015770727, 250.76166088685727);stroke-width:2\" />  </svg></g><g transform=\"translate(2,0)\">  <svg x=\"49.983010140325%\" y=\"40\" height=\"18\" overflow=\"visible\" width=\"30\">    <path d=\"M 8 -9 l -6 18 L 8 25\" fill=\"none\" style=\"stroke:rgb(0.0, 138.56128015770727, 250.76166088685727);stroke-width:2\" />  </svg></g><g transform=\"translate(0,0)\">  <svg x=\"49.983010140325%\" y=\"40\" height=\"18\" overflow=\"visible\" width=\"30\">    <path d=\"M 8 -9 l -6 18 L 8 25\" fill=\"none\" style=\"stroke:rgb(0.0, 138.56128015770727, 250.76166088685727);stroke-width:2\" />  </svg></g><g transform=\"translate(-2,0)\">  <svg x=\"49.983010140325%\" y=\"40\" height=\"18\" overflow=\"visible\" width=\"30\">    <path d=\"M 8 -9 l -6 18 L 8 25\" fill=\"none\" style=\"stroke:rgb(0.0, 138.56128015770727, 250.76166088685727);stroke-width:2\" />  </svg></g><g transform=\"translate(-4,0)\">  <svg x=\"49.983010140325%\" y=\"40\" height=\"18\" overflow=\"visible\" width=\"30\">    <path d=\"M 8 -9 l -6 18 L 8 25\" fill=\"none\" style=\"stroke:rgb(0.0, 138.56128015770727, 250.76166088685727);stroke-width:2\" />  </svg></g><g transform=\"translate(-8,0)\">  <svg x=\"50.41663503941781%\" y=\"40\" height=\"18\" overflow=\"visible\" width=\"30\">    <path d=\"M 8 -9 l -6 18 L 8 25\" fill=\"none\" style=\"stroke:rgb(0.0, 138.56128015770727, 250.76166088685727);stroke-width:2\" />  </svg></g><g transform=\"translate(-10,0)\">  <svg x=\"50.41663503941781%\" y=\"40\" height=\"18\" overflow=\"visible\" width=\"30\">    <path d=\"M 8 -9 l -6 18 L 8 25\" fill=\"none\" style=\"stroke:rgb(0.0, 138.56128015770727, 250.76166088685727);stroke-width:2\" />  </svg></g><g transform=\"translate(-12,0)\">  <svg x=\"50.41663503941781%\" y=\"40\" height=\"18\" overflow=\"visible\" width=\"30\">    <path d=\"M 8 -9 l -6 18 L 8 25\" fill=\"none\" style=\"stroke:rgb(0.0, 138.56128015770727, 250.76166088685727);stroke-width:2\" />  </svg></g><g transform=\"translate(-14,0)\">  <svg x=\"50.41663503941781%\" y=\"40\" height=\"18\" overflow=\"visible\" width=\"30\">    <path d=\"M 8 -9 l -6 18 L 8 25\" fill=\"none\" style=\"stroke:rgb(0.0, 138.56128015770727, 250.76166088685727);stroke-width:2\" />  </svg></g><g transform=\"translate(2,0)\">  <svg x=\"50.41663503941781%\" y=\"40\" height=\"18\" overflow=\"visible\" width=\"30\">    <path d=\"M 8 -9 l -6 18 L 8 25\" fill=\"none\" style=\"stroke:rgb(0.0, 138.56128015770727, 250.76166088685727);stroke-width:2\" />  </svg></g><g transform=\"translate(0,0)\">  <svg x=\"50.41663503941781%\" y=\"40\" height=\"18\" overflow=\"visible\" width=\"30\">    <path d=\"M 8 -9 l -6 18 L 8 25\" fill=\"none\" style=\"stroke:rgb(0.0, 138.56128015770727, 250.76166088685727);stroke-width:2\" />  </svg></g><g transform=\"translate(-2,0)\">  <svg x=\"50.41663503941781%\" y=\"40\" height=\"18\" overflow=\"visible\" width=\"30\">    <path d=\"M 8 -9 l -6 18 L 8 25\" fill=\"none\" style=\"stroke:rgb(0.0, 138.56128015770727, 250.76166088685727);stroke-width:2\" />  </svg></g><g transform=\"translate(-4,0)\">  <svg x=\"50.41663503941781%\" y=\"40\" height=\"18\" overflow=\"visible\" width=\"30\">    <path d=\"M 8 -9 l -6 18 L 8 25\" fill=\"none\" style=\"stroke:rgb(0.0, 138.56128015770727, 250.76166088685727);stroke-width:2\" />  </svg></g><g transform=\"translate(-8,0)\">  <svg x=\"50.79281141651697%\" y=\"40\" height=\"18\" overflow=\"visible\" width=\"30\">    <path d=\"M 8 -9 l -6 18 L 8 25\" fill=\"none\" style=\"stroke:rgb(0.0, 138.56128015770727, 250.76166088685727);stroke-width:2\" />  </svg></g><g transform=\"translate(-10,0)\">  <svg x=\"50.79281141651697%\" y=\"40\" height=\"18\" overflow=\"visible\" width=\"30\">    <path d=\"M 8 -9 l -6 18 L 8 25\" fill=\"none\" style=\"stroke:rgb(0.0, 138.56128015770727, 250.76166088685727);stroke-width:2\" />  </svg></g><g transform=\"translate(-12,0)\">  <svg x=\"50.79281141651697%\" y=\"40\" height=\"18\" overflow=\"visible\" width=\"30\">    <path d=\"M 8 -9 l -6 18 L 8 25\" fill=\"none\" style=\"stroke:rgb(0.0, 138.56128015770727, 250.76166088685727);stroke-width:2\" />  </svg></g><g transform=\"translate(-14,0)\">  <svg x=\"50.79281141651697%\" y=\"40\" height=\"18\" overflow=\"visible\" width=\"30\">    <path d=\"M 8 -9 l -6 18 L 8 25\" fill=\"none\" style=\"stroke:rgb(0.0, 138.56128015770727, 250.76166088685727);stroke-width:2\" />  </svg></g><g transform=\"translate(2,0)\">  <svg x=\"50.79281141651697%\" y=\"40\" height=\"18\" overflow=\"visible\" width=\"30\">    <path d=\"M 8 -9 l -6 18 L 8 25\" fill=\"none\" style=\"stroke:rgb(0.0, 138.56128015770727, 250.76166088685727);stroke-width:2\" />  </svg></g><g transform=\"translate(0,0)\">  <svg x=\"50.79281141651697%\" y=\"40\" height=\"18\" overflow=\"visible\" width=\"30\">    <path d=\"M 8 -9 l -6 18 L 8 25\" fill=\"none\" style=\"stroke:rgb(0.0, 138.56128015770727, 250.76166088685727);stroke-width:2\" />  </svg></g><g transform=\"translate(-2,0)\">  <svg x=\"50.79281141651697%\" y=\"40\" height=\"18\" overflow=\"visible\" width=\"30\">    <path d=\"M 8 -9 l -6 18 L 8 25\" fill=\"none\" style=\"stroke:rgb(0.0, 138.56128015770727, 250.76166088685727);stroke-width:2\" />  </svg></g><g transform=\"translate(-4,0)\">  <svg x=\"50.79281141651697%\" y=\"40\" height=\"18\" overflow=\"visible\" width=\"30\">    <path d=\"M 8 -9 l -6 18 L 8 25\" fill=\"none\" style=\"stroke:rgb(0.0, 138.56128015770727, 250.76166088685727);stroke-width:2\" />  </svg></g><g transform=\"translate(-8,0)\">  <svg x=\"51.10586185394245%\" y=\"40\" height=\"18\" overflow=\"visible\" width=\"30\">    <path d=\"M 8 -9 l -6 18 L 8 25\" fill=\"none\" style=\"stroke:rgb(0.0, 138.56128015770727, 250.76166088685727);stroke-width:2\" />  </svg></g><g transform=\"translate(-10,0)\">  <svg x=\"51.10586185394245%\" y=\"40\" height=\"18\" overflow=\"visible\" width=\"30\">    <path d=\"M 8 -9 l -6 18 L 8 25\" fill=\"none\" style=\"stroke:rgb(0.0, 138.56128015770727, 250.76166088685727);stroke-width:2\" />  </svg></g><g transform=\"translate(-12,0)\">  <svg x=\"51.10586185394245%\" y=\"40\" height=\"18\" overflow=\"visible\" width=\"30\">    <path d=\"M 8 -9 l -6 18 L 8 25\" fill=\"none\" style=\"stroke:rgb(0.0, 138.56128015770727, 250.76166088685727);stroke-width:2\" />  </svg></g><g transform=\"translate(-14,0)\">  <svg x=\"51.10586185394245%\" y=\"40\" height=\"18\" overflow=\"visible\" width=\"30\">    <path d=\"M 8 -9 l -6 18 L 8 25\" fill=\"none\" style=\"stroke:rgb(0.0, 138.56128015770727, 250.76166088685727);stroke-width:2\" />  </svg></g><g transform=\"translate(2,0)\">  <svg x=\"51.10586185394245%\" y=\"40\" height=\"18\" overflow=\"visible\" width=\"30\">    <path d=\"M 8 -9 l -6 18 L 8 25\" fill=\"none\" style=\"stroke:rgb(0.0, 138.56128015770727, 250.76166088685727);stroke-width:2\" />  </svg></g><g transform=\"translate(0,0)\">  <svg x=\"51.10586185394245%\" y=\"40\" height=\"18\" overflow=\"visible\" width=\"30\">    <path d=\"M 8 -9 l -6 18 L 8 25\" fill=\"none\" style=\"stroke:rgb(0.0, 138.56128015770727, 250.76166088685727);stroke-width:2\" />  </svg></g><g transform=\"translate(-2,0)\">  <svg x=\"51.10586185394245%\" y=\"40\" height=\"18\" overflow=\"visible\" width=\"30\">    <path d=\"M 8 -9 l -6 18 L 8 25\" fill=\"none\" style=\"stroke:rgb(0.0, 138.56128015770727, 250.76166088685727);stroke-width:2\" />  </svg></g><g transform=\"translate(-4,0)\">  <svg x=\"51.10586185394245%\" y=\"40\" height=\"18\" overflow=\"visible\" width=\"30\">    <path d=\"M 8 -9 l -6 18 L 8 25\" fill=\"none\" style=\"stroke:rgb(0.0, 138.56128015770727, 250.76166088685727);stroke-width:2\" />  </svg></g><g transform=\"translate(-8,0)\">  <svg x=\"51.36040597328239%\" y=\"40\" height=\"18\" overflow=\"visible\" width=\"30\">    <path d=\"M 8 -9 l -6 18 L 8 25\" fill=\"none\" style=\"stroke:rgb(0.0, 138.56128015770727, 250.76166088685727);stroke-width:2\" />  </svg></g><g transform=\"translate(-10,0)\">  <svg x=\"51.36040597328239%\" y=\"40\" height=\"18\" overflow=\"visible\" width=\"30\">    <path d=\"M 8 -9 l -6 18 L 8 25\" fill=\"none\" style=\"stroke:rgb(0.0, 138.56128015770727, 250.76166088685727);stroke-width:2\" />  </svg></g><g transform=\"translate(-12,0)\">  <svg x=\"51.36040597328239%\" y=\"40\" height=\"18\" overflow=\"visible\" width=\"30\">    <path d=\"M 8 -9 l -6 18 L 8 25\" fill=\"none\" style=\"stroke:rgb(0.0, 138.56128015770727, 250.76166088685727);stroke-width:2\" />  </svg></g><g transform=\"translate(-14,0)\">  <svg x=\"51.36040597328239%\" y=\"40\" height=\"18\" overflow=\"visible\" width=\"30\">    <path d=\"M 8 -9 l -6 18 L 8 25\" fill=\"none\" style=\"stroke:rgb(0.0, 138.56128015770727, 250.76166088685727);stroke-width:2\" />  </svg></g><g transform=\"translate(2,0)\">  <svg x=\"51.36040597328239%\" y=\"40\" height=\"18\" overflow=\"visible\" width=\"30\">    <path d=\"M 8 -9 l -6 18 L 8 25\" fill=\"none\" style=\"stroke:rgb(0.0, 138.56128015770727, 250.76166088685727);stroke-width:2\" />  </svg></g><g transform=\"translate(0,0)\">  <svg x=\"51.36040597328239%\" y=\"40\" height=\"18\" overflow=\"visible\" width=\"30\">    <path d=\"M 8 -9 l -6 18 L 8 25\" fill=\"none\" style=\"stroke:rgb(0.0, 138.56128015770727, 250.76166088685727);stroke-width:2\" />  </svg></g><g transform=\"translate(-2,0)\">  <svg x=\"51.36040597328239%\" y=\"40\" height=\"18\" overflow=\"visible\" width=\"30\">    <path d=\"M 8 -9 l -6 18 L 8 25\" fill=\"none\" style=\"stroke:rgb(0.0, 138.56128015770727, 250.76166088685727);stroke-width:2\" />  </svg></g><g transform=\"translate(-4,0)\">  <svg x=\"51.36040597328239%\" y=\"40\" height=\"18\" overflow=\"visible\" width=\"30\">    <path d=\"M 8 -9 l -6 18 L 8 25\" fill=\"none\" style=\"stroke:rgb(0.0, 138.56128015770727, 250.76166088685727);stroke-width:2\" />  </svg></g><g transform=\"translate(-8,0)\">  <svg x=\"51.57696872552328%\" y=\"40\" height=\"18\" overflow=\"visible\" width=\"30\">    <path d=\"M 8 -9 l -6 18 L 8 25\" fill=\"none\" style=\"stroke:rgb(0.0, 138.56128015770727, 250.76166088685727);stroke-width:2\" />  </svg></g><g transform=\"translate(-10,0)\">  <svg x=\"51.57696872552328%\" y=\"40\" height=\"18\" overflow=\"visible\" width=\"30\">    <path d=\"M 8 -9 l -6 18 L 8 25\" fill=\"none\" style=\"stroke:rgb(0.0, 138.56128015770727, 250.76166088685727);stroke-width:2\" />  </svg></g><g transform=\"translate(-12,0)\">  <svg x=\"51.57696872552328%\" y=\"40\" height=\"18\" overflow=\"visible\" width=\"30\">    <path d=\"M 8 -9 l -6 18 L 8 25\" fill=\"none\" style=\"stroke:rgb(0.0, 138.56128015770727, 250.76166088685727);stroke-width:2\" />  </svg></g><g transform=\"translate(-14,0)\">  <svg x=\"51.57696872552328%\" y=\"40\" height=\"18\" overflow=\"visible\" width=\"30\">    <path d=\"M 8 -9 l -6 18 L 8 25\" fill=\"none\" style=\"stroke:rgb(0.0, 138.56128015770727, 250.76166088685727);stroke-width:2\" />  </svg></g><g transform=\"translate(2,0)\">  <svg x=\"51.57696872552328%\" y=\"40\" height=\"18\" overflow=\"visible\" width=\"30\">    <path d=\"M 8 -9 l -6 18 L 8 25\" fill=\"none\" style=\"stroke:rgb(0.0, 138.56128015770727, 250.76166088685727);stroke-width:2\" />  </svg></g><g transform=\"translate(0,0)\">  <svg x=\"51.57696872552328%\" y=\"40\" height=\"18\" overflow=\"visible\" width=\"30\">    <path d=\"M 8 -9 l -6 18 L 8 25\" fill=\"none\" style=\"stroke:rgb(0.0, 138.56128015770727, 250.76166088685727);stroke-width:2\" />  </svg></g><g transform=\"translate(-2,0)\">  <svg x=\"51.57696872552328%\" y=\"40\" height=\"18\" overflow=\"visible\" width=\"30\">    <path d=\"M 8 -9 l -6 18 L 8 25\" fill=\"none\" style=\"stroke:rgb(0.0, 138.56128015770727, 250.76166088685727);stroke-width:2\" />  </svg></g><g transform=\"translate(-4,0)\">  <svg x=\"51.57696872552328%\" y=\"40\" height=\"18\" overflow=\"visible\" width=\"30\">    <path d=\"M 8 -9 l -6 18 L 8 25\" fill=\"none\" style=\"stroke:rgb(0.0, 138.56128015770727, 250.76166088685727);stroke-width:2\" />  </svg></g><g transform=\"translate(-8,0)\">  <svg x=\"51.66585006101877%\" y=\"40\" height=\"18\" overflow=\"visible\" width=\"30\">    <path d=\"M 8 -9 l -6 18 L 8 25\" fill=\"none\" style=\"stroke:rgb(0.0, 138.56128015770727, 250.76166088685727);stroke-width:2\" />  </svg></g><g transform=\"translate(-10,0)\">  <svg x=\"51.66585006101877%\" y=\"40\" height=\"18\" overflow=\"visible\" width=\"30\">    <path d=\"M 8 -9 l -6 18 L 8 25\" fill=\"none\" style=\"stroke:rgb(0.0, 138.56128015770727, 250.76166088685727);stroke-width:2\" />  </svg></g><g transform=\"translate(-12,0)\">  <svg x=\"51.66585006101877%\" y=\"40\" height=\"18\" overflow=\"visible\" width=\"30\">    <path d=\"M 8 -9 l -6 18 L 8 25\" fill=\"none\" style=\"stroke:rgb(0.0, 138.56128015770727, 250.76166088685727);stroke-width:2\" />  </svg></g><g transform=\"translate(-14,0)\">  <svg x=\"51.66585006101877%\" y=\"40\" height=\"18\" overflow=\"visible\" width=\"30\">    <path d=\"M 8 -9 l -6 18 L 8 25\" fill=\"none\" style=\"stroke:rgb(0.0, 138.56128015770727, 250.76166088685727);stroke-width:2\" />  </svg></g><g transform=\"translate(2,0)\">  <svg x=\"51.66585006101877%\" y=\"40\" height=\"18\" overflow=\"visible\" width=\"30\">    <path d=\"M 8 -9 l -6 18 L 8 25\" fill=\"none\" style=\"stroke:rgb(0.0, 138.56128015770727, 250.76166088685727);stroke-width:2\" />  </svg></g><g transform=\"translate(0,0)\">  <svg x=\"51.66585006101877%\" y=\"40\" height=\"18\" overflow=\"visible\" width=\"30\">    <path d=\"M 8 -9 l -6 18 L 8 25\" fill=\"none\" style=\"stroke:rgb(0.0, 138.56128015770727, 250.76166088685727);stroke-width:2\" />  </svg></g><g transform=\"translate(-2,0)\">  <svg x=\"51.66585006101877%\" y=\"40\" height=\"18\" overflow=\"visible\" width=\"30\">    <path d=\"M 8 -9 l -6 18 L 8 25\" fill=\"none\" style=\"stroke:rgb(0.0, 138.56128015770727, 250.76166088685727);stroke-width:2\" />  </svg></g><g transform=\"translate(-4,0)\">  <svg x=\"51.66585006101877%\" y=\"40\" height=\"18\" overflow=\"visible\" width=\"30\">    <path d=\"M 8 -9 l -6 18 L 8 25\" fill=\"none\" style=\"stroke:rgb(0.0, 138.56128015770727, 250.76166088685727);stroke-width:2\" />  </svg></g><g transform=\"translate(-8,0)\">  <svg x=\"51.72522306656082%\" y=\"40\" height=\"18\" overflow=\"visible\" width=\"30\">    <path d=\"M 8 -9 l -6 18 L 8 25\" fill=\"none\" style=\"stroke:rgb(0.0, 138.56128015770727, 250.76166088685727);stroke-width:2\" />  </svg></g><g transform=\"translate(-10,0)\">  <svg x=\"51.72522306656082%\" y=\"40\" height=\"18\" overflow=\"visible\" width=\"30\">    <path d=\"M 8 -9 l -6 18 L 8 25\" fill=\"none\" style=\"stroke:rgb(0.0, 138.56128015770727, 250.76166088685727);stroke-width:2\" />  </svg></g><g transform=\"translate(-12,0)\">  <svg x=\"51.72522306656082%\" y=\"40\" height=\"18\" overflow=\"visible\" width=\"30\">    <path d=\"M 8 -9 l -6 18 L 8 25\" fill=\"none\" style=\"stroke:rgb(0.0, 138.56128015770727, 250.76166088685727);stroke-width:2\" />  </svg></g><g transform=\"translate(-14,0)\">  <svg x=\"51.72522306656082%\" y=\"40\" height=\"18\" overflow=\"visible\" width=\"30\">    <path d=\"M 8 -9 l -6 18 L 8 25\" fill=\"none\" style=\"stroke:rgb(0.0, 138.56128015770727, 250.76166088685727);stroke-width:2\" />  </svg></g><g transform=\"translate(2,0)\">  <svg x=\"51.72522306656082%\" y=\"40\" height=\"18\" overflow=\"visible\" width=\"30\">    <path d=\"M 8 -9 l -6 18 L 8 25\" fill=\"none\" style=\"stroke:rgb(0.0, 138.56128015770727, 250.76166088685727);stroke-width:2\" />  </svg></g><g transform=\"translate(0,0)\">  <svg x=\"51.72522306656082%\" y=\"40\" height=\"18\" overflow=\"visible\" width=\"30\">    <path d=\"M 8 -9 l -6 18 L 8 25\" fill=\"none\" style=\"stroke:rgb(0.0, 138.56128015770727, 250.76166088685727);stroke-width:2\" />  </svg></g><g transform=\"translate(-2,0)\">  <svg x=\"51.72522306656082%\" y=\"40\" height=\"18\" overflow=\"visible\" width=\"30\">    <path d=\"M 8 -9 l -6 18 L 8 25\" fill=\"none\" style=\"stroke:rgb(0.0, 138.56128015770727, 250.76166088685727);stroke-width:2\" />  </svg></g><g transform=\"translate(-4,0)\">  <svg x=\"51.72522306656082%\" y=\"40\" height=\"18\" overflow=\"visible\" width=\"30\">    <path d=\"M 8 -9 l -6 18 L 8 25\" fill=\"none\" style=\"stroke:rgb(0.0, 138.56128015770727, 250.76166088685727);stroke-width:2\" />  </svg></g><rect transform=\"translate(0,0)\" x=\"8.555378379326404%\" y=\"40\" width=\"8\" height=\"18\" style=\"fill:rgb(0.0, 138.56128015770727, 250.76166088685727)\"/><g transform=\"translate(-6.0,0)\">  <svg x=\"51.76087791584878%\" y=\"40\" height=\"18\" overflow=\"visible\" width=\"30\">    <path d=\"M 8 -9 l -6 18 L 8 25 L 20 25 L 20 -9\" fill=\"#ffffff\" style=\"stroke:rgb(255,255,255);stroke-width:2\" />  </svg></g><g transform=\"translate(-6.0,0)\">  <svg x=\"13.523932658577912%\" y=\"40\" height=\"18\" overflow=\"visible\" width=\"30\">    <path d=\"M 8 -9 l -6 18 L 8 25\" fill=\"none\" style=\"stroke:rgb(208, 230, 250);stroke-width:2\" />  </svg></g><rect x=\"8.555378379326404%\" y=\"40\" height=\"20\" width=\"4.968554279251508%\"      onmouseover=\"document.getElementById('_tp_plcvrzhpzhqngzpsiagy_ind_22').style.textDecoration = 'underline';document.getElementById('_fs_plcvrzhpzhqngzpsiagy_ind_22').style.opacity = 1;document.getElementById('_fb_plcvrzhpzhqngzpsiagy_ind_22').style.opacity = 1;\"      onmouseout=\"document.getElementById('_tp_plcvrzhpzhqngzpsiagy_ind_22').style.textDecoration = 'none';document.getElementById('_fs_plcvrzhpzhqngzpsiagy_ind_22').style.opacity = 0;document.getElementById('_fb_plcvrzhpzhqngzpsiagy_ind_22').style.opacity = 0;\" style=\"fill:rgb(0,0,0,0)\" /><g transform=\"translate(-6.0,0)\">  <svg x=\"17.778155214321032%\" y=\"40\" height=\"18\" overflow=\"visible\" width=\"30\">    <path d=\"M 8 -9 l -6 18 L 8 25\" fill=\"none\" style=\"stroke:rgb(208, 230, 250);stroke-width:2\" />  </svg></g><rect x=\"13.523932658577912%\" y=\"40\" height=\"20\" width=\"4.2542225557431195%\"      onmouseover=\"document.getElementById('_tp_plcvrzhpzhqngzpsiagy_ind_24').style.textDecoration = 'underline';document.getElementById('_fs_plcvrzhpzhqngzpsiagy_ind_24').style.opacity = 1;document.getElementById('_fb_plcvrzhpzhqngzpsiagy_ind_24').style.opacity = 1;\"      onmouseout=\"document.getElementById('_tp_plcvrzhpzhqngzpsiagy_ind_24').style.textDecoration = 'none';document.getElementById('_fs_plcvrzhpzhqngzpsiagy_ind_24').style.opacity = 0;document.getElementById('_fb_plcvrzhpzhqngzpsiagy_ind_24').style.opacity = 0;\" style=\"fill:rgb(0,0,0,0)\" /><g transform=\"translate(-6.0,0)\">  <svg x=\"21.628895862789474%\" y=\"40\" height=\"18\" overflow=\"visible\" width=\"30\">    <path d=\"M 8 -9 l -6 18 L 8 25\" fill=\"none\" style=\"stroke:rgb(208, 230, 250);stroke-width:2\" />  </svg></g><rect x=\"17.778155214321032%\" y=\"40\" height=\"20\" width=\"3.8507406484684417%\"      onmouseover=\"document.getElementById('_tp_plcvrzhpzhqngzpsiagy_ind_34').style.textDecoration = 'underline';document.getElementById('_fs_plcvrzhpzhqngzpsiagy_ind_34').style.opacity = 1;document.getElementById('_fb_plcvrzhpzhqngzpsiagy_ind_34').style.opacity = 1;\"      onmouseout=\"document.getElementById('_tp_plcvrzhpzhqngzpsiagy_ind_34').style.textDecoration = 'none';document.getElementById('_fs_plcvrzhpzhqngzpsiagy_ind_34').style.opacity = 0;document.getElementById('_fb_plcvrzhpzhqngzpsiagy_ind_34').style.opacity = 0;\" style=\"fill:rgb(0,0,0,0)\" /><g transform=\"translate(-6.0,0)\">  <svg x=\"25.070541833317936%\" y=\"40\" height=\"18\" overflow=\"visible\" width=\"30\">    <path d=\"M 8 -9 l -6 18 L 8 25\" fill=\"none\" style=\"stroke:rgb(208, 230, 250);stroke-width:2\" />  </svg></g><rect x=\"21.628895862789474%\" y=\"40\" height=\"20\" width=\"3.4416459705284623%\"      onmouseover=\"document.getElementById('_tp_plcvrzhpzhqngzpsiagy_ind_35').style.textDecoration = 'underline';document.getElementById('_fs_plcvrzhpzhqngzpsiagy_ind_35').style.opacity = 1;document.getElementById('_fb_plcvrzhpzhqngzpsiagy_ind_35').style.opacity = 1;\"      onmouseout=\"document.getElementById('_tp_plcvrzhpzhqngzpsiagy_ind_35').style.textDecoration = 'none';document.getElementById('_fs_plcvrzhpzhqngzpsiagy_ind_35').style.opacity = 0;document.getElementById('_fb_plcvrzhpzhqngzpsiagy_ind_35').style.opacity = 0;\" style=\"fill:rgb(0,0,0,0)\" /><g transform=\"translate(-6.0,0)\">  <svg x=\"27.9374505908235%\" y=\"40\" height=\"18\" overflow=\"visible\" width=\"30\">    <path d=\"M 8 -9 l -6 18 L 8 25\" fill=\"none\" style=\"stroke:rgb(208, 230, 250);stroke-width:2\" />  </svg></g><rect x=\"25.070541833317936%\" y=\"40\" height=\"20\" width=\"2.8669087575055627%\"      onmouseover=\"document.getElementById('_tp_plcvrzhpzhqngzpsiagy_ind_21').style.textDecoration = 'underline';document.getElementById('_fs_plcvrzhpzhqngzpsiagy_ind_21').style.opacity = 1;document.getElementById('_fb_plcvrzhpzhqngzpsiagy_ind_21').style.opacity = 1;\"      onmouseout=\"document.getElementById('_tp_plcvrzhpzhqngzpsiagy_ind_21').style.textDecoration = 'none';document.getElementById('_fs_plcvrzhpzhqngzpsiagy_ind_21').style.opacity = 0;document.getElementById('_fb_plcvrzhpzhqngzpsiagy_ind_21').style.opacity = 0;\" style=\"fill:rgb(0,0,0,0)\" /><g transform=\"translate(-6.0,0)\">  <svg x=\"29.95107843474135%\" y=\"40\" height=\"18\" overflow=\"visible\" width=\"30\">    <path d=\"M 8 -9 l -6 18 L 8 25\" fill=\"none\" style=\"stroke:rgb(208, 230, 250);stroke-width:2\" />  </svg></g><rect x=\"27.9374505908235%\" y=\"40\" height=\"20\" width=\"2.0136278439178525%\"      onmouseover=\"document.getElementById('_tp_plcvrzhpzhqngzpsiagy_ind_20').style.textDecoration = 'underline';document.getElementById('_fs_plcvrzhpzhqngzpsiagy_ind_20').style.opacity = 1;document.getElementById('_fb_plcvrzhpzhqngzpsiagy_ind_20').style.opacity = 1;\"      onmouseout=\"document.getElementById('_tp_plcvrzhpzhqngzpsiagy_ind_20').style.textDecoration = 'none';document.getElementById('_fs_plcvrzhpzhqngzpsiagy_ind_20').style.opacity = 0;document.getElementById('_fb_plcvrzhpzhqngzpsiagy_ind_20').style.opacity = 0;\" style=\"fill:rgb(0,0,0,0)\" /><g transform=\"translate(-6.0,0)\">  <svg x=\"31.523137141776534%\" y=\"40\" height=\"18\" overflow=\"visible\" width=\"30\">    <path d=\"M 8 -9 l -6 18 L 8 25\" fill=\"none\" style=\"stroke:rgb(208, 230, 250);stroke-width:2\" />  </svg></g><rect x=\"29.95107843474135%\" y=\"40\" height=\"20\" width=\"1.5720587070351826%\"      onmouseover=\"document.getElementById('_tp_plcvrzhpzhqngzpsiagy_ind_39').style.textDecoration = 'underline';document.getElementById('_fs_plcvrzhpzhqngzpsiagy_ind_39').style.opacity = 1;document.getElementById('_fb_plcvrzhpzhqngzpsiagy_ind_39').style.opacity = 1;\"      onmouseout=\"document.getElementById('_tp_plcvrzhpzhqngzpsiagy_ind_39').style.textDecoration = 'none';document.getElementById('_fs_plcvrzhpzhqngzpsiagy_ind_39').style.opacity = 0;document.getElementById('_fb_plcvrzhpzhqngzpsiagy_ind_39').style.opacity = 0;\" style=\"fill:rgb(0,0,0,0)\" /><g transform=\"translate(-6.0,0)\">  <svg x=\"33.003117700921884%\" y=\"40\" height=\"18\" overflow=\"visible\" width=\"30\">    <path d=\"M 8 -9 l -6 18 L 8 25\" fill=\"none\" style=\"stroke:rgb(208, 230, 250);stroke-width:2\" />  </svg></g><rect x=\"31.523137141776534%\" y=\"40\" height=\"20\" width=\"1.4799805591453499%\"      onmouseover=\"document.getElementById('_tp_plcvrzhpzhqngzpsiagy_ind_1').style.textDecoration = 'underline';document.getElementById('_fs_plcvrzhpzhqngzpsiagy_ind_1').style.opacity = 1;document.getElementById('_fb_plcvrzhpzhqngzpsiagy_ind_1').style.opacity = 1;\"      onmouseout=\"document.getElementById('_tp_plcvrzhpzhqngzpsiagy_ind_1').style.textDecoration = 'none';document.getElementById('_fs_plcvrzhpzhqngzpsiagy_ind_1').style.opacity = 0;document.getElementById('_fb_plcvrzhpzhqngzpsiagy_ind_1').style.opacity = 0;\" style=\"fill:rgb(0,0,0,0)\" /><g transform=\"translate(-6.0,0)\">  <svg x=\"34.371954357460936%\" y=\"40\" height=\"18\" overflow=\"visible\" width=\"30\">    <path d=\"M 8 -9 l -6 18 L 8 25\" fill=\"none\" style=\"stroke:rgb(208, 230, 250);stroke-width:2\" />  </svg></g><rect x=\"33.003117700921884%\" y=\"40\" height=\"20\" width=\"1.3688366565390524%\"      onmouseover=\"document.getElementById('_tp_plcvrzhpzhqngzpsiagy_ind_23').style.textDecoration = 'underline';document.getElementById('_fs_plcvrzhpzhqngzpsiagy_ind_23').style.opacity = 1;document.getElementById('_fb_plcvrzhpzhqngzpsiagy_ind_23').style.opacity = 1;\"      onmouseout=\"document.getElementById('_tp_plcvrzhpzhqngzpsiagy_ind_23').style.textDecoration = 'none';document.getElementById('_fs_plcvrzhpzhqngzpsiagy_ind_23').style.opacity = 0;document.getElementById('_fb_plcvrzhpzhqngzpsiagy_ind_23').style.opacity = 0;\" style=\"fill:rgb(0,0,0,0)\" /><g transform=\"translate(-6.0,0)\">  <svg x=\"35.65608261838401%\" y=\"40\" height=\"18\" overflow=\"visible\" width=\"30\">    <path d=\"M 8 -9 l -6 18 L 8 25\" fill=\"none\" style=\"stroke:rgb(208, 230, 250);stroke-width:2\" />  </svg></g><rect x=\"34.371954357460936%\" y=\"40\" height=\"20\" width=\"1.284128260923076%\"      onmouseover=\"document.getElementById('_tp_plcvrzhpzhqngzpsiagy_ind_37').style.textDecoration = 'underline';document.getElementById('_fs_plcvrzhpzhqngzpsiagy_ind_37').style.opacity = 1;document.getElementById('_fb_plcvrzhpzhqngzpsiagy_ind_37').style.opacity = 1;\"      onmouseout=\"document.getElementById('_tp_plcvrzhpzhqngzpsiagy_ind_37').style.textDecoration = 'none';document.getElementById('_fs_plcvrzhpzhqngzpsiagy_ind_37').style.opacity = 0;document.getElementById('_fb_plcvrzhpzhqngzpsiagy_ind_37').style.opacity = 0;\" style=\"fill:rgb(0,0,0,0)\" /><g transform=\"translate(-6.0,0)\">  <svg x=\"36.793811726494866%\" y=\"40\" height=\"18\" overflow=\"visible\" width=\"30\">    <path d=\"M 8 -9 l -6 18 L 8 25\" fill=\"none\" style=\"stroke:rgb(208, 230, 250);stroke-width:2\" />  </svg></g><rect x=\"35.65608261838401%\" y=\"40\" height=\"20\" width=\"1.1377291081108538%\"      onmouseover=\"document.getElementById('_tp_plcvrzhpzhqngzpsiagy_ind_0').style.textDecoration = 'underline';document.getElementById('_fs_plcvrzhpzhqngzpsiagy_ind_0').style.opacity = 1;document.getElementById('_fb_plcvrzhpzhqngzpsiagy_ind_0').style.opacity = 1;\"      onmouseout=\"document.getElementById('_tp_plcvrzhpzhqngzpsiagy_ind_0').style.textDecoration = 'none';document.getElementById('_fs_plcvrzhpzhqngzpsiagy_ind_0').style.opacity = 0;document.getElementById('_fb_plcvrzhpzhqngzpsiagy_ind_0').style.opacity = 0;\" style=\"fill:rgb(0,0,0,0)\" /><g transform=\"translate(-6.0,0)\">  <svg x=\"37.84324237576039%\" y=\"40\" height=\"18\" overflow=\"visible\" width=\"30\">    <path d=\"M 8 -9 l -6 18 L 8 25\" fill=\"none\" style=\"stroke:rgb(208, 230, 250);stroke-width:2\" />  </svg></g><rect x=\"36.793811726494866%\" y=\"40\" height=\"20\" width=\"1.049430649265524%\"      onmouseover=\"document.getElementById('_tp_plcvrzhpzhqngzpsiagy_ind_10').style.textDecoration = 'underline';document.getElementById('_fs_plcvrzhpzhqngzpsiagy_ind_10').style.opacity = 1;document.getElementById('_fb_plcvrzhpzhqngzpsiagy_ind_10').style.opacity = 1;\"      onmouseout=\"document.getElementById('_tp_plcvrzhpzhqngzpsiagy_ind_10').style.textDecoration = 'none';document.getElementById('_fs_plcvrzhpzhqngzpsiagy_ind_10').style.opacity = 0;document.getElementById('_fb_plcvrzhpzhqngzpsiagy_ind_10').style.opacity = 0;\" style=\"fill:rgb(0,0,0,0)\" /><g transform=\"translate(-6.0,0)\">  <svg x=\"38.89225687313029%\" y=\"40\" height=\"18\" overflow=\"visible\" width=\"30\">    <path d=\"M 8 -9 l -6 18 L 8 25\" fill=\"none\" style=\"stroke:rgb(208, 230, 250);stroke-width:2\" />  </svg></g><rect x=\"37.84324237576039%\" y=\"40\" height=\"20\" width=\"1.0490144973699032%\"      onmouseover=\"document.getElementById('_tp_plcvrzhpzhqngzpsiagy_ind_2').style.textDecoration = 'underline';document.getElementById('_fs_plcvrzhpzhqngzpsiagy_ind_2').style.opacity = 1;document.getElementById('_fb_plcvrzhpzhqngzpsiagy_ind_2').style.opacity = 1;\"      onmouseout=\"document.getElementById('_tp_plcvrzhpzhqngzpsiagy_ind_2').style.textDecoration = 'none';document.getElementById('_fs_plcvrzhpzhqngzpsiagy_ind_2').style.opacity = 0;document.getElementById('_fb_plcvrzhpzhqngzpsiagy_ind_2').style.opacity = 0;\" style=\"fill:rgb(0,0,0,0)\" /><g transform=\"translate(-6.0,0)\">  <svg x=\"39.9224536637293%\" y=\"40\" height=\"18\" overflow=\"visible\" width=\"30\">    <path d=\"M 8 -9 l -6 18 L 8 25\" fill=\"none\" style=\"stroke:rgb(208, 230, 250);stroke-width:2\" />  </svg></g><rect x=\"38.89225687313029%\" y=\"40\" height=\"20\" width=\"1.0301967905990068%\"      onmouseover=\"document.getElementById('_tp_plcvrzhpzhqngzpsiagy_ind_12').style.textDecoration = 'underline';document.getElementById('_fs_plcvrzhpzhqngzpsiagy_ind_12').style.opacity = 1;document.getElementById('_fb_plcvrzhpzhqngzpsiagy_ind_12').style.opacity = 1;\"      onmouseout=\"document.getElementById('_tp_plcvrzhpzhqngzpsiagy_ind_12').style.textDecoration = 'none';document.getElementById('_fs_plcvrzhpzhqngzpsiagy_ind_12').style.opacity = 0;document.getElementById('_fb_plcvrzhpzhqngzpsiagy_ind_12').style.opacity = 0;\" style=\"fill:rgb(0,0,0,0)\" /><g transform=\"translate(-6.0,0)\">  <svg x=\"40.914918556313694%\" y=\"40\" height=\"18\" overflow=\"visible\" width=\"30\">    <path d=\"M 8 -9 l -6 18 L 8 25\" fill=\"none\" style=\"stroke:rgb(208, 230, 250);stroke-width:2\" />  </svg></g><rect x=\"39.9224536637293%\" y=\"40\" height=\"20\" width=\"0.992464892584394%\"      onmouseover=\"document.getElementById('_tp_plcvrzhpzhqngzpsiagy_ind_6').style.textDecoration = 'underline';document.getElementById('_fs_plcvrzhpzhqngzpsiagy_ind_6').style.opacity = 1;document.getElementById('_fb_plcvrzhpzhqngzpsiagy_ind_6').style.opacity = 1;\"      onmouseout=\"document.getElementById('_tp_plcvrzhpzhqngzpsiagy_ind_6').style.textDecoration = 'none';document.getElementById('_fs_plcvrzhpzhqngzpsiagy_ind_6').style.opacity = 0;document.getElementById('_fb_plcvrzhpzhqngzpsiagy_ind_6').style.opacity = 0;\" style=\"fill:rgb(0,0,0,0)\" /><g transform=\"translate(-6.0,0)\">  <svg x=\"41.904107533842186%\" y=\"40\" height=\"18\" overflow=\"visible\" width=\"30\">    <path d=\"M 8 -9 l -6 18 L 8 25\" fill=\"none\" style=\"stroke:rgb(208, 230, 250);stroke-width:2\" />  </svg></g><rect x=\"40.914918556313694%\" y=\"40\" height=\"20\" width=\"0.9891889775284923%\"      onmouseover=\"document.getElementById('_tp_plcvrzhpzhqngzpsiagy_ind_13').style.textDecoration = 'underline';document.getElementById('_fs_plcvrzhpzhqngzpsiagy_ind_13').style.opacity = 1;document.getElementById('_fb_plcvrzhpzhqngzpsiagy_ind_13').style.opacity = 1;\"      onmouseout=\"document.getElementById('_tp_plcvrzhpzhqngzpsiagy_ind_13').style.textDecoration = 'none';document.getElementById('_fs_plcvrzhpzhqngzpsiagy_ind_13').style.opacity = 0;document.getElementById('_fb_plcvrzhpzhqngzpsiagy_ind_13').style.opacity = 0;\" style=\"fill:rgb(0,0,0,0)\" /><g transform=\"translate(-6.0,0)\">  <svg x=\"42.85327391761987%\" y=\"40\" height=\"18\" overflow=\"visible\" width=\"30\">    <path d=\"M 8 -9 l -6 18 L 8 25\" fill=\"none\" style=\"stroke:rgb(208, 230, 250);stroke-width:2\" />  </svg></g><rect x=\"41.904107533842186%\" y=\"40\" height=\"20\" width=\"0.9491663837776869%\"      onmouseover=\"document.getElementById('_tp_plcvrzhpzhqngzpsiagy_ind_38').style.textDecoration = 'underline';document.getElementById('_fs_plcvrzhpzhqngzpsiagy_ind_38').style.opacity = 1;document.getElementById('_fb_plcvrzhpzhqngzpsiagy_ind_38').style.opacity = 1;\"      onmouseout=\"document.getElementById('_tp_plcvrzhpzhqngzpsiagy_ind_38').style.textDecoration = 'none';document.getElementById('_fs_plcvrzhpzhqngzpsiagy_ind_38').style.opacity = 0;document.getElementById('_fb_plcvrzhpzhqngzpsiagy_ind_38').style.opacity = 0;\" style=\"fill:rgb(0,0,0,0)\" /><g transform=\"translate(-6.0,0)\">  <svg x=\"43.745582006006615%\" y=\"40\" height=\"18\" overflow=\"visible\" width=\"30\">    <path d=\"M 8 -9 l -6 18 L 8 25\" fill=\"none\" style=\"stroke:rgb(208, 230, 250);stroke-width:2\" />  </svg></g><rect x=\"42.85327391761987%\" y=\"40\" height=\"20\" width=\"0.8923080883867414%\"      onmouseover=\"document.getElementById('_tp_plcvrzhpzhqngzpsiagy_ind_11').style.textDecoration = 'underline';document.getElementById('_fs_plcvrzhpzhqngzpsiagy_ind_11').style.opacity = 1;document.getElementById('_fb_plcvrzhpzhqngzpsiagy_ind_11').style.opacity = 1;\"      onmouseout=\"document.getElementById('_tp_plcvrzhpzhqngzpsiagy_ind_11').style.textDecoration = 'none';document.getElementById('_fs_plcvrzhpzhqngzpsiagy_ind_11').style.opacity = 0;document.getElementById('_fb_plcvrzhpzhqngzpsiagy_ind_11').style.opacity = 0;\" style=\"fill:rgb(0,0,0,0)\" /><g transform=\"translate(-6.0,0)\">  <svg x=\"44.59343552119661%\" y=\"40\" height=\"18\" overflow=\"visible\" width=\"30\">    <path d=\"M 8 -9 l -6 18 L 8 25\" fill=\"none\" style=\"stroke:rgb(208, 230, 250);stroke-width:2\" />  </svg></g><rect x=\"43.745582006006615%\" y=\"40\" height=\"20\" width=\"0.8478535151899962%\"      onmouseover=\"document.getElementById('_tp_plcvrzhpzhqngzpsiagy_ind_3').style.textDecoration = 'underline';document.getElementById('_fs_plcvrzhpzhqngzpsiagy_ind_3').style.opacity = 1;document.getElementById('_fb_plcvrzhpzhqngzpsiagy_ind_3').style.opacity = 1;\"      onmouseout=\"document.getElementById('_tp_plcvrzhpzhqngzpsiagy_ind_3').style.textDecoration = 'none';document.getElementById('_fs_plcvrzhpzhqngzpsiagy_ind_3').style.opacity = 0;document.getElementById('_fb_plcvrzhpzhqngzpsiagy_ind_3').style.opacity = 0;\" style=\"fill:rgb(0,0,0,0)\" /><g transform=\"translate(-6.0,0)\">  <svg x=\"45.43968968029627%\" y=\"40\" height=\"18\" overflow=\"visible\" width=\"30\">    <path d=\"M 8 -9 l -6 18 L 8 25\" fill=\"none\" style=\"stroke:rgb(208, 230, 250);stroke-width:2\" />  </svg></g><rect x=\"44.59343552119661%\" y=\"40\" height=\"20\" width=\"0.846254159099658%\"      onmouseover=\"document.getElementById('_tp_plcvrzhpzhqngzpsiagy_ind_17').style.textDecoration = 'underline';document.getElementById('_fs_plcvrzhpzhqngzpsiagy_ind_17').style.opacity = 1;document.getElementById('_fb_plcvrzhpzhqngzpsiagy_ind_17').style.opacity = 1;\"      onmouseout=\"document.getElementById('_tp_plcvrzhpzhqngzpsiagy_ind_17').style.textDecoration = 'none';document.getElementById('_fs_plcvrzhpzhqngzpsiagy_ind_17').style.opacity = 0;document.getElementById('_fb_plcvrzhpzhqngzpsiagy_ind_17').style.opacity = 0;\" style=\"fill:rgb(0,0,0,0)\" /><g transform=\"translate(-6.0,0)\">  <svg x=\"46.14130968430365%\" y=\"40\" height=\"18\" overflow=\"visible\" width=\"30\">    <path d=\"M 8 -9 l -6 18 L 8 25\" fill=\"none\" style=\"stroke:rgb(208, 230, 250);stroke-width:2\" />  </svg></g><rect x=\"45.43968968029627%\" y=\"40\" height=\"20\" width=\"0.7016200040073812%\"      onmouseover=\"document.getElementById('_tp_plcvrzhpzhqngzpsiagy_ind_15').style.textDecoration = 'underline';document.getElementById('_fs_plcvrzhpzhqngzpsiagy_ind_15').style.opacity = 1;document.getElementById('_fb_plcvrzhpzhqngzpsiagy_ind_15').style.opacity = 1;\"      onmouseout=\"document.getElementById('_tp_plcvrzhpzhqngzpsiagy_ind_15').style.textDecoration = 'none';document.getElementById('_fs_plcvrzhpzhqngzpsiagy_ind_15').style.opacity = 0;document.getElementById('_fb_plcvrzhpzhqngzpsiagy_ind_15').style.opacity = 0;\" style=\"fill:rgb(0,0,0,0)\" /><g transform=\"translate(-6.0,0)\">  <svg x=\"46.787074667611655%\" y=\"40\" height=\"18\" overflow=\"visible\" width=\"30\">    <path d=\"M 8 -9 l -6 18 L 8 25\" fill=\"none\" style=\"stroke:rgb(208, 230, 250);stroke-width:2\" />  </svg></g><rect x=\"46.14130968430365%\" y=\"40\" height=\"20\" width=\"0.6457649833080055%\"      onmouseover=\"document.getElementById('_tp_plcvrzhpzhqngzpsiagy_ind_16').style.textDecoration = 'underline';document.getElementById('_fs_plcvrzhpzhqngzpsiagy_ind_16').style.opacity = 1;document.getElementById('_fb_plcvrzhpzhqngzpsiagy_ind_16').style.opacity = 1;\"      onmouseout=\"document.getElementById('_tp_plcvrzhpzhqngzpsiagy_ind_16').style.textDecoration = 'none';document.getElementById('_fs_plcvrzhpzhqngzpsiagy_ind_16').style.opacity = 0;document.getElementById('_fb_plcvrzhpzhqngzpsiagy_ind_16').style.opacity = 0;\" style=\"fill:rgb(0,0,0,0)\" /><g transform=\"translate(-6.0,0)\">  <svg x=\"47.418055205322716%\" y=\"40\" height=\"18\" overflow=\"visible\" width=\"30\">    <path d=\"M 8 -9 l -6 18 L 8 25\" fill=\"none\" style=\"stroke:rgb(208, 230, 250);stroke-width:2\" />  </svg></g><rect x=\"46.787074667611655%\" y=\"40\" height=\"20\" width=\"0.6309805377110607%\"      onmouseover=\"document.getElementById('_tp_plcvrzhpzhqngzpsiagy_ind_5').style.textDecoration = 'underline';document.getElementById('_fs_plcvrzhpzhqngzpsiagy_ind_5').style.opacity = 1;document.getElementById('_fb_plcvrzhpzhqngzpsiagy_ind_5').style.opacity = 1;\"      onmouseout=\"document.getElementById('_tp_plcvrzhpzhqngzpsiagy_ind_5').style.textDecoration = 'none';document.getElementById('_fs_plcvrzhpzhqngzpsiagy_ind_5').style.opacity = 0;document.getElementById('_fb_plcvrzhpzhqngzpsiagy_ind_5').style.opacity = 0;\" style=\"fill:rgb(0,0,0,0)\" /><g transform=\"translate(-6.0,0)\">  <svg x=\"48.022035343214775%\" y=\"40\" height=\"18\" overflow=\"visible\" width=\"30\">    <path d=\"M 8 -9 l -6 18 L 8 25\" fill=\"none\" style=\"stroke:rgb(208, 230, 250);stroke-width:2\" />  </svg></g><rect x=\"47.418055205322716%\" y=\"40\" height=\"20\" width=\"0.6039801378920586%\"      onmouseover=\"document.getElementById('_tp_plcvrzhpzhqngzpsiagy_ind_33').style.textDecoration = 'underline';document.getElementById('_fs_plcvrzhpzhqngzpsiagy_ind_33').style.opacity = 1;document.getElementById('_fb_plcvrzhpzhqngzpsiagy_ind_33').style.opacity = 1;\"      onmouseout=\"document.getElementById('_tp_plcvrzhpzhqngzpsiagy_ind_33').style.textDecoration = 'none';document.getElementById('_fs_plcvrzhpzhqngzpsiagy_ind_33').style.opacity = 0;document.getElementById('_fb_plcvrzhpzhqngzpsiagy_ind_33').style.opacity = 0;\" style=\"fill:rgb(0,0,0,0)\" /><g transform=\"translate(-6.0,0)\">  <svg x=\"48.542381962388895%\" y=\"40\" height=\"18\" overflow=\"visible\" width=\"30\">    <path d=\"M 8 -9 l -6 18 L 8 25\" fill=\"none\" style=\"stroke:rgb(208, 230, 250);stroke-width:2\" />  </svg></g><rect x=\"48.022035343214775%\" y=\"40\" height=\"20\" width=\"0.52034661917412%\"      onmouseover=\"document.getElementById('_tp_plcvrzhpzhqngzpsiagy_ind_36').style.textDecoration = 'underline';document.getElementById('_fs_plcvrzhpzhqngzpsiagy_ind_36').style.opacity = 1;document.getElementById('_fb_plcvrzhpzhqngzpsiagy_ind_36').style.opacity = 1;\"      onmouseout=\"document.getElementById('_tp_plcvrzhpzhqngzpsiagy_ind_36').style.textDecoration = 'none';document.getElementById('_fs_plcvrzhpzhqngzpsiagy_ind_36').style.opacity = 0;document.getElementById('_fb_plcvrzhpzhqngzpsiagy_ind_36').style.opacity = 0;\" style=\"fill:rgb(0,0,0,0)\" /><g transform=\"translate(-6.0,0)\">  <svg x=\"49.0533721191032%\" y=\"40\" height=\"18\" overflow=\"visible\" width=\"30\">    <path d=\"M 8 -9 l -6 18 L 8 25\" fill=\"none\" style=\"stroke:rgb(208, 230, 250);stroke-width:2\" />  </svg></g><rect x=\"48.542381962388895%\" y=\"40\" height=\"20\" width=\"0.5109901567143069%\"      onmouseover=\"document.getElementById('_tp_plcvrzhpzhqngzpsiagy_ind_31').style.textDecoration = 'underline';document.getElementById('_fs_plcvrzhpzhqngzpsiagy_ind_31').style.opacity = 1;document.getElementById('_fb_plcvrzhpzhqngzpsiagy_ind_31').style.opacity = 1;\"      onmouseout=\"document.getElementById('_tp_plcvrzhpzhqngzpsiagy_ind_31').style.textDecoration = 'none';document.getElementById('_fs_plcvrzhpzhqngzpsiagy_ind_31').style.opacity = 0;document.getElementById('_fb_plcvrzhpzhqngzpsiagy_ind_31').style.opacity = 0;\" style=\"fill:rgb(0,0,0,0)\" /><g transform=\"translate(-6.0,0)\">  <svg x=\"49.540379333760136%\" y=\"40\" height=\"18\" overflow=\"visible\" width=\"30\">    <path d=\"M 8 -9 l -6 18 L 8 25\" fill=\"none\" style=\"stroke:rgb(208, 230, 250);stroke-width:2\" />  </svg></g><rect x=\"49.0533721191032%\" y=\"40\" height=\"20\" width=\"0.4870072146569342%\"      onmouseover=\"document.getElementById('_tp_plcvrzhpzhqngzpsiagy_ind_43').style.textDecoration = 'underline';document.getElementById('_fs_plcvrzhpzhqngzpsiagy_ind_43').style.opacity = 1;document.getElementById('_fb_plcvrzhpzhqngzpsiagy_ind_43').style.opacity = 1;\"      onmouseout=\"document.getElementById('_tp_plcvrzhpzhqngzpsiagy_ind_43').style.textDecoration = 'none';document.getElementById('_fs_plcvrzhpzhqngzpsiagy_ind_43').style.opacity = 0;document.getElementById('_fb_plcvrzhpzhqngzpsiagy_ind_43').style.opacity = 0;\" style=\"fill:rgb(0,0,0,0)\" /><g transform=\"translate(-6.0,0)\">  <svg x=\"49.983010140325%\" y=\"40\" height=\"18\" overflow=\"visible\" width=\"30\">    <path d=\"M 8 -9 l -6 18 L 8 25\" fill=\"none\" style=\"stroke:rgb(208, 230, 250);stroke-width:2\" />  </svg></g><rect x=\"49.540379333760136%\" y=\"40\" height=\"20\" width=\"0.4426308065648641%\"      onmouseover=\"document.getElementById('_tp_plcvrzhpzhqngzpsiagy_ind_8').style.textDecoration = 'underline';document.getElementById('_fs_plcvrzhpzhqngzpsiagy_ind_8').style.opacity = 1;document.getElementById('_fb_plcvrzhpzhqngzpsiagy_ind_8').style.opacity = 1;\"      onmouseout=\"document.getElementById('_tp_plcvrzhpzhqngzpsiagy_ind_8').style.textDecoration = 'none';document.getElementById('_fs_plcvrzhpzhqngzpsiagy_ind_8').style.opacity = 0;document.getElementById('_fb_plcvrzhpzhqngzpsiagy_ind_8').style.opacity = 0;\" style=\"fill:rgb(0,0,0,0)\" /><g transform=\"translate(-6.0,0)\">  <svg x=\"50.41663503941781%\" y=\"40\" height=\"18\" overflow=\"visible\" width=\"30\">    <path d=\"M 8 -9 l -6 18 L 8 25\" fill=\"none\" style=\"stroke:rgb(208, 230, 250);stroke-width:2\" />  </svg></g><rect x=\"49.983010140325%\" y=\"40\" height=\"20\" width=\"0.43362489909281265%\"      onmouseover=\"document.getElementById('_tp_plcvrzhpzhqngzpsiagy_ind_14').style.textDecoration = 'underline';document.getElementById('_fs_plcvrzhpzhqngzpsiagy_ind_14').style.opacity = 1;document.getElementById('_fb_plcvrzhpzhqngzpsiagy_ind_14').style.opacity = 1;\"      onmouseout=\"document.getElementById('_tp_plcvrzhpzhqngzpsiagy_ind_14').style.textDecoration = 'none';document.getElementById('_fs_plcvrzhpzhqngzpsiagy_ind_14').style.opacity = 0;document.getElementById('_fb_plcvrzhpzhqngzpsiagy_ind_14').style.opacity = 0;\" style=\"fill:rgb(0,0,0,0)\" /><g transform=\"translate(-6.0,0)\">  <svg x=\"50.79281141651697%\" y=\"40\" height=\"18\" overflow=\"visible\" width=\"30\">    <path d=\"M 8 -9 l -6 18 L 8 25\" fill=\"none\" style=\"stroke:rgb(208, 230, 250);stroke-width:2\" />  </svg></g><rect x=\"50.41663503941781%\" y=\"40\" height=\"20\" width=\"0.3761763770991564%\"      onmouseover=\"document.getElementById('_tp_plcvrzhpzhqngzpsiagy_ind_9').style.textDecoration = 'underline';document.getElementById('_fs_plcvrzhpzhqngzpsiagy_ind_9').style.opacity = 1;document.getElementById('_fb_plcvrzhpzhqngzpsiagy_ind_9').style.opacity = 1;\"      onmouseout=\"document.getElementById('_tp_plcvrzhpzhqngzpsiagy_ind_9').style.textDecoration = 'none';document.getElementById('_fs_plcvrzhpzhqngzpsiagy_ind_9').style.opacity = 0;document.getElementById('_fb_plcvrzhpzhqngzpsiagy_ind_9').style.opacity = 0;\" style=\"fill:rgb(0,0,0,0)\" /><g transform=\"translate(-6.0,0)\">  <svg x=\"51.10586185394245%\" y=\"40\" height=\"18\" overflow=\"visible\" width=\"30\">    <path d=\"M 8 -9 l -6 18 L 8 25\" fill=\"none\" style=\"stroke:rgb(208, 230, 250);stroke-width:2\" />  </svg></g><rect x=\"50.79281141651697%\" y=\"40\" height=\"20\" width=\"0.3130504374254812%\"      onmouseover=\"document.getElementById('_tp_plcvrzhpzhqngzpsiagy_ind_4').style.textDecoration = 'underline';document.getElementById('_fs_plcvrzhpzhqngzpsiagy_ind_4').style.opacity = 1;document.getElementById('_fb_plcvrzhpzhqngzpsiagy_ind_4').style.opacity = 1;\"      onmouseout=\"document.getElementById('_tp_plcvrzhpzhqngzpsiagy_ind_4').style.textDecoration = 'none';document.getElementById('_fs_plcvrzhpzhqngzpsiagy_ind_4').style.opacity = 0;document.getElementById('_fb_plcvrzhpzhqngzpsiagy_ind_4').style.opacity = 0;\" style=\"fill:rgb(0,0,0,0)\" /><g transform=\"translate(-6.0,0)\">  <svg x=\"51.36040597328239%\" y=\"40\" height=\"18\" overflow=\"visible\" width=\"30\">    <path d=\"M 8 -9 l -6 18 L 8 25\" fill=\"none\" style=\"stroke:rgb(208, 230, 250);stroke-width:2\" />  </svg></g><rect x=\"51.10586185394245%\" y=\"40\" height=\"20\" width=\"0.2545441193399398%\"      onmouseover=\"document.getElementById('_tp_plcvrzhpzhqngzpsiagy_ind_32').style.textDecoration = 'underline';document.getElementById('_fs_plcvrzhpzhqngzpsiagy_ind_32').style.opacity = 1;document.getElementById('_fb_plcvrzhpzhqngzpsiagy_ind_32').style.opacity = 1;\"      onmouseout=\"document.getElementById('_tp_plcvrzhpzhqngzpsiagy_ind_32').style.textDecoration = 'none';document.getElementById('_fs_plcvrzhpzhqngzpsiagy_ind_32').style.opacity = 0;document.getElementById('_fb_plcvrzhpzhqngzpsiagy_ind_32').style.opacity = 0;\" style=\"fill:rgb(0,0,0,0)\" /><g transform=\"translate(-6.0,0)\">  <svg x=\"51.57696872552328%\" y=\"40\" height=\"18\" overflow=\"visible\" width=\"30\">    <path d=\"M 8 -9 l -6 18 L 8 25\" fill=\"none\" style=\"stroke:rgb(208, 230, 250);stroke-width:2\" />  </svg></g><rect x=\"51.36040597328239%\" y=\"40\" height=\"20\" width=\"0.21656275224088972%\"      onmouseover=\"document.getElementById('_tp_plcvrzhpzhqngzpsiagy_ind_44').style.textDecoration = 'underline';document.getElementById('_fs_plcvrzhpzhqngzpsiagy_ind_44').style.opacity = 1;document.getElementById('_fb_plcvrzhpzhqngzpsiagy_ind_44').style.opacity = 1;\"      onmouseout=\"document.getElementById('_tp_plcvrzhpzhqngzpsiagy_ind_44').style.textDecoration = 'none';document.getElementById('_fs_plcvrzhpzhqngzpsiagy_ind_44').style.opacity = 0;document.getElementById('_fb_plcvrzhpzhqngzpsiagy_ind_44').style.opacity = 0;\" style=\"fill:rgb(0,0,0,0)\" /><g transform=\"translate(-6.0,0)\">  <svg x=\"51.66585006101877%\" y=\"40\" height=\"18\" overflow=\"visible\" width=\"30\">    <path d=\"M 8 -9 l -6 18 L 8 25\" fill=\"none\" style=\"stroke:rgb(208, 230, 250);stroke-width:2\" />  </svg></g><rect x=\"51.57696872552328%\" y=\"40\" height=\"20\" width=\"0.08888133549549337%\"      onmouseover=\"document.getElementById('_tp_plcvrzhpzhqngzpsiagy_ind_18').style.textDecoration = 'underline';document.getElementById('_fs_plcvrzhpzhqngzpsiagy_ind_18').style.opacity = 1;document.getElementById('_fb_plcvrzhpzhqngzpsiagy_ind_18').style.opacity = 1;\"      onmouseout=\"document.getElementById('_tp_plcvrzhpzhqngzpsiagy_ind_18').style.textDecoration = 'none';document.getElementById('_fs_plcvrzhpzhqngzpsiagy_ind_18').style.opacity = 0;document.getElementById('_fb_plcvrzhpzhqngzpsiagy_ind_18').style.opacity = 0;\" style=\"fill:rgb(0,0,0,0)\" /><g transform=\"translate(-6.0,0)\">  <svg x=\"51.72522306656082%\" y=\"40\" height=\"18\" overflow=\"visible\" width=\"30\">    <path d=\"M 8 -9 l -6 18 L 8 25\" fill=\"none\" style=\"stroke:rgb(208, 230, 250);stroke-width:2\" />  </svg></g><rect x=\"51.66585006101877%\" y=\"40\" height=\"20\" width=\"0.059373005542049384%\"      onmouseover=\"document.getElementById('_tp_plcvrzhpzhqngzpsiagy_ind_29').style.textDecoration = 'underline';document.getElementById('_fs_plcvrzhpzhqngzpsiagy_ind_29').style.opacity = 1;document.getElementById('_fb_plcvrzhpzhqngzpsiagy_ind_29').style.opacity = 1;\"      onmouseout=\"document.getElementById('_tp_plcvrzhpzhqngzpsiagy_ind_29').style.textDecoration = 'none';document.getElementById('_fs_plcvrzhpzhqngzpsiagy_ind_29').style.opacity = 0;document.getElementById('_fb_plcvrzhpzhqngzpsiagy_ind_29').style.opacity = 0;\" style=\"fill:rgb(0,0,0,0)\" /><rect x=\"51.72522306656082%\" y=\"40\" height=\"20\" width=\"0.03565484928795826%\"      onmouseover=\"document.getElementById('_tp_plcvrzhpzhqngzpsiagy_ind_7').style.textDecoration = 'underline';document.getElementById('_fs_plcvrzhpzhqngzpsiagy_ind_7').style.opacity = 1;document.getElementById('_fb_plcvrzhpzhqngzpsiagy_ind_7').style.opacity = 1;\"      onmouseout=\"document.getElementById('_tp_plcvrzhpzhqngzpsiagy_ind_7').style.textDecoration = 'none';document.getElementById('_fs_plcvrzhpzhqngzpsiagy_ind_7').style.opacity = 0;document.getElementById('_fb_plcvrzhpzhqngzpsiagy_ind_7').style.opacity = 0;\" style=\"fill:rgb(0,0,0,0)\" /></svg><div align='center'><div style=\"color: rgb(120,120,120); font-size: 12px; margin-top: -15px;\">inputs</div><div style='display: inline; text-align: center;'\n",
              "    ><div style='display: none; color: #999; padding-top: 0px; font-size: 12px;'>-0.013 / 2</div\n",
              "        ><div id='_tp_plcvrzhpzhqngzpsiagy_ind_0'\n",
              "            style='display: inline; background: rgba(30.0, 136.0, 229.0, 0.1565458506634977); border-radius: 3px; padding: 0px'\n",
              "            onclick=\"\n",
              "            if (this.previousSibling.style.display == 'none') {\n",
              "                this.previousSibling.style.display = 'block';\n",
              "                this.parentNode.style.display = 'inline-block';\n",
              "            } else {\n",
              "                this.previousSibling.style.display = 'none';\n",
              "                this.parentNode.style.display = 'inline';\n",
              "            }\"\n",
              "            onmouseover=\"document.getElementById('_fb_plcvrzhpzhqngzpsiagy_ind_0').style.opacity = 1; document.getElementById('_fs_plcvrzhpzhqngzpsiagy_ind_0').style.opacity = 1;\"\n",
              "            onmouseout=\"document.getElementById('_fb_plcvrzhpzhqngzpsiagy_ind_0').style.opacity = 0; document.getElementById('_fs_plcvrzhpzhqngzpsiagy_ind_0').style.opacity = 0;\"\n",
              "        >Worth </div></div><div style='display: inline; text-align: center;'\n",
              "    ><div style='display: none; color: #999; padding-top: 0px; font-size: 12px;'>-0.017 / 2</div\n",
              "        ><div id='_tp_plcvrzhpzhqngzpsiagy_ind_1'\n",
              "            style='display: inline; background: rgba(30.0, 136.0, 229.0, 0.21172509407803525); border-radius: 3px; padding: 0px'\n",
              "            onclick=\"\n",
              "            if (this.previousSibling.style.display == 'none') {\n",
              "                this.previousSibling.style.display = 'block';\n",
              "                this.parentNode.style.display = 'inline-block';\n",
              "            } else {\n",
              "                this.previousSibling.style.display = 'none';\n",
              "                this.parentNode.style.display = 'inline';\n",
              "            }\"\n",
              "            onmouseover=\"document.getElementById('_fb_plcvrzhpzhqngzpsiagy_ind_1').style.opacity = 1; document.getElementById('_fs_plcvrzhpzhqngzpsiagy_ind_1').style.opacity = 1;\"\n",
              "            onmouseout=\"document.getElementById('_fb_plcvrzhpzhqngzpsiagy_ind_1').style.opacity = 0; document.getElementById('_fs_plcvrzhpzhqngzpsiagy_ind_1').style.opacity = 0;\"\n",
              "        >the entertainment </div></div><div style='display: inline; text-align: center;'\n",
              "    ><div style='display: none; color: #999; padding-top: 0px; font-size: 12px;'>-0.012 / 2</div\n",
              "        ><div id='_tp_plcvrzhpzhqngzpsiagy_ind_2'\n",
              "            style='display: inline; background: rgba(30.0, 136.0, 229.0, 0.14866310160427798); border-radius: 3px; padding: 0px'\n",
              "            onclick=\"\n",
              "            if (this.previousSibling.style.display == 'none') {\n",
              "                this.previousSibling.style.display = 'block';\n",
              "                this.parentNode.style.display = 'inline-block';\n",
              "            } else {\n",
              "                this.previousSibling.style.display = 'none';\n",
              "                this.parentNode.style.display = 'inline';\n",
              "            }\"\n",
              "            onmouseover=\"document.getElementById('_fb_plcvrzhpzhqngzpsiagy_ind_2').style.opacity = 1; document.getElementById('_fs_plcvrzhpzhqngzpsiagy_ind_2').style.opacity = 1;\"\n",
              "            onmouseout=\"document.getElementById('_fb_plcvrzhpzhqngzpsiagy_ind_2').style.opacity = 0; document.getElementById('_fs_plcvrzhpzhqngzpsiagy_ind_2').style.opacity = 0;\"\n",
              "        >value of </div></div><div style='display: inline; text-align: center;'\n",
              "    ><div style='display: none; color: #999; padding-top: 0px; font-size: 12px;'>-0.01 / 2</div\n",
              "        ><div id='_tp_plcvrzhpzhqngzpsiagy_ind_3'\n",
              "            style='display: inline; background: rgba(30.0, 136.0, 229.0, 0.11713210536739943); border-radius: 3px; padding: 0px'\n",
              "            onclick=\"\n",
              "            if (this.previousSibling.style.display == 'none') {\n",
              "                this.previousSibling.style.display = 'block';\n",
              "                this.parentNode.style.display = 'inline-block';\n",
              "            } else {\n",
              "                this.previousSibling.style.display = 'none';\n",
              "                this.parentNode.style.display = 'inline';\n",
              "            }\"\n",
              "            onmouseover=\"document.getElementById('_fb_plcvrzhpzhqngzpsiagy_ind_3').style.opacity = 1; document.getElementById('_fs_plcvrzhpzhqngzpsiagy_ind_3').style.opacity = 1;\"\n",
              "            onmouseout=\"document.getElementById('_fb_plcvrzhpzhqngzpsiagy_ind_3').style.opacity = 0; document.getElementById('_fs_plcvrzhpzhqngzpsiagy_ind_3').style.opacity = 0;\"\n",
              "        >a rental</div></div><div style='display: inline; text-align: center;'\n",
              "    ><div style='display: none; color: #999; padding-top: 0px; font-size: 12px;'>-0.004</div\n",
              "        ><div id='_tp_plcvrzhpzhqngzpsiagy_ind_4'\n",
              "            style='display: inline; background: rgba(30.0, 136.0, 229.0, 0.03830461477520309); border-radius: 3px; padding: 0px'\n",
              "            onclick=\"\n",
              "            if (this.previousSibling.style.display == 'none') {\n",
              "                this.previousSibling.style.display = 'block';\n",
              "                this.parentNode.style.display = 'inline-block';\n",
              "            } else {\n",
              "                this.previousSibling.style.display = 'none';\n",
              "                this.parentNode.style.display = 'inline';\n",
              "            }\"\n",
              "            onmouseover=\"document.getElementById('_fb_plcvrzhpzhqngzpsiagy_ind_4').style.opacity = 1; document.getElementById('_fs_plcvrzhpzhqngzpsiagy_ind_4').style.opacity = 1;\"\n",
              "            onmouseout=\"document.getElementById('_fb_plcvrzhpzhqngzpsiagy_ind_4').style.opacity = 0; document.getElementById('_fs_plcvrzhpzhqngzpsiagy_ind_4').style.opacity = 0;\"\n",
              "        >, </div></div><div style='display: inline; text-align: center;'\n",
              "    ><div style='display: none; color: #999; padding-top: 0px; font-size: 12px;'>-0.007 / 2</div\n",
              "        ><div id='_tp_plcvrzhpzhqngzpsiagy_ind_5'\n",
              "            style='display: inline; background: rgba(30.0, 136.0, 229.0, 0.08560110913052085); border-radius: 3px; padding: 0px'\n",
              "            onclick=\"\n",
              "            if (this.previousSibling.style.display == 'none') {\n",
              "                this.previousSibling.style.display = 'block';\n",
              "                this.parentNode.style.display = 'inline-block';\n",
              "            } else {\n",
              "                this.previousSibling.style.display = 'none';\n",
              "                this.parentNode.style.display = 'inline';\n",
              "            }\"\n",
              "            onmouseover=\"document.getElementById('_fb_plcvrzhpzhqngzpsiagy_ind_5').style.opacity = 1; document.getElementById('_fs_plcvrzhpzhqngzpsiagy_ind_5').style.opacity = 1;\"\n",
              "            onmouseout=\"document.getElementById('_fb_plcvrzhpzhqngzpsiagy_ind_5').style.opacity = 0; document.getElementById('_fs_plcvrzhpzhqngzpsiagy_ind_5').style.opacity = 0;\"\n",
              "        >especially if </div></div><div style='display: inline; text-align: center;'\n",
              "    ><div style='display: none; color: #999; padding-top: 0px; font-size: 12px;'>-0.012 / 2</div\n",
              "        ><div id='_tp_plcvrzhpzhqngzpsiagy_ind_6'\n",
              "            style='display: inline; background: rgba(30.0, 136.0, 229.0, 0.14078035254505836); border-radius: 3px; padding: 0px'\n",
              "            onclick=\"\n",
              "            if (this.previousSibling.style.display == 'none') {\n",
              "                this.previousSibling.style.display = 'block';\n",
              "                this.parentNode.style.display = 'inline-block';\n",
              "            } else {\n",
              "                this.previousSibling.style.display = 'none';\n",
              "                this.parentNode.style.display = 'inline';\n",
              "            }\"\n",
              "            onmouseover=\"document.getElementById('_fb_plcvrzhpzhqngzpsiagy_ind_6').style.opacity = 1; document.getElementById('_fs_plcvrzhpzhqngzpsiagy_ind_6').style.opacity = 1;\"\n",
              "            onmouseout=\"document.getElementById('_fb_plcvrzhpzhqngzpsiagy_ind_6').style.opacity = 0; document.getElementById('_fs_plcvrzhpzhqngzpsiagy_ind_6').style.opacity = 0;\"\n",
              "        >you like </div></div><div style='display: inline; text-align: center;'\n",
              "    ><div style='display: none; color: #999; padding-top: 0px; font-size: 12px;'>-0.0 / 2</div\n",
              "        ><div id='_tp_plcvrzhpzhqngzpsiagy_ind_7'\n",
              "            style='display: inline; background: rgba(54.70588235294111, 122.49411764705886, 213.40784313725496, 0.0); border-radius: 3px; padding: 0px'\n",
              "            onclick=\"\n",
              "            if (this.previousSibling.style.display == 'none') {\n",
              "                this.previousSibling.style.display = 'block';\n",
              "                this.parentNode.style.display = 'inline-block';\n",
              "            } else {\n",
              "                this.previousSibling.style.display = 'none';\n",
              "                this.parentNode.style.display = 'inline';\n",
              "            }\"\n",
              "            onmouseover=\"document.getElementById('_fb_plcvrzhpzhqngzpsiagy_ind_7').style.opacity = 1; document.getElementById('_fs_plcvrzhpzhqngzpsiagy_ind_7').style.opacity = 1;\"\n",
              "            onmouseout=\"document.getElementById('_fb_plcvrzhpzhqngzpsiagy_ind_7').style.opacity = 0; document.getElementById('_fs_plcvrzhpzhqngzpsiagy_ind_7').style.opacity = 0;\"\n",
              "        >action movies</div></div><div style='display: inline; text-align: center;'\n",
              "    ><div style='display: none; color: #999; padding-top: 0px; font-size: 12px;'>-0.005</div\n",
              "        ><div id='_tp_plcvrzhpzhqngzpsiagy_ind_8'\n",
              "            style='display: inline; background: rgba(30.0, 136.0, 229.0, 0.06195286195286191); border-radius: 3px; padding: 0px'\n",
              "            onclick=\"\n",
              "            if (this.previousSibling.style.display == 'none') {\n",
              "                this.previousSibling.style.display = 'block';\n",
              "                this.parentNode.style.display = 'inline-block';\n",
              "            } else {\n",
              "                this.previousSibling.style.display = 'none';\n",
              "                this.parentNode.style.display = 'inline';\n",
              "            }\"\n",
              "            onmouseover=\"document.getElementById('_fb_plcvrzhpzhqngzpsiagy_ind_8').style.opacity = 1; document.getElementById('_fs_plcvrzhpzhqngzpsiagy_ind_8').style.opacity = 1;\"\n",
              "            onmouseout=\"document.getElementById('_fb_plcvrzhpzhqngzpsiagy_ind_8').style.opacity = 0; document.getElementById('_fs_plcvrzhpzhqngzpsiagy_ind_8').style.opacity = 0;\"\n",
              "        >. </div></div><div style='display: inline; text-align: center;'\n",
              "    ><div style='display: none; color: #999; padding-top: 0px; font-size: 12px;'>-0.004 / 2</div\n",
              "        ><div id='_tp_plcvrzhpzhqngzpsiagy_ind_9'\n",
              "            style='display: inline; background: rgba(30.0, 136.0, 229.0, 0.04618736383442258); border-radius: 3px; padding: 0px'\n",
              "            onclick=\"\n",
              "            if (this.previousSibling.style.display == 'none') {\n",
              "                this.previousSibling.style.display = 'block';\n",
              "                this.parentNode.style.display = 'inline-block';\n",
              "            } else {\n",
              "                this.previousSibling.style.display = 'none';\n",
              "                this.parentNode.style.display = 'inline';\n",
              "            }\"\n",
              "            onmouseover=\"document.getElementById('_fb_plcvrzhpzhqngzpsiagy_ind_9').style.opacity = 1; document.getElementById('_fs_plcvrzhpzhqngzpsiagy_ind_9').style.opacity = 1;\"\n",
              "            onmouseout=\"document.getElementById('_fb_plcvrzhpzhqngzpsiagy_ind_9').style.opacity = 0; document.getElementById('_fs_plcvrzhpzhqngzpsiagy_ind_9').style.opacity = 0;\"\n",
              "        >This one </div></div><div style='display: inline; text-align: center;'\n",
              "    ><div style='display: none; color: #999; padding-top: 0px; font-size: 12px;'>-0.012 / 2</div\n",
              "        ><div id='_tp_plcvrzhpzhqngzpsiagy_ind_10'\n",
              "            style='display: inline; background: rgba(30.0, 136.0, 229.0, 0.14866310160427798); border-radius: 3px; padding: 0px'\n",
              "            onclick=\"\n",
              "            if (this.previousSibling.style.display == 'none') {\n",
              "                this.previousSibling.style.display = 'block';\n",
              "                this.parentNode.style.display = 'inline-block';\n",
              "            } else {\n",
              "                this.previousSibling.style.display = 'none';\n",
              "                this.parentNode.style.display = 'inline';\n",
              "            }\"\n",
              "            onmouseover=\"document.getElementById('_fb_plcvrzhpzhqngzpsiagy_ind_10').style.opacity = 1; document.getElementById('_fs_plcvrzhpzhqngzpsiagy_ind_10').style.opacity = 1;\"\n",
              "            onmouseout=\"document.getElementById('_fb_plcvrzhpzhqngzpsiagy_ind_10').style.opacity = 0; document.getElementById('_fs_plcvrzhpzhqngzpsiagy_ind_10').style.opacity = 0;\"\n",
              "        >features the </div></div><div style='display: inline; text-align: center;'\n",
              "    ><div style='display: none; color: #999; padding-top: 0px; font-size: 12px;'>-0.011 / 5</div\n",
              "        ><div id='_tp_plcvrzhpzhqngzpsiagy_ind_11'\n",
              "            style='display: inline; background: rgba(30.0, 136.0, 229.0, 0.12501485442661905); border-radius: 3px; padding: 0px'\n",
              "            onclick=\"\n",
              "            if (this.previousSibling.style.display == 'none') {\n",
              "                this.previousSibling.style.display = 'block';\n",
              "                this.parentNode.style.display = 'inline-block';\n",
              "            } else {\n",
              "                this.previousSibling.style.display = 'none';\n",
              "                this.parentNode.style.display = 'inline';\n",
              "            }\"\n",
              "            onmouseover=\"document.getElementById('_fb_plcvrzhpzhqngzpsiagy_ind_11').style.opacity = 1; document.getElementById('_fs_plcvrzhpzhqngzpsiagy_ind_11').style.opacity = 1;\"\n",
              "            onmouseout=\"document.getElementById('_fb_plcvrzhpzhqngzpsiagy_ind_11').style.opacity = 0; document.getElementById('_fs_plcvrzhpzhqngzpsiagy_ind_11').style.opacity = 0;\"\n",
              "        >usual car chases, </div></div><div style='display: inline; text-align: center;'\n",
              "    ><div style='display: none; color: #999; padding-top: 0px; font-size: 12px;'>-0.012 / 5</div\n",
              "        ><div id='_tp_plcvrzhpzhqngzpsiagy_ind_12'\n",
              "            style='display: inline; background: rgba(30.0, 136.0, 229.0, 0.14866310160427798); border-radius: 3px; padding: 0px'\n",
              "            onclick=\"\n",
              "            if (this.previousSibling.style.display == 'none') {\n",
              "                this.previousSibling.style.display = 'block';\n",
              "                this.parentNode.style.display = 'inline-block';\n",
              "            } else {\n",
              "                this.previousSibling.style.display = 'none';\n",
              "                this.parentNode.style.display = 'inline';\n",
              "            }\"\n",
              "            onmouseover=\"document.getElementById('_fb_plcvrzhpzhqngzpsiagy_ind_12').style.opacity = 1; document.getElementById('_fs_plcvrzhpzhqngzpsiagy_ind_12').style.opacity = 1;\"\n",
              "            onmouseout=\"document.getElementById('_fb_plcvrzhpzhqngzpsiagy_ind_12').style.opacity = 0; document.getElementById('_fs_plcvrzhpzhqngzpsiagy_ind_12').style.opacity = 0;\"\n",
              "        >fights with the great Van </div></div><div style='display: inline; text-align: center;'\n",
              "    ><div style='display: none; color: #999; padding-top: 0px; font-size: 12px;'>-0.012 / 4</div\n",
              "        ><div id='_tp_plcvrzhpzhqngzpsiagy_ind_13'\n",
              "            style='display: inline; background: rgba(30.0, 136.0, 229.0, 0.14078035254505836); border-radius: 3px; padding: 0px'\n",
              "            onclick=\"\n",
              "            if (this.previousSibling.style.display == 'none') {\n",
              "                this.previousSibling.style.display = 'block';\n",
              "                this.parentNode.style.display = 'inline-block';\n",
              "            } else {\n",
              "                this.previousSibling.style.display = 'none';\n",
              "                this.parentNode.style.display = 'inline';\n",
              "            }\"\n",
              "            onmouseover=\"document.getElementById('_fb_plcvrzhpzhqngzpsiagy_ind_13').style.opacity = 1; document.getElementById('_fs_plcvrzhpzhqngzpsiagy_ind_13').style.opacity = 1;\"\n",
              "            onmouseout=\"document.getElementById('_fb_plcvrzhpzhqngzpsiagy_ind_13').style.opacity = 0; document.getElementById('_fs_plcvrzhpzhqngzpsiagy_ind_13').style.opacity = 0;\"\n",
              "        >Damme kick style</div></div><div style='display: inline; text-align: center;'\n",
              "    ><div style='display: none; color: #999; padding-top: 0px; font-size: 12px;'>-0.005</div\n",
              "        ><div id='_tp_plcvrzhpzhqngzpsiagy_ind_14'\n",
              "            style='display: inline; background: rgba(30.0, 136.0, 229.0, 0.06195286195286191); border-radius: 3px; padding: 0px'\n",
              "            onclick=\"\n",
              "            if (this.previousSibling.style.display == 'none') {\n",
              "                this.previousSibling.style.display = 'block';\n",
              "                this.parentNode.style.display = 'inline-block';\n",
              "            } else {\n",
              "                this.previousSibling.style.display = 'none';\n",
              "                this.parentNode.style.display = 'inline';\n",
              "            }\"\n",
              "            onmouseover=\"document.getElementById('_fb_plcvrzhpzhqngzpsiagy_ind_14').style.opacity = 1; document.getElementById('_fs_plcvrzhpzhqngzpsiagy_ind_14').style.opacity = 1;\"\n",
              "            onmouseout=\"document.getElementById('_fb_plcvrzhpzhqngzpsiagy_ind_14').style.opacity = 0; document.getElementById('_fs_plcvrzhpzhqngzpsiagy_ind_14').style.opacity = 0;\"\n",
              "        >, </div></div><div style='display: inline; text-align: center;'\n",
              "    ><div style='display: none; color: #999; padding-top: 0px; font-size: 12px;'>-0.008 / 2</div\n",
              "        ><div id='_tp_plcvrzhpzhqngzpsiagy_ind_15'\n",
              "            style='display: inline; background: rgba(30.0, 136.0, 229.0, 0.09348385818974048); border-radius: 3px; padding: 0px'\n",
              "            onclick=\"\n",
              "            if (this.previousSibling.style.display == 'none') {\n",
              "                this.previousSibling.style.display = 'block';\n",
              "                this.parentNode.style.display = 'inline-block';\n",
              "            } else {\n",
              "                this.previousSibling.style.display = 'none';\n",
              "                this.parentNode.style.display = 'inline';\n",
              "            }\"\n",
              "            onmouseover=\"document.getElementById('_fb_plcvrzhpzhqngzpsiagy_ind_15').style.opacity = 1; document.getElementById('_fs_plcvrzhpzhqngzpsiagy_ind_15').style.opacity = 1;\"\n",
              "            onmouseout=\"document.getElementById('_fb_plcvrzhpzhqngzpsiagy_ind_15').style.opacity = 0; document.getElementById('_fs_plcvrzhpzhqngzpsiagy_ind_15').style.opacity = 0;\"\n",
              "        >shooting battles </div></div><div style='display: inline; text-align: center;'\n",
              "    ><div style='display: none; color: #999; padding-top: 0px; font-size: 12px;'>-0.008 / 2</div\n",
              "        ><div id='_tp_plcvrzhpzhqngzpsiagy_ind_16'\n",
              "            style='display: inline; background: rgba(30.0, 136.0, 229.0, 0.08560110913052085); border-radius: 3px; padding: 0px'\n",
              "            onclick=\"\n",
              "            if (this.previousSibling.style.display == 'none') {\n",
              "                this.previousSibling.style.display = 'block';\n",
              "                this.parentNode.style.display = 'inline-block';\n",
              "            } else {\n",
              "                this.previousSibling.style.display = 'none';\n",
              "                this.parentNode.style.display = 'inline';\n",
              "            }\"\n",
              "            onmouseover=\"document.getElementById('_fb_plcvrzhpzhqngzpsiagy_ind_16').style.opacity = 1; document.getElementById('_fs_plcvrzhpzhqngzpsiagy_ind_16').style.opacity = 1;\"\n",
              "            onmouseout=\"document.getElementById('_fb_plcvrzhpzhqngzpsiagy_ind_16').style.opacity = 0; document.getElementById('_fs_plcvrzhpzhqngzpsiagy_ind_16').style.opacity = 0;\"\n",
              "        >with the </div></div><div style='display: inline; text-align: center;'\n",
              "    ><div style='display: none; color: #999; padding-top: 0px; font-size: 12px;'>-0.01 / 5</div\n",
              "        ><div id='_tp_plcvrzhpzhqngzpsiagy_ind_17'\n",
              "            style='display: inline; background: rgba(30.0, 136.0, 229.0, 0.11713210536739943); border-radius: 3px; padding: 0px'\n",
              "            onclick=\"\n",
              "            if (this.previousSibling.style.display == 'none') {\n",
              "                this.previousSibling.style.display = 'block';\n",
              "                this.parentNode.style.display = 'inline-block';\n",
              "            } else {\n",
              "                this.previousSibling.style.display = 'none';\n",
              "                this.parentNode.style.display = 'inline';\n",
              "            }\"\n",
              "            onmouseover=\"document.getElementById('_fb_plcvrzhpzhqngzpsiagy_ind_17').style.opacity = 1; document.getElementById('_fs_plcvrzhpzhqngzpsiagy_ind_17').style.opacity = 1;\"\n",
              "            onmouseout=\"document.getElementById('_fb_plcvrzhpzhqngzpsiagy_ind_17').style.opacity = 0; document.getElementById('_fs_plcvrzhpzhqngzpsiagy_ind_17').style.opacity = 0;\"\n",
              "        >40 shell load shotgun, </div></div><div style='display: inline; text-align: center;'\n",
              "    ><div style='display: none; color: #999; padding-top: 0px; font-size: 12px;'>-0.001</div\n",
              "        ><div id='_tp_plcvrzhpzhqngzpsiagy_ind_18'\n",
              "            style='display: inline; background: rgba(30.0, 136.0, 229.0, 0.006773618538324436); border-radius: 3px; padding: 0px'\n",
              "            onclick=\"\n",
              "            if (this.previousSibling.style.display == 'none') {\n",
              "                this.previousSibling.style.display = 'block';\n",
              "                this.parentNode.style.display = 'inline-block';\n",
              "            } else {\n",
              "                this.previousSibling.style.display = 'none';\n",
              "                this.parentNode.style.display = 'inline';\n",
              "            }\"\n",
              "            onmouseover=\"document.getElementById('_fb_plcvrzhpzhqngzpsiagy_ind_18').style.opacity = 1; document.getElementById('_fs_plcvrzhpzhqngzpsiagy_ind_18').style.opacity = 1;\"\n",
              "            onmouseout=\"document.getElementById('_fb_plcvrzhpzhqngzpsiagy_ind_18').style.opacity = 0; document.getElementById('_fs_plcvrzhpzhqngzpsiagy_ind_18').style.opacity = 0;\"\n",
              "        >and </div></div><div style='display: inline; text-align: center;'\n",
              "    ><div style='display: none; color: #999; padding-top: 0px; font-size: 12px;'>0.005 / 5</div\n",
              "        ><div id='_tp_plcvrzhpzhqngzpsiagy_ind_19'\n",
              "            style='display: inline; background: rgba(255.0, 13.0, 87.0, 0.05407011289364243); border-radius: 3px; padding: 0px'\n",
              "            onclick=\"\n",
              "            if (this.previousSibling.style.display == 'none') {\n",
              "                this.previousSibling.style.display = 'block';\n",
              "                this.parentNode.style.display = 'inline-block';\n",
              "            } else {\n",
              "                this.previousSibling.style.display = 'none';\n",
              "                this.parentNode.style.display = 'inline';\n",
              "            }\"\n",
              "            onmouseover=\"document.getElementById('_fb_plcvrzhpzhqngzpsiagy_ind_19').style.opacity = 1; document.getElementById('_fs_plcvrzhpzhqngzpsiagy_ind_19').style.opacity = 1;\"\n",
              "            onmouseout=\"document.getElementById('_fb_plcvrzhpzhqngzpsiagy_ind_19').style.opacity = 0; document.getElementById('_fs_plcvrzhpzhqngzpsiagy_ind_19').style.opacity = 0;\"\n",
              "        >even terrorist style bombs. </div></div><div style='display: inline; text-align: center;'\n",
              "    ><div style='display: none; color: #999; padding-top: 0px; font-size: 12px;'>-0.024 / 2</div\n",
              "        ><div id='_tp_plcvrzhpzhqngzpsiagy_ind_20'\n",
              "            style='display: inline; background: rgba(30.0, 136.0, 229.0, 0.29055258467023176); border-radius: 3px; padding: 0px'\n",
              "            onclick=\"\n",
              "            if (this.previousSibling.style.display == 'none') {\n",
              "                this.previousSibling.style.display = 'block';\n",
              "                this.parentNode.style.display = 'inline-block';\n",
              "            } else {\n",
              "                this.previousSibling.style.display = 'none';\n",
              "                this.parentNode.style.display = 'inline';\n",
              "            }\"\n",
              "            onmouseover=\"document.getElementById('_fb_plcvrzhpzhqngzpsiagy_ind_20').style.opacity = 1; document.getElementById('_fs_plcvrzhpzhqngzpsiagy_ind_20').style.opacity = 1;\"\n",
              "            onmouseout=\"document.getElementById('_fb_plcvrzhpzhqngzpsiagy_ind_20').style.opacity = 0; document.getElementById('_fs_plcvrzhpzhqngzpsiagy_ind_20').style.opacity = 0;\"\n",
              "        >All of </div></div><div style='display: inline; text-align: center;'\n",
              "    ><div style='display: none; color: #999; padding-top: 0px; font-size: 12px;'>-0.034 / 2</div\n",
              "        ><div id='_tp_plcvrzhpzhqngzpsiagy_ind_21'\n",
              "            style='display: inline; background: rgba(30.0, 136.0, 229.0, 0.4087938205585264); border-radius: 3px; padding: 0px'\n",
              "            onclick=\"\n",
              "            if (this.previousSibling.style.display == 'none') {\n",
              "                this.previousSibling.style.display = 'block';\n",
              "                this.parentNode.style.display = 'inline-block';\n",
              "            } else {\n",
              "                this.previousSibling.style.display = 'none';\n",
              "                this.parentNode.style.display = 'inline';\n",
              "            }\"\n",
              "            onmouseover=\"document.getElementById('_fb_plcvrzhpzhqngzpsiagy_ind_21').style.opacity = 1; document.getElementById('_fs_plcvrzhpzhqngzpsiagy_ind_21').style.opacity = 1;\"\n",
              "            onmouseout=\"document.getElementById('_fb_plcvrzhpzhqngzpsiagy_ind_21').style.opacity = 0; document.getElementById('_fs_plcvrzhpzhqngzpsiagy_ind_21').style.opacity = 0;\"\n",
              "        >this is </div></div><div style='display: inline; text-align: center;'\n",
              "    ><div style='display: none; color: #999; padding-top: 0px; font-size: 12px;'>-0.059</div\n",
              "        ><div id='_tp_plcvrzhpzhqngzpsiagy_ind_22'\n",
              "            style='display: inline; background: rgba(30.0, 136.0, 229.0, 0.7162210338680927); border-radius: 3px; padding: 0px'\n",
              "            onclick=\"\n",
              "            if (this.previousSibling.style.display == 'none') {\n",
              "                this.previousSibling.style.display = 'block';\n",
              "                this.parentNode.style.display = 'inline-block';\n",
              "            } else {\n",
              "                this.previousSibling.style.display = 'none';\n",
              "                this.parentNode.style.display = 'inline';\n",
              "            }\"\n",
              "            onmouseover=\"document.getElementById('_fb_plcvrzhpzhqngzpsiagy_ind_22').style.opacity = 1; document.getElementById('_fs_plcvrzhpzhqngzpsiagy_ind_22').style.opacity = 1;\"\n",
              "            onmouseout=\"document.getElementById('_fb_plcvrzhpzhqngzpsiagy_ind_22').style.opacity = 0; document.getElementById('_fs_plcvrzhpzhqngzpsiagy_ind_22').style.opacity = 0;\"\n",
              "        >entertaining </div></div><div style='display: inline; text-align: center;'\n",
              "    ><div style='display: none; color: #999; padding-top: 0px; font-size: 12px;'>-0.016</div\n",
              "        ><div id='_tp_plcvrzhpzhqngzpsiagy_ind_23'\n",
              "            style='display: inline; background: rgba(30.0, 136.0, 229.0, 0.1959595959595959); border-radius: 3px; padding: 0px'\n",
              "            onclick=\"\n",
              "            if (this.previousSibling.style.display == 'none') {\n",
              "                this.previousSibling.style.display = 'block';\n",
              "                this.parentNode.style.display = 'inline-block';\n",
              "            } else {\n",
              "                this.previousSibling.style.display = 'none';\n",
              "                this.parentNode.style.display = 'inline';\n",
              "            }\"\n",
              "            onmouseover=\"document.getElementById('_fb_plcvrzhpzhqngzpsiagy_ind_23').style.opacity = 1; document.getElementById('_fs_plcvrzhpzhqngzpsiagy_ind_23').style.opacity = 1;\"\n",
              "            onmouseout=\"document.getElementById('_fb_plcvrzhpzhqngzpsiagy_ind_23').style.opacity = 0; document.getElementById('_fs_plcvrzhpzhqngzpsiagy_ind_23').style.opacity = 0;\"\n",
              "        >and </div></div><div style='display: inline; text-align: center;'\n",
              "    ><div style='display: none; color: #999; padding-top: 0px; font-size: 12px;'>-0.05 / 3</div\n",
              "        ><div id='_tp_plcvrzhpzhqngzpsiagy_ind_24'\n",
              "            style='display: inline; background: rgba(30.0, 136.0, 229.0, 0.6137452960982374); border-radius: 3px; padding: 0px'\n",
              "            onclick=\"\n",
              "            if (this.previousSibling.style.display == 'none') {\n",
              "                this.previousSibling.style.display = 'block';\n",
              "                this.parentNode.style.display = 'inline-block';\n",
              "            } else {\n",
              "                this.previousSibling.style.display = 'none';\n",
              "                this.parentNode.style.display = 'inline';\n",
              "            }\"\n",
              "            onmouseover=\"document.getElementById('_fb_plcvrzhpzhqngzpsiagy_ind_24').style.opacity = 1; document.getElementById('_fs_plcvrzhpzhqngzpsiagy_ind_24').style.opacity = 1;\"\n",
              "            onmouseout=\"document.getElementById('_fb_plcvrzhpzhqngzpsiagy_ind_24').style.opacity = 0; document.getElementById('_fs_plcvrzhpzhqngzpsiagy_ind_24').style.opacity = 0;\"\n",
              "        >competently handled </div></div><div style='display: inline; text-align: center;'\n",
              "    ><div style='display: none; color: #999; padding-top: 0px; font-size: 12px;'>0.003</div\n",
              "        ><div id='_tp_plcvrzhpzhqngzpsiagy_ind_25'\n",
              "            style='display: inline; background: rgba(255.0, 13.0, 87.0, 0.03830461477520289); border-radius: 3px; padding: 0px'\n",
              "            onclick=\"\n",
              "            if (this.previousSibling.style.display == 'none') {\n",
              "                this.previousSibling.style.display = 'block';\n",
              "                this.parentNode.style.display = 'inline-block';\n",
              "            } else {\n",
              "                this.previousSibling.style.display = 'none';\n",
              "                this.parentNode.style.display = 'inline';\n",
              "            }\"\n",
              "            onmouseover=\"document.getElementById('_fb_plcvrzhpzhqngzpsiagy_ind_25').style.opacity = 1; document.getElementById('_fs_plcvrzhpzhqngzpsiagy_ind_25').style.opacity = 1;\"\n",
              "            onmouseout=\"document.getElementById('_fb_plcvrzhpzhqngzpsiagy_ind_25').style.opacity = 0; document.getElementById('_fs_plcvrzhpzhqngzpsiagy_ind_25').style.opacity = 0;\"\n",
              "        >but </div></div><div style='display: inline; text-align: center;'\n",
              "    ><div style='display: none; color: #999; padding-top: 0px; font-size: 12px;'>0.002 / 2</div\n",
              "        ><div id='_tp_plcvrzhpzhqngzpsiagy_ind_26'\n",
              "            style='display: inline; background: rgba(255.0, 13.0, 87.0, 0.014656367597544035); border-radius: 3px; padding: 0px'\n",
              "            onclick=\"\n",
              "            if (this.previousSibling.style.display == 'none') {\n",
              "                this.previousSibling.style.display = 'block';\n",
              "                this.parentNode.style.display = 'inline-block';\n",
              "            } else {\n",
              "                this.previousSibling.style.display = 'none';\n",
              "                this.parentNode.style.display = 'inline';\n",
              "            }\"\n",
              "            onmouseover=\"document.getElementById('_fb_plcvrzhpzhqngzpsiagy_ind_26').style.opacity = 1; document.getElementById('_fs_plcvrzhpzhqngzpsiagy_ind_26').style.opacity = 1;\"\n",
              "            onmouseout=\"document.getElementById('_fb_plcvrzhpzhqngzpsiagy_ind_26').style.opacity = 0; document.getElementById('_fs_plcvrzhpzhqngzpsiagy_ind_26').style.opacity = 0;\"\n",
              "        >there is </div></div><div style='display: inline; text-align: center;'\n",
              "    ><div style='display: none; color: #999; padding-top: 0px; font-size: 12px;'>0.011 / 2</div\n",
              "        ><div id='_tp_plcvrzhpzhqngzpsiagy_ind_27'\n",
              "            style='display: inline; background: rgba(255.0, 13.0, 87.0, 0.12501485442661908); border-radius: 3px; padding: 0px'\n",
              "            onclick=\"\n",
              "            if (this.previousSibling.style.display == 'none') {\n",
              "                this.previousSibling.style.display = 'block';\n",
              "                this.parentNode.style.display = 'inline-block';\n",
              "            } else {\n",
              "                this.previousSibling.style.display = 'none';\n",
              "                this.parentNode.style.display = 'inline';\n",
              "            }\"\n",
              "            onmouseover=\"document.getElementById('_fb_plcvrzhpzhqngzpsiagy_ind_27').style.opacity = 1; document.getElementById('_fs_plcvrzhpzhqngzpsiagy_ind_27').style.opacity = 1;\"\n",
              "            onmouseout=\"document.getElementById('_fb_plcvrzhpzhqngzpsiagy_ind_27').style.opacity = 0; document.getElementById('_fs_plcvrzhpzhqngzpsiagy_ind_27').style.opacity = 0;\"\n",
              "        >nothing that </div></div><div style='display: inline; text-align: center;'\n",
              "    ><div style='display: none; color: #999; padding-top: 0px; font-size: 12px;'>0.002 / 5</div\n",
              "        ><div id='_tp_plcvrzhpzhqngzpsiagy_ind_28'\n",
              "            style='display: inline; background: rgba(255.0, 13.0, 87.0, 0.014656367597544035); border-radius: 3px; padding: 0px'\n",
              "            onclick=\"\n",
              "            if (this.previousSibling.style.display == 'none') {\n",
              "                this.previousSibling.style.display = 'block';\n",
              "                this.parentNode.style.display = 'inline-block';\n",
              "            } else {\n",
              "                this.previousSibling.style.display = 'none';\n",
              "                this.parentNode.style.display = 'inline';\n",
              "            }\"\n",
              "            onmouseover=\"document.getElementById('_fb_plcvrzhpzhqngzpsiagy_ind_28').style.opacity = 1; document.getElementById('_fs_plcvrzhpzhqngzpsiagy_ind_28').style.opacity = 1;\"\n",
              "            onmouseout=\"document.getElementById('_fb_plcvrzhpzhqngzpsiagy_ind_28').style.opacity = 0; document.getElementById('_fs_plcvrzhpzhqngzpsiagy_ind_28').style.opacity = 0;\"\n",
              "        >really blows you away if </div></div><div style='display: inline; text-align: center;'\n",
              "    ><div style='display: none; color: #999; padding-top: 0px; font-size: 12px;'>-0.001 / 4</div\n",
              "        ><div id='_tp_plcvrzhpzhqngzpsiagy_ind_29'\n",
              "            style='display: inline; background: rgba(30.0, 136.0, 229.0, 0.006773618538324436); border-radius: 3px; padding: 0px'\n",
              "            onclick=\"\n",
              "            if (this.previousSibling.style.display == 'none') {\n",
              "                this.previousSibling.style.display = 'block';\n",
              "                this.parentNode.style.display = 'inline-block';\n",
              "            } else {\n",
              "                this.previousSibling.style.display = 'none';\n",
              "                this.parentNode.style.display = 'inline';\n",
              "            }\"\n",
              "            onmouseover=\"document.getElementById('_fb_plcvrzhpzhqngzpsiagy_ind_29').style.opacity = 1; document.getElementById('_fs_plcvrzhpzhqngzpsiagy_ind_29').style.opacity = 1;\"\n",
              "            onmouseout=\"document.getElementById('_fb_plcvrzhpzhqngzpsiagy_ind_29').style.opacity = 0; document.getElementById('_fs_plcvrzhpzhqngzpsiagy_ind_29').style.opacity = 0;\"\n",
              "        >you've seen </div></div><div style='display: inline; text-align: center;'\n",
              "    ><div style='display: none; color: #999; padding-top: 0px; font-size: 12px;'>0.0 / 4</div\n",
              "        ><div id='_tp_plcvrzhpzhqngzpsiagy_ind_30'\n",
              "            style='display: inline; background: rgba(230.2941176470614, 26.505882352939775, 102.59215686274348, 0.0); border-radius: 3px; padding: 0px'\n",
              "            onclick=\"\n",
              "            if (this.previousSibling.style.display == 'none') {\n",
              "                this.previousSibling.style.display = 'block';\n",
              "                this.parentNode.style.display = 'inline-block';\n",
              "            } else {\n",
              "                this.previousSibling.style.display = 'none';\n",
              "                this.parentNode.style.display = 'inline';\n",
              "            }\"\n",
              "            onmouseover=\"document.getElementById('_fb_plcvrzhpzhqngzpsiagy_ind_30').style.opacity = 1; document.getElementById('_fs_plcvrzhpzhqngzpsiagy_ind_30').style.opacity = 1;\"\n",
              "            onmouseout=\"document.getElementById('_fb_plcvrzhpzhqngzpsiagy_ind_30').style.opacity = 0; document.getElementById('_fs_plcvrzhpzhqngzpsiagy_ind_30').style.opacity = 0;\"\n",
              "        >your share before.</div></div><div style='display: inline; text-align: center;'\n",
              "    ><div style='display: none; color: #999; padding-top: 0px; font-size: 12px;'>-0.006 / 4</div\n",
              "        ><div id='_tp_plcvrzhpzhqngzpsiagy_ind_31'\n",
              "            style='display: inline; background: rgba(30.0, 136.0, 229.0, 0.06983561101208147); border-radius: 3px; padding: 0px'\n",
              "            onclick=\"\n",
              "            if (this.previousSibling.style.display == 'none') {\n",
              "                this.previousSibling.style.display = 'block';\n",
              "                this.parentNode.style.display = 'inline-block';\n",
              "            } else {\n",
              "                this.previousSibling.style.display = 'none';\n",
              "                this.parentNode.style.display = 'inline';\n",
              "            }\"\n",
              "            onmouseover=\"document.getElementById('_fb_plcvrzhpzhqngzpsiagy_ind_31').style.opacity = 1; document.getElementById('_fs_plcvrzhpzhqngzpsiagy_ind_31').style.opacity = 1;\"\n",
              "            onmouseout=\"document.getElementById('_fb_plcvrzhpzhqngzpsiagy_ind_31').style.opacity = 0; document.getElementById('_fs_plcvrzhpzhqngzpsiagy_ind_31').style.opacity = 0;\"\n",
              "        >&lt;br /&gt;</div></div><div style='display: inline; text-align: center;'\n",
              "    ><div style='display: none; color: #999; padding-top: 0px; font-size: 12px;'>-0.003 / 2</div\n",
              "        ><div id='_tp_plcvrzhpzhqngzpsiagy_ind_32'\n",
              "            style='display: inline; background: rgba(30.0, 136.0, 229.0, 0.03042186571598325); border-radius: 3px; padding: 0px'\n",
              "            onclick=\"\n",
              "            if (this.previousSibling.style.display == 'none') {\n",
              "                this.previousSibling.style.display = 'block';\n",
              "                this.parentNode.style.display = 'inline-block';\n",
              "            } else {\n",
              "                this.previousSibling.style.display = 'none';\n",
              "                this.parentNode.style.display = 'inline';\n",
              "            }\"\n",
              "            onmouseover=\"document.getElementById('_fb_plcvrzhpzhqngzpsiagy_ind_32').style.opacity = 1; document.getElementById('_fs_plcvrzhpzhqngzpsiagy_ind_32').style.opacity = 1;\"\n",
              "            onmouseout=\"document.getElementById('_fb_plcvrzhpzhqngzpsiagy_ind_32').style.opacity = 0; document.getElementById('_fs_plcvrzhpzhqngzpsiagy_ind_32').style.opacity = 0;\"\n",
              "        >&lt;br </div></div><div style='display: inline; text-align: center;'\n",
              "    ><div style='display: none; color: #999; padding-top: 0px; font-size: 12px;'>-0.007 / 2</div\n",
              "        ><div id='_tp_plcvrzhpzhqngzpsiagy_ind_33'\n",
              "            style='display: inline; background: rgba(30.0, 136.0, 229.0, 0.08560110913052085); border-radius: 3px; padding: 0px'\n",
              "            onclick=\"\n",
              "            if (this.previousSibling.style.display == 'none') {\n",
              "                this.previousSibling.style.display = 'block';\n",
              "                this.parentNode.style.display = 'inline-block';\n",
              "            } else {\n",
              "                this.previousSibling.style.display = 'none';\n",
              "                this.parentNode.style.display = 'inline';\n",
              "            }\"\n",
              "            onmouseover=\"document.getElementById('_fb_plcvrzhpzhqngzpsiagy_ind_33').style.opacity = 1; document.getElementById('_fs_plcvrzhpzhqngzpsiagy_ind_33').style.opacity = 1;\"\n",
              "            onmouseout=\"document.getElementById('_fb_plcvrzhpzhqngzpsiagy_ind_33').style.opacity = 0; document.getElementById('_fs_plcvrzhpzhqngzpsiagy_ind_33').style.opacity = 0;\"\n",
              "        >/&gt;</div></div><div style='display: inline; text-align: center;'\n",
              "    ><div style='display: none; color: #999; padding-top: 0px; font-size: 12px;'>-0.045 / 4</div\n",
              "        ><div id='_tp_plcvrzhpzhqngzpsiagy_ind_34'\n",
              "            style='display: inline; background: rgba(30.0, 136.0, 229.0, 0.5585660526836997); border-radius: 3px; padding: 0px'\n",
              "            onclick=\"\n",
              "            if (this.previousSibling.style.display == 'none') {\n",
              "                this.previousSibling.style.display = 'block';\n",
              "                this.parentNode.style.display = 'inline-block';\n",
              "            } else {\n",
              "                this.previousSibling.style.display = 'none';\n",
              "                this.parentNode.style.display = 'inline';\n",
              "            }\"\n",
              "            onmouseover=\"document.getElementById('_fb_plcvrzhpzhqngzpsiagy_ind_34').style.opacity = 1; document.getElementById('_fs_plcvrzhpzhqngzpsiagy_ind_34').style.opacity = 1;\"\n",
              "            onmouseout=\"document.getElementById('_fb_plcvrzhpzhqngzpsiagy_ind_34').style.opacity = 0; document.getElementById('_fs_plcvrzhpzhqngzpsiagy_ind_34').style.opacity = 0;\"\n",
              "        >The plot is made </div></div><div style='display: inline; text-align: center;'\n",
              "    ><div style='display: none; color: #999; padding-top: 0px; font-size: 12px;'>-0.041 / 4</div\n",
              "        ><div id='_tp_plcvrzhpzhqngzpsiagy_ind_35'\n",
              "            style='display: inline; background: rgba(30.0, 136.0, 229.0, 0.4955040602099425); border-radius: 3px; padding: 0px'\n",
              "            onclick=\"\n",
              "            if (this.previousSibling.style.display == 'none') {\n",
              "                this.previousSibling.style.display = 'block';\n",
              "                this.parentNode.style.display = 'inline-block';\n",
              "            } else {\n",
              "                this.previousSibling.style.display = 'none';\n",
              "                this.parentNode.style.display = 'inline';\n",
              "            }\"\n",
              "            onmouseover=\"document.getElementById('_fb_plcvrzhpzhqngzpsiagy_ind_35').style.opacity = 1; document.getElementById('_fs_plcvrzhpzhqngzpsiagy_ind_35').style.opacity = 1;\"\n",
              "            onmouseout=\"document.getElementById('_fb_plcvrzhpzhqngzpsiagy_ind_35').style.opacity = 0; document.getElementById('_fs_plcvrzhpzhqngzpsiagy_ind_35').style.opacity = 0;\"\n",
              "        >interesting by the inclusion </div></div><div style='display: inline; text-align: center;'\n",
              "    ><div style='display: none; color: #999; padding-top: 0px; font-size: 12px;'>-0.006 / 4</div\n",
              "        ><div id='_tp_plcvrzhpzhqngzpsiagy_ind_36'\n",
              "            style='display: inline; background: rgba(30.0, 136.0, 229.0, 0.06983561101208147); border-radius: 3px; padding: 0px'\n",
              "            onclick=\"\n",
              "            if (this.previousSibling.style.display == 'none') {\n",
              "                this.previousSibling.style.display = 'block';\n",
              "                this.parentNode.style.display = 'inline-block';\n",
              "            } else {\n",
              "                this.previousSibling.style.display = 'none';\n",
              "                this.parentNode.style.display = 'inline';\n",
              "            }\"\n",
              "            onmouseover=\"document.getElementById('_fb_plcvrzhpzhqngzpsiagy_ind_36').style.opacity = 1; document.getElementById('_fs_plcvrzhpzhqngzpsiagy_ind_36').style.opacity = 1;\"\n",
              "            onmouseout=\"document.getElementById('_fb_plcvrzhpzhqngzpsiagy_ind_36').style.opacity = 0; document.getElementById('_fs_plcvrzhpzhqngzpsiagy_ind_36').style.opacity = 0;\"\n",
              "        >of a rabbit, </div></div><div style='display: inline; text-align: center;'\n",
              "    ><div style='display: none; color: #999; padding-top: 0px; font-size: 12px;'>-0.015 / 2</div\n",
              "        ><div id='_tp_plcvrzhpzhqngzpsiagy_ind_37'\n",
              "            style='display: inline; background: rgba(30.0, 136.0, 229.0, 0.18019409784115656); border-radius: 3px; padding: 0px'\n",
              "            onclick=\"\n",
              "            if (this.previousSibling.style.display == 'none') {\n",
              "                this.previousSibling.style.display = 'block';\n",
              "                this.parentNode.style.display = 'inline-block';\n",
              "            } else {\n",
              "                this.previousSibling.style.display = 'none';\n",
              "                this.parentNode.style.display = 'inline';\n",
              "            }\"\n",
              "            onmouseover=\"document.getElementById('_fb_plcvrzhpzhqngzpsiagy_ind_37').style.opacity = 1; document.getElementById('_fs_plcvrzhpzhqngzpsiagy_ind_37').style.opacity = 1;\"\n",
              "            onmouseout=\"document.getElementById('_fb_plcvrzhpzhqngzpsiagy_ind_37').style.opacity = 0; document.getElementById('_fs_plcvrzhpzhqngzpsiagy_ind_37').style.opacity = 0;\"\n",
              "        >which is </div></div><div style='display: inline; text-align: center;'\n",
              "    ><div style='display: none; color: #999; padding-top: 0px; font-size: 12px;'>-0.011</div\n",
              "        ><div id='_tp_plcvrzhpzhqngzpsiagy_ind_38'\n",
              "            style='display: inline; background: rgba(30.0, 136.0, 229.0, 0.1328976034858387); border-radius: 3px; padding: 0px'\n",
              "            onclick=\"\n",
              "            if (this.previousSibling.style.display == 'none') {\n",
              "                this.previousSibling.style.display = 'block';\n",
              "                this.parentNode.style.display = 'inline-block';\n",
              "            } else {\n",
              "                this.previousSibling.style.display = 'none';\n",
              "                this.parentNode.style.display = 'inline';\n",
              "            }\"\n",
              "            onmouseover=\"document.getElementById('_fb_plcvrzhpzhqngzpsiagy_ind_38').style.opacity = 1; document.getElementById('_fs_plcvrzhpzhqngzpsiagy_ind_38').style.opacity = 1;\"\n",
              "            onmouseout=\"document.getElementById('_fb_plcvrzhpzhqngzpsiagy_ind_38').style.opacity = 0; document.getElementById('_fs_plcvrzhpzhqngzpsiagy_ind_38').style.opacity = 0;\"\n",
              "        >clever </div></div><div style='display: inline; text-align: center;'\n",
              "    ><div style='display: none; color: #999; padding-top: 0px; font-size: 12px;'>-0.019</div\n",
              "        ><div id='_tp_plcvrzhpzhqngzpsiagy_ind_39'\n",
              "            style='display: inline; background: rgba(30.0, 136.0, 229.0, 0.22749059219647463); border-radius: 3px; padding: 0px'\n",
              "            onclick=\"\n",
              "            if (this.previousSibling.style.display == 'none') {\n",
              "                this.previousSibling.style.display = 'block';\n",
              "                this.parentNode.style.display = 'inline-block';\n",
              "            } else {\n",
              "                this.previousSibling.style.display = 'none';\n",
              "                this.parentNode.style.display = 'inline';\n",
              "            }\"\n",
              "            onmouseover=\"document.getElementById('_fb_plcvrzhpzhqngzpsiagy_ind_39').style.opacity = 1; document.getElementById('_fs_plcvrzhpzhqngzpsiagy_ind_39').style.opacity = 1;\"\n",
              "            onmouseout=\"document.getElementById('_fb_plcvrzhpzhqngzpsiagy_ind_39').style.opacity = 0; document.getElementById('_fs_plcvrzhpzhqngzpsiagy_ind_39').style.opacity = 0;\"\n",
              "        >but </div></div><div style='display: inline; text-align: center;'\n",
              "    ><div style='display: none; color: #999; padding-top: 0px; font-size: 12px;'>0.013</div\n",
              "        ><div id='_tp_plcvrzhpzhqngzpsiagy_ind_40'\n",
              "            style='display: inline; background: rgba(255.0, 13.0, 87.0, 0.14866310160427795); border-radius: 3px; padding: 0px'\n",
              "            onclick=\"\n",
              "            if (this.previousSibling.style.display == 'none') {\n",
              "                this.previousSibling.style.display = 'block';\n",
              "                this.parentNode.style.display = 'inline-block';\n",
              "            } else {\n",
              "                this.previousSibling.style.display = 'none';\n",
              "                this.parentNode.style.display = 'inline';\n",
              "            }\"\n",
              "            onmouseover=\"document.getElementById('_fb_plcvrzhpzhqngzpsiagy_ind_40').style.opacity = 1; document.getElementById('_fs_plcvrzhpzhqngzpsiagy_ind_40').style.opacity = 1;\"\n",
              "            onmouseout=\"document.getElementById('_fb_plcvrzhpzhqngzpsiagy_ind_40').style.opacity = 0; document.getElementById('_fs_plcvrzhpzhqngzpsiagy_ind_40').style.opacity = 0;\"\n",
              "        >hardly </div></div><div style='display: inline; text-align: center;'\n",
              "    ><div style='display: none; color: #999; padding-top: 0px; font-size: 12px;'>0.007</div\n",
              "        ><div id='_tp_plcvrzhpzhqngzpsiagy_ind_41'\n",
              "            style='display: inline; background: rgba(255.0, 13.0, 87.0, 0.07771836007130124); border-radius: 3px; padding: 0px'\n",
              "            onclick=\"\n",
              "            if (this.previousSibling.style.display == 'none') {\n",
              "                this.previousSibling.style.display = 'block';\n",
              "                this.parentNode.style.display = 'inline-block';\n",
              "            } else {\n",
              "                this.previousSibling.style.display = 'none';\n",
              "                this.parentNode.style.display = 'inline';\n",
              "            }\"\n",
              "            onmouseover=\"document.getElementById('_fb_plcvrzhpzhqngzpsiagy_ind_41').style.opacity = 1; document.getElementById('_fs_plcvrzhpzhqngzpsiagy_ind_41').style.opacity = 1;\"\n",
              "            onmouseout=\"document.getElementById('_fb_plcvrzhpzhqngzpsiagy_ind_41').style.opacity = 0; document.getElementById('_fs_plcvrzhpzhqngzpsiagy_ind_41').style.opacity = 0;\"\n",
              "        >profound</div></div><div style='display: inline; text-align: center;'\n",
              "    ><div style='display: none; color: #999; padding-top: 0px; font-size: 12px;'>0.003</div\n",
              "        ><div id='_tp_plcvrzhpzhqngzpsiagy_ind_42'\n",
              "            style='display: inline; background: rgba(255.0, 13.0, 87.0, 0.030421865715983164); border-radius: 3px; padding: 0px'\n",
              "            onclick=\"\n",
              "            if (this.previousSibling.style.display == 'none') {\n",
              "                this.previousSibling.style.display = 'block';\n",
              "                this.parentNode.style.display = 'inline-block';\n",
              "            } else {\n",
              "                this.previousSibling.style.display = 'none';\n",
              "                this.parentNode.style.display = 'inline';\n",
              "            }\"\n",
              "            onmouseover=\"document.getElementById('_fb_plcvrzhpzhqngzpsiagy_ind_42').style.opacity = 1; document.getElementById('_fs_plcvrzhpzhqngzpsiagy_ind_42').style.opacity = 1;\"\n",
              "            onmouseout=\"document.getElementById('_fb_plcvrzhpzhqngzpsiagy_ind_42').style.opacity = 0; document.getElementById('_fs_plcvrzhpzhqngzpsiagy_ind_42').style.opacity = 0;\"\n",
              "        >. </div></div><div style='display: inline; text-align: center;'\n",
              "    ><div style='display: none; color: #999; padding-top: 0px; font-size: 12px;'>-0.006 / 2</div\n",
              "        ><div id='_tp_plcvrzhpzhqngzpsiagy_ind_43'\n",
              "            style='display: inline; background: rgba(30.0, 136.0, 229.0, 0.06195286195286191); border-radius: 3px; padding: 0px'\n",
              "            onclick=\"\n",
              "            if (this.previousSibling.style.display == 'none') {\n",
              "                this.previousSibling.style.display = 'block';\n",
              "                this.parentNode.style.display = 'inline-block';\n",
              "            } else {\n",
              "                this.previousSibling.style.display = 'none';\n",
              "                this.parentNode.style.display = 'inline';\n",
              "            }\"\n",
              "            onmouseover=\"document.getElementById('_fb_plcvrzhpzhqngzpsiagy_ind_43').style.opacity = 1; document.getElementById('_fs_plcvrzhpzhqngzpsiagy_ind_43').style.opacity = 1;\"\n",
              "            onmouseout=\"document.getElementById('_fb_plcvrzhpzhqngzpsiagy_ind_43').style.opacity = 0; document.getElementById('_fs_plcvrzhpzhqngzpsiagy_ind_43').style.opacity = 0;\"\n",
              "        >Many of </div></div><div style='display: inline; text-align: center;'\n",
              "    ><div style='display: none; color: #999; padding-top: 0px; font-size: 12px;'>-0.003 / 3</div\n",
              "        ><div id='_tp_plcvrzhpzhqngzpsiagy_ind_44'\n",
              "            style='display: inline; background: rgba(30.0, 136.0, 229.0, 0.022539116656763607); border-radius: 3px; padding: 0px'\n",
              "            onclick=\"\n",
              "            if (this.previousSibling.style.display == 'none') {\n",
              "                this.previousSibling.style.display = 'block';\n",
              "                this.parentNode.style.display = 'inline-block';\n",
              "            } else {\n",
              "                this.previousSibling.style.display = 'none';\n",
              "                this.parentNode.style.display = 'inline';\n",
              "            }\"\n",
              "            onmouseover=\"document.getElementById('_fb_plcvrzhpzhqngzpsiagy_ind_44').style.opacity = 1; document.getElementById('_fs_plcvrzhpzhqngzpsiagy_ind_44').style.opacity = 1;\"\n",
              "            onmouseout=\"document.getElementById('_fb_plcvrzhpzhqngzpsiagy_ind_44').style.opacity = 0; document.getElementById('_fs_plcvrzhpzhqngzpsiagy_ind_44').style.opacity = 0;\"\n",
              "        >the c</div></div></div>"
            ],
            "text/plain": [
              "<IPython.core.display.HTML object>"
            ]
          },
          "metadata": {}
        },
        {
          "output_type": "display_data",
          "data": {
            "text/html": [
              "\n",
              "<br>\n",
              "<hr style=\"height: 1px; background-color: #fff; border: none; margin-top: 18px; margin-bottom: 18px; border-top: 1px dashed #ccc;\"\">\n",
              "<div align=\"center\" style=\"margin-top: -35px;\"><div style=\"display: inline-block; background: #fff; padding: 5px; color: #999; font-family: monospace\">[1]</div>\n",
              "</div>\n",
              "            "
            ],
            "text/plain": [
              "<IPython.core.display.HTML object>"
            ]
          },
          "metadata": {}
        },
        {
          "output_type": "display_data",
          "data": {
            "text/html": [
              "<svg width=\"100%\" height=\"80px\"><line x1=\"0\" y1=\"33\" x2=\"100%\" y2=\"33\" style=\"stroke:rgb(150,150,150);stroke-width:1\" /><line x1=\"48.647951869708976%\" y1=\"33\" x2=\"48.647951869708976%\" y2=\"37\" style=\"stroke:rgb(150,150,150);stroke-width:1\" /><text x=\"48.647951869708976%\" y=\"27\" font-size=\"12px\" fill=\"rgb(120,120,120)\" dominant-baseline=\"bottom\" text-anchor=\"middle\">0.5</text><line x1=\"31.693104825152144%\" y1=\"33\" x2=\"31.693104825152144%\" y2=\"37\" style=\"stroke:rgb(150,150,150);stroke-width:1\" /><text x=\"31.693104825152144%\" y=\"27\" font-size=\"12px\" fill=\"rgb(120,120,120)\" dominant-baseline=\"bottom\" text-anchor=\"middle\">0.3</text><line x1=\"14.738257780595312%\" y1=\"33\" x2=\"14.738257780595312%\" y2=\"37\" style=\"stroke:rgb(150,150,150);stroke-width:1\" /><text x=\"14.738257780595312%\" y=\"27\" font-size=\"12px\" fill=\"rgb(120,120,120)\" dominant-baseline=\"bottom\" text-anchor=\"middle\">0.1</text><line x1=\"65.6027989142658%\" y1=\"33\" x2=\"65.6027989142658%\" y2=\"37\" style=\"stroke:rgb(150,150,150);stroke-width:1\" /><text x=\"65.6027989142658%\" y=\"27\" font-size=\"12px\" fill=\"rgb(120,120,120)\" dominant-baseline=\"bottom\" text-anchor=\"middle\">0.7</text><line x1=\"82.55764595882266%\" y1=\"33\" x2=\"82.55764595882266%\" y2=\"37\" style=\"stroke:rgb(150,150,150);stroke-width:1\" /><text x=\"82.55764595882266%\" y=\"27\" font-size=\"12px\" fill=\"rgb(120,120,120)\" dominant-baseline=\"bottom\" text-anchor=\"middle\">0.9</text><line x1=\"49.87984303833964%\" y1=\"33\" x2=\"49.87984303833964%\" y2=\"37\" style=\"stroke:rgb(150,150,150);stroke-width:1\" /><text x=\"49.87984303833964%\" y=\"27\" font-size=\"13px\" style=\"stroke:#ffffff;stroke-width:8px;\" fill=\"rgb(255,255,255)\" dominant-baseline=\"bottom\" text-anchor=\"middle\">0.514531</text><text x=\"49.87984303833964%\" y=\"27\" font-size=\"12px\" fill=\"rgb(120,120,120)\" dominant-baseline=\"bottom\" text-anchor=\"middle\">0.514531</text><text x=\"49.87984303833964%\" y=\"10\" font-size=\"12px\" fill=\"rgb(120,120,120)\" dominant-baseline=\"bottom\" text-anchor=\"middle\">base value</text><line x1=\"90.36593919600836%\" y1=\"33\" x2=\"90.36593919600836%\" y2=\"37\" style=\"stroke:rgb(150,150,150);stroke-width:1\" /><text x=\"90.36593919600836%\" y=\"27\" font-size=\"13px\" style=\"stroke:#ffffff;stroke-width:8px;\" font-weight=\"bold\" fill=\"rgb(255,255,255)\" dominant-baseline=\"bottom\" text-anchor=\"middle\">0.992107</text><text x=\"90.36593919600836%\" y=\"27\" font-size=\"13px\" font-weight=\"bold\" fill=\"rgb(0,0,0)\" dominant-baseline=\"bottom\" text-anchor=\"middle\">0.992107</text><text x=\"90.36593919600836%\" y=\"10\" font-size=\"12px\" fill=\"rgb(120,120,120)\" dominant-baseline=\"bottom\" text-anchor=\"middle\">f<tspan baseline-shift=\"sub\" font-size=\"8px\">LABEL_0</tspan>(inputs)</text><rect x=\"45.2253010879376%\" width=\"45.14063810807074%\" y=\"40\" height=\"18\" style=\"fill:rgb(255.0, 0.0, 81.08083606031792); stroke-width:0; stroke:rgb(0,0,0)\" /><line x1=\"83.42836849436863%\" x2=\"90.36593919600836%\" y1=\"60\" y2=\"60\" id=\"_fb_pscmkaaluhjpgnjcbrdf_ind_13\" style=\"stroke:rgb(255.0, 0.0, 81.08083606031792);stroke-width:2; opacity: 0\"/><text x=\"86.89715384518848%\" y=\"71\" font-size=\"12px\" id=\"_fs_pscmkaaluhjpgnjcbrdf_ind_13\" fill=\"rgb(255.0, 0.0, 81.08083606031792)\" style=\"opacity: 0\" dominant-baseline=\"middle\" text-anchor=\"middle\">0.082</text><svg x=\"83.42836849436863%\" y=\"40\" height=\"20\" width=\"6.9375707016397286%\">  <svg x=\"0\" y=\"0\" width=\"100%\" height=\"100%\">    <text x=\"50%\" y=\"9\" font-size=\"12px\" fill=\"rgb(255,255,255)\" dominant-baseline=\"middle\" text-anchor=\"middle\">lop</text>  </svg></svg><line x1=\"77.18020425548961%\" x2=\"83.42836849436863%\" y1=\"60\" y2=\"60\" id=\"_fb_pscmkaaluhjpgnjcbrdf_ind_14\" style=\"stroke:rgb(255.0, 0.0, 81.08083606031792);stroke-width:2; opacity: 0\"/><text x=\"80.30428637492912%\" y=\"71\" font-size=\"12px\" id=\"_fs_pscmkaaluhjpgnjcbrdf_ind_14\" fill=\"rgb(255.0, 0.0, 81.08083606031792)\" style=\"opacity: 0\" dominant-baseline=\"middle\" text-anchor=\"middle\">0.074</text><svg x=\"77.18020425548961%\" y=\"40\" height=\"20\" width=\"6.2481642388790135%\">  <svg x=\"0\" y=\"0\" width=\"100%\" height=\"100%\">    <text x=\"50%\" y=\"9\" font-size=\"12px\" fill=\"rgb(255,255,255)\" dominant-baseline=\"middle\" text-anchor=\"middle\">py</text>  </svg></svg><line x1=\"71.32081223117936%\" x2=\"77.18020425548961%\" y1=\"60\" y2=\"60\" id=\"_fb_pscmkaaluhjpgnjcbrdf_ind_18\" style=\"stroke:rgb(255.0, 0.0, 81.08083606031792);stroke-width:2; opacity: 0\"/><text x=\"74.25050824333448%\" y=\"71\" font-size=\"12px\" id=\"_fs_pscmkaaluhjpgnjcbrdf_ind_18\" fill=\"rgb(255.0, 0.0, 81.08083606031792)\" style=\"opacity: 0\" dominant-baseline=\"middle\" text-anchor=\"middle\">0.069</text><svg x=\"71.32081223117936%\" y=\"40\" height=\"20\" width=\"5.859392024310253%\">  <svg x=\"0\" y=\"0\" width=\"100%\" height=\"100%\">    <text x=\"50%\" y=\"9\" font-size=\"12px\" fill=\"rgb(255,255,255)\" dominant-baseline=\"middle\" text-anchor=\"middle\">doesn</text>  </svg></svg><line x1=\"66.3554210246105%\" x2=\"71.32081223117936%\" y1=\"60\" y2=\"60\" id=\"_fb_pscmkaaluhjpgnjcbrdf_ind_20\" style=\"stroke:rgb(255.0, 0.0, 81.08083606031792);stroke-width:2; opacity: 0\"/><text x=\"68.83811662789492%\" y=\"71\" font-size=\"12px\" id=\"_fs_pscmkaaluhjpgnjcbrdf_ind_20\" fill=\"rgb(255.0, 0.0, 81.08083606031792)\" style=\"opacity: 0\" dominant-baseline=\"middle\" text-anchor=\"middle\">0.059</text><svg x=\"66.3554210246105%\" y=\"40\" height=\"20\" width=\"4.965391206568867%\">  <svg x=\"0\" y=\"0\" width=\"100%\" height=\"100%\">    <text x=\"50%\" y=\"9\" font-size=\"12px\" fill=\"rgb(255,255,255)\" dominant-baseline=\"middle\" text-anchor=\"middle\">t</text>  </svg></svg><line x1=\"62.11271169459463%\" x2=\"66.3554210246105%\" y1=\"60\" y2=\"60\" id=\"_fb_pscmkaaluhjpgnjcbrdf_ind_12\" style=\"stroke:rgb(255.0, 0.0, 81.08083606031792);stroke-width:2; opacity: 0\"/><text x=\"64.23406635960256%\" y=\"71\" font-size=\"12px\" id=\"_fs_pscmkaaluhjpgnjcbrdf_ind_12\" fill=\"rgb(255.0, 0.0, 81.08083606031792)\" style=\"opacity: 0\" dominant-baseline=\"middle\" text-anchor=\"middle\">0.05</text><svg x=\"62.11271169459463%\" y=\"40\" height=\"20\" width=\"4.242709330015863%\">  <svg x=\"0\" y=\"0\" width=\"100%\" height=\"100%\">    <text x=\"50%\" y=\"9\" font-size=\"12px\" fill=\"rgb(255,255,255)\" dominant-baseline=\"middle\" text-anchor=\"middle\">S</text>  </svg></svg><line x1=\"60.34684404029546%\" x2=\"62.11271169459463%\" y1=\"60\" y2=\"60\" id=\"_fb_pscmkaaluhjpgnjcbrdf_ind_19\" style=\"stroke:rgb(255.0, 0.0, 81.08083606031792);stroke-width:2; opacity: 0\"/><text x=\"61.229777867445044%\" y=\"71\" font-size=\"12px\" id=\"_fs_pscmkaaluhjpgnjcbrdf_ind_19\" fill=\"rgb(255.0, 0.0, 81.08083606031792)\" style=\"opacity: 0\" dominant-baseline=\"middle\" text-anchor=\"middle\">0.021</text><svg x=\"60.34684404029546%\" y=\"40\" height=\"20\" width=\"1.7658676542991714%\">  <svg x=\"0\" y=\"0\" width=\"100%\" height=\"100%\">    <text x=\"50%\" y=\"9\" font-size=\"12px\" fill=\"rgb(255,255,255)\" dominant-baseline=\"middle\" text-anchor=\"middle\">'</text>  </svg></svg><line x1=\"58.601070519723635%\" x2=\"60.34684404029546%\" y1=\"60\" y2=\"60\" id=\"_fb_pscmkaaluhjpgnjcbrdf_ind_21\" style=\"stroke:rgb(255.0, 0.0, 81.08083606031792);stroke-width:2; opacity: 0\"/><text x=\"59.47395728000954%\" y=\"71\" font-size=\"12px\" id=\"_fs_pscmkaaluhjpgnjcbrdf_ind_21\" fill=\"rgb(255.0, 0.0, 81.08083606031792)\" style=\"opacity: 0\" dominant-baseline=\"middle\" text-anchor=\"middle\">0.021</text><svg x=\"58.601070519723635%\" y=\"40\" height=\"20\" width=\"1.7457735205718237%\">  <svg x=\"0\" y=\"0\" width=\"100%\" height=\"100%\">    <text x=\"50%\" y=\"9\" font-size=\"12px\" fill=\"rgb(255,255,255)\" dominant-baseline=\"middle\" text-anchor=\"middle\">make much</text>  </svg></svg><line x1=\"56.89356388686489%\" x2=\"58.601070519723635%\" y1=\"60\" y2=\"60\" id=\"_fb_pscmkaaluhjpgnjcbrdf_ind_9\" style=\"stroke:rgb(255.0, 0.0, 81.08083606031792);stroke-width:2; opacity: 0\"/><text x=\"57.74731720329426%\" y=\"71\" font-size=\"12px\" id=\"_fs_pscmkaaluhjpgnjcbrdf_ind_9\" fill=\"rgb(255.0, 0.0, 81.08083606031792)\" style=\"opacity: 0\" dominant-baseline=\"middle\" text-anchor=\"middle\">0.02</text><svg x=\"56.89356388686489%\" y=\"40\" height=\"20\" width=\"1.7075066328587454%\">  <svg x=\"0\" y=\"0\" width=\"100%\" height=\"100%\">    <text x=\"50%\" y=\"9\" font-size=\"12px\" fill=\"rgb(255,255,255)\" dominant-baseline=\"middle\" text-anchor=\"middle\">handy</text>  </svg></svg><line x1=\"55.41004050255383%\" x2=\"56.89356388686489%\" y1=\"60\" y2=\"60\" id=\"_fb_pscmkaaluhjpgnjcbrdf_ind_24\" style=\"stroke:rgb(255.0, 0.0, 81.08083606031792);stroke-width:2; opacity: 0\"/><text x=\"56.15180219470936%\" y=\"71\" font-size=\"12px\" id=\"_fs_pscmkaaluhjpgnjcbrdf_ind_24\" fill=\"rgb(255.0, 0.0, 81.08083606031792)\" style=\"opacity: 0\" dominant-baseline=\"middle\" text-anchor=\"middle\">0.017</text><svg x=\"55.41004050255383%\" y=\"40\" height=\"20\" width=\"1.483523384311063%\">  <svg x=\"0\" y=\"0\" width=\"100%\" height=\"100%\">    <text x=\"50%\" y=\"9\" font-size=\"12px\" fill=\"rgb(255,255,255)\" dominant-baseline=\"middle\" text-anchor=\"middle\">set-up</text>  </svg></svg><line x1=\"54.23962030064498%\" x2=\"55.41004050255383%\" y1=\"60\" y2=\"60\" id=\"_fb_pscmkaaluhjpgnjcbrdf_ind_10\" style=\"stroke:rgb(255.0, 0.0, 81.08083606031792);stroke-width:2; opacity: 0\"/><text x=\"54.8248304015994%\" y=\"71\" font-size=\"12px\" id=\"_fs_pscmkaaluhjpgnjcbrdf_ind_10\" fill=\"rgb(255.0, 0.0, 81.08083606031792)\" style=\"opacity: 0\" dominant-baseline=\"middle\" text-anchor=\"middle\">0.014</text><svg x=\"54.23962030064498%\" y=\"40\" height=\"20\" width=\"1.170420201908847%\">  <svg x=\"0\" y=\"0\" width=\"100%\" height=\"100%\">    <text x=\"50%\" y=\"9\" font-size=\"12px\" fill=\"rgb(255,255,255)\" dominant-baseline=\"middle\" text-anchor=\"middle\">man</text>  </svg></svg><line x1=\"53.19588033795668%\" x2=\"54.23962030064498%\" y1=\"60\" y2=\"60\" id=\"_fb_pscmkaaluhjpgnjcbrdf_ind_11\" style=\"stroke:rgb(255.0, 0.0, 81.08083606031792);stroke-width:2; opacity: 0\"/><text x=\"53.71775031930083%\" y=\"71\" font-size=\"12px\" id=\"_fs_pscmkaaluhjpgnjcbrdf_ind_11\" fill=\"rgb(255.0, 0.0, 81.08083606031792)\" style=\"opacity: 0\" dominant-baseline=\"middle\" text-anchor=\"middle\">0.012</text><svg x=\"53.19588033795668%\" y=\"40\" height=\"20\" width=\"1.0437399626882993%\">  <svg x=\"0\" y=\"0\" width=\"100%\" height=\"100%\">    <text x=\"50%\" y=\"9\" font-size=\"12px\" fill=\"rgb(255,255,255)\" dominant-baseline=\"middle\" text-anchor=\"middle\">.</text>  </svg></svg><line x1=\"52.16746885798777%\" x2=\"53.19588033795668%\" y1=\"60\" y2=\"60\" id=\"_fb_pscmkaaluhjpgnjcbrdf_ind_4\" style=\"stroke:rgb(255.0, 0.0, 81.08083606031792);stroke-width:2; opacity: 0\"/><text x=\"52.681674597972226%\" y=\"71\" font-size=\"12px\" id=\"_fs_pscmkaaluhjpgnjcbrdf_ind_4\" fill=\"rgb(255.0, 0.0, 81.08083606031792)\" style=\"opacity: 0\" dominant-baseline=\"middle\" text-anchor=\"middle\">0.012</text><svg x=\"52.16746885798777%\" y=\"40\" height=\"20\" width=\"1.0284114799689092%\">  <svg x=\"0\" y=\"0\" width=\"100%\" height=\"100%\">    <text x=\"50%\" y=\"9\" font-size=\"12px\" fill=\"rgb(255,255,255)\" dominant-baseline=\"middle\" text-anchor=\"middle\">ps</text>  </svg></svg><line x1=\"51.144727879983186%\" x2=\"52.16746885798777%\" y1=\"60\" y2=\"60\" id=\"_fb_pscmkaaluhjpgnjcbrdf_ind_25\" style=\"stroke:rgb(255.0, 0.0, 81.08083606031792);stroke-width:2; opacity: 0\"/><text x=\"51.65609836898548%\" y=\"71\" font-size=\"12px\" id=\"_fs_pscmkaaluhjpgnjcbrdf_ind_25\" fill=\"rgb(255.0, 0.0, 81.08083606031792)\" style=\"opacity: 0\" dominant-baseline=\"middle\" text-anchor=\"middle\">0.012</text><svg x=\"51.144727879983186%\" y=\"40\" height=\"20\" width=\"1.0227409780045846%\">  <svg x=\"0\" y=\"0\" width=\"100%\" height=\"100%\">    <text x=\"50%\" y=\"9\" font-size=\"12px\" fill=\"rgb(255,255,255)\" dominant-baseline=\"middle\" text-anchor=\"middle\">.</text>  </svg></svg><line x1=\"50.28255755283405%\" x2=\"51.144727879983186%\" y1=\"60\" y2=\"60\" id=\"_fb_pscmkaaluhjpgnjcbrdf_ind_22\" style=\"stroke:rgb(255.0, 0.0, 81.08083606031792);stroke-width:2; opacity: 0\"/><text x=\"50.713642716408614%\" y=\"71\" font-size=\"12px\" id=\"_fs_pscmkaaluhjpgnjcbrdf_ind_22\" fill=\"rgb(255.0, 0.0, 81.08083606031792)\" style=\"opacity: 0\" dominant-baseline=\"middle\" text-anchor=\"middle\">0.01</text><svg x=\"50.28255755283405%\" y=\"40\" height=\"20\" width=\"0.862170327149137%\">  <svg x=\"0\" y=\"0\" width=\"100%\" height=\"100%\">    <text x=\"50%\" y=\"9\" font-size=\"12px\" fill=\"rgb(255,255,255)\" dominant-baseline=\"middle\" text-anchor=\"middle\">of its</text>  </svg></svg><line x1=\"49.4795138264732%\" x2=\"50.28255755283405%\" y1=\"60\" y2=\"60\" id=\"_fb_pscmkaaluhjpgnjcbrdf_ind_1\" style=\"stroke:rgb(255.0, 0.0, 81.08083606031792);stroke-width:2; opacity: 0\"/><text x=\"49.88103568965363%\" y=\"71\" font-size=\"12px\" id=\"_fs_pscmkaaluhjpgnjcbrdf_ind_1\" fill=\"rgb(255.0, 0.0, 81.08083606031792)\" style=\"opacity: 0\" dominant-baseline=\"middle\" text-anchor=\"middle\">0.009</text><svg x=\"49.4795138264732%\" y=\"40\" height=\"20\" width=\"0.8030437263608476%\">  <svg x=\"0\" y=\"0\" width=\"100%\" height=\"100%\">    <text x=\"50%\" y=\"9\" font-size=\"12px\" fill=\"rgb(255,255,255)\" dominant-baseline=\"middle\" text-anchor=\"middle\">Widow</text>  </svg></svg><line x1=\"48.75672804887895%\" x2=\"49.4795138264732%\" y1=\"60\" y2=\"60\" id=\"_fb_pscmkaaluhjpgnjcbrdf_ind_5\" style=\"stroke:rgb(255.0, 0.0, 81.08083606031792);stroke-width:2; opacity: 0\"/><text x=\"49.118120937676075%\" y=\"71\" font-size=\"12px\" id=\"_fs_pscmkaaluhjpgnjcbrdf_ind_5\" fill=\"rgb(255.0, 0.0, 81.08083606031792)\" style=\"opacity: 0\" dominant-baseline=\"middle\" text-anchor=\"middle\">0.009</text><svg x=\"48.75672804887895%\" y=\"40\" height=\"20\" width=\"0.7227857775942539%\">  <svg x=\"0\" y=\"0\" width=\"100%\" height=\"100%\">    <text x=\"50%\" y=\"9\" font-size=\"12px\" fill=\"rgb(255,255,255)\" dominant-baseline=\"middle\" text-anchor=\"middle\">ych</text>  </svg></svg><line x1=\"48.14058097865382%\" x2=\"48.75672804887895%\" y1=\"60\" y2=\"60\" id=\"_fb_pscmkaaluhjpgnjcbrdf_ind_8\" style=\"stroke:rgb(255.0, 0.0, 81.08083606031792);stroke-width:2; opacity: 0\"/><text x=\"48.448654513766385%\" y=\"71\" font-size=\"12px\" id=\"_fs_pscmkaaluhjpgnjcbrdf_ind_8\" fill=\"rgb(255.0, 0.0, 81.08083606031792)\" style=\"opacity: 0\" dominant-baseline=\"middle\" text-anchor=\"middle\">0.007</text><svg x=\"48.14058097865382%\" y=\"40\" height=\"20\" width=\"0.616147070225125%\">  <svg x=\"0\" y=\"0\" width=\"100%\" height=\"100%\">    <text x=\"50%\" y=\"9\" font-size=\"12px\" fill=\"rgb(255,255,255)\" dominant-baseline=\"middle\" text-anchor=\"middle\">as a</text>  </svg></svg><line x1=\"47.58744985047409%\" x2=\"48.14058097865382%\" y1=\"60\" y2=\"60\" id=\"_fb_pscmkaaluhjpgnjcbrdf_ind_17\" style=\"stroke:rgb(255.0, 0.0, 81.08083606031792);stroke-width:2; opacity: 0\"/><text x=\"47.86401541456395%\" y=\"71\" font-size=\"12px\" id=\"_fs_pscmkaaluhjpgnjcbrdf_ind_17\" fill=\"rgb(255.0, 0.0, 81.08083606031792)\" style=\"opacity: 0\" dominant-baseline=\"middle\" text-anchor=\"middle\">0.007</text><svg x=\"47.58744985047409%\" y=\"40\" height=\"20\" width=\"0.5531311281797358%\">  <svg x=\"0\" y=\"0\" width=\"100%\" height=\"100%\">    <text x=\"50%\" y=\"9\" font-size=\"12px\" fill=\"rgb(255,255,255)\" dominant-baseline=\"middle\" text-anchor=\"middle\">thriller which</text>  </svg></svg><line x1=\"47.091550076505634%\" x2=\"47.58744985047409%\" y1=\"60\" y2=\"60\" id=\"_fb_pscmkaaluhjpgnjcbrdf_ind_2\" style=\"stroke:rgb(255.0, 0.0, 81.08083606031792);stroke-width:2; opacity: 0\"/><text x=\"47.33949996348986%\" y=\"71\" font-size=\"12px\" id=\"_fs_pscmkaaluhjpgnjcbrdf_ind_2\" fill=\"rgb(255.0, 0.0, 81.08083606031792)\" style=\"opacity: 0\" dominant-baseline=\"middle\" text-anchor=\"middle\">0.006</text><svg x=\"47.091550076505634%\" y=\"40\" height=\"20\" width=\"0.4958997739684534%\">  <svg x=\"0\" y=\"0\" width=\"100%\" height=\"100%\">    <text x=\"50%\" y=\"9\" font-size=\"12px\" fill=\"rgb(255,255,255)\" dominant-baseline=\"middle\" text-anchor=\"middle\">hires</text>  </svg></svg><line x1=\"46.708429514073224%\" x2=\"47.091550076505634%\" y1=\"60\" y2=\"60\" id=\"_fb_pscmkaaluhjpgnjcbrdf_ind_6\" style=\"stroke:rgb(255.0, 0.0, 81.08083606031792);stroke-width:2; opacity: 0\"/><text x=\"46.89998979528943%\" y=\"71\" font-size=\"12px\" id=\"_fs_pscmkaaluhjpgnjcbrdf_ind_6\" fill=\"rgb(255.0, 0.0, 81.08083606031792)\" style=\"opacity: 0\" dominant-baseline=\"middle\" text-anchor=\"middle\">0.005</text><svg x=\"46.708429514073224%\" y=\"40\" height=\"20\" width=\"0.3831205624324099%\">  <svg x=\"0\" y=\"0\" width=\"100%\" height=\"100%\">    <text x=\"50%\" y=\"9\" font-size=\"12px\" fill=\"rgb(255,255,255)\" dominant-baseline=\"middle\" text-anchor=\"middle\">op</text>  </svg></svg><line x1=\"46.38434935640951%\" x2=\"46.708429514073224%\" y1=\"60\" y2=\"60\" id=\"_fb_pscmkaaluhjpgnjcbrdf_ind_15\" style=\"stroke:rgb(255.0, 0.0, 81.08083606031792);stroke-width:2; opacity: 0\"/><text x=\"46.546389435241366%\" y=\"71\" font-size=\"12px\" id=\"_fs_pscmkaaluhjpgnjcbrdf_ind_15\" fill=\"rgb(255.0, 0.0, 81.08083606031792)\" style=\"opacity: 0\" dominant-baseline=\"middle\" text-anchor=\"middle\">0.004</text><svg x=\"46.38434935640951%\" y=\"40\" height=\"20\" width=\"0.32408015766371534%\">  <svg x=\"0\" y=\"0\" width=\"100%\" height=\"100%\">    <text x=\"50%\" y=\"9\" font-size=\"12px\" fill=\"rgb(255,255,255)\" dominant-baseline=\"middle\" text-anchor=\"middle\">film</text>  </svg></svg><line x1=\"46.069092418323656%\" x2=\"46.38434935640951%\" y1=\"60\" y2=\"60\" id=\"_fb_pscmkaaluhjpgnjcbrdf_ind_16\" style=\"stroke:rgb(255.0, 0.0, 81.08083606031792);stroke-width:2; opacity: 0\"/><text x=\"46.22672088736658%\" y=\"71\" font-size=\"12px\" id=\"_fs_pscmkaaluhjpgnjcbrdf_ind_16\" fill=\"rgb(255.0, 0.0, 81.08083606031792)\" style=\"opacity: 0\" dominant-baseline=\"middle\" text-anchor=\"middle\">0.004</text><svg x=\"46.069092418323656%\" y=\"40\" height=\"20\" width=\"0.3152569380858523%\">  <svg x=\"0\" y=\"0\" width=\"100%\" height=\"100%\">    <text x=\"50%\" y=\"9\" font-size=\"12px\" fill=\"rgb(255,255,255)\" dominant-baseline=\"middle\" text-anchor=\"middle\">noir</text>  </svg></svg><line x1=\"45.76920938018666%\" x2=\"46.069092418323656%\" y1=\"60\" y2=\"60\" id=\"_fb_pscmkaaluhjpgnjcbrdf_ind_0\" style=\"stroke:rgb(255.0, 0.0, 81.08083606031792);stroke-width:2; opacity: 0\"/><text x=\"45.91915089925516%\" y=\"71\" font-size=\"12px\" id=\"_fs_pscmkaaluhjpgnjcbrdf_ind_0\" fill=\"rgb(255.0, 0.0, 81.08083606031792)\" style=\"opacity: 0\" dominant-baseline=\"middle\" text-anchor=\"middle\">0.004</text><svg x=\"45.76920938018666%\" y=\"40\" height=\"20\" width=\"0.299883038136997%\">  <svg x=\"0\" y=\"0\" width=\"100%\" height=\"100%\">    <text x=\"50%\" y=\"9\" font-size=\"12px\" fill=\"rgb(255,255,255)\" dominant-baseline=\"middle\" text-anchor=\"middle\"></text>  </svg></svg><line x1=\"45.48147242114373%\" x2=\"45.76920938018666%\" y1=\"60\" y2=\"60\" id=\"_fb_pscmkaaluhjpgnjcbrdf_ind_23\" style=\"stroke:rgb(255.0, 0.0, 81.08083606031792);stroke-width:2; opacity: 0\"/><text x=\"45.62534090066519%\" y=\"71\" font-size=\"12px\" id=\"_fs_pscmkaaluhjpgnjcbrdf_ind_23\" fill=\"rgb(255.0, 0.0, 81.08083606031792)\" style=\"opacity: 0\" dominant-baseline=\"middle\" text-anchor=\"middle\">0.003</text><svg x=\"45.48147242114373%\" y=\"40\" height=\"20\" width=\"0.28773695904293106%\">  <svg x=\"0\" y=\"0\" width=\"100%\" height=\"100%\">    <text x=\"50%\" y=\"9\" font-size=\"12px\" fill=\"rgb(255,255,255)\" dominant-baseline=\"middle\" text-anchor=\"middle\">tension promising</text>  </svg></svg><line x1=\"45.2253010879376%\" x2=\"45.48147242114373%\" y1=\"60\" y2=\"60\" id=\"_fb_pscmkaaluhjpgnjcbrdf_ind_7\" style=\"stroke:rgb(255.0, 0.0, 81.08083606031792);stroke-width:2; opacity: 0\"/><text x=\"45.353386754540665%\" y=\"71\" font-size=\"12px\" id=\"_fs_pscmkaaluhjpgnjcbrdf_ind_7\" fill=\"rgb(255.0, 0.0, 81.08083606031792)\" style=\"opacity: 0\" dominant-baseline=\"middle\" text-anchor=\"middle\">0.003</text><svg x=\"45.2253010879376%\" y=\"40\" height=\"20\" width=\"0.25617133320612595%\">  <svg x=\"0\" y=\"0\" width=\"100%\" height=\"100%\">    <text x=\"50%\" y=\"9\" font-size=\"12px\" fill=\"rgb(255,255,255)\" dominant-baseline=\"middle\" text-anchor=\"middle\">ath</text>  </svg></svg><g transform=\"translate(0,0)\">  <svg x=\"83.42836849436863%\" y=\"40\" height=\"18\" overflow=\"visible\" width=\"30\">    <path d=\"M 0 -9 l 6 18 L 0 25\" fill=\"none\" style=\"stroke:rgb(255.0, 0.0, 81.08083606031792);stroke-width:2\" />  </svg></g><g transform=\"translate(2,0)\">  <svg x=\"83.42836849436863%\" y=\"40\" height=\"18\" overflow=\"visible\" width=\"30\">    <path d=\"M 0 -9 l 6 18 L 0 25\" fill=\"none\" style=\"stroke:rgb(255.0, 0.0, 81.08083606031792);stroke-width:2\" />  </svg></g><g transform=\"translate(4,0)\">  <svg x=\"83.42836849436863%\" y=\"40\" height=\"18\" overflow=\"visible\" width=\"30\">    <path d=\"M 0 -9 l 6 18 L 0 25\" fill=\"none\" style=\"stroke:rgb(255.0, 0.0, 81.08083606031792);stroke-width:2\" />  </svg></g><g transform=\"translate(6,0)\">  <svg x=\"83.42836849436863%\" y=\"40\" height=\"18\" overflow=\"visible\" width=\"30\">    <path d=\"M 0 -9 l 6 18 L 0 25\" fill=\"none\" style=\"stroke:rgb(255.0, 0.0, 81.08083606031792);stroke-width:2\" />  </svg></g><g transform=\"translate(-8,0)\">  <svg x=\"83.42836849436863%\" y=\"40\" height=\"18\" overflow=\"visible\" width=\"30\">    <path d=\"M 0 -9 l 6 18 L 0 25\" fill=\"none\" style=\"stroke:rgb(255.0, 0.0, 81.08083606031792);stroke-width:2\" />  </svg></g><g transform=\"translate(-6,0)\">  <svg x=\"83.42836849436863%\" y=\"40\" height=\"18\" overflow=\"visible\" width=\"30\">    <path d=\"M 0 -9 l 6 18 L 0 25\" fill=\"none\" style=\"stroke:rgb(255.0, 0.0, 81.08083606031792);stroke-width:2\" />  </svg></g><g transform=\"translate(-4,0)\">  <svg x=\"83.42836849436863%\" y=\"40\" height=\"18\" overflow=\"visible\" width=\"30\">    <path d=\"M 0 -9 l 6 18 L 0 25\" fill=\"none\" style=\"stroke:rgb(255.0, 0.0, 81.08083606031792);stroke-width:2\" />  </svg></g><g transform=\"translate(-2,0)\">  <svg x=\"83.42836849436863%\" y=\"40\" height=\"18\" overflow=\"visible\" width=\"30\">    <path d=\"M 0 -9 l 6 18 L 0 25\" fill=\"none\" style=\"stroke:rgb(255.0, 0.0, 81.08083606031792);stroke-width:2\" />  </svg></g><g transform=\"translate(0,0)\">  <svg x=\"77.18020425548961%\" y=\"40\" height=\"18\" overflow=\"visible\" width=\"30\">    <path d=\"M 0 -9 l 6 18 L 0 25\" fill=\"none\" style=\"stroke:rgb(255.0, 0.0, 81.08083606031792);stroke-width:2\" />  </svg></g><g transform=\"translate(2,0)\">  <svg x=\"77.18020425548961%\" y=\"40\" height=\"18\" overflow=\"visible\" width=\"30\">    <path d=\"M 0 -9 l 6 18 L 0 25\" fill=\"none\" style=\"stroke:rgb(255.0, 0.0, 81.08083606031792);stroke-width:2\" />  </svg></g><g transform=\"translate(4,0)\">  <svg x=\"77.18020425548961%\" y=\"40\" height=\"18\" overflow=\"visible\" width=\"30\">    <path d=\"M 0 -9 l 6 18 L 0 25\" fill=\"none\" style=\"stroke:rgb(255.0, 0.0, 81.08083606031792);stroke-width:2\" />  </svg></g><g transform=\"translate(6,0)\">  <svg x=\"77.18020425548961%\" y=\"40\" height=\"18\" overflow=\"visible\" width=\"30\">    <path d=\"M 0 -9 l 6 18 L 0 25\" fill=\"none\" style=\"stroke:rgb(255.0, 0.0, 81.08083606031792);stroke-width:2\" />  </svg></g><g transform=\"translate(-8,0)\">  <svg x=\"77.18020425548961%\" y=\"40\" height=\"18\" overflow=\"visible\" width=\"30\">    <path d=\"M 0 -9 l 6 18 L 0 25\" fill=\"none\" style=\"stroke:rgb(255.0, 0.0, 81.08083606031792);stroke-width:2\" />  </svg></g><g transform=\"translate(-6,0)\">  <svg x=\"77.18020425548961%\" y=\"40\" height=\"18\" overflow=\"visible\" width=\"30\">    <path d=\"M 0 -9 l 6 18 L 0 25\" fill=\"none\" style=\"stroke:rgb(255.0, 0.0, 81.08083606031792);stroke-width:2\" />  </svg></g><g transform=\"translate(-4,0)\">  <svg x=\"77.18020425548961%\" y=\"40\" height=\"18\" overflow=\"visible\" width=\"30\">    <path d=\"M 0 -9 l 6 18 L 0 25\" fill=\"none\" style=\"stroke:rgb(255.0, 0.0, 81.08083606031792);stroke-width:2\" />  </svg></g><g transform=\"translate(-2,0)\">  <svg x=\"77.18020425548961%\" y=\"40\" height=\"18\" overflow=\"visible\" width=\"30\">    <path d=\"M 0 -9 l 6 18 L 0 25\" fill=\"none\" style=\"stroke:rgb(255.0, 0.0, 81.08083606031792);stroke-width:2\" />  </svg></g><g transform=\"translate(0,0)\">  <svg x=\"71.32081223117936%\" y=\"40\" height=\"18\" overflow=\"visible\" width=\"30\">    <path d=\"M 0 -9 l 6 18 L 0 25\" fill=\"none\" style=\"stroke:rgb(255.0, 0.0, 81.08083606031792);stroke-width:2\" />  </svg></g><g transform=\"translate(2,0)\">  <svg x=\"71.32081223117936%\" y=\"40\" height=\"18\" overflow=\"visible\" width=\"30\">    <path d=\"M 0 -9 l 6 18 L 0 25\" fill=\"none\" style=\"stroke:rgb(255.0, 0.0, 81.08083606031792);stroke-width:2\" />  </svg></g><g transform=\"translate(4,0)\">  <svg x=\"71.32081223117936%\" y=\"40\" height=\"18\" overflow=\"visible\" width=\"30\">    <path d=\"M 0 -9 l 6 18 L 0 25\" fill=\"none\" style=\"stroke:rgb(255.0, 0.0, 81.08083606031792);stroke-width:2\" />  </svg></g><g transform=\"translate(6,0)\">  <svg x=\"71.32081223117936%\" y=\"40\" height=\"18\" overflow=\"visible\" width=\"30\">    <path d=\"M 0 -9 l 6 18 L 0 25\" fill=\"none\" style=\"stroke:rgb(255.0, 0.0, 81.08083606031792);stroke-width:2\" />  </svg></g><g transform=\"translate(-8,0)\">  <svg x=\"71.32081223117936%\" y=\"40\" height=\"18\" overflow=\"visible\" width=\"30\">    <path d=\"M 0 -9 l 6 18 L 0 25\" fill=\"none\" style=\"stroke:rgb(255.0, 0.0, 81.08083606031792);stroke-width:2\" />  </svg></g><g transform=\"translate(-6,0)\">  <svg x=\"71.32081223117936%\" y=\"40\" height=\"18\" overflow=\"visible\" width=\"30\">    <path d=\"M 0 -9 l 6 18 L 0 25\" fill=\"none\" style=\"stroke:rgb(255.0, 0.0, 81.08083606031792);stroke-width:2\" />  </svg></g><g transform=\"translate(-4,0)\">  <svg x=\"71.32081223117936%\" y=\"40\" height=\"18\" overflow=\"visible\" width=\"30\">    <path d=\"M 0 -9 l 6 18 L 0 25\" fill=\"none\" style=\"stroke:rgb(255.0, 0.0, 81.08083606031792);stroke-width:2\" />  </svg></g><g transform=\"translate(-2,0)\">  <svg x=\"71.32081223117936%\" y=\"40\" height=\"18\" overflow=\"visible\" width=\"30\">    <path d=\"M 0 -9 l 6 18 L 0 25\" fill=\"none\" style=\"stroke:rgb(255.0, 0.0, 81.08083606031792);stroke-width:2\" />  </svg></g><g transform=\"translate(0,0)\">  <svg x=\"66.3554210246105%\" y=\"40\" height=\"18\" overflow=\"visible\" width=\"30\">    <path d=\"M 0 -9 l 6 18 L 0 25\" fill=\"none\" style=\"stroke:rgb(255.0, 0.0, 81.08083606031792);stroke-width:2\" />  </svg></g><g transform=\"translate(2,0)\">  <svg x=\"66.3554210246105%\" y=\"40\" height=\"18\" overflow=\"visible\" width=\"30\">    <path d=\"M 0 -9 l 6 18 L 0 25\" fill=\"none\" style=\"stroke:rgb(255.0, 0.0, 81.08083606031792);stroke-width:2\" />  </svg></g><g transform=\"translate(4,0)\">  <svg x=\"66.3554210246105%\" y=\"40\" height=\"18\" overflow=\"visible\" width=\"30\">    <path d=\"M 0 -9 l 6 18 L 0 25\" fill=\"none\" style=\"stroke:rgb(255.0, 0.0, 81.08083606031792);stroke-width:2\" />  </svg></g><g transform=\"translate(6,0)\">  <svg x=\"66.3554210246105%\" y=\"40\" height=\"18\" overflow=\"visible\" width=\"30\">    <path d=\"M 0 -9 l 6 18 L 0 25\" fill=\"none\" style=\"stroke:rgb(255.0, 0.0, 81.08083606031792);stroke-width:2\" />  </svg></g><g transform=\"translate(-8,0)\">  <svg x=\"66.3554210246105%\" y=\"40\" height=\"18\" overflow=\"visible\" width=\"30\">    <path d=\"M 0 -9 l 6 18 L 0 25\" fill=\"none\" style=\"stroke:rgb(255.0, 0.0, 81.08083606031792);stroke-width:2\" />  </svg></g><g transform=\"translate(-6,0)\">  <svg x=\"66.3554210246105%\" y=\"40\" height=\"18\" overflow=\"visible\" width=\"30\">    <path d=\"M 0 -9 l 6 18 L 0 25\" fill=\"none\" style=\"stroke:rgb(255.0, 0.0, 81.08083606031792);stroke-width:2\" />  </svg></g><g transform=\"translate(-4,0)\">  <svg x=\"66.3554210246105%\" y=\"40\" height=\"18\" overflow=\"visible\" width=\"30\">    <path d=\"M 0 -9 l 6 18 L 0 25\" fill=\"none\" style=\"stroke:rgb(255.0, 0.0, 81.08083606031792);stroke-width:2\" />  </svg></g><g transform=\"translate(-2,0)\">  <svg x=\"66.3554210246105%\" y=\"40\" height=\"18\" overflow=\"visible\" width=\"30\">    <path d=\"M 0 -9 l 6 18 L 0 25\" fill=\"none\" style=\"stroke:rgb(255.0, 0.0, 81.08083606031792);stroke-width:2\" />  </svg></g><g transform=\"translate(0,0)\">  <svg x=\"62.11271169459463%\" y=\"40\" height=\"18\" overflow=\"visible\" width=\"30\">    <path d=\"M 0 -9 l 6 18 L 0 25\" fill=\"none\" style=\"stroke:rgb(255.0, 0.0, 81.08083606031792);stroke-width:2\" />  </svg></g><g transform=\"translate(2,0)\">  <svg x=\"62.11271169459463%\" y=\"40\" height=\"18\" overflow=\"visible\" width=\"30\">    <path d=\"M 0 -9 l 6 18 L 0 25\" fill=\"none\" style=\"stroke:rgb(255.0, 0.0, 81.08083606031792);stroke-width:2\" />  </svg></g><g transform=\"translate(4,0)\">  <svg x=\"62.11271169459463%\" y=\"40\" height=\"18\" overflow=\"visible\" width=\"30\">    <path d=\"M 0 -9 l 6 18 L 0 25\" fill=\"none\" style=\"stroke:rgb(255.0, 0.0, 81.08083606031792);stroke-width:2\" />  </svg></g><g transform=\"translate(6,0)\">  <svg x=\"62.11271169459463%\" y=\"40\" height=\"18\" overflow=\"visible\" width=\"30\">    <path d=\"M 0 -9 l 6 18 L 0 25\" fill=\"none\" style=\"stroke:rgb(255.0, 0.0, 81.08083606031792);stroke-width:2\" />  </svg></g><g transform=\"translate(-8,0)\">  <svg x=\"62.11271169459463%\" y=\"40\" height=\"18\" overflow=\"visible\" width=\"30\">    <path d=\"M 0 -9 l 6 18 L 0 25\" fill=\"none\" style=\"stroke:rgb(255.0, 0.0, 81.08083606031792);stroke-width:2\" />  </svg></g><g transform=\"translate(-6,0)\">  <svg x=\"62.11271169459463%\" y=\"40\" height=\"18\" overflow=\"visible\" width=\"30\">    <path d=\"M 0 -9 l 6 18 L 0 25\" fill=\"none\" style=\"stroke:rgb(255.0, 0.0, 81.08083606031792);stroke-width:2\" />  </svg></g><g transform=\"translate(-4,0)\">  <svg x=\"62.11271169459463%\" y=\"40\" height=\"18\" overflow=\"visible\" width=\"30\">    <path d=\"M 0 -9 l 6 18 L 0 25\" fill=\"none\" style=\"stroke:rgb(255.0, 0.0, 81.08083606031792);stroke-width:2\" />  </svg></g><g transform=\"translate(-2,0)\">  <svg x=\"62.11271169459463%\" y=\"40\" height=\"18\" overflow=\"visible\" width=\"30\">    <path d=\"M 0 -9 l 6 18 L 0 25\" fill=\"none\" style=\"stroke:rgb(255.0, 0.0, 81.08083606031792);stroke-width:2\" />  </svg></g><g transform=\"translate(0,0)\">  <svg x=\"60.34684404029546%\" y=\"40\" height=\"18\" overflow=\"visible\" width=\"30\">    <path d=\"M 0 -9 l 6 18 L 0 25\" fill=\"none\" style=\"stroke:rgb(255.0, 0.0, 81.08083606031792);stroke-width:2\" />  </svg></g><g transform=\"translate(2,0)\">  <svg x=\"60.34684404029546%\" y=\"40\" height=\"18\" overflow=\"visible\" width=\"30\">    <path d=\"M 0 -9 l 6 18 L 0 25\" fill=\"none\" style=\"stroke:rgb(255.0, 0.0, 81.08083606031792);stroke-width:2\" />  </svg></g><g transform=\"translate(4,0)\">  <svg x=\"60.34684404029546%\" y=\"40\" height=\"18\" overflow=\"visible\" width=\"30\">    <path d=\"M 0 -9 l 6 18 L 0 25\" fill=\"none\" style=\"stroke:rgb(255.0, 0.0, 81.08083606031792);stroke-width:2\" />  </svg></g><g transform=\"translate(6,0)\">  <svg x=\"60.34684404029546%\" y=\"40\" height=\"18\" overflow=\"visible\" width=\"30\">    <path d=\"M 0 -9 l 6 18 L 0 25\" fill=\"none\" style=\"stroke:rgb(255.0, 0.0, 81.08083606031792);stroke-width:2\" />  </svg></g><g transform=\"translate(-8,0)\">  <svg x=\"60.34684404029546%\" y=\"40\" height=\"18\" overflow=\"visible\" width=\"30\">    <path d=\"M 0 -9 l 6 18 L 0 25\" fill=\"none\" style=\"stroke:rgb(255.0, 0.0, 81.08083606031792);stroke-width:2\" />  </svg></g><g transform=\"translate(-6,0)\">  <svg x=\"60.34684404029546%\" y=\"40\" height=\"18\" overflow=\"visible\" width=\"30\">    <path d=\"M 0 -9 l 6 18 L 0 25\" fill=\"none\" style=\"stroke:rgb(255.0, 0.0, 81.08083606031792);stroke-width:2\" />  </svg></g><g transform=\"translate(-4,0)\">  <svg x=\"60.34684404029546%\" y=\"40\" height=\"18\" overflow=\"visible\" width=\"30\">    <path d=\"M 0 -9 l 6 18 L 0 25\" fill=\"none\" style=\"stroke:rgb(255.0, 0.0, 81.08083606031792);stroke-width:2\" />  </svg></g><g transform=\"translate(-2,0)\">  <svg x=\"60.34684404029546%\" y=\"40\" height=\"18\" overflow=\"visible\" width=\"30\">    <path d=\"M 0 -9 l 6 18 L 0 25\" fill=\"none\" style=\"stroke:rgb(255.0, 0.0, 81.08083606031792);stroke-width:2\" />  </svg></g><g transform=\"translate(0,0)\">  <svg x=\"58.601070519723635%\" y=\"40\" height=\"18\" overflow=\"visible\" width=\"30\">    <path d=\"M 0 -9 l 6 18 L 0 25\" fill=\"none\" style=\"stroke:rgb(255.0, 0.0, 81.08083606031792);stroke-width:2\" />  </svg></g><g transform=\"translate(2,0)\">  <svg x=\"58.601070519723635%\" y=\"40\" height=\"18\" overflow=\"visible\" width=\"30\">    <path d=\"M 0 -9 l 6 18 L 0 25\" fill=\"none\" style=\"stroke:rgb(255.0, 0.0, 81.08083606031792);stroke-width:2\" />  </svg></g><g transform=\"translate(4,0)\">  <svg x=\"58.601070519723635%\" y=\"40\" height=\"18\" overflow=\"visible\" width=\"30\">    <path d=\"M 0 -9 l 6 18 L 0 25\" fill=\"none\" style=\"stroke:rgb(255.0, 0.0, 81.08083606031792);stroke-width:2\" />  </svg></g><g transform=\"translate(6,0)\">  <svg x=\"58.601070519723635%\" y=\"40\" height=\"18\" overflow=\"visible\" width=\"30\">    <path d=\"M 0 -9 l 6 18 L 0 25\" fill=\"none\" style=\"stroke:rgb(255.0, 0.0, 81.08083606031792);stroke-width:2\" />  </svg></g><g transform=\"translate(-8,0)\">  <svg x=\"58.601070519723635%\" y=\"40\" height=\"18\" overflow=\"visible\" width=\"30\">    <path d=\"M 0 -9 l 6 18 L 0 25\" fill=\"none\" style=\"stroke:rgb(255.0, 0.0, 81.08083606031792);stroke-width:2\" />  </svg></g><g transform=\"translate(-6,0)\">  <svg x=\"58.601070519723635%\" y=\"40\" height=\"18\" overflow=\"visible\" width=\"30\">    <path d=\"M 0 -9 l 6 18 L 0 25\" fill=\"none\" style=\"stroke:rgb(255.0, 0.0, 81.08083606031792);stroke-width:2\" />  </svg></g><g transform=\"translate(-4,0)\">  <svg x=\"58.601070519723635%\" y=\"40\" height=\"18\" overflow=\"visible\" width=\"30\">    <path d=\"M 0 -9 l 6 18 L 0 25\" fill=\"none\" style=\"stroke:rgb(255.0, 0.0, 81.08083606031792);stroke-width:2\" />  </svg></g><g transform=\"translate(-2,0)\">  <svg x=\"58.601070519723635%\" y=\"40\" height=\"18\" overflow=\"visible\" width=\"30\">    <path d=\"M 0 -9 l 6 18 L 0 25\" fill=\"none\" style=\"stroke:rgb(255.0, 0.0, 81.08083606031792);stroke-width:2\" />  </svg></g><g transform=\"translate(0,0)\">  <svg x=\"56.89356388686489%\" y=\"40\" height=\"18\" overflow=\"visible\" width=\"30\">    <path d=\"M 0 -9 l 6 18 L 0 25\" fill=\"none\" style=\"stroke:rgb(255.0, 0.0, 81.08083606031792);stroke-width:2\" />  </svg></g><g transform=\"translate(2,0)\">  <svg x=\"56.89356388686489%\" y=\"40\" height=\"18\" overflow=\"visible\" width=\"30\">    <path d=\"M 0 -9 l 6 18 L 0 25\" fill=\"none\" style=\"stroke:rgb(255.0, 0.0, 81.08083606031792);stroke-width:2\" />  </svg></g><g transform=\"translate(4,0)\">  <svg x=\"56.89356388686489%\" y=\"40\" height=\"18\" overflow=\"visible\" width=\"30\">    <path d=\"M 0 -9 l 6 18 L 0 25\" fill=\"none\" style=\"stroke:rgb(255.0, 0.0, 81.08083606031792);stroke-width:2\" />  </svg></g><g transform=\"translate(6,0)\">  <svg x=\"56.89356388686489%\" y=\"40\" height=\"18\" overflow=\"visible\" width=\"30\">    <path d=\"M 0 -9 l 6 18 L 0 25\" fill=\"none\" style=\"stroke:rgb(255.0, 0.0, 81.08083606031792);stroke-width:2\" />  </svg></g><g transform=\"translate(-8,0)\">  <svg x=\"56.89356388686489%\" y=\"40\" height=\"18\" overflow=\"visible\" width=\"30\">    <path d=\"M 0 -9 l 6 18 L 0 25\" fill=\"none\" style=\"stroke:rgb(255.0, 0.0, 81.08083606031792);stroke-width:2\" />  </svg></g><g transform=\"translate(-6,0)\">  <svg x=\"56.89356388686489%\" y=\"40\" height=\"18\" overflow=\"visible\" width=\"30\">    <path d=\"M 0 -9 l 6 18 L 0 25\" fill=\"none\" style=\"stroke:rgb(255.0, 0.0, 81.08083606031792);stroke-width:2\" />  </svg></g><g transform=\"translate(-4,0)\">  <svg x=\"56.89356388686489%\" y=\"40\" height=\"18\" overflow=\"visible\" width=\"30\">    <path d=\"M 0 -9 l 6 18 L 0 25\" fill=\"none\" style=\"stroke:rgb(255.0, 0.0, 81.08083606031792);stroke-width:2\" />  </svg></g><g transform=\"translate(-2,0)\">  <svg x=\"56.89356388686489%\" y=\"40\" height=\"18\" overflow=\"visible\" width=\"30\">    <path d=\"M 0 -9 l 6 18 L 0 25\" fill=\"none\" style=\"stroke:rgb(255.0, 0.0, 81.08083606031792);stroke-width:2\" />  </svg></g><g transform=\"translate(0,0)\">  <svg x=\"55.41004050255383%\" y=\"40\" height=\"18\" overflow=\"visible\" width=\"30\">    <path d=\"M 0 -9 l 6 18 L 0 25\" fill=\"none\" style=\"stroke:rgb(255.0, 0.0, 81.08083606031792);stroke-width:2\" />  </svg></g><g transform=\"translate(2,0)\">  <svg x=\"55.41004050255383%\" y=\"40\" height=\"18\" overflow=\"visible\" width=\"30\">    <path d=\"M 0 -9 l 6 18 L 0 25\" fill=\"none\" style=\"stroke:rgb(255.0, 0.0, 81.08083606031792);stroke-width:2\" />  </svg></g><g transform=\"translate(4,0)\">  <svg x=\"55.41004050255383%\" y=\"40\" height=\"18\" overflow=\"visible\" width=\"30\">    <path d=\"M 0 -9 l 6 18 L 0 25\" fill=\"none\" style=\"stroke:rgb(255.0, 0.0, 81.08083606031792);stroke-width:2\" />  </svg></g><g transform=\"translate(6,0)\">  <svg x=\"55.41004050255383%\" y=\"40\" height=\"18\" overflow=\"visible\" width=\"30\">    <path d=\"M 0 -9 l 6 18 L 0 25\" fill=\"none\" style=\"stroke:rgb(255.0, 0.0, 81.08083606031792);stroke-width:2\" />  </svg></g><g transform=\"translate(-8,0)\">  <svg x=\"55.41004050255383%\" y=\"40\" height=\"18\" overflow=\"visible\" width=\"30\">    <path d=\"M 0 -9 l 6 18 L 0 25\" fill=\"none\" style=\"stroke:rgb(255.0, 0.0, 81.08083606031792);stroke-width:2\" />  </svg></g><g transform=\"translate(-6,0)\">  <svg x=\"55.41004050255383%\" y=\"40\" height=\"18\" overflow=\"visible\" width=\"30\">    <path d=\"M 0 -9 l 6 18 L 0 25\" fill=\"none\" style=\"stroke:rgb(255.0, 0.0, 81.08083606031792);stroke-width:2\" />  </svg></g><g transform=\"translate(-4,0)\">  <svg x=\"55.41004050255383%\" y=\"40\" height=\"18\" overflow=\"visible\" width=\"30\">    <path d=\"M 0 -9 l 6 18 L 0 25\" fill=\"none\" style=\"stroke:rgb(255.0, 0.0, 81.08083606031792);stroke-width:2\" />  </svg></g><g transform=\"translate(-2,0)\">  <svg x=\"55.41004050255383%\" y=\"40\" height=\"18\" overflow=\"visible\" width=\"30\">    <path d=\"M 0 -9 l 6 18 L 0 25\" fill=\"none\" style=\"stroke:rgb(255.0, 0.0, 81.08083606031792);stroke-width:2\" />  </svg></g><g transform=\"translate(0,0)\">  <svg x=\"54.23962030064498%\" y=\"40\" height=\"18\" overflow=\"visible\" width=\"30\">    <path d=\"M 0 -9 l 6 18 L 0 25\" fill=\"none\" style=\"stroke:rgb(255.0, 0.0, 81.08083606031792);stroke-width:2\" />  </svg></g><g transform=\"translate(2,0)\">  <svg x=\"54.23962030064498%\" y=\"40\" height=\"18\" overflow=\"visible\" width=\"30\">    <path d=\"M 0 -9 l 6 18 L 0 25\" fill=\"none\" style=\"stroke:rgb(255.0, 0.0, 81.08083606031792);stroke-width:2\" />  </svg></g><g transform=\"translate(4,0)\">  <svg x=\"54.23962030064498%\" y=\"40\" height=\"18\" overflow=\"visible\" width=\"30\">    <path d=\"M 0 -9 l 6 18 L 0 25\" fill=\"none\" style=\"stroke:rgb(255.0, 0.0, 81.08083606031792);stroke-width:2\" />  </svg></g><g transform=\"translate(6,0)\">  <svg x=\"54.23962030064498%\" y=\"40\" height=\"18\" overflow=\"visible\" width=\"30\">    <path d=\"M 0 -9 l 6 18 L 0 25\" fill=\"none\" style=\"stroke:rgb(255.0, 0.0, 81.08083606031792);stroke-width:2\" />  </svg></g><g transform=\"translate(-8,0)\">  <svg x=\"54.23962030064498%\" y=\"40\" height=\"18\" overflow=\"visible\" width=\"30\">    <path d=\"M 0 -9 l 6 18 L 0 25\" fill=\"none\" style=\"stroke:rgb(255.0, 0.0, 81.08083606031792);stroke-width:2\" />  </svg></g><g transform=\"translate(-6,0)\">  <svg x=\"54.23962030064498%\" y=\"40\" height=\"18\" overflow=\"visible\" width=\"30\">    <path d=\"M 0 -9 l 6 18 L 0 25\" fill=\"none\" style=\"stroke:rgb(255.0, 0.0, 81.08083606031792);stroke-width:2\" />  </svg></g><g transform=\"translate(-4,0)\">  <svg x=\"54.23962030064498%\" y=\"40\" height=\"18\" overflow=\"visible\" width=\"30\">    <path d=\"M 0 -9 l 6 18 L 0 25\" fill=\"none\" style=\"stroke:rgb(255.0, 0.0, 81.08083606031792);stroke-width:2\" />  </svg></g><g transform=\"translate(-2,0)\">  <svg x=\"54.23962030064498%\" y=\"40\" height=\"18\" overflow=\"visible\" width=\"30\">    <path d=\"M 0 -9 l 6 18 L 0 25\" fill=\"none\" style=\"stroke:rgb(255.0, 0.0, 81.08083606031792);stroke-width:2\" />  </svg></g><g transform=\"translate(0,0)\">  <svg x=\"53.19588033795668%\" y=\"40\" height=\"18\" overflow=\"visible\" width=\"30\">    <path d=\"M 0 -9 l 6 18 L 0 25\" fill=\"none\" style=\"stroke:rgb(255.0, 0.0, 81.08083606031792);stroke-width:2\" />  </svg></g><g transform=\"translate(2,0)\">  <svg x=\"53.19588033795668%\" y=\"40\" height=\"18\" overflow=\"visible\" width=\"30\">    <path d=\"M 0 -9 l 6 18 L 0 25\" fill=\"none\" style=\"stroke:rgb(255.0, 0.0, 81.08083606031792);stroke-width:2\" />  </svg></g><g transform=\"translate(4,0)\">  <svg x=\"53.19588033795668%\" y=\"40\" height=\"18\" overflow=\"visible\" width=\"30\">    <path d=\"M 0 -9 l 6 18 L 0 25\" fill=\"none\" style=\"stroke:rgb(255.0, 0.0, 81.08083606031792);stroke-width:2\" />  </svg></g><g transform=\"translate(6,0)\">  <svg x=\"53.19588033795668%\" y=\"40\" height=\"18\" overflow=\"visible\" width=\"30\">    <path d=\"M 0 -9 l 6 18 L 0 25\" fill=\"none\" style=\"stroke:rgb(255.0, 0.0, 81.08083606031792);stroke-width:2\" />  </svg></g><g transform=\"translate(-8,0)\">  <svg x=\"53.19588033795668%\" y=\"40\" height=\"18\" overflow=\"visible\" width=\"30\">    <path d=\"M 0 -9 l 6 18 L 0 25\" fill=\"none\" style=\"stroke:rgb(255.0, 0.0, 81.08083606031792);stroke-width:2\" />  </svg></g><g transform=\"translate(-6,0)\">  <svg x=\"53.19588033795668%\" y=\"40\" height=\"18\" overflow=\"visible\" width=\"30\">    <path d=\"M 0 -9 l 6 18 L 0 25\" fill=\"none\" style=\"stroke:rgb(255.0, 0.0, 81.08083606031792);stroke-width:2\" />  </svg></g><g transform=\"translate(-4,0)\">  <svg x=\"53.19588033795668%\" y=\"40\" height=\"18\" overflow=\"visible\" width=\"30\">    <path d=\"M 0 -9 l 6 18 L 0 25\" fill=\"none\" style=\"stroke:rgb(255.0, 0.0, 81.08083606031792);stroke-width:2\" />  </svg></g><g transform=\"translate(-2,0)\">  <svg x=\"53.19588033795668%\" y=\"40\" height=\"18\" overflow=\"visible\" width=\"30\">    <path d=\"M 0 -9 l 6 18 L 0 25\" fill=\"none\" style=\"stroke:rgb(255.0, 0.0, 81.08083606031792);stroke-width:2\" />  </svg></g><g transform=\"translate(0,0)\">  <svg x=\"52.16746885798777%\" y=\"40\" height=\"18\" overflow=\"visible\" width=\"30\">    <path d=\"M 0 -9 l 6 18 L 0 25\" fill=\"none\" style=\"stroke:rgb(255.0, 0.0, 81.08083606031792);stroke-width:2\" />  </svg></g><g transform=\"translate(2,0)\">  <svg x=\"52.16746885798777%\" y=\"40\" height=\"18\" overflow=\"visible\" width=\"30\">    <path d=\"M 0 -9 l 6 18 L 0 25\" fill=\"none\" style=\"stroke:rgb(255.0, 0.0, 81.08083606031792);stroke-width:2\" />  </svg></g><g transform=\"translate(4,0)\">  <svg x=\"52.16746885798777%\" y=\"40\" height=\"18\" overflow=\"visible\" width=\"30\">    <path d=\"M 0 -9 l 6 18 L 0 25\" fill=\"none\" style=\"stroke:rgb(255.0, 0.0, 81.08083606031792);stroke-width:2\" />  </svg></g><g transform=\"translate(6,0)\">  <svg x=\"52.16746885798777%\" y=\"40\" height=\"18\" overflow=\"visible\" width=\"30\">    <path d=\"M 0 -9 l 6 18 L 0 25\" fill=\"none\" style=\"stroke:rgb(255.0, 0.0, 81.08083606031792);stroke-width:2\" />  </svg></g><g transform=\"translate(-8,0)\">  <svg x=\"52.16746885798777%\" y=\"40\" height=\"18\" overflow=\"visible\" width=\"30\">    <path d=\"M 0 -9 l 6 18 L 0 25\" fill=\"none\" style=\"stroke:rgb(255.0, 0.0, 81.08083606031792);stroke-width:2\" />  </svg></g><g transform=\"translate(-6,0)\">  <svg x=\"52.16746885798777%\" y=\"40\" height=\"18\" overflow=\"visible\" width=\"30\">    <path d=\"M 0 -9 l 6 18 L 0 25\" fill=\"none\" style=\"stroke:rgb(255.0, 0.0, 81.08083606031792);stroke-width:2\" />  </svg></g><g transform=\"translate(-4,0)\">  <svg x=\"52.16746885798777%\" y=\"40\" height=\"18\" overflow=\"visible\" width=\"30\">    <path d=\"M 0 -9 l 6 18 L 0 25\" fill=\"none\" style=\"stroke:rgb(255.0, 0.0, 81.08083606031792);stroke-width:2\" />  </svg></g><g transform=\"translate(-2,0)\">  <svg x=\"52.16746885798777%\" y=\"40\" height=\"18\" overflow=\"visible\" width=\"30\">    <path d=\"M 0 -9 l 6 18 L 0 25\" fill=\"none\" style=\"stroke:rgb(255.0, 0.0, 81.08083606031792);stroke-width:2\" />  </svg></g><g transform=\"translate(0,0)\">  <svg x=\"51.144727879983186%\" y=\"40\" height=\"18\" overflow=\"visible\" width=\"30\">    <path d=\"M 0 -9 l 6 18 L 0 25\" fill=\"none\" style=\"stroke:rgb(255.0, 0.0, 81.08083606031792);stroke-width:2\" />  </svg></g><g transform=\"translate(2,0)\">  <svg x=\"51.144727879983186%\" y=\"40\" height=\"18\" overflow=\"visible\" width=\"30\">    <path d=\"M 0 -9 l 6 18 L 0 25\" fill=\"none\" style=\"stroke:rgb(255.0, 0.0, 81.08083606031792);stroke-width:2\" />  </svg></g><g transform=\"translate(4,0)\">  <svg x=\"51.144727879983186%\" y=\"40\" height=\"18\" overflow=\"visible\" width=\"30\">    <path d=\"M 0 -9 l 6 18 L 0 25\" fill=\"none\" style=\"stroke:rgb(255.0, 0.0, 81.08083606031792);stroke-width:2\" />  </svg></g><g transform=\"translate(6,0)\">  <svg x=\"51.144727879983186%\" y=\"40\" height=\"18\" overflow=\"visible\" width=\"30\">    <path d=\"M 0 -9 l 6 18 L 0 25\" fill=\"none\" style=\"stroke:rgb(255.0, 0.0, 81.08083606031792);stroke-width:2\" />  </svg></g><g transform=\"translate(-8,0)\">  <svg x=\"51.144727879983186%\" y=\"40\" height=\"18\" overflow=\"visible\" width=\"30\">    <path d=\"M 0 -9 l 6 18 L 0 25\" fill=\"none\" style=\"stroke:rgb(255.0, 0.0, 81.08083606031792);stroke-width:2\" />  </svg></g><g transform=\"translate(-6,0)\">  <svg x=\"51.144727879983186%\" y=\"40\" height=\"18\" overflow=\"visible\" width=\"30\">    <path d=\"M 0 -9 l 6 18 L 0 25\" fill=\"none\" style=\"stroke:rgb(255.0, 0.0, 81.08083606031792);stroke-width:2\" />  </svg></g><g transform=\"translate(-4,0)\">  <svg x=\"51.144727879983186%\" y=\"40\" height=\"18\" overflow=\"visible\" width=\"30\">    <path d=\"M 0 -9 l 6 18 L 0 25\" fill=\"none\" style=\"stroke:rgb(255.0, 0.0, 81.08083606031792);stroke-width:2\" />  </svg></g><g transform=\"translate(-2,0)\">  <svg x=\"51.144727879983186%\" y=\"40\" height=\"18\" overflow=\"visible\" width=\"30\">    <path d=\"M 0 -9 l 6 18 L 0 25\" fill=\"none\" style=\"stroke:rgb(255.0, 0.0, 81.08083606031792);stroke-width:2\" />  </svg></g><g transform=\"translate(0,0)\">  <svg x=\"50.28255755283405%\" y=\"40\" height=\"18\" overflow=\"visible\" width=\"30\">    <path d=\"M 0 -9 l 6 18 L 0 25\" fill=\"none\" style=\"stroke:rgb(255.0, 0.0, 81.08083606031792);stroke-width:2\" />  </svg></g><g transform=\"translate(2,0)\">  <svg x=\"50.28255755283405%\" y=\"40\" height=\"18\" overflow=\"visible\" width=\"30\">    <path d=\"M 0 -9 l 6 18 L 0 25\" fill=\"none\" style=\"stroke:rgb(255.0, 0.0, 81.08083606031792);stroke-width:2\" />  </svg></g><g transform=\"translate(4,0)\">  <svg x=\"50.28255755283405%\" y=\"40\" height=\"18\" overflow=\"visible\" width=\"30\">    <path d=\"M 0 -9 l 6 18 L 0 25\" fill=\"none\" style=\"stroke:rgb(255.0, 0.0, 81.08083606031792);stroke-width:2\" />  </svg></g><g transform=\"translate(6,0)\">  <svg x=\"50.28255755283405%\" y=\"40\" height=\"18\" overflow=\"visible\" width=\"30\">    <path d=\"M 0 -9 l 6 18 L 0 25\" fill=\"none\" style=\"stroke:rgb(255.0, 0.0, 81.08083606031792);stroke-width:2\" />  </svg></g><g transform=\"translate(-8,0)\">  <svg x=\"50.28255755283405%\" y=\"40\" height=\"18\" overflow=\"visible\" width=\"30\">    <path d=\"M 0 -9 l 6 18 L 0 25\" fill=\"none\" style=\"stroke:rgb(255.0, 0.0, 81.08083606031792);stroke-width:2\" />  </svg></g><g transform=\"translate(-6,0)\">  <svg x=\"50.28255755283405%\" y=\"40\" height=\"18\" overflow=\"visible\" width=\"30\">    <path d=\"M 0 -9 l 6 18 L 0 25\" fill=\"none\" style=\"stroke:rgb(255.0, 0.0, 81.08083606031792);stroke-width:2\" />  </svg></g><g transform=\"translate(-4,0)\">  <svg x=\"50.28255755283405%\" y=\"40\" height=\"18\" overflow=\"visible\" width=\"30\">    <path d=\"M 0 -9 l 6 18 L 0 25\" fill=\"none\" style=\"stroke:rgb(255.0, 0.0, 81.08083606031792);stroke-width:2\" />  </svg></g><g transform=\"translate(-2,0)\">  <svg x=\"50.28255755283405%\" y=\"40\" height=\"18\" overflow=\"visible\" width=\"30\">    <path d=\"M 0 -9 l 6 18 L 0 25\" fill=\"none\" style=\"stroke:rgb(255.0, 0.0, 81.08083606031792);stroke-width:2\" />  </svg></g><g transform=\"translate(0,0)\">  <svg x=\"49.4795138264732%\" y=\"40\" height=\"18\" overflow=\"visible\" width=\"30\">    <path d=\"M 0 -9 l 6 18 L 0 25\" fill=\"none\" style=\"stroke:rgb(255.0, 0.0, 81.08083606031792);stroke-width:2\" />  </svg></g><g transform=\"translate(2,0)\">  <svg x=\"49.4795138264732%\" y=\"40\" height=\"18\" overflow=\"visible\" width=\"30\">    <path d=\"M 0 -9 l 6 18 L 0 25\" fill=\"none\" style=\"stroke:rgb(255.0, 0.0, 81.08083606031792);stroke-width:2\" />  </svg></g><g transform=\"translate(4,0)\">  <svg x=\"49.4795138264732%\" y=\"40\" height=\"18\" overflow=\"visible\" width=\"30\">    <path d=\"M 0 -9 l 6 18 L 0 25\" fill=\"none\" style=\"stroke:rgb(255.0, 0.0, 81.08083606031792);stroke-width:2\" />  </svg></g><g transform=\"translate(6,0)\">  <svg x=\"49.4795138264732%\" y=\"40\" height=\"18\" overflow=\"visible\" width=\"30\">    <path d=\"M 0 -9 l 6 18 L 0 25\" fill=\"none\" style=\"stroke:rgb(255.0, 0.0, 81.08083606031792);stroke-width:2\" />  </svg></g><g transform=\"translate(-8,0)\">  <svg x=\"49.4795138264732%\" y=\"40\" height=\"18\" overflow=\"visible\" width=\"30\">    <path d=\"M 0 -9 l 6 18 L 0 25\" fill=\"none\" style=\"stroke:rgb(255.0, 0.0, 81.08083606031792);stroke-width:2\" />  </svg></g><g transform=\"translate(-6,0)\">  <svg x=\"49.4795138264732%\" y=\"40\" height=\"18\" overflow=\"visible\" width=\"30\">    <path d=\"M 0 -9 l 6 18 L 0 25\" fill=\"none\" style=\"stroke:rgb(255.0, 0.0, 81.08083606031792);stroke-width:2\" />  </svg></g><g transform=\"translate(-4,0)\">  <svg x=\"49.4795138264732%\" y=\"40\" height=\"18\" overflow=\"visible\" width=\"30\">    <path d=\"M 0 -9 l 6 18 L 0 25\" fill=\"none\" style=\"stroke:rgb(255.0, 0.0, 81.08083606031792);stroke-width:2\" />  </svg></g><g transform=\"translate(-2,0)\">  <svg x=\"49.4795138264732%\" y=\"40\" height=\"18\" overflow=\"visible\" width=\"30\">    <path d=\"M 0 -9 l 6 18 L 0 25\" fill=\"none\" style=\"stroke:rgb(255.0, 0.0, 81.08083606031792);stroke-width:2\" />  </svg></g><g transform=\"translate(0,0)\">  <svg x=\"48.75672804887895%\" y=\"40\" height=\"18\" overflow=\"visible\" width=\"30\">    <path d=\"M 0 -9 l 6 18 L 0 25\" fill=\"none\" style=\"stroke:rgb(255.0, 0.0, 81.08083606031792);stroke-width:2\" />  </svg></g><g transform=\"translate(2,0)\">  <svg x=\"48.75672804887895%\" y=\"40\" height=\"18\" overflow=\"visible\" width=\"30\">    <path d=\"M 0 -9 l 6 18 L 0 25\" fill=\"none\" style=\"stroke:rgb(255.0, 0.0, 81.08083606031792);stroke-width:2\" />  </svg></g><g transform=\"translate(4,0)\">  <svg x=\"48.75672804887895%\" y=\"40\" height=\"18\" overflow=\"visible\" width=\"30\">    <path d=\"M 0 -9 l 6 18 L 0 25\" fill=\"none\" style=\"stroke:rgb(255.0, 0.0, 81.08083606031792);stroke-width:2\" />  </svg></g><g transform=\"translate(6,0)\">  <svg x=\"48.75672804887895%\" y=\"40\" height=\"18\" overflow=\"visible\" width=\"30\">    <path d=\"M 0 -9 l 6 18 L 0 25\" fill=\"none\" style=\"stroke:rgb(255.0, 0.0, 81.08083606031792);stroke-width:2\" />  </svg></g><g transform=\"translate(-8,0)\">  <svg x=\"48.75672804887895%\" y=\"40\" height=\"18\" overflow=\"visible\" width=\"30\">    <path d=\"M 0 -9 l 6 18 L 0 25\" fill=\"none\" style=\"stroke:rgb(255.0, 0.0, 81.08083606031792);stroke-width:2\" />  </svg></g><g transform=\"translate(-6,0)\">  <svg x=\"48.75672804887895%\" y=\"40\" height=\"18\" overflow=\"visible\" width=\"30\">    <path d=\"M 0 -9 l 6 18 L 0 25\" fill=\"none\" style=\"stroke:rgb(255.0, 0.0, 81.08083606031792);stroke-width:2\" />  </svg></g><g transform=\"translate(-4,0)\">  <svg x=\"48.75672804887895%\" y=\"40\" height=\"18\" overflow=\"visible\" width=\"30\">    <path d=\"M 0 -9 l 6 18 L 0 25\" fill=\"none\" style=\"stroke:rgb(255.0, 0.0, 81.08083606031792);stroke-width:2\" />  </svg></g><g transform=\"translate(-2,0)\">  <svg x=\"48.75672804887895%\" y=\"40\" height=\"18\" overflow=\"visible\" width=\"30\">    <path d=\"M 0 -9 l 6 18 L 0 25\" fill=\"none\" style=\"stroke:rgb(255.0, 0.0, 81.08083606031792);stroke-width:2\" />  </svg></g><g transform=\"translate(0,0)\">  <svg x=\"48.14058097865382%\" y=\"40\" height=\"18\" overflow=\"visible\" width=\"30\">    <path d=\"M 0 -9 l 6 18 L 0 25\" fill=\"none\" style=\"stroke:rgb(255.0, 0.0, 81.08083606031792);stroke-width:2\" />  </svg></g><g transform=\"translate(2,0)\">  <svg x=\"48.14058097865382%\" y=\"40\" height=\"18\" overflow=\"visible\" width=\"30\">    <path d=\"M 0 -9 l 6 18 L 0 25\" fill=\"none\" style=\"stroke:rgb(255.0, 0.0, 81.08083606031792);stroke-width:2\" />  </svg></g><g transform=\"translate(4,0)\">  <svg x=\"48.14058097865382%\" y=\"40\" height=\"18\" overflow=\"visible\" width=\"30\">    <path d=\"M 0 -9 l 6 18 L 0 25\" fill=\"none\" style=\"stroke:rgb(255.0, 0.0, 81.08083606031792);stroke-width:2\" />  </svg></g><g transform=\"translate(6,0)\">  <svg x=\"48.14058097865382%\" y=\"40\" height=\"18\" overflow=\"visible\" width=\"30\">    <path d=\"M 0 -9 l 6 18 L 0 25\" fill=\"none\" style=\"stroke:rgb(255.0, 0.0, 81.08083606031792);stroke-width:2\" />  </svg></g><g transform=\"translate(-8,0)\">  <svg x=\"48.14058097865382%\" y=\"40\" height=\"18\" overflow=\"visible\" width=\"30\">    <path d=\"M 0 -9 l 6 18 L 0 25\" fill=\"none\" style=\"stroke:rgb(255.0, 0.0, 81.08083606031792);stroke-width:2\" />  </svg></g><g transform=\"translate(-6,0)\">  <svg x=\"48.14058097865382%\" y=\"40\" height=\"18\" overflow=\"visible\" width=\"30\">    <path d=\"M 0 -9 l 6 18 L 0 25\" fill=\"none\" style=\"stroke:rgb(255.0, 0.0, 81.08083606031792);stroke-width:2\" />  </svg></g><g transform=\"translate(-4,0)\">  <svg x=\"48.14058097865382%\" y=\"40\" height=\"18\" overflow=\"visible\" width=\"30\">    <path d=\"M 0 -9 l 6 18 L 0 25\" fill=\"none\" style=\"stroke:rgb(255.0, 0.0, 81.08083606031792);stroke-width:2\" />  </svg></g><g transform=\"translate(-2,0)\">  <svg x=\"48.14058097865382%\" y=\"40\" height=\"18\" overflow=\"visible\" width=\"30\">    <path d=\"M 0 -9 l 6 18 L 0 25\" fill=\"none\" style=\"stroke:rgb(255.0, 0.0, 81.08083606031792);stroke-width:2\" />  </svg></g><g transform=\"translate(0,0)\">  <svg x=\"47.58744985047409%\" y=\"40\" height=\"18\" overflow=\"visible\" width=\"30\">    <path d=\"M 0 -9 l 6 18 L 0 25\" fill=\"none\" style=\"stroke:rgb(255.0, 0.0, 81.08083606031792);stroke-width:2\" />  </svg></g><g transform=\"translate(2,0)\">  <svg x=\"47.58744985047409%\" y=\"40\" height=\"18\" overflow=\"visible\" width=\"30\">    <path d=\"M 0 -9 l 6 18 L 0 25\" fill=\"none\" style=\"stroke:rgb(255.0, 0.0, 81.08083606031792);stroke-width:2\" />  </svg></g><g transform=\"translate(4,0)\">  <svg x=\"47.58744985047409%\" y=\"40\" height=\"18\" overflow=\"visible\" width=\"30\">    <path d=\"M 0 -9 l 6 18 L 0 25\" fill=\"none\" style=\"stroke:rgb(255.0, 0.0, 81.08083606031792);stroke-width:2\" />  </svg></g><g transform=\"translate(6,0)\">  <svg x=\"47.58744985047409%\" y=\"40\" height=\"18\" overflow=\"visible\" width=\"30\">    <path d=\"M 0 -9 l 6 18 L 0 25\" fill=\"none\" style=\"stroke:rgb(255.0, 0.0, 81.08083606031792);stroke-width:2\" />  </svg></g><g transform=\"translate(-8,0)\">  <svg x=\"47.58744985047409%\" y=\"40\" height=\"18\" overflow=\"visible\" width=\"30\">    <path d=\"M 0 -9 l 6 18 L 0 25\" fill=\"none\" style=\"stroke:rgb(255.0, 0.0, 81.08083606031792);stroke-width:2\" />  </svg></g><g transform=\"translate(-6,0)\">  <svg x=\"47.58744985047409%\" y=\"40\" height=\"18\" overflow=\"visible\" width=\"30\">    <path d=\"M 0 -9 l 6 18 L 0 25\" fill=\"none\" style=\"stroke:rgb(255.0, 0.0, 81.08083606031792);stroke-width:2\" />  </svg></g><g transform=\"translate(-4,0)\">  <svg x=\"47.58744985047409%\" y=\"40\" height=\"18\" overflow=\"visible\" width=\"30\">    <path d=\"M 0 -9 l 6 18 L 0 25\" fill=\"none\" style=\"stroke:rgb(255.0, 0.0, 81.08083606031792);stroke-width:2\" />  </svg></g><g transform=\"translate(-2,0)\">  <svg x=\"47.58744985047409%\" y=\"40\" height=\"18\" overflow=\"visible\" width=\"30\">    <path d=\"M 0 -9 l 6 18 L 0 25\" fill=\"none\" style=\"stroke:rgb(255.0, 0.0, 81.08083606031792);stroke-width:2\" />  </svg></g><g transform=\"translate(0,0)\">  <svg x=\"47.091550076505634%\" y=\"40\" height=\"18\" overflow=\"visible\" width=\"30\">    <path d=\"M 0 -9 l 6 18 L 0 25\" fill=\"none\" style=\"stroke:rgb(255.0, 0.0, 81.08083606031792);stroke-width:2\" />  </svg></g><g transform=\"translate(2,0)\">  <svg x=\"47.091550076505634%\" y=\"40\" height=\"18\" overflow=\"visible\" width=\"30\">    <path d=\"M 0 -9 l 6 18 L 0 25\" fill=\"none\" style=\"stroke:rgb(255.0, 0.0, 81.08083606031792);stroke-width:2\" />  </svg></g><g transform=\"translate(4,0)\">  <svg x=\"47.091550076505634%\" y=\"40\" height=\"18\" overflow=\"visible\" width=\"30\">    <path d=\"M 0 -9 l 6 18 L 0 25\" fill=\"none\" style=\"stroke:rgb(255.0, 0.0, 81.08083606031792);stroke-width:2\" />  </svg></g><g transform=\"translate(6,0)\">  <svg x=\"47.091550076505634%\" y=\"40\" height=\"18\" overflow=\"visible\" width=\"30\">    <path d=\"M 0 -9 l 6 18 L 0 25\" fill=\"none\" style=\"stroke:rgb(255.0, 0.0, 81.08083606031792);stroke-width:2\" />  </svg></g><g transform=\"translate(-8,0)\">  <svg x=\"47.091550076505634%\" y=\"40\" height=\"18\" overflow=\"visible\" width=\"30\">    <path d=\"M 0 -9 l 6 18 L 0 25\" fill=\"none\" style=\"stroke:rgb(255.0, 0.0, 81.08083606031792);stroke-width:2\" />  </svg></g><g transform=\"translate(-6,0)\">  <svg x=\"47.091550076505634%\" y=\"40\" height=\"18\" overflow=\"visible\" width=\"30\">    <path d=\"M 0 -9 l 6 18 L 0 25\" fill=\"none\" style=\"stroke:rgb(255.0, 0.0, 81.08083606031792);stroke-width:2\" />  </svg></g><g transform=\"translate(-4,0)\">  <svg x=\"47.091550076505634%\" y=\"40\" height=\"18\" overflow=\"visible\" width=\"30\">    <path d=\"M 0 -9 l 6 18 L 0 25\" fill=\"none\" style=\"stroke:rgb(255.0, 0.0, 81.08083606031792);stroke-width:2\" />  </svg></g><g transform=\"translate(-2,0)\">  <svg x=\"47.091550076505634%\" y=\"40\" height=\"18\" overflow=\"visible\" width=\"30\">    <path d=\"M 0 -9 l 6 18 L 0 25\" fill=\"none\" style=\"stroke:rgb(255.0, 0.0, 81.08083606031792);stroke-width:2\" />  </svg></g><g transform=\"translate(0,0)\">  <svg x=\"46.708429514073224%\" y=\"40\" height=\"18\" overflow=\"visible\" width=\"30\">    <path d=\"M 0 -9 l 6 18 L 0 25\" fill=\"none\" style=\"stroke:rgb(255.0, 0.0, 81.08083606031792);stroke-width:2\" />  </svg></g><g transform=\"translate(2,0)\">  <svg x=\"46.708429514073224%\" y=\"40\" height=\"18\" overflow=\"visible\" width=\"30\">    <path d=\"M 0 -9 l 6 18 L 0 25\" fill=\"none\" style=\"stroke:rgb(255.0, 0.0, 81.08083606031792);stroke-width:2\" />  </svg></g><g transform=\"translate(4,0)\">  <svg x=\"46.708429514073224%\" y=\"40\" height=\"18\" overflow=\"visible\" width=\"30\">    <path d=\"M 0 -9 l 6 18 L 0 25\" fill=\"none\" style=\"stroke:rgb(255.0, 0.0, 81.08083606031792);stroke-width:2\" />  </svg></g><g transform=\"translate(6,0)\">  <svg x=\"46.708429514073224%\" y=\"40\" height=\"18\" overflow=\"visible\" width=\"30\">    <path d=\"M 0 -9 l 6 18 L 0 25\" fill=\"none\" style=\"stroke:rgb(255.0, 0.0, 81.08083606031792);stroke-width:2\" />  </svg></g><g transform=\"translate(-8,0)\">  <svg x=\"46.708429514073224%\" y=\"40\" height=\"18\" overflow=\"visible\" width=\"30\">    <path d=\"M 0 -9 l 6 18 L 0 25\" fill=\"none\" style=\"stroke:rgb(255.0, 0.0, 81.08083606031792);stroke-width:2\" />  </svg></g><g transform=\"translate(-6,0)\">  <svg x=\"46.708429514073224%\" y=\"40\" height=\"18\" overflow=\"visible\" width=\"30\">    <path d=\"M 0 -9 l 6 18 L 0 25\" fill=\"none\" style=\"stroke:rgb(255.0, 0.0, 81.08083606031792);stroke-width:2\" />  </svg></g><g transform=\"translate(-4,0)\">  <svg x=\"46.708429514073224%\" y=\"40\" height=\"18\" overflow=\"visible\" width=\"30\">    <path d=\"M 0 -9 l 6 18 L 0 25\" fill=\"none\" style=\"stroke:rgb(255.0, 0.0, 81.08083606031792);stroke-width:2\" />  </svg></g><g transform=\"translate(-2,0)\">  <svg x=\"46.708429514073224%\" y=\"40\" height=\"18\" overflow=\"visible\" width=\"30\">    <path d=\"M 0 -9 l 6 18 L 0 25\" fill=\"none\" style=\"stroke:rgb(255.0, 0.0, 81.08083606031792);stroke-width:2\" />  </svg></g><g transform=\"translate(0,0)\">  <svg x=\"46.38434935640951%\" y=\"40\" height=\"18\" overflow=\"visible\" width=\"30\">    <path d=\"M 0 -9 l 6 18 L 0 25\" fill=\"none\" style=\"stroke:rgb(255.0, 0.0, 81.08083606031792);stroke-width:2\" />  </svg></g><g transform=\"translate(2,0)\">  <svg x=\"46.38434935640951%\" y=\"40\" height=\"18\" overflow=\"visible\" width=\"30\">    <path d=\"M 0 -9 l 6 18 L 0 25\" fill=\"none\" style=\"stroke:rgb(255.0, 0.0, 81.08083606031792);stroke-width:2\" />  </svg></g><g transform=\"translate(4,0)\">  <svg x=\"46.38434935640951%\" y=\"40\" height=\"18\" overflow=\"visible\" width=\"30\">    <path d=\"M 0 -9 l 6 18 L 0 25\" fill=\"none\" style=\"stroke:rgb(255.0, 0.0, 81.08083606031792);stroke-width:2\" />  </svg></g><g transform=\"translate(6,0)\">  <svg x=\"46.38434935640951%\" y=\"40\" height=\"18\" overflow=\"visible\" width=\"30\">    <path d=\"M 0 -9 l 6 18 L 0 25\" fill=\"none\" style=\"stroke:rgb(255.0, 0.0, 81.08083606031792);stroke-width:2\" />  </svg></g><g transform=\"translate(-8,0)\">  <svg x=\"46.38434935640951%\" y=\"40\" height=\"18\" overflow=\"visible\" width=\"30\">    <path d=\"M 0 -9 l 6 18 L 0 25\" fill=\"none\" style=\"stroke:rgb(255.0, 0.0, 81.08083606031792);stroke-width:2\" />  </svg></g><g transform=\"translate(-6,0)\">  <svg x=\"46.38434935640951%\" y=\"40\" height=\"18\" overflow=\"visible\" width=\"30\">    <path d=\"M 0 -9 l 6 18 L 0 25\" fill=\"none\" style=\"stroke:rgb(255.0, 0.0, 81.08083606031792);stroke-width:2\" />  </svg></g><g transform=\"translate(-4,0)\">  <svg x=\"46.38434935640951%\" y=\"40\" height=\"18\" overflow=\"visible\" width=\"30\">    <path d=\"M 0 -9 l 6 18 L 0 25\" fill=\"none\" style=\"stroke:rgb(255.0, 0.0, 81.08083606031792);stroke-width:2\" />  </svg></g><g transform=\"translate(-2,0)\">  <svg x=\"46.38434935640951%\" y=\"40\" height=\"18\" overflow=\"visible\" width=\"30\">    <path d=\"M 0 -9 l 6 18 L 0 25\" fill=\"none\" style=\"stroke:rgb(255.0, 0.0, 81.08083606031792);stroke-width:2\" />  </svg></g><g transform=\"translate(0,0)\">  <svg x=\"46.069092418323656%\" y=\"40\" height=\"18\" overflow=\"visible\" width=\"30\">    <path d=\"M 0 -9 l 6 18 L 0 25\" fill=\"none\" style=\"stroke:rgb(255.0, 0.0, 81.08083606031792);stroke-width:2\" />  </svg></g><g transform=\"translate(2,0)\">  <svg x=\"46.069092418323656%\" y=\"40\" height=\"18\" overflow=\"visible\" width=\"30\">    <path d=\"M 0 -9 l 6 18 L 0 25\" fill=\"none\" style=\"stroke:rgb(255.0, 0.0, 81.08083606031792);stroke-width:2\" />  </svg></g><g transform=\"translate(4,0)\">  <svg x=\"46.069092418323656%\" y=\"40\" height=\"18\" overflow=\"visible\" width=\"30\">    <path d=\"M 0 -9 l 6 18 L 0 25\" fill=\"none\" style=\"stroke:rgb(255.0, 0.0, 81.08083606031792);stroke-width:2\" />  </svg></g><g transform=\"translate(6,0)\">  <svg x=\"46.069092418323656%\" y=\"40\" height=\"18\" overflow=\"visible\" width=\"30\">    <path d=\"M 0 -9 l 6 18 L 0 25\" fill=\"none\" style=\"stroke:rgb(255.0, 0.0, 81.08083606031792);stroke-width:2\" />  </svg></g><g transform=\"translate(-8,0)\">  <svg x=\"46.069092418323656%\" y=\"40\" height=\"18\" overflow=\"visible\" width=\"30\">    <path d=\"M 0 -9 l 6 18 L 0 25\" fill=\"none\" style=\"stroke:rgb(255.0, 0.0, 81.08083606031792);stroke-width:2\" />  </svg></g><g transform=\"translate(-6,0)\">  <svg x=\"46.069092418323656%\" y=\"40\" height=\"18\" overflow=\"visible\" width=\"30\">    <path d=\"M 0 -9 l 6 18 L 0 25\" fill=\"none\" style=\"stroke:rgb(255.0, 0.0, 81.08083606031792);stroke-width:2\" />  </svg></g><g transform=\"translate(-4,0)\">  <svg x=\"46.069092418323656%\" y=\"40\" height=\"18\" overflow=\"visible\" width=\"30\">    <path d=\"M 0 -9 l 6 18 L 0 25\" fill=\"none\" style=\"stroke:rgb(255.0, 0.0, 81.08083606031792);stroke-width:2\" />  </svg></g><g transform=\"translate(-2,0)\">  <svg x=\"46.069092418323656%\" y=\"40\" height=\"18\" overflow=\"visible\" width=\"30\">    <path d=\"M 0 -9 l 6 18 L 0 25\" fill=\"none\" style=\"stroke:rgb(255.0, 0.0, 81.08083606031792);stroke-width:2\" />  </svg></g><g transform=\"translate(0,0)\">  <svg x=\"45.76920938018666%\" y=\"40\" height=\"18\" overflow=\"visible\" width=\"30\">    <path d=\"M 0 -9 l 6 18 L 0 25\" fill=\"none\" style=\"stroke:rgb(255.0, 0.0, 81.08083606031792);stroke-width:2\" />  </svg></g><g transform=\"translate(2,0)\">  <svg x=\"45.76920938018666%\" y=\"40\" height=\"18\" overflow=\"visible\" width=\"30\">    <path d=\"M 0 -9 l 6 18 L 0 25\" fill=\"none\" style=\"stroke:rgb(255.0, 0.0, 81.08083606031792);stroke-width:2\" />  </svg></g><g transform=\"translate(4,0)\">  <svg x=\"45.76920938018666%\" y=\"40\" height=\"18\" overflow=\"visible\" width=\"30\">    <path d=\"M 0 -9 l 6 18 L 0 25\" fill=\"none\" style=\"stroke:rgb(255.0, 0.0, 81.08083606031792);stroke-width:2\" />  </svg></g><g transform=\"translate(6,0)\">  <svg x=\"45.76920938018666%\" y=\"40\" height=\"18\" overflow=\"visible\" width=\"30\">    <path d=\"M 0 -9 l 6 18 L 0 25\" fill=\"none\" style=\"stroke:rgb(255.0, 0.0, 81.08083606031792);stroke-width:2\" />  </svg></g><g transform=\"translate(-8,0)\">  <svg x=\"45.76920938018666%\" y=\"40\" height=\"18\" overflow=\"visible\" width=\"30\">    <path d=\"M 0 -9 l 6 18 L 0 25\" fill=\"none\" style=\"stroke:rgb(255.0, 0.0, 81.08083606031792);stroke-width:2\" />  </svg></g><g transform=\"translate(-6,0)\">  <svg x=\"45.76920938018666%\" y=\"40\" height=\"18\" overflow=\"visible\" width=\"30\">    <path d=\"M 0 -9 l 6 18 L 0 25\" fill=\"none\" style=\"stroke:rgb(255.0, 0.0, 81.08083606031792);stroke-width:2\" />  </svg></g><g transform=\"translate(-4,0)\">  <svg x=\"45.76920938018666%\" y=\"40\" height=\"18\" overflow=\"visible\" width=\"30\">    <path d=\"M 0 -9 l 6 18 L 0 25\" fill=\"none\" style=\"stroke:rgb(255.0, 0.0, 81.08083606031792);stroke-width:2\" />  </svg></g><g transform=\"translate(-2,0)\">  <svg x=\"45.76920938018666%\" y=\"40\" height=\"18\" overflow=\"visible\" width=\"30\">    <path d=\"M 0 -9 l 6 18 L 0 25\" fill=\"none\" style=\"stroke:rgb(255.0, 0.0, 81.08083606031792);stroke-width:2\" />  </svg></g><g transform=\"translate(0,0)\">  <svg x=\"45.48147242114373%\" y=\"40\" height=\"18\" overflow=\"visible\" width=\"30\">    <path d=\"M 0 -9 l 6 18 L 0 25\" fill=\"none\" style=\"stroke:rgb(255.0, 0.0, 81.08083606031792);stroke-width:2\" />  </svg></g><g transform=\"translate(2,0)\">  <svg x=\"45.48147242114373%\" y=\"40\" height=\"18\" overflow=\"visible\" width=\"30\">    <path d=\"M 0 -9 l 6 18 L 0 25\" fill=\"none\" style=\"stroke:rgb(255.0, 0.0, 81.08083606031792);stroke-width:2\" />  </svg></g><g transform=\"translate(4,0)\">  <svg x=\"45.48147242114373%\" y=\"40\" height=\"18\" overflow=\"visible\" width=\"30\">    <path d=\"M 0 -9 l 6 18 L 0 25\" fill=\"none\" style=\"stroke:rgb(255.0, 0.0, 81.08083606031792);stroke-width:2\" />  </svg></g><g transform=\"translate(6,0)\">  <svg x=\"45.48147242114373%\" y=\"40\" height=\"18\" overflow=\"visible\" width=\"30\">    <path d=\"M 0 -9 l 6 18 L 0 25\" fill=\"none\" style=\"stroke:rgb(255.0, 0.0, 81.08083606031792);stroke-width:2\" />  </svg></g><g transform=\"translate(-8,0)\">  <svg x=\"45.48147242114373%\" y=\"40\" height=\"18\" overflow=\"visible\" width=\"30\">    <path d=\"M 0 -9 l 6 18 L 0 25\" fill=\"none\" style=\"stroke:rgb(255.0, 0.0, 81.08083606031792);stroke-width:2\" />  </svg></g><g transform=\"translate(-6,0)\">  <svg x=\"45.48147242114373%\" y=\"40\" height=\"18\" overflow=\"visible\" width=\"30\">    <path d=\"M 0 -9 l 6 18 L 0 25\" fill=\"none\" style=\"stroke:rgb(255.0, 0.0, 81.08083606031792);stroke-width:2\" />  </svg></g><g transform=\"translate(-4,0)\">  <svg x=\"45.48147242114373%\" y=\"40\" height=\"18\" overflow=\"visible\" width=\"30\">    <path d=\"M 0 -9 l 6 18 L 0 25\" fill=\"none\" style=\"stroke:rgb(255.0, 0.0, 81.08083606031792);stroke-width:2\" />  </svg></g><g transform=\"translate(-2,0)\">  <svg x=\"45.48147242114373%\" y=\"40\" height=\"18\" overflow=\"visible\" width=\"30\">    <path d=\"M 0 -9 l 6 18 L 0 25\" fill=\"none\" style=\"stroke:rgb(255.0, 0.0, 81.08083606031792);stroke-width:2\" />  </svg></g><rect transform=\"translate(-8,0)\" x=\"90.36593919600836%\" y=\"40\" width=\"8\" height=\"18\" style=\"fill:rgb(255.0, 0.0, 81.08083606031792)\"/><g transform=\"translate(-11.5,0)\">  <svg x=\"45.2253010879376%\" y=\"40\" height=\"18\" overflow=\"visible\" width=\"30\">    <path d=\"M 10 -9 l 6 18 L 10 25 L 0 25 L 0 -9\" fill=\"#ffffff\" style=\"stroke:rgb(255,255,255);stroke-width:2\" />  </svg></g><g transform=\"translate(-1.5,0)\">  <svg x=\"90.36593919600836%\" y=\"40\" height=\"18\" overflow=\"visible\" width=\"30\">    <path d=\"M 0 -9 l 6 18 L 0 25\" fill=\"none\" style=\"stroke:rgb(255, 195, 213);stroke-width:2\" />  </svg></g><rect x=\"83.42836849436863%\" y=\"40\" height=\"20\" width=\"6.9375707016397286%\"      onmouseover=\"document.getElementById('_tp_pscmkaaluhjpgnjcbrdf_ind_13').style.textDecoration = 'underline';document.getElementById('_fs_pscmkaaluhjpgnjcbrdf_ind_13').style.opacity = 1;document.getElementById('_fb_pscmkaaluhjpgnjcbrdf_ind_13').style.opacity = 1;\"      onmouseout=\"document.getElementById('_tp_pscmkaaluhjpgnjcbrdf_ind_13').style.textDecoration = 'none';document.getElementById('_fs_pscmkaaluhjpgnjcbrdf_ind_13').style.opacity = 0;document.getElementById('_fb_pscmkaaluhjpgnjcbrdf_ind_13').style.opacity = 0;\" style=\"fill:rgb(0,0,0,0)\" /><g transform=\"translate(-1.5,0)\">  <svg x=\"83.42836849436863%\" y=\"40\" height=\"18\" overflow=\"visible\" width=\"30\">    <path d=\"M 0 -9 l 6 18 L 0 25\" fill=\"none\" style=\"stroke:rgb(255, 195, 213);stroke-width:2\" />  </svg></g><rect x=\"77.18020425548961%\" y=\"40\" height=\"20\" width=\"6.2481642388790135%\"      onmouseover=\"document.getElementById('_tp_pscmkaaluhjpgnjcbrdf_ind_14').style.textDecoration = 'underline';document.getElementById('_fs_pscmkaaluhjpgnjcbrdf_ind_14').style.opacity = 1;document.getElementById('_fb_pscmkaaluhjpgnjcbrdf_ind_14').style.opacity = 1;\"      onmouseout=\"document.getElementById('_tp_pscmkaaluhjpgnjcbrdf_ind_14').style.textDecoration = 'none';document.getElementById('_fs_pscmkaaluhjpgnjcbrdf_ind_14').style.opacity = 0;document.getElementById('_fb_pscmkaaluhjpgnjcbrdf_ind_14').style.opacity = 0;\" style=\"fill:rgb(0,0,0,0)\" /><g transform=\"translate(-1.5,0)\">  <svg x=\"77.18020425548961%\" y=\"40\" height=\"18\" overflow=\"visible\" width=\"30\">    <path d=\"M 0 -9 l 6 18 L 0 25\" fill=\"none\" style=\"stroke:rgb(255, 195, 213);stroke-width:2\" />  </svg></g><rect x=\"71.32081223117936%\" y=\"40\" height=\"20\" width=\"5.859392024310253%\"      onmouseover=\"document.getElementById('_tp_pscmkaaluhjpgnjcbrdf_ind_18').style.textDecoration = 'underline';document.getElementById('_fs_pscmkaaluhjpgnjcbrdf_ind_18').style.opacity = 1;document.getElementById('_fb_pscmkaaluhjpgnjcbrdf_ind_18').style.opacity = 1;\"      onmouseout=\"document.getElementById('_tp_pscmkaaluhjpgnjcbrdf_ind_18').style.textDecoration = 'none';document.getElementById('_fs_pscmkaaluhjpgnjcbrdf_ind_18').style.opacity = 0;document.getElementById('_fb_pscmkaaluhjpgnjcbrdf_ind_18').style.opacity = 0;\" style=\"fill:rgb(0,0,0,0)\" /><g transform=\"translate(-1.5,0)\">  <svg x=\"71.32081223117936%\" y=\"40\" height=\"18\" overflow=\"visible\" width=\"30\">    <path d=\"M 0 -9 l 6 18 L 0 25\" fill=\"none\" style=\"stroke:rgb(255, 195, 213);stroke-width:2\" />  </svg></g><rect x=\"66.3554210246105%\" y=\"40\" height=\"20\" width=\"4.965391206568867%\"      onmouseover=\"document.getElementById('_tp_pscmkaaluhjpgnjcbrdf_ind_20').style.textDecoration = 'underline';document.getElementById('_fs_pscmkaaluhjpgnjcbrdf_ind_20').style.opacity = 1;document.getElementById('_fb_pscmkaaluhjpgnjcbrdf_ind_20').style.opacity = 1;\"      onmouseout=\"document.getElementById('_tp_pscmkaaluhjpgnjcbrdf_ind_20').style.textDecoration = 'none';document.getElementById('_fs_pscmkaaluhjpgnjcbrdf_ind_20').style.opacity = 0;document.getElementById('_fb_pscmkaaluhjpgnjcbrdf_ind_20').style.opacity = 0;\" style=\"fill:rgb(0,0,0,0)\" /><g transform=\"translate(-1.5,0)\">  <svg x=\"66.3554210246105%\" y=\"40\" height=\"18\" overflow=\"visible\" width=\"30\">    <path d=\"M 0 -9 l 6 18 L 0 25\" fill=\"none\" style=\"stroke:rgb(255, 195, 213);stroke-width:2\" />  </svg></g><rect x=\"62.11271169459463%\" y=\"40\" height=\"20\" width=\"4.242709330015863%\"      onmouseover=\"document.getElementById('_tp_pscmkaaluhjpgnjcbrdf_ind_12').style.textDecoration = 'underline';document.getElementById('_fs_pscmkaaluhjpgnjcbrdf_ind_12').style.opacity = 1;document.getElementById('_fb_pscmkaaluhjpgnjcbrdf_ind_12').style.opacity = 1;\"      onmouseout=\"document.getElementById('_tp_pscmkaaluhjpgnjcbrdf_ind_12').style.textDecoration = 'none';document.getElementById('_fs_pscmkaaluhjpgnjcbrdf_ind_12').style.opacity = 0;document.getElementById('_fb_pscmkaaluhjpgnjcbrdf_ind_12').style.opacity = 0;\" style=\"fill:rgb(0,0,0,0)\" /><g transform=\"translate(-1.5,0)\">  <svg x=\"62.11271169459463%\" y=\"40\" height=\"18\" overflow=\"visible\" width=\"30\">    <path d=\"M 0 -9 l 6 18 L 0 25\" fill=\"none\" style=\"stroke:rgb(255, 195, 213);stroke-width:2\" />  </svg></g><rect x=\"60.34684404029546%\" y=\"40\" height=\"20\" width=\"1.7658676542991714%\"      onmouseover=\"document.getElementById('_tp_pscmkaaluhjpgnjcbrdf_ind_19').style.textDecoration = 'underline';document.getElementById('_fs_pscmkaaluhjpgnjcbrdf_ind_19').style.opacity = 1;document.getElementById('_fb_pscmkaaluhjpgnjcbrdf_ind_19').style.opacity = 1;\"      onmouseout=\"document.getElementById('_tp_pscmkaaluhjpgnjcbrdf_ind_19').style.textDecoration = 'none';document.getElementById('_fs_pscmkaaluhjpgnjcbrdf_ind_19').style.opacity = 0;document.getElementById('_fb_pscmkaaluhjpgnjcbrdf_ind_19').style.opacity = 0;\" style=\"fill:rgb(0,0,0,0)\" /><g transform=\"translate(-1.5,0)\">  <svg x=\"60.34684404029546%\" y=\"40\" height=\"18\" overflow=\"visible\" width=\"30\">    <path d=\"M 0 -9 l 6 18 L 0 25\" fill=\"none\" style=\"stroke:rgb(255, 195, 213);stroke-width:2\" />  </svg></g><rect x=\"58.601070519723635%\" y=\"40\" height=\"20\" width=\"1.7457735205718237%\"      onmouseover=\"document.getElementById('_tp_pscmkaaluhjpgnjcbrdf_ind_21').style.textDecoration = 'underline';document.getElementById('_fs_pscmkaaluhjpgnjcbrdf_ind_21').style.opacity = 1;document.getElementById('_fb_pscmkaaluhjpgnjcbrdf_ind_21').style.opacity = 1;\"      onmouseout=\"document.getElementById('_tp_pscmkaaluhjpgnjcbrdf_ind_21').style.textDecoration = 'none';document.getElementById('_fs_pscmkaaluhjpgnjcbrdf_ind_21').style.opacity = 0;document.getElementById('_fb_pscmkaaluhjpgnjcbrdf_ind_21').style.opacity = 0;\" style=\"fill:rgb(0,0,0,0)\" /><g transform=\"translate(-1.5,0)\">  <svg x=\"58.601070519723635%\" y=\"40\" height=\"18\" overflow=\"visible\" width=\"30\">    <path d=\"M 0 -9 l 6 18 L 0 25\" fill=\"none\" style=\"stroke:rgb(255, 195, 213);stroke-width:2\" />  </svg></g><rect x=\"56.89356388686489%\" y=\"40\" height=\"20\" width=\"1.7075066328587454%\"      onmouseover=\"document.getElementById('_tp_pscmkaaluhjpgnjcbrdf_ind_9').style.textDecoration = 'underline';document.getElementById('_fs_pscmkaaluhjpgnjcbrdf_ind_9').style.opacity = 1;document.getElementById('_fb_pscmkaaluhjpgnjcbrdf_ind_9').style.opacity = 1;\"      onmouseout=\"document.getElementById('_tp_pscmkaaluhjpgnjcbrdf_ind_9').style.textDecoration = 'none';document.getElementById('_fs_pscmkaaluhjpgnjcbrdf_ind_9').style.opacity = 0;document.getElementById('_fb_pscmkaaluhjpgnjcbrdf_ind_9').style.opacity = 0;\" style=\"fill:rgb(0,0,0,0)\" /><g transform=\"translate(-1.5,0)\">  <svg x=\"56.89356388686489%\" y=\"40\" height=\"18\" overflow=\"visible\" width=\"30\">    <path d=\"M 0 -9 l 6 18 L 0 25\" fill=\"none\" style=\"stroke:rgb(255, 195, 213);stroke-width:2\" />  </svg></g><rect x=\"55.41004050255383%\" y=\"40\" height=\"20\" width=\"1.483523384311063%\"      onmouseover=\"document.getElementById('_tp_pscmkaaluhjpgnjcbrdf_ind_24').style.textDecoration = 'underline';document.getElementById('_fs_pscmkaaluhjpgnjcbrdf_ind_24').style.opacity = 1;document.getElementById('_fb_pscmkaaluhjpgnjcbrdf_ind_24').style.opacity = 1;\"      onmouseout=\"document.getElementById('_tp_pscmkaaluhjpgnjcbrdf_ind_24').style.textDecoration = 'none';document.getElementById('_fs_pscmkaaluhjpgnjcbrdf_ind_24').style.opacity = 0;document.getElementById('_fb_pscmkaaluhjpgnjcbrdf_ind_24').style.opacity = 0;\" style=\"fill:rgb(0,0,0,0)\" /><g transform=\"translate(-1.5,0)\">  <svg x=\"55.41004050255383%\" y=\"40\" height=\"18\" overflow=\"visible\" width=\"30\">    <path d=\"M 0 -9 l 6 18 L 0 25\" fill=\"none\" style=\"stroke:rgb(255, 195, 213);stroke-width:2\" />  </svg></g><rect x=\"54.23962030064498%\" y=\"40\" height=\"20\" width=\"1.170420201908847%\"      onmouseover=\"document.getElementById('_tp_pscmkaaluhjpgnjcbrdf_ind_10').style.textDecoration = 'underline';document.getElementById('_fs_pscmkaaluhjpgnjcbrdf_ind_10').style.opacity = 1;document.getElementById('_fb_pscmkaaluhjpgnjcbrdf_ind_10').style.opacity = 1;\"      onmouseout=\"document.getElementById('_tp_pscmkaaluhjpgnjcbrdf_ind_10').style.textDecoration = 'none';document.getElementById('_fs_pscmkaaluhjpgnjcbrdf_ind_10').style.opacity = 0;document.getElementById('_fb_pscmkaaluhjpgnjcbrdf_ind_10').style.opacity = 0;\" style=\"fill:rgb(0,0,0,0)\" /><g transform=\"translate(-1.5,0)\">  <svg x=\"54.23962030064498%\" y=\"40\" height=\"18\" overflow=\"visible\" width=\"30\">    <path d=\"M 0 -9 l 6 18 L 0 25\" fill=\"none\" style=\"stroke:rgb(255, 195, 213);stroke-width:2\" />  </svg></g><rect x=\"53.19588033795668%\" y=\"40\" height=\"20\" width=\"1.0437399626882993%\"      onmouseover=\"document.getElementById('_tp_pscmkaaluhjpgnjcbrdf_ind_11').style.textDecoration = 'underline';document.getElementById('_fs_pscmkaaluhjpgnjcbrdf_ind_11').style.opacity = 1;document.getElementById('_fb_pscmkaaluhjpgnjcbrdf_ind_11').style.opacity = 1;\"      onmouseout=\"document.getElementById('_tp_pscmkaaluhjpgnjcbrdf_ind_11').style.textDecoration = 'none';document.getElementById('_fs_pscmkaaluhjpgnjcbrdf_ind_11').style.opacity = 0;document.getElementById('_fb_pscmkaaluhjpgnjcbrdf_ind_11').style.opacity = 0;\" style=\"fill:rgb(0,0,0,0)\" /><g transform=\"translate(-1.5,0)\">  <svg x=\"53.19588033795668%\" y=\"40\" height=\"18\" overflow=\"visible\" width=\"30\">    <path d=\"M 0 -9 l 6 18 L 0 25\" fill=\"none\" style=\"stroke:rgb(255, 195, 213);stroke-width:2\" />  </svg></g><rect x=\"52.16746885798777%\" y=\"40\" height=\"20\" width=\"1.0284114799689092%\"      onmouseover=\"document.getElementById('_tp_pscmkaaluhjpgnjcbrdf_ind_4').style.textDecoration = 'underline';document.getElementById('_fs_pscmkaaluhjpgnjcbrdf_ind_4').style.opacity = 1;document.getElementById('_fb_pscmkaaluhjpgnjcbrdf_ind_4').style.opacity = 1;\"      onmouseout=\"document.getElementById('_tp_pscmkaaluhjpgnjcbrdf_ind_4').style.textDecoration = 'none';document.getElementById('_fs_pscmkaaluhjpgnjcbrdf_ind_4').style.opacity = 0;document.getElementById('_fb_pscmkaaluhjpgnjcbrdf_ind_4').style.opacity = 0;\" style=\"fill:rgb(0,0,0,0)\" /><g transform=\"translate(-1.5,0)\">  <svg x=\"52.16746885798777%\" y=\"40\" height=\"18\" overflow=\"visible\" width=\"30\">    <path d=\"M 0 -9 l 6 18 L 0 25\" fill=\"none\" style=\"stroke:rgb(255, 195, 213);stroke-width:2\" />  </svg></g><rect x=\"51.144727879983186%\" y=\"40\" height=\"20\" width=\"1.0227409780045846%\"      onmouseover=\"document.getElementById('_tp_pscmkaaluhjpgnjcbrdf_ind_25').style.textDecoration = 'underline';document.getElementById('_fs_pscmkaaluhjpgnjcbrdf_ind_25').style.opacity = 1;document.getElementById('_fb_pscmkaaluhjpgnjcbrdf_ind_25').style.opacity = 1;\"      onmouseout=\"document.getElementById('_tp_pscmkaaluhjpgnjcbrdf_ind_25').style.textDecoration = 'none';document.getElementById('_fs_pscmkaaluhjpgnjcbrdf_ind_25').style.opacity = 0;document.getElementById('_fb_pscmkaaluhjpgnjcbrdf_ind_25').style.opacity = 0;\" style=\"fill:rgb(0,0,0,0)\" /><g transform=\"translate(-1.5,0)\">  <svg x=\"51.144727879983186%\" y=\"40\" height=\"18\" overflow=\"visible\" width=\"30\">    <path d=\"M 0 -9 l 6 18 L 0 25\" fill=\"none\" style=\"stroke:rgb(255, 195, 213);stroke-width:2\" />  </svg></g><rect x=\"50.28255755283405%\" y=\"40\" height=\"20\" width=\"0.862170327149137%\"      onmouseover=\"document.getElementById('_tp_pscmkaaluhjpgnjcbrdf_ind_22').style.textDecoration = 'underline';document.getElementById('_fs_pscmkaaluhjpgnjcbrdf_ind_22').style.opacity = 1;document.getElementById('_fb_pscmkaaluhjpgnjcbrdf_ind_22').style.opacity = 1;\"      onmouseout=\"document.getElementById('_tp_pscmkaaluhjpgnjcbrdf_ind_22').style.textDecoration = 'none';document.getElementById('_fs_pscmkaaluhjpgnjcbrdf_ind_22').style.opacity = 0;document.getElementById('_fb_pscmkaaluhjpgnjcbrdf_ind_22').style.opacity = 0;\" style=\"fill:rgb(0,0,0,0)\" /><g transform=\"translate(-1.5,0)\">  <svg x=\"50.28255755283405%\" y=\"40\" height=\"18\" overflow=\"visible\" width=\"30\">    <path d=\"M 0 -9 l 6 18 L 0 25\" fill=\"none\" style=\"stroke:rgb(255, 195, 213);stroke-width:2\" />  </svg></g><rect x=\"49.4795138264732%\" y=\"40\" height=\"20\" width=\"0.8030437263608476%\"      onmouseover=\"document.getElementById('_tp_pscmkaaluhjpgnjcbrdf_ind_1').style.textDecoration = 'underline';document.getElementById('_fs_pscmkaaluhjpgnjcbrdf_ind_1').style.opacity = 1;document.getElementById('_fb_pscmkaaluhjpgnjcbrdf_ind_1').style.opacity = 1;\"      onmouseout=\"document.getElementById('_tp_pscmkaaluhjpgnjcbrdf_ind_1').style.textDecoration = 'none';document.getElementById('_fs_pscmkaaluhjpgnjcbrdf_ind_1').style.opacity = 0;document.getElementById('_fb_pscmkaaluhjpgnjcbrdf_ind_1').style.opacity = 0;\" style=\"fill:rgb(0,0,0,0)\" /><g transform=\"translate(-1.5,0)\">  <svg x=\"49.4795138264732%\" y=\"40\" height=\"18\" overflow=\"visible\" width=\"30\">    <path d=\"M 0 -9 l 6 18 L 0 25\" fill=\"none\" style=\"stroke:rgb(255, 195, 213);stroke-width:2\" />  </svg></g><rect x=\"48.75672804887895%\" y=\"40\" height=\"20\" width=\"0.7227857775942539%\"      onmouseover=\"document.getElementById('_tp_pscmkaaluhjpgnjcbrdf_ind_5').style.textDecoration = 'underline';document.getElementById('_fs_pscmkaaluhjpgnjcbrdf_ind_5').style.opacity = 1;document.getElementById('_fb_pscmkaaluhjpgnjcbrdf_ind_5').style.opacity = 1;\"      onmouseout=\"document.getElementById('_tp_pscmkaaluhjpgnjcbrdf_ind_5').style.textDecoration = 'none';document.getElementById('_fs_pscmkaaluhjpgnjcbrdf_ind_5').style.opacity = 0;document.getElementById('_fb_pscmkaaluhjpgnjcbrdf_ind_5').style.opacity = 0;\" style=\"fill:rgb(0,0,0,0)\" /><g transform=\"translate(-1.5,0)\">  <svg x=\"48.75672804887895%\" y=\"40\" height=\"18\" overflow=\"visible\" width=\"30\">    <path d=\"M 0 -9 l 6 18 L 0 25\" fill=\"none\" style=\"stroke:rgb(255, 195, 213);stroke-width:2\" />  </svg></g><rect x=\"48.14058097865382%\" y=\"40\" height=\"20\" width=\"0.616147070225125%\"      onmouseover=\"document.getElementById('_tp_pscmkaaluhjpgnjcbrdf_ind_8').style.textDecoration = 'underline';document.getElementById('_fs_pscmkaaluhjpgnjcbrdf_ind_8').style.opacity = 1;document.getElementById('_fb_pscmkaaluhjpgnjcbrdf_ind_8').style.opacity = 1;\"      onmouseout=\"document.getElementById('_tp_pscmkaaluhjpgnjcbrdf_ind_8').style.textDecoration = 'none';document.getElementById('_fs_pscmkaaluhjpgnjcbrdf_ind_8').style.opacity = 0;document.getElementById('_fb_pscmkaaluhjpgnjcbrdf_ind_8').style.opacity = 0;\" style=\"fill:rgb(0,0,0,0)\" /><g transform=\"translate(-1.5,0)\">  <svg x=\"48.14058097865382%\" y=\"40\" height=\"18\" overflow=\"visible\" width=\"30\">    <path d=\"M 0 -9 l 6 18 L 0 25\" fill=\"none\" style=\"stroke:rgb(255, 195, 213);stroke-width:2\" />  </svg></g><rect x=\"47.58744985047409%\" y=\"40\" height=\"20\" width=\"0.5531311281797358%\"      onmouseover=\"document.getElementById('_tp_pscmkaaluhjpgnjcbrdf_ind_17').style.textDecoration = 'underline';document.getElementById('_fs_pscmkaaluhjpgnjcbrdf_ind_17').style.opacity = 1;document.getElementById('_fb_pscmkaaluhjpgnjcbrdf_ind_17').style.opacity = 1;\"      onmouseout=\"document.getElementById('_tp_pscmkaaluhjpgnjcbrdf_ind_17').style.textDecoration = 'none';document.getElementById('_fs_pscmkaaluhjpgnjcbrdf_ind_17').style.opacity = 0;document.getElementById('_fb_pscmkaaluhjpgnjcbrdf_ind_17').style.opacity = 0;\" style=\"fill:rgb(0,0,0,0)\" /><g transform=\"translate(-1.5,0)\">  <svg x=\"47.58744985047409%\" y=\"40\" height=\"18\" overflow=\"visible\" width=\"30\">    <path d=\"M 0 -9 l 6 18 L 0 25\" fill=\"none\" style=\"stroke:rgb(255, 195, 213);stroke-width:2\" />  </svg></g><rect x=\"47.091550076505634%\" y=\"40\" height=\"20\" width=\"0.4958997739684534%\"      onmouseover=\"document.getElementById('_tp_pscmkaaluhjpgnjcbrdf_ind_2').style.textDecoration = 'underline';document.getElementById('_fs_pscmkaaluhjpgnjcbrdf_ind_2').style.opacity = 1;document.getElementById('_fb_pscmkaaluhjpgnjcbrdf_ind_2').style.opacity = 1;\"      onmouseout=\"document.getElementById('_tp_pscmkaaluhjpgnjcbrdf_ind_2').style.textDecoration = 'none';document.getElementById('_fs_pscmkaaluhjpgnjcbrdf_ind_2').style.opacity = 0;document.getElementById('_fb_pscmkaaluhjpgnjcbrdf_ind_2').style.opacity = 0;\" style=\"fill:rgb(0,0,0,0)\" /><g transform=\"translate(-1.5,0)\">  <svg x=\"47.091550076505634%\" y=\"40\" height=\"18\" overflow=\"visible\" width=\"30\">    <path d=\"M 0 -9 l 6 18 L 0 25\" fill=\"none\" style=\"stroke:rgb(255, 195, 213);stroke-width:2\" />  </svg></g><rect x=\"46.708429514073224%\" y=\"40\" height=\"20\" width=\"0.3831205624324099%\"      onmouseover=\"document.getElementById('_tp_pscmkaaluhjpgnjcbrdf_ind_6').style.textDecoration = 'underline';document.getElementById('_fs_pscmkaaluhjpgnjcbrdf_ind_6').style.opacity = 1;document.getElementById('_fb_pscmkaaluhjpgnjcbrdf_ind_6').style.opacity = 1;\"      onmouseout=\"document.getElementById('_tp_pscmkaaluhjpgnjcbrdf_ind_6').style.textDecoration = 'none';document.getElementById('_fs_pscmkaaluhjpgnjcbrdf_ind_6').style.opacity = 0;document.getElementById('_fb_pscmkaaluhjpgnjcbrdf_ind_6').style.opacity = 0;\" style=\"fill:rgb(0,0,0,0)\" /><g transform=\"translate(-1.5,0)\">  <svg x=\"46.708429514073224%\" y=\"40\" height=\"18\" overflow=\"visible\" width=\"30\">    <path d=\"M 0 -9 l 6 18 L 0 25\" fill=\"none\" style=\"stroke:rgb(255, 195, 213);stroke-width:2\" />  </svg></g><rect x=\"46.38434935640951%\" y=\"40\" height=\"20\" width=\"0.32408015766371534%\"      onmouseover=\"document.getElementById('_tp_pscmkaaluhjpgnjcbrdf_ind_15').style.textDecoration = 'underline';document.getElementById('_fs_pscmkaaluhjpgnjcbrdf_ind_15').style.opacity = 1;document.getElementById('_fb_pscmkaaluhjpgnjcbrdf_ind_15').style.opacity = 1;\"      onmouseout=\"document.getElementById('_tp_pscmkaaluhjpgnjcbrdf_ind_15').style.textDecoration = 'none';document.getElementById('_fs_pscmkaaluhjpgnjcbrdf_ind_15').style.opacity = 0;document.getElementById('_fb_pscmkaaluhjpgnjcbrdf_ind_15').style.opacity = 0;\" style=\"fill:rgb(0,0,0,0)\" /><g transform=\"translate(-1.5,0)\">  <svg x=\"46.38434935640951%\" y=\"40\" height=\"18\" overflow=\"visible\" width=\"30\">    <path d=\"M 0 -9 l 6 18 L 0 25\" fill=\"none\" style=\"stroke:rgb(255, 195, 213);stroke-width:2\" />  </svg></g><rect x=\"46.069092418323656%\" y=\"40\" height=\"20\" width=\"0.3152569380858523%\"      onmouseover=\"document.getElementById('_tp_pscmkaaluhjpgnjcbrdf_ind_16').style.textDecoration = 'underline';document.getElementById('_fs_pscmkaaluhjpgnjcbrdf_ind_16').style.opacity = 1;document.getElementById('_fb_pscmkaaluhjpgnjcbrdf_ind_16').style.opacity = 1;\"      onmouseout=\"document.getElementById('_tp_pscmkaaluhjpgnjcbrdf_ind_16').style.textDecoration = 'none';document.getElementById('_fs_pscmkaaluhjpgnjcbrdf_ind_16').style.opacity = 0;document.getElementById('_fb_pscmkaaluhjpgnjcbrdf_ind_16').style.opacity = 0;\" style=\"fill:rgb(0,0,0,0)\" /><g transform=\"translate(-1.5,0)\">  <svg x=\"46.069092418323656%\" y=\"40\" height=\"18\" overflow=\"visible\" width=\"30\">    <path d=\"M 0 -9 l 6 18 L 0 25\" fill=\"none\" style=\"stroke:rgb(255, 195, 213);stroke-width:2\" />  </svg></g><rect x=\"45.76920938018666%\" y=\"40\" height=\"20\" width=\"0.299883038136997%\"      onmouseover=\"document.getElementById('_tp_pscmkaaluhjpgnjcbrdf_ind_0').style.textDecoration = 'underline';document.getElementById('_fs_pscmkaaluhjpgnjcbrdf_ind_0').style.opacity = 1;document.getElementById('_fb_pscmkaaluhjpgnjcbrdf_ind_0').style.opacity = 1;\"      onmouseout=\"document.getElementById('_tp_pscmkaaluhjpgnjcbrdf_ind_0').style.textDecoration = 'none';document.getElementById('_fs_pscmkaaluhjpgnjcbrdf_ind_0').style.opacity = 0;document.getElementById('_fb_pscmkaaluhjpgnjcbrdf_ind_0').style.opacity = 0;\" style=\"fill:rgb(0,0,0,0)\" /><g transform=\"translate(-1.5,0)\">  <svg x=\"45.76920938018666%\" y=\"40\" height=\"18\" overflow=\"visible\" width=\"30\">    <path d=\"M 0 -9 l 6 18 L 0 25\" fill=\"none\" style=\"stroke:rgb(255, 195, 213);stroke-width:2\" />  </svg></g><rect x=\"45.48147242114373%\" y=\"40\" height=\"20\" width=\"0.28773695904293106%\"      onmouseover=\"document.getElementById('_tp_pscmkaaluhjpgnjcbrdf_ind_23').style.textDecoration = 'underline';document.getElementById('_fs_pscmkaaluhjpgnjcbrdf_ind_23').style.opacity = 1;document.getElementById('_fb_pscmkaaluhjpgnjcbrdf_ind_23').style.opacity = 1;\"      onmouseout=\"document.getElementById('_tp_pscmkaaluhjpgnjcbrdf_ind_23').style.textDecoration = 'none';document.getElementById('_fs_pscmkaaluhjpgnjcbrdf_ind_23').style.opacity = 0;document.getElementById('_fb_pscmkaaluhjpgnjcbrdf_ind_23').style.opacity = 0;\" style=\"fill:rgb(0,0,0,0)\" /><rect x=\"45.2253010879376%\" y=\"40\" height=\"20\" width=\"0.25617133320612595%\"      onmouseover=\"document.getElementById('_tp_pscmkaaluhjpgnjcbrdf_ind_7').style.textDecoration = 'underline';document.getElementById('_fs_pscmkaaluhjpgnjcbrdf_ind_7').style.opacity = 1;document.getElementById('_fb_pscmkaaluhjpgnjcbrdf_ind_7').style.opacity = 1;\"      onmouseout=\"document.getElementById('_tp_pscmkaaluhjpgnjcbrdf_ind_7').style.textDecoration = 'none';document.getElementById('_fs_pscmkaaluhjpgnjcbrdf_ind_7').style.opacity = 0;document.getElementById('_fb_pscmkaaluhjpgnjcbrdf_ind_7').style.opacity = 0;\" style=\"fill:rgb(0,0,0,0)\" /><rect x=\"90.36593919600836%\" width=\"4.6545419504020344%\" y=\"40\" height=\"18\" style=\"fill:rgb(0.0, 138.56128015770727, 250.76166088685727); stroke-width:0; stroke:rgb(0,0,0)\" /><line x1=\"90.36593919600836%\" x2=\"92.29792679182518%\" y1=\"60\" y2=\"60\" id=\"_fb_pscmkaaluhjpgnjcbrdf_ind_27\" style=\"stroke:rgb(0.0, 138.56128015770727, 250.76166088685727);stroke-width:2; opacity: 0\"/><text x=\"91.33193299391677%\" y=\"71\" font-size=\"12px\" fill=\"rgb(0.0, 138.56128015770727, 250.76166088685727)\" id=\"_fs_pscmkaaluhjpgnjcbrdf_ind_27\" style=\"opacity: 0\" dominant-baseline=\"middle\" text-anchor=\"middle\">-0.023</text><svg x=\"90.36593919600836%\" y=\"40\" height=\"20\" width=\"1.9319875958168211%\">  <svg x=\"0\" y=\"0\" width=\"100%\" height=\"100%\">    <text x=\"50%\" y=\"9\" font-size=\"12px\" fill=\"rgb(255,255,255)\" dominant-baseline=\"middle\" text-anchor=\"middle\">3/</text>  </svg></svg><line x1=\"92.29792679182518%\" x2=\"94.19790086620715%\" y1=\"60\" y2=\"60\" id=\"_fb_pscmkaaluhjpgnjcbrdf_ind_28\" style=\"stroke:rgb(0.0, 138.56128015770727, 250.76166088685727);stroke-width:2; opacity: 0\"/><text x=\"93.24791382901617%\" y=\"71\" font-size=\"12px\" fill=\"rgb(0.0, 138.56128015770727, 250.76166088685727)\" id=\"_fs_pscmkaaluhjpgnjcbrdf_ind_28\" style=\"opacity: 0\" dominant-baseline=\"middle\" text-anchor=\"middle\">-0.022</text><svg x=\"92.29792679182518%\" y=\"40\" height=\"20\" width=\"1.8999740743819729%\">  <svg x=\"0\" y=\"0\" width=\"100%\" height=\"100%\">    <text x=\"50%\" y=\"9\" font-size=\"12px\" fill=\"rgb(255,255,255)\" dominant-baseline=\"middle\" text-anchor=\"middle\">10)</text>  </svg></svg><line x1=\"94.19790086620715%\" x2=\"94.79820665944013%\" y1=\"60\" y2=\"60\" id=\"_fb_pscmkaaluhjpgnjcbrdf_ind_26\" style=\"stroke:rgb(0.0, 138.56128015770727, 250.76166088685727);stroke-width:2; opacity: 0\"/><text x=\"94.49805376282364%\" y=\"71\" font-size=\"12px\" fill=\"rgb(0.0, 138.56128015770727, 250.76166088685727)\" id=\"_fs_pscmkaaluhjpgnjcbrdf_ind_26\" style=\"opacity: 0\" dominant-baseline=\"middle\" text-anchor=\"middle\">-0.007</text><svg x=\"94.19790086620715%\" y=\"40\" height=\"20\" width=\"0.6003057932329767%\">  <svg x=\"0\" y=\"0\" width=\"100%\" height=\"100%\">    <text x=\"50%\" y=\"9\" font-size=\"12px\" fill=\"rgb(255,255,255)\" dominant-baseline=\"middle\" text-anchor=\"middle\">(</text>  </svg></svg><line x1=\"94.79820665944013%\" x2=\"94.91322495420565%\" y1=\"60\" y2=\"60\" id=\"_fb_pscmkaaluhjpgnjcbrdf_ind_3\" style=\"stroke:rgb(0.0, 138.56128015770727, 250.76166088685727);stroke-width:2; opacity: 0\"/><text x=\"94.85571580682289%\" y=\"71\" font-size=\"12px\" fill=\"rgb(0.0, 138.56128015770727, 250.76166088685727)\" id=\"_fs_pscmkaaluhjpgnjcbrdf_ind_3\" style=\"opacity: 0\" dominant-baseline=\"middle\" text-anchor=\"middle\">-0.001</text><svg x=\"94.79820665944013%\" y=\"40\" height=\"20\" width=\"0.11501829476551961%\">  <svg x=\"0\" y=\"0\" width=\"100%\" height=\"100%\">    <text x=\"50%\" y=\"9\" font-size=\"12px\" fill=\"rgb(255,255,255)\" dominant-baseline=\"middle\" text-anchor=\"middle\">a</text>  </svg></svg><line x1=\"94.91322495420565%\" x2=\"95.02048114641039%\" y1=\"60\" y2=\"60\" id=\"_fb_pscmkaaluhjpgnjcbrdf_ind_29\" style=\"stroke:rgb(0.0, 138.56128015770727, 250.76166088685727);stroke-width:2; opacity: 0\"/><text x=\"94.96685305030802%\" y=\"71\" font-size=\"12px\" fill=\"rgb(0.0, 138.56128015770727, 250.76166088685727)\" id=\"_fs_pscmkaaluhjpgnjcbrdf_ind_29\" style=\"opacity: 0\" dominant-baseline=\"middle\" text-anchor=\"middle\">-0.001</text><svg x=\"94.91322495420565%\" y=\"40\" height=\"20\" width=\"0.10725619220474414%\">  <svg x=\"0\" y=\"0\" width=\"100%\" height=\"100%\">    <text x=\"50%\" y=\"9\" font-size=\"12px\" fill=\"rgb(255,255,255)\" dominant-baseline=\"middle\" text-anchor=\"middle\"></text>  </svg></svg><g transform=\"translate(-8,0)\">  <svg x=\"92.29792679182518%\" y=\"40\" height=\"18\" overflow=\"visible\" width=\"30\">    <path d=\"M 8 -9 l -6 18 L 8 25\" fill=\"none\" style=\"stroke:rgb(0.0, 138.56128015770727, 250.76166088685727);stroke-width:2\" />  </svg></g><g transform=\"translate(-10,0)\">  <svg x=\"92.29792679182518%\" y=\"40\" height=\"18\" overflow=\"visible\" width=\"30\">    <path d=\"M 8 -9 l -6 18 L 8 25\" fill=\"none\" style=\"stroke:rgb(0.0, 138.56128015770727, 250.76166088685727);stroke-width:2\" />  </svg></g><g transform=\"translate(-12,0)\">  <svg x=\"92.29792679182518%\" y=\"40\" height=\"18\" overflow=\"visible\" width=\"30\">    <path d=\"M 8 -9 l -6 18 L 8 25\" fill=\"none\" style=\"stroke:rgb(0.0, 138.56128015770727, 250.76166088685727);stroke-width:2\" />  </svg></g><g transform=\"translate(-14,0)\">  <svg x=\"92.29792679182518%\" y=\"40\" height=\"18\" overflow=\"visible\" width=\"30\">    <path d=\"M 8 -9 l -6 18 L 8 25\" fill=\"none\" style=\"stroke:rgb(0.0, 138.56128015770727, 250.76166088685727);stroke-width:2\" />  </svg></g><g transform=\"translate(2,0)\">  <svg x=\"92.29792679182518%\" y=\"40\" height=\"18\" overflow=\"visible\" width=\"30\">    <path d=\"M 8 -9 l -6 18 L 8 25\" fill=\"none\" style=\"stroke:rgb(0.0, 138.56128015770727, 250.76166088685727);stroke-width:2\" />  </svg></g><g transform=\"translate(0,0)\">  <svg x=\"92.29792679182518%\" y=\"40\" height=\"18\" overflow=\"visible\" width=\"30\">    <path d=\"M 8 -9 l -6 18 L 8 25\" fill=\"none\" style=\"stroke:rgb(0.0, 138.56128015770727, 250.76166088685727);stroke-width:2\" />  </svg></g><g transform=\"translate(-2,0)\">  <svg x=\"92.29792679182518%\" y=\"40\" height=\"18\" overflow=\"visible\" width=\"30\">    <path d=\"M 8 -9 l -6 18 L 8 25\" fill=\"none\" style=\"stroke:rgb(0.0, 138.56128015770727, 250.76166088685727);stroke-width:2\" />  </svg></g><g transform=\"translate(-4,0)\">  <svg x=\"92.29792679182518%\" y=\"40\" height=\"18\" overflow=\"visible\" width=\"30\">    <path d=\"M 8 -9 l -6 18 L 8 25\" fill=\"none\" style=\"stroke:rgb(0.0, 138.56128015770727, 250.76166088685727);stroke-width:2\" />  </svg></g><g transform=\"translate(-8,0)\">  <svg x=\"94.19790086620715%\" y=\"40\" height=\"18\" overflow=\"visible\" width=\"30\">    <path d=\"M 8 -9 l -6 18 L 8 25\" fill=\"none\" style=\"stroke:rgb(0.0, 138.56128015770727, 250.76166088685727);stroke-width:2\" />  </svg></g><g transform=\"translate(-10,0)\">  <svg x=\"94.19790086620715%\" y=\"40\" height=\"18\" overflow=\"visible\" width=\"30\">    <path d=\"M 8 -9 l -6 18 L 8 25\" fill=\"none\" style=\"stroke:rgb(0.0, 138.56128015770727, 250.76166088685727);stroke-width:2\" />  </svg></g><g transform=\"translate(-12,0)\">  <svg x=\"94.19790086620715%\" y=\"40\" height=\"18\" overflow=\"visible\" width=\"30\">    <path d=\"M 8 -9 l -6 18 L 8 25\" fill=\"none\" style=\"stroke:rgb(0.0, 138.56128015770727, 250.76166088685727);stroke-width:2\" />  </svg></g><g transform=\"translate(-14,0)\">  <svg x=\"94.19790086620715%\" y=\"40\" height=\"18\" overflow=\"visible\" width=\"30\">    <path d=\"M 8 -9 l -6 18 L 8 25\" fill=\"none\" style=\"stroke:rgb(0.0, 138.56128015770727, 250.76166088685727);stroke-width:2\" />  </svg></g><g transform=\"translate(2,0)\">  <svg x=\"94.19790086620715%\" y=\"40\" height=\"18\" overflow=\"visible\" width=\"30\">    <path d=\"M 8 -9 l -6 18 L 8 25\" fill=\"none\" style=\"stroke:rgb(0.0, 138.56128015770727, 250.76166088685727);stroke-width:2\" />  </svg></g><g transform=\"translate(0,0)\">  <svg x=\"94.19790086620715%\" y=\"40\" height=\"18\" overflow=\"visible\" width=\"30\">    <path d=\"M 8 -9 l -6 18 L 8 25\" fill=\"none\" style=\"stroke:rgb(0.0, 138.56128015770727, 250.76166088685727);stroke-width:2\" />  </svg></g><g transform=\"translate(-2,0)\">  <svg x=\"94.19790086620715%\" y=\"40\" height=\"18\" overflow=\"visible\" width=\"30\">    <path d=\"M 8 -9 l -6 18 L 8 25\" fill=\"none\" style=\"stroke:rgb(0.0, 138.56128015770727, 250.76166088685727);stroke-width:2\" />  </svg></g><g transform=\"translate(-4,0)\">  <svg x=\"94.19790086620715%\" y=\"40\" height=\"18\" overflow=\"visible\" width=\"30\">    <path d=\"M 8 -9 l -6 18 L 8 25\" fill=\"none\" style=\"stroke:rgb(0.0, 138.56128015770727, 250.76166088685727);stroke-width:2\" />  </svg></g><g transform=\"translate(-8,0)\">  <svg x=\"94.79820665944013%\" y=\"40\" height=\"18\" overflow=\"visible\" width=\"30\">    <path d=\"M 8 -9 l -6 18 L 8 25\" fill=\"none\" style=\"stroke:rgb(0.0, 138.56128015770727, 250.76166088685727);stroke-width:2\" />  </svg></g><g transform=\"translate(-10,0)\">  <svg x=\"94.79820665944013%\" y=\"40\" height=\"18\" overflow=\"visible\" width=\"30\">    <path d=\"M 8 -9 l -6 18 L 8 25\" fill=\"none\" style=\"stroke:rgb(0.0, 138.56128015770727, 250.76166088685727);stroke-width:2\" />  </svg></g><g transform=\"translate(-12,0)\">  <svg x=\"94.79820665944013%\" y=\"40\" height=\"18\" overflow=\"visible\" width=\"30\">    <path d=\"M 8 -9 l -6 18 L 8 25\" fill=\"none\" style=\"stroke:rgb(0.0, 138.56128015770727, 250.76166088685727);stroke-width:2\" />  </svg></g><g transform=\"translate(-14,0)\">  <svg x=\"94.79820665944013%\" y=\"40\" height=\"18\" overflow=\"visible\" width=\"30\">    <path d=\"M 8 -9 l -6 18 L 8 25\" fill=\"none\" style=\"stroke:rgb(0.0, 138.56128015770727, 250.76166088685727);stroke-width:2\" />  </svg></g><g transform=\"translate(2,0)\">  <svg x=\"94.79820665944013%\" y=\"40\" height=\"18\" overflow=\"visible\" width=\"30\">    <path d=\"M 8 -9 l -6 18 L 8 25\" fill=\"none\" style=\"stroke:rgb(0.0, 138.56128015770727, 250.76166088685727);stroke-width:2\" />  </svg></g><g transform=\"translate(0,0)\">  <svg x=\"94.79820665944013%\" y=\"40\" height=\"18\" overflow=\"visible\" width=\"30\">    <path d=\"M 8 -9 l -6 18 L 8 25\" fill=\"none\" style=\"stroke:rgb(0.0, 138.56128015770727, 250.76166088685727);stroke-width:2\" />  </svg></g><g transform=\"translate(-2,0)\">  <svg x=\"94.79820665944013%\" y=\"40\" height=\"18\" overflow=\"visible\" width=\"30\">    <path d=\"M 8 -9 l -6 18 L 8 25\" fill=\"none\" style=\"stroke:rgb(0.0, 138.56128015770727, 250.76166088685727);stroke-width:2\" />  </svg></g><g transform=\"translate(-4,0)\">  <svg x=\"94.79820665944013%\" y=\"40\" height=\"18\" overflow=\"visible\" width=\"30\">    <path d=\"M 8 -9 l -6 18 L 8 25\" fill=\"none\" style=\"stroke:rgb(0.0, 138.56128015770727, 250.76166088685727);stroke-width:2\" />  </svg></g><g transform=\"translate(-8,0)\">  <svg x=\"94.91322495420565%\" y=\"40\" height=\"18\" overflow=\"visible\" width=\"30\">    <path d=\"M 8 -9 l -6 18 L 8 25\" fill=\"none\" style=\"stroke:rgb(0.0, 138.56128015770727, 250.76166088685727);stroke-width:2\" />  </svg></g><g transform=\"translate(-10,0)\">  <svg x=\"94.91322495420565%\" y=\"40\" height=\"18\" overflow=\"visible\" width=\"30\">    <path d=\"M 8 -9 l -6 18 L 8 25\" fill=\"none\" style=\"stroke:rgb(0.0, 138.56128015770727, 250.76166088685727);stroke-width:2\" />  </svg></g><g transform=\"translate(-12,0)\">  <svg x=\"94.91322495420565%\" y=\"40\" height=\"18\" overflow=\"visible\" width=\"30\">    <path d=\"M 8 -9 l -6 18 L 8 25\" fill=\"none\" style=\"stroke:rgb(0.0, 138.56128015770727, 250.76166088685727);stroke-width:2\" />  </svg></g><g transform=\"translate(-14,0)\">  <svg x=\"94.91322495420565%\" y=\"40\" height=\"18\" overflow=\"visible\" width=\"30\">    <path d=\"M 8 -9 l -6 18 L 8 25\" fill=\"none\" style=\"stroke:rgb(0.0, 138.56128015770727, 250.76166088685727);stroke-width:2\" />  </svg></g><g transform=\"translate(2,0)\">  <svg x=\"94.91322495420565%\" y=\"40\" height=\"18\" overflow=\"visible\" width=\"30\">    <path d=\"M 8 -9 l -6 18 L 8 25\" fill=\"none\" style=\"stroke:rgb(0.0, 138.56128015770727, 250.76166088685727);stroke-width:2\" />  </svg></g><g transform=\"translate(0,0)\">  <svg x=\"94.91322495420565%\" y=\"40\" height=\"18\" overflow=\"visible\" width=\"30\">    <path d=\"M 8 -9 l -6 18 L 8 25\" fill=\"none\" style=\"stroke:rgb(0.0, 138.56128015770727, 250.76166088685727);stroke-width:2\" />  </svg></g><g transform=\"translate(-2,0)\">  <svg x=\"94.91322495420565%\" y=\"40\" height=\"18\" overflow=\"visible\" width=\"30\">    <path d=\"M 8 -9 l -6 18 L 8 25\" fill=\"none\" style=\"stroke:rgb(0.0, 138.56128015770727, 250.76166088685727);stroke-width:2\" />  </svg></g><g transform=\"translate(-4,0)\">  <svg x=\"94.91322495420565%\" y=\"40\" height=\"18\" overflow=\"visible\" width=\"30\">    <path d=\"M 8 -9 l -6 18 L 8 25\" fill=\"none\" style=\"stroke:rgb(0.0, 138.56128015770727, 250.76166088685727);stroke-width:2\" />  </svg></g><rect transform=\"translate(0,0)\" x=\"90.36593919600836%\" y=\"40\" width=\"8\" height=\"18\" style=\"fill:rgb(0.0, 138.56128015770727, 250.76166088685727)\"/><g transform=\"translate(-6.0,0)\">  <svg x=\"95.02048114641039%\" y=\"40\" height=\"18\" overflow=\"visible\" width=\"30\">    <path d=\"M 8 -9 l -6 18 L 8 25 L 20 25 L 20 -9\" fill=\"#ffffff\" style=\"stroke:rgb(255,255,255);stroke-width:2\" />  </svg></g><g transform=\"translate(-6.0,0)\">  <svg x=\"92.29792679182518%\" y=\"40\" height=\"18\" overflow=\"visible\" width=\"30\">    <path d=\"M 8 -9 l -6 18 L 8 25\" fill=\"none\" style=\"stroke:rgb(208, 230, 250);stroke-width:2\" />  </svg></g><rect x=\"90.36593919600836%\" y=\"40\" height=\"20\" width=\"1.9319875958168211%\"      onmouseover=\"document.getElementById('_tp_pscmkaaluhjpgnjcbrdf_ind_27').style.textDecoration = 'underline';document.getElementById('_fs_pscmkaaluhjpgnjcbrdf_ind_27').style.opacity = 1;document.getElementById('_fb_pscmkaaluhjpgnjcbrdf_ind_27').style.opacity = 1;\"      onmouseout=\"document.getElementById('_tp_pscmkaaluhjpgnjcbrdf_ind_27').style.textDecoration = 'none';document.getElementById('_fs_pscmkaaluhjpgnjcbrdf_ind_27').style.opacity = 0;document.getElementById('_fb_pscmkaaluhjpgnjcbrdf_ind_27').style.opacity = 0;\" style=\"fill:rgb(0,0,0,0)\" /><g transform=\"translate(-6.0,0)\">  <svg x=\"94.19790086620715%\" y=\"40\" height=\"18\" overflow=\"visible\" width=\"30\">    <path d=\"M 8 -9 l -6 18 L 8 25\" fill=\"none\" style=\"stroke:rgb(208, 230, 250);stroke-width:2\" />  </svg></g><rect x=\"92.29792679182518%\" y=\"40\" height=\"20\" width=\"1.8999740743819729%\"      onmouseover=\"document.getElementById('_tp_pscmkaaluhjpgnjcbrdf_ind_28').style.textDecoration = 'underline';document.getElementById('_fs_pscmkaaluhjpgnjcbrdf_ind_28').style.opacity = 1;document.getElementById('_fb_pscmkaaluhjpgnjcbrdf_ind_28').style.opacity = 1;\"      onmouseout=\"document.getElementById('_tp_pscmkaaluhjpgnjcbrdf_ind_28').style.textDecoration = 'none';document.getElementById('_fs_pscmkaaluhjpgnjcbrdf_ind_28').style.opacity = 0;document.getElementById('_fb_pscmkaaluhjpgnjcbrdf_ind_28').style.opacity = 0;\" style=\"fill:rgb(0,0,0,0)\" /><g transform=\"translate(-6.0,0)\">  <svg x=\"94.79820665944013%\" y=\"40\" height=\"18\" overflow=\"visible\" width=\"30\">    <path d=\"M 8 -9 l -6 18 L 8 25\" fill=\"none\" style=\"stroke:rgb(208, 230, 250);stroke-width:2\" />  </svg></g><rect x=\"94.19790086620715%\" y=\"40\" height=\"20\" width=\"0.6003057932329767%\"      onmouseover=\"document.getElementById('_tp_pscmkaaluhjpgnjcbrdf_ind_26').style.textDecoration = 'underline';document.getElementById('_fs_pscmkaaluhjpgnjcbrdf_ind_26').style.opacity = 1;document.getElementById('_fb_pscmkaaluhjpgnjcbrdf_ind_26').style.opacity = 1;\"      onmouseout=\"document.getElementById('_tp_pscmkaaluhjpgnjcbrdf_ind_26').style.textDecoration = 'none';document.getElementById('_fs_pscmkaaluhjpgnjcbrdf_ind_26').style.opacity = 0;document.getElementById('_fb_pscmkaaluhjpgnjcbrdf_ind_26').style.opacity = 0;\" style=\"fill:rgb(0,0,0,0)\" /><g transform=\"translate(-6.0,0)\">  <svg x=\"94.91322495420565%\" y=\"40\" height=\"18\" overflow=\"visible\" width=\"30\">    <path d=\"M 8 -9 l -6 18 L 8 25\" fill=\"none\" style=\"stroke:rgb(208, 230, 250);stroke-width:2\" />  </svg></g><rect x=\"94.79820665944013%\" y=\"40\" height=\"20\" width=\"0.11501829476551961%\"      onmouseover=\"document.getElementById('_tp_pscmkaaluhjpgnjcbrdf_ind_3').style.textDecoration = 'underline';document.getElementById('_fs_pscmkaaluhjpgnjcbrdf_ind_3').style.opacity = 1;document.getElementById('_fb_pscmkaaluhjpgnjcbrdf_ind_3').style.opacity = 1;\"      onmouseout=\"document.getElementById('_tp_pscmkaaluhjpgnjcbrdf_ind_3').style.textDecoration = 'none';document.getElementById('_fs_pscmkaaluhjpgnjcbrdf_ind_3').style.opacity = 0;document.getElementById('_fb_pscmkaaluhjpgnjcbrdf_ind_3').style.opacity = 0;\" style=\"fill:rgb(0,0,0,0)\" /><rect x=\"94.91322495420565%\" y=\"40\" height=\"20\" width=\"0.10725619220474414%\"      onmouseover=\"document.getElementById('_tp_pscmkaaluhjpgnjcbrdf_ind_29').style.textDecoration = 'underline';document.getElementById('_fs_pscmkaaluhjpgnjcbrdf_ind_29').style.opacity = 1;document.getElementById('_fb_pscmkaaluhjpgnjcbrdf_ind_29').style.opacity = 1;\"      onmouseout=\"document.getElementById('_tp_pscmkaaluhjpgnjcbrdf_ind_29').style.textDecoration = 'none';document.getElementById('_fs_pscmkaaluhjpgnjcbrdf_ind_29').style.opacity = 0;document.getElementById('_fb_pscmkaaluhjpgnjcbrdf_ind_29').style.opacity = 0;\" style=\"fill:rgb(0,0,0,0)\" /></svg><div align='center'><div style=\"color: rgb(120,120,120); font-size: 12px; margin-top: -15px;\">inputs</div><div style='display: inline; text-align: center;'\n",
              "    ><div style='display: none; color: #999; padding-top: 0px; font-size: 12px;'>0.004</div\n",
              "        ><div id='_tp_pscmkaaluhjpgnjcbrdf_ind_0'\n",
              "            style='display: inline; background: rgba(255.0, 13.0, 87.0, 0.03830461477520289); border-radius: 3px; padding: 0px'\n",
              "            onclick=\"\n",
              "            if (this.previousSibling.style.display == 'none') {\n",
              "                this.previousSibling.style.display = 'block';\n",
              "                this.parentNode.style.display = 'inline-block';\n",
              "            } else {\n",
              "                this.previousSibling.style.display = 'none';\n",
              "                this.parentNode.style.display = 'inline';\n",
              "            }\"\n",
              "            onmouseover=\"document.getElementById('_fb_pscmkaaluhjpgnjcbrdf_ind_0').style.opacity = 1; document.getElementById('_fs_pscmkaaluhjpgnjcbrdf_ind_0').style.opacity = 1;\"\n",
              "            onmouseout=\"document.getElementById('_fb_pscmkaaluhjpgnjcbrdf_ind_0').style.opacity = 0; document.getElementById('_fs_pscmkaaluhjpgnjcbrdf_ind_0').style.opacity = 0;\"\n",
              "        ></div></div><div style='display: inline; text-align: center;'\n",
              "    ><div style='display: none; color: #999; padding-top: 0px; font-size: 12px;'>0.009</div\n",
              "        ><div id='_tp_pscmkaaluhjpgnjcbrdf_ind_1'\n",
              "            style='display: inline; background: rgba(255.0, 13.0, 87.0, 0.10924935630817992); border-radius: 3px; padding: 0px'\n",
              "            onclick=\"\n",
              "            if (this.previousSibling.style.display == 'none') {\n",
              "                this.previousSibling.style.display = 'block';\n",
              "                this.parentNode.style.display = 'inline-block';\n",
              "            } else {\n",
              "                this.previousSibling.style.display = 'none';\n",
              "                this.parentNode.style.display = 'inline';\n",
              "            }\"\n",
              "            onmouseover=\"document.getElementById('_fb_pscmkaaluhjpgnjcbrdf_ind_1').style.opacity = 1; document.getElementById('_fs_pscmkaaluhjpgnjcbrdf_ind_1').style.opacity = 1;\"\n",
              "            onmouseout=\"document.getElementById('_fb_pscmkaaluhjpgnjcbrdf_ind_1').style.opacity = 0; document.getElementById('_fs_pscmkaaluhjpgnjcbrdf_ind_1').style.opacity = 0;\"\n",
              "        >Widow </div></div><div style='display: inline; text-align: center;'\n",
              "    ><div style='display: none; color: #999; padding-top: 0px; font-size: 12px;'>0.006 / 2</div\n",
              "        ><div id='_tp_pscmkaaluhjpgnjcbrdf_ind_2'\n",
              "            style='display: inline; background: rgba(255.0, 13.0, 87.0, 0.06983561101208159); border-radius: 3px; padding: 0px'\n",
              "            onclick=\"\n",
              "            if (this.previousSibling.style.display == 'none') {\n",
              "                this.previousSibling.style.display = 'block';\n",
              "                this.parentNode.style.display = 'inline-block';\n",
              "            } else {\n",
              "                this.previousSibling.style.display = 'none';\n",
              "                this.parentNode.style.display = 'inline';\n",
              "            }\"\n",
              "            onmouseover=\"document.getElementById('_fb_pscmkaaluhjpgnjcbrdf_ind_2').style.opacity = 1; document.getElementById('_fs_pscmkaaluhjpgnjcbrdf_ind_2').style.opacity = 1;\"\n",
              "            onmouseout=\"document.getElementById('_fb_pscmkaaluhjpgnjcbrdf_ind_2').style.opacity = 0; document.getElementById('_fs_pscmkaaluhjpgnjcbrdf_ind_2').style.opacity = 0;\"\n",
              "        >hires </div></div><div style='display: inline; text-align: center;'\n",
              "    ><div style='display: none; color: #999; padding-top: 0px; font-size: 12px;'>-0.001</div\n",
              "        ><div id='_tp_pscmkaaluhjpgnjcbrdf_ind_3'\n",
              "            style='display: inline; background: rgba(30.0, 136.0, 229.0, 0.014656367597544028); border-radius: 3px; padding: 0px'\n",
              "            onclick=\"\n",
              "            if (this.previousSibling.style.display == 'none') {\n",
              "                this.previousSibling.style.display = 'block';\n",
              "                this.parentNode.style.display = 'inline-block';\n",
              "            } else {\n",
              "                this.previousSibling.style.display = 'none';\n",
              "                this.parentNode.style.display = 'inline';\n",
              "            }\"\n",
              "            onmouseover=\"document.getElementById('_fb_pscmkaaluhjpgnjcbrdf_ind_3').style.opacity = 1; document.getElementById('_fs_pscmkaaluhjpgnjcbrdf_ind_3').style.opacity = 1;\"\n",
              "            onmouseout=\"document.getElementById('_fb_pscmkaaluhjpgnjcbrdf_ind_3').style.opacity = 0; document.getElementById('_fs_pscmkaaluhjpgnjcbrdf_ind_3').style.opacity = 0;\"\n",
              "        >a </div></div><div style='display: inline; text-align: center;'\n",
              "    ><div style='display: none; color: #999; padding-top: 0px; font-size: 12px;'>0.012</div\n",
              "        ><div id='_tp_pscmkaaluhjpgnjcbrdf_ind_4'\n",
              "            style='display: inline; background: rgba(255.0, 13.0, 87.0, 0.14078035254505847); border-radius: 3px; padding: 0px'\n",
              "            onclick=\"\n",
              "            if (this.previousSibling.style.display == 'none') {\n",
              "                this.previousSibling.style.display = 'block';\n",
              "                this.parentNode.style.display = 'inline-block';\n",
              "            } else {\n",
              "                this.previousSibling.style.display = 'none';\n",
              "                this.parentNode.style.display = 'inline';\n",
              "            }\"\n",
              "            onmouseover=\"document.getElementById('_fb_pscmkaaluhjpgnjcbrdf_ind_4').style.opacity = 1; document.getElementById('_fs_pscmkaaluhjpgnjcbrdf_ind_4').style.opacity = 1;\"\n",
              "            onmouseout=\"document.getElementById('_fb_pscmkaaluhjpgnjcbrdf_ind_4').style.opacity = 0; document.getElementById('_fs_pscmkaaluhjpgnjcbrdf_ind_4').style.opacity = 0;\"\n",
              "        >ps</div></div><div style='display: inline; text-align: center;'\n",
              "    ><div style='display: none; color: #999; padding-top: 0px; font-size: 12px;'>0.009</div\n",
              "        ><div id='_tp_pscmkaaluhjpgnjcbrdf_ind_5'\n",
              "            style='display: inline; background: rgba(255.0, 13.0, 87.0, 0.10136660724896006); border-radius: 3px; padding: 0px'\n",
              "            onclick=\"\n",
              "            if (this.previousSibling.style.display == 'none') {\n",
              "                this.previousSibling.style.display = 'block';\n",
              "                this.parentNode.style.display = 'inline-block';\n",
              "            } else {\n",
              "                this.previousSibling.style.display = 'none';\n",
              "                this.parentNode.style.display = 'inline';\n",
              "            }\"\n",
              "            onmouseover=\"document.getElementById('_fb_pscmkaaluhjpgnjcbrdf_ind_5').style.opacity = 1; document.getElementById('_fs_pscmkaaluhjpgnjcbrdf_ind_5').style.opacity = 1;\"\n",
              "            onmouseout=\"document.getElementById('_fb_pscmkaaluhjpgnjcbrdf_ind_5').style.opacity = 0; document.getElementById('_fs_pscmkaaluhjpgnjcbrdf_ind_5').style.opacity = 0;\"\n",
              "        >ych</div></div><div style='display: inline; text-align: center;'\n",
              "    ><div style='display: none; color: #999; padding-top: 0px; font-size: 12px;'>0.005</div\n",
              "        ><div id='_tp_pscmkaaluhjpgnjcbrdf_ind_6'\n",
              "            style='display: inline; background: rgba(255.0, 13.0, 87.0, 0.05407011289364243); border-radius: 3px; padding: 0px'\n",
              "            onclick=\"\n",
              "            if (this.previousSibling.style.display == 'none') {\n",
              "                this.previousSibling.style.display = 'block';\n",
              "                this.parentNode.style.display = 'inline-block';\n",
              "            } else {\n",
              "                this.previousSibling.style.display = 'none';\n",
              "                this.parentNode.style.display = 'inline';\n",
              "            }\"\n",
              "            onmouseover=\"document.getElementById('_fb_pscmkaaluhjpgnjcbrdf_ind_6').style.opacity = 1; document.getElementById('_fs_pscmkaaluhjpgnjcbrdf_ind_6').style.opacity = 1;\"\n",
              "            onmouseout=\"document.getElementById('_fb_pscmkaaluhjpgnjcbrdf_ind_6').style.opacity = 0; document.getElementById('_fs_pscmkaaluhjpgnjcbrdf_ind_6').style.opacity = 0;\"\n",
              "        >op</div></div><div style='display: inline; text-align: center;'\n",
              "    ><div style='display: none; color: #999; padding-top: 0px; font-size: 12px;'>0.003</div\n",
              "        ><div id='_tp_pscmkaaluhjpgnjcbrdf_ind_7'\n",
              "            style='display: inline; background: rgba(255.0, 13.0, 87.0, 0.030421865715983164); border-radius: 3px; padding: 0px'\n",
              "            onclick=\"\n",
              "            if (this.previousSibling.style.display == 'none') {\n",
              "                this.previousSibling.style.display = 'block';\n",
              "                this.parentNode.style.display = 'inline-block';\n",
              "            } else {\n",
              "                this.previousSibling.style.display = 'none';\n",
              "                this.parentNode.style.display = 'inline';\n",
              "            }\"\n",
              "            onmouseover=\"document.getElementById('_fb_pscmkaaluhjpgnjcbrdf_ind_7').style.opacity = 1; document.getElementById('_fs_pscmkaaluhjpgnjcbrdf_ind_7').style.opacity = 1;\"\n",
              "            onmouseout=\"document.getElementById('_fb_pscmkaaluhjpgnjcbrdf_ind_7').style.opacity = 0; document.getElementById('_fs_pscmkaaluhjpgnjcbrdf_ind_7').style.opacity = 0;\"\n",
              "        >ath </div></div><div style='display: inline; text-align: center;'\n",
              "    ><div style='display: none; color: #999; padding-top: 0px; font-size: 12px;'>0.007 / 2</div\n",
              "        ><div id='_tp_pscmkaaluhjpgnjcbrdf_ind_8'\n",
              "            style='display: inline; background: rgba(255.0, 13.0, 87.0, 0.08560110913052081); border-radius: 3px; padding: 0px'\n",
              "            onclick=\"\n",
              "            if (this.previousSibling.style.display == 'none') {\n",
              "                this.previousSibling.style.display = 'block';\n",
              "                this.parentNode.style.display = 'inline-block';\n",
              "            } else {\n",
              "                this.previousSibling.style.display = 'none';\n",
              "                this.parentNode.style.display = 'inline';\n",
              "            }\"\n",
              "            onmouseover=\"document.getElementById('_fb_pscmkaaluhjpgnjcbrdf_ind_8').style.opacity = 1; document.getElementById('_fs_pscmkaaluhjpgnjcbrdf_ind_8').style.opacity = 1;\"\n",
              "            onmouseout=\"document.getElementById('_fb_pscmkaaluhjpgnjcbrdf_ind_8').style.opacity = 0; document.getElementById('_fs_pscmkaaluhjpgnjcbrdf_ind_8').style.opacity = 0;\"\n",
              "        >as a </div></div><div style='display: inline; text-align: center;'\n",
              "    ><div style='display: none; color: #999; padding-top: 0px; font-size: 12px;'>0.02</div\n",
              "        ><div id='_tp_pscmkaaluhjpgnjcbrdf_ind_9'\n",
              "            style='display: inline; background: rgba(255.0, 13.0, 87.0, 0.24325609031491383); border-radius: 3px; padding: 0px'\n",
              "            onclick=\"\n",
              "            if (this.previousSibling.style.display == 'none') {\n",
              "                this.previousSibling.style.display = 'block';\n",
              "                this.parentNode.style.display = 'inline-block';\n",
              "            } else {\n",
              "                this.previousSibling.style.display = 'none';\n",
              "                this.parentNode.style.display = 'inline';\n",
              "            }\"\n",
              "            onmouseover=\"document.getElementById('_fb_pscmkaaluhjpgnjcbrdf_ind_9').style.opacity = 1; document.getElementById('_fs_pscmkaaluhjpgnjcbrdf_ind_9').style.opacity = 1;\"\n",
              "            onmouseout=\"document.getElementById('_fb_pscmkaaluhjpgnjcbrdf_ind_9').style.opacity = 0; document.getElementById('_fs_pscmkaaluhjpgnjcbrdf_ind_9').style.opacity = 0;\"\n",
              "        >handy</div></div><div style='display: inline; text-align: center;'\n",
              "    ><div style='display: none; color: #999; padding-top: 0px; font-size: 12px;'>0.014</div\n",
              "        ><div id='_tp_pscmkaaluhjpgnjcbrdf_ind_10'\n",
              "            style='display: inline; background: rgba(255.0, 13.0, 87.0, 0.16442859972271742); border-radius: 3px; padding: 0px'\n",
              "            onclick=\"\n",
              "            if (this.previousSibling.style.display == 'none') {\n",
              "                this.previousSibling.style.display = 'block';\n",
              "                this.parentNode.style.display = 'inline-block';\n",
              "            } else {\n",
              "                this.previousSibling.style.display = 'none';\n",
              "                this.parentNode.style.display = 'inline';\n",
              "            }\"\n",
              "            onmouseover=\"document.getElementById('_fb_pscmkaaluhjpgnjcbrdf_ind_10').style.opacity = 1; document.getElementById('_fs_pscmkaaluhjpgnjcbrdf_ind_10').style.opacity = 1;\"\n",
              "            onmouseout=\"document.getElementById('_fb_pscmkaaluhjpgnjcbrdf_ind_10').style.opacity = 0; document.getElementById('_fs_pscmkaaluhjpgnjcbrdf_ind_10').style.opacity = 0;\"\n",
              "        >man</div></div><div style='display: inline; text-align: center;'\n",
              "    ><div style='display: none; color: #999; padding-top: 0px; font-size: 12px;'>0.012</div\n",
              "        ><div id='_tp_pscmkaaluhjpgnjcbrdf_ind_11'\n",
              "            style='display: inline; background: rgba(255.0, 13.0, 87.0, 0.14866310160427795); border-radius: 3px; padding: 0px'\n",
              "            onclick=\"\n",
              "            if (this.previousSibling.style.display == 'none') {\n",
              "                this.previousSibling.style.display = 'block';\n",
              "                this.parentNode.style.display = 'inline-block';\n",
              "            } else {\n",
              "                this.previousSibling.style.display = 'none';\n",
              "                this.parentNode.style.display = 'inline';\n",
              "            }\"\n",
              "            onmouseover=\"document.getElementById('_fb_pscmkaaluhjpgnjcbrdf_ind_11').style.opacity = 1; document.getElementById('_fs_pscmkaaluhjpgnjcbrdf_ind_11').style.opacity = 1;\"\n",
              "            onmouseout=\"document.getElementById('_fb_pscmkaaluhjpgnjcbrdf_ind_11').style.opacity = 0; document.getElementById('_fs_pscmkaaluhjpgnjcbrdf_ind_11').style.opacity = 0;\"\n",
              "        >. </div></div><div style='display: inline; text-align: center;'\n",
              "    ><div style='display: none; color: #999; padding-top: 0px; font-size: 12px;'>0.05</div\n",
              "        ><div id='_tp_pscmkaaluhjpgnjcbrdf_ind_12'\n",
              "            style='display: inline; background: rgba(255.0, 13.0, 87.0, 0.6137452960982372); border-radius: 3px; padding: 0px'\n",
              "            onclick=\"\n",
              "            if (this.previousSibling.style.display == 'none') {\n",
              "                this.previousSibling.style.display = 'block';\n",
              "                this.parentNode.style.display = 'inline-block';\n",
              "            } else {\n",
              "                this.previousSibling.style.display = 'none';\n",
              "                this.parentNode.style.display = 'inline';\n",
              "            }\"\n",
              "            onmouseover=\"document.getElementById('_fb_pscmkaaluhjpgnjcbrdf_ind_12').style.opacity = 1; document.getElementById('_fs_pscmkaaluhjpgnjcbrdf_ind_12').style.opacity = 1;\"\n",
              "            onmouseout=\"document.getElementById('_fb_pscmkaaluhjpgnjcbrdf_ind_12').style.opacity = 0; document.getElementById('_fs_pscmkaaluhjpgnjcbrdf_ind_12').style.opacity = 0;\"\n",
              "        >S</div></div><div style='display: inline; text-align: center;'\n",
              "    ><div style='display: none; color: #999; padding-top: 0px; font-size: 12px;'>0.082</div\n",
              "        ><div id='_tp_pscmkaaluhjpgnjcbrdf_ind_13'\n",
              "            style='display: inline; background: rgba(255.0, 13.0, 87.0, 1.0); border-radius: 3px; padding: 0px'\n",
              "            onclick=\"\n",
              "            if (this.previousSibling.style.display == 'none') {\n",
              "                this.previousSibling.style.display = 'block';\n",
              "                this.parentNode.style.display = 'inline-block';\n",
              "            } else {\n",
              "                this.previousSibling.style.display = 'none';\n",
              "                this.parentNode.style.display = 'inline';\n",
              "            }\"\n",
              "            onmouseover=\"document.getElementById('_fb_pscmkaaluhjpgnjcbrdf_ind_13').style.opacity = 1; document.getElementById('_fs_pscmkaaluhjpgnjcbrdf_ind_13').style.opacity = 1;\"\n",
              "            onmouseout=\"document.getElementById('_fb_pscmkaaluhjpgnjcbrdf_ind_13').style.opacity = 0; document.getElementById('_fs_pscmkaaluhjpgnjcbrdf_ind_13').style.opacity = 0;\"\n",
              "        >lop</div></div><div style='display: inline; text-align: center;'\n",
              "    ><div style='display: none; color: #999; padding-top: 0px; font-size: 12px;'>0.074</div\n",
              "        ><div id='_tp_pscmkaaluhjpgnjcbrdf_ind_14'\n",
              "            style='display: inline; background: rgba(255.0, 13.0, 87.0, 0.9054070112893643); border-radius: 3px; padding: 0px'\n",
              "            onclick=\"\n",
              "            if (this.previousSibling.style.display == 'none') {\n",
              "                this.previousSibling.style.display = 'block';\n",
              "                this.parentNode.style.display = 'inline-block';\n",
              "            } else {\n",
              "                this.previousSibling.style.display = 'none';\n",
              "                this.parentNode.style.display = 'inline';\n",
              "            }\"\n",
              "            onmouseover=\"document.getElementById('_fb_pscmkaaluhjpgnjcbrdf_ind_14').style.opacity = 1; document.getElementById('_fs_pscmkaaluhjpgnjcbrdf_ind_14').style.opacity = 1;\"\n",
              "            onmouseout=\"document.getElementById('_fb_pscmkaaluhjpgnjcbrdf_ind_14').style.opacity = 0; document.getElementById('_fs_pscmkaaluhjpgnjcbrdf_ind_14').style.opacity = 0;\"\n",
              "        >py </div></div><div style='display: inline; text-align: center;'\n",
              "    ><div style='display: none; color: #999; padding-top: 0px; font-size: 12px;'>0.004</div\n",
              "        ><div id='_tp_pscmkaaluhjpgnjcbrdf_ind_15'\n",
              "            style='display: inline; background: rgba(255.0, 13.0, 87.0, 0.03830461477520289); border-radius: 3px; padding: 0px'\n",
              "            onclick=\"\n",
              "            if (this.previousSibling.style.display == 'none') {\n",
              "                this.previousSibling.style.display = 'block';\n",
              "                this.parentNode.style.display = 'inline-block';\n",
              "            } else {\n",
              "                this.previousSibling.style.display = 'none';\n",
              "                this.parentNode.style.display = 'inline';\n",
              "            }\"\n",
              "            onmouseover=\"document.getElementById('_fb_pscmkaaluhjpgnjcbrdf_ind_15').style.opacity = 1; document.getElementById('_fs_pscmkaaluhjpgnjcbrdf_ind_15').style.opacity = 1;\"\n",
              "            onmouseout=\"document.getElementById('_fb_pscmkaaluhjpgnjcbrdf_ind_15').style.opacity = 0; document.getElementById('_fs_pscmkaaluhjpgnjcbrdf_ind_15').style.opacity = 0;\"\n",
              "        >film </div></div><div style='display: inline; text-align: center;'\n",
              "    ><div style='display: none; color: #999; padding-top: 0px; font-size: 12px;'>0.004</div\n",
              "        ><div id='_tp_pscmkaaluhjpgnjcbrdf_ind_16'\n",
              "            style='display: inline; background: rgba(255.0, 13.0, 87.0, 0.03830461477520289); border-radius: 3px; padding: 0px'\n",
              "            onclick=\"\n",
              "            if (this.previousSibling.style.display == 'none') {\n",
              "                this.previousSibling.style.display = 'block';\n",
              "                this.parentNode.style.display = 'inline-block';\n",
              "            } else {\n",
              "                this.previousSibling.style.display = 'none';\n",
              "                this.parentNode.style.display = 'inline';\n",
              "            }\"\n",
              "            onmouseover=\"document.getElementById('_fb_pscmkaaluhjpgnjcbrdf_ind_16').style.opacity = 1; document.getElementById('_fs_pscmkaaluhjpgnjcbrdf_ind_16').style.opacity = 1;\"\n",
              "            onmouseout=\"document.getElementById('_fb_pscmkaaluhjpgnjcbrdf_ind_16').style.opacity = 0; document.getElementById('_fs_pscmkaaluhjpgnjcbrdf_ind_16').style.opacity = 0;\"\n",
              "        >noir </div></div><div style='display: inline; text-align: center;'\n",
              "    ><div style='display: none; color: #999; padding-top: 0px; font-size: 12px;'>0.007 / 2</div\n",
              "        ><div id='_tp_pscmkaaluhjpgnjcbrdf_ind_17'\n",
              "            style='display: inline; background: rgba(255.0, 13.0, 87.0, 0.07771836007130124); border-radius: 3px; padding: 0px'\n",
              "            onclick=\"\n",
              "            if (this.previousSibling.style.display == 'none') {\n",
              "                this.previousSibling.style.display = 'block';\n",
              "                this.parentNode.style.display = 'inline-block';\n",
              "            } else {\n",
              "                this.previousSibling.style.display = 'none';\n",
              "                this.parentNode.style.display = 'inline';\n",
              "            }\"\n",
              "            onmouseover=\"document.getElementById('_fb_pscmkaaluhjpgnjcbrdf_ind_17').style.opacity = 1; document.getElementById('_fs_pscmkaaluhjpgnjcbrdf_ind_17').style.opacity = 1;\"\n",
              "            onmouseout=\"document.getElementById('_fb_pscmkaaluhjpgnjcbrdf_ind_17').style.opacity = 0; document.getElementById('_fs_pscmkaaluhjpgnjcbrdf_ind_17').style.opacity = 0;\"\n",
              "        >thriller which </div></div><div style='display: inline; text-align: center;'\n",
              "    ><div style='display: none; color: #999; padding-top: 0px; font-size: 12px;'>0.069</div\n",
              "        ><div id='_tp_pscmkaaluhjpgnjcbrdf_ind_18'\n",
              "            style='display: inline; background: rgba(255.0, 13.0, 87.0, 0.8502277678748268); border-radius: 3px; padding: 0px'\n",
              "            onclick=\"\n",
              "            if (this.previousSibling.style.display == 'none') {\n",
              "                this.previousSibling.style.display = 'block';\n",
              "                this.parentNode.style.display = 'inline-block';\n",
              "            } else {\n",
              "                this.previousSibling.style.display = 'none';\n",
              "                this.parentNode.style.display = 'inline';\n",
              "            }\"\n",
              "            onmouseover=\"document.getElementById('_fb_pscmkaaluhjpgnjcbrdf_ind_18').style.opacity = 1; document.getElementById('_fs_pscmkaaluhjpgnjcbrdf_ind_18').style.opacity = 1;\"\n",
              "            onmouseout=\"document.getElementById('_fb_pscmkaaluhjpgnjcbrdf_ind_18').style.opacity = 0; document.getElementById('_fs_pscmkaaluhjpgnjcbrdf_ind_18').style.opacity = 0;\"\n",
              "        >doesn</div></div><div style='display: inline; text-align: center;'\n",
              "    ><div style='display: none; color: #999; padding-top: 0px; font-size: 12px;'>0.021</div\n",
              "        ><div id='_tp_pscmkaaluhjpgnjcbrdf_ind_19'\n",
              "            style='display: inline; background: rgba(255.0, 13.0, 87.0, 0.2511388393741335); border-radius: 3px; padding: 0px'\n",
              "            onclick=\"\n",
              "            if (this.previousSibling.style.display == 'none') {\n",
              "                this.previousSibling.style.display = 'block';\n",
              "                this.parentNode.style.display = 'inline-block';\n",
              "            } else {\n",
              "                this.previousSibling.style.display = 'none';\n",
              "                this.parentNode.style.display = 'inline';\n",
              "            }\"\n",
              "            onmouseover=\"document.getElementById('_fb_pscmkaaluhjpgnjcbrdf_ind_19').style.opacity = 1; document.getElementById('_fs_pscmkaaluhjpgnjcbrdf_ind_19').style.opacity = 1;\"\n",
              "            onmouseout=\"document.getElementById('_fb_pscmkaaluhjpgnjcbrdf_ind_19').style.opacity = 0; document.getElementById('_fs_pscmkaaluhjpgnjcbrdf_ind_19').style.opacity = 0;\"\n",
              "        >'</div></div><div style='display: inline; text-align: center;'\n",
              "    ><div style='display: none; color: #999; padding-top: 0px; font-size: 12px;'>0.059</div\n",
              "        ><div id='_tp_pscmkaaluhjpgnjcbrdf_ind_20'\n",
              "            style='display: inline; background: rgba(255.0, 13.0, 87.0, 0.7162210338680925); border-radius: 3px; padding: 0px'\n",
              "            onclick=\"\n",
              "            if (this.previousSibling.style.display == 'none') {\n",
              "                this.previousSibling.style.display = 'block';\n",
              "                this.parentNode.style.display = 'inline-block';\n",
              "            } else {\n",
              "                this.previousSibling.style.display = 'none';\n",
              "                this.parentNode.style.display = 'inline';\n",
              "            }\"\n",
              "            onmouseover=\"document.getElementById('_fb_pscmkaaluhjpgnjcbrdf_ind_20').style.opacity = 1; document.getElementById('_fs_pscmkaaluhjpgnjcbrdf_ind_20').style.opacity = 1;\"\n",
              "            onmouseout=\"document.getElementById('_fb_pscmkaaluhjpgnjcbrdf_ind_20').style.opacity = 0; document.getElementById('_fs_pscmkaaluhjpgnjcbrdf_ind_20').style.opacity = 0;\"\n",
              "        >t </div></div><div style='display: inline; text-align: center;'\n",
              "    ><div style='display: none; color: #999; padding-top: 0px; font-size: 12px;'>0.021 / 2</div\n",
              "        ><div id='_tp_pscmkaaluhjpgnjcbrdf_ind_21'\n",
              "            style='display: inline; background: rgba(255.0, 13.0, 87.0, 0.2511388393741335); border-radius: 3px; padding: 0px'\n",
              "            onclick=\"\n",
              "            if (this.previousSibling.style.display == 'none') {\n",
              "                this.previousSibling.style.display = 'block';\n",
              "                this.parentNode.style.display = 'inline-block';\n",
              "            } else {\n",
              "                this.previousSibling.style.display = 'none';\n",
              "                this.parentNode.style.display = 'inline';\n",
              "            }\"\n",
              "            onmouseover=\"document.getElementById('_fb_pscmkaaluhjpgnjcbrdf_ind_21').style.opacity = 1; document.getElementById('_fs_pscmkaaluhjpgnjcbrdf_ind_21').style.opacity = 1;\"\n",
              "            onmouseout=\"document.getElementById('_fb_pscmkaaluhjpgnjcbrdf_ind_21').style.opacity = 0; document.getElementById('_fs_pscmkaaluhjpgnjcbrdf_ind_21').style.opacity = 0;\"\n",
              "        >make much </div></div><div style='display: inline; text-align: center;'\n",
              "    ><div style='display: none; color: #999; padding-top: 0px; font-size: 12px;'>0.01 / 2</div\n",
              "        ><div id='_tp_pscmkaaluhjpgnjcbrdf_ind_22'\n",
              "            style='display: inline; background: rgba(255.0, 13.0, 87.0, 0.1171321053673995); border-radius: 3px; padding: 0px'\n",
              "            onclick=\"\n",
              "            if (this.previousSibling.style.display == 'none') {\n",
              "                this.previousSibling.style.display = 'block';\n",
              "                this.parentNode.style.display = 'inline-block';\n",
              "            } else {\n",
              "                this.previousSibling.style.display = 'none';\n",
              "                this.parentNode.style.display = 'inline';\n",
              "            }\"\n",
              "            onmouseover=\"document.getElementById('_fb_pscmkaaluhjpgnjcbrdf_ind_22').style.opacity = 1; document.getElementById('_fs_pscmkaaluhjpgnjcbrdf_ind_22').style.opacity = 1;\"\n",
              "            onmouseout=\"document.getElementById('_fb_pscmkaaluhjpgnjcbrdf_ind_22').style.opacity = 0; document.getElementById('_fs_pscmkaaluhjpgnjcbrdf_ind_22').style.opacity = 0;\"\n",
              "        >of its </div></div><div style='display: inline; text-align: center;'\n",
              "    ><div style='display: none; color: #999; padding-top: 0px; font-size: 12px;'>0.003 / 2</div\n",
              "        ><div id='_tp_pscmkaaluhjpgnjcbrdf_ind_23'\n",
              "            style='display: inline; background: rgba(255.0, 13.0, 87.0, 0.03830461477520289); border-radius: 3px; padding: 0px'\n",
              "            onclick=\"\n",
              "            if (this.previousSibling.style.display == 'none') {\n",
              "                this.previousSibling.style.display = 'block';\n",
              "                this.parentNode.style.display = 'inline-block';\n",
              "            } else {\n",
              "                this.previousSibling.style.display = 'none';\n",
              "                this.parentNode.style.display = 'inline';\n",
              "            }\"\n",
              "            onmouseover=\"document.getElementById('_fb_pscmkaaluhjpgnjcbrdf_ind_23').style.opacity = 1; document.getElementById('_fs_pscmkaaluhjpgnjcbrdf_ind_23').style.opacity = 1;\"\n",
              "            onmouseout=\"document.getElementById('_fb_pscmkaaluhjpgnjcbrdf_ind_23').style.opacity = 0; document.getElementById('_fs_pscmkaaluhjpgnjcbrdf_ind_23').style.opacity = 0;\"\n",
              "        >tension promising </div></div><div style='display: inline; text-align: center;'\n",
              "    ><div style='display: none; color: #999; padding-top: 0px; font-size: 12px;'>0.017 / 3</div\n",
              "        ><div id='_tp_pscmkaaluhjpgnjcbrdf_ind_24'\n",
              "            style='display: inline; background: rgba(255.0, 13.0, 87.0, 0.2117250940780353); border-radius: 3px; padding: 0px'\n",
              "            onclick=\"\n",
              "            if (this.previousSibling.style.display == 'none') {\n",
              "                this.previousSibling.style.display = 'block';\n",
              "                this.parentNode.style.display = 'inline-block';\n",
              "            } else {\n",
              "                this.previousSibling.style.display = 'none';\n",
              "                this.parentNode.style.display = 'inline';\n",
              "            }\"\n",
              "            onmouseover=\"document.getElementById('_fb_pscmkaaluhjpgnjcbrdf_ind_24').style.opacity = 1; document.getElementById('_fs_pscmkaaluhjpgnjcbrdf_ind_24').style.opacity = 1;\"\n",
              "            onmouseout=\"document.getElementById('_fb_pscmkaaluhjpgnjcbrdf_ind_24').style.opacity = 0; document.getElementById('_fs_pscmkaaluhjpgnjcbrdf_ind_24').style.opacity = 0;\"\n",
              "        >set-up</div></div><div style='display: inline; text-align: center;'\n",
              "    ><div style='display: none; color: #999; padding-top: 0px; font-size: 12px;'>0.012</div\n",
              "        ><div id='_tp_pscmkaaluhjpgnjcbrdf_ind_25'\n",
              "            style='display: inline; background: rgba(255.0, 13.0, 87.0, 0.14078035254505847); border-radius: 3px; padding: 0px'\n",
              "            onclick=\"\n",
              "            if (this.previousSibling.style.display == 'none') {\n",
              "                this.previousSibling.style.display = 'block';\n",
              "                this.parentNode.style.display = 'inline-block';\n",
              "            } else {\n",
              "                this.previousSibling.style.display = 'none';\n",
              "                this.parentNode.style.display = 'inline';\n",
              "            }\"\n",
              "            onmouseover=\"document.getElementById('_fb_pscmkaaluhjpgnjcbrdf_ind_25').style.opacity = 1; document.getElementById('_fs_pscmkaaluhjpgnjcbrdf_ind_25').style.opacity = 1;\"\n",
              "            onmouseout=\"document.getElementById('_fb_pscmkaaluhjpgnjcbrdf_ind_25').style.opacity = 0; document.getElementById('_fs_pscmkaaluhjpgnjcbrdf_ind_25').style.opacity = 0;\"\n",
              "        >. </div></div><div style='display: inline; text-align: center;'\n",
              "    ><div style='display: none; color: #999; padding-top: 0px; font-size: 12px;'>-0.007</div\n",
              "        ><div id='_tp_pscmkaaluhjpgnjcbrdf_ind_26'\n",
              "            style='display: inline; background: rgba(30.0, 136.0, 229.0, 0.08560110913052085); border-radius: 3px; padding: 0px'\n",
              "            onclick=\"\n",
              "            if (this.previousSibling.style.display == 'none') {\n",
              "                this.previousSibling.style.display = 'block';\n",
              "                this.parentNode.style.display = 'inline-block';\n",
              "            } else {\n",
              "                this.previousSibling.style.display = 'none';\n",
              "                this.parentNode.style.display = 'inline';\n",
              "            }\"\n",
              "            onmouseover=\"document.getElementById('_fb_pscmkaaluhjpgnjcbrdf_ind_26').style.opacity = 1; document.getElementById('_fs_pscmkaaluhjpgnjcbrdf_ind_26').style.opacity = 1;\"\n",
              "            onmouseout=\"document.getElementById('_fb_pscmkaaluhjpgnjcbrdf_ind_26').style.opacity = 0; document.getElementById('_fs_pscmkaaluhjpgnjcbrdf_ind_26').style.opacity = 0;\"\n",
              "        >(</div></div><div style='display: inline; text-align: center;'\n",
              "    ><div style='display: none; color: #999; padding-top: 0px; font-size: 12px;'>-0.023 / 2</div\n",
              "        ><div id='_tp_pscmkaaluhjpgnjcbrdf_ind_27'\n",
              "            style='display: inline; background: rgba(30.0, 136.0, 229.0, 0.27478708655179246); border-radius: 3px; padding: 0px'\n",
              "            onclick=\"\n",
              "            if (this.previousSibling.style.display == 'none') {\n",
              "                this.previousSibling.style.display = 'block';\n",
              "                this.parentNode.style.display = 'inline-block';\n",
              "            } else {\n",
              "                this.previousSibling.style.display = 'none';\n",
              "                this.parentNode.style.display = 'inline';\n",
              "            }\"\n",
              "            onmouseover=\"document.getElementById('_fb_pscmkaaluhjpgnjcbrdf_ind_27').style.opacity = 1; document.getElementById('_fs_pscmkaaluhjpgnjcbrdf_ind_27').style.opacity = 1;\"\n",
              "            onmouseout=\"document.getElementById('_fb_pscmkaaluhjpgnjcbrdf_ind_27').style.opacity = 0; document.getElementById('_fs_pscmkaaluhjpgnjcbrdf_ind_27').style.opacity = 0;\"\n",
              "        >3/</div></div><div style='display: inline; text-align: center;'\n",
              "    ><div style='display: none; color: #999; padding-top: 0px; font-size: 12px;'>-0.022 / 2</div\n",
              "        ><div id='_tp_pscmkaaluhjpgnjcbrdf_ind_28'\n",
              "            style='display: inline; background: rgba(30.0, 136.0, 229.0, 0.27478708655179246); border-radius: 3px; padding: 0px'\n",
              "            onclick=\"\n",
              "            if (this.previousSibling.style.display == 'none') {\n",
              "                this.previousSibling.style.display = 'block';\n",
              "                this.parentNode.style.display = 'inline-block';\n",
              "            } else {\n",
              "                this.previousSibling.style.display = 'none';\n",
              "                this.parentNode.style.display = 'inline';\n",
              "            }\"\n",
              "            onmouseover=\"document.getElementById('_fb_pscmkaaluhjpgnjcbrdf_ind_28').style.opacity = 1; document.getElementById('_fs_pscmkaaluhjpgnjcbrdf_ind_28').style.opacity = 1;\"\n",
              "            onmouseout=\"document.getElementById('_fb_pscmkaaluhjpgnjcbrdf_ind_28').style.opacity = 0; document.getElementById('_fs_pscmkaaluhjpgnjcbrdf_ind_28').style.opacity = 0;\"\n",
              "        >10)</div></div><div style='display: inline; text-align: center;'\n",
              "    ><div style='display: none; color: #999; padding-top: 0px; font-size: 12px;'>-0.001</div\n",
              "        ><div id='_tp_pscmkaaluhjpgnjcbrdf_ind_29'\n",
              "            style='display: inline; background: rgba(30.0, 136.0, 229.0, 0.006773618538324436); border-radius: 3px; padding: 0px'\n",
              "            onclick=\"\n",
              "            if (this.previousSibling.style.display == 'none') {\n",
              "                this.previousSibling.style.display = 'block';\n",
              "                this.parentNode.style.display = 'inline-block';\n",
              "            } else {\n",
              "                this.previousSibling.style.display = 'none';\n",
              "                this.parentNode.style.display = 'inline';\n",
              "            }\"\n",
              "            onmouseover=\"document.getElementById('_fb_pscmkaaluhjpgnjcbrdf_ind_29').style.opacity = 1; document.getElementById('_fs_pscmkaaluhjpgnjcbrdf_ind_29').style.opacity = 1;\"\n",
              "            onmouseout=\"document.getElementById('_fb_pscmkaaluhjpgnjcbrdf_ind_29').style.opacity = 0; document.getElementById('_fs_pscmkaaluhjpgnjcbrdf_ind_29').style.opacity = 0;\"\n",
              "        ></div></div></div>"
            ],
            "text/plain": [
              "<IPython.core.display.HTML object>"
            ]
          },
          "metadata": {}
        }
      ]
    }
  ],
  "metadata": {
    "colab": {
      "name": "Text Classification on GLUE",
      "provenance": [],
      "toc_visible": true,
      "include_colab_link": true
    },
    "kernelspec": {
      "display_name": "Python 3 (ipykernel)",
      "language": "python",
      "name": "python3"
    },
    "language_info": {
      "codemirror_mode": {
        "name": "ipython",
        "version": 3
      },
      "file_extension": ".py",
      "mimetype": "text/x-python",
      "name": "python",
      "nbconvert_exporter": "python",
      "pygments_lexer": "ipython3",
      "version": "3.9.6"
    },
    "accelerator": "GPU",
    "widgets": {
      "application/vnd.jupyter.widget-state+json": {
        "a2453b14dbfc499492f77f7e49dc84d8": {
          "model_module": "@jupyter-widgets/controls",
          "model_name": "HBoxModel",
          "model_module_version": "1.5.0",
          "state": {
            "_view_name": "HBoxView",
            "_dom_classes": [],
            "_model_name": "HBoxModel",
            "_view_module": "@jupyter-widgets/controls",
            "_model_module_version": "1.5.0",
            "_view_count": null,
            "_view_module_version": "1.5.0",
            "box_style": "",
            "layout": "IPY_MODEL_585e9edf684c46b990229cb21eca51f6",
            "_model_module": "@jupyter-widgets/controls",
            "children": [
              "IPY_MODEL_4a8717076e354bc083b1d43b0ff85b74",
              "IPY_MODEL_d89179c1458a4f26ad4ae20206460105",
              "IPY_MODEL_b123257c85e44c4cbf390d765d0b3f3f"
            ]
          }
        },
        "585e9edf684c46b990229cb21eca51f6": {
          "model_module": "@jupyter-widgets/base",
          "model_name": "LayoutModel",
          "model_module_version": "1.2.0",
          "state": {
            "_view_name": "LayoutView",
            "grid_template_rows": null,
            "right": null,
            "justify_content": null,
            "_view_module": "@jupyter-widgets/base",
            "overflow": null,
            "_model_module_version": "1.2.0",
            "_view_count": null,
            "flex_flow": null,
            "width": null,
            "min_width": null,
            "border": null,
            "align_items": null,
            "bottom": null,
            "_model_module": "@jupyter-widgets/base",
            "top": null,
            "grid_column": null,
            "overflow_y": null,
            "overflow_x": null,
            "grid_auto_flow": null,
            "grid_area": null,
            "grid_template_columns": null,
            "flex": null,
            "_model_name": "LayoutModel",
            "justify_items": null,
            "grid_row": null,
            "max_height": null,
            "align_content": null,
            "visibility": null,
            "align_self": null,
            "height": null,
            "min_height": null,
            "padding": null,
            "grid_auto_rows": null,
            "grid_gap": null,
            "max_width": null,
            "order": null,
            "_view_module_version": "1.2.0",
            "grid_template_areas": null,
            "object_position": null,
            "object_fit": null,
            "grid_auto_columns": null,
            "margin": null,
            "display": null,
            "left": null
          }
        },
        "4a8717076e354bc083b1d43b0ff85b74": {
          "model_module": "@jupyter-widgets/controls",
          "model_name": "HTMLModel",
          "model_module_version": "1.5.0",
          "state": {
            "_view_name": "HTMLView",
            "style": "IPY_MODEL_8a0c75743abd4b49b21394798900000f",
            "_dom_classes": [],
            "description": "",
            "_model_name": "HTMLModel",
            "placeholder": "​",
            "_view_module": "@jupyter-widgets/controls",
            "_model_module_version": "1.5.0",
            "value": "100%",
            "_view_count": null,
            "_view_module_version": "1.5.0",
            "description_tooltip": null,
            "_model_module": "@jupyter-widgets/controls",
            "layout": "IPY_MODEL_3ddd6f50e0a54f9b8a397088ed490d20"
          }
        },
        "d89179c1458a4f26ad4ae20206460105": {
          "model_module": "@jupyter-widgets/controls",
          "model_name": "FloatProgressModel",
          "model_module_version": "1.5.0",
          "state": {
            "_view_name": "ProgressView",
            "style": "IPY_MODEL_468af04e38c3472c85ff4e0f87834e33",
            "_dom_classes": [],
            "description": "",
            "_model_name": "FloatProgressModel",
            "bar_style": "success",
            "max": 3,
            "_view_module": "@jupyter-widgets/controls",
            "_model_module_version": "1.5.0",
            "value": 3,
            "_view_count": null,
            "_view_module_version": "1.5.0",
            "orientation": "horizontal",
            "min": 0,
            "description_tooltip": null,
            "_model_module": "@jupyter-widgets/controls",
            "layout": "IPY_MODEL_2d432046be944069836c72ca07f174b8"
          }
        },
        "b123257c85e44c4cbf390d765d0b3f3f": {
          "model_module": "@jupyter-widgets/controls",
          "model_name": "HTMLModel",
          "model_module_version": "1.5.0",
          "state": {
            "_view_name": "HTMLView",
            "style": "IPY_MODEL_66a21cf4e21e40058f272ba14a94032c",
            "_dom_classes": [],
            "description": "",
            "_model_name": "HTMLModel",
            "placeholder": "​",
            "_view_module": "@jupyter-widgets/controls",
            "_model_module_version": "1.5.0",
            "value": " 3/3 [00:00&lt;00:00, 55.75it/s]",
            "_view_count": null,
            "_view_module_version": "1.5.0",
            "description_tooltip": null,
            "_model_module": "@jupyter-widgets/controls",
            "layout": "IPY_MODEL_794fcf1dc3354500b1894db1ec002bf3"
          }
        },
        "8a0c75743abd4b49b21394798900000f": {
          "model_module": "@jupyter-widgets/controls",
          "model_name": "DescriptionStyleModel",
          "model_module_version": "1.5.0",
          "state": {
            "_view_name": "StyleView",
            "_model_name": "DescriptionStyleModel",
            "description_width": "",
            "_view_module": "@jupyter-widgets/base",
            "_model_module_version": "1.5.0",
            "_view_count": null,
            "_view_module_version": "1.2.0",
            "_model_module": "@jupyter-widgets/controls"
          }
        },
        "3ddd6f50e0a54f9b8a397088ed490d20": {
          "model_module": "@jupyter-widgets/base",
          "model_name": "LayoutModel",
          "model_module_version": "1.2.0",
          "state": {
            "_view_name": "LayoutView",
            "grid_template_rows": null,
            "right": null,
            "justify_content": null,
            "_view_module": "@jupyter-widgets/base",
            "overflow": null,
            "_model_module_version": "1.2.0",
            "_view_count": null,
            "flex_flow": null,
            "width": null,
            "min_width": null,
            "border": null,
            "align_items": null,
            "bottom": null,
            "_model_module": "@jupyter-widgets/base",
            "top": null,
            "grid_column": null,
            "overflow_y": null,
            "overflow_x": null,
            "grid_auto_flow": null,
            "grid_area": null,
            "grid_template_columns": null,
            "flex": null,
            "_model_name": "LayoutModel",
            "justify_items": null,
            "grid_row": null,
            "max_height": null,
            "align_content": null,
            "visibility": null,
            "align_self": null,
            "height": null,
            "min_height": null,
            "padding": null,
            "grid_auto_rows": null,
            "grid_gap": null,
            "max_width": null,
            "order": null,
            "_view_module_version": "1.2.0",
            "grid_template_areas": null,
            "object_position": null,
            "object_fit": null,
            "grid_auto_columns": null,
            "margin": null,
            "display": null,
            "left": null
          }
        },
        "468af04e38c3472c85ff4e0f87834e33": {
          "model_module": "@jupyter-widgets/controls",
          "model_name": "ProgressStyleModel",
          "model_module_version": "1.5.0",
          "state": {
            "_view_name": "StyleView",
            "_model_name": "ProgressStyleModel",
            "description_width": "",
            "_view_module": "@jupyter-widgets/base",
            "_model_module_version": "1.5.0",
            "_view_count": null,
            "_view_module_version": "1.2.0",
            "bar_color": null,
            "_model_module": "@jupyter-widgets/controls"
          }
        },
        "2d432046be944069836c72ca07f174b8": {
          "model_module": "@jupyter-widgets/base",
          "model_name": "LayoutModel",
          "model_module_version": "1.2.0",
          "state": {
            "_view_name": "LayoutView",
            "grid_template_rows": null,
            "right": null,
            "justify_content": null,
            "_view_module": "@jupyter-widgets/base",
            "overflow": null,
            "_model_module_version": "1.2.0",
            "_view_count": null,
            "flex_flow": null,
            "width": null,
            "min_width": null,
            "border": null,
            "align_items": null,
            "bottom": null,
            "_model_module": "@jupyter-widgets/base",
            "top": null,
            "grid_column": null,
            "overflow_y": null,
            "overflow_x": null,
            "grid_auto_flow": null,
            "grid_area": null,
            "grid_template_columns": null,
            "flex": null,
            "_model_name": "LayoutModel",
            "justify_items": null,
            "grid_row": null,
            "max_height": null,
            "align_content": null,
            "visibility": null,
            "align_self": null,
            "height": null,
            "min_height": null,
            "padding": null,
            "grid_auto_rows": null,
            "grid_gap": null,
            "max_width": null,
            "order": null,
            "_view_module_version": "1.2.0",
            "grid_template_areas": null,
            "object_position": null,
            "object_fit": null,
            "grid_auto_columns": null,
            "margin": null,
            "display": null,
            "left": null
          }
        },
        "66a21cf4e21e40058f272ba14a94032c": {
          "model_module": "@jupyter-widgets/controls",
          "model_name": "DescriptionStyleModel",
          "model_module_version": "1.5.0",
          "state": {
            "_view_name": "StyleView",
            "_model_name": "DescriptionStyleModel",
            "description_width": "",
            "_view_module": "@jupyter-widgets/base",
            "_model_module_version": "1.5.0",
            "_view_count": null,
            "_view_module_version": "1.2.0",
            "_model_module": "@jupyter-widgets/controls"
          }
        },
        "794fcf1dc3354500b1894db1ec002bf3": {
          "model_module": "@jupyter-widgets/base",
          "model_name": "LayoutModel",
          "model_module_version": "1.2.0",
          "state": {
            "_view_name": "LayoutView",
            "grid_template_rows": null,
            "right": null,
            "justify_content": null,
            "_view_module": "@jupyter-widgets/base",
            "overflow": null,
            "_model_module_version": "1.2.0",
            "_view_count": null,
            "flex_flow": null,
            "width": null,
            "min_width": null,
            "border": null,
            "align_items": null,
            "bottom": null,
            "_model_module": "@jupyter-widgets/base",
            "top": null,
            "grid_column": null,
            "overflow_y": null,
            "overflow_x": null,
            "grid_auto_flow": null,
            "grid_area": null,
            "grid_template_columns": null,
            "flex": null,
            "_model_name": "LayoutModel",
            "justify_items": null,
            "grid_row": null,
            "max_height": null,
            "align_content": null,
            "visibility": null,
            "align_self": null,
            "height": null,
            "min_height": null,
            "padding": null,
            "grid_auto_rows": null,
            "grid_gap": null,
            "max_width": null,
            "order": null,
            "_view_module_version": "1.2.0",
            "grid_template_areas": null,
            "object_position": null,
            "object_fit": null,
            "grid_auto_columns": null,
            "margin": null,
            "display": null,
            "left": null
          }
        },
        "bfe014e5ffcb4f248ec0bea084e95fcd": {
          "model_module": "@jupyter-widgets/controls",
          "model_name": "HBoxModel",
          "model_module_version": "1.5.0",
          "state": {
            "_view_name": "HBoxView",
            "_dom_classes": [],
            "_model_name": "HBoxModel",
            "_view_module": "@jupyter-widgets/controls",
            "_model_module_version": "1.5.0",
            "_view_count": null,
            "_view_module_version": "1.5.0",
            "box_style": "",
            "layout": "IPY_MODEL_9a95a3c9bc1a4b57b791213243ef6e9f",
            "_model_module": "@jupyter-widgets/controls",
            "children": [
              "IPY_MODEL_63f4e5037a2240388e47e9787a843737",
              "IPY_MODEL_d2f33ac1f431465288c94a273dded1a5",
              "IPY_MODEL_45c6aa5a774043a3b57daa53f485eb28"
            ]
          }
        },
        "9a95a3c9bc1a4b57b791213243ef6e9f": {
          "model_module": "@jupyter-widgets/base",
          "model_name": "LayoutModel",
          "model_module_version": "1.2.0",
          "state": {
            "_view_name": "LayoutView",
            "grid_template_rows": null,
            "right": null,
            "justify_content": null,
            "_view_module": "@jupyter-widgets/base",
            "overflow": null,
            "_model_module_version": "1.2.0",
            "_view_count": null,
            "flex_flow": null,
            "width": null,
            "min_width": null,
            "border": null,
            "align_items": null,
            "bottom": null,
            "_model_module": "@jupyter-widgets/base",
            "top": null,
            "grid_column": null,
            "overflow_y": null,
            "overflow_x": null,
            "grid_auto_flow": null,
            "grid_area": null,
            "grid_template_columns": null,
            "flex": null,
            "_model_name": "LayoutModel",
            "justify_items": null,
            "grid_row": null,
            "max_height": null,
            "align_content": null,
            "visibility": null,
            "align_self": null,
            "height": null,
            "min_height": null,
            "padding": null,
            "grid_auto_rows": null,
            "grid_gap": null,
            "max_width": null,
            "order": null,
            "_view_module_version": "1.2.0",
            "grid_template_areas": null,
            "object_position": null,
            "object_fit": null,
            "grid_auto_columns": null,
            "margin": null,
            "display": null,
            "left": null
          }
        },
        "63f4e5037a2240388e47e9787a843737": {
          "model_module": "@jupyter-widgets/controls",
          "model_name": "HTMLModel",
          "model_module_version": "1.5.0",
          "state": {
            "_view_name": "HTMLView",
            "style": "IPY_MODEL_c7281c3a96f24295a3b0fc1b7228ffa2",
            "_dom_classes": [],
            "description": "",
            "_model_name": "HTMLModel",
            "placeholder": "​",
            "_view_module": "@jupyter-widgets/controls",
            "_model_module_version": "1.5.0",
            "value": "100%",
            "_view_count": null,
            "_view_module_version": "1.5.0",
            "description_tooltip": null,
            "_model_module": "@jupyter-widgets/controls",
            "layout": "IPY_MODEL_6f439035dbb446fd921302724aa2216d"
          }
        },
        "d2f33ac1f431465288c94a273dded1a5": {
          "model_module": "@jupyter-widgets/controls",
          "model_name": "FloatProgressModel",
          "model_module_version": "1.5.0",
          "state": {
            "_view_name": "ProgressView",
            "style": "IPY_MODEL_6d0c01f60bab4a43a6b8620415967e56",
            "_dom_classes": [],
            "description": "",
            "_model_name": "FloatProgressModel",
            "bar_style": "success",
            "max": 3,
            "_view_module": "@jupyter-widgets/controls",
            "_model_module_version": "1.5.0",
            "value": 3,
            "_view_count": null,
            "_view_module_version": "1.5.0",
            "orientation": "horizontal",
            "min": 0,
            "description_tooltip": null,
            "_model_module": "@jupyter-widgets/controls",
            "layout": "IPY_MODEL_411e697b7bd84f8d8e9c17ec15d887a7"
          }
        },
        "45c6aa5a774043a3b57daa53f485eb28": {
          "model_module": "@jupyter-widgets/controls",
          "model_name": "HTMLModel",
          "model_module_version": "1.5.0",
          "state": {
            "_view_name": "HTMLView",
            "style": "IPY_MODEL_1da14bf10ae2400ca887e0c9896b2a21",
            "_dom_classes": [],
            "description": "",
            "_model_name": "HTMLModel",
            "placeholder": "​",
            "_view_module": "@jupyter-widgets/controls",
            "_model_module_version": "1.5.0",
            "value": " 3/3 [00:00&lt;00:00, 55.09it/s]",
            "_view_count": null,
            "_view_module_version": "1.5.0",
            "description_tooltip": null,
            "_model_module": "@jupyter-widgets/controls",
            "layout": "IPY_MODEL_6e24fd4382e3427b91775ea3ae2fe79b"
          }
        },
        "c7281c3a96f24295a3b0fc1b7228ffa2": {
          "model_module": "@jupyter-widgets/controls",
          "model_name": "DescriptionStyleModel",
          "model_module_version": "1.5.0",
          "state": {
            "_view_name": "StyleView",
            "_model_name": "DescriptionStyleModel",
            "description_width": "",
            "_view_module": "@jupyter-widgets/base",
            "_model_module_version": "1.5.0",
            "_view_count": null,
            "_view_module_version": "1.2.0",
            "_model_module": "@jupyter-widgets/controls"
          }
        },
        "6f439035dbb446fd921302724aa2216d": {
          "model_module": "@jupyter-widgets/base",
          "model_name": "LayoutModel",
          "model_module_version": "1.2.0",
          "state": {
            "_view_name": "LayoutView",
            "grid_template_rows": null,
            "right": null,
            "justify_content": null,
            "_view_module": "@jupyter-widgets/base",
            "overflow": null,
            "_model_module_version": "1.2.0",
            "_view_count": null,
            "flex_flow": null,
            "width": null,
            "min_width": null,
            "border": null,
            "align_items": null,
            "bottom": null,
            "_model_module": "@jupyter-widgets/base",
            "top": null,
            "grid_column": null,
            "overflow_y": null,
            "overflow_x": null,
            "grid_auto_flow": null,
            "grid_area": null,
            "grid_template_columns": null,
            "flex": null,
            "_model_name": "LayoutModel",
            "justify_items": null,
            "grid_row": null,
            "max_height": null,
            "align_content": null,
            "visibility": null,
            "align_self": null,
            "height": null,
            "min_height": null,
            "padding": null,
            "grid_auto_rows": null,
            "grid_gap": null,
            "max_width": null,
            "order": null,
            "_view_module_version": "1.2.0",
            "grid_template_areas": null,
            "object_position": null,
            "object_fit": null,
            "grid_auto_columns": null,
            "margin": null,
            "display": null,
            "left": null
          }
        },
        "6d0c01f60bab4a43a6b8620415967e56": {
          "model_module": "@jupyter-widgets/controls",
          "model_name": "ProgressStyleModel",
          "model_module_version": "1.5.0",
          "state": {
            "_view_name": "StyleView",
            "_model_name": "ProgressStyleModel",
            "description_width": "",
            "_view_module": "@jupyter-widgets/base",
            "_model_module_version": "1.5.0",
            "_view_count": null,
            "_view_module_version": "1.2.0",
            "bar_color": null,
            "_model_module": "@jupyter-widgets/controls"
          }
        },
        "411e697b7bd84f8d8e9c17ec15d887a7": {
          "model_module": "@jupyter-widgets/base",
          "model_name": "LayoutModel",
          "model_module_version": "1.2.0",
          "state": {
            "_view_name": "LayoutView",
            "grid_template_rows": null,
            "right": null,
            "justify_content": null,
            "_view_module": "@jupyter-widgets/base",
            "overflow": null,
            "_model_module_version": "1.2.0",
            "_view_count": null,
            "flex_flow": null,
            "width": null,
            "min_width": null,
            "border": null,
            "align_items": null,
            "bottom": null,
            "_model_module": "@jupyter-widgets/base",
            "top": null,
            "grid_column": null,
            "overflow_y": null,
            "overflow_x": null,
            "grid_auto_flow": null,
            "grid_area": null,
            "grid_template_columns": null,
            "flex": null,
            "_model_name": "LayoutModel",
            "justify_items": null,
            "grid_row": null,
            "max_height": null,
            "align_content": null,
            "visibility": null,
            "align_self": null,
            "height": null,
            "min_height": null,
            "padding": null,
            "grid_auto_rows": null,
            "grid_gap": null,
            "max_width": null,
            "order": null,
            "_view_module_version": "1.2.0",
            "grid_template_areas": null,
            "object_position": null,
            "object_fit": null,
            "grid_auto_columns": null,
            "margin": null,
            "display": null,
            "left": null
          }
        },
        "1da14bf10ae2400ca887e0c9896b2a21": {
          "model_module": "@jupyter-widgets/controls",
          "model_name": "DescriptionStyleModel",
          "model_module_version": "1.5.0",
          "state": {
            "_view_name": "StyleView",
            "_model_name": "DescriptionStyleModel",
            "description_width": "",
            "_view_module": "@jupyter-widgets/base",
            "_model_module_version": "1.5.0",
            "_view_count": null,
            "_view_module_version": "1.2.0",
            "_model_module": "@jupyter-widgets/controls"
          }
        },
        "6e24fd4382e3427b91775ea3ae2fe79b": {
          "model_module": "@jupyter-widgets/base",
          "model_name": "LayoutModel",
          "model_module_version": "1.2.0",
          "state": {
            "_view_name": "LayoutView",
            "grid_template_rows": null,
            "right": null,
            "justify_content": null,
            "_view_module": "@jupyter-widgets/base",
            "overflow": null,
            "_model_module_version": "1.2.0",
            "_view_count": null,
            "flex_flow": null,
            "width": null,
            "min_width": null,
            "border": null,
            "align_items": null,
            "bottom": null,
            "_model_module": "@jupyter-widgets/base",
            "top": null,
            "grid_column": null,
            "overflow_y": null,
            "overflow_x": null,
            "grid_auto_flow": null,
            "grid_area": null,
            "grid_template_columns": null,
            "flex": null,
            "_model_name": "LayoutModel",
            "justify_items": null,
            "grid_row": null,
            "max_height": null,
            "align_content": null,
            "visibility": null,
            "align_self": null,
            "height": null,
            "min_height": null,
            "padding": null,
            "grid_auto_rows": null,
            "grid_gap": null,
            "max_width": null,
            "order": null,
            "_view_module_version": "1.2.0",
            "grid_template_areas": null,
            "object_position": null,
            "object_fit": null,
            "grid_auto_columns": null,
            "margin": null,
            "display": null,
            "left": null
          }
        },
        "539dc8f571154222a9f8a7cd51d38255": {
          "model_module": "@jupyter-widgets/controls",
          "model_name": "HBoxModel",
          "model_module_version": "1.5.0",
          "state": {
            "_view_name": "HBoxView",
            "_dom_classes": [],
            "_model_name": "HBoxModel",
            "_view_module": "@jupyter-widgets/controls",
            "_model_module_version": "1.5.0",
            "_view_count": null,
            "_view_module_version": "1.5.0",
            "box_style": "",
            "layout": "IPY_MODEL_55ff302265b64dd790e12993f51ffb28",
            "_model_module": "@jupyter-widgets/controls",
            "children": [
              "IPY_MODEL_731ba78f36d64982acf17d4b5a6717a7",
              "IPY_MODEL_a107cb25c88b4c0cbb66a60470c196d1",
              "IPY_MODEL_edc2043edccb4cbeac2cc46d98322e31"
            ]
          }
        },
        "55ff302265b64dd790e12993f51ffb28": {
          "model_module": "@jupyter-widgets/base",
          "model_name": "LayoutModel",
          "model_module_version": "1.2.0",
          "state": {
            "_view_name": "LayoutView",
            "grid_template_rows": null,
            "right": null,
            "justify_content": null,
            "_view_module": "@jupyter-widgets/base",
            "overflow": null,
            "_model_module_version": "1.2.0",
            "_view_count": null,
            "flex_flow": null,
            "width": null,
            "min_width": null,
            "border": null,
            "align_items": null,
            "bottom": null,
            "_model_module": "@jupyter-widgets/base",
            "top": null,
            "grid_column": null,
            "overflow_y": null,
            "overflow_x": null,
            "grid_auto_flow": null,
            "grid_area": null,
            "grid_template_columns": null,
            "flex": null,
            "_model_name": "LayoutModel",
            "justify_items": null,
            "grid_row": null,
            "max_height": null,
            "align_content": null,
            "visibility": null,
            "align_self": null,
            "height": null,
            "min_height": null,
            "padding": null,
            "grid_auto_rows": null,
            "grid_gap": null,
            "max_width": null,
            "order": null,
            "_view_module_version": "1.2.0",
            "grid_template_areas": null,
            "object_position": null,
            "object_fit": null,
            "grid_auto_columns": null,
            "margin": null,
            "display": null,
            "left": null
          }
        },
        "731ba78f36d64982acf17d4b5a6717a7": {
          "model_module": "@jupyter-widgets/controls",
          "model_name": "HTMLModel",
          "model_module_version": "1.5.0",
          "state": {
            "_view_name": "HTMLView",
            "style": "IPY_MODEL_f284c5ebaf8e40b6ba3841fbd97bd863",
            "_dom_classes": [],
            "description": "",
            "_model_name": "HTMLModel",
            "placeholder": "​",
            "_view_module": "@jupyter-widgets/controls",
            "_model_module_version": "1.5.0",
            "value": "",
            "_view_count": null,
            "_view_module_version": "1.5.0",
            "description_tooltip": null,
            "_model_module": "@jupyter-widgets/controls",
            "layout": "IPY_MODEL_fe0c1f744eec4228b2e33deb741713cc"
          }
        },
        "a107cb25c88b4c0cbb66a60470c196d1": {
          "model_module": "@jupyter-widgets/controls",
          "model_name": "FloatProgressModel",
          "model_module_version": "1.5.0",
          "state": {
            "_view_name": "ProgressView",
            "style": "IPY_MODEL_80eb1e35296749b4b547321bd84ee4bd",
            "_dom_classes": [],
            "description": "",
            "_model_name": "FloatProgressModel",
            "bar_style": "",
            "max": 248,
            "_view_module": "@jupyter-widgets/controls",
            "_model_module_version": "1.5.0",
            "value": 248,
            "_view_count": null,
            "_view_module_version": "1.5.0",
            "orientation": "horizontal",
            "min": 0,
            "description_tooltip": null,
            "_model_module": "@jupyter-widgets/controls",
            "layout": "IPY_MODEL_1aeaa9b36ecc48fc846e61625b304494"
          }
        },
        "edc2043edccb4cbeac2cc46d98322e31": {
          "model_module": "@jupyter-widgets/controls",
          "model_name": "HTMLModel",
          "model_module_version": "1.5.0",
          "state": {
            "_view_name": "HTMLView",
            "style": "IPY_MODEL_f22fd1b77da24e12a6a8e1bc52a08bab",
            "_dom_classes": [],
            "description": "",
            "_model_name": "HTMLModel",
            "placeholder": "​",
            "_view_module": "@jupyter-widgets/controls",
            "_model_module_version": "1.5.0",
            "value": " 254/? [03:28&lt;00:00,  1.16it/s]",
            "_view_count": null,
            "_view_module_version": "1.5.0",
            "description_tooltip": null,
            "_model_module": "@jupyter-widgets/controls",
            "layout": "IPY_MODEL_d374d1bfd6724f498498ca4900c6fd02"
          }
        },
        "f284c5ebaf8e40b6ba3841fbd97bd863": {
          "model_module": "@jupyter-widgets/controls",
          "model_name": "DescriptionStyleModel",
          "model_module_version": "1.5.0",
          "state": {
            "_view_name": "StyleView",
            "_model_name": "DescriptionStyleModel",
            "description_width": "",
            "_view_module": "@jupyter-widgets/base",
            "_model_module_version": "1.5.0",
            "_view_count": null,
            "_view_module_version": "1.2.0",
            "_model_module": "@jupyter-widgets/controls"
          }
        },
        "fe0c1f744eec4228b2e33deb741713cc": {
          "model_module": "@jupyter-widgets/base",
          "model_name": "LayoutModel",
          "model_module_version": "1.2.0",
          "state": {
            "_view_name": "LayoutView",
            "grid_template_rows": null,
            "right": null,
            "justify_content": null,
            "_view_module": "@jupyter-widgets/base",
            "overflow": null,
            "_model_module_version": "1.2.0",
            "_view_count": null,
            "flex_flow": null,
            "width": null,
            "min_width": null,
            "border": null,
            "align_items": null,
            "bottom": null,
            "_model_module": "@jupyter-widgets/base",
            "top": null,
            "grid_column": null,
            "overflow_y": null,
            "overflow_x": null,
            "grid_auto_flow": null,
            "grid_area": null,
            "grid_template_columns": null,
            "flex": null,
            "_model_name": "LayoutModel",
            "justify_items": null,
            "grid_row": null,
            "max_height": null,
            "align_content": null,
            "visibility": null,
            "align_self": null,
            "height": null,
            "min_height": null,
            "padding": null,
            "grid_auto_rows": null,
            "grid_gap": null,
            "max_width": null,
            "order": null,
            "_view_module_version": "1.2.0",
            "grid_template_areas": null,
            "object_position": null,
            "object_fit": null,
            "grid_auto_columns": null,
            "margin": null,
            "display": null,
            "left": null
          }
        },
        "80eb1e35296749b4b547321bd84ee4bd": {
          "model_module": "@jupyter-widgets/controls",
          "model_name": "ProgressStyleModel",
          "model_module_version": "1.5.0",
          "state": {
            "_view_name": "StyleView",
            "_model_name": "ProgressStyleModel",
            "description_width": "",
            "_view_module": "@jupyter-widgets/base",
            "_model_module_version": "1.5.0",
            "_view_count": null,
            "_view_module_version": "1.2.0",
            "bar_color": null,
            "_model_module": "@jupyter-widgets/controls"
          }
        },
        "1aeaa9b36ecc48fc846e61625b304494": {
          "model_module": "@jupyter-widgets/base",
          "model_name": "LayoutModel",
          "model_module_version": "1.2.0",
          "state": {
            "_view_name": "LayoutView",
            "grid_template_rows": null,
            "right": null,
            "justify_content": null,
            "_view_module": "@jupyter-widgets/base",
            "overflow": null,
            "_model_module_version": "1.2.0",
            "_view_count": null,
            "flex_flow": null,
            "width": null,
            "min_width": null,
            "border": null,
            "align_items": null,
            "bottom": null,
            "_model_module": "@jupyter-widgets/base",
            "top": null,
            "grid_column": null,
            "overflow_y": null,
            "overflow_x": null,
            "grid_auto_flow": null,
            "grid_area": null,
            "grid_template_columns": null,
            "flex": null,
            "_model_name": "LayoutModel",
            "justify_items": null,
            "grid_row": null,
            "max_height": null,
            "align_content": null,
            "visibility": null,
            "align_self": null,
            "height": null,
            "min_height": null,
            "padding": null,
            "grid_auto_rows": null,
            "grid_gap": null,
            "max_width": null,
            "order": null,
            "_view_module_version": "1.2.0",
            "grid_template_areas": null,
            "object_position": null,
            "object_fit": null,
            "grid_auto_columns": null,
            "margin": null,
            "display": null,
            "left": null
          }
        },
        "f22fd1b77da24e12a6a8e1bc52a08bab": {
          "model_module": "@jupyter-widgets/controls",
          "model_name": "DescriptionStyleModel",
          "model_module_version": "1.5.0",
          "state": {
            "_view_name": "StyleView",
            "_model_name": "DescriptionStyleModel",
            "description_width": "",
            "_view_module": "@jupyter-widgets/base",
            "_model_module_version": "1.5.0",
            "_view_count": null,
            "_view_module_version": "1.2.0",
            "_model_module": "@jupyter-widgets/controls"
          }
        },
        "d374d1bfd6724f498498ca4900c6fd02": {
          "model_module": "@jupyter-widgets/base",
          "model_name": "LayoutModel",
          "model_module_version": "1.2.0",
          "state": {
            "_view_name": "LayoutView",
            "grid_template_rows": null,
            "right": null,
            "justify_content": null,
            "_view_module": "@jupyter-widgets/base",
            "overflow": null,
            "_model_module_version": "1.2.0",
            "_view_count": null,
            "flex_flow": null,
            "width": null,
            "min_width": null,
            "border": null,
            "align_items": null,
            "bottom": null,
            "_model_module": "@jupyter-widgets/base",
            "top": null,
            "grid_column": null,
            "overflow_y": null,
            "overflow_x": null,
            "grid_auto_flow": null,
            "grid_area": null,
            "grid_template_columns": null,
            "flex": null,
            "_model_name": "LayoutModel",
            "justify_items": null,
            "grid_row": null,
            "max_height": null,
            "align_content": null,
            "visibility": null,
            "align_self": null,
            "height": null,
            "min_height": null,
            "padding": null,
            "grid_auto_rows": null,
            "grid_gap": null,
            "max_width": null,
            "order": null,
            "_view_module_version": "1.2.0",
            "grid_template_areas": null,
            "object_position": null,
            "object_fit": null,
            "grid_auto_columns": null,
            "margin": null,
            "display": null,
            "left": null
          }
        },
        "6e8250bcbe9442a5a534b853594a5b5f": {
          "model_module": "@jupyter-widgets/controls",
          "model_name": "HBoxModel",
          "model_module_version": "1.5.0",
          "state": {
            "_view_name": "HBoxView",
            "_dom_classes": [],
            "_model_name": "HBoxModel",
            "_view_module": "@jupyter-widgets/controls",
            "_model_module_version": "1.5.0",
            "_view_count": null,
            "_view_module_version": "1.5.0",
            "box_style": "",
            "layout": "IPY_MODEL_a40c53656adc47fd9e06564a629ad9e4",
            "_model_module": "@jupyter-widgets/controls",
            "children": [
              "IPY_MODEL_a853d0107c5d4be7a41588e22bf0a84e",
              "IPY_MODEL_9940cdd7a8794c83aede2ef4b3a7e4bf",
              "IPY_MODEL_c1b20f5ba6fd4fada86b3a7dabfee77d"
            ]
          }
        },
        "a40c53656adc47fd9e06564a629ad9e4": {
          "model_module": "@jupyter-widgets/base",
          "model_name": "LayoutModel",
          "model_module_version": "1.2.0",
          "state": {
            "_view_name": "LayoutView",
            "grid_template_rows": null,
            "right": null,
            "justify_content": null,
            "_view_module": "@jupyter-widgets/base",
            "overflow": null,
            "_model_module_version": "1.2.0",
            "_view_count": null,
            "flex_flow": null,
            "width": null,
            "min_width": null,
            "border": null,
            "align_items": null,
            "bottom": null,
            "_model_module": "@jupyter-widgets/base",
            "top": null,
            "grid_column": null,
            "overflow_y": null,
            "overflow_x": null,
            "grid_auto_flow": null,
            "grid_area": null,
            "grid_template_columns": null,
            "flex": null,
            "_model_name": "LayoutModel",
            "justify_items": null,
            "grid_row": null,
            "max_height": null,
            "align_content": null,
            "visibility": null,
            "align_self": null,
            "height": null,
            "min_height": null,
            "padding": null,
            "grid_auto_rows": null,
            "grid_gap": null,
            "max_width": null,
            "order": null,
            "_view_module_version": "1.2.0",
            "grid_template_areas": null,
            "object_position": null,
            "object_fit": null,
            "grid_auto_columns": null,
            "margin": null,
            "display": null,
            "left": null
          }
        },
        "a853d0107c5d4be7a41588e22bf0a84e": {
          "model_module": "@jupyter-widgets/controls",
          "model_name": "HTMLModel",
          "model_module_version": "1.5.0",
          "state": {
            "_view_name": "HTMLView",
            "style": "IPY_MODEL_fdba4c45e82648b39c45e2c3de053e66",
            "_dom_classes": [],
            "description": "",
            "_model_name": "HTMLModel",
            "placeholder": "​",
            "_view_module": "@jupyter-widgets/controls",
            "_model_module_version": "1.5.0",
            "value": "",
            "_view_count": null,
            "_view_module_version": "1.5.0",
            "description_tooltip": null,
            "_model_module": "@jupyter-widgets/controls",
            "layout": "IPY_MODEL_6818ed86c725427f917492d255388b5e"
          }
        },
        "9940cdd7a8794c83aede2ef4b3a7e4bf": {
          "model_module": "@jupyter-widgets/controls",
          "model_name": "FloatProgressModel",
          "model_module_version": "1.5.0",
          "state": {
            "_view_name": "ProgressView",
            "style": "IPY_MODEL_34d8e803382d462aadae3eac7f98c6d8",
            "_dom_classes": [],
            "description": "",
            "_model_name": "FloatProgressModel",
            "bar_style": "",
            "max": 248,
            "_view_module": "@jupyter-widgets/controls",
            "_model_module_version": "1.5.0",
            "value": 248,
            "_view_count": null,
            "_view_module_version": "1.5.0",
            "orientation": "horizontal",
            "min": 0,
            "description_tooltip": null,
            "_model_module": "@jupyter-widgets/controls",
            "layout": "IPY_MODEL_c2cfb4e33e434965804be29ae135d050"
          }
        },
        "c1b20f5ba6fd4fada86b3a7dabfee77d": {
          "model_module": "@jupyter-widgets/controls",
          "model_name": "HTMLModel",
          "model_module_version": "1.5.0",
          "state": {
            "_view_name": "HTMLView",
            "style": "IPY_MODEL_0e6af0be065d4da5b1cd38c58d884b7d",
            "_dom_classes": [],
            "description": "",
            "_model_name": "HTMLModel",
            "placeholder": "​",
            "_view_module": "@jupyter-widgets/controls",
            "_model_module_version": "1.5.0",
            "value": " 254/? [02:14&lt;00:00,  1.75it/s]",
            "_view_count": null,
            "_view_module_version": "1.5.0",
            "description_tooltip": null,
            "_model_module": "@jupyter-widgets/controls",
            "layout": "IPY_MODEL_77bc8b73ba6540318a8b3e7df0b2c6ab"
          }
        },
        "fdba4c45e82648b39c45e2c3de053e66": {
          "model_module": "@jupyter-widgets/controls",
          "model_name": "DescriptionStyleModel",
          "model_module_version": "1.5.0",
          "state": {
            "_view_name": "StyleView",
            "_model_name": "DescriptionStyleModel",
            "description_width": "",
            "_view_module": "@jupyter-widgets/base",
            "_model_module_version": "1.5.0",
            "_view_count": null,
            "_view_module_version": "1.2.0",
            "_model_module": "@jupyter-widgets/controls"
          }
        },
        "6818ed86c725427f917492d255388b5e": {
          "model_module": "@jupyter-widgets/base",
          "model_name": "LayoutModel",
          "model_module_version": "1.2.0",
          "state": {
            "_view_name": "LayoutView",
            "grid_template_rows": null,
            "right": null,
            "justify_content": null,
            "_view_module": "@jupyter-widgets/base",
            "overflow": null,
            "_model_module_version": "1.2.0",
            "_view_count": null,
            "flex_flow": null,
            "width": null,
            "min_width": null,
            "border": null,
            "align_items": null,
            "bottom": null,
            "_model_module": "@jupyter-widgets/base",
            "top": null,
            "grid_column": null,
            "overflow_y": null,
            "overflow_x": null,
            "grid_auto_flow": null,
            "grid_area": null,
            "grid_template_columns": null,
            "flex": null,
            "_model_name": "LayoutModel",
            "justify_items": null,
            "grid_row": null,
            "max_height": null,
            "align_content": null,
            "visibility": null,
            "align_self": null,
            "height": null,
            "min_height": null,
            "padding": null,
            "grid_auto_rows": null,
            "grid_gap": null,
            "max_width": null,
            "order": null,
            "_view_module_version": "1.2.0",
            "grid_template_areas": null,
            "object_position": null,
            "object_fit": null,
            "grid_auto_columns": null,
            "margin": null,
            "display": null,
            "left": null
          }
        },
        "34d8e803382d462aadae3eac7f98c6d8": {
          "model_module": "@jupyter-widgets/controls",
          "model_name": "ProgressStyleModel",
          "model_module_version": "1.5.0",
          "state": {
            "_view_name": "StyleView",
            "_model_name": "ProgressStyleModel",
            "description_width": "",
            "_view_module": "@jupyter-widgets/base",
            "_model_module_version": "1.5.0",
            "_view_count": null,
            "_view_module_version": "1.2.0",
            "bar_color": null,
            "_model_module": "@jupyter-widgets/controls"
          }
        },
        "c2cfb4e33e434965804be29ae135d050": {
          "model_module": "@jupyter-widgets/base",
          "model_name": "LayoutModel",
          "model_module_version": "1.2.0",
          "state": {
            "_view_name": "LayoutView",
            "grid_template_rows": null,
            "right": null,
            "justify_content": null,
            "_view_module": "@jupyter-widgets/base",
            "overflow": null,
            "_model_module_version": "1.2.0",
            "_view_count": null,
            "flex_flow": null,
            "width": null,
            "min_width": null,
            "border": null,
            "align_items": null,
            "bottom": null,
            "_model_module": "@jupyter-widgets/base",
            "top": null,
            "grid_column": null,
            "overflow_y": null,
            "overflow_x": null,
            "grid_auto_flow": null,
            "grid_area": null,
            "grid_template_columns": null,
            "flex": null,
            "_model_name": "LayoutModel",
            "justify_items": null,
            "grid_row": null,
            "max_height": null,
            "align_content": null,
            "visibility": null,
            "align_self": null,
            "height": null,
            "min_height": null,
            "padding": null,
            "grid_auto_rows": null,
            "grid_gap": null,
            "max_width": null,
            "order": null,
            "_view_module_version": "1.2.0",
            "grid_template_areas": null,
            "object_position": null,
            "object_fit": null,
            "grid_auto_columns": null,
            "margin": null,
            "display": null,
            "left": null
          }
        },
        "0e6af0be065d4da5b1cd38c58d884b7d": {
          "model_module": "@jupyter-widgets/controls",
          "model_name": "DescriptionStyleModel",
          "model_module_version": "1.5.0",
          "state": {
            "_view_name": "StyleView",
            "_model_name": "DescriptionStyleModel",
            "description_width": "",
            "_view_module": "@jupyter-widgets/base",
            "_model_module_version": "1.5.0",
            "_view_count": null,
            "_view_module_version": "1.2.0",
            "_model_module": "@jupyter-widgets/controls"
          }
        },
        "77bc8b73ba6540318a8b3e7df0b2c6ab": {
          "model_module": "@jupyter-widgets/base",
          "model_name": "LayoutModel",
          "model_module_version": "1.2.0",
          "state": {
            "_view_name": "LayoutView",
            "grid_template_rows": null,
            "right": null,
            "justify_content": null,
            "_view_module": "@jupyter-widgets/base",
            "overflow": null,
            "_model_module_version": "1.2.0",
            "_view_count": null,
            "flex_flow": null,
            "width": null,
            "min_width": null,
            "border": null,
            "align_items": null,
            "bottom": null,
            "_model_module": "@jupyter-widgets/base",
            "top": null,
            "grid_column": null,
            "overflow_y": null,
            "overflow_x": null,
            "grid_auto_flow": null,
            "grid_area": null,
            "grid_template_columns": null,
            "flex": null,
            "_model_name": "LayoutModel",
            "justify_items": null,
            "grid_row": null,
            "max_height": null,
            "align_content": null,
            "visibility": null,
            "align_self": null,
            "height": null,
            "min_height": null,
            "padding": null,
            "grid_auto_rows": null,
            "grid_gap": null,
            "max_width": null,
            "order": null,
            "_view_module_version": "1.2.0",
            "grid_template_areas": null,
            "object_position": null,
            "object_fit": null,
            "grid_auto_columns": null,
            "margin": null,
            "display": null,
            "left": null
          }
        }
      }
    }
  },
  "nbformat": 4,
  "nbformat_minor": 0
}