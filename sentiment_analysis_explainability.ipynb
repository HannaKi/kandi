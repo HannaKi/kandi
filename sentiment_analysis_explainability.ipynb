{
  "cells": [
    {
      "cell_type": "markdown",
      "metadata": {
        "id": "view-in-github",
        "colab_type": "text"
      },
      "source": [
        "<a href=\"https://colab.research.google.com/github/HannaKi/kandi/blob/master/sentiment_analysis_explainability.ipynb\" target=\"_parent\"><img src=\"https://colab.research.google.com/assets/colab-badge.svg\" alt=\"Open In Colab\"/></a>"
      ]
    },
    {
      "cell_type": "markdown",
      "source": [
        "# Introduction/Johdanto"
      ],
      "metadata": {
        "id": "jjqB5qg7S2pm"
      }
    },
    {
      "cell_type": "markdown",
      "source": [
        "Hi/Hei!\n",
        "\n",
        "The primary purpose of this notebook is to demonstrate how to use SHAP (SHapley Additive exPlanations) library to explain predictions of a Transformers model, namely BERT. Please observe that many crucial details (e.g. optimal batch size, naive baseline, choice of metrics, error analysis) to properly train a NLP model are omitted to pursue the goal with as brief notebook as possible. \n",
        "\n",
        "You can train a model with this notebook if you wish. I have opted to download model weights from my Drive after compiling the model.\n",
        "\n",
        "Tämän tiedoston pääasiallinen tarkoitus on demonstroida SHAP-kirjaston (SHapley Additive exPlanations) käyttöä Transformers-mallin ennusteiden tulkintaan. Huomaathan, että monia mallin kunnollisen opettamisen ja suoriutumisen kannalta olennaisia vaiheita on ohitettu (mm. treenaamisen syötteen koko, engl. batch, vertailualgoritmin tutkiminen, metriikan valikointi, virheanalyysi), jotta tiedosto pysyy kompaktina.\n",
        "\n",
        "Voit halutessasi treenata mallin tällä työkirjalla. olen oletusarvoisesti ohittanut treenaamisen ja hyödyntänyt tallentamiani painoarvoja mallin konstruoimisen jälkeen.\n",
        "\n",
        "Sources/lähteet:\n",
        "\n",
        "- [TensorFlow way to train model](https://colab.research.google.com/github/huggingface/notebooks/blob/master/examples/text_classification.ipynb)\n",
        "- [SHAP GitHub](https://github.com/slundberg/shap), [SHAP documentation](https://shap.readthedocs.io/en/latest/index.html), [SHAP NLP example](https://github.com/slundberg/shap#natural-language-example-transformers), [SHAP sentiment example](https://github.com/slundberg/shap/blob/master/notebooks/text_examples/sentiment_analysis/Positive%20vs.%20Negative%20Sentiment%20Classification.ipynb)\n",
        "- [HuggingFace pipelines](https://huggingface.co/transformers/v3.0.2/main_classes/pipelines.html?highlight=return_all_scores#)\n"
      ],
      "metadata": {
        "id": "id7AEOQGLBqv"
      }
    },
    {
      "cell_type": "code",
      "execution_count": 3,
      "metadata": {
        "colab": {
          "base_uri": "https://localhost:8080/"
        },
        "id": "MOsHUjgdIrIW",
        "outputId": "3c600254-4134-4c56-bf85-ffd2f6aaf11d"
      },
      "outputs": [
        {
          "output_type": "stream",
          "name": "stdout",
          "text": [
            "  Installing build dependencies ... \u001b[?25l\u001b[?25hdone\n",
            "  Getting requirements to build wheel ... \u001b[?25l\u001b[?25hdone\n",
            "    Preparing wheel metadata ... \u001b[?25l\u001b[?25hdone\n",
            "\u001b[K     |████████████████████████████████| 101 kB 5.3 MB/s \n",
            "\u001b[K     |████████████████████████████████| 596 kB 65.0 MB/s \n",
            "\u001b[K     |████████████████████████████████| 6.6 MB 45.8 MB/s \n",
            "\u001b[?25h  Building wheel for transformers (PEP 517) ... \u001b[?25l\u001b[?25hdone\n",
            "\u001b[K     |████████████████████████████████| 212 kB 6.9 MB/s \n",
            "\u001b[K     |████████████████████████████████| 140 kB 42.8 MB/s \n",
            "\u001b[K     |████████████████████████████████| 1.1 MB 53.5 MB/s \n",
            "\u001b[K     |████████████████████████████████| 127 kB 50.4 MB/s \n",
            "\u001b[K     |████████████████████████████████| 271 kB 57.9 MB/s \n",
            "\u001b[K     |████████████████████████████████| 94 kB 3.9 MB/s \n",
            "\u001b[K     |████████████████████████████████| 144 kB 66.9 MB/s \n",
            "\u001b[?25h  Building wheel for datasets (setup.py) ... \u001b[?25l\u001b[?25hdone\n",
            "\u001b[31mERROR: pip's dependency resolver does not currently take into account all the packages that are installed. This behaviour is the source of the following dependency conflicts.\n",
            "datascience 0.10.6 requires folium==0.2.1, but you have folium 0.8.3 which is incompatible.\u001b[0m\n"
          ]
        }
      ],
      "source": [
        "! pip --quiet install git+https://github.com/huggingface/transformers.git\n",
        "! pip --quiet install git+https://github.com/huggingface/datasets.git"
      ]
    },
    {
      "cell_type": "code",
      "source": [
        "\n",
        "import numpy as np\n",
        "from scipy.special import softmax \n",
        "import transformers\n",
        "import datasets\n",
        "from transformers import AutoTokenizer\n",
        "\n",
        "print(transformers.__version__)"
      ],
      "metadata": {
        "colab": {
          "base_uri": "https://localhost:8080/"
        },
        "id": "BBEyZcnVTUNb",
        "outputId": "aec95d62-44a2-416f-b620-cf88a9007514"
      },
      "execution_count": 4,
      "outputs": [
        {
          "output_type": "stream",
          "name": "stdout",
          "text": [
            "4.21.0.dev0\n"
          ]
        }
      ]
    },
    {
      "cell_type": "markdown",
      "metadata": {
        "id": "rEJBSTyZIrIb"
      },
      "source": [
        "# Fine-tuning a model / Mallin opettaminen "
      ]
    },
    {
      "cell_type": "code",
      "execution_count": 5,
      "metadata": {
        "id": "zVvslsfMIrIh"
      },
      "outputs": [],
      "source": [
        "model_checkpoint =\"bert-base-cased\" # name from Hugging Face repository\n",
        "batch_size = 6 # to not to OOM\n",
        "TRAIN = False # by assumption use the model finetuned with IMDB data and saved to personal Google Drive. "
      ]
    },
    {
      "cell_type": "markdown",
      "metadata": {
        "id": "whPRbBNbIrIl"
      },
      "source": [
        "## Loading the dataset / Datan lataus"
      ]
    },
    {
      "cell_type": "markdown",
      "metadata": {
        "id": "W7QYTpxXIrIl"
      },
      "source": [
        "https://github.com/huggingface/datasets/tree/master/datasets/imdb: \n",
        "\n",
        "label: a classification label, with possible values including neg (0), pos (1)."
      ]
    },
    {
      "cell_type": "code",
      "source": [
        "train, test = datasets.load_dataset(\"imdb\", split=[\"train\", \"test\"], download_mode='force_redownload')"
      ],
      "metadata": {
        "colab": {
          "base_uri": "https://localhost:8080/",
          "height": 202,
          "referenced_widgets": [
            "1051913cc4894114a2c759030823b751",
            "813fb0fe3a234c658a86322ffc150ca0",
            "b4e4b4293bd74e01bbdb21325b0b0552",
            "fe577a02e3e94859a4026baad9e4183e",
            "54c7e07dfce64657b628c5e152f6bc0e",
            "35dc254026fc440f95a97843061f79b4",
            "93f99f8e137e467ab26d884332cadfab",
            "bb327fac451b49a1983c810b98603d21",
            "4776f1ac98d44baa96d5712a9272ffe8",
            "018129f6e1dc40da81f60b7ca7ac5a6e",
            "924978f737e44fc2826ef395d7592769",
            "a86050fb7e5b4600af1703e8a5445a59",
            "a1b8885564034a979df7abb864859ad6",
            "f52d7636844541d9801357968aa21969",
            "6294b10b99ad411791c452e203180b9d",
            "5a4941d4e4f9436ebe099644eeddb47b",
            "04af4edf2cfc42059d1a4c7e98f79b71",
            "e0dc0e5417464d5faeb86d5e48b07ace",
            "3d92509e14e84d2ea67bc368c466cbd9",
            "2b16c4a06e1a443cb41419c840f3f017",
            "5c12e687717b45f4bfe03974bdd82bb4",
            "0b92acd8a50b4fa08fc195f224f39887",
            "dcec73883a0c4fbea939da1e6cbeba18",
            "0b807568bb7d46398e72bffb6e854345",
            "485b0fc35ab14cbe8bfe2aea29ae7bc4",
            "88deb96141504ad992492a1899228386",
            "b148ce4bbee24e75a74f586802c10500",
            "bb5c7822d6bc49c29c0062f902f90a56",
            "b66b399110b447fda44f110fc2847ff2",
            "10577bb43d204ae5b3130dbd38bb84ab",
            "871b7424021e4ab4bc7d6a7330ef4ff8",
            "8c5a383767084dd1877371f2b0252144",
            "fe1b020c079b4bfe84994ef0d01cb8d2",
            "e0ed361d2d09493b915ad0580d3c5f14",
            "5ead183d0e7d4fbd8624f8c8d96a00f6",
            "6b711abfe8f44923af57024532604f8e",
            "3329d21977ed4110bcc9935c604a8617",
            "e4398b4a68844a4ea63a0e38b3ca15f7",
            "9b1501cad74b4f199bb57cbb6cb4f6c0",
            "f3de01d3c23d488ba4031f889a890a8f",
            "a22102092cd5494fbfe434157425c5ca",
            "e6d0c46b706e4270bb7932c22400e471",
            "9febb773d07844e6b8a6ca08416d83c0",
            "90b53e2cbe0b47c688792aaa2a32690e",
            "46dee757727844f484d24525b7389598",
            "94344a967cfa4396aa3b75f7884b6b29",
            "f4f6b77302ec48c1b5546188ef34f9c0",
            "1316026ae0a849b590af4ca1de348a6d",
            "551fea197f764028bfa73db0960de9ff",
            "77a7eef3bf884d5cb252378f5453d218",
            "ec5b28f756fb46eca740fdffee021ad0",
            "5ebee29fea974351831e15b24411c76e",
            "1b4deb0fcc4c45ebb262a4580efe08b4",
            "3c6a2cc29c6d4c5b9f81d1450f1917b2",
            "744b736e7e93481faf71bdf1da85b448",
            "40c61cb44ddc4dd8b6071d6d90b9355e",
            "3126d9b4aba84dffab05cee695385c38",
            "40a9037bb1a649c191ade7c65b63ab90",
            "52b98e47ec8d48cbb9bc76be784e4e2f",
            "077372c8447e41ccacdf3eb604479258",
            "5f58a2b9b78d4c3d8219537b7176825d",
            "3f4fd5d347ec485a805b77c47ea6bfd5",
            "b3ca1339ed1f4bf283930baf5205f03b",
            "1f4eb8ec035047419c2b56ffc8c4244f",
            "74c3e210cc4046889758a910f076e992",
            "063471f17111411fb89e1fe199967eca",
            "2491a5c306a74523b8ba37c3ba56b3ef",
            "19c2e55faab045b78ec3698e6760dfac",
            "172e1bcfca7f48ca864f21bda6e9b632",
            "cf4ce54f471b499eb44fa7f9e0bfdcd7",
            "3adf9c09e16b4c90afbc7e6c6467dcd4",
            "ed294d83230748878563d2fca783dc4a",
            "12ecb017e7ff4383811b26d2190f0a10",
            "1fc747ada15243af8814a40b058c124c",
            "94c189c9f9874d41be797929cf32d2b9",
            "e2e5ecb81d274360a53597cda72ad87a",
            "70375ef359d54bf38c68d7c3d75176bf"
          ]
        },
        "id": "HOkHI0mQ7rZZ",
        "outputId": "c6095561-1f74-4448-86d1-093554827a2a"
      },
      "execution_count": 6,
      "outputs": [
        {
          "output_type": "display_data",
          "data": {
            "text/plain": [
              "Downloading builder script:   0%|          | 0.00/1.79k [00:00<?, ?B/s]"
            ],
            "application/vnd.jupyter.widget-view+json": {
              "version_major": 2,
              "version_minor": 0,
              "model_id": "1051913cc4894114a2c759030823b751"
            }
          },
          "metadata": {}
        },
        {
          "output_type": "display_data",
          "data": {
            "text/plain": [
              "Downloading metadata:   0%|          | 0.00/1.05k [00:00<?, ?B/s]"
            ],
            "application/vnd.jupyter.widget-view+json": {
              "version_major": 2,
              "version_minor": 0,
              "model_id": "a86050fb7e5b4600af1703e8a5445a59"
            }
          },
          "metadata": {}
        },
        {
          "output_type": "stream",
          "name": "stdout",
          "text": [
            "Downloading and preparing dataset imdb/plain_text (download: 80.23 MiB, generated: 127.02 MiB, post-processed: Unknown size, total: 207.25 MiB) to /root/.cache/huggingface/datasets/imdb/plain_text/1.0.0/2fdd8b9bcadd6e7055e742a706876ba43f19faee861df134affd7a3f60fc38a1...\n"
          ]
        },
        {
          "output_type": "display_data",
          "data": {
            "text/plain": [
              "Downloading data:   0%|          | 0.00/84.1M [00:00<?, ?B/s]"
            ],
            "application/vnd.jupyter.widget-view+json": {
              "version_major": 2,
              "version_minor": 0,
              "model_id": "dcec73883a0c4fbea939da1e6cbeba18"
            }
          },
          "metadata": {}
        },
        {
          "output_type": "display_data",
          "data": {
            "text/plain": [
              "Generating train split:   0%|          | 0/25000 [00:00<?, ? examples/s]"
            ],
            "application/vnd.jupyter.widget-view+json": {
              "version_major": 2,
              "version_minor": 0,
              "model_id": "e0ed361d2d09493b915ad0580d3c5f14"
            }
          },
          "metadata": {}
        },
        {
          "output_type": "display_data",
          "data": {
            "text/plain": [
              "Generating test split:   0%|          | 0/25000 [00:00<?, ? examples/s]"
            ],
            "application/vnd.jupyter.widget-view+json": {
              "version_major": 2,
              "version_minor": 0,
              "model_id": "46dee757727844f484d24525b7389598"
            }
          },
          "metadata": {}
        },
        {
          "output_type": "display_data",
          "data": {
            "text/plain": [
              "Generating unsupervised split:   0%|          | 0/50000 [00:00<?, ? examples/s]"
            ],
            "application/vnd.jupyter.widget-view+json": {
              "version_major": 2,
              "version_minor": 0,
              "model_id": "40c61cb44ddc4dd8b6071d6d90b9355e"
            }
          },
          "metadata": {}
        },
        {
          "output_type": "stream",
          "name": "stdout",
          "text": [
            "Dataset imdb downloaded and prepared to /root/.cache/huggingface/datasets/imdb/plain_text/1.0.0/2fdd8b9bcadd6e7055e742a706876ba43f19faee861df134affd7a3f60fc38a1. Subsequent calls will reuse this data.\n"
          ]
        },
        {
          "output_type": "display_data",
          "data": {
            "text/plain": [
              "  0%|          | 0/2 [00:00<?, ?it/s]"
            ],
            "application/vnd.jupyter.widget-view+json": {
              "version_major": 2,
              "version_minor": 0,
              "model_id": "2491a5c306a74523b8ba37c3ba56b3ef"
            }
          },
          "metadata": {}
        }
      ]
    },
    {
      "cell_type": "code",
      "source": [
        "dataset = datasets.DatasetDict({'train': train, 'test': test})\n",
        "dataset"
      ],
      "metadata": {
        "colab": {
          "base_uri": "https://localhost:8080/"
        },
        "id": "7v3exbDI-Hhc",
        "outputId": "87b69305-fd85-4272-f914-a0a643e71333"
      },
      "execution_count": 7,
      "outputs": [
        {
          "output_type": "execute_result",
          "data": {
            "text/plain": [
              "DatasetDict({\n",
              "    train: Dataset({\n",
              "        features: ['text', 'label'],\n",
              "        num_rows: 25000\n",
              "    })\n",
              "    test: Dataset({\n",
              "        features: ['text', 'label'],\n",
              "        num_rows: 25000\n",
              "    })\n",
              "})"
            ]
          },
          "metadata": {},
          "execution_count": 7
        }
      ]
    },
    {
      "cell_type": "code",
      "execution_count": 7,
      "metadata": {
        "id": "X6HrpprwIrIz"
      },
      "outputs": [],
      "source": [
        "## To access an actual element, you need to select a split first, then give an index:\n",
        "# for i in range(0,200,40):\n",
        "#   print(dataset[\"train\"][\"label\"][i], \"\\t\", dataset[\"train\"][\"text\"][i])"
      ]
    },
    {
      "cell_type": "code",
      "source": [
        "num_labels=len(np.unique(dataset[\"train\"][\"label\"])) # luokkien lukumäärä, kaksi luokkaa, positiivinen ja negatiivinen, voidaan tulkita sentiemnttinä, eli tunnetilana\n",
        "# print(np.unique(dataset[\"train\"][\"label\"]))\n",
        "# num_labels"
      ],
      "metadata": {
        "id": "Dfc_uXnVBxEz"
      },
      "execution_count": 8,
      "outputs": []
    },
    {
      "cell_type": "code",
      "source": [
        "# Downsize the data set splits\n",
        "\n",
        "dataset[\"train\"] = dataset[\"train\"].filter(lambda example, idx: idx % 20 == 0, with_indices=True)\n",
        "# split test data to validation and test and downsample both\n",
        "dataset[\"validation\"] = dataset[\"test\"].filter(lambda example, idx: idx % 2 == 0, with_indices=True).filter(lambda example, idx: idx % 30 == 0, with_indices=True)\n",
        "dataset[\"test\"] = dataset[\"test\"].filter(lambda example, idx: idx % 2 != 0, with_indices=True).filter(lambda example, idx: idx % 30 == 0, with_indices=True)\n",
        "# if index is divisible with 10, select the instance"
      ],
      "metadata": {
        "id": "qax921F8D7V-",
        "outputId": "efc8aaf2-7f83-4a3b-e15a-80e95175775c",
        "colab": {
          "base_uri": "https://localhost:8080/",
          "height": 177,
          "referenced_widgets": [
            "aa69680f9aa344f6afa560ac1f7fe932",
            "f9dc78368ab6413082c60f708369a2bc",
            "0d1f3ef0414e41e088233894195b7930",
            "28c4da2f61514ce6873286c45eaa6f0c",
            "dabeb5f0961c4542932591245c152055",
            "4aae6f831c744d71b90fe27154a61456",
            "075f1d8b3e6e440a96dd2c05d061d626",
            "4b450bc02fa94e909719098b937a9083",
            "9f92e93cf6ad4e0985369102fa14adf5",
            "5382fa1d2e4848eca54d0065e2c3eb6d",
            "35a4db62bf5a489cbca2a98d422dbc41",
            "7fdec83fad0d4acd93f51e126761e835",
            "96744298ebc14b83b36a3af8b1fd9e19",
            "49cf651f7e4f4e3186d062cf6cc69b85",
            "e3ebbca190f642fcb45afb0ed69b6f97",
            "85e8ca51b7f94985b50cacedc6d07cae",
            "d6e8287b0d1648c9be75c55d9a902b70",
            "85dca053a4424b2b96b669758eebc0d3",
            "f9f423ad46da4bf7b1a5be052474c145",
            "9b2fc855267b4dd5bd8caf4fb4b659c4",
            "4af91b2b7e084476b8a4563937103543",
            "b4550afe490b4344a75908e6021bf519",
            "dd369d124c2849e9888b8e07f732da91",
            "0e87153bd3a94346a99fa779a559d4b5",
            "801298c47dec453aa9cc1e4e54b64d77",
            "6fb5e9111dd64421802c42c631a6ded8",
            "153683d3618d4884a628740307e0a441",
            "2d5b883e394b4a8da05444245ee7fa82",
            "c571ad800d3d4a5985924c530679bc3e",
            "0c128b0ade874dfa944691da092b235e",
            "91e89fcca72742a6b7520a30185609ed",
            "def1877ebc5648dca6d453b6e9c66515",
            "fa62ef58083c4925a64adaeac0a10c04",
            "5a4afc90a4764944b8374e1a43a97508",
            "04d6dd337b72444ca67a5a952c26f30c",
            "6b301d523064414a9346d02a8db0383a",
            "d045ce6b26dc45a7af8bc4f13608e42d",
            "ec333092c97a4d3ba2c50d8dc5d05458",
            "30f1e1eb6eda4781bad9a91ca28bb064",
            "4eeb3526a007416d9c9aaf08dec19564",
            "6e350dd2b5904b7fbe9493e7bb719070",
            "5b7fec17a7d445c496d073137724ad22",
            "bf7c13f4fcbc4af48786651090b42208",
            "332fe8e9f3224cda91b3a60d2d5bc593",
            "97f4d75946164c3b922ed91e08e2be89",
            "f8aaa6d41bda498ab5a23fe0342f5972",
            "590888ff162b44b08586c281703a516a",
            "99dd54a194d54d9c8cd9a51a7f1b6522",
            "d691ceb466934a2ca89ebbe98b710342",
            "0cc736bb104d46c78f874a87710fa070",
            "162b3bb1e70e4e8eb9466c0448ab8050",
            "45fb25203e7348109960974106e1475f",
            "a6485eef564f4e8097bc8bc6e3436f89",
            "27de0407ee2d4f8e95e71bd63f6d7963",
            "bd256b9005cd4a39ab807c2920d1a456"
          ]
        }
      },
      "execution_count": 9,
      "outputs": [
        {
          "output_type": "display_data",
          "data": {
            "text/plain": [
              "  0%|          | 0/25 [00:00<?, ?ba/s]"
            ],
            "application/vnd.jupyter.widget-view+json": {
              "version_major": 2,
              "version_minor": 0,
              "model_id": "aa69680f9aa344f6afa560ac1f7fe932"
            }
          },
          "metadata": {}
        },
        {
          "output_type": "display_data",
          "data": {
            "text/plain": [
              "  0%|          | 0/25 [00:00<?, ?ba/s]"
            ],
            "application/vnd.jupyter.widget-view+json": {
              "version_major": 2,
              "version_minor": 0,
              "model_id": "7fdec83fad0d4acd93f51e126761e835"
            }
          },
          "metadata": {}
        },
        {
          "output_type": "display_data",
          "data": {
            "text/plain": [
              "  0%|          | 0/13 [00:00<?, ?ba/s]"
            ],
            "application/vnd.jupyter.widget-view+json": {
              "version_major": 2,
              "version_minor": 0,
              "model_id": "dd369d124c2849e9888b8e07f732da91"
            }
          },
          "metadata": {}
        },
        {
          "output_type": "display_data",
          "data": {
            "text/plain": [
              "  0%|          | 0/25 [00:00<?, ?ba/s]"
            ],
            "application/vnd.jupyter.widget-view+json": {
              "version_major": 2,
              "version_minor": 0,
              "model_id": "5a4afc90a4764944b8374e1a43a97508"
            }
          },
          "metadata": {}
        },
        {
          "output_type": "display_data",
          "data": {
            "text/plain": [
              "  0%|          | 0/13 [00:00<?, ?ba/s]"
            ],
            "application/vnd.jupyter.widget-view+json": {
              "version_major": 2,
              "version_minor": 0,
              "model_id": "97f4d75946164c3b922ed91e08e2be89"
            }
          },
          "metadata": {}
        }
      ]
    },
    {
      "cell_type": "code",
      "source": [
        "dataset"
      ],
      "metadata": {
        "colab": {
          "base_uri": "https://localhost:8080/"
        },
        "id": "tbQsW12kvjBJ",
        "outputId": "7521a3ce-e6fd-4244-855e-ef257a461aed"
      },
      "execution_count": 10,
      "outputs": [
        {
          "output_type": "execute_result",
          "data": {
            "text/plain": [
              "DatasetDict({\n",
              "    train: Dataset({\n",
              "        features: ['text', 'label'],\n",
              "        num_rows: 1250\n",
              "    })\n",
              "    test: Dataset({\n",
              "        features: ['text', 'label'],\n",
              "        num_rows: 417\n",
              "    })\n",
              "    validation: Dataset({\n",
              "        features: ['text', 'label'],\n",
              "        num_rows: 417\n",
              "    })\n",
              "})"
            ]
          },
          "metadata": {},
          "execution_count": 10
        }
      ]
    },
    {
      "cell_type": "markdown",
      "metadata": {
        "id": "n9qywopnIrJH"
      },
      "source": [
        "## Preprocess the data"
      ]
    },
    {
      "cell_type": "markdown",
      "metadata": {
        "id": "YVx71GdAIrJH"
      },
      "source": [
        "Preprocess with a tokenizer. \n",
        "- get a tokenizer that corresponds to the model architecture\n",
        "- download the vocabulary used when pretraining this specific checkpoint."
      ]
    },
    {
      "cell_type": "code",
      "execution_count": 263,
      "metadata": {
        "id": "eXNLu_-nIrJI"
      },
      "outputs": [],
      "source": [
        "#from transformers import AutoTokenizer\n",
        "\n",
        "tokenizer = transformers.AutoTokenizer.from_pretrained(model_checkpoint)"
      ]
    },
    {
      "cell_type": "markdown",
      "metadata": {
        "id": "2C0hcmp9IrJQ"
      },
      "source": [
        "Write the function that will preprocess our samples.\n",
        "- feed them to the `tokenizer` with the arguments `truncation=True` and `padding='longest`. This will ensure that an input longer that what the model selected can handle will be truncated to the maximum length accepted by the model, and all inputs will be padded to the maximum input length to give us a single input array. \n",
        "\n",
        "- A more performant method that reduces the number of padding tokens is to write a generator or `tf.data.Dataset` to only pad each *batch* to the maximum length in that batch"
      ]
    },
    {
      "cell_type": "code",
      "execution_count": null,
      "metadata": {
        "id": "-b70jh26IrJS"
      },
      "outputs": [],
      "source": [
        "# preprocess_function(dataset[\"train\"][:5])"
      ]
    },
    {
      "cell_type": "code",
      "source": [
        "def preprocess_function(examples):\n",
        "    return tokenizer(examples['text'], truncation=True)\n",
        "\n",
        "#preprocess_function(dataset[\"train\"][:5])"
      ],
      "metadata": {
        "id": "ncXyDahK8-ZD"
      },
      "execution_count": null,
      "outputs": []
    },
    {
      "cell_type": "markdown",
      "metadata": {
        "id": "zS-6iXTkIrJT"
      },
      "source": [
        "apply this function on all the sentences."
      ]
    },
    {
      "cell_type": "code",
      "execution_count": null,
      "metadata": {
        "id": "DDtsaJeVIrJT"
      },
      "outputs": [],
      "source": [
        "pre_tokenizer_columns = set(dataset[\"train\"].features)\n",
        "encoded_dataset = dataset.map(preprocess_function, batched=True) # batched=True to encode the texts by batches together. \n",
        "# This is to leverage the full benefit of the fast tokenizer we loaded earlier, which will use multi-threading to treat the texts in a batch concurrently.\n",
        "tokenizer_columns = list(set(encoded_dataset[\"train\"].features) - pre_tokenizer_columns)\n",
        "print(\"Columns added by tokenizer:\", tokenizer_columns)"
      ]
    },
    {
      "cell_type": "code",
      "execution_count": 264,
      "metadata": {
        "id": "b8PomR8YAC9H",
        "outputId": "8f2946c4-4ad4-4ecf-f46d-7356d7d028af",
        "colab": {
          "base_uri": "https://localhost:8080/"
        }
      },
      "outputs": [
        {
          "output_type": "execute_result",
          "data": {
            "text/plain": [
              "ClassLabel(num_classes=2, names=['neg', 'pos'], id=None)"
            ]
          },
          "metadata": {},
          "execution_count": 264
        }
      ],
      "source": [
        "encoded_dataset[\"train\"].features[\"label\"]"
      ]
    },
    {
      "cell_type": "markdown",
      "metadata": {
        "id": "voWiw8C7IrJV"
      },
      "source": [
        "you can pass `load_from_cache_file=False` in the call to `map` to not use the cached files and force the preprocessing to be applied again."
      ]
    },
    {
      "cell_type": "markdown",
      "metadata": {
        "id": "dLGHbYzKAC9I"
      },
      "source": [
        "Finally, we convert our datasets to `tf.data.Dataset`. There's a built-in method for this, so all you need to do is specify the columns you want (both for the inputs and the labels), whether the data should be shuffled, the batch size, and an optional collation function, that controls how a batch of samples is combined.\n",
        "\n",
        "We'll need to supply a `DataCollator` for this. The `DataCollator` handles grouping each batch of samples together, and different tasks will require different data collators. In this case, we will use the `DataCollatorWithPadding`, because our samples need to be padded to the same length to form a batch. Remember to supply the `return_tensors` argument too - our data collators can handle multiple frameworks, so you need to be clear that you want TensorFlow tensors back."
      ]
    },
    {
      "cell_type": "code",
      "source": [
        "from transformers import DataCollatorWithPadding\n",
        "\n",
        "# Data_collator controls how a batch of samples is combined.\n",
        "# Use DataCollatorWithPadding, because our samples need to be padded to the same length to form a batch. \n",
        "# Remember to supply the return_tensors argument too - our data collators can handle multiple frameworks, so you need to be clear that you want TensorFlow tensors back.\n",
        "data_collator = DataCollatorWithPadding(tokenizer=tokenizer, return_tensors=\"tf\") \n",
        "\n",
        "tf_train_dataset = encoded_dataset[\"train\"].to_tf_dataset(\n",
        "    columns=tokenizer_columns,\n",
        "    label_cols=[\"labels\"],\n",
        "    shuffle=True,\n",
        "    batch_size=batch_size,\n",
        "    collate_fn=data_collator,\n",
        ")\n",
        "tf_validation_dataset = encoded_dataset[\"validation\"].to_tf_dataset(\n",
        "    columns=tokenizer_columns,\n",
        "    label_cols=[\"labels\"],\n",
        "    shuffle=False,\n",
        "    batch_size=batch_size,\n",
        "    collate_fn=data_collator,\n",
        ")\n",
        "tf_test_dataset = encoded_dataset[\"test\"].to_tf_dataset(\n",
        "    columns=tokenizer_columns,\n",
        "    label_cols=[\"labels\"],\n",
        "    shuffle=False,\n",
        "    batch_size=batch_size,\n",
        "    collate_fn=data_collator,\n",
        ")"
      ],
      "metadata": {
        "id": "XNsUa7-Kv30i"
      },
      "execution_count": null,
      "outputs": []
    },
    {
      "cell_type": "code",
      "source": [
        "encoded_dataset[\"test\"]"
      ],
      "metadata": {
        "id": "oZt54QgeuAwc",
        "colab": {
          "base_uri": "https://localhost:8080/"
        },
        "outputId": "4dfe10ae-79ec-41e2-9c62-6bfc3b0cb08a"
      },
      "execution_count": 265,
      "outputs": [
        {
          "output_type": "execute_result",
          "data": {
            "text/plain": [
              "Dataset({\n",
              "    features: ['text', 'label', 'input_ids', 'token_type_ids', 'attention_mask'],\n",
              "    num_rows: 417\n",
              "})"
            ]
          },
          "metadata": {},
          "execution_count": 265
        }
      ]
    },
    {
      "cell_type": "code",
      "source": [
        "tf_test_dataset"
      ],
      "metadata": {
        "id": "-zO73FI1t2H0",
        "colab": {
          "base_uri": "https://localhost:8080/"
        },
        "outputId": "a4c2f840-eb62-4c30-fc63-26beb22eda79"
      },
      "execution_count": 266,
      "outputs": [
        {
          "output_type": "execute_result",
          "data": {
            "text/plain": [
              "<PrefetchDataset element_spec=({'input_ids': TensorSpec(shape=(None, None), dtype=tf.int64, name=None), 'token_type_ids': TensorSpec(shape=(None, None), dtype=tf.int64, name=None), 'attention_mask': TensorSpec(shape=(None, None), dtype=tf.int64, name=None)}, TensorSpec(shape=(None,), dtype=tf.int64, name=None))>"
            ]
          },
          "metadata": {},
          "execution_count": 266
        }
      ]
    },
    {
      "cell_type": "code",
      "source": [
        "# See availabe metrics: https://huggingface.co/metrics\n",
        "metric = datasets.load_metric('accuracy')"
      ],
      "metadata": {
        "id": "cZKDB0QZIl0c"
      },
      "execution_count": null,
      "outputs": []
    },
    {
      "cell_type": "markdown",
      "metadata": {
        "id": "545PP3o8IrJV"
      },
      "source": [
        "## Fine-tuning the model"
      ]
    },
    {
      "cell_type": "code",
      "source": [
        "# To connect Google account to Colab\n",
        "from google.colab import drive\n",
        "drive.mount('/content/drive')"
      ],
      "metadata": {
        "id": "22rW_7Q51tzK",
        "outputId": "3b1d02ae-1d4a-4cda-e8a8-033d5fc06ee9",
        "colab": {
          "base_uri": "https://localhost:8080/"
        }
      },
      "execution_count": 20,
      "outputs": [
        {
          "output_type": "stream",
          "name": "stdout",
          "text": [
            "Mounted at /content/drive\n"
          ]
        }
      ]
    },
    {
      "cell_type": "code",
      "source": [
        "# %%bash\n",
        "# cd gdrive/MyDrive/bachelor_thesis\n",
        "# mkdir model_checkpoints\n",
        "# ls"
      ],
      "metadata": {
        "id": "e8cMLQSkz6fM"
      },
      "execution_count": 21,
      "outputs": []
    },
    {
      "cell_type": "code",
      "source": [
        "file_path=\"/content/drive/MyDrive/bachelor_thesis/model_checkpoints/model.hdf5\""
      ],
      "metadata": {
        "id": "g1uZqc6xz8ji"
      },
      "execution_count": 22,
      "outputs": []
    },
    {
      "cell_type": "markdown",
      "metadata": {
        "id": "FBiW8UpKIrJW"
      },
      "source": [
        "- download the pretrained model and fine-tune it (`TFAutoModelForSequenceClassification` class). \n",
        "  - specify the number of labels for our problem \n",
        "- get the appropriate loss function (SparseCategoricalCrossentropy)\n"
      ]
    },
    {
      "cell_type": "code",
      "execution_count": 23,
      "metadata": {
        "id": "TlqNaB8jIrJW",
        "outputId": "03bbd54c-3b14-4421-b514-441ede03d39d",
        "colab": {
          "base_uri": "https://localhost:8080/",
          "height": 124,
          "referenced_widgets": [
            "2e95cf94b5914f62a50bb0185258df3e",
            "8ea59f60a8bd4061b72dc855c7e22e9a",
            "e7524547f72b44d18d8e356c052b9f40",
            "14061067799543879b91b68f051c88b3",
            "92b4e23d53db4c239d16b511bc057e8d",
            "f9fee90be4664199b3a37b43a974a1fb",
            "35b805b29c1741ea9e501b2712fa3660",
            "e67ff63f5d9041a88c94fdb25ea63e91",
            "6b0228f692584df0a92a6aa48aa2aac7",
            "0415d1398339435b989a1c03c08eaad9",
            "e823842e49c24812bbd86dfa34a7b982"
          ]
        }
      },
      "outputs": [
        {
          "output_type": "display_data",
          "data": {
            "text/plain": [
              "Downloading tf_model.h5:   0%|          | 0.00/502M [00:00<?, ?B/s]"
            ],
            "application/vnd.jupyter.widget-view+json": {
              "version_major": 2,
              "version_minor": 0,
              "model_id": "2e95cf94b5914f62a50bb0185258df3e"
            }
          },
          "metadata": {}
        },
        {
          "output_type": "stream",
          "name": "stderr",
          "text": [
            "All model checkpoint layers were used when initializing TFBertForSequenceClassification.\n",
            "\n",
            "Some layers of TFBertForSequenceClassification were not initialized from the model checkpoint at bert-base-cased and are newly initialized: ['classifier']\n",
            "You should probably TRAIN this model on a down-stream task to be able to use it for predictions and inference.\n"
          ]
        }
      ],
      "source": [
        "from transformers import TFAutoModelForSequenceClassification\n",
        "import tensorflow as tf\n",
        "\n",
        "model = TFAutoModelForSequenceClassification.from_pretrained(\n",
        "    model_checkpoint, num_labels = dataset[\"train\"].features[\"label\"].num_classes\n",
        ")\n",
        "\n",
        "loss = tf.keras.losses.SparseCategoricalCrossentropy(from_logits=True) \n",
        "# from_logits=True: Whether y_pred is expected to be a logits tensor. \n",
        "# from_logits=False: We assume that y_pred encodes a probability distribution. "
      ]
    },
    {
      "cell_type": "markdown",
      "metadata": {
        "id": "CczA5lJlIrJX"
      },
      "source": [
        "The warning is telling us we are throwing away some weights (the `vocab_transform` and `vocab_layer_norm` layers) and randomly initializing some other (the `pre_classifier` and `classifier` layers). **This is absolutely normal in this case, because we are removing the head used to pretrain the model on a masked language modeling objective and replacing it with a new head for which we don't have pretrained weights**, so the library warns us we should fine-tune this model before using it for inference, which is exactly what we are going to do."
      ]
    },
    {
      "cell_type": "markdown",
      "metadata": {
        "id": "hFQLGFIFAC9M"
      },
      "source": [
        "- create a `AdamW` optimizer with weight and learning rate decay. Note that because it decays the learning rate over the course of training, it needs to know how many batches it will see during training.\n",
        "- L2 regularization (a.k.a. weight decay, ridge regression) penalizes model for being too complex. The regularization penalty multiplied by weight is added to the total loss of the network. Hence we are punishing for higher weights and expect that none of the model parameters is drastically more important than the other ones."
      ]
    },
    {
      "cell_type": "code",
      "execution_count": 24,
      "metadata": {
        "id": "tr27FjrTAC9L"
      },
      "outputs": [],
      "source": [
        "from transformers import create_optimizer\n",
        "\n",
        "num_epochs = 2 #5 \n",
        "batches_per_epoch = len(encoded_dataset[\"train\"]) // batch_size\n",
        "total_train_steps = int(batches_per_epoch * num_epochs)\n",
        "\n",
        "optimizer, schedule = create_optimizer(\n",
        "    init_lr=2e-5, num_warmup_steps=0, num_train_steps=total_train_steps\n",
        ")\n",
        "model.compile(optimizer=optimizer, loss=loss)"
      ]
    },
    {
      "cell_type": "markdown",
      "metadata": {
        "id": "7sZOdRlRIrJd"
      },
      "source": [
        "The last thing to define is how to compute the metrics from the predictions. We need to define a function for this, which will just use the `metric` we loaded earlier, the only preprocessing we have to do is to take the argmax of our predicted logits.\n",
        "\n",
        "let's wrap this metric computation function in a KerasMetricCallback. This callback will compute the metric on the validation set each epoch, including printing it and logging it for other callbacks like TensorBoard and EarlyStopping."
      ]
    },
    {
      "cell_type": "code",
      "execution_count": 25,
      "metadata": {
        "id": "qFkyHUFJNma3"
      },
      "outputs": [],
      "source": [
        "from transformers.keras_callbacks import KerasMetricCallback\n",
        "import numpy as np\n",
        "\n",
        "def compute_metrics(eval_predictions):\n",
        "    predictions, labels = eval_predictions\n",
        "    predictions = np.argmax(predictions, axis=1) # argmax of our predicted logits (indeksi, jossa on ennusteen suuri arvo. Indeksi = luokka)\n",
        "    return metric.compute(predictions=predictions, references=labels) # call for the metrics instantiated in chapter \"Metrics\"\n",
        "\n",
        "# add Keras metrics to get live readouts during training \n",
        "metric_callback = KerasMetricCallback(\n",
        "    metric_fn=compute_metrics, eval_dataset=tf_validation_dataset\n",
        ")"
      ]
    },
    {
      "cell_type": "markdown",
      "metadata": {
        "id": "5JwrJaGAAC9N"
      },
      "source": [
        "We can now finetune our model by just calling the `fit` method. Be sure to pass the TF datasets, and not the original datasets! We can also add a callback to sync up our model with the Hub - this allows us to resume training from other machines and even test the model's inference quality midway through training! Make sure to change the `username` if you do. If you don't want to do this, simply remove the callbacks argument in the call to `fit()`."
      ]
    },
    {
      "cell_type": "code",
      "execution_count": 26,
      "metadata": {
        "id": "imY1oC3SIrJf"
      },
      "outputs": [],
      "source": [
        "from tensorflow.keras.callbacks import EarlyStopping, ModelCheckpoint\n",
        "\n",
        "if TRAIN:\n",
        "  model_checkpoint_callback = ModelCheckpoint(filepath=file_path, \n",
        "                          monitor='val_loss', \n",
        "                          verbose=1, \n",
        "                          save_best_only=True, \n",
        "                          save_weights_only=True, # only the weights are saved. To use them a model is needed but it can be saved elsewhere or restored from this notebook\n",
        "                          save_freq='epoch', # save after every epoch\n",
        "                          mode='auto')\n",
        "\n",
        "  callbacks = [metric_callback, model_checkpoint_callback]\n",
        "\n",
        "  model.fit(\n",
        "      tf_train_dataset,\n",
        "      validation_data=tf_validation_dataset,\n",
        "      verbose=1,\n",
        "      epochs=1, #3,\n",
        "      callbacks=[callbacks],\n",
        "  )\n",
        "\n",
        "else: \n",
        "  model.load_weights(file_path)"
      ]
    },
    {
      "cell_type": "code",
      "execution_count": 27,
      "metadata": {
        "id": "UOUcBkX8IrJi",
        "colab": {
          "base_uri": "https://localhost:8080/"
        },
        "outputId": "d882e6ed-917e-4670-cbda-487423b5486b"
      },
      "outputs": [
        {
          "output_type": "execute_result",
          "data": {
            "text/plain": [
              "array([[ 0.3507655, -1.0008607],\n",
              "       [-1.9121766,  1.7757229],\n",
              "       [ 0.30786  , -1.1297804],\n",
              "       [ 1.5143837, -1.7531375],\n",
              "       [ 1.7868872, -1.8565449]], dtype=float32)"
            ]
          },
          "metadata": {},
          "execution_count": 27
        }
      ],
      "source": [
        "predictions = model.predict(tf_test_dataset)[\"logits\"] # logits are additive and SHAP uses them so I prefer them here.\n",
        "# The vector of raw (non-normalized) predictions that a classification model generates, which is ordinarily then passed to a normalization function. \n",
        "# We get as many logits as we have classes to predict, here 2. \n",
        "predictions[:5]"
      ]
    },
    {
      "cell_type": "code",
      "source": [
        "# The softmax function (for which the logits are input) generates a vector of probabilities with one value for each possible class.\n",
        "print(softmax(predictions[0], axis=0))\n",
        "np.sum(softmax(predictions[0], axis=0))"
      ],
      "metadata": {
        "colab": {
          "base_uri": "https://localhost:8080/"
        },
        "id": "e2KEBcP0LTI7",
        "outputId": "66546d2d-5709-4df6-e247-60bade3fe5b0"
      },
      "execution_count": 28,
      "outputs": [
        {
          "output_type": "stream",
          "name": "stdout",
          "text": [
            "[0.7943953  0.20560463]\n"
          ]
        },
        {
          "output_type": "execute_result",
          "data": {
            "text/plain": [
              "0.99999994"
            ]
          },
          "metadata": {},
          "execution_count": 28
        }
      ]
    },
    {
      "cell_type": "code",
      "source": [
        "# #SHAP base value when all of the feats are included\n",
        "# train_predictions = model.predict(tf_train_dataset)[\"logits\"]\n",
        "# train_predictions[:5]"
      ],
      "metadata": {
        "id": "DTiQqyBCZW0L"
      },
      "execution_count": null,
      "outputs": []
    },
    {
      "cell_type": "code",
      "source": [
        "#mean_logit=np.mean(train_predictions, axis=1) \n",
        "#np.mean(mean_logit) "
      ],
      "metadata": {
        "id": "zCBESnqiNYNA"
      },
      "execution_count": null,
      "outputs": []
    },
    {
      "cell_type": "code",
      "source": [
        "#np.mean(train_predictions)"
      ],
      "metadata": {
        "id": "xOkJ1ktYNXVR"
      },
      "execution_count": null,
      "outputs": []
    },
    {
      "cell_type": "code",
      "source": [
        "# softmax(np.mean(train_predictions))"
      ],
      "metadata": {
        "id": "LWk3SNAkZl5t"
      },
      "execution_count": null,
      "outputs": []
    },
    {
      "cell_type": "markdown",
      "metadata": {
        "id": "CKASz-2vIrJi"
      },
      "source": [
        "Predict with test data and calculate model test accuracy.\n"
      ]
    },
    {
      "cell_type": "code",
      "source": [
        "import numpy as np\n",
        "\n",
        "preds=np.argmax(predictions, axis=1)\n",
        "true=np.array(encoded_dataset[\"test\"]['label'])\n",
        "metric.compute(predictions=preds, references=true)"
      ],
      "metadata": {
        "id": "zfJRzdrKw1md",
        "outputId": "2b9b5e37-4af5-4b04-cbb7-c438a51bdbdc",
        "colab": {
          "base_uri": "https://localhost:8080/"
        }
      },
      "execution_count": 33,
      "outputs": [
        {
          "output_type": "execute_result",
          "data": {
            "text/plain": [
              "{'accuracy': 0.894484412470024}"
            ]
          },
          "metadata": {},
          "execution_count": 33
        }
      ]
    },
    {
      "cell_type": "code",
      "source": [
        "import seaborn as sns\n",
        "import matplotlib.pyplot as plt\n",
        "\n",
        "# Columns represent the predicted labels and the rows represent the real labels\n",
        "\n",
        "cf_mat = tf.math.confusion_matrix(\n",
        "    true, preds, num_classes=None, weights=None, dtype=tf.dtypes.int64,\n",
        "    name=None\n",
        ")\n",
        "def plot_cf_matrix(mat):\n",
        "  sns.heatmap(mat, annot=True)\n",
        "  plt.title(\"Confusion matrix for test data\", fontsize = 16)\n",
        "  plt.ylabel(\"True class\", fontsize = 14)\n",
        "  plt.xlabel(\"Predicted class\", fontsize = 14)\n",
        "\n",
        "\n",
        "plot_cf_matrix(cf_mat)"
      ],
      "metadata": {
        "id": "_mIrwPYl0YJM",
        "outputId": "cf6537d7-1139-4c85-b1f7-b5de8f760484",
        "colab": {
          "base_uri": "https://localhost:8080/",
          "height": 301
        }
      },
      "execution_count": 34,
      "outputs": [
        {
          "output_type": "display_data",
          "data": {
            "text/plain": [
              "<Figure size 432x288 with 2 Axes>"
            ],
            "image/png": "[encoded data removed]"
          },
          "metadata": {
            "needs_background": "light"
          }
        }
      ]
    },
    {
      "cell_type": "markdown",
      "source": [
        "# SHAP explanations"
      ],
      "metadata": {
        "id": "iB1be03DHndB"
      }
    },
    {
      "cell_type": "code",
      "source": [
        "!pip --quiet install shap"
      ],
      "metadata": {
        "id": "eXLMUyqC4ERz",
        "outputId": "ea8e15b0-d90d-47eb-a7b0-30ac11eb4ebd",
        "colab": {
          "base_uri": "https://localhost:8080/"
        }
      },
      "execution_count": 35,
      "outputs": [
        {
          "output_type": "stream",
          "name": "stdout",
          "text": [
            "\u001b[?25l\r\u001b[K     |▋                               | 10 kB 30.9 MB/s eta 0:00:01\r\u001b[K     |█▏                              | 20 kB 24.5 MB/s eta 0:00:01\r\u001b[K     |█▊                              | 30 kB 17.8 MB/s eta 0:00:01\r\u001b[K     |██▎                             | 40 kB 15.6 MB/s eta 0:00:01\r\u001b[K     |██▉                             | 51 kB 7.4 MB/s eta 0:00:01\r\u001b[K     |███▌                            | 61 kB 8.7 MB/s eta 0:00:01\r\u001b[K     |████                            | 71 kB 9.0 MB/s eta 0:00:01\r\u001b[K     |████▋                           | 81 kB 8.9 MB/s eta 0:00:01\r\u001b[K     |█████▏                          | 92 kB 9.8 MB/s eta 0:00:01\r\u001b[K     |█████▊                          | 102 kB 8.0 MB/s eta 0:00:01\r\u001b[K     |██████▎                         | 112 kB 8.0 MB/s eta 0:00:01\r\u001b[K     |███████                         | 122 kB 8.0 MB/s eta 0:00:01\r\u001b[K     |███████▌                        | 133 kB 8.0 MB/s eta 0:00:01\r\u001b[K     |████████                        | 143 kB 8.0 MB/s eta 0:00:01\r\u001b[K     |████████▋                       | 153 kB 8.0 MB/s eta 0:00:01\r\u001b[K     |█████████▏                      | 163 kB 8.0 MB/s eta 0:00:01\r\u001b[K     |█████████▉                      | 174 kB 8.0 MB/s eta 0:00:01\r\u001b[K     |██████████▍                     | 184 kB 8.0 MB/s eta 0:00:01\r\u001b[K     |███████████                     | 194 kB 8.0 MB/s eta 0:00:01\r\u001b[K     |███████████▌                    | 204 kB 8.0 MB/s eta 0:00:01\r\u001b[K     |████████████                    | 215 kB 8.0 MB/s eta 0:00:01\r\u001b[K     |████████████▋                   | 225 kB 8.0 MB/s eta 0:00:01\r\u001b[K     |█████████████▎                  | 235 kB 8.0 MB/s eta 0:00:01\r\u001b[K     |█████████████▉                  | 245 kB 8.0 MB/s eta 0:00:01\r\u001b[K     |██████████████▍                 | 256 kB 8.0 MB/s eta 0:00:01\r\u001b[K     |███████████████                 | 266 kB 8.0 MB/s eta 0:00:01\r\u001b[K     |███████████████▌                | 276 kB 8.0 MB/s eta 0:00:01\r\u001b[K     |████████████████                | 286 kB 8.0 MB/s eta 0:00:01\r\u001b[K     |████████████████▊               | 296 kB 8.0 MB/s eta 0:00:01\r\u001b[K     |█████████████████▎              | 307 kB 8.0 MB/s eta 0:00:01\r\u001b[K     |█████████████████▉              | 317 kB 8.0 MB/s eta 0:00:01\r\u001b[K     |██████████████████▍             | 327 kB 8.0 MB/s eta 0:00:01\r\u001b[K     |███████████████████             | 337 kB 8.0 MB/s eta 0:00:01\r\u001b[K     |███████████████████▋            | 348 kB 8.0 MB/s eta 0:00:01\r\u001b[K     |████████████████████▏           | 358 kB 8.0 MB/s eta 0:00:01\r\u001b[K     |████████████████████▊           | 368 kB 8.0 MB/s eta 0:00:01\r\u001b[K     |█████████████████████▎          | 378 kB 8.0 MB/s eta 0:00:01\r\u001b[K     |█████████████████████▉          | 389 kB 8.0 MB/s eta 0:00:01\r\u001b[K     |██████████████████████▍         | 399 kB 8.0 MB/s eta 0:00:01\r\u001b[K     |███████████████████████         | 409 kB 8.0 MB/s eta 0:00:01\r\u001b[K     |███████████████████████▋        | 419 kB 8.0 MB/s eta 0:00:01\r\u001b[K     |████████████████████████▏       | 430 kB 8.0 MB/s eta 0:00:01\r\u001b[K     |████████████████████████▊       | 440 kB 8.0 MB/s eta 0:00:01\r\u001b[K     |█████████████████████████▎      | 450 kB 8.0 MB/s eta 0:00:01\r\u001b[K     |██████████████████████████      | 460 kB 8.0 MB/s eta 0:00:01\r\u001b[K     |██████████████████████████▌     | 471 kB 8.0 MB/s eta 0:00:01\r\u001b[K     |███████████████████████████     | 481 kB 8.0 MB/s eta 0:00:01\r\u001b[K     |███████████████████████████▋    | 491 kB 8.0 MB/s eta 0:00:01\r\u001b[K     |████████████████████████████▏   | 501 kB 8.0 MB/s eta 0:00:01\r\u001b[K     |████████████████████████████▊   | 512 kB 8.0 MB/s eta 0:00:01\r\u001b[K     |█████████████████████████████▍  | 522 kB 8.0 MB/s eta 0:00:01\r\u001b[K     |██████████████████████████████  | 532 kB 8.0 MB/s eta 0:00:01\r\u001b[K     |██████████████████████████████▌ | 542 kB 8.0 MB/s eta 0:00:01\r\u001b[K     |███████████████████████████████ | 552 kB 8.0 MB/s eta 0:00:01\r\u001b[K     |███████████████████████████████▋| 563 kB 8.0 MB/s eta 0:00:01\r\u001b[K     |████████████████████████████████| 569 kB 8.0 MB/s \n",
            "\u001b[?25h"
          ]
        }
      ]
    },
    {
      "cell_type": "markdown",
      "source": [
        "Now that the model has been defined we can use [a transformer pipeline](https://huggingface.co/transformers/v3.0.2/main_classes/pipelines.html?highlight=return_all_scores#). \n",
        "\n",
        "A transformers pipeline object can be passed directly to shap.Explainer, which will then wrap the pipeline model as a shap.models.TransformersPipeline model and the pipeline tokenizer as a shap.maskers.Text masker. [source](https://shap.readthedocs.io/en/latest/example_notebooks/text_examples/sentiment_analysis/Emotion%20classification%20multiclass%20example.html)\n",
        "\n",
        "\n",
        "Sometimes it makes more sense to work in a log odds space where it is natural to add and subtract effects (addition and subtraction correspond to the addition or subtraction of bits of evidence information). To work with logits we can use a parameter of the shap.models.TransformersPipeline object [source](https://shap.readthedocs.io/en/latest/example_notebooks/text_examples/sentiment_analysis/Emotion%20classification%20multiclass%20example.html#Explain-the-log-odds-instead-of-the-probabilities)\n",
        "\n"
      ],
      "metadata": {
        "id": "uHPvtah8vaTk"
      }
    },
    {
      "cell_type": "code",
      "source": [
        "import shap\n",
        "\n",
        "# Use transformer pipeline. Pass the tokenizer as the masker object\n",
        "classifier = transformers.pipeline(task='sentiment-analysis', model=model, tokenizer=tokenizer, return_all_scores=True)\n",
        "\n",
        "# Make a data sample\n",
        "data_sample=['Just loved the movie from the very beginning. Val Kilmer gave his best and the dance movements were stunning.',\n",
        "             'Total waste of time eventhough the popcorns were nice and crispy']\n",
        "\n",
        "classifier(data_sample) # pipeline predictions are probabilities for each class. In this data set LABEL_0 = negative, LABEL_1 = positive"
      ],
      "metadata": {
        "colab": {
          "base_uri": "https://localhost:8080/"
        },
        "id": "YDAf1zyyvd5C",
        "outputId": "426547f3-3307-4b20-eb12-12d6f02d0c97"
      },
      "execution_count": 170,
      "outputs": [
        {
          "output_type": "stream",
          "name": "stderr",
          "text": [
            "`return_all_scores` is now deprecated, use `top_k=1` if you want similar functionnality\n"
          ]
        },
        {
          "output_type": "execute_result",
          "data": {
            "text/plain": [
              "[[{'label': 'LABEL_0', 'score': 0.053332723677158356},\n",
              "  {'label': 'LABEL_1', 'score': 0.9466672539710999}],\n",
              " [{'label': 'LABEL_0', 'score': 0.8036051988601685},\n",
              "  {'label': 'LABEL_1', 'score': 0.19639484584331512}]]"
            ]
          },
          "metadata": {},
          "execution_count": 170
        }
      ]
    },
    {
      "cell_type": "markdown",
      "source": [
        "For the input 'Just loved the movie from the very beginning. Val Kilmer gave his best and the dance movements were stunning.' classifier predicts class 1, i.e. positive with 95 % probability.\n",
        "\n",
        "For the input 'Total waste of time eventhough the popcorns were nice and crispy' classifier predicts class 0, i.e. negative with 80 % probability.\n",
        "\n",
        "The question is now why?\n",
        "\n",
        "Wrap the pipeline in shap.models.TransformersPipeline\n",
        "\n",
        "By default transformers pipeline object output lists of dictionaries, not standard tensors as expected by SHAP. This class wraps pipelines to make them output nice tensor formats.\n",
        "\n",
        "SHAP requires tensor outputs from the classifier, and explanations works best in additive spaces so we transform the probabilities into logit values (information values instead of probabilites).\n",
        "\n",
        "https://github.com/HannaKi/shap/blob/45b85c1837283fdaeed7440ec6365a886af4a333/shap/models/_transformers_pipeline.py#L9"
      ],
      "metadata": {
        "id": "QaaY_dbkEIY8"
      }
    },
    {
      "cell_type": "code",
      "source": [
        "shap_pipeline_model = shap.models.TransformersPipeline(classifier, rescale_to_logits=True) # return logits i.e logarithm of the odds. They are additive \n",
        "shap_pipeline_model(data_sample)"
      ],
      "metadata": {
        "colab": {
          "base_uri": "https://localhost:8080/"
        },
        "id": "LXljkbWOwGHB",
        "outputId": "83e3c552-3840-47e5-ff47-e1f995731262"
      },
      "execution_count": 171,
      "outputs": [
        {
          "output_type": "execute_result",
          "data": {
            "text/plain": [
              "array([[-2.87639759,  2.87639715],\n",
              "       [ 1.40898118, -1.40898089]])"
            ]
          },
          "metadata": {},
          "execution_count": 171
        }
      ]
    },
    {
      "cell_type": "code",
      "source": [
        "np.argmax(shap_pipeline_model(data_sample),axis=1)"
      ],
      "metadata": {
        "colab": {
          "base_uri": "https://localhost:8080/",
          "height": 173
        },
        "id": "fzt8w9aGFqBw",
        "outputId": "c2d4392b-7fbe-48a6-9a56-757937de1156"
      },
      "execution_count": 1,
      "outputs": [
        {
          "output_type": "error",
          "ename": "NameError",
          "evalue": "ignored",
          "traceback": [
            "\u001b[0;31m---------------------------------------------------------------------------\u001b[0m",
            "\u001b[0;31mNameError\u001b[0m                                 Traceback (most recent call last)",
            "\u001b[0;32m<ipython-input-1-2eb602cd9e96>\u001b[0m in \u001b[0;36m<module>\u001b[0;34m()\u001b[0m\n\u001b[0;32m----> 1\u001b[0;31m \u001b[0mnp\u001b[0m\u001b[0;34m.\u001b[0m\u001b[0margmax\u001b[0m\u001b[0;34m(\u001b[0m\u001b[0mshap_pipeline_model\u001b[0m\u001b[0;34m(\u001b[0m\u001b[0mdata_sample\u001b[0m\u001b[0;34m)\u001b[0m\u001b[0;34m,\u001b[0m\u001b[0maxis\u001b[0m\u001b[0;34m=\u001b[0m\u001b[0;36m1\u001b[0m\u001b[0;34m)\u001b[0m\u001b[0;34m\u001b[0m\u001b[0;34m\u001b[0m\u001b[0m\n\u001b[0m",
            "\u001b[0;31mNameError\u001b[0m: name 'np' is not defined"
          ]
        }
      ]
    },
    {
      "cell_type": "code",
      "source": [
        "explainer = shap.Explainer(shap_pipeline_model)\n",
        "explainer"
      ],
      "metadata": {
        "id": "AiwtivQEwHB3",
        "outputId": "9774e4f2-502c-480a-c410-4389381266a3",
        "colab": {
          "base_uri": "https://localhost:8080/"
        }
      },
      "execution_count": 288,
      "outputs": [
        {
          "output_type": "execute_result",
          "data": {
            "text/plain": [
              "<shap.explainers._partition.Partition at 0x7f4979d40390>"
            ]
          },
          "metadata": {},
          "execution_count": 288
        }
      ]
    },
    {
      "cell_type": "code",
      "source": [
        "shap_values = explainer(data_sample)"
      ],
      "metadata": {
        "colab": {
          "base_uri": "https://localhost:8080/",
          "height": 86,
          "referenced_widgets": [
            "b0a4d8e770f5455da20286433a05afe6",
            "575c93e4876f41899f953e0ec80136f2",
            "357ee6bfdae84bdf904caf9ce1f6c41e",
            "dc6f2464e0aa4426b79d855366de8e8b",
            "7d17fe4ed2204363b8966112941f61ac",
            "72de6e647caf49c4a9b647213d9e520a",
            "6d748d8c8e4d479e86baa168efae88c2",
            "7b81582dae9a47db804bcf0a90d3c6b5",
            "74ddd66cc4b24f64b7f593d8720dc133",
            "c24f367a9e244002a5c37baea3aae537",
            "1f50d8b95e9845c39a6605e2e3ef8015",
            "0013342eb35944958723727c6169f29a",
            "7948950b0dff42d99bd1e14cea98bb4e",
            "3616a0eaa99e410bb042ce275bafa040",
            "97f7e786df424743adfde1b3e4961439",
            "bd73e530bcba4d398533dcff280452c5",
            "fb685c0f81cd41e2a94b630ce3c8c6d0",
            "daab6378d0b24b20b933a84da755f5df",
            "52594c3e4a8a4c7790be9a1dbb862465",
            "d8f8630f66064700823ba12e800c242e",
            "341096c8ea66448dae89e613188b99c7",
            "c54b5fc3110c40b5b5f098e824e9bf6a"
          ]
        },
        "id": "T66td76qxCJr",
        "outputId": "8acd3733-d5a6-4614-f8c0-d4ee6bec598c"
      },
      "execution_count": 186,
      "outputs": [
        {
          "output_type": "display_data",
          "data": {
            "text/plain": [
              "  0%|          | 0/498 [00:00<?, ?it/s]"
            ],
            "application/vnd.jupyter.widget-view+json": {
              "version_major": 2,
              "version_minor": 0,
              "model_id": "b0a4d8e770f5455da20286433a05afe6"
            }
          },
          "metadata": {}
        },
        {
          "output_type": "stream",
          "name": "stderr",
          "text": [
            "\rPartition explainer:  50%|█████     | 1/2 [00:00<?, ?it/s]"
          ]
        },
        {
          "output_type": "display_data",
          "data": {
            "text/plain": [
              "  0%|          | 0/306 [00:00<?, ?it/s]"
            ],
            "application/vnd.jupyter.widget-view+json": {
              "version_major": 2,
              "version_minor": 0,
              "model_id": "0013342eb35944958723727c6169f29a"
            }
          },
          "metadata": {}
        },
        {
          "output_type": "stream",
          "name": "stderr",
          "text": [
            "Partition explainer: 3it [05:25, 162.58s/it]\n"
          ]
        }
      ]
    },
    {
      "cell_type": "markdown",
      "source": [
        "Why does the model predict positive class for the first sentence? The plot reveals which input forces the prediction the most from the base value towards the logits that indicate positive class."
      ],
      "metadata": {
        "id": "ViDv8uyxE7Cf"
      }
    },
    {
      "cell_type": "code",
      "source": [
        "shap.plots.text(shap_values[0,:,\"LABEL_1\"])"
      ],
      "metadata": {
        "colab": {
          "base_uri": "https://localhost:8080/",
          "height": 119
        },
        "id": "eed-cSsaywq2",
        "outputId": "901f9be1-7cb2-47b8-e1cf-5a6025cb6ae8"
      },
      "execution_count": 187,
      "outputs": [
        {
          "output_type": "display_data",
          "data": {
            "text/plain": [
              "<IPython.core.display.HTML object>"
            ],
            "text/html": [
              "<svg width=\"100%\" height=\"80px\"><line x1=\"0\" y1=\"33\" x2=\"100%\" y2=\"33\" style=\"stroke:rgb(150,150,150);stroke-width:1\" /><line x1=\"58.95597125403395%\" y1=\"33\" x2=\"58.95597125403395%\" y2=\"37\" style=\"stroke:rgb(150,150,150);stroke-width:1\" /><text x=\"58.95597125403395%\" y=\"27\" font-size=\"12px\" fill=\"rgb(120,120,120)\" dominant-baseline=\"bottom\" text-anchor=\"middle\">2</text><line x1=\"33.200658048331434%\" y1=\"33\" x2=\"33.200658048331434%\" y2=\"37\" style=\"stroke:rgb(150,150,150);stroke-width:1\" /><text x=\"33.200658048331434%\" y=\"27\" font-size=\"12px\" fill=\"rgb(120,120,120)\" dominant-baseline=\"bottom\" text-anchor=\"middle\">1</text><line x1=\"7.445344842628921%\" y1=\"33\" x2=\"7.445344842628921%\" y2=\"37\" style=\"stroke:rgb(150,150,150);stroke-width:1\" /><text x=\"7.445344842628921%\" y=\"27\" font-size=\"12px\" fill=\"rgb(120,120,120)\" dominant-baseline=\"bottom\" text-anchor=\"middle\">0</text><line x1=\"84.71128445973646%\" y1=\"33\" x2=\"84.71128445973646%\" y2=\"37\" style=\"stroke:rgb(150,150,150);stroke-width:1\" /><text x=\"84.71128445973646%\" y=\"27\" font-size=\"12px\" fill=\"rgb(120,120,120)\" dominant-baseline=\"bottom\" text-anchor=\"middle\">3</text><line x1=\"18.472145440537922%\" y1=\"33\" x2=\"18.472145440537922%\" y2=\"37\" style=\"stroke:rgb(150,150,150);stroke-width:1\" /><text x=\"18.472145440537922%\" y=\"27\" font-size=\"13px\" style=\"stroke:#ffffff;stroke-width:8px;\" fill=\"rgb(255,255,255)\" dominant-baseline=\"bottom\" text-anchor=\"middle\">0.428137</text><text x=\"18.472145440537922%\" y=\"27\" font-size=\"12px\" fill=\"rgb(120,120,120)\" dominant-baseline=\"bottom\" text-anchor=\"middle\">0.428137</text><text x=\"18.472145440537922%\" y=\"10\" font-size=\"12px\" fill=\"rgb(120,120,120)\" dominant-baseline=\"bottom\" text-anchor=\"middle\">base value</text><line x1=\"81.52785430190896%\" y1=\"33\" x2=\"81.52785430190896%\" y2=\"37\" style=\"stroke:rgb(150,150,150);stroke-width:1\" /><text x=\"81.52785430190896%\" y=\"27\" font-size=\"13px\" style=\"stroke:#ffffff;stroke-width:8px;\" font-weight=\"bold\" fill=\"rgb(255,255,255)\" dominant-baseline=\"bottom\" text-anchor=\"middle\">2.8764</text><text x=\"81.52785430190896%\" y=\"27\" font-size=\"13px\" font-weight=\"bold\" fill=\"rgb(0,0,0)\" dominant-baseline=\"bottom\" text-anchor=\"middle\">2.8764</text><text x=\"81.52785430190896%\" y=\"10\" font-size=\"12px\" fill=\"rgb(120,120,120)\" dominant-baseline=\"bottom\" text-anchor=\"middle\">f<tspan baseline-shift=\"sub\" font-size=\"8px\">LABEL_1</tspan>(inputs)</text><rect x=\"8.300375540269156%\" width=\"73.2274787616398%\" y=\"40\" height=\"18\" style=\"fill:rgb(255.0, 0.0, 81.08083606031792); stroke-width:0; stroke:rgb(0,0,0)\" /><line x1=\"66.16426859351856%\" x2=\"81.52785430190896%\" y1=\"60\" y2=\"60\" id=\"_fb_pmfcldknkqiixemsaaee_ind_2\" style=\"stroke:rgb(255.0, 0.0, 81.08083606031792);stroke-width:2; opacity: 0\"/><text x=\"73.84606144771377%\" y=\"71\" font-size=\"12px\" id=\"_fs_pmfcldknkqiixemsaaee_ind_2\" fill=\"rgb(255.0, 0.0, 81.08083606031792)\" style=\"opacity: 0\" dominant-baseline=\"middle\" text-anchor=\"middle\">0.597</text><svg x=\"66.16426859351856%\" y=\"40\" height=\"20\" width=\"15.363585708390403%\">  <svg x=\"0\" y=\"0\" width=\"100%\" height=\"100%\">    <text x=\"50%\" y=\"9\" font-size=\"12px\" fill=\"rgb(255,255,255)\" dominant-baseline=\"middle\" text-anchor=\"middle\">loved</text>  </svg></svg><line x1=\"53.698996532809%\" x2=\"66.16426859351856%\" y1=\"60\" y2=\"60\" id=\"_fb_pmfcldknkqiixemsaaee_ind_21\" style=\"stroke:rgb(255.0, 0.0, 81.08083606031792);stroke-width:2; opacity: 0\"/><text x=\"59.931632563163774%\" y=\"71\" font-size=\"12px\" id=\"_fs_pmfcldknkqiixemsaaee_ind_21\" fill=\"rgb(255.0, 0.0, 81.08083606031792)\" style=\"opacity: 0\" dominant-baseline=\"middle\" text-anchor=\"middle\">0.484</text><svg x=\"53.698996532809%\" y=\"40\" height=\"20\" width=\"12.465272060709559%\">  <svg x=\"0\" y=\"0\" width=\"100%\" height=\"100%\">    <text x=\"50%\" y=\"9\" font-size=\"12px\" fill=\"rgb(255,255,255)\" dominant-baseline=\"middle\" text-anchor=\"middle\">stunning</text>  </svg></svg><line x1=\"45.06091963558504%\" x2=\"53.698996532809%\" y1=\"60\" y2=\"60\" id=\"_fb_pmfcldknkqiixemsaaee_ind_7\" style=\"stroke:rgb(255.0, 0.0, 81.08083606031792);stroke-width:2; opacity: 0\"/><text x=\"49.379958084197014%\" y=\"71\" font-size=\"12px\" id=\"_fs_pmfcldknkqiixemsaaee_ind_7\" fill=\"rgb(255.0, 0.0, 81.08083606031792)\" style=\"opacity: 0\" dominant-baseline=\"middle\" text-anchor=\"middle\">0.335</text><svg x=\"45.06091963558504%\" y=\"40\" height=\"20\" width=\"8.63807689722396%\">  <svg x=\"0\" y=\"0\" width=\"100%\" height=\"100%\">    <text x=\"50%\" y=\"9\" font-size=\"12px\" fill=\"rgb(255,255,255)\" dominant-baseline=\"middle\" text-anchor=\"middle\">very</text>  </svg></svg><line x1=\"36.53250914819886%\" x2=\"45.06091963558504%\" y1=\"60\" y2=\"60\" id=\"_fb_pmfcldknkqiixemsaaee_ind_4\" style=\"stroke:rgb(255.0, 0.0, 81.08083606031792);stroke-width:2; opacity: 0\"/><text x=\"40.79671439189195%\" y=\"71\" font-size=\"12px\" id=\"_fs_pmfcldknkqiixemsaaee_ind_4\" fill=\"rgb(255.0, 0.0, 81.08083606031792)\" style=\"opacity: 0\" dominant-baseline=\"middle\" text-anchor=\"middle\">0.331</text><svg x=\"36.53250914819886%\" y=\"40\" height=\"20\" width=\"8.528410487386175%\">  <svg x=\"0\" y=\"0\" width=\"100%\" height=\"100%\">    <text x=\"50%\" y=\"9\" font-size=\"12px\" fill=\"rgb(255,255,255)\" dominant-baseline=\"middle\" text-anchor=\"middle\">movie</text>  </svg></svg><line x1=\"29.94979548702313%\" x2=\"36.53250914819886%\" y1=\"60\" y2=\"60\" id=\"_fb_pmfcldknkqiixemsaaee_ind_16\" style=\"stroke:rgb(255.0, 0.0, 81.08083606031792);stroke-width:2; opacity: 0\"/><text x=\"33.241152317611%\" y=\"71\" font-size=\"12px\" id=\"_fs_pmfcldknkqiixemsaaee_ind_16\" fill=\"rgb(255.0, 0.0, 81.08083606031792)\" style=\"opacity: 0\" dominant-baseline=\"middle\" text-anchor=\"middle\">0.256</text><svg x=\"29.94979548702313%\" y=\"40\" height=\"20\" width=\"6.582713661175731%\">  <svg x=\"0\" y=\"0\" width=\"100%\" height=\"100%\">    <text x=\"50%\" y=\"9\" font-size=\"12px\" fill=\"rgb(255,255,255)\" dominant-baseline=\"middle\" text-anchor=\"middle\">and</text>  </svg></svg><line x1=\"23.541323602611907%\" x2=\"29.94979548702313%\" y1=\"60\" y2=\"60\" id=\"_fb_pmfcldknkqiixemsaaee_ind_15\" style=\"stroke:rgb(255.0, 0.0, 81.08083606031792);stroke-width:2; opacity: 0\"/><text x=\"26.745559544817517%\" y=\"71\" font-size=\"12px\" id=\"_fs_pmfcldknkqiixemsaaee_ind_15\" fill=\"rgb(255.0, 0.0, 81.08083606031792)\" style=\"opacity: 0\" dominant-baseline=\"middle\" text-anchor=\"middle\">0.249</text><svg x=\"23.541323602611907%\" y=\"40\" height=\"20\" width=\"6.408471884411224%\">  <svg x=\"0\" y=\"0\" width=\"100%\" height=\"100%\">    <text x=\"50%\" y=\"9\" font-size=\"12px\" fill=\"rgb(255,255,255)\" dominant-baseline=\"middle\" text-anchor=\"middle\">best</text>  </svg></svg><line x1=\"18.615573343921152%\" x2=\"23.541323602611907%\" y1=\"60\" y2=\"60\" id=\"_fb_pmfcldknkqiixemsaaee_ind_8\" style=\"stroke:rgb(255.0, 0.0, 81.08083606031792);stroke-width:2; opacity: 0\"/><text x=\"21.07844847326653%\" y=\"71\" font-size=\"12px\" id=\"_fs_pmfcldknkqiixemsaaee_ind_8\" fill=\"rgb(255.0, 0.0, 81.08083606031792)\" style=\"opacity: 0\" dominant-baseline=\"middle\" text-anchor=\"middle\">0.191</text><svg x=\"18.615573343921152%\" y=\"40\" height=\"20\" width=\"4.925750258690755%\">  <svg x=\"0\" y=\"0\" width=\"100%\" height=\"100%\">    <text x=\"50%\" y=\"9\" font-size=\"12px\" fill=\"rgb(255,255,255)\" dominant-baseline=\"middle\" text-anchor=\"middle\">beginning</text>  </svg></svg><line x1=\"14.687154090838035%\" x2=\"18.615573343921152%\" y1=\"60\" y2=\"60\" id=\"_fb_pmfcldknkqiixemsaaee_ind_18\" style=\"stroke:rgb(255.0, 0.0, 81.08083606031792);stroke-width:2; opacity: 0\"/><text x=\"16.651363717379596%\" y=\"71\" font-size=\"12px\" id=\"_fs_pmfcldknkqiixemsaaee_ind_18\" fill=\"rgb(255.0, 0.0, 81.08083606031792)\" style=\"opacity: 0\" dominant-baseline=\"middle\" text-anchor=\"middle\">0.153</text><svg x=\"14.687154090838035%\" y=\"40\" height=\"20\" width=\"3.928419253083117%\">  <svg x=\"0\" y=\"0\" width=\"100%\" height=\"100%\">    <text x=\"50%\" y=\"9\" font-size=\"12px\" fill=\"rgb(255,255,255)\" dominant-baseline=\"middle\" text-anchor=\"middle\">dance</text>  </svg></svg><line x1=\"12.524030442471133%\" x2=\"14.687154090838035%\" y1=\"60\" y2=\"60\" id=\"_fb_pmfcldknkqiixemsaaee_ind_17\" style=\"stroke:rgb(255.0, 0.0, 81.08083606031792);stroke-width:2; opacity: 0\"/><text x=\"13.605592266654584%\" y=\"71\" font-size=\"12px\" id=\"_fs_pmfcldknkqiixemsaaee_ind_17\" fill=\"rgb(255.0, 0.0, 81.08083606031792)\" style=\"opacity: 0\" dominant-baseline=\"middle\" text-anchor=\"middle\">0.084</text><svg x=\"12.524030442471133%\" y=\"40\" height=\"20\" width=\"2.163123648366902%\">  <svg x=\"0\" y=\"0\" width=\"100%\" height=\"100%\">    <text x=\"50%\" y=\"9\" font-size=\"12px\" fill=\"rgb(255,255,255)\" dominant-baseline=\"middle\" text-anchor=\"middle\">the</text>  </svg></svg><line x1=\"10.795836899149544%\" x2=\"12.524030442471133%\" y1=\"60\" y2=\"60\" id=\"_fb_pmfcldknkqiixemsaaee_ind_3\" style=\"stroke:rgb(255.0, 0.0, 81.08083606031792);stroke-width:2; opacity: 0\"/><text x=\"11.65993367081034%\" y=\"71\" font-size=\"12px\" id=\"_fs_pmfcldknkqiixemsaaee_ind_3\" fill=\"rgb(255.0, 0.0, 81.08083606031792)\" style=\"opacity: 0\" dominant-baseline=\"middle\" text-anchor=\"middle\">0.067</text><svg x=\"10.795836899149544%\" y=\"40\" height=\"20\" width=\"1.7281935433215896%\">  <svg x=\"0\" y=\"0\" width=\"100%\" height=\"100%\">    <text x=\"50%\" y=\"9\" font-size=\"12px\" fill=\"rgb(255,255,255)\" dominant-baseline=\"middle\" text-anchor=\"middle\">the</text>  </svg></svg><line x1=\"9.471075362739784%\" x2=\"10.795836899149544%\" y1=\"60\" y2=\"60\" id=\"_fb_pmfcldknkqiixemsaaee_ind_5\" style=\"stroke:rgb(255.0, 0.0, 81.08083606031792);stroke-width:2; opacity: 0\"/><text x=\"10.133456130944664%\" y=\"71\" font-size=\"12px\" id=\"_fs_pmfcldknkqiixemsaaee_ind_5\" fill=\"rgb(255.0, 0.0, 81.08083606031792)\" style=\"opacity: 0\" dominant-baseline=\"middle\" text-anchor=\"middle\">0.051</text><svg x=\"9.471075362739784%\" y=\"40\" height=\"20\" width=\"1.3247615364097598%\">  <svg x=\"0\" y=\"0\" width=\"100%\" height=\"100%\">    <text x=\"50%\" y=\"9\" font-size=\"12px\" fill=\"rgb(255,255,255)\" dominant-baseline=\"middle\" text-anchor=\"middle\">from</text>  </svg></svg><line x1=\"8.411789876404743%\" x2=\"9.471075362739784%\" y1=\"60\" y2=\"60\" id=\"_fb_pmfcldknkqiixemsaaee_ind_12\" style=\"stroke:rgb(255.0, 0.0, 81.08083606031792);stroke-width:2; opacity: 0\"/><text x=\"8.941432619572264%\" y=\"71\" font-size=\"12px\" id=\"_fs_pmfcldknkqiixemsaaee_ind_12\" fill=\"rgb(255.0, 0.0, 81.08083606031792)\" style=\"opacity: 0\" dominant-baseline=\"middle\" text-anchor=\"middle\">0.041</text><svg x=\"8.411789876404743%\" y=\"40\" height=\"20\" width=\"1.0592854863350407%\">  <svg x=\"0\" y=\"0\" width=\"100%\" height=\"100%\">    <text x=\"50%\" y=\"9\" font-size=\"12px\" fill=\"rgb(255,255,255)\" dominant-baseline=\"middle\" text-anchor=\"middle\">lmer</text>  </svg></svg><line x1=\"8.305492862575342%\" x2=\"8.411789876404743%\" y1=\"60\" y2=\"60\" id=\"_fb_pmfcldknkqiixemsaaee_ind_20\" style=\"stroke:rgb(255.0, 0.0, 81.08083606031792);stroke-width:2; opacity: 0\"/><text x=\"8.358641369490043%\" y=\"71\" font-size=\"12px\" id=\"_fs_pmfcldknkqiixemsaaee_ind_20\" fill=\"rgb(255.0, 0.0, 81.08083606031792)\" style=\"opacity: 0\" dominant-baseline=\"middle\" text-anchor=\"middle\">0.004</text><svg x=\"8.305492862575342%\" y=\"40\" height=\"20\" width=\"0.10629701382940127%\">  <svg x=\"0\" y=\"0\" width=\"100%\" height=\"100%\">    <text x=\"50%\" y=\"9\" font-size=\"12px\" fill=\"rgb(255,255,255)\" dominant-baseline=\"middle\" text-anchor=\"middle\">were</text>  </svg></svg><line x1=\"8.300375540269156%\" x2=\"8.305492862575342%\" y1=\"60\" y2=\"60\" id=\"_fb_pmfcldknkqiixemsaaee_ind_11\" style=\"stroke:rgb(255.0, 0.0, 81.08083606031792);stroke-width:2; opacity: 0\"/><text x=\"8.30293420142225%\" y=\"71\" font-size=\"12px\" id=\"_fs_pmfcldknkqiixemsaaee_ind_11\" fill=\"rgb(255.0, 0.0, 81.08083606031792)\" style=\"opacity: 0\" dominant-baseline=\"middle\" text-anchor=\"middle\">0.0</text><svg x=\"8.300375540269156%\" y=\"40\" height=\"20\" width=\"0.005117322306185557%\">  <svg x=\"0\" y=\"0\" width=\"100%\" height=\"100%\">    <text x=\"50%\" y=\"9\" font-size=\"12px\" fill=\"rgb(255,255,255)\" dominant-baseline=\"middle\" text-anchor=\"middle\">Ki</text>  </svg></svg><g transform=\"translate(0,0)\">  <svg x=\"66.16426859351856%\" y=\"40\" height=\"18\" overflow=\"visible\" width=\"30\">    <path d=\"M 0 -9 l 6 18 L 0 25\" fill=\"none\" style=\"stroke:rgb(255.0, 0.0, 81.08083606031792);stroke-width:2\" />  </svg></g><g transform=\"translate(2,0)\">  <svg x=\"66.16426859351856%\" y=\"40\" height=\"18\" overflow=\"visible\" width=\"30\">    <path d=\"M 0 -9 l 6 18 L 0 25\" fill=\"none\" style=\"stroke:rgb(255.0, 0.0, 81.08083606031792);stroke-width:2\" />  </svg></g><g transform=\"translate(4,0)\">  <svg x=\"66.16426859351856%\" y=\"40\" height=\"18\" overflow=\"visible\" width=\"30\">    <path d=\"M 0 -9 l 6 18 L 0 25\" fill=\"none\" style=\"stroke:rgb(255.0, 0.0, 81.08083606031792);stroke-width:2\" />  </svg></g><g transform=\"translate(6,0)\">  <svg x=\"66.16426859351856%\" y=\"40\" height=\"18\" overflow=\"visible\" width=\"30\">    <path d=\"M 0 -9 l 6 18 L 0 25\" fill=\"none\" style=\"stroke:rgb(255.0, 0.0, 81.08083606031792);stroke-width:2\" />  </svg></g><g transform=\"translate(-8,0)\">  <svg x=\"66.16426859351856%\" y=\"40\" height=\"18\" overflow=\"visible\" width=\"30\">    <path d=\"M 0 -9 l 6 18 L 0 25\" fill=\"none\" style=\"stroke:rgb(255.0, 0.0, 81.08083606031792);stroke-width:2\" />  </svg></g><g transform=\"translate(-6,0)\">  <svg x=\"66.16426859351856%\" y=\"40\" height=\"18\" overflow=\"visible\" width=\"30\">    <path d=\"M 0 -9 l 6 18 L 0 25\" fill=\"none\" style=\"stroke:rgb(255.0, 0.0, 81.08083606031792);stroke-width:2\" />  </svg></g><g transform=\"translate(-4,0)\">  <svg x=\"66.16426859351856%\" y=\"40\" height=\"18\" overflow=\"visible\" width=\"30\">    <path d=\"M 0 -9 l 6 18 L 0 25\" fill=\"none\" style=\"stroke:rgb(255.0, 0.0, 81.08083606031792);stroke-width:2\" />  </svg></g><g transform=\"translate(-2,0)\">  <svg x=\"66.16426859351856%\" y=\"40\" height=\"18\" overflow=\"visible\" width=\"30\">    <path d=\"M 0 -9 l 6 18 L 0 25\" fill=\"none\" style=\"stroke:rgb(255.0, 0.0, 81.08083606031792);stroke-width:2\" />  </svg></g><g transform=\"translate(0,0)\">  <svg x=\"53.698996532809%\" y=\"40\" height=\"18\" overflow=\"visible\" width=\"30\">    <path d=\"M 0 -9 l 6 18 L 0 25\" fill=\"none\" style=\"stroke:rgb(255.0, 0.0, 81.08083606031792);stroke-width:2\" />  </svg></g><g transform=\"translate(2,0)\">  <svg x=\"53.698996532809%\" y=\"40\" height=\"18\" overflow=\"visible\" width=\"30\">    <path d=\"M 0 -9 l 6 18 L 0 25\" fill=\"none\" style=\"stroke:rgb(255.0, 0.0, 81.08083606031792);stroke-width:2\" />  </svg></g><g transform=\"translate(4,0)\">  <svg x=\"53.698996532809%\" y=\"40\" height=\"18\" overflow=\"visible\" width=\"30\">    <path d=\"M 0 -9 l 6 18 L 0 25\" fill=\"none\" style=\"stroke:rgb(255.0, 0.0, 81.08083606031792);stroke-width:2\" />  </svg></g><g transform=\"translate(6,0)\">  <svg x=\"53.698996532809%\" y=\"40\" height=\"18\" overflow=\"visible\" width=\"30\">    <path d=\"M 0 -9 l 6 18 L 0 25\" fill=\"none\" style=\"stroke:rgb(255.0, 0.0, 81.08083606031792);stroke-width:2\" />  </svg></g><g transform=\"translate(-8,0)\">  <svg x=\"53.698996532809%\" y=\"40\" height=\"18\" overflow=\"visible\" width=\"30\">    <path d=\"M 0 -9 l 6 18 L 0 25\" fill=\"none\" style=\"stroke:rgb(255.0, 0.0, 81.08083606031792);stroke-width:2\" />  </svg></g><g transform=\"translate(-6,0)\">  <svg x=\"53.698996532809%\" y=\"40\" height=\"18\" overflow=\"visible\" width=\"30\">    <path d=\"M 0 -9 l 6 18 L 0 25\" fill=\"none\" style=\"stroke:rgb(255.0, 0.0, 81.08083606031792);stroke-width:2\" />  </svg></g><g transform=\"translate(-4,0)\">  <svg x=\"53.698996532809%\" y=\"40\" height=\"18\" overflow=\"visible\" width=\"30\">    <path d=\"M 0 -9 l 6 18 L 0 25\" fill=\"none\" style=\"stroke:rgb(255.0, 0.0, 81.08083606031792);stroke-width:2\" />  </svg></g><g transform=\"translate(-2,0)\">  <svg x=\"53.698996532809%\" y=\"40\" height=\"18\" overflow=\"visible\" width=\"30\">    <path d=\"M 0 -9 l 6 18 L 0 25\" fill=\"none\" style=\"stroke:rgb(255.0, 0.0, 81.08083606031792);stroke-width:2\" />  </svg></g><g transform=\"translate(0,0)\">  <svg x=\"45.06091963558504%\" y=\"40\" height=\"18\" overflow=\"visible\" width=\"30\">    <path d=\"M 0 -9 l 6 18 L 0 25\" fill=\"none\" style=\"stroke:rgb(255.0, 0.0, 81.08083606031792);stroke-width:2\" />  </svg></g><g transform=\"translate(2,0)\">  <svg x=\"45.06091963558504%\" y=\"40\" height=\"18\" overflow=\"visible\" width=\"30\">    <path d=\"M 0 -9 l 6 18 L 0 25\" fill=\"none\" style=\"stroke:rgb(255.0, 0.0, 81.08083606031792);stroke-width:2\" />  </svg></g><g transform=\"translate(4,0)\">  <svg x=\"45.06091963558504%\" y=\"40\" height=\"18\" overflow=\"visible\" width=\"30\">    <path d=\"M 0 -9 l 6 18 L 0 25\" fill=\"none\" style=\"stroke:rgb(255.0, 0.0, 81.08083606031792);stroke-width:2\" />  </svg></g><g transform=\"translate(6,0)\">  <svg x=\"45.06091963558504%\" y=\"40\" height=\"18\" overflow=\"visible\" width=\"30\">    <path d=\"M 0 -9 l 6 18 L 0 25\" fill=\"none\" style=\"stroke:rgb(255.0, 0.0, 81.08083606031792);stroke-width:2\" />  </svg></g><g transform=\"translate(-8,0)\">  <svg x=\"45.06091963558504%\" y=\"40\" height=\"18\" overflow=\"visible\" width=\"30\">    <path d=\"M 0 -9 l 6 18 L 0 25\" fill=\"none\" style=\"stroke:rgb(255.0, 0.0, 81.08083606031792);stroke-width:2\" />  </svg></g><g transform=\"translate(-6,0)\">  <svg x=\"45.06091963558504%\" y=\"40\" height=\"18\" overflow=\"visible\" width=\"30\">    <path d=\"M 0 -9 l 6 18 L 0 25\" fill=\"none\" style=\"stroke:rgb(255.0, 0.0, 81.08083606031792);stroke-width:2\" />  </svg></g><g transform=\"translate(-4,0)\">  <svg x=\"45.06091963558504%\" y=\"40\" height=\"18\" overflow=\"visible\" width=\"30\">    <path d=\"M 0 -9 l 6 18 L 0 25\" fill=\"none\" style=\"stroke:rgb(255.0, 0.0, 81.08083606031792);stroke-width:2\" />  </svg></g><g transform=\"translate(-2,0)\">  <svg x=\"45.06091963558504%\" y=\"40\" height=\"18\" overflow=\"visible\" width=\"30\">    <path d=\"M 0 -9 l 6 18 L 0 25\" fill=\"none\" style=\"stroke:rgb(255.0, 0.0, 81.08083606031792);stroke-width:2\" />  </svg></g><g transform=\"translate(0,0)\">  <svg x=\"36.53250914819886%\" y=\"40\" height=\"18\" overflow=\"visible\" width=\"30\">    <path d=\"M 0 -9 l 6 18 L 0 25\" fill=\"none\" style=\"stroke:rgb(255.0, 0.0, 81.08083606031792);stroke-width:2\" />  </svg></g><g transform=\"translate(2,0)\">  <svg x=\"36.53250914819886%\" y=\"40\" height=\"18\" overflow=\"visible\" width=\"30\">    <path d=\"M 0 -9 l 6 18 L 0 25\" fill=\"none\" style=\"stroke:rgb(255.0, 0.0, 81.08083606031792);stroke-width:2\" />  </svg></g><g transform=\"translate(4,0)\">  <svg x=\"36.53250914819886%\" y=\"40\" height=\"18\" overflow=\"visible\" width=\"30\">    <path d=\"M 0 -9 l 6 18 L 0 25\" fill=\"none\" style=\"stroke:rgb(255.0, 0.0, 81.08083606031792);stroke-width:2\" />  </svg></g><g transform=\"translate(6,0)\">  <svg x=\"36.53250914819886%\" y=\"40\" height=\"18\" overflow=\"visible\" width=\"30\">    <path d=\"M 0 -9 l 6 18 L 0 25\" fill=\"none\" style=\"stroke:rgb(255.0, 0.0, 81.08083606031792);stroke-width:2\" />  </svg></g><g transform=\"translate(-8,0)\">  <svg x=\"36.53250914819886%\" y=\"40\" height=\"18\" overflow=\"visible\" width=\"30\">    <path d=\"M 0 -9 l 6 18 L 0 25\" fill=\"none\" style=\"stroke:rgb(255.0, 0.0, 81.08083606031792);stroke-width:2\" />  </svg></g><g transform=\"translate(-6,0)\">  <svg x=\"36.53250914819886%\" y=\"40\" height=\"18\" overflow=\"visible\" width=\"30\">    <path d=\"M 0 -9 l 6 18 L 0 25\" fill=\"none\" style=\"stroke:rgb(255.0, 0.0, 81.08083606031792);stroke-width:2\" />  </svg></g><g transform=\"translate(-4,0)\">  <svg x=\"36.53250914819886%\" y=\"40\" height=\"18\" overflow=\"visible\" width=\"30\">    <path d=\"M 0 -9 l 6 18 L 0 25\" fill=\"none\" style=\"stroke:rgb(255.0, 0.0, 81.08083606031792);stroke-width:2\" />  </svg></g><g transform=\"translate(-2,0)\">  <svg x=\"36.53250914819886%\" y=\"40\" height=\"18\" overflow=\"visible\" width=\"30\">    <path d=\"M 0 -9 l 6 18 L 0 25\" fill=\"none\" style=\"stroke:rgb(255.0, 0.0, 81.08083606031792);stroke-width:2\" />  </svg></g><g transform=\"translate(0,0)\">  <svg x=\"29.94979548702313%\" y=\"40\" height=\"18\" overflow=\"visible\" width=\"30\">    <path d=\"M 0 -9 l 6 18 L 0 25\" fill=\"none\" style=\"stroke:rgb(255.0, 0.0, 81.08083606031792);stroke-width:2\" />  </svg></g><g transform=\"translate(2,0)\">  <svg x=\"29.94979548702313%\" y=\"40\" height=\"18\" overflow=\"visible\" width=\"30\">    <path d=\"M 0 -9 l 6 18 L 0 25\" fill=\"none\" style=\"stroke:rgb(255.0, 0.0, 81.08083606031792);stroke-width:2\" />  </svg></g><g transform=\"translate(4,0)\">  <svg x=\"29.94979548702313%\" y=\"40\" height=\"18\" overflow=\"visible\" width=\"30\">    <path d=\"M 0 -9 l 6 18 L 0 25\" fill=\"none\" style=\"stroke:rgb(255.0, 0.0, 81.08083606031792);stroke-width:2\" />  </svg></g><g transform=\"translate(6,0)\">  <svg x=\"29.94979548702313%\" y=\"40\" height=\"18\" overflow=\"visible\" width=\"30\">    <path d=\"M 0 -9 l 6 18 L 0 25\" fill=\"none\" style=\"stroke:rgb(255.0, 0.0, 81.08083606031792);stroke-width:2\" />  </svg></g><g transform=\"translate(-8,0)\">  <svg x=\"29.94979548702313%\" y=\"40\" height=\"18\" overflow=\"visible\" width=\"30\">    <path d=\"M 0 -9 l 6 18 L 0 25\" fill=\"none\" style=\"stroke:rgb(255.0, 0.0, 81.08083606031792);stroke-width:2\" />  </svg></g><g transform=\"translate(-6,0)\">  <svg x=\"29.94979548702313%\" y=\"40\" height=\"18\" overflow=\"visible\" width=\"30\">    <path d=\"M 0 -9 l 6 18 L 0 25\" fill=\"none\" style=\"stroke:rgb(255.0, 0.0, 81.08083606031792);stroke-width:2\" />  </svg></g><g transform=\"translate(-4,0)\">  <svg x=\"29.94979548702313%\" y=\"40\" height=\"18\" overflow=\"visible\" width=\"30\">    <path d=\"M 0 -9 l 6 18 L 0 25\" fill=\"none\" style=\"stroke:rgb(255.0, 0.0, 81.08083606031792);stroke-width:2\" />  </svg></g><g transform=\"translate(-2,0)\">  <svg x=\"29.94979548702313%\" y=\"40\" height=\"18\" overflow=\"visible\" width=\"30\">    <path d=\"M 0 -9 l 6 18 L 0 25\" fill=\"none\" style=\"stroke:rgb(255.0, 0.0, 81.08083606031792);stroke-width:2\" />  </svg></g><g transform=\"translate(0,0)\">  <svg x=\"23.541323602611907%\" y=\"40\" height=\"18\" overflow=\"visible\" width=\"30\">    <path d=\"M 0 -9 l 6 18 L 0 25\" fill=\"none\" style=\"stroke:rgb(255.0, 0.0, 81.08083606031792);stroke-width:2\" />  </svg></g><g transform=\"translate(2,0)\">  <svg x=\"23.541323602611907%\" y=\"40\" height=\"18\" overflow=\"visible\" width=\"30\">    <path d=\"M 0 -9 l 6 18 L 0 25\" fill=\"none\" style=\"stroke:rgb(255.0, 0.0, 81.08083606031792);stroke-width:2\" />  </svg></g><g transform=\"translate(4,0)\">  <svg x=\"23.541323602611907%\" y=\"40\" height=\"18\" overflow=\"visible\" width=\"30\">    <path d=\"M 0 -9 l 6 18 L 0 25\" fill=\"none\" style=\"stroke:rgb(255.0, 0.0, 81.08083606031792);stroke-width:2\" />  </svg></g><g transform=\"translate(6,0)\">  <svg x=\"23.541323602611907%\" y=\"40\" height=\"18\" overflow=\"visible\" width=\"30\">    <path d=\"M 0 -9 l 6 18 L 0 25\" fill=\"none\" style=\"stroke:rgb(255.0, 0.0, 81.08083606031792);stroke-width:2\" />  </svg></g><g transform=\"translate(-8,0)\">  <svg x=\"23.541323602611907%\" y=\"40\" height=\"18\" overflow=\"visible\" width=\"30\">    <path d=\"M 0 -9 l 6 18 L 0 25\" fill=\"none\" style=\"stroke:rgb(255.0, 0.0, 81.08083606031792);stroke-width:2\" />  </svg></g><g transform=\"translate(-6,0)\">  <svg x=\"23.541323602611907%\" y=\"40\" height=\"18\" overflow=\"visible\" width=\"30\">    <path d=\"M 0 -9 l 6 18 L 0 25\" fill=\"none\" style=\"stroke:rgb(255.0, 0.0, 81.08083606031792);stroke-width:2\" />  </svg></g><g transform=\"translate(-4,0)\">  <svg x=\"23.541323602611907%\" y=\"40\" height=\"18\" overflow=\"visible\" width=\"30\">    <path d=\"M 0 -9 l 6 18 L 0 25\" fill=\"none\" style=\"stroke:rgb(255.0, 0.0, 81.08083606031792);stroke-width:2\" />  </svg></g><g transform=\"translate(-2,0)\">  <svg x=\"23.541323602611907%\" y=\"40\" height=\"18\" overflow=\"visible\" width=\"30\">    <path d=\"M 0 -9 l 6 18 L 0 25\" fill=\"none\" style=\"stroke:rgb(255.0, 0.0, 81.08083606031792);stroke-width:2\" />  </svg></g><g transform=\"translate(0,0)\">  <svg x=\"18.615573343921152%\" y=\"40\" height=\"18\" overflow=\"visible\" width=\"30\">    <path d=\"M 0 -9 l 6 18 L 0 25\" fill=\"none\" style=\"stroke:rgb(255.0, 0.0, 81.08083606031792);stroke-width:2\" />  </svg></g><g transform=\"translate(2,0)\">  <svg x=\"18.615573343921152%\" y=\"40\" height=\"18\" overflow=\"visible\" width=\"30\">    <path d=\"M 0 -9 l 6 18 L 0 25\" fill=\"none\" style=\"stroke:rgb(255.0, 0.0, 81.08083606031792);stroke-width:2\" />  </svg></g><g transform=\"translate(4,0)\">  <svg x=\"18.615573343921152%\" y=\"40\" height=\"18\" overflow=\"visible\" width=\"30\">    <path d=\"M 0 -9 l 6 18 L 0 25\" fill=\"none\" style=\"stroke:rgb(255.0, 0.0, 81.08083606031792);stroke-width:2\" />  </svg></g><g transform=\"translate(6,0)\">  <svg x=\"18.615573343921152%\" y=\"40\" height=\"18\" overflow=\"visible\" width=\"30\">    <path d=\"M 0 -9 l 6 18 L 0 25\" fill=\"none\" style=\"stroke:rgb(255.0, 0.0, 81.08083606031792);stroke-width:2\" />  </svg></g><g transform=\"translate(-8,0)\">  <svg x=\"18.615573343921152%\" y=\"40\" height=\"18\" overflow=\"visible\" width=\"30\">    <path d=\"M 0 -9 l 6 18 L 0 25\" fill=\"none\" style=\"stroke:rgb(255.0, 0.0, 81.08083606031792);stroke-width:2\" />  </svg></g><g transform=\"translate(-6,0)\">  <svg x=\"18.615573343921152%\" y=\"40\" height=\"18\" overflow=\"visible\" width=\"30\">    <path d=\"M 0 -9 l 6 18 L 0 25\" fill=\"none\" style=\"stroke:rgb(255.0, 0.0, 81.08083606031792);stroke-width:2\" />  </svg></g><g transform=\"translate(-4,0)\">  <svg x=\"18.615573343921152%\" y=\"40\" height=\"18\" overflow=\"visible\" width=\"30\">    <path d=\"M 0 -9 l 6 18 L 0 25\" fill=\"none\" style=\"stroke:rgb(255.0, 0.0, 81.08083606031792);stroke-width:2\" />  </svg></g><g transform=\"translate(-2,0)\">  <svg x=\"18.615573343921152%\" y=\"40\" height=\"18\" overflow=\"visible\" width=\"30\">    <path d=\"M 0 -9 l 6 18 L 0 25\" fill=\"none\" style=\"stroke:rgb(255.0, 0.0, 81.08083606031792);stroke-width:2\" />  </svg></g><g transform=\"translate(0,0)\">  <svg x=\"14.687154090838035%\" y=\"40\" height=\"18\" overflow=\"visible\" width=\"30\">    <path d=\"M 0 -9 l 6 18 L 0 25\" fill=\"none\" style=\"stroke:rgb(255.0, 0.0, 81.08083606031792);stroke-width:2\" />  </svg></g><g transform=\"translate(2,0)\">  <svg x=\"14.687154090838035%\" y=\"40\" height=\"18\" overflow=\"visible\" width=\"30\">    <path d=\"M 0 -9 l 6 18 L 0 25\" fill=\"none\" style=\"stroke:rgb(255.0, 0.0, 81.08083606031792);stroke-width:2\" />  </svg></g><g transform=\"translate(4,0)\">  <svg x=\"14.687154090838035%\" y=\"40\" height=\"18\" overflow=\"visible\" width=\"30\">    <path d=\"M 0 -9 l 6 18 L 0 25\" fill=\"none\" style=\"stroke:rgb(255.0, 0.0, 81.08083606031792);stroke-width:2\" />  </svg></g><g transform=\"translate(6,0)\">  <svg x=\"14.687154090838035%\" y=\"40\" height=\"18\" overflow=\"visible\" width=\"30\">    <path d=\"M 0 -9 l 6 18 L 0 25\" fill=\"none\" style=\"stroke:rgb(255.0, 0.0, 81.08083606031792);stroke-width:2\" />  </svg></g><g transform=\"translate(-8,0)\">  <svg x=\"14.687154090838035%\" y=\"40\" height=\"18\" overflow=\"visible\" width=\"30\">    <path d=\"M 0 -9 l 6 18 L 0 25\" fill=\"none\" style=\"stroke:rgb(255.0, 0.0, 81.08083606031792);stroke-width:2\" />  </svg></g><g transform=\"translate(-6,0)\">  <svg x=\"14.687154090838035%\" y=\"40\" height=\"18\" overflow=\"visible\" width=\"30\">    <path d=\"M 0 -9 l 6 18 L 0 25\" fill=\"none\" style=\"stroke:rgb(255.0, 0.0, 81.08083606031792);stroke-width:2\" />  </svg></g><g transform=\"translate(-4,0)\">  <svg x=\"14.687154090838035%\" y=\"40\" height=\"18\" overflow=\"visible\" width=\"30\">    <path d=\"M 0 -9 l 6 18 L 0 25\" fill=\"none\" style=\"stroke:rgb(255.0, 0.0, 81.08083606031792);stroke-width:2\" />  </svg></g><g transform=\"translate(-2,0)\">  <svg x=\"14.687154090838035%\" y=\"40\" height=\"18\" overflow=\"visible\" width=\"30\">    <path d=\"M 0 -9 l 6 18 L 0 25\" fill=\"none\" style=\"stroke:rgb(255.0, 0.0, 81.08083606031792);stroke-width:2\" />  </svg></g><g transform=\"translate(0,0)\">  <svg x=\"12.524030442471133%\" y=\"40\" height=\"18\" overflow=\"visible\" width=\"30\">    <path d=\"M 0 -9 l 6 18 L 0 25\" fill=\"none\" style=\"stroke:rgb(255.0, 0.0, 81.08083606031792);stroke-width:2\" />  </svg></g><g transform=\"translate(2,0)\">  <svg x=\"12.524030442471133%\" y=\"40\" height=\"18\" overflow=\"visible\" width=\"30\">    <path d=\"M 0 -9 l 6 18 L 0 25\" fill=\"none\" style=\"stroke:rgb(255.0, 0.0, 81.08083606031792);stroke-width:2\" />  </svg></g><g transform=\"translate(4,0)\">  <svg x=\"12.524030442471133%\" y=\"40\" height=\"18\" overflow=\"visible\" width=\"30\">    <path d=\"M 0 -9 l 6 18 L 0 25\" fill=\"none\" style=\"stroke:rgb(255.0, 0.0, 81.08083606031792);stroke-width:2\" />  </svg></g><g transform=\"translate(6,0)\">  <svg x=\"12.524030442471133%\" y=\"40\" height=\"18\" overflow=\"visible\" width=\"30\">    <path d=\"M 0 -9 l 6 18 L 0 25\" fill=\"none\" style=\"stroke:rgb(255.0, 0.0, 81.08083606031792);stroke-width:2\" />  </svg></g><g transform=\"translate(-8,0)\">  <svg x=\"12.524030442471133%\" y=\"40\" height=\"18\" overflow=\"visible\" width=\"30\">    <path d=\"M 0 -9 l 6 18 L 0 25\" fill=\"none\" style=\"stroke:rgb(255.0, 0.0, 81.08083606031792);stroke-width:2\" />  </svg></g><g transform=\"translate(-6,0)\">  <svg x=\"12.524030442471133%\" y=\"40\" height=\"18\" overflow=\"visible\" width=\"30\">    <path d=\"M 0 -9 l 6 18 L 0 25\" fill=\"none\" style=\"stroke:rgb(255.0, 0.0, 81.08083606031792);stroke-width:2\" />  </svg></g><g transform=\"translate(-4,0)\">  <svg x=\"12.524030442471133%\" y=\"40\" height=\"18\" overflow=\"visible\" width=\"30\">    <path d=\"M 0 -9 l 6 18 L 0 25\" fill=\"none\" style=\"stroke:rgb(255.0, 0.0, 81.08083606031792);stroke-width:2\" />  </svg></g><g transform=\"translate(-2,0)\">  <svg x=\"12.524030442471133%\" y=\"40\" height=\"18\" overflow=\"visible\" width=\"30\">    <path d=\"M 0 -9 l 6 18 L 0 25\" fill=\"none\" style=\"stroke:rgb(255.0, 0.0, 81.08083606031792);stroke-width:2\" />  </svg></g><g transform=\"translate(0,0)\">  <svg x=\"10.795836899149544%\" y=\"40\" height=\"18\" overflow=\"visible\" width=\"30\">    <path d=\"M 0 -9 l 6 18 L 0 25\" fill=\"none\" style=\"stroke:rgb(255.0, 0.0, 81.08083606031792);stroke-width:2\" />  </svg></g><g transform=\"translate(2,0)\">  <svg x=\"10.795836899149544%\" y=\"40\" height=\"18\" overflow=\"visible\" width=\"30\">    <path d=\"M 0 -9 l 6 18 L 0 25\" fill=\"none\" style=\"stroke:rgb(255.0, 0.0, 81.08083606031792);stroke-width:2\" />  </svg></g><g transform=\"translate(4,0)\">  <svg x=\"10.795836899149544%\" y=\"40\" height=\"18\" overflow=\"visible\" width=\"30\">    <path d=\"M 0 -9 l 6 18 L 0 25\" fill=\"none\" style=\"stroke:rgb(255.0, 0.0, 81.08083606031792);stroke-width:2\" />  </svg></g><g transform=\"translate(6,0)\">  <svg x=\"10.795836899149544%\" y=\"40\" height=\"18\" overflow=\"visible\" width=\"30\">    <path d=\"M 0 -9 l 6 18 L 0 25\" fill=\"none\" style=\"stroke:rgb(255.0, 0.0, 81.08083606031792);stroke-width:2\" />  </svg></g><g transform=\"translate(-8,0)\">  <svg x=\"10.795836899149544%\" y=\"40\" height=\"18\" overflow=\"visible\" width=\"30\">    <path d=\"M 0 -9 l 6 18 L 0 25\" fill=\"none\" style=\"stroke:rgb(255.0, 0.0, 81.08083606031792);stroke-width:2\" />  </svg></g><g transform=\"translate(-6,0)\">  <svg x=\"10.795836899149544%\" y=\"40\" height=\"18\" overflow=\"visible\" width=\"30\">    <path d=\"M 0 -9 l 6 18 L 0 25\" fill=\"none\" style=\"stroke:rgb(255.0, 0.0, 81.08083606031792);stroke-width:2\" />  </svg></g><g transform=\"translate(-4,0)\">  <svg x=\"10.795836899149544%\" y=\"40\" height=\"18\" overflow=\"visible\" width=\"30\">    <path d=\"M 0 -9 l 6 18 L 0 25\" fill=\"none\" style=\"stroke:rgb(255.0, 0.0, 81.08083606031792);stroke-width:2\" />  </svg></g><g transform=\"translate(-2,0)\">  <svg x=\"10.795836899149544%\" y=\"40\" height=\"18\" overflow=\"visible\" width=\"30\">    <path d=\"M 0 -9 l 6 18 L 0 25\" fill=\"none\" style=\"stroke:rgb(255.0, 0.0, 81.08083606031792);stroke-width:2\" />  </svg></g><g transform=\"translate(0,0)\">  <svg x=\"9.471075362739784%\" y=\"40\" height=\"18\" overflow=\"visible\" width=\"30\">    <path d=\"M 0 -9 l 6 18 L 0 25\" fill=\"none\" style=\"stroke:rgb(255.0, 0.0, 81.08083606031792);stroke-width:2\" />  </svg></g><g transform=\"translate(2,0)\">  <svg x=\"9.471075362739784%\" y=\"40\" height=\"18\" overflow=\"visible\" width=\"30\">    <path d=\"M 0 -9 l 6 18 L 0 25\" fill=\"none\" style=\"stroke:rgb(255.0, 0.0, 81.08083606031792);stroke-width:2\" />  </svg></g><g transform=\"translate(4,0)\">  <svg x=\"9.471075362739784%\" y=\"40\" height=\"18\" overflow=\"visible\" width=\"30\">    <path d=\"M 0 -9 l 6 18 L 0 25\" fill=\"none\" style=\"stroke:rgb(255.0, 0.0, 81.08083606031792);stroke-width:2\" />  </svg></g><g transform=\"translate(6,0)\">  <svg x=\"9.471075362739784%\" y=\"40\" height=\"18\" overflow=\"visible\" width=\"30\">    <path d=\"M 0 -9 l 6 18 L 0 25\" fill=\"none\" style=\"stroke:rgb(255.0, 0.0, 81.08083606031792);stroke-width:2\" />  </svg></g><g transform=\"translate(-8,0)\">  <svg x=\"9.471075362739784%\" y=\"40\" height=\"18\" overflow=\"visible\" width=\"30\">    <path d=\"M 0 -9 l 6 18 L 0 25\" fill=\"none\" style=\"stroke:rgb(255.0, 0.0, 81.08083606031792);stroke-width:2\" />  </svg></g><g transform=\"translate(-6,0)\">  <svg x=\"9.471075362739784%\" y=\"40\" height=\"18\" overflow=\"visible\" width=\"30\">    <path d=\"M 0 -9 l 6 18 L 0 25\" fill=\"none\" style=\"stroke:rgb(255.0, 0.0, 81.08083606031792);stroke-width:2\" />  </svg></g><g transform=\"translate(-4,0)\">  <svg x=\"9.471075362739784%\" y=\"40\" height=\"18\" overflow=\"visible\" width=\"30\">    <path d=\"M 0 -9 l 6 18 L 0 25\" fill=\"none\" style=\"stroke:rgb(255.0, 0.0, 81.08083606031792);stroke-width:2\" />  </svg></g><g transform=\"translate(-2,0)\">  <svg x=\"9.471075362739784%\" y=\"40\" height=\"18\" overflow=\"visible\" width=\"30\">    <path d=\"M 0 -9 l 6 18 L 0 25\" fill=\"none\" style=\"stroke:rgb(255.0, 0.0, 81.08083606031792);stroke-width:2\" />  </svg></g><g transform=\"translate(0,0)\">  <svg x=\"8.411789876404743%\" y=\"40\" height=\"18\" overflow=\"visible\" width=\"30\">    <path d=\"M 0 -9 l 6 18 L 0 25\" fill=\"none\" style=\"stroke:rgb(255.0, 0.0, 81.08083606031792);stroke-width:2\" />  </svg></g><g transform=\"translate(2,0)\">  <svg x=\"8.411789876404743%\" y=\"40\" height=\"18\" overflow=\"visible\" width=\"30\">    <path d=\"M 0 -9 l 6 18 L 0 25\" fill=\"none\" style=\"stroke:rgb(255.0, 0.0, 81.08083606031792);stroke-width:2\" />  </svg></g><g transform=\"translate(4,0)\">  <svg x=\"8.411789876404743%\" y=\"40\" height=\"18\" overflow=\"visible\" width=\"30\">    <path d=\"M 0 -9 l 6 18 L 0 25\" fill=\"none\" style=\"stroke:rgb(255.0, 0.0, 81.08083606031792);stroke-width:2\" />  </svg></g><g transform=\"translate(6,0)\">  <svg x=\"8.411789876404743%\" y=\"40\" height=\"18\" overflow=\"visible\" width=\"30\">    <path d=\"M 0 -9 l 6 18 L 0 25\" fill=\"none\" style=\"stroke:rgb(255.0, 0.0, 81.08083606031792);stroke-width:2\" />  </svg></g><g transform=\"translate(-8,0)\">  <svg x=\"8.411789876404743%\" y=\"40\" height=\"18\" overflow=\"visible\" width=\"30\">    <path d=\"M 0 -9 l 6 18 L 0 25\" fill=\"none\" style=\"stroke:rgb(255.0, 0.0, 81.08083606031792);stroke-width:2\" />  </svg></g><g transform=\"translate(-6,0)\">  <svg x=\"8.411789876404743%\" y=\"40\" height=\"18\" overflow=\"visible\" width=\"30\">    <path d=\"M 0 -9 l 6 18 L 0 25\" fill=\"none\" style=\"stroke:rgb(255.0, 0.0, 81.08083606031792);stroke-width:2\" />  </svg></g><g transform=\"translate(-4,0)\">  <svg x=\"8.411789876404743%\" y=\"40\" height=\"18\" overflow=\"visible\" width=\"30\">    <path d=\"M 0 -9 l 6 18 L 0 25\" fill=\"none\" style=\"stroke:rgb(255.0, 0.0, 81.08083606031792);stroke-width:2\" />  </svg></g><g transform=\"translate(-2,0)\">  <svg x=\"8.411789876404743%\" y=\"40\" height=\"18\" overflow=\"visible\" width=\"30\">    <path d=\"M 0 -9 l 6 18 L 0 25\" fill=\"none\" style=\"stroke:rgb(255.0, 0.0, 81.08083606031792);stroke-width:2\" />  </svg></g><g transform=\"translate(0,0)\">  <svg x=\"8.305492862575342%\" y=\"40\" height=\"18\" overflow=\"visible\" width=\"30\">    <path d=\"M 0 -9 l 6 18 L 0 25\" fill=\"none\" style=\"stroke:rgb(255.0, 0.0, 81.08083606031792);stroke-width:2\" />  </svg></g><g transform=\"translate(2,0)\">  <svg x=\"8.305492862575342%\" y=\"40\" height=\"18\" overflow=\"visible\" width=\"30\">    <path d=\"M 0 -9 l 6 18 L 0 25\" fill=\"none\" style=\"stroke:rgb(255.0, 0.0, 81.08083606031792);stroke-width:2\" />  </svg></g><g transform=\"translate(4,0)\">  <svg x=\"8.305492862575342%\" y=\"40\" height=\"18\" overflow=\"visible\" width=\"30\">    <path d=\"M 0 -9 l 6 18 L 0 25\" fill=\"none\" style=\"stroke:rgb(255.0, 0.0, 81.08083606031792);stroke-width:2\" />  </svg></g><g transform=\"translate(6,0)\">  <svg x=\"8.305492862575342%\" y=\"40\" height=\"18\" overflow=\"visible\" width=\"30\">    <path d=\"M 0 -9 l 6 18 L 0 25\" fill=\"none\" style=\"stroke:rgb(255.0, 0.0, 81.08083606031792);stroke-width:2\" />  </svg></g><g transform=\"translate(-8,0)\">  <svg x=\"8.305492862575342%\" y=\"40\" height=\"18\" overflow=\"visible\" width=\"30\">    <path d=\"M 0 -9 l 6 18 L 0 25\" fill=\"none\" style=\"stroke:rgb(255.0, 0.0, 81.08083606031792);stroke-width:2\" />  </svg></g><g transform=\"translate(-6,0)\">  <svg x=\"8.305492862575342%\" y=\"40\" height=\"18\" overflow=\"visible\" width=\"30\">    <path d=\"M 0 -9 l 6 18 L 0 25\" fill=\"none\" style=\"stroke:rgb(255.0, 0.0, 81.08083606031792);stroke-width:2\" />  </svg></g><g transform=\"translate(-4,0)\">  <svg x=\"8.305492862575342%\" y=\"40\" height=\"18\" overflow=\"visible\" width=\"30\">    <path d=\"M 0 -9 l 6 18 L 0 25\" fill=\"none\" style=\"stroke:rgb(255.0, 0.0, 81.08083606031792);stroke-width:2\" />  </svg></g><g transform=\"translate(-2,0)\">  <svg x=\"8.305492862575342%\" y=\"40\" height=\"18\" overflow=\"visible\" width=\"30\">    <path d=\"M 0 -9 l 6 18 L 0 25\" fill=\"none\" style=\"stroke:rgb(255.0, 0.0, 81.08083606031792);stroke-width:2\" />  </svg></g><rect transform=\"translate(-8,0)\" x=\"81.52785430190896%\" y=\"40\" width=\"8\" height=\"18\" style=\"fill:rgb(255.0, 0.0, 81.08083606031792)\"/><g transform=\"translate(-11.5,0)\">  <svg x=\"8.300375540269156%\" y=\"40\" height=\"18\" overflow=\"visible\" width=\"30\">    <path d=\"M 10 -9 l 6 18 L 10 25 L 0 25 L 0 -9\" fill=\"#ffffff\" style=\"stroke:rgb(255,255,255);stroke-width:2\" />  </svg></g><g transform=\"translate(-1.5,0)\">  <svg x=\"81.52785430190896%\" y=\"40\" height=\"18\" overflow=\"visible\" width=\"30\">    <path d=\"M 0 -9 l 6 18 L 0 25\" fill=\"none\" style=\"stroke:rgb(255, 195, 213);stroke-width:2\" />  </svg></g><rect x=\"66.16426859351856%\" y=\"40\" height=\"20\" width=\"15.363585708390403%\"      onmouseover=\"document.getElementById('_tp_pmfcldknkqiixemsaaee_ind_2').style.textDecoration = 'underline';document.getElementById('_fs_pmfcldknkqiixemsaaee_ind_2').style.opacity = 1;document.getElementById('_fb_pmfcldknkqiixemsaaee_ind_2').style.opacity = 1;\"      onmouseout=\"document.getElementById('_tp_pmfcldknkqiixemsaaee_ind_2').style.textDecoration = 'none';document.getElementById('_fs_pmfcldknkqiixemsaaee_ind_2').style.opacity = 0;document.getElementById('_fb_pmfcldknkqiixemsaaee_ind_2').style.opacity = 0;\" style=\"fill:rgb(0,0,0,0)\" /><g transform=\"translate(-1.5,0)\">  <svg x=\"66.16426859351856%\" y=\"40\" height=\"18\" overflow=\"visible\" width=\"30\">    <path d=\"M 0 -9 l 6 18 L 0 25\" fill=\"none\" style=\"stroke:rgb(255, 195, 213);stroke-width:2\" />  </svg></g><rect x=\"53.698996532809%\" y=\"40\" height=\"20\" width=\"12.465272060709559%\"      onmouseover=\"document.getElementById('_tp_pmfcldknkqiixemsaaee_ind_21').style.textDecoration = 'underline';document.getElementById('_fs_pmfcldknkqiixemsaaee_ind_21').style.opacity = 1;document.getElementById('_fb_pmfcldknkqiixemsaaee_ind_21').style.opacity = 1;\"      onmouseout=\"document.getElementById('_tp_pmfcldknkqiixemsaaee_ind_21').style.textDecoration = 'none';document.getElementById('_fs_pmfcldknkqiixemsaaee_ind_21').style.opacity = 0;document.getElementById('_fb_pmfcldknkqiixemsaaee_ind_21').style.opacity = 0;\" style=\"fill:rgb(0,0,0,0)\" /><g transform=\"translate(-1.5,0)\">  <svg x=\"53.698996532809%\" y=\"40\" height=\"18\" overflow=\"visible\" width=\"30\">    <path d=\"M 0 -9 l 6 18 L 0 25\" fill=\"none\" style=\"stroke:rgb(255, 195, 213);stroke-width:2\" />  </svg></g><rect x=\"45.06091963558504%\" y=\"40\" height=\"20\" width=\"8.63807689722396%\"      onmouseover=\"document.getElementById('_tp_pmfcldknkqiixemsaaee_ind_7').style.textDecoration = 'underline';document.getElementById('_fs_pmfcldknkqiixemsaaee_ind_7').style.opacity = 1;document.getElementById('_fb_pmfcldknkqiixemsaaee_ind_7').style.opacity = 1;\"      onmouseout=\"document.getElementById('_tp_pmfcldknkqiixemsaaee_ind_7').style.textDecoration = 'none';document.getElementById('_fs_pmfcldknkqiixemsaaee_ind_7').style.opacity = 0;document.getElementById('_fb_pmfcldknkqiixemsaaee_ind_7').style.opacity = 0;\" style=\"fill:rgb(0,0,0,0)\" /><g transform=\"translate(-1.5,0)\">  <svg x=\"45.06091963558504%\" y=\"40\" height=\"18\" overflow=\"visible\" width=\"30\">    <path d=\"M 0 -9 l 6 18 L 0 25\" fill=\"none\" style=\"stroke:rgb(255, 195, 213);stroke-width:2\" />  </svg></g><rect x=\"36.53250914819886%\" y=\"40\" height=\"20\" width=\"8.528410487386175%\"      onmouseover=\"document.getElementById('_tp_pmfcldknkqiixemsaaee_ind_4').style.textDecoration = 'underline';document.getElementById('_fs_pmfcldknkqiixemsaaee_ind_4').style.opacity = 1;document.getElementById('_fb_pmfcldknkqiixemsaaee_ind_4').style.opacity = 1;\"      onmouseout=\"document.getElementById('_tp_pmfcldknkqiixemsaaee_ind_4').style.textDecoration = 'none';document.getElementById('_fs_pmfcldknkqiixemsaaee_ind_4').style.opacity = 0;document.getElementById('_fb_pmfcldknkqiixemsaaee_ind_4').style.opacity = 0;\" style=\"fill:rgb(0,0,0,0)\" /><g transform=\"translate(-1.5,0)\">  <svg x=\"36.53250914819886%\" y=\"40\" height=\"18\" overflow=\"visible\" width=\"30\">    <path d=\"M 0 -9 l 6 18 L 0 25\" fill=\"none\" style=\"stroke:rgb(255, 195, 213);stroke-width:2\" />  </svg></g><rect x=\"29.94979548702313%\" y=\"40\" height=\"20\" width=\"6.582713661175731%\"      onmouseover=\"document.getElementById('_tp_pmfcldknkqiixemsaaee_ind_16').style.textDecoration = 'underline';document.getElementById('_fs_pmfcldknkqiixemsaaee_ind_16').style.opacity = 1;document.getElementById('_fb_pmfcldknkqiixemsaaee_ind_16').style.opacity = 1;\"      onmouseout=\"document.getElementById('_tp_pmfcldknkqiixemsaaee_ind_16').style.textDecoration = 'none';document.getElementById('_fs_pmfcldknkqiixemsaaee_ind_16').style.opacity = 0;document.getElementById('_fb_pmfcldknkqiixemsaaee_ind_16').style.opacity = 0;\" style=\"fill:rgb(0,0,0,0)\" /><g transform=\"translate(-1.5,0)\">  <svg x=\"29.94979548702313%\" y=\"40\" height=\"18\" overflow=\"visible\" width=\"30\">    <path d=\"M 0 -9 l 6 18 L 0 25\" fill=\"none\" style=\"stroke:rgb(255, 195, 213);stroke-width:2\" />  </svg></g><rect x=\"23.541323602611907%\" y=\"40\" height=\"20\" width=\"6.408471884411224%\"      onmouseover=\"document.getElementById('_tp_pmfcldknkqiixemsaaee_ind_15').style.textDecoration = 'underline';document.getElementById('_fs_pmfcldknkqiixemsaaee_ind_15').style.opacity = 1;document.getElementById('_fb_pmfcldknkqiixemsaaee_ind_15').style.opacity = 1;\"      onmouseout=\"document.getElementById('_tp_pmfcldknkqiixemsaaee_ind_15').style.textDecoration = 'none';document.getElementById('_fs_pmfcldknkqiixemsaaee_ind_15').style.opacity = 0;document.getElementById('_fb_pmfcldknkqiixemsaaee_ind_15').style.opacity = 0;\" style=\"fill:rgb(0,0,0,0)\" /><g transform=\"translate(-1.5,0)\">  <svg x=\"23.541323602611907%\" y=\"40\" height=\"18\" overflow=\"visible\" width=\"30\">    <path d=\"M 0 -9 l 6 18 L 0 25\" fill=\"none\" style=\"stroke:rgb(255, 195, 213);stroke-width:2\" />  </svg></g><rect x=\"18.615573343921152%\" y=\"40\" height=\"20\" width=\"4.925750258690755%\"      onmouseover=\"document.getElementById('_tp_pmfcldknkqiixemsaaee_ind_8').style.textDecoration = 'underline';document.getElementById('_fs_pmfcldknkqiixemsaaee_ind_8').style.opacity = 1;document.getElementById('_fb_pmfcldknkqiixemsaaee_ind_8').style.opacity = 1;\"      onmouseout=\"document.getElementById('_tp_pmfcldknkqiixemsaaee_ind_8').style.textDecoration = 'none';document.getElementById('_fs_pmfcldknkqiixemsaaee_ind_8').style.opacity = 0;document.getElementById('_fb_pmfcldknkqiixemsaaee_ind_8').style.opacity = 0;\" style=\"fill:rgb(0,0,0,0)\" /><g transform=\"translate(-1.5,0)\">  <svg x=\"18.615573343921152%\" y=\"40\" height=\"18\" overflow=\"visible\" width=\"30\">    <path d=\"M 0 -9 l 6 18 L 0 25\" fill=\"none\" style=\"stroke:rgb(255, 195, 213);stroke-width:2\" />  </svg></g><rect x=\"14.687154090838035%\" y=\"40\" height=\"20\" width=\"3.928419253083117%\"      onmouseover=\"document.getElementById('_tp_pmfcldknkqiixemsaaee_ind_18').style.textDecoration = 'underline';document.getElementById('_fs_pmfcldknkqiixemsaaee_ind_18').style.opacity = 1;document.getElementById('_fb_pmfcldknkqiixemsaaee_ind_18').style.opacity = 1;\"      onmouseout=\"document.getElementById('_tp_pmfcldknkqiixemsaaee_ind_18').style.textDecoration = 'none';document.getElementById('_fs_pmfcldknkqiixemsaaee_ind_18').style.opacity = 0;document.getElementById('_fb_pmfcldknkqiixemsaaee_ind_18').style.opacity = 0;\" style=\"fill:rgb(0,0,0,0)\" /><g transform=\"translate(-1.5,0)\">  <svg x=\"14.687154090838035%\" y=\"40\" height=\"18\" overflow=\"visible\" width=\"30\">    <path d=\"M 0 -9 l 6 18 L 0 25\" fill=\"none\" style=\"stroke:rgb(255, 195, 213);stroke-width:2\" />  </svg></g><rect x=\"12.524030442471133%\" y=\"40\" height=\"20\" width=\"2.163123648366902%\"      onmouseover=\"document.getElementById('_tp_pmfcldknkqiixemsaaee_ind_17').style.textDecoration = 'underline';document.getElementById('_fs_pmfcldknkqiixemsaaee_ind_17').style.opacity = 1;document.getElementById('_fb_pmfcldknkqiixemsaaee_ind_17').style.opacity = 1;\"      onmouseout=\"document.getElementById('_tp_pmfcldknkqiixemsaaee_ind_17').style.textDecoration = 'none';document.getElementById('_fs_pmfcldknkqiixemsaaee_ind_17').style.opacity = 0;document.getElementById('_fb_pmfcldknkqiixemsaaee_ind_17').style.opacity = 0;\" style=\"fill:rgb(0,0,0,0)\" /><g transform=\"translate(-1.5,0)\">  <svg x=\"12.524030442471133%\" y=\"40\" height=\"18\" overflow=\"visible\" width=\"30\">    <path d=\"M 0 -9 l 6 18 L 0 25\" fill=\"none\" style=\"stroke:rgb(255, 195, 213);stroke-width:2\" />  </svg></g><rect x=\"10.795836899149544%\" y=\"40\" height=\"20\" width=\"1.7281935433215896%\"      onmouseover=\"document.getElementById('_tp_pmfcldknkqiixemsaaee_ind_3').style.textDecoration = 'underline';document.getElementById('_fs_pmfcldknkqiixemsaaee_ind_3').style.opacity = 1;document.getElementById('_fb_pmfcldknkqiixemsaaee_ind_3').style.opacity = 1;\"      onmouseout=\"document.getElementById('_tp_pmfcldknkqiixemsaaee_ind_3').style.textDecoration = 'none';document.getElementById('_fs_pmfcldknkqiixemsaaee_ind_3').style.opacity = 0;document.getElementById('_fb_pmfcldknkqiixemsaaee_ind_3').style.opacity = 0;\" style=\"fill:rgb(0,0,0,0)\" /><g transform=\"translate(-1.5,0)\">  <svg x=\"10.795836899149544%\" y=\"40\" height=\"18\" overflow=\"visible\" width=\"30\">    <path d=\"M 0 -9 l 6 18 L 0 25\" fill=\"none\" style=\"stroke:rgb(255, 195, 213);stroke-width:2\" />  </svg></g><rect x=\"9.471075362739784%\" y=\"40\" height=\"20\" width=\"1.3247615364097598%\"      onmouseover=\"document.getElementById('_tp_pmfcldknkqiixemsaaee_ind_5').style.textDecoration = 'underline';document.getElementById('_fs_pmfcldknkqiixemsaaee_ind_5').style.opacity = 1;document.getElementById('_fb_pmfcldknkqiixemsaaee_ind_5').style.opacity = 1;\"      onmouseout=\"document.getElementById('_tp_pmfcldknkqiixemsaaee_ind_5').style.textDecoration = 'none';document.getElementById('_fs_pmfcldknkqiixemsaaee_ind_5').style.opacity = 0;document.getElementById('_fb_pmfcldknkqiixemsaaee_ind_5').style.opacity = 0;\" style=\"fill:rgb(0,0,0,0)\" /><g transform=\"translate(-1.5,0)\">  <svg x=\"9.471075362739784%\" y=\"40\" height=\"18\" overflow=\"visible\" width=\"30\">    <path d=\"M 0 -9 l 6 18 L 0 25\" fill=\"none\" style=\"stroke:rgb(255, 195, 213);stroke-width:2\" />  </svg></g><rect x=\"8.411789876404743%\" y=\"40\" height=\"20\" width=\"1.0592854863350407%\"      onmouseover=\"document.getElementById('_tp_pmfcldknkqiixemsaaee_ind_12').style.textDecoration = 'underline';document.getElementById('_fs_pmfcldknkqiixemsaaee_ind_12').style.opacity = 1;document.getElementById('_fb_pmfcldknkqiixemsaaee_ind_12').style.opacity = 1;\"      onmouseout=\"document.getElementById('_tp_pmfcldknkqiixemsaaee_ind_12').style.textDecoration = 'none';document.getElementById('_fs_pmfcldknkqiixemsaaee_ind_12').style.opacity = 0;document.getElementById('_fb_pmfcldknkqiixemsaaee_ind_12').style.opacity = 0;\" style=\"fill:rgb(0,0,0,0)\" /><g transform=\"translate(-1.5,0)\">  <svg x=\"8.411789876404743%\" y=\"40\" height=\"18\" overflow=\"visible\" width=\"30\">    <path d=\"M 0 -9 l 6 18 L 0 25\" fill=\"none\" style=\"stroke:rgb(255, 195, 213);stroke-width:2\" />  </svg></g><rect x=\"8.305492862575342%\" y=\"40\" height=\"20\" width=\"0.10629701382940127%\"      onmouseover=\"document.getElementById('_tp_pmfcldknkqiixemsaaee_ind_20').style.textDecoration = 'underline';document.getElementById('_fs_pmfcldknkqiixemsaaee_ind_20').style.opacity = 1;document.getElementById('_fb_pmfcldknkqiixemsaaee_ind_20').style.opacity = 1;\"      onmouseout=\"document.getElementById('_tp_pmfcldknkqiixemsaaee_ind_20').style.textDecoration = 'none';document.getElementById('_fs_pmfcldknkqiixemsaaee_ind_20').style.opacity = 0;document.getElementById('_fb_pmfcldknkqiixemsaaee_ind_20').style.opacity = 0;\" style=\"fill:rgb(0,0,0,0)\" /><rect x=\"8.300375540269156%\" y=\"40\" height=\"20\" width=\"0.005117322306185557%\"      onmouseover=\"document.getElementById('_tp_pmfcldknkqiixemsaaee_ind_11').style.textDecoration = 'underline';document.getElementById('_fs_pmfcldknkqiixemsaaee_ind_11').style.opacity = 1;document.getElementById('_fb_pmfcldknkqiixemsaaee_ind_11').style.opacity = 1;\"      onmouseout=\"document.getElementById('_tp_pmfcldknkqiixemsaaee_ind_11').style.textDecoration = 'none';document.getElementById('_fs_pmfcldknkqiixemsaaee_ind_11').style.opacity = 0;document.getElementById('_fb_pmfcldknkqiixemsaaee_ind_11').style.opacity = 0;\" style=\"fill:rgb(0,0,0,0)\" /><rect x=\"81.52785430190896%\" width=\"10.171769900268764%\" y=\"40\" height=\"18\" style=\"fill:rgb(0.0, 138.56128015770727, 250.76166088685727); stroke-width:0; stroke:rgb(0,0,0)\" /><line x1=\"81.52785430190896%\" x2=\"85.55738635691418%\" y1=\"60\" y2=\"60\" id=\"_fb_pmfcldknkqiixemsaaee_ind_9\" style=\"stroke:rgb(0.0, 138.56128015770727, 250.76166088685727);stroke-width:2; opacity: 0\"/><text x=\"83.54262032941156%\" y=\"71\" font-size=\"12px\" fill=\"rgb(0.0, 138.56128015770727, 250.76166088685727)\" id=\"_fs_pmfcldknkqiixemsaaee_ind_9\" style=\"opacity: 0\" dominant-baseline=\"middle\" text-anchor=\"middle\">-0.156</text><svg x=\"81.52785430190896%\" y=\"40\" height=\"20\" width=\"4.02953205500522%\">  <svg x=\"0\" y=\"0\" width=\"100%\" height=\"100%\">    <text x=\"50%\" y=\"9\" font-size=\"12px\" fill=\"rgb(255,255,255)\" dominant-baseline=\"middle\" text-anchor=\"middle\">.</text>  </svg></svg><line x1=\"85.55738635691418%\" x2=\"87.49011054041563%\" y1=\"60\" y2=\"60\" id=\"_fb_pmfcldknkqiixemsaaee_ind_6\" style=\"stroke:rgb(0.0, 138.56128015770727, 250.76166088685727);stroke-width:2; opacity: 0\"/><text x=\"86.5237484486649%\" y=\"71\" font-size=\"12px\" fill=\"rgb(0.0, 138.56128015770727, 250.76166088685727)\" id=\"_fs_pmfcldknkqiixemsaaee_ind_6\" style=\"opacity: 0\" dominant-baseline=\"middle\" text-anchor=\"middle\">-0.075</text><svg x=\"85.55738635691418%\" y=\"40\" height=\"20\" width=\"1.932724183501449%\">  <svg x=\"0\" y=\"0\" width=\"100%\" height=\"100%\">    <text x=\"50%\" y=\"9\" font-size=\"12px\" fill=\"rgb(255,255,255)\" dominant-baseline=\"middle\" text-anchor=\"middle\">the</text>  </svg></svg><line x1=\"87.49011054041563%\" x2=\"89.37500210884528%\" y1=\"60\" y2=\"60\" id=\"_fb_pmfcldknkqiixemsaaee_ind_10\" style=\"stroke:rgb(0.0, 138.56128015770727, 250.76166088685727);stroke-width:2; opacity: 0\"/><text x=\"88.43255632463045%\" y=\"71\" font-size=\"12px\" fill=\"rgb(0.0, 138.56128015770727, 250.76166088685727)\" id=\"_fs_pmfcldknkqiixemsaaee_ind_10\" style=\"opacity: 0\" dominant-baseline=\"middle\" text-anchor=\"middle\">-0.073</text><svg x=\"87.49011054041563%\" y=\"40\" height=\"20\" width=\"1.8848915684296514%\">  <svg x=\"0\" y=\"0\" width=\"100%\" height=\"100%\">    <text x=\"50%\" y=\"9\" font-size=\"12px\" fill=\"rgb(255,255,255)\" dominant-baseline=\"middle\" text-anchor=\"middle\">Val</text>  </svg></svg><line x1=\"89.37500210884528%\" x2=\"90.31454442351914%\" y1=\"60\" y2=\"60\" id=\"_fb_pmfcldknkqiixemsaaee_ind_14\" style=\"stroke:rgb(0.0, 138.56128015770727, 250.76166088685727);stroke-width:2; opacity: 0\"/><text x=\"89.84477326618222%\" y=\"71\" font-size=\"12px\" fill=\"rgb(0.0, 138.56128015770727, 250.76166088685727)\" id=\"_fs_pmfcldknkqiixemsaaee_ind_14\" style=\"opacity: 0\" dominant-baseline=\"middle\" text-anchor=\"middle\">-0.036</text><svg x=\"89.37500210884528%\" y=\"40\" height=\"20\" width=\"0.939542314673858%\">  <svg x=\"0\" y=\"0\" width=\"100%\" height=\"100%\">    <text x=\"50%\" y=\"9\" font-size=\"12px\" fill=\"rgb(255,255,255)\" dominant-baseline=\"middle\" text-anchor=\"middle\">his</text>  </svg></svg><line x1=\"90.31454442351914%\" x2=\"90.86519136470838%\" y1=\"60\" y2=\"60\" id=\"_fb_pmfcldknkqiixemsaaee_ind_13\" style=\"stroke:rgb(0.0, 138.56128015770727, 250.76166088685727);stroke-width:2; opacity: 0\"/><text x=\"90.58986789411375%\" y=\"71\" font-size=\"12px\" fill=\"rgb(0.0, 138.56128015770727, 250.76166088685727)\" id=\"_fs_pmfcldknkqiixemsaaee_ind_13\" style=\"opacity: 0\" dominant-baseline=\"middle\" text-anchor=\"middle\">-0.021</text><svg x=\"90.31454442351914%\" y=\"40\" height=\"20\" width=\"0.5506469411892425%\">  <svg x=\"0\" y=\"0\" width=\"100%\" height=\"100%\">    <text x=\"50%\" y=\"9\" font-size=\"12px\" fill=\"rgb(255,255,255)\" dominant-baseline=\"middle\" text-anchor=\"middle\">gave</text>  </svg></svg><line x1=\"90.86519136470838%\" x2=\"91.40483816722522%\" y1=\"60\" y2=\"60\" id=\"_fb_pmfcldknkqiixemsaaee_ind_19\" style=\"stroke:rgb(0.0, 138.56128015770727, 250.76166088685727);stroke-width:2; opacity: 0\"/><text x=\"91.1350147659668%\" y=\"71\" font-size=\"12px\" fill=\"rgb(0.0, 138.56128015770727, 250.76166088685727)\" id=\"_fs_pmfcldknkqiixemsaaee_ind_19\" style=\"opacity: 0\" dominant-baseline=\"middle\" text-anchor=\"middle\">-0.021</text><svg x=\"90.86519136470838%\" y=\"40\" height=\"20\" width=\"0.5396468025168417%\">  <svg x=\"0\" y=\"0\" width=\"100%\" height=\"100%\">    <text x=\"50%\" y=\"9\" font-size=\"12px\" fill=\"rgb(255,255,255)\" dominant-baseline=\"middle\" text-anchor=\"middle\">movements</text>  </svg></svg><line x1=\"91.40483816722522%\" x2=\"91.66930348952172%\" y1=\"60\" y2=\"60\" id=\"_fb_pmfcldknkqiixemsaaee_ind_22\" style=\"stroke:rgb(0.0, 138.56128015770727, 250.76166088685727);stroke-width:2; opacity: 0\"/><text x=\"91.53707082837347%\" y=\"71\" font-size=\"12px\" fill=\"rgb(0.0, 138.56128015770727, 250.76166088685727)\" id=\"_fs_pmfcldknkqiixemsaaee_ind_22\" style=\"opacity: 0\" dominant-baseline=\"middle\" text-anchor=\"middle\">-0.01</text><svg x=\"91.40483816722522%\" y=\"40\" height=\"20\" width=\"0.2644653222965019%\">  <svg x=\"0\" y=\"0\" width=\"100%\" height=\"100%\">    <text x=\"50%\" y=\"9\" font-size=\"12px\" fill=\"rgb(255,255,255)\" dominant-baseline=\"middle\" text-anchor=\"middle\">.</text>  </svg></svg><line x1=\"91.66930348952172%\" x2=\"91.69962420217773%\" y1=\"60\" y2=\"60\" id=\"_fb_pmfcldknkqiixemsaaee_ind_1\" style=\"stroke:rgb(0.0, 138.56128015770727, 250.76166088685727);stroke-width:2; opacity: 0\"/><text x=\"91.68446384584973%\" y=\"71\" font-size=\"12px\" fill=\"rgb(0.0, 138.56128015770727, 250.76166088685727)\" id=\"_fs_pmfcldknkqiixemsaaee_ind_1\" style=\"opacity: 0\" dominant-baseline=\"middle\" text-anchor=\"middle\">-0.001</text><svg x=\"91.66930348952172%\" y=\"40\" height=\"20\" width=\"0.030320712656006776%\">  <svg x=\"0\" y=\"0\" width=\"100%\" height=\"100%\">    <text x=\"50%\" y=\"9\" font-size=\"12px\" fill=\"rgb(255,255,255)\" dominant-baseline=\"middle\" text-anchor=\"middle\">Just</text>  </svg></svg><g transform=\"translate(-8,0)\">  <svg x=\"85.55738635691418%\" y=\"40\" height=\"18\" overflow=\"visible\" width=\"30\">    <path d=\"M 8 -9 l -6 18 L 8 25\" fill=\"none\" style=\"stroke:rgb(0.0, 138.56128015770727, 250.76166088685727);stroke-width:2\" />  </svg></g><g transform=\"translate(-10,0)\">  <svg x=\"85.55738635691418%\" y=\"40\" height=\"18\" overflow=\"visible\" width=\"30\">    <path d=\"M 8 -9 l -6 18 L 8 25\" fill=\"none\" style=\"stroke:rgb(0.0, 138.56128015770727, 250.76166088685727);stroke-width:2\" />  </svg></g><g transform=\"translate(-12,0)\">  <svg x=\"85.55738635691418%\" y=\"40\" height=\"18\" overflow=\"visible\" width=\"30\">    <path d=\"M 8 -9 l -6 18 L 8 25\" fill=\"none\" style=\"stroke:rgb(0.0, 138.56128015770727, 250.76166088685727);stroke-width:2\" />  </svg></g><g transform=\"translate(-14,0)\">  <svg x=\"85.55738635691418%\" y=\"40\" height=\"18\" overflow=\"visible\" width=\"30\">    <path d=\"M 8 -9 l -6 18 L 8 25\" fill=\"none\" style=\"stroke:rgb(0.0, 138.56128015770727, 250.76166088685727);stroke-width:2\" />  </svg></g><g transform=\"translate(2,0)\">  <svg x=\"85.55738635691418%\" y=\"40\" height=\"18\" overflow=\"visible\" width=\"30\">    <path d=\"M 8 -9 l -6 18 L 8 25\" fill=\"none\" style=\"stroke:rgb(0.0, 138.56128015770727, 250.76166088685727);stroke-width:2\" />  </svg></g><g transform=\"translate(0,0)\">  <svg x=\"85.55738635691418%\" y=\"40\" height=\"18\" overflow=\"visible\" width=\"30\">    <path d=\"M 8 -9 l -6 18 L 8 25\" fill=\"none\" style=\"stroke:rgb(0.0, 138.56128015770727, 250.76166088685727);stroke-width:2\" />  </svg></g><g transform=\"translate(-2,0)\">  <svg x=\"85.55738635691418%\" y=\"40\" height=\"18\" overflow=\"visible\" width=\"30\">    <path d=\"M 8 -9 l -6 18 L 8 25\" fill=\"none\" style=\"stroke:rgb(0.0, 138.56128015770727, 250.76166088685727);stroke-width:2\" />  </svg></g><g transform=\"translate(-4,0)\">  <svg x=\"85.55738635691418%\" y=\"40\" height=\"18\" overflow=\"visible\" width=\"30\">    <path d=\"M 8 -9 l -6 18 L 8 25\" fill=\"none\" style=\"stroke:rgb(0.0, 138.56128015770727, 250.76166088685727);stroke-width:2\" />  </svg></g><g transform=\"translate(-8,0)\">  <svg x=\"87.49011054041563%\" y=\"40\" height=\"18\" overflow=\"visible\" width=\"30\">    <path d=\"M 8 -9 l -6 18 L 8 25\" fill=\"none\" style=\"stroke:rgb(0.0, 138.56128015770727, 250.76166088685727);stroke-width:2\" />  </svg></g><g transform=\"translate(-10,0)\">  <svg x=\"87.49011054041563%\" y=\"40\" height=\"18\" overflow=\"visible\" width=\"30\">    <path d=\"M 8 -9 l -6 18 L 8 25\" fill=\"none\" style=\"stroke:rgb(0.0, 138.56128015770727, 250.76166088685727);stroke-width:2\" />  </svg></g><g transform=\"translate(-12,0)\">  <svg x=\"87.49011054041563%\" y=\"40\" height=\"18\" overflow=\"visible\" width=\"30\">    <path d=\"M 8 -9 l -6 18 L 8 25\" fill=\"none\" style=\"stroke:rgb(0.0, 138.56128015770727, 250.76166088685727);stroke-width:2\" />  </svg></g><g transform=\"translate(-14,0)\">  <svg x=\"87.49011054041563%\" y=\"40\" height=\"18\" overflow=\"visible\" width=\"30\">    <path d=\"M 8 -9 l -6 18 L 8 25\" fill=\"none\" style=\"stroke:rgb(0.0, 138.56128015770727, 250.76166088685727);stroke-width:2\" />  </svg></g><g transform=\"translate(2,0)\">  <svg x=\"87.49011054041563%\" y=\"40\" height=\"18\" overflow=\"visible\" width=\"30\">    <path d=\"M 8 -9 l -6 18 L 8 25\" fill=\"none\" style=\"stroke:rgb(0.0, 138.56128015770727, 250.76166088685727);stroke-width:2\" />  </svg></g><g transform=\"translate(0,0)\">  <svg x=\"87.49011054041563%\" y=\"40\" height=\"18\" overflow=\"visible\" width=\"30\">    <path d=\"M 8 -9 l -6 18 L 8 25\" fill=\"none\" style=\"stroke:rgb(0.0, 138.56128015770727, 250.76166088685727);stroke-width:2\" />  </svg></g><g transform=\"translate(-2,0)\">  <svg x=\"87.49011054041563%\" y=\"40\" height=\"18\" overflow=\"visible\" width=\"30\">    <path d=\"M 8 -9 l -6 18 L 8 25\" fill=\"none\" style=\"stroke:rgb(0.0, 138.56128015770727, 250.76166088685727);stroke-width:2\" />  </svg></g><g transform=\"translate(-4,0)\">  <svg x=\"87.49011054041563%\" y=\"40\" height=\"18\" overflow=\"visible\" width=\"30\">    <path d=\"M 8 -9 l -6 18 L 8 25\" fill=\"none\" style=\"stroke:rgb(0.0, 138.56128015770727, 250.76166088685727);stroke-width:2\" />  </svg></g><g transform=\"translate(-8,0)\">  <svg x=\"89.37500210884528%\" y=\"40\" height=\"18\" overflow=\"visible\" width=\"30\">    <path d=\"M 8 -9 l -6 18 L 8 25\" fill=\"none\" style=\"stroke:rgb(0.0, 138.56128015770727, 250.76166088685727);stroke-width:2\" />  </svg></g><g transform=\"translate(-10,0)\">  <svg x=\"89.37500210884528%\" y=\"40\" height=\"18\" overflow=\"visible\" width=\"30\">    <path d=\"M 8 -9 l -6 18 L 8 25\" fill=\"none\" style=\"stroke:rgb(0.0, 138.56128015770727, 250.76166088685727);stroke-width:2\" />  </svg></g><g transform=\"translate(-12,0)\">  <svg x=\"89.37500210884528%\" y=\"40\" height=\"18\" overflow=\"visible\" width=\"30\">    <path d=\"M 8 -9 l -6 18 L 8 25\" fill=\"none\" style=\"stroke:rgb(0.0, 138.56128015770727, 250.76166088685727);stroke-width:2\" />  </svg></g><g transform=\"translate(-14,0)\">  <svg x=\"89.37500210884528%\" y=\"40\" height=\"18\" overflow=\"visible\" width=\"30\">    <path d=\"M 8 -9 l -6 18 L 8 25\" fill=\"none\" style=\"stroke:rgb(0.0, 138.56128015770727, 250.76166088685727);stroke-width:2\" />  </svg></g><g transform=\"translate(2,0)\">  <svg x=\"89.37500210884528%\" y=\"40\" height=\"18\" overflow=\"visible\" width=\"30\">    <path d=\"M 8 -9 l -6 18 L 8 25\" fill=\"none\" style=\"stroke:rgb(0.0, 138.56128015770727, 250.76166088685727);stroke-width:2\" />  </svg></g><g transform=\"translate(0,0)\">  <svg x=\"89.37500210884528%\" y=\"40\" height=\"18\" overflow=\"visible\" width=\"30\">    <path d=\"M 8 -9 l -6 18 L 8 25\" fill=\"none\" style=\"stroke:rgb(0.0, 138.56128015770727, 250.76166088685727);stroke-width:2\" />  </svg></g><g transform=\"translate(-2,0)\">  <svg x=\"89.37500210884528%\" y=\"40\" height=\"18\" overflow=\"visible\" width=\"30\">    <path d=\"M 8 -9 l -6 18 L 8 25\" fill=\"none\" style=\"stroke:rgb(0.0, 138.56128015770727, 250.76166088685727);stroke-width:2\" />  </svg></g><g transform=\"translate(-4,0)\">  <svg x=\"89.37500210884528%\" y=\"40\" height=\"18\" overflow=\"visible\" width=\"30\">    <path d=\"M 8 -9 l -6 18 L 8 25\" fill=\"none\" style=\"stroke:rgb(0.0, 138.56128015770727, 250.76166088685727);stroke-width:2\" />  </svg></g><g transform=\"translate(-8,0)\">  <svg x=\"90.31454442351914%\" y=\"40\" height=\"18\" overflow=\"visible\" width=\"30\">    <path d=\"M 8 -9 l -6 18 L 8 25\" fill=\"none\" style=\"stroke:rgb(0.0, 138.56128015770727, 250.76166088685727);stroke-width:2\" />  </svg></g><g transform=\"translate(-10,0)\">  <svg x=\"90.31454442351914%\" y=\"40\" height=\"18\" overflow=\"visible\" width=\"30\">    <path d=\"M 8 -9 l -6 18 L 8 25\" fill=\"none\" style=\"stroke:rgb(0.0, 138.56128015770727, 250.76166088685727);stroke-width:2\" />  </svg></g><g transform=\"translate(-12,0)\">  <svg x=\"90.31454442351914%\" y=\"40\" height=\"18\" overflow=\"visible\" width=\"30\">    <path d=\"M 8 -9 l -6 18 L 8 25\" fill=\"none\" style=\"stroke:rgb(0.0, 138.56128015770727, 250.76166088685727);stroke-width:2\" />  </svg></g><g transform=\"translate(-14,0)\">  <svg x=\"90.31454442351914%\" y=\"40\" height=\"18\" overflow=\"visible\" width=\"30\">    <path d=\"M 8 -9 l -6 18 L 8 25\" fill=\"none\" style=\"stroke:rgb(0.0, 138.56128015770727, 250.76166088685727);stroke-width:2\" />  </svg></g><g transform=\"translate(2,0)\">  <svg x=\"90.31454442351914%\" y=\"40\" height=\"18\" overflow=\"visible\" width=\"30\">    <path d=\"M 8 -9 l -6 18 L 8 25\" fill=\"none\" style=\"stroke:rgb(0.0, 138.56128015770727, 250.76166088685727);stroke-width:2\" />  </svg></g><g transform=\"translate(0,0)\">  <svg x=\"90.31454442351914%\" y=\"40\" height=\"18\" overflow=\"visible\" width=\"30\">    <path d=\"M 8 -9 l -6 18 L 8 25\" fill=\"none\" style=\"stroke:rgb(0.0, 138.56128015770727, 250.76166088685727);stroke-width:2\" />  </svg></g><g transform=\"translate(-2,0)\">  <svg x=\"90.31454442351914%\" y=\"40\" height=\"18\" overflow=\"visible\" width=\"30\">    <path d=\"M 8 -9 l -6 18 L 8 25\" fill=\"none\" style=\"stroke:rgb(0.0, 138.56128015770727, 250.76166088685727);stroke-width:2\" />  </svg></g><g transform=\"translate(-4,0)\">  <svg x=\"90.31454442351914%\" y=\"40\" height=\"18\" overflow=\"visible\" width=\"30\">    <path d=\"M 8 -9 l -6 18 L 8 25\" fill=\"none\" style=\"stroke:rgb(0.0, 138.56128015770727, 250.76166088685727);stroke-width:2\" />  </svg></g><g transform=\"translate(-8,0)\">  <svg x=\"90.86519136470838%\" y=\"40\" height=\"18\" overflow=\"visible\" width=\"30\">    <path d=\"M 8 -9 l -6 18 L 8 25\" fill=\"none\" style=\"stroke:rgb(0.0, 138.56128015770727, 250.76166088685727);stroke-width:2\" />  </svg></g><g transform=\"translate(-10,0)\">  <svg x=\"90.86519136470838%\" y=\"40\" height=\"18\" overflow=\"visible\" width=\"30\">    <path d=\"M 8 -9 l -6 18 L 8 25\" fill=\"none\" style=\"stroke:rgb(0.0, 138.56128015770727, 250.76166088685727);stroke-width:2\" />  </svg></g><g transform=\"translate(-12,0)\">  <svg x=\"90.86519136470838%\" y=\"40\" height=\"18\" overflow=\"visible\" width=\"30\">    <path d=\"M 8 -9 l -6 18 L 8 25\" fill=\"none\" style=\"stroke:rgb(0.0, 138.56128015770727, 250.76166088685727);stroke-width:2\" />  </svg></g><g transform=\"translate(-14,0)\">  <svg x=\"90.86519136470838%\" y=\"40\" height=\"18\" overflow=\"visible\" width=\"30\">    <path d=\"M 8 -9 l -6 18 L 8 25\" fill=\"none\" style=\"stroke:rgb(0.0, 138.56128015770727, 250.76166088685727);stroke-width:2\" />  </svg></g><g transform=\"translate(2,0)\">  <svg x=\"90.86519136470838%\" y=\"40\" height=\"18\" overflow=\"visible\" width=\"30\">    <path d=\"M 8 -9 l -6 18 L 8 25\" fill=\"none\" style=\"stroke:rgb(0.0, 138.56128015770727, 250.76166088685727);stroke-width:2\" />  </svg></g><g transform=\"translate(0,0)\">  <svg x=\"90.86519136470838%\" y=\"40\" height=\"18\" overflow=\"visible\" width=\"30\">    <path d=\"M 8 -9 l -6 18 L 8 25\" fill=\"none\" style=\"stroke:rgb(0.0, 138.56128015770727, 250.76166088685727);stroke-width:2\" />  </svg></g><g transform=\"translate(-2,0)\">  <svg x=\"90.86519136470838%\" y=\"40\" height=\"18\" overflow=\"visible\" width=\"30\">    <path d=\"M 8 -9 l -6 18 L 8 25\" fill=\"none\" style=\"stroke:rgb(0.0, 138.56128015770727, 250.76166088685727);stroke-width:2\" />  </svg></g><g transform=\"translate(-4,0)\">  <svg x=\"90.86519136470838%\" y=\"40\" height=\"18\" overflow=\"visible\" width=\"30\">    <path d=\"M 8 -9 l -6 18 L 8 25\" fill=\"none\" style=\"stroke:rgb(0.0, 138.56128015770727, 250.76166088685727);stroke-width:2\" />  </svg></g><g transform=\"translate(-8,0)\">  <svg x=\"91.40483816722522%\" y=\"40\" height=\"18\" overflow=\"visible\" width=\"30\">    <path d=\"M 8 -9 l -6 18 L 8 25\" fill=\"none\" style=\"stroke:rgb(0.0, 138.56128015770727, 250.76166088685727);stroke-width:2\" />  </svg></g><g transform=\"translate(-10,0)\">  <svg x=\"91.40483816722522%\" y=\"40\" height=\"18\" overflow=\"visible\" width=\"30\">    <path d=\"M 8 -9 l -6 18 L 8 25\" fill=\"none\" style=\"stroke:rgb(0.0, 138.56128015770727, 250.76166088685727);stroke-width:2\" />  </svg></g><g transform=\"translate(-12,0)\">  <svg x=\"91.40483816722522%\" y=\"40\" height=\"18\" overflow=\"visible\" width=\"30\">    <path d=\"M 8 -9 l -6 18 L 8 25\" fill=\"none\" style=\"stroke:rgb(0.0, 138.56128015770727, 250.76166088685727);stroke-width:2\" />  </svg></g><g transform=\"translate(-14,0)\">  <svg x=\"91.40483816722522%\" y=\"40\" height=\"18\" overflow=\"visible\" width=\"30\">    <path d=\"M 8 -9 l -6 18 L 8 25\" fill=\"none\" style=\"stroke:rgb(0.0, 138.56128015770727, 250.76166088685727);stroke-width:2\" />  </svg></g><g transform=\"translate(2,0)\">  <svg x=\"91.40483816722522%\" y=\"40\" height=\"18\" overflow=\"visible\" width=\"30\">    <path d=\"M 8 -9 l -6 18 L 8 25\" fill=\"none\" style=\"stroke:rgb(0.0, 138.56128015770727, 250.76166088685727);stroke-width:2\" />  </svg></g><g transform=\"translate(0,0)\">  <svg x=\"91.40483816722522%\" y=\"40\" height=\"18\" overflow=\"visible\" width=\"30\">    <path d=\"M 8 -9 l -6 18 L 8 25\" fill=\"none\" style=\"stroke:rgb(0.0, 138.56128015770727, 250.76166088685727);stroke-width:2\" />  </svg></g><g transform=\"translate(-2,0)\">  <svg x=\"91.40483816722522%\" y=\"40\" height=\"18\" overflow=\"visible\" width=\"30\">    <path d=\"M 8 -9 l -6 18 L 8 25\" fill=\"none\" style=\"stroke:rgb(0.0, 138.56128015770727, 250.76166088685727);stroke-width:2\" />  </svg></g><g transform=\"translate(-4,0)\">  <svg x=\"91.40483816722522%\" y=\"40\" height=\"18\" overflow=\"visible\" width=\"30\">    <path d=\"M 8 -9 l -6 18 L 8 25\" fill=\"none\" style=\"stroke:rgb(0.0, 138.56128015770727, 250.76166088685727);stroke-width:2\" />  </svg></g><g transform=\"translate(-8,0)\">  <svg x=\"91.66930348952172%\" y=\"40\" height=\"18\" overflow=\"visible\" width=\"30\">    <path d=\"M 8 -9 l -6 18 L 8 25\" fill=\"none\" style=\"stroke:rgb(0.0, 138.56128015770727, 250.76166088685727);stroke-width:2\" />  </svg></g><g transform=\"translate(-10,0)\">  <svg x=\"91.66930348952172%\" y=\"40\" height=\"18\" overflow=\"visible\" width=\"30\">    <path d=\"M 8 -9 l -6 18 L 8 25\" fill=\"none\" style=\"stroke:rgb(0.0, 138.56128015770727, 250.76166088685727);stroke-width:2\" />  </svg></g><g transform=\"translate(-12,0)\">  <svg x=\"91.66930348952172%\" y=\"40\" height=\"18\" overflow=\"visible\" width=\"30\">    <path d=\"M 8 -9 l -6 18 L 8 25\" fill=\"none\" style=\"stroke:rgb(0.0, 138.56128015770727, 250.76166088685727);stroke-width:2\" />  </svg></g><g transform=\"translate(-14,0)\">  <svg x=\"91.66930348952172%\" y=\"40\" height=\"18\" overflow=\"visible\" width=\"30\">    <path d=\"M 8 -9 l -6 18 L 8 25\" fill=\"none\" style=\"stroke:rgb(0.0, 138.56128015770727, 250.76166088685727);stroke-width:2\" />  </svg></g><g transform=\"translate(2,0)\">  <svg x=\"91.66930348952172%\" y=\"40\" height=\"18\" overflow=\"visible\" width=\"30\">    <path d=\"M 8 -9 l -6 18 L 8 25\" fill=\"none\" style=\"stroke:rgb(0.0, 138.56128015770727, 250.76166088685727);stroke-width:2\" />  </svg></g><g transform=\"translate(0,0)\">  <svg x=\"91.66930348952172%\" y=\"40\" height=\"18\" overflow=\"visible\" width=\"30\">    <path d=\"M 8 -9 l -6 18 L 8 25\" fill=\"none\" style=\"stroke:rgb(0.0, 138.56128015770727, 250.76166088685727);stroke-width:2\" />  </svg></g><g transform=\"translate(-2,0)\">  <svg x=\"91.66930348952172%\" y=\"40\" height=\"18\" overflow=\"visible\" width=\"30\">    <path d=\"M 8 -9 l -6 18 L 8 25\" fill=\"none\" style=\"stroke:rgb(0.0, 138.56128015770727, 250.76166088685727);stroke-width:2\" />  </svg></g><g transform=\"translate(-4,0)\">  <svg x=\"91.66930348952172%\" y=\"40\" height=\"18\" overflow=\"visible\" width=\"30\">    <path d=\"M 8 -9 l -6 18 L 8 25\" fill=\"none\" style=\"stroke:rgb(0.0, 138.56128015770727, 250.76166088685727);stroke-width:2\" />  </svg></g><rect transform=\"translate(0,0)\" x=\"81.52785430190896%\" y=\"40\" width=\"8\" height=\"18\" style=\"fill:rgb(0.0, 138.56128015770727, 250.76166088685727)\"/><g transform=\"translate(-6.0,0)\">  <svg x=\"91.69962420217773%\" y=\"40\" height=\"18\" overflow=\"visible\" width=\"30\">    <path d=\"M 8 -9 l -6 18 L 8 25 L 20 25 L 20 -9\" fill=\"#ffffff\" style=\"stroke:rgb(255,255,255);stroke-width:2\" />  </svg></g><g transform=\"translate(-6.0,0)\">  <svg x=\"85.55738635691418%\" y=\"40\" height=\"18\" overflow=\"visible\" width=\"30\">    <path d=\"M 8 -9 l -6 18 L 8 25\" fill=\"none\" style=\"stroke:rgb(208, 230, 250);stroke-width:2\" />  </svg></g><rect x=\"81.52785430190896%\" y=\"40\" height=\"20\" width=\"4.02953205500522%\"      onmouseover=\"document.getElementById('_tp_pmfcldknkqiixemsaaee_ind_9').style.textDecoration = 'underline';document.getElementById('_fs_pmfcldknkqiixemsaaee_ind_9').style.opacity = 1;document.getElementById('_fb_pmfcldknkqiixemsaaee_ind_9').style.opacity = 1;\"      onmouseout=\"document.getElementById('_tp_pmfcldknkqiixemsaaee_ind_9').style.textDecoration = 'none';document.getElementById('_fs_pmfcldknkqiixemsaaee_ind_9').style.opacity = 0;document.getElementById('_fb_pmfcldknkqiixemsaaee_ind_9').style.opacity = 0;\" style=\"fill:rgb(0,0,0,0)\" /><g transform=\"translate(-6.0,0)\">  <svg x=\"87.49011054041563%\" y=\"40\" height=\"18\" overflow=\"visible\" width=\"30\">    <path d=\"M 8 -9 l -6 18 L 8 25\" fill=\"none\" style=\"stroke:rgb(208, 230, 250);stroke-width:2\" />  </svg></g><rect x=\"85.55738635691418%\" y=\"40\" height=\"20\" width=\"1.932724183501449%\"      onmouseover=\"document.getElementById('_tp_pmfcldknkqiixemsaaee_ind_6').style.textDecoration = 'underline';document.getElementById('_fs_pmfcldknkqiixemsaaee_ind_6').style.opacity = 1;document.getElementById('_fb_pmfcldknkqiixemsaaee_ind_6').style.opacity = 1;\"      onmouseout=\"document.getElementById('_tp_pmfcldknkqiixemsaaee_ind_6').style.textDecoration = 'none';document.getElementById('_fs_pmfcldknkqiixemsaaee_ind_6').style.opacity = 0;document.getElementById('_fb_pmfcldknkqiixemsaaee_ind_6').style.opacity = 0;\" style=\"fill:rgb(0,0,0,0)\" /><g transform=\"translate(-6.0,0)\">  <svg x=\"89.37500210884528%\" y=\"40\" height=\"18\" overflow=\"visible\" width=\"30\">    <path d=\"M 8 -9 l -6 18 L 8 25\" fill=\"none\" style=\"stroke:rgb(208, 230, 250);stroke-width:2\" />  </svg></g><rect x=\"87.49011054041563%\" y=\"40\" height=\"20\" width=\"1.8848915684296514%\"      onmouseover=\"document.getElementById('_tp_pmfcldknkqiixemsaaee_ind_10').style.textDecoration = 'underline';document.getElementById('_fs_pmfcldknkqiixemsaaee_ind_10').style.opacity = 1;document.getElementById('_fb_pmfcldknkqiixemsaaee_ind_10').style.opacity = 1;\"      onmouseout=\"document.getElementById('_tp_pmfcldknkqiixemsaaee_ind_10').style.textDecoration = 'none';document.getElementById('_fs_pmfcldknkqiixemsaaee_ind_10').style.opacity = 0;document.getElementById('_fb_pmfcldknkqiixemsaaee_ind_10').style.opacity = 0;\" style=\"fill:rgb(0,0,0,0)\" /><g transform=\"translate(-6.0,0)\">  <svg x=\"90.31454442351914%\" y=\"40\" height=\"18\" overflow=\"visible\" width=\"30\">    <path d=\"M 8 -9 l -6 18 L 8 25\" fill=\"none\" style=\"stroke:rgb(208, 230, 250);stroke-width:2\" />  </svg></g><rect x=\"89.37500210884528%\" y=\"40\" height=\"20\" width=\"0.939542314673858%\"      onmouseover=\"document.getElementById('_tp_pmfcldknkqiixemsaaee_ind_14').style.textDecoration = 'underline';document.getElementById('_fs_pmfcldknkqiixemsaaee_ind_14').style.opacity = 1;document.getElementById('_fb_pmfcldknkqiixemsaaee_ind_14').style.opacity = 1;\"      onmouseout=\"document.getElementById('_tp_pmfcldknkqiixemsaaee_ind_14').style.textDecoration = 'none';document.getElementById('_fs_pmfcldknkqiixemsaaee_ind_14').style.opacity = 0;document.getElementById('_fb_pmfcldknkqiixemsaaee_ind_14').style.opacity = 0;\" style=\"fill:rgb(0,0,0,0)\" /><g transform=\"translate(-6.0,0)\">  <svg x=\"90.86519136470838%\" y=\"40\" height=\"18\" overflow=\"visible\" width=\"30\">    <path d=\"M 8 -9 l -6 18 L 8 25\" fill=\"none\" style=\"stroke:rgb(208, 230, 250);stroke-width:2\" />  </svg></g><rect x=\"90.31454442351914%\" y=\"40\" height=\"20\" width=\"0.5506469411892425%\"      onmouseover=\"document.getElementById('_tp_pmfcldknkqiixemsaaee_ind_13').style.textDecoration = 'underline';document.getElementById('_fs_pmfcldknkqiixemsaaee_ind_13').style.opacity = 1;document.getElementById('_fb_pmfcldknkqiixemsaaee_ind_13').style.opacity = 1;\"      onmouseout=\"document.getElementById('_tp_pmfcldknkqiixemsaaee_ind_13').style.textDecoration = 'none';document.getElementById('_fs_pmfcldknkqiixemsaaee_ind_13').style.opacity = 0;document.getElementById('_fb_pmfcldknkqiixemsaaee_ind_13').style.opacity = 0;\" style=\"fill:rgb(0,0,0,0)\" /><g transform=\"translate(-6.0,0)\">  <svg x=\"91.40483816722522%\" y=\"40\" height=\"18\" overflow=\"visible\" width=\"30\">    <path d=\"M 8 -9 l -6 18 L 8 25\" fill=\"none\" style=\"stroke:rgb(208, 230, 250);stroke-width:2\" />  </svg></g><rect x=\"90.86519136470838%\" y=\"40\" height=\"20\" width=\"0.5396468025168417%\"      onmouseover=\"document.getElementById('_tp_pmfcldknkqiixemsaaee_ind_19').style.textDecoration = 'underline';document.getElementById('_fs_pmfcldknkqiixemsaaee_ind_19').style.opacity = 1;document.getElementById('_fb_pmfcldknkqiixemsaaee_ind_19').style.opacity = 1;\"      onmouseout=\"document.getElementById('_tp_pmfcldknkqiixemsaaee_ind_19').style.textDecoration = 'none';document.getElementById('_fs_pmfcldknkqiixemsaaee_ind_19').style.opacity = 0;document.getElementById('_fb_pmfcldknkqiixemsaaee_ind_19').style.opacity = 0;\" style=\"fill:rgb(0,0,0,0)\" /><g transform=\"translate(-6.0,0)\">  <svg x=\"91.66930348952172%\" y=\"40\" height=\"18\" overflow=\"visible\" width=\"30\">    <path d=\"M 8 -9 l -6 18 L 8 25\" fill=\"none\" style=\"stroke:rgb(208, 230, 250);stroke-width:2\" />  </svg></g><rect x=\"91.40483816722522%\" y=\"40\" height=\"20\" width=\"0.2644653222965019%\"      onmouseover=\"document.getElementById('_tp_pmfcldknkqiixemsaaee_ind_22').style.textDecoration = 'underline';document.getElementById('_fs_pmfcldknkqiixemsaaee_ind_22').style.opacity = 1;document.getElementById('_fb_pmfcldknkqiixemsaaee_ind_22').style.opacity = 1;\"      onmouseout=\"document.getElementById('_tp_pmfcldknkqiixemsaaee_ind_22').style.textDecoration = 'none';document.getElementById('_fs_pmfcldknkqiixemsaaee_ind_22').style.opacity = 0;document.getElementById('_fb_pmfcldknkqiixemsaaee_ind_22').style.opacity = 0;\" style=\"fill:rgb(0,0,0,0)\" /><rect x=\"91.66930348952172%\" y=\"40\" height=\"20\" width=\"0.030320712656006776%\"      onmouseover=\"document.getElementById('_tp_pmfcldknkqiixemsaaee_ind_1').style.textDecoration = 'underline';document.getElementById('_fs_pmfcldknkqiixemsaaee_ind_1').style.opacity = 1;document.getElementById('_fb_pmfcldknkqiixemsaaee_ind_1').style.opacity = 1;\"      onmouseout=\"document.getElementById('_tp_pmfcldknkqiixemsaaee_ind_1').style.textDecoration = 'none';document.getElementById('_fs_pmfcldknkqiixemsaaee_ind_1').style.opacity = 0;document.getElementById('_fb_pmfcldknkqiixemsaaee_ind_1').style.opacity = 0;\" style=\"fill:rgb(0,0,0,0)\" /></svg><div align='center'><div style=\"color: rgb(120,120,120); font-size: 12px; margin-top: -15px;\">inputs</div><div style='display: inline; text-align: center;'\n",
              "    ><div style='display: none; color: #999; padding-top: 0px; font-size: 12px;'>0.0</div\n",
              "        ><div id='_tp_pmfcldknkqiixemsaaee_ind_0'\n",
              "            style='display: inline; background: rgba(230.2941176470614, 26.505882352939775, 102.59215686274348, 0.0); border-radius: 3px; padding: 0px'\n",
              "            onclick=\"\n",
              "            if (this.previousSibling.style.display == 'none') {\n",
              "                this.previousSibling.style.display = 'block';\n",
              "                this.parentNode.style.display = 'inline-block';\n",
              "            } else {\n",
              "                this.previousSibling.style.display = 'none';\n",
              "                this.parentNode.style.display = 'inline';\n",
              "            }\"\n",
              "            onmouseover=\"document.getElementById('_fb_pmfcldknkqiixemsaaee_ind_0').style.opacity = 1; document.getElementById('_fs_pmfcldknkqiixemsaaee_ind_0').style.opacity = 1;\"\n",
              "            onmouseout=\"document.getElementById('_fb_pmfcldknkqiixemsaaee_ind_0').style.opacity = 0; document.getElementById('_fs_pmfcldknkqiixemsaaee_ind_0').style.opacity = 0;\"\n",
              "        ></div></div><div style='display: inline; text-align: center;'\n",
              "    ><div style='display: none; color: #999; padding-top: 0px; font-size: 12px;'>-0.001</div\n",
              "        ><div id='_tp_pmfcldknkqiixemsaaee_ind_1'\n",
              "            style='display: inline; background: rgba(54.70588235294111, 122.49411764705886, 213.40784313725496, 0.0); border-radius: 3px; padding: 0px'\n",
              "            onclick=\"\n",
              "            if (this.previousSibling.style.display == 'none') {\n",
              "                this.previousSibling.style.display = 'block';\n",
              "                this.parentNode.style.display = 'inline-block';\n",
              "            } else {\n",
              "                this.previousSibling.style.display = 'none';\n",
              "                this.parentNode.style.display = 'inline';\n",
              "            }\"\n",
              "            onmouseover=\"document.getElementById('_fb_pmfcldknkqiixemsaaee_ind_1').style.opacity = 1; document.getElementById('_fs_pmfcldknkqiixemsaaee_ind_1').style.opacity = 1;\"\n",
              "            onmouseout=\"document.getElementById('_fb_pmfcldknkqiixemsaaee_ind_1').style.opacity = 0; document.getElementById('_fs_pmfcldknkqiixemsaaee_ind_1').style.opacity = 0;\"\n",
              "        >Just </div></div><div style='display: inline; text-align: center;'\n",
              "    ><div style='display: none; color: #999; padding-top: 0px; font-size: 12px;'>0.597</div\n",
              "        ><div id='_tp_pmfcldknkqiixemsaaee_ind_2'\n",
              "            style='display: inline; background: rgba(255.0, 13.0, 87.0, 1.0); border-radius: 3px; padding: 0px'\n",
              "            onclick=\"\n",
              "            if (this.previousSibling.style.display == 'none') {\n",
              "                this.previousSibling.style.display = 'block';\n",
              "                this.parentNode.style.display = 'inline-block';\n",
              "            } else {\n",
              "                this.previousSibling.style.display = 'none';\n",
              "                this.parentNode.style.display = 'inline';\n",
              "            }\"\n",
              "            onmouseover=\"document.getElementById('_fb_pmfcldknkqiixemsaaee_ind_2').style.opacity = 1; document.getElementById('_fs_pmfcldknkqiixemsaaee_ind_2').style.opacity = 1;\"\n",
              "            onmouseout=\"document.getElementById('_fb_pmfcldknkqiixemsaaee_ind_2').style.opacity = 0; document.getElementById('_fs_pmfcldknkqiixemsaaee_ind_2').style.opacity = 0;\"\n",
              "        >loved </div></div><div style='display: inline; text-align: center;'\n",
              "    ><div style='display: none; color: #999; padding-top: 0px; font-size: 12px;'>0.067</div\n",
              "        ><div id='_tp_pmfcldknkqiixemsaaee_ind_3'\n",
              "            style='display: inline; background: rgba(255.0, 13.0, 87.0, 0.10924935630817992); border-radius: 3px; padding: 0px'\n",
              "            onclick=\"\n",
              "            if (this.previousSibling.style.display == 'none') {\n",
              "                this.previousSibling.style.display = 'block';\n",
              "                this.parentNode.style.display = 'inline-block';\n",
              "            } else {\n",
              "                this.previousSibling.style.display = 'none';\n",
              "                this.parentNode.style.display = 'inline';\n",
              "            }\"\n",
              "            onmouseover=\"document.getElementById('_fb_pmfcldknkqiixemsaaee_ind_3').style.opacity = 1; document.getElementById('_fs_pmfcldknkqiixemsaaee_ind_3').style.opacity = 1;\"\n",
              "            onmouseout=\"document.getElementById('_fb_pmfcldknkqiixemsaaee_ind_3').style.opacity = 0; document.getElementById('_fs_pmfcldknkqiixemsaaee_ind_3').style.opacity = 0;\"\n",
              "        >the </div></div><div style='display: inline; text-align: center;'\n",
              "    ><div style='display: none; color: #999; padding-top: 0px; font-size: 12px;'>0.331</div\n",
              "        ><div id='_tp_pmfcldknkqiixemsaaee_ind_4'\n",
              "            style='display: inline; background: rgba(255.0, 13.0, 87.0, 0.5585660526836996); border-radius: 3px; padding: 0px'\n",
              "            onclick=\"\n",
              "            if (this.previousSibling.style.display == 'none') {\n",
              "                this.previousSibling.style.display = 'block';\n",
              "                this.parentNode.style.display = 'inline-block';\n",
              "            } else {\n",
              "                this.previousSibling.style.display = 'none';\n",
              "                this.parentNode.style.display = 'inline';\n",
              "            }\"\n",
              "            onmouseover=\"document.getElementById('_fb_pmfcldknkqiixemsaaee_ind_4').style.opacity = 1; document.getElementById('_fs_pmfcldknkqiixemsaaee_ind_4').style.opacity = 1;\"\n",
              "            onmouseout=\"document.getElementById('_fb_pmfcldknkqiixemsaaee_ind_4').style.opacity = 0; document.getElementById('_fs_pmfcldknkqiixemsaaee_ind_4').style.opacity = 0;\"\n",
              "        >movie </div></div><div style='display: inline; text-align: center;'\n",
              "    ><div style='display: none; color: #999; padding-top: 0px; font-size: 12px;'>0.051</div\n",
              "        ><div id='_tp_pmfcldknkqiixemsaaee_ind_5'\n",
              "            style='display: inline; background: rgba(255.0, 13.0, 87.0, 0.08560110913052081); border-radius: 3px; padding: 0px'\n",
              "            onclick=\"\n",
              "            if (this.previousSibling.style.display == 'none') {\n",
              "                this.previousSibling.style.display = 'block';\n",
              "                this.parentNode.style.display = 'inline-block';\n",
              "            } else {\n",
              "                this.previousSibling.style.display = 'none';\n",
              "                this.parentNode.style.display = 'inline';\n",
              "            }\"\n",
              "            onmouseover=\"document.getElementById('_fb_pmfcldknkqiixemsaaee_ind_5').style.opacity = 1; document.getElementById('_fs_pmfcldknkqiixemsaaee_ind_5').style.opacity = 1;\"\n",
              "            onmouseout=\"document.getElementById('_fb_pmfcldknkqiixemsaaee_ind_5').style.opacity = 0; document.getElementById('_fs_pmfcldknkqiixemsaaee_ind_5').style.opacity = 0;\"\n",
              "        >from </div></div><div style='display: inline; text-align: center;'\n",
              "    ><div style='display: none; color: #999; padding-top: 0px; font-size: 12px;'>-0.075</div\n",
              "        ><div id='_tp_pmfcldknkqiixemsaaee_ind_6'\n",
              "            style='display: inline; background: rgba(30.0, 136.0, 229.0, 0.12501485442661905); border-radius: 3px; padding: 0px'\n",
              "            onclick=\"\n",
              "            if (this.previousSibling.style.display == 'none') {\n",
              "                this.previousSibling.style.display = 'block';\n",
              "                this.parentNode.style.display = 'inline-block';\n",
              "            } else {\n",
              "                this.previousSibling.style.display = 'none';\n",
              "                this.parentNode.style.display = 'inline';\n",
              "            }\"\n",
              "            onmouseover=\"document.getElementById('_fb_pmfcldknkqiixemsaaee_ind_6').style.opacity = 1; document.getElementById('_fs_pmfcldknkqiixemsaaee_ind_6').style.opacity = 1;\"\n",
              "            onmouseout=\"document.getElementById('_fb_pmfcldknkqiixemsaaee_ind_6').style.opacity = 0; document.getElementById('_fs_pmfcldknkqiixemsaaee_ind_6').style.opacity = 0;\"\n",
              "        >the </div></div><div style='display: inline; text-align: center;'\n",
              "    ><div style='display: none; color: #999; padding-top: 0px; font-size: 12px;'>0.335</div\n",
              "        ><div id='_tp_pmfcldknkqiixemsaaee_ind_7'\n",
              "            style='display: inline; background: rgba(255.0, 13.0, 87.0, 0.5585660526836996); border-radius: 3px; padding: 0px'\n",
              "            onclick=\"\n",
              "            if (this.previousSibling.style.display == 'none') {\n",
              "                this.previousSibling.style.display = 'block';\n",
              "                this.parentNode.style.display = 'inline-block';\n",
              "            } else {\n",
              "                this.previousSibling.style.display = 'none';\n",
              "                this.parentNode.style.display = 'inline';\n",
              "            }\"\n",
              "            onmouseover=\"document.getElementById('_fb_pmfcldknkqiixemsaaee_ind_7').style.opacity = 1; document.getElementById('_fs_pmfcldknkqiixemsaaee_ind_7').style.opacity = 1;\"\n",
              "            onmouseout=\"document.getElementById('_fb_pmfcldknkqiixemsaaee_ind_7').style.opacity = 0; document.getElementById('_fs_pmfcldknkqiixemsaaee_ind_7').style.opacity = 0;\"\n",
              "        >very </div></div><div style='display: inline; text-align: center;'\n",
              "    ><div style='display: none; color: #999; padding-top: 0px; font-size: 12px;'>0.191</div\n",
              "        ><div id='_tp_pmfcldknkqiixemsaaee_ind_8'\n",
              "            style='display: inline; background: rgba(255.0, 13.0, 87.0, 0.32208358090711037); border-radius: 3px; padding: 0px'\n",
              "            onclick=\"\n",
              "            if (this.previousSibling.style.display == 'none') {\n",
              "                this.previousSibling.style.display = 'block';\n",
              "                this.parentNode.style.display = 'inline-block';\n",
              "            } else {\n",
              "                this.previousSibling.style.display = 'none';\n",
              "                this.parentNode.style.display = 'inline';\n",
              "            }\"\n",
              "            onmouseover=\"document.getElementById('_fb_pmfcldknkqiixemsaaee_ind_8').style.opacity = 1; document.getElementById('_fs_pmfcldknkqiixemsaaee_ind_8').style.opacity = 1;\"\n",
              "            onmouseout=\"document.getElementById('_fb_pmfcldknkqiixemsaaee_ind_8').style.opacity = 0; document.getElementById('_fs_pmfcldknkqiixemsaaee_ind_8').style.opacity = 0;\"\n",
              "        >beginning</div></div><div style='display: inline; text-align: center;'\n",
              "    ><div style='display: none; color: #999; padding-top: 0px; font-size: 12px;'>-0.156</div\n",
              "        ><div id='_tp_pmfcldknkqiixemsaaee_ind_9'\n",
              "            style='display: inline; background: rgba(30.0, 136.0, 229.0, 0.25902158843335304); border-radius: 3px; padding: 0px'\n",
              "            onclick=\"\n",
              "            if (this.previousSibling.style.display == 'none') {\n",
              "                this.previousSibling.style.display = 'block';\n",
              "                this.parentNode.style.display = 'inline-block';\n",
              "            } else {\n",
              "                this.previousSibling.style.display = 'none';\n",
              "                this.parentNode.style.display = 'inline';\n",
              "            }\"\n",
              "            onmouseover=\"document.getElementById('_fb_pmfcldknkqiixemsaaee_ind_9').style.opacity = 1; document.getElementById('_fs_pmfcldknkqiixemsaaee_ind_9').style.opacity = 1;\"\n",
              "            onmouseout=\"document.getElementById('_fb_pmfcldknkqiixemsaaee_ind_9').style.opacity = 0; document.getElementById('_fs_pmfcldknkqiixemsaaee_ind_9').style.opacity = 0;\"\n",
              "        >. </div></div><div style='display: inline; text-align: center;'\n",
              "    ><div style='display: none; color: #999; padding-top: 0px; font-size: 12px;'>-0.073</div\n",
              "        ><div id='_tp_pmfcldknkqiixemsaaee_ind_10'\n",
              "            style='display: inline; background: rgba(30.0, 136.0, 229.0, 0.11713210536739943); border-radius: 3px; padding: 0px'\n",
              "            onclick=\"\n",
              "            if (this.previousSibling.style.display == 'none') {\n",
              "                this.previousSibling.style.display = 'block';\n",
              "                this.parentNode.style.display = 'inline-block';\n",
              "            } else {\n",
              "                this.previousSibling.style.display = 'none';\n",
              "                this.parentNode.style.display = 'inline';\n",
              "            }\"\n",
              "            onmouseover=\"document.getElementById('_fb_pmfcldknkqiixemsaaee_ind_10').style.opacity = 1; document.getElementById('_fs_pmfcldknkqiixemsaaee_ind_10').style.opacity = 1;\"\n",
              "            onmouseout=\"document.getElementById('_fb_pmfcldknkqiixemsaaee_ind_10').style.opacity = 0; document.getElementById('_fs_pmfcldknkqiixemsaaee_ind_10').style.opacity = 0;\"\n",
              "        >Val </div></div><div style='display: inline; text-align: center;'\n",
              "    ><div style='display: none; color: #999; padding-top: 0px; font-size: 12px;'>0.0</div\n",
              "        ><div id='_tp_pmfcldknkqiixemsaaee_ind_11'\n",
              "            style='display: inline; background: rgba(230.2941176470614, 26.505882352939775, 102.59215686274348, 0.0); border-radius: 3px; padding: 0px'\n",
              "            onclick=\"\n",
              "            if (this.previousSibling.style.display == 'none') {\n",
              "                this.previousSibling.style.display = 'block';\n",
              "                this.parentNode.style.display = 'inline-block';\n",
              "            } else {\n",
              "                this.previousSibling.style.display = 'none';\n",
              "                this.parentNode.style.display = 'inline';\n",
              "            }\"\n",
              "            onmouseover=\"document.getElementById('_fb_pmfcldknkqiixemsaaee_ind_11').style.opacity = 1; document.getElementById('_fs_pmfcldknkqiixemsaaee_ind_11').style.opacity = 1;\"\n",
              "            onmouseout=\"document.getElementById('_fb_pmfcldknkqiixemsaaee_ind_11').style.opacity = 0; document.getElementById('_fs_pmfcldknkqiixemsaaee_ind_11').style.opacity = 0;\"\n",
              "        >Ki</div></div><div style='display: inline; text-align: center;'\n",
              "    ><div style='display: none; color: #999; padding-top: 0px; font-size: 12px;'>0.041</div\n",
              "        ><div id='_tp_pmfcldknkqiixemsaaee_ind_12'\n",
              "            style='display: inline; background: rgba(255.0, 13.0, 87.0, 0.06195286195286207); border-radius: 3px; padding: 0px'\n",
              "            onclick=\"\n",
              "            if (this.previousSibling.style.display == 'none') {\n",
              "                this.previousSibling.style.display = 'block';\n",
              "                this.parentNode.style.display = 'inline-block';\n",
              "            } else {\n",
              "                this.previousSibling.style.display = 'none';\n",
              "                this.parentNode.style.display = 'inline';\n",
              "            }\"\n",
              "            onmouseover=\"document.getElementById('_fb_pmfcldknkqiixemsaaee_ind_12').style.opacity = 1; document.getElementById('_fs_pmfcldknkqiixemsaaee_ind_12').style.opacity = 1;\"\n",
              "            onmouseout=\"document.getElementById('_fb_pmfcldknkqiixemsaaee_ind_12').style.opacity = 0; document.getElementById('_fs_pmfcldknkqiixemsaaee_ind_12').style.opacity = 0;\"\n",
              "        >lmer </div></div><div style='display: inline; text-align: center;'\n",
              "    ><div style='display: none; color: #999; padding-top: 0px; font-size: 12px;'>-0.021</div\n",
              "        ><div id='_tp_pmfcldknkqiixemsaaee_ind_13'\n",
              "            style='display: inline; background: rgba(30.0, 136.0, 229.0, 0.03042186571598325); border-radius: 3px; padding: 0px'\n",
              "            onclick=\"\n",
              "            if (this.previousSibling.style.display == 'none') {\n",
              "                this.previousSibling.style.display = 'block';\n",
              "                this.parentNode.style.display = 'inline-block';\n",
              "            } else {\n",
              "                this.previousSibling.style.display = 'none';\n",
              "                this.parentNode.style.display = 'inline';\n",
              "            }\"\n",
              "            onmouseover=\"document.getElementById('_fb_pmfcldknkqiixemsaaee_ind_13').style.opacity = 1; document.getElementById('_fs_pmfcldknkqiixemsaaee_ind_13').style.opacity = 1;\"\n",
              "            onmouseout=\"document.getElementById('_fb_pmfcldknkqiixemsaaee_ind_13').style.opacity = 0; document.getElementById('_fs_pmfcldknkqiixemsaaee_ind_13').style.opacity = 0;\"\n",
              "        >gave </div></div><div style='display: inline; text-align: center;'\n",
              "    ><div style='display: none; color: #999; padding-top: 0px; font-size: 12px;'>-0.036</div\n",
              "        ><div id='_tp_pmfcldknkqiixemsaaee_ind_14'\n",
              "            style='display: inline; background: rgba(30.0, 136.0, 229.0, 0.05407011289364222); border-radius: 3px; padding: 0px'\n",
              "            onclick=\"\n",
              "            if (this.previousSibling.style.display == 'none') {\n",
              "                this.previousSibling.style.display = 'block';\n",
              "                this.parentNode.style.display = 'inline-block';\n",
              "            } else {\n",
              "                this.previousSibling.style.display = 'none';\n",
              "                this.parentNode.style.display = 'inline';\n",
              "            }\"\n",
              "            onmouseover=\"document.getElementById('_fb_pmfcldknkqiixemsaaee_ind_14').style.opacity = 1; document.getElementById('_fs_pmfcldknkqiixemsaaee_ind_14').style.opacity = 1;\"\n",
              "            onmouseout=\"document.getElementById('_fb_pmfcldknkqiixemsaaee_ind_14').style.opacity = 0; document.getElementById('_fs_pmfcldknkqiixemsaaee_ind_14').style.opacity = 0;\"\n",
              "        >his </div></div><div style='display: inline; text-align: center;'\n",
              "    ><div style='display: none; color: #999; padding-top: 0px; font-size: 12px;'>0.249</div\n",
              "        ><div id='_tp_pmfcldknkqiixemsaaee_ind_15'\n",
              "            style='display: inline; background: rgba(255.0, 13.0, 87.0, 0.41667656961774624); border-radius: 3px; padding: 0px'\n",
              "            onclick=\"\n",
              "            if (this.previousSibling.style.display == 'none') {\n",
              "                this.previousSibling.style.display = 'block';\n",
              "                this.parentNode.style.display = 'inline-block';\n",
              "            } else {\n",
              "                this.previousSibling.style.display = 'none';\n",
              "                this.parentNode.style.display = 'inline';\n",
              "            }\"\n",
              "            onmouseover=\"document.getElementById('_fb_pmfcldknkqiixemsaaee_ind_15').style.opacity = 1; document.getElementById('_fs_pmfcldknkqiixemsaaee_ind_15').style.opacity = 1;\"\n",
              "            onmouseout=\"document.getElementById('_fb_pmfcldknkqiixemsaaee_ind_15').style.opacity = 0; document.getElementById('_fs_pmfcldknkqiixemsaaee_ind_15').style.opacity = 0;\"\n",
              "        >best </div></div><div style='display: inline; text-align: center;'\n",
              "    ><div style='display: none; color: #999; padding-top: 0px; font-size: 12px;'>0.256</div\n",
              "        ><div id='_tp_pmfcldknkqiixemsaaee_ind_16'\n",
              "            style='display: inline; background: rgba(255.0, 13.0, 87.0, 0.4245593186769657); border-radius: 3px; padding: 0px'\n",
              "            onclick=\"\n",
              "            if (this.previousSibling.style.display == 'none') {\n",
              "                this.previousSibling.style.display = 'block';\n",
              "                this.parentNode.style.display = 'inline-block';\n",
              "            } else {\n",
              "                this.previousSibling.style.display = 'none';\n",
              "                this.parentNode.style.display = 'inline';\n",
              "            }\"\n",
              "            onmouseover=\"document.getElementById('_fb_pmfcldknkqiixemsaaee_ind_16').style.opacity = 1; document.getElementById('_fs_pmfcldknkqiixemsaaee_ind_16').style.opacity = 1;\"\n",
              "            onmouseout=\"document.getElementById('_fb_pmfcldknkqiixemsaaee_ind_16').style.opacity = 0; document.getElementById('_fs_pmfcldknkqiixemsaaee_ind_16').style.opacity = 0;\"\n",
              "        >and </div></div><div style='display: inline; text-align: center;'\n",
              "    ><div style='display: none; color: #999; padding-top: 0px; font-size: 12px;'>0.084</div\n",
              "        ><div id='_tp_pmfcldknkqiixemsaaee_ind_17'\n",
              "            style='display: inline; background: rgba(255.0, 13.0, 87.0, 0.14078035254505847); border-radius: 3px; padding: 0px'\n",
              "            onclick=\"\n",
              "            if (this.previousSibling.style.display == 'none') {\n",
              "                this.previousSibling.style.display = 'block';\n",
              "                this.parentNode.style.display = 'inline-block';\n",
              "            } else {\n",
              "                this.previousSibling.style.display = 'none';\n",
              "                this.parentNode.style.display = 'inline';\n",
              "            }\"\n",
              "            onmouseover=\"document.getElementById('_fb_pmfcldknkqiixemsaaee_ind_17').style.opacity = 1; document.getElementById('_fs_pmfcldknkqiixemsaaee_ind_17').style.opacity = 1;\"\n",
              "            onmouseout=\"document.getElementById('_fb_pmfcldknkqiixemsaaee_ind_17').style.opacity = 0; document.getElementById('_fs_pmfcldknkqiixemsaaee_ind_17').style.opacity = 0;\"\n",
              "        >the </div></div><div style='display: inline; text-align: center;'\n",
              "    ><div style='display: none; color: #999; padding-top: 0px; font-size: 12px;'>0.153</div\n",
              "        ><div id='_tp_pmfcldknkqiixemsaaee_ind_18'\n",
              "            style='display: inline; background: rgba(255.0, 13.0, 87.0, 0.2511388393741335); border-radius: 3px; padding: 0px'\n",
              "            onclick=\"\n",
              "            if (this.previousSibling.style.display == 'none') {\n",
              "                this.previousSibling.style.display = 'block';\n",
              "                this.parentNode.style.display = 'inline-block';\n",
              "            } else {\n",
              "                this.previousSibling.style.display = 'none';\n",
              "                this.parentNode.style.display = 'inline';\n",
              "            }\"\n",
              "            onmouseover=\"document.getElementById('_fb_pmfcldknkqiixemsaaee_ind_18').style.opacity = 1; document.getElementById('_fs_pmfcldknkqiixemsaaee_ind_18').style.opacity = 1;\"\n",
              "            onmouseout=\"document.getElementById('_fb_pmfcldknkqiixemsaaee_ind_18').style.opacity = 0; document.getElementById('_fs_pmfcldknkqiixemsaaee_ind_18').style.opacity = 0;\"\n",
              "        >dance </div></div><div style='display: inline; text-align: center;'\n",
              "    ><div style='display: none; color: #999; padding-top: 0px; font-size: 12px;'>-0.021</div\n",
              "        ><div id='_tp_pmfcldknkqiixemsaaee_ind_19'\n",
              "            style='display: inline; background: rgba(30.0, 136.0, 229.0, 0.03042186571598325); border-radius: 3px; padding: 0px'\n",
              "            onclick=\"\n",
              "            if (this.previousSibling.style.display == 'none') {\n",
              "                this.previousSibling.style.display = 'block';\n",
              "                this.parentNode.style.display = 'inline-block';\n",
              "            } else {\n",
              "                this.previousSibling.style.display = 'none';\n",
              "                this.parentNode.style.display = 'inline';\n",
              "            }\"\n",
              "            onmouseover=\"document.getElementById('_fb_pmfcldknkqiixemsaaee_ind_19').style.opacity = 1; document.getElementById('_fs_pmfcldknkqiixemsaaee_ind_19').style.opacity = 1;\"\n",
              "            onmouseout=\"document.getElementById('_fb_pmfcldknkqiixemsaaee_ind_19').style.opacity = 0; document.getElementById('_fs_pmfcldknkqiixemsaaee_ind_19').style.opacity = 0;\"\n",
              "        >movements </div></div><div style='display: inline; text-align: center;'\n",
              "    ><div style='display: none; color: #999; padding-top: 0px; font-size: 12px;'>0.004</div\n",
              "        ><div id='_tp_pmfcldknkqiixemsaaee_ind_20'\n",
              "            style='display: inline; background: rgba(230.2941176470614, 26.505882352939775, 102.59215686274348, 0.0); border-radius: 3px; padding: 0px'\n",
              "            onclick=\"\n",
              "            if (this.previousSibling.style.display == 'none') {\n",
              "                this.previousSibling.style.display = 'block';\n",
              "                this.parentNode.style.display = 'inline-block';\n",
              "            } else {\n",
              "                this.previousSibling.style.display = 'none';\n",
              "                this.parentNode.style.display = 'inline';\n",
              "            }\"\n",
              "            onmouseover=\"document.getElementById('_fb_pmfcldknkqiixemsaaee_ind_20').style.opacity = 1; document.getElementById('_fs_pmfcldknkqiixemsaaee_ind_20').style.opacity = 1;\"\n",
              "            onmouseout=\"document.getElementById('_fb_pmfcldknkqiixemsaaee_ind_20').style.opacity = 0; document.getElementById('_fs_pmfcldknkqiixemsaaee_ind_20').style.opacity = 0;\"\n",
              "        >were </div></div><div style='display: inline; text-align: center;'\n",
              "    ><div style='display: none; color: #999; padding-top: 0px; font-size: 12px;'>0.484</div\n",
              "        ><div id='_tp_pmfcldknkqiixemsaaee_ind_21'\n",
              "            style='display: inline; background: rgba(255.0, 13.0, 87.0, 0.8108140225787285); border-radius: 3px; padding: 0px'\n",
              "            onclick=\"\n",
              "            if (this.previousSibling.style.display == 'none') {\n",
              "                this.previousSibling.style.display = 'block';\n",
              "                this.parentNode.style.display = 'inline-block';\n",
              "            } else {\n",
              "                this.previousSibling.style.display = 'none';\n",
              "                this.parentNode.style.display = 'inline';\n",
              "            }\"\n",
              "            onmouseover=\"document.getElementById('_fb_pmfcldknkqiixemsaaee_ind_21').style.opacity = 1; document.getElementById('_fs_pmfcldknkqiixemsaaee_ind_21').style.opacity = 1;\"\n",
              "            onmouseout=\"document.getElementById('_fb_pmfcldknkqiixemsaaee_ind_21').style.opacity = 0; document.getElementById('_fs_pmfcldknkqiixemsaaee_ind_21').style.opacity = 0;\"\n",
              "        >stunning</div></div><div style='display: inline; text-align: center;'\n",
              "    ><div style='display: none; color: #999; padding-top: 0px; font-size: 12px;'>-0.01</div\n",
              "        ><div id='_tp_pmfcldknkqiixemsaaee_ind_22'\n",
              "            style='display: inline; background: rgba(30.0, 136.0, 229.0, 0.014656367597544028); border-radius: 3px; padding: 0px'\n",
              "            onclick=\"\n",
              "            if (this.previousSibling.style.display == 'none') {\n",
              "                this.previousSibling.style.display = 'block';\n",
              "                this.parentNode.style.display = 'inline-block';\n",
              "            } else {\n",
              "                this.previousSibling.style.display = 'none';\n",
              "                this.parentNode.style.display = 'inline';\n",
              "            }\"\n",
              "            onmouseover=\"document.getElementById('_fb_pmfcldknkqiixemsaaee_ind_22').style.opacity = 1; document.getElementById('_fs_pmfcldknkqiixemsaaee_ind_22').style.opacity = 1;\"\n",
              "            onmouseout=\"document.getElementById('_fb_pmfcldknkqiixemsaaee_ind_22').style.opacity = 0; document.getElementById('_fs_pmfcldknkqiixemsaaee_ind_22').style.opacity = 0;\"\n",
              "        >.</div></div><div style='display: inline; text-align: center;'\n",
              "    ><div style='display: none; color: #999; padding-top: 0px; font-size: 12px;'>0.0</div\n",
              "        ><div id='_tp_pmfcldknkqiixemsaaee_ind_23'\n",
              "            style='display: inline; background: rgba(230.2941176470614, 26.505882352939775, 102.59215686274348, 0.0); border-radius: 3px; padding: 0px'\n",
              "            onclick=\"\n",
              "            if (this.previousSibling.style.display == 'none') {\n",
              "                this.previousSibling.style.display = 'block';\n",
              "                this.parentNode.style.display = 'inline-block';\n",
              "            } else {\n",
              "                this.previousSibling.style.display = 'none';\n",
              "                this.parentNode.style.display = 'inline';\n",
              "            }\"\n",
              "            onmouseover=\"document.getElementById('_fb_pmfcldknkqiixemsaaee_ind_23').style.opacity = 1; document.getElementById('_fs_pmfcldknkqiixemsaaee_ind_23').style.opacity = 1;\"\n",
              "            onmouseout=\"document.getElementById('_fb_pmfcldknkqiixemsaaee_ind_23').style.opacity = 0; document.getElementById('_fs_pmfcldknkqiixemsaaee_ind_23').style.opacity = 0;\"\n",
              "        ></div></div></div>"
            ]
          },
          "metadata": {}
        }
      ]
    },
    {
      "cell_type": "code",
      "source": [
        "#shap.plots.text(shap_values[0,:,\"LABEL_0\"])"
      ],
      "metadata": {
        "id": "f-_dL6uGDopy"
      },
      "execution_count": 182,
      "outputs": []
    },
    {
      "cell_type": "markdown",
      "source": [
        "Same for the predicted negative text example. What forces drive the classification the most?"
      ],
      "metadata": {
        "id": "y5asJrrGHifa"
      }
    },
    {
      "cell_type": "code",
      "source": [
        "shap.plots.text(shap_values[1,:,\"LABEL_0\"])"
      ],
      "metadata": {
        "colab": {
          "base_uri": "https://localhost:8080/",
          "height": 119
        },
        "id": "wGnb1k-Ry6Eu",
        "outputId": "0d77ab30-5d51-4b88-9046-bcb6bf18dfd9"
      },
      "execution_count": 188,
      "outputs": [
        {
          "output_type": "display_data",
          "data": {
            "text/plain": [
              "<IPython.core.display.HTML object>"
            ],
            "text/html": [
              "<svg width=\"100%\" height=\"80px\"><line x1=\"0\" y1=\"33\" x2=\"100%\" y2=\"33\" style=\"stroke:rgb(150,150,150);stroke-width:1\" /><line x1=\"64.08196801680178%\" y1=\"33\" x2=\"64.08196801680178%\" y2=\"37\" style=\"stroke:rgb(150,150,150);stroke-width:1\" /><text x=\"64.08196801680178%\" y=\"27\" font-size=\"12px\" fill=\"rgb(120,120,120)\" dominant-baseline=\"bottom\" text-anchor=\"middle\">1</text><line x1=\"64.08196801680178%\" y1=\"33\" x2=\"64.08196801680178%\" y2=\"37\" style=\"stroke:rgb(150,150,150);stroke-width:1\" /><text x=\"64.08196801680178%\" y=\"27\" font-size=\"12px\" fill=\"rgb(120,120,120)\" dominant-baseline=\"bottom\" text-anchor=\"middle\">1</text><line x1=\"64.08196801680178%\" y1=\"33\" x2=\"64.08196801680178%\" y2=\"37\" style=\"stroke:rgb(150,150,150);stroke-width:1\" /><text x=\"64.08196801680178%\" y=\"27\" font-size=\"12px\" fill=\"rgb(120,120,120)\" dominant-baseline=\"bottom\" text-anchor=\"middle\">1</text><line x1=\"64.08196801680178%\" y1=\"33\" x2=\"64.08196801680178%\" y2=\"37\" style=\"stroke:rgb(150,150,150);stroke-width:1\" /><text x=\"64.08196801680178%\" y=\"27\" font-size=\"12px\" fill=\"rgb(120,120,120)\" dominant-baseline=\"bottom\" text-anchor=\"middle\">1</text><line x1=\"64.08196801680178%\" y1=\"33\" x2=\"64.08196801680178%\" y2=\"37\" style=\"stroke:rgb(150,150,150);stroke-width:1\" /><text x=\"64.08196801680178%\" y=\"27\" font-size=\"12px\" fill=\"rgb(120,120,120)\" dominant-baseline=\"bottom\" text-anchor=\"middle\">1</text><line x1=\"64.08196801680178%\" y1=\"33\" x2=\"64.08196801680178%\" y2=\"37\" style=\"stroke:rgb(150,150,150);stroke-width:1\" /><text x=\"64.08196801680178%\" y=\"27\" font-size=\"12px\" fill=\"rgb(120,120,120)\" dominant-baseline=\"bottom\" text-anchor=\"middle\">1</text><line x1=\"64.08196801680178%\" y1=\"33\" x2=\"64.08196801680178%\" y2=\"37\" style=\"stroke:rgb(150,150,150);stroke-width:1\" /><text x=\"64.08196801680178%\" y=\"27\" font-size=\"12px\" fill=\"rgb(120,120,120)\" dominant-baseline=\"bottom\" text-anchor=\"middle\">1</text><line x1=\"64.08196801680178%\" y1=\"33\" x2=\"64.08196801680178%\" y2=\"37\" style=\"stroke:rgb(150,150,150);stroke-width:1\" /><text x=\"64.08196801680178%\" y=\"27\" font-size=\"12px\" fill=\"rgb(120,120,120)\" dominant-baseline=\"bottom\" text-anchor=\"middle\">1</text><line x1=\"64.08196801680178%\" y1=\"33\" x2=\"64.08196801680178%\" y2=\"37\" style=\"stroke:rgb(150,150,150);stroke-width:1\" /><text x=\"64.08196801680178%\" y=\"27\" font-size=\"12px\" fill=\"rgb(120,120,120)\" dominant-baseline=\"bottom\" text-anchor=\"middle\">1</text><line x1=\"64.08196801680178%\" y1=\"33\" x2=\"64.08196801680178%\" y2=\"37\" style=\"stroke:rgb(150,150,150);stroke-width:1\" /><text x=\"64.08196801680178%\" y=\"27\" font-size=\"12px\" fill=\"rgb(120,120,120)\" dominant-baseline=\"bottom\" text-anchor=\"middle\">1</text><line x1=\"64.08196801680178%\" y1=\"33\" x2=\"64.08196801680178%\" y2=\"37\" style=\"stroke:rgb(150,150,150);stroke-width:1\" /><text x=\"64.08196801680178%\" y=\"27\" font-size=\"12px\" fill=\"rgb(120,120,120)\" dominant-baseline=\"bottom\" text-anchor=\"middle\">1</text><line x1=\"64.08196801680178%\" y1=\"33\" x2=\"64.08196801680178%\" y2=\"37\" style=\"stroke:rgb(150,150,150);stroke-width:1\" /><text x=\"64.08196801680178%\" y=\"27\" font-size=\"12px\" fill=\"rgb(120,120,120)\" dominant-baseline=\"bottom\" text-anchor=\"middle\">1</text><line x1=\"64.08196801680178%\" y1=\"33\" x2=\"64.08196801680178%\" y2=\"37\" style=\"stroke:rgb(150,150,150);stroke-width:1\" /><text x=\"64.08196801680178%\" y=\"27\" font-size=\"12px\" fill=\"rgb(120,120,120)\" dominant-baseline=\"bottom\" text-anchor=\"middle\">1</text><line x1=\"64.08196801680178%\" y1=\"33\" x2=\"64.08196801680178%\" y2=\"37\" style=\"stroke:rgb(150,150,150);stroke-width:1\" /><text x=\"64.08196801680178%\" y=\"27\" font-size=\"12px\" fill=\"rgb(120,120,120)\" dominant-baseline=\"bottom\" text-anchor=\"middle\">1</text><line x1=\"64.08196801680178%\" y1=\"33\" x2=\"64.08196801680178%\" y2=\"37\" style=\"stroke:rgb(150,150,150);stroke-width:1\" /><text x=\"64.08196801680178%\" y=\"27\" font-size=\"12px\" fill=\"rgb(120,120,120)\" dominant-baseline=\"bottom\" text-anchor=\"middle\">1</text><line x1=\"64.08196801680178%\" y1=\"33\" x2=\"64.08196801680178%\" y2=\"37\" style=\"stroke:rgb(150,150,150);stroke-width:1\" /><text x=\"64.08196801680178%\" y=\"27\" font-size=\"12px\" fill=\"rgb(120,120,120)\" dominant-baseline=\"bottom\" text-anchor=\"middle\">1</text><line x1=\"64.08196801680178%\" y1=\"33\" x2=\"64.08196801680178%\" y2=\"37\" style=\"stroke:rgb(150,150,150);stroke-width:1\" /><text x=\"64.08196801680178%\" y=\"27\" font-size=\"12px\" fill=\"rgb(120,120,120)\" dominant-baseline=\"bottom\" text-anchor=\"middle\">1</text><line x1=\"64.08196801680178%\" y1=\"33\" x2=\"64.08196801680178%\" y2=\"37\" style=\"stroke:rgb(150,150,150);stroke-width:1\" /><text x=\"64.08196801680178%\" y=\"27\" font-size=\"12px\" fill=\"rgb(120,120,120)\" dominant-baseline=\"bottom\" text-anchor=\"middle\">1</text><line x1=\"64.08196801680178%\" y1=\"33\" x2=\"64.08196801680178%\" y2=\"37\" style=\"stroke:rgb(150,150,150);stroke-width:1\" /><text x=\"64.08196801680178%\" y=\"27\" font-size=\"12px\" fill=\"rgb(120,120,120)\" dominant-baseline=\"bottom\" text-anchor=\"middle\">1</text><line x1=\"23.27745905833947%\" y1=\"33\" x2=\"23.27745905833947%\" y2=\"37\" style=\"stroke:rgb(150,150,150);stroke-width:1\" /><text x=\"23.27745905833947%\" y=\"27\" font-size=\"13px\" style=\"stroke:#ffffff;stroke-width:8px;\" fill=\"rgb(255,255,255)\" dominant-baseline=\"bottom\" text-anchor=\"middle\">-0.320215</text><text x=\"23.27745905833947%\" y=\"27\" font-size=\"12px\" fill=\"rgb(120,120,120)\" dominant-baseline=\"bottom\" text-anchor=\"middle\">-0.320215</text><text x=\"23.27745905833947%\" y=\"10\" font-size=\"12px\" fill=\"rgb(120,120,120)\" dominant-baseline=\"bottom\" text-anchor=\"middle\">base value</text><line x1=\"76.72254063258588%\" y1=\"33\" x2=\"76.72254063258588%\" y2=\"37\" style=\"stroke:rgb(150,150,150);stroke-width:1\" /><text x=\"76.72254063258588%\" y=\"27\" font-size=\"13px\" style=\"stroke:#ffffff;stroke-width:8px;\" font-weight=\"bold\" fill=\"rgb(255,255,255)\" dominant-baseline=\"bottom\" text-anchor=\"middle\">1.40898</text><text x=\"76.72254063258588%\" y=\"27\" font-size=\"13px\" font-weight=\"bold\" fill=\"rgb(0,0,0)\" dominant-baseline=\"bottom\" text-anchor=\"middle\">1.40898</text><text x=\"76.72254063258588%\" y=\"10\" font-size=\"12px\" fill=\"rgb(120,120,120)\" dominant-baseline=\"bottom\" text-anchor=\"middle\">f<tspan baseline-shift=\"sub\" font-size=\"8px\">LABEL_0</tspan>(inputs)</text><rect x=\"8.333333307577114%\" width=\"68.38920732500875%\" y=\"40\" height=\"18\" style=\"fill:rgb(255.0, 0.0, 81.08083606031792); stroke-width:0; stroke:rgb(0,0,0)\" /><line x1=\"31.538226698339834%\" x2=\"76.72254063258588%\" y1=\"60\" y2=\"60\" id=\"_fb_tfiqyyltepsarvaxgsng_ind_2\" style=\"stroke:rgb(255.0, 0.0, 81.08083606031792);stroke-width:2; opacity: 0\"/><text x=\"54.13038366546286%\" y=\"71\" font-size=\"12px\" id=\"_fs_tfiqyyltepsarvaxgsng_ind_2\" fill=\"rgb(255.0, 0.0, 81.08083606031792)\" style=\"opacity: 0\" dominant-baseline=\"middle\" text-anchor=\"middle\">1.462</text><svg x=\"31.538226698339834%\" y=\"40\" height=\"20\" width=\"45.18431393424604%\">  <svg x=\"0\" y=\"0\" width=\"100%\" height=\"100%\">    <text x=\"50%\" y=\"9\" font-size=\"12px\" fill=\"rgb(255,255,255)\" dominant-baseline=\"middle\" text-anchor=\"middle\">waste</text>  </svg></svg><line x1=\"24.476787510268103%\" x2=\"31.538226698339834%\" y1=\"60\" y2=\"60\" id=\"_fb_tfiqyyltepsarvaxgsng_ind_3\" style=\"stroke:rgb(255.0, 0.0, 81.08083606031792);stroke-width:2; opacity: 0\"/><text x=\"28.00750710430397%\" y=\"71\" font-size=\"12px\" id=\"_fs_tfiqyyltepsarvaxgsng_ind_3\" fill=\"rgb(255.0, 0.0, 81.08083606031792)\" style=\"opacity: 0\" dominant-baseline=\"middle\" text-anchor=\"middle\">0.228</text><svg x=\"24.476787510268103%\" y=\"40\" height=\"20\" width=\"7.061439188071731%\">  <svg x=\"0\" y=\"0\" width=\"100%\" height=\"100%\">    <text x=\"50%\" y=\"9\" font-size=\"12px\" fill=\"rgb(255,255,255)\" dominant-baseline=\"middle\" text-anchor=\"middle\">of</text>  </svg></svg><line x1=\"18.201285641775485%\" x2=\"24.476787510268103%\" y1=\"60\" y2=\"60\" id=\"_fb_tfiqyyltepsarvaxgsng_ind_12\" style=\"stroke:rgb(255.0, 0.0, 81.08083606031792);stroke-width:2; opacity: 0\"/><text x=\"21.339036576021794%\" y=\"71\" font-size=\"12px\" id=\"_fs_tfiqyyltepsarvaxgsng_ind_12\" fill=\"rgb(255.0, 0.0, 81.08083606031792)\" style=\"opacity: 0\" dominant-baseline=\"middle\" text-anchor=\"middle\">0.203</text><svg x=\"18.201285641775485%\" y=\"40\" height=\"20\" width=\"6.2755018684926185%\">  <svg x=\"0\" y=\"0\" width=\"100%\" height=\"100%\">    <text x=\"50%\" y=\"9\" font-size=\"12px\" fill=\"rgb(255,255,255)\" dominant-baseline=\"middle\" text-anchor=\"middle\">were</text>  </svg></svg><line x1=\"15.22775650061031%\" x2=\"18.201285641775485%\" y1=\"60\" y2=\"60\" id=\"_fb_tfiqyyltepsarvaxgsng_ind_16\" style=\"stroke:rgb(255.0, 0.0, 81.08083606031792);stroke-width:2; opacity: 0\"/><text x=\"16.714521071192898%\" y=\"71\" font-size=\"12px\" id=\"_fs_tfiqyyltepsarvaxgsng_ind_16\" fill=\"rgb(255.0, 0.0, 81.08083606031792)\" style=\"opacity: 0\" dominant-baseline=\"middle\" text-anchor=\"middle\">0.096</text><svg x=\"15.22775650061031%\" y=\"40\" height=\"20\" width=\"2.9735291411651747%\">  <svg x=\"0\" y=\"0\" width=\"100%\" height=\"100%\">    <text x=\"50%\" y=\"9\" font-size=\"12px\" fill=\"rgb(255,255,255)\" dominant-baseline=\"middle\" text-anchor=\"middle\">y</text>  </svg></svg><line x1=\"13.366704553563622%\" x2=\"15.22775650061031%\" y1=\"60\" y2=\"60\" id=\"_fb_tfiqyyltepsarvaxgsng_ind_4\" style=\"stroke:rgb(255.0, 0.0, 81.08083606031792);stroke-width:2; opacity: 0\"/><text x=\"14.297230527086967%\" y=\"71\" font-size=\"12px\" id=\"_fs_tfiqyyltepsarvaxgsng_ind_4\" fill=\"rgb(255.0, 0.0, 81.08083606031792)\" style=\"opacity: 0\" dominant-baseline=\"middle\" text-anchor=\"middle\">0.06</text><svg x=\"13.366704553563622%\" y=\"40\" height=\"20\" width=\"1.861051947046688%\">  <svg x=\"0\" y=\"0\" width=\"100%\" height=\"100%\">    <text x=\"50%\" y=\"9\" font-size=\"12px\" fill=\"rgb(255,255,255)\" dominant-baseline=\"middle\" text-anchor=\"middle\">time</text>  </svg></svg><line x1=\"11.72943899008668%\" x2=\"13.366704553563622%\" y1=\"60\" y2=\"60\" id=\"_fb_tfiqyyltepsarvaxgsng_ind_6\" style=\"stroke:rgb(255.0, 0.0, 81.08083606031792);stroke-width:2; opacity: 0\"/><text x=\"12.54807177182515%\" y=\"71\" font-size=\"12px\" id=\"_fs_tfiqyyltepsarvaxgsng_ind_6\" fill=\"rgb(255.0, 0.0, 81.08083606031792)\" style=\"opacity: 0\" dominant-baseline=\"middle\" text-anchor=\"middle\">0.053</text><svg x=\"11.72943899008668%\" y=\"40\" height=\"20\" width=\"1.6372655634769426%\">  <svg x=\"0\" y=\"0\" width=\"100%\" height=\"100%\">    <text x=\"50%\" y=\"9\" font-size=\"12px\" fill=\"rgb(255,255,255)\" dominant-baseline=\"middle\" text-anchor=\"middle\">hou</text>  </svg></svg><line x1=\"10.221577213762721%\" x2=\"11.72943899008668%\" y1=\"60\" y2=\"60\" id=\"_fb_tfiqyyltepsarvaxgsng_ind_10\" style=\"stroke:rgb(255.0, 0.0, 81.08083606031792);stroke-width:2; opacity: 0\"/><text x=\"10.9755081019247%\" y=\"71\" font-size=\"12px\" id=\"_fs_tfiqyyltepsarvaxgsng_ind_10\" fill=\"rgb(255.0, 0.0, 81.08083606031792)\" style=\"opacity: 0\" dominant-baseline=\"middle\" text-anchor=\"middle\">0.049</text><svg x=\"10.221577213762721%\" y=\"40\" height=\"20\" width=\"1.5078617763239581%\">  <svg x=\"0\" y=\"0\" width=\"100%\" height=\"100%\">    <text x=\"50%\" y=\"9\" font-size=\"12px\" fill=\"rgb(255,255,255)\" dominant-baseline=\"middle\" text-anchor=\"middle\">corn</text>  </svg></svg><line x1=\"9.194042611098428%\" x2=\"10.221577213762721%\" y1=\"60\" y2=\"60\" id=\"_fb_tfiqyyltepsarvaxgsng_ind_1\" style=\"stroke:rgb(255.0, 0.0, 81.08083606031792);stroke-width:2; opacity: 0\"/><text x=\"9.707809912430575%\" y=\"71\" font-size=\"12px\" id=\"_fs_tfiqyyltepsarvaxgsng_ind_1\" fill=\"rgb(255.0, 0.0, 81.08083606031792)\" style=\"opacity: 0\" dominant-baseline=\"middle\" text-anchor=\"middle\">0.033</text><svg x=\"9.194042611098428%\" y=\"40\" height=\"20\" width=\"1.0275346026642929%\">  <svg x=\"0\" y=\"0\" width=\"100%\" height=\"100%\">    <text x=\"50%\" y=\"9\" font-size=\"12px\" fill=\"rgb(255,255,255)\" dominant-baseline=\"middle\" text-anchor=\"middle\">Total</text>  </svg></svg><line x1=\"8.333333307577128%\" x2=\"9.194042611098428%\" y1=\"60\" y2=\"60\" id=\"_fb_tfiqyyltepsarvaxgsng_ind_11\" style=\"stroke:rgb(255.0, 0.0, 81.08083606031792);stroke-width:2; opacity: 0\"/><text x=\"8.763687959337778%\" y=\"71\" font-size=\"12px\" id=\"_fs_tfiqyyltepsarvaxgsng_ind_11\" fill=\"rgb(255.0, 0.0, 81.08083606031792)\" style=\"opacity: 0\" dominant-baseline=\"middle\" text-anchor=\"middle\">0.028</text><svg x=\"8.333333307577128%\" y=\"40\" height=\"20\" width=\"0.8607093035213005%\">  <svg x=\"0\" y=\"0\" width=\"100%\" height=\"100%\">    <text x=\"50%\" y=\"9\" font-size=\"12px\" fill=\"rgb(255,255,255)\" dominant-baseline=\"middle\" text-anchor=\"middle\">s</text>  </svg></svg><g transform=\"translate(0,0)\">  <svg x=\"31.538226698339834%\" y=\"40\" height=\"18\" overflow=\"visible\" width=\"30\">    <path d=\"M 0 -9 l 6 18 L 0 25\" fill=\"none\" style=\"stroke:rgb(255.0, 0.0, 81.08083606031792);stroke-width:2\" />  </svg></g><g transform=\"translate(2,0)\">  <svg x=\"31.538226698339834%\" y=\"40\" height=\"18\" overflow=\"visible\" width=\"30\">    <path d=\"M 0 -9 l 6 18 L 0 25\" fill=\"none\" style=\"stroke:rgb(255.0, 0.0, 81.08083606031792);stroke-width:2\" />  </svg></g><g transform=\"translate(4,0)\">  <svg x=\"31.538226698339834%\" y=\"40\" height=\"18\" overflow=\"visible\" width=\"30\">    <path d=\"M 0 -9 l 6 18 L 0 25\" fill=\"none\" style=\"stroke:rgb(255.0, 0.0, 81.08083606031792);stroke-width:2\" />  </svg></g><g transform=\"translate(6,0)\">  <svg x=\"31.538226698339834%\" y=\"40\" height=\"18\" overflow=\"visible\" width=\"30\">    <path d=\"M 0 -9 l 6 18 L 0 25\" fill=\"none\" style=\"stroke:rgb(255.0, 0.0, 81.08083606031792);stroke-width:2\" />  </svg></g><g transform=\"translate(-8,0)\">  <svg x=\"31.538226698339834%\" y=\"40\" height=\"18\" overflow=\"visible\" width=\"30\">    <path d=\"M 0 -9 l 6 18 L 0 25\" fill=\"none\" style=\"stroke:rgb(255.0, 0.0, 81.08083606031792);stroke-width:2\" />  </svg></g><g transform=\"translate(-6,0)\">  <svg x=\"31.538226698339834%\" y=\"40\" height=\"18\" overflow=\"visible\" width=\"30\">    <path d=\"M 0 -9 l 6 18 L 0 25\" fill=\"none\" style=\"stroke:rgb(255.0, 0.0, 81.08083606031792);stroke-width:2\" />  </svg></g><g transform=\"translate(-4,0)\">  <svg x=\"31.538226698339834%\" y=\"40\" height=\"18\" overflow=\"visible\" width=\"30\">    <path d=\"M 0 -9 l 6 18 L 0 25\" fill=\"none\" style=\"stroke:rgb(255.0, 0.0, 81.08083606031792);stroke-width:2\" />  </svg></g><g transform=\"translate(-2,0)\">  <svg x=\"31.538226698339834%\" y=\"40\" height=\"18\" overflow=\"visible\" width=\"30\">    <path d=\"M 0 -9 l 6 18 L 0 25\" fill=\"none\" style=\"stroke:rgb(255.0, 0.0, 81.08083606031792);stroke-width:2\" />  </svg></g><g transform=\"translate(0,0)\">  <svg x=\"24.476787510268103%\" y=\"40\" height=\"18\" overflow=\"visible\" width=\"30\">    <path d=\"M 0 -9 l 6 18 L 0 25\" fill=\"none\" style=\"stroke:rgb(255.0, 0.0, 81.08083606031792);stroke-width:2\" />  </svg></g><g transform=\"translate(2,0)\">  <svg x=\"24.476787510268103%\" y=\"40\" height=\"18\" overflow=\"visible\" width=\"30\">    <path d=\"M 0 -9 l 6 18 L 0 25\" fill=\"none\" style=\"stroke:rgb(255.0, 0.0, 81.08083606031792);stroke-width:2\" />  </svg></g><g transform=\"translate(4,0)\">  <svg x=\"24.476787510268103%\" y=\"40\" height=\"18\" overflow=\"visible\" width=\"30\">    <path d=\"M 0 -9 l 6 18 L 0 25\" fill=\"none\" style=\"stroke:rgb(255.0, 0.0, 81.08083606031792);stroke-width:2\" />  </svg></g><g transform=\"translate(6,0)\">  <svg x=\"24.476787510268103%\" y=\"40\" height=\"18\" overflow=\"visible\" width=\"30\">    <path d=\"M 0 -9 l 6 18 L 0 25\" fill=\"none\" style=\"stroke:rgb(255.0, 0.0, 81.08083606031792);stroke-width:2\" />  </svg></g><g transform=\"translate(-8,0)\">  <svg x=\"24.476787510268103%\" y=\"40\" height=\"18\" overflow=\"visible\" width=\"30\">    <path d=\"M 0 -9 l 6 18 L 0 25\" fill=\"none\" style=\"stroke:rgb(255.0, 0.0, 81.08083606031792);stroke-width:2\" />  </svg></g><g transform=\"translate(-6,0)\">  <svg x=\"24.476787510268103%\" y=\"40\" height=\"18\" overflow=\"visible\" width=\"30\">    <path d=\"M 0 -9 l 6 18 L 0 25\" fill=\"none\" style=\"stroke:rgb(255.0, 0.0, 81.08083606031792);stroke-width:2\" />  </svg></g><g transform=\"translate(-4,0)\">  <svg x=\"24.476787510268103%\" y=\"40\" height=\"18\" overflow=\"visible\" width=\"30\">    <path d=\"M 0 -9 l 6 18 L 0 25\" fill=\"none\" style=\"stroke:rgb(255.0, 0.0, 81.08083606031792);stroke-width:2\" />  </svg></g><g transform=\"translate(-2,0)\">  <svg x=\"24.476787510268103%\" y=\"40\" height=\"18\" overflow=\"visible\" width=\"30\">    <path d=\"M 0 -9 l 6 18 L 0 25\" fill=\"none\" style=\"stroke:rgb(255.0, 0.0, 81.08083606031792);stroke-width:2\" />  </svg></g><g transform=\"translate(0,0)\">  <svg x=\"18.201285641775485%\" y=\"40\" height=\"18\" overflow=\"visible\" width=\"30\">    <path d=\"M 0 -9 l 6 18 L 0 25\" fill=\"none\" style=\"stroke:rgb(255.0, 0.0, 81.08083606031792);stroke-width:2\" />  </svg></g><g transform=\"translate(2,0)\">  <svg x=\"18.201285641775485%\" y=\"40\" height=\"18\" overflow=\"visible\" width=\"30\">    <path d=\"M 0 -9 l 6 18 L 0 25\" fill=\"none\" style=\"stroke:rgb(255.0, 0.0, 81.08083606031792);stroke-width:2\" />  </svg></g><g transform=\"translate(4,0)\">  <svg x=\"18.201285641775485%\" y=\"40\" height=\"18\" overflow=\"visible\" width=\"30\">    <path d=\"M 0 -9 l 6 18 L 0 25\" fill=\"none\" style=\"stroke:rgb(255.0, 0.0, 81.08083606031792);stroke-width:2\" />  </svg></g><g transform=\"translate(6,0)\">  <svg x=\"18.201285641775485%\" y=\"40\" height=\"18\" overflow=\"visible\" width=\"30\">    <path d=\"M 0 -9 l 6 18 L 0 25\" fill=\"none\" style=\"stroke:rgb(255.0, 0.0, 81.08083606031792);stroke-width:2\" />  </svg></g><g transform=\"translate(-8,0)\">  <svg x=\"18.201285641775485%\" y=\"40\" height=\"18\" overflow=\"visible\" width=\"30\">    <path d=\"M 0 -9 l 6 18 L 0 25\" fill=\"none\" style=\"stroke:rgb(255.0, 0.0, 81.08083606031792);stroke-width:2\" />  </svg></g><g transform=\"translate(-6,0)\">  <svg x=\"18.201285641775485%\" y=\"40\" height=\"18\" overflow=\"visible\" width=\"30\">    <path d=\"M 0 -9 l 6 18 L 0 25\" fill=\"none\" style=\"stroke:rgb(255.0, 0.0, 81.08083606031792);stroke-width:2\" />  </svg></g><g transform=\"translate(-4,0)\">  <svg x=\"18.201285641775485%\" y=\"40\" height=\"18\" overflow=\"visible\" width=\"30\">    <path d=\"M 0 -9 l 6 18 L 0 25\" fill=\"none\" style=\"stroke:rgb(255.0, 0.0, 81.08083606031792);stroke-width:2\" />  </svg></g><g transform=\"translate(-2,0)\">  <svg x=\"18.201285641775485%\" y=\"40\" height=\"18\" overflow=\"visible\" width=\"30\">    <path d=\"M 0 -9 l 6 18 L 0 25\" fill=\"none\" style=\"stroke:rgb(255.0, 0.0, 81.08083606031792);stroke-width:2\" />  </svg></g><g transform=\"translate(0,0)\">  <svg x=\"15.22775650061031%\" y=\"40\" height=\"18\" overflow=\"visible\" width=\"30\">    <path d=\"M 0 -9 l 6 18 L 0 25\" fill=\"none\" style=\"stroke:rgb(255.0, 0.0, 81.08083606031792);stroke-width:2\" />  </svg></g><g transform=\"translate(2,0)\">  <svg x=\"15.22775650061031%\" y=\"40\" height=\"18\" overflow=\"visible\" width=\"30\">    <path d=\"M 0 -9 l 6 18 L 0 25\" fill=\"none\" style=\"stroke:rgb(255.0, 0.0, 81.08083606031792);stroke-width:2\" />  </svg></g><g transform=\"translate(4,0)\">  <svg x=\"15.22775650061031%\" y=\"40\" height=\"18\" overflow=\"visible\" width=\"30\">    <path d=\"M 0 -9 l 6 18 L 0 25\" fill=\"none\" style=\"stroke:rgb(255.0, 0.0, 81.08083606031792);stroke-width:2\" />  </svg></g><g transform=\"translate(6,0)\">  <svg x=\"15.22775650061031%\" y=\"40\" height=\"18\" overflow=\"visible\" width=\"30\">    <path d=\"M 0 -9 l 6 18 L 0 25\" fill=\"none\" style=\"stroke:rgb(255.0, 0.0, 81.08083606031792);stroke-width:2\" />  </svg></g><g transform=\"translate(-8,0)\">  <svg x=\"15.22775650061031%\" y=\"40\" height=\"18\" overflow=\"visible\" width=\"30\">    <path d=\"M 0 -9 l 6 18 L 0 25\" fill=\"none\" style=\"stroke:rgb(255.0, 0.0, 81.08083606031792);stroke-width:2\" />  </svg></g><g transform=\"translate(-6,0)\">  <svg x=\"15.22775650061031%\" y=\"40\" height=\"18\" overflow=\"visible\" width=\"30\">    <path d=\"M 0 -9 l 6 18 L 0 25\" fill=\"none\" style=\"stroke:rgb(255.0, 0.0, 81.08083606031792);stroke-width:2\" />  </svg></g><g transform=\"translate(-4,0)\">  <svg x=\"15.22775650061031%\" y=\"40\" height=\"18\" overflow=\"visible\" width=\"30\">    <path d=\"M 0 -9 l 6 18 L 0 25\" fill=\"none\" style=\"stroke:rgb(255.0, 0.0, 81.08083606031792);stroke-width:2\" />  </svg></g><g transform=\"translate(-2,0)\">  <svg x=\"15.22775650061031%\" y=\"40\" height=\"18\" overflow=\"visible\" width=\"30\">    <path d=\"M 0 -9 l 6 18 L 0 25\" fill=\"none\" style=\"stroke:rgb(255.0, 0.0, 81.08083606031792);stroke-width:2\" />  </svg></g><g transform=\"translate(0,0)\">  <svg x=\"13.366704553563622%\" y=\"40\" height=\"18\" overflow=\"visible\" width=\"30\">    <path d=\"M 0 -9 l 6 18 L 0 25\" fill=\"none\" style=\"stroke:rgb(255.0, 0.0, 81.08083606031792);stroke-width:2\" />  </svg></g><g transform=\"translate(2,0)\">  <svg x=\"13.366704553563622%\" y=\"40\" height=\"18\" overflow=\"visible\" width=\"30\">    <path d=\"M 0 -9 l 6 18 L 0 25\" fill=\"none\" style=\"stroke:rgb(255.0, 0.0, 81.08083606031792);stroke-width:2\" />  </svg></g><g transform=\"translate(4,0)\">  <svg x=\"13.366704553563622%\" y=\"40\" height=\"18\" overflow=\"visible\" width=\"30\">    <path d=\"M 0 -9 l 6 18 L 0 25\" fill=\"none\" style=\"stroke:rgb(255.0, 0.0, 81.08083606031792);stroke-width:2\" />  </svg></g><g transform=\"translate(6,0)\">  <svg x=\"13.366704553563622%\" y=\"40\" height=\"18\" overflow=\"visible\" width=\"30\">    <path d=\"M 0 -9 l 6 18 L 0 25\" fill=\"none\" style=\"stroke:rgb(255.0, 0.0, 81.08083606031792);stroke-width:2\" />  </svg></g><g transform=\"translate(-8,0)\">  <svg x=\"13.366704553563622%\" y=\"40\" height=\"18\" overflow=\"visible\" width=\"30\">    <path d=\"M 0 -9 l 6 18 L 0 25\" fill=\"none\" style=\"stroke:rgb(255.0, 0.0, 81.08083606031792);stroke-width:2\" />  </svg></g><g transform=\"translate(-6,0)\">  <svg x=\"13.366704553563622%\" y=\"40\" height=\"18\" overflow=\"visible\" width=\"30\">    <path d=\"M 0 -9 l 6 18 L 0 25\" fill=\"none\" style=\"stroke:rgb(255.0, 0.0, 81.08083606031792);stroke-width:2\" />  </svg></g><g transform=\"translate(-4,0)\">  <svg x=\"13.366704553563622%\" y=\"40\" height=\"18\" overflow=\"visible\" width=\"30\">    <path d=\"M 0 -9 l 6 18 L 0 25\" fill=\"none\" style=\"stroke:rgb(255.0, 0.0, 81.08083606031792);stroke-width:2\" />  </svg></g><g transform=\"translate(-2,0)\">  <svg x=\"13.366704553563622%\" y=\"40\" height=\"18\" overflow=\"visible\" width=\"30\">    <path d=\"M 0 -9 l 6 18 L 0 25\" fill=\"none\" style=\"stroke:rgb(255.0, 0.0, 81.08083606031792);stroke-width:2\" />  </svg></g><g transform=\"translate(0,0)\">  <svg x=\"11.72943899008668%\" y=\"40\" height=\"18\" overflow=\"visible\" width=\"30\">    <path d=\"M 0 -9 l 6 18 L 0 25\" fill=\"none\" style=\"stroke:rgb(255.0, 0.0, 81.08083606031792);stroke-width:2\" />  </svg></g><g transform=\"translate(2,0)\">  <svg x=\"11.72943899008668%\" y=\"40\" height=\"18\" overflow=\"visible\" width=\"30\">    <path d=\"M 0 -9 l 6 18 L 0 25\" fill=\"none\" style=\"stroke:rgb(255.0, 0.0, 81.08083606031792);stroke-width:2\" />  </svg></g><g transform=\"translate(4,0)\">  <svg x=\"11.72943899008668%\" y=\"40\" height=\"18\" overflow=\"visible\" width=\"30\">    <path d=\"M 0 -9 l 6 18 L 0 25\" fill=\"none\" style=\"stroke:rgb(255.0, 0.0, 81.08083606031792);stroke-width:2\" />  </svg></g><g transform=\"translate(6,0)\">  <svg x=\"11.72943899008668%\" y=\"40\" height=\"18\" overflow=\"visible\" width=\"30\">    <path d=\"M 0 -9 l 6 18 L 0 25\" fill=\"none\" style=\"stroke:rgb(255.0, 0.0, 81.08083606031792);stroke-width:2\" />  </svg></g><g transform=\"translate(-8,0)\">  <svg x=\"11.72943899008668%\" y=\"40\" height=\"18\" overflow=\"visible\" width=\"30\">    <path d=\"M 0 -9 l 6 18 L 0 25\" fill=\"none\" style=\"stroke:rgb(255.0, 0.0, 81.08083606031792);stroke-width:2\" />  </svg></g><g transform=\"translate(-6,0)\">  <svg x=\"11.72943899008668%\" y=\"40\" height=\"18\" overflow=\"visible\" width=\"30\">    <path d=\"M 0 -9 l 6 18 L 0 25\" fill=\"none\" style=\"stroke:rgb(255.0, 0.0, 81.08083606031792);stroke-width:2\" />  </svg></g><g transform=\"translate(-4,0)\">  <svg x=\"11.72943899008668%\" y=\"40\" height=\"18\" overflow=\"visible\" width=\"30\">    <path d=\"M 0 -9 l 6 18 L 0 25\" fill=\"none\" style=\"stroke:rgb(255.0, 0.0, 81.08083606031792);stroke-width:2\" />  </svg></g><g transform=\"translate(-2,0)\">  <svg x=\"11.72943899008668%\" y=\"40\" height=\"18\" overflow=\"visible\" width=\"30\">    <path d=\"M 0 -9 l 6 18 L 0 25\" fill=\"none\" style=\"stroke:rgb(255.0, 0.0, 81.08083606031792);stroke-width:2\" />  </svg></g><g transform=\"translate(0,0)\">  <svg x=\"10.221577213762721%\" y=\"40\" height=\"18\" overflow=\"visible\" width=\"30\">    <path d=\"M 0 -9 l 6 18 L 0 25\" fill=\"none\" style=\"stroke:rgb(255.0, 0.0, 81.08083606031792);stroke-width:2\" />  </svg></g><g transform=\"translate(2,0)\">  <svg x=\"10.221577213762721%\" y=\"40\" height=\"18\" overflow=\"visible\" width=\"30\">    <path d=\"M 0 -9 l 6 18 L 0 25\" fill=\"none\" style=\"stroke:rgb(255.0, 0.0, 81.08083606031792);stroke-width:2\" />  </svg></g><g transform=\"translate(4,0)\">  <svg x=\"10.221577213762721%\" y=\"40\" height=\"18\" overflow=\"visible\" width=\"30\">    <path d=\"M 0 -9 l 6 18 L 0 25\" fill=\"none\" style=\"stroke:rgb(255.0, 0.0, 81.08083606031792);stroke-width:2\" />  </svg></g><g transform=\"translate(6,0)\">  <svg x=\"10.221577213762721%\" y=\"40\" height=\"18\" overflow=\"visible\" width=\"30\">    <path d=\"M 0 -9 l 6 18 L 0 25\" fill=\"none\" style=\"stroke:rgb(255.0, 0.0, 81.08083606031792);stroke-width:2\" />  </svg></g><g transform=\"translate(-8,0)\">  <svg x=\"10.221577213762721%\" y=\"40\" height=\"18\" overflow=\"visible\" width=\"30\">    <path d=\"M 0 -9 l 6 18 L 0 25\" fill=\"none\" style=\"stroke:rgb(255.0, 0.0, 81.08083606031792);stroke-width:2\" />  </svg></g><g transform=\"translate(-6,0)\">  <svg x=\"10.221577213762721%\" y=\"40\" height=\"18\" overflow=\"visible\" width=\"30\">    <path d=\"M 0 -9 l 6 18 L 0 25\" fill=\"none\" style=\"stroke:rgb(255.0, 0.0, 81.08083606031792);stroke-width:2\" />  </svg></g><g transform=\"translate(-4,0)\">  <svg x=\"10.221577213762721%\" y=\"40\" height=\"18\" overflow=\"visible\" width=\"30\">    <path d=\"M 0 -9 l 6 18 L 0 25\" fill=\"none\" style=\"stroke:rgb(255.0, 0.0, 81.08083606031792);stroke-width:2\" />  </svg></g><g transform=\"translate(-2,0)\">  <svg x=\"10.221577213762721%\" y=\"40\" height=\"18\" overflow=\"visible\" width=\"30\">    <path d=\"M 0 -9 l 6 18 L 0 25\" fill=\"none\" style=\"stroke:rgb(255.0, 0.0, 81.08083606031792);stroke-width:2\" />  </svg></g><g transform=\"translate(0,0)\">  <svg x=\"9.194042611098428%\" y=\"40\" height=\"18\" overflow=\"visible\" width=\"30\">    <path d=\"M 0 -9 l 6 18 L 0 25\" fill=\"none\" style=\"stroke:rgb(255.0, 0.0, 81.08083606031792);stroke-width:2\" />  </svg></g><g transform=\"translate(2,0)\">  <svg x=\"9.194042611098428%\" y=\"40\" height=\"18\" overflow=\"visible\" width=\"30\">    <path d=\"M 0 -9 l 6 18 L 0 25\" fill=\"none\" style=\"stroke:rgb(255.0, 0.0, 81.08083606031792);stroke-width:2\" />  </svg></g><g transform=\"translate(4,0)\">  <svg x=\"9.194042611098428%\" y=\"40\" height=\"18\" overflow=\"visible\" width=\"30\">    <path d=\"M 0 -9 l 6 18 L 0 25\" fill=\"none\" style=\"stroke:rgb(255.0, 0.0, 81.08083606031792);stroke-width:2\" />  </svg></g><g transform=\"translate(6,0)\">  <svg x=\"9.194042611098428%\" y=\"40\" height=\"18\" overflow=\"visible\" width=\"30\">    <path d=\"M 0 -9 l 6 18 L 0 25\" fill=\"none\" style=\"stroke:rgb(255.0, 0.0, 81.08083606031792);stroke-width:2\" />  </svg></g><g transform=\"translate(-8,0)\">  <svg x=\"9.194042611098428%\" y=\"40\" height=\"18\" overflow=\"visible\" width=\"30\">    <path d=\"M 0 -9 l 6 18 L 0 25\" fill=\"none\" style=\"stroke:rgb(255.0, 0.0, 81.08083606031792);stroke-width:2\" />  </svg></g><g transform=\"translate(-6,0)\">  <svg x=\"9.194042611098428%\" y=\"40\" height=\"18\" overflow=\"visible\" width=\"30\">    <path d=\"M 0 -9 l 6 18 L 0 25\" fill=\"none\" style=\"stroke:rgb(255.0, 0.0, 81.08083606031792);stroke-width:2\" />  </svg></g><g transform=\"translate(-4,0)\">  <svg x=\"9.194042611098428%\" y=\"40\" height=\"18\" overflow=\"visible\" width=\"30\">    <path d=\"M 0 -9 l 6 18 L 0 25\" fill=\"none\" style=\"stroke:rgb(255.0, 0.0, 81.08083606031792);stroke-width:2\" />  </svg></g><g transform=\"translate(-2,0)\">  <svg x=\"9.194042611098428%\" y=\"40\" height=\"18\" overflow=\"visible\" width=\"30\">    <path d=\"M 0 -9 l 6 18 L 0 25\" fill=\"none\" style=\"stroke:rgb(255.0, 0.0, 81.08083606031792);stroke-width:2\" />  </svg></g><rect transform=\"translate(-8,0)\" x=\"76.72254063258588%\" y=\"40\" width=\"8\" height=\"18\" style=\"fill:rgb(255.0, 0.0, 81.08083606031792)\"/><g transform=\"translate(-11.5,0)\">  <svg x=\"8.333333307577114%\" y=\"40\" height=\"18\" overflow=\"visible\" width=\"30\">    <path d=\"M 10 -9 l 6 18 L 10 25 L 0 25 L 0 -9\" fill=\"#ffffff\" style=\"stroke:rgb(255,255,255);stroke-width:2\" />  </svg></g><g transform=\"translate(-1.5,0)\">  <svg x=\"76.72254063258588%\" y=\"40\" height=\"18\" overflow=\"visible\" width=\"30\">    <path d=\"M 0 -9 l 6 18 L 0 25\" fill=\"none\" style=\"stroke:rgb(255, 195, 213);stroke-width:2\" />  </svg></g><rect x=\"31.538226698339834%\" y=\"40\" height=\"20\" width=\"45.18431393424604%\"      onmouseover=\"document.getElementById('_tp_tfiqyyltepsarvaxgsng_ind_2').style.textDecoration = 'underline';document.getElementById('_fs_tfiqyyltepsarvaxgsng_ind_2').style.opacity = 1;document.getElementById('_fb_tfiqyyltepsarvaxgsng_ind_2').style.opacity = 1;\"      onmouseout=\"document.getElementById('_tp_tfiqyyltepsarvaxgsng_ind_2').style.textDecoration = 'none';document.getElementById('_fs_tfiqyyltepsarvaxgsng_ind_2').style.opacity = 0;document.getElementById('_fb_tfiqyyltepsarvaxgsng_ind_2').style.opacity = 0;\" style=\"fill:rgb(0,0,0,0)\" /><g transform=\"translate(-1.5,0)\">  <svg x=\"31.538226698339834%\" y=\"40\" height=\"18\" overflow=\"visible\" width=\"30\">    <path d=\"M 0 -9 l 6 18 L 0 25\" fill=\"none\" style=\"stroke:rgb(255, 195, 213);stroke-width:2\" />  </svg></g><rect x=\"24.476787510268103%\" y=\"40\" height=\"20\" width=\"7.061439188071731%\"      onmouseover=\"document.getElementById('_tp_tfiqyyltepsarvaxgsng_ind_3').style.textDecoration = 'underline';document.getElementById('_fs_tfiqyyltepsarvaxgsng_ind_3').style.opacity = 1;document.getElementById('_fb_tfiqyyltepsarvaxgsng_ind_3').style.opacity = 1;\"      onmouseout=\"document.getElementById('_tp_tfiqyyltepsarvaxgsng_ind_3').style.textDecoration = 'none';document.getElementById('_fs_tfiqyyltepsarvaxgsng_ind_3').style.opacity = 0;document.getElementById('_fb_tfiqyyltepsarvaxgsng_ind_3').style.opacity = 0;\" style=\"fill:rgb(0,0,0,0)\" /><g transform=\"translate(-1.5,0)\">  <svg x=\"24.476787510268103%\" y=\"40\" height=\"18\" overflow=\"visible\" width=\"30\">    <path d=\"M 0 -9 l 6 18 L 0 25\" fill=\"none\" style=\"stroke:rgb(255, 195, 213);stroke-width:2\" />  </svg></g><rect x=\"18.201285641775485%\" y=\"40\" height=\"20\" width=\"6.2755018684926185%\"      onmouseover=\"document.getElementById('_tp_tfiqyyltepsarvaxgsng_ind_12').style.textDecoration = 'underline';document.getElementById('_fs_tfiqyyltepsarvaxgsng_ind_12').style.opacity = 1;document.getElementById('_fb_tfiqyyltepsarvaxgsng_ind_12').style.opacity = 1;\"      onmouseout=\"document.getElementById('_tp_tfiqyyltepsarvaxgsng_ind_12').style.textDecoration = 'none';document.getElementById('_fs_tfiqyyltepsarvaxgsng_ind_12').style.opacity = 0;document.getElementById('_fb_tfiqyyltepsarvaxgsng_ind_12').style.opacity = 0;\" style=\"fill:rgb(0,0,0,0)\" /><g transform=\"translate(-1.5,0)\">  <svg x=\"18.201285641775485%\" y=\"40\" height=\"18\" overflow=\"visible\" width=\"30\">    <path d=\"M 0 -9 l 6 18 L 0 25\" fill=\"none\" style=\"stroke:rgb(255, 195, 213);stroke-width:2\" />  </svg></g><rect x=\"15.22775650061031%\" y=\"40\" height=\"20\" width=\"2.9735291411651747%\"      onmouseover=\"document.getElementById('_tp_tfiqyyltepsarvaxgsng_ind_16').style.textDecoration = 'underline';document.getElementById('_fs_tfiqyyltepsarvaxgsng_ind_16').style.opacity = 1;document.getElementById('_fb_tfiqyyltepsarvaxgsng_ind_16').style.opacity = 1;\"      onmouseout=\"document.getElementById('_tp_tfiqyyltepsarvaxgsng_ind_16').style.textDecoration = 'none';document.getElementById('_fs_tfiqyyltepsarvaxgsng_ind_16').style.opacity = 0;document.getElementById('_fb_tfiqyyltepsarvaxgsng_ind_16').style.opacity = 0;\" style=\"fill:rgb(0,0,0,0)\" /><g transform=\"translate(-1.5,0)\">  <svg x=\"15.22775650061031%\" y=\"40\" height=\"18\" overflow=\"visible\" width=\"30\">    <path d=\"M 0 -9 l 6 18 L 0 25\" fill=\"none\" style=\"stroke:rgb(255, 195, 213);stroke-width:2\" />  </svg></g><rect x=\"13.366704553563622%\" y=\"40\" height=\"20\" width=\"1.861051947046688%\"      onmouseover=\"document.getElementById('_tp_tfiqyyltepsarvaxgsng_ind_4').style.textDecoration = 'underline';document.getElementById('_fs_tfiqyyltepsarvaxgsng_ind_4').style.opacity = 1;document.getElementById('_fb_tfiqyyltepsarvaxgsng_ind_4').style.opacity = 1;\"      onmouseout=\"document.getElementById('_tp_tfiqyyltepsarvaxgsng_ind_4').style.textDecoration = 'none';document.getElementById('_fs_tfiqyyltepsarvaxgsng_ind_4').style.opacity = 0;document.getElementById('_fb_tfiqyyltepsarvaxgsng_ind_4').style.opacity = 0;\" style=\"fill:rgb(0,0,0,0)\" /><g transform=\"translate(-1.5,0)\">  <svg x=\"13.366704553563622%\" y=\"40\" height=\"18\" overflow=\"visible\" width=\"30\">    <path d=\"M 0 -9 l 6 18 L 0 25\" fill=\"none\" style=\"stroke:rgb(255, 195, 213);stroke-width:2\" />  </svg></g><rect x=\"11.72943899008668%\" y=\"40\" height=\"20\" width=\"1.6372655634769426%\"      onmouseover=\"document.getElementById('_tp_tfiqyyltepsarvaxgsng_ind_6').style.textDecoration = 'underline';document.getElementById('_fs_tfiqyyltepsarvaxgsng_ind_6').style.opacity = 1;document.getElementById('_fb_tfiqyyltepsarvaxgsng_ind_6').style.opacity = 1;\"      onmouseout=\"document.getElementById('_tp_tfiqyyltepsarvaxgsng_ind_6').style.textDecoration = 'none';document.getElementById('_fs_tfiqyyltepsarvaxgsng_ind_6').style.opacity = 0;document.getElementById('_fb_tfiqyyltepsarvaxgsng_ind_6').style.opacity = 0;\" style=\"fill:rgb(0,0,0,0)\" /><g transform=\"translate(-1.5,0)\">  <svg x=\"11.72943899008668%\" y=\"40\" height=\"18\" overflow=\"visible\" width=\"30\">    <path d=\"M 0 -9 l 6 18 L 0 25\" fill=\"none\" style=\"stroke:rgb(255, 195, 213);stroke-width:2\" />  </svg></g><rect x=\"10.221577213762721%\" y=\"40\" height=\"20\" width=\"1.5078617763239581%\"      onmouseover=\"document.getElementById('_tp_tfiqyyltepsarvaxgsng_ind_10').style.textDecoration = 'underline';document.getElementById('_fs_tfiqyyltepsarvaxgsng_ind_10').style.opacity = 1;document.getElementById('_fb_tfiqyyltepsarvaxgsng_ind_10').style.opacity = 1;\"      onmouseout=\"document.getElementById('_tp_tfiqyyltepsarvaxgsng_ind_10').style.textDecoration = 'none';document.getElementById('_fs_tfiqyyltepsarvaxgsng_ind_10').style.opacity = 0;document.getElementById('_fb_tfiqyyltepsarvaxgsng_ind_10').style.opacity = 0;\" style=\"fill:rgb(0,0,0,0)\" /><g transform=\"translate(-1.5,0)\">  <svg x=\"10.221577213762721%\" y=\"40\" height=\"18\" overflow=\"visible\" width=\"30\">    <path d=\"M 0 -9 l 6 18 L 0 25\" fill=\"none\" style=\"stroke:rgb(255, 195, 213);stroke-width:2\" />  </svg></g><rect x=\"9.194042611098428%\" y=\"40\" height=\"20\" width=\"1.0275346026642929%\"      onmouseover=\"document.getElementById('_tp_tfiqyyltepsarvaxgsng_ind_1').style.textDecoration = 'underline';document.getElementById('_fs_tfiqyyltepsarvaxgsng_ind_1').style.opacity = 1;document.getElementById('_fb_tfiqyyltepsarvaxgsng_ind_1').style.opacity = 1;\"      onmouseout=\"document.getElementById('_tp_tfiqyyltepsarvaxgsng_ind_1').style.textDecoration = 'none';document.getElementById('_fs_tfiqyyltepsarvaxgsng_ind_1').style.opacity = 0;document.getElementById('_fb_tfiqyyltepsarvaxgsng_ind_1').style.opacity = 0;\" style=\"fill:rgb(0,0,0,0)\" /><rect x=\"8.333333307577128%\" y=\"40\" height=\"20\" width=\"0.8607093035213005%\"      onmouseover=\"document.getElementById('_tp_tfiqyyltepsarvaxgsng_ind_11').style.textDecoration = 'underline';document.getElementById('_fs_tfiqyyltepsarvaxgsng_ind_11').style.opacity = 1;document.getElementById('_fb_tfiqyyltepsarvaxgsng_ind_11').style.opacity = 1;\"      onmouseout=\"document.getElementById('_tp_tfiqyyltepsarvaxgsng_ind_11').style.textDecoration = 'none';document.getElementById('_fs_tfiqyyltepsarvaxgsng_ind_11').style.opacity = 0;document.getElementById('_fb_tfiqyyltepsarvaxgsng_ind_11').style.opacity = 0;\" style=\"fill:rgb(0,0,0,0)\" /><rect x=\"76.72254063258588%\" width=\"14.944125750762353%\" y=\"40\" height=\"18\" style=\"fill:rgb(0.0, 138.56128015770727, 250.76166088685727); stroke-width:0; stroke:rgb(0,0,0)\" /><line x1=\"76.72254063258588%\" x2=\"81.08800902897732%\" y1=\"60\" y2=\"60\" id=\"_fb_tfiqyyltepsarvaxgsng_ind_15\" style=\"stroke:rgb(0.0, 138.56128015770727, 250.76166088685727);stroke-width:2; opacity: 0\"/><text x=\"78.9052748307816%\" y=\"71\" font-size=\"12px\" fill=\"rgb(0.0, 138.56128015770727, 250.76166088685727)\" id=\"_fs_tfiqyyltepsarvaxgsng_ind_15\" style=\"opacity: 0\" dominant-baseline=\"middle\" text-anchor=\"middle\">-0.141</text><svg x=\"76.72254063258588%\" y=\"40\" height=\"20\" width=\"4.365468396391449%\">  <svg x=\"0\" y=\"0\" width=\"100%\" height=\"100%\">    <text x=\"50%\" y=\"9\" font-size=\"12px\" fill=\"rgb(255,255,255)\" dominant-baseline=\"middle\" text-anchor=\"middle\">crisp</text>  </svg></svg><line x1=\"81.08800902897732%\" x2=\"84.80090981959515%\" y1=\"60\" y2=\"60\" id=\"_fb_tfiqyyltepsarvaxgsng_ind_5\" style=\"stroke:rgb(0.0, 138.56128015770727, 250.76166088685727);stroke-width:2; opacity: 0\"/><text x=\"82.94445942428624%\" y=\"71\" font-size=\"12px\" fill=\"rgb(0.0, 138.56128015770727, 250.76166088685727)\" id=\"_fs_tfiqyyltepsarvaxgsng_ind_5\" style=\"opacity: 0\" dominant-baseline=\"middle\" text-anchor=\"middle\">-0.12</text><svg x=\"81.08800902897732%\" y=\"40\" height=\"20\" width=\"3.712900790617823%\">  <svg x=\"0\" y=\"0\" width=\"100%\" height=\"100%\">    <text x=\"50%\" y=\"9\" font-size=\"12px\" fill=\"rgb(255,255,255)\" dominant-baseline=\"middle\" text-anchor=\"middle\">event</text>  </svg></svg><line x1=\"84.80090981959515%\" x2=\"86.67382009668013%\" y1=\"60\" y2=\"60\" id=\"_fb_tfiqyyltepsarvaxgsng_ind_9\" style=\"stroke:rgb(0.0, 138.56128015770727, 250.76166088685727);stroke-width:2; opacity: 0\"/><text x=\"85.73736495813765%\" y=\"71\" font-size=\"12px\" fill=\"rgb(0.0, 138.56128015770727, 250.76166088685727)\" id=\"_fs_tfiqyyltepsarvaxgsng_ind_9\" style=\"opacity: 0\" dominant-baseline=\"middle\" text-anchor=\"middle\">-0.061</text><svg x=\"84.80090981959515%\" y=\"40\" height=\"20\" width=\"1.8729102770849835%\">  <svg x=\"0\" y=\"0\" width=\"100%\" height=\"100%\">    <text x=\"50%\" y=\"9\" font-size=\"12px\" fill=\"rgb(255,255,255)\" dominant-baseline=\"middle\" text-anchor=\"middle\">pop</text>  </svg></svg><line x1=\"86.67382009668013%\" x2=\"88.50891453966067%\" y1=\"60\" y2=\"60\" id=\"_fb_tfiqyyltepsarvaxgsng_ind_13\" style=\"stroke:rgb(0.0, 138.56128015770727, 250.76166088685727);stroke-width:2; opacity: 0\"/><text x=\"87.5913673181704%\" y=\"71\" font-size=\"12px\" fill=\"rgb(0.0, 138.56128015770727, 250.76166088685727)\" id=\"_fs_tfiqyyltepsarvaxgsng_ind_13\" style=\"opacity: 0\" dominant-baseline=\"middle\" text-anchor=\"middle\">-0.059</text><svg x=\"86.67382009668013%\" y=\"40\" height=\"20\" width=\"1.8350944429805338%\">  <svg x=\"0\" y=\"0\" width=\"100%\" height=\"100%\">    <text x=\"50%\" y=\"9\" font-size=\"12px\" fill=\"rgb(255,255,255)\" dominant-baseline=\"middle\" text-anchor=\"middle\">nice</text>  </svg></svg><line x1=\"88.50891453966067%\" x2=\"90.19942257722397%\" y1=\"60\" y2=\"60\" id=\"_fb_tfiqyyltepsarvaxgsng_ind_8\" style=\"stroke:rgb(0.0, 138.56128015770727, 250.76166088685727);stroke-width:2; opacity: 0\"/><text x=\"89.35416855844232%\" y=\"71\" font-size=\"12px\" fill=\"rgb(0.0, 138.56128015770727, 250.76166088685727)\" id=\"_fs_tfiqyyltepsarvaxgsng_ind_8\" style=\"opacity: 0\" dominant-baseline=\"middle\" text-anchor=\"middle\">-0.055</text><svg x=\"88.50891453966067%\" y=\"40\" height=\"20\" width=\"1.6905080375633048%\">  <svg x=\"0\" y=\"0\" width=\"100%\" height=\"100%\">    <text x=\"50%\" y=\"9\" font-size=\"12px\" fill=\"rgb(255,255,255)\" dominant-baseline=\"middle\" text-anchor=\"middle\">the</text>  </svg></svg><line x1=\"90.19942257722397%\" x2=\"91.11611991264309%\" y1=\"60\" y2=\"60\" id=\"_fb_tfiqyyltepsarvaxgsng_ind_14\" style=\"stroke:rgb(0.0, 138.56128015770727, 250.76166088685727);stroke-width:2; opacity: 0\"/><text x=\"90.65777124493353%\" y=\"71\" font-size=\"12px\" fill=\"rgb(0.0, 138.56128015770727, 250.76166088685727)\" id=\"_fs_tfiqyyltepsarvaxgsng_ind_14\" style=\"opacity: 0\" dominant-baseline=\"middle\" text-anchor=\"middle\">-0.03</text><svg x=\"90.19942257722397%\" y=\"40\" height=\"20\" width=\"0.9166973354191157%\">  <svg x=\"0\" y=\"0\" width=\"100%\" height=\"100%\">    <text x=\"50%\" y=\"9\" font-size=\"12px\" fill=\"rgb(255,255,255)\" dominant-baseline=\"middle\" text-anchor=\"middle\">and</text>  </svg></svg><line x1=\"91.11611991264309%\" x2=\"91.66666638334821%\" y1=\"60\" y2=\"60\" id=\"_fb_tfiqyyltepsarvaxgsng_ind_7\" style=\"stroke:rgb(0.0, 138.56128015770727, 250.76166088685727);stroke-width:2; opacity: 0\"/><text x=\"91.39139314799564%\" y=\"71\" font-size=\"12px\" fill=\"rgb(0.0, 138.56128015770727, 250.76166088685727)\" id=\"_fs_tfiqyyltepsarvaxgsng_ind_7\" style=\"opacity: 0\" dominant-baseline=\"middle\" text-anchor=\"middle\">-0.018</text><svg x=\"91.11611991264309%\" y=\"40\" height=\"20\" width=\"0.5505464707051289%\">  <svg x=\"0\" y=\"0\" width=\"100%\" height=\"100%\">    <text x=\"50%\" y=\"9\" font-size=\"12px\" fill=\"rgb(255,255,255)\" dominant-baseline=\"middle\" text-anchor=\"middle\">gh</text>  </svg></svg><g transform=\"translate(-8,0)\">  <svg x=\"81.08800902897732%\" y=\"40\" height=\"18\" overflow=\"visible\" width=\"30\">    <path d=\"M 8 -9 l -6 18 L 8 25\" fill=\"none\" style=\"stroke:rgb(0.0, 138.56128015770727, 250.76166088685727);stroke-width:2\" />  </svg></g><g transform=\"translate(-10,0)\">  <svg x=\"81.08800902897732%\" y=\"40\" height=\"18\" overflow=\"visible\" width=\"30\">    <path d=\"M 8 -9 l -6 18 L 8 25\" fill=\"none\" style=\"stroke:rgb(0.0, 138.56128015770727, 250.76166088685727);stroke-width:2\" />  </svg></g><g transform=\"translate(-12,0)\">  <svg x=\"81.08800902897732%\" y=\"40\" height=\"18\" overflow=\"visible\" width=\"30\">    <path d=\"M 8 -9 l -6 18 L 8 25\" fill=\"none\" style=\"stroke:rgb(0.0, 138.56128015770727, 250.76166088685727);stroke-width:2\" />  </svg></g><g transform=\"translate(-14,0)\">  <svg x=\"81.08800902897732%\" y=\"40\" height=\"18\" overflow=\"visible\" width=\"30\">    <path d=\"M 8 -9 l -6 18 L 8 25\" fill=\"none\" style=\"stroke:rgb(0.0, 138.56128015770727, 250.76166088685727);stroke-width:2\" />  </svg></g><g transform=\"translate(2,0)\">  <svg x=\"81.08800902897732%\" y=\"40\" height=\"18\" overflow=\"visible\" width=\"30\">    <path d=\"M 8 -9 l -6 18 L 8 25\" fill=\"none\" style=\"stroke:rgb(0.0, 138.56128015770727, 250.76166088685727);stroke-width:2\" />  </svg></g><g transform=\"translate(0,0)\">  <svg x=\"81.08800902897732%\" y=\"40\" height=\"18\" overflow=\"visible\" width=\"30\">    <path d=\"M 8 -9 l -6 18 L 8 25\" fill=\"none\" style=\"stroke:rgb(0.0, 138.56128015770727, 250.76166088685727);stroke-width:2\" />  </svg></g><g transform=\"translate(-2,0)\">  <svg x=\"81.08800902897732%\" y=\"40\" height=\"18\" overflow=\"visible\" width=\"30\">    <path d=\"M 8 -9 l -6 18 L 8 25\" fill=\"none\" style=\"stroke:rgb(0.0, 138.56128015770727, 250.76166088685727);stroke-width:2\" />  </svg></g><g transform=\"translate(-4,0)\">  <svg x=\"81.08800902897732%\" y=\"40\" height=\"18\" overflow=\"visible\" width=\"30\">    <path d=\"M 8 -9 l -6 18 L 8 25\" fill=\"none\" style=\"stroke:rgb(0.0, 138.56128015770727, 250.76166088685727);stroke-width:2\" />  </svg></g><g transform=\"translate(-8,0)\">  <svg x=\"84.80090981959515%\" y=\"40\" height=\"18\" overflow=\"visible\" width=\"30\">    <path d=\"M 8 -9 l -6 18 L 8 25\" fill=\"none\" style=\"stroke:rgb(0.0, 138.56128015770727, 250.76166088685727);stroke-width:2\" />  </svg></g><g transform=\"translate(-10,0)\">  <svg x=\"84.80090981959515%\" y=\"40\" height=\"18\" overflow=\"visible\" width=\"30\">    <path d=\"M 8 -9 l -6 18 L 8 25\" fill=\"none\" style=\"stroke:rgb(0.0, 138.56128015770727, 250.76166088685727);stroke-width:2\" />  </svg></g><g transform=\"translate(-12,0)\">  <svg x=\"84.80090981959515%\" y=\"40\" height=\"18\" overflow=\"visible\" width=\"30\">    <path d=\"M 8 -9 l -6 18 L 8 25\" fill=\"none\" style=\"stroke:rgb(0.0, 138.56128015770727, 250.76166088685727);stroke-width:2\" />  </svg></g><g transform=\"translate(-14,0)\">  <svg x=\"84.80090981959515%\" y=\"40\" height=\"18\" overflow=\"visible\" width=\"30\">    <path d=\"M 8 -9 l -6 18 L 8 25\" fill=\"none\" style=\"stroke:rgb(0.0, 138.56128015770727, 250.76166088685727);stroke-width:2\" />  </svg></g><g transform=\"translate(2,0)\">  <svg x=\"84.80090981959515%\" y=\"40\" height=\"18\" overflow=\"visible\" width=\"30\">    <path d=\"M 8 -9 l -6 18 L 8 25\" fill=\"none\" style=\"stroke:rgb(0.0, 138.56128015770727, 250.76166088685727);stroke-width:2\" />  </svg></g><g transform=\"translate(0,0)\">  <svg x=\"84.80090981959515%\" y=\"40\" height=\"18\" overflow=\"visible\" width=\"30\">    <path d=\"M 8 -9 l -6 18 L 8 25\" fill=\"none\" style=\"stroke:rgb(0.0, 138.56128015770727, 250.76166088685727);stroke-width:2\" />  </svg></g><g transform=\"translate(-2,0)\">  <svg x=\"84.80090981959515%\" y=\"40\" height=\"18\" overflow=\"visible\" width=\"30\">    <path d=\"M 8 -9 l -6 18 L 8 25\" fill=\"none\" style=\"stroke:rgb(0.0, 138.56128015770727, 250.76166088685727);stroke-width:2\" />  </svg></g><g transform=\"translate(-4,0)\">  <svg x=\"84.80090981959515%\" y=\"40\" height=\"18\" overflow=\"visible\" width=\"30\">    <path d=\"M 8 -9 l -6 18 L 8 25\" fill=\"none\" style=\"stroke:rgb(0.0, 138.56128015770727, 250.76166088685727);stroke-width:2\" />  </svg></g><g transform=\"translate(-8,0)\">  <svg x=\"86.67382009668013%\" y=\"40\" height=\"18\" overflow=\"visible\" width=\"30\">    <path d=\"M 8 -9 l -6 18 L 8 25\" fill=\"none\" style=\"stroke:rgb(0.0, 138.56128015770727, 250.76166088685727);stroke-width:2\" />  </svg></g><g transform=\"translate(-10,0)\">  <svg x=\"86.67382009668013%\" y=\"40\" height=\"18\" overflow=\"visible\" width=\"30\">    <path d=\"M 8 -9 l -6 18 L 8 25\" fill=\"none\" style=\"stroke:rgb(0.0, 138.56128015770727, 250.76166088685727);stroke-width:2\" />  </svg></g><g transform=\"translate(-12,0)\">  <svg x=\"86.67382009668013%\" y=\"40\" height=\"18\" overflow=\"visible\" width=\"30\">    <path d=\"M 8 -9 l -6 18 L 8 25\" fill=\"none\" style=\"stroke:rgb(0.0, 138.56128015770727, 250.76166088685727);stroke-width:2\" />  </svg></g><g transform=\"translate(-14,0)\">  <svg x=\"86.67382009668013%\" y=\"40\" height=\"18\" overflow=\"visible\" width=\"30\">    <path d=\"M 8 -9 l -6 18 L 8 25\" fill=\"none\" style=\"stroke:rgb(0.0, 138.56128015770727, 250.76166088685727);stroke-width:2\" />  </svg></g><g transform=\"translate(2,0)\">  <svg x=\"86.67382009668013%\" y=\"40\" height=\"18\" overflow=\"visible\" width=\"30\">    <path d=\"M 8 -9 l -6 18 L 8 25\" fill=\"none\" style=\"stroke:rgb(0.0, 138.56128015770727, 250.76166088685727);stroke-width:2\" />  </svg></g><g transform=\"translate(0,0)\">  <svg x=\"86.67382009668013%\" y=\"40\" height=\"18\" overflow=\"visible\" width=\"30\">    <path d=\"M 8 -9 l -6 18 L 8 25\" fill=\"none\" style=\"stroke:rgb(0.0, 138.56128015770727, 250.76166088685727);stroke-width:2\" />  </svg></g><g transform=\"translate(-2,0)\">  <svg x=\"86.67382009668013%\" y=\"40\" height=\"18\" overflow=\"visible\" width=\"30\">    <path d=\"M 8 -9 l -6 18 L 8 25\" fill=\"none\" style=\"stroke:rgb(0.0, 138.56128015770727, 250.76166088685727);stroke-width:2\" />  </svg></g><g transform=\"translate(-4,0)\">  <svg x=\"86.67382009668013%\" y=\"40\" height=\"18\" overflow=\"visible\" width=\"30\">    <path d=\"M 8 -9 l -6 18 L 8 25\" fill=\"none\" style=\"stroke:rgb(0.0, 138.56128015770727, 250.76166088685727);stroke-width:2\" />  </svg></g><g transform=\"translate(-8,0)\">  <svg x=\"88.50891453966067%\" y=\"40\" height=\"18\" overflow=\"visible\" width=\"30\">    <path d=\"M 8 -9 l -6 18 L 8 25\" fill=\"none\" style=\"stroke:rgb(0.0, 138.56128015770727, 250.76166088685727);stroke-width:2\" />  </svg></g><g transform=\"translate(-10,0)\">  <svg x=\"88.50891453966067%\" y=\"40\" height=\"18\" overflow=\"visible\" width=\"30\">    <path d=\"M 8 -9 l -6 18 L 8 25\" fill=\"none\" style=\"stroke:rgb(0.0, 138.56128015770727, 250.76166088685727);stroke-width:2\" />  </svg></g><g transform=\"translate(-12,0)\">  <svg x=\"88.50891453966067%\" y=\"40\" height=\"18\" overflow=\"visible\" width=\"30\">    <path d=\"M 8 -9 l -6 18 L 8 25\" fill=\"none\" style=\"stroke:rgb(0.0, 138.56128015770727, 250.76166088685727);stroke-width:2\" />  </svg></g><g transform=\"translate(-14,0)\">  <svg x=\"88.50891453966067%\" y=\"40\" height=\"18\" overflow=\"visible\" width=\"30\">    <path d=\"M 8 -9 l -6 18 L 8 25\" fill=\"none\" style=\"stroke:rgb(0.0, 138.56128015770727, 250.76166088685727);stroke-width:2\" />  </svg></g><g transform=\"translate(2,0)\">  <svg x=\"88.50891453966067%\" y=\"40\" height=\"18\" overflow=\"visible\" width=\"30\">    <path d=\"M 8 -9 l -6 18 L 8 25\" fill=\"none\" style=\"stroke:rgb(0.0, 138.56128015770727, 250.76166088685727);stroke-width:2\" />  </svg></g><g transform=\"translate(0,0)\">  <svg x=\"88.50891453966067%\" y=\"40\" height=\"18\" overflow=\"visible\" width=\"30\">    <path d=\"M 8 -9 l -6 18 L 8 25\" fill=\"none\" style=\"stroke:rgb(0.0, 138.56128015770727, 250.76166088685727);stroke-width:2\" />  </svg></g><g transform=\"translate(-2,0)\">  <svg x=\"88.50891453966067%\" y=\"40\" height=\"18\" overflow=\"visible\" width=\"30\">    <path d=\"M 8 -9 l -6 18 L 8 25\" fill=\"none\" style=\"stroke:rgb(0.0, 138.56128015770727, 250.76166088685727);stroke-width:2\" />  </svg></g><g transform=\"translate(-4,0)\">  <svg x=\"88.50891453966067%\" y=\"40\" height=\"18\" overflow=\"visible\" width=\"30\">    <path d=\"M 8 -9 l -6 18 L 8 25\" fill=\"none\" style=\"stroke:rgb(0.0, 138.56128015770727, 250.76166088685727);stroke-width:2\" />  </svg></g><g transform=\"translate(-8,0)\">  <svg x=\"90.19942257722397%\" y=\"40\" height=\"18\" overflow=\"visible\" width=\"30\">    <path d=\"M 8 -9 l -6 18 L 8 25\" fill=\"none\" style=\"stroke:rgb(0.0, 138.56128015770727, 250.76166088685727);stroke-width:2\" />  </svg></g><g transform=\"translate(-10,0)\">  <svg x=\"90.19942257722397%\" y=\"40\" height=\"18\" overflow=\"visible\" width=\"30\">    <path d=\"M 8 -9 l -6 18 L 8 25\" fill=\"none\" style=\"stroke:rgb(0.0, 138.56128015770727, 250.76166088685727);stroke-width:2\" />  </svg></g><g transform=\"translate(-12,0)\">  <svg x=\"90.19942257722397%\" y=\"40\" height=\"18\" overflow=\"visible\" width=\"30\">    <path d=\"M 8 -9 l -6 18 L 8 25\" fill=\"none\" style=\"stroke:rgb(0.0, 138.56128015770727, 250.76166088685727);stroke-width:2\" />  </svg></g><g transform=\"translate(-14,0)\">  <svg x=\"90.19942257722397%\" y=\"40\" height=\"18\" overflow=\"visible\" width=\"30\">    <path d=\"M 8 -9 l -6 18 L 8 25\" fill=\"none\" style=\"stroke:rgb(0.0, 138.56128015770727, 250.76166088685727);stroke-width:2\" />  </svg></g><g transform=\"translate(2,0)\">  <svg x=\"90.19942257722397%\" y=\"40\" height=\"18\" overflow=\"visible\" width=\"30\">    <path d=\"M 8 -9 l -6 18 L 8 25\" fill=\"none\" style=\"stroke:rgb(0.0, 138.56128015770727, 250.76166088685727);stroke-width:2\" />  </svg></g><g transform=\"translate(0,0)\">  <svg x=\"90.19942257722397%\" y=\"40\" height=\"18\" overflow=\"visible\" width=\"30\">    <path d=\"M 8 -9 l -6 18 L 8 25\" fill=\"none\" style=\"stroke:rgb(0.0, 138.56128015770727, 250.76166088685727);stroke-width:2\" />  </svg></g><g transform=\"translate(-2,0)\">  <svg x=\"90.19942257722397%\" y=\"40\" height=\"18\" overflow=\"visible\" width=\"30\">    <path d=\"M 8 -9 l -6 18 L 8 25\" fill=\"none\" style=\"stroke:rgb(0.0, 138.56128015770727, 250.76166088685727);stroke-width:2\" />  </svg></g><g transform=\"translate(-4,0)\">  <svg x=\"90.19942257722397%\" y=\"40\" height=\"18\" overflow=\"visible\" width=\"30\">    <path d=\"M 8 -9 l -6 18 L 8 25\" fill=\"none\" style=\"stroke:rgb(0.0, 138.56128015770727, 250.76166088685727);stroke-width:2\" />  </svg></g><g transform=\"translate(-8,0)\">  <svg x=\"91.11611991264309%\" y=\"40\" height=\"18\" overflow=\"visible\" width=\"30\">    <path d=\"M 8 -9 l -6 18 L 8 25\" fill=\"none\" style=\"stroke:rgb(0.0, 138.56128015770727, 250.76166088685727);stroke-width:2\" />  </svg></g><g transform=\"translate(-10,0)\">  <svg x=\"91.11611991264309%\" y=\"40\" height=\"18\" overflow=\"visible\" width=\"30\">    <path d=\"M 8 -9 l -6 18 L 8 25\" fill=\"none\" style=\"stroke:rgb(0.0, 138.56128015770727, 250.76166088685727);stroke-width:2\" />  </svg></g><g transform=\"translate(-12,0)\">  <svg x=\"91.11611991264309%\" y=\"40\" height=\"18\" overflow=\"visible\" width=\"30\">    <path d=\"M 8 -9 l -6 18 L 8 25\" fill=\"none\" style=\"stroke:rgb(0.0, 138.56128015770727, 250.76166088685727);stroke-width:2\" />  </svg></g><g transform=\"translate(-14,0)\">  <svg x=\"91.11611991264309%\" y=\"40\" height=\"18\" overflow=\"visible\" width=\"30\">    <path d=\"M 8 -9 l -6 18 L 8 25\" fill=\"none\" style=\"stroke:rgb(0.0, 138.56128015770727, 250.76166088685727);stroke-width:2\" />  </svg></g><g transform=\"translate(2,0)\">  <svg x=\"91.11611991264309%\" y=\"40\" height=\"18\" overflow=\"visible\" width=\"30\">    <path d=\"M 8 -9 l -6 18 L 8 25\" fill=\"none\" style=\"stroke:rgb(0.0, 138.56128015770727, 250.76166088685727);stroke-width:2\" />  </svg></g><g transform=\"translate(0,0)\">  <svg x=\"91.11611991264309%\" y=\"40\" height=\"18\" overflow=\"visible\" width=\"30\">    <path d=\"M 8 -9 l -6 18 L 8 25\" fill=\"none\" style=\"stroke:rgb(0.0, 138.56128015770727, 250.76166088685727);stroke-width:2\" />  </svg></g><g transform=\"translate(-2,0)\">  <svg x=\"91.11611991264309%\" y=\"40\" height=\"18\" overflow=\"visible\" width=\"30\">    <path d=\"M 8 -9 l -6 18 L 8 25\" fill=\"none\" style=\"stroke:rgb(0.0, 138.56128015770727, 250.76166088685727);stroke-width:2\" />  </svg></g><g transform=\"translate(-4,0)\">  <svg x=\"91.11611991264309%\" y=\"40\" height=\"18\" overflow=\"visible\" width=\"30\">    <path d=\"M 8 -9 l -6 18 L 8 25\" fill=\"none\" style=\"stroke:rgb(0.0, 138.56128015770727, 250.76166088685727);stroke-width:2\" />  </svg></g><rect transform=\"translate(0,0)\" x=\"76.72254063258588%\" y=\"40\" width=\"8\" height=\"18\" style=\"fill:rgb(0.0, 138.56128015770727, 250.76166088685727)\"/><g transform=\"translate(-6.0,0)\">  <svg x=\"91.66666638334821%\" y=\"40\" height=\"18\" overflow=\"visible\" width=\"30\">    <path d=\"M 8 -9 l -6 18 L 8 25 L 20 25 L 20 -9\" fill=\"#ffffff\" style=\"stroke:rgb(255,255,255);stroke-width:2\" />  </svg></g><g transform=\"translate(-6.0,0)\">  <svg x=\"81.08800902897732%\" y=\"40\" height=\"18\" overflow=\"visible\" width=\"30\">    <path d=\"M 8 -9 l -6 18 L 8 25\" fill=\"none\" style=\"stroke:rgb(208, 230, 250);stroke-width:2\" />  </svg></g><rect x=\"76.72254063258588%\" y=\"40\" height=\"20\" width=\"4.365468396391449%\"      onmouseover=\"document.getElementById('_tp_tfiqyyltepsarvaxgsng_ind_15').style.textDecoration = 'underline';document.getElementById('_fs_tfiqyyltepsarvaxgsng_ind_15').style.opacity = 1;document.getElementById('_fb_tfiqyyltepsarvaxgsng_ind_15').style.opacity = 1;\"      onmouseout=\"document.getElementById('_tp_tfiqyyltepsarvaxgsng_ind_15').style.textDecoration = 'none';document.getElementById('_fs_tfiqyyltepsarvaxgsng_ind_15').style.opacity = 0;document.getElementById('_fb_tfiqyyltepsarvaxgsng_ind_15').style.opacity = 0;\" style=\"fill:rgb(0,0,0,0)\" /><g transform=\"translate(-6.0,0)\">  <svg x=\"84.80090981959515%\" y=\"40\" height=\"18\" overflow=\"visible\" width=\"30\">    <path d=\"M 8 -9 l -6 18 L 8 25\" fill=\"none\" style=\"stroke:rgb(208, 230, 250);stroke-width:2\" />  </svg></g><rect x=\"81.08800902897732%\" y=\"40\" height=\"20\" width=\"3.712900790617823%\"      onmouseover=\"document.getElementById('_tp_tfiqyyltepsarvaxgsng_ind_5').style.textDecoration = 'underline';document.getElementById('_fs_tfiqyyltepsarvaxgsng_ind_5').style.opacity = 1;document.getElementById('_fb_tfiqyyltepsarvaxgsng_ind_5').style.opacity = 1;\"      onmouseout=\"document.getElementById('_tp_tfiqyyltepsarvaxgsng_ind_5').style.textDecoration = 'none';document.getElementById('_fs_tfiqyyltepsarvaxgsng_ind_5').style.opacity = 0;document.getElementById('_fb_tfiqyyltepsarvaxgsng_ind_5').style.opacity = 0;\" style=\"fill:rgb(0,0,0,0)\" /><g transform=\"translate(-6.0,0)\">  <svg x=\"86.67382009668013%\" y=\"40\" height=\"18\" overflow=\"visible\" width=\"30\">    <path d=\"M 8 -9 l -6 18 L 8 25\" fill=\"none\" style=\"stroke:rgb(208, 230, 250);stroke-width:2\" />  </svg></g><rect x=\"84.80090981959515%\" y=\"40\" height=\"20\" width=\"1.8729102770849835%\"      onmouseover=\"document.getElementById('_tp_tfiqyyltepsarvaxgsng_ind_9').style.textDecoration = 'underline';document.getElementById('_fs_tfiqyyltepsarvaxgsng_ind_9').style.opacity = 1;document.getElementById('_fb_tfiqyyltepsarvaxgsng_ind_9').style.opacity = 1;\"      onmouseout=\"document.getElementById('_tp_tfiqyyltepsarvaxgsng_ind_9').style.textDecoration = 'none';document.getElementById('_fs_tfiqyyltepsarvaxgsng_ind_9').style.opacity = 0;document.getElementById('_fb_tfiqyyltepsarvaxgsng_ind_9').style.opacity = 0;\" style=\"fill:rgb(0,0,0,0)\" /><g transform=\"translate(-6.0,0)\">  <svg x=\"88.50891453966067%\" y=\"40\" height=\"18\" overflow=\"visible\" width=\"30\">    <path d=\"M 8 -9 l -6 18 L 8 25\" fill=\"none\" style=\"stroke:rgb(208, 230, 250);stroke-width:2\" />  </svg></g><rect x=\"86.67382009668013%\" y=\"40\" height=\"20\" width=\"1.8350944429805338%\"      onmouseover=\"document.getElementById('_tp_tfiqyyltepsarvaxgsng_ind_13').style.textDecoration = 'underline';document.getElementById('_fs_tfiqyyltepsarvaxgsng_ind_13').style.opacity = 1;document.getElementById('_fb_tfiqyyltepsarvaxgsng_ind_13').style.opacity = 1;\"      onmouseout=\"document.getElementById('_tp_tfiqyyltepsarvaxgsng_ind_13').style.textDecoration = 'none';document.getElementById('_fs_tfiqyyltepsarvaxgsng_ind_13').style.opacity = 0;document.getElementById('_fb_tfiqyyltepsarvaxgsng_ind_13').style.opacity = 0;\" style=\"fill:rgb(0,0,0,0)\" /><g transform=\"translate(-6.0,0)\">  <svg x=\"90.19942257722397%\" y=\"40\" height=\"18\" overflow=\"visible\" width=\"30\">    <path d=\"M 8 -9 l -6 18 L 8 25\" fill=\"none\" style=\"stroke:rgb(208, 230, 250);stroke-width:2\" />  </svg></g><rect x=\"88.50891453966067%\" y=\"40\" height=\"20\" width=\"1.6905080375633048%\"      onmouseover=\"document.getElementById('_tp_tfiqyyltepsarvaxgsng_ind_8').style.textDecoration = 'underline';document.getElementById('_fs_tfiqyyltepsarvaxgsng_ind_8').style.opacity = 1;document.getElementById('_fb_tfiqyyltepsarvaxgsng_ind_8').style.opacity = 1;\"      onmouseout=\"document.getElementById('_tp_tfiqyyltepsarvaxgsng_ind_8').style.textDecoration = 'none';document.getElementById('_fs_tfiqyyltepsarvaxgsng_ind_8').style.opacity = 0;document.getElementById('_fb_tfiqyyltepsarvaxgsng_ind_8').style.opacity = 0;\" style=\"fill:rgb(0,0,0,0)\" /><g transform=\"translate(-6.0,0)\">  <svg x=\"91.11611991264309%\" y=\"40\" height=\"18\" overflow=\"visible\" width=\"30\">    <path d=\"M 8 -9 l -6 18 L 8 25\" fill=\"none\" style=\"stroke:rgb(208, 230, 250);stroke-width:2\" />  </svg></g><rect x=\"90.19942257722397%\" y=\"40\" height=\"20\" width=\"0.9166973354191157%\"      onmouseover=\"document.getElementById('_tp_tfiqyyltepsarvaxgsng_ind_14').style.textDecoration = 'underline';document.getElementById('_fs_tfiqyyltepsarvaxgsng_ind_14').style.opacity = 1;document.getElementById('_fb_tfiqyyltepsarvaxgsng_ind_14').style.opacity = 1;\"      onmouseout=\"document.getElementById('_tp_tfiqyyltepsarvaxgsng_ind_14').style.textDecoration = 'none';document.getElementById('_fs_tfiqyyltepsarvaxgsng_ind_14').style.opacity = 0;document.getElementById('_fb_tfiqyyltepsarvaxgsng_ind_14').style.opacity = 0;\" style=\"fill:rgb(0,0,0,0)\" /><rect x=\"91.11611991264309%\" y=\"40\" height=\"20\" width=\"0.5505464707051289%\"      onmouseover=\"document.getElementById('_tp_tfiqyyltepsarvaxgsng_ind_7').style.textDecoration = 'underline';document.getElementById('_fs_tfiqyyltepsarvaxgsng_ind_7').style.opacity = 1;document.getElementById('_fb_tfiqyyltepsarvaxgsng_ind_7').style.opacity = 1;\"      onmouseout=\"document.getElementById('_tp_tfiqyyltepsarvaxgsng_ind_7').style.textDecoration = 'none';document.getElementById('_fs_tfiqyyltepsarvaxgsng_ind_7').style.opacity = 0;document.getElementById('_fb_tfiqyyltepsarvaxgsng_ind_7').style.opacity = 0;\" style=\"fill:rgb(0,0,0,0)\" /></svg><div align='center'><div style=\"color: rgb(120,120,120); font-size: 12px; margin-top: -15px;\">inputs</div><div style='display: inline; text-align: center;'\n",
              "    ><div style='display: none; color: #999; padding-top: 0px; font-size: 12px;'>0.0</div\n",
              "        ><div id='_tp_tfiqyyltepsarvaxgsng_ind_0'\n",
              "            style='display: inline; background: rgba(230.2941176470614, 26.505882352939775, 102.59215686274348, 0.0); border-radius: 3px; padding: 0px'\n",
              "            onclick=\"\n",
              "            if (this.previousSibling.style.display == 'none') {\n",
              "                this.previousSibling.style.display = 'block';\n",
              "                this.parentNode.style.display = 'inline-block';\n",
              "            } else {\n",
              "                this.previousSibling.style.display = 'none';\n",
              "                this.parentNode.style.display = 'inline';\n",
              "            }\"\n",
              "            onmouseover=\"document.getElementById('_fb_tfiqyyltepsarvaxgsng_ind_0').style.opacity = 1; document.getElementById('_fs_tfiqyyltepsarvaxgsng_ind_0').style.opacity = 1;\"\n",
              "            onmouseout=\"document.getElementById('_fb_tfiqyyltepsarvaxgsng_ind_0').style.opacity = 0; document.getElementById('_fs_tfiqyyltepsarvaxgsng_ind_0').style.opacity = 0;\"\n",
              "        ></div></div><div style='display: inline; text-align: center;'\n",
              "    ><div style='display: none; color: #999; padding-top: 0px; font-size: 12px;'>0.033</div\n",
              "        ><div id='_tp_tfiqyyltepsarvaxgsng_ind_1'\n",
              "            style='display: inline; background: rgba(255.0, 13.0, 87.0, 0.014656367597544035); border-radius: 3px; padding: 0px'\n",
              "            onclick=\"\n",
              "            if (this.previousSibling.style.display == 'none') {\n",
              "                this.previousSibling.style.display = 'block';\n",
              "                this.parentNode.style.display = 'inline-block';\n",
              "            } else {\n",
              "                this.previousSibling.style.display = 'none';\n",
              "                this.parentNode.style.display = 'inline';\n",
              "            }\"\n",
              "            onmouseover=\"document.getElementById('_fb_tfiqyyltepsarvaxgsng_ind_1').style.opacity = 1; document.getElementById('_fs_tfiqyyltepsarvaxgsng_ind_1').style.opacity = 1;\"\n",
              "            onmouseout=\"document.getElementById('_fb_tfiqyyltepsarvaxgsng_ind_1').style.opacity = 0; document.getElementById('_fs_tfiqyyltepsarvaxgsng_ind_1').style.opacity = 0;\"\n",
              "        >Total </div></div><div style='display: inline; text-align: center;'\n",
              "    ><div style='display: none; color: #999; padding-top: 0px; font-size: 12px;'>1.462</div\n",
              "        ><div id='_tp_tfiqyyltepsarvaxgsng_ind_2'\n",
              "            style='display: inline; background: rgba(255.0, 13.0, 87.0, 1.0); border-radius: 3px; padding: 0px'\n",
              "            onclick=\"\n",
              "            if (this.previousSibling.style.display == 'none') {\n",
              "                this.previousSibling.style.display = 'block';\n",
              "                this.parentNode.style.display = 'inline-block';\n",
              "            } else {\n",
              "                this.previousSibling.style.display = 'none';\n",
              "                this.parentNode.style.display = 'inline';\n",
              "            }\"\n",
              "            onmouseover=\"document.getElementById('_fb_tfiqyyltepsarvaxgsng_ind_2').style.opacity = 1; document.getElementById('_fs_tfiqyyltepsarvaxgsng_ind_2').style.opacity = 1;\"\n",
              "            onmouseout=\"document.getElementById('_fb_tfiqyyltepsarvaxgsng_ind_2').style.opacity = 0; document.getElementById('_fs_tfiqyyltepsarvaxgsng_ind_2').style.opacity = 0;\"\n",
              "        >waste </div></div><div style='display: inline; text-align: center;'\n",
              "    ><div style='display: none; color: #999; padding-top: 0px; font-size: 12px;'>0.228</div\n",
              "        ><div id='_tp_tfiqyyltepsarvaxgsng_ind_3'\n",
              "            style='display: inline; background: rgba(255.0, 13.0, 87.0, 0.15654585066349747); border-radius: 3px; padding: 0px'\n",
              "            onclick=\"\n",
              "            if (this.previousSibling.style.display == 'none') {\n",
              "                this.previousSibling.style.display = 'block';\n",
              "                this.parentNode.style.display = 'inline-block';\n",
              "            } else {\n",
              "                this.previousSibling.style.display = 'none';\n",
              "                this.parentNode.style.display = 'inline';\n",
              "            }\"\n",
              "            onmouseover=\"document.getElementById('_fb_tfiqyyltepsarvaxgsng_ind_3').style.opacity = 1; document.getElementById('_fs_tfiqyyltepsarvaxgsng_ind_3').style.opacity = 1;\"\n",
              "            onmouseout=\"document.getElementById('_fb_tfiqyyltepsarvaxgsng_ind_3').style.opacity = 0; document.getElementById('_fs_tfiqyyltepsarvaxgsng_ind_3').style.opacity = 0;\"\n",
              "        >of </div></div><div style='display: inline; text-align: center;'\n",
              "    ><div style='display: none; color: #999; padding-top: 0px; font-size: 12px;'>0.06</div\n",
              "        ><div id='_tp_tfiqyyltepsarvaxgsng_ind_4'\n",
              "            style='display: inline; background: rgba(255.0, 13.0, 87.0, 0.03830461477520289); border-radius: 3px; padding: 0px'\n",
              "            onclick=\"\n",
              "            if (this.previousSibling.style.display == 'none') {\n",
              "                this.previousSibling.style.display = 'block';\n",
              "                this.parentNode.style.display = 'inline-block';\n",
              "            } else {\n",
              "                this.previousSibling.style.display = 'none';\n",
              "                this.parentNode.style.display = 'inline';\n",
              "            }\"\n",
              "            onmouseover=\"document.getElementById('_fb_tfiqyyltepsarvaxgsng_ind_4').style.opacity = 1; document.getElementById('_fs_tfiqyyltepsarvaxgsng_ind_4').style.opacity = 1;\"\n",
              "            onmouseout=\"document.getElementById('_fb_tfiqyyltepsarvaxgsng_ind_4').style.opacity = 0; document.getElementById('_fs_tfiqyyltepsarvaxgsng_ind_4').style.opacity = 0;\"\n",
              "        >time </div></div><div style='display: inline; text-align: center;'\n",
              "    ><div style='display: none; color: #999; padding-top: 0px; font-size: 12px;'>-0.12</div\n",
              "        ><div id='_tp_tfiqyyltepsarvaxgsng_ind_5'\n",
              "            style='display: inline; background: rgba(30.0, 136.0, 229.0, 0.07771836007130117); border-radius: 3px; padding: 0px'\n",
              "            onclick=\"\n",
              "            if (this.previousSibling.style.display == 'none') {\n",
              "                this.previousSibling.style.display = 'block';\n",
              "                this.parentNode.style.display = 'inline-block';\n",
              "            } else {\n",
              "                this.previousSibling.style.display = 'none';\n",
              "                this.parentNode.style.display = 'inline';\n",
              "            }\"\n",
              "            onmouseover=\"document.getElementById('_fb_tfiqyyltepsarvaxgsng_ind_5').style.opacity = 1; document.getElementById('_fs_tfiqyyltepsarvaxgsng_ind_5').style.opacity = 1;\"\n",
              "            onmouseout=\"document.getElementById('_fb_tfiqyyltepsarvaxgsng_ind_5').style.opacity = 0; document.getElementById('_fs_tfiqyyltepsarvaxgsng_ind_5').style.opacity = 0;\"\n",
              "        >event</div></div><div style='display: inline; text-align: center;'\n",
              "    ><div style='display: none; color: #999; padding-top: 0px; font-size: 12px;'>0.053</div\n",
              "        ><div id='_tp_tfiqyyltepsarvaxgsng_ind_6'\n",
              "            style='display: inline; background: rgba(255.0, 13.0, 87.0, 0.030421865715983164); border-radius: 3px; padding: 0px'\n",
              "            onclick=\"\n",
              "            if (this.previousSibling.style.display == 'none') {\n",
              "                this.previousSibling.style.display = 'block';\n",
              "                this.parentNode.style.display = 'inline-block';\n",
              "            } else {\n",
              "                this.previousSibling.style.display = 'none';\n",
              "                this.parentNode.style.display = 'inline';\n",
              "            }\"\n",
              "            onmouseover=\"document.getElementById('_fb_tfiqyyltepsarvaxgsng_ind_6').style.opacity = 1; document.getElementById('_fs_tfiqyyltepsarvaxgsng_ind_6').style.opacity = 1;\"\n",
              "            onmouseout=\"document.getElementById('_fb_tfiqyyltepsarvaxgsng_ind_6').style.opacity = 0; document.getElementById('_fs_tfiqyyltepsarvaxgsng_ind_6').style.opacity = 0;\"\n",
              "        >hou</div></div><div style='display: inline; text-align: center;'\n",
              "    ><div style='display: none; color: #999; padding-top: 0px; font-size: 12px;'>-0.018</div\n",
              "        ><div id='_tp_tfiqyyltepsarvaxgsng_ind_7'\n",
              "            style='display: inline; background: rgba(30.0, 136.0, 229.0, 0.006773618538324436); border-radius: 3px; padding: 0px'\n",
              "            onclick=\"\n",
              "            if (this.previousSibling.style.display == 'none') {\n",
              "                this.previousSibling.style.display = 'block';\n",
              "                this.parentNode.style.display = 'inline-block';\n",
              "            } else {\n",
              "                this.previousSibling.style.display = 'none';\n",
              "                this.parentNode.style.display = 'inline';\n",
              "            }\"\n",
              "            onmouseover=\"document.getElementById('_fb_tfiqyyltepsarvaxgsng_ind_7').style.opacity = 1; document.getElementById('_fs_tfiqyyltepsarvaxgsng_ind_7').style.opacity = 1;\"\n",
              "            onmouseout=\"document.getElementById('_fb_tfiqyyltepsarvaxgsng_ind_7').style.opacity = 0; document.getElementById('_fs_tfiqyyltepsarvaxgsng_ind_7').style.opacity = 0;\"\n",
              "        >gh </div></div><div style='display: inline; text-align: center;'\n",
              "    ><div style='display: none; color: #999; padding-top: 0px; font-size: 12px;'>-0.055</div\n",
              "        ><div id='_tp_tfiqyyltepsarvaxgsng_ind_8'\n",
              "            style='display: inline; background: rgba(30.0, 136.0, 229.0, 0.03042186571598325); border-radius: 3px; padding: 0px'\n",
              "            onclick=\"\n",
              "            if (this.previousSibling.style.display == 'none') {\n",
              "                this.previousSibling.style.display = 'block';\n",
              "                this.parentNode.style.display = 'inline-block';\n",
              "            } else {\n",
              "                this.previousSibling.style.display = 'none';\n",
              "                this.parentNode.style.display = 'inline';\n",
              "            }\"\n",
              "            onmouseover=\"document.getElementById('_fb_tfiqyyltepsarvaxgsng_ind_8').style.opacity = 1; document.getElementById('_fs_tfiqyyltepsarvaxgsng_ind_8').style.opacity = 1;\"\n",
              "            onmouseout=\"document.getElementById('_fb_tfiqyyltepsarvaxgsng_ind_8').style.opacity = 0; document.getElementById('_fs_tfiqyyltepsarvaxgsng_ind_8').style.opacity = 0;\"\n",
              "        >the </div></div><div style='display: inline; text-align: center;'\n",
              "    ><div style='display: none; color: #999; padding-top: 0px; font-size: 12px;'>-0.061</div\n",
              "        ><div id='_tp_tfiqyyltepsarvaxgsng_ind_9'\n",
              "            style='display: inline; background: rgba(30.0, 136.0, 229.0, 0.03830461477520309); border-radius: 3px; padding: 0px'\n",
              "            onclick=\"\n",
              "            if (this.previousSibling.style.display == 'none') {\n",
              "                this.previousSibling.style.display = 'block';\n",
              "                this.parentNode.style.display = 'inline-block';\n",
              "            } else {\n",
              "                this.previousSibling.style.display = 'none';\n",
              "                this.parentNode.style.display = 'inline';\n",
              "            }\"\n",
              "            onmouseover=\"document.getElementById('_fb_tfiqyyltepsarvaxgsng_ind_9').style.opacity = 1; document.getElementById('_fs_tfiqyyltepsarvaxgsng_ind_9').style.opacity = 1;\"\n",
              "            onmouseout=\"document.getElementById('_fb_tfiqyyltepsarvaxgsng_ind_9').style.opacity = 0; document.getElementById('_fs_tfiqyyltepsarvaxgsng_ind_9').style.opacity = 0;\"\n",
              "        >pop</div></div><div style='display: inline; text-align: center;'\n",
              "    ><div style='display: none; color: #999; padding-top: 0px; font-size: 12px;'>0.049</div\n",
              "        ><div id='_tp_tfiqyyltepsarvaxgsng_ind_10'\n",
              "            style='display: inline; background: rgba(255.0, 13.0, 87.0, 0.030421865715983164); border-radius: 3px; padding: 0px'\n",
              "            onclick=\"\n",
              "            if (this.previousSibling.style.display == 'none') {\n",
              "                this.previousSibling.style.display = 'block';\n",
              "                this.parentNode.style.display = 'inline-block';\n",
              "            } else {\n",
              "                this.previousSibling.style.display = 'none';\n",
              "                this.parentNode.style.display = 'inline';\n",
              "            }\"\n",
              "            onmouseover=\"document.getElementById('_fb_tfiqyyltepsarvaxgsng_ind_10').style.opacity = 1; document.getElementById('_fs_tfiqyyltepsarvaxgsng_ind_10').style.opacity = 1;\"\n",
              "            onmouseout=\"document.getElementById('_fb_tfiqyyltepsarvaxgsng_ind_10').style.opacity = 0; document.getElementById('_fs_tfiqyyltepsarvaxgsng_ind_10').style.opacity = 0;\"\n",
              "        >corn</div></div><div style='display: inline; text-align: center;'\n",
              "    ><div style='display: none; color: #999; padding-top: 0px; font-size: 12px;'>0.028</div\n",
              "        ><div id='_tp_tfiqyyltepsarvaxgsng_ind_11'\n",
              "            style='display: inline; background: rgba(255.0, 13.0, 87.0, 0.014656367597544035); border-radius: 3px; padding: 0px'\n",
              "            onclick=\"\n",
              "            if (this.previousSibling.style.display == 'none') {\n",
              "                this.previousSibling.style.display = 'block';\n",
              "                this.parentNode.style.display = 'inline-block';\n",
              "            } else {\n",
              "                this.previousSibling.style.display = 'none';\n",
              "                this.parentNode.style.display = 'inline';\n",
              "            }\"\n",
              "            onmouseover=\"document.getElementById('_fb_tfiqyyltepsarvaxgsng_ind_11').style.opacity = 1; document.getElementById('_fs_tfiqyyltepsarvaxgsng_ind_11').style.opacity = 1;\"\n",
              "            onmouseout=\"document.getElementById('_fb_tfiqyyltepsarvaxgsng_ind_11').style.opacity = 0; document.getElementById('_fs_tfiqyyltepsarvaxgsng_ind_11').style.opacity = 0;\"\n",
              "        >s </div></div><div style='display: inline; text-align: center;'\n",
              "    ><div style='display: none; color: #999; padding-top: 0px; font-size: 12px;'>0.203</div\n",
              "        ><div id='_tp_tfiqyyltepsarvaxgsng_ind_12'\n",
              "            style='display: inline; background: rgba(255.0, 13.0, 87.0, 0.13289760348583876); border-radius: 3px; padding: 0px'\n",
              "            onclick=\"\n",
              "            if (this.previousSibling.style.display == 'none') {\n",
              "                this.previousSibling.style.display = 'block';\n",
              "                this.parentNode.style.display = 'inline-block';\n",
              "            } else {\n",
              "                this.previousSibling.style.display = 'none';\n",
              "                this.parentNode.style.display = 'inline';\n",
              "            }\"\n",
              "            onmouseover=\"document.getElementById('_fb_tfiqyyltepsarvaxgsng_ind_12').style.opacity = 1; document.getElementById('_fs_tfiqyyltepsarvaxgsng_ind_12').style.opacity = 1;\"\n",
              "            onmouseout=\"document.getElementById('_fb_tfiqyyltepsarvaxgsng_ind_12').style.opacity = 0; document.getElementById('_fs_tfiqyyltepsarvaxgsng_ind_12').style.opacity = 0;\"\n",
              "        >were </div></div><div style='display: inline; text-align: center;'\n",
              "    ><div style='display: none; color: #999; padding-top: 0px; font-size: 12px;'>-0.059</div\n",
              "        ><div id='_tp_tfiqyyltepsarvaxgsng_ind_13'\n",
              "            style='display: inline; background: rgba(30.0, 136.0, 229.0, 0.03830461477520309); border-radius: 3px; padding: 0px'\n",
              "            onclick=\"\n",
              "            if (this.previousSibling.style.display == 'none') {\n",
              "                this.previousSibling.style.display = 'block';\n",
              "                this.parentNode.style.display = 'inline-block';\n",
              "            } else {\n",
              "                this.previousSibling.style.display = 'none';\n",
              "                this.parentNode.style.display = 'inline';\n",
              "            }\"\n",
              "            onmouseover=\"document.getElementById('_fb_tfiqyyltepsarvaxgsng_ind_13').style.opacity = 1; document.getElementById('_fs_tfiqyyltepsarvaxgsng_ind_13').style.opacity = 1;\"\n",
              "            onmouseout=\"document.getElementById('_fb_tfiqyyltepsarvaxgsng_ind_13').style.opacity = 0; document.getElementById('_fs_tfiqyyltepsarvaxgsng_ind_13').style.opacity = 0;\"\n",
              "        >nice </div></div><div style='display: inline; text-align: center;'\n",
              "    ><div style='display: none; color: #999; padding-top: 0px; font-size: 12px;'>-0.03</div\n",
              "        ><div id='_tp_tfiqyyltepsarvaxgsng_ind_14'\n",
              "            style='display: inline; background: rgba(30.0, 136.0, 229.0, 0.014656367597544028); border-radius: 3px; padding: 0px'\n",
              "            onclick=\"\n",
              "            if (this.previousSibling.style.display == 'none') {\n",
              "                this.previousSibling.style.display = 'block';\n",
              "                this.parentNode.style.display = 'inline-block';\n",
              "            } else {\n",
              "                this.previousSibling.style.display = 'none';\n",
              "                this.parentNode.style.display = 'inline';\n",
              "            }\"\n",
              "            onmouseover=\"document.getElementById('_fb_tfiqyyltepsarvaxgsng_ind_14').style.opacity = 1; document.getElementById('_fs_tfiqyyltepsarvaxgsng_ind_14').style.opacity = 1;\"\n",
              "            onmouseout=\"document.getElementById('_fb_tfiqyyltepsarvaxgsng_ind_14').style.opacity = 0; document.getElementById('_fs_tfiqyyltepsarvaxgsng_ind_14').style.opacity = 0;\"\n",
              "        >and </div></div><div style='display: inline; text-align: center;'\n",
              "    ><div style='display: none; color: #999; padding-top: 0px; font-size: 12px;'>-0.141</div\n",
              "        ><div id='_tp_tfiqyyltepsarvaxgsng_ind_15'\n",
              "            style='display: inline; background: rgba(30.0, 136.0, 229.0, 0.09348385818974048); border-radius: 3px; padding: 0px'\n",
              "            onclick=\"\n",
              "            if (this.previousSibling.style.display == 'none') {\n",
              "                this.previousSibling.style.display = 'block';\n",
              "                this.parentNode.style.display = 'inline-block';\n",
              "            } else {\n",
              "                this.previousSibling.style.display = 'none';\n",
              "                this.parentNode.style.display = 'inline';\n",
              "            }\"\n",
              "            onmouseover=\"document.getElementById('_fb_tfiqyyltepsarvaxgsng_ind_15').style.opacity = 1; document.getElementById('_fs_tfiqyyltepsarvaxgsng_ind_15').style.opacity = 1;\"\n",
              "            onmouseout=\"document.getElementById('_fb_tfiqyyltepsarvaxgsng_ind_15').style.opacity = 0; document.getElementById('_fs_tfiqyyltepsarvaxgsng_ind_15').style.opacity = 0;\"\n",
              "        >crisp</div></div><div style='display: inline; text-align: center;'\n",
              "    ><div style='display: none; color: #999; padding-top: 0px; font-size: 12px;'>0.096</div\n",
              "        ><div id='_tp_tfiqyyltepsarvaxgsng_ind_16'\n",
              "            style='display: inline; background: rgba(255.0, 13.0, 87.0, 0.06195286195286207); border-radius: 3px; padding: 0px'\n",
              "            onclick=\"\n",
              "            if (this.previousSibling.style.display == 'none') {\n",
              "                this.previousSibling.style.display = 'block';\n",
              "                this.parentNode.style.display = 'inline-block';\n",
              "            } else {\n",
              "                this.previousSibling.style.display = 'none';\n",
              "                this.parentNode.style.display = 'inline';\n",
              "            }\"\n",
              "            onmouseover=\"document.getElementById('_fb_tfiqyyltepsarvaxgsng_ind_16').style.opacity = 1; document.getElementById('_fs_tfiqyyltepsarvaxgsng_ind_16').style.opacity = 1;\"\n",
              "            onmouseout=\"document.getElementById('_fb_tfiqyyltepsarvaxgsng_ind_16').style.opacity = 0; document.getElementById('_fs_tfiqyyltepsarvaxgsng_ind_16').style.opacity = 0;\"\n",
              "        >y</div></div><div style='display: inline; text-align: center;'\n",
              "    ><div style='display: none; color: #999; padding-top: 0px; font-size: 12px;'>0.0</div\n",
              "        ><div id='_tp_tfiqyyltepsarvaxgsng_ind_17'\n",
              "            style='display: inline; background: rgba(230.2941176470614, 26.505882352939775, 102.59215686274348, 0.0); border-radius: 3px; padding: 0px'\n",
              "            onclick=\"\n",
              "            if (this.previousSibling.style.display == 'none') {\n",
              "                this.previousSibling.style.display = 'block';\n",
              "                this.parentNode.style.display = 'inline-block';\n",
              "            } else {\n",
              "                this.previousSibling.style.display = 'none';\n",
              "                this.parentNode.style.display = 'inline';\n",
              "            }\"\n",
              "            onmouseover=\"document.getElementById('_fb_tfiqyyltepsarvaxgsng_ind_17').style.opacity = 1; document.getElementById('_fs_tfiqyyltepsarvaxgsng_ind_17').style.opacity = 1;\"\n",
              "            onmouseout=\"document.getElementById('_fb_tfiqyyltepsarvaxgsng_ind_17').style.opacity = 0; document.getElementById('_fs_tfiqyyltepsarvaxgsng_ind_17').style.opacity = 0;\"\n",
              "        ></div></div></div>"
            ]
          },
          "metadata": {}
        }
      ]
    },
    {
      "cell_type": "code",
      "source": [
        "type(shap_values)"
      ],
      "metadata": {
        "colab": {
          "base_uri": "https://localhost:8080/"
        },
        "id": "IeolndpqxoZV",
        "outputId": "bd9a610e-1f9b-4ecf-c1c3-66bba1cd1159"
      },
      "execution_count": 172,
      "outputs": [
        {
          "output_type": "execute_result",
          "data": {
            "text/plain": [
              "shap._explanation.Explanation"
            ]
          },
          "metadata": {},
          "execution_count": 172
        }
      ]
    },
    {
      "cell_type": "code",
      "source": [
        "shap_values[1]"
      ],
      "metadata": {
        "colab": {
          "base_uri": "https://localhost:8080/"
        },
        "id": "JbrMmZvD34lr",
        "outputId": "1d88f32d-4ba2-41c0-b5bd-4a9653fa65b0"
      },
      "execution_count": 190,
      "outputs": [
        {
          "output_type": "execute_result",
          "data": {
            "text/plain": [
              ".values =\n",
              "array([[ 0.        ,  0.        ],\n",
              "       [ 0.03324551, -0.03324559],\n",
              "       [ 1.46192222, -1.46192224],\n",
              "       [ 0.22847032, -0.22847024],\n",
              "       [ 0.06021367, -0.0602138 ],\n",
              "       [-0.12012957,  0.12012966],\n",
              "       [ 0.05297314, -0.05297311],\n",
              "       [-0.01781273,  0.01781267],\n",
              "       [-0.05469578,  0.05469596],\n",
              "       [-0.06059734,  0.06059724],\n",
              "       [ 0.04878633, -0.04878629],\n",
              "       [ 0.02784794, -0.02784804],\n",
              "       [ 0.2030416 , -0.20304151],\n",
              "       [-0.05937382,  0.05937382],\n",
              "       [-0.02965941,  0.02965941],\n",
              "       [-0.14124316,  0.14124321],\n",
              "       [ 0.09620747, -0.09620748],\n",
              "       [ 0.        ,  0.        ]])\n",
              "\n",
              ".base_values =\n",
              "array([-0.3202152 ,  0.32021545])\n",
              "\n",
              ".data =\n",
              "array(['', 'Total ', 'waste ', 'of ', 'time ', 'event', 'hou', 'gh ',\n",
              "       'the ', 'pop', 'corn', 's ', 'were ', 'nice ', 'and ', 'crisp',\n",
              "       'y', ''], dtype='<U6')"
            ]
          },
          "metadata": {},
          "execution_count": 190
        }
      ]
    },
    {
      "cell_type": "markdown",
      "source": [
        "### Masker/tokenizer"
      ],
      "metadata": {
        "id": "jFp6Frg9yKNs"
      }
    },
    {
      "cell_type": "markdown",
      "source": [
        "This is the tokenized input the model tokenizer makes."
      ],
      "metadata": {
        "id": "8URPnkt9KgT3"
      }
    },
    {
      "cell_type": "code",
      "source": [
        "sentence=data_sample[1]\n",
        "tokenized=tokenizer(sentence)\n",
        "print(f\"Token ids: {tokenized['input_ids']}\") \n",
        "print(f\"Tokens: {tokenizer.convert_ids_to_tokens(tokenized['input_ids'])}\") # CLS and SEP tokens indicating start and end of input are included\n",
        "print(f\"Number of tokens: {len(tokenizer.convert_ids_to_tokens(tokenized['input_ids']))}\")\n",
        "print(f\"Token for masking: {tokenizer.mask_token}\")"
      ],
      "metadata": {
        "colab": {
          "base_uri": "https://localhost:8080/"
        },
        "id": "bzrTSOlOyfh0",
        "outputId": "29ca9c41-a61c-4d8f-a780-87ca1ee2334b"
      },
      "execution_count": 285,
      "outputs": [
        {
          "output_type": "stream",
          "name": "stdout",
          "text": [
            "Tokens: ['[CLS]', 'Total', 'waste', 'of', 'time', 'event', '##hou', '##gh', 'the', 'pop', '##corn', '##s', 'were', 'nice', 'and', 'crisp', '##y', '[SEP]']\n",
            "Token ids: [101, 8653, 5671, 1104, 1159, 1856, 14640, 5084, 1103, 3618, 13433, 1116, 1127, 3505, 1105, 19501, 1183, 102]\n",
            "Number of tokens: 18\n",
            "Token for masking: [MASK]\n"
          ]
        }
      ]
    },
    {
      "cell_type": "code",
      "source": [
        "print(tokenizer.sep_token, tokenizer.cls_token)"
      ],
      "metadata": {
        "id": "8ZeUEd6yoBCe",
        "outputId": "0a444a34-29ee-4e08-8502-49cbcd82967b",
        "colab": {
          "base_uri": "https://localhost:8080/"
        }
      },
      "execution_count": 280,
      "outputs": [
        {
          "output_type": "stream",
          "name": "stdout",
          "text": [
            "[SEP] [CLS]\n"
          ]
        }
      ]
    },
    {
      "cell_type": "markdown",
      "source": [
        "This is the SHAP masker for the input. The masker is used to make the player coalitions, i.e. the input permutations"
      ],
      "metadata": {
        "id": "R0VSe48GKltU"
      }
    },
    {
      "cell_type": "code",
      "source": [
        "masker = shap.maskers.Text(classifier.tokenizer) # pass the tokenizer # https://github.com/HannaKi/shap/blob/master/shap/maskers/_text.py\n",
        "print(masker.shape(sentence))"
      ],
      "metadata": {
        "colab": {
          "base_uri": "https://localhost:8080/"
        },
        "id": "cqtYl4kMyJcf",
        "outputId": "4fcd9c71-cce5-45df-bb28-1eb14239f47e"
      },
      "execution_count": 207,
      "outputs": [
        {
          "output_type": "stream",
          "name": "stdout",
          "text": [
            "(1, 18)\n"
          ]
        }
      ]
    },
    {
      "cell_type": "code",
      "source": [
        "masker.invariants(sentence)"
      ],
      "metadata": {
        "id": "gii7OfL3pHxg",
        "outputId": "c0ece269-89f2-485a-9864-4b2e1472422d",
        "colab": {
          "base_uri": "https://localhost:8080/"
        }
      },
      "execution_count": 287,
      "outputs": [
        {
          "output_type": "execute_result",
          "data": {
            "text/plain": [
              "array([[ True, False, False, False, False, False, False, False, False,\n",
              "        False, False, False, False, False, False, False, False,  True]])"
            ]
          },
          "metadata": {},
          "execution_count": 287
        }
      ]
    },
    {
      "cell_type": "code",
      "source": [
        "masker.token_segments(sentence)"
      ],
      "metadata": {
        "id": "EzWXpfUfnYP2",
        "outputId": "9ce21d12-1bf7-4198-a005-5d3989fd5552",
        "colab": {
          "base_uri": "https://localhost:8080/"
        }
      },
      "execution_count": 278,
      "outputs": [
        {
          "output_type": "execute_result",
          "data": {
            "text/plain": [
              "(['',\n",
              "  'Total ',\n",
              "  'waste ',\n",
              "  'of ',\n",
              "  'time ',\n",
              "  'event',\n",
              "  'hou',\n",
              "  'gh ',\n",
              "  'the ',\n",
              "  'pop',\n",
              "  'corn',\n",
              "  's ',\n",
              "  'were ',\n",
              "  'nice ',\n",
              "  'and ',\n",
              "  'crisp',\n",
              "  'y',\n",
              "  ''],\n",
              " [101,\n",
              "  8653,\n",
              "  5671,\n",
              "  1104,\n",
              "  1159,\n",
              "  1856,\n",
              "  14640,\n",
              "  5084,\n",
              "  1103,\n",
              "  3618,\n",
              "  13433,\n",
              "  1116,\n",
              "  1127,\n",
              "  3505,\n",
              "  1105,\n",
              "  19501,\n",
              "  1183,\n",
              "  102])"
            ]
          },
          "metadata": {},
          "execution_count": 278
        }
      ]
    },
    {
      "cell_type": "markdown",
      "source": [
        "Let's see, what SHAP-values different player coalitions give us. Let's start with all input visible."
      ],
      "metadata": {
        "id": "TOY5Z_ryKowX"
      }
    },
    {
      "cell_type": "code",
      "source": [
        "a=np.zeros((len(tokenizer.convert_ids_to_tokens(tokenized['input_ids']),)), dtype=int)\n",
        "boolean_arr=a<1 # same as arr=np.array([True, True, True, True, True, True, True, True, True, True, True, True, True, True, True, True, True, True])\n",
        "\n",
        "model_args = masker(boolean_arr, sentence)\n",
        "print(f\"These are the input the model will see: \\n{model_args}\")\n",
        "print(f\"These are the values SHAP will give when the model sees all of the input:{shap_pipeline_model(*model_args)}\") \n",
        "\n",
        "# Do the neccessary reshape and compare arrays elementwise\n",
        "assert(np.equal(shap_pipeline_model(data_sample)[1],shap_pipeline_model(*model_args)).all())"
      ],
      "metadata": {
        "colab": {
          "base_uri": "https://localhost:8080/"
        },
        "id": "T4eRhIwk4Kc-",
        "outputId": "a2116a7b-d489-4f9b-c917-eceef5db36a8"
      },
      "execution_count": 275,
      "outputs": [
        {
          "output_type": "stream",
          "name": "stdout",
          "text": [
            "These are the input the model will see: \n",
            "(array(['Total waste of time eventhough the popcorns were nice and crispy'],\n",
            "      dtype='<U64'),)\n",
            "These are the values SHAP will give when the model sees all of the input:[[ 1.40898118 -1.40898089]]\n"
          ]
        }
      ]
    },
    {
      "cell_type": "code",
      "source": [
        "masker.clustering(sentence) #https://github.com/slundberg/shap/blob/45b85c1837283fdaeed7440ec6365a886af4a333/shap/maskers/_text.py#L204"
      ],
      "metadata": {
        "id": "KyDM_AD0m-6T",
        "outputId": "16d240ec-864b-448b-aaff-eafd69b01ca2",
        "colab": {
          "base_uri": "https://localhost:8080/"
        }
      },
      "execution_count": 277,
      "outputs": [
        {
          "output_type": "execute_result",
          "data": {
            "text/plain": [
              "array([[ 5.        ,  6.        ,  0.11111111,  2.        ],\n",
              "       [ 9.        , 10.        ,  0.11111111,  2.        ],\n",
              "       [15.        , 16.        ,  0.11111111,  2.        ],\n",
              "       [18.        ,  7.        ,  0.16666667,  3.        ],\n",
              "       [19.        , 11.        ,  0.16666667,  3.        ],\n",
              "       [ 0.        ,  1.        ,  0.11111111,  2.        ],\n",
              "       [ 2.        ,  3.        ,  0.11111111,  2.        ],\n",
              "       [12.        , 13.        ,  0.11111111,  2.        ],\n",
              "       [24.        ,  4.        ,  0.16666667,  3.        ],\n",
              "       [20.        , 17.        ,  0.16666667,  3.        ],\n",
              "       [21.        ,  8.        ,  0.22222222,  4.        ],\n",
              "       [23.        , 26.        ,  0.27777778,  5.        ],\n",
              "       [22.        , 25.        ,  0.27777778,  5.        ],\n",
              "       [14.        , 27.        ,  0.22222222,  4.        ],\n",
              "       [29.        , 28.        ,  0.5       ,  9.        ],\n",
              "       [30.        , 31.        ,  0.5       ,  9.        ],\n",
              "       [32.        , 33.        ,  1.        , 18.        ]])"
            ]
          },
          "metadata": {},
          "execution_count": 277
        }
      ]
    },
    {
      "cell_type": "markdown",
      "source": [
        "The base value is the value SHAP will give when the model sees none of the instance input. \n",
        "\n",
        "Lasketaan ennusteen base value, pohja-arvo. Se saadaan, kun koalitiossa ei ole yhtään osallistujaa, eli kun kaikki syötteet on poistettu.**bold text**"
      ],
      "metadata": {
        "id": "ZEQkYhmx_9Bu"
      }
    },
    {
      "cell_type": "code",
      "source": [
        "boolean_arr=a>1 # all false\n",
        "\n",
        "model_args = masker(boolean_arr, sentence)\n",
        "print(f\"These are the input the model will see: \\n{model_args}\")\n",
        "print(f\"They will give the model base values: {shap_pipeline_model(*model_args)}\")\n",
        "\n",
        "# Do the neccessary reshape and compare arrays elementwise\n",
        "assert(np.equal(shap_values[1].base_values.reshape(1,2),shap_pipeline_model(*model_args)).all())"
      ],
      "metadata": {
        "colab": {
          "base_uri": "https://localhost:8080/"
        },
        "id": "xH3_f93Z7qRr",
        "outputId": "b84dad1b-05fb-4d4a-e31d-ba00d7727a3c"
      },
      "execution_count": 258,
      "outputs": [
        {
          "output_type": "stream",
          "name": "stdout",
          "text": [
            "These are the input the model will see: \n",
            "(array(['[MASK] [MASK] [MASK] [MASK] [MASK] [MASK] [MASK] [MASK] [MASK] [MASK] [MASK] [MASK] [MASK] [MASK] [MASK] [MASK]'],\n",
            "      dtype='<U111'),)\n",
            "They will give the model base values: [[-0.3202152   0.32021545]]\n"
          ]
        }
      ]
    },
    {
      "cell_type": "markdown",
      "source": [
        "By altering the mask we get different kind of player coalitions:"
      ],
      "metadata": {
        "id": "5FzEpR8ERKbV"
      }
    },
    {
      "cell_type": "code",
      "source": [
        "boolean_arr=a<1 \n",
        "boolean_arr[2,]=False\n",
        "boolean_arr"
      ],
      "metadata": {
        "colab": {
          "base_uri": "https://localhost:8080/"
        },
        "id": "NMsxa-PfRJFr",
        "outputId": "8b2acdd0-2d95-4280-dafd-a52257556689"
      },
      "execution_count": 259,
      "outputs": [
        {
          "output_type": "execute_result",
          "data": {
            "text/plain": [
              "array([ True,  True, False,  True,  True,  True,  True,  True,  True,\n",
              "        True,  True,  True,  True,  True,  True,  True,  True,  True])"
            ]
          },
          "metadata": {},
          "execution_count": 259
        }
      ]
    },
    {
      "cell_type": "code",
      "source": [
        "model_args = masker(boolean_arr, sentence)\n",
        "print(f\"These are the input the model will see: \\n{model_args}\")\n",
        "print(f\"They will give these SHAP-values: {shap_pipeline_model(*model_args)}\")"
      ],
      "metadata": {
        "colab": {
          "base_uri": "https://localhost:8080/"
        },
        "id": "F94tDpyrRgbz",
        "outputId": "2135709d-dc60-47a4-e727-e196ba4b9c63"
      },
      "execution_count": 261,
      "outputs": [
        {
          "output_type": "stream",
          "name": "stdout",
          "text": [
            "These are the input the model will see: \n",
            "(array(['Total [MASK]of time eventhough the popcorns were nice and crispy'],\n",
            "      dtype='<U64'),)\n",
            "They will give these SHAP-values: [[-0.23010385  0.23010373]]\n"
          ]
        }
      ]
    },
    {
      "cell_type": "code",
      "source": [
        "shap.plots.bar(shap_values[1,:,\"LABEL_0\"])"
      ],
      "metadata": {
        "colab": {
          "base_uri": "https://localhost:8080/",
          "height": 418
        },
        "id": "DnIDDsz8R8WL",
        "outputId": "4605ae7f-3bba-4a61-8417-4a04e92acb8e"
      },
      "execution_count": 270,
      "outputs": [
        {
          "output_type": "display_data",
          "data": {
            "text/plain": [
              "<Figure size 576x468 with 1 Axes>"
            ],
            "image/png": "[encoded data removed]"
          },
          "metadata": {}
        }
      ]
    },
    {
      "cell_type": "code",
      "source": [
        "shap.plots.bar(shap_values[0,:,\"LABEL_1\"])"
      ],
      "metadata": {
        "colab": {
          "base_uri": "https://localhost:8080/",
          "height": 418
        },
        "id": "HJroGOGlVBL3",
        "outputId": "0fcd5e81-3785-4928-b819-a1aaa49444ca"
      },
      "execution_count": 271,
      "outputs": [
        {
          "output_type": "display_data",
          "data": {
            "text/plain": [
              "<Figure size 576x468 with 1 Axes>"
            ],
            "image/png": "[encoded data removed]"
          },
          "metadata": {}
        }
      ]
    },
    {
      "cell_type": "code",
      "source": [
        "shap_values[1]"
      ],
      "metadata": {
        "colab": {
          "base_uri": "https://localhost:8080/"
        },
        "id": "84s3rCd7AdVu",
        "outputId": "0989764f-72ca-4d36-d44b-03a8ee0f6426"
      },
      "execution_count": 168,
      "outputs": [
        {
          "output_type": "execute_result",
          "data": {
            "text/plain": [
              ".values =\n",
              "array([[ 0.        ,  0.        ],\n",
              "       [ 0.03324551, -0.03324559],\n",
              "       [ 1.46192222, -1.46192224],\n",
              "       [ 0.22847032, -0.22847024],\n",
              "       [ 0.06021367, -0.0602138 ],\n",
              "       [-0.12012957,  0.12012966],\n",
              "       [ 0.05297314, -0.05297311],\n",
              "       [-0.01781273,  0.01781267],\n",
              "       [-0.05469578,  0.05469596],\n",
              "       [-0.06059734,  0.06059724],\n",
              "       [ 0.04878633, -0.04878629],\n",
              "       [ 0.02784794, -0.02784804],\n",
              "       [ 0.2030416 , -0.20304151],\n",
              "       [-0.05937382,  0.05937382],\n",
              "       [-0.02965941,  0.02965941],\n",
              "       [-0.14124316,  0.14124321],\n",
              "       [ 0.09620747, -0.09620748],\n",
              "       [ 0.        ,  0.        ]])\n",
              "\n",
              ".base_values =\n",
              "array([-0.3202152 ,  0.32021545])\n",
              "\n",
              ".data =\n",
              "array(['', 'Total ', 'waste ', 'of ', 'time ', 'event', 'hou', 'gh ',\n",
              "       'the ', 'pop', 'corn', 's ', 'were ', 'nice ', 'and ', 'crisp',\n",
              "       'y', ''], dtype='<U6')"
            ]
          },
          "metadata": {},
          "execution_count": 168
        }
      ]
    },
    {
      "cell_type": "code",
      "source": [
        "model_args = masker(arr, sentence)\n",
        "model_args"
      ],
      "metadata": {
        "id": "HcOLw6uu6lPh"
      },
      "execution_count": null,
      "outputs": []
    },
    {
      "cell_type": "code",
      "source": [
        "arr[2,]=False\n",
        "arr"
      ],
      "metadata": {
        "colab": {
          "base_uri": "https://localhost:8080/"
        },
        "id": "XG3OdLf_zwqS",
        "outputId": "2a6ee3b9-2c8c-4840-d4fe-51873c438c09"
      },
      "execution_count": 83,
      "outputs": [
        {
          "output_type": "execute_result",
          "data": {
            "text/plain": [
              "array([ True,  True, False,  True,  True,  True,  True,  True,  True,\n",
              "        True,  True,  True,  True,  True,  True,  True,  True,  True])"
            ]
          },
          "metadata": {},
          "execution_count": 83
        }
      ]
    },
    {
      "cell_type": "code",
      "source": [
        "model_args = masker(arr, sentence)\n",
        "model_args"
      ],
      "metadata": {
        "colab": {
          "base_uri": "https://localhost:8080/"
        },
        "id": "j18dUuVt0d4v",
        "outputId": "e32640a5-5f60-48fc-c065-78638c509217"
      },
      "execution_count": 84,
      "outputs": [
        {
          "output_type": "execute_result",
          "data": {
            "text/plain": [
              "(array(['Total [MASK]of time eventhough the popcorns were nice and crispy'],\n",
              "       dtype='<U64'),)"
            ]
          },
          "metadata": {},
          "execution_count": 84
        }
      ]
    },
    {
      "cell_type": "code",
      "source": [
        "vals=shap_pipeline_model(*model_args)"
      ],
      "metadata": {
        "id": "e0FlpavN0xv0"
      },
      "execution_count": 85,
      "outputs": []
    },
    {
      "cell_type": "code",
      "source": [
        "vals"
      ],
      "metadata": {
        "colab": {
          "base_uri": "https://localhost:8080/"
        },
        "id": "iFm4_hl700hH",
        "outputId": "74078b8f-641d-4a0e-e2f3-d6be30306c31"
      },
      "execution_count": 100,
      "outputs": [
        {
          "output_type": "execute_result",
          "data": {
            "text/plain": [
              "array([[-0.23010385,  0.23010373]])"
            ]
          },
          "metadata": {},
          "execution_count": 100
        }
      ]
    },
    {
      "cell_type": "markdown",
      "source": [
        "# End"
      ],
      "metadata": {
        "id": "R2ErJH3LxpDi"
      }
    },
    {
      "cell_type": "code",
      "source": [
        ""
      ],
      "metadata": {
        "id": "1YyXvyQJxqyg"
      },
      "execution_count": null,
      "outputs": []
    }
  ],
  "metadata": {
    "colab": {
      "name": "Text Classification on GLUE",
      "provenance": [],
      "toc_visible": true,
      "include_colab_link": true
    },
    "kernelspec": {
      "display_name": "Python 3 (ipykernel)",
      "language": "python",
      "name": "python3"
    },
    "language_info": {
      "codemirror_mode": {
        "name": "ipython",
        "version": 3
      },
      "file_extension": ".py",
      "mimetype": "text/x-python",
      "name": "python",
      "nbconvert_exporter": "python",
      "pygments_lexer": "ipython3",
      "version": "3.9.6"
    },
    "accelerator": "GPU",
    "widgets": {
      "application/vnd.jupyter.widget-state+json": {
        "1051913cc4894114a2c759030823b751": {
          "model_module": "@jupyter-widgets/controls",
          "model_name": "HBoxModel",
          "model_module_version": "1.5.0",
          "state": {
            "_dom_classes": [],
            "_model_module": "@jupyter-widgets/controls",
            "_model_module_version": "1.5.0",
            "_model_name": "HBoxModel",
            "_view_count": null,
            "_view_module": "@jupyter-widgets/controls",
            "_view_module_version": "1.5.0",
            "_view_name": "HBoxView",
            "box_style": "",
            "children": [
              "IPY_MODEL_813fb0fe3a234c658a86322ffc150ca0",
              "IPY_MODEL_b4e4b4293bd74e01bbdb21325b0b0552",
              "IPY_MODEL_fe577a02e3e94859a4026baad9e4183e"
            ],
            "layout": "IPY_MODEL_54c7e07dfce64657b628c5e152f6bc0e"
          }
        },
        "813fb0fe3a234c658a86322ffc150ca0": {
          "model_module": "@jupyter-widgets/controls",
          "model_name": "HTMLModel",
          "model_module_version": "1.5.0",
          "state": {
            "_dom_classes": [],
            "_model_module": "@jupyter-widgets/controls",
            "_model_module_version": "1.5.0",
            "_model_name": "HTMLModel",
            "_view_count": null,
            "_view_module": "@jupyter-widgets/controls",
            "_view_module_version": "1.5.0",
            "_view_name": "HTMLView",
            "description": "",
            "description_tooltip": null,
            "layout": "IPY_MODEL_35dc254026fc440f95a97843061f79b4",
            "placeholder": "​",
            "style": "IPY_MODEL_93f99f8e137e467ab26d884332cadfab",
            "value": "Downloading builder script: "
          }
        },
        "b4e4b4293bd74e01bbdb21325b0b0552": {
          "model_module": "@jupyter-widgets/controls",
          "model_name": "FloatProgressModel",
          "model_module_version": "1.5.0",
          "state": {
            "_dom_classes": [],
            "_model_module": "@jupyter-widgets/controls",
            "_model_module_version": "1.5.0",
            "_model_name": "FloatProgressModel",
            "_view_count": null,
            "_view_module": "@jupyter-widgets/controls",
            "_view_module_version": "1.5.0",
            "_view_name": "ProgressView",
            "bar_style": "success",
            "description": "",
            "description_tooltip": null,
            "layout": "IPY_MODEL_bb327fac451b49a1983c810b98603d21",
            "max": 1789,
            "min": 0,
            "orientation": "horizontal",
            "style": "IPY_MODEL_4776f1ac98d44baa96d5712a9272ffe8",
            "value": 1789
          }
        },
        "fe577a02e3e94859a4026baad9e4183e": {
          "model_module": "@jupyter-widgets/controls",
          "model_name": "HTMLModel",
          "model_module_version": "1.5.0",
          "state": {
            "_dom_classes": [],
            "_model_module": "@jupyter-widgets/controls",
            "_model_module_version": "1.5.0",
            "_model_name": "HTMLModel",
            "_view_count": null,
            "_view_module": "@jupyter-widgets/controls",
            "_view_module_version": "1.5.0",
            "_view_name": "HTMLView",
            "description": "",
            "description_tooltip": null,
            "layout": "IPY_MODEL_018129f6e1dc40da81f60b7ca7ac5a6e",
            "placeholder": "​",
            "style": "IPY_MODEL_924978f737e44fc2826ef395d7592769",
            "value": " 4.31k/? [00:00&lt;00:00, 81.1kB/s]"
          }
        },
        "54c7e07dfce64657b628c5e152f6bc0e": {
          "model_module": "@jupyter-widgets/base",
          "model_name": "LayoutModel",
          "model_module_version": "1.2.0",
          "state": {
            "_model_module": "@jupyter-widgets/base",
            "_model_module_version": "1.2.0",
            "_model_name": "LayoutModel",
            "_view_count": null,
            "_view_module": "@jupyter-widgets/base",
            "_view_module_version": "1.2.0",
            "_view_name": "LayoutView",
            "align_content": null,
            "align_items": null,
            "align_self": null,
            "border": null,
            "bottom": null,
            "display": null,
            "flex": null,
            "flex_flow": null,
            "grid_area": null,
            "grid_auto_columns": null,
            "grid_auto_flow": null,
            "grid_auto_rows": null,
            "grid_column": null,
            "grid_gap": null,
            "grid_row": null,
            "grid_template_areas": null,
            "grid_template_columns": null,
            "grid_template_rows": null,
            "height": null,
            "justify_content": null,
            "justify_items": null,
            "left": null,
            "margin": null,
            "max_height": null,
            "max_width": null,
            "min_height": null,
            "min_width": null,
            "object_fit": null,
            "object_position": null,
            "order": null,
            "overflow": null,
            "overflow_x": null,
            "overflow_y": null,
            "padding": null,
            "right": null,
            "top": null,
            "visibility": null,
            "width": null
          }
        },
        "35dc254026fc440f95a97843061f79b4": {
          "model_module": "@jupyter-widgets/base",
          "model_name": "LayoutModel",
          "model_module_version": "1.2.0",
          "state": {
            "_model_module": "@jupyter-widgets/base",
            "_model_module_version": "1.2.0",
            "_model_name": "LayoutModel",
            "_view_count": null,
            "_view_module": "@jupyter-widgets/base",
            "_view_module_version": "1.2.0",
            "_view_name": "LayoutView",
            "align_content": null,
            "align_items": null,
            "align_self": null,
            "border": null,
            "bottom": null,
            "display": null,
            "flex": null,
            "flex_flow": null,
            "grid_area": null,
            "grid_auto_columns": null,
            "grid_auto_flow": null,
            "grid_auto_rows": null,
            "grid_column": null,
            "grid_gap": null,
            "grid_row": null,
            "grid_template_areas": null,
            "grid_template_columns": null,
            "grid_template_rows": null,
            "height": null,
            "justify_content": null,
            "justify_items": null,
            "left": null,
            "margin": null,
            "max_height": null,
            "max_width": null,
            "min_height": null,
            "min_width": null,
            "object_fit": null,
            "object_position": null,
            "order": null,
            "overflow": null,
            "overflow_x": null,
            "overflow_y": null,
            "padding": null,
            "right": null,
            "top": null,
            "visibility": null,
            "width": null
          }
        },
        "93f99f8e137e467ab26d884332cadfab": {
          "model_module": "@jupyter-widgets/controls",
          "model_name": "DescriptionStyleModel",
          "model_module_version": "1.5.0",
          "state": {
            "_model_module": "@jupyter-widgets/controls",
            "_model_module_version": "1.5.0",
            "_model_name": "DescriptionStyleModel",
            "_view_count": null,
            "_view_module": "@jupyter-widgets/base",
            "_view_module_version": "1.2.0",
            "_view_name": "StyleView",
            "description_width": ""
          }
        },
        "bb327fac451b49a1983c810b98603d21": {
          "model_module": "@jupyter-widgets/base",
          "model_name": "LayoutModel",
          "model_module_version": "1.2.0",
          "state": {
            "_model_module": "@jupyter-widgets/base",
            "_model_module_version": "1.2.0",
            "_model_name": "LayoutModel",
            "_view_count": null,
            "_view_module": "@jupyter-widgets/base",
            "_view_module_version": "1.2.0",
            "_view_name": "LayoutView",
            "align_content": null,
            "align_items": null,
            "align_self": null,
            "border": null,
            "bottom": null,
            "display": null,
            "flex": null,
            "flex_flow": null,
            "grid_area": null,
            "grid_auto_columns": null,
            "grid_auto_flow": null,
            "grid_auto_rows": null,
            "grid_column": null,
            "grid_gap": null,
            "grid_row": null,
            "grid_template_areas": null,
            "grid_template_columns": null,
            "grid_template_rows": null,
            "height": null,
            "justify_content": null,
            "justify_items": null,
            "left": null,
            "margin": null,
            "max_height": null,
            "max_width": null,
            "min_height": null,
            "min_width": null,
            "object_fit": null,
            "object_position": null,
            "order": null,
            "overflow": null,
            "overflow_x": null,
            "overflow_y": null,
            "padding": null,
            "right": null,
            "top": null,
            "visibility": null,
            "width": null
          }
        },
        "4776f1ac98d44baa96d5712a9272ffe8": {
          "model_module": "@jupyter-widgets/controls",
          "model_name": "ProgressStyleModel",
          "model_module_version": "1.5.0",
          "state": {
            "_model_module": "@jupyter-widgets/controls",
            "_model_module_version": "1.5.0",
            "_model_name": "ProgressStyleModel",
            "_view_count": null,
            "_view_module": "@jupyter-widgets/base",
            "_view_module_version": "1.2.0",
            "_view_name": "StyleView",
            "bar_color": null,
            "description_width": ""
          }
        },
        "018129f6e1dc40da81f60b7ca7ac5a6e": {
          "model_module": "@jupyter-widgets/base",
          "model_name": "LayoutModel",
          "model_module_version": "1.2.0",
          "state": {
            "_model_module": "@jupyter-widgets/base",
            "_model_module_version": "1.2.0",
            "_model_name": "LayoutModel",
            "_view_count": null,
            "_view_module": "@jupyter-widgets/base",
            "_view_module_version": "1.2.0",
            "_view_name": "LayoutView",
            "align_content": null,
            "align_items": null,
            "align_self": null,
            "border": null,
            "bottom": null,
            "display": null,
            "flex": null,
            "flex_flow": null,
            "grid_area": null,
            "grid_auto_columns": null,
            "grid_auto_flow": null,
            "grid_auto_rows": null,
            "grid_column": null,
            "grid_gap": null,
            "grid_row": null,
            "grid_template_areas": null,
            "grid_template_columns": null,
            "grid_template_rows": null,
            "height": null,
            "justify_content": null,
            "justify_items": null,
            "left": null,
            "margin": null,
            "max_height": null,
            "max_width": null,
            "min_height": null,
            "min_width": null,
            "object_fit": null,
            "object_position": null,
            "order": null,
            "overflow": null,
            "overflow_x": null,
            "overflow_y": null,
            "padding": null,
            "right": null,
            "top": null,
            "visibility": null,
            "width": null
          }
        },
        "924978f737e44fc2826ef395d7592769": {
          "model_module": "@jupyter-widgets/controls",
          "model_name": "DescriptionStyleModel",
          "model_module_version": "1.5.0",
          "state": {
            "_model_module": "@jupyter-widgets/controls",
            "_model_module_version": "1.5.0",
            "_model_name": "DescriptionStyleModel",
            "_view_count": null,
            "_view_module": "@jupyter-widgets/base",
            "_view_module_version": "1.2.0",
            "_view_name": "StyleView",
            "description_width": ""
          }
        },
        "a86050fb7e5b4600af1703e8a5445a59": {
          "model_module": "@jupyter-widgets/controls",
          "model_name": "HBoxModel",
          "model_module_version": "1.5.0",
          "state": {
            "_dom_classes": [],
            "_model_module": "@jupyter-widgets/controls",
            "_model_module_version": "1.5.0",
            "_model_name": "HBoxModel",
            "_view_count": null,
            "_view_module": "@jupyter-widgets/controls",
            "_view_module_version": "1.5.0",
            "_view_name": "HBoxView",
            "box_style": "",
            "children": [
              "IPY_MODEL_a1b8885564034a979df7abb864859ad6",
              "IPY_MODEL_f52d7636844541d9801357968aa21969",
              "IPY_MODEL_6294b10b99ad411791c452e203180b9d"
            ],
            "layout": "IPY_MODEL_5a4941d4e4f9436ebe099644eeddb47b"
          }
        },
        "a1b8885564034a979df7abb864859ad6": {
          "model_module": "@jupyter-widgets/controls",
          "model_name": "HTMLModel",
          "model_module_version": "1.5.0",
          "state": {
            "_dom_classes": [],
            "_model_module": "@jupyter-widgets/controls",
            "_model_module_version": "1.5.0",
            "_model_name": "HTMLModel",
            "_view_count": null,
            "_view_module": "@jupyter-widgets/controls",
            "_view_module_version": "1.5.0",
            "_view_name": "HTMLView",
            "description": "",
            "description_tooltip": null,
            "layout": "IPY_MODEL_04af4edf2cfc42059d1a4c7e98f79b71",
            "placeholder": "​",
            "style": "IPY_MODEL_e0dc0e5417464d5faeb86d5e48b07ace",
            "value": "Downloading metadata: "
          }
        },
        "f52d7636844541d9801357968aa21969": {
          "model_module": "@jupyter-widgets/controls",
          "model_name": "FloatProgressModel",
          "model_module_version": "1.5.0",
          "state": {
            "_dom_classes": [],
            "_model_module": "@jupyter-widgets/controls",
            "_model_module_version": "1.5.0",
            "_model_name": "FloatProgressModel",
            "_view_count": null,
            "_view_module": "@jupyter-widgets/controls",
            "_view_module_version": "1.5.0",
            "_view_name": "ProgressView",
            "bar_style": "success",
            "description": "",
            "description_tooltip": null,
            "layout": "IPY_MODEL_3d92509e14e84d2ea67bc368c466cbd9",
            "max": 1054,
            "min": 0,
            "orientation": "horizontal",
            "style": "IPY_MODEL_2b16c4a06e1a443cb41419c840f3f017",
            "value": 1054
          }
        },
        "6294b10b99ad411791c452e203180b9d": {
          "model_module": "@jupyter-widgets/controls",
          "model_name": "HTMLModel",
          "model_module_version": "1.5.0",
          "state": {
            "_dom_classes": [],
            "_model_module": "@jupyter-widgets/controls",
            "_model_module_version": "1.5.0",
            "_model_name": "HTMLModel",
            "_view_count": null,
            "_view_module": "@jupyter-widgets/controls",
            "_view_module_version": "1.5.0",
            "_view_name": "HTMLView",
            "description": "",
            "description_tooltip": null,
            "layout": "IPY_MODEL_5c12e687717b45f4bfe03974bdd82bb4",
            "placeholder": "​",
            "style": "IPY_MODEL_0b92acd8a50b4fa08fc195f224f39887",
            "value": " 2.17k/? [00:00&lt;00:00, 57.6kB/s]"
          }
        },
        "5a4941d4e4f9436ebe099644eeddb47b": {
          "model_module": "@jupyter-widgets/base",
          "model_name": "LayoutModel",
          "model_module_version": "1.2.0",
          "state": {
            "_model_module": "@jupyter-widgets/base",
            "_model_module_version": "1.2.0",
            "_model_name": "LayoutModel",
            "_view_count": null,
            "_view_module": "@jupyter-widgets/base",
            "_view_module_version": "1.2.0",
            "_view_name": "LayoutView",
            "align_content": null,
            "align_items": null,
            "align_self": null,
            "border": null,
            "bottom": null,
            "display": null,
            "flex": null,
            "flex_flow": null,
            "grid_area": null,
            "grid_auto_columns": null,
            "grid_auto_flow": null,
            "grid_auto_rows": null,
            "grid_column": null,
            "grid_gap": null,
            "grid_row": null,
            "grid_template_areas": null,
            "grid_template_columns": null,
            "grid_template_rows": null,
            "height": null,
            "justify_content": null,
            "justify_items": null,
            "left": null,
            "margin": null,
            "max_height": null,
            "max_width": null,
            "min_height": null,
            "min_width": null,
            "object_fit": null,
            "object_position": null,
            "order": null,
            "overflow": null,
            "overflow_x": null,
            "overflow_y": null,
            "padding": null,
            "right": null,
            "top": null,
            "visibility": null,
            "width": null
          }
        },
        "04af4edf2cfc42059d1a4c7e98f79b71": {
          "model_module": "@jupyter-widgets/base",
          "model_name": "LayoutModel",
          "model_module_version": "1.2.0",
          "state": {
            "_model_module": "@jupyter-widgets/base",
            "_model_module_version": "1.2.0",
            "_model_name": "LayoutModel",
            "_view_count": null,
            "_view_module": "@jupyter-widgets/base",
            "_view_module_version": "1.2.0",
            "_view_name": "LayoutView",
            "align_content": null,
            "align_items": null,
            "align_self": null,
            "border": null,
            "bottom": null,
            "display": null,
            "flex": null,
            "flex_flow": null,
            "grid_area": null,
            "grid_auto_columns": null,
            "grid_auto_flow": null,
            "grid_auto_rows": null,
            "grid_column": null,
            "grid_gap": null,
            "grid_row": null,
            "grid_template_areas": null,
            "grid_template_columns": null,
            "grid_template_rows": null,
            "height": null,
            "justify_content": null,
            "justify_items": null,
            "left": null,
            "margin": null,
            "max_height": null,
            "max_width": null,
            "min_height": null,
            "min_width": null,
            "object_fit": null,
            "object_position": null,
            "order": null,
            "overflow": null,
            "overflow_x": null,
            "overflow_y": null,
            "padding": null,
            "right": null,
            "top": null,
            "visibility": null,
            "width": null
          }
        },
        "e0dc0e5417464d5faeb86d5e48b07ace": {
          "model_module": "@jupyter-widgets/controls",
          "model_name": "DescriptionStyleModel",
          "model_module_version": "1.5.0",
          "state": {
            "_model_module": "@jupyter-widgets/controls",
            "_model_module_version": "1.5.0",
            "_model_name": "DescriptionStyleModel",
            "_view_count": null,
            "_view_module": "@jupyter-widgets/base",
            "_view_module_version": "1.2.0",
            "_view_name": "StyleView",
            "description_width": ""
          }
        },
        "3d92509e14e84d2ea67bc368c466cbd9": {
          "model_module": "@jupyter-widgets/base",
          "model_name": "LayoutModel",
          "model_module_version": "1.2.0",
          "state": {
            "_model_module": "@jupyter-widgets/base",
            "_model_module_version": "1.2.0",
            "_model_name": "LayoutModel",
            "_view_count": null,
            "_view_module": "@jupyter-widgets/base",
            "_view_module_version": "1.2.0",
            "_view_name": "LayoutView",
            "align_content": null,
            "align_items": null,
            "align_self": null,
            "border": null,
            "bottom": null,
            "display": null,
            "flex": null,
            "flex_flow": null,
            "grid_area": null,
            "grid_auto_columns": null,
            "grid_auto_flow": null,
            "grid_auto_rows": null,
            "grid_column": null,
            "grid_gap": null,
            "grid_row": null,
            "grid_template_areas": null,
            "grid_template_columns": null,
            "grid_template_rows": null,
            "height": null,
            "justify_content": null,
            "justify_items": null,
            "left": null,
            "margin": null,
            "max_height": null,
            "max_width": null,
            "min_height": null,
            "min_width": null,
            "object_fit": null,
            "object_position": null,
            "order": null,
            "overflow": null,
            "overflow_x": null,
            "overflow_y": null,
            "padding": null,
            "right": null,
            "top": null,
            "visibility": null,
            "width": null
          }
        },
        "2b16c4a06e1a443cb41419c840f3f017": {
          "model_module": "@jupyter-widgets/controls",
          "model_name": "ProgressStyleModel",
          "model_module_version": "1.5.0",
          "state": {
            "_model_module": "@jupyter-widgets/controls",
            "_model_module_version": "1.5.0",
            "_model_name": "ProgressStyleModel",
            "_view_count": null,
            "_view_module": "@jupyter-widgets/base",
            "_view_module_version": "1.2.0",
            "_view_name": "StyleView",
            "bar_color": null,
            "description_width": ""
          }
        },
        "5c12e687717b45f4bfe03974bdd82bb4": {
          "model_module": "@jupyter-widgets/base",
          "model_name": "LayoutModel",
          "model_module_version": "1.2.0",
          "state": {
            "_model_module": "@jupyter-widgets/base",
            "_model_module_version": "1.2.0",
            "_model_name": "LayoutModel",
            "_view_count": null,
            "_view_module": "@jupyter-widgets/base",
            "_view_module_version": "1.2.0",
            "_view_name": "LayoutView",
            "align_content": null,
            "align_items": null,
            "align_self": null,
            "border": null,
            "bottom": null,
            "display": null,
            "flex": null,
            "flex_flow": null,
            "grid_area": null,
            "grid_auto_columns": null,
            "grid_auto_flow": null,
            "grid_auto_rows": null,
            "grid_column": null,
            "grid_gap": null,
            "grid_row": null,
            "grid_template_areas": null,
            "grid_template_columns": null,
            "grid_template_rows": null,
            "height": null,
            "justify_content": null,
            "justify_items": null,
            "left": null,
            "margin": null,
            "max_height": null,
            "max_width": null,
            "min_height": null,
            "min_width": null,
            "object_fit": null,
            "object_position": null,
            "order": null,
            "overflow": null,
            "overflow_x": null,
            "overflow_y": null,
            "padding": null,
            "right": null,
            "top": null,
            "visibility": null,
            "width": null
          }
        },
        "0b92acd8a50b4fa08fc195f224f39887": {
          "model_module": "@jupyter-widgets/controls",
          "model_name": "DescriptionStyleModel",
          "model_module_version": "1.5.0",
          "state": {
            "_model_module": "@jupyter-widgets/controls",
            "_model_module_version": "1.5.0",
            "_model_name": "DescriptionStyleModel",
            "_view_count": null,
            "_view_module": "@jupyter-widgets/base",
            "_view_module_version": "1.2.0",
            "_view_name": "StyleView",
            "description_width": ""
          }
        },
        "dcec73883a0c4fbea939da1e6cbeba18": {
          "model_module": "@jupyter-widgets/controls",
          "model_name": "HBoxModel",
          "model_module_version": "1.5.0",
          "state": {
            "_dom_classes": [],
            "_model_module": "@jupyter-widgets/controls",
            "_model_module_version": "1.5.0",
            "_model_name": "HBoxModel",
            "_view_count": null,
            "_view_module": "@jupyter-widgets/controls",
            "_view_module_version": "1.5.0",
            "_view_name": "HBoxView",
            "box_style": "",
            "children": [
              "IPY_MODEL_0b807568bb7d46398e72bffb6e854345",
              "IPY_MODEL_485b0fc35ab14cbe8bfe2aea29ae7bc4",
              "IPY_MODEL_88deb96141504ad992492a1899228386"
            ],
            "layout": "IPY_MODEL_b148ce4bbee24e75a74f586802c10500"
          }
        },
        "0b807568bb7d46398e72bffb6e854345": {
          "model_module": "@jupyter-widgets/controls",
          "model_name": "HTMLModel",
          "model_module_version": "1.5.0",
          "state": {
            "_dom_classes": [],
            "_model_module": "@jupyter-widgets/controls",
            "_model_module_version": "1.5.0",
            "_model_name": "HTMLModel",
            "_view_count": null,
            "_view_module": "@jupyter-widgets/controls",
            "_view_module_version": "1.5.0",
            "_view_name": "HTMLView",
            "description": "",
            "description_tooltip": null,
            "layout": "IPY_MODEL_bb5c7822d6bc49c29c0062f902f90a56",
            "placeholder": "​",
            "style": "IPY_MODEL_b66b399110b447fda44f110fc2847ff2",
            "value": "Downloading data: 100%"
          }
        },
        "485b0fc35ab14cbe8bfe2aea29ae7bc4": {
          "model_module": "@jupyter-widgets/controls",
          "model_name": "FloatProgressModel",
          "model_module_version": "1.5.0",
          "state": {
            "_dom_classes": [],
            "_model_module": "@jupyter-widgets/controls",
            "_model_module_version": "1.5.0",
            "_model_name": "FloatProgressModel",
            "_view_count": null,
            "_view_module": "@jupyter-widgets/controls",
            "_view_module_version": "1.5.0",
            "_view_name": "ProgressView",
            "bar_style": "success",
            "description": "",
            "description_tooltip": null,
            "layout": "IPY_MODEL_10577bb43d204ae5b3130dbd38bb84ab",
            "max": 84125825,
            "min": 0,
            "orientation": "horizontal",
            "style": "IPY_MODEL_871b7424021e4ab4bc7d6a7330ef4ff8",
            "value": 84125825
          }
        },
        "88deb96141504ad992492a1899228386": {
          "model_module": "@jupyter-widgets/controls",
          "model_name": "HTMLModel",
          "model_module_version": "1.5.0",
          "state": {
            "_dom_classes": [],
            "_model_module": "@jupyter-widgets/controls",
            "_model_module_version": "1.5.0",
            "_model_name": "HTMLModel",
            "_view_count": null,
            "_view_module": "@jupyter-widgets/controls",
            "_view_module_version": "1.5.0",
            "_view_name": "HTMLView",
            "description": "",
            "description_tooltip": null,
            "layout": "IPY_MODEL_8c5a383767084dd1877371f2b0252144",
            "placeholder": "​",
            "style": "IPY_MODEL_fe1b020c079b4bfe84994ef0d01cb8d2",
            "value": " 84.1M/84.1M [00:02&lt;00:00, 51.4MB/s]"
          }
        },
        "b148ce4bbee24e75a74f586802c10500": {
          "model_module": "@jupyter-widgets/base",
          "model_name": "LayoutModel",
          "model_module_version": "1.2.0",
          "state": {
            "_model_module": "@jupyter-widgets/base",
            "_model_module_version": "1.2.0",
            "_model_name": "LayoutModel",
            "_view_count": null,
            "_view_module": "@jupyter-widgets/base",
            "_view_module_version": "1.2.0",
            "_view_name": "LayoutView",
            "align_content": null,
            "align_items": null,
            "align_self": null,
            "border": null,
            "bottom": null,
            "display": null,
            "flex": null,
            "flex_flow": null,
            "grid_area": null,
            "grid_auto_columns": null,
            "grid_auto_flow": null,
            "grid_auto_rows": null,
            "grid_column": null,
            "grid_gap": null,
            "grid_row": null,
            "grid_template_areas": null,
            "grid_template_columns": null,
            "grid_template_rows": null,
            "height": null,
            "justify_content": null,
            "justify_items": null,
            "left": null,
            "margin": null,
            "max_height": null,
            "max_width": null,
            "min_height": null,
            "min_width": null,
            "object_fit": null,
            "object_position": null,
            "order": null,
            "overflow": null,
            "overflow_x": null,
            "overflow_y": null,
            "padding": null,
            "right": null,
            "top": null,
            "visibility": null,
            "width": null
          }
        },
        "bb5c7822d6bc49c29c0062f902f90a56": {
          "model_module": "@jupyter-widgets/base",
          "model_name": "LayoutModel",
          "model_module_version": "1.2.0",
          "state": {
            "_model_module": "@jupyter-widgets/base",
            "_model_module_version": "1.2.0",
            "_model_name": "LayoutModel",
            "_view_count": null,
            "_view_module": "@jupyter-widgets/base",
            "_view_module_version": "1.2.0",
            "_view_name": "LayoutView",
            "align_content": null,
            "align_items": null,
            "align_self": null,
            "border": null,
            "bottom": null,
            "display": null,
            "flex": null,
            "flex_flow": null,
            "grid_area": null,
            "grid_auto_columns": null,
            "grid_auto_flow": null,
            "grid_auto_rows": null,
            "grid_column": null,
            "grid_gap": null,
            "grid_row": null,
            "grid_template_areas": null,
            "grid_template_columns": null,
            "grid_template_rows": null,
            "height": null,
            "justify_content": null,
            "justify_items": null,
            "left": null,
            "margin": null,
            "max_height": null,
            "max_width": null,
            "min_height": null,
            "min_width": null,
            "object_fit": null,
            "object_position": null,
            "order": null,
            "overflow": null,
            "overflow_x": null,
            "overflow_y": null,
            "padding": null,
            "right": null,
            "top": null,
            "visibility": null,
            "width": null
          }
        },
        "b66b399110b447fda44f110fc2847ff2": {
          "model_module": "@jupyter-widgets/controls",
          "model_name": "DescriptionStyleModel",
          "model_module_version": "1.5.0",
          "state": {
            "_model_module": "@jupyter-widgets/controls",
            "_model_module_version": "1.5.0",
            "_model_name": "DescriptionStyleModel",
            "_view_count": null,
            "_view_module": "@jupyter-widgets/base",
            "_view_module_version": "1.2.0",
            "_view_name": "StyleView",
            "description_width": ""
          }
        },
        "10577bb43d204ae5b3130dbd38bb84ab": {
          "model_module": "@jupyter-widgets/base",
          "model_name": "LayoutModel",
          "model_module_version": "1.2.0",
          "state": {
            "_model_module": "@jupyter-widgets/base",
            "_model_module_version": "1.2.0",
            "_model_name": "LayoutModel",
            "_view_count": null,
            "_view_module": "@jupyter-widgets/base",
            "_view_module_version": "1.2.0",
            "_view_name": "LayoutView",
            "align_content": null,
            "align_items": null,
            "align_self": null,
            "border": null,
            "bottom": null,
            "display": null,
            "flex": null,
            "flex_flow": null,
            "grid_area": null,
            "grid_auto_columns": null,
            "grid_auto_flow": null,
            "grid_auto_rows": null,
            "grid_column": null,
            "grid_gap": null,
            "grid_row": null,
            "grid_template_areas": null,
            "grid_template_columns": null,
            "grid_template_rows": null,
            "height": null,
            "justify_content": null,
            "justify_items": null,
            "left": null,
            "margin": null,
            "max_height": null,
            "max_width": null,
            "min_height": null,
            "min_width": null,
            "object_fit": null,
            "object_position": null,
            "order": null,
            "overflow": null,
            "overflow_x": null,
            "overflow_y": null,
            "padding": null,
            "right": null,
            "top": null,
            "visibility": null,
            "width": null
          }
        },
        "871b7424021e4ab4bc7d6a7330ef4ff8": {
          "model_module": "@jupyter-widgets/controls",
          "model_name": "ProgressStyleModel",
          "model_module_version": "1.5.0",
          "state": {
            "_model_module": "@jupyter-widgets/controls",
            "_model_module_version": "1.5.0",
            "_model_name": "ProgressStyleModel",
            "_view_count": null,
            "_view_module": "@jupyter-widgets/base",
            "_view_module_version": "1.2.0",
            "_view_name": "StyleView",
            "bar_color": null,
            "description_width": ""
          }
        },
        "8c5a383767084dd1877371f2b0252144": {
          "model_module": "@jupyter-widgets/base",
          "model_name": "LayoutModel",
          "model_module_version": "1.2.0",
          "state": {
            "_model_module": "@jupyter-widgets/base",
            "_model_module_version": "1.2.0",
            "_model_name": "LayoutModel",
            "_view_count": null,
            "_view_module": "@jupyter-widgets/base",
            "_view_module_version": "1.2.0",
            "_view_name": "LayoutView",
            "align_content": null,
            "align_items": null,
            "align_self": null,
            "border": null,
            "bottom": null,
            "display": null,
            "flex": null,
            "flex_flow": null,
            "grid_area": null,
            "grid_auto_columns": null,
            "grid_auto_flow": null,
            "grid_auto_rows": null,
            "grid_column": null,
            "grid_gap": null,
            "grid_row": null,
            "grid_template_areas": null,
            "grid_template_columns": null,
            "grid_template_rows": null,
            "height": null,
            "justify_content": null,
            "justify_items": null,
            "left": null,
            "margin": null,
            "max_height": null,
            "max_width": null,
            "min_height": null,
            "min_width": null,
            "object_fit": null,
            "object_position": null,
            "order": null,
            "overflow": null,
            "overflow_x": null,
            "overflow_y": null,
            "padding": null,
            "right": null,
            "top": null,
            "visibility": null,
            "width": null
          }
        },
        "fe1b020c079b4bfe84994ef0d01cb8d2": {
          "model_module": "@jupyter-widgets/controls",
          "model_name": "DescriptionStyleModel",
          "model_module_version": "1.5.0",
          "state": {
            "_model_module": "@jupyter-widgets/controls",
            "_model_module_version": "1.5.0",
            "_model_name": "DescriptionStyleModel",
            "_view_count": null,
            "_view_module": "@jupyter-widgets/base",
            "_view_module_version": "1.2.0",
            "_view_name": "StyleView",
            "description_width": ""
          }
        },
        "e0ed361d2d09493b915ad0580d3c5f14": {
          "model_module": "@jupyter-widgets/controls",
          "model_name": "HBoxModel",
          "model_module_version": "1.5.0",
          "state": {
            "_dom_classes": [],
            "_model_module": "@jupyter-widgets/controls",
            "_model_module_version": "1.5.0",
            "_model_name": "HBoxModel",
            "_view_count": null,
            "_view_module": "@jupyter-widgets/controls",
            "_view_module_version": "1.5.0",
            "_view_name": "HBoxView",
            "box_style": "",
            "children": [
              "IPY_MODEL_5ead183d0e7d4fbd8624f8c8d96a00f6",
              "IPY_MODEL_6b711abfe8f44923af57024532604f8e",
              "IPY_MODEL_3329d21977ed4110bcc9935c604a8617"
            ],
            "layout": "IPY_MODEL_e4398b4a68844a4ea63a0e38b3ca15f7"
          }
        },
        "5ead183d0e7d4fbd8624f8c8d96a00f6": {
          "model_module": "@jupyter-widgets/controls",
          "model_name": "HTMLModel",
          "model_module_version": "1.5.0",
          "state": {
            "_dom_classes": [],
            "_model_module": "@jupyter-widgets/controls",
            "_model_module_version": "1.5.0",
            "_model_name": "HTMLModel",
            "_view_count": null,
            "_view_module": "@jupyter-widgets/controls",
            "_view_module_version": "1.5.0",
            "_view_name": "HTMLView",
            "description": "",
            "description_tooltip": null,
            "layout": "IPY_MODEL_9b1501cad74b4f199bb57cbb6cb4f6c0",
            "placeholder": "​",
            "style": "IPY_MODEL_f3de01d3c23d488ba4031f889a890a8f",
            "value": "Generating train split:  97%"
          }
        },
        "6b711abfe8f44923af57024532604f8e": {
          "model_module": "@jupyter-widgets/controls",
          "model_name": "FloatProgressModel",
          "model_module_version": "1.5.0",
          "state": {
            "_dom_classes": [],
            "_model_module": "@jupyter-widgets/controls",
            "_model_module_version": "1.5.0",
            "_model_name": "FloatProgressModel",
            "_view_count": null,
            "_view_module": "@jupyter-widgets/controls",
            "_view_module_version": "1.5.0",
            "_view_name": "ProgressView",
            "bar_style": "",
            "description": "",
            "description_tooltip": null,
            "layout": "IPY_MODEL_a22102092cd5494fbfe434157425c5ca",
            "max": 25000,
            "min": 0,
            "orientation": "horizontal",
            "style": "IPY_MODEL_e6d0c46b706e4270bb7932c22400e471",
            "value": 25000
          }
        },
        "3329d21977ed4110bcc9935c604a8617": {
          "model_module": "@jupyter-widgets/controls",
          "model_name": "HTMLModel",
          "model_module_version": "1.5.0",
          "state": {
            "_dom_classes": [],
            "_model_module": "@jupyter-widgets/controls",
            "_model_module_version": "1.5.0",
            "_model_name": "HTMLModel",
            "_view_count": null,
            "_view_module": "@jupyter-widgets/controls",
            "_view_module_version": "1.5.0",
            "_view_name": "HTMLView",
            "description": "",
            "description_tooltip": null,
            "layout": "IPY_MODEL_9febb773d07844e6b8a6ca08416d83c0",
            "placeholder": "​",
            "style": "IPY_MODEL_90b53e2cbe0b47c688792aaa2a32690e",
            "value": " 24364/25000 [00:05&lt;00:00, 7048.96 examples/s]"
          }
        },
        "e4398b4a68844a4ea63a0e38b3ca15f7": {
          "model_module": "@jupyter-widgets/base",
          "model_name": "LayoutModel",
          "model_module_version": "1.2.0",
          "state": {
            "_model_module": "@jupyter-widgets/base",
            "_model_module_version": "1.2.0",
            "_model_name": "LayoutModel",
            "_view_count": null,
            "_view_module": "@jupyter-widgets/base",
            "_view_module_version": "1.2.0",
            "_view_name": "LayoutView",
            "align_content": null,
            "align_items": null,
            "align_self": null,
            "border": null,
            "bottom": null,
            "display": null,
            "flex": null,
            "flex_flow": null,
            "grid_area": null,
            "grid_auto_columns": null,
            "grid_auto_flow": null,
            "grid_auto_rows": null,
            "grid_column": null,
            "grid_gap": null,
            "grid_row": null,
            "grid_template_areas": null,
            "grid_template_columns": null,
            "grid_template_rows": null,
            "height": null,
            "justify_content": null,
            "justify_items": null,
            "left": null,
            "margin": null,
            "max_height": null,
            "max_width": null,
            "min_height": null,
            "min_width": null,
            "object_fit": null,
            "object_position": null,
            "order": null,
            "overflow": null,
            "overflow_x": null,
            "overflow_y": null,
            "padding": null,
            "right": null,
            "top": null,
            "visibility": null,
            "width": null
          }
        },
        "9b1501cad74b4f199bb57cbb6cb4f6c0": {
          "model_module": "@jupyter-widgets/base",
          "model_name": "LayoutModel",
          "model_module_version": "1.2.0",
          "state": {
            "_model_module": "@jupyter-widgets/base",
            "_model_module_version": "1.2.0",
            "_model_name": "LayoutModel",
            "_view_count": null,
            "_view_module": "@jupyter-widgets/base",
            "_view_module_version": "1.2.0",
            "_view_name": "LayoutView",
            "align_content": null,
            "align_items": null,
            "align_self": null,
            "border": null,
            "bottom": null,
            "display": null,
            "flex": null,
            "flex_flow": null,
            "grid_area": null,
            "grid_auto_columns": null,
            "grid_auto_flow": null,
            "grid_auto_rows": null,
            "grid_column": null,
            "grid_gap": null,
            "grid_row": null,
            "grid_template_areas": null,
            "grid_template_columns": null,
            "grid_template_rows": null,
            "height": null,
            "justify_content": null,
            "justify_items": null,
            "left": null,
            "margin": null,
            "max_height": null,
            "max_width": null,
            "min_height": null,
            "min_width": null,
            "object_fit": null,
            "object_position": null,
            "order": null,
            "overflow": null,
            "overflow_x": null,
            "overflow_y": null,
            "padding": null,
            "right": null,
            "top": null,
            "visibility": null,
            "width": null
          }
        },
        "f3de01d3c23d488ba4031f889a890a8f": {
          "model_module": "@jupyter-widgets/controls",
          "model_name": "DescriptionStyleModel",
          "model_module_version": "1.5.0",
          "state": {
            "_model_module": "@jupyter-widgets/controls",
            "_model_module_version": "1.5.0",
            "_model_name": "DescriptionStyleModel",
            "_view_count": null,
            "_view_module": "@jupyter-widgets/base",
            "_view_module_version": "1.2.0",
            "_view_name": "StyleView",
            "description_width": ""
          }
        },
        "a22102092cd5494fbfe434157425c5ca": {
          "model_module": "@jupyter-widgets/base",
          "model_name": "LayoutModel",
          "model_module_version": "1.2.0",
          "state": {
            "_model_module": "@jupyter-widgets/base",
            "_model_module_version": "1.2.0",
            "_model_name": "LayoutModel",
            "_view_count": null,
            "_view_module": "@jupyter-widgets/base",
            "_view_module_version": "1.2.0",
            "_view_name": "LayoutView",
            "align_content": null,
            "align_items": null,
            "align_self": null,
            "border": null,
            "bottom": null,
            "display": null,
            "flex": null,
            "flex_flow": null,
            "grid_area": null,
            "grid_auto_columns": null,
            "grid_auto_flow": null,
            "grid_auto_rows": null,
            "grid_column": null,
            "grid_gap": null,
            "grid_row": null,
            "grid_template_areas": null,
            "grid_template_columns": null,
            "grid_template_rows": null,
            "height": null,
            "justify_content": null,
            "justify_items": null,
            "left": null,
            "margin": null,
            "max_height": null,
            "max_width": null,
            "min_height": null,
            "min_width": null,
            "object_fit": null,
            "object_position": null,
            "order": null,
            "overflow": null,
            "overflow_x": null,
            "overflow_y": null,
            "padding": null,
            "right": null,
            "top": null,
            "visibility": null,
            "width": null
          }
        },
        "e6d0c46b706e4270bb7932c22400e471": {
          "model_module": "@jupyter-widgets/controls",
          "model_name": "ProgressStyleModel",
          "model_module_version": "1.5.0",
          "state": {
            "_model_module": "@jupyter-widgets/controls",
            "_model_module_version": "1.5.0",
            "_model_name": "ProgressStyleModel",
            "_view_count": null,
            "_view_module": "@jupyter-widgets/base",
            "_view_module_version": "1.2.0",
            "_view_name": "StyleView",
            "bar_color": null,
            "description_width": ""
          }
        },
        "9febb773d07844e6b8a6ca08416d83c0": {
          "model_module": "@jupyter-widgets/base",
          "model_name": "LayoutModel",
          "model_module_version": "1.2.0",
          "state": {
            "_model_module": "@jupyter-widgets/base",
            "_model_module_version": "1.2.0",
            "_model_name": "LayoutModel",
            "_view_count": null,
            "_view_module": "@jupyter-widgets/base",
            "_view_module_version": "1.2.0",
            "_view_name": "LayoutView",
            "align_content": null,
            "align_items": null,
            "align_self": null,
            "border": null,
            "bottom": null,
            "display": null,
            "flex": null,
            "flex_flow": null,
            "grid_area": null,
            "grid_auto_columns": null,
            "grid_auto_flow": null,
            "grid_auto_rows": null,
            "grid_column": null,
            "grid_gap": null,
            "grid_row": null,
            "grid_template_areas": null,
            "grid_template_columns": null,
            "grid_template_rows": null,
            "height": null,
            "justify_content": null,
            "justify_items": null,
            "left": null,
            "margin": null,
            "max_height": null,
            "max_width": null,
            "min_height": null,
            "min_width": null,
            "object_fit": null,
            "object_position": null,
            "order": null,
            "overflow": null,
            "overflow_x": null,
            "overflow_y": null,
            "padding": null,
            "right": null,
            "top": null,
            "visibility": null,
            "width": null
          }
        },
        "90b53e2cbe0b47c688792aaa2a32690e": {
          "model_module": "@jupyter-widgets/controls",
          "model_name": "DescriptionStyleModel",
          "model_module_version": "1.5.0",
          "state": {
            "_model_module": "@jupyter-widgets/controls",
            "_model_module_version": "1.5.0",
            "_model_name": "DescriptionStyleModel",
            "_view_count": null,
            "_view_module": "@jupyter-widgets/base",
            "_view_module_version": "1.2.0",
            "_view_name": "StyleView",
            "description_width": ""
          }
        },
        "46dee757727844f484d24525b7389598": {
          "model_module": "@jupyter-widgets/controls",
          "model_name": "HBoxModel",
          "model_module_version": "1.5.0",
          "state": {
            "_dom_classes": [],
            "_model_module": "@jupyter-widgets/controls",
            "_model_module_version": "1.5.0",
            "_model_name": "HBoxModel",
            "_view_count": null,
            "_view_module": "@jupyter-widgets/controls",
            "_view_module_version": "1.5.0",
            "_view_name": "HBoxView",
            "box_style": "",
            "children": [
              "IPY_MODEL_94344a967cfa4396aa3b75f7884b6b29",
              "IPY_MODEL_f4f6b77302ec48c1b5546188ef34f9c0",
              "IPY_MODEL_1316026ae0a849b590af4ca1de348a6d"
            ],
            "layout": "IPY_MODEL_551fea197f764028bfa73db0960de9ff"
          }
        },
        "94344a967cfa4396aa3b75f7884b6b29": {
          "model_module": "@jupyter-widgets/controls",
          "model_name": "HTMLModel",
          "model_module_version": "1.5.0",
          "state": {
            "_dom_classes": [],
            "_model_module": "@jupyter-widgets/controls",
            "_model_module_version": "1.5.0",
            "_model_name": "HTMLModel",
            "_view_count": null,
            "_view_module": "@jupyter-widgets/controls",
            "_view_module_version": "1.5.0",
            "_view_name": "HTMLView",
            "description": "",
            "description_tooltip": null,
            "layout": "IPY_MODEL_77a7eef3bf884d5cb252378f5453d218",
            "placeholder": "​",
            "style": "IPY_MODEL_ec5b28f756fb46eca740fdffee021ad0",
            "value": "Generating test split:  99%"
          }
        },
        "f4f6b77302ec48c1b5546188ef34f9c0": {
          "model_module": "@jupyter-widgets/controls",
          "model_name": "FloatProgressModel",
          "model_module_version": "1.5.0",
          "state": {
            "_dom_classes": [],
            "_model_module": "@jupyter-widgets/controls",
            "_model_module_version": "1.5.0",
            "_model_name": "FloatProgressModel",
            "_view_count": null,
            "_view_module": "@jupyter-widgets/controls",
            "_view_module_version": "1.5.0",
            "_view_name": "ProgressView",
            "bar_style": "",
            "description": "",
            "description_tooltip": null,
            "layout": "IPY_MODEL_5ebee29fea974351831e15b24411c76e",
            "max": 25000,
            "min": 0,
            "orientation": "horizontal",
            "style": "IPY_MODEL_1b4deb0fcc4c45ebb262a4580efe08b4",
            "value": 25000
          }
        },
        "1316026ae0a849b590af4ca1de348a6d": {
          "model_module": "@jupyter-widgets/controls",
          "model_name": "HTMLModel",
          "model_module_version": "1.5.0",
          "state": {
            "_dom_classes": [],
            "_model_module": "@jupyter-widgets/controls",
            "_model_module_version": "1.5.0",
            "_model_name": "HTMLModel",
            "_view_count": null,
            "_view_module": "@jupyter-widgets/controls",
            "_view_module_version": "1.5.0",
            "_view_name": "HTMLView",
            "description": "",
            "description_tooltip": null,
            "layout": "IPY_MODEL_3c6a2cc29c6d4c5b9f81d1450f1917b2",
            "placeholder": "​",
            "style": "IPY_MODEL_744b736e7e93481faf71bdf1da85b448",
            "value": " 24741/25000 [00:04&lt;00:00, 7069.67 examples/s]"
          }
        },
        "551fea197f764028bfa73db0960de9ff": {
          "model_module": "@jupyter-widgets/base",
          "model_name": "LayoutModel",
          "model_module_version": "1.2.0",
          "state": {
            "_model_module": "@jupyter-widgets/base",
            "_model_module_version": "1.2.0",
            "_model_name": "LayoutModel",
            "_view_count": null,
            "_view_module": "@jupyter-widgets/base",
            "_view_module_version": "1.2.0",
            "_view_name": "LayoutView",
            "align_content": null,
            "align_items": null,
            "align_self": null,
            "border": null,
            "bottom": null,
            "display": null,
            "flex": null,
            "flex_flow": null,
            "grid_area": null,
            "grid_auto_columns": null,
            "grid_auto_flow": null,
            "grid_auto_rows": null,
            "grid_column": null,
            "grid_gap": null,
            "grid_row": null,
            "grid_template_areas": null,
            "grid_template_columns": null,
            "grid_template_rows": null,
            "height": null,
            "justify_content": null,
            "justify_items": null,
            "left": null,
            "margin": null,
            "max_height": null,
            "max_width": null,
            "min_height": null,
            "min_width": null,
            "object_fit": null,
            "object_position": null,
            "order": null,
            "overflow": null,
            "overflow_x": null,
            "overflow_y": null,
            "padding": null,
            "right": null,
            "top": null,
            "visibility": null,
            "width": null
          }
        },
        "77a7eef3bf884d5cb252378f5453d218": {
          "model_module": "@jupyter-widgets/base",
          "model_name": "LayoutModel",
          "model_module_version": "1.2.0",
          "state": {
            "_model_module": "@jupyter-widgets/base",
            "_model_module_version": "1.2.0",
            "_model_name": "LayoutModel",
            "_view_count": null,
            "_view_module": "@jupyter-widgets/base",
            "_view_module_version": "1.2.0",
            "_view_name": "LayoutView",
            "align_content": null,
            "align_items": null,
            "align_self": null,
            "border": null,
            "bottom": null,
            "display": null,
            "flex": null,
            "flex_flow": null,
            "grid_area": null,
            "grid_auto_columns": null,
            "grid_auto_flow": null,
            "grid_auto_rows": null,
            "grid_column": null,
            "grid_gap": null,
            "grid_row": null,
            "grid_template_areas": null,
            "grid_template_columns": null,
            "grid_template_rows": null,
            "height": null,
            "justify_content": null,
            "justify_items": null,
            "left": null,
            "margin": null,
            "max_height": null,
            "max_width": null,
            "min_height": null,
            "min_width": null,
            "object_fit": null,
            "object_position": null,
            "order": null,
            "overflow": null,
            "overflow_x": null,
            "overflow_y": null,
            "padding": null,
            "right": null,
            "top": null,
            "visibility": null,
            "width": null
          }
        },
        "ec5b28f756fb46eca740fdffee021ad0": {
          "model_module": "@jupyter-widgets/controls",
          "model_name": "DescriptionStyleModel",
          "model_module_version": "1.5.0",
          "state": {
            "_model_module": "@jupyter-widgets/controls",
            "_model_module_version": "1.5.0",
            "_model_name": "DescriptionStyleModel",
            "_view_count": null,
            "_view_module": "@jupyter-widgets/base",
            "_view_module_version": "1.2.0",
            "_view_name": "StyleView",
            "description_width": ""
          }
        },
        "5ebee29fea974351831e15b24411c76e": {
          "model_module": "@jupyter-widgets/base",
          "model_name": "LayoutModel",
          "model_module_version": "1.2.0",
          "state": {
            "_model_module": "@jupyter-widgets/base",
            "_model_module_version": "1.2.0",
            "_model_name": "LayoutModel",
            "_view_count": null,
            "_view_module": "@jupyter-widgets/base",
            "_view_module_version": "1.2.0",
            "_view_name": "LayoutView",
            "align_content": null,
            "align_items": null,
            "align_self": null,
            "border": null,
            "bottom": null,
            "display": null,
            "flex": null,
            "flex_flow": null,
            "grid_area": null,
            "grid_auto_columns": null,
            "grid_auto_flow": null,
            "grid_auto_rows": null,
            "grid_column": null,
            "grid_gap": null,
            "grid_row": null,
            "grid_template_areas": null,
            "grid_template_columns": null,
            "grid_template_rows": null,
            "height": null,
            "justify_content": null,
            "justify_items": null,
            "left": null,
            "margin": null,
            "max_height": null,
            "max_width": null,
            "min_height": null,
            "min_width": null,
            "object_fit": null,
            "object_position": null,
            "order": null,
            "overflow": null,
            "overflow_x": null,
            "overflow_y": null,
            "padding": null,
            "right": null,
            "top": null,
            "visibility": null,
            "width": null
          }
        },
        "1b4deb0fcc4c45ebb262a4580efe08b4": {
          "model_module": "@jupyter-widgets/controls",
          "model_name": "ProgressStyleModel",
          "model_module_version": "1.5.0",
          "state": {
            "_model_module": "@jupyter-widgets/controls",
            "_model_module_version": "1.5.0",
            "_model_name": "ProgressStyleModel",
            "_view_count": null,
            "_view_module": "@jupyter-widgets/base",
            "_view_module_version": "1.2.0",
            "_view_name": "StyleView",
            "bar_color": null,
            "description_width": ""
          }
        },
        "3c6a2cc29c6d4c5b9f81d1450f1917b2": {
          "model_module": "@jupyter-widgets/base",
          "model_name": "LayoutModel",
          "model_module_version": "1.2.0",
          "state": {
            "_model_module": "@jupyter-widgets/base",
            "_model_module_version": "1.2.0",
            "_model_name": "LayoutModel",
            "_view_count": null,
            "_view_module": "@jupyter-widgets/base",
            "_view_module_version": "1.2.0",
            "_view_name": "LayoutView",
            "align_content": null,
            "align_items": null,
            "align_self": null,
            "border": null,
            "bottom": null,
            "display": null,
            "flex": null,
            "flex_flow": null,
            "grid_area": null,
            "grid_auto_columns": null,
            "grid_auto_flow": null,
            "grid_auto_rows": null,
            "grid_column": null,
            "grid_gap": null,
            "grid_row": null,
            "grid_template_areas": null,
            "grid_template_columns": null,
            "grid_template_rows": null,
            "height": null,
            "justify_content": null,
            "justify_items": null,
            "left": null,
            "margin": null,
            "max_height": null,
            "max_width": null,
            "min_height": null,
            "min_width": null,
            "object_fit": null,
            "object_position": null,
            "order": null,
            "overflow": null,
            "overflow_x": null,
            "overflow_y": null,
            "padding": null,
            "right": null,
            "top": null,
            "visibility": null,
            "width": null
          }
        },
        "744b736e7e93481faf71bdf1da85b448": {
          "model_module": "@jupyter-widgets/controls",
          "model_name": "DescriptionStyleModel",
          "model_module_version": "1.5.0",
          "state": {
            "_model_module": "@jupyter-widgets/controls",
            "_model_module_version": "1.5.0",
            "_model_name": "DescriptionStyleModel",
            "_view_count": null,
            "_view_module": "@jupyter-widgets/base",
            "_view_module_version": "1.2.0",
            "_view_name": "StyleView",
            "description_width": ""
          }
        },
        "40c61cb44ddc4dd8b6071d6d90b9355e": {
          "model_module": "@jupyter-widgets/controls",
          "model_name": "HBoxModel",
          "model_module_version": "1.5.0",
          "state": {
            "_dom_classes": [],
            "_model_module": "@jupyter-widgets/controls",
            "_model_module_version": "1.5.0",
            "_model_name": "HBoxModel",
            "_view_count": null,
            "_view_module": "@jupyter-widgets/controls",
            "_view_module_version": "1.5.0",
            "_view_name": "HBoxView",
            "box_style": "",
            "children": [
              "IPY_MODEL_3126d9b4aba84dffab05cee695385c38",
              "IPY_MODEL_40a9037bb1a649c191ade7c65b63ab90",
              "IPY_MODEL_52b98e47ec8d48cbb9bc76be784e4e2f"
            ],
            "layout": "IPY_MODEL_077372c8447e41ccacdf3eb604479258"
          }
        },
        "3126d9b4aba84dffab05cee695385c38": {
          "model_module": "@jupyter-widgets/controls",
          "model_name": "HTMLModel",
          "model_module_version": "1.5.0",
          "state": {
            "_dom_classes": [],
            "_model_module": "@jupyter-widgets/controls",
            "_model_module_version": "1.5.0",
            "_model_name": "HTMLModel",
            "_view_count": null,
            "_view_module": "@jupyter-widgets/controls",
            "_view_module_version": "1.5.0",
            "_view_name": "HTMLView",
            "description": "",
            "description_tooltip": null,
            "layout": "IPY_MODEL_5f58a2b9b78d4c3d8219537b7176825d",
            "placeholder": "​",
            "style": "IPY_MODEL_3f4fd5d347ec485a805b77c47ea6bfd5",
            "value": "Generating unsupervised split: 100%"
          }
        },
        "40a9037bb1a649c191ade7c65b63ab90": {
          "model_module": "@jupyter-widgets/controls",
          "model_name": "FloatProgressModel",
          "model_module_version": "1.5.0",
          "state": {
            "_dom_classes": [],
            "_model_module": "@jupyter-widgets/controls",
            "_model_module_version": "1.5.0",
            "_model_name": "FloatProgressModel",
            "_view_count": null,
            "_view_module": "@jupyter-widgets/controls",
            "_view_module_version": "1.5.0",
            "_view_name": "ProgressView",
            "bar_style": "",
            "description": "",
            "description_tooltip": null,
            "layout": "IPY_MODEL_b3ca1339ed1f4bf283930baf5205f03b",
            "max": 50000,
            "min": 0,
            "orientation": "horizontal",
            "style": "IPY_MODEL_1f4eb8ec035047419c2b56ffc8c4244f",
            "value": 50000
          }
        },
        "52b98e47ec8d48cbb9bc76be784e4e2f": {
          "model_module": "@jupyter-widgets/controls",
          "model_name": "HTMLModel",
          "model_module_version": "1.5.0",
          "state": {
            "_dom_classes": [],
            "_model_module": "@jupyter-widgets/controls",
            "_model_module_version": "1.5.0",
            "_model_name": "HTMLModel",
            "_view_count": null,
            "_view_module": "@jupyter-widgets/controls",
            "_view_module_version": "1.5.0",
            "_view_name": "HTMLView",
            "description": "",
            "description_tooltip": null,
            "layout": "IPY_MODEL_74c3e210cc4046889758a910f076e992",
            "placeholder": "​",
            "style": "IPY_MODEL_063471f17111411fb89e1fe199967eca",
            "value": " 49986/50000 [00:11&lt;00:00, 7292.39 examples/s]"
          }
        },
        "077372c8447e41ccacdf3eb604479258": {
          "model_module": "@jupyter-widgets/base",
          "model_name": "LayoutModel",
          "model_module_version": "1.2.0",
          "state": {
            "_model_module": "@jupyter-widgets/base",
            "_model_module_version": "1.2.0",
            "_model_name": "LayoutModel",
            "_view_count": null,
            "_view_module": "@jupyter-widgets/base",
            "_view_module_version": "1.2.0",
            "_view_name": "LayoutView",
            "align_content": null,
            "align_items": null,
            "align_self": null,
            "border": null,
            "bottom": null,
            "display": null,
            "flex": null,
            "flex_flow": null,
            "grid_area": null,
            "grid_auto_columns": null,
            "grid_auto_flow": null,
            "grid_auto_rows": null,
            "grid_column": null,
            "grid_gap": null,
            "grid_row": null,
            "grid_template_areas": null,
            "grid_template_columns": null,
            "grid_template_rows": null,
            "height": null,
            "justify_content": null,
            "justify_items": null,
            "left": null,
            "margin": null,
            "max_height": null,
            "max_width": null,
            "min_height": null,
            "min_width": null,
            "object_fit": null,
            "object_position": null,
            "order": null,
            "overflow": null,
            "overflow_x": null,
            "overflow_y": null,
            "padding": null,
            "right": null,
            "top": null,
            "visibility": null,
            "width": null
          }
        },
        "5f58a2b9b78d4c3d8219537b7176825d": {
          "model_module": "@jupyter-widgets/base",
          "model_name": "LayoutModel",
          "model_module_version": "1.2.0",
          "state": {
            "_model_module": "@jupyter-widgets/base",
            "_model_module_version": "1.2.0",
            "_model_name": "LayoutModel",
            "_view_count": null,
            "_view_module": "@jupyter-widgets/base",
            "_view_module_version": "1.2.0",
            "_view_name": "LayoutView",
            "align_content": null,
            "align_items": null,
            "align_self": null,
            "border": null,
            "bottom": null,
            "display": null,
            "flex": null,
            "flex_flow": null,
            "grid_area": null,
            "grid_auto_columns": null,
            "grid_auto_flow": null,
            "grid_auto_rows": null,
            "grid_column": null,
            "grid_gap": null,
            "grid_row": null,
            "grid_template_areas": null,
            "grid_template_columns": null,
            "grid_template_rows": null,
            "height": null,
            "justify_content": null,
            "justify_items": null,
            "left": null,
            "margin": null,
            "max_height": null,
            "max_width": null,
            "min_height": null,
            "min_width": null,
            "object_fit": null,
            "object_position": null,
            "order": null,
            "overflow": null,
            "overflow_x": null,
            "overflow_y": null,
            "padding": null,
            "right": null,
            "top": null,
            "visibility": null,
            "width": null
          }
        },
        "3f4fd5d347ec485a805b77c47ea6bfd5": {
          "model_module": "@jupyter-widgets/controls",
          "model_name": "DescriptionStyleModel",
          "model_module_version": "1.5.0",
          "state": {
            "_model_module": "@jupyter-widgets/controls",
            "_model_module_version": "1.5.0",
            "_model_name": "DescriptionStyleModel",
            "_view_count": null,
            "_view_module": "@jupyter-widgets/base",
            "_view_module_version": "1.2.0",
            "_view_name": "StyleView",
            "description_width": ""
          }
        },
        "b3ca1339ed1f4bf283930baf5205f03b": {
          "model_module": "@jupyter-widgets/base",
          "model_name": "LayoutModel",
          "model_module_version": "1.2.0",
          "state": {
            "_model_module": "@jupyter-widgets/base",
            "_model_module_version": "1.2.0",
            "_model_name": "LayoutModel",
            "_view_count": null,
            "_view_module": "@jupyter-widgets/base",
            "_view_module_version": "1.2.0",
            "_view_name": "LayoutView",
            "align_content": null,
            "align_items": null,
            "align_self": null,
            "border": null,
            "bottom": null,
            "display": null,
            "flex": null,
            "flex_flow": null,
            "grid_area": null,
            "grid_auto_columns": null,
            "grid_auto_flow": null,
            "grid_auto_rows": null,
            "grid_column": null,
            "grid_gap": null,
            "grid_row": null,
            "grid_template_areas": null,
            "grid_template_columns": null,
            "grid_template_rows": null,
            "height": null,
            "justify_content": null,
            "justify_items": null,
            "left": null,
            "margin": null,
            "max_height": null,
            "max_width": null,
            "min_height": null,
            "min_width": null,
            "object_fit": null,
            "object_position": null,
            "order": null,
            "overflow": null,
            "overflow_x": null,
            "overflow_y": null,
            "padding": null,
            "right": null,
            "top": null,
            "visibility": null,
            "width": null
          }
        },
        "1f4eb8ec035047419c2b56ffc8c4244f": {
          "model_module": "@jupyter-widgets/controls",
          "model_name": "ProgressStyleModel",
          "model_module_version": "1.5.0",
          "state": {
            "_model_module": "@jupyter-widgets/controls",
            "_model_module_version": "1.5.0",
            "_model_name": "ProgressStyleModel",
            "_view_count": null,
            "_view_module": "@jupyter-widgets/base",
            "_view_module_version": "1.2.0",
            "_view_name": "StyleView",
            "bar_color": null,
            "description_width": ""
          }
        },
        "74c3e210cc4046889758a910f076e992": {
          "model_module": "@jupyter-widgets/base",
          "model_name": "LayoutModel",
          "model_module_version": "1.2.0",
          "state": {
            "_model_module": "@jupyter-widgets/base",
            "_model_module_version": "1.2.0",
            "_model_name": "LayoutModel",
            "_view_count": null,
            "_view_module": "@jupyter-widgets/base",
            "_view_module_version": "1.2.0",
            "_view_name": "LayoutView",
            "align_content": null,
            "align_items": null,
            "align_self": null,
            "border": null,
            "bottom": null,
            "display": null,
            "flex": null,
            "flex_flow": null,
            "grid_area": null,
            "grid_auto_columns": null,
            "grid_auto_flow": null,
            "grid_auto_rows": null,
            "grid_column": null,
            "grid_gap": null,
            "grid_row": null,
            "grid_template_areas": null,
            "grid_template_columns": null,
            "grid_template_rows": null,
            "height": null,
            "justify_content": null,
            "justify_items": null,
            "left": null,
            "margin": null,
            "max_height": null,
            "max_width": null,
            "min_height": null,
            "min_width": null,
            "object_fit": null,
            "object_position": null,
            "order": null,
            "overflow": null,
            "overflow_x": null,
            "overflow_y": null,
            "padding": null,
            "right": null,
            "top": null,
            "visibility": null,
            "width": null
          }
        },
        "063471f17111411fb89e1fe199967eca": {
          "model_module": "@jupyter-widgets/controls",
          "model_name": "DescriptionStyleModel",
          "model_module_version": "1.5.0",
          "state": {
            "_model_module": "@jupyter-widgets/controls",
            "_model_module_version": "1.5.0",
            "_model_name": "DescriptionStyleModel",
            "_view_count": null,
            "_view_module": "@jupyter-widgets/base",
            "_view_module_version": "1.2.0",
            "_view_name": "StyleView",
            "description_width": ""
          }
        },
        "2491a5c306a74523b8ba37c3ba56b3ef": {
          "model_module": "@jupyter-widgets/controls",
          "model_name": "HBoxModel",
          "model_module_version": "1.5.0",
          "state": {
            "_dom_classes": [],
            "_model_module": "@jupyter-widgets/controls",
            "_model_module_version": "1.5.0",
            "_model_name": "HBoxModel",
            "_view_count": null,
            "_view_module": "@jupyter-widgets/controls",
            "_view_module_version": "1.5.0",
            "_view_name": "HBoxView",
            "box_style": "",
            "children": [
              "IPY_MODEL_19c2e55faab045b78ec3698e6760dfac",
              "IPY_MODEL_172e1bcfca7f48ca864f21bda6e9b632",
              "IPY_MODEL_cf4ce54f471b499eb44fa7f9e0bfdcd7"
            ],
            "layout": "IPY_MODEL_3adf9c09e16b4c90afbc7e6c6467dcd4"
          }
        },
        "19c2e55faab045b78ec3698e6760dfac": {
          "model_module": "@jupyter-widgets/controls",
          "model_name": "HTMLModel",
          "model_module_version": "1.5.0",
          "state": {
            "_dom_classes": [],
            "_model_module": "@jupyter-widgets/controls",
            "_model_module_version": "1.5.0",
            "_model_name": "HTMLModel",
            "_view_count": null,
            "_view_module": "@jupyter-widgets/controls",
            "_view_module_version": "1.5.0",
            "_view_name": "HTMLView",
            "description": "",
            "description_tooltip": null,
            "layout": "IPY_MODEL_ed294d83230748878563d2fca783dc4a",
            "placeholder": "​",
            "style": "IPY_MODEL_12ecb017e7ff4383811b26d2190f0a10",
            "value": "100%"
          }
        },
        "172e1bcfca7f48ca864f21bda6e9b632": {
          "model_module": "@jupyter-widgets/controls",
          "model_name": "FloatProgressModel",
          "model_module_version": "1.5.0",
          "state": {
            "_dom_classes": [],
            "_model_module": "@jupyter-widgets/controls",
            "_model_module_version": "1.5.0",
            "_model_name": "FloatProgressModel",
            "_view_count": null,
            "_view_module": "@jupyter-widgets/controls",
            "_view_module_version": "1.5.0",
            "_view_name": "ProgressView",
            "bar_style": "success",
            "description": "",
            "description_tooltip": null,
            "layout": "IPY_MODEL_1fc747ada15243af8814a40b058c124c",
            "max": 2,
            "min": 0,
            "orientation": "horizontal",
            "style": "IPY_MODEL_94c189c9f9874d41be797929cf32d2b9",
            "value": 2
          }
        },
        "cf4ce54f471b499eb44fa7f9e0bfdcd7": {
          "model_module": "@jupyter-widgets/controls",
          "model_name": "HTMLModel",
          "model_module_version": "1.5.0",
          "state": {
            "_dom_classes": [],
            "_model_module": "@jupyter-widgets/controls",
            "_model_module_version": "1.5.0",
            "_model_name": "HTMLModel",
            "_view_count": null,
            "_view_module": "@jupyter-widgets/controls",
            "_view_module_version": "1.5.0",
            "_view_name": "HTMLView",
            "description": "",
            "description_tooltip": null,
            "layout": "IPY_MODEL_e2e5ecb81d274360a53597cda72ad87a",
            "placeholder": "​",
            "style": "IPY_MODEL_70375ef359d54bf38c68d7c3d75176bf",
            "value": " 2/2 [00:00&lt;00:00, 24.44it/s]"
          }
        },
        "3adf9c09e16b4c90afbc7e6c6467dcd4": {
          "model_module": "@jupyter-widgets/base",
          "model_name": "LayoutModel",
          "model_module_version": "1.2.0",
          "state": {
            "_model_module": "@jupyter-widgets/base",
            "_model_module_version": "1.2.0",
            "_model_name": "LayoutModel",
            "_view_count": null,
            "_view_module": "@jupyter-widgets/base",
            "_view_module_version": "1.2.0",
            "_view_name": "LayoutView",
            "align_content": null,
            "align_items": null,
            "align_self": null,
            "border": null,
            "bottom": null,
            "display": null,
            "flex": null,
            "flex_flow": null,
            "grid_area": null,
            "grid_auto_columns": null,
            "grid_auto_flow": null,
            "grid_auto_rows": null,
            "grid_column": null,
            "grid_gap": null,
            "grid_row": null,
            "grid_template_areas": null,
            "grid_template_columns": null,
            "grid_template_rows": null,
            "height": null,
            "justify_content": null,
            "justify_items": null,
            "left": null,
            "margin": null,
            "max_height": null,
            "max_width": null,
            "min_height": null,
            "min_width": null,
            "object_fit": null,
            "object_position": null,
            "order": null,
            "overflow": null,
            "overflow_x": null,
            "overflow_y": null,
            "padding": null,
            "right": null,
            "top": null,
            "visibility": null,
            "width": null
          }
        },
        "ed294d83230748878563d2fca783dc4a": {
          "model_module": "@jupyter-widgets/base",
          "model_name": "LayoutModel",
          "model_module_version": "1.2.0",
          "state": {
            "_model_module": "@jupyter-widgets/base",
            "_model_module_version": "1.2.0",
            "_model_name": "LayoutModel",
            "_view_count": null,
            "_view_module": "@jupyter-widgets/base",
            "_view_module_version": "1.2.0",
            "_view_name": "LayoutView",
            "align_content": null,
            "align_items": null,
            "align_self": null,
            "border": null,
            "bottom": null,
            "display": null,
            "flex": null,
            "flex_flow": null,
            "grid_area": null,
            "grid_auto_columns": null,
            "grid_auto_flow": null,
            "grid_auto_rows": null,
            "grid_column": null,
            "grid_gap": null,
            "grid_row": null,
            "grid_template_areas": null,
            "grid_template_columns": null,
            "grid_template_rows": null,
            "height": null,
            "justify_content": null,
            "justify_items": null,
            "left": null,
            "margin": null,
            "max_height": null,
            "max_width": null,
            "min_height": null,
            "min_width": null,
            "object_fit": null,
            "object_position": null,
            "order": null,
            "overflow": null,
            "overflow_x": null,
            "overflow_y": null,
            "padding": null,
            "right": null,
            "top": null,
            "visibility": null,
            "width": null
          }
        },
        "12ecb017e7ff4383811b26d2190f0a10": {
          "model_module": "@jupyter-widgets/controls",
          "model_name": "DescriptionStyleModel",
          "model_module_version": "1.5.0",
          "state": {
            "_model_module": "@jupyter-widgets/controls",
            "_model_module_version": "1.5.0",
            "_model_name": "DescriptionStyleModel",
            "_view_count": null,
            "_view_module": "@jupyter-widgets/base",
            "_view_module_version": "1.2.0",
            "_view_name": "StyleView",
            "description_width": ""
          }
        },
        "1fc747ada15243af8814a40b058c124c": {
          "model_module": "@jupyter-widgets/base",
          "model_name": "LayoutModel",
          "model_module_version": "1.2.0",
          "state": {
            "_model_module": "@jupyter-widgets/base",
            "_model_module_version": "1.2.0",
            "_model_name": "LayoutModel",
            "_view_count": null,
            "_view_module": "@jupyter-widgets/base",
            "_view_module_version": "1.2.0",
            "_view_name": "LayoutView",
            "align_content": null,
            "align_items": null,
            "align_self": null,
            "border": null,
            "bottom": null,
            "display": null,
            "flex": null,
            "flex_flow": null,
            "grid_area": null,
            "grid_auto_columns": null,
            "grid_auto_flow": null,
            "grid_auto_rows": null,
            "grid_column": null,
            "grid_gap": null,
            "grid_row": null,
            "grid_template_areas": null,
            "grid_template_columns": null,
            "grid_template_rows": null,
            "height": null,
            "justify_content": null,
            "justify_items": null,
            "left": null,
            "margin": null,
            "max_height": null,
            "max_width": null,
            "min_height": null,
            "min_width": null,
            "object_fit": null,
            "object_position": null,
            "order": null,
            "overflow": null,
            "overflow_x": null,
            "overflow_y": null,
            "padding": null,
            "right": null,
            "top": null,
            "visibility": null,
            "width": null
          }
        },
        "94c189c9f9874d41be797929cf32d2b9": {
          "model_module": "@jupyter-widgets/controls",
          "model_name": "ProgressStyleModel",
          "model_module_version": "1.5.0",
          "state": {
            "_model_module": "@jupyter-widgets/controls",
            "_model_module_version": "1.5.0",
            "_model_name": "ProgressStyleModel",
            "_view_count": null,
            "_view_module": "@jupyter-widgets/base",
            "_view_module_version": "1.2.0",
            "_view_name": "StyleView",
            "bar_color": null,
            "description_width": ""
          }
        },
        "e2e5ecb81d274360a53597cda72ad87a": {
          "model_module": "@jupyter-widgets/base",
          "model_name": "LayoutModel",
          "model_module_version": "1.2.0",
          "state": {
            "_model_module": "@jupyter-widgets/base",
            "_model_module_version": "1.2.0",
            "_model_name": "LayoutModel",
            "_view_count": null,
            "_view_module": "@jupyter-widgets/base",
            "_view_module_version": "1.2.0",
            "_view_name": "LayoutView",
            "align_content": null,
            "align_items": null,
            "align_self": null,
            "border": null,
            "bottom": null,
            "display": null,
            "flex": null,
            "flex_flow": null,
            "grid_area": null,
            "grid_auto_columns": null,
            "grid_auto_flow": null,
            "grid_auto_rows": null,
            "grid_column": null,
            "grid_gap": null,
            "grid_row": null,
            "grid_template_areas": null,
            "grid_template_columns": null,
            "grid_template_rows": null,
            "height": null,
            "justify_content": null,
            "justify_items": null,
            "left": null,
            "margin": null,
            "max_height": null,
            "max_width": null,
            "min_height": null,
            "min_width": null,
            "object_fit": null,
            "object_position": null,
            "order": null,
            "overflow": null,
            "overflow_x": null,
            "overflow_y": null,
            "padding": null,
            "right": null,
            "top": null,
            "visibility": null,
            "width": null
          }
        },
        "70375ef359d54bf38c68d7c3d75176bf": {
          "model_module": "@jupyter-widgets/controls",
          "model_name": "DescriptionStyleModel",
          "model_module_version": "1.5.0",
          "state": {
            "_model_module": "@jupyter-widgets/controls",
            "_model_module_version": "1.5.0",
            "_model_name": "DescriptionStyleModel",
            "_view_count": null,
            "_view_module": "@jupyter-widgets/base",
            "_view_module_version": "1.2.0",
            "_view_name": "StyleView",
            "description_width": ""
          }
        },
        "aa69680f9aa344f6afa560ac1f7fe932": {
          "model_module": "@jupyter-widgets/controls",
          "model_name": "HBoxModel",
          "model_module_version": "1.5.0",
          "state": {
            "_dom_classes": [],
            "_model_module": "@jupyter-widgets/controls",
            "_model_module_version": "1.5.0",
            "_model_name": "HBoxModel",
            "_view_count": null,
            "_view_module": "@jupyter-widgets/controls",
            "_view_module_version": "1.5.0",
            "_view_name": "HBoxView",
            "box_style": "",
            "children": [
              "IPY_MODEL_f9dc78368ab6413082c60f708369a2bc",
              "IPY_MODEL_0d1f3ef0414e41e088233894195b7930",
              "IPY_MODEL_28c4da2f61514ce6873286c45eaa6f0c"
            ],
            "layout": "IPY_MODEL_dabeb5f0961c4542932591245c152055"
          }
        },
        "f9dc78368ab6413082c60f708369a2bc": {
          "model_module": "@jupyter-widgets/controls",
          "model_name": "HTMLModel",
          "model_module_version": "1.5.0",
          "state": {
            "_dom_classes": [],
            "_model_module": "@jupyter-widgets/controls",
            "_model_module_version": "1.5.0",
            "_model_name": "HTMLModel",
            "_view_count": null,
            "_view_module": "@jupyter-widgets/controls",
            "_view_module_version": "1.5.0",
            "_view_name": "HTMLView",
            "description": "",
            "description_tooltip": null,
            "layout": "IPY_MODEL_4aae6f831c744d71b90fe27154a61456",
            "placeholder": "​",
            "style": "IPY_MODEL_075f1d8b3e6e440a96dd2c05d061d626",
            "value": "100%"
          }
        },
        "0d1f3ef0414e41e088233894195b7930": {
          "model_module": "@jupyter-widgets/controls",
          "model_name": "FloatProgressModel",
          "model_module_version": "1.5.0",
          "state": {
            "_dom_classes": [],
            "_model_module": "@jupyter-widgets/controls",
            "_model_module_version": "1.5.0",
            "_model_name": "FloatProgressModel",
            "_view_count": null,
            "_view_module": "@jupyter-widgets/controls",
            "_view_module_version": "1.5.0",
            "_view_name": "ProgressView",
            "bar_style": "success",
            "description": "",
            "description_tooltip": null,
            "layout": "IPY_MODEL_4b450bc02fa94e909719098b937a9083",
            "max": 25,
            "min": 0,
            "orientation": "horizontal",
            "style": "IPY_MODEL_9f92e93cf6ad4e0985369102fa14adf5",
            "value": 25
          }
        },
        "28c4da2f61514ce6873286c45eaa6f0c": {
          "model_module": "@jupyter-widgets/controls",
          "model_name": "HTMLModel",
          "model_module_version": "1.5.0",
          "state": {
            "_dom_classes": [],
            "_model_module": "@jupyter-widgets/controls",
            "_model_module_version": "1.5.0",
            "_model_name": "HTMLModel",
            "_view_count": null,
            "_view_module": "@jupyter-widgets/controls",
            "_view_module_version": "1.5.0",
            "_view_name": "HTMLView",
            "description": "",
            "description_tooltip": null,
            "layout": "IPY_MODEL_5382fa1d2e4848eca54d0065e2c3eb6d",
            "placeholder": "​",
            "style": "IPY_MODEL_35a4db62bf5a489cbca2a98d422dbc41",
            "value": " 25/25 [00:00&lt;00:00, 113.64ba/s]"
          }
        },
        "dabeb5f0961c4542932591245c152055": {
          "model_module": "@jupyter-widgets/base",
          "model_name": "LayoutModel",
          "model_module_version": "1.2.0",
          "state": {
            "_model_module": "@jupyter-widgets/base",
            "_model_module_version": "1.2.0",
            "_model_name": "LayoutModel",
            "_view_count": null,
            "_view_module": "@jupyter-widgets/base",
            "_view_module_version": "1.2.0",
            "_view_name": "LayoutView",
            "align_content": null,
            "align_items": null,
            "align_self": null,
            "border": null,
            "bottom": null,
            "display": null,
            "flex": null,
            "flex_flow": null,
            "grid_area": null,
            "grid_auto_columns": null,
            "grid_auto_flow": null,
            "grid_auto_rows": null,
            "grid_column": null,
            "grid_gap": null,
            "grid_row": null,
            "grid_template_areas": null,
            "grid_template_columns": null,
            "grid_template_rows": null,
            "height": null,
            "justify_content": null,
            "justify_items": null,
            "left": null,
            "margin": null,
            "max_height": null,
            "max_width": null,
            "min_height": null,
            "min_width": null,
            "object_fit": null,
            "object_position": null,
            "order": null,
            "overflow": null,
            "overflow_x": null,
            "overflow_y": null,
            "padding": null,
            "right": null,
            "top": null,
            "visibility": null,
            "width": null
          }
        },
        "4aae6f831c744d71b90fe27154a61456": {
          "model_module": "@jupyter-widgets/base",
          "model_name": "LayoutModel",
          "model_module_version": "1.2.0",
          "state": {
            "_model_module": "@jupyter-widgets/base",
            "_model_module_version": "1.2.0",
            "_model_name": "LayoutModel",
            "_view_count": null,
            "_view_module": "@jupyter-widgets/base",
            "_view_module_version": "1.2.0",
            "_view_name": "LayoutView",
            "align_content": null,
            "align_items": null,
            "align_self": null,
            "border": null,
            "bottom": null,
            "display": null,
            "flex": null,
            "flex_flow": null,
            "grid_area": null,
            "grid_auto_columns": null,
            "grid_auto_flow": null,
            "grid_auto_rows": null,
            "grid_column": null,
            "grid_gap": null,
            "grid_row": null,
            "grid_template_areas": null,
            "grid_template_columns": null,
            "grid_template_rows": null,
            "height": null,
            "justify_content": null,
            "justify_items": null,
            "left": null,
            "margin": null,
            "max_height": null,
            "max_width": null,
            "min_height": null,
            "min_width": null,
            "object_fit": null,
            "object_position": null,
            "order": null,
            "overflow": null,
            "overflow_x": null,
            "overflow_y": null,
            "padding": null,
            "right": null,
            "top": null,
            "visibility": null,
            "width": null
          }
        },
        "075f1d8b3e6e440a96dd2c05d061d626": {
          "model_module": "@jupyter-widgets/controls",
          "model_name": "DescriptionStyleModel",
          "model_module_version": "1.5.0",
          "state": {
            "_model_module": "@jupyter-widgets/controls",
            "_model_module_version": "1.5.0",
            "_model_name": "DescriptionStyleModel",
            "_view_count": null,
            "_view_module": "@jupyter-widgets/base",
            "_view_module_version": "1.2.0",
            "_view_name": "StyleView",
            "description_width": ""
          }
        },
        "4b450bc02fa94e909719098b937a9083": {
          "model_module": "@jupyter-widgets/base",
          "model_name": "LayoutModel",
          "model_module_version": "1.2.0",
          "state": {
            "_model_module": "@jupyter-widgets/base",
            "_model_module_version": "1.2.0",
            "_model_name": "LayoutModel",
            "_view_count": null,
            "_view_module": "@jupyter-widgets/base",
            "_view_module_version": "1.2.0",
            "_view_name": "LayoutView",
            "align_content": null,
            "align_items": null,
            "align_self": null,
            "border": null,
            "bottom": null,
            "display": null,
            "flex": null,
            "flex_flow": null,
            "grid_area": null,
            "grid_auto_columns": null,
            "grid_auto_flow": null,
            "grid_auto_rows": null,
            "grid_column": null,
            "grid_gap": null,
            "grid_row": null,
            "grid_template_areas": null,
            "grid_template_columns": null,
            "grid_template_rows": null,
            "height": null,
            "justify_content": null,
            "justify_items": null,
            "left": null,
            "margin": null,
            "max_height": null,
            "max_width": null,
            "min_height": null,
            "min_width": null,
            "object_fit": null,
            "object_position": null,
            "order": null,
            "overflow": null,
            "overflow_x": null,
            "overflow_y": null,
            "padding": null,
            "right": null,
            "top": null,
            "visibility": null,
            "width": null
          }
        },
        "9f92e93cf6ad4e0985369102fa14adf5": {
          "model_module": "@jupyter-widgets/controls",
          "model_name": "ProgressStyleModel",
          "model_module_version": "1.5.0",
          "state": {
            "_model_module": "@jupyter-widgets/controls",
            "_model_module_version": "1.5.0",
            "_model_name": "ProgressStyleModel",
            "_view_count": null,
            "_view_module": "@jupyter-widgets/base",
            "_view_module_version": "1.2.0",
            "_view_name": "StyleView",
            "bar_color": null,
            "description_width": ""
          }
        },
        "5382fa1d2e4848eca54d0065e2c3eb6d": {
          "model_module": "@jupyter-widgets/base",
          "model_name": "LayoutModel",
          "model_module_version": "1.2.0",
          "state": {
            "_model_module": "@jupyter-widgets/base",
            "_model_module_version": "1.2.0",
            "_model_name": "LayoutModel",
            "_view_count": null,
            "_view_module": "@jupyter-widgets/base",
            "_view_module_version": "1.2.0",
            "_view_name": "LayoutView",
            "align_content": null,
            "align_items": null,
            "align_self": null,
            "border": null,
            "bottom": null,
            "display": null,
            "flex": null,
            "flex_flow": null,
            "grid_area": null,
            "grid_auto_columns": null,
            "grid_auto_flow": null,
            "grid_auto_rows": null,
            "grid_column": null,
            "grid_gap": null,
            "grid_row": null,
            "grid_template_areas": null,
            "grid_template_columns": null,
            "grid_template_rows": null,
            "height": null,
            "justify_content": null,
            "justify_items": null,
            "left": null,
            "margin": null,
            "max_height": null,
            "max_width": null,
            "min_height": null,
            "min_width": null,
            "object_fit": null,
            "object_position": null,
            "order": null,
            "overflow": null,
            "overflow_x": null,
            "overflow_y": null,
            "padding": null,
            "right": null,
            "top": null,
            "visibility": null,
            "width": null
          }
        },
        "35a4db62bf5a489cbca2a98d422dbc41": {
          "model_module": "@jupyter-widgets/controls",
          "model_name": "DescriptionStyleModel",
          "model_module_version": "1.5.0",
          "state": {
            "_model_module": "@jupyter-widgets/controls",
            "_model_module_version": "1.5.0",
            "_model_name": "DescriptionStyleModel",
            "_view_count": null,
            "_view_module": "@jupyter-widgets/base",
            "_view_module_version": "1.2.0",
            "_view_name": "StyleView",
            "description_width": ""
          }
        },
        "7fdec83fad0d4acd93f51e126761e835": {
          "model_module": "@jupyter-widgets/controls",
          "model_name": "HBoxModel",
          "model_module_version": "1.5.0",
          "state": {
            "_dom_classes": [],
            "_model_module": "@jupyter-widgets/controls",
            "_model_module_version": "1.5.0",
            "_model_name": "HBoxModel",
            "_view_count": null,
            "_view_module": "@jupyter-widgets/controls",
            "_view_module_version": "1.5.0",
            "_view_name": "HBoxView",
            "box_style": "",
            "children": [
              "IPY_MODEL_96744298ebc14b83b36a3af8b1fd9e19",
              "IPY_MODEL_49cf651f7e4f4e3186d062cf6cc69b85",
              "IPY_MODEL_e3ebbca190f642fcb45afb0ed69b6f97"
            ],
            "layout": "IPY_MODEL_85e8ca51b7f94985b50cacedc6d07cae"
          }
        },
        "96744298ebc14b83b36a3af8b1fd9e19": {
          "model_module": "@jupyter-widgets/controls",
          "model_name": "HTMLModel",
          "model_module_version": "1.5.0",
          "state": {
            "_dom_classes": [],
            "_model_module": "@jupyter-widgets/controls",
            "_model_module_version": "1.5.0",
            "_model_name": "HTMLModel",
            "_view_count": null,
            "_view_module": "@jupyter-widgets/controls",
            "_view_module_version": "1.5.0",
            "_view_name": "HTMLView",
            "description": "",
            "description_tooltip": null,
            "layout": "IPY_MODEL_d6e8287b0d1648c9be75c55d9a902b70",
            "placeholder": "​",
            "style": "IPY_MODEL_85dca053a4424b2b96b669758eebc0d3",
            "value": "100%"
          }
        },
        "49cf651f7e4f4e3186d062cf6cc69b85": {
          "model_module": "@jupyter-widgets/controls",
          "model_name": "FloatProgressModel",
          "model_module_version": "1.5.0",
          "state": {
            "_dom_classes": [],
            "_model_module": "@jupyter-widgets/controls",
            "_model_module_version": "1.5.0",
            "_model_name": "FloatProgressModel",
            "_view_count": null,
            "_view_module": "@jupyter-widgets/controls",
            "_view_module_version": "1.5.0",
            "_view_name": "ProgressView",
            "bar_style": "success",
            "description": "",
            "description_tooltip": null,
            "layout": "IPY_MODEL_f9f423ad46da4bf7b1a5be052474c145",
            "max": 25,
            "min": 0,
            "orientation": "horizontal",
            "style": "IPY_MODEL_9b2fc855267b4dd5bd8caf4fb4b659c4",
            "value": 25
          }
        },
        "e3ebbca190f642fcb45afb0ed69b6f97": {
          "model_module": "@jupyter-widgets/controls",
          "model_name": "HTMLModel",
          "model_module_version": "1.5.0",
          "state": {
            "_dom_classes": [],
            "_model_module": "@jupyter-widgets/controls",
            "_model_module_version": "1.5.0",
            "_model_name": "HTMLModel",
            "_view_count": null,
            "_view_module": "@jupyter-widgets/controls",
            "_view_module_version": "1.5.0",
            "_view_name": "HTMLView",
            "description": "",
            "description_tooltip": null,
            "layout": "IPY_MODEL_4af91b2b7e084476b8a4563937103543",
            "placeholder": "​",
            "style": "IPY_MODEL_b4550afe490b4344a75908e6021bf519",
            "value": " 25/25 [00:00&lt;00:00, 122.07ba/s]"
          }
        },
        "85e8ca51b7f94985b50cacedc6d07cae": {
          "model_module": "@jupyter-widgets/base",
          "model_name": "LayoutModel",
          "model_module_version": "1.2.0",
          "state": {
            "_model_module": "@jupyter-widgets/base",
            "_model_module_version": "1.2.0",
            "_model_name": "LayoutModel",
            "_view_count": null,
            "_view_module": "@jupyter-widgets/base",
            "_view_module_version": "1.2.0",
            "_view_name": "LayoutView",
            "align_content": null,
            "align_items": null,
            "align_self": null,
            "border": null,
            "bottom": null,
            "display": null,
            "flex": null,
            "flex_flow": null,
            "grid_area": null,
            "grid_auto_columns": null,
            "grid_auto_flow": null,
            "grid_auto_rows": null,
            "grid_column": null,
            "grid_gap": null,
            "grid_row": null,
            "grid_template_areas": null,
            "grid_template_columns": null,
            "grid_template_rows": null,
            "height": null,
            "justify_content": null,
            "justify_items": null,
            "left": null,
            "margin": null,
            "max_height": null,
            "max_width": null,
            "min_height": null,
            "min_width": null,
            "object_fit": null,
            "object_position": null,
            "order": null,
            "overflow": null,
            "overflow_x": null,
            "overflow_y": null,
            "padding": null,
            "right": null,
            "top": null,
            "visibility": null,
            "width": null
          }
        },
        "d6e8287b0d1648c9be75c55d9a902b70": {
          "model_module": "@jupyter-widgets/base",
          "model_name": "LayoutModel",
          "model_module_version": "1.2.0",
          "state": {
            "_model_module": "@jupyter-widgets/base",
            "_model_module_version": "1.2.0",
            "_model_name": "LayoutModel",
            "_view_count": null,
            "_view_module": "@jupyter-widgets/base",
            "_view_module_version": "1.2.0",
            "_view_name": "LayoutView",
            "align_content": null,
            "align_items": null,
            "align_self": null,
            "border": null,
            "bottom": null,
            "display": null,
            "flex": null,
            "flex_flow": null,
            "grid_area": null,
            "grid_auto_columns": null,
            "grid_auto_flow": null,
            "grid_auto_rows": null,
            "grid_column": null,
            "grid_gap": null,
            "grid_row": null,
            "grid_template_areas": null,
            "grid_template_columns": null,
            "grid_template_rows": null,
            "height": null,
            "justify_content": null,
            "justify_items": null,
            "left": null,
            "margin": null,
            "max_height": null,
            "max_width": null,
            "min_height": null,
            "min_width": null,
            "object_fit": null,
            "object_position": null,
            "order": null,
            "overflow": null,
            "overflow_x": null,
            "overflow_y": null,
            "padding": null,
            "right": null,
            "top": null,
            "visibility": null,
            "width": null
          }
        },
        "85dca053a4424b2b96b669758eebc0d3": {
          "model_module": "@jupyter-widgets/controls",
          "model_name": "DescriptionStyleModel",
          "model_module_version": "1.5.0",
          "state": {
            "_model_module": "@jupyter-widgets/controls",
            "_model_module_version": "1.5.0",
            "_model_name": "DescriptionStyleModel",
            "_view_count": null,
            "_view_module": "@jupyter-widgets/base",
            "_view_module_version": "1.2.0",
            "_view_name": "StyleView",
            "description_width": ""
          }
        },
        "f9f423ad46da4bf7b1a5be052474c145": {
          "model_module": "@jupyter-widgets/base",
          "model_name": "LayoutModel",
          "model_module_version": "1.2.0",
          "state": {
            "_model_module": "@jupyter-widgets/base",
            "_model_module_version": "1.2.0",
            "_model_name": "LayoutModel",
            "_view_count": null,
            "_view_module": "@jupyter-widgets/base",
            "_view_module_version": "1.2.0",
            "_view_name": "LayoutView",
            "align_content": null,
            "align_items": null,
            "align_self": null,
            "border": null,
            "bottom": null,
            "display": null,
            "flex": null,
            "flex_flow": null,
            "grid_area": null,
            "grid_auto_columns": null,
            "grid_auto_flow": null,
            "grid_auto_rows": null,
            "grid_column": null,
            "grid_gap": null,
            "grid_row": null,
            "grid_template_areas": null,
            "grid_template_columns": null,
            "grid_template_rows": null,
            "height": null,
            "justify_content": null,
            "justify_items": null,
            "left": null,
            "margin": null,
            "max_height": null,
            "max_width": null,
            "min_height": null,
            "min_width": null,
            "object_fit": null,
            "object_position": null,
            "order": null,
            "overflow": null,
            "overflow_x": null,
            "overflow_y": null,
            "padding": null,
            "right": null,
            "top": null,
            "visibility": null,
            "width": null
          }
        },
        "9b2fc855267b4dd5bd8caf4fb4b659c4": {
          "model_module": "@jupyter-widgets/controls",
          "model_name": "ProgressStyleModel",
          "model_module_version": "1.5.0",
          "state": {
            "_model_module": "@jupyter-widgets/controls",
            "_model_module_version": "1.5.0",
            "_model_name": "ProgressStyleModel",
            "_view_count": null,
            "_view_module": "@jupyter-widgets/base",
            "_view_module_version": "1.2.0",
            "_view_name": "StyleView",
            "bar_color": null,
            "description_width": ""
          }
        },
        "4af91b2b7e084476b8a4563937103543": {
          "model_module": "@jupyter-widgets/base",
          "model_name": "LayoutModel",
          "model_module_version": "1.2.0",
          "state": {
            "_model_module": "@jupyter-widgets/base",
            "_model_module_version": "1.2.0",
            "_model_name": "LayoutModel",
            "_view_count": null,
            "_view_module": "@jupyter-widgets/base",
            "_view_module_version": "1.2.0",
            "_view_name": "LayoutView",
            "align_content": null,
            "align_items": null,
            "align_self": null,
            "border": null,
            "bottom": null,
            "display": null,
            "flex": null,
            "flex_flow": null,
            "grid_area": null,
            "grid_auto_columns": null,
            "grid_auto_flow": null,
            "grid_auto_rows": null,
            "grid_column": null,
            "grid_gap": null,
            "grid_row": null,
            "grid_template_areas": null,
            "grid_template_columns": null,
            "grid_template_rows": null,
            "height": null,
            "justify_content": null,
            "justify_items": null,
            "left": null,
            "margin": null,
            "max_height": null,
            "max_width": null,
            "min_height": null,
            "min_width": null,
            "object_fit": null,
            "object_position": null,
            "order": null,
            "overflow": null,
            "overflow_x": null,
            "overflow_y": null,
            "padding": null,
            "right": null,
            "top": null,
            "visibility": null,
            "width": null
          }
        },
        "b4550afe490b4344a75908e6021bf519": {
          "model_module": "@jupyter-widgets/controls",
          "model_name": "DescriptionStyleModel",
          "model_module_version": "1.5.0",
          "state": {
            "_model_module": "@jupyter-widgets/controls",
            "_model_module_version": "1.5.0",
            "_model_name": "DescriptionStyleModel",
            "_view_count": null,
            "_view_module": "@jupyter-widgets/base",
            "_view_module_version": "1.2.0",
            "_view_name": "StyleView",
            "description_width": ""
          }
        },
        "dd369d124c2849e9888b8e07f732da91": {
          "model_module": "@jupyter-widgets/controls",
          "model_name": "HBoxModel",
          "model_module_version": "1.5.0",
          "state": {
            "_dom_classes": [],
            "_model_module": "@jupyter-widgets/controls",
            "_model_module_version": "1.5.0",
            "_model_name": "HBoxModel",
            "_view_count": null,
            "_view_module": "@jupyter-widgets/controls",
            "_view_module_version": "1.5.0",
            "_view_name": "HBoxView",
            "box_style": "",
            "children": [
              "IPY_MODEL_0e87153bd3a94346a99fa779a559d4b5",
              "IPY_MODEL_801298c47dec453aa9cc1e4e54b64d77",
              "IPY_MODEL_6fb5e9111dd64421802c42c631a6ded8"
            ],
            "layout": "IPY_MODEL_153683d3618d4884a628740307e0a441"
          }
        },
        "0e87153bd3a94346a99fa779a559d4b5": {
          "model_module": "@jupyter-widgets/controls",
          "model_name": "HTMLModel",
          "model_module_version": "1.5.0",
          "state": {
            "_dom_classes": [],
            "_model_module": "@jupyter-widgets/controls",
            "_model_module_version": "1.5.0",
            "_model_name": "HTMLModel",
            "_view_count": null,
            "_view_module": "@jupyter-widgets/controls",
            "_view_module_version": "1.5.0",
            "_view_name": "HTMLView",
            "description": "",
            "description_tooltip": null,
            "layout": "IPY_MODEL_2d5b883e394b4a8da05444245ee7fa82",
            "placeholder": "​",
            "style": "IPY_MODEL_c571ad800d3d4a5985924c530679bc3e",
            "value": "100%"
          }
        },
        "801298c47dec453aa9cc1e4e54b64d77": {
          "model_module": "@jupyter-widgets/controls",
          "model_name": "FloatProgressModel",
          "model_module_version": "1.5.0",
          "state": {
            "_dom_classes": [],
            "_model_module": "@jupyter-widgets/controls",
            "_model_module_version": "1.5.0",
            "_model_name": "FloatProgressModel",
            "_view_count": null,
            "_view_module": "@jupyter-widgets/controls",
            "_view_module_version": "1.5.0",
            "_view_name": "ProgressView",
            "bar_style": "success",
            "description": "",
            "description_tooltip": null,
            "layout": "IPY_MODEL_0c128b0ade874dfa944691da092b235e",
            "max": 13,
            "min": 0,
            "orientation": "horizontal",
            "style": "IPY_MODEL_91e89fcca72742a6b7520a30185609ed",
            "value": 13
          }
        },
        "6fb5e9111dd64421802c42c631a6ded8": {
          "model_module": "@jupyter-widgets/controls",
          "model_name": "HTMLModel",
          "model_module_version": "1.5.0",
          "state": {
            "_dom_classes": [],
            "_model_module": "@jupyter-widgets/controls",
            "_model_module_version": "1.5.0",
            "_model_name": "HTMLModel",
            "_view_count": null,
            "_view_module": "@jupyter-widgets/controls",
            "_view_module_version": "1.5.0",
            "_view_name": "HTMLView",
            "description": "",
            "description_tooltip": null,
            "layout": "IPY_MODEL_def1877ebc5648dca6d453b6e9c66515",
            "placeholder": "​",
            "style": "IPY_MODEL_fa62ef58083c4925a64adaeac0a10c04",
            "value": " 13/13 [00:00&lt;00:00, 55.26ba/s]"
          }
        },
        "153683d3618d4884a628740307e0a441": {
          "model_module": "@jupyter-widgets/base",
          "model_name": "LayoutModel",
          "model_module_version": "1.2.0",
          "state": {
            "_model_module": "@jupyter-widgets/base",
            "_model_module_version": "1.2.0",
            "_model_name": "LayoutModel",
            "_view_count": null,
            "_view_module": "@jupyter-widgets/base",
            "_view_module_version": "1.2.0",
            "_view_name": "LayoutView",
            "align_content": null,
            "align_items": null,
            "align_self": null,
            "border": null,
            "bottom": null,
            "display": null,
            "flex": null,
            "flex_flow": null,
            "grid_area": null,
            "grid_auto_columns": null,
            "grid_auto_flow": null,
            "grid_auto_rows": null,
            "grid_column": null,
            "grid_gap": null,
            "grid_row": null,
            "grid_template_areas": null,
            "grid_template_columns": null,
            "grid_template_rows": null,
            "height": null,
            "justify_content": null,
            "justify_items": null,
            "left": null,
            "margin": null,
            "max_height": null,
            "max_width": null,
            "min_height": null,
            "min_width": null,
            "object_fit": null,
            "object_position": null,
            "order": null,
            "overflow": null,
            "overflow_x": null,
            "overflow_y": null,
            "padding": null,
            "right": null,
            "top": null,
            "visibility": null,
            "width": null
          }
        },
        "2d5b883e394b4a8da05444245ee7fa82": {
          "model_module": "@jupyter-widgets/base",
          "model_name": "LayoutModel",
          "model_module_version": "1.2.0",
          "state": {
            "_model_module": "@jupyter-widgets/base",
            "_model_module_version": "1.2.0",
            "_model_name": "LayoutModel",
            "_view_count": null,
            "_view_module": "@jupyter-widgets/base",
            "_view_module_version": "1.2.0",
            "_view_name": "LayoutView",
            "align_content": null,
            "align_items": null,
            "align_self": null,
            "border": null,
            "bottom": null,
            "display": null,
            "flex": null,
            "flex_flow": null,
            "grid_area": null,
            "grid_auto_columns": null,
            "grid_auto_flow": null,
            "grid_auto_rows": null,
            "grid_column": null,
            "grid_gap": null,
            "grid_row": null,
            "grid_template_areas": null,
            "grid_template_columns": null,
            "grid_template_rows": null,
            "height": null,
            "justify_content": null,
            "justify_items": null,
            "left": null,
            "margin": null,
            "max_height": null,
            "max_width": null,
            "min_height": null,
            "min_width": null,
            "object_fit": null,
            "object_position": null,
            "order": null,
            "overflow": null,
            "overflow_x": null,
            "overflow_y": null,
            "padding": null,
            "right": null,
            "top": null,
            "visibility": null,
            "width": null
          }
        },
        "c571ad800d3d4a5985924c530679bc3e": {
          "model_module": "@jupyter-widgets/controls",
          "model_name": "DescriptionStyleModel",
          "model_module_version": "1.5.0",
          "state": {
            "_model_module": "@jupyter-widgets/controls",
            "_model_module_version": "1.5.0",
            "_model_name": "DescriptionStyleModel",
            "_view_count": null,
            "_view_module": "@jupyter-widgets/base",
            "_view_module_version": "1.2.0",
            "_view_name": "StyleView",
            "description_width": ""
          }
        },
        "0c128b0ade874dfa944691da092b235e": {
          "model_module": "@jupyter-widgets/base",
          "model_name": "LayoutModel",
          "model_module_version": "1.2.0",
          "state": {
            "_model_module": "@jupyter-widgets/base",
            "_model_module_version": "1.2.0",
            "_model_name": "LayoutModel",
            "_view_count": null,
            "_view_module": "@jupyter-widgets/base",
            "_view_module_version": "1.2.0",
            "_view_name": "LayoutView",
            "align_content": null,
            "align_items": null,
            "align_self": null,
            "border": null,
            "bottom": null,
            "display": null,
            "flex": null,
            "flex_flow": null,
            "grid_area": null,
            "grid_auto_columns": null,
            "grid_auto_flow": null,
            "grid_auto_rows": null,
            "grid_column": null,
            "grid_gap": null,
            "grid_row": null,
            "grid_template_areas": null,
            "grid_template_columns": null,
            "grid_template_rows": null,
            "height": null,
            "justify_content": null,
            "justify_items": null,
            "left": null,
            "margin": null,
            "max_height": null,
            "max_width": null,
            "min_height": null,
            "min_width": null,
            "object_fit": null,
            "object_position": null,
            "order": null,
            "overflow": null,
            "overflow_x": null,
            "overflow_y": null,
            "padding": null,
            "right": null,
            "top": null,
            "visibility": null,
            "width": null
          }
        },
        "91e89fcca72742a6b7520a30185609ed": {
          "model_module": "@jupyter-widgets/controls",
          "model_name": "ProgressStyleModel",
          "model_module_version": "1.5.0",
          "state": {
            "_model_module": "@jupyter-widgets/controls",
            "_model_module_version": "1.5.0",
            "_model_name": "ProgressStyleModel",
            "_view_count": null,
            "_view_module": "@jupyter-widgets/base",
            "_view_module_version": "1.2.0",
            "_view_name": "StyleView",
            "bar_color": null,
            "description_width": ""
          }
        },
        "def1877ebc5648dca6d453b6e9c66515": {
          "model_module": "@jupyter-widgets/base",
          "model_name": "LayoutModel",
          "model_module_version": "1.2.0",
          "state": {
            "_model_module": "@jupyter-widgets/base",
            "_model_module_version": "1.2.0",
            "_model_name": "LayoutModel",
            "_view_count": null,
            "_view_module": "@jupyter-widgets/base",
            "_view_module_version": "1.2.0",
            "_view_name": "LayoutView",
            "align_content": null,
            "align_items": null,
            "align_self": null,
            "border": null,
            "bottom": null,
            "display": null,
            "flex": null,
            "flex_flow": null,
            "grid_area": null,
            "grid_auto_columns": null,
            "grid_auto_flow": null,
            "grid_auto_rows": null,
            "grid_column": null,
            "grid_gap": null,
            "grid_row": null,
            "grid_template_areas": null,
            "grid_template_columns": null,
            "grid_template_rows": null,
            "height": null,
            "justify_content": null,
            "justify_items": null,
            "left": null,
            "margin": null,
            "max_height": null,
            "max_width": null,
            "min_height": null,
            "min_width": null,
            "object_fit": null,
            "object_position": null,
            "order": null,
            "overflow": null,
            "overflow_x": null,
            "overflow_y": null,
            "padding": null,
            "right": null,
            "top": null,
            "visibility": null,
            "width": null
          }
        },
        "fa62ef58083c4925a64adaeac0a10c04": {
          "model_module": "@jupyter-widgets/controls",
          "model_name": "DescriptionStyleModel",
          "model_module_version": "1.5.0",
          "state": {
            "_model_module": "@jupyter-widgets/controls",
            "_model_module_version": "1.5.0",
            "_model_name": "DescriptionStyleModel",
            "_view_count": null,
            "_view_module": "@jupyter-widgets/base",
            "_view_module_version": "1.2.0",
            "_view_name": "StyleView",
            "description_width": ""
          }
        },
        "5a4afc90a4764944b8374e1a43a97508": {
          "model_module": "@jupyter-widgets/controls",
          "model_name": "HBoxModel",
          "model_module_version": "1.5.0",
          "state": {
            "_dom_classes": [],
            "_model_module": "@jupyter-widgets/controls",
            "_model_module_version": "1.5.0",
            "_model_name": "HBoxModel",
            "_view_count": null,
            "_view_module": "@jupyter-widgets/controls",
            "_view_module_version": "1.5.0",
            "_view_name": "HBoxView",
            "box_style": "",
            "children": [
              "IPY_MODEL_04d6dd337b72444ca67a5a952c26f30c",
              "IPY_MODEL_6b301d523064414a9346d02a8db0383a",
              "IPY_MODEL_d045ce6b26dc45a7af8bc4f13608e42d"
            ],
            "layout": "IPY_MODEL_ec333092c97a4d3ba2c50d8dc5d05458"
          }
        },
        "04d6dd337b72444ca67a5a952c26f30c": {
          "model_module": "@jupyter-widgets/controls",
          "model_name": "HTMLModel",
          "model_module_version": "1.5.0",
          "state": {
            "_dom_classes": [],
            "_model_module": "@jupyter-widgets/controls",
            "_model_module_version": "1.5.0",
            "_model_name": "HTMLModel",
            "_view_count": null,
            "_view_module": "@jupyter-widgets/controls",
            "_view_module_version": "1.5.0",
            "_view_name": "HTMLView",
            "description": "",
            "description_tooltip": null,
            "layout": "IPY_MODEL_30f1e1eb6eda4781bad9a91ca28bb064",
            "placeholder": "​",
            "style": "IPY_MODEL_4eeb3526a007416d9c9aaf08dec19564",
            "value": "100%"
          }
        },
        "6b301d523064414a9346d02a8db0383a": {
          "model_module": "@jupyter-widgets/controls",
          "model_name": "FloatProgressModel",
          "model_module_version": "1.5.0",
          "state": {
            "_dom_classes": [],
            "_model_module": "@jupyter-widgets/controls",
            "_model_module_version": "1.5.0",
            "_model_name": "FloatProgressModel",
            "_view_count": null,
            "_view_module": "@jupyter-widgets/controls",
            "_view_module_version": "1.5.0",
            "_view_name": "ProgressView",
            "bar_style": "success",
            "description": "",
            "description_tooltip": null,
            "layout": "IPY_MODEL_6e350dd2b5904b7fbe9493e7bb719070",
            "max": 25,
            "min": 0,
            "orientation": "horizontal",
            "style": "IPY_MODEL_5b7fec17a7d445c496d073137724ad22",
            "value": 25
          }
        },
        "d045ce6b26dc45a7af8bc4f13608e42d": {
          "model_module": "@jupyter-widgets/controls",
          "model_name": "HTMLModel",
          "model_module_version": "1.5.0",
          "state": {
            "_dom_classes": [],
            "_model_module": "@jupyter-widgets/controls",
            "_model_module_version": "1.5.0",
            "_model_name": "HTMLModel",
            "_view_count": null,
            "_view_module": "@jupyter-widgets/controls",
            "_view_module_version": "1.5.0",
            "_view_name": "HTMLView",
            "description": "",
            "description_tooltip": null,
            "layout": "IPY_MODEL_bf7c13f4fcbc4af48786651090b42208",
            "placeholder": "​",
            "style": "IPY_MODEL_332fe8e9f3224cda91b3a60d2d5bc593",
            "value": " 25/25 [00:00&lt;00:00, 125.27ba/s]"
          }
        },
        "ec333092c97a4d3ba2c50d8dc5d05458": {
          "model_module": "@jupyter-widgets/base",
          "model_name": "LayoutModel",
          "model_module_version": "1.2.0",
          "state": {
            "_model_module": "@jupyter-widgets/base",
            "_model_module_version": "1.2.0",
            "_model_name": "LayoutModel",
            "_view_count": null,
            "_view_module": "@jupyter-widgets/base",
            "_view_module_version": "1.2.0",
            "_view_name": "LayoutView",
            "align_content": null,
            "align_items": null,
            "align_self": null,
            "border": null,
            "bottom": null,
            "display": null,
            "flex": null,
            "flex_flow": null,
            "grid_area": null,
            "grid_auto_columns": null,
            "grid_auto_flow": null,
            "grid_auto_rows": null,
            "grid_column": null,
            "grid_gap": null,
            "grid_row": null,
            "grid_template_areas": null,
            "grid_template_columns": null,
            "grid_template_rows": null,
            "height": null,
            "justify_content": null,
            "justify_items": null,
            "left": null,
            "margin": null,
            "max_height": null,
            "max_width": null,
            "min_height": null,
            "min_width": null,
            "object_fit": null,
            "object_position": null,
            "order": null,
            "overflow": null,
            "overflow_x": null,
            "overflow_y": null,
            "padding": null,
            "right": null,
            "top": null,
            "visibility": null,
            "width": null
          }
        },
        "30f1e1eb6eda4781bad9a91ca28bb064": {
          "model_module": "@jupyter-widgets/base",
          "model_name": "LayoutModel",
          "model_module_version": "1.2.0",
          "state": {
            "_model_module": "@jupyter-widgets/base",
            "_model_module_version": "1.2.0",
            "_model_name": "LayoutModel",
            "_view_count": null,
            "_view_module": "@jupyter-widgets/base",
            "_view_module_version": "1.2.0",
            "_view_name": "LayoutView",
            "align_content": null,
            "align_items": null,
            "align_self": null,
            "border": null,
            "bottom": null,
            "display": null,
            "flex": null,
            "flex_flow": null,
            "grid_area": null,
            "grid_auto_columns": null,
            "grid_auto_flow": null,
            "grid_auto_rows": null,
            "grid_column": null,
            "grid_gap": null,
            "grid_row": null,
            "grid_template_areas": null,
            "grid_template_columns": null,
            "grid_template_rows": null,
            "height": null,
            "justify_content": null,
            "justify_items": null,
            "left": null,
            "margin": null,
            "max_height": null,
            "max_width": null,
            "min_height": null,
            "min_width": null,
            "object_fit": null,
            "object_position": null,
            "order": null,
            "overflow": null,
            "overflow_x": null,
            "overflow_y": null,
            "padding": null,
            "right": null,
            "top": null,
            "visibility": null,
            "width": null
          }
        },
        "4eeb3526a007416d9c9aaf08dec19564": {
          "model_module": "@jupyter-widgets/controls",
          "model_name": "DescriptionStyleModel",
          "model_module_version": "1.5.0",
          "state": {
            "_model_module": "@jupyter-widgets/controls",
            "_model_module_version": "1.5.0",
            "_model_name": "DescriptionStyleModel",
            "_view_count": null,
            "_view_module": "@jupyter-widgets/base",
            "_view_module_version": "1.2.0",
            "_view_name": "StyleView",
            "description_width": ""
          }
        },
        "6e350dd2b5904b7fbe9493e7bb719070": {
          "model_module": "@jupyter-widgets/base",
          "model_name": "LayoutModel",
          "model_module_version": "1.2.0",
          "state": {
            "_model_module": "@jupyter-widgets/base",
            "_model_module_version": "1.2.0",
            "_model_name": "LayoutModel",
            "_view_count": null,
            "_view_module": "@jupyter-widgets/base",
            "_view_module_version": "1.2.0",
            "_view_name": "LayoutView",
            "align_content": null,
            "align_items": null,
            "align_self": null,
            "border": null,
            "bottom": null,
            "display": null,
            "flex": null,
            "flex_flow": null,
            "grid_area": null,
            "grid_auto_columns": null,
            "grid_auto_flow": null,
            "grid_auto_rows": null,
            "grid_column": null,
            "grid_gap": null,
            "grid_row": null,
            "grid_template_areas": null,
            "grid_template_columns": null,
            "grid_template_rows": null,
            "height": null,
            "justify_content": null,
            "justify_items": null,
            "left": null,
            "margin": null,
            "max_height": null,
            "max_width": null,
            "min_height": null,
            "min_width": null,
            "object_fit": null,
            "object_position": null,
            "order": null,
            "overflow": null,
            "overflow_x": null,
            "overflow_y": null,
            "padding": null,
            "right": null,
            "top": null,
            "visibility": null,
            "width": null
          }
        },
        "5b7fec17a7d445c496d073137724ad22": {
          "model_module": "@jupyter-widgets/controls",
          "model_name": "ProgressStyleModel",
          "model_module_version": "1.5.0",
          "state": {
            "_model_module": "@jupyter-widgets/controls",
            "_model_module_version": "1.5.0",
            "_model_name": "ProgressStyleModel",
            "_view_count": null,
            "_view_module": "@jupyter-widgets/base",
            "_view_module_version": "1.2.0",
            "_view_name": "StyleView",
            "bar_color": null,
            "description_width": ""
          }
        },
        "bf7c13f4fcbc4af48786651090b42208": {
          "model_module": "@jupyter-widgets/base",
          "model_name": "LayoutModel",
          "model_module_version": "1.2.0",
          "state": {
            "_model_module": "@jupyter-widgets/base",
            "_model_module_version": "1.2.0",
            "_model_name": "LayoutModel",
            "_view_count": null,
            "_view_module": "@jupyter-widgets/base",
            "_view_module_version": "1.2.0",
            "_view_name": "LayoutView",
            "align_content": null,
            "align_items": null,
            "align_self": null,
            "border": null,
            "bottom": null,
            "display": null,
            "flex": null,
            "flex_flow": null,
            "grid_area": null,
            "grid_auto_columns": null,
            "grid_auto_flow": null,
            "grid_auto_rows": null,
            "grid_column": null,
            "grid_gap": null,
            "grid_row": null,
            "grid_template_areas": null,
            "grid_template_columns": null,
            "grid_template_rows": null,
            "height": null,
            "justify_content": null,
            "justify_items": null,
            "left": null,
            "margin": null,
            "max_height": null,
            "max_width": null,
            "min_height": null,
            "min_width": null,
            "object_fit": null,
            "object_position": null,
            "order": null,
            "overflow": null,
            "overflow_x": null,
            "overflow_y": null,
            "padding": null,
            "right": null,
            "top": null,
            "visibility": null,
            "width": null
          }
        },
        "332fe8e9f3224cda91b3a60d2d5bc593": {
          "model_module": "@jupyter-widgets/controls",
          "model_name": "DescriptionStyleModel",
          "model_module_version": "1.5.0",
          "state": {
            "_model_module": "@jupyter-widgets/controls",
            "_model_module_version": "1.5.0",
            "_model_name": "DescriptionStyleModel",
            "_view_count": null,
            "_view_module": "@jupyter-widgets/base",
            "_view_module_version": "1.2.0",
            "_view_name": "StyleView",
            "description_width": ""
          }
        },
        "97f4d75946164c3b922ed91e08e2be89": {
          "model_module": "@jupyter-widgets/controls",
          "model_name": "HBoxModel",
          "model_module_version": "1.5.0",
          "state": {
            "_dom_classes": [],
            "_model_module": "@jupyter-widgets/controls",
            "_model_module_version": "1.5.0",
            "_model_name": "HBoxModel",
            "_view_count": null,
            "_view_module": "@jupyter-widgets/controls",
            "_view_module_version": "1.5.0",
            "_view_name": "HBoxView",
            "box_style": "",
            "children": [
              "IPY_MODEL_f8aaa6d41bda498ab5a23fe0342f5972",
              "IPY_MODEL_590888ff162b44b08586c281703a516a",
              "IPY_MODEL_99dd54a194d54d9c8cd9a51a7f1b6522"
            ],
            "layout": "IPY_MODEL_d691ceb466934a2ca89ebbe98b710342"
          }
        },
        "f8aaa6d41bda498ab5a23fe0342f5972": {
          "model_module": "@jupyter-widgets/controls",
          "model_name": "HTMLModel",
          "model_module_version": "1.5.0",
          "state": {
            "_dom_classes": [],
            "_model_module": "@jupyter-widgets/controls",
            "_model_module_version": "1.5.0",
            "_model_name": "HTMLModel",
            "_view_count": null,
            "_view_module": "@jupyter-widgets/controls",
            "_view_module_version": "1.5.0",
            "_view_name": "HTMLView",
            "description": "",
            "description_tooltip": null,
            "layout": "IPY_MODEL_0cc736bb104d46c78f874a87710fa070",
            "placeholder": "​",
            "style": "IPY_MODEL_162b3bb1e70e4e8eb9466c0448ab8050",
            "value": "100%"
          }
        },
        "590888ff162b44b08586c281703a516a": {
          "model_module": "@jupyter-widgets/controls",
          "model_name": "FloatProgressModel",
          "model_module_version": "1.5.0",
          "state": {
            "_dom_classes": [],
            "_model_module": "@jupyter-widgets/controls",
            "_model_module_version": "1.5.0",
            "_model_name": "FloatProgressModel",
            "_view_count": null,
            "_view_module": "@jupyter-widgets/controls",
            "_view_module_version": "1.5.0",
            "_view_name": "ProgressView",
            "bar_style": "success",
            "description": "",
            "description_tooltip": null,
            "layout": "IPY_MODEL_45fb25203e7348109960974106e1475f",
            "max": 13,
            "min": 0,
            "orientation": "horizontal",
            "style": "IPY_MODEL_a6485eef564f4e8097bc8bc6e3436f89",
            "value": 13
          }
        },
        "99dd54a194d54d9c8cd9a51a7f1b6522": {
          "model_module": "@jupyter-widgets/controls",
          "model_name": "HTMLModel",
          "model_module_version": "1.5.0",
          "state": {
            "_dom_classes": [],
            "_model_module": "@jupyter-widgets/controls",
            "_model_module_version": "1.5.0",
            "_model_name": "HTMLModel",
            "_view_count": null,
            "_view_module": "@jupyter-widgets/controls",
            "_view_module_version": "1.5.0",
            "_view_name": "HTMLView",
            "description": "",
            "description_tooltip": null,
            "layout": "IPY_MODEL_27de0407ee2d4f8e95e71bd63f6d7963",
            "placeholder": "​",
            "style": "IPY_MODEL_bd256b9005cd4a39ab807c2920d1a456",
            "value": " 13/13 [00:00&lt;00:00, 59.49ba/s]"
          }
        },
        "d691ceb466934a2ca89ebbe98b710342": {
          "model_module": "@jupyter-widgets/base",
          "model_name": "LayoutModel",
          "model_module_version": "1.2.0",
          "state": {
            "_model_module": "@jupyter-widgets/base",
            "_model_module_version": "1.2.0",
            "_model_name": "LayoutModel",
            "_view_count": null,
            "_view_module": "@jupyter-widgets/base",
            "_view_module_version": "1.2.0",
            "_view_name": "LayoutView",
            "align_content": null,
            "align_items": null,
            "align_self": null,
            "border": null,
            "bottom": null,
            "display": null,
            "flex": null,
            "flex_flow": null,
            "grid_area": null,
            "grid_auto_columns": null,
            "grid_auto_flow": null,
            "grid_auto_rows": null,
            "grid_column": null,
            "grid_gap": null,
            "grid_row": null,
            "grid_template_areas": null,
            "grid_template_columns": null,
            "grid_template_rows": null,
            "height": null,
            "justify_content": null,
            "justify_items": null,
            "left": null,
            "margin": null,
            "max_height": null,
            "max_width": null,
            "min_height": null,
            "min_width": null,
            "object_fit": null,
            "object_position": null,
            "order": null,
            "overflow": null,
            "overflow_x": null,
            "overflow_y": null,
            "padding": null,
            "right": null,
            "top": null,
            "visibility": null,
            "width": null
          }
        },
        "0cc736bb104d46c78f874a87710fa070": {
          "model_module": "@jupyter-widgets/base",
          "model_name": "LayoutModel",
          "model_module_version": "1.2.0",
          "state": {
            "_model_module": "@jupyter-widgets/base",
            "_model_module_version": "1.2.0",
            "_model_name": "LayoutModel",
            "_view_count": null,
            "_view_module": "@jupyter-widgets/base",
            "_view_module_version": "1.2.0",
            "_view_name": "LayoutView",
            "align_content": null,
            "align_items": null,
            "align_self": null,
            "border": null,
            "bottom": null,
            "display": null,
            "flex": null,
            "flex_flow": null,
            "grid_area": null,
            "grid_auto_columns": null,
            "grid_auto_flow": null,
            "grid_auto_rows": null,
            "grid_column": null,
            "grid_gap": null,
            "grid_row": null,
            "grid_template_areas": null,
            "grid_template_columns": null,
            "grid_template_rows": null,
            "height": null,
            "justify_content": null,
            "justify_items": null,
            "left": null,
            "margin": null,
            "max_height": null,
            "max_width": null,
            "min_height": null,
            "min_width": null,
            "object_fit": null,
            "object_position": null,
            "order": null,
            "overflow": null,
            "overflow_x": null,
            "overflow_y": null,
            "padding": null,
            "right": null,
            "top": null,
            "visibility": null,
            "width": null
          }
        },
        "162b3bb1e70e4e8eb9466c0448ab8050": {
          "model_module": "@jupyter-widgets/controls",
          "model_name": "DescriptionStyleModel",
          "model_module_version": "1.5.0",
          "state": {
            "_model_module": "@jupyter-widgets/controls",
            "_model_module_version": "1.5.0",
            "_model_name": "DescriptionStyleModel",
            "_view_count": null,
            "_view_module": "@jupyter-widgets/base",
            "_view_module_version": "1.2.0",
            "_view_name": "StyleView",
            "description_width": ""
          }
        },
        "45fb25203e7348109960974106e1475f": {
          "model_module": "@jupyter-widgets/base",
          "model_name": "LayoutModel",
          "model_module_version": "1.2.0",
          "state": {
            "_model_module": "@jupyter-widgets/base",
            "_model_module_version": "1.2.0",
            "_model_name": "LayoutModel",
            "_view_count": null,
            "_view_module": "@jupyter-widgets/base",
            "_view_module_version": "1.2.0",
            "_view_name": "LayoutView",
            "align_content": null,
            "align_items": null,
            "align_self": null,
            "border": null,
            "bottom": null,
            "display": null,
            "flex": null,
            "flex_flow": null,
            "grid_area": null,
            "grid_auto_columns": null,
            "grid_auto_flow": null,
            "grid_auto_rows": null,
            "grid_column": null,
            "grid_gap": null,
            "grid_row": null,
            "grid_template_areas": null,
            "grid_template_columns": null,
            "grid_template_rows": null,
            "height": null,
            "justify_content": null,
            "justify_items": null,
            "left": null,
            "margin": null,
            "max_height": null,
            "max_width": null,
            "min_height": null,
            "min_width": null,
            "object_fit": null,
            "object_position": null,
            "order": null,
            "overflow": null,
            "overflow_x": null,
            "overflow_y": null,
            "padding": null,
            "right": null,
            "top": null,
            "visibility": null,
            "width": null
          }
        },
        "a6485eef564f4e8097bc8bc6e3436f89": {
          "model_module": "@jupyter-widgets/controls",
          "model_name": "ProgressStyleModel",
          "model_module_version": "1.5.0",
          "state": {
            "_model_module": "@jupyter-widgets/controls",
            "_model_module_version": "1.5.0",
            "_model_name": "ProgressStyleModel",
            "_view_count": null,
            "_view_module": "@jupyter-widgets/base",
            "_view_module_version": "1.2.0",
            "_view_name": "StyleView",
            "bar_color": null,
            "description_width": ""
          }
        },
        "27de0407ee2d4f8e95e71bd63f6d7963": {
          "model_module": "@jupyter-widgets/base",
          "model_name": "LayoutModel",
          "model_module_version": "1.2.0",
          "state": {
            "_model_module": "@jupyter-widgets/base",
            "_model_module_version": "1.2.0",
            "_model_name": "LayoutModel",
            "_view_count": null,
            "_view_module": "@jupyter-widgets/base",
            "_view_module_version": "1.2.0",
            "_view_name": "LayoutView",
            "align_content": null,
            "align_items": null,
            "align_self": null,
            "border": null,
            "bottom": null,
            "display": null,
            "flex": null,
            "flex_flow": null,
            "grid_area": null,
            "grid_auto_columns": null,
            "grid_auto_flow": null,
            "grid_auto_rows": null,
            "grid_column": null,
            "grid_gap": null,
            "grid_row": null,
            "grid_template_areas": null,
            "grid_template_columns": null,
            "grid_template_rows": null,
            "height": null,
            "justify_content": null,
            "justify_items": null,
            "left": null,
            "margin": null,
            "max_height": null,
            "max_width": null,
            "min_height": null,
            "min_width": null,
            "object_fit": null,
            "object_position": null,
            "order": null,
            "overflow": null,
            "overflow_x": null,
            "overflow_y": null,
            "padding": null,
            "right": null,
            "top": null,
            "visibility": null,
            "width": null
          }
        },
        "bd256b9005cd4a39ab807c2920d1a456": {
          "model_module": "@jupyter-widgets/controls",
          "model_name": "DescriptionStyleModel",
          "model_module_version": "1.5.0",
          "state": {
            "_model_module": "@jupyter-widgets/controls",
            "_model_module_version": "1.5.0",
            "_model_name": "DescriptionStyleModel",
            "_view_count": null,
            "_view_module": "@jupyter-widgets/base",
            "_view_module_version": "1.2.0",
            "_view_name": "StyleView",
            "description_width": ""
          }
        },
        "2e95cf94b5914f62a50bb0185258df3e": {
          "model_module": "@jupyter-widgets/controls",
          "model_name": "HBoxModel",
          "model_module_version": "1.5.0",
          "state": {
            "_dom_classes": [],
            "_model_module": "@jupyter-widgets/controls",
            "_model_module_version": "1.5.0",
            "_model_name": "HBoxModel",
            "_view_count": null,
            "_view_module": "@jupyter-widgets/controls",
            "_view_module_version": "1.5.0",
            "_view_name": "HBoxView",
            "box_style": "",
            "children": [
              "IPY_MODEL_8ea59f60a8bd4061b72dc855c7e22e9a",
              "IPY_MODEL_e7524547f72b44d18d8e356c052b9f40",
              "IPY_MODEL_14061067799543879b91b68f051c88b3"
            ],
            "layout": "IPY_MODEL_92b4e23d53db4c239d16b511bc057e8d"
          }
        },
        "8ea59f60a8bd4061b72dc855c7e22e9a": {
          "model_module": "@jupyter-widgets/controls",
          "model_name": "HTMLModel",
          "model_module_version": "1.5.0",
          "state": {
            "_dom_classes": [],
            "_model_module": "@jupyter-widgets/controls",
            "_model_module_version": "1.5.0",
            "_model_name": "HTMLModel",
            "_view_count": null,
            "_view_module": "@jupyter-widgets/controls",
            "_view_module_version": "1.5.0",
            "_view_name": "HTMLView",
            "description": "",
            "description_tooltip": null,
            "layout": "IPY_MODEL_f9fee90be4664199b3a37b43a974a1fb",
            "placeholder": "​",
            "style": "IPY_MODEL_35b805b29c1741ea9e501b2712fa3660",
            "value": "Downloading tf_model.h5: 100%"
          }
        },
        "e7524547f72b44d18d8e356c052b9f40": {
          "model_module": "@jupyter-widgets/controls",
          "model_name": "FloatProgressModel",
          "model_module_version": "1.5.0",
          "state": {
            "_dom_classes": [],
            "_model_module": "@jupyter-widgets/controls",
            "_model_module_version": "1.5.0",
            "_model_name": "FloatProgressModel",
            "_view_count": null,
            "_view_module": "@jupyter-widgets/controls",
            "_view_module_version": "1.5.0",
            "_view_name": "ProgressView",
            "bar_style": "success",
            "description": "",
            "description_tooltip": null,
            "layout": "IPY_MODEL_e67ff63f5d9041a88c94fdb25ea63e91",
            "max": 526681800,
            "min": 0,
            "orientation": "horizontal",
            "style": "IPY_MODEL_6b0228f692584df0a92a6aa48aa2aac7",
            "value": 526681800
          }
        },
        "14061067799543879b91b68f051c88b3": {
          "model_module": "@jupyter-widgets/controls",
          "model_name": "HTMLModel",
          "model_module_version": "1.5.0",
          "state": {
            "_dom_classes": [],
            "_model_module": "@jupyter-widgets/controls",
            "_model_module_version": "1.5.0",
            "_model_name": "HTMLModel",
            "_view_count": null,
            "_view_module": "@jupyter-widgets/controls",
            "_view_module_version": "1.5.0",
            "_view_name": "HTMLView",
            "description": "",
            "description_tooltip": null,
            "layout": "IPY_MODEL_0415d1398339435b989a1c03c08eaad9",
            "placeholder": "​",
            "style": "IPY_MODEL_e823842e49c24812bbd86dfa34a7b982",
            "value": " 502M/502M [00:12&lt;00:00, 57.8MB/s]"
          }
        },
        "92b4e23d53db4c239d16b511bc057e8d": {
          "model_module": "@jupyter-widgets/base",
          "model_name": "LayoutModel",
          "model_module_version": "1.2.0",
          "state": {
            "_model_module": "@jupyter-widgets/base",
            "_model_module_version": "1.2.0",
            "_model_name": "LayoutModel",
            "_view_count": null,
            "_view_module": "@jupyter-widgets/base",
            "_view_module_version": "1.2.0",
            "_view_name": "LayoutView",
            "align_content": null,
            "align_items": null,
            "align_self": null,
            "border": null,
            "bottom": null,
            "display": null,
            "flex": null,
            "flex_flow": null,
            "grid_area": null,
            "grid_auto_columns": null,
            "grid_auto_flow": null,
            "grid_auto_rows": null,
            "grid_column": null,
            "grid_gap": null,
            "grid_row": null,
            "grid_template_areas": null,
            "grid_template_columns": null,
            "grid_template_rows": null,
            "height": null,
            "justify_content": null,
            "justify_items": null,
            "left": null,
            "margin": null,
            "max_height": null,
            "max_width": null,
            "min_height": null,
            "min_width": null,
            "object_fit": null,
            "object_position": null,
            "order": null,
            "overflow": null,
            "overflow_x": null,
            "overflow_y": null,
            "padding": null,
            "right": null,
            "top": null,
            "visibility": null,
            "width": null
          }
        },
        "f9fee90be4664199b3a37b43a974a1fb": {
          "model_module": "@jupyter-widgets/base",
          "model_name": "LayoutModel",
          "model_module_version": "1.2.0",
          "state": {
            "_model_module": "@jupyter-widgets/base",
            "_model_module_version": "1.2.0",
            "_model_name": "LayoutModel",
            "_view_count": null,
            "_view_module": "@jupyter-widgets/base",
            "_view_module_version": "1.2.0",
            "_view_name": "LayoutView",
            "align_content": null,
            "align_items": null,
            "align_self": null,
            "border": null,
            "bottom": null,
            "display": null,
            "flex": null,
            "flex_flow": null,
            "grid_area": null,
            "grid_auto_columns": null,
            "grid_auto_flow": null,
            "grid_auto_rows": null,
            "grid_column": null,
            "grid_gap": null,
            "grid_row": null,
            "grid_template_areas": null,
            "grid_template_columns": null,
            "grid_template_rows": null,
            "height": null,
            "justify_content": null,
            "justify_items": null,
            "left": null,
            "margin": null,
            "max_height": null,
            "max_width": null,
            "min_height": null,
            "min_width": null,
            "object_fit": null,
            "object_position": null,
            "order": null,
            "overflow": null,
            "overflow_x": null,
            "overflow_y": null,
            "padding": null,
            "right": null,
            "top": null,
            "visibility": null,
            "width": null
          }
        },
        "35b805b29c1741ea9e501b2712fa3660": {
          "model_module": "@jupyter-widgets/controls",
          "model_name": "DescriptionStyleModel",
          "model_module_version": "1.5.0",
          "state": {
            "_model_module": "@jupyter-widgets/controls",
            "_model_module_version": "1.5.0",
            "_model_name": "DescriptionStyleModel",
            "_view_count": null,
            "_view_module": "@jupyter-widgets/base",
            "_view_module_version": "1.2.0",
            "_view_name": "StyleView",
            "description_width": ""
          }
        },
        "e67ff63f5d9041a88c94fdb25ea63e91": {
          "model_module": "@jupyter-widgets/base",
          "model_name": "LayoutModel",
          "model_module_version": "1.2.0",
          "state": {
            "_model_module": "@jupyter-widgets/base",
            "_model_module_version": "1.2.0",
            "_model_name": "LayoutModel",
            "_view_count": null,
            "_view_module": "@jupyter-widgets/base",
            "_view_module_version": "1.2.0",
            "_view_name": "LayoutView",
            "align_content": null,
            "align_items": null,
            "align_self": null,
            "border": null,
            "bottom": null,
            "display": null,
            "flex": null,
            "flex_flow": null,
            "grid_area": null,
            "grid_auto_columns": null,
            "grid_auto_flow": null,
            "grid_auto_rows": null,
            "grid_column": null,
            "grid_gap": null,
            "grid_row": null,
            "grid_template_areas": null,
            "grid_template_columns": null,
            "grid_template_rows": null,
            "height": null,
            "justify_content": null,
            "justify_items": null,
            "left": null,
            "margin": null,
            "max_height": null,
            "max_width": null,
            "min_height": null,
            "min_width": null,
            "object_fit": null,
            "object_position": null,
            "order": null,
            "overflow": null,
            "overflow_x": null,
            "overflow_y": null,
            "padding": null,
            "right": null,
            "top": null,
            "visibility": null,
            "width": null
          }
        },
        "6b0228f692584df0a92a6aa48aa2aac7": {
          "model_module": "@jupyter-widgets/controls",
          "model_name": "ProgressStyleModel",
          "model_module_version": "1.5.0",
          "state": {
            "_model_module": "@jupyter-widgets/controls",
            "_model_module_version": "1.5.0",
            "_model_name": "ProgressStyleModel",
            "_view_count": null,
            "_view_module": "@jupyter-widgets/base",
            "_view_module_version": "1.2.0",
            "_view_name": "StyleView",
            "bar_color": null,
            "description_width": ""
          }
        },
        "0415d1398339435b989a1c03c08eaad9": {
          "model_module": "@jupyter-widgets/base",
          "model_name": "LayoutModel",
          "model_module_version": "1.2.0",
          "state": {
            "_model_module": "@jupyter-widgets/base",
            "_model_module_version": "1.2.0",
            "_model_name": "LayoutModel",
            "_view_count": null,
            "_view_module": "@jupyter-widgets/base",
            "_view_module_version": "1.2.0",
            "_view_name": "LayoutView",
            "align_content": null,
            "align_items": null,
            "align_self": null,
            "border": null,
            "bottom": null,
            "display": null,
            "flex": null,
            "flex_flow": null,
            "grid_area": null,
            "grid_auto_columns": null,
            "grid_auto_flow": null,
            "grid_auto_rows": null,
            "grid_column": null,
            "grid_gap": null,
            "grid_row": null,
            "grid_template_areas": null,
            "grid_template_columns": null,
            "grid_template_rows": null,
            "height": null,
            "justify_content": null,
            "justify_items": null,
            "left": null,
            "margin": null,
            "max_height": null,
            "max_width": null,
            "min_height": null,
            "min_width": null,
            "object_fit": null,
            "object_position": null,
            "order": null,
            "overflow": null,
            "overflow_x": null,
            "overflow_y": null,
            "padding": null,
            "right": null,
            "top": null,
            "visibility": null,
            "width": null
          }
        },
        "e823842e49c24812bbd86dfa34a7b982": {
          "model_module": "@jupyter-widgets/controls",
          "model_name": "DescriptionStyleModel",
          "model_module_version": "1.5.0",
          "state": {
            "_model_module": "@jupyter-widgets/controls",
            "_model_module_version": "1.5.0",
            "_model_name": "DescriptionStyleModel",
            "_view_count": null,
            "_view_module": "@jupyter-widgets/base",
            "_view_module_version": "1.2.0",
            "_view_name": "StyleView",
            "description_width": ""
          }
        },
        "b0a4d8e770f5455da20286433a05afe6": {
          "model_module": "@jupyter-widgets/controls",
          "model_name": "HBoxModel",
          "model_module_version": "1.5.0",
          "state": {
            "_dom_classes": [],
            "_model_module": "@jupyter-widgets/controls",
            "_model_module_version": "1.5.0",
            "_model_name": "HBoxModel",
            "_view_count": null,
            "_view_module": "@jupyter-widgets/controls",
            "_view_module_version": "1.5.0",
            "_view_name": "HBoxView",
            "box_style": "",
            "children": [
              "IPY_MODEL_575c93e4876f41899f953e0ec80136f2",
              "IPY_MODEL_357ee6bfdae84bdf904caf9ce1f6c41e",
              "IPY_MODEL_dc6f2464e0aa4426b79d855366de8e8b"
            ],
            "layout": "IPY_MODEL_7d17fe4ed2204363b8966112941f61ac"
          }
        },
        "575c93e4876f41899f953e0ec80136f2": {
          "model_module": "@jupyter-widgets/controls",
          "model_name": "HTMLModel",
          "model_module_version": "1.5.0",
          "state": {
            "_dom_classes": [],
            "_model_module": "@jupyter-widgets/controls",
            "_model_module_version": "1.5.0",
            "_model_name": "HTMLModel",
            "_view_count": null,
            "_view_module": "@jupyter-widgets/controls",
            "_view_module_version": "1.5.0",
            "_view_name": "HTMLView",
            "description": "",
            "description_tooltip": null,
            "layout": "IPY_MODEL_72de6e647caf49c4a9b647213d9e520a",
            "placeholder": "​",
            "style": "IPY_MODEL_6d748d8c8e4d479e86baa168efae88c2",
            "value": ""
          }
        },
        "357ee6bfdae84bdf904caf9ce1f6c41e": {
          "model_module": "@jupyter-widgets/controls",
          "model_name": "FloatProgressModel",
          "model_module_version": "1.5.0",
          "state": {
            "_dom_classes": [],
            "_model_module": "@jupyter-widgets/controls",
            "_model_module_version": "1.5.0",
            "_model_name": "FloatProgressModel",
            "_view_count": null,
            "_view_module": "@jupyter-widgets/controls",
            "_view_module_version": "1.5.0",
            "_view_name": "ProgressView",
            "bar_style": "",
            "description": "",
            "description_tooltip": null,
            "layout": "IPY_MODEL_7b81582dae9a47db804bcf0a90d3c6b5",
            "max": 498,
            "min": 0,
            "orientation": "horizontal",
            "style": "IPY_MODEL_74ddd66cc4b24f64b7f593d8720dc133",
            "value": 498
          }
        },
        "dc6f2464e0aa4426b79d855366de8e8b": {
          "model_module": "@jupyter-widgets/controls",
          "model_name": "HTMLModel",
          "model_module_version": "1.5.0",
          "state": {
            "_dom_classes": [],
            "_model_module": "@jupyter-widgets/controls",
            "_model_module_version": "1.5.0",
            "_model_name": "HTMLModel",
            "_view_count": null,
            "_view_module": "@jupyter-widgets/controls",
            "_view_module_version": "1.5.0",
            "_view_name": "HTMLView",
            "description": "",
            "description_tooltip": null,
            "layout": "IPY_MODEL_c24f367a9e244002a5c37baea3aae537",
            "placeholder": "​",
            "style": "IPY_MODEL_1f50d8b95e9845c39a6605e2e3ef8015",
            "value": " 504/? [03:23&lt;00:00,  1.92it/s]"
          }
        },
        "7d17fe4ed2204363b8966112941f61ac": {
          "model_module": "@jupyter-widgets/base",
          "model_name": "LayoutModel",
          "model_module_version": "1.2.0",
          "state": {
            "_model_module": "@jupyter-widgets/base",
            "_model_module_version": "1.2.0",
            "_model_name": "LayoutModel",
            "_view_count": null,
            "_view_module": "@jupyter-widgets/base",
            "_view_module_version": "1.2.0",
            "_view_name": "LayoutView",
            "align_content": null,
            "align_items": null,
            "align_self": null,
            "border": null,
            "bottom": null,
            "display": null,
            "flex": null,
            "flex_flow": null,
            "grid_area": null,
            "grid_auto_columns": null,
            "grid_auto_flow": null,
            "grid_auto_rows": null,
            "grid_column": null,
            "grid_gap": null,
            "grid_row": null,
            "grid_template_areas": null,
            "grid_template_columns": null,
            "grid_template_rows": null,
            "height": null,
            "justify_content": null,
            "justify_items": null,
            "left": null,
            "margin": null,
            "max_height": null,
            "max_width": null,
            "min_height": null,
            "min_width": null,
            "object_fit": null,
            "object_position": null,
            "order": null,
            "overflow": null,
            "overflow_x": null,
            "overflow_y": null,
            "padding": null,
            "right": null,
            "top": null,
            "visibility": null,
            "width": null
          }
        },
        "72de6e647caf49c4a9b647213d9e520a": {
          "model_module": "@jupyter-widgets/base",
          "model_name": "LayoutModel",
          "model_module_version": "1.2.0",
          "state": {
            "_model_module": "@jupyter-widgets/base",
            "_model_module_version": "1.2.0",
            "_model_name": "LayoutModel",
            "_view_count": null,
            "_view_module": "@jupyter-widgets/base",
            "_view_module_version": "1.2.0",
            "_view_name": "LayoutView",
            "align_content": null,
            "align_items": null,
            "align_self": null,
            "border": null,
            "bottom": null,
            "display": null,
            "flex": null,
            "flex_flow": null,
            "grid_area": null,
            "grid_auto_columns": null,
            "grid_auto_flow": null,
            "grid_auto_rows": null,
            "grid_column": null,
            "grid_gap": null,
            "grid_row": null,
            "grid_template_areas": null,
            "grid_template_columns": null,
            "grid_template_rows": null,
            "height": null,
            "justify_content": null,
            "justify_items": null,
            "left": null,
            "margin": null,
            "max_height": null,
            "max_width": null,
            "min_height": null,
            "min_width": null,
            "object_fit": null,
            "object_position": null,
            "order": null,
            "overflow": null,
            "overflow_x": null,
            "overflow_y": null,
            "padding": null,
            "right": null,
            "top": null,
            "visibility": null,
            "width": null
          }
        },
        "6d748d8c8e4d479e86baa168efae88c2": {
          "model_module": "@jupyter-widgets/controls",
          "model_name": "DescriptionStyleModel",
          "model_module_version": "1.5.0",
          "state": {
            "_model_module": "@jupyter-widgets/controls",
            "_model_module_version": "1.5.0",
            "_model_name": "DescriptionStyleModel",
            "_view_count": null,
            "_view_module": "@jupyter-widgets/base",
            "_view_module_version": "1.2.0",
            "_view_name": "StyleView",
            "description_width": ""
          }
        },
        "7b81582dae9a47db804bcf0a90d3c6b5": {
          "model_module": "@jupyter-widgets/base",
          "model_name": "LayoutModel",
          "model_module_version": "1.2.0",
          "state": {
            "_model_module": "@jupyter-widgets/base",
            "_model_module_version": "1.2.0",
            "_model_name": "LayoutModel",
            "_view_count": null,
            "_view_module": "@jupyter-widgets/base",
            "_view_module_version": "1.2.0",
            "_view_name": "LayoutView",
            "align_content": null,
            "align_items": null,
            "align_self": null,
            "border": null,
            "bottom": null,
            "display": null,
            "flex": null,
            "flex_flow": null,
            "grid_area": null,
            "grid_auto_columns": null,
            "grid_auto_flow": null,
            "grid_auto_rows": null,
            "grid_column": null,
            "grid_gap": null,
            "grid_row": null,
            "grid_template_areas": null,
            "grid_template_columns": null,
            "grid_template_rows": null,
            "height": null,
            "justify_content": null,
            "justify_items": null,
            "left": null,
            "margin": null,
            "max_height": null,
            "max_width": null,
            "min_height": null,
            "min_width": null,
            "object_fit": null,
            "object_position": null,
            "order": null,
            "overflow": null,
            "overflow_x": null,
            "overflow_y": null,
            "padding": null,
            "right": null,
            "top": null,
            "visibility": null,
            "width": null
          }
        },
        "74ddd66cc4b24f64b7f593d8720dc133": {
          "model_module": "@jupyter-widgets/controls",
          "model_name": "ProgressStyleModel",
          "model_module_version": "1.5.0",
          "state": {
            "_model_module": "@jupyter-widgets/controls",
            "_model_module_version": "1.5.0",
            "_model_name": "ProgressStyleModel",
            "_view_count": null,
            "_view_module": "@jupyter-widgets/base",
            "_view_module_version": "1.2.0",
            "_view_name": "StyleView",
            "bar_color": null,
            "description_width": ""
          }
        },
        "c24f367a9e244002a5c37baea3aae537": {
          "model_module": "@jupyter-widgets/base",
          "model_name": "LayoutModel",
          "model_module_version": "1.2.0",
          "state": {
            "_model_module": "@jupyter-widgets/base",
            "_model_module_version": "1.2.0",
            "_model_name": "LayoutModel",
            "_view_count": null,
            "_view_module": "@jupyter-widgets/base",
            "_view_module_version": "1.2.0",
            "_view_name": "LayoutView",
            "align_content": null,
            "align_items": null,
            "align_self": null,
            "border": null,
            "bottom": null,
            "display": null,
            "flex": null,
            "flex_flow": null,
            "grid_area": null,
            "grid_auto_columns": null,
            "grid_auto_flow": null,
            "grid_auto_rows": null,
            "grid_column": null,
            "grid_gap": null,
            "grid_row": null,
            "grid_template_areas": null,
            "grid_template_columns": null,
            "grid_template_rows": null,
            "height": null,
            "justify_content": null,
            "justify_items": null,
            "left": null,
            "margin": null,
            "max_height": null,
            "max_width": null,
            "min_height": null,
            "min_width": null,
            "object_fit": null,
            "object_position": null,
            "order": null,
            "overflow": null,
            "overflow_x": null,
            "overflow_y": null,
            "padding": null,
            "right": null,
            "top": null,
            "visibility": null,
            "width": null
          }
        },
        "1f50d8b95e9845c39a6605e2e3ef8015": {
          "model_module": "@jupyter-widgets/controls",
          "model_name": "DescriptionStyleModel",
          "model_module_version": "1.5.0",
          "state": {
            "_model_module": "@jupyter-widgets/controls",
            "_model_module_version": "1.5.0",
            "_model_name": "DescriptionStyleModel",
            "_view_count": null,
            "_view_module": "@jupyter-widgets/base",
            "_view_module_version": "1.2.0",
            "_view_name": "StyleView",
            "description_width": ""
          }
        },
        "0013342eb35944958723727c6169f29a": {
          "model_module": "@jupyter-widgets/controls",
          "model_name": "HBoxModel",
          "model_module_version": "1.5.0",
          "state": {
            "_dom_classes": [],
            "_model_module": "@jupyter-widgets/controls",
            "_model_module_version": "1.5.0",
            "_model_name": "HBoxModel",
            "_view_count": null,
            "_view_module": "@jupyter-widgets/controls",
            "_view_module_version": "1.5.0",
            "_view_name": "HBoxView",
            "box_style": "",
            "children": [
              "IPY_MODEL_7948950b0dff42d99bd1e14cea98bb4e",
              "IPY_MODEL_3616a0eaa99e410bb042ce275bafa040",
              "IPY_MODEL_97f7e786df424743adfde1b3e4961439"
            ],
            "layout": "IPY_MODEL_bd73e530bcba4d398533dcff280452c5"
          }
        },
        "7948950b0dff42d99bd1e14cea98bb4e": {
          "model_module": "@jupyter-widgets/controls",
          "model_name": "HTMLModel",
          "model_module_version": "1.5.0",
          "state": {
            "_dom_classes": [],
            "_model_module": "@jupyter-widgets/controls",
            "_model_module_version": "1.5.0",
            "_model_name": "HTMLModel",
            "_view_count": null,
            "_view_module": "@jupyter-widgets/controls",
            "_view_module_version": "1.5.0",
            "_view_name": "HTMLView",
            "description": "",
            "description_tooltip": null,
            "layout": "IPY_MODEL_fb685c0f81cd41e2a94b630ce3c8c6d0",
            "placeholder": "​",
            "style": "IPY_MODEL_daab6378d0b24b20b933a84da755f5df",
            "value": " 89%"
          }
        },
        "3616a0eaa99e410bb042ce275bafa040": {
          "model_module": "@jupyter-widgets/controls",
          "model_name": "FloatProgressModel",
          "model_module_version": "1.5.0",
          "state": {
            "_dom_classes": [],
            "_model_module": "@jupyter-widgets/controls",
            "_model_module_version": "1.5.0",
            "_model_name": "FloatProgressModel",
            "_view_count": null,
            "_view_module": "@jupyter-widgets/controls",
            "_view_module_version": "1.5.0",
            "_view_name": "ProgressView",
            "bar_style": "danger",
            "description": "",
            "description_tooltip": null,
            "layout": "IPY_MODEL_52594c3e4a8a4c7790be9a1dbb862465",
            "max": 306,
            "min": 0,
            "orientation": "horizontal",
            "style": "IPY_MODEL_d8f8630f66064700823ba12e800c242e",
            "value": 272
          }
        },
        "97f7e786df424743adfde1b3e4961439": {
          "model_module": "@jupyter-widgets/controls",
          "model_name": "HTMLModel",
          "model_module_version": "1.5.0",
          "state": {
            "_dom_classes": [],
            "_model_module": "@jupyter-widgets/controls",
            "_model_module_version": "1.5.0",
            "_model_name": "HTMLModel",
            "_view_count": null,
            "_view_module": "@jupyter-widgets/controls",
            "_view_module_version": "1.5.0",
            "_view_name": "HTMLView",
            "description": "",
            "description_tooltip": null,
            "layout": "IPY_MODEL_341096c8ea66448dae89e613188b99c7",
            "placeholder": "​",
            "style": "IPY_MODEL_c54b5fc3110c40b5b5f098e824e9bf6a",
            "value": " 272/306 [01:47&lt;00:12,  2.73it/s]"
          }
        },
        "bd73e530bcba4d398533dcff280452c5": {
          "model_module": "@jupyter-widgets/base",
          "model_name": "LayoutModel",
          "model_module_version": "1.2.0",
          "state": {
            "_model_module": "@jupyter-widgets/base",
            "_model_module_version": "1.2.0",
            "_model_name": "LayoutModel",
            "_view_count": null,
            "_view_module": "@jupyter-widgets/base",
            "_view_module_version": "1.2.0",
            "_view_name": "LayoutView",
            "align_content": null,
            "align_items": null,
            "align_self": null,
            "border": null,
            "bottom": null,
            "display": null,
            "flex": null,
            "flex_flow": null,
            "grid_area": null,
            "grid_auto_columns": null,
            "grid_auto_flow": null,
            "grid_auto_rows": null,
            "grid_column": null,
            "grid_gap": null,
            "grid_row": null,
            "grid_template_areas": null,
            "grid_template_columns": null,
            "grid_template_rows": null,
            "height": null,
            "justify_content": null,
            "justify_items": null,
            "left": null,
            "margin": null,
            "max_height": null,
            "max_width": null,
            "min_height": null,
            "min_width": null,
            "object_fit": null,
            "object_position": null,
            "order": null,
            "overflow": null,
            "overflow_x": null,
            "overflow_y": null,
            "padding": null,
            "right": null,
            "top": null,
            "visibility": null,
            "width": null
          }
        },
        "fb685c0f81cd41e2a94b630ce3c8c6d0": {
          "model_module": "@jupyter-widgets/base",
          "model_name": "LayoutModel",
          "model_module_version": "1.2.0",
          "state": {
            "_model_module": "@jupyter-widgets/base",
            "_model_module_version": "1.2.0",
            "_model_name": "LayoutModel",
            "_view_count": null,
            "_view_module": "@jupyter-widgets/base",
            "_view_module_version": "1.2.0",
            "_view_name": "LayoutView",
            "align_content": null,
            "align_items": null,
            "align_self": null,
            "border": null,
            "bottom": null,
            "display": null,
            "flex": null,
            "flex_flow": null,
            "grid_area": null,
            "grid_auto_columns": null,
            "grid_auto_flow": null,
            "grid_auto_rows": null,
            "grid_column": null,
            "grid_gap": null,
            "grid_row": null,
            "grid_template_areas": null,
            "grid_template_columns": null,
            "grid_template_rows": null,
            "height": null,
            "justify_content": null,
            "justify_items": null,
            "left": null,
            "margin": null,
            "max_height": null,
            "max_width": null,
            "min_height": null,
            "min_width": null,
            "object_fit": null,
            "object_position": null,
            "order": null,
            "overflow": null,
            "overflow_x": null,
            "overflow_y": null,
            "padding": null,
            "right": null,
            "top": null,
            "visibility": null,
            "width": null
          }
        },
        "daab6378d0b24b20b933a84da755f5df": {
          "model_module": "@jupyter-widgets/controls",
          "model_name": "DescriptionStyleModel",
          "model_module_version": "1.5.0",
          "state": {
            "_model_module": "@jupyter-widgets/controls",
            "_model_module_version": "1.5.0",
            "_model_name": "DescriptionStyleModel",
            "_view_count": null,
            "_view_module": "@jupyter-widgets/base",
            "_view_module_version": "1.2.0",
            "_view_name": "StyleView",
            "description_width": ""
          }
        },
        "52594c3e4a8a4c7790be9a1dbb862465": {
          "model_module": "@jupyter-widgets/base",
          "model_name": "LayoutModel",
          "model_module_version": "1.2.0",
          "state": {
            "_model_module": "@jupyter-widgets/base",
            "_model_module_version": "1.2.0",
            "_model_name": "LayoutModel",
            "_view_count": null,
            "_view_module": "@jupyter-widgets/base",
            "_view_module_version": "1.2.0",
            "_view_name": "LayoutView",
            "align_content": null,
            "align_items": null,
            "align_self": null,
            "border": null,
            "bottom": null,
            "display": null,
            "flex": null,
            "flex_flow": null,
            "grid_area": null,
            "grid_auto_columns": null,
            "grid_auto_flow": null,
            "grid_auto_rows": null,
            "grid_column": null,
            "grid_gap": null,
            "grid_row": null,
            "grid_template_areas": null,
            "grid_template_columns": null,
            "grid_template_rows": null,
            "height": null,
            "justify_content": null,
            "justify_items": null,
            "left": null,
            "margin": null,
            "max_height": null,
            "max_width": null,
            "min_height": null,
            "min_width": null,
            "object_fit": null,
            "object_position": null,
            "order": null,
            "overflow": null,
            "overflow_x": null,
            "overflow_y": null,
            "padding": null,
            "right": null,
            "top": null,
            "visibility": null,
            "width": null
          }
        },
        "d8f8630f66064700823ba12e800c242e": {
          "model_module": "@jupyter-widgets/controls",
          "model_name": "ProgressStyleModel",
          "model_module_version": "1.5.0",
          "state": {
            "_model_module": "@jupyter-widgets/controls",
            "_model_module_version": "1.5.0",
            "_model_name": "ProgressStyleModel",
            "_view_count": null,
            "_view_module": "@jupyter-widgets/base",
            "_view_module_version": "1.2.0",
            "_view_name": "StyleView",
            "bar_color": null,
            "description_width": ""
          }
        },
        "341096c8ea66448dae89e613188b99c7": {
          "model_module": "@jupyter-widgets/base",
          "model_name": "LayoutModel",
          "model_module_version": "1.2.0",
          "state": {
            "_model_module": "@jupyter-widgets/base",
            "_model_module_version": "1.2.0",
            "_model_name": "LayoutModel",
            "_view_count": null,
            "_view_module": "@jupyter-widgets/base",
            "_view_module_version": "1.2.0",
            "_view_name": "LayoutView",
            "align_content": null,
            "align_items": null,
            "align_self": null,
            "border": null,
            "bottom": null,
            "display": null,
            "flex": null,
            "flex_flow": null,
            "grid_area": null,
            "grid_auto_columns": null,
            "grid_auto_flow": null,
            "grid_auto_rows": null,
            "grid_column": null,
            "grid_gap": null,
            "grid_row": null,
            "grid_template_areas": null,
            "grid_template_columns": null,
            "grid_template_rows": null,
            "height": null,
            "justify_content": null,
            "justify_items": null,
            "left": null,
            "margin": null,
            "max_height": null,
            "max_width": null,
            "min_height": null,
            "min_width": null,
            "object_fit": null,
            "object_position": null,
            "order": null,
            "overflow": null,
            "overflow_x": null,
            "overflow_y": null,
            "padding": null,
            "right": null,
            "top": null,
            "visibility": null,
            "width": null
          }
        },
        "c54b5fc3110c40b5b5f098e824e9bf6a": {
          "model_module": "@jupyter-widgets/controls",
          "model_name": "DescriptionStyleModel",
          "model_module_version": "1.5.0",
          "state": {
            "_model_module": "@jupyter-widgets/controls",
            "_model_module_version": "1.5.0",
            "_model_name": "DescriptionStyleModel",
            "_view_count": null,
            "_view_module": "@jupyter-widgets/base",
            "_view_module_version": "1.2.0",
            "_view_name": "StyleView",
            "description_width": ""
          }
        }
      }
    },
    "gpuClass": "standard"
  },
  "nbformat": 4,
  "nbformat_minor": 0
}