{
  "nbformat": 4,
  "nbformat_minor": 0,
  "metadata": {
    "colab": {
      "name": "Untitled20.ipynb",
      "provenance": [],
      "collapsed_sections": []
    },
    "kernelspec": {
      "name": "python3",
      "display_name": "Python 3"
    },
    "language_info": {
      "name": "python"
    }
  },
  "cells": [
    {
      "cell_type": "code",
      "source": [
        "import math\n",
        "import numpy as np\n",
        "import matplotlib.pyplot as plt"
      ],
      "metadata": {
        "id": "nMfqjyq-RN1N"
      },
      "execution_count": 4,
      "outputs": []
    },
    {
      "cell_type": "code",
      "execution_count": 8,
      "metadata": {
        "colab": {
          "base_uri": "https://localhost:8080/",
          "height": 298
        },
        "id": "TkNBcEKpQ75_",
        "outputId": "8ecbfe3a-b6f9-4e1b-c663-45a019240249"
      },
      "outputs": [
        {
          "output_type": "execute_result",
          "data": {
            "text/plain": [
              "Text(0, 0.5, 'Sigmoid(X)')"
            ]
          },
          "metadata": {},
          "execution_count": 8
        },
        {
          "output_type": "display_data",
          "data": {
            "image/png": "[encoded data removed]",
            "text/plain": [
              "<Figure size 432x288 with 1 Axes>"
            ]
          },
          "metadata": {
            "needs_background": "light"
          }
        }
      ],
      "source": [
        "x = np.linspace(-6,6,100)\n",
        "\n",
        "sigmoid = 1/(1+np.exp(-x))\n",
        "# z = 1/(1 + np.exp(-x))\n",
        "\n",
        "plt.plot(x, sigmoid)\n",
        "plt.xlabel(\"x\")\n",
        "plt.ylabel(\"Sigmoid(X)\")"
      ]
    },
    {
      "cell_type": "code",
      "source": [
        "# DeepLIFT artikkelin sivulta 6\n",
        "print(1/(1+np.exp(-(50+0))))\n",
        "\n",
        "print(1/(1+np.exp(-(100+100))))"
      ],
      "metadata": {
        "colab": {
          "base_uri": "https://localhost:8080/"
        },
        "id": "j1N3JoZzSorM",
        "outputId": "8f18fa20-006f-4cbd-89c8-6872c6f3f1ae"
      },
      "execution_count": 10,
      "outputs": [
        {
          "output_type": "stream",
          "name": "stdout",
          "text": [
            "1.0\n",
            "1.0\n"
          ]
        }
      ]
    },
    {
      "cell_type": "code",
      "source": [
        ""
      ],
      "metadata": {
        "id": "KRw1xq2ZSsiI"
      },
      "execution_count": null,
      "outputs": []
    }
  ]
}